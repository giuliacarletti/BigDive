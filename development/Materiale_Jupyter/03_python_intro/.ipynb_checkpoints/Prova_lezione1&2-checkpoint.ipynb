{
 "cells": [
  {
   "cell_type": "code",
   "execution_count": 2,
   "metadata": {
    "collapsed": false
   },
   "outputs": [
    {
     "name": "stdout",
     "output_type": "stream",
     "text": [
      "Hello World\n"
     ]
    }
   ],
   "source": [
    "print \"Hello World\""
   ]
  },
  {
   "cell_type": "code",
   "execution_count": 5,
   "metadata": {
    "collapsed": false
   },
   "outputs": [
    {
     "name": "stdout",
     "output_type": "stream",
     "text": [
      "HelloWorld\n",
      "Hello   World\n",
      "Hello World\n"
     ]
    }
   ],
   "source": [
    "hello = \"Hello\"\n",
    "world = \"World\"\n",
    "print hello + world\n",
    "print hello, \" \", world\n",
    "print \" \" .join ([hello, world])"
   ]
  },
  {
   "cell_type": "code",
   "execution_count": 8,
   "metadata": {
    "collapsed": false
   },
   "outputs": [
    {
     "name": "stdout",
     "output_type": "stream",
     "text": [
      "<type 'str'>\n",
      "<type 'tuple'>\n",
      "['__add__', '__class__', '__contains__', '__delattr__', '__doc__', '__eq__', '__format__', '__ge__', '__getattribute__', '__getitem__', '__getnewargs__', '__getslice__', '__gt__', '__hash__', '__init__', '__iter__', '__le__', '__len__', '__lt__', '__mul__', '__ne__', '__new__', '__reduce__', '__reduce_ex__', '__repr__', '__rmul__', '__setattr__', '__sizeof__', '__str__', '__subclasshook__', 'count', 'index']\n"
     ]
    }
   ],
   "source": [
    "t = ('a')\n",
    "print type(t)\n",
    "t = ('a',)\n",
    "print type(t)\n",
    "print dir(t)"
   ]
  },
  {
   "cell_type": "code",
   "execution_count": 9,
   "metadata": {
    "collapsed": false
   },
   "outputs": [
    {
     "name": "stdout",
     "output_type": "stream",
     "text": [
      "['__add__', '__class__', '__contains__', '__delattr__', '__delitem__', '__delslice__', '__doc__', '__eq__', '__format__', '__ge__', '__getattribute__', '__getitem__', '__getslice__', '__gt__', '__hash__', '__iadd__', '__imul__', '__init__', '__iter__', '__le__', '__len__', '__lt__', '__mul__', '__ne__', '__new__', '__reduce__', '__reduce_ex__', '__repr__', '__reversed__', '__rmul__', '__setattr__', '__setitem__', '__setslice__', '__sizeof__', '__str__', '__subclasshook__', 'append', 'count', 'extend', 'index', 'insert', 'pop', 'remove', 'reverse', 'sort'] \n",
      "\n"
     ]
    }
   ],
   "source": [
    "l = list()\n",
    "print dir(l), \"\\n\""
   ]
  },
  {
   "cell_type": "code",
   "execution_count": 10,
   "metadata": {
    "collapsed": true
   },
   "outputs": [],
   "source": [
    "l.append(1)"
   ]
  },
  {
   "cell_type": "code",
   "execution_count": 11,
   "metadata": {
    "collapsed": true
   },
   "outputs": [],
   "source": [
    "l.append(2)"
   ]
  },
  {
   "cell_type": "code",
   "execution_count": 12,
   "metadata": {
    "collapsed": false
   },
   "outputs": [
    {
     "name": "stdout",
     "output_type": "stream",
     "text": [
      "[1, 2]\n",
      "2\n"
     ]
    }
   ],
   "source": [
    "print l\n",
    "print l[1]"
   ]
  },
  {
   "cell_type": "code",
   "execution_count": 13,
   "metadata": {
    "collapsed": false
   },
   "outputs": [
    {
     "name": "stdout",
     "output_type": "stream",
     "text": [
      "[1, 2, 3]\n"
     ]
    }
   ],
   "source": [
    "l = [1,2,3]\n",
    "print l"
   ]
  },
  {
   "cell_type": "code",
   "execution_count": 14,
   "metadata": {
    "collapsed": false
   },
   "outputs": [
    {
     "name": "stdout",
     "output_type": "stream",
     "text": [
      "[1, 2, 3, 4, 5, 6]\n"
     ]
    }
   ],
   "source": [
    "l.extend((4,5,6))\n",
    "print l"
   ]
  },
  {
   "cell_type": "code",
   "execution_count": 15,
   "metadata": {
    "collapsed": false
   },
   "outputs": [
    {
     "name": "stdout",
     "output_type": "stream",
     "text": [
      "[1, 2, 3, 4, 5, 6, 7, 8, 9]\n"
     ]
    }
   ],
   "source": [
    "l.extend([7,8,9])\n",
    "print l"
   ]
  },
  {
   "cell_type": "code",
   "execution_count": 16,
   "metadata": {
    "collapsed": false
   },
   "outputs": [
    {
     "name": "stdout",
     "output_type": "stream",
     "text": [
      "[3, 4, 5]\n",
      "[3, 4, 5, 6, 7, 8]\n"
     ]
    }
   ],
   "source": [
    "print l[2:5]\n",
    "print l[2:-1]"
   ]
  },
  {
   "cell_type": "code",
   "execution_count": 17,
   "metadata": {
    "collapsed": false
   },
   "outputs": [
    {
     "data": {
      "text/plain": [
       "[1, 2, 3, 4, 5, 6, 7, 8, 9, 'name']"
      ]
     },
     "execution_count": 17,
     "metadata": {},
     "output_type": "execute_result"
    }
   ],
   "source": [
    "l.append('name')\n",
    "l"
   ]
  },
  {
   "cell_type": "code",
   "execution_count": 18,
   "metadata": {
    "collapsed": false
   },
   "outputs": [
    {
     "name": "stdout",
     "output_type": "stream",
     "text": [
      "[1, 1, 1, 1, 1, 1, 1, 1, 1, 1]\n"
     ]
    }
   ],
   "source": [
    "l = [1]*10\n",
    "print l"
   ]
  },
  {
   "cell_type": "code",
   "execution_count": 19,
   "metadata": {
    "collapsed": false
   },
   "outputs": [
    {
     "name": "stdout",
     "output_type": "stream",
     "text": [
      "['name', 'name', 'name', 'name', 'name', 'name', 'name', 'name', 'name', 'name']\n"
     ]
    }
   ],
   "source": [
    "l = ['name']*10  \n",
    "print l"
   ]
  },
  {
   "cell_type": "code",
   "execution_count": 20,
   "metadata": {
    "collapsed": false
   },
   "outputs": [
    {
     "name": "stdout",
     "output_type": "stream",
     "text": [
      "Alex - john - Joe\n"
     ]
    }
   ],
   "source": [
    "l = ['Alex', 'john', 'Joe']\n",
    "print \" - \".join(l)"
   ]
  },
  {
   "cell_type": "code",
   "execution_count": 21,
   "metadata": {
    "collapsed": false
   },
   "outputs": [
    {
     "name": "stdout",
     "output_type": "stream",
     "text": [
      "Alex & john & Joe\n"
     ]
    }
   ],
   "source": [
    "l = ['Alex', 'john', 'Joe']\n",
    "print \" & \".join(l)"
   ]
  },
  {
   "cell_type": "code",
   "execution_count": 22,
   "metadata": {
    "collapsed": false
   },
   "outputs": [
    {
     "name": "stdout",
     "output_type": "stream",
     "text": [
      "Hello World\n"
     ]
    }
   ],
   "source": [
    "print \" \" .join ([hello, world])"
   ]
  },
  {
   "cell_type": "code",
   "execution_count": 23,
   "metadata": {
    "collapsed": false
   },
   "outputs": [
    {
     "name": "stdout",
     "output_type": "stream",
     "text": [
      "['__class__', '__cmp__', '__contains__', '__delattr__', '__delitem__', '__doc__', '__eq__', '__format__', '__ge__', '__getattribute__', '__getitem__', '__gt__', '__hash__', '__init__', '__iter__', '__le__', '__len__', '__lt__', '__ne__', '__new__', '__reduce__', '__reduce_ex__', '__repr__', '__setattr__', '__setitem__', '__sizeof__', '__str__', '__subclasshook__', 'clear', 'copy', 'fromkeys', 'get', 'has_key', 'items', 'iteritems', 'iterkeys', 'itervalues', 'keys', 'pop', 'popitem', 'setdefault', 'update', 'values', 'viewitems', 'viewkeys', 'viewvalues']\n"
     ]
    }
   ],
   "source": [
    "d = dict()\n",
    "print dir(d)"
   ]
  },
  {
   "cell_type": "code",
   "execution_count": 24,
   "metadata": {
    "collapsed": true
   },
   "outputs": [],
   "source": [
    "d[0] = \"asd\""
   ]
  },
  {
   "cell_type": "code",
   "execution_count": 25,
   "metadata": {
    "collapsed": true
   },
   "outputs": [],
   "source": [
    "d['a'] = 0"
   ]
  },
  {
   "cell_type": "code",
   "execution_count": 26,
   "metadata": {
    "collapsed": false
   },
   "outputs": [
    {
     "name": "stdout",
     "output_type": "stream",
     "text": [
      "{0: 'asd', 'a': 0}\n"
     ]
    }
   ],
   "source": [
    "print d\n"
   ]
  },
  {
   "cell_type": "code",
   "execution_count": 27,
   "metadata": {
    "collapsed": false
   },
   "outputs": [
    {
     "name": "stdout",
     "output_type": "stream",
     "text": [
      "{0: 'Hello', 1: 'World'}\n"
     ]
    }
   ],
   "source": [
    "d = {}\n",
    "d[0] = 'Hello'\n",
    "d[1] = 'World'\n",
    "print d"
   ]
  },
  {
   "cell_type": "code",
   "execution_count": 29,
   "metadata": {
    "collapsed": false
   },
   "outputs": [
    {
     "name": "stdout",
     "output_type": "stream",
     "text": [
      "(0, 'Hello')\n",
      "---\n",
      "(1, 'World')\n",
      "---\n"
     ]
    }
   ],
   "source": [
    "for i in d.items():\n",
    "    print i\n",
    "    print '---'"
   ]
  },
  {
   "cell_type": "code",
   "execution_count": 31,
   "metadata": {
    "collapsed": false
   },
   "outputs": [
    {
     "name": "stdout",
     "output_type": "stream",
     "text": [
      "0\n",
      "---\n",
      "1\n",
      "---\n"
     ]
    }
   ],
   "source": [
    "for i in d:\n",
    "    print i\n",
    "    print '---'"
   ]
  },
  {
   "cell_type": "code",
   "execution_count": 32,
   "metadata": {
    "collapsed": false
   },
   "outputs": [
    {
     "name": "stdout",
     "output_type": "stream",
     "text": [
      "Hello\n",
      "World\n"
     ]
    }
   ],
   "source": [
    "for i in d.values():\n",
    "    print i"
   ]
  },
  {
   "cell_type": "code",
   "execution_count": 33,
   "metadata": {
    "collapsed": false
   },
   "outputs": [
    {
     "name": "stdout",
     "output_type": "stream",
     "text": [
      "(0, 'a')\n",
      "(1, 'b')\n",
      "(2, 'c')\n"
     ]
    }
   ],
   "source": [
    "for i in enumerate(['a', 'b', 'c']):\n",
    "    print i"
   ]
  },
  {
   "cell_type": "code",
   "execution_count": 34,
   "metadata": {
    "collapsed": false
   },
   "outputs": [
    {
     "name": "stdout",
     "output_type": "stream",
     "text": [
      "0 : a\n",
      "1 : b\n",
      "2 : c\n"
     ]
    }
   ],
   "source": [
    "for a,b in enumerate(['a','b','c']):\n",
    "    print a, \":\", b"
   ]
  },
  {
   "cell_type": "code",
   "execution_count": 35,
   "metadata": {
    "collapsed": false
   },
   "outputs": [
    {
     "name": "stdout",
     "output_type": "stream",
     "text": [
      "0\n",
      "1\n",
      "2\n",
      "3\n",
      "4\n"
     ]
    }
   ],
   "source": [
    "for i in range(5):\n",
    "    print i"
   ]
  },
  {
   "cell_type": "code",
   "execution_count": 41,
   "metadata": {
    "collapsed": false
   },
   "outputs": [
    {
     "name": "stdout",
     "output_type": "stream",
     "text": [
      "Is equal to 2 :)\n"
     ]
    }
   ],
   "source": [
    "x = 2\n",
    "if x == 1:\n",
    "    print \"Equal to 1 :)\"\n",
    "elif x == 2:\n",
    "    print \"Is equal to 2 :)\"\n",
    "else:\n",
    "    print \"Mha....\""
   ]
  },
  {
   "cell_type": "code",
   "execution_count": 42,
   "metadata": {
    "collapsed": true
   },
   "outputs": [],
   "source": [
    "x = 5\n",
    "y = 5"
   ]
  },
  {
   "cell_type": "code",
   "execution_count": 43,
   "metadata": {
    "collapsed": false
   },
   "outputs": [
    {
     "name": "stdout",
     "output_type": "stream",
     "text": [
      "True\n"
     ]
    }
   ],
   "source": [
    "print x is y"
   ]
  },
  {
   "cell_type": "code",
   "execution_count": 44,
   "metadata": {
    "collapsed": false
   },
   "outputs": [
    {
     "data": {
      "text/plain": [
       "True"
      ]
     },
     "execution_count": 44,
     "metadata": {},
     "output_type": "execute_result"
    }
   ],
   "source": [
    "x == y"
   ]
  },
  {
   "cell_type": "code",
   "execution_count": 46,
   "metadata": {
    "collapsed": false
   },
   "outputs": [
    {
     "name": "stdout",
     "output_type": "stream",
     "text": [
      "False\n"
     ]
    },
    {
     "data": {
      "text/plain": [
       "True"
      ]
     },
     "execution_count": 46,
     "metadata": {},
     "output_type": "execute_result"
    }
   ],
   "source": [
    "a = [5]\n",
    "b = [5]\n",
    "print a is b\n",
    "x==y"
   ]
  },
  {
   "cell_type": "code",
   "execution_count": 47,
   "metadata": {
    "collapsed": false
   },
   "outputs": [
    {
     "name": "stdout",
     "output_type": "stream",
     "text": [
      "Inside the function\n"
     ]
    }
   ],
   "source": [
    "def func():\n",
    "    print 'Inside the function'\n",
    "    \n",
    "func()"
   ]
  },
  {
   "cell_type": "code",
   "execution_count": 55,
   "metadata": {
    "collapsed": false
   },
   "outputs": [
    {
     "name": "stdout",
     "output_type": "stream",
     "text": [
      "1 2 (3, 4, 5)\n"
     ]
    }
   ],
   "source": [
    "def func(a, b, *args):\n",
    "    print a,b, args\n",
    "func(1,2,3,4,5)\n"
   ]
  },
  {
   "cell_type": "code",
   "execution_count": 56,
   "metadata": {
    "collapsed": false
   },
   "outputs": [
    {
     "name": "stdout",
     "output_type": "stream",
     "text": [
      "---\n",
      "(1, 2, 3, 4, 5)\n"
     ]
    }
   ],
   "source": [
    "print '---'\n",
    "args = (1, 2, 3, 4, 5)\n",
    "print (args)"
   ]
  },
  {
   "cell_type": "code",
   "execution_count": 58,
   "metadata": {
    "collapsed": false
   },
   "outputs": [
    {
     "name": "stdout",
     "output_type": "stream",
     "text": [
      "1 (2, 3, 4, 5) {'joe': 10}\n"
     ]
    }
   ],
   "source": [
    "def func(asd, *args, **kw):\n",
    "    print asd, args, kw\n",
    "func(1,2,3,4,5, joe=10)"
   ]
  },
  {
   "cell_type": "code",
   "execution_count": 69,
   "metadata": {
    "collapsed": false
   },
   "outputs": [
    {
     "name": "stdout",
     "output_type": "stream",
     "text": [
      "5\n",
      "0\n"
     ]
    }
   ],
   "source": [
    "num = 0\n",
    "def func():\n",
    "    num = 5 # this will create a new variable inside function\n",
    "    print num\n",
    "func()\n",
    "print num"
   ]
  },
  {
   "cell_type": "code",
   "execution_count": 79,
   "metadata": {
    "collapsed": false
   },
   "outputs": [
    {
     "name": "stdout",
     "output_type": "stream",
     "text": [
      "{'num': 3}\n",
      "{'num': 5}\n"
     ]
    }
   ],
   "source": [
    "values = {'num': 3}\n",
    "def func():\n",
    "    # this will change the previous value\n",
    "    values['num'] = 5 \n",
    "print values\n",
    "func()\n",
    "print values"
   ]
  },
  {
   "cell_type": "code",
   "execution_count": 80,
   "metadata": {
    "collapsed": false
   },
   "outputs": [
    {
     "name": "stdout",
     "output_type": "stream",
     "text": [
      "Error\n",
      "Done\n"
     ]
    }
   ],
   "source": [
    "try:\n",
    "    a, b = 'a b c'.split()\n",
    "except:\n",
    "    print 'Error'\n",
    "else:\n",
    "    print a, b\n",
    "finally:\n",
    "    print 'Done'"
   ]
  },
  {
   "cell_type": "code",
   "execution_count": 83,
   "metadata": {
    "collapsed": false
   },
   "outputs": [
    {
     "name": "stdout",
     "output_type": "stream",
     "text": [
      "[0, 1, 2, 3, 4, 5, 6, 7, 8, 9]\n"
     ]
    }
   ],
   "source": [
    "l = list()\n",
    "for i in range(10):\n",
    "    l.append(i)\n",
    "print l"
   ]
  },
  {
   "cell_type": "code",
   "execution_count": 84,
   "metadata": {
    "collapsed": false
   },
   "outputs": [
    {
     "name": "stdout",
     "output_type": "stream",
     "text": [
      "[0, 1, 2, 3, 4, 5, 6, 7, 8, 9]\n"
     ]
    }
   ],
   "source": [
    "l = [i for i in range(10)]\n",
    "print l"
   ]
  },
  {
   "cell_type": "code",
   "execution_count": 85,
   "metadata": {
    "collapsed": false
   },
   "outputs": [
    {
     "name": "stdout",
     "output_type": "stream",
     "text": [
      "<generator object <genexpr> at 0x7fca08e44cd0>\n"
     ]
    }
   ],
   "source": [
    "g = (i for i in range(10))\n",
    "print g"
   ]
  },
  {
   "cell_type": "code",
   "execution_count": 90,
   "metadata": {
    "collapsed": false
   },
   "outputs": [
    {
     "name": "stdout",
     "output_type": "stream",
     "text": [
      "5\n",
      "6\n",
      "7\n",
      "----\n",
      "8\n",
      "9\n"
     ]
    }
   ],
   "source": [
    "print g.next()\n",
    "print g.next()\n",
    "print g.next()\n",
    "print '----'\n",
    "for i in g:\n",
    "    print i"
   ]
  },
  {
   "cell_type": "code",
   "execution_count": 91,
   "metadata": {
    "collapsed": false
   },
   "outputs": [
    {
     "name": "stdout",
     "output_type": "stream",
     "text": [
      "<generator object <genexpr> at 0x7fca08e44550>\n"
     ]
    }
   ],
   "source": [
    "g = (i for i in range(10))\n",
    "print g"
   ]
  },
  {
   "cell_type": "code",
   "execution_count": 92,
   "metadata": {
    "collapsed": false
   },
   "outputs": [
    {
     "name": "stdout",
     "output_type": "stream",
     "text": [
      "0\n",
      "1\n",
      "2\n",
      "----\n",
      "3\n",
      "4\n",
      "5\n",
      "6\n",
      "7\n",
      "8\n",
      "9\n"
     ]
    }
   ],
   "source": [
    "print g.next()\n",
    "print g.next()\n",
    "print g.next()\n",
    "print '----'\n",
    "for i in g:\n",
    "    print i"
   ]
  },
  {
   "cell_type": "code",
   "execution_count": 94,
   "metadata": {
    "collapsed": false
   },
   "outputs": [
    {
     "name": "stdout",
     "output_type": "stream",
     "text": [
      "Empty generator\n"
     ]
    }
   ],
   "source": [
    "try:\n",
    "    print g.next()\n",
    "except StopIteration:\n",
    "    print \"Empty generator\""
   ]
  },
  {
   "cell_type": "code",
   "execution_count": 95,
   "metadata": {
    "collapsed": true
   },
   "outputs": [],
   "source": [
    "def my_doublify(num):\n",
    "    for i in range(num):\n",
    "        yield i*2"
   ]
  },
  {
   "cell_type": "code",
   "execution_count": 98,
   "metadata": {
    "collapsed": false
   },
   "outputs": [
    {
     "name": "stdout",
     "output_type": "stream",
     "text": [
      "<generator object my_doublify at 0x7fca08e44e10>\n",
      "0\n",
      "2\n",
      "4\n",
      "6\n",
      "8\n"
     ]
    }
   ],
   "source": [
    "print my_doublify(5)\n",
    "for i in my_doublify(5):\n",
    "    print i"
   ]
  },
  {
   "cell_type": "code",
   "execution_count": 104,
   "metadata": {
    "collapsed": false
   },
   "outputs": [
    {
     "name": "stdout",
     "output_type": "stream",
     "text": [
      "0 : a\n",
      "1 : b\n",
      "2 : c\n"
     ]
    }
   ],
   "source": [
    " for a,b in enumerate(['a','b','c']):\n",
    "    print a, \":\", b"
   ]
  },
  {
   "cell_type": "code",
   "execution_count": 108,
   "metadata": {
    "collapsed": false
   },
   "outputs": [
    {
     "name": "stdout",
     "output_type": "stream",
     "text": [
      "POSIZIONE: 0 --> ciao\n",
      "POSIZIONE: 1 --> pippo\n",
      "POSIZIONE: 2 --> pluto\n"
     ]
    }
   ],
   "source": [
    "def p_list(mylist):\n",
    "    for pos, value in enumerate(mylist):\n",
    "        print \"POSIZIONE: %s --> %s\" % (pos, value)\n",
    "    \n",
    "p_list(['ciao', 'pippo', 'pluto'])"
   ]
  },
  {
   "cell_type": "code",
   "execution_count": 118,
   "metadata": {
    "collapsed": false
   },
   "outputs": [
    {
     "name": "stdout",
     "output_type": "stream",
     "text": [
      "POSIZIONE: 0 --> pippo\n",
      "POSIZIONE: 1 --> pluto\n",
      "POSIZIONE: 2 --> paperino\n"
     ]
    }
   ],
   "source": [
    "def p_list(mylist):\n",
    "    for pos, value in enumerate(mylist):\n",
    "        print \"POSIZIONE: %s --> %s\" % (pos, value)\n",
    "p_list(['pippo', 'pluto', 'paperino'])\n",
    "\n",
    "#scrivere p_list a livello di def, altrimenti il comando  considerato ancora dentro il print"
   ]
  },
  {
   "cell_type": "code",
   "execution_count": 119,
   "metadata": {
    "collapsed": true
   },
   "outputs": [],
   "source": [
    "def p_dict(mydict):\n",
    "    if not isinstance(mydict, dict):\n",
    "        print \"ERRORE\"\n",
    "        return\n",
    "    for key, value in mydict.items():\n",
    "        print \"CHIAVE: %s --> %s\" % (key, value)"
   ]
  },
  {
   "cell_type": "code",
   "execution_count": 120,
   "metadata": {
    "collapsed": true
   },
   "outputs": [],
   "source": [
    "dizionario = dict(key1=1, key2=False, key3='Hello')"
   ]
  },
  {
   "cell_type": "code",
   "execution_count": 121,
   "metadata": {
    "collapsed": false
   },
   "outputs": [
    {
     "name": "stdout",
     "output_type": "stream",
     "text": [
      "CHIAVE: key3 --> Hello\n",
      "CHIAVE: key2 --> False\n",
      "CHIAVE: key1 --> 1\n"
     ]
    }
   ],
   "source": [
    "p_dict(dizionario)\n"
   ]
  },
  {
   "cell_type": "code",
   "execution_count": 123,
   "metadata": {
    "collapsed": false
   },
   "outputs": [
    {
     "name": "stdout",
     "output_type": "stream",
     "text": [
      "KEY: key3 --> Hello\n",
      "POSIZIONE: 0 --> 1\n",
      "POSIZIONE: 1 --> 2\n",
      "POSIZIONE: 2 --> 3\n",
      "POSIZIONE: 3 --> 4\n",
      "KEY: key1 --> 1\n",
      "KEY: ciao --> Mondo\n",
      "KEY: Hello --> World\n"
     ]
    }
   ],
   "source": [
    "def p_dict(mydict):\n",
    "    for key, value in mydict.items():\n",
    "        if isinstance(value, list):\n",
    "            p_list(value)\n",
    "        elif isinstance(value, dict):\n",
    "            p_dict(value)\n",
    "        else:\n",
    "            print \"KEY: %s --> %s\" % (key, value)\n",
    "            \n",
    "p_dict(dict(key1=1, \n",
    "            key2=[1,2,3,4], \n",
    "            key3='Hello', \n",
    "            key4={\"ciao\":\"Mondo\", \"Hello\": \"World\"}))"
   ]
  },
  {
   "cell_type": "code",
   "execution_count": 125,
   "metadata": {
    "collapsed": false
   },
   "outputs": [
    {
     "name": "stdout",
     "output_type": "stream",
     "text": [
      "Ciao\n",
      "sono\n",
      "una\n",
      "frase\n",
      "un\n",
      "po\n",
      "lunga\n",
      "con\n",
      "delle\n",
      "parole\n",
      "PAROLE TOTALI:  10\n"
     ]
    }
   ],
   "source": [
    "def word_count(frase):\n",
    "    cont = 0\n",
    "    splitted_words = frase.split()\n",
    "    for word in splitted_words:\n",
    "        print word\n",
    "        cont += 1\n",
    "    print \"PAROLE TOTALI: \", cont\n",
    "word_count(\"Ciao sono una frase un po lunga con delle parole\")"
   ]
  },
  {
   "cell_type": "code",
   "execution_count": 127,
   "metadata": {
    "collapsed": false
   },
   "outputs": [
    {
     "name": "stdout",
     "output_type": "stream",
     "text": [
      "Ciao\n",
      "sono\n",
      "una\n",
      "frase\n",
      "un\n",
      "po\n",
      "lunga\n",
      "con\n",
      "delle\n",
      "parole\n",
      "PAROLE TOTALI:  10\n"
     ]
    }
   ],
   "source": [
    "def better_word_count(frase):\n",
    "    splitted_words = frase.split()\n",
    "    for word in splitted_words:\n",
    "        print word\n",
    "    print \"PAROLE TOTALI: \", len(splitted_words)\n",
    "better_word_count(\"Ciao sono una frase un po lunga con delle parole\")   "
   ]
  },
  {
   "cell_type": "code",
   "execution_count": null,
   "metadata": {
    "collapsed": true
   },
   "outputs": [],
   "source": []
  }
 ],
 "metadata": {
  "kernelspec": {
   "display_name": "Python [Root]",
   "language": "python",
   "name": "Python [Root]"
  },
  "language_info": {
   "codemirror_mode": {
    "name": "ipython",
    "version": 2
   },
   "file_extension": ".py",
   "mimetype": "text/x-python",
   "name": "python",
   "nbconvert_exporter": "python",
   "pygments_lexer": "ipython2",
   "version": "2.7.12"
  }
 },
 "nbformat": 4,
 "nbformat_minor": 0
}

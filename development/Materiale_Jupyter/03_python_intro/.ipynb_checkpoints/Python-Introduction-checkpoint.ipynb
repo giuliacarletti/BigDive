{
 "cells": [
  {
   "cell_type": "markdown",
   "metadata": {},
   "source": [
    "# Python Introduction\n",
    "\n",
    "Introduction to **Python Best Practices**.\n",
    "\n",
    "## PIP\n",
    "\n",
    "Pip (Pip Installs Packages) is a package management system used to install and manage software packages written in Python. To install a package we can simply used command **pip install**:\n",
    "\n",
    "    pip install PACKAGE-NAME\n",
    "\n",
    "This command will install on your computer the ``PACKAGE-NAME`` package. After the installation we'll available to use the package inside our scripts importing the external libraries (how? see below!).\n",
    "\n",
    "From terminal, try **pip --help** to see what can you do with PIP!\n",
    "\n",
    "## Virtual Environments\n",
    "\n",
    "VirtualEnv is a Python tool to keep the dependencies required by different projects in separated places. Is solves the \"Project X depends on version 1.x but, Project Y needs 4.x\" dilemma, and keeps your global site-packages directory clean and manageable.\n",
    "\n",
    "We'll use a separated virtual environment for each project, keeping separated the different packages installed.\n",
    "\n",
    "How to install virtualenv:\n",
    "\n",
    "    pip install virtualenv\n",
    "\n",
    "To create a virtualenv:\n",
    "\n",
    "    virtualenv ENV-NAME\n",
    "\n",
    "After the creation, we have to activate our virtualenv:\n",
    "\n",
    "    source ENV-NAME/bin/activate\n",
    "\n",
    "Be careful! If the virtualenv is active we'll see at the beginning of the terminal line the name of the virtualenv! Check the example here:\n",
    "\n",
    "    alexcomu-pc:bigdive alexcomu: virtualenv envBigDive\n",
    "    New python executable in envBigDive/bin/python\n",
    "    Installing setuptools, pip, wheel...done.\n",
    "    alexcomu-pc:bigdive alexcomu: source envBigDive/bin/activate\n",
    "    (envBigDive)alexcomu-pc:bigdive alexcomu:\n",
    "\n",
    "From now, every package will be installed inside of the virtualenv and not in the global system!\n",
    "\n",
    "\n",
    "## IPython Notebook\n",
    "\n",
    "IPython Notebook is a an interactive computational environment, in which you can combine code execution, rich text, mathematics, plots and rich media.\n",
    "\n",
    "[Link to IPython Notebook](https://ipython.org/notebook.html)\n",
    "\n",
    "How to install:\n",
    "\n",
    "    apt-get install libncurses5-dev  # Only on the Ubuntu provided\n",
    "    pip install jupyter\n",
    "\n",
    "How to run:\n",
    "\n",
    "    jupyter notebook\n",
    "\n",
    "Suggestion: Create an alias on your machine, like:\n",
    "\n",
    "    alias notebook='jupyter notebook'\n",
    "\n",
    "In this way we'll simply call **notebook** to run the IPython Notebook server.\n",
    "\n",
    "\n",
    "\n",
    "# How To Write MarkDown\n",
    "\n",
    "[Markdown-Cheatsheet Sample1](https://github.com/adam-p/markdown-here/wiki/Markdown-Cheatsheet)\n",
    "\n",
    "[Markdown-Cheatsheet Sample2](http://assemble.io/docs/Cheatsheet-Markdown.html)\n",
    "\n",
    "# Python Tutorials:\n",
    "\n",
    "[Google's Python Class](https://developers.google.com/edu/python/)\n",
    "\n",
    "[CodeCademy Tutorial](https://www.codecademy.com/learn)\n"
   ]
  },
  {
   "cell_type": "markdown",
   "metadata": {},
   "source": [
    "# Python Introduction\n",
    "\n",
    "Python is a MultiParadigm Programming Language:\n",
    "* Dynamic Typed\n",
    "* Fully Object Oriented\n",
    "* Functional\n",
    "* Aspect Oriented\n",
    "* Metaprogrammable\n",
    "* Garbage Collected\n",
    "\n",
    "**Dynamic Typing** each object knows its type, you don't have to declare type for variables, function parameters and so on. Python relies on a particular dynamic typing paradigm called \"Duck Typing\" which describes an object by its behavior (methods and properties) and not by its class or inheritance hierarchy.\n",
    "\n",
    "**Fully Object Oriented**, everything is an object even basic types like numbers, strings and functions themselves.\n",
    "\n",
    "**Garbabe Collected**, you don't have to manage objects allocation or destruction yourself. Whenever objects are not used anymore they get destroied. Python mixes reference counting with garbage collection this provides the best of the two worlds by handling most deallocation with reference couting and cleaning up reference cycles with garbage collection."
   ]
  },
  {
   "cell_type": "code",
   "execution_count": 1,
   "metadata": {
    "collapsed": false
   },
   "outputs": [
    {
     "name": "stdout",
     "output_type": "stream",
     "text": [
      "Hello World\n"
     ]
    }
   ],
   "source": [
    "print \"Hello World\"\n",
    "# This is a comment!"
   ]
  },
  {
   "cell_type": "code",
   "execution_count": 2,
   "metadata": {
    "collapsed": false
   },
   "outputs": [
    {
     "name": "stdout",
     "output_type": "stream",
     "text": [
      "Hello World\n"
     ]
    }
   ],
   "source": [
    "hello_world = \"Hello World\"\n",
    "print hello_world"
   ]
  },
  {
   "cell_type": "code",
   "execution_count": 3,
   "metadata": {
    "collapsed": false
   },
   "outputs": [
    {
     "name": "stdout",
     "output_type": "stream",
     "text": [
      "HelloWorld\n",
      "Hello   World\n",
      "Hello World\n"
     ]
    }
   ],
   "source": [
    "hello = \"Hello\"\n",
    "world = \"World\"\n",
    "print hello + world\n",
    "print hello, \" \", world\n",
    "print \" \".join([hello, world])"
   ]
  },
  {
   "cell_type": "code",
   "execution_count": 4,
   "metadata": {
    "collapsed": false
   },
   "outputs": [
    {
     "data": {
      "text/plain": [
       "False"
      ]
     },
     "execution_count": 4,
     "metadata": {},
     "output_type": "execute_result"
    }
   ],
   "source": [
    "a = 1\n",
    "A = 0\n",
    "a == A"
   ]
  },
  {
   "cell_type": "code",
   "execution_count": 5,
   "metadata": {
    "collapsed": false
   },
   "outputs": [
    {
     "name": "stdout",
     "output_type": "stream",
     "text": [
      "['__add__', '__class__', '__contains__', '__delattr__', '__doc__', '__eq__', '__format__', '__ge__', '__getattribute__', '__getitem__', '__getnewargs__', '__getslice__', '__gt__', '__hash__', '__init__', '__le__', '__len__', '__lt__', '__mod__', '__mul__', '__ne__', '__new__', '__reduce__', '__reduce_ex__', '__repr__', '__rmod__', '__rmul__', '__setattr__', '__sizeof__', '__str__', '__subclasshook__', '_formatter_field_name_split', '_formatter_parser', 'capitalize', 'center', 'count', 'decode', 'encode', 'endswith', 'expandtabs', 'find', 'format', 'index', 'isalnum', 'isalpha', 'isdigit', 'islower', 'isspace', 'istitle', 'isupper', 'join', 'ljust', 'lower', 'lstrip', 'partition', 'replace', 'rfind', 'rindex', 'rjust', 'rpartition', 'rsplit', 'rstrip', 'split', 'splitlines', 'startswith', 'strip', 'swapcase', 'title', 'translate', 'upper', 'zfill']\n"
     ]
    }
   ],
   "source": [
    "a = \"Hello\"\n",
    "print dir(a)"
   ]
  },
  {
   "cell_type": "code",
   "execution_count": 6,
   "metadata": {
    "collapsed": false
   },
   "outputs": [
    {
     "name": "stdout",
     "output_type": "stream",
     "text": [
      "Class Type: \t<type 'str'>\n",
      "Lower value: \thello\n",
      "Is digit: \tFalse\n",
      "is alpha: \tTrue\n",
      "Length: \t5\n",
      "Result: \tHello World\n",
      "\n",
      "\n",
      "Check Instance Type.\n",
      "String class: \tTrue\n",
      "Integer class: \tFalse\n"
     ]
    }
   ],
   "source": [
    "print \"Class Type: \\t\", a.__class__\n",
    "print \"Lower value: \\t\", a.lower()\n",
    "print \"Is digit: \\t\", a.isdigit()\n",
    "print \"is alpha: \\t\", a.isalpha()\n",
    "print \"Length: \\t\", len(a)\n",
    "b = a.__add__(\" World\")\n",
    "print \"Result: \\t\", b\n",
    "print \"\\n\\nCheck Instance Type.\"\n",
    "print \"String class: \\t\", isinstance(a, str)\n",
    "print \"Integer class: \\t\", isinstance(a, int)"
   ]
  },
  {
   "cell_type": "code",
   "execution_count": 7,
   "metadata": {
    "collapsed": false
   },
   "outputs": [
    {
     "ename": "IndentationError",
     "evalue": "unexpected indent (<ipython-input-7-6d3be34d4286>, line 2)",
     "output_type": "error",
     "traceback": [
      "\u001b[0;36m  File \u001b[0;32m\"<ipython-input-7-6d3be34d4286>\"\u001b[0;36m, line \u001b[0;32m2\u001b[0m\n\u001b[0;31m    print \"THIS ROW WILL RAISE AN ERROR!!\"\u001b[0m\n\u001b[0m    ^\u001b[0m\n\u001b[0;31mIndentationError\u001b[0m\u001b[0;31m:\u001b[0m unexpected indent\n"
     ]
    }
   ],
   "source": [
    "print \"Be careful with INDENTATION\"\n",
    "    print \"THIS ROW WILL RAISE AN ERROR!!\""
   ]
  },
  {
   "cell_type": "markdown",
   "metadata": {},
   "source": [
    "## Containers"
   ]
  },
  {
   "cell_type": "markdown",
   "metadata": {
    "collapsed": true
   },
   "source": [
    "## Tuple / List / Dictionary"
   ]
  },
  {
   "cell_type": "code",
   "execution_count": null,
   "metadata": {
    "collapsed": false
   },
   "outputs": [],
   "source": [
    "# TUPLE\n",
    "t = ('a')\n",
    "print type(t)\n",
    "t = ('a',)\n",
    "print type(t)\n",
    "print dir(t)\n",
    "\n"
   ]
  },
  {
   "cell_type": "code",
   "execution_count": null,
   "metadata": {
    "collapsed": false
   },
   "outputs": [],
   "source": [
    "# LIST\n",
    "l = list()\n",
    "print dir(l), \"\\n\"\n",
    "l.append(1)\n",
    "l.append(2)\n",
    "\n",
    "print l\n",
    "print l[1]\n",
    "\n",
    "l = [1,2,3]\n",
    "print l\n",
    "\n",
    "l.extend((4,5,6))\n",
    "print l\n",
    "\n",
    "l.extend([7,8,9])\n",
    "print l\n",
    "\n",
    "## slice\n",
    "print l[2:5]\n",
    "print l[2:-1]\n"
   ]
  },
  {
   "cell_type": "code",
   "execution_count": null,
   "metadata": {
    "collapsed": false
   },
   "outputs": [],
   "source": [
    "l.append('name')\n",
    "l"
   ]
  },
  {
   "cell_type": "code",
   "execution_count": null,
   "metadata": {
    "collapsed": false
   },
   "outputs": [],
   "source": [
    "l = [1]*10\n",
    "print l"
   ]
  },
  {
   "cell_type": "code",
   "execution_count": null,
   "metadata": {
    "collapsed": false
   },
   "outputs": [],
   "source": [
    "l = ['name']*10  # Due to Dynamic Typing you can actually mix everything in containers\n",
    "print l"
   ]
  },
  {
   "cell_type": "code",
   "execution_count": null,
   "metadata": {
    "collapsed": false
   },
   "outputs": [],
   "source": [
    "l = ['Alex', 'john', 'Joe']\n",
    "print \" - \".join(l)"
   ]
  },
  {
   "cell_type": "code",
   "execution_count": null,
   "metadata": {
    "collapsed": false
   },
   "outputs": [],
   "source": [
    "# DICTIONARY\n",
    "# Dictionaries are like lists\n",
    "# but they are not required to be continuous as \n",
    "# they are an associative container\n",
    "d = dict()\n",
    "print dir(d), \"\\n\"\n",
    "d[0] = \"asd\"\n",
    "d['a'] = 0\n",
    "print d\n"
   ]
  },
  {
   "cell_type": "code",
   "execution_count": null,
   "metadata": {
    "collapsed": false
   },
   "outputs": [],
   "source": [
    "d = {}\n",
    "d[0] = 'Hello'\n",
    "d[1] = 'World'\n",
    "print d"
   ]
  },
  {
   "cell_type": "code",
   "execution_count": null,
   "metadata": {
    "collapsed": false
   },
   "outputs": [],
   "source": [
    "# Dictionaries do not keep order of keys\n",
    "for i in d.items():\n",
    "    print i\n",
    "    \n",
    "print '---'\n",
    "\n",
    "# cycle on keys\n",
    "# for i in d.keys():\n",
    "for i in d:\n",
    "    print i\n",
    "    \n",
    "print '---'\n",
    "\n",
    "#cycle on values\n",
    "for i in d.values():\n",
    "    print i"
   ]
  },
  {
   "cell_type": "markdown",
   "metadata": {},
   "source": [
    "# Iteration"
   ]
  },
  {
   "cell_type": "code",
   "execution_count": null,
   "metadata": {
    "collapsed": false
   },
   "outputs": [],
   "source": [
    "for i in enumerate(['a', 'b', 'c']):\n",
    "    print i"
   ]
  },
  {
   "cell_type": "code",
   "execution_count": null,
   "metadata": {
    "collapsed": false
   },
   "outputs": [],
   "source": [
    "for a,b in enumerate(['a','b','c']):\n",
    "    print a, \":\", b"
   ]
  },
  {
   "cell_type": "code",
   "execution_count": null,
   "metadata": {
    "collapsed": false
   },
   "outputs": [],
   "source": [
    "for i in range(5):\n",
    "    print i"
   ]
  },
  {
   "cell_type": "code",
   "execution_count": null,
   "metadata": {
    "collapsed": false
   },
   "outputs": [],
   "source": [
    "i = 0\n",
    "while i < 5:\n",
    "    print i\n",
    "    i+=1"
   ]
  },
  {
   "cell_type": "markdown",
   "metadata": {},
   "source": [
    "# Conditional Control"
   ]
  },
  {
   "cell_type": "code",
   "execution_count": null,
   "metadata": {
    "collapsed": false
   },
   "outputs": [],
   "source": [
    "x = 1\n",
    "if x == 1:\n",
    "    print \"Equal to 1 :)\"\n",
    "elif x == 2:\n",
    "    print \"Is equal to 2 :)\"\n",
    "else:\n",
    "    print \"Mha....\"\n",
    "        "
   ]
  },
  {
   "cell_type": "markdown",
   "metadata": {},
   "source": [
    "# Equality VS Identity"
   ]
  },
  {
   "cell_type": "code",
   "execution_count": null,
   "metadata": {
    "collapsed": false
   },
   "outputs": [],
   "source": [
    "# '==' Check the value doing a comparison operation\n",
    "# 'is' Check if the objects belongs to the same object in memory\n",
    "x = 5\n",
    "y = 5\n",
    "print x is y, x == y\n",
    "\n",
    "a = [5]\n",
    "b = [5]\n",
    "print a is b, x == y\n",
    "\n",
    "# Lists due to mutable properties can not share the same location in memory"
   ]
  },
  {
   "cell_type": "markdown",
   "metadata": {},
   "source": [
    "# Functions"
   ]
  },
  {
   "cell_type": "code",
   "execution_count": null,
   "metadata": {
    "collapsed": false
   },
   "outputs": [],
   "source": [
    "def func():\n",
    "    print 'Inside the function'\n",
    "    \n",
    "func()"
   ]
  },
  {
   "cell_type": "code",
   "execution_count": null,
   "metadata": {
    "collapsed": false
   },
   "outputs": [],
   "source": [
    "def func(a, b, *args):\n",
    "    print a,b, args\n",
    "func(1,2,3,4,5)\n",
    "\n",
    "print '---'\n",
    "\n",
    "args = (1, 2, 3, 4, 5)\n",
    "func(*args)"
   ]
  },
  {
   "cell_type": "code",
   "execution_count": null,
   "metadata": {
    "collapsed": false
   },
   "outputs": [],
   "source": [
    "def func(asd, *args, **kw):\n",
    "    print asd, args, kw\n",
    "func(1,2,3,4,5, joe=10)"
   ]
  },
  {
   "cell_type": "markdown",
   "metadata": {},
   "source": [
    "# Scoping"
   ]
  },
  {
   "cell_type": "code",
   "execution_count": null,
   "metadata": {
    "collapsed": false
   },
   "outputs": [],
   "source": [
    "num = 0\n",
    "def func():\n",
    "    num = 5 # this will create a new variable inside function\n",
    "    print num\n",
    "func()\n",
    "print num"
   ]
  },
  {
   "cell_type": "code",
   "execution_count": null,
   "metadata": {
    "collapsed": false
   },
   "outputs": [],
   "source": [
    "values = {'num': 3}\n",
    "def func():\n",
    "    # this will change the previous value\n",
    "    values['num'] = 5 \n",
    "print values\n",
    "func()\n",
    "print values"
   ]
  },
  {
   "cell_type": "markdown",
   "metadata": {},
   "source": [
    "# Exeption"
   ]
  },
  {
   "cell_type": "markdown",
   "metadata": {},
   "source": [
    "Python uses exceptions for error reporting, so your methods are expected only to return the \"right\" value, while for errors they should raise and Exception. Exceptions can than be controller through the try: except: statements.\n",
    "Raising custom exception types can greatly help the caller understanding what went wrong."
   ]
  },
  {
   "cell_type": "code",
   "execution_count": null,
   "metadata": {
    "collapsed": false
   },
   "outputs": [],
   "source": [
    "try:\n",
    "    a, b = 'a b c'.split()\n",
    "except:\n",
    "    print 'Error'\n",
    "else:\n",
    "    print a, b\n",
    "finally:\n",
    "    print 'Done'"
   ]
  },
  {
   "cell_type": "markdown",
   "metadata": {},
   "source": [
    "# Generators"
   ]
  },
  {
   "cell_type": "markdown",
   "metadata": {},
   "source": [
    "Generators are concepts that instead of being a list of data they represent **a way to generate that set of data**. While a list keeps around the whole data, the generators know how to generate those data one item at time, so when working with big collections of data it is vital to work with generators to avoid consuming too much memory to store the whole data in memory."
   ]
  },
  {
   "cell_type": "code",
   "execution_count": null,
   "metadata": {
    "collapsed": false
   },
   "outputs": [],
   "source": [
    "l = list()\n",
    "for i in range(10):\n",
    "    l.append(i)\n",
    "print l\n",
    "\n",
    "# List comprehension\n",
    "l = [i for i in range(10)]\n",
    "print l\n",
    "\n",
    "# Generator\n",
    "g = (i for i in range(10))\n",
    "print g"
   ]
  },
  {
   "cell_type": "code",
   "execution_count": null,
   "metadata": {
    "collapsed": false
   },
   "outputs": [],
   "source": [
    "print g.next()\n",
    "print g.next()\n",
    "print g.next()\n",
    "print '----'\n",
    "for i in g:\n",
    "    print i"
   ]
  },
  {
   "cell_type": "code",
   "execution_count": null,
   "metadata": {
    "collapsed": false,
    "scrolled": true
   },
   "outputs": [],
   "source": [
    "try:\n",
    "    print g.next()\n",
    "except StopIteration:\n",
    "    print \"Empty generator\""
   ]
  },
  {
   "cell_type": "code",
   "execution_count": null,
   "metadata": {
    "collapsed": false
   },
   "outputs": [],
   "source": [
    "def my_doublify(num):\n",
    "    for i in range(num):\n",
    "        yield i*2\n",
    "        \n",
    "print my_doublify(5)\n",
    "for i in my_doublify(5):\n",
    "    print i\n",
    "    "
   ]
  },
  {
   "cell_type": "code",
   "execution_count": null,
   "metadata": {
    "collapsed": false
   },
   "outputs": [],
   "source": [
    "# Generator version of range --> xrange\n",
    "# if you try to use range with such a big set of numbers you will probably just freeze the software.\n",
    "for i in xrange(1000000000):\n",
    "    print i\n",
    "    if i>5:\n",
    "        break"
   ]
  },
  {
   "cell_type": "markdown",
   "metadata": {},
   "source": [
    "# Classes & Objects"
   ]
  },
  {
   "cell_type": "markdown",
   "metadata": {},
   "source": [
    "Python classes inherit from a common object type, unlike other languages you don't need to declare which attributes the class is going to have. When you create an object you can assign any attribute to it even if it was an empty class.\n",
    "\n",
    "This is the reason why eventual object attributes in python just need to be assigned inside the object initialization method which is named \\__init__.\n",
    "\n",
    "Pay attention that whatever attribute you assign is only available for that object if not assigned inside the \\__init__ method to a default value."
   ]
  },
  {
   "cell_type": "code",
   "execution_count": null,
   "metadata": {
    "collapsed": false
   },
   "outputs": [],
   "source": [
    "class MyClass(object):\n",
    "    pass\n",
    "\n",
    "a = MyClass()\n",
    "a.name = 'Hello'\n",
    "a.surname = 'People'\n",
    "\n",
    "print a.name, a.surname"
   ]
  },
  {
   "cell_type": "code",
   "execution_count": null,
   "metadata": {
    "collapsed": false
   },
   "outputs": [],
   "source": [
    "b = MyClass()\n",
    "print b.name # ERROR!"
   ]
  },
  {
   "cell_type": "markdown",
   "metadata": {},
   "source": [
    "## Methods"
   ]
  },
  {
   "cell_type": "markdown",
   "metadata": {},
   "source": [
    "To declare instance methods simply define them inside the class block itself. The only special requirement is that they have a **self** argument which will automatically be the object instance they are called on."
   ]
  },
  {
   "cell_type": "code",
   "execution_count": null,
   "metadata": {
    "collapsed": false
   },
   "outputs": [],
   "source": [
    "class MyClass(object):\n",
    "    def __init__(self):\n",
    "        self.name = 'unknown'\n",
    "        self.surname = 'unknown'\n",
    "    \n",
    "    def __str__(self):\n",
    "        return '%s - %s' % (self.name, self.surname)\n",
    "    \n",
    "    def rename(self, newname):\n",
    "        self.name = newname\n",
    "        \n",
    "        \n",
    "a = MyClass()\n",
    "print a\n",
    "\n",
    "b = MyClass()\n",
    "b.surname = \"Comu\"\n",
    "print b\n",
    "\n",
    "b.rename(\"Alex\")\n",
    "print b"
   ]
  },
  {
   "cell_type": "markdown",
   "metadata": {},
   "source": [
    "## Properties\n",
    "\n",
    "Properties in Python, are attributes which instead of being froozen inside the object get calculated each time they are read or assigned."
   ]
  },
  {
   "cell_type": "code",
   "execution_count": null,
   "metadata": {
    "collapsed": false
   },
   "outputs": [],
   "source": [
    "class MyClass(object):\n",
    "    def __init__(self):\n",
    "        self.name = 'unknown'\n",
    "        self.surname = 'unknown'\n",
    "    \n",
    "    def __str__(self):\n",
    "        return self.fullname\n",
    "    \n",
    "    def rename(self, newname):\n",
    "        self.name = newname\n",
    "    \n",
    "    @property\n",
    "    def fullname(self):\n",
    "        return '%s - %s' % (self.name, self.surname) \n",
    "    \n",
    "    @fullname.setter\n",
    "    def fullname(self, value):\n",
    "        print \"-- START INSIDE FULLNAME SETTER --\"\n",
    "        self.name, self.surname = value.split(None, 1)"
   ]
  },
  {
   "cell_type": "code",
   "execution_count": null,
   "metadata": {
    "collapsed": false
   },
   "outputs": [],
   "source": [
    "a = MyClass()\n",
    "a.fullname = \"Alex Comu Gnam\"\n",
    "print a\n",
    "\n",
    "b = MyClass()\n",
    "print b\n",
    "\n",
    "b.rename(\"Alex\")\n",
    "print b"
   ]
  },
  {
   "cell_type": "markdown",
   "metadata": {},
   "source": [
    "## Class Methods"
   ]
  },
  {
   "cell_type": "code",
   "execution_count": null,
   "metadata": {
    "collapsed": false
   },
   "outputs": [],
   "source": [
    "class MyClass(object):\n",
    "    _secret = None\n",
    "    \n",
    "    @classmethod\n",
    "    def hello(self):\n",
    "        return \"Ciao Mondo\"\n",
    "    \n",
    "    @classmethod\n",
    "    def init_with_secret(self, secret):\n",
    "        s = MyClass()\n",
    "        s._secret = secret\n",
    "        return s\n",
    "        \n",
    "    def __str__(self):\n",
    "        return \"The secret is: %s \" % self._secret\n",
    "    \n",
    "s = MyClass.init_with_secret(\"Hello\")\n",
    "print s\n",
    "\n",
    "hello = MyClass.hello()\n",
    "print hello"
   ]
  },
  {
   "cell_type": "markdown",
   "metadata": {},
   "source": [
    "## Decorators and Aspect-Oriented Programming\n",
    "\n",
    "\n",
    "Decorators and Aspects\n",
    "Aspect-oriented programming entails breaking down program logic into distinct parts (so-called concerns, cohesive areas of functionality) which have nothing to do with the relations between the parts, but only with the specific concern itself.\n",
    "\n",
    "Logging is a good example, it has nothing to do with the inheritance hierarchy, you might need to log methods from any kind of object. Using aspects for logging permits to have a cross cutting concern that can be applied to any class or method independently from its inheritance.\n",
    "\n",
    "**Aspects** in Python are implemented using **@decorators** which can be applied to classes or functions."
   ]
  },
  {
   "cell_type": "code",
   "execution_count": null,
   "metadata": {
    "collapsed": false
   },
   "outputs": [],
   "source": [
    "# Function Decorator\n",
    "def my_deco(f):\n",
    "    def inner_deco(*args, **kw):\n",
    "        print '- ENTER -'\n",
    "        f(*args,**kw)\n",
    "        print '- EXIT -'\n",
    "    return inner_deco\n",
    "\n",
    "def my_deco1(f):\n",
    "    def inner_deco(*args, **kw):\n",
    "        print '* ENTER *'\n",
    "        f(*args,**kw)\n",
    "        print '* EXIT *'\n",
    "    return inner_deco\n",
    "\n",
    "@my_deco\n",
    "@my_deco1\n",
    "def hello():\n",
    "    print 'hello'\n",
    "    \n",
    "hello()"
   ]
  },
  {
   "cell_type": "code",
   "execution_count": null,
   "metadata": {
    "collapsed": false
   },
   "outputs": [],
   "source": [
    "# Class Decorator\n",
    "class MyDecorator(object):\n",
    "    def __init__(self, before, after):\n",
    "        self.before = before\n",
    "        self.after = after\n",
    "        \n",
    "    def __call__(self, f):\n",
    "        def innerFunc():\n",
    "            print \"- %s -\" % self.before\n",
    "            f()\n",
    "            print \"- %s -\" % self.after\n",
    "        return innerFunc\n",
    "    \n",
    "mydecoratorobject = MyDecorator('Hello', 'Goodbye')\n",
    "\n",
    "@mydecoratorobject\n",
    "def myFunc():\n",
    "    print 'Inside Function'\n",
    "    \n",
    "myFunc()\n",
    "    \n",
    "print '-----'\n",
    "    \n",
    "@mydecoratorobject\n",
    "@MyDecorator('ASD', 'RANDOM')\n",
    "def myOtherFunc():\n",
    "    print 'Inside Other Function'\n",
    "\n",
    "myOtherFunc()"
   ]
  },
  {
   "cell_type": "markdown",
   "metadata": {},
   "source": [
    "## Json"
   ]
  },
  {
   "cell_type": "markdown",
   "metadata": {},
   "source": [
    "Javascript Object Notation is an open-standard format that uses human-readable text to transmit data objects consisting of attribute–value pairs. In Python we can use the **json library**.\n",
    "\n",
    "The json library can parse **JSON** from strings or files. The library parses JSON into a Python **dictionary** or **list**. It can also convert Python dictionaries or lists into JSON strings.\n"
   ]
  },
  {
   "cell_type": "code",
   "execution_count": null,
   "metadata": {
    "collapsed": false
   },
   "outputs": [],
   "source": [
    "# Json From String\n",
    "import json\n",
    "json_string = '{\"key\": \"value\", \"other_key\": \"other_value\"}'\n",
    "parsed_json = json.loads(json_string)\n",
    "print parsed_json.__class__\n",
    "print parsed_json\n",
    "print \"Print value for key 'key': \", parsed_json['key']"
   ]
  },
  {
   "cell_type": "code",
   "execution_count": null,
   "metadata": {
    "collapsed": false
   },
   "outputs": [],
   "source": [
    "# Json from Dictionary\n",
    "import json\n",
    "my_dict = dict(key=\"value\", name=\"Alex\", age=26, others=[1,2,3])\n",
    "my_json = json.dumps(my_dict)\n",
    "# my_json = json.dumps(my_dict, sort_keys=True, indent=4, separators=(',', ': ')) # Pretty Print\n",
    "print my_json.__class__\n",
    "print my_json"
   ]
  },
  {
   "cell_type": "markdown",
   "metadata": {},
   "source": [
    "## Write / Read Files"
   ]
  },
  {
   "cell_type": "code",
   "execution_count": null,
   "metadata": {
    "collapsed": true
   },
   "outputs": [],
   "source": [
    "with open(\"file.txt\", \"w\") as f:\n",
    "    f.write(my_json)"
   ]
  },
  {
   "cell_type": "code",
   "execution_count": null,
   "metadata": {
    "collapsed": false
   },
   "outputs": [],
   "source": [
    "with open(\"file.txt\", \"r\") as f:\n",
    "    content = json.loads(f.read())\n",
    "    print content\n",
    "    print content['name']"
   ]
  },
  {
   "cell_type": "markdown",
   "metadata": {
    "collapsed": true
   },
   "source": [
    "# EXERCISES\n",
    "\n",
    "## Esercizio 1\n",
    "\n",
    "Creare una funzione che stampi per ogni elemento della lista un output del tipo:\n",
    "\n",
    "    POSIZIONE X --> VALUE\n",
    "    POSIZIONE Y --> VALUE\n",
    "\n",
    "Dove X e Y saranno rispettivamente i vari indici della lista stessa."
   ]
  },
  {
   "cell_type": "code",
   "execution_count": 1,
   "metadata": {
    "collapsed": false
   },
   "outputs": [
    {
     "name": "stdout",
     "output_type": "stream",
     "text": [
      "POSIZIONE: 0 --> ciao\n",
      "POSIZIONE: 1 --> pippo\n",
      "POSIZIONE: 2 --> pluto\n"
     ]
    }
   ],
   "source": [
    "def p_list(mylist):\n",
    "    for pos, value in enumerate(mylist):\n",
    "        print \"POSIZIONE: %s --> %s\" % (pos, value)\n",
    "    #for pos in range(len(mylist)):\n",
    "    #    print \"POSIZIONE: %s --> %s\" % (pos, mylist[pos])\n",
    "p_list(['ciao', 'pippo', 'pluto'])"
   ]
  },
  {
   "cell_type": "markdown",
   "metadata": {},
   "source": [
    "## Esercizio 2\n",
    "Creare una funzione che stampi per ogni elemento di un dizionario un output del tipo:\n",
    "\n",
    "    CHIAVE X --> VALUE\n",
    "    CHIAVE Y --> VALUE\n",
    "\n",
    "Dove X e Y saranno rispettivamente le chiavi del dizionario."
   ]
  },
  {
   "cell_type": "code",
   "execution_count": 2,
   "metadata": {
    "collapsed": false
   },
   "outputs": [
    {
     "name": "stdout",
     "output_type": "stream",
     "text": [
      "CHIAVE: key3 --> Hello\n",
      "CHIAVE: key2 --> False\n",
      "CHIAVE: key1 --> 1\n"
     ]
    }
   ],
   "source": [
    "def p_dict(mydict):\n",
    "    if not isinstance(mydict, dict):\n",
    "        print \"ERRORE\"\n",
    "        return\n",
    "    for key, value in mydict.items():\n",
    "        print \"CHIAVE: %s --> %s\" % (key, value)\n",
    "    #for key in mydict.keys():\n",
    "    #   print \"CHIAVE: %s --> %s\" % (key, mydict[key])\n",
    "dizionario = dict(key1=1, key2=False, key3='Hello')\n",
    "p_dict(dizionario)"
   ]
  },
  {
   "cell_type": "markdown",
   "metadata": {},
   "source": [
    "## Esercizio 3\n",
    "\n",
    "Modificare la funzione **p_dict** in modo tale che effettui i seguenti controlli:\n",
    "\n",
    "* Se il VALUE è una LISTA --> Invocare la stampa della lista\n",
    "* Se il VALUE è un DIZIONARIO --> Invocare la stampa del dizionario\n",
    "* Se nessuna delle due condizioni è verificare --> Stampare in modalità classica"
   ]
  },
  {
   "cell_type": "code",
   "execution_count": 3,
   "metadata": {
    "collapsed": false
   },
   "outputs": [
    {
     "name": "stdout",
     "output_type": "stream",
     "text": [
      "KEY: key3 --> Hello\n",
      "POSIZIONE: 0 --> 1\n",
      "POSIZIONE: 1 --> 2\n",
      "POSIZIONE: 2 --> 3\n",
      "POSIZIONE: 3 --> 4\n",
      "KEY: key1 --> 1\n",
      "KEY: ciao --> Mondo\n",
      "KEY: Hello --> World\n"
     ]
    }
   ],
   "source": [
    "def p_dict(mydict):\n",
    "    for key, value in mydict.items():\n",
    "        if isinstance(value, list):\n",
    "            p_list(value)\n",
    "        elif isinstance(value, dict):\n",
    "            p_dict(value)\n",
    "        else:\n",
    "            print \"KEY: %s --> %s\" % (key, value)\n",
    "            \n",
    "p_dict(dict(key1=1, \n",
    "            key2=[1,2,3,4], \n",
    "            key3='Hello', \n",
    "            key4={\"ciao\":\"Mondo\", \"Hello\": \"World\"}))\n",
    "#if type([1]) == list:\n",
    "#    print \"yeah\"\n",
    "#if isinstance([1], list):\n",
    "#print \"super yeah!\""
   ]
  },
  {
   "cell_type": "markdown",
   "metadata": {},
   "source": [
    "## Esercizio 4\n",
    "\n",
    "Creare una funzione che dato in input una stringa, stampi come output la lista delle parole e quante parole ci sono (supponendo che le parole siano divise da spazi)\n",
    "\n",
    "    OUTPUT:\n",
    "    Parola1\n",
    "    Parola2\n",
    "    .\n",
    "    .\n",
    "    .\n",
    "    ParolaN\n",
    "    NUMERO TOTALE PAROLE: X"
   ]
  },
  {
   "cell_type": "code",
   "execution_count": 4,
   "metadata": {
    "collapsed": false
   },
   "outputs": [
    {
     "name": "stdout",
     "output_type": "stream",
     "text": [
      "Ciao\n",
      "sono\n",
      "una\n",
      "frase\n",
      "un\n",
      "po\n",
      "lunga\n",
      "con\n",
      "delle\n",
      "parole\n",
      "PAROLE TOTALI:  10\n"
     ]
    }
   ],
   "source": [
    "def word_count(frase):\n",
    "    cont = 0\n",
    "    splitted_words = frase.split()\n",
    "    for word in splitted_words:\n",
    "        print word\n",
    "        cont += 1\n",
    "    print \"PAROLE TOTALI: \", cont\n",
    "    \n",
    "def better_word_count(frase):\n",
    "    splitted_words = frase.split()\n",
    "    for word in splitted_words:\n",
    "        print word\n",
    "    print \"PAROLE TOTALI: \", len(splitted_words)\n",
    "   \n",
    "better_word_count(\"Ciao sono una frase un po lunga con delle parole\")"
   ]
  },
  {
   "cell_type": "markdown",
   "metadata": {},
   "source": [
    "## Exception and Functions"
   ]
  },
  {
   "cell_type": "code",
   "execution_count": 9,
   "metadata": {
    "collapsed": false
   },
   "outputs": [
    {
     "name": "stdout",
     "output_type": "stream",
     "text": [
      "Errore --> 'int' object has no attribute 'items'\n",
      "\n",
      "\n",
      "\n",
      "Help on function func in module __main__:\n",
      "\n",
      "func(dizionario)\n",
      "    INSERT HERE THE DOCUMENTATION\n",
      "\n"
     ]
    }
   ],
   "source": [
    "def func(dizionario):\n",
    "    '''\n",
    "    INSERT HERE THE DOCUMENTATION\n",
    "    '''\n",
    "    try:\n",
    "        print dizionario.items()\n",
    "    except Exception as e:\n",
    "        raise Exception(e) # Dico al mio chiamante che qualcosa è andato storto -> Rimando indietro l'eccezione\n",
    "    print \"non mi eseguirai mai se la try fallisce!\"\n",
    "    \n",
    "try: \n",
    "    func(1)\n",
    "except Exception as e:\n",
    "    print \"Errore -->\", e\n",
    "\n",
    "print \"\\n\\n\"\n",
    "help(func)"
   ]
  },
  {
   "cell_type": "markdown",
   "metadata": {},
   "source": [
    "## Import"
   ]
  },
  {
   "cell_type": "code",
   "execution_count": 10,
   "metadata": {
    "collapsed": false
   },
   "outputs": [
    {
     "name": "stdout",
     "output_type": "stream",
     "text": [
      "['spark-1.6.1-bin-hadoop2.6', 'scrpt.py', 'hello.pyc', 'hello.py', 'BIGDIVE5-courses', 'Untitled.ipynb', 'BDINTESA', 'bigdive-lectures', '.ipynb_checkpoints', 'google-python-exercises', 'alex']\n"
     ]
    }
   ],
   "source": [
    "from os import listdir\n",
    "print listdir(\"/home/bigdive/Desktop\")\n"
   ]
  },
  {
   "cell_type": "code",
   "execution_count": 14,
   "metadata": {
    "collapsed": false
   },
   "outputs": [
    {
     "name": "stdout",
     "output_type": "stream",
     "text": [
      "['EX_CANTCREAT', 'EX_CONFIG', 'EX_DATAERR', 'EX_IOERR', 'EX_NOHOST', 'EX_NOINPUT', 'EX_NOPERM', 'EX_NOUSER', 'EX_OK', 'EX_OSERR', 'EX_OSFILE', 'EX_PROTOCOL', 'EX_SOFTWARE', 'EX_TEMPFAIL', 'EX_UNAVAILABLE', 'EX_USAGE', 'F_OK', 'NGROUPS_MAX', 'O_APPEND', 'O_ASYNC', 'O_CREAT', 'O_DIRECT', 'O_DIRECTORY', 'O_DSYNC', 'O_EXCL', 'O_LARGEFILE', 'O_NDELAY', 'O_NOATIME', 'O_NOCTTY', 'O_NOFOLLOW', 'O_NONBLOCK', 'O_RDONLY', 'O_RDWR', 'O_RSYNC', 'O_SYNC', 'O_TRUNC', 'O_WRONLY', 'P_NOWAIT', 'P_NOWAITO', 'P_WAIT', 'R_OK', 'SEEK_CUR', 'SEEK_END', 'SEEK_SET', 'TMP_MAX', 'UserDict', 'WCONTINUED', 'WCOREDUMP', 'WEXITSTATUS', 'WIFCONTINUED', 'WIFEXITED', 'WIFSIGNALED', 'WIFSTOPPED', 'WNOHANG', 'WSTOPSIG', 'WTERMSIG', 'WUNTRACED', 'W_OK', 'X_OK', '_Environ', '__all__', '__builtins__', '__doc__', '__file__', '__name__', '__package__', '_copy_reg', '_execvpe', '_exists', '_exit', '_get_exports_list', '_make_stat_result', '_make_statvfs_result', '_pickle_stat_result', '_pickle_statvfs_result', '_spawnvef', 'abort', 'access', 'altsep', 'chdir', 'chmod', 'chown', 'chroot', 'close', 'closerange', 'confstr', 'confstr_names', 'ctermid', 'curdir', 'defpath', 'devnull', 'dup', 'dup2', 'environ', 'errno', 'error', 'execl', 'execle', 'execlp', 'execlpe', 'execv', 'execve', 'execvp', 'execvpe', 'extsep', 'fchdir', 'fchmod', 'fchown', 'fdatasync', 'fdopen', 'fork', 'forkpty', 'fpathconf', 'fstat', 'fstatvfs', 'fsync', 'ftruncate', 'getcwd', 'getcwdu', 'getegid', 'getenv', 'geteuid', 'getgid', 'getgroups', 'getloadavg', 'getlogin', 'getpgid', 'getpgrp', 'getpid', 'getppid', 'getresgid', 'getresuid', 'getsid', 'getuid', 'initgroups', 'isatty', 'kill', 'killpg', 'lchown', 'linesep', 'link', 'listdir', 'lseek', 'lstat', 'major', 'makedev', 'makedirs', 'minor', 'mkdir', 'mkfifo', 'mknod', 'name', 'nice', 'open', 'openpty', 'pardir', 'path', 'pathconf', 'pathconf_names', 'pathsep', 'pipe', 'popen', 'popen2', 'popen3', 'popen4', 'putenv', 'read', 'readlink', 'remove', 'removedirs', 'rename', 'renames', 'rmdir', 'sep', 'setegid', 'seteuid', 'setgid', 'setgroups', 'setpgid', 'setpgrp', 'setregid', 'setresgid', 'setresuid', 'setreuid', 'setsid', 'setuid', 'spawnl', 'spawnle', 'spawnlp', 'spawnlpe', 'spawnv', 'spawnve', 'spawnvp', 'spawnvpe', 'stat', 'stat_float_times', 'stat_result', 'statvfs', 'statvfs_result', 'strerror', 'symlink', 'sys', 'sysconf', 'sysconf_names', 'system', 'tcgetpgrp', 'tcsetpgrp', 'tempnam', 'times', 'tmpfile', 'tmpnam', 'ttyname', 'umask', 'uname', 'unlink', 'unsetenv', 'urandom', 'utime', 'wait', 'wait3', 'wait4', 'waitpid', 'walk', 'write']\n",
      "['spark-1.6.1-bin-hadoop2.6', 'scrpt.py', 'hello.pyc', 'hello.py', 'BIGDIVE5-courses', 'Untitled.ipynb', 'BDINTESA', 'bigdive-lectures', '.ipynb_checkpoints', 'google-python-exercises', 'alex']\n"
     ]
    }
   ],
   "source": [
    "import os\n",
    "print dir(os)\n",
    "print os.listdir(\"/home/bigdive/Desktop\")"
   ]
  },
  {
   "cell_type": "code",
   "execution_count": null,
   "metadata": {
    "collapsed": false
   },
   "outputs": [],
   "source": [
    "# Nel caso in cui io abbia due File:\n",
    "# Nel file UNO (con nome hello.py) andrò a dichiarare una funzione:\n",
    "def helloWorld():\n",
    "    return \"Hello World\"\n",
    "\n",
    "# --------------------------------------------------------\n",
    "\n",
    "# Nel file DUE importerò la funzione e la userò:\n",
    "from hello import helloWorld\n",
    "print helloWorld()"
   ]
  }
 ],
 "metadata": {
  "kernelspec": {
   "display_name": "Python [Root]",
   "language": "python",
   "name": "Python [Root]"
  },
  "language_info": {
   "codemirror_mode": {
    "name": "ipython",
    "version": 2
   },
   "file_extension": ".py",
   "mimetype": "text/x-python",
   "name": "python",
   "nbconvert_exporter": "python",
   "pygments_lexer": "ipython2",
   "version": "2.7.12"
  }
 },
 "nbformat": 4,
 "nbformat_minor": 0
}

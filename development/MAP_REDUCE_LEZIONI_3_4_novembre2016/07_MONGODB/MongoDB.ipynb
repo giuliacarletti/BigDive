{
 "cells": [
  {
   "cell_type": "markdown",
   "metadata": {},
   "source": [
    "# SQL Vs NO-SQL\n",
    "\n",
    "What's the difference between **relational** vs. **non-relational** databases?\n",
    "\n",
    "Back in 2000 it was enough to smother your website with static text. Brochureware was cool. Not today, though. You have to have a dizzying variety of text, video, audio, images and social media to get someone's attention. But it's hard to add new content to a relational database. Or new features. Or new attributes. Not without disrupting performance or taking your database offline.\n",
    "\n",
    "With non-relational databases you can store any type of content. Incorporate any kind of data in a single database. Build any feature. Faster. With less money.\n",
    "\n",
    "### Relational (SQL)\n",
    "\n",
    "* **Stuck**. Data now includes rich data types – tweets, videos, podcasts, animated gifs – which are hard, if not impossible, to store in a relational database. Development slows to a crawl, and ops is caught playing whack-a-mole.\n",
    "\n",
    "* **Can’t Scale**. Your audience is global, in many countries, speaking many languages, accessing content on many devices. Scaling a relational database is not trivial. And it isn’t cheap.\n",
    "\n",
    "* **Expensive**. Large teams tied up for long periods of time make these applications expensive to build and maintain. Proprietary software and hardware, plus separate databases and file systems needed to manage your content, add to the cost.\n",
    "\n",
    "### Non-Relational (NoSQL)\n",
    "\n",
    "* **Do the Impossible**. NoSQL can incorporate literally any type of data, while providing all the features needed to build content-rich apps.\n",
    "\n",
    "* **Scale Big**. Scaling is built into the database. It is automatic and transparent. You can scale as your audience grows, both within a data center and across regions.\n",
    "\n",
    "* **Cheap**. More productive teams, plus commodity hardware, make your projects cost 10% what they would with a relational database.\n",
    "\n",
    "\n",
    "## Resources\n",
    "\n",
    "Check the folder **resources** a collection of useful PDF:\n",
    "\n",
    "* *Top_5_NoSQL_Considerations.pdf*: 5 reasons to choose a NO-SQL Database\n",
    "* *AWS_&_MongoDB.pdf*: MongoDB on Amazon Web Services\n",
    "* *Mongodb_&_ApacheSpark.pdf*: How to use Apache Spark and MongoDB\n"
   ]
  },
  {
   "cell_type": "markdown",
   "metadata": {},
   "source": [
    "# MongoDB\n",
    "\n",
    " * Schema Free\n",
    " * Document Based\n",
    " * Supports Indexing\n",
    " * Not Transactional\n",
    " * Does not support relations (no JOIN)\n",
    " * Supports Autosharding\n",
    " * Automatic Replication and Failover\n",
    " * Relies on System Memory Manager\n",
    " * Has an Aggregation Pipeline\n",
    " * Builtin support for MapReduce\n",
    "\n",
    "On Python mongodb support is provided by ``PyMongo`` library, which can be installed using:\n",
    "\n",
    "\n",
    "    pip install pymongo\n",
    "    \n",
    "\n",
    "## Nexus Architecture\n",
    "\n",
    "MongoDB’s design philosophy is focused on combining the critical capabilities of relational databases (left side) with the innovations of NoSQL technologies (right side).\n",
    "\n",
    "<img src=\"nexus-architecture.png\" width=\"640\"/>\n",
    "\n",
    "\n",
    "## Installing MongoDB\n",
    "\n",
    "\n",
    "Installing MongoDB is as simple as going to http://www.mongodb.org/downloads and downloading it.\n",
    "\n",
    "Create a ``/data/db`` directory then start ``mongod`` inside the mongodb downloaded package:\n",
    "\n",
    "\n",
    "    curl -O 'https://fastdl.mongodb.org/osx/mongodb-osx-x86_64-3.0.4.tgz' \n",
    "    tar zxvf mongodb-osx-x86_64-3.0.4.tgz \n",
    "    cd mongodb-osx-x86_64-3.0.4\n",
    "    mkdir data\n",
    "    ./bin/mongod --dbpath=./data\n",
    "\n",
    "\n",
    "\n",
    "## Using MongoDB\n",
    "\n",
    "\n",
    "a ``MongoClient`` instance provides connection to MongoDB Server, each server can host multiple databases which can be retrieved with ``connection.database_name`` which can then contain multiple ``collections`` with different documents."
   ]
  },
  {
   "cell_type": "code",
   "execution_count": 1,
   "metadata": {
    "collapsed": false
   },
   "outputs": [
    {
     "name": "stdout",
     "output_type": "stream",
     "text": [
      "MongoClient(host=['localhost:27017'], document_class=dict, tz_aware=False, connect=True)\n"
     ]
    }
   ],
   "source": [
    "from pymongo import MongoClient\n",
    "client = MongoClient('mongodb://localhost:27017/')\n",
    "print client"
   ]
  },
  {
   "cell_type": "code",
   "execution_count": 2,
   "metadata": {
    "collapsed": false
   },
   "outputs": [
    {
     "name": "stdout",
     "output_type": "stream",
     "text": [
      "[u'blog', u'people']\n"
     ]
    }
   ],
   "source": [
    "db = client.phonebook\n",
    "print db.collection_names()"
   ]
  },
  {
   "cell_type": "markdown",
   "metadata": {},
   "source": [
    "Once the database is retrieved, collections can be accessed as attributes of the database itself.\n",
    "\n",
    "A MongoDB document is actually just a Python Dictionary, inserting a document is as simple as telling pymongo to insert the dictionary into the collection. Each document can have its own structure, can contain different data and you are not required to declare and structure of the collection. Not existing collections will be automatically created on the insertion of the first document"
   ]
  },
  {
   "cell_type": "code",
   "execution_count": 3,
   "metadata": {
    "collapsed": false
   },
   "outputs": [
    {
     "name": "stderr",
     "output_type": "stream",
     "text": [
      "/home/bigdive/anaconda2/lib/python2.7/site-packages/ipykernel/__main__.py:2: DeprecationWarning: insert is deprecated. Use insert_one or insert_many instead.\n",
      "  from ipykernel import kernelapp as app\n"
     ]
    },
    {
     "data": {
      "text/plain": [
       "ObjectId('581de3c3e14afe2d8d61869a')"
      ]
     },
     "execution_count": 3,
     "metadata": {},
     "output_type": "execute_result"
    }
   ],
   "source": [
    "data = {'name': 'Alex', 'phone': '+39123456789'}\n",
    "db.people.insert(data)"
   ]
  },
  {
   "cell_type": "code",
   "execution_count": 4,
   "metadata": {
    "collapsed": false
   },
   "outputs": [
    {
     "name": "stdout",
     "output_type": "stream",
     "text": [
      "[u'blog', u'people']\n"
     ]
    }
   ],
   "source": [
    "print db.collection_names()"
   ]
  },
  {
   "cell_type": "markdown",
   "metadata": {},
   "source": [
    "Each inserted document will receive an **ObjectId** which is a uniquue identifier of the document, the ObjectId is based on some data like the current **timestamp**, **server identifier process id** and other data that guarantees it to be unique across multiple servers.\n",
    "\n",
    "Being designed to work in a distributed and multinode environment, MongoDB handles \"write safety\" by the number of servers that are expected to have saved the document before considering the insert command \"completed\".\n",
    "\n",
    "This is handled by the **w** option, which indicates the number of servers that must have saved the document before the insert command returns. Setting it to **0** makes mongodb work in *fire and forget* mode, which is useful when inserting a lot of documents quickly. As most drivers will actually generate the ObjectId on client that performs the insertion you will receive an ObjectId even before the document has been written."
   ]
  },
  {
   "cell_type": "code",
   "execution_count": 5,
   "metadata": {
    "collapsed": false
   },
   "outputs": [
    {
     "name": "stderr",
     "output_type": "stream",
     "text": [
      "/home/bigdive/anaconda2/lib/python2.7/site-packages/ipykernel/__main__.py:1: DeprecationWarning: insert is deprecated. Use insert_one or insert_many instead.\n",
      "  if __name__ == '__main__':\n"
     ]
    },
    {
     "data": {
      "text/plain": [
       "ObjectId('581de433e14afe2d8d61869b')"
      ]
     },
     "execution_count": 5,
     "metadata": {},
     "output_type": "execute_result"
    }
   ],
   "source": [
    "db.people.insert({'name': 'Pippo', 'phone': '+39123456788', 'other_phone': '+3933332323'}, w=0)"
   ]
  },
  {
   "cell_type": "code",
   "execution_count": 6,
   "metadata": {
    "collapsed": false
   },
   "outputs": [
    {
     "name": "stdout",
     "output_type": "stream",
     "text": [
      "cannot use 'w' > 1 when a host is not replicated\n"
     ]
    },
    {
     "name": "stderr",
     "output_type": "stream",
     "text": [
      "/home/bigdive/anaconda2/lib/python2.7/site-packages/ipykernel/__main__.py:2: DeprecationWarning: insert is deprecated. Use insert_one or insert_many instead.\n",
      "  from ipykernel import kernelapp as app\n"
     ]
    }
   ],
   "source": [
    "try:\n",
    "    db.people.insert({'name': 'Jonny', 'phone': '+39123456789'}, w=2)\n",
    "except Exception as e:\n",
    "    print e"
   ]
  },
  {
   "cell_type": "markdown",
   "metadata": {},
   "source": [
    "Fetching back inserted document can be done using ``find`` and ``find_one`` methods of collections. Both methods accept a query expression that filters the returned documents. Omitting it means retrieving all the documents (or in case of find_one the first document)."
   ]
  },
  {
   "cell_type": "code",
   "execution_count": 8,
   "metadata": {
    "collapsed": false
   },
   "outputs": [
    {
     "name": "stdout",
     "output_type": "stream",
     "text": [
      "{u'phone': u'+39123456789', u'_id': ObjectId('581c6959e14afe456a37ceeb'), u'name': u'Alex'}\n",
      "<type 'dict'>\n"
     ]
    }
   ],
   "source": [
    "res = db.people.find_one( {'name': 'Alex'} )\n",
    "print res\n",
    "print type(res)"
   ]
  },
  {
   "cell_type": "code",
   "execution_count": 9,
   "metadata": {
    "collapsed": false
   },
   "outputs": [
    {
     "name": "stdout",
     "output_type": "stream",
     "text": [
      "['_BaseObject__codec_options', '_BaseObject__read_concern', '_BaseObject__read_preference', '_BaseObject__write_concern', '_Collection__create', '_Collection__create_index', '_Collection__database', '_Collection__find_and_modify', '_Collection__full_name', '_Collection__name', '_Collection__write_response_codec_options', '__call__', '__class__', '__delattr__', '__dict__', '__doc__', '__eq__', '__format__', '__getattr__', '__getattribute__', '__getitem__', '__hash__', '__init__', '__iter__', '__module__', '__ne__', '__new__', '__next__', '__reduce__', '__reduce_ex__', '__repr__', '__setattr__', '__sizeof__', '__str__', '__subclasshook__', '__weakref__', '_command', '_count', '_delete', '_insert', '_insert_one', '_legacy_write', '_socket_for_primary_reads', '_socket_for_reads', '_socket_for_writes', '_update', 'aggregate', 'bulk_write', 'codec_options', 'count', 'create_index', 'create_indexes', 'database', 'delete_many', 'delete_one', 'distinct', 'drop', 'drop_index', 'drop_indexes', 'ensure_index', 'find', 'find_and_modify', 'find_one', 'find_one_and_delete', 'find_one_and_replace', 'find_one_and_update', 'full_name', 'group', 'index_information', 'initialize_ordered_bulk_op', 'initialize_unordered_bulk_op', 'inline_map_reduce', 'insert', 'insert_many', 'insert_one', 'list_indexes', 'map_reduce', 'name', 'next', 'options', 'parallel_scan', 'read_concern', 'read_preference', 'reindex', 'remove', 'rename', 'replace_one', 'save', 'update', 'update_many', 'update_one', 'with_options', 'write_concern']\n"
     ]
    }
   ],
   "source": [
    "res['name']\n",
    "print dir(db.people)"
   ]
  },
  {
   "cell_type": "code",
   "execution_count": 10,
   "metadata": {
    "collapsed": false
   },
   "outputs": [
    {
     "name": "stdout",
     "output_type": "stream",
     "text": [
      "{u'phone': u'+39123456789', u'_id': ObjectId('581c6959e14afe456a37ceeb'), u'name': u'Alex'}\n",
      "{u'phone': u'+39123456788', u'_id': ObjectId('581c69dee14afe456a37ceec'), u'other_phone': u'+3933332323', u'name': u'Pippo'}\n",
      "{u'_id': ObjectId('581c6b6be14afe456a37ceee'), u'key': u'value'}\n",
      "{u'_id': ObjectId('581c6b89e14afe456a37ceef'), u'key': u'value'}\n",
      "{u'phone': u'+39123456789', u'_id': ObjectId('581de3c3e14afe2d8d61869a'), u'name': u'Alex'}\n",
      "{u'phone': u'+39123456788', u'_id': ObjectId('581de433e14afe2d8d61869b'), u'other_phone': u'+3933332323', u'name': u'Pippo'}\n"
     ]
    }
   ],
   "source": [
    "people =  db.people.find()\n",
    "for p in people:\n",
    "    print p"
   ]
  },
  {
   "cell_type": "code",
   "execution_count": 11,
   "metadata": {
    "collapsed": false
   },
   "outputs": [
    {
     "name": "stderr",
     "output_type": "stream",
     "text": [
      "/home/bigdive/anaconda2/lib/python2.7/site-packages/ipykernel/__main__.py:1: DeprecationWarning: insert is deprecated. Use insert_one or insert_many instead.\n",
      "  if __name__ == '__main__':\n"
     ]
    },
    {
     "data": {
      "text/plain": [
       "2"
      ]
     },
     "execution_count": 11,
     "metadata": {},
     "output_type": "execute_result"
    }
   ],
   "source": [
    "db.people.insert({\"key\": \"value\", \"_id\":2})"
   ]
  },
  {
   "cell_type": "markdown",
   "metadata": {},
   "source": [
    "Filters in mongodb are described by Documents themselves, so in case of PyMongo they are dictionaries too.\n",
    "A filter can be specified in the form ``{'field': value}``. \n",
    "By default filtering is performed by *equality* comparison, this can be changed by specifying a query operator in place of the value.\n",
    "\n",
    "Query operators by convention start with a ``$`` sign and can be specified as ``{'field': {'operator': value}}``.\n",
    "Full list of query operators is available at http://docs.mongodb.org/manual/reference/operator/query/\n",
    "\n",
    "For example if we want to find each person that has an object id greather than ``53b30ff57ab71c051823b031`` we can achieve that with:"
   ]
  },
  {
   "cell_type": "code",
   "execution_count": 12,
   "metadata": {
    "collapsed": false
   },
   "outputs": [
    {
     "name": "stdout",
     "output_type": "stream",
     "text": [
      "{u'phone': u'+39123456789', u'_id': ObjectId('581de3c3e14afe2d8d61869a'), u'name': u'Alex'}\n",
      "{u'phone': u'+39123456788', u'_id': ObjectId('581de433e14afe2d8d61869b'), u'other_phone': u'+3933332323', u'name': u'Pippo'}\n"
     ]
    }
   ],
   "source": [
    "from bson import ObjectId\n",
    "#print db.people.find_one({'_id':  ObjectId('581c6bbd9718d4e833a70d45')})\n",
    "#print db.people.find_one({'_id': {'$gte':  ObjectId('581c6bbd9718d4e833a70d45')}})\n",
    "people = db.people.find({'_id': {'$gte':  ObjectId('581c6bbd9718d4e833a70d45')}})\n",
    "for p in people:\n",
    "    print p\n",
    "#dir(people)"
   ]
  },
  {
   "cell_type": "markdown",
   "metadata": {},
   "source": [
    "Updating Documents\n",
    "---------------------\n",
    "\n",
    "Updating documents in MongoDB can be performed with the ``update`` method of the collection. Updating is actually one of the major sources of issues for new users as it doesn't change values in document like it does on SQL based databases, but instead it replaces the document with a new one.\n",
    "\n",
    "Also note that the update operation doesn't perform update on each document identified by the query, by default only the first document is updated. To apply it to multiple documents it is required to explicitly specify the ``multi=true`` option\n",
    "\n",
    "What you usually want to do is actually using the ``$set`` operator which changes the existing document instead of replacing it with a new one."
   ]
  },
  {
   "cell_type": "code",
   "execution_count": 13,
   "metadata": {
    "collapsed": false
   },
   "outputs": [
    {
     "name": "stdout",
     "output_type": "stream",
     "text": [
      "\n",
      "Before Updated: {u'phone': u'+39123456789', u'_id': ObjectId('581c6959e14afe456a37ceeb'), u'name': u'Alex'}\n",
      "\n",
      "After Update: {u'_id': ObjectId('581c6959e14afe456a37ceeb'), u'name': u'John Doe'}\n",
      "\n",
      "After $set phone: {u'phone': u'+39123456789', u'_id': ObjectId('581c6959e14afe456a37ceeb'), u'name': u'John Doe'}\n",
      "\n",
      "After $set name: {u'phone': u'+39123456789', u'_id': ObjectId('581c6959e14afe456a37ceeb'), u'name': u'Alex'}\n"
     ]
    },
    {
     "name": "stderr",
     "output_type": "stream",
     "text": [
      "/home/bigdive/anaconda2/lib/python2.7/site-packages/ipykernel/__main__.py:4: DeprecationWarning: update is deprecated. Use replace_one, update_one or update_many instead.\n",
      "/home/bigdive/anaconda2/lib/python2.7/site-packages/ipykernel/__main__.py:9: DeprecationWarning: update is deprecated. Use replace_one, update_one or update_many instead.\n",
      "/home/bigdive/anaconda2/lib/python2.7/site-packages/ipykernel/__main__.py:11: DeprecationWarning: update is deprecated. Use replace_one, update_one or update_many instead.\n"
     ]
    }
   ],
   "source": [
    "doc = db.people.find_one({'name': 'Alex'})\n",
    "print '\\nBefore Updated:', doc\n",
    "\n",
    "db.people.update({'name': 'Alex'}, {'name': 'John Doe'})\n",
    "doc = db.people.find_one({'name': 'John Doe'})\n",
    "print '\\nAfter Update:', doc\n",
    "\n",
    "# Go back to previous state\n",
    "db.people.update({'name': 'John Doe'}, {'$set': {'phone': '+39123456789'}})\n",
    "print '\\nAfter $set phone:', db.people.find_one({'name': 'John Doe'})\n",
    "db.people.update({'name': 'John Doe'}, {'$set': {'name': 'Alex'}})\n",
    "print '\\nAfter $set name:', db.people.find_one({'name': 'Alex'})\n"
   ]
  },
  {
   "cell_type": "markdown",
   "metadata": {},
   "source": [
    "SubDocuments\n",
    "--------------\n",
    "\n",
    "The real power of mongodb is released when you use subdocuments.\n",
    "\n",
    "As each mongodb document is a JSON object (actually BSON, but that doesn't change much for the user), it can contain any data which is valid in JSON. Including other documents and arrays. This replaces \"relations\" between collections in multiple use cases and it's heavily more efficient as it returns all the data in a single query instead of having to perform multiple queries to retrieve related data.\n",
    "\n",
    "As MongoDB fully supports subdocuments it is also possible to query on sub document fields and even query on arrays using the ``dot notation``.\n",
    "\n",
    "For example if you want to store a blog post in mongodb you might actually store everything, including author data and tags inside the blogpost itself:"
   ]
  },
  {
   "cell_type": "code",
   "execution_count": 14,
   "metadata": {
    "collapsed": false
   },
   "outputs": [
    {
     "name": "stderr",
     "output_type": "stream",
     "text": [
      "/home/bigdive/anaconda2/lib/python2.7/site-packages/ipykernel/__main__.py:5: DeprecationWarning: insert is deprecated. Use insert_one or insert_many instead.\n"
     ]
    },
    {
     "data": {
      "text/plain": [
       "ObjectId('581de577e14afe2d8d61869d')"
      ]
     },
     "execution_count": 14,
     "metadata": {},
     "output_type": "execute_result"
    }
   ],
   "source": [
    "db.blog.insert({'title': 'MongoDB intro!',\n",
    "                'author': {'name': 'Alex',\n",
    "                           'surname': 'Comu',\n",
    "                           'nickname': 'alexcomu'},\n",
    "                'tags': ['mongodb', 'web', 'new-hair-cut']})"
   ]
  },
  {
   "cell_type": "code",
   "execution_count": 15,
   "metadata": {
    "collapsed": false
   },
   "outputs": [
    {
     "name": "stdout",
     "output_type": "stream",
     "text": [
      "{u'title': u'MongoDB intro!', u'_id': ObjectId('581c6f2fe14afe456a37cef0'), u'tags': [u'mongodb', u'web', u'new-hair-cut'], u'author': {u'surname': u'Comu', u'nickname': u'alexcomu', u'name': u'Alex'}}\n",
      "Alex\n"
     ]
    }
   ],
   "source": [
    "blog = db.blog.find_one({'title': 'MongoDB intro!'})\n",
    "print blog\n",
    "print blog['author']['name']"
   ]
  },
  {
   "cell_type": "code",
   "execution_count": 16,
   "metadata": {
    "collapsed": false
   },
   "outputs": [
    {
     "data": {
      "text/plain": [
       "{u'_id': ObjectId('581c6f2fe14afe456a37cef0'),\n",
       " u'author': {u'name': u'Alex', u'nickname': u'alexcomu', u'surname': u'Comu'},\n",
       " u'tags': [u'mongodb', u'web', u'new-hair-cut'],\n",
       " u'title': u'MongoDB intro!'}"
      ]
     },
     "execution_count": 16,
     "metadata": {},
     "output_type": "execute_result"
    }
   ],
   "source": [
    "db.blog.find_one({'tags': 'mongodb'})"
   ]
  },
  {
   "cell_type": "code",
   "execution_count": 17,
   "metadata": {
    "collapsed": false
   },
   "outputs": [
    {
     "data": {
      "text/plain": [
       "{u'_id': ObjectId('581c6f2fe14afe456a37cef0'),\n",
       " u'author': {u'name': u'Alex', u'nickname': u'alexcomu', u'surname': u'Comu'},\n",
       " u'tags': [u'mongodb', u'web', u'new-hair-cut'],\n",
       " u'title': u'MongoDB intro!'}"
      ]
     },
     "execution_count": 17,
     "metadata": {},
     "output_type": "execute_result"
    }
   ],
   "source": [
    "db.blog.find_one({'author.name': 'Alex'})"
   ]
  },
  {
   "cell_type": "code",
   "execution_count": 18,
   "metadata": {
    "collapsed": false
   },
   "outputs": [
    {
     "data": {
      "text/plain": [
       "{u'_id': ObjectId('581c6f2fe14afe456a37cef0'),\n",
       " u'author': {u'name': u'Alex', u'nickname': u'alexcomu', u'surname': u'Comu'},\n",
       " u'tags': [u'mongodb', u'web', u'new-hair-cut'],\n",
       " u'title': u'MongoDB intro!'}"
      ]
     },
     "execution_count": 18,
     "metadata": {},
     "output_type": "execute_result"
    }
   ],
   "source": [
    "#db.facebook.insert({\"user_info\": {\"\"}})\n",
    "#db.data_collector.insert({\"values\":{}, \"source\":\"Twitter\")\n",
    "db.blog.find_one()"
   ]
  },
  {
   "cell_type": "code",
   "execution_count": 19,
   "metadata": {
    "collapsed": false
   },
   "outputs": [
    {
     "name": "stderr",
     "output_type": "stream",
     "text": [
      "/home/bigdive/anaconda2/lib/python2.7/site-packages/ipykernel/__main__.py:10: DeprecationWarning: insert is deprecated. Use insert_one or insert_many instead.\n"
     ]
    }
   ],
   "source": [
    "# Create some random posts\n",
    "TAGS = ['mongodb', 'web', 'scaling', 'cooking']\n",
    "\n",
    "import random\n",
    "for postnum in range(1, 5):\n",
    "    db.blog.insert({'title': 'Post %s' % postnum,\n",
    "                    'author': {'name': 'Alex',\n",
    "                               'surname': 'Comu',\n",
    "                               'nickname': 'alexcomu'},\n",
    "                    'tags': random.sample(TAGS, 2)})"
   ]
  },
  {
   "cell_type": "code",
   "execution_count": 20,
   "metadata": {
    "collapsed": false
   },
   "outputs": [
    {
     "name": "stdout",
     "output_type": "stream",
     "text": [
      "Post 1 ->  scaling, web\n",
      "Post 1 ->  scaling, cooking\n"
     ]
    }
   ],
   "source": [
    "for post in db.blog.find({'tags': {'$in': ['scaling']}}):\n",
    "    #print post['title'], '->', ', '.join(post['tags'])\n",
    "    print post['title'], '-> ', ', '.join(post['tags'])\n"
   ]
  },
  {
   "cell_type": "markdown",
   "metadata": {},
   "source": [
    "# Example\n",
    "\n",
    "Scrivere un piccolo script che inserisca all'interno di una collection \"bigdive\" 3 oggetti del tipo:\n",
    "\n",
    "* nome1 / phone / data-nascita"
   ]
  },
  {
   "cell_type": "code",
   "execution_count": 21,
   "metadata": {
    "collapsed": false
   },
   "outputs": [
    {
     "name": "stderr",
     "output_type": "stream",
     "text": [
      "/home/bigdive/anaconda2/lib/python2.7/site-packages/ipykernel/__main__.py:5: DeprecationWarning: insert is deprecated. Use insert_one or insert_many instead.\n"
     ]
    }
   ],
   "source": [
    "names = [\"Frank\", \"Steve\", \"John\"]\n",
    "phones = [\"1\",\"2\",\"3\"]\n",
    "birthdate = [\"4\",\"5\",\"6\"]\n",
    "for i in range(3):\n",
    "    db.bigdive.insert({\"name\":names[i], \"phone\":phones[i], \"birthdate\":birthdate[i]})"
   ]
  },
  {
   "cell_type": "code",
   "execution_count": 22,
   "metadata": {
    "collapsed": false
   },
   "outputs": [
    {
     "name": "stdout",
     "output_type": "stream",
     "text": [
      "{u'phone': u'1', u'_id': ObjectId('581de5ede14afe2d8d6186a2'), u'name': u'Frank', u'birthdate': u'4'}\n",
      "{u'phone': u'2', u'_id': ObjectId('581de5ede14afe2d8d6186a3'), u'name': u'Steve', u'birthdate': u'5'}\n",
      "{u'phone': u'3', u'_id': ObjectId('581de5ede14afe2d8d6186a4'), u'name': u'John', u'birthdate': u'6'}\n",
      "{u'phone': u'123', u'_id': ObjectId('581de5fee14afe2d8d6186a5'), u'name': u'Pippo'}\n",
      "{u'phone': u'456', u'_id': ObjectId('581de5fee14afe2d8d6186a6'), u'name': u'Ciccio'}\n"
     ]
    }
   ],
   "source": [
    "db.bigdive.insert_many([ {\"name\":\"Pippo\", \"phone\":\"123\"}, {\"name\":\"Ciccio\", \"phone\":\"456\"} ])\n",
    "\n",
    "for b in db.bigdive.find():\n",
    "    print b\n",
    "  "
   ]
  },
  {
   "cell_type": "markdown",
   "metadata": {},
   "source": [
    "Effettuare una ricerca per uno dei 3 nomi scelti, e successivamente utilizzare il metodo update (utilizzando come filtro l' **_id**) e aggiungere alla entry un campo a sceolta."
   ]
  },
  {
   "cell_type": "code",
   "execution_count": 23,
   "metadata": {
    "collapsed": false
   },
   "outputs": [
    {
     "name": "stdout",
     "output_type": "stream",
     "text": [
      "{u'phone': u'1', u'_id': ObjectId('581de5ede14afe2d8d6186a2'), u'name': u'Frank', u'birthdate': u'4'}\n"
     ]
    },
    {
     "name": "stderr",
     "output_type": "stream",
     "text": [
      "/home/bigdive/anaconda2/lib/python2.7/site-packages/ipykernel/__main__.py:3: DeprecationWarning: update is deprecated. Use replace_one, update_one or update_many instead.\n",
      "  app.launch_new_instance()\n"
     ]
    },
    {
     "data": {
      "text/plain": [
       "{u'_id': ObjectId('581de5ede14afe2d8d6186a2'),\n",
       " u'ages': None,\n",
       " u'birthdate': u'4',\n",
       " u'name': u'Frank',\n",
       " u'phone': u'1'}"
      ]
     },
     "execution_count": 23,
     "metadata": {},
     "output_type": "execute_result"
    }
   ],
   "source": [
    "person = db.bigdive.find_one({\"name\":\"Frank\"})\n",
    "print person\n",
    "db.bigdive.update({\"_id\": person['_id']},{\"$set\":{\"ages\": None}})\n",
    "db.bigdive.find_one({\"name\":\"Frank\"})"
   ]
  },
  {
   "cell_type": "markdown",
   "metadata": {},
   "source": [
    "Indexing\n",
    "----------\n",
    "\n",
    "Indexing is actually the most important part of MongoDB.\n",
    "\n",
    "MongoDB has great support for indexing, and it supports single key, multi key, compound and hashed indexes. Each index type has its specific use case and can be used both for querying and sorting.\n",
    "\n",
    " * Single Key -> Those are plain indexes on a field\n",
    " * Multi Key -> Those are indexes created on an array field\n",
    " * Compound -> Those are indexes that cover more than one field.\n",
    " * Hashed -> Those are indexes optimized for equality comparison, they actually store the hash of the indexed value and are usually used for sharding.\n",
    " \n",
    "In case of compound indexes they can also be used when only a part of the query filter is present into the index, there is also a special case of indexes called *covering indexes* which happen when the fields you are asking for are all available into the index. In that case MongoDB won't even access the collection and will directly serve you the data from the index. An index cannot be both a multi key index and a covering index.\n",
    "\n",
    "Indexes are also ordered, so they can be created *ASCENDING* or *DESCENDING*.\n",
    "\n",
    "Creating indexes can be done using the ``ensure_index`` method"
   ]
  },
  {
   "cell_type": "code",
   "execution_count": 24,
   "metadata": {
    "collapsed": false
   },
   "outputs": [
    {
     "name": "stderr",
     "output_type": "stream",
     "text": [
      "/home/bigdive/anaconda2/lib/python2.7/site-packages/ipykernel/__main__.py:1: DeprecationWarning: ensure_index is deprecated. Use create_index instead.\n",
      "  if __name__ == '__main__':\n"
     ]
    },
    {
     "data": {
      "text/plain": [
       "u'tags_1'"
      ]
     },
     "execution_count": 24,
     "metadata": {},
     "output_type": "execute_result"
    }
   ],
   "source": [
    "db.blog.ensure_index([('tags', 1)])"
   ]
  },
  {
   "cell_type": "markdown",
   "metadata": {},
   "source": [
    "Checking which index MongoDB is using to perform a query can be done using the ``explain`` method, forcing an index into a query can be done using the ``hint`` method.\n",
    "\n",
    "As MongoDB uses a statistical optimizer, using ``hint`` in queries can actually provide a performance boost as it avoids the \"best option\" lookup cost of the optimizer. "
   ]
  },
  {
   "cell_type": "code",
   "execution_count": 25,
   "metadata": {
    "collapsed": false
   },
   "outputs": [
    {
     "data": {
      "text/plain": [
       "{u'inputStage': {u'direction': u'forward',\n",
       "  u'indexBounds': {u'tags': [u'[\"mongodb\", \"mongodb\"]']},\n",
       "  u'indexName': u'tags_1',\n",
       "  u'indexVersion': 1,\n",
       "  u'isMultiKey': True,\n",
       "  u'isPartial': False,\n",
       "  u'isSparse': False,\n",
       "  u'isUnique': False,\n",
       "  u'keyPattern': {u'tags': 1},\n",
       "  u'stage': u'IXSCAN'},\n",
       " u'stage': u'FETCH'}"
      ]
     },
     "execution_count": 25,
     "metadata": {},
     "output_type": "execute_result"
    }
   ],
   "source": [
    "db.blog.find({'tags': 'mongodb'}).explain()['queryPlanner']['winningPlan']"
   ]
  },
  {
   "cell_type": "code",
   "execution_count": 26,
   "metadata": {
    "collapsed": false
   },
   "outputs": [
    {
     "data": {
      "text/plain": [
       "{u'filter': {u'tags': {u'$eq': u'mongodb'}},\n",
       " u'inputStage': {u'direction': u'forward',\n",
       "  u'indexBounds': {u'_id': [u'[MinKey, MaxKey]']},\n",
       "  u'indexName': u'_id_',\n",
       "  u'indexVersion': 1,\n",
       "  u'isMultiKey': False,\n",
       "  u'isPartial': False,\n",
       "  u'isSparse': False,\n",
       "  u'isUnique': True,\n",
       "  u'keyPattern': {u'_id': 1},\n",
       "  u'stage': u'IXSCAN'},\n",
       " u'stage': u'FETCH'}"
      ]
     },
     "execution_count": 26,
     "metadata": {},
     "output_type": "execute_result"
    }
   ],
   "source": [
    "db.blog.find({'tags': 'mongodb'}).hint([('_id', 1)]).explain()['queryPlanner']['winningPlan']"
   ]
  },
  {
   "cell_type": "code",
   "execution_count": 27,
   "metadata": {
    "collapsed": false
   },
   "outputs": [
    {
     "data": {
      "text/plain": [
       "{u'direction': u'forward',\n",
       " u'filter': {u'title': {u'$eq': u'Post 1'}},\n",
       " u'stage': u'COLLSCAN'}"
      ]
     },
     "execution_count": 27,
     "metadata": {},
     "output_type": "execute_result"
    }
   ],
   "source": [
    "db.blog.find({'title': 'Post 1'}).explain()['queryPlanner']['winningPlan']"
   ]
  },
  {
   "cell_type": "code",
   "execution_count": 28,
   "metadata": {
    "collapsed": false
   },
   "outputs": [
    {
     "name": "stderr",
     "output_type": "stream",
     "text": [
      "/home/bigdive/anaconda2/lib/python2.7/site-packages/ipykernel/__main__.py:1: DeprecationWarning: ensure_index is deprecated. Use create_index instead.\n",
      "  if __name__ == '__main__':\n"
     ]
    },
    {
     "data": {
      "text/plain": [
       "{u'inputStage': {u'direction': u'forward',\n",
       "  u'indexBounds': {u'author.name': [u'[\"Alex\", \"Alex\"]'],\n",
       "   u'title': [u'[MinKey, MaxKey]']},\n",
       "  u'indexName': u'author.name_1_title_1',\n",
       "  u'indexVersion': 1,\n",
       "  u'isMultiKey': False,\n",
       "  u'isPartial': False,\n",
       "  u'isSparse': False,\n",
       "  u'isUnique': False,\n",
       "  u'keyPattern': {u'author.name': 1, u'title': 1},\n",
       "  u'stage': u'IXSCAN'},\n",
       " u'stage': u'PROJECTION',\n",
       " u'transformBy': {u'_id': False, u'title': True}}"
      ]
     },
     "execution_count": 28,
     "metadata": {},
     "output_type": "execute_result"
    }
   ],
   "source": [
    "db.blog.ensure_index([('author.name', 1), ('title', 1)])\n",
    "db.blog.find({'author.name': 'Alex'}, {'title': True, '_id': False}).explain()['queryPlanner']['winningPlan']"
   ]
  },
  {
   "cell_type": "code",
   "execution_count": null,
   "metadata": {
    "collapsed": true
   },
   "outputs": [],
   "source": []
  },
  {
   "cell_type": "markdown",
   "metadata": {},
   "source": [
    "# Import Atleti DB\n",
    "\n",
    "Here you can find a simple mongo Connector used to fill a db \"olimpiadi\" with a collection named \"atleti\" that contains all the atlethes from the CSV source file.\n",
    "\n",
    "To run this script you can simply run from a terminal: \n",
    "    \n",
    "    python import_athletes.py athletes_sochi.csv"
   ]
  },
  {
   "cell_type": "code",
   "execution_count": null,
   "metadata": {
    "collapsed": false
   },
   "outputs": [],
   "source": [
    "from pymongo import MongoClient\n",
    "client = MongoClient('mongodb://localhost:27017/')\n",
    "\n",
    "db = client.olimpiadi\n",
    "\n",
    "# DATA FORMAT\n",
    "# age,birthdate,gender,height,name,weight,\n",
    "# gold_medals,silver_medals,bronze_medals,\n",
    "# total_medals,sport,country\n",
    "\n",
    "with open('athletes_sochi.csv', 'r') as file:\n",
    "    for line in file.readlines():\n",
    "        splitted = line.split(',')\n",
    "        if splitted[0] != 'age':\n",
    "            data = {'age':splitted[0],\n",
    "                'birthdate':splitted[1],\n",
    "                'gender':splitted[2],\n",
    "                'height':splitted[3],\n",
    "                'name':splitted[4],\n",
    "                'weight':splitted[5],\n",
    "                'gold_medals':int(splitted[6]),\n",
    "                'silver_medals':int(splitted[7]),\n",
    "                'bronze_medals':int(splitted[8]),\n",
    "                'total_medals':int(splitted[9]),\n",
    "                'sport':splitted[10],\n",
    "                'country':splitted[11][:-2]}\n",
    "            db.atleti.insert(data)\n"
   ]
  },
  {
   "cell_type": "code",
   "execution_count": 29,
   "metadata": {
    "collapsed": false
   },
   "outputs": [
    {
     "name": "stdout",
     "output_type": "stream",
     "text": [
      "{u'name': u'Aaron March'}\n",
      "{u'name': u'Alessandro Pittin'}\n",
      "{u'name': u'Alexia Runggaldier'}\n",
      "{u'name': u'Andrea Giovannini'}\n",
      "{u'name': u'Andrea Voetter'}\n",
      "{u'name': u'Anna Cappellini'}\n",
      "{u'name': u'Anthony Lobello'}\n",
      "{u'name': u'Arianna Fontana'}\n",
      "{u'name': u'Armin Bauer'}\n",
      "{u'name': u'Armin Zoeggeler'}\n",
      "{u'name': u'Carolina Kostner'}\n",
      "{u'name': u'Cecilia Maffei'}\n",
      "{u'name': u'Charlene Guignard'}\n",
      "{u'name': u'Chiara Costazza'}\n",
      "{u'name': u'Christian De Lorenzi'}\n",
      "{u'name': u'Christian Oberstolz'}\n",
      "{u'name': u'Christof Innerhofer'}\n",
      "{u'name': u'Christoph Mick'}\n",
      "{u'name': u'Corinna Boccacini'}\n",
      "{u'name': u'Daniel Taschler'}\n",
      "{u'name': u'Daniela Merighetti'}\n",
      "{u'name': u'David Bosa'}\n",
      "{u'name': u'David Hofer'}\n",
      "{u'name': u'Davide Bresadola'}\n",
      "{u'name': u'Davide Simoncelli'}\n",
      "{u'name': u'Davide Viscardi'}\n",
      "{u'name': u'Debora Agreiter'}\n",
      "{u'name': u'Deborah Scanzio'}\n",
      "{u'name': u'Denise Karbon'}\n",
      "{u'name': u'Dietmar Noeckler'}\n",
      "{u'name': u'Dominik Paris'}\n",
      "{u'name': u'Dominik Fischnaller'}\n",
      "{u'name': u'Dominik Windisch'}\n",
      "{u'name': u'Dorothea Wierer'}\n",
      "{u'name': u'Elena Fanchini'}\n",
      "{u'name': u'Elena Runggaldier'}\n",
      "{u'name': u'Elena Viviani'}\n",
      "{u'name': u'Elisa Brocard'}\n",
      "{u'name': u'Emanuel Rieder'}\n",
      "{u'name': u'Emanuel Perathoner'}\n",
      "{u'name': u'Enrico Nizzi'}\n",
      "{u'name': u'Evelyn Insam'}\n",
      "{u'name': u'Fabio Pasini'}\n",
      "{u'name': u'Federica Brignone'}\n",
      "{u'name': u'Federico Pellegrino'}\n",
      "{u'name': u'Francesca Lollobrigida'}\n",
      "{u'name': u'Francesco Costa'}\n",
      "{u'name': u'Francesca Marsaglia'}\n",
      "{u'name': u'Francesco De Fabiani'}\n",
      "{u'name': u'Gaia Vuerich'}\n",
      "{u'name': u'Giacomo Matiz'}\n",
      "{u'name': u'Giorgio Di Centa'}\n",
      "{u'name': u'Giuseppe Michielli'}\n",
      "{u'name': u'Giuliano Razzoli'}\n",
      "{u'name': u'Greta Laurent'}\n",
      "{u'name': u'Ilaria Debertolis'}\n",
      "{u'name': u'Karin Oberhofer'}\n",
      "{u'name': u'Luca De Aliprandini'}\n",
      "{u'name': u'Luca Lanotte'}\n",
      "{u'name': u'Luca Matteotti'}\n",
      "{u'name': u'Lucia Peretti'}\n",
      "{u'name': u'Ludwig Rieder'}\n",
      "{u'name': u'Lukas Hofer'}\n",
      "{u'name': u'Lukas Runggaldier'}\n",
      "{u'name': u'Manfred Moelgg'}\n",
      "{u'name': u'Marco Fabbri'}\n",
      "{u'name': u'Marina Piller'}\n",
      "{u'name': u'Markus Eder'}\n",
      "{u'name': u'Markus Windisch'}\n",
      "{u'name': u'Martina Valcepina'}\n",
      "{u'name': u'Matteo Anesi'}\n",
      "{u'name': u'Matteo Guarise'}\n",
      "{u'name': u'Mattia Pellegrin'}\n",
      "{u'name': u'Maurizio Oioli'}\n",
      "{u'name': u'Meinhard Erlacher'}\n",
      "{u'name': u'Michela Moioli'}\n",
      "{u'name': u'Michela Ponza'}\n",
      "{u'name': u'Mirko Nenzi'}\n",
      "{u'name': u'Nadia Fanchini'}\n",
      "{u'name': u'Nadya Ochner'}\n",
      "{u'name': u'Nicola Rodigari'}\n",
      "{u'name': u'Nicole Della Monica'}\n",
      "{u'name': u'Nicole Gontier'}\n",
      "{u'name': u'Omar Visintin'}\n",
      "{u'name': u'Ondrej Hotarek'}\n",
      "{u'name': u'Patrick Gruber'}\n",
      "{u'name': u'Patrick Rastner'}\n",
      "{u'name': u'Patrick Thaler'}\n",
      "{u'name': u'Paul Bonifacio Parkinson'}\n",
      "{u'name': u'Peter Fill'}\n",
      "{u'name': u'Raffaella Brutto'}\n",
      "{u'name': u'Roberto Dellasega'}\n",
      "{u'name': u'Roberto Nani'}\n",
      "{u'name': u'Roland Clara'}\n",
      "{u'name': u'Roland Fischnaller'}\n",
      "{u'name': u'Samuel Costa'}\n",
      "{u'name': u'Sandra Gasparini'}\n",
      "{u'name': u'Sandra Robatscher'}\n",
      "{u'name': u'Sebastian Colloredo'}\n",
      "{u'name': u'Silvia Bertagna'}\n",
      "{u'name': u'Simone Bertazzo'}\n",
      "{u'name': u'Simone Fontana'}\n",
      "{u'name': u'Stefania Berton'}\n",
      "{u'name': u'Stefano Gross'}\n",
      "{u'name': u'Tommaso Dotti'}\n",
      "{u'name': u'Tommaso Leoni'}\n",
      "{u'name': u'Valentina Marchei'}\n",
      "{u'name': u'Verena Stuffer'}\n",
      "{u'name': u'Virginia De Martin Topranin'}\n",
      "{u'name': u'William Frullani'}\n",
      "{u'name': u'Werner Heel'}\n",
      "{u'name': u'Yuri Confortola'}\n",
      "{u'name': u'Yvonne Daldossi'}\n",
      "{u'name': u'Aaron March'}\n",
      "{u'name': u'Alessandro Pittin'}\n",
      "{u'name': u'Alexia Runggaldier'}\n",
      "{u'name': u'Andrea Giovannini'}\n",
      "{u'name': u'Andrea Voetter'}\n",
      "{u'name': u'Anna Cappellini'}\n",
      "{u'name': u'Anthony Lobello'}\n",
      "{u'name': u'Arianna Fontana'}\n",
      "{u'name': u'Armin Bauer'}\n",
      "{u'name': u'Armin Zoeggeler'}\n",
      "{u'name': u'Carolina Kostner'}\n",
      "{u'name': u'Cecilia Maffei'}\n",
      "{u'name': u'Charlene Guignard'}\n",
      "{u'name': u'Chiara Costazza'}\n",
      "{u'name': u'Christian De Lorenzi'}\n",
      "{u'name': u'Christian Oberstolz'}\n",
      "{u'name': u'Christof Innerhofer'}\n",
      "{u'name': u'Christoph Mick'}\n",
      "{u'name': u'Corinna Boccacini'}\n",
      "{u'name': u'Daniel Taschler'}\n",
      "{u'name': u'Daniela Merighetti'}\n",
      "{u'name': u'David Bosa'}\n",
      "{u'name': u'David Hofer'}\n",
      "{u'name': u'Davide Bresadola'}\n",
      "{u'name': u'Davide Simoncelli'}\n",
      "{u'name': u'Davide Viscardi'}\n",
      "{u'name': u'Debora Agreiter'}\n",
      "{u'name': u'Deborah Scanzio'}\n",
      "{u'name': u'Denise Karbon'}\n",
      "{u'name': u'Dietmar Noeckler'}\n",
      "{u'name': u'Dominik Fischnaller'}\n",
      "{u'name': u'Dominik Paris'}\n",
      "{u'name': u'Dominik Windisch'}\n",
      "{u'name': u'Dorothea Wierer'}\n",
      "{u'name': u'Elena Fanchini'}\n",
      "{u'name': u'Elena Runggaldier'}\n",
      "{u'name': u'Elena Viviani'}\n",
      "{u'name': u'Elisa Brocard'}\n",
      "{u'name': u'Emanuel Perathoner'}\n",
      "{u'name': u'Emanuel Rieder'}\n",
      "{u'name': u'Enrico Nizzi'}\n",
      "{u'name': u'Evelyn Insam'}\n",
      "{u'name': u'Fabio Pasini'}\n",
      "{u'name': u'Federica Brignone'}\n",
      "{u'name': u'Federico Pellegrino'}\n",
      "{u'name': u'Francesca Lollobrigida'}\n",
      "{u'name': u'Francesca Marsaglia'}\n",
      "{u'name': u'Francesco Costa'}\n",
      "{u'name': u'Francesco De Fabiani'}\n",
      "{u'name': u'Gaia Vuerich'}\n",
      "{u'name': u'Giacomo Matiz'}\n",
      "{u'name': u'Giorgio Di Centa'}\n",
      "{u'name': u'Giuliano Razzoli'}\n",
      "{u'name': u'Giuseppe Michielli'}\n",
      "{u'name': u'Greta Laurent'}\n",
      "{u'name': u'Ilaria Debertolis'}\n",
      "{u'name': u'Karin Oberhofer'}\n",
      "{u'name': u'Luca De Aliprandini'}\n",
      "{u'name': u'Luca Lanotte'}\n",
      "{u'name': u'Luca Matteotti'}\n",
      "{u'name': u'Lucia Peretti'}\n",
      "{u'name': u'Ludwig Rieder'}\n",
      "{u'name': u'Lukas Hofer'}\n",
      "{u'name': u'Lukas Runggaldier'}\n",
      "{u'name': u'Manfred Moelgg'}\n",
      "{u'name': u'Marco Fabbri'}\n",
      "{u'name': u'Marina Piller'}\n",
      "{u'name': u'Markus Eder'}\n",
      "{u'name': u'Markus Windisch'}\n",
      "{u'name': u'Martina Valcepina'}\n",
      "{u'name': u'Matteo Anesi'}\n",
      "{u'name': u'Matteo Guarise'}\n",
      "{u'name': u'Mattia Pellegrin'}\n",
      "{u'name': u'Maurizio Oioli'}\n",
      "{u'name': u'Meinhard Erlacher'}\n",
      "{u'name': u'Michela Moioli'}\n",
      "{u'name': u'Michela Ponza'}\n",
      "{u'name': u'Mirko Nenzi'}\n",
      "{u'name': u'Nadia Fanchini'}\n",
      "{u'name': u'Nadya Ochner'}\n",
      "{u'name': u'Nicola Rodigari'}\n",
      "{u'name': u'Nicole Della Monica'}\n",
      "{u'name': u'Nicole Gontier'}\n",
      "{u'name': u'Omar Visintin'}\n",
      "{u'name': u'Ondrej Hotarek'}\n",
      "{u'name': u'Patrick Gruber'}\n",
      "{u'name': u'Patrick Rastner'}\n",
      "{u'name': u'Patrick Thaler'}\n",
      "{u'name': u'Paul Bonifacio Parkinson'}\n",
      "{u'name': u'Peter Fill'}\n",
      "{u'name': u'Raffaella Brutto'}\n",
      "{u'name': u'Roberto Dellasega'}\n",
      "{u'name': u'Roberto Nani'}\n",
      "{u'name': u'Roland Clara'}\n",
      "{u'name': u'Roland Fischnaller'}\n",
      "{u'name': u'Samuel Costa'}\n",
      "{u'name': u'Sandra Gasparini'}\n",
      "{u'name': u'Sandra Robatscher'}\n",
      "{u'name': u'Sebastian Colloredo'}\n",
      "{u'name': u'Silvia Bertagna'}\n",
      "{u'name': u'Simone Bertazzo'}\n",
      "{u'name': u'Simone Fontana'}\n",
      "{u'name': u'Stefania Berton'}\n",
      "{u'name': u'Stefano Gross'}\n",
      "{u'name': u'Tommaso Dotti'}\n",
      "{u'name': u'Tommaso Leoni'}\n",
      "{u'name': u'Valentina Marchei'}\n",
      "{u'name': u'Verena Stuffer'}\n",
      "{u'name': u'Virginia De Martin Topranin'}\n",
      "{u'name': u'Werner Heel'}\n",
      "{u'name': u'William Frullani'}\n",
      "{u'name': u'Yuri Confortola'}\n",
      "{u'name': u'Yvonne Daldossi'}\n"
     ]
    }
   ],
   "source": [
    "db = client.olimpiadi\n",
    "for result in db.atleti.find({\"country\": \"Italy\"},{\"name\": 1, \"_id\":0}):\n",
    "    print result\n",
    "    "
   ]
  },
  {
   "cell_type": "markdown",
   "metadata": {},
   "source": [
    "## Mongo IMPORT / EXPORT\n",
    "\n",
    "Instead to use the python script we can also use **MONGOIMPORT** provided by MongoDB itself:\n",
    "\n",
    "    mongoimport --db olimpiadi --collection atleti --file atleti.json\n",
    "\n",
    "To export the entire collection we can use **MONGOEXPORT**:\n",
    "\n",
    "    mongoexport --db olimpiadi --collection atleti --out atleti.json\n",
    "    \n",
    "Short version of *mongoexport*:\n",
    "    \n",
    "    mongoexport -d olimpiadi -c atleti -o atleti.json"
   ]
  },
  {
   "cell_type": "markdown",
   "metadata": {},
   "source": [
    "Aggregation Pipeline\n",
    "----------------------\n",
    "\n",
    "The aggreation pipeline provided by the aggreation framework is a powerful feature in MongoDB that permits to perform complex data analysis by passing the documents through a pipeline of operations.\n",
    "\n",
    "MongoDB was created with the cover philosophy that you are going to store your documents depending on the way you are going to read them. So to properly design your schema you need to know how you are going to use the documents. While this approach provides great performance benefits and is more concrete in case of web application, it might not always be feasible.\n",
    "\n",
    "In case you need to perform some kind of analysis your documents are not optimized for, you can rely on the aggreation framework to create a pipeline that transforms them in a way more practical for the kind of analysis you need.\n",
    "\n",
    "### How it works\n",
    "\n",
    "The aggregation pipeline is a list of operations that gets executed one after the other on the documents of the collections. The first operation will be performed on all the documents, while successive operations are performed on the result of the previous steps.\n",
    "\n",
    "If steps are able to take advantage of **indexes** they will, that is the case for a **match** or **sort** operator, if it appears at the begin of the pipeline. All operators start with a <span><strong>$</strong></span> sign\n",
    "\n",
    "### Stage Operators\n",
    "\n",
    "\n",
    "* **project**\tReshapes each document in the stream, such as by adding new fields or removing existing fields. For each input document, outputs one document.\n",
    "* **match**\tFilters the document stream to allow only matching documents to pass unmodified into the next pipeline stage. **match** uses standard MongoDB queries. For each input document, outputs either one document (a match) or zero documents (no match).\n",
    "* **limit**\tPasses the first n documents unmodified to the pipeline where n is the specified limit. For each input document, outputs either one document (for the first n documents) or zero documents (after the first n documents).\n",
    "* **skip**\tSkips the first n documents where n is the specified skip number and passes the remaining documents unmodified to the pipeline. For each input document, outputs either zero documents (for the first n documents) or one document (if after the first n documents).\n",
    "* **unwind**\tDeconstructs an array field from the input documents to output a document for each element. Each output document replaces the array with an element value. For each input document, outputs n documents where n is the number of array elements and can be zero for an empty array.\n",
    "* **group**\tGroups input documents by a specified identifier expression and applies the accumulator expression(s), if specified, to each group. Consumes all input documents and outputs one document per each distinct group. The output documents only contain the identifier field and, if specified, accumulated fields.\n",
    "* **sort**\tReorders the document stream by a specified sort key. Only the order changes; the documents remain unmodified. For each input document, outputs one document.\n",
    "* **geoNear**\tReturns an ordered stream of documents based on the proximity to a geospatial point. Incorporates the functionality of **match**, **sort**, and **limit** for geospatial data. The output documents include an additional distance field and can include a location identifier field.\n",
    "* **out**\tWrites the resulting documents of the aggregation pipeline to a collection. To use the $out stage, it must be the last stage in the pipeline.\n",
    "\n",
    "#### Expression Operators\n",
    "\n",
    "Each stage operator can work with one or more **expression operator** which allow to perform actions during that stage, for a list of expression operators see http://docs.mongodb.org/manual/reference/operator/aggregation/#expression-operators\n",
    "\n",
    "\n"
   ]
  },
  {
   "cell_type": "markdown",
   "metadata": {},
   "source": [
    "## Pipeline Examples"
   ]
  },
  {
   "cell_type": "code",
   "execution_count": 30,
   "metadata": {
    "collapsed": false
   },
   "outputs": [
    {
     "name": "stdout",
     "output_type": "stream",
     "text": [
      "678\n",
      "\n",
      "-----\n",
      "\n",
      "{u'count': 678, u'_id': u'count'}\n",
      "\n",
      "-----\n",
      "\n",
      "[{u'_id': u'Latvia', u'medals': 21}, {u'_id': u'Korea', u'medals': 24}, {u'_id': u'Switzerland', u'medals': 27}, {u'_id': u'Italy', u'medals': 27}, {u'_id': u'Japan', u'medals': 27}, {u'_id': u'France', u'medals': 33}, {u'_id': u'Austria', u'medals': 39}, {u'_id': u'Sweden', u'medals': 45}, {u'_id': u'Norway', u'medals': 54}, {u'_id': u'Netherlands', u'medals': 60}, {u'_id': u'Germany', u'medals': 78}, {u'_id': u'United States', u'medals': 84}, {u'_id': u'Canada', u'medals': 84}, {u'_id': u'Russian Fed.', u'medals': 114}]\n",
      "\n",
      "-----\n",
      "\n",
      "{u'_id': u'Poland', u'medals': 12}\n",
      "{u'_id': u'Finland', u'medals': 15}\n",
      "{u'_id': u'China', u'medals': 18}\n",
      "{u'_id': u'Czech Republic', u'medals': 18}\n",
      "{u'_id': u'Slovenia', u'medals': 18}\n",
      "{u'_id': u'Belarus', u'medals': 18}\n",
      "{u'_id': u'Latvia', u'medals': 21}\n",
      "{u'_id': u'Korea', u'medals': 24}\n",
      "{u'_id': u'Switzerland', u'medals': 27}\n",
      "{u'_id': u'Italy', u'medals': 27}\n",
      "{u'_id': u'Japan', u'medals': 27}\n",
      "{u'_id': u'France', u'medals': 33}\n",
      "{u'_id': u'Austria', u'medals': 39}\n",
      "{u'_id': u'Sweden', u'medals': 45}\n",
      "{u'_id': u'Norway', u'medals': 54}\n",
      "{u'_id': u'Netherlands', u'medals': 60}\n",
      "{u'_id': u'Germany', u'medals': 78}\n",
      "{u'_id': u'United States', u'medals': 84}\n",
      "{u'_id': u'Canada', u'medals': 84}\n",
      "{u'_id': u'Russian Fed.', u'medals': 114}\n"
     ]
    }
   ],
   "source": [
    "db = client.olimpiadi\n",
    "\n",
    "db.atleti.aggregate([\n",
    "        {'$match': {'country': {'$in':['Italy', 'France']}}}\n",
    "    ])\n",
    "\n",
    "# How many people from Italy and France?\n",
    "print len(list(db.atleti.aggregate([\n",
    "                {'$match': {'country': {'$in':['Italy', 'France']}}}\n",
    "            ])))\n",
    "\n",
    "print \"\\n-----\\n\"\n",
    "\n",
    "# Count them using only the pipeline \n",
    "print db.atleti.aggregate([\n",
    "        {'$match': {'country': {'$in':['Italy', 'France']}}},\n",
    "        {'$group': {'_id': 'count', 'count': {'$sum': 1}}}\n",
    "    ]).next()\n",
    "\n",
    "print \"\\n-----\\n\"\n",
    "\n",
    "# Count country with at least 20 medals\n",
    "print list(db.atleti.aggregate([\n",
    "        {'$project': {'country': 1, 'total_medals': 1, '_id': 0}},\n",
    "        {'$group': {'_id': '$country', 'medals': {'$sum': '$total_medals'}}},\n",
    "        {'$match': {'medals': {'$gt': 20}}},\n",
    "        {'$sort': {'medals': 1}}\n",
    "    ]))\n",
    "\n",
    "\n",
    "print \"\\n-----\\n\"\n",
    "\n",
    "# The same as before\n",
    "country_with_more_than_ten_medals = db.atleti.aggregate([\n",
    "        {'$project': {'country': 1, 'total_medals': 1, '_id': 0}},\n",
    "        {'$group': {'_id': '$country', 'medals': {'$sum': '$total_medals'}}},\n",
    "        {'$match': {'medals': {'$gt': 10}}},\n",
    "        {'$sort': {'medals': 1}}\n",
    "    ])\n",
    "for entry in country_with_more_than_ten_medals:\n",
    "    print entry\n",
    "\n"
   ]
  },
  {
   "cell_type": "markdown",
   "metadata": {},
   "source": [
    "MapReduce\n",
    "----------\n",
    "\n",
    "MongoDB is powered by the V8 javascript engine, this means that each mongod node is able to run javascript code.\n",
    "With an high enough number of mongod nodes, you actually end up with a powerful execution environment for distributed code that also copes with the major problem of data locality.\n",
    "\n",
    "For this reason MongoDB exposes a **mapreduce** function which can be leveraged in shareded environments to run map reduce jobs.\n",
    "Note that the Aggregation Pipeline is usually faster than the mapReduce feature, and it scales with the number of nodes as mapReduce, so you should rely on MapReduce only when the algorithm cannot be efficiently expressed with the Aggregation Pipeline."
   ]
  },
  {
   "cell_type": "code",
   "execution_count": 31,
   "metadata": {
    "collapsed": false
   },
   "outputs": [
    {
     "name": "stdout",
     "output_type": "stream",
     "text": [
      "{u'_id': u'Croatia', u'value': 3.0}\n",
      "{u'_id': u'Kazakhstan', u'value': 3.0}\n",
      "{u'_id': u'Slovakia', u'value': 3.0}\n",
      "{u'_id': u'Ukraine', u'value': 3.0}\n",
      "{u'_id': u'Great Britain', u'value': 6.0}\n",
      "{u'_id': u'Australia', u'value': 9.0}\n",
      "{u'_id': u'Poland', u'value': 12.0}\n",
      "{u'_id': u'Finland', u'value': 15.0}\n",
      "{u'_id': u'Belarus', u'value': 18.0}\n",
      "{u'_id': u'China', u'value': 18.0}\n",
      "{u'_id': u'Czech Republic', u'value': 18.0}\n",
      "{u'_id': u'Slovenia', u'value': 18.0}\n",
      "{u'_id': u'Latvia', u'value': 21.0}\n",
      "{u'_id': u'Korea', u'value': 24.0}\n",
      "{u'_id': u'Italy', u'value': 27.0}\n",
      "{u'_id': u'Japan', u'value': 27.0}\n",
      "{u'_id': u'Switzerland', u'value': 27.0}\n",
      "{u'_id': u'France', u'value': 33.0}\n",
      "{u'_id': u'Austria', u'value': 39.0}\n",
      "{u'_id': u'Sweden', u'value': 45.0}\n",
      "{u'_id': u'Norway', u'value': 54.0}\n",
      "{u'_id': u'Netherlands', u'value': 60.0}\n",
      "{u'_id': u'Germany', u'value': 78.0}\n",
      "{u'_id': u'Canada', u'value': 84.0}\n",
      "{u'_id': u'United States', u'value': 84.0}\n",
      "{u'_id': u'Russian Fed.', u'value': 114.0}\n"
     ]
    }
   ],
   "source": [
    "db.atleti.map_reduce(map='''function(){\n",
    "            var country = this.country;\n",
    "            var medals = parseInt(this.total_medals);\n",
    "            emit(country, medals);\n",
    "        }''', reduce='''function(key, values){\n",
    "            return Array.sum(values)\n",
    "        }''',out='medalsfrequency')\n",
    "\n",
    "for entry in db.medalsfrequency.find().sort('value'):\n",
    "    if entry['value'] > 0:\n",
    "        print entry"
   ]
  },
  {
   "cell_type": "markdown",
   "metadata": {},
   "source": [
    "## Esercizio 1\n",
    "\n",
    "Utilizzando il dataset, calcolare per ogni età il numero di atleti.\n",
    "\n",
    "## Esercizio 2\n",
    "\n",
    "Partendo dall'esercizio precedente, restituire come output l'eta' con il numero maggiore di occorrenze.\n",
    "\n",
    "## Esercizio 3\n",
    "\n",
    "Calcolare il numero di uomini e donne per ogni eta'.\n"
   ]
  },
  {
   "cell_type": "code",
   "execution_count": 32,
   "metadata": {
    "collapsed": false
   },
   "outputs": [
    {
     "name": "stdout",
     "output_type": "stream",
     "text": [
      "{u'_id': u'15', u'value': 27.0}\n",
      "{u'_id': u'16', u'value': 54.0}\n",
      "{u'_id': u'17', u'value': 117.0}\n",
      "{u'_id': u'18', u'value': 255.0}\n",
      "{u'_id': u'19', u'value': 300.0}\n",
      "{u'_id': u'20', u'value': 381.0}\n",
      "{u'_id': u'21', u'value': 543.0}\n",
      "{u'_id': u'22', u'value': 660.0}\n",
      "{u'_id': u'23', u'value': 687.0}\n",
      "{u'_id': u'24', u'value': 702.0}\n",
      "{u'_id': u'25', u'value': 633.0}\n",
      "{u'_id': u'26', u'value': 675.0}\n",
      "{u'_id': u'27', u'value': 621.0}\n",
      "{u'_id': u'28', u'value': 597.0}\n",
      "{u'_id': u'29', u'value': 495.0}\n",
      "{u'_id': u'30', u'value': 405.0}\n",
      "{u'_id': u'31', u'value': 330.0}\n",
      "{u'_id': u'32', u'value': 249.0}\n",
      "{u'_id': u'33', u'value': 219.0}\n",
      "{u'_id': u'34', u'value': 138.0}\n",
      "{u'_id': u'35', u'value': 156.0}\n",
      "{u'_id': u'36', u'value': 96.0}\n",
      "{u'_id': u'37', u'value': 51.0}\n",
      "{u'_id': u'38', u'value': 39.0}\n",
      "{u'_id': u'39', u'value': 39.0}\n",
      "{u'_id': u'40', u'value': 24.0}\n",
      "{u'_id': u'41', u'value': 30.0}\n",
      "{u'_id': u'42', u'value': 15.0}\n",
      "{u'_id': u'43', u'value': 9.0}\n",
      "{u'_id': u'44', u'value': 12.0}\n",
      "{u'_id': u'45', u'value': 3.0}\n",
      "{u'_id': u'46', u'value': 3.0}\n",
      "{u'_id': u'47', u'value': 3.0}\n",
      "{u'_id': u'48', u'value': 6.0}\n",
      "{u'_id': u'55', u'value': 3.0}\n"
     ]
    }
   ],
   "source": [
    "# Esercizio 1\n",
    "\n",
    "db.atleti.map_reduce(map='''function(){\n",
    "            emit(this.age, 1);\n",
    "        }''', reduce='''function(key, values){\n",
    "            return Array.sum(values)\n",
    "        }''',out='agefrequency')\n",
    "\n",
    "for entry in db.agefrequency.find().sort('id'):\n",
    "    print entry"
   ]
  },
  {
   "cell_type": "code",
   "execution_count": 33,
   "metadata": {
    "collapsed": false
   },
   "outputs": [
    {
     "data": {
      "text/plain": [
       "{u'_id': u'24', u'value': 702.0}"
      ]
     },
     "execution_count": 33,
     "metadata": {},
     "output_type": "execute_result"
    }
   ],
   "source": [
    "# Esercizio 2\n",
    "\n",
    "db.atleti.map_reduce(map='''function(){\n",
    "            emit(this.age, 1);\n",
    "        }''', reduce='''function(key, values){\n",
    "            return Array.sum(values)\n",
    "        }''',out='agefrequency')\n",
    "\n",
    "max(db.agefrequency.find(), key=lambda x:x['value'])\n"
   ]
  },
  {
   "cell_type": "code",
   "execution_count": 34,
   "metadata": {
    "collapsed": false,
    "scrolled": false
   },
   "outputs": [
    {
     "name": "stdout",
     "output_type": "stream",
     "text": [
      "{u'_id': u'Female 15', u'value': 21.0}\n",
      "{u'_id': u'Female 16', u'value': 42.0}\n",
      "{u'_id': u'Female 17', u'value': 69.0}\n",
      "{u'_id': u'Female 18', u'value': 135.0}\n",
      "{u'_id': u'Female 19', u'value': 144.0}\n",
      "{u'_id': u'Female 20', u'value': 159.0}\n",
      "{u'_id': u'Female 21', u'value': 276.0}\n",
      "{u'_id': u'Female 22', u'value': 273.0}\n",
      "{u'_id': u'Female 23', u'value': 306.0}\n",
      "{u'_id': u'Female 24', u'value': 324.0}\n",
      "{u'_id': u'Female 25', u'value': 249.0}\n",
      "{u'_id': u'Female 26', u'value': 264.0}\n",
      "{u'_id': u'Female 27', u'value': 240.0}\n",
      "{u'_id': u'Female 28', u'value': 222.0}\n",
      "{u'_id': u'Female 29', u'value': 165.0}\n",
      "{u'_id': u'Female 30', u'value': 132.0}\n",
      "{u'_id': u'Female 31', u'value': 114.0}\n",
      "{u'_id': u'Female 32', u'value': 75.0}\n",
      "{u'_id': u'Female 33', u'value': 66.0}\n",
      "{u'_id': u'Female 34', u'value': 39.0}\n",
      "{u'_id': u'Female 35', u'value': 57.0}\n",
      "{u'_id': u'Female 36', u'value': 15.0}\n",
      "{u'_id': u'Female 37', u'value': 15.0}\n",
      "{u'_id': u'Female 38', u'value': 18.0}\n",
      "{u'_id': u'Female 39', u'value': 12.0}\n",
      "{u'_id': u'Female 40', u'value': 12.0}\n",
      "{u'_id': u'Female 41', u'value': 12.0}\n",
      "{u'_id': u'Male 16', u'value': 12.0}\n",
      "{u'_id': u'Male 17', u'value': 48.0}\n",
      "{u'_id': u'Male 18', u'value': 120.0}\n",
      "{u'_id': u'Male 19', u'value': 156.0}\n",
      "{u'_id': u'Male 20', u'value': 222.0}\n",
      "{u'_id': u'Male 21', u'value': 267.0}\n",
      "{u'_id': u'Male 22', u'value': 387.0}\n",
      "{u'_id': u'Male 23', u'value': 381.0}\n",
      "{u'_id': u'Male 24', u'value': 378.0}\n",
      "{u'_id': u'Male 25', u'value': 384.0}\n",
      "{u'_id': u'Male 26', u'value': 411.0}\n",
      "{u'_id': u'Male 27', u'value': 381.0}\n",
      "{u'_id': u'Male 28', u'value': 375.0}\n",
      "{u'_id': u'Male 29', u'value': 330.0}\n",
      "{u'_id': u'Male 30', u'value': 273.0}\n",
      "{u'_id': u'Male 31', u'value': 216.0}\n",
      "{u'_id': u'Male 32', u'value': 174.0}\n",
      "{u'_id': u'Male 33', u'value': 153.0}\n",
      "{u'_id': u'Male 34', u'value': 99.0}\n",
      "{u'_id': u'Male 35', u'value': 99.0}\n",
      "{u'_id': u'Male 36', u'value': 81.0}\n",
      "{u'_id': u'Male 37', u'value': 36.0}\n",
      "{u'_id': u'Male 38', u'value': 21.0}\n",
      "{u'_id': u'Male 39', u'value': 27.0}\n",
      "{u'_id': u'Male 40', u'value': 12.0}\n",
      "{u'_id': u'Male 41', u'value': 18.0}\n",
      "{u'_id': u'Male 42', u'value': 12.0}\n",
      "{u'_id': u'Male 44', u'value': 12.0}\n"
     ]
    }
   ],
   "source": [
    "# Esercizio 3\n",
    "\n",
    "db.atleti.map_reduce(map='''function(){\n",
    "            emit(this.gender + \" \" + this.age, 1);\n",
    "        }''', reduce='''function(key, values){\n",
    "            return Array.sum(values)\n",
    "        }''',out='genderfrequency')\n",
    "\n",
    "for entry in db.genderfrequency.find().sort('id'):\n",
    "    if entry['value'] > 10:\n",
    "        print entry"
   ]
  },
  {
   "cell_type": "code",
   "execution_count": null,
   "metadata": {
    "collapsed": false,
    "scrolled": false
   },
   "outputs": [],
   "source": []
  },
  {
   "cell_type": "code",
   "execution_count": null,
   "metadata": {
    "collapsed": true
   },
   "outputs": [],
   "source": []
  },
  {
   "cell_type": "markdown",
   "metadata": {
    "collapsed": true
   },
   "source": [
    "Scaling - Sharding\n",
    "====================\n",
    "\n",
    "Sharding, or horizontal scaling, divides the data set and distributes the data over multiple servers, or shards. Each shard is an independent database, and collectively, the shards make up a single logical database.\n",
    "\n",
    "**Chunk**\n",
    "The whole set of data is divided in Chunks, chunk are then distributed as equally as possible through all the nodes\n",
    "\n",
    "**Shard Key**\n",
    "The shard key is the *Document* property on which chunks are decided, the range of shard key possible values is divided in chunks and each chunk is assigned to a node. Document which near values for the shard key will end up being in the same chunk and so on the same node.\n",
    "\n",
    "**Shard**\n",
    "Each MongoDB node or ReplicaSet that contains part of the sharded data.\n",
    "\n",
    "**Router**\n",
    "The routers is the interface to the cluster, each query and operation will be performed against the router. The router is then in charge of forwarding the operation to one or multiple shards and gather the results.\n",
    "\n",
    "**Config Server**\n",
    "The config servers keep track of chunks distribution, they know which shard contains which chunk and which values are kept inside each chunk. Whenever the router has to perform an operation or split chunks that became too big it will read and write chunks distribution from the config servers.\n",
    "\n",
    "Setting Up a Sharder Cluster\n",
    "================================================\n",
    "\n",
    "To properly setup a shared environment I suggest you to check [THIS REPOSITORY](https://github.com/alexcomu/mongodb_howto). Is a collection of *How To* for:\n",
    "\n",
    "___01 - Install & Play with MongoDB___\n",
    "\n",
    "___02 - Replica Set tutorial___\n",
    "\n",
    "___03 - Arbiter configuration___\n",
    "\n",
    "___04 - Sharding___\n",
    "\n",
    "___05 - From Replica Set to Sharding - Tutorial___"
   ]
  },
  {
   "cell_type": "code",
   "execution_count": null,
   "metadata": {
    "collapsed": true
   },
   "outputs": [],
   "source": []
  },
  {
   "cell_type": "markdown",
   "metadata": {
    "collapsed": true
   },
   "source": [
    "## Map Reduce and MongoDB\n",
    "\n",
    "# Esercizio\n",
    "\n",
    "Utilizzare il dataset FakeFriends del capitolo 05 per creare uno script MapReduce che come output del processo vada a scrivere all'interno di MongoDB una entry per ogni riga del dataset. La entry dovrà contenere tutte le informazioni presenti all'interno del dataset."
   ]
  },
  {
   "cell_type": "code",
   "execution_count": null,
   "metadata": {
    "collapsed": true
   },
   "outputs": [],
   "source": [
    "# Map Reduce - File 1\n",
    "from mrjob.job import MRJob\n",
    "\n",
    "class MRExample(MRJob):\n",
    "\n",
    "    def mapper(self, key, value):\n",
    "        (userID, name, age, nFriends) = value.split(',')\n",
    "        yield userID, (name, age, nFriends)\n",
    "\n",
    "if __name__ == '__main__':\n",
    "    MRExample.run()"
   ]
  },
  {
   "cell_type": "code",
   "execution_count": null,
   "metadata": {
    "collapsed": true
   },
   "outputs": [],
   "source": [
    "from mrjob_example import MRExample\n",
    "from pymongo import MongoClient\n",
    "client = MongoClient('mongodb://localhost:27017/')\n",
    "db = client.mrjob_example\n",
    "\n",
    "\n",
    "mr_job = MRExample()\n",
    "mr_job.stdin = open('fakefriends.csv')\n",
    "\n",
    "print \"Starting...\"\n",
    "with mr_job.make_runner() as runner:\n",
    "    runner.run()\n",
    "    for line in runner.stream_output():\n",
    "        userID, value = mr_job.parse_output_line(line)\n",
    "        db.fakefriends.insert({\"_id\":userID, \"name\": value[0],\n",
    "                              \"age\": value[1], \"nFriends\": value[2]})\n",
    "        print 'Inserting %s..' % userID\n",
    "\n",
    "print 'Complete!'"
   ]
  }
 ],
 "metadata": {
  "kernelspec": {
   "display_name": "Python [Root]",
   "language": "python",
   "name": "Python [Root]"
  },
  "language_info": {
   "codemirror_mode": {
    "name": "ipython",
    "version": 2
   },
   "file_extension": ".py",
   "mimetype": "text/x-python",
   "name": "python",
   "nbconvert_exporter": "python",
   "pygments_lexer": "ipython2",
   "version": "2.7.12"
  }
 },
 "nbformat": 4,
 "nbformat_minor": 0
}

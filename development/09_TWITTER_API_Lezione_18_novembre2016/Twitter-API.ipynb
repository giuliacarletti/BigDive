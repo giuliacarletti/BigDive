{
 "cells": [
  {
   "cell_type": "markdown",
   "metadata": {},
   "source": [
    "# Network Science\n",
    "\n",
    "\n",
    "**GOAL OF THE SESSION**: Fetch data from Twitter APIs\n",
    "\n",
    "**DATA SOURCE**: Twitter \n",
    "\n",
    "**DEVELOPMENT**: How to create a Python script to query Twitter APIs\n",
    "\n",
    "**REQUIREMENTS**: \n",
    "\n",
    "    Twitter Developer Account\n",
    "    tweepy \n",
    "    Python Pretty Print\n",
    "\n",
    "### Pretty Print\n",
    "\n",
    "Using **pprint** we can format in a nice way the print output. Here an example:\n",
    "\n",
    "    import pprint\n",
    "    pp = pprint.PrettyPrinter(indent=2)\n",
    "    pp.pprint(OBJECT-TO-PRINT)\n"
   ]
  },
  {
   "cell_type": "code",
   "execution_count": 1,
   "metadata": {
    "collapsed": false
   },
   "outputs": [
    {
     "name": "stdout",
     "output_type": "stream",
     "text": [
      "NON PRETTY\n",
      "{'list': [1, 2, 3], 'Surname': 'Comu', 'name': 'Alex', 'address': {'street': 'Via Maria Vittoria', 'number': 1}} \n",
      "\n",
      "PRETTY:\n",
      "{ 'Surname': 'Comu',\n",
      "  'address': { 'number': 1, 'street': 'Via Maria Vittoria'},\n",
      "  'list': [1, 2, 3],\n",
      "  'name': 'Alex'}\n"
     ]
    }
   ],
   "source": [
    "import pprint\n",
    "#print help(pprint.PrettyPrinter)\n",
    "pp = pprint.PrettyPrinter(indent=2)  # 2 livelli di inventazione (quando va a capo)\n",
    "names = {\"name\":\"Alex\", \"Surname\":\"Comu\", \"list\":[1,2,3],\"address\":{\"street\":\"Via Maria Vittoria\", \"number\":1}}\n",
    "print \"NON PRETTY\\n\", names, \"\\n\"\n",
    "print \"PRETTY:\"\n",
    "pp.pprint(names)"
   ]
  },
  {
   "cell_type": "markdown",
   "metadata": {},
   "source": [
    "# Demo with Special Effects\n",
    "\n",
    "Inside the folder **demo** you'll find a very cool demo, a super interaction between:\n",
    "\n",
    "* Twitter API\n",
    "* Python Web Server\n",
    "* D3Js visualization\n",
    "\n",
    "Read the file **Readme.md** to have more information about the example.\n",
    "\n",
    "The goal of the demo is to create a Connector between my PC and Twitter. After the creation of this connector I want ro retrieve all the tweets that contains a specific **hashtags**.\n",
    "\n",
    "At the end I'll represent the tweets in a dynamic data visualization with D3Js."
   ]
  },
  {
   "cell_type": "markdown",
   "metadata": {},
   "source": [
    "# Twitter Developer Account\n",
    "\n",
    "Sign in @ [https://dev.twitter.com/](https://dev.twitter.com/) website and create an account if you need.\n",
    "\n",
    "After the creation of the account we need to create a new Twitter APP to fetch the APIs, so go to [https://apps.twitter.com/](https://apps.twitter.com/) and create a new one.\n",
    "\n",
    "To allow our APP to use the Twitter APIs we need to create an Access Token, so click on **Keys and Access Tokens** and create a new one.\n",
    "\n",
    "And now we're ready to play with Twitter:)\n",
    "\n",
    "## Twitter Documentation\n",
    "\n",
    "[HERE](https://dev.twitter.com/overview/api) we can find a complete overview on Twitter API.\n",
    "\n",
    "# Tweepy Installation\n",
    "\n",
    "We need to install the package **tweepy**:\n",
    "\n",
    "    pip install tweepy\n",
    "    \n",
    "We can find the documentation of the Library:\n",
    "\n",
    "    http://tweepy.readthedocs.io/\n",
    "    \n",
    "## OAuth\n",
    "\n",
    "First of all we need to save our credentials in variables. After that we can login on twitter and start use the APIs.\n"
   ]
  },
  {
   "cell_type": "code",
   "execution_count": 2,
   "metadata": {
    "collapsed": true
   },
   "outputs": [],
   "source": [
    "import tweepy"
   ]
  },
  {
   "cell_type": "code",
   "execution_count": 3,
   "metadata": {
    "collapsed": true
   },
   "outputs": [],
   "source": [
    "import tweepy\n",
    "import pprint\n",
    "pp = pprint.PrettyPrinter(indent=2)\n",
    "\n",
    "CONSUMER_KEY = \"hw3uYRyokN0xZyoHOD4DDUuN8\"\n",
    "SECRET_KEY = \"pbZQoD0km4shy7bQVBMP27SFJUZl9rzEaQXGVWiMHhUZM5NbRh\"\n",
    "ACCESS_TOKEN = \"799250231548407808-Cwnhd7ZuKG5p9r28GL4imYt7Sao7yAF\"\n",
    "SECRET_ACCESS_TOKEN = \"WNOmwN4gdzuQp7oFl94if9tBShr8hCdbBBnUzkpETQY1S\""
   ]
  },
  {
   "cell_type": "code",
   "execution_count": 4,
   "metadata": {
    "collapsed": true
   },
   "outputs": [],
   "source": [
    "# Twitter Authentication\n",
    "auth = tweepy.OAuthHandler(CONSUMER_KEY, SECRET_KEY)"
   ]
  },
  {
   "cell_type": "code",
   "execution_count": 5,
   "metadata": {
    "collapsed": false
   },
   "outputs": [],
   "source": [
    "auth.set_access_token(ACCESS_TOKEN, SECRET_ACCESS_TOKEN)"
   ]
  },
  {
   "cell_type": "code",
   "execution_count": 6,
   "metadata": {
    "collapsed": false
   },
   "outputs": [
    {
     "name": "stdout",
     "output_type": "stream",
     "text": [
      "<tweepy.api.API object at 0x7fe28ab1c950>\n"
     ]
    }
   ],
   "source": [
    "# Create the connection to the api\n",
    "api = tweepy.API(auth)\n",
    "print api\n"
   ]
  },
  {
   "cell_type": "code",
   "execution_count": 72,
   "metadata": {
    "collapsed": false
   },
   "outputs": [],
   "source": [
    "help(api)"
   ]
  },
  {
   "cell_type": "code",
   "execution_count": 9,
   "metadata": {
    "collapsed": false,
    "scrolled": false
   },
   "outputs": [
    {
     "data": {
      "text/plain": [
       "{u'rate_limit_context': {u'access_token': u'799250231548407808-Cwnhd7ZuKG5p9r28GL4imYt7Sao7yAF'},\n",
       " u'resources': {u'account': {u'/account/login_verification_enrollment': {u'limit': 15,\n",
       "    u'remaining': 15,\n",
       "    u'reset': 1480252211},\n",
       "   u'/account/settings': {u'limit': 15,\n",
       "    u'remaining': 15,\n",
       "    u'reset': 1480252211},\n",
       "   u'/account/update_profile': {u'limit': 15,\n",
       "    u'remaining': 15,\n",
       "    u'reset': 1480252211},\n",
       "   u'/account/verify_credentials': {u'limit': 75,\n",
       "    u'remaining': 75,\n",
       "    u'reset': 1480252211}},\n",
       "  u'application': {u'/application/rate_limit_status': {u'limit': 180,\n",
       "    u'remaining': 179,\n",
       "    u'reset': 1480252211}},\n",
       "  u'auth': {u'/auth/csrf_token': {u'limit': 15,\n",
       "    u'remaining': 15,\n",
       "    u'reset': 1480252211}},\n",
       "  u'blocks': {u'/blocks/ids': {u'limit': 15,\n",
       "    u'remaining': 15,\n",
       "    u'reset': 1480252211},\n",
       "   u'/blocks/list': {u'limit': 15, u'remaining': 15, u'reset': 1480252211}},\n",
       "  u'business_experience': {u'/business_experience/dashboard_features': {u'limit': 450,\n",
       "    u'remaining': 450,\n",
       "    u'reset': 1480252211},\n",
       "   u'/business_experience/dashboard_settings/destroy': {u'limit': 450,\n",
       "    u'remaining': 450,\n",
       "    u'reset': 1480252211},\n",
       "   u'/business_experience/dashboard_settings/show': {u'limit': 450,\n",
       "    u'remaining': 450,\n",
       "    u'reset': 1480252211},\n",
       "   u'/business_experience/dashboard_settings/update': {u'limit': 450,\n",
       "    u'remaining': 450,\n",
       "    u'reset': 1480252211},\n",
       "   u'/business_experience/keywords': {u'limit': 450,\n",
       "    u'remaining': 450,\n",
       "    u'reset': 1480252211}},\n",
       "  u'collections': {u'/collections/entries': {u'limit': 1000,\n",
       "    u'remaining': 1000,\n",
       "    u'reset': 1480252211},\n",
       "   u'/collections/list': {u'limit': 1000,\n",
       "    u'remaining': 1000,\n",
       "    u'reset': 1480252211},\n",
       "   u'/collections/show': {u'limit': 1000,\n",
       "    u'remaining': 1000,\n",
       "    u'reset': 1480252211}},\n",
       "  u'contacts': {u'/contacts/addressbook': {u'limit': 300,\n",
       "    u'remaining': 300,\n",
       "    u'reset': 1480252211},\n",
       "   u'/contacts/delete/status': {u'limit': 300,\n",
       "    u'remaining': 300,\n",
       "    u'reset': 1480252211},\n",
       "   u'/contacts/uploaded_by': {u'limit': 300,\n",
       "    u'remaining': 300,\n",
       "    u'reset': 1480252211},\n",
       "   u'/contacts/users': {u'limit': 300,\n",
       "    u'remaining': 300,\n",
       "    u'reset': 1480252211},\n",
       "   u'/contacts/users_and_uploaded_by': {u'limit': 300,\n",
       "    u'remaining': 300,\n",
       "    u'reset': 1480252211}},\n",
       "  u'custom_profiles': {u'/custom_profiles/list': {u'limit': 180,\n",
       "    u'remaining': 180,\n",
       "    u'reset': 1480252211},\n",
       "   u'/custom_profiles/show': {u'limit': 180,\n",
       "    u'remaining': 180,\n",
       "    u'reset': 1480252211}},\n",
       "  u'device': {u'/device/token': {u'limit': 15,\n",
       "    u'remaining': 15,\n",
       "    u'reset': 1480252211}},\n",
       "  u'direct_messages': {u'/direct_messages': {u'limit': 300,\n",
       "    u'remaining': 300,\n",
       "    u'reset': 1480252211},\n",
       "   u'/direct_messages/sent': {u'limit': 300,\n",
       "    u'remaining': 300,\n",
       "    u'reset': 1480252211},\n",
       "   u'/direct_messages/sent_and_received': {u'limit': 300,\n",
       "    u'remaining': 300,\n",
       "    u'reset': 1480252211},\n",
       "   u'/direct_messages/show': {u'limit': 300,\n",
       "    u'remaining': 300,\n",
       "    u'reset': 1480252211}},\n",
       "  u'drafts': {u'/drafts/statuses/create': {u'limit': 450,\n",
       "    u'remaining': 450,\n",
       "    u'reset': 1480252211},\n",
       "   u'/drafts/statuses/destroy': {u'limit': 450,\n",
       "    u'remaining': 450,\n",
       "    u'reset': 1480252211},\n",
       "   u'/drafts/statuses/ids': {u'limit': 450,\n",
       "    u'remaining': 450,\n",
       "    u'reset': 1480252211},\n",
       "   u'/drafts/statuses/list': {u'limit': 450,\n",
       "    u'remaining': 450,\n",
       "    u'reset': 1480252211},\n",
       "   u'/drafts/statuses/show': {u'limit': 450,\n",
       "    u'remaining': 450,\n",
       "    u'reset': 1480252211},\n",
       "   u'/drafts/statuses/update': {u'limit': 450,\n",
       "    u'remaining': 450,\n",
       "    u'reset': 1480252211}},\n",
       "  u'favorites': {u'/favorites/list': {u'limit': 75,\n",
       "    u'remaining': 75,\n",
       "    u'reset': 1480252211}},\n",
       "  u'feedback': {u'/feedback/events': {u'limit': 1000,\n",
       "    u'remaining': 1000,\n",
       "    u'reset': 1480252211},\n",
       "   u'/feedback/show/:id': {u'limit': 180,\n",
       "    u'remaining': 180,\n",
       "    u'reset': 1480252211}},\n",
       "  u'followers': {u'/followers/ids': {u'limit': 15,\n",
       "    u'remaining': 15,\n",
       "    u'reset': 1480252211},\n",
       "   u'/followers/list': {u'limit': 15, u'remaining': 15, u'reset': 1480252211}},\n",
       "  u'friends': {u'/friends/following/ids': {u'limit': 15,\n",
       "    u'remaining': 15,\n",
       "    u'reset': 1480252211},\n",
       "   u'/friends/following/list': {u'limit': 15,\n",
       "    u'remaining': 15,\n",
       "    u'reset': 1480252211},\n",
       "   u'/friends/ids': {u'limit': 15, u'remaining': 15, u'reset': 1480252211},\n",
       "   u'/friends/list': {u'limit': 15, u'remaining': 15, u'reset': 1480252211}},\n",
       "  u'friendships': {u'/friendships/incoming': {u'limit': 15,\n",
       "    u'remaining': 15,\n",
       "    u'reset': 1480252211},\n",
       "   u'/friendships/list': {u'limit': 200,\n",
       "    u'remaining': 200,\n",
       "    u'reset': 1480252211},\n",
       "   u'/friendships/lookup': {u'limit': 15,\n",
       "    u'remaining': 15,\n",
       "    u'reset': 1480252211},\n",
       "   u'/friendships/no_retweets/ids': {u'limit': 15,\n",
       "    u'remaining': 15,\n",
       "    u'reset': 1480252211},\n",
       "   u'/friendships/outgoing': {u'limit': 15,\n",
       "    u'remaining': 15,\n",
       "    u'reset': 1480252211},\n",
       "   u'/friendships/show': {u'limit': 180,\n",
       "    u'remaining': 180,\n",
       "    u'reset': 1480252211}},\n",
       "  u'geo': {u'/geo/id/:place_id': {u'limit': 75,\n",
       "    u'remaining': 75,\n",
       "    u'reset': 1480252211},\n",
       "   u'/geo/reverse_geocode': {u'limit': 15,\n",
       "    u'remaining': 15,\n",
       "    u'reset': 1480252211},\n",
       "   u'/geo/search': {u'limit': 15, u'remaining': 15, u'reset': 1480252211},\n",
       "   u'/geo/similar_places': {u'limit': 15,\n",
       "    u'remaining': 15,\n",
       "    u'reset': 1480252211}},\n",
       "  u'help': {u'/help/configuration': {u'limit': 15,\n",
       "    u'remaining': 15,\n",
       "    u'reset': 1480252211},\n",
       "   u'/help/languages': {u'limit': 15, u'remaining': 15, u'reset': 1480252211},\n",
       "   u'/help/privacy': {u'limit': 15, u'remaining': 15, u'reset': 1480252211},\n",
       "   u'/help/settings': {u'limit': 15, u'remaining': 15, u'reset': 1480252211},\n",
       "   u'/help/tos': {u'limit': 15, u'remaining': 15, u'reset': 1480252211}},\n",
       "  u'lists': {u'/lists/list': {u'limit': 15,\n",
       "    u'remaining': 15,\n",
       "    u'reset': 1480252211},\n",
       "   u'/lists/members': {u'limit': 900, u'remaining': 900, u'reset': 1480252211},\n",
       "   u'/lists/members/show': {u'limit': 15,\n",
       "    u'remaining': 15,\n",
       "    u'reset': 1480252211},\n",
       "   u'/lists/memberships': {u'limit': 75,\n",
       "    u'remaining': 75,\n",
       "    u'reset': 1480252211},\n",
       "   u'/lists/ownerships': {u'limit': 15,\n",
       "    u'remaining': 15,\n",
       "    u'reset': 1480252211},\n",
       "   u'/lists/show': {u'limit': 75, u'remaining': 75, u'reset': 1480252211},\n",
       "   u'/lists/statuses': {u'limit': 900,\n",
       "    u'remaining': 900,\n",
       "    u'reset': 1480252211},\n",
       "   u'/lists/subscribers': {u'limit': 180,\n",
       "    u'remaining': 180,\n",
       "    u'reset': 1480252211},\n",
       "   u'/lists/subscribers/show': {u'limit': 15,\n",
       "    u'remaining': 15,\n",
       "    u'reset': 1480252211},\n",
       "   u'/lists/subscriptions': {u'limit': 15,\n",
       "    u'remaining': 15,\n",
       "    u'reset': 1480252211}},\n",
       "  u'live_pipeline': {u'/live_pipeline/events': {u'limit': 180,\n",
       "    u'remaining': 180,\n",
       "    u'reset': 1480252211}},\n",
       "  u'live_video_stream': {u'/live_video_stream/status/:id': {u'limit': 1000,\n",
       "    u'remaining': 1000,\n",
       "    u'reset': 1480252211}},\n",
       "  u'media': {u'/media/upload': {u'limit': 500,\n",
       "    u'remaining': 500,\n",
       "    u'reset': 1480252211}},\n",
       "  u'moments': {u'/moments/permissions': {u'limit': 300,\n",
       "    u'remaining': 300,\n",
       "    u'reset': 1480252211}},\n",
       "  u'mutes': {u'/mutes/users/ids': {u'limit': 15,\n",
       "    u'remaining': 15,\n",
       "    u'reset': 1480252211},\n",
       "   u'/mutes/users/list': {u'limit': 15,\n",
       "    u'remaining': 15,\n",
       "    u'reset': 1480252211}},\n",
       "  u'saved_searches': {u'/saved_searches/destroy/:id': {u'limit': 15,\n",
       "    u'remaining': 15,\n",
       "    u'reset': 1480252211},\n",
       "   u'/saved_searches/list': {u'limit': 15,\n",
       "    u'remaining': 15,\n",
       "    u'reset': 1480252211},\n",
       "   u'/saved_searches/show/:id': {u'limit': 15,\n",
       "    u'remaining': 15,\n",
       "    u'reset': 1480252211}},\n",
       "  u'search': {u'/search/tweets': {u'limit': 180,\n",
       "    u'remaining': 180,\n",
       "    u'reset': 1480252211}},\n",
       "  u'statuses': {u'/statuses/friends': {u'limit': 15,\n",
       "    u'remaining': 15,\n",
       "    u'reset': 1480252211},\n",
       "   u'/statuses/home_timeline': {u'limit': 15,\n",
       "    u'remaining': 15,\n",
       "    u'reset': 1480252211},\n",
       "   u'/statuses/lookup': {u'limit': 900,\n",
       "    u'remaining': 900,\n",
       "    u'reset': 1480252211},\n",
       "   u'/statuses/mentions_timeline': {u'limit': 75,\n",
       "    u'remaining': 75,\n",
       "    u'reset': 1480252211},\n",
       "   u'/statuses/oembed': {u'limit': 180,\n",
       "    u'remaining': 180,\n",
       "    u'reset': 1480252211},\n",
       "   u'/statuses/retweeters/ids': {u'limit': 75,\n",
       "    u'remaining': 75,\n",
       "    u'reset': 1480252211},\n",
       "   u'/statuses/retweets/:id': {u'limit': 75,\n",
       "    u'remaining': 75,\n",
       "    u'reset': 1480252211},\n",
       "   u'/statuses/retweets_of_me': {u'limit': 75,\n",
       "    u'remaining': 75,\n",
       "    u'reset': 1480252211},\n",
       "   u'/statuses/show/:id': {u'limit': 900,\n",
       "    u'remaining': 900,\n",
       "    u'reset': 1480252211},\n",
       "   u'/statuses/user_timeline': {u'limit': 900,\n",
       "    u'remaining': 900,\n",
       "    u'reset': 1480252211}},\n",
       "  u'trends': {u'/trends/available': {u'limit': 75,\n",
       "    u'remaining': 75,\n",
       "    u'reset': 1480252211},\n",
       "   u'/trends/closest': {u'limit': 75, u'remaining': 75, u'reset': 1480252211},\n",
       "   u'/trends/place': {u'limit': 75, u'remaining': 75, u'reset': 1480252211}},\n",
       "  u'tweet_prompts': {u'/tweet_prompts/report_interaction': {u'limit': 180,\n",
       "    u'remaining': 180,\n",
       "    u'reset': 1480252211},\n",
       "   u'/tweet_prompts/show': {u'limit': 180,\n",
       "    u'remaining': 180,\n",
       "    u'reset': 1480252211}},\n",
       "  u'users': {u'/users/derived_info': {u'limit': 15,\n",
       "    u'remaining': 15,\n",
       "    u'reset': 1480252211},\n",
       "   u'/users/lookup': {u'limit': 900, u'remaining': 900, u'reset': 1480252211},\n",
       "   u'/users/profile_banner': {u'limit': 180,\n",
       "    u'remaining': 180,\n",
       "    u'reset': 1480252211},\n",
       "   u'/users/report_spam': {u'limit': 15,\n",
       "    u'remaining': 15,\n",
       "    u'reset': 1480252211},\n",
       "   u'/users/search': {u'limit': 900, u'remaining': 900, u'reset': 1480252211},\n",
       "   u'/users/show/:id': {u'limit': 900,\n",
       "    u'remaining': 900,\n",
       "    u'reset': 1480252211},\n",
       "   u'/users/suggestions': {u'limit': 15,\n",
       "    u'remaining': 15,\n",
       "    u'reset': 1480252211},\n",
       "   u'/users/suggestions/:slug': {u'limit': 15,\n",
       "    u'remaining': 15,\n",
       "    u'reset': 1480252211},\n",
       "   u'/users/suggestions/:slug/members': {u'limit': 15,\n",
       "    u'remaining': 15,\n",
       "    u'reset': 1480252211}}}}"
      ]
     },
     "execution_count": 9,
     "metadata": {},
     "output_type": "execute_result"
    }
   ],
   "source": [
    "api.rate_limit_status()"
   ]
  },
  {
   "cell_type": "markdown",
   "metadata": {},
   "source": [
    "## Tweet Stream"
   ]
  },
  {
   "cell_type": "code",
   "execution_count": 10,
   "metadata": {
    "collapsed": false,
    "scrolled": true
   },
   "outputs": [],
   "source": [
    "# download your home timeline tweets\n",
    "my_tweets = api.home_timeline()"
   ]
  },
  {
   "cell_type": "code",
   "execution_count": 11,
   "metadata": {
    "collapsed": false
   },
   "outputs": [
    {
     "data": {
      "text/plain": [
       "20"
      ]
     },
     "execution_count": 11,
     "metadata": {},
     "output_type": "execute_result"
    }
   ],
   "source": [
    "len(my_tweets)  # perchè appena creato, non seguo nessuno"
   ]
  },
  {
   "cell_type": "code",
   "execution_count": 12,
   "metadata": {
    "collapsed": false
   },
   "outputs": [
    {
     "data": {
      "text/plain": [
       "{u'contributors': None,\n",
       " u'coordinates': None,\n",
       " u'created_at': u'Sun Nov 27 12:44:34 +0000 2016',\n",
       " u'entities': {u'hashtags': [],\n",
       "  u'symbols': [],\n",
       "  u'urls': [{u'display_url': u'corriere.it/cronache/16_no\\u2026',\n",
       "    u'expanded_url': u'http://www.corriere.it/cronache/16_novembre_27/pinotti-il-barcone-700-memoria-corta-dell-europa-577e42ae-b41a-11e6-9bbf-23f96afff2f8.shtml',\n",
       "    u'indices': [86, 109],\n",
       "    u'url': u'https://t.co/ak2LKaCzjt'}],\n",
       "  u'user_mentions': [{u'id': 507558017,\n",
       "    u'id_str': u'507558017',\n",
       "    u'indices': [3, 15],\n",
       "    u'name': u'paolo f valentino',\n",
       "    u'screen_name': u'pfvalentino'}]},\n",
       " u'favorite_count': 0,\n",
       " u'favorited': False,\n",
       " u'geo': None,\n",
       " u'id': 802855635054395392,\n",
       " u'id_str': u'802855635054395392',\n",
       " u'in_reply_to_screen_name': None,\n",
       " u'in_reply_to_status_id': None,\n",
       " u'in_reply_to_status_id_str': None,\n",
       " u'in_reply_to_user_id': None,\n",
       " u'in_reply_to_user_id_str': None,\n",
       " u'is_quote_status': False,\n",
       " u'lang': u'it',\n",
       " u'place': None,\n",
       " u'possibly_sensitive': False,\n",
       " u'possibly_sensitive_appealable': False,\n",
       " u'retweet_count': 2,\n",
       " u'retweeted': False,\n",
       " u'retweeted_status': {u'contributors': None,\n",
       "  u'coordinates': None,\n",
       "  u'created_at': u'Sun Nov 27 12:44:18 +0000 2016',\n",
       "  u'entities': {u'hashtags': [],\n",
       "   u'symbols': [],\n",
       "   u'urls': [{u'display_url': u'corriere.it/cronache/16_no\\u2026',\n",
       "     u'expanded_url': u'http://www.corriere.it/cronache/16_novembre_27/pinotti-il-barcone-700-memoria-corta-dell-europa-577e42ae-b41a-11e6-9bbf-23f96afff2f8.shtml',\n",
       "     u'indices': [69, 92],\n",
       "     u'url': u'https://t.co/ak2LKaCzjt'}],\n",
       "   u'user_mentions': []},\n",
       "  u'favorite_count': 0,\n",
       "  u'favorited': False,\n",
       "  u'geo': None,\n",
       "  u'id': 802855567718920192,\n",
       "  u'id_str': u'802855567718920192',\n",
       "  u'in_reply_to_screen_name': None,\n",
       "  u'in_reply_to_status_id': None,\n",
       "  u'in_reply_to_status_id_str': None,\n",
       "  u'in_reply_to_user_id': None,\n",
       "  u'in_reply_to_user_id_str': None,\n",
       "  u'is_quote_status': False,\n",
       "  u'lang': u'it',\n",
       "  u'place': None,\n",
       "  u'possibly_sensitive': False,\n",
       "  u'possibly_sensitive_appealable': False,\n",
       "  u'retweet_count': 2,\n",
       "  u'retweeted': False,\n",
       "  u'source': u'<a href=\"http://twitter.com\" rel=\"nofollow\">Twitter Web Client</a>',\n",
       "  u'text': u'Pinotti: \\xabIl barcone dei 700 migrantie la memoria corta dell\\u2019Europa\\xbb https://t.co/ak2LKaCzjt',\n",
       "  u'truncated': False,\n",
       "  u'user': {u'contributors_enabled': False,\n",
       "   u'created_at': u'Tue Feb 28 16:02:18 +0000 2012',\n",
       "   u'default_profile': True,\n",
       "   u'default_profile_image': False,\n",
       "   u'description': u'Diplomatic Correspondent with Corriere della Sera. pvalentino@corriere.it',\n",
       "   u'entities': {u'description': {u'urls': []},\n",
       "    u'url': {u'urls': [{u'display_url': u'corriere.it',\n",
       "       u'expanded_url': u'http://www.corriere.it',\n",
       "       u'indices': [0, 22],\n",
       "       u'url': u'http://t.co/WN3tjSVdsz'}]}},\n",
       "   u'favourites_count': 1174,\n",
       "   u'follow_request_sent': False,\n",
       "   u'followers_count': 2906,\n",
       "   u'following': False,\n",
       "   u'friends_count': 1364,\n",
       "   u'geo_enabled': False,\n",
       "   u'has_extended_profile': False,\n",
       "   u'id': 507558017,\n",
       "   u'id_str': u'507558017',\n",
       "   u'is_translation_enabled': False,\n",
       "   u'is_translator': False,\n",
       "   u'lang': u'en',\n",
       "   u'listed_count': 79,\n",
       "   u'location': u'Rome',\n",
       "   u'name': u'paolo f valentino',\n",
       "   u'notifications': False,\n",
       "   u'profile_background_color': u'C0DEED',\n",
       "   u'profile_background_image_url': u'http://abs.twimg.com/images/themes/theme1/bg.png',\n",
       "   u'profile_background_image_url_https': u'https://abs.twimg.com/images/themes/theme1/bg.png',\n",
       "   u'profile_background_tile': False,\n",
       "   u'profile_image_url': u'http://pbs.twimg.com/profile_images/1874213075/toscani_normal.jpg',\n",
       "   u'profile_image_url_https': u'https://pbs.twimg.com/profile_images/1874213075/toscani_normal.jpg',\n",
       "   u'profile_link_color': u'1DA1F2',\n",
       "   u'profile_sidebar_border_color': u'C0DEED',\n",
       "   u'profile_sidebar_fill_color': u'DDEEF6',\n",
       "   u'profile_text_color': u'333333',\n",
       "   u'profile_use_background_image': True,\n",
       "   u'protected': False,\n",
       "   u'screen_name': u'pfvalentino',\n",
       "   u'statuses_count': 10087,\n",
       "   u'time_zone': u'Athens',\n",
       "   u'translator_type': u'none',\n",
       "   u'url': u'http://t.co/WN3tjSVdsz',\n",
       "   u'utc_offset': 7200,\n",
       "   u'verified': False}},\n",
       " u'source': u'<a href=\"http://twitter.com\" rel=\"nofollow\">Twitter Web Client</a>',\n",
       " u'text': u'RT @pfvalentino: Pinotti: \\xabIl barcone dei 700 migrantie la memoria corta dell\\u2019Europa\\xbb https://t.co/ak2LKaCzjt',\n",
       " u'truncated': False,\n",
       " u'user': {u'contributors_enabled': False,\n",
       "  u'created_at': u'Fri Oct 21 10:00:47 +0000 2011',\n",
       "  u'default_profile': False,\n",
       "  u'default_profile_image': False,\n",
       "  u'description': u\"L'informazione in 140 caratteri, 7 giorni su 7. Seguici per ricevere notizie, breaking news, RT dei nostri giornalisti, consigli di lettura, foto\",\n",
       "  u'entities': {u'description': {u'urls': []},\n",
       "   u'url': {u'urls': [{u'display_url': u'corriere.it',\n",
       "      u'expanded_url': u'http://www.corriere.it',\n",
       "      u'indices': [0, 23],\n",
       "      u'url': u'https://t.co/h9cEgjpww3'}]}},\n",
       "  u'favourites_count': 1833,\n",
       "  u'follow_request_sent': False,\n",
       "  u'followers_count': 1793526,\n",
       "  u'following': True,\n",
       "  u'friends_count': 279,\n",
       "  u'geo_enabled': True,\n",
       "  u'has_extended_profile': False,\n",
       "  u'id': 395218906,\n",
       "  u'id_str': u'395218906',\n",
       "  u'is_translation_enabled': True,\n",
       "  u'is_translator': False,\n",
       "  u'lang': u'it',\n",
       "  u'listed_count': 6621,\n",
       "  u'location': u'Milano',\n",
       "  u'name': u'Corriere della Sera',\n",
       "  u'notifications': False,\n",
       "  u'profile_background_color': u'EBEBEB',\n",
       "  u'profile_background_image_url': u'http://pbs.twimg.com/profile_background_images/378800000019315744/d4dd074bb86b0e7a6f12e4d1bf7b933d.gif',\n",
       "  u'profile_background_image_url_https': u'https://pbs.twimg.com/profile_background_images/378800000019315744/d4dd074bb86b0e7a6f12e4d1bf7b933d.gif',\n",
       "  u'profile_background_tile': False,\n",
       "  u'profile_banner_url': u'https://pbs.twimg.com/profile_banners/395218906/1466068318',\n",
       "  u'profile_image_url': u'http://pbs.twimg.com/profile_images/743101365422018560/SbUTDwha_normal.jpg',\n",
       "  u'profile_image_url_https': u'https://pbs.twimg.com/profile_images/743101365422018560/SbUTDwha_normal.jpg',\n",
       "  u'profile_link_color': u'4F48B0',\n",
       "  u'profile_sidebar_border_color': u'FFFFFF',\n",
       "  u'profile_sidebar_fill_color': u'F3F3F3',\n",
       "  u'profile_text_color': u'25262E',\n",
       "  u'profile_use_background_image': True,\n",
       "  u'protected': False,\n",
       "  u'screen_name': u'Corriere',\n",
       "  u'statuses_count': 222795,\n",
       "  u'time_zone': u'Rome',\n",
       "  u'translator_type': u'none',\n",
       "  u'url': u'https://t.co/h9cEgjpww3',\n",
       "  u'utc_offset': 3600,\n",
       "  u'verified': True}}"
      ]
     },
     "execution_count": 12,
     "metadata": {},
     "output_type": "execute_result"
    }
   ],
   "source": [
    "my_tweets[0]._json   # vuoto perchè non ho nulla"
   ]
  },
  {
   "cell_type": "code",
   "execution_count": 13,
   "metadata": {
    "collapsed": false
   },
   "outputs": [
    {
     "name": "stdout",
     "output_type": "stream",
     "text": [
      "Tweets LEN:  20 \n",
      "\n"
     ]
    }
   ],
   "source": [
    "print \"Tweets LEN: \", len(my_tweets), \"\\n\""
   ]
  },
  {
   "cell_type": "code",
   "execution_count": 14,
   "metadata": {
    "collapsed": false
   },
   "outputs": [
    {
     "data": {
      "text/plain": [
       "User(follow_request_sent=False, has_extended_profile=False, profile_use_background_image=True, _json={u'follow_request_sent': False, u'has_extended_profile': False, u'profile_use_background_image': True, u'default_profile_image': False, u'id': 395218906, u'profile_background_image_url_https': u'https://pbs.twimg.com/profile_background_images/378800000019315744/d4dd074bb86b0e7a6f12e4d1bf7b933d.gif', u'verified': True, u'translator_type': u'none', u'profile_text_color': u'25262E', u'profile_image_url_https': u'https://pbs.twimg.com/profile_images/743101365422018560/SbUTDwha_normal.jpg', u'profile_sidebar_fill_color': u'F3F3F3', u'entities': {u'url': {u'urls': [{u'url': u'https://t.co/h9cEgjpww3', u'indices': [0, 23], u'expanded_url': u'http://www.corriere.it', u'display_url': u'corriere.it'}]}, u'description': {u'urls': []}}, u'followers_count': 1793526, u'profile_sidebar_border_color': u'FFFFFF', u'id_str': u'395218906', u'profile_background_color': u'EBEBEB', u'listed_count': 6621, u'is_translation_enabled': True, u'utc_offset': 3600, u'statuses_count': 222795, u'description': u\"L'informazione in 140 caratteri, 7 giorni su 7. Seguici per ricevere notizie, breaking news, RT dei nostri giornalisti, consigli di lettura, foto\", u'friends_count': 279, u'location': u'Milano', u'profile_link_color': u'4F48B0', u'profile_image_url': u'http://pbs.twimg.com/profile_images/743101365422018560/SbUTDwha_normal.jpg', u'following': True, u'geo_enabled': True, u'profile_banner_url': u'https://pbs.twimg.com/profile_banners/395218906/1466068318', u'profile_background_image_url': u'http://pbs.twimg.com/profile_background_images/378800000019315744/d4dd074bb86b0e7a6f12e4d1bf7b933d.gif', u'screen_name': u'Corriere', u'lang': u'it', u'profile_background_tile': False, u'favourites_count': 1833, u'name': u'Corriere della Sera', u'notifications': False, u'url': u'https://t.co/h9cEgjpww3', u'created_at': u'Fri Oct 21 10:00:47 +0000 2011', u'contributors_enabled': False, u'time_zone': u'Rome', u'protected': False, u'default_profile': False, u'is_translator': False}, time_zone=u'Rome', id=395218906, description=u\"L'informazione in 140 caratteri, 7 giorni su 7. Seguici per ricevere notizie, breaking news, RT dei nostri giornalisti, consigli di lettura, foto\", _api=<tweepy.api.API object at 0x7fe28ab1c950>, verified=True, profile_text_color=u'25262E', profile_image_url_https=u'https://pbs.twimg.com/profile_images/743101365422018560/SbUTDwha_normal.jpg', profile_sidebar_fill_color=u'F3F3F3', is_translator=False, geo_enabled=True, entities={u'url': {u'urls': [{u'url': u'https://t.co/h9cEgjpww3', u'indices': [0, 23], u'expanded_url': u'http://www.corriere.it', u'display_url': u'corriere.it'}]}, u'description': {u'urls': []}}, followers_count=1793526, protected=False, id_str=u'395218906', default_profile_image=False, listed_count=6621, lang=u'it', utc_offset=3600, statuses_count=222795, profile_background_color=u'EBEBEB', friends_count=279, profile_link_color=u'4F48B0', profile_image_url=u'http://pbs.twimg.com/profile_images/743101365422018560/SbUTDwha_normal.jpg', notifications=False, default_profile=False, profile_background_image_url_https=u'https://pbs.twimg.com/profile_background_images/378800000019315744/d4dd074bb86b0e7a6f12e4d1bf7b933d.gif', profile_banner_url=u'https://pbs.twimg.com/profile_banners/395218906/1466068318', profile_background_image_url=u'http://pbs.twimg.com/profile_background_images/378800000019315744/d4dd074bb86b0e7a6f12e4d1bf7b933d.gif', name=u'Corriere della Sera', is_translation_enabled=True, profile_background_tile=False, favourites_count=1833, screen_name=u'Corriere', url=u'https://t.co/h9cEgjpww3', created_at=datetime.datetime(2011, 10, 21, 10, 0, 47), contributors_enabled=False, location=u'Milano', profile_sidebar_border_color=u'FFFFFF', translator_type=u'none', following=True)"
      ]
     },
     "execution_count": 14,
     "metadata": {},
     "output_type": "execute_result"
    }
   ],
   "source": [
    "my_tweets[0].user"
   ]
  },
  {
   "cell_type": "code",
   "execution_count": 15,
   "metadata": {
    "collapsed": false
   },
   "outputs": [
    {
     "data": {
      "text/plain": [
       "User(follow_request_sent=False, has_extended_profile=False, profile_use_background_image=True, _json={u'follow_request_sent': False, u'has_extended_profile': False, u'profile_use_background_image': True, u'default_profile_image': False, u'id': 395218906, u'profile_background_image_url_https': u'https://pbs.twimg.com/profile_background_images/378800000019315744/d4dd074bb86b0e7a6f12e4d1bf7b933d.gif', u'verified': True, u'translator_type': u'none', u'profile_text_color': u'25262E', u'profile_image_url_https': u'https://pbs.twimg.com/profile_images/743101365422018560/SbUTDwha_normal.jpg', u'profile_sidebar_fill_color': u'F3F3F3', u'entities': {u'url': {u'urls': [{u'url': u'https://t.co/h9cEgjpww3', u'indices': [0, 23], u'expanded_url': u'http://www.corriere.it', u'display_url': u'corriere.it'}]}, u'description': {u'urls': []}}, u'followers_count': 1793526, u'profile_sidebar_border_color': u'FFFFFF', u'id_str': u'395218906', u'profile_background_color': u'EBEBEB', u'listed_count': 6621, u'is_translation_enabled': True, u'utc_offset': 3600, u'statuses_count': 222795, u'description': u\"L'informazione in 140 caratteri, 7 giorni su 7. Seguici per ricevere notizie, breaking news, RT dei nostri giornalisti, consigli di lettura, foto\", u'friends_count': 279, u'location': u'Milano', u'profile_link_color': u'4F48B0', u'profile_image_url': u'http://pbs.twimg.com/profile_images/743101365422018560/SbUTDwha_normal.jpg', u'following': True, u'geo_enabled': True, u'profile_banner_url': u'https://pbs.twimg.com/profile_banners/395218906/1466068318', u'profile_background_image_url': u'http://pbs.twimg.com/profile_background_images/378800000019315744/d4dd074bb86b0e7a6f12e4d1bf7b933d.gif', u'screen_name': u'Corriere', u'lang': u'it', u'profile_background_tile': False, u'favourites_count': 1833, u'name': u'Corriere della Sera', u'notifications': False, u'url': u'https://t.co/h9cEgjpww3', u'created_at': u'Fri Oct 21 10:00:47 +0000 2011', u'contributors_enabled': False, u'time_zone': u'Rome', u'protected': False, u'default_profile': False, u'is_translator': False}, time_zone=u'Rome', id=395218906, description=u\"L'informazione in 140 caratteri, 7 giorni su 7. Seguici per ricevere notizie, breaking news, RT dei nostri giornalisti, consigli di lettura, foto\", _api=<tweepy.api.API object at 0x7fe28ab1c950>, verified=True, profile_text_color=u'25262E', profile_image_url_https=u'https://pbs.twimg.com/profile_images/743101365422018560/SbUTDwha_normal.jpg', profile_sidebar_fill_color=u'F3F3F3', is_translator=False, geo_enabled=True, entities={u'url': {u'urls': [{u'url': u'https://t.co/h9cEgjpww3', u'indices': [0, 23], u'expanded_url': u'http://www.corriere.it', u'display_url': u'corriere.it'}]}, u'description': {u'urls': []}}, followers_count=1793526, protected=False, id_str=u'395218906', default_profile_image=False, listed_count=6621, lang=u'it', utc_offset=3600, statuses_count=222795, profile_background_color=u'EBEBEB', friends_count=279, profile_link_color=u'4F48B0', profile_image_url=u'http://pbs.twimg.com/profile_images/743101365422018560/SbUTDwha_normal.jpg', notifications=False, default_profile=False, profile_background_image_url_https=u'https://pbs.twimg.com/profile_background_images/378800000019315744/d4dd074bb86b0e7a6f12e4d1bf7b933d.gif', profile_banner_url=u'https://pbs.twimg.com/profile_banners/395218906/1466068318', profile_background_image_url=u'http://pbs.twimg.com/profile_background_images/378800000019315744/d4dd074bb86b0e7a6f12e4d1bf7b933d.gif', name=u'Corriere della Sera', is_translation_enabled=True, profile_background_tile=False, favourites_count=1833, screen_name=u'Corriere', url=u'https://t.co/h9cEgjpww3', created_at=datetime.datetime(2011, 10, 21, 10, 0, 47), contributors_enabled=False, location=u'Milano', profile_sidebar_border_color=u'FFFFFF', translator_type=u'none', following=True)"
      ]
     },
     "execution_count": 15,
     "metadata": {},
     "output_type": "execute_result"
    }
   ],
   "source": [
    "my_tweets[0].author"
   ]
  },
  {
   "cell_type": "code",
   "execution_count": 16,
   "metadata": {
    "collapsed": false
   },
   "outputs": [
    {
     "ename": "AttributeError",
     "evalue": "'User' object has no attribute 'screen'",
     "output_type": "error",
     "traceback": [
      "\u001b[1;31m---------------------------------------------------------------------------\u001b[0m",
      "\u001b[1;31mAttributeError\u001b[0m                            Traceback (most recent call last)",
      "\u001b[1;32m<ipython-input-16-9a34844a622a>\u001b[0m in \u001b[0;36m<module>\u001b[1;34m()\u001b[0m\n\u001b[1;32m----> 1\u001b[1;33m \u001b[0mmy_tweets\u001b[0m\u001b[1;33m[\u001b[0m\u001b[1;36m0\u001b[0m\u001b[1;33m]\u001b[0m\u001b[1;33m.\u001b[0m\u001b[0muser\u001b[0m\u001b[1;33m.\u001b[0m\u001b[0mscreen\u001b[0m\u001b[1;33m.\u001b[0m\u001b[0mnames\u001b[0m\u001b[1;33m\u001b[0m\u001b[0m\n\u001b[0m",
      "\u001b[1;31mAttributeError\u001b[0m: 'User' object has no attribute 'screen'"
     ]
    }
   ],
   "source": [
    "my_tweets[0].user.screen.names"
   ]
  },
  {
   "cell_type": "code",
   "execution_count": 17,
   "metadata": {
    "collapsed": true
   },
   "outputs": [],
   "source": [
    "my_followers = api.followers()\n",
    "my_followers_ids = api.followers_ids()"
   ]
  },
  {
   "cell_type": "code",
   "execution_count": 18,
   "metadata": {
    "collapsed": false
   },
   "outputs": [
    {
     "name": "stdout",
     "output_type": "stream",
     "text": [
      "Followers: \t0\n",
      "Followers ids: \t0\n"
     ]
    }
   ],
   "source": [
    "print \"Followers: \\t\", len(my_followers)\n",
    "print \"Followers ids: \\t\", len(my_followers_ids)  # id dei follower"
   ]
  },
  {
   "cell_type": "code",
   "execution_count": 19,
   "metadata": {
    "collapsed": false
   },
   "outputs": [
    {
     "ename": "IndexError",
     "evalue": "list index out of range",
     "output_type": "error",
     "traceback": [
      "\u001b[1;31m---------------------------------------------------------------------------\u001b[0m",
      "\u001b[1;31mIndexError\u001b[0m                                Traceback (most recent call last)",
      "\u001b[1;32m<ipython-input-19-bdab2dbd1938>\u001b[0m in \u001b[0;36m<module>\u001b[1;34m()\u001b[0m\n\u001b[1;32m----> 1\u001b[1;33m \u001b[0mmy_followers\u001b[0m\u001b[1;33m[\u001b[0m\u001b[1;36m0\u001b[0m\u001b[1;33m]\u001b[0m   \u001b[1;31m# mi dà 20, di più non ne tira fuori\u001b[0m\u001b[1;33m\u001b[0m\u001b[0m\n\u001b[0m",
      "\u001b[1;31mIndexError\u001b[0m: list index out of range"
     ]
    }
   ],
   "source": [
    "my_followers[0]   # mi dà 20, di più non ne tira fuori"
   ]
  },
  {
   "cell_type": "code",
   "execution_count": 20,
   "metadata": {
    "collapsed": false
   },
   "outputs": [
    {
     "ename": "IndexError",
     "evalue": "list index out of range",
     "output_type": "error",
     "traceback": [
      "\u001b[1;31m---------------------------------------------------------------------------\u001b[0m",
      "\u001b[1;31mIndexError\u001b[0m                                Traceback (most recent call last)",
      "\u001b[1;32m<ipython-input-20-dd309751103c>\u001b[0m in \u001b[0;36m<module>\u001b[1;34m()\u001b[0m\n\u001b[1;32m----> 1\u001b[1;33m \u001b[0mmy_followers_ids\u001b[0m\u001b[1;33m[\u001b[0m\u001b[1;36m0\u001b[0m\u001b[1;33m]\u001b[0m\u001b[1;33m\u001b[0m\u001b[0m\n\u001b[0m",
      "\u001b[1;31mIndexError\u001b[0m: list index out of range"
     ]
    }
   ],
   "source": [
    "my_followers_ids[0]"
   ]
  },
  {
   "cell_type": "code",
   "execution_count": 21,
   "metadata": {
    "collapsed": false
   },
   "outputs": [
    {
     "name": "stdout",
     "output_type": "stream",
     "text": [
      "TWEET DIR:  ['__class__', '__delattr__', '__dict__', '__doc__', '__eq__', '__format__', '__getattribute__', '__getstate__', '__hash__', '__init__', '__module__', '__ne__', '__new__', '__reduce__', '__reduce_ex__', '__repr__', '__setattr__', '__sizeof__', '__str__', '__subclasshook__', '__weakref__', '_api', '_json', 'author', 'contributors', 'coordinates', 'created_at', 'destroy', 'entities', 'favorite', 'favorite_count', 'favorited', 'geo', 'id', 'id_str', 'in_reply_to_screen_name', 'in_reply_to_status_id', 'in_reply_to_status_id_str', 'in_reply_to_user_id', 'in_reply_to_user_id_str', 'is_quote_status', 'lang', 'parse', 'parse_list', 'place', 'possibly_sensitive', 'possibly_sensitive_appealable', 'retweet', 'retweet_count', 'retweeted', 'retweeted_status', 'retweets', 'source', 'source_url', 'text', 'truncated', 'user'] \n",
      "\n",
      "Help on Status in module tweepy.models object:\n",
      "\n",
      "class Status(Model)\n",
      " |  Method resolution order:\n",
      " |      Status\n",
      " |      Model\n",
      " |      __builtin__.object\n",
      " |  \n",
      " |  Methods defined here:\n",
      " |  \n",
      " |  __eq__(self, other)\n",
      " |  \n",
      " |  __ne__(self, other)\n",
      " |  \n",
      " |  destroy(self)\n",
      " |  \n",
      " |  favorite(self)\n",
      " |  \n",
      " |  retweet(self)\n",
      " |  \n",
      " |  retweets(self)\n",
      " |  \n",
      " |  ----------------------------------------------------------------------\n",
      " |  Class methods defined here:\n",
      " |  \n",
      " |  parse(cls, api, json) from __builtin__.type\n",
      " |  \n",
      " |  ----------------------------------------------------------------------\n",
      " |  Methods inherited from Model:\n",
      " |  \n",
      " |  __getstate__(self)\n",
      " |  \n",
      " |  __init__(self, api=None)\n",
      " |  \n",
      " |  __repr__(self)\n",
      " |  \n",
      " |  ----------------------------------------------------------------------\n",
      " |  Class methods inherited from Model:\n",
      " |  \n",
      " |  parse_list(cls, api, json_list) from __builtin__.type\n",
      " |      Parse a list of JSON objects into\n",
      " |      a result set of model instances.\n",
      " |  \n",
      " |  ----------------------------------------------------------------------\n",
      " |  Data descriptors inherited from Model:\n",
      " |  \n",
      " |  __dict__\n",
      " |      dictionary for instance variables (if defined)\n",
      " |  \n",
      " |  __weakref__\n",
      " |      list of weak references to the object (if defined)\n",
      "\n",
      "None\n"
     ]
    }
   ],
   "source": [
    "# Dir Command on Tweet\n",
    "print \"TWEET DIR: \", dir(my_tweets[0]), \"\\n\"\n",
    "print help(my_tweets[0])"
   ]
  },
  {
   "cell_type": "code",
   "execution_count": 22,
   "metadata": {
    "collapsed": false
   },
   "outputs": [
    {
     "name": "stdout",
     "output_type": "stream",
     "text": [
      "User(follow_request_sent=False, has_extended_profile=False, profile_use_background_image=True, _json={u'follow_request_sent': False, u'has_extended_profile': False, u'profile_use_background_image': True, u'default_profile_image': False, u'id': 395218906, u'profile_background_image_url_https': u'https://pbs.twimg.com/profile_background_images/378800000019315744/d4dd074bb86b0e7a6f12e4d1bf7b933d.gif', u'verified': True, u'translator_type': u'none', u'profile_text_color': u'25262E', u'profile_image_url_https': u'https://pbs.twimg.com/profile_images/743101365422018560/SbUTDwha_normal.jpg', u'profile_sidebar_fill_color': u'F3F3F3', u'entities': {u'url': {u'urls': [{u'url': u'https://t.co/h9cEgjpww3', u'indices': [0, 23], u'expanded_url': u'http://www.corriere.it', u'display_url': u'corriere.it'}]}, u'description': {u'urls': []}}, u'followers_count': 1793526, u'profile_sidebar_border_color': u'FFFFFF', u'id_str': u'395218906', u'profile_background_color': u'EBEBEB', u'listed_count': 6621, u'is_translation_enabled': True, u'utc_offset': 3600, u'statuses_count': 222795, u'description': u\"L'informazione in 140 caratteri, 7 giorni su 7. Seguici per ricevere notizie, breaking news, RT dei nostri giornalisti, consigli di lettura, foto\", u'friends_count': 279, u'location': u'Milano', u'profile_link_color': u'4F48B0', u'profile_image_url': u'http://pbs.twimg.com/profile_images/743101365422018560/SbUTDwha_normal.jpg', u'following': True, u'geo_enabled': True, u'profile_banner_url': u'https://pbs.twimg.com/profile_banners/395218906/1466068318', u'profile_background_image_url': u'http://pbs.twimg.com/profile_background_images/378800000019315744/d4dd074bb86b0e7a6f12e4d1bf7b933d.gif', u'screen_name': u'Corriere', u'lang': u'it', u'profile_background_tile': False, u'favourites_count': 1833, u'name': u'Corriere della Sera', u'notifications': False, u'url': u'https://t.co/h9cEgjpww3', u'created_at': u'Fri Oct 21 10:00:47 +0000 2011', u'contributors_enabled': False, u'time_zone': u'Rome', u'protected': False, u'default_profile': False, u'is_translator': False}, time_zone=u'Rome', id=395218906, description=u\"L'informazione in 140 caratteri, 7 giorni su 7. Seguici per ricevere notizie, breaking news, RT dei nostri giornalisti, consigli di lettura, foto\", _api=<tweepy.api.API object at 0x7fe28ab1c950>, verified=True, profile_text_color=u'25262E', profile_image_url_https=u'https://pbs.twimg.com/profile_images/743101365422018560/SbUTDwha_normal.jpg', profile_sidebar_fill_color=u'F3F3F3', is_translator=False, geo_enabled=True, entities={u'url': {u'urls': [{u'url': u'https://t.co/h9cEgjpww3', u'indices': [0, 23], u'expanded_url': u'http://www.corriere.it', u'display_url': u'corriere.it'}]}, u'description': {u'urls': []}}, followers_count=1793526, protected=False, id_str=u'395218906', default_profile_image=False, listed_count=6621, lang=u'it', utc_offset=3600, statuses_count=222795, profile_background_color=u'EBEBEB', friends_count=279, profile_link_color=u'4F48B0', profile_image_url=u'http://pbs.twimg.com/profile_images/743101365422018560/SbUTDwha_normal.jpg', notifications=False, default_profile=False, profile_background_image_url_https=u'https://pbs.twimg.com/profile_background_images/378800000019315744/d4dd074bb86b0e7a6f12e4d1bf7b933d.gif', profile_banner_url=u'https://pbs.twimg.com/profile_banners/395218906/1466068318', profile_background_image_url=u'http://pbs.twimg.com/profile_background_images/378800000019315744/d4dd074bb86b0e7a6f12e4d1bf7b933d.gif', name=u'Corriere della Sera', is_translation_enabled=True, profile_background_tile=False, favourites_count=1833, screen_name=u'Corriere', url=u'https://t.co/h9cEgjpww3', created_at=datetime.datetime(2011, 10, 21, 10, 0, 47), contributors_enabled=False, location=u'Milano', profile_sidebar_border_color=u'FFFFFF', translator_type=u'none', following=True)\n"
     ]
    }
   ],
   "source": [
    "# USER of first Tweet\n",
    "print my_tweets[0].user"
   ]
  },
  {
   "cell_type": "code",
   "execution_count": 23,
   "metadata": {
    "collapsed": false
   },
   "outputs": [
    {
     "name": "stdout",
     "output_type": "stream",
     "text": [
      "RT @pfvalentino: Pinotti: «Il barcone dei 700 migrantie la memoria corta dell’Europa» https://t.co/ak2LKaCzjt \n",
      "\n",
      "Abu Dhabi, Hamilton e Rosberg al tutto per tutto:  GP e Mondiale La diretta https://t.co/57CPeqJO7W \n",
      "\n",
      "Matteo Renzi canta «Si può dare di più per il referendum costituzionale» https://t.co/hFdBAW7wzS https://t.co/mUuWLjxAid \n",
      "\n"
     ]
    }
   ],
   "source": [
    "# First 3 tweets\n",
    "for index, tw in enumerate(my_tweets):\n",
    "    if index < 3:\n",
    "        print tw.text, \"\\n\""
   ]
  },
  {
   "cell_type": "markdown",
   "metadata": {},
   "source": [
    "## My Followers"
   ]
  },
  {
   "cell_type": "code",
   "execution_count": 24,
   "metadata": {
    "collapsed": false
   },
   "outputs": [
    {
     "name": "stdout",
     "output_type": "stream",
     "text": [
      "My_Followers LEN:  0\n"
     ]
    }
   ],
   "source": [
    "## fetch follewer lists\n",
    "my_followers = api.followers()\n",
    "print \"My_Followers LEN: \", len(my_followers)"
   ]
  },
  {
   "cell_type": "code",
   "execution_count": 25,
   "metadata": {
    "collapsed": false
   },
   "outputs": [
    {
     "ename": "IndexError",
     "evalue": "list index out of range",
     "output_type": "error",
     "traceback": [
      "\u001b[1;31m---------------------------------------------------------------------------\u001b[0m",
      "\u001b[1;31mIndexError\u001b[0m                                Traceback (most recent call last)",
      "\u001b[1;32m<ipython-input-25-fad6bb0f2f5b>\u001b[0m in \u001b[0;36m<module>\u001b[1;34m()\u001b[0m\n\u001b[1;32m----> 1\u001b[1;33m \u001b[0mmy_followers\u001b[0m\u001b[1;33m[\u001b[0m\u001b[1;36m0\u001b[0m\u001b[1;33m]\u001b[0m\u001b[1;33m\u001b[0m\u001b[0m\n\u001b[0m",
      "\u001b[1;31mIndexError\u001b[0m: list index out of range"
     ]
    }
   ],
   "source": [
    "my_followers[0]"
   ]
  },
  {
   "cell_type": "code",
   "execution_count": 26,
   "metadata": {
    "collapsed": false
   },
   "outputs": [
    {
     "ename": "IndexError",
     "evalue": "list index out of range",
     "output_type": "error",
     "traceback": [
      "\u001b[1;31m---------------------------------------------------------------------------\u001b[0m",
      "\u001b[1;31mIndexError\u001b[0m                                Traceback (most recent call last)",
      "\u001b[1;32m<ipython-input-26-6eb4218bf1eb>\u001b[0m in \u001b[0;36m<module>\u001b[1;34m()\u001b[0m\n\u001b[1;32m----> 1\u001b[1;33m \u001b[1;32mprint\u001b[0m \u001b[0mdir\u001b[0m\u001b[1;33m(\u001b[0m\u001b[0mmy_followers\u001b[0m\u001b[1;33m[\u001b[0m\u001b[1;36m0\u001b[0m\u001b[1;33m]\u001b[0m\u001b[1;33m)\u001b[0m\u001b[1;33m\u001b[0m\u001b[0m\n\u001b[0m",
      "\u001b[1;31mIndexError\u001b[0m: list index out of range"
     ]
    }
   ],
   "source": [
    "print dir(my_followers[0])"
   ]
  },
  {
   "cell_type": "code",
   "execution_count": 27,
   "metadata": {
    "collapsed": false
   },
   "outputs": [
    {
     "ename": "IndexError",
     "evalue": "list index out of range",
     "output_type": "error",
     "traceback": [
      "\u001b[1;31m---------------------------------------------------------------------------\u001b[0m",
      "\u001b[1;31mIndexError\u001b[0m                                Traceback (most recent call last)",
      "\u001b[1;32m<ipython-input-27-9768606c2308>\u001b[0m in \u001b[0;36m<module>\u001b[1;34m()\u001b[0m\n\u001b[1;32m----> 1\u001b[1;33m \u001b[1;32mprint\u001b[0m \u001b[0mhelp\u001b[0m\u001b[1;33m(\u001b[0m\u001b[0mmy_followers\u001b[0m\u001b[1;33m[\u001b[0m\u001b[1;36m0\u001b[0m\u001b[1;33m]\u001b[0m\u001b[1;33m)\u001b[0m\u001b[1;33m\u001b[0m\u001b[0m\n\u001b[0m",
      "\u001b[1;31mIndexError\u001b[0m: list index out of range"
     ]
    }
   ],
   "source": [
    "print help(my_followers[0])"
   ]
  },
  {
   "cell_type": "code",
   "execution_count": 28,
   "metadata": {
    "collapsed": false
   },
   "outputs": [
    {
     "ename": "IndexError",
     "evalue": "list index out of range",
     "output_type": "error",
     "traceback": [
      "\u001b[1;31m---------------------------------------------------------------------------\u001b[0m",
      "\u001b[1;31mIndexError\u001b[0m                                Traceback (most recent call last)",
      "\u001b[1;32m<ipython-input-28-bb8e18464e51>\u001b[0m in \u001b[0;36m<module>\u001b[1;34m()\u001b[0m\n\u001b[1;32m----> 1\u001b[1;33m \u001b[0mpp\u001b[0m\u001b[1;33m.\u001b[0m\u001b[0mpprint\u001b[0m\u001b[1;33m(\u001b[0m\u001b[0mmy_followers\u001b[0m\u001b[1;33m[\u001b[0m\u001b[1;36m0\u001b[0m\u001b[1;33m]\u001b[0m\u001b[1;33m.\u001b[0m\u001b[0m_json\u001b[0m\u001b[1;33m)\u001b[0m\u001b[1;33m\u001b[0m\u001b[0m\n\u001b[0m",
      "\u001b[1;31mIndexError\u001b[0m: list index out of range"
     ]
    }
   ],
   "source": [
    "pp.pprint(my_followers[0]._json)"
   ]
  },
  {
   "cell_type": "markdown",
   "metadata": {},
   "source": [
    "# Get External User"
   ]
  },
  {
   "cell_type": "code",
   "execution_count": 29,
   "metadata": {
    "collapsed": false
   },
   "outputs": [
    {
     "data": {
      "text/plain": [
       "User(follow_request_sent=False, has_extended_profile=False, profile_use_background_image=False, _json={u'follow_request_sent': False, u'has_extended_profile': False, u'profile_use_background_image': False, u'profile_text_color': u'333333', u'default_profile_image': False, u'id': 393894382, u'profile_background_image_url_https': u'https://abs.twimg.com/images/themes/theme1/bg.png', u'verified': False, u'translator_type': u'none', u'profile_location': None, u'profile_image_url_https': u'https://pbs.twimg.com/profile_images/597680334474485760/Z6OMNC0B_normal.jpg', u'profile_sidebar_fill_color': u'DDEEF6', u'entities': {u'url': {u'urls': [{u'url': u'http://t.co/lmrSnJtN6Y', u'indices': [0, 22], u'expanded_url': u'http://www.intesasanpaolo.com', u'display_url': u'intesasanpaolo.com'}]}, u'description': {u'urls': []}}, u'followers_count': 4364, u'profile_sidebar_border_color': u'FFFFFF', u'id_str': u'393894382', u'profile_background_color': u'DBDBDB', u'listed_count': 133, u'status': {u'contributors': None, u'truncated': False, u'text': u'RT @stati_generali: La digital transformation delle Pmi \\xe8 di casa nelle filiali Intesa Sanpaolo https://t.co/LNANxtdV6W @intesasanpaolo', u'is_quote_status': False, u'in_reply_to_status_id': None, u'id': 802560454111404032, u'favorite_count': 0, u'source': u'<a href=\"http://www.twitter.com\" rel=\"nofollow\">Twitter for Windows Phone</a>', u'retweeted': False, u'coordinates': None, u'entities': {u'symbols': [], u'user_mentions': [{u'id': 2582226552, u'indices': [3, 18], u'id_str': u'2582226552', u'screen_name': u'stati_generali', u'name': u'Gli Stati Generali'}, {u'id': 393894382, u'indices': [120, 135], u'id_str': u'393894382', u'screen_name': u'intesasanpaolo', u'name': u'Intesa Sanpaolo'}], u'hashtags': [], u'urls': [{u'url': u'https://t.co/LNANxtdV6W', u'indices': [96, 119], u'expanded_url': u'http://www.glistatigenerali.com/banche_innovazione/intesa-sanpaolo-la-digital-transformation-e-di-casa-nelle-filiali/', u'display_url': u'glistatigenerali.com/banche_innovaz\\u2026'}]}, u'in_reply_to_screen_name': None, u'in_reply_to_user_id': None, u'retweet_count': 2, u'id_str': u'802560454111404032', u'favorited': False, u'retweeted_status': {u'contributors': None, u'truncated': False, u'text': u'La digital transformation delle Pmi \\xe8 di casa nelle filiali Intesa Sanpaolo https://t.co/LNANxtdV6W @intesasanpaolo', u'is_quote_status': False, u'in_reply_to_status_id': None, u'id': 802468476459843584, u'favorite_count': 0, u'source': u'<a href=\"http://twitter.com\" rel=\"nofollow\">Twitter Web Client</a>', u'retweeted': False, u'coordinates': None, u'entities': {u'symbols': [], u'user_mentions': [{u'id': 393894382, u'indices': [100, 115], u'id_str': u'393894382', u'screen_name': u'intesasanpaolo', u'name': u'Intesa Sanpaolo'}], u'hashtags': [], u'urls': [{u'url': u'https://t.co/LNANxtdV6W', u'indices': [76, 99], u'expanded_url': u'http://www.glistatigenerali.com/banche_innovazione/intesa-sanpaolo-la-digital-transformation-e-di-casa-nelle-filiali/', u'display_url': u'glistatigenerali.com/banche_innovaz\\u2026'}]}, u'in_reply_to_screen_name': None, u'in_reply_to_user_id': None, u'retweet_count': 2, u'id_str': u'802468476459843584', u'favorited': False, u'geo': None, u'in_reply_to_user_id_str': None, u'possibly_sensitive': False, u'lang': u'it', u'created_at': u'Sat Nov 26 11:06:08 +0000 2016', u'in_reply_to_status_id_str': None, u'place': None}, u'geo': None, u'in_reply_to_user_id_str': None, u'possibly_sensitive': False, u'lang': u'it', u'created_at': u'Sat Nov 26 17:11:37 +0000 2016', u'in_reply_to_status_id_str': None, u'place': None}, u'is_translation_enabled': True, u'utc_offset': 3600, u'statuses_count': 2464, u'description': u'Notizie, eventi e informazioni in tempo reale sul mondo Intesa Sanpaolo. Per assistenza su prodotti e servizi seguici su @IntesaSP_Help e @IntesaSPgiovani.', u'friends_count': 182, u'location': u'', u'profile_link_color': u'929292', u'profile_image_url': u'http://pbs.twimg.com/profile_images/597680334474485760/Z6OMNC0B_normal.jpg', u'following': False, u'geo_enabled': False, u'profile_banner_url': u'https://pbs.twimg.com/profile_banners/393894382/1473949795', u'profile_background_image_url': u'http://abs.twimg.com/images/themes/theme1/bg.png', u'name': u'Intesa Sanpaolo', u'lang': u'it', u'profile_background_tile': False, u'favourites_count': 1132, u'screen_name': u'intesasanpaolo', u'notifications': False, u'url': u'http://t.co/lmrSnJtN6Y', u'created_at': u'Wed Oct 19 07:46:49 +0000 2011', u'contributors_enabled': False, u'time_zone': u'Rome', u'protected': False, u'default_profile': False, u'is_translator': False}, time_zone=u'Rome', id=393894382, description=u'Notizie, eventi e informazioni in tempo reale sul mondo Intesa Sanpaolo. Per assistenza su prodotti e servizi seguici su @IntesaSP_Help e @IntesaSPgiovani.', _api=<tweepy.api.API object at 0x7fe28ab1c950>, verified=False, profile_location=None, profile_image_url_https=u'https://pbs.twimg.com/profile_images/597680334474485760/Z6OMNC0B_normal.jpg', profile_sidebar_fill_color=u'DDEEF6', is_translator=False, geo_enabled=False, entities={u'url': {u'urls': [{u'url': u'http://t.co/lmrSnJtN6Y', u'indices': [0, 22], u'expanded_url': u'http://www.intesasanpaolo.com', u'display_url': u'intesasanpaolo.com'}]}, u'description': {u'urls': []}}, followers_count=4364, protected=False, id_str=u'393894382', default_profile_image=False, listed_count=133, status=Status(contributors=None, truncated=False, text=u'RT @stati_generali: La digital transformation delle Pmi \\xe8 di casa nelle filiali Intesa Sanpaolo https://t.co/LNANxtdV6W @intesasanpaolo', is_quote_status=False, in_reply_to_status_id=None, id=802560454111404032, favorite_count=0, _api=<tweepy.api.API object at 0x7fe28ab1c950>, source=u'Twitter for Windows Phone', _json={u'contributors': None, u'truncated': False, u'text': u'RT @stati_generali: La digital transformation delle Pmi \\xe8 di casa nelle filiali Intesa Sanpaolo https://t.co/LNANxtdV6W @intesasanpaolo', u'is_quote_status': False, u'in_reply_to_status_id': None, u'id': 802560454111404032, u'favorite_count': 0, u'source': u'<a href=\"http://www.twitter.com\" rel=\"nofollow\">Twitter for Windows Phone</a>', u'retweeted': False, u'coordinates': None, u'entities': {u'symbols': [], u'user_mentions': [{u'id': 2582226552, u'indices': [3, 18], u'id_str': u'2582226552', u'screen_name': u'stati_generali', u'name': u'Gli Stati Generali'}, {u'id': 393894382, u'indices': [120, 135], u'id_str': u'393894382', u'screen_name': u'intesasanpaolo', u'name': u'Intesa Sanpaolo'}], u'hashtags': [], u'urls': [{u'url': u'https://t.co/LNANxtdV6W', u'indices': [96, 119], u'expanded_url': u'http://www.glistatigenerali.com/banche_innovazione/intesa-sanpaolo-la-digital-transformation-e-di-casa-nelle-filiali/', u'display_url': u'glistatigenerali.com/banche_innovaz\\u2026'}]}, u'in_reply_to_screen_name': None, u'in_reply_to_user_id': None, u'retweet_count': 2, u'id_str': u'802560454111404032', u'favorited': False, u'retweeted_status': {u'contributors': None, u'truncated': False, u'text': u'La digital transformation delle Pmi \\xe8 di casa nelle filiali Intesa Sanpaolo https://t.co/LNANxtdV6W @intesasanpaolo', u'is_quote_status': False, u'in_reply_to_status_id': None, u'id': 802468476459843584, u'favorite_count': 0, u'source': u'<a href=\"http://twitter.com\" rel=\"nofollow\">Twitter Web Client</a>', u'retweeted': False, u'coordinates': None, u'entities': {u'symbols': [], u'user_mentions': [{u'id': 393894382, u'indices': [100, 115], u'id_str': u'393894382', u'screen_name': u'intesasanpaolo', u'name': u'Intesa Sanpaolo'}], u'hashtags': [], u'urls': [{u'url': u'https://t.co/LNANxtdV6W', u'indices': [76, 99], u'expanded_url': u'http://www.glistatigenerali.com/banche_innovazione/intesa-sanpaolo-la-digital-transformation-e-di-casa-nelle-filiali/', u'display_url': u'glistatigenerali.com/banche_innovaz\\u2026'}]}, u'in_reply_to_screen_name': None, u'in_reply_to_user_id': None, u'retweet_count': 2, u'id_str': u'802468476459843584', u'favorited': False, u'geo': None, u'in_reply_to_user_id_str': None, u'possibly_sensitive': False, u'lang': u'it', u'created_at': u'Sat Nov 26 11:06:08 +0000 2016', u'in_reply_to_status_id_str': None, u'place': None}, u'geo': None, u'in_reply_to_user_id_str': None, u'possibly_sensitive': False, u'lang': u'it', u'created_at': u'Sat Nov 26 17:11:37 +0000 2016', u'in_reply_to_status_id_str': None, u'place': None}, coordinates=None, entities={u'symbols': [], u'user_mentions': [{u'id': 2582226552, u'indices': [3, 18], u'id_str': u'2582226552', u'screen_name': u'stati_generali', u'name': u'Gli Stati Generali'}, {u'id': 393894382, u'indices': [120, 135], u'id_str': u'393894382', u'screen_name': u'intesasanpaolo', u'name': u'Intesa Sanpaolo'}], u'hashtags': [], u'urls': [{u'url': u'https://t.co/LNANxtdV6W', u'indices': [96, 119], u'expanded_url': u'http://www.glistatigenerali.com/banche_innovazione/intesa-sanpaolo-la-digital-transformation-e-di-casa-nelle-filiali/', u'display_url': u'glistatigenerali.com/banche_innovaz\\u2026'}]}, in_reply_to_screen_name=None, id_str=u'802560454111404032', retweet_count=2, in_reply_to_user_id=None, favorited=False, retweeted_status=Status(contributors=None, truncated=False, text=u'La digital transformation delle Pmi \\xe8 di casa nelle filiali Intesa Sanpaolo https://t.co/LNANxtdV6W @intesasanpaolo', is_quote_status=False, in_reply_to_status_id=None, id=802468476459843584, favorite_count=0, _api=<tweepy.api.API object at 0x7fe28ab1c950>, source=u'Twitter Web Client', _json={u'contributors': None, u'truncated': False, u'text': u'La digital transformation delle Pmi \\xe8 di casa nelle filiali Intesa Sanpaolo https://t.co/LNANxtdV6W @intesasanpaolo', u'is_quote_status': False, u'in_reply_to_status_id': None, u'id': 802468476459843584, u'favorite_count': 0, u'source': u'<a href=\"http://twitter.com\" rel=\"nofollow\">Twitter Web Client</a>', u'retweeted': False, u'coordinates': None, u'entities': {u'symbols': [], u'user_mentions': [{u'id': 393894382, u'indices': [100, 115], u'id_str': u'393894382', u'screen_name': u'intesasanpaolo', u'name': u'Intesa Sanpaolo'}], u'hashtags': [], u'urls': [{u'url': u'https://t.co/LNANxtdV6W', u'indices': [76, 99], u'expanded_url': u'http://www.glistatigenerali.com/banche_innovazione/intesa-sanpaolo-la-digital-transformation-e-di-casa-nelle-filiali/', u'display_url': u'glistatigenerali.com/banche_innovaz\\u2026'}]}, u'in_reply_to_screen_name': None, u'in_reply_to_user_id': None, u'retweet_count': 2, u'id_str': u'802468476459843584', u'favorited': False, u'geo': None, u'in_reply_to_user_id_str': None, u'possibly_sensitive': False, u'lang': u'it', u'created_at': u'Sat Nov 26 11:06:08 +0000 2016', u'in_reply_to_status_id_str': None, u'place': None}, coordinates=None, entities={u'symbols': [], u'user_mentions': [{u'id': 393894382, u'indices': [100, 115], u'id_str': u'393894382', u'screen_name': u'intesasanpaolo', u'name': u'Intesa Sanpaolo'}], u'hashtags': [], u'urls': [{u'url': u'https://t.co/LNANxtdV6W', u'indices': [76, 99], u'expanded_url': u'http://www.glistatigenerali.com/banche_innovazione/intesa-sanpaolo-la-digital-transformation-e-di-casa-nelle-filiali/', u'display_url': u'glistatigenerali.com/banche_innovaz\\u2026'}]}, in_reply_to_screen_name=None, id_str=u'802468476459843584', retweet_count=2, in_reply_to_user_id=None, favorited=False, source_url=u'http://twitter.com', geo=None, in_reply_to_user_id_str=None, possibly_sensitive=False, lang=u'it', created_at=datetime.datetime(2016, 11, 26, 11, 6, 8), in_reply_to_status_id_str=None, place=None, retweeted=False), source_url=u'http://www.twitter.com', geo=None, in_reply_to_user_id_str=None, possibly_sensitive=False, lang=u'it', created_at=datetime.datetime(2016, 11, 26, 17, 11, 37), in_reply_to_status_id_str=None, place=None, retweeted=False), lang=u'it', utc_offset=3600, statuses_count=2464, profile_background_color=u'DBDBDB', friends_count=182, profile_link_color=u'929292', profile_image_url=u'http://pbs.twimg.com/profile_images/597680334474485760/Z6OMNC0B_normal.jpg', notifications=False, default_profile=False, favourites_count=1132, profile_background_image_url_https=u'https://abs.twimg.com/images/themes/theme1/bg.png', profile_banner_url=u'https://pbs.twimg.com/profile_banners/393894382/1473949795', profile_background_image_url=u'http://abs.twimg.com/images/themes/theme1/bg.png', screen_name=u'intesasanpaolo', is_translation_enabled=True, profile_background_tile=False, profile_text_color=u'333333', name=u'Intesa Sanpaolo', url=u'http://t.co/lmrSnJtN6Y', created_at=datetime.datetime(2011, 10, 19, 7, 46, 49), contributors_enabled=False, location=u'', profile_sidebar_border_color=u'FFFFFF', translator_type=u'none', following=False)"
      ]
     },
     "execution_count": 29,
     "metadata": {},
     "output_type": "execute_result"
    }
   ],
   "source": [
    "intesa = api.get_user(\"intesasanpaolo\")\n",
    "intesa"
   ]
  },
  {
   "cell_type": "code",
   "execution_count": 31,
   "metadata": {
    "collapsed": false
   },
   "outputs": [],
   "source": [
    "# help(intesa)"
   ]
  },
  {
   "cell_type": "code",
   "execution_count": 32,
   "metadata": {
    "collapsed": false
   },
   "outputs": [
    {
     "name": "stdout",
     "output_type": "stream",
     "text": [
      "4364\n"
     ]
    }
   ],
   "source": [
    "print intesa.followers_count"
   ]
  },
  {
   "cell_type": "code",
   "execution_count": 33,
   "metadata": {
    "collapsed": false
   },
   "outputs": [
    {
     "data": {
      "text/plain": [
       "182"
      ]
     },
     "execution_count": 33,
     "metadata": {},
     "output_type": "execute_result"
    }
   ],
   "source": [
    "intesa.friends_count"
   ]
  },
  {
   "cell_type": "code",
   "execution_count": 34,
   "metadata": {
    "collapsed": false
   },
   "outputs": [
    {
     "name": "stdout",
     "output_type": "stream",
     "text": [
      "182\n"
     ]
    }
   ],
   "source": [
    "friends = api.friends_ids('intesasanpaolo')\n",
    "print len(friends)"
   ]
  },
  {
   "cell_type": "code",
   "execution_count": 35,
   "metadata": {
    "collapsed": false
   },
   "outputs": [
    {
     "name": "stdout",
     "output_type": "stream",
     "text": [
      "20\n"
     ]
    }
   ],
   "source": [
    "likes = api.favorites('intesasanpaolo')\n",
    "print len(likes)"
   ]
  },
  {
   "cell_type": "code",
   "execution_count": 36,
   "metadata": {
    "collapsed": false
   },
   "outputs": [
    {
     "data": {
      "text/plain": [
       "Status(contributors=None, truncated=False, text=u'Grazie ai main sponsor @intesasanpaolo @fiatontheweb allo sponsor @Equilibra_Ita e al vettore ufficiale @AirFranceIT #TFF34 #closing', is_quote_status=False, in_reply_to_status_id=None, id=802595185058148352, favorite_count=1, _api=<tweepy.api.API object at 0x7fe28ab1c950>, author=User(follow_request_sent=False, has_extended_profile=False, profile_use_background_image=False, _json={u'follow_request_sent': False, u'has_extended_profile': False, u'profile_use_background_image': False, u'default_profile_image': False, u'id': 856100162, u'profile_background_image_url_https': u'https://pbs.twimg.com/profile_background_images/378800000096375820/91dac0f45c33f4ce824fbfa628e41739.jpeg', u'verified': False, u'translator_type': u'none', u'profile_text_color': u'333333', u'profile_image_url_https': u'https://pbs.twimg.com/profile_images/697729672143093760/5G6cZXbG_normal.jpg', u'profile_sidebar_fill_color': u'EFEFEF', u'entities': {u'url': {u'urls': [{u'url': u'http://t.co/ezPJPVFPMc', u'indices': [0, 22], u'expanded_url': u'http://torinofilmfest.org', u'display_url': u'torinofilmfest.org'}]}, u'description': {u'urls': []}}, u'followers_count': 11838, u'profile_sidebar_border_color': u'FFFFFF', u'id_str': u'856100162', u'profile_background_color': u'131516', u'listed_count': 243, u'is_translation_enabled': False, u'utc_offset': None, u'statuses_count': 3659, u'description': u'Account ufficiale del Torino Film Festival / Official account of the Torino Film Festival // #TFF34 (18-26 novembre 2016)', u'friends_count': 373, u'location': u'Torino', u'profile_link_color': u'009999', u'profile_image_url': u'http://pbs.twimg.com/profile_images/697729672143093760/5G6cZXbG_normal.jpg', u'following': False, u'geo_enabled': True, u'profile_banner_url': u'https://pbs.twimg.com/profile_banners/856100162/1455187483', u'profile_background_image_url': u'http://pbs.twimg.com/profile_background_images/378800000096375820/91dac0f45c33f4ce824fbfa628e41739.jpeg', u'screen_name': u'torinofilmfest', u'lang': u'it', u'profile_background_tile': True, u'favourites_count': 1241, u'name': u'Torino Film Festival', u'notifications': False, u'url': u'http://t.co/ezPJPVFPMc', u'created_at': u'Mon Oct 01 09:25:31 +0000 2012', u'contributors_enabled': False, u'time_zone': None, u'protected': False, u'default_profile': False, u'is_translator': False}, time_zone=None, id=856100162, description=u'Account ufficiale del Torino Film Festival / Official account of the Torino Film Festival // #TFF34 (18-26 novembre 2016)', _api=<tweepy.api.API object at 0x7fe28ab1c950>, verified=False, profile_text_color=u'333333', profile_image_url_https=u'https://pbs.twimg.com/profile_images/697729672143093760/5G6cZXbG_normal.jpg', profile_sidebar_fill_color=u'EFEFEF', is_translator=False, geo_enabled=True, entities={u'url': {u'urls': [{u'url': u'http://t.co/ezPJPVFPMc', u'indices': [0, 22], u'expanded_url': u'http://torinofilmfest.org', u'display_url': u'torinofilmfest.org'}]}, u'description': {u'urls': []}}, followers_count=11838, protected=False, id_str=u'856100162', default_profile_image=False, listed_count=243, lang=u'it', utc_offset=None, statuses_count=3659, profile_background_color=u'131516', friends_count=373, profile_link_color=u'009999', profile_image_url=u'http://pbs.twimg.com/profile_images/697729672143093760/5G6cZXbG_normal.jpg', notifications=False, default_profile=False, profile_background_image_url_https=u'https://pbs.twimg.com/profile_background_images/378800000096375820/91dac0f45c33f4ce824fbfa628e41739.jpeg', profile_banner_url=u'https://pbs.twimg.com/profile_banners/856100162/1455187483', profile_background_image_url=u'http://pbs.twimg.com/profile_background_images/378800000096375820/91dac0f45c33f4ce824fbfa628e41739.jpeg', name=u'Torino Film Festival', is_translation_enabled=False, profile_background_tile=True, favourites_count=1241, screen_name=u'torinofilmfest', url=u'http://t.co/ezPJPVFPMc', created_at=datetime.datetime(2012, 10, 1, 9, 25, 31), contributors_enabled=False, location=u'Torino', profile_sidebar_border_color=u'FFFFFF', translator_type=u'none', following=False), _json={u'contributors': None, u'truncated': False, u'text': u'Grazie ai main sponsor @intesasanpaolo @fiatontheweb allo sponsor @Equilibra_Ita e al vettore ufficiale @AirFranceIT #TFF34 #closing', u'is_quote_status': False, u'in_reply_to_status_id': None, u'id': 802595185058148352, u'favorite_count': 1, u'source': u'<a href=\"http://twitter.com/download/iphone\" rel=\"nofollow\">Twitter for iPhone</a>', u'retweeted': False, u'coordinates': None, u'entities': {u'symbols': [], u'user_mentions': [{u'id': 393894382, u'indices': [23, 38], u'id_str': u'393894382', u'screen_name': u'intesasanpaolo', u'name': u'Intesa Sanpaolo'}, {u'id': 25531576, u'indices': [39, 52], u'id_str': u'25531576', u'screen_name': u'fiatontheweb', u'name': u'Fiat'}, {u'id': 1851229032, u'indices': [66, 80], u'id_str': u'1851229032', u'screen_name': u'Equilibra_Ita', u'name': u'Equilibra'}, {u'id': 92972752, u'indices': [104, 116], u'id_str': u'92972752', u'screen_name': u'AirFranceIT', u'name': u'Air France IT'}], u'hashtags': [{u'indices': [117, 123], u'text': u'TFF34'}, {u'indices': [124, 132], u'text': u'closing'}], u'urls': []}, u'in_reply_to_screen_name': None, u'in_reply_to_user_id': None, u'retweet_count': 0, u'id_str': u'802595185058148352', u'favorited': False, u'user': {u'follow_request_sent': False, u'has_extended_profile': False, u'profile_use_background_image': False, u'default_profile_image': False, u'id': 856100162, u'profile_background_image_url_https': u'https://pbs.twimg.com/profile_background_images/378800000096375820/91dac0f45c33f4ce824fbfa628e41739.jpeg', u'verified': False, u'translator_type': u'none', u'profile_text_color': u'333333', u'profile_image_url_https': u'https://pbs.twimg.com/profile_images/697729672143093760/5G6cZXbG_normal.jpg', u'profile_sidebar_fill_color': u'EFEFEF', u'entities': {u'url': {u'urls': [{u'url': u'http://t.co/ezPJPVFPMc', u'indices': [0, 22], u'expanded_url': u'http://torinofilmfest.org', u'display_url': u'torinofilmfest.org'}]}, u'description': {u'urls': []}}, u'followers_count': 11838, u'profile_sidebar_border_color': u'FFFFFF', u'id_str': u'856100162', u'profile_background_color': u'131516', u'listed_count': 243, u'is_translation_enabled': False, u'utc_offset': None, u'statuses_count': 3659, u'description': u'Account ufficiale del Torino Film Festival / Official account of the Torino Film Festival // #TFF34 (18-26 novembre 2016)', u'friends_count': 373, u'location': u'Torino', u'profile_link_color': u'009999', u'profile_image_url': u'http://pbs.twimg.com/profile_images/697729672143093760/5G6cZXbG_normal.jpg', u'following': False, u'geo_enabled': True, u'profile_banner_url': u'https://pbs.twimg.com/profile_banners/856100162/1455187483', u'profile_background_image_url': u'http://pbs.twimg.com/profile_background_images/378800000096375820/91dac0f45c33f4ce824fbfa628e41739.jpeg', u'screen_name': u'torinofilmfest', u'lang': u'it', u'profile_background_tile': True, u'favourites_count': 1241, u'name': u'Torino Film Festival', u'notifications': False, u'url': u'http://t.co/ezPJPVFPMc', u'created_at': u'Mon Oct 01 09:25:31 +0000 2012', u'contributors_enabled': False, u'time_zone': None, u'protected': False, u'default_profile': False, u'is_translator': False}, u'geo': None, u'in_reply_to_user_id_str': None, u'lang': u'it', u'created_at': u'Sat Nov 26 19:29:38 +0000 2016', u'in_reply_to_status_id_str': None, u'place': None}, coordinates=None, entities={u'symbols': [], u'user_mentions': [{u'id': 393894382, u'indices': [23, 38], u'id_str': u'393894382', u'screen_name': u'intesasanpaolo', u'name': u'Intesa Sanpaolo'}, {u'id': 25531576, u'indices': [39, 52], u'id_str': u'25531576', u'screen_name': u'fiatontheweb', u'name': u'Fiat'}, {u'id': 1851229032, u'indices': [66, 80], u'id_str': u'1851229032', u'screen_name': u'Equilibra_Ita', u'name': u'Equilibra'}, {u'id': 92972752, u'indices': [104, 116], u'id_str': u'92972752', u'screen_name': u'AirFranceIT', u'name': u'Air France IT'}], u'hashtags': [{u'indices': [117, 123], u'text': u'TFF34'}, {u'indices': [124, 132], u'text': u'closing'}], u'urls': []}, in_reply_to_screen_name=None, id_str=u'802595185058148352', retweet_count=0, in_reply_to_user_id=None, favorited=False, source_url=u'http://twitter.com/download/iphone', user=User(follow_request_sent=False, has_extended_profile=False, profile_use_background_image=False, _json={u'follow_request_sent': False, u'has_extended_profile': False, u'profile_use_background_image': False, u'default_profile_image': False, u'id': 856100162, u'profile_background_image_url_https': u'https://pbs.twimg.com/profile_background_images/378800000096375820/91dac0f45c33f4ce824fbfa628e41739.jpeg', u'verified': False, u'translator_type': u'none', u'profile_text_color': u'333333', u'profile_image_url_https': u'https://pbs.twimg.com/profile_images/697729672143093760/5G6cZXbG_normal.jpg', u'profile_sidebar_fill_color': u'EFEFEF', u'entities': {u'url': {u'urls': [{u'url': u'http://t.co/ezPJPVFPMc', u'indices': [0, 22], u'expanded_url': u'http://torinofilmfest.org', u'display_url': u'torinofilmfest.org'}]}, u'description': {u'urls': []}}, u'followers_count': 11838, u'profile_sidebar_border_color': u'FFFFFF', u'id_str': u'856100162', u'profile_background_color': u'131516', u'listed_count': 243, u'is_translation_enabled': False, u'utc_offset': None, u'statuses_count': 3659, u'description': u'Account ufficiale del Torino Film Festival / Official account of the Torino Film Festival // #TFF34 (18-26 novembre 2016)', u'friends_count': 373, u'location': u'Torino', u'profile_link_color': u'009999', u'profile_image_url': u'http://pbs.twimg.com/profile_images/697729672143093760/5G6cZXbG_normal.jpg', u'following': False, u'geo_enabled': True, u'profile_banner_url': u'https://pbs.twimg.com/profile_banners/856100162/1455187483', u'profile_background_image_url': u'http://pbs.twimg.com/profile_background_images/378800000096375820/91dac0f45c33f4ce824fbfa628e41739.jpeg', u'screen_name': u'torinofilmfest', u'lang': u'it', u'profile_background_tile': True, u'favourites_count': 1241, u'name': u'Torino Film Festival', u'notifications': False, u'url': u'http://t.co/ezPJPVFPMc', u'created_at': u'Mon Oct 01 09:25:31 +0000 2012', u'contributors_enabled': False, u'time_zone': None, u'protected': False, u'default_profile': False, u'is_translator': False}, time_zone=None, id=856100162, description=u'Account ufficiale del Torino Film Festival / Official account of the Torino Film Festival // #TFF34 (18-26 novembre 2016)', _api=<tweepy.api.API object at 0x7fe28ab1c950>, verified=False, profile_text_color=u'333333', profile_image_url_https=u'https://pbs.twimg.com/profile_images/697729672143093760/5G6cZXbG_normal.jpg', profile_sidebar_fill_color=u'EFEFEF', is_translator=False, geo_enabled=True, entities={u'url': {u'urls': [{u'url': u'http://t.co/ezPJPVFPMc', u'indices': [0, 22], u'expanded_url': u'http://torinofilmfest.org', u'display_url': u'torinofilmfest.org'}]}, u'description': {u'urls': []}}, followers_count=11838, protected=False, id_str=u'856100162', default_profile_image=False, listed_count=243, lang=u'it', utc_offset=None, statuses_count=3659, profile_background_color=u'131516', friends_count=373, profile_link_color=u'009999', profile_image_url=u'http://pbs.twimg.com/profile_images/697729672143093760/5G6cZXbG_normal.jpg', notifications=False, default_profile=False, profile_background_image_url_https=u'https://pbs.twimg.com/profile_background_images/378800000096375820/91dac0f45c33f4ce824fbfa628e41739.jpeg', profile_banner_url=u'https://pbs.twimg.com/profile_banners/856100162/1455187483', profile_background_image_url=u'http://pbs.twimg.com/profile_background_images/378800000096375820/91dac0f45c33f4ce824fbfa628e41739.jpeg', name=u'Torino Film Festival', is_translation_enabled=False, profile_background_tile=True, favourites_count=1241, screen_name=u'torinofilmfest', url=u'http://t.co/ezPJPVFPMc', created_at=datetime.datetime(2012, 10, 1, 9, 25, 31), contributors_enabled=False, location=u'Torino', profile_sidebar_border_color=u'FFFFFF', translator_type=u'none', following=False), geo=None, in_reply_to_user_id_str=None, lang=u'it', created_at=datetime.datetime(2016, 11, 26, 19, 29, 38), in_reply_to_status_id_str=None, place=None, source=u'Twitter for iPhone', retweeted=False)"
      ]
     },
     "execution_count": 36,
     "metadata": {},
     "output_type": "execute_result"
    }
   ],
   "source": [
    "likes[0]"
   ]
  },
  {
   "cell_type": "code",
   "execution_count": 37,
   "metadata": {
    "collapsed": false
   },
   "outputs": [
    {
     "name": "stdout",
     "output_type": "stream",
     "text": [
      "4364\n"
     ]
    }
   ],
   "source": [
    "intesa_followers_count =  intesa.followers_ids()\n",
    "print len(intesa_followers_count)"
   ]
  },
  {
   "cell_type": "code",
   "execution_count": 38,
   "metadata": {
    "collapsed": false
   },
   "outputs": [
    {
     "name": "stdout",
     "output_type": "stream",
     "text": [
      "802796720769929216\n"
     ]
    }
   ],
   "source": [
    "print intesa_followers_count[0]"
   ]
  },
  {
   "cell_type": "code",
   "execution_count": 39,
   "metadata": {
    "collapsed": false
   },
   "outputs": [
    {
     "data": {
      "text/plain": [
       "User(follow_request_sent=False, has_extended_profile=False, profile_use_background_image=True, _json={u'follow_request_sent': False, u'has_extended_profile': False, u'profile_use_background_image': True, u'profile_text_color': u'333333', u'default_profile_image': True, u'id': 802796720769929216, u'profile_background_image_url_https': None, u'verified': False, u'translator_type': u'none', u'profile_location': None, u'profile_image_url_https': u'https://abs.twimg.com/sticky/default_profile_images/default_profile_2_normal.png', u'profile_sidebar_fill_color': u'DDEEF6', u'entities': {u'description': {u'urls': []}}, u'followers_count': 2, u'profile_sidebar_border_color': u'C0DEED', u'id_str': u'802796720769929216', u'profile_background_color': u'F5F8FA', u'listed_count': 0, u'is_translation_enabled': False, u'utc_offset': None, u'statuses_count': 0, u'description': u'', u'friends_count': 59, u'location': u'', u'profile_link_color': u'1DA1F2', u'profile_image_url': u'http://abs.twimg.com/sticky/default_profile_images/default_profile_2_normal.png', u'following': False, u'geo_enabled': False, u'profile_background_image_url': None, u'name': u'Giuseppe', u'lang': u'it', u'profile_background_tile': False, u'favourites_count': 0, u'screen_name': u'GiusbonGiuseppe', u'notifications': False, u'url': None, u'created_at': u'Sun Nov 27 08:50:28 +0000 2016', u'contributors_enabled': False, u'time_zone': None, u'protected': False, u'default_profile': True, u'is_translator': False}, time_zone=None, id=802796720769929216, description=u'', _api=<tweepy.api.API object at 0x7fe28ab1c950>, verified=False, profile_location=None, profile_image_url_https=u'https://abs.twimg.com/sticky/default_profile_images/default_profile_2_normal.png', profile_sidebar_fill_color=u'DDEEF6', is_translator=False, geo_enabled=False, entities={u'description': {u'urls': []}}, followers_count=2, protected=False, id_str=u'802796720769929216', default_profile_image=True, listed_count=0, lang=u'it', utc_offset=None, statuses_count=0, profile_background_color=u'F5F8FA', friends_count=59, profile_link_color=u'1DA1F2', profile_image_url=u'http://abs.twimg.com/sticky/default_profile_images/default_profile_2_normal.png', notifications=False, default_profile=True, favourites_count=0, profile_background_image_url_https=None, profile_background_image_url=None, screen_name=u'GiusbonGiuseppe', is_translation_enabled=False, profile_background_tile=False, profile_text_color=u'333333', name=u'Giuseppe', url=None, created_at=datetime.datetime(2016, 11, 27, 8, 50, 28), contributors_enabled=False, location=u'', profile_sidebar_border_color=u'C0DEED', translator_type=u'none', following=False)"
      ]
     },
     "execution_count": 39,
     "metadata": {},
     "output_type": "execute_result"
    }
   ],
   "source": [
    "api.get_user(intesa_followers_count[0])"
   ]
  },
  {
   "cell_type": "markdown",
   "metadata": {},
   "source": [
    "# Cursor"
   ]
  },
  {
   "cell_type": "code",
   "execution_count": 40,
   "metadata": {
    "collapsed": false
   },
   "outputs": [
    {
     "name": "stdout",
     "output_type": "stream",
     "text": [
      "4364\n"
     ]
    }
   ],
   "source": [
    "print len(intesa_followers_count)"
   ]
  },
  {
   "cell_type": "code",
   "execution_count": 41,
   "metadata": {
    "collapsed": false
   },
   "outputs": [
    {
     "name": "stdout",
     "output_type": "stream",
     "text": [
      "20\n"
     ]
    }
   ],
   "source": [
    "intesa_followers = intesa.followers()\n",
    "print len(intesa_followers)"
   ]
  },
  {
   "cell_type": "code",
   "execution_count": 42,
   "metadata": {
    "collapsed": false
   },
   "outputs": [
    {
     "name": "stdout",
     "output_type": "stream",
     "text": [
      "Help on class Cursor in module tweepy.cursor:\n",
      "\n",
      "class Cursor(__builtin__.object)\n",
      " |  Pagination helper class\n",
      " |  \n",
      " |  Methods defined here:\n",
      " |  \n",
      " |  __init__(self, method, *args, **kargs)\n",
      " |  \n",
      " |  items(self, limit=0)\n",
      " |      Return iterator for items in each page\n",
      " |  \n",
      " |  pages(self, limit=0)\n",
      " |      Return iterator for pages\n",
      " |  \n",
      " |  ----------------------------------------------------------------------\n",
      " |  Data descriptors defined here:\n",
      " |  \n",
      " |  __dict__\n",
      " |      dictionary for instance variables (if defined)\n",
      " |  \n",
      " |  __weakref__\n",
      " |      list of weak references to the object (if defined)\n",
      "\n"
     ]
    }
   ],
   "source": [
    "help(tweepy.Cursor)"
   ]
  },
  {
   "cell_type": "code",
   "execution_count": 43,
   "metadata": {
    "collapsed": false
   },
   "outputs": [],
   "source": [
    "intesa_cursor = tweepy.Cursor(api.followers, screen_name='intesasanpaolo')"
   ]
  },
  {
   "cell_type": "code",
   "execution_count": 44,
   "metadata": {
    "collapsed": false
   },
   "outputs": [
    {
     "name": "stdout",
     "output_type": "stream",
     "text": [
      "['__class__', '__delattr__', '__dict__', '__doc__', '__format__', '__getattribute__', '__hash__', '__init__', '__module__', '__new__', '__reduce__', '__reduce_ex__', '__repr__', '__setattr__', '__sizeof__', '__str__', '__subclasshook__', '__weakref__', 'items', 'iterator', 'pages']\n"
     ]
    }
   ],
   "source": [
    "print dir(intesa_cursor)"
   ]
  },
  {
   "cell_type": "code",
   "execution_count": 45,
   "metadata": {
    "collapsed": false
   },
   "outputs": [
    {
     "data": {
      "text/plain": [
       "<tweepy.cursor.Cursor at 0x7fe28a253910>"
      ]
     },
     "execution_count": 45,
     "metadata": {},
     "output_type": "execute_result"
    }
   ],
   "source": [
    "intesa_cursor"
   ]
  },
  {
   "cell_type": "code",
   "execution_count": 46,
   "metadata": {
    "collapsed": false
   },
   "outputs": [
    {
     "name": "stdout",
     "output_type": "stream",
     "text": [
      "<tweepy.cursor.ItemIterator object at 0x7fe28a250c10>\n"
     ]
    }
   ],
   "source": [
    "print intesa_cursor.items()"
   ]
  },
  {
   "cell_type": "code",
   "execution_count": 48,
   "metadata": {
    "collapsed": false
   },
   "outputs": [
    {
     "name": "stdout",
     "output_type": "stream",
     "text": [
      "User(follow_request_sent=False, has_extended_profile=False, profile_use_background_image=True, profile_sidebar_fill_color=u'DDEEF6', live_following=False, time_zone=u'Greenland', id=44395872, description=u'', _api=<tweepy.api.API object at 0x7fe28ab1c950>, verified=False, blocked_by=False, profile_text_color=u'333333', muting=False, profile_image_url_https=u'https://abs.twimg.com/sticky/default_profile_images/default_profile_3_normal.png', _json={u'follow_request_sent': False, u'has_extended_profile': False, u'profile_use_background_image': True, u'live_following': False, u'default_profile_image': True, u'id': 44395872, u'profile_background_image_url_https': u'https://abs.twimg.com/images/themes/theme1/bg.png', u'translator_type': u'none', u'verified': False, u'blocked_by': False, u'profile_text_color': u'333333', u'muting': False, u'profile_image_url_https': u'https://abs.twimg.com/sticky/default_profile_images/default_profile_3_normal.png', u'profile_sidebar_fill_color': u'DDEEF6', u'entities': {u'description': {u'urls': []}}, u'followers_count': 4, u'profile_sidebar_border_color': u'C0DEED', u'id_str': u'44395872', u'profile_background_color': u'C0DEED', u'listed_count': 0, u'status': {u'contributors': None, u'truncated': False, u'text': u'RT @Pontifex_it: Dove non c\\u2019\\xe8 lavoro, non c\\u2019\\xe8 dignit\\xe0.', u'is_quote_status': False, u'in_reply_to_status_id': None, u'id': 609635888985960448, u'favorite_count': 0, u'source': u'<a href=\"http://www.twitter.com\" rel=\"nofollow\">Twitter for Windows Phone</a>', u'retweeted': False, u'coordinates': None, u'entities': {u'symbols': [], u'user_mentions': [{u'id': 500711588, u'indices': [3, 15], u'id_str': u'500711588', u'screen_name': u'Pontifex_it', u'name': u'Papa Francesco'}], u'hashtags': [], u'urls': []}, u'in_reply_to_screen_name': None, u'in_reply_to_user_id': None, u'retweet_count': 1899, u'id_str': u'609635888985960448', u'favorited': False, u'retweeted_status': {u'contributors': None, u'truncated': False, u'text': u'Dove non c\\u2019\\xe8 lavoro, non c\\u2019\\xe8 dignit\\xe0.', u'is_quote_status': False, u'in_reply_to_status_id': None, u'id': 608909298983305216, u'favorite_count': 2660, u'source': u'<a href=\"https://about.twitter.com/products/tweetdeck\" rel=\"nofollow\">TweetDeck</a>', u'retweeted': False, u'coordinates': None, u'entities': {u'symbols': [], u'user_mentions': [], u'hashtags': [], u'urls': []}, u'in_reply_to_screen_name': None, u'in_reply_to_user_id': None, u'retweet_count': 1899, u'id_str': u'608909298983305216', u'favorited': False, u'geo': None, u'in_reply_to_user_id_str': None, u'lang': u'it', u'created_at': u'Thu Jun 11 08:11:04 +0000 2015', u'in_reply_to_status_id_str': None, u'place': None}, u'geo': None, u'in_reply_to_user_id_str': None, u'lang': u'it', u'created_at': u'Sat Jun 13 08:18:17 +0000 2015', u'in_reply_to_status_id_str': None, u'place': None}, u'is_translation_enabled': False, u'utc_offset': -10800, u'statuses_count': 1, u'description': u'', u'friends_count': 3, u'location': u'ROMA', u'profile_link_color': u'1DA1F2', u'profile_image_url': u'http://abs.twimg.com/sticky/default_profile_images/default_profile_3_normal.png', u'following': False, u'geo_enabled': False, u'blocking': False, u'profile_background_image_url': u'http://abs.twimg.com/images/themes/theme1/bg.png', u'screen_name': u'CLAUDIAF75', u'lang': u'it', u'profile_background_tile': False, u'favourites_count': 1, u'name': u'CLAUDIA FALSETTI', u'notifications': False, u'url': None, u'created_at': u'Wed Jun 03 16:37:33 +0000 2009', u'contributors_enabled': False, u'time_zone': u'Greenland', u'protected': False, u'default_profile': True, u'is_translator': False}, is_translator=False, geo_enabled=False, entities={u'description': {u'urls': []}}, followers_count=4, protected=False, id_str=u'44395872', default_profile_image=True, listed_count=0, status=Status(contributors=None, truncated=False, text=u'RT @Pontifex_it: Dove non c\\u2019\\xe8 lavoro, non c\\u2019\\xe8 dignit\\xe0.', is_quote_status=False, in_reply_to_status_id=None, id=609635888985960448, favorite_count=0, _api=<tweepy.api.API object at 0x7fe28ab1c950>, source=u'Twitter for Windows Phone', _json={u'contributors': None, u'truncated': False, u'text': u'RT @Pontifex_it: Dove non c\\u2019\\xe8 lavoro, non c\\u2019\\xe8 dignit\\xe0.', u'is_quote_status': False, u'in_reply_to_status_id': None, u'id': 609635888985960448, u'favorite_count': 0, u'source': u'<a href=\"http://www.twitter.com\" rel=\"nofollow\">Twitter for Windows Phone</a>', u'retweeted': False, u'coordinates': None, u'entities': {u'symbols': [], u'user_mentions': [{u'id': 500711588, u'indices': [3, 15], u'id_str': u'500711588', u'screen_name': u'Pontifex_it', u'name': u'Papa Francesco'}], u'hashtags': [], u'urls': []}, u'in_reply_to_screen_name': None, u'in_reply_to_user_id': None, u'retweet_count': 1899, u'id_str': u'609635888985960448', u'favorited': False, u'retweeted_status': {u'contributors': None, u'truncated': False, u'text': u'Dove non c\\u2019\\xe8 lavoro, non c\\u2019\\xe8 dignit\\xe0.', u'is_quote_status': False, u'in_reply_to_status_id': None, u'id': 608909298983305216, u'favorite_count': 2660, u'source': u'<a href=\"https://about.twitter.com/products/tweetdeck\" rel=\"nofollow\">TweetDeck</a>', u'retweeted': False, u'coordinates': None, u'entities': {u'symbols': [], u'user_mentions': [], u'hashtags': [], u'urls': []}, u'in_reply_to_screen_name': None, u'in_reply_to_user_id': None, u'retweet_count': 1899, u'id_str': u'608909298983305216', u'favorited': False, u'geo': None, u'in_reply_to_user_id_str': None, u'lang': u'it', u'created_at': u'Thu Jun 11 08:11:04 +0000 2015', u'in_reply_to_status_id_str': None, u'place': None}, u'geo': None, u'in_reply_to_user_id_str': None, u'lang': u'it', u'created_at': u'Sat Jun 13 08:18:17 +0000 2015', u'in_reply_to_status_id_str': None, u'place': None}, coordinates=None, entities={u'symbols': [], u'user_mentions': [{u'id': 500711588, u'indices': [3, 15], u'id_str': u'500711588', u'screen_name': u'Pontifex_it', u'name': u'Papa Francesco'}], u'hashtags': [], u'urls': []}, in_reply_to_screen_name=None, id_str=u'609635888985960448', retweet_count=1899, in_reply_to_user_id=None, favorited=False, retweeted_status=Status(contributors=None, truncated=False, text=u'Dove non c\\u2019\\xe8 lavoro, non c\\u2019\\xe8 dignit\\xe0.', is_quote_status=False, in_reply_to_status_id=None, id=608909298983305216, favorite_count=2660, _api=<tweepy.api.API object at 0x7fe28ab1c950>, source=u'TweetDeck', _json={u'contributors': None, u'truncated': False, u'text': u'Dove non c\\u2019\\xe8 lavoro, non c\\u2019\\xe8 dignit\\xe0.', u'is_quote_status': False, u'in_reply_to_status_id': None, u'id': 608909298983305216, u'favorite_count': 2660, u'source': u'<a href=\"https://about.twitter.com/products/tweetdeck\" rel=\"nofollow\">TweetDeck</a>', u'retweeted': False, u'coordinates': None, u'entities': {u'symbols': [], u'user_mentions': [], u'hashtags': [], u'urls': []}, u'in_reply_to_screen_name': None, u'in_reply_to_user_id': None, u'retweet_count': 1899, u'id_str': u'608909298983305216', u'favorited': False, u'geo': None, u'in_reply_to_user_id_str': None, u'lang': u'it', u'created_at': u'Thu Jun 11 08:11:04 +0000 2015', u'in_reply_to_status_id_str': None, u'place': None}, coordinates=None, entities={u'symbols': [], u'user_mentions': [], u'hashtags': [], u'urls': []}, in_reply_to_screen_name=None, id_str=u'608909298983305216', retweet_count=1899, in_reply_to_user_id=None, favorited=False, source_url=u'https://about.twitter.com/products/tweetdeck', geo=None, in_reply_to_user_id_str=None, lang=u'it', created_at=datetime.datetime(2015, 6, 11, 8, 11, 4), in_reply_to_status_id_str=None, place=None, retweeted=False), source_url=u'http://www.twitter.com', geo=None, in_reply_to_user_id_str=None, lang=u'it', created_at=datetime.datetime(2015, 6, 13, 8, 18, 17), in_reply_to_status_id_str=None, place=None, retweeted=False), lang=u'it', utc_offset=-10800, statuses_count=1, profile_background_color=u'C0DEED', friends_count=3, profile_link_color=u'1DA1F2', profile_image_url=u'http://abs.twimg.com/sticky/default_profile_images/default_profile_3_normal.png', notifications=False, default_profile=True, profile_background_image_url_https=u'https://abs.twimg.com/images/themes/theme1/bg.png', blocking=False, profile_background_image_url=u'http://abs.twimg.com/images/themes/theme1/bg.png', name=u'CLAUDIA FALSETTI', is_translation_enabled=False, profile_background_tile=False, favourites_count=1, screen_name=u'CLAUDIAF75', url=None, created_at=datetime.datetime(2009, 6, 3, 16, 37, 33), contributors_enabled=False, location=u'ROMA', profile_sidebar_border_color=u'C0DEED', translator_type=u'none', following=False)\n"
     ]
    }
   ],
   "source": [
    "print intesa_cursor.items().next()   # generatore"
   ]
  },
  {
   "cell_type": "code",
   "execution_count": 49,
   "metadata": {
    "collapsed": false
   },
   "outputs": [
    {
     "data": {
      "text/plain": [
       "[User(follow_request_sent=False, has_extended_profile=True, profile_use_background_image=True, profile_sidebar_fill_color=u'DDEEF6', live_following=False, time_zone=None, id=788024775205613568, description=u'Sports', _api=<tweepy.api.API object at 0x7fe28ab1c950>, verified=False, blocked_by=False, profile_text_color=u'333333', muting=False, profile_image_url_https=u'https://pbs.twimg.com/profile_images/799307904557912064/HgR2jR5w_normal.jpg', _json={u'follow_request_sent': False, u'has_extended_profile': True, u'profile_use_background_image': True, u'live_following': False, u'default_profile_image': False, u'id': 788024775205613568, u'profile_background_image_url_https': None, u'translator_type': u'none', u'verified': False, u'blocked_by': False, u'profile_text_color': u'333333', u'muting': False, u'profile_image_url_https': u'https://pbs.twimg.com/profile_images/799307904557912064/HgR2jR5w_normal.jpg', u'profile_sidebar_fill_color': u'DDEEF6', u'entities': {u'description': {u'urls': []}}, u'followers_count': 5, u'profile_sidebar_border_color': u'C0DEED', u'id_str': u'788024775205613568', u'profile_background_color': u'F5F8FA', u'listed_count': 0, u'status': {u'contributors': None, u'truncated': False, u'text': u'https://t.co/j27PdaCFo6', u'is_quote_status': False, u'in_reply_to_status_id': None, u'id': 801897488928096260, u'favorite_count': 0, u'source': u'<a href=\"http://twitter.com/download/iphone\" rel=\"nofollow\">Twitter for iPhone</a>', u'retweeted': False, u'coordinates': None, u'entities': {u'symbols': [], u'user_mentions': [], u'hashtags': [], u'urls': [], u'media': [{u'expanded_url': u'https://twitter.com/satheeskumar_p/status/801897488928096260/photo/1', u'display_url': u'pic.twitter.com/j27PdaCFo6', u'url': u'https://t.co/j27PdaCFo6', u'media_url_https': u'https://pbs.twimg.com/media/CyDpgq2XcAAovPi.jpg', u'id_str': u'801897481139351552', u'sizes': {u'large': {u'h': 960, u'resize': u'fit', u'w': 664}, u'small': {u'h': 680, u'resize': u'fit', u'w': 470}, u'medium': {u'h': 960, u'resize': u'fit', u'w': 664}, u'thumb': {u'h': 150, u'resize': u'crop', u'w': 150}}, u'indices': [0, 23], u'type': u'photo', u'id': 801897481139351552, u'media_url': u'http://pbs.twimg.com/media/CyDpgq2XcAAovPi.jpg'}]}, u'in_reply_to_screen_name': None, u'in_reply_to_user_id': None, u'retweet_count': 0, u'id_str': u'801897488928096260', u'favorited': False, u'geo': None, u'in_reply_to_user_id_str': None, u'possibly_sensitive': False, u'lang': u'und', u'created_at': u'Thu Nov 24 21:17:14 +0000 2016', u'in_reply_to_status_id_str': None, u'place': None, u'extended_entities': {u'media': [{u'expanded_url': u'https://twitter.com/satheeskumar_p/status/801897488928096260/photo/1', u'display_url': u'pic.twitter.com/j27PdaCFo6', u'url': u'https://t.co/j27PdaCFo6', u'media_url_https': u'https://pbs.twimg.com/media/CyDpgq2XcAAovPi.jpg', u'id_str': u'801897481139351552', u'sizes': {u'large': {u'h': 960, u'resize': u'fit', u'w': 664}, u'small': {u'h': 680, u'resize': u'fit', u'w': 470}, u'medium': {u'h': 960, u'resize': u'fit', u'w': 664}, u'thumb': {u'h': 150, u'resize': u'crop', u'w': 150}}, u'indices': [0, 23], u'type': u'photo', u'id': 801897481139351552, u'media_url': u'http://pbs.twimg.com/media/CyDpgq2XcAAovPi.jpg'}]}}, u'is_translation_enabled': False, u'utc_offset': None, u'statuses_count': 1, u'description': u'Sports', u'friends_count': 127, u'location': u'Rome, Lazio', u'profile_link_color': u'1DA1F2', u'profile_image_url': u'http://pbs.twimg.com/profile_images/799307904557912064/HgR2jR5w_normal.jpg', u'following': False, u'geo_enabled': False, u'profile_banner_url': u'https://pbs.twimg.com/profile_banners/788024775205613568/1478554081', u'blocking': False, u'profile_background_image_url': None, u'screen_name': u'satheeskumar_p', u'lang': u'en', u'profile_background_tile': False, u'favourites_count': 0, u'name': u'P.satheeskumar', u'notifications': False, u'url': None, u'created_at': u'Mon Oct 17 14:32:02 +0000 2016', u'contributors_enabled': False, u'time_zone': None, u'protected': False, u'default_profile': True, u'is_translator': False}, is_translator=False, geo_enabled=False, entities={u'description': {u'urls': []}}, followers_count=5, protected=False, id_str=u'788024775205613568', default_profile_image=False, listed_count=0, status=Status(contributors=None, truncated=False, text=u'https://t.co/j27PdaCFo6', is_quote_status=False, in_reply_to_status_id=None, id=801897488928096260, favorite_count=0, _api=<tweepy.api.API object at 0x7fe28ab1c950>, source=u'Twitter for iPhone', _json={u'contributors': None, u'truncated': False, u'text': u'https://t.co/j27PdaCFo6', u'is_quote_status': False, u'in_reply_to_status_id': None, u'id': 801897488928096260, u'favorite_count': 0, u'source': u'<a href=\"http://twitter.com/download/iphone\" rel=\"nofollow\">Twitter for iPhone</a>', u'retweeted': False, u'coordinates': None, u'entities': {u'symbols': [], u'user_mentions': [], u'hashtags': [], u'urls': [], u'media': [{u'expanded_url': u'https://twitter.com/satheeskumar_p/status/801897488928096260/photo/1', u'display_url': u'pic.twitter.com/j27PdaCFo6', u'url': u'https://t.co/j27PdaCFo6', u'media_url_https': u'https://pbs.twimg.com/media/CyDpgq2XcAAovPi.jpg', u'id_str': u'801897481139351552', u'sizes': {u'large': {u'h': 960, u'resize': u'fit', u'w': 664}, u'small': {u'h': 680, u'resize': u'fit', u'w': 470}, u'medium': {u'h': 960, u'resize': u'fit', u'w': 664}, u'thumb': {u'h': 150, u'resize': u'crop', u'w': 150}}, u'indices': [0, 23], u'type': u'photo', u'id': 801897481139351552, u'media_url': u'http://pbs.twimg.com/media/CyDpgq2XcAAovPi.jpg'}]}, u'in_reply_to_screen_name': None, u'in_reply_to_user_id': None, u'retweet_count': 0, u'id_str': u'801897488928096260', u'favorited': False, u'geo': None, u'in_reply_to_user_id_str': None, u'possibly_sensitive': False, u'lang': u'und', u'created_at': u'Thu Nov 24 21:17:14 +0000 2016', u'in_reply_to_status_id_str': None, u'place': None, u'extended_entities': {u'media': [{u'expanded_url': u'https://twitter.com/satheeskumar_p/status/801897488928096260/photo/1', u'display_url': u'pic.twitter.com/j27PdaCFo6', u'url': u'https://t.co/j27PdaCFo6', u'media_url_https': u'https://pbs.twimg.com/media/CyDpgq2XcAAovPi.jpg', u'id_str': u'801897481139351552', u'sizes': {u'large': {u'h': 960, u'resize': u'fit', u'w': 664}, u'small': {u'h': 680, u'resize': u'fit', u'w': 470}, u'medium': {u'h': 960, u'resize': u'fit', u'w': 664}, u'thumb': {u'h': 150, u'resize': u'crop', u'w': 150}}, u'indices': [0, 23], u'type': u'photo', u'id': 801897481139351552, u'media_url': u'http://pbs.twimg.com/media/CyDpgq2XcAAovPi.jpg'}]}}, coordinates=None, entities={u'symbols': [], u'user_mentions': [], u'hashtags': [], u'urls': [], u'media': [{u'expanded_url': u'https://twitter.com/satheeskumar_p/status/801897488928096260/photo/1', u'display_url': u'pic.twitter.com/j27PdaCFo6', u'url': u'https://t.co/j27PdaCFo6', u'media_url_https': u'https://pbs.twimg.com/media/CyDpgq2XcAAovPi.jpg', u'id_str': u'801897481139351552', u'sizes': {u'large': {u'h': 960, u'resize': u'fit', u'w': 664}, u'small': {u'h': 680, u'resize': u'fit', u'w': 470}, u'medium': {u'h': 960, u'resize': u'fit', u'w': 664}, u'thumb': {u'h': 150, u'resize': u'crop', u'w': 150}}, u'indices': [0, 23], u'type': u'photo', u'id': 801897481139351552, u'media_url': u'http://pbs.twimg.com/media/CyDpgq2XcAAovPi.jpg'}]}, in_reply_to_screen_name=None, id_str=u'801897488928096260', retweet_count=0, in_reply_to_user_id=None, favorited=False, source_url=u'http://twitter.com/download/iphone', geo=None, in_reply_to_user_id_str=None, possibly_sensitive=False, lang=u'und', created_at=datetime.datetime(2016, 11, 24, 21, 17, 14), in_reply_to_status_id_str=None, place=None, extended_entities={u'media': [{u'expanded_url': u'https://twitter.com/satheeskumar_p/status/801897488928096260/photo/1', u'display_url': u'pic.twitter.com/j27PdaCFo6', u'url': u'https://t.co/j27PdaCFo6', u'media_url_https': u'https://pbs.twimg.com/media/CyDpgq2XcAAovPi.jpg', u'id_str': u'801897481139351552', u'sizes': {u'large': {u'h': 960, u'resize': u'fit', u'w': 664}, u'small': {u'h': 680, u'resize': u'fit', u'w': 470}, u'medium': {u'h': 960, u'resize': u'fit', u'w': 664}, u'thumb': {u'h': 150, u'resize': u'crop', u'w': 150}}, u'indices': [0, 23], u'type': u'photo', u'id': 801897481139351552, u'media_url': u'http://pbs.twimg.com/media/CyDpgq2XcAAovPi.jpg'}]}, retweeted=False), lang=u'en', utc_offset=None, statuses_count=1, profile_background_color=u'F5F8FA', friends_count=127, profile_link_color=u'1DA1F2', profile_image_url=u'http://pbs.twimg.com/profile_images/799307904557912064/HgR2jR5w_normal.jpg', notifications=False, default_profile=True, profile_background_image_url_https=None, profile_banner_url=u'https://pbs.twimg.com/profile_banners/788024775205613568/1478554081', blocking=False, profile_background_image_url=None, name=u'P.satheeskumar', is_translation_enabled=False, profile_background_tile=False, favourites_count=0, screen_name=u'satheeskumar_p', url=None, created_at=datetime.datetime(2016, 10, 17, 14, 32, 2), contributors_enabled=False, location=u'Rome, Lazio', profile_sidebar_border_color=u'C0DEED', translator_type=u'none', following=False),\n",
       " User(follow_request_sent=False, has_extended_profile=False, profile_use_background_image=True, profile_sidebar_fill_color=u'E6F6F9', live_following=False, time_zone=u'Rome', id=111022884, description=u\"CercasiCasa.it | Annunci Immobiliari Gratuiti di Agenzie e Privati per la Vendita e l'Affitto\", _api=<tweepy.api.API object at 0x7fe28ab1c950>, verified=False, blocked_by=False, profile_text_color=u'333333', muting=False, profile_image_url_https=u'https://pbs.twimg.com/profile_images/697046699576074240/MaZoE6M6_normal.png', _json={u'follow_request_sent': False, u'has_extended_profile': False, u'profile_use_background_image': True, u'live_following': False, u'default_profile_image': False, u'id': 111022884, u'profile_background_image_url_https': u'https://abs.twimg.com/images/themes/theme17/bg.gif', u'translator_type': u'none', u'verified': False, u'blocked_by': False, u'profile_text_color': u'333333', u'muting': False, u'profile_image_url_https': u'https://pbs.twimg.com/profile_images/697046699576074240/MaZoE6M6_normal.png', u'profile_sidebar_fill_color': u'E6F6F9', u'entities': {u'url': {u'urls': [{u'url': u'http://t.co/ZAqOfoxt1F', u'indices': [0, 22], u'expanded_url': u'http://www.cercasicasa.it', u'display_url': u'cercasicasa.it'}]}, u'description': {u'urls': []}}, u'followers_count': 79, u'profile_sidebar_border_color': u'DBE9ED', u'id_str': u'111022884', u'profile_background_color': u'DBE9ED', u'listed_count': 3, u'status': {u'contributors': None, u'truncated': True, u'text': u'CC67967221 RUSTICO-CASALE-CORTE in VENDITA a #RADDAINCHIANTI (SI) #SELVOLE 2450000 euro #RUSTICOCASALECORTESELVOLE:\\u2026 https://t.co/azLxlo86rc', u'is_quote_status': False, u'in_reply_to_status_id': None, u'id': 802835679067574273, u'favorite_count': 0, u'source': u'<a href=\"http://dlvr.it\" rel=\"nofollow\">dlvr.it</a>', u'retweeted': False, u'coordinates': None, u'entities': {u'symbols': [], u'user_mentions': [], u'hashtags': [{u'indices': [45, 60], u'text': u'RADDAINCHIANTI'}, {u'indices': [66, 74], u'text': u'SELVOLE'}, {u'indices': [88, 114], u'text': u'RUSTICOCASALECORTESELVOLE'}], u'urls': [{u'url': u'https://t.co/azLxlo86rc', u'indices': [117, 140], u'expanded_url': u'https://twitter.com/i/web/status/802835679067574273', u'display_url': u'twitter.com/i/web/status/8\\u2026'}]}, u'in_reply_to_screen_name': None, u'in_reply_to_user_id': None, u'retweet_count': 0, u'id_str': u'802835679067574273', u'favorited': False, u'geo': None, u'in_reply_to_user_id_str': None, u'possibly_sensitive': False, u'lang': u'it', u'created_at': u'Sun Nov 27 11:25:16 +0000 2016', u'in_reply_to_status_id_str': None, u'place': None}, u'is_translation_enabled': False, u'utc_offset': 3600, u'statuses_count': 5091, u'description': u\"CercasiCasa.it | Annunci Immobiliari Gratuiti di Agenzie e Privati per la Vendita e l'Affitto\", u'friends_count': 543, u'location': u'Roma', u'profile_link_color': u'CC3366', u'profile_image_url': u'http://pbs.twimg.com/profile_images/697046699576074240/MaZoE6M6_normal.png', u'following': False, u'geo_enabled': False, u'profile_banner_url': u'https://pbs.twimg.com/profile_banners/111022884/1455023836', u'blocking': False, u'profile_background_image_url': u'http://abs.twimg.com/images/themes/theme17/bg.gif', u'screen_name': u'cercasicasait', u'lang': u'it', u'profile_background_tile': False, u'favourites_count': 1, u'name': u'cercasicasa.it', u'notifications': False, u'url': u'http://t.co/ZAqOfoxt1F', u'created_at': u'Wed Feb 03 15:07:34 +0000 2010', u'contributors_enabled': False, u'time_zone': u'Rome', u'protected': False, u'default_profile': False, u'is_translator': False}, is_translator=False, geo_enabled=False, entities={u'url': {u'urls': [{u'url': u'http://t.co/ZAqOfoxt1F', u'indices': [0, 22], u'expanded_url': u'http://www.cercasicasa.it', u'display_url': u'cercasicasa.it'}]}, u'description': {u'urls': []}}, followers_count=79, protected=False, id_str=u'111022884', default_profile_image=False, listed_count=3, status=Status(contributors=None, truncated=True, text=u'CC67967221 RUSTICO-CASALE-CORTE in VENDITA a #RADDAINCHIANTI (SI) #SELVOLE 2450000 euro #RUSTICOCASALECORTESELVOLE:\\u2026 https://t.co/azLxlo86rc', is_quote_status=False, in_reply_to_status_id=None, id=802835679067574273, favorite_count=0, _api=<tweepy.api.API object at 0x7fe28ab1c950>, source=u'dlvr.it', _json={u'contributors': None, u'truncated': True, u'text': u'CC67967221 RUSTICO-CASALE-CORTE in VENDITA a #RADDAINCHIANTI (SI) #SELVOLE 2450000 euro #RUSTICOCASALECORTESELVOLE:\\u2026 https://t.co/azLxlo86rc', u'is_quote_status': False, u'in_reply_to_status_id': None, u'id': 802835679067574273, u'favorite_count': 0, u'source': u'<a href=\"http://dlvr.it\" rel=\"nofollow\">dlvr.it</a>', u'retweeted': False, u'coordinates': None, u'entities': {u'symbols': [], u'user_mentions': [], u'hashtags': [{u'indices': [45, 60], u'text': u'RADDAINCHIANTI'}, {u'indices': [66, 74], u'text': u'SELVOLE'}, {u'indices': [88, 114], u'text': u'RUSTICOCASALECORTESELVOLE'}], u'urls': [{u'url': u'https://t.co/azLxlo86rc', u'indices': [117, 140], u'expanded_url': u'https://twitter.com/i/web/status/802835679067574273', u'display_url': u'twitter.com/i/web/status/8\\u2026'}]}, u'in_reply_to_screen_name': None, u'in_reply_to_user_id': None, u'retweet_count': 0, u'id_str': u'802835679067574273', u'favorited': False, u'geo': None, u'in_reply_to_user_id_str': None, u'possibly_sensitive': False, u'lang': u'it', u'created_at': u'Sun Nov 27 11:25:16 +0000 2016', u'in_reply_to_status_id_str': None, u'place': None}, coordinates=None, entities={u'symbols': [], u'user_mentions': [], u'hashtags': [{u'indices': [45, 60], u'text': u'RADDAINCHIANTI'}, {u'indices': [66, 74], u'text': u'SELVOLE'}, {u'indices': [88, 114], u'text': u'RUSTICOCASALECORTESELVOLE'}], u'urls': [{u'url': u'https://t.co/azLxlo86rc', u'indices': [117, 140], u'expanded_url': u'https://twitter.com/i/web/status/802835679067574273', u'display_url': u'twitter.com/i/web/status/8\\u2026'}]}, in_reply_to_screen_name=None, id_str=u'802835679067574273', retweet_count=0, in_reply_to_user_id=None, favorited=False, source_url=u'http://dlvr.it', geo=None, in_reply_to_user_id_str=None, possibly_sensitive=False, lang=u'it', created_at=datetime.datetime(2016, 11, 27, 11, 25, 16), in_reply_to_status_id_str=None, place=None, retweeted=False), lang=u'it', utc_offset=3600, statuses_count=5091, profile_background_color=u'DBE9ED', friends_count=543, profile_link_color=u'CC3366', profile_image_url=u'http://pbs.twimg.com/profile_images/697046699576074240/MaZoE6M6_normal.png', notifications=False, default_profile=False, profile_background_image_url_https=u'https://abs.twimg.com/images/themes/theme17/bg.gif', profile_banner_url=u'https://pbs.twimg.com/profile_banners/111022884/1455023836', blocking=False, profile_background_image_url=u'http://abs.twimg.com/images/themes/theme17/bg.gif', name=u'cercasicasa.it', is_translation_enabled=False, profile_background_tile=False, favourites_count=1, screen_name=u'cercasicasait', url=u'http://t.co/ZAqOfoxt1F', created_at=datetime.datetime(2010, 2, 3, 15, 7, 34), contributors_enabled=False, location=u'Roma', profile_sidebar_border_color=u'DBE9ED', translator_type=u'none', following=False),\n",
       " User(follow_request_sent=False, has_extended_profile=False, profile_use_background_image=True, profile_sidebar_fill_color=u'DDEEF6', live_following=False, time_zone=None, id=4490008233, description=u'Managing Director, Accenture Strategy', _api=<tweepy.api.API object at 0x7fe28ab1c950>, verified=False, blocked_by=False, profile_text_color=u'333333', muting=False, profile_image_url_https=u'https://pbs.twimg.com/profile_images/800807290991497216/2TzRV9l0_normal.jpg', _json={u'follow_request_sent': False, u'has_extended_profile': False, u'profile_use_background_image': True, u'live_following': False, u'default_profile_image': False, u'id': 4490008233, u'profile_background_image_url_https': None, u'translator_type': u'none', u'verified': False, u'blocked_by': False, u'profile_text_color': u'333333', u'muting': False, u'profile_image_url_https': u'https://pbs.twimg.com/profile_images/800807290991497216/2TzRV9l0_normal.jpg', u'profile_sidebar_fill_color': u'DDEEF6', u'entities': {u'description': {u'urls': []}}, u'followers_count': 20, u'profile_sidebar_border_color': u'C0DEED', u'id_str': u'4490008233', u'profile_background_color': u'F5F8FA', u'listed_count': 0, u'status': {u'contributors': None, u'truncated': False, u'text': u'RT @TEDTalks: \"A new era is coming. Higher education is becoming a basic right, affordable and accessible for all.\" https://t.co/5OYhnPDoZL', u'is_quote_status': False, u'in_reply_to_status_id': None, u'id': 802437240991449088, u'favorite_count': 0, u'source': u'<a href=\"http://twitter.com/download/iphone\" rel=\"nofollow\">Twitter for iPhone</a>', u'retweeted': False, u'coordinates': None, u'entities': {u'symbols': [], u'user_mentions': [{u'id': 15492359, u'indices': [3, 12], u'id_str': u'15492359', u'screen_name': u'TEDTalks', u'name': u'TED Talks'}], u'hashtags': [], u'urls': [{u'url': u'https://t.co/5OYhnPDoZL', u'indices': [116, 139], u'expanded_url': u'http://t.ted.com/mzWCE61', u'display_url': u't.ted.com/mzWCE61'}]}, u'in_reply_to_screen_name': None, u'in_reply_to_user_id': None, u'retweet_count': 243, u'id_str': u'802437240991449088', u'favorited': False, u'retweeted_status': {u'contributors': None, u'truncated': False, u'text': u'\"A new era is coming. Higher education is becoming a basic right, affordable and accessible for all.\" https://t.co/5OYhnPDoZL', u'is_quote_status': False, u'in_reply_to_status_id': None, u'id': 802283652063383557, u'favorite_count': 480, u'source': u'<a href=\"http://www.socialflow.com\" rel=\"nofollow\">SocialFlow</a>', u'retweeted': False, u'coordinates': None, u'entities': {u'symbols': [], u'user_mentions': [], u'hashtags': [], u'urls': [{u'url': u'https://t.co/5OYhnPDoZL', u'indices': [102, 125], u'expanded_url': u'http://t.ted.com/mzWCE61', u'display_url': u't.ted.com/mzWCE61'}]}, u'in_reply_to_screen_name': None, u'in_reply_to_user_id': None, u'retweet_count': 243, u'id_str': u'802283652063383557', u'favorited': False, u'geo': None, u'in_reply_to_user_id_str': None, u'possibly_sensitive': False, u'lang': u'en', u'created_at': u'Fri Nov 25 22:51:43 +0000 2016', u'in_reply_to_status_id_str': None, u'place': None}, u'geo': None, u'in_reply_to_user_id_str': None, u'possibly_sensitive': False, u'lang': u'en', u'created_at': u'Sat Nov 26 09:02:01 +0000 2016', u'in_reply_to_status_id_str': None, u'place': None}, u'is_translation_enabled': False, u'utc_offset': None, u'statuses_count': 19, u'description': u'Managing Director, Accenture Strategy', u'friends_count': 47, u'location': u'Milano, Lombardia', u'profile_link_color': u'1DA1F2', u'profile_image_url': u'http://pbs.twimg.com/profile_images/800807290991497216/2TzRV9l0_normal.jpg', u'following': False, u'geo_enabled': False, u'blocking': False, u'profile_background_image_url': None, u'screen_name': u'GoffredoAmodio', u'lang': u'en', u'profile_background_tile': False, u'favourites_count': 1, u'name': u'Goffredo', u'notifications': False, u'url': None, u'created_at': u'Tue Dec 15 08:19:21 +0000 2015', u'contributors_enabled': False, u'time_zone': None, u'protected': False, u'default_profile': True, u'is_translator': False}, is_translator=False, geo_enabled=False, entities={u'description': {u'urls': []}}, followers_count=20, protected=False, id_str=u'4490008233', default_profile_image=False, listed_count=0, status=Status(contributors=None, truncated=False, text=u'RT @TEDTalks: \"A new era is coming. Higher education is becoming a basic right, affordable and accessible for all.\" https://t.co/5OYhnPDoZL', is_quote_status=False, in_reply_to_status_id=None, id=802437240991449088, favorite_count=0, _api=<tweepy.api.API object at 0x7fe28ab1c950>, source=u'Twitter for iPhone', _json={u'contributors': None, u'truncated': False, u'text': u'RT @TEDTalks: \"A new era is coming. Higher education is becoming a basic right, affordable and accessible for all.\" https://t.co/5OYhnPDoZL', u'is_quote_status': False, u'in_reply_to_status_id': None, u'id': 802437240991449088, u'favorite_count': 0, u'source': u'<a href=\"http://twitter.com/download/iphone\" rel=\"nofollow\">Twitter for iPhone</a>', u'retweeted': False, u'coordinates': None, u'entities': {u'symbols': [], u'user_mentions': [{u'id': 15492359, u'indices': [3, 12], u'id_str': u'15492359', u'screen_name': u'TEDTalks', u'name': u'TED Talks'}], u'hashtags': [], u'urls': [{u'url': u'https://t.co/5OYhnPDoZL', u'indices': [116, 139], u'expanded_url': u'http://t.ted.com/mzWCE61', u'display_url': u't.ted.com/mzWCE61'}]}, u'in_reply_to_screen_name': None, u'in_reply_to_user_id': None, u'retweet_count': 243, u'id_str': u'802437240991449088', u'favorited': False, u'retweeted_status': {u'contributors': None, u'truncated': False, u'text': u'\"A new era is coming. Higher education is becoming a basic right, affordable and accessible for all.\" https://t.co/5OYhnPDoZL', u'is_quote_status': False, u'in_reply_to_status_id': None, u'id': 802283652063383557, u'favorite_count': 480, u'source': u'<a href=\"http://www.socialflow.com\" rel=\"nofollow\">SocialFlow</a>', u'retweeted': False, u'coordinates': None, u'entities': {u'symbols': [], u'user_mentions': [], u'hashtags': [], u'urls': [{u'url': u'https://t.co/5OYhnPDoZL', u'indices': [102, 125], u'expanded_url': u'http://t.ted.com/mzWCE61', u'display_url': u't.ted.com/mzWCE61'}]}, u'in_reply_to_screen_name': None, u'in_reply_to_user_id': None, u'retweet_count': 243, u'id_str': u'802283652063383557', u'favorited': False, u'geo': None, u'in_reply_to_user_id_str': None, u'possibly_sensitive': False, u'lang': u'en', u'created_at': u'Fri Nov 25 22:51:43 +0000 2016', u'in_reply_to_status_id_str': None, u'place': None}, u'geo': None, u'in_reply_to_user_id_str': None, u'possibly_sensitive': False, u'lang': u'en', u'created_at': u'Sat Nov 26 09:02:01 +0000 2016', u'in_reply_to_status_id_str': None, u'place': None}, coordinates=None, entities={u'symbols': [], u'user_mentions': [{u'id': 15492359, u'indices': [3, 12], u'id_str': u'15492359', u'screen_name': u'TEDTalks', u'name': u'TED Talks'}], u'hashtags': [], u'urls': [{u'url': u'https://t.co/5OYhnPDoZL', u'indices': [116, 139], u'expanded_url': u'http://t.ted.com/mzWCE61', u'display_url': u't.ted.com/mzWCE61'}]}, in_reply_to_screen_name=None, id_str=u'802437240991449088', retweet_count=243, in_reply_to_user_id=None, favorited=False, retweeted_status=Status(contributors=None, truncated=False, text=u'\"A new era is coming. Higher education is becoming a basic right, affordable and accessible for all.\" https://t.co/5OYhnPDoZL', is_quote_status=False, in_reply_to_status_id=None, id=802283652063383557, favorite_count=480, _api=<tweepy.api.API object at 0x7fe28ab1c950>, source=u'SocialFlow', _json={u'contributors': None, u'truncated': False, u'text': u'\"A new era is coming. Higher education is becoming a basic right, affordable and accessible for all.\" https://t.co/5OYhnPDoZL', u'is_quote_status': False, u'in_reply_to_status_id': None, u'id': 802283652063383557, u'favorite_count': 480, u'source': u'<a href=\"http://www.socialflow.com\" rel=\"nofollow\">SocialFlow</a>', u'retweeted': False, u'coordinates': None, u'entities': {u'symbols': [], u'user_mentions': [], u'hashtags': [], u'urls': [{u'url': u'https://t.co/5OYhnPDoZL', u'indices': [102, 125], u'expanded_url': u'http://t.ted.com/mzWCE61', u'display_url': u't.ted.com/mzWCE61'}]}, u'in_reply_to_screen_name': None, u'in_reply_to_user_id': None, u'retweet_count': 243, u'id_str': u'802283652063383557', u'favorited': False, u'geo': None, u'in_reply_to_user_id_str': None, u'possibly_sensitive': False, u'lang': u'en', u'created_at': u'Fri Nov 25 22:51:43 +0000 2016', u'in_reply_to_status_id_str': None, u'place': None}, coordinates=None, entities={u'symbols': [], u'user_mentions': [], u'hashtags': [], u'urls': [{u'url': u'https://t.co/5OYhnPDoZL', u'indices': [102, 125], u'expanded_url': u'http://t.ted.com/mzWCE61', u'display_url': u't.ted.com/mzWCE61'}]}, in_reply_to_screen_name=None, id_str=u'802283652063383557', retweet_count=243, in_reply_to_user_id=None, favorited=False, source_url=u'http://www.socialflow.com', geo=None, in_reply_to_user_id_str=None, possibly_sensitive=False, lang=u'en', created_at=datetime.datetime(2016, 11, 25, 22, 51, 43), in_reply_to_status_id_str=None, place=None, retweeted=False), source_url=u'http://twitter.com/download/iphone', geo=None, in_reply_to_user_id_str=None, possibly_sensitive=False, lang=u'en', created_at=datetime.datetime(2016, 11, 26, 9, 2, 1), in_reply_to_status_id_str=None, place=None, retweeted=False), lang=u'en', utc_offset=None, statuses_count=19, profile_background_color=u'F5F8FA', friends_count=47, profile_link_color=u'1DA1F2', profile_image_url=u'http://pbs.twimg.com/profile_images/800807290991497216/2TzRV9l0_normal.jpg', notifications=False, default_profile=True, profile_background_image_url_https=None, blocking=False, profile_background_image_url=None, name=u'Goffredo', is_translation_enabled=False, profile_background_tile=False, favourites_count=1, screen_name=u'GoffredoAmodio', url=None, created_at=datetime.datetime(2015, 12, 15, 8, 19, 21), contributors_enabled=False, location=u'Milano, Lombardia', profile_sidebar_border_color=u'C0DEED', translator_type=u'none', following=False),\n",
       " User(follow_request_sent=False, has_extended_profile=False, profile_use_background_image=False, profile_sidebar_fill_color=u'DDEEF6', live_following=False, time_zone=u'Rome', id=231597351, description=u\"Sociologa ambientale, giornalista e autrice dell'ecoblog EcoSpiragli. \\nHo scritto il libro Cosmetici Naturali\", _api=<tweepy.api.API object at 0x7fe28ab1c950>, verified=False, blocked_by=False, profile_text_color=u'333333', muting=False, profile_image_url_https=u'https://pbs.twimg.com/profile_images/795369532873383941/_FcZ47js_normal.jpg', _json={u'follow_request_sent': False, u'has_extended_profile': False, u'profile_use_background_image': False, u'live_following': False, u'default_profile_image': False, u'id': 231597351, u'profile_background_image_url_https': u'https://pbs.twimg.com/profile_background_images/454624782412038144/im4xZG-2.jpeg', u'translator_type': u'none', u'verified': False, u'blocked_by': False, u'profile_text_color': u'333333', u'muting': False, u'profile_image_url_https': u'https://pbs.twimg.com/profile_images/795369532873383941/_FcZ47js_normal.jpg', u'profile_sidebar_fill_color': u'DDEEF6', u'entities': {u'url': {u'urls': [{u'url': u'https://t.co/EhfMFkl5mt', u'indices': [0, 23], u'expanded_url': u'http://www.ecospiragli.it', u'display_url': u'ecospiragli.it'}]}, u'description': {u'urls': []}}, u'followers_count': 6994, u'profile_sidebar_border_color': u'FFFFFF', u'id_str': u'231597351', u'profile_background_color': u'00ACE6', u'listed_count': 213, u'status': {u'contributors': None, u'truncated': False, u'text': u'#Amido di riso: un toccasana per la pelle https://t.co/U4SSVrVoxs via @sharethis', u'is_quote_status': False, u'in_reply_to_status_id': None, u'id': 801763599421210625, u'favorite_count': 0, u'source': u'<a href=\"http://twitter.com\" rel=\"nofollow\">Twitter Web Client</a>', u'retweeted': False, u'coordinates': None, u'entities': {u'symbols': [], u'user_mentions': [{u'id': 14116807, u'indices': [70, 80], u'id_str': u'14116807', u'screen_name': u'ShareThis', u'name': u'ShareThis'}], u'hashtags': [{u'indices': [0, 6], u'text': u'Amido'}], u'urls': [{u'url': u'https://t.co/U4SSVrVoxs', u'indices': [42, 65], u'expanded_url': u'https://shar.es/183ZPS', u'display_url': u'shar.es/183ZPS'}]}, u'in_reply_to_screen_name': None, u'in_reply_to_user_id': None, u'retweet_count': 0, u'id_str': u'801763599421210625', u'favorited': False, u'geo': None, u'in_reply_to_user_id_str': None, u'possibly_sensitive': False, u'lang': u'it', u'created_at': u'Thu Nov 24 12:25:12 +0000 2016', u'in_reply_to_status_id_str': None, u'place': None}, u'is_translation_enabled': False, u'utc_offset': 3600, u'statuses_count': 7859, u'description': u\"Sociologa ambientale, giornalista e autrice dell'ecoblog EcoSpiragli. \\nHo scritto il libro Cosmetici Naturali\", u'friends_count': 4622, u'location': u'Milano', u'profile_link_color': u'0084B4', u'profile_image_url': u'http://pbs.twimg.com/profile_images/795369532873383941/_FcZ47js_normal.jpg', u'following': False, u'geo_enabled': True, u'profile_banner_url': u'https://pbs.twimg.com/profile_banners/231597351/1398683335', u'blocking': False, u'profile_background_image_url': u'http://pbs.twimg.com/profile_background_images/454624782412038144/im4xZG-2.jpeg', u'screen_name': u'EcoSpiragli', u'lang': u'it', u'profile_background_tile': False, u'favourites_count': 632, u'name': u'Anna Simone', u'notifications': False, u'url': u'https://t.co/EhfMFkl5mt', u'created_at': u'Tue Dec 28 23:50:43 +0000 2010', u'contributors_enabled': False, u'time_zone': u'Rome', u'protected': False, u'default_profile': False, u'is_translator': False}, is_translator=False, geo_enabled=True, entities={u'url': {u'urls': [{u'url': u'https://t.co/EhfMFkl5mt', u'indices': [0, 23], u'expanded_url': u'http://www.ecospiragli.it', u'display_url': u'ecospiragli.it'}]}, u'description': {u'urls': []}}, followers_count=6994, protected=False, id_str=u'231597351', default_profile_image=False, listed_count=213, status=Status(contributors=None, truncated=False, text=u'#Amido di riso: un toccasana per la pelle https://t.co/U4SSVrVoxs via @sharethis', is_quote_status=False, in_reply_to_status_id=None, id=801763599421210625, favorite_count=0, _api=<tweepy.api.API object at 0x7fe28ab1c950>, source=u'Twitter Web Client', _json={u'contributors': None, u'truncated': False, u'text': u'#Amido di riso: un toccasana per la pelle https://t.co/U4SSVrVoxs via @sharethis', u'is_quote_status': False, u'in_reply_to_status_id': None, u'id': 801763599421210625, u'favorite_count': 0, u'source': u'<a href=\"http://twitter.com\" rel=\"nofollow\">Twitter Web Client</a>', u'retweeted': False, u'coordinates': None, u'entities': {u'symbols': [], u'user_mentions': [{u'id': 14116807, u'indices': [70, 80], u'id_str': u'14116807', u'screen_name': u'ShareThis', u'name': u'ShareThis'}], u'hashtags': [{u'indices': [0, 6], u'text': u'Amido'}], u'urls': [{u'url': u'https://t.co/U4SSVrVoxs', u'indices': [42, 65], u'expanded_url': u'https://shar.es/183ZPS', u'display_url': u'shar.es/183ZPS'}]}, u'in_reply_to_screen_name': None, u'in_reply_to_user_id': None, u'retweet_count': 0, u'id_str': u'801763599421210625', u'favorited': False, u'geo': None, u'in_reply_to_user_id_str': None, u'possibly_sensitive': False, u'lang': u'it', u'created_at': u'Thu Nov 24 12:25:12 +0000 2016', u'in_reply_to_status_id_str': None, u'place': None}, coordinates=None, entities={u'symbols': [], u'user_mentions': [{u'id': 14116807, u'indices': [70, 80], u'id_str': u'14116807', u'screen_name': u'ShareThis', u'name': u'ShareThis'}], u'hashtags': [{u'indices': [0, 6], u'text': u'Amido'}], u'urls': [{u'url': u'https://t.co/U4SSVrVoxs', u'indices': [42, 65], u'expanded_url': u'https://shar.es/183ZPS', u'display_url': u'shar.es/183ZPS'}]}, in_reply_to_screen_name=None, id_str=u'801763599421210625', retweet_count=0, in_reply_to_user_id=None, favorited=False, source_url=u'http://twitter.com', geo=None, in_reply_to_user_id_str=None, possibly_sensitive=False, lang=u'it', created_at=datetime.datetime(2016, 11, 24, 12, 25, 12), in_reply_to_status_id_str=None, place=None, retweeted=False), lang=u'it', utc_offset=3600, statuses_count=7859, profile_background_color=u'00ACE6', friends_count=4622, profile_link_color=u'0084B4', profile_image_url=u'http://pbs.twimg.com/profile_images/795369532873383941/_FcZ47js_normal.jpg', notifications=False, default_profile=False, profile_background_image_url_https=u'https://pbs.twimg.com/profile_background_images/454624782412038144/im4xZG-2.jpeg', profile_banner_url=u'https://pbs.twimg.com/profile_banners/231597351/1398683335', blocking=False, profile_background_image_url=u'http://pbs.twimg.com/profile_background_images/454624782412038144/im4xZG-2.jpeg', name=u'Anna Simone', is_translation_enabled=False, profile_background_tile=False, favourites_count=632, screen_name=u'EcoSpiragli', url=u'https://t.co/EhfMFkl5mt', created_at=datetime.datetime(2010, 12, 28, 23, 50, 43), contributors_enabled=False, location=u'Milano', profile_sidebar_border_color=u'FFFFFF', translator_type=u'none', following=False),\n",
       " User(follow_request_sent=False, has_extended_profile=True, profile_use_background_image=True, profile_sidebar_fill_color=u'DDEEF6', live_following=False, time_zone=None, id=2683880723, description=u'kinge/Soldatino/Dartagnan', _api=<tweepy.api.API object at 0x7fe28ab1c950>, verified=False, blocked_by=False, profile_text_color=u'333333', muting=False, profile_image_url_https=u'https://pbs.twimg.com/profile_images/725254134836912128/PSTLEniY_normal.jpg', _json={u'follow_request_sent': False, u'has_extended_profile': True, u'profile_use_background_image': True, u'live_following': False, u'default_profile_image': False, u'id': 2683880723, u'profile_background_image_url_https': u'https://abs.twimg.com/images/themes/theme1/bg.png', u'translator_type': u'none', u'verified': False, u'blocked_by': False, u'profile_text_color': u'333333', u'muting': False, u'profile_image_url_https': u'https://pbs.twimg.com/profile_images/725254134836912128/PSTLEniY_normal.jpg', u'profile_sidebar_fill_color': u'DDEEF6', u'entities': {u'description': {u'urls': []}}, u'followers_count': 120, u'profile_sidebar_border_color': u'C0DEED', u'id_str': u'2683880723', u'profile_background_color': u'C0DEED', u'listed_count': 0, u'is_translation_enabled': False, u'utc_offset': None, u'statuses_count': 633, u'description': u'kinge/Soldatino/Dartagnan', u'friends_count': 858, u'location': u'', u'profile_link_color': u'1DA1F2', u'profile_image_url': u'http://pbs.twimg.com/profile_images/725254134836912128/PSTLEniY_normal.jpg', u'following': False, u'geo_enabled': False, u'blocking': False, u'profile_background_image_url': u'http://abs.twimg.com/images/themes/theme1/bg.png', u'screen_name': u'sonninogabry', u'lang': u'it', u'profile_background_tile': False, u'favourites_count': 726, u'name': u'Gabriele Sonnino', u'notifications': False, u'url': None, u'created_at': u'Mon Jul 07 16:45:00 +0000 2014', u'contributors_enabled': False, u'time_zone': None, u'protected': True, u'default_profile': True, u'is_translator': False}, is_translator=False, geo_enabled=False, entities={u'description': {u'urls': []}}, followers_count=120, protected=True, id_str=u'2683880723', default_profile_image=False, listed_count=0, lang=u'it', utc_offset=None, statuses_count=633, profile_background_color=u'C0DEED', friends_count=858, profile_link_color=u'1DA1F2', profile_image_url=u'http://pbs.twimg.com/profile_images/725254134836912128/PSTLEniY_normal.jpg', notifications=False, default_profile=True, profile_background_image_url_https=u'https://abs.twimg.com/images/themes/theme1/bg.png', blocking=False, profile_background_image_url=u'http://abs.twimg.com/images/themes/theme1/bg.png', name=u'Gabriele Sonnino', is_translation_enabled=False, profile_background_tile=False, favourites_count=726, screen_name=u'sonninogabry', url=None, created_at=datetime.datetime(2014, 7, 7, 16, 45), contributors_enabled=False, location=u'', profile_sidebar_border_color=u'C0DEED', translator_type=u'none', following=False),\n",
       " User(follow_request_sent=False, has_extended_profile=False, profile_use_background_image=True, profile_sidebar_fill_color=u'DDEEF6', live_following=False, time_zone=u'Pacific Time (US & Canada)', id=750883286, description=u'', _api=<tweepy.api.API object at 0x7fe28ab1c950>, verified=False, blocked_by=False, profile_text_color=u'333333', muting=False, profile_image_url_https=u'https://pbs.twimg.com/profile_images/668384092690452480/mjX6DWvD_normal.jpg', _json={u'follow_request_sent': False, u'has_extended_profile': False, u'profile_use_background_image': True, u'live_following': False, u'default_profile_image': False, u'id': 750883286, u'profile_background_image_url_https': u'https://abs.twimg.com/images/themes/theme1/bg.png', u'translator_type': u'none', u'verified': False, u'blocked_by': False, u'profile_text_color': u'333333', u'muting': False, u'profile_image_url_https': u'https://pbs.twimg.com/profile_images/668384092690452480/mjX6DWvD_normal.jpg', u'profile_sidebar_fill_color': u'DDEEF6', u'entities': {u'description': {u'urls': []}}, u'followers_count': 44, u'profile_sidebar_border_color': u'C0DEED', u'id_str': u'750883286', u'profile_background_color': u'C0DEED', u'listed_count': 0, u'status': {u'contributors': None, u'truncated': False, u'text': u'https://t.co/6Vig761mkZ', u'is_quote_status': False, u'in_reply_to_status_id': None, u'id': 800402839600332800, u'favorite_count': 0, u'source': u'<a href=\"http://twitter.com\" rel=\"nofollow\">Twitter Web Client</a>', u'retweeted': False, u'coordinates': None, u'entities': {u'symbols': [], u'user_mentions': [], u'hashtags': [], u'urls': [{u'url': u'https://t.co/6Vig761mkZ', u'indices': [0, 23], u'expanded_url': u'https://www.perugina.com/it/prodotti/tablo', u'display_url': u'perugina.com/it/prodotti/ta\\u2026'}]}, u'in_reply_to_screen_name': None, u'in_reply_to_user_id': None, u'retweet_count': 0, u'id_str': u'800402839600332800', u'favorited': False, u'geo': None, u'in_reply_to_user_id_str': None, u'possibly_sensitive': True, u'lang': u'und', u'created_at': u'Sun Nov 20 18:18:02 +0000 2016', u'in_reply_to_status_id_str': None, u'place': None}, u'is_translation_enabled': False, u'utc_offset': -28800, u'statuses_count': 144, u'description': u'', u'friends_count': 139, u'location': u'', u'profile_link_color': u'1DA1F2', u'profile_image_url': u'http://pbs.twimg.com/profile_images/668384092690452480/mjX6DWvD_normal.jpg', u'following': False, u'geo_enabled': True, u'blocking': False, u'profile_background_image_url': u'http://abs.twimg.com/images/themes/theme1/bg.png', u'screen_name': u'jjhonatanmarche', u'lang': u'it', u'profile_background_tile': False, u'favourites_count': 0, u'name': u'jjhonatan marchetti', u'notifications': False, u'url': None, u'created_at': u'Sat Aug 11 07:55:07 +0000 2012', u'contributors_enabled': False, u'time_zone': u'Pacific Time (US & Canada)', u'protected': False, u'default_profile': True, u'is_translator': False}, is_translator=False, geo_enabled=True, entities={u'description': {u'urls': []}}, followers_count=44, protected=False, id_str=u'750883286', default_profile_image=False, listed_count=0, status=Status(contributors=None, truncated=False, text=u'https://t.co/6Vig761mkZ', is_quote_status=False, in_reply_to_status_id=None, id=800402839600332800, favorite_count=0, _api=<tweepy.api.API object at 0x7fe28ab1c950>, source=u'Twitter Web Client', _json={u'contributors': None, u'truncated': False, u'text': u'https://t.co/6Vig761mkZ', u'is_quote_status': False, u'in_reply_to_status_id': None, u'id': 800402839600332800, u'favorite_count': 0, u'source': u'<a href=\"http://twitter.com\" rel=\"nofollow\">Twitter Web Client</a>', u'retweeted': False, u'coordinates': None, u'entities': {u'symbols': [], u'user_mentions': [], u'hashtags': [], u'urls': [{u'url': u'https://t.co/6Vig761mkZ', u'indices': [0, 23], u'expanded_url': u'https://www.perugina.com/it/prodotti/tablo', u'display_url': u'perugina.com/it/prodotti/ta\\u2026'}]}, u'in_reply_to_screen_name': None, u'in_reply_to_user_id': None, u'retweet_count': 0, u'id_str': u'800402839600332800', u'favorited': False, u'geo': None, u'in_reply_to_user_id_str': None, u'possibly_sensitive': True, u'lang': u'und', u'created_at': u'Sun Nov 20 18:18:02 +0000 2016', u'in_reply_to_status_id_str': None, u'place': None}, coordinates=None, entities={u'symbols': [], u'user_mentions': [], u'hashtags': [], u'urls': [{u'url': u'https://t.co/6Vig761mkZ', u'indices': [0, 23], u'expanded_url': u'https://www.perugina.com/it/prodotti/tablo', u'display_url': u'perugina.com/it/prodotti/ta\\u2026'}]}, in_reply_to_screen_name=None, id_str=u'800402839600332800', retweet_count=0, in_reply_to_user_id=None, favorited=False, source_url=u'http://twitter.com', geo=None, in_reply_to_user_id_str=None, possibly_sensitive=True, lang=u'und', created_at=datetime.datetime(2016, 11, 20, 18, 18, 2), in_reply_to_status_id_str=None, place=None, retweeted=False), lang=u'it', utc_offset=-28800, statuses_count=144, profile_background_color=u'C0DEED', friends_count=139, profile_link_color=u'1DA1F2', profile_image_url=u'http://pbs.twimg.com/profile_images/668384092690452480/mjX6DWvD_normal.jpg', notifications=False, default_profile=True, profile_background_image_url_https=u'https://abs.twimg.com/images/themes/theme1/bg.png', blocking=False, profile_background_image_url=u'http://abs.twimg.com/images/themes/theme1/bg.png', name=u'jjhonatan marchetti', is_translation_enabled=False, profile_background_tile=False, favourites_count=0, screen_name=u'jjhonatanmarche', url=None, created_at=datetime.datetime(2012, 8, 11, 7, 55, 7), contributors_enabled=False, location=u'', profile_sidebar_border_color=u'C0DEED', translator_type=u'none', following=False),\n",
       " User(follow_request_sent=False, has_extended_profile=False, profile_use_background_image=True, profile_sidebar_fill_color=u'DDEEF6', live_following=False, time_zone=None, id=1070519719, description=u'', _api=<tweepy.api.API object at 0x7fe28ab1c950>, verified=False, blocked_by=False, profile_text_color=u'333333', muting=False, profile_image_url_https=u'https://pbs.twimg.com/profile_images/560817511038734336/ssPDOfX5_normal.jpeg', _json={u'follow_request_sent': False, u'has_extended_profile': False, u'profile_use_background_image': True, u'live_following': False, u'default_profile_image': False, u'id': 1070519719, u'profile_background_image_url_https': u'https://abs.twimg.com/images/themes/theme1/bg.png', u'translator_type': u'none', u'verified': False, u'blocked_by': False, u'profile_text_color': u'333333', u'muting': False, u'profile_image_url_https': u'https://pbs.twimg.com/profile_images/560817511038734336/ssPDOfX5_normal.jpeg', u'profile_sidebar_fill_color': u'DDEEF6', u'entities': {u'url': {u'urls': [{u'url': u'http://t.co/dC4JAHCjb2', u'indices': [0, 22], u'expanded_url': u'http://www.robelcredit.it', u'display_url': u'robelcredit.it'}]}, u'description': {u'urls': []}}, u'followers_count': 10, u'profile_sidebar_border_color': u'C0DEED', u'id_str': u'1070519719', u'profile_background_color': u'C0DEED', u'listed_count': 0, u'status': {u'contributors': None, u'truncated': False, u'text': u'http://t.co/SvIA8EOf3c', u'is_quote_status': False, u'in_reply_to_status_id': None, u'id': 560811420707979264, u'favorite_count': 0, u'source': u'<a href=\"http://twitter.com/download/iphone\" rel=\"nofollow\">Twitter for iPhone</a>', u'retweeted': False, u'coordinates': None, u'entities': {u'symbols': [], u'user_mentions': [], u'hashtags': [], u'urls': [], u'media': [{u'expanded_url': u'https://twitter.com/RossBellantoni/status/560811420707979264/photo/1', u'display_url': u'pic.twitter.com/SvIA8EOf3c', u'url': u'http://t.co/SvIA8EOf3c', u'media_url_https': u'https://pbs.twimg.com/media/B8hnA8tIUAAdwQ0.jpg', u'id_str': u'560811419600703488', u'sizes': {u'large': {u'h': 768, u'resize': u'fit', u'w': 1024}, u'small': {u'h': 255, u'resize': u'fit', u'w': 340}, u'medium': {u'h': 450, u'resize': u'fit', u'w': 600}, u'thumb': {u'h': 150, u'resize': u'crop', u'w': 150}}, u'indices': [0, 22], u'type': u'photo', u'id': 560811419600703488, u'media_url': u'http://pbs.twimg.com/media/B8hnA8tIUAAdwQ0.jpg'}]}, u'in_reply_to_screen_name': None, u'in_reply_to_user_id': None, u'retweet_count': 0, u'id_str': u'560811420707979264', u'favorited': False, u'geo': None, u'in_reply_to_user_id_str': None, u'possibly_sensitive': False, u'lang': u'und', u'created_at': u'Thu Jan 29 14:47:16 +0000 2015', u'in_reply_to_status_id_str': None, u'place': None, u'extended_entities': {u'media': [{u'expanded_url': u'https://twitter.com/RossBellantoni/status/560811420707979264/photo/1', u'display_url': u'pic.twitter.com/SvIA8EOf3c', u'url': u'http://t.co/SvIA8EOf3c', u'media_url_https': u'https://pbs.twimg.com/media/B8hnA8tIUAAdwQ0.jpg', u'id_str': u'560811419600703488', u'sizes': {u'large': {u'h': 768, u'resize': u'fit', u'w': 1024}, u'small': {u'h': 255, u'resize': u'fit', u'w': 340}, u'medium': {u'h': 450, u'resize': u'fit', u'w': 600}, u'thumb': {u'h': 150, u'resize': u'crop', u'w': 150}}, u'indices': [0, 22], u'type': u'photo', u'id': 560811419600703488, u'media_url': u'http://pbs.twimg.com/media/B8hnA8tIUAAdwQ0.jpg'}]}}, u'is_translation_enabled': False, u'utc_offset': None, u'statuses_count': 1, u'description': u'', u'friends_count': 89, u'location': u'', u'profile_link_color': u'1DA1F2', u'profile_image_url': u'http://pbs.twimg.com/profile_images/560817511038734336/ssPDOfX5_normal.jpeg', u'following': False, u'geo_enabled': False, u'profile_banner_url': u'https://pbs.twimg.com/profile_banners/1070519719/1422544289', u'blocking': False, u'profile_background_image_url': u'http://abs.twimg.com/images/themes/theme1/bg.png', u'screen_name': u'RossBellantoni', u'lang': u'it', u'profile_background_tile': False, u'favourites_count': 0, u'name': u'Rosario Bellantoni', u'notifications': False, u'url': u'http://t.co/dC4JAHCjb2', u'created_at': u'Tue Jan 08 10:09:20 +0000 2013', u'contributors_enabled': False, u'time_zone': None, u'protected': False, u'default_profile': True, u'is_translator': False}, is_translator=False, geo_enabled=False, entities={u'url': {u'urls': [{u'url': u'http://t.co/dC4JAHCjb2', u'indices': [0, 22], u'expanded_url': u'http://www.robelcredit.it', u'display_url': u'robelcredit.it'}]}, u'description': {u'urls': []}}, followers_count=10, protected=False, id_str=u'1070519719', default_profile_image=False, listed_count=0, status=Status(contributors=None, truncated=False, text=u'http://t.co/SvIA8EOf3c', is_quote_status=False, in_reply_to_status_id=None, id=560811420707979264, favorite_count=0, _api=<tweepy.api.API object at 0x7fe28ab1c950>, source=u'Twitter for iPhone', _json={u'contributors': None, u'truncated': False, u'text': u'http://t.co/SvIA8EOf3c', u'is_quote_status': False, u'in_reply_to_status_id': None, u'id': 560811420707979264, u'favorite_count': 0, u'source': u'<a href=\"http://twitter.com/download/iphone\" rel=\"nofollow\">Twitter for iPhone</a>', u'retweeted': False, u'coordinates': None, u'entities': {u'symbols': [], u'user_mentions': [], u'hashtags': [], u'urls': [], u'media': [{u'expanded_url': u'https://twitter.com/RossBellantoni/status/560811420707979264/photo/1', u'display_url': u'pic.twitter.com/SvIA8EOf3c', u'url': u'http://t.co/SvIA8EOf3c', u'media_url_https': u'https://pbs.twimg.com/media/B8hnA8tIUAAdwQ0.jpg', u'id_str': u'560811419600703488', u'sizes': {u'large': {u'h': 768, u'resize': u'fit', u'w': 1024}, u'small': {u'h': 255, u'resize': u'fit', u'w': 340}, u'medium': {u'h': 450, u'resize': u'fit', u'w': 600}, u'thumb': {u'h': 150, u'resize': u'crop', u'w': 150}}, u'indices': [0, 22], u'type': u'photo', u'id': 560811419600703488, u'media_url': u'http://pbs.twimg.com/media/B8hnA8tIUAAdwQ0.jpg'}]}, u'in_reply_to_screen_name': None, u'in_reply_to_user_id': None, u'retweet_count': 0, u'id_str': u'560811420707979264', u'favorited': False, u'geo': None, u'in_reply_to_user_id_str': None, u'possibly_sensitive': False, u'lang': u'und', u'created_at': u'Thu Jan 29 14:47:16 +0000 2015', u'in_reply_to_status_id_str': None, u'place': None, u'extended_entities': {u'media': [{u'expanded_url': u'https://twitter.com/RossBellantoni/status/560811420707979264/photo/1', u'display_url': u'pic.twitter.com/SvIA8EOf3c', u'url': u'http://t.co/SvIA8EOf3c', u'media_url_https': u'https://pbs.twimg.com/media/B8hnA8tIUAAdwQ0.jpg', u'id_str': u'560811419600703488', u'sizes': {u'large': {u'h': 768, u'resize': u'fit', u'w': 1024}, u'small': {u'h': 255, u'resize': u'fit', u'w': 340}, u'medium': {u'h': 450, u'resize': u'fit', u'w': 600}, u'thumb': {u'h': 150, u'resize': u'crop', u'w': 150}}, u'indices': [0, 22], u'type': u'photo', u'id': 560811419600703488, u'media_url': u'http://pbs.twimg.com/media/B8hnA8tIUAAdwQ0.jpg'}]}}, coordinates=None, entities={u'symbols': [], u'user_mentions': [], u'hashtags': [], u'urls': [], u'media': [{u'expanded_url': u'https://twitter.com/RossBellantoni/status/560811420707979264/photo/1', u'display_url': u'pic.twitter.com/SvIA8EOf3c', u'url': u'http://t.co/SvIA8EOf3c', u'media_url_https': u'https://pbs.twimg.com/media/B8hnA8tIUAAdwQ0.jpg', u'id_str': u'560811419600703488', u'sizes': {u'large': {u'h': 768, u'resize': u'fit', u'w': 1024}, u'small': {u'h': 255, u'resize': u'fit', u'w': 340}, u'medium': {u'h': 450, u'resize': u'fit', u'w': 600}, u'thumb': {u'h': 150, u'resize': u'crop', u'w': 150}}, u'indices': [0, 22], u'type': u'photo', u'id': 560811419600703488, u'media_url': u'http://pbs.twimg.com/media/B8hnA8tIUAAdwQ0.jpg'}]}, in_reply_to_screen_name=None, id_str=u'560811420707979264', retweet_count=0, in_reply_to_user_id=None, favorited=False, source_url=u'http://twitter.com/download/iphone', geo=None, in_reply_to_user_id_str=None, possibly_sensitive=False, lang=u'und', created_at=datetime.datetime(2015, 1, 29, 14, 47, 16), in_reply_to_status_id_str=None, place=None, extended_entities={u'media': [{u'expanded_url': u'https://twitter.com/RossBellantoni/status/560811420707979264/photo/1', u'display_url': u'pic.twitter.com/SvIA8EOf3c', u'url': u'http://t.co/SvIA8EOf3c', u'media_url_https': u'https://pbs.twimg.com/media/B8hnA8tIUAAdwQ0.jpg', u'id_str': u'560811419600703488', u'sizes': {u'large': {u'h': 768, u'resize': u'fit', u'w': 1024}, u'small': {u'h': 255, u'resize': u'fit', u'w': 340}, u'medium': {u'h': 450, u'resize': u'fit', u'w': 600}, u'thumb': {u'h': 150, u'resize': u'crop', u'w': 150}}, u'indices': [0, 22], u'type': u'photo', u'id': 560811419600703488, u'media_url': u'http://pbs.twimg.com/media/B8hnA8tIUAAdwQ0.jpg'}]}, retweeted=False), lang=u'it', utc_offset=None, statuses_count=1, profile_background_color=u'C0DEED', friends_count=89, profile_link_color=u'1DA1F2', profile_image_url=u'http://pbs.twimg.com/profile_images/560817511038734336/ssPDOfX5_normal.jpeg', notifications=False, default_profile=True, profile_background_image_url_https=u'https://abs.twimg.com/images/themes/theme1/bg.png', profile_banner_url=u'https://pbs.twimg.com/profile_banners/1070519719/1422544289', blocking=False, profile_background_image_url=u'http://abs.twimg.com/images/themes/theme1/bg.png', name=u'Rosario Bellantoni', is_translation_enabled=False, profile_background_tile=False, favourites_count=0, screen_name=u'RossBellantoni', url=u'http://t.co/dC4JAHCjb2', created_at=datetime.datetime(2013, 1, 8, 10, 9, 20), contributors_enabled=False, location=u'', profile_sidebar_border_color=u'C0DEED', translator_type=u'none', following=False),\n",
       " User(follow_request_sent=False, has_extended_profile=False, profile_use_background_image=True, profile_sidebar_fill_color=u'EFEFEF', live_following=False, time_zone=None, id=523642704, description=u'Gnu/Linux user since 2000, ICT enthusiast, Web Developer, Digital Evangelist.', _api=<tweepy.api.API object at 0x7fe28ab1c950>, verified=False, blocked_by=False, profile_text_color=u'333333', muting=False, profile_image_url_https=u'https://pbs.twimg.com/profile_images/2190428843/images_normal.jpeg', _json={u'follow_request_sent': False, u'has_extended_profile': False, u'profile_use_background_image': True, u'live_following': False, u'default_profile_image': False, u'id': 523642704, u'profile_background_image_url_https': u'https://abs.twimg.com/images/themes/theme14/bg.gif', u'translator_type': u'none', u'verified': False, u'blocked_by': False, u'profile_text_color': u'333333', u'muting': False, u'profile_image_url_https': u'https://pbs.twimg.com/profile_images/2190428843/images_normal.jpeg', u'profile_sidebar_fill_color': u'EFEFEF', u'entities': {u'description': {u'urls': []}}, u'followers_count': 254, u'profile_sidebar_border_color': u'EEEEEE', u'id_str': u'523642704', u'profile_background_color': u'131516', u'listed_count': 0, u'status': {u'contributors': None, u'truncated': False, u'text': u'@IntesaSP_Help ho una domanda da fare sulla superflash banco di napoli del vostro gruppo intesa.', u'is_quote_status': False, u'in_reply_to_status_id': 801800585179758592, u'id': 801802344082108416, u'favorite_count': 0, u'source': u'<a href=\"http://twitter.com\" rel=\"nofollow\">Twitter Web Client</a>', u'retweeted': False, u'coordinates': None, u'entities': {u'symbols': [], u'user_mentions': [{u'id': 2484008365, u'indices': [0, 14], u'id_str': u'2484008365', u'screen_name': u'IntesaSP_Help', u'name': u'Intesa Sanpaolo help'}], u'hashtags': [], u'urls': []}, u'in_reply_to_screen_name': u'IntesaSP_Help', u'in_reply_to_user_id': 2484008365, u'retweet_count': 0, u'id_str': u'801802344082108416', u'favorited': False, u'geo': None, u'in_reply_to_user_id_str': u'2484008365', u'lang': u'it', u'created_at': u'Thu Nov 24 14:59:10 +0000 2016', u'in_reply_to_status_id_str': u'801800585179758592', u'place': None}, u'is_translation_enabled': False, u'utc_offset': None, u'statuses_count': 745, u'description': u'Gnu/Linux user since 2000, ICT enthusiast, Web Developer, Digital Evangelist.', u'friends_count': 334, u'location': u'', u'profile_link_color': u'009999', u'profile_image_url': u'http://pbs.twimg.com/profile_images/2190428843/images_normal.jpeg', u'following': False, u'geo_enabled': False, u'blocking': False, u'profile_background_image_url': u'http://abs.twimg.com/images/themes/theme14/bg.gif', u'screen_name': u'harkanik', u'lang': u'it', u'profile_background_tile': True, u'favourites_count': 115, u'name': u'Giovanni Tafuri', u'notifications': False, u'url': None, u'created_at': u'Tue Mar 13 20:28:01 +0000 2012', u'contributors_enabled': False, u'time_zone': None, u'protected': False, u'default_profile': False, u'is_translator': False}, is_translator=False, geo_enabled=False, entities={u'description': {u'urls': []}}, followers_count=254, protected=False, id_str=u'523642704', default_profile_image=False, listed_count=0, status=Status(contributors=None, truncated=False, text=u'@IntesaSP_Help ho una domanda da fare sulla superflash banco di napoli del vostro gruppo intesa.', is_quote_status=False, in_reply_to_status_id=801800585179758592, id=801802344082108416, favorite_count=0, _api=<tweepy.api.API object at 0x7fe28ab1c950>, source=u'Twitter Web Client', _json={u'contributors': None, u'truncated': False, u'text': u'@IntesaSP_Help ho una domanda da fare sulla superflash banco di napoli del vostro gruppo intesa.', u'is_quote_status': False, u'in_reply_to_status_id': 801800585179758592, u'id': 801802344082108416, u'favorite_count': 0, u'source': u'<a href=\"http://twitter.com\" rel=\"nofollow\">Twitter Web Client</a>', u'retweeted': False, u'coordinates': None, u'entities': {u'symbols': [], u'user_mentions': [{u'id': 2484008365, u'indices': [0, 14], u'id_str': u'2484008365', u'screen_name': u'IntesaSP_Help', u'name': u'Intesa Sanpaolo help'}], u'hashtags': [], u'urls': []}, u'in_reply_to_screen_name': u'IntesaSP_Help', u'in_reply_to_user_id': 2484008365, u'retweet_count': 0, u'id_str': u'801802344082108416', u'favorited': False, u'geo': None, u'in_reply_to_user_id_str': u'2484008365', u'lang': u'it', u'created_at': u'Thu Nov 24 14:59:10 +0000 2016', u'in_reply_to_status_id_str': u'801800585179758592', u'place': None}, coordinates=None, entities={u'symbols': [], u'user_mentions': [{u'id': 2484008365, u'indices': [0, 14], u'id_str': u'2484008365', u'screen_name': u'IntesaSP_Help', u'name': u'Intesa Sanpaolo help'}], u'hashtags': [], u'urls': []}, in_reply_to_screen_name=u'IntesaSP_Help', id_str=u'801802344082108416', retweet_count=0, in_reply_to_user_id=2484008365, favorited=False, source_url=u'http://twitter.com', geo=None, in_reply_to_user_id_str=u'2484008365', lang=u'it', created_at=datetime.datetime(2016, 11, 24, 14, 59, 10), in_reply_to_status_id_str=u'801800585179758592', place=None, retweeted=False), lang=u'it', utc_offset=None, statuses_count=745, profile_background_color=u'131516', friends_count=334, profile_link_color=u'009999', profile_image_url=u'http://pbs.twimg.com/profile_images/2190428843/images_normal.jpeg', notifications=False, default_profile=False, profile_background_image_url_https=u'https://abs.twimg.com/images/themes/theme14/bg.gif', blocking=False, profile_background_image_url=u'http://abs.twimg.com/images/themes/theme14/bg.gif', name=u'Giovanni Tafuri', is_translation_enabled=False, profile_background_tile=True, favourites_count=115, screen_name=u'harkanik', url=None, created_at=datetime.datetime(2012, 3, 13, 20, 28, 1), contributors_enabled=False, location=u'', profile_sidebar_border_color=u'EEEEEE', translator_type=u'none', following=False),\n",
       " User(follow_request_sent=False, has_extended_profile=False, profile_use_background_image=True, profile_sidebar_fill_color=u'DDEEF6', live_following=False, time_zone=None, id=778527509323350016, description=u'', _api=<tweepy.api.API object at 0x7fe28ab1c950>, verified=False, blocked_by=False, profile_text_color=u'333333', muting=False, profile_image_url_https=u'https://pbs.twimg.com/profile_images/778533494309912576/VgY1CRu3_normal.jpg', _json={u'follow_request_sent': False, u'has_extended_profile': False, u'profile_use_background_image': True, u'live_following': False, u'default_profile_image': False, u'id': 778527509323350016, u'profile_background_image_url_https': None, u'translator_type': u'none', u'verified': False, u'blocked_by': False, u'profile_text_color': u'333333', u'muting': False, u'profile_image_url_https': u'https://pbs.twimg.com/profile_images/778533494309912576/VgY1CRu3_normal.jpg', u'profile_sidebar_fill_color': u'DDEEF6', u'entities': {u'description': {u'urls': []}}, u'followers_count': 21, u'profile_sidebar_border_color': u'C0DEED', u'id_str': u'778527509323350016', u'profile_background_color': u'F5F8FA', u'listed_count': 0, u'status': {u'contributors': None, u'truncated': False, u'text': u'#noallaviolenzasulledonne https://t.co/YsMVigbpWV', u'is_quote_status': False, u'in_reply_to_status_id': None, u'id': 802115468295335936, u'favorite_count': 0, u'source': u'<a href=\"http://twitter.com\" rel=\"nofollow\">Twitter Web Client</a>', u'retweeted': False, u'coordinates': None, u'entities': {u'symbols': [], u'user_mentions': [], u'hashtags': [{u'indices': [0, 25], u'text': u'noallaviolenzasulledonne'}], u'urls': [], u'media': [{u'expanded_url': u'https://twitter.com/SteFanigliulo/status/802115468295335936/photo/1', u'display_url': u'pic.twitter.com/YsMVigbpWV', u'url': u'https://t.co/YsMVigbpWV', u'media_url_https': u'https://pbs.twimg.com/media/CyGvsauXAAAICMD.jpg', u'id_str': u'802115386271531008', u'sizes': {u'large': {u'h': 427, u'resize': u'fit', u'w': 640}, u'small': {u'h': 427, u'resize': u'fit', u'w': 640}, u'medium': {u'h': 427, u'resize': u'fit', u'w': 640}, u'thumb': {u'h': 150, u'resize': u'crop', u'w': 150}}, u'indices': [26, 49], u'type': u'photo', u'id': 802115386271531008, u'media_url': u'http://pbs.twimg.com/media/CyGvsauXAAAICMD.jpg'}]}, u'in_reply_to_screen_name': None, u'in_reply_to_user_id': None, u'retweet_count': 0, u'id_str': u'802115468295335936', u'favorited': False, u'geo': None, u'in_reply_to_user_id_str': None, u'possibly_sensitive': False, u'lang': u'und', u'created_at': u'Fri Nov 25 11:43:24 +0000 2016', u'in_reply_to_status_id_str': None, u'place': None, u'extended_entities': {u'media': [{u'expanded_url': u'https://twitter.com/SteFanigliulo/status/802115468295335936/photo/1', u'display_url': u'pic.twitter.com/YsMVigbpWV', u'url': u'https://t.co/YsMVigbpWV', u'media_url_https': u'https://pbs.twimg.com/media/CyGvsauXAAAICMD.jpg', u'id_str': u'802115386271531008', u'sizes': {u'large': {u'h': 427, u'resize': u'fit', u'w': 640}, u'small': {u'h': 427, u'resize': u'fit', u'w': 640}, u'medium': {u'h': 427, u'resize': u'fit', u'w': 640}, u'thumb': {u'h': 150, u'resize': u'crop', u'w': 150}}, u'indices': [26, 49], u'type': u'photo', u'id': 802115386271531008, u'media_url': u'http://pbs.twimg.com/media/CyGvsauXAAAICMD.jpg'}]}}, u'is_translation_enabled': False, u'utc_offset': None, u'statuses_count': 8, u'description': u'', u'friends_count': 98, u'location': u'', u'profile_link_color': u'1DA1F2', u'profile_image_url': u'http://pbs.twimg.com/profile_images/778533494309912576/VgY1CRu3_normal.jpg', u'following': False, u'geo_enabled': False, u'blocking': False, u'profile_background_image_url': None, u'screen_name': u'SteFanigliulo', u'lang': u'it', u'profile_background_tile': False, u'favourites_count': 6, u'name': u'Stefano Fanigliulo', u'notifications': False, u'url': None, u'created_at': u'Wed Sep 21 09:33:17 +0000 2016', u'contributors_enabled': False, u'time_zone': None, u'protected': False, u'default_profile': True, u'is_translator': False}, is_translator=False, geo_enabled=False, entities={u'description': {u'urls': []}}, followers_count=21, protected=False, id_str=u'778527509323350016', default_profile_image=False, listed_count=0, status=Status(contributors=None, truncated=False, text=u'#noallaviolenzasulledonne https://t.co/YsMVigbpWV', is_quote_status=False, in_reply_to_status_id=None, id=802115468295335936, favorite_count=0, _api=<tweepy.api.API object at 0x7fe28ab1c950>, source=u'Twitter Web Client', _json={u'contributors': None, u'truncated': False, u'text': u'#noallaviolenzasulledonne https://t.co/YsMVigbpWV', u'is_quote_status': False, u'in_reply_to_status_id': None, u'id': 802115468295335936, u'favorite_count': 0, u'source': u'<a href=\"http://twitter.com\" rel=\"nofollow\">Twitter Web Client</a>', u'retweeted': False, u'coordinates': None, u'entities': {u'symbols': [], u'user_mentions': [], u'hashtags': [{u'indices': [0, 25], u'text': u'noallaviolenzasulledonne'}], u'urls': [], u'media': [{u'expanded_url': u'https://twitter.com/SteFanigliulo/status/802115468295335936/photo/1', u'display_url': u'pic.twitter.com/YsMVigbpWV', u'url': u'https://t.co/YsMVigbpWV', u'media_url_https': u'https://pbs.twimg.com/media/CyGvsauXAAAICMD.jpg', u'id_str': u'802115386271531008', u'sizes': {u'large': {u'h': 427, u'resize': u'fit', u'w': 640}, u'small': {u'h': 427, u'resize': u'fit', u'w': 640}, u'medium': {u'h': 427, u'resize': u'fit', u'w': 640}, u'thumb': {u'h': 150, u'resize': u'crop', u'w': 150}}, u'indices': [26, 49], u'type': u'photo', u'id': 802115386271531008, u'media_url': u'http://pbs.twimg.com/media/CyGvsauXAAAICMD.jpg'}]}, u'in_reply_to_screen_name': None, u'in_reply_to_user_id': None, u'retweet_count': 0, u'id_str': u'802115468295335936', u'favorited': False, u'geo': None, u'in_reply_to_user_id_str': None, u'possibly_sensitive': False, u'lang': u'und', u'created_at': u'Fri Nov 25 11:43:24 +0000 2016', u'in_reply_to_status_id_str': None, u'place': None, u'extended_entities': {u'media': [{u'expanded_url': u'https://twitter.com/SteFanigliulo/status/802115468295335936/photo/1', u'display_url': u'pic.twitter.com/YsMVigbpWV', u'url': u'https://t.co/YsMVigbpWV', u'media_url_https': u'https://pbs.twimg.com/media/CyGvsauXAAAICMD.jpg', u'id_str': u'802115386271531008', u'sizes': {u'large': {u'h': 427, u'resize': u'fit', u'w': 640}, u'small': {u'h': 427, u'resize': u'fit', u'w': 640}, u'medium': {u'h': 427, u'resize': u'fit', u'w': 640}, u'thumb': {u'h': 150, u'resize': u'crop', u'w': 150}}, u'indices': [26, 49], u'type': u'photo', u'id': 802115386271531008, u'media_url': u'http://pbs.twimg.com/media/CyGvsauXAAAICMD.jpg'}]}}, coordinates=None, entities={u'symbols': [], u'user_mentions': [], u'hashtags': [{u'indices': [0, 25], u'text': u'noallaviolenzasulledonne'}], u'urls': [], u'media': [{u'expanded_url': u'https://twitter.com/SteFanigliulo/status/802115468295335936/photo/1', u'display_url': u'pic.twitter.com/YsMVigbpWV', u'url': u'https://t.co/YsMVigbpWV', u'media_url_https': u'https://pbs.twimg.com/media/CyGvsauXAAAICMD.jpg', u'id_str': u'802115386271531008', u'sizes': {u'large': {u'h': 427, u'resize': u'fit', u'w': 640}, u'small': {u'h': 427, u'resize': u'fit', u'w': 640}, u'medium': {u'h': 427, u'resize': u'fit', u'w': 640}, u'thumb': {u'h': 150, u'resize': u'crop', u'w': 150}}, u'indices': [26, 49], u'type': u'photo', u'id': 802115386271531008, u'media_url': u'http://pbs.twimg.com/media/CyGvsauXAAAICMD.jpg'}]}, in_reply_to_screen_name=None, id_str=u'802115468295335936', retweet_count=0, in_reply_to_user_id=None, favorited=False, source_url=u'http://twitter.com', geo=None, in_reply_to_user_id_str=None, possibly_sensitive=False, lang=u'und', created_at=datetime.datetime(2016, 11, 25, 11, 43, 24), in_reply_to_status_id_str=None, place=None, extended_entities={u'media': [{u'expanded_url': u'https://twitter.com/SteFanigliulo/status/802115468295335936/photo/1', u'display_url': u'pic.twitter.com/YsMVigbpWV', u'url': u'https://t.co/YsMVigbpWV', u'media_url_https': u'https://pbs.twimg.com/media/CyGvsauXAAAICMD.jpg', u'id_str': u'802115386271531008', u'sizes': {u'large': {u'h': 427, u'resize': u'fit', u'w': 640}, u'small': {u'h': 427, u'resize': u'fit', u'w': 640}, u'medium': {u'h': 427, u'resize': u'fit', u'w': 640}, u'thumb': {u'h': 150, u'resize': u'crop', u'w': 150}}, u'indices': [26, 49], u'type': u'photo', u'id': 802115386271531008, u'media_url': u'http://pbs.twimg.com/media/CyGvsauXAAAICMD.jpg'}]}, retweeted=False), lang=u'it', utc_offset=None, statuses_count=8, profile_background_color=u'F5F8FA', friends_count=98, profile_link_color=u'1DA1F2', profile_image_url=u'http://pbs.twimg.com/profile_images/778533494309912576/VgY1CRu3_normal.jpg', notifications=False, default_profile=True, profile_background_image_url_https=None, blocking=False, profile_background_image_url=None, name=u'Stefano Fanigliulo', is_translation_enabled=False, profile_background_tile=False, favourites_count=6, screen_name=u'SteFanigliulo', url=None, created_at=datetime.datetime(2016, 9, 21, 9, 33, 17), contributors_enabled=False, location=u'', profile_sidebar_border_color=u'C0DEED', translator_type=u'none', following=False),\n",
       " User(follow_request_sent=False, has_extended_profile=False, profile_use_background_image=True, profile_sidebar_fill_color=u'DDEEF6', live_following=False, time_zone=None, id=49291859, description=u'', _api=<tweepy.api.API object at 0x7fe28ab1c950>, verified=False, blocked_by=False, profile_text_color=u'333333', muting=False, profile_image_url_https=u'https://pbs.twimg.com/profile_images/631867890749325312/VYbqFY6q_normal.jpg', _json={u'follow_request_sent': False, u'has_extended_profile': False, u'profile_use_background_image': True, u'live_following': False, u'default_profile_image': False, u'id': 49291859, u'profile_background_image_url_https': u'https://abs.twimg.com/images/themes/theme1/bg.png', u'translator_type': u'none', u'verified': False, u'blocked_by': False, u'profile_text_color': u'333333', u'muting': False, u'profile_image_url_https': u'https://pbs.twimg.com/profile_images/631867890749325312/VYbqFY6q_normal.jpg', u'profile_sidebar_fill_color': u'DDEEF6', u'entities': {u'description': {u'urls': []}}, u'followers_count': 33, u'profile_sidebar_border_color': u'C0DEED', u'id_str': u'49291859', u'profile_background_color': u'C0DEED', u'listed_count': 1, u'status': {u'contributors': None, u'truncated': False, u'text': u'#PrayForBelgium https://t.co/ZGq1KvhB63', u'is_quote_status': True, u'in_reply_to_status_id': None, u'id': 712304135463378945, u'favorite_count': 0, u'source': u'<a href=\"http://twitter.com/download/android\" rel=\"nofollow\">Twitter for Android</a>', u'quoted_status_id': 712297751984410624, u'retweeted': False, u'coordinates': None, u'entities': {u'symbols': [], u'user_mentions': [], u'hashtags': [{u'indices': [0, 15], u'text': u'PrayForBelgium'}], u'urls': [{u'url': u'https://t.co/ZGq1KvhB63', u'indices': [16, 39], u'expanded_url': u'https://twitter.com/lucfontana/status/712297751984410624', u'display_url': u'twitter.com/lucfontana/sta\\u2026'}]}, u'in_reply_to_screen_name': None, u'in_reply_to_user_id': None, u'retweet_count': 0, u'id_str': u'712304135463378945', u'favorited': False, u'geo': None, u'in_reply_to_user_id_str': None, u'possibly_sensitive': False, u'lang': u'und', u'created_at': u'Tue Mar 22 15:45:14 +0000 2016', u'quoted_status_id_str': u'712297751984410624', u'in_reply_to_status_id_str': None, u'place': None}, u'is_translation_enabled': False, u'utc_offset': None, u'statuses_count': 22, u'description': u'', u'friends_count': 61, u'location': u'rome', u'profile_link_color': u'1DA1F2', u'profile_image_url': u'http://pbs.twimg.com/profile_images/631867890749325312/VYbqFY6q_normal.jpg', u'following': False, u'geo_enabled': True, u'profile_banner_url': u'https://pbs.twimg.com/profile_banners/49291859/1449384726', u'blocking': False, u'profile_background_image_url': u'http://abs.twimg.com/images/themes/theme1/bg.png', u'screen_name': u'liasflight', u'lang': u'it', u'profile_background_tile': False, u'favourites_count': 1, u'name': u'lia', u'notifications': False, u'url': None, u'created_at': u'Sun Jun 21 11:08:16 +0000 2009', u'contributors_enabled': False, u'time_zone': None, u'protected': False, u'default_profile': True, u'is_translator': False}, is_translator=False, geo_enabled=True, entities={u'description': {u'urls': []}}, followers_count=33, protected=False, id_str=u'49291859', default_profile_image=False, listed_count=1, status=Status(contributors=None, truncated=False, text=u'#PrayForBelgium https://t.co/ZGq1KvhB63', is_quote_status=True, in_reply_to_status_id=None, id=712304135463378945, favorite_count=0, _api=<tweepy.api.API object at 0x7fe28ab1c950>, source=u'Twitter for Android', quoted_status_id=712297751984410624, _json={u'contributors': None, u'truncated': False, u'text': u'#PrayForBelgium https://t.co/ZGq1KvhB63', u'is_quote_status': True, u'in_reply_to_status_id': None, u'id': 712304135463378945, u'favorite_count': 0, u'source': u'<a href=\"http://twitter.com/download/android\" rel=\"nofollow\">Twitter for Android</a>', u'quoted_status_id': 712297751984410624, u'retweeted': False, u'coordinates': None, u'entities': {u'symbols': [], u'user_mentions': [], u'hashtags': [{u'indices': [0, 15], u'text': u'PrayForBelgium'}], u'urls': [{u'url': u'https://t.co/ZGq1KvhB63', u'indices': [16, 39], u'expanded_url': u'https://twitter.com/lucfontana/status/712297751984410624', u'display_url': u'twitter.com/lucfontana/sta\\u2026'}]}, u'in_reply_to_screen_name': None, u'in_reply_to_user_id': None, u'retweet_count': 0, u'id_str': u'712304135463378945', u'favorited': False, u'geo': None, u'in_reply_to_user_id_str': None, u'possibly_sensitive': False, u'lang': u'und', u'created_at': u'Tue Mar 22 15:45:14 +0000 2016', u'quoted_status_id_str': u'712297751984410624', u'in_reply_to_status_id_str': None, u'place': None}, coordinates=None, entities={u'symbols': [], u'user_mentions': [], u'hashtags': [{u'indices': [0, 15], u'text': u'PrayForBelgium'}], u'urls': [{u'url': u'https://t.co/ZGq1KvhB63', u'indices': [16, 39], u'expanded_url': u'https://twitter.com/lucfontana/status/712297751984410624', u'display_url': u'twitter.com/lucfontana/sta\\u2026'}]}, in_reply_to_screen_name=None, id_str=u'712304135463378945', retweet_count=0, in_reply_to_user_id=None, favorited=False, source_url=u'http://twitter.com/download/android', geo=None, in_reply_to_user_id_str=None, possibly_sensitive=False, lang=u'und', created_at=datetime.datetime(2016, 3, 22, 15, 45, 14), quoted_status_id_str=u'712297751984410624', in_reply_to_status_id_str=None, place=None, retweeted=False), lang=u'it', utc_offset=None, statuses_count=22, profile_background_color=u'C0DEED', friends_count=61, profile_link_color=u'1DA1F2', profile_image_url=u'http://pbs.twimg.com/profile_images/631867890749325312/VYbqFY6q_normal.jpg', notifications=False, default_profile=True, profile_background_image_url_https=u'https://abs.twimg.com/images/themes/theme1/bg.png', profile_banner_url=u'https://pbs.twimg.com/profile_banners/49291859/1449384726', blocking=False, profile_background_image_url=u'http://abs.twimg.com/images/themes/theme1/bg.png', name=u'lia', is_translation_enabled=False, profile_background_tile=False, favourites_count=1, screen_name=u'liasflight', url=None, created_at=datetime.datetime(2009, 6, 21, 11, 8, 16), contributors_enabled=False, location=u'rome', profile_sidebar_border_color=u'C0DEED', translator_type=u'none', following=False),\n",
       " User(follow_request_sent=False, has_extended_profile=True, profile_use_background_image=True, profile_sidebar_fill_color=u'C0DFEC', live_following=False, time_zone=u'Rome', id=72058700, description=u'', _api=<tweepy.api.API object at 0x7fe28ab1c950>, verified=False, blocked_by=False, profile_text_color=u'333333', muting=False, profile_image_url_https=u'https://pbs.twimg.com/profile_images/506913138344984576/9ltQC47R_normal.jpeg', _json={u'follow_request_sent': False, u'has_extended_profile': True, u'profile_use_background_image': True, u'live_following': False, u'default_profile_image': False, u'id': 72058700, u'profile_background_image_url_https': u'https://abs.twimg.com/images/themes/theme15/bg.png', u'translator_type': u'none', u'verified': False, u'blocked_by': False, u'profile_text_color': u'333333', u'muting': False, u'profile_image_url_https': u'https://pbs.twimg.com/profile_images/506913138344984576/9ltQC47R_normal.jpeg', u'profile_sidebar_fill_color': u'C0DFEC', u'entities': {u'description': {u'urls': []}}, u'followers_count': 142, u'profile_sidebar_border_color': u'A8C7F7', u'id_str': u'72058700', u'profile_background_color': u'022330', u'listed_count': 1, u'status': {u'contributors': None, u'truncated': False, u'text': u'RT @FicarraePicone: \\xc8 ufficiale: #Crocetta si ricandida. Rimane da sapere quali saranno le altre 9 piaghe che si abbatteranno sulla Sicilia.', u'is_quote_status': False, u'in_reply_to_status_id': None, u'id': 774586493834854400, u'favorite_count': 0, u'source': u'<a href=\"http://klinkerapps.com\" rel=\"nofollow\">Talon Plus</a>', u'retweeted': False, u'coordinates': None, u'entities': {u'symbols': [], u'user_mentions': [{u'id': 398904362, u'indices': [3, 18], u'id_str': u'398904362', u'screen_name': u'FicarraePicone', u'name': u'Ficarra e Picone'}], u'hashtags': [{u'indices': [33, 42], u'text': u'Crocetta'}], u'urls': []}, u'in_reply_to_screen_name': None, u'in_reply_to_user_id': None, u'retweet_count': 358, u'id_str': u'774586493834854400', u'favorited': False, u'retweeted_status': {u'contributors': None, u'truncated': False, u'text': u'\\xc8 ufficiale: #Crocetta si ricandida. Rimane da sapere quali saranno le altre 9 piaghe che si abbatteranno sulla Sicilia.', u'is_quote_status': False, u'in_reply_to_status_id': None, u'id': 774574295079120896, u'favorite_count': 556, u'source': u'<a href=\"http://twitter.com/download/iphone\" rel=\"nofollow\">Twitter for iPhone</a>', u'retweeted': False, u'coordinates': None, u'entities': {u'symbols': [], u'user_mentions': [], u'hashtags': [{u'indices': [13, 22], u'text': u'Crocetta'}], u'urls': []}, u'in_reply_to_screen_name': None, u'in_reply_to_user_id': None, u'retweet_count': 358, u'id_str': u'774574295079120896', u'favorited': False, u'geo': None, u'in_reply_to_user_id_str': None, u'lang': u'it', u'created_at': u'Sat Sep 10 11:44:37 +0000 2016', u'in_reply_to_status_id_str': None, u'place': None}, u'geo': None, u'in_reply_to_user_id_str': None, u'lang': u'it', u'created_at': u'Sat Sep 10 12:33:05 +0000 2016', u'in_reply_to_status_id_str': None, u'place': None}, u'is_translation_enabled': False, u'utc_offset': 3600, u'statuses_count': 121, u'description': u'', u'friends_count': 206, u'location': u'', u'profile_link_color': u'0084B4', u'profile_image_url': u'http://pbs.twimg.com/profile_images/506913138344984576/9ltQC47R_normal.jpeg', u'following': False, u'geo_enabled': False, u'profile_banner_url': u'https://pbs.twimg.com/profile_banners/72058700/1402525202', u'blocking': False, u'profile_background_image_url': u'http://abs.twimg.com/images/themes/theme15/bg.png', u'screen_name': u'massimocaristia', u'lang': u'it', u'profile_background_tile': False, u'favourites_count': 23, u'name': u'Massimo Caristia', u'notifications': False, u'url': None, u'created_at': u'Sun Sep 06 15:38:42 +0000 2009', u'contributors_enabled': False, u'time_zone': u'Rome', u'protected': False, u'default_profile': False, u'is_translator': False}, is_translator=False, geo_enabled=False, entities={u'description': {u'urls': []}}, followers_count=142, protected=False, id_str=u'72058700', default_profile_image=False, listed_count=1, status=Status(contributors=None, truncated=False, text=u'RT @FicarraePicone: \\xc8 ufficiale: #Crocetta si ricandida. Rimane da sapere quali saranno le altre 9 piaghe che si abbatteranno sulla Sicilia.', is_quote_status=False, in_reply_to_status_id=None, id=774586493834854400, favorite_count=0, _api=<tweepy.api.API object at 0x7fe28ab1c950>, source=u'Talon Plus', _json={u'contributors': None, u'truncated': False, u'text': u'RT @FicarraePicone: \\xc8 ufficiale: #Crocetta si ricandida. Rimane da sapere quali saranno le altre 9 piaghe che si abbatteranno sulla Sicilia.', u'is_quote_status': False, u'in_reply_to_status_id': None, u'id': 774586493834854400, u'favorite_count': 0, u'source': u'<a href=\"http://klinkerapps.com\" rel=\"nofollow\">Talon Plus</a>', u'retweeted': False, u'coordinates': None, u'entities': {u'symbols': [], u'user_mentions': [{u'id': 398904362, u'indices': [3, 18], u'id_str': u'398904362', u'screen_name': u'FicarraePicone', u'name': u'Ficarra e Picone'}], u'hashtags': [{u'indices': [33, 42], u'text': u'Crocetta'}], u'urls': []}, u'in_reply_to_screen_name': None, u'in_reply_to_user_id': None, u'retweet_count': 358, u'id_str': u'774586493834854400', u'favorited': False, u'retweeted_status': {u'contributors': None, u'truncated': False, u'text': u'\\xc8 ufficiale: #Crocetta si ricandida. Rimane da sapere quali saranno le altre 9 piaghe che si abbatteranno sulla Sicilia.', u'is_quote_status': False, u'in_reply_to_status_id': None, u'id': 774574295079120896, u'favorite_count': 556, u'source': u'<a href=\"http://twitter.com/download/iphone\" rel=\"nofollow\">Twitter for iPhone</a>', u'retweeted': False, u'coordinates': None, u'entities': {u'symbols': [], u'user_mentions': [], u'hashtags': [{u'indices': [13, 22], u'text': u'Crocetta'}], u'urls': []}, u'in_reply_to_screen_name': None, u'in_reply_to_user_id': None, u'retweet_count': 358, u'id_str': u'774574295079120896', u'favorited': False, u'geo': None, u'in_reply_to_user_id_str': None, u'lang': u'it', u'created_at': u'Sat Sep 10 11:44:37 +0000 2016', u'in_reply_to_status_id_str': None, u'place': None}, u'geo': None, u'in_reply_to_user_id_str': None, u'lang': u'it', u'created_at': u'Sat Sep 10 12:33:05 +0000 2016', u'in_reply_to_status_id_str': None, u'place': None}, coordinates=None, entities={u'symbols': [], u'user_mentions': [{u'id': 398904362, u'indices': [3, 18], u'id_str': u'398904362', u'screen_name': u'FicarraePicone', u'name': u'Ficarra e Picone'}], u'hashtags': [{u'indices': [33, 42], u'text': u'Crocetta'}], u'urls': []}, in_reply_to_screen_name=None, id_str=u'774586493834854400', retweet_count=358, in_reply_to_user_id=None, favorited=False, retweeted_status=Status(contributors=None, truncated=False, text=u'\\xc8 ufficiale: #Crocetta si ricandida. Rimane da sapere quali saranno le altre 9 piaghe che si abbatteranno sulla Sicilia.', is_quote_status=False, in_reply_to_status_id=None, id=774574295079120896, favorite_count=556, _api=<tweepy.api.API object at 0x7fe28ab1c950>, source=u'Twitter for iPhone', _json={u'contributors': None, u'truncated': False, u'text': u'\\xc8 ufficiale: #Crocetta si ricandida. Rimane da sapere quali saranno le altre 9 piaghe che si abbatteranno sulla Sicilia.', u'is_quote_status': False, u'in_reply_to_status_id': None, u'id': 774574295079120896, u'favorite_count': 556, u'source': u'<a href=\"http://twitter.com/download/iphone\" rel=\"nofollow\">Twitter for iPhone</a>', u'retweeted': False, u'coordinates': None, u'entities': {u'symbols': [], u'user_mentions': [], u'hashtags': [{u'indices': [13, 22], u'text': u'Crocetta'}], u'urls': []}, u'in_reply_to_screen_name': None, u'in_reply_to_user_id': None, u'retweet_count': 358, u'id_str': u'774574295079120896', u'favorited': False, u'geo': None, u'in_reply_to_user_id_str': None, u'lang': u'it', u'created_at': u'Sat Sep 10 11:44:37 +0000 2016', u'in_reply_to_status_id_str': None, u'place': None}, coordinates=None, entities={u'symbols': [], u'user_mentions': [], u'hashtags': [{u'indices': [13, 22], u'text': u'Crocetta'}], u'urls': []}, in_reply_to_screen_name=None, id_str=u'774574295079120896', retweet_count=358, in_reply_to_user_id=None, favorited=False, source_url=u'http://twitter.com/download/iphone', geo=None, in_reply_to_user_id_str=None, lang=u'it', created_at=datetime.datetime(2016, 9, 10, 11, 44, 37), in_reply_to_status_id_str=None, place=None, retweeted=False), source_url=u'http://klinkerapps.com', geo=None, in_reply_to_user_id_str=None, lang=u'it', created_at=datetime.datetime(2016, 9, 10, 12, 33, 5), in_reply_to_status_id_str=None, place=None, retweeted=False), lang=u'it', utc_offset=3600, statuses_count=121, profile_background_color=u'022330', friends_count=206, profile_link_color=u'0084B4', profile_image_url=u'http://pbs.twimg.com/profile_images/506913138344984576/9ltQC47R_normal.jpeg', notifications=False, default_profile=False, profile_background_image_url_https=u'https://abs.twimg.com/images/themes/theme15/bg.png', profile_banner_url=u'https://pbs.twimg.com/profile_banners/72058700/1402525202', blocking=False, profile_background_image_url=u'http://abs.twimg.com/images/themes/theme15/bg.png', name=u'Massimo Caristia', is_translation_enabled=False, profile_background_tile=False, favourites_count=23, screen_name=u'massimocaristia', url=None, created_at=datetime.datetime(2009, 9, 6, 15, 38, 42), contributors_enabled=False, location=u'', profile_sidebar_border_color=u'A8C7F7', translator_type=u'none', following=False),\n",
       " User(follow_request_sent=False, has_extended_profile=False, profile_use_background_image=True, profile_sidebar_fill_color=u'DDEEF6', live_following=False, time_zone=u'Athens', id=1363884554, description=u\"salda al timone, di norma tengo la rotta, spesso cerco di perdermi. amo i ragionamenti senza via d'uscita. all views are my own.\", _api=<tweepy.api.API object at 0x7fe28ab1c950>, verified=False, blocked_by=False, profile_text_color=u'333333', muting=False, profile_image_url_https=u'https://pbs.twimg.com/profile_images/731063255830024192/2ULJNaGo_normal.jpg', _json={u'follow_request_sent': False, u'has_extended_profile': False, u'profile_use_background_image': True, u'live_following': False, u'default_profile_image': False, u'id': 1363884554, u'profile_background_image_url_https': u'https://pbs.twimg.com/profile_background_images/847037181/a1c35f9c5aab80880bd3f58ea4deb651.jpeg', u'translator_type': u'none', u'verified': False, u'blocked_by': False, u'profile_text_color': u'333333', u'muting': False, u'profile_image_url_https': u'https://pbs.twimg.com/profile_images/731063255830024192/2ULJNaGo_normal.jpg', u'profile_sidebar_fill_color': u'DDEEF6', u'entities': {u'url': {u'urls': [{u'url': u'http://t.co/O6dpv9c400', u'indices': [0, 22], u'expanded_url': u'http://consumersforum.it', u'display_url': u'consumersforum.it'}]}, u'description': {u'urls': []}}, u'followers_count': 841, u'profile_sidebar_border_color': u'FFFFFF', u'id_str': u'1363884554', u'profile_background_color': u'C0DEED', u'listed_count': 34, u'status': {u'contributors': None, u'truncated': False, u'text': u'RT @paoladelusa: Letizia Battaglia, una storia di vita Al MAXXI fino al 17 aprile, 200 scatti \"Per pura passione\" https://t.co/5H5zEEjG3A h\\u2026', u'is_quote_status': False, u'in_reply_to_status_id': None, u'id': 802085871344320512, u'favorite_count': 0, u'source': u'<a href=\"http://twitter.com/download/android\" rel=\"nofollow\">Twitter for Android</a>', u'retweeted': False, u'coordinates': None, u'entities': {u'symbols': [], u'user_mentions': [{u'id': 311381225, u'indices': [3, 15], u'id_str': u'311381225', u'screen_name': u'paoladelusa', u'name': u'Paola Barbagallo'}], u'hashtags': [], u'urls': [{u'url': u'https://t.co/5H5zEEjG3A', u'indices': [114, 137], u'expanded_url': u'http://www.ansa.it/canale_viaggiart/it/photogallery/2016/11/23/letizia-battaglia-una-storia-di-vita_3b9a4b33-fec6-49d7-b560-e552edc93356.html', u'display_url': u'ansa.it/canale_viaggia\\u2026'}]}, u'in_reply_to_screen_name': None, u'in_reply_to_user_id': None, u'retweet_count': 12, u'id_str': u'802085871344320512', u'favorited': False, u'retweeted_status': {u'contributors': None, u'truncated': True, u'text': u'Letizia Battaglia, una storia di vita Al MAXXI fino al 17 aprile, 200 scatti \"Per pura passione\"\\u2026 https://t.co/8CaoMamCCh', u'is_quote_status': False, u'in_reply_to_status_id': None, u'id': 802031405727444992, u'favorite_count': 22, u'source': u'<a href=\"http://twitter.com\" rel=\"nofollow\">Twitter Web Client</a>', u'retweeted': False, u'coordinates': None, u'entities': {u'symbols': [], u'user_mentions': [], u'hashtags': [], u'urls': [{u'url': u'https://t.co/8CaoMamCCh', u'indices': [98, 121], u'expanded_url': u'https://twitter.com/i/web/status/802031405727444992', u'display_url': u'twitter.com/i/web/status/8\\u2026'}]}, u'in_reply_to_screen_name': None, u'in_reply_to_user_id': None, u'retweet_count': 12, u'id_str': u'802031405727444992', u'favorited': False, u'geo': None, u'in_reply_to_user_id_str': None, u'possibly_sensitive': False, u'lang': u'it', u'created_at': u'Fri Nov 25 06:09:22 +0000 2016', u'in_reply_to_status_id_str': None, u'place': None}, u'geo': None, u'in_reply_to_user_id_str': None, u'possibly_sensitive': False, u'lang': u'it', u'created_at': u'Fri Nov 25 09:45:48 +0000 2016', u'in_reply_to_status_id_str': None, u'place': None}, u'is_translation_enabled': False, u'utc_offset': 7200, u'statuses_count': 3841, u'description': u\"salda al timone, di norma tengo la rotta, spesso cerco di perdermi. amo i ragionamenti senza via d'uscita. all views are my own.\", u'friends_count': 2902, u'location': u'Roma', u'profile_link_color': u'0084B4', u'profile_image_url': u'http://pbs.twimg.com/profile_images/731063255830024192/2ULJNaGo_normal.jpg', u'following': False, u'geo_enabled': False, u'profile_banner_url': u'https://pbs.twimg.com/profile_banners/1363884554/1445194062', u'blocking': False, u'profile_background_image_url': u'http://pbs.twimg.com/profile_background_images/847037181/a1c35f9c5aab80880bd3f58ea4deb651.jpeg', u'screen_name': u'AlePiloni', u'lang': u'it', u'profile_background_tile': False, u'favourites_count': 4823, u'name': u'Alessandra Piloni', u'notifications': False, u'url': u'http://t.co/O6dpv9c400', u'created_at': u'Fri Apr 19 08:13:12 +0000 2013', u'contributors_enabled': False, u'time_zone': u'Athens', u'protected': False, u'default_profile': False, u'is_translator': False}, is_translator=False, geo_enabled=False, entities={u'url': {u'urls': [{u'url': u'http://t.co/O6dpv9c400', u'indices': [0, 22], u'expanded_url': u'http://consumersforum.it', u'display_url': u'consumersforum.it'}]}, u'description': {u'urls': []}}, followers_count=841, protected=False, id_str=u'1363884554', default_profile_image=False, listed_count=34, status=Status(contributors=None, truncated=False, text=u'RT @paoladelusa: Letizia Battaglia, una storia di vita Al MAXXI fino al 17 aprile, 200 scatti \"Per pura passione\" https://t.co/5H5zEEjG3A h\\u2026', is_quote_status=False, in_reply_to_status_id=None, id=802085871344320512, favorite_count=0, _api=<tweepy.api.API object at 0x7fe28ab1c950>, source=u'Twitter for Android', _json={u'contributors': None, u'truncated': False, u'text': u'RT @paoladelusa: Letizia Battaglia, una storia di vita Al MAXXI fino al 17 aprile, 200 scatti \"Per pura passione\" https://t.co/5H5zEEjG3A h\\u2026', u'is_quote_status': False, u'in_reply_to_status_id': None, u'id': 802085871344320512, u'favorite_count': 0, u'source': u'<a href=\"http://twitter.com/download/android\" rel=\"nofollow\">Twitter for Android</a>', u'retweeted': False, u'coordinates': None, u'entities': {u'symbols': [], u'user_mentions': [{u'id': 311381225, u'indices': [3, 15], u'id_str': u'311381225', u'screen_name': u'paoladelusa', u'name': u'Paola Barbagallo'}], u'hashtags': [], u'urls': [{u'url': u'https://t.co/5H5zEEjG3A', u'indices': [114, 137], u'expanded_url': u'http://www.ansa.it/canale_viaggiart/it/photogallery/2016/11/23/letizia-battaglia-una-storia-di-vita_3b9a4b33-fec6-49d7-b560-e552edc93356.html', u'display_url': u'ansa.it/canale_viaggia\\u2026'}]}, u'in_reply_to_screen_name': None, u'in_reply_to_user_id': None, u'retweet_count': 12, u'id_str': u'802085871344320512', u'favorited': False, u'retweeted_status': {u'contributors': None, u'truncated': True, u'text': u'Letizia Battaglia, una storia di vita Al MAXXI fino al 17 aprile, 200 scatti \"Per pura passione\"\\u2026 https://t.co/8CaoMamCCh', u'is_quote_status': False, u'in_reply_to_status_id': None, u'id': 802031405727444992, u'favorite_count': 22, u'source': u'<a href=\"http://twitter.com\" rel=\"nofollow\">Twitter Web Client</a>', u'retweeted': False, u'coordinates': None, u'entities': {u'symbols': [], u'user_mentions': [], u'hashtags': [], u'urls': [{u'url': u'https://t.co/8CaoMamCCh', u'indices': [98, 121], u'expanded_url': u'https://twitter.com/i/web/status/802031405727444992', u'display_url': u'twitter.com/i/web/status/8\\u2026'}]}, u'in_reply_to_screen_name': None, u'in_reply_to_user_id': None, u'retweet_count': 12, u'id_str': u'802031405727444992', u'favorited': False, u'geo': None, u'in_reply_to_user_id_str': None, u'possibly_sensitive': False, u'lang': u'it', u'created_at': u'Fri Nov 25 06:09:22 +0000 2016', u'in_reply_to_status_id_str': None, u'place': None}, u'geo': None, u'in_reply_to_user_id_str': None, u'possibly_sensitive': False, u'lang': u'it', u'created_at': u'Fri Nov 25 09:45:48 +0000 2016', u'in_reply_to_status_id_str': None, u'place': None}, coordinates=None, entities={u'symbols': [], u'user_mentions': [{u'id': 311381225, u'indices': [3, 15], u'id_str': u'311381225', u'screen_name': u'paoladelusa', u'name': u'Paola Barbagallo'}], u'hashtags': [], u'urls': [{u'url': u'https://t.co/5H5zEEjG3A', u'indices': [114, 137], u'expanded_url': u'http://www.ansa.it/canale_viaggiart/it/photogallery/2016/11/23/letizia-battaglia-una-storia-di-vita_3b9a4b33-fec6-49d7-b560-e552edc93356.html', u'display_url': u'ansa.it/canale_viaggia\\u2026'}]}, in_reply_to_screen_name=None, id_str=u'802085871344320512', retweet_count=12, in_reply_to_user_id=None, favorited=False, retweeted_status=Status(contributors=None, truncated=True, text=u'Letizia Battaglia, una storia di vita Al MAXXI fino al 17 aprile, 200 scatti \"Per pura passione\"\\u2026 https://t.co/8CaoMamCCh', is_quote_status=False, in_reply_to_status_id=None, id=802031405727444992, favorite_count=22, _api=<tweepy.api.API object at 0x7fe28ab1c950>, source=u'Twitter Web Client', _json={u'contributors': None, u'truncated': True, u'text': u'Letizia Battaglia, una storia di vita Al MAXXI fino al 17 aprile, 200 scatti \"Per pura passione\"\\u2026 https://t.co/8CaoMamCCh', u'is_quote_status': False, u'in_reply_to_status_id': None, u'id': 802031405727444992, u'favorite_count': 22, u'source': u'<a href=\"http://twitter.com\" rel=\"nofollow\">Twitter Web Client</a>', u'retweeted': False, u'coordinates': None, u'entities': {u'symbols': [], u'user_mentions': [], u'hashtags': [], u'urls': [{u'url': u'https://t.co/8CaoMamCCh', u'indices': [98, 121], u'expanded_url': u'https://twitter.com/i/web/status/802031405727444992', u'display_url': u'twitter.com/i/web/status/8\\u2026'}]}, u'in_reply_to_screen_name': None, u'in_reply_to_user_id': None, u'retweet_count': 12, u'id_str': u'802031405727444992', u'favorited': False, u'geo': None, u'in_reply_to_user_id_str': None, u'possibly_sensitive': False, u'lang': u'it', u'created_at': u'Fri Nov 25 06:09:22 +0000 2016', u'in_reply_to_status_id_str': None, u'place': None}, coordinates=None, entities={u'symbols': [], u'user_mentions': [], u'hashtags': [], u'urls': [{u'url': u'https://t.co/8CaoMamCCh', u'indices': [98, 121], u'expanded_url': u'https://twitter.com/i/web/status/802031405727444992', u'display_url': u'twitter.com/i/web/status/8\\u2026'}]}, in_reply_to_screen_name=None, id_str=u'802031405727444992', retweet_count=12, in_reply_to_user_id=None, favorited=False, source_url=u'http://twitter.com', geo=None, in_reply_to_user_id_str=None, possibly_sensitive=False, lang=u'it', created_at=datetime.datetime(2016, 11, 25, 6, 9, 22), in_reply_to_status_id_str=None, place=None, retweeted=False), source_url=u'http://twitter.com/download/android', geo=None, in_reply_to_user_id_str=None, possibly_sensitive=False, lang=u'it', created_at=datetime.datetime(2016, 11, 25, 9, 45, 48), in_reply_to_status_id_str=None, place=None, retweeted=False), lang=u'it', utc_offset=7200, statuses_count=3841, profile_background_color=u'C0DEED', friends_count=2902, profile_link_color=u'0084B4', profile_image_url=u'http://pbs.twimg.com/profile_images/731063255830024192/2ULJNaGo_normal.jpg', notifications=False, default_profile=False, profile_background_image_url_https=u'https://pbs.twimg.com/profile_background_images/847037181/a1c35f9c5aab80880bd3f58ea4deb651.jpeg', profile_banner_url=u'https://pbs.twimg.com/profile_banners/1363884554/1445194062', blocking=False, profile_background_image_url=u'http://pbs.twimg.com/profile_background_images/847037181/a1c35f9c5aab80880bd3f58ea4deb651.jpeg', name=u'Alessandra Piloni', is_translation_enabled=False, profile_background_tile=False, favourites_count=4823, screen_name=u'AlePiloni', url=u'http://t.co/O6dpv9c400', created_at=datetime.datetime(2013, 4, 19, 8, 13, 12), contributors_enabled=False, location=u'Roma', profile_sidebar_border_color=u'FFFFFF', translator_type=u'none', following=False),\n",
       " User(follow_request_sent=False, has_extended_profile=True, profile_use_background_image=True, profile_sidebar_fill_color=u'DDEEF6', live_following=False, time_zone=None, id=771995723722358784, description=u'', _api=<tweepy.api.API object at 0x7fe28ab1c950>, verified=False, blocked_by=False, profile_text_color=u'333333', muting=False, profile_image_url_https=u'https://pbs.twimg.com/profile_images/771998260772962304/VQKxBr0-_normal.jpg', _json={u'follow_request_sent': False, u'has_extended_profile': True, u'profile_use_background_image': True, u'live_following': False, u'default_profile_image': False, u'id': 771995723722358784, u'profile_background_image_url_https': None, u'translator_type': u'none', u'verified': False, u'blocked_by': False, u'profile_text_color': u'333333', u'muting': False, u'profile_image_url_https': u'https://pbs.twimg.com/profile_images/771998260772962304/VQKxBr0-_normal.jpg', u'profile_sidebar_fill_color': u'DDEEF6', u'entities': {u'description': {u'urls': []}}, u'followers_count': 4, u'profile_sidebar_border_color': u'C0DEED', u'id_str': u'771995723722358784', u'profile_background_color': u'F5F8FA', u'listed_count': 0, u'status': {u'contributors': None, u'truncated': False, u'text': u'@simone_berga87 ciao Simo , ma devo iscrivermi a Instagram ?', u'is_quote_status': False, u'in_reply_to_status_id': 790890355856183296, u'id': 790946003662831616, u'favorite_count': 0, u'source': u'<a href=\"http://twitter.com/download/iphone\" rel=\"nofollow\">Twitter for iPhone</a>', u'retweeted': False, u'coordinates': None, u'entities': {u'symbols': [], u'user_mentions': [{u'id': 703571717126549505, u'indices': [0, 15], u'id_str': u'703571717126549505', u'screen_name': u'simone_berga87', u'name': u'Simone'}], u'hashtags': [], u'urls': []}, u'in_reply_to_screen_name': u'simone_berga87', u'in_reply_to_user_id': 703571717126549505, u'retweet_count': 0, u'id_str': u'790946003662831616', u'favorited': False, u'geo': None, u'in_reply_to_user_id_str': u'703571717126549505', u'lang': u'it', u'created_at': u'Tue Oct 25 15:59:56 +0000 2016', u'in_reply_to_status_id_str': u'790890355856183296', u'place': None}, u'is_translation_enabled': False, u'utc_offset': None, u'statuses_count': 3, u'description': u'', u'friends_count': 8, u'location': u'Bergamo, Lombardia', u'profile_link_color': u'1DA1F2', u'profile_image_url': u'http://pbs.twimg.com/profile_images/771998260772962304/VQKxBr0-_normal.jpg', u'following': False, u'geo_enabled': True, u'profile_banner_url': u'https://pbs.twimg.com/profile_banners/771995723722358784/1472893962', u'blocking': False, u'profile_background_image_url': None, u'screen_name': u'giampi1954', u'lang': u'it', u'profile_background_tile': False, u'favourites_count': 11, u'name': u'Giampi', u'notifications': False, u'url': None, u'created_at': u'Sat Sep 03 08:58:18 +0000 2016', u'contributors_enabled': False, u'time_zone': None, u'protected': False, u'default_profile': True, u'is_translator': False}, is_translator=False, geo_enabled=True, entities={u'description': {u'urls': []}}, followers_count=4, protected=False, id_str=u'771995723722358784', default_profile_image=False, listed_count=0, status=Status(contributors=None, truncated=False, text=u'@simone_berga87 ciao Simo , ma devo iscrivermi a Instagram ?', is_quote_status=False, in_reply_to_status_id=790890355856183296, id=790946003662831616, favorite_count=0, _api=<tweepy.api.API object at 0x7fe28ab1c950>, source=u'Twitter for iPhone', _json={u'contributors': None, u'truncated': False, u'text': u'@simone_berga87 ciao Simo , ma devo iscrivermi a Instagram ?', u'is_quote_status': False, u'in_reply_to_status_id': 790890355856183296, u'id': 790946003662831616, u'favorite_count': 0, u'source': u'<a href=\"http://twitter.com/download/iphone\" rel=\"nofollow\">Twitter for iPhone</a>', u'retweeted': False, u'coordinates': None, u'entities': {u'symbols': [], u'user_mentions': [{u'id': 703571717126549505, u'indices': [0, 15], u'id_str': u'703571717126549505', u'screen_name': u'simone_berga87', u'name': u'Simone'}], u'hashtags': [], u'urls': []}, u'in_reply_to_screen_name': u'simone_berga87', u'in_reply_to_user_id': 703571717126549505, u'retweet_count': 0, u'id_str': u'790946003662831616', u'favorited': False, u'geo': None, u'in_reply_to_user_id_str': u'703571717126549505', u'lang': u'it', u'created_at': u'Tue Oct 25 15:59:56 +0000 2016', u'in_reply_to_status_id_str': u'790890355856183296', u'place': None}, coordinates=None, entities={u'symbols': [], u'user_mentions': [{u'id': 703571717126549505, u'indices': [0, 15], u'id_str': u'703571717126549505', u'screen_name': u'simone_berga87', u'name': u'Simone'}], u'hashtags': [], u'urls': []}, in_reply_to_screen_name=u'simone_berga87', id_str=u'790946003662831616', retweet_count=0, in_reply_to_user_id=703571717126549505, favorited=False, source_url=u'http://twitter.com/download/iphone', geo=None, in_reply_to_user_id_str=u'703571717126549505', lang=u'it', created_at=datetime.datetime(2016, 10, 25, 15, 59, 56), in_reply_to_status_id_str=u'790890355856183296', place=None, retweeted=False), lang=u'it', utc_offset=None, statuses_count=3, profile_background_color=u'F5F8FA', friends_count=8, profile_link_color=u'1DA1F2', profile_image_url=u'http://pbs.twimg.com/profile_images/771998260772962304/VQKxBr0-_normal.jpg', notifications=False, default_profile=True, profile_background_image_url_https=None, profile_banner_url=u'https://pbs.twimg.com/profile_banners/771995723722358784/1472893962', blocking=False, profile_background_image_url=None, name=u'Giampi', is_translation_enabled=False, profile_background_tile=False, favourites_count=11, screen_name=u'giampi1954', url=None, created_at=datetime.datetime(2016, 9, 3, 8, 58, 18), contributors_enabled=False, location=u'Bergamo, Lombardia', profile_sidebar_border_color=u'C0DEED', translator_type=u'none', following=False),\n",
       " User(follow_request_sent=False, has_extended_profile=False, profile_use_background_image=True, profile_sidebar_fill_color=u'DDEEF6', live_following=False, time_zone=None, id=2413279612, description=u'', _api=<tweepy.api.API object at 0x7fe28ab1c950>, verified=False, blocked_by=False, profile_text_color=u'333333', muting=False, profile_image_url_https=u'https://pbs.twimg.com/profile_images/659291123186319360/YM5tAWAq_normal.jpg', _json={u'follow_request_sent': False, u'has_extended_profile': False, u'profile_use_background_image': True, u'live_following': False, u'default_profile_image': False, u'id': 2413279612, u'profile_background_image_url_https': u'https://abs.twimg.com/images/themes/theme1/bg.png', u'translator_type': u'none', u'verified': False, u'blocked_by': False, u'profile_text_color': u'333333', u'muting': False, u'profile_image_url_https': u'https://pbs.twimg.com/profile_images/659291123186319360/YM5tAWAq_normal.jpg', u'profile_sidebar_fill_color': u'DDEEF6', u'entities': {u'description': {u'urls': []}}, u'followers_count': 26, u'profile_sidebar_border_color': u'C0DEED', u'id_str': u'2413279612', u'profile_background_color': u'C0DEED', u'listed_count': 0, u'is_translation_enabled': False, u'utc_offset': None, u'statuses_count': 0, u'description': u'', u'friends_count': 229, u'location': u'', u'profile_link_color': u'1DA1F2', u'profile_image_url': u'http://pbs.twimg.com/profile_images/659291123186319360/YM5tAWAq_normal.jpg', u'following': False, u'geo_enabled': True, u'blocking': False, u'profile_background_image_url': u'http://abs.twimg.com/images/themes/theme1/bg.png', u'screen_name': u'MarcoDitta', u'lang': u'it', u'profile_background_tile': False, u'favourites_count': 0, u'name': u'Marco Ditta', u'notifications': False, u'url': None, u'created_at': u'Sat Mar 15 17:59:44 +0000 2014', u'contributors_enabled': False, u'time_zone': None, u'protected': False, u'default_profile': True, u'is_translator': False}, is_translator=False, geo_enabled=True, entities={u'description': {u'urls': []}}, followers_count=26, protected=False, id_str=u'2413279612', default_profile_image=False, listed_count=0, lang=u'it', utc_offset=None, statuses_count=0, profile_background_color=u'C0DEED', friends_count=229, profile_link_color=u'1DA1F2', profile_image_url=u'http://pbs.twimg.com/profile_images/659291123186319360/YM5tAWAq_normal.jpg', notifications=False, default_profile=True, profile_background_image_url_https=u'https://abs.twimg.com/images/themes/theme1/bg.png', blocking=False, profile_background_image_url=u'http://abs.twimg.com/images/themes/theme1/bg.png', name=u'Marco Ditta', is_translation_enabled=False, profile_background_tile=False, favourites_count=0, screen_name=u'MarcoDitta', url=None, created_at=datetime.datetime(2014, 3, 15, 17, 59, 44), contributors_enabled=False, location=u'', profile_sidebar_border_color=u'C0DEED', translator_type=u'none', following=False),\n",
       " User(follow_request_sent=False, has_extended_profile=False, profile_use_background_image=True, profile_sidebar_fill_color=u'DDEEF6', live_following=False, time_zone=u'Pacific Time (US & Canada)', id=768926056279576576, description=u'', _api=<tweepy.api.API object at 0x7fe28ab1c950>, verified=False, blocked_by=False, profile_text_color=u'333333', muting=False, profile_image_url_https=u'https://pbs.twimg.com/profile_images/769269153404428288/nOvKV31f_normal.jpg', _json={u'follow_request_sent': False, u'has_extended_profile': False, u'profile_use_background_image': True, u'live_following': False, u'default_profile_image': False, u'id': 768926056279576576, u'profile_background_image_url_https': None, u'translator_type': u'none', u'verified': False, u'blocked_by': False, u'profile_text_color': u'333333', u'muting': False, u'profile_image_url_https': u'https://pbs.twimg.com/profile_images/769269153404428288/nOvKV31f_normal.jpg', u'profile_sidebar_fill_color': u'DDEEF6', u'entities': {u'url': {u'urls': [{u'url': u'https://t.co/CMvxECkX2Z', u'indices': [0, 23], u'expanded_url': u'http://www.rumsey.tv', u'display_url': u'rumsey.tv'}]}, u'description': {u'urls': []}}, u'followers_count': 12, u'profile_sidebar_border_color': u'C0DEED', u'id_str': u'768926056279576576', u'profile_background_color': u'F5F8FA', u'listed_count': 0, u'status': {u'contributors': None, u'truncated': False, u'text': u'@IainBrotchie Dear Iain, https://t.co/BgjatBGF3z will have a camera at the Total sponsored AFCON in Gabon. Have you thought of having a VNR?', u'is_quote_status': False, u'in_reply_to_status_id': None, u'id': 799539032611061760, u'favorite_count': 0, u'source': u'<a href=\"http://twitter.com\" rel=\"nofollow\">Twitter Web Client</a>', u'retweeted': False, u'coordinates': None, u'entities': {u'symbols': [], u'user_mentions': [{u'id': 24908604, u'indices': [0, 13], u'id_str': u'24908604', u'screen_name': u'IainBrotchie', u'name': u'Iain Brotchie'}], u'hashtags': [], u'urls': [{u'url': u'https://t.co/BgjatBGF3z', u'indices': [25, 48], u'expanded_url': u'http://Rumsey.tv', u'display_url': u'Rumsey.tv'}]}, u'in_reply_to_screen_name': u'IainBrotchie', u'in_reply_to_user_id': 24908604, u'retweet_count': 0, u'id_str': u'799539032611061760', u'favorited': False, u'geo': None, u'in_reply_to_user_id_str': u'24908604', u'possibly_sensitive': False, u'lang': u'en', u'created_at': u'Fri Nov 18 09:05:34 +0000 2016', u'in_reply_to_status_id_str': None, u'place': None}, u'is_translation_enabled': False, u'utc_offset': -28800, u'statuses_count': 13, u'description': u'', u'friends_count': 72, u'location': u'', u'profile_link_color': u'1DA1F2', u'profile_image_url': u'http://pbs.twimg.com/profile_images/769269153404428288/nOvKV31f_normal.jpg', u'following': False, u'geo_enabled': False, u'profile_banner_url': u'https://pbs.twimg.com/profile_banners/768926056279576576/1472162321', u'blocking': False, u'profile_background_image_url': None, u'screen_name': u'RumseyTV', u'lang': u'en', u'profile_background_tile': False, u'favourites_count': 2, u'name': u'Video News Release', u'notifications': False, u'url': u'https://t.co/CMvxECkX2Z', u'created_at': u'Thu Aug 25 21:40:32 +0000 2016', u'contributors_enabled': False, u'time_zone': u'Pacific Time (US & Canada)', u'protected': False, u'default_profile': True, u'is_translator': False}, is_translator=False, geo_enabled=False, entities={u'url': {u'urls': [{u'url': u'https://t.co/CMvxECkX2Z', u'indices': [0, 23], u'expanded_url': u'http://www.rumsey.tv', u'display_url': u'rumsey.tv'}]}, u'description': {u'urls': []}}, followers_count=12, protected=False, id_str=u'768926056279576576', default_profile_image=False, listed_count=0, status=Status(contributors=None, truncated=False, text=u'@IainBrotchie Dear Iain, https://t.co/BgjatBGF3z will have a camera at the Total sponsored AFCON in Gabon. Have you thought of having a VNR?', is_quote_status=False, in_reply_to_status_id=None, id=799539032611061760, favorite_count=0, _api=<tweepy.api.API object at 0x7fe28ab1c950>, source=u'Twitter Web Client', _json={u'contributors': None, u'truncated': False, u'text': u'@IainBrotchie Dear Iain, https://t.co/BgjatBGF3z will have a camera at the Total sponsored AFCON in Gabon. Have you thought of having a VNR?', u'is_quote_status': False, u'in_reply_to_status_id': None, u'id': 799539032611061760, u'favorite_count': 0, u'source': u'<a href=\"http://twitter.com\" rel=\"nofollow\">Twitter Web Client</a>', u'retweeted': False, u'coordinates': None, u'entities': {u'symbols': [], u'user_mentions': [{u'id': 24908604, u'indices': [0, 13], u'id_str': u'24908604', u'screen_name': u'IainBrotchie', u'name': u'Iain Brotchie'}], u'hashtags': [], u'urls': [{u'url': u'https://t.co/BgjatBGF3z', u'indices': [25, 48], u'expanded_url': u'http://Rumsey.tv', u'display_url': u'Rumsey.tv'}]}, u'in_reply_to_screen_name': u'IainBrotchie', u'in_reply_to_user_id': 24908604, u'retweet_count': 0, u'id_str': u'799539032611061760', u'favorited': False, u'geo': None, u'in_reply_to_user_id_str': u'24908604', u'possibly_sensitive': False, u'lang': u'en', u'created_at': u'Fri Nov 18 09:05:34 +0000 2016', u'in_reply_to_status_id_str': None, u'place': None}, coordinates=None, entities={u'symbols': [], u'user_mentions': [{u'id': 24908604, u'indices': [0, 13], u'id_str': u'24908604', u'screen_name': u'IainBrotchie', u'name': u'Iain Brotchie'}], u'hashtags': [], u'urls': [{u'url': u'https://t.co/BgjatBGF3z', u'indices': [25, 48], u'expanded_url': u'http://Rumsey.tv', u'display_url': u'Rumsey.tv'}]}, in_reply_to_screen_name=u'IainBrotchie', id_str=u'799539032611061760', retweet_count=0, in_reply_to_user_id=24908604, favorited=False, source_url=u'http://twitter.com', geo=None, in_reply_to_user_id_str=u'24908604', possibly_sensitive=False, lang=u'en', created_at=datetime.datetime(2016, 11, 18, 9, 5, 34), in_reply_to_status_id_str=None, place=None, retweeted=False), lang=u'en', utc_offset=-28800, statuses_count=13, profile_background_color=u'F5F8FA', friends_count=72, profile_link_color=u'1DA1F2', profile_image_url=u'http://pbs.twimg.com/profile_images/769269153404428288/nOvKV31f_normal.jpg', notifications=False, default_profile=True, profile_background_image_url_https=None, profile_banner_url=u'https://pbs.twimg.com/profile_banners/768926056279576576/1472162321', blocking=False, profile_background_image_url=None, name=u'Video News Release', is_translation_enabled=False, profile_background_tile=False, favourites_count=2, screen_name=u'RumseyTV', url=u'https://t.co/CMvxECkX2Z', created_at=datetime.datetime(2016, 8, 25, 21, 40, 32), contributors_enabled=False, location=u'', profile_sidebar_border_color=u'C0DEED', translator_type=u'none', following=False),\n",
       " User(follow_request_sent=False, has_extended_profile=True, profile_use_background_image=False, profile_sidebar_fill_color=u'000000', live_following=False, time_zone=None, id=1243858045, description=u\"Master's Degree in Organization and marketing for business communication. \\nDove ho vissuto? Bologna-Roma-Madrid-Londra-Bari\", _api=<tweepy.api.API object at 0x7fe28ab1c950>, verified=False, blocked_by=False, profile_text_color=u'000000', muting=False, profile_image_url_https=u'https://pbs.twimg.com/profile_images/795319915922292736/eYyUI_5E_normal.jpg', _json={u'follow_request_sent': False, u'has_extended_profile': True, u'profile_use_background_image': False, u'live_following': False, u'default_profile_image': False, u'id': 1243858045, u'profile_background_image_url_https': u'https://abs.twimg.com/images/themes/theme1/bg.png', u'translator_type': u'none', u'verified': False, u'blocked_by': False, u'profile_text_color': u'000000', u'muting': False, u'profile_image_url_https': u'https://pbs.twimg.com/profile_images/795319915922292736/eYyUI_5E_normal.jpg', u'profile_sidebar_fill_color': u'000000', u'entities': {u'description': {u'urls': []}}, u'followers_count': 160, u'profile_sidebar_border_color': u'000000', u'id_str': u'1243858045', u'profile_background_color': u'000000', u'listed_count': 2, u'status': {u'contributors': None, u'truncated': False, u'text': u'@FRE5C0 macchina incendiata!! Di solito \\xe8 abbastanza libero!! \\U0001f609', u'is_quote_status': False, u'in_reply_to_status_id': 795961941684551680, u'id': 796069937211183105, u'favorite_count': 0, u'source': u'<a href=\"http://twitter.com/download/iphone\" rel=\"nofollow\">Twitter for iPhone</a>', u'retweeted': False, u'coordinates': None, u'entities': {u'symbols': [], u'user_mentions': [{u'id': 255499265, u'indices': [0, 7], u'id_str': u'255499265', u'screen_name': u'FRE5C0', u'name': u'Marco Dicillo'}], u'hashtags': [], u'urls': []}, u'in_reply_to_screen_name': u'FRE5C0', u'in_reply_to_user_id': 255499265, u'retweet_count': 0, u'id_str': u'796069937211183105', u'favorited': False, u'geo': None, u'in_reply_to_user_id_str': u'255499265', u'lang': u'it', u'created_at': u'Tue Nov 08 19:20:37 +0000 2016', u'in_reply_to_status_id_str': u'795961941684551680', u'place': None}, u'is_translation_enabled': False, u'utc_offset': None, u'statuses_count': 82, u'description': u\"Master's Degree in Organization and marketing for business communication. \\nDove ho vissuto? Bologna-Roma-Madrid-Londra-Bari\", u'friends_count': 657, u'location': u'Bari, Puglia', u'profile_link_color': u'FF691F', u'profile_image_url': u'http://pbs.twimg.com/profile_images/795319915922292736/eYyUI_5E_normal.jpg', u'following': False, u'geo_enabled': False, u'profile_banner_url': u'https://pbs.twimg.com/profile_banners/1243858045/1460210336', u'blocking': False, u'profile_background_image_url': u'http://abs.twimg.com/images/themes/theme1/bg.png', u'screen_name': u'micolcasone', u'lang': u'it', u'profile_background_tile': False, u'favourites_count': 115, u'name': u'micol casone', u'notifications': False, u'url': None, u'created_at': u'Tue Mar 05 14:19:51 +0000 2013', u'contributors_enabled': False, u'time_zone': None, u'protected': False, u'default_profile': False, u'is_translator': False}, is_translator=False, geo_enabled=False, entities={u'description': {u'urls': []}}, followers_count=160, protected=False, id_str=u'1243858045', default_profile_image=False, listed_count=2, status=Status(contributors=None, truncated=False, text=u'@FRE5C0 macchina incendiata!! Di solito \\xe8 abbastanza libero!! \\U0001f609', is_quote_status=False, in_reply_to_status_id=795961941684551680, id=796069937211183105, favorite_count=0, _api=<tweepy.api.API object at 0x7fe28ab1c950>, source=u'Twitter for iPhone', _json={u'contributors': None, u'truncated': False, u'text': u'@FRE5C0 macchina incendiata!! Di solito \\xe8 abbastanza libero!! \\U0001f609', u'is_quote_status': False, u'in_reply_to_status_id': 795961941684551680, u'id': 796069937211183105, u'favorite_count': 0, u'source': u'<a href=\"http://twitter.com/download/iphone\" rel=\"nofollow\">Twitter for iPhone</a>', u'retweeted': False, u'coordinates': None, u'entities': {u'symbols': [], u'user_mentions': [{u'id': 255499265, u'indices': [0, 7], u'id_str': u'255499265', u'screen_name': u'FRE5C0', u'name': u'Marco Dicillo'}], u'hashtags': [], u'urls': []}, u'in_reply_to_screen_name': u'FRE5C0', u'in_reply_to_user_id': 255499265, u'retweet_count': 0, u'id_str': u'796069937211183105', u'favorited': False, u'geo': None, u'in_reply_to_user_id_str': u'255499265', u'lang': u'it', u'created_at': u'Tue Nov 08 19:20:37 +0000 2016', u'in_reply_to_status_id_str': u'795961941684551680', u'place': None}, coordinates=None, entities={u'symbols': [], u'user_mentions': [{u'id': 255499265, u'indices': [0, 7], u'id_str': u'255499265', u'screen_name': u'FRE5C0', u'name': u'Marco Dicillo'}], u'hashtags': [], u'urls': []}, in_reply_to_screen_name=u'FRE5C0', id_str=u'796069937211183105', retweet_count=0, in_reply_to_user_id=255499265, favorited=False, source_url=u'http://twitter.com/download/iphone', geo=None, in_reply_to_user_id_str=u'255499265', lang=u'it', created_at=datetime.datetime(2016, 11, 8, 19, 20, 37), in_reply_to_status_id_str=u'795961941684551680', place=None, retweeted=False), lang=u'it', utc_offset=None, statuses_count=82, profile_background_color=u'000000', friends_count=657, profile_link_color=u'FF691F', profile_image_url=u'http://pbs.twimg.com/profile_images/795319915922292736/eYyUI_5E_normal.jpg', notifications=False, default_profile=False, profile_background_image_url_https=u'https://abs.twimg.com/images/themes/theme1/bg.png', profile_banner_url=u'https://pbs.twimg.com/profile_banners/1243858045/1460210336', blocking=False, profile_background_image_url=u'http://abs.twimg.com/images/themes/theme1/bg.png', name=u'micol casone', is_translation_enabled=False, profile_background_tile=False, favourites_count=115, screen_name=u'micolcasone', url=None, created_at=datetime.datetime(2013, 3, 5, 14, 19, 51), contributors_enabled=False, location=u'Bari, Puglia', profile_sidebar_border_color=u'000000', translator_type=u'none', following=False),\n",
       " User(follow_request_sent=False, has_extended_profile=True, profile_use_background_image=True, profile_sidebar_fill_color=u'DDEEF6', live_following=False, time_zone=None, id=800394366070046721, description=u'Football', _api=<tweepy.api.API object at 0x7fe28ab1c950>, verified=False, blocked_by=False, profile_text_color=u'333333', muting=False, profile_image_url_https=u'https://pbs.twimg.com/profile_images/800398906030952448/t4MREost_normal.jpg', _json={u'follow_request_sent': False, u'has_extended_profile': True, u'profile_use_background_image': True, u'live_following': False, u'default_profile_image': False, u'id': 800394366070046721, u'profile_background_image_url_https': None, u'translator_type': u'none', u'verified': False, u'blocked_by': False, u'profile_text_color': u'333333', u'muting': False, u'profile_image_url_https': u'https://pbs.twimg.com/profile_images/800398906030952448/t4MREost_normal.jpg', u'profile_sidebar_fill_color': u'DDEEF6', u'entities': {u'description': {u'urls': []}}, u'followers_count': 23, u'profile_sidebar_border_color': u'C0DEED', u'id_str': u'800394366070046721', u'profile_background_color': u'F5F8FA', u'listed_count': 0, u'status': {u'contributors': None, u'truncated': False, u'text': u\"It's ME https://t.co/nvTgRdzNkk\", u'is_quote_status': False, u'in_reply_to_status_id': None, u'id': 801525827406090240, u'favorite_count': 4, u'source': u'<a href=\"http://twitter.com/download/android\" rel=\"nofollow\">Twitter for Android</a>', u'retweeted': False, u'coordinates': None, u'entities': {u'symbols': [], u'user_mentions': [], u'hashtags': [], u'urls': [], u'media': [{u'expanded_url': u'https://twitter.com/waliid_khaled/status/801525827406090240/photo/1', u'display_url': u'pic.twitter.com/nvTgRdzNkk', u'url': u'https://t.co/nvTgRdzNkk', u'media_url_https': u'https://pbs.twimg.com/media/Cx-XcQxXEAE2vJB.jpg', u'id_str': u'801525770489368577', u'sizes': {u'large': {u'h': 1164, u'resize': u'fit', u'w': 654}, u'small': {u'h': 680, u'resize': u'fit', u'w': 382}, u'medium': {u'h': 1164, u'resize': u'fit', u'w': 654}, u'thumb': {u'h': 150, u'resize': u'crop', u'w': 150}}, u'indices': [8, 31], u'type': u'photo', u'id': 801525770489368577, u'media_url': u'http://pbs.twimg.com/media/Cx-XcQxXEAE2vJB.jpg'}]}, u'in_reply_to_screen_name': None, u'in_reply_to_user_id': None, u'retweet_count': 0, u'id_str': u'801525827406090240', u'favorited': False, u'geo': None, u'in_reply_to_user_id_str': None, u'possibly_sensitive': False, u'lang': u'en', u'created_at': u'Wed Nov 23 20:40:23 +0000 2016', u'in_reply_to_status_id_str': None, u'place': None, u'extended_entities': {u'media': [{u'expanded_url': u'https://twitter.com/waliid_khaled/status/801525827406090240/photo/1', u'display_url': u'pic.twitter.com/nvTgRdzNkk', u'url': u'https://t.co/nvTgRdzNkk', u'media_url_https': u'https://pbs.twimg.com/media/Cx-XcQxXEAE2vJB.jpg', u'id_str': u'801525770489368577', u'sizes': {u'large': {u'h': 1164, u'resize': u'fit', u'w': 654}, u'small': {u'h': 680, u'resize': u'fit', u'w': 382}, u'medium': {u'h': 1164, u'resize': u'fit', u'w': 654}, u'thumb': {u'h': 150, u'resize': u'crop', u'w': 150}}, u'indices': [8, 31], u'type': u'photo', u'id': 801525770489368577, u'media_url': u'http://pbs.twimg.com/media/Cx-XcQxXEAE2vJB.jpg'}]}}, u'is_translation_enabled': False, u'utc_offset': None, u'statuses_count': 9, u'description': u'Football', u'friends_count': 289, u'location': u'Milan, Lombardy', u'profile_link_color': u'1DA1F2', u'profile_image_url': u'http://pbs.twimg.com/profile_images/800398906030952448/t4MREost_normal.jpg', u'following': False, u'geo_enabled': False, u'profile_banner_url': u'https://pbs.twimg.com/profile_banners/800394366070046721/1479664943', u'blocking': False, u'profile_background_image_url': None, u'screen_name': u'waliid_khaled', u'lang': u'en', u'profile_background_tile': False, u'favourites_count': 77, u'name': u'Khaled Waliid', u'notifications': False, u'url': None, u'created_at': u'Sun Nov 20 17:44:22 +0000 2016', u'contributors_enabled': False, u'time_zone': None, u'protected': False, u'default_profile': True, u'is_translator': False}, is_translator=False, geo_enabled=False, entities={u'description': {u'urls': []}}, followers_count=23, protected=False, id_str=u'800394366070046721', default_profile_image=False, listed_count=0, status=Status(contributors=None, truncated=False, text=u\"It's ME https://t.co/nvTgRdzNkk\", is_quote_status=False, in_reply_to_status_id=None, id=801525827406090240, favorite_count=4, _api=<tweepy.api.API object at 0x7fe28ab1c950>, source=u'Twitter for Android', _json={u'contributors': None, u'truncated': False, u'text': u\"It's ME https://t.co/nvTgRdzNkk\", u'is_quote_status': False, u'in_reply_to_status_id': None, u'id': 801525827406090240, u'favorite_count': 4, u'source': u'<a href=\"http://twitter.com/download/android\" rel=\"nofollow\">Twitter for Android</a>', u'retweeted': False, u'coordinates': None, u'entities': {u'symbols': [], u'user_mentions': [], u'hashtags': [], u'urls': [], u'media': [{u'expanded_url': u'https://twitter.com/waliid_khaled/status/801525827406090240/photo/1', u'display_url': u'pic.twitter.com/nvTgRdzNkk', u'url': u'https://t.co/nvTgRdzNkk', u'media_url_https': u'https://pbs.twimg.com/media/Cx-XcQxXEAE2vJB.jpg', u'id_str': u'801525770489368577', u'sizes': {u'large': {u'h': 1164, u'resize': u'fit', u'w': 654}, u'small': {u'h': 680, u'resize': u'fit', u'w': 382}, u'medium': {u'h': 1164, u'resize': u'fit', u'w': 654}, u'thumb': {u'h': 150, u'resize': u'crop', u'w': 150}}, u'indices': [8, 31], u'type': u'photo', u'id': 801525770489368577, u'media_url': u'http://pbs.twimg.com/media/Cx-XcQxXEAE2vJB.jpg'}]}, u'in_reply_to_screen_name': None, u'in_reply_to_user_id': None, u'retweet_count': 0, u'id_str': u'801525827406090240', u'favorited': False, u'geo': None, u'in_reply_to_user_id_str': None, u'possibly_sensitive': False, u'lang': u'en', u'created_at': u'Wed Nov 23 20:40:23 +0000 2016', u'in_reply_to_status_id_str': None, u'place': None, u'extended_entities': {u'media': [{u'expanded_url': u'https://twitter.com/waliid_khaled/status/801525827406090240/photo/1', u'display_url': u'pic.twitter.com/nvTgRdzNkk', u'url': u'https://t.co/nvTgRdzNkk', u'media_url_https': u'https://pbs.twimg.com/media/Cx-XcQxXEAE2vJB.jpg', u'id_str': u'801525770489368577', u'sizes': {u'large': {u'h': 1164, u'resize': u'fit', u'w': 654}, u'small': {u'h': 680, u'resize': u'fit', u'w': 382}, u'medium': {u'h': 1164, u'resize': u'fit', u'w': 654}, u'thumb': {u'h': 150, u'resize': u'crop', u'w': 150}}, u'indices': [8, 31], u'type': u'photo', u'id': 801525770489368577, u'media_url': u'http://pbs.twimg.com/media/Cx-XcQxXEAE2vJB.jpg'}]}}, coordinates=None, entities={u'symbols': [], u'user_mentions': [], u'hashtags': [], u'urls': [], u'media': [{u'expanded_url': u'https://twitter.com/waliid_khaled/status/801525827406090240/photo/1', u'display_url': u'pic.twitter.com/nvTgRdzNkk', u'url': u'https://t.co/nvTgRdzNkk', u'media_url_https': u'https://pbs.twimg.com/media/Cx-XcQxXEAE2vJB.jpg', u'id_str': u'801525770489368577', u'sizes': {u'large': {u'h': 1164, u'resize': u'fit', u'w': 654}, u'small': {u'h': 680, u'resize': u'fit', u'w': 382}, u'medium': {u'h': 1164, u'resize': u'fit', u'w': 654}, u'thumb': {u'h': 150, u'resize': u'crop', u'w': 150}}, u'indices': [8, 31], u'type': u'photo', u'id': 801525770489368577, u'media_url': u'http://pbs.twimg.com/media/Cx-XcQxXEAE2vJB.jpg'}]}, in_reply_to_screen_name=None, id_str=u'801525827406090240', retweet_count=0, in_reply_to_user_id=None, favorited=False, source_url=u'http://twitter.com/download/android', geo=None, in_reply_to_user_id_str=None, possibly_sensitive=False, lang=u'en', created_at=datetime.datetime(2016, 11, 23, 20, 40, 23), in_reply_to_status_id_str=None, place=None, extended_entities={u'media': [{u'expanded_url': u'https://twitter.com/waliid_khaled/status/801525827406090240/photo/1', u'display_url': u'pic.twitter.com/nvTgRdzNkk', u'url': u'https://t.co/nvTgRdzNkk', u'media_url_https': u'https://pbs.twimg.com/media/Cx-XcQxXEAE2vJB.jpg', u'id_str': u'801525770489368577', u'sizes': {u'large': {u'h': 1164, u'resize': u'fit', u'w': 654}, u'small': {u'h': 680, u'resize': u'fit', u'w': 382}, u'medium': {u'h': 1164, u'resize': u'fit', u'w': 654}, u'thumb': {u'h': 150, u'resize': u'crop', u'w': 150}}, u'indices': [8, 31], u'type': u'photo', u'id': 801525770489368577, u'media_url': u'http://pbs.twimg.com/media/Cx-XcQxXEAE2vJB.jpg'}]}, retweeted=False), lang=u'en', utc_offset=None, statuses_count=9, profile_background_color=u'F5F8FA', friends_count=289, profile_link_color=u'1DA1F2', profile_image_url=u'http://pbs.twimg.com/profile_images/800398906030952448/t4MREost_normal.jpg', notifications=False, default_profile=True, profile_background_image_url_https=None, profile_banner_url=u'https://pbs.twimg.com/profile_banners/800394366070046721/1479664943', blocking=False, profile_background_image_url=None, name=u'Khaled Waliid', is_translation_enabled=False, profile_background_tile=False, favourites_count=77, screen_name=u'waliid_khaled', url=None, created_at=datetime.datetime(2016, 11, 20, 17, 44, 22), contributors_enabled=False, location=u'Milan, Lombardy', profile_sidebar_border_color=u'C0DEED', translator_type=u'none', following=False),\n",
       " User(follow_request_sent=False, has_extended_profile=False, profile_use_background_image=True, profile_sidebar_fill_color=u'DDEEF6', live_following=False, time_zone=None, id=2924820946, description=u'', _api=<tweepy.api.API object at 0x7fe28ab1c950>, verified=False, blocked_by=False, profile_text_color=u'333333', muting=False, profile_image_url_https=u'https://pbs.twimg.com/profile_images/544817561188044801/I786YzQG_normal.jpeg', _json={u'follow_request_sent': False, u'has_extended_profile': False, u'profile_use_background_image': True, u'live_following': False, u'default_profile_image': False, u'id': 2924820946, u'profile_background_image_url_https': u'https://abs.twimg.com/images/themes/theme1/bg.png', u'translator_type': u'none', u'verified': False, u'blocked_by': False, u'profile_text_color': u'333333', u'muting': False, u'profile_image_url_https': u'https://pbs.twimg.com/profile_images/544817561188044801/I786YzQG_normal.jpeg', u'profile_sidebar_fill_color': u'DDEEF6', u'entities': {u'description': {u'urls': []}}, u'followers_count': 718, u'profile_sidebar_border_color': u'C0DEED', u'id_str': u'2924820946', u'profile_background_color': u'C0DEED', u'listed_count': 5, u'status': {u'contributors': None, u'truncated': False, u'text': u'IL NATALE DEI BAMBINI - 1 ORA  CANZONI DI NATALE PER BAMBINI https://t.co/aFHssq5dWO', u'is_quote_status': False, u'in_reply_to_status_id': None, u'id': 802781776783544320, u'favorite_count': 0, u'source': u'<a href=\"http://twitter.com/download/iphone\" rel=\"nofollow\">Twitter for iPhone</a>', u'retweeted': False, u'coordinates': None, u'entities': {u'symbols': [], u'user_mentions': [], u'hashtags': [], u'urls': [{u'url': u'https://t.co/aFHssq5dWO', u'indices': [61, 84], u'expanded_url': u'https://www.youtube.com/watch?v=opiWzBBNpGE&feature=share', u'display_url': u'youtube.com/watch?v=opiWzB\\u2026'}]}, u'in_reply_to_screen_name': None, u'in_reply_to_user_id': None, u'retweet_count': 0, u'id_str': u'802781776783544320', u'favorited': False, u'geo': None, u'in_reply_to_user_id_str': None, u'possibly_sensitive': False, u'lang': u'it', u'created_at': u'Sun Nov 27 07:51:05 +0000 2016', u'in_reply_to_status_id_str': None, u'place': None}, u'is_translation_enabled': False, u'utc_offset': None, u'statuses_count': 7799, u'description': u'', u'friends_count': 3709, u'location': u'', u'profile_link_color': u'1DA1F2', u'profile_image_url': u'http://pbs.twimg.com/profile_images/544817561188044801/I786YzQG_normal.jpeg', u'following': False, u'geo_enabled': False, u'blocking': False, u'profile_background_image_url': u'http://abs.twimg.com/images/themes/theme1/bg.png', u'screen_name': u'buenasuertesas', u'lang': u'it', u'profile_background_tile': False, u'favourites_count': 569, u'name': u'buenasuerterecord', u'notifications': False, u'url': None, u'created_at': u'Tue Dec 16 11:32:00 +0000 2014', u'contributors_enabled': False, u'time_zone': None, u'protected': False, u'default_profile': True, u'is_translator': False}, is_translator=False, geo_enabled=False, entities={u'description': {u'urls': []}}, followers_count=718, protected=False, id_str=u'2924820946', default_profile_image=False, listed_count=5, status=Status(contributors=None, truncated=False, text=u'IL NATALE DEI BAMBINI - 1 ORA  CANZONI DI NATALE PER BAMBINI https://t.co/aFHssq5dWO', is_quote_status=False, in_reply_to_status_id=None, id=802781776783544320, favorite_count=0, _api=<tweepy.api.API object at 0x7fe28ab1c950>, source=u'Twitter for iPhone', _json={u'contributors': None, u'truncated': False, u'text': u'IL NATALE DEI BAMBINI - 1 ORA  CANZONI DI NATALE PER BAMBINI https://t.co/aFHssq5dWO', u'is_quote_status': False, u'in_reply_to_status_id': None, u'id': 802781776783544320, u'favorite_count': 0, u'source': u'<a href=\"http://twitter.com/download/iphone\" rel=\"nofollow\">Twitter for iPhone</a>', u'retweeted': False, u'coordinates': None, u'entities': {u'symbols': [], u'user_mentions': [], u'hashtags': [], u'urls': [{u'url': u'https://t.co/aFHssq5dWO', u'indices': [61, 84], u'expanded_url': u'https://www.youtube.com/watch?v=opiWzBBNpGE&feature=share', u'display_url': u'youtube.com/watch?v=opiWzB\\u2026'}]}, u'in_reply_to_screen_name': None, u'in_reply_to_user_id': None, u'retweet_count': 0, u'id_str': u'802781776783544320', u'favorited': False, u'geo': None, u'in_reply_to_user_id_str': None, u'possibly_sensitive': False, u'lang': u'it', u'created_at': u'Sun Nov 27 07:51:05 +0000 2016', u'in_reply_to_status_id_str': None, u'place': None}, coordinates=None, entities={u'symbols': [], u'user_mentions': [], u'hashtags': [], u'urls': [{u'url': u'https://t.co/aFHssq5dWO', u'indices': [61, 84], u'expanded_url': u'https://www.youtube.com/watch?v=opiWzBBNpGE&feature=share', u'display_url': u'youtube.com/watch?v=opiWzB\\u2026'}]}, in_reply_to_screen_name=None, id_str=u'802781776783544320', retweet_count=0, in_reply_to_user_id=None, favorited=False, source_url=u'http://twitter.com/download/iphone', geo=None, in_reply_to_user_id_str=None, possibly_sensitive=False, lang=u'it', created_at=datetime.datetime(2016, 11, 27, 7, 51, 5), in_reply_to_status_id_str=None, place=None, retweeted=False), lang=u'it', utc_offset=None, statuses_count=7799, profile_background_color=u'C0DEED', friends_count=3709, profile_link_color=u'1DA1F2', profile_image_url=u'http://pbs.twimg.com/profile_images/544817561188044801/I786YzQG_normal.jpeg', notifications=False, default_profile=True, profile_background_image_url_https=u'https://abs.twimg.com/images/themes/theme1/bg.png', blocking=False, profile_background_image_url=u'http://abs.twimg.com/images/themes/theme1/bg.png', name=u'buenasuerterecord', is_translation_enabled=False, profile_background_tile=False, favourites_count=569, screen_name=u'buenasuertesas', url=None, created_at=datetime.datetime(2014, 12, 16, 11, 32), contributors_enabled=False, location=u'', profile_sidebar_border_color=u'C0DEED', translator_type=u'none', following=False),\n",
       " User(follow_request_sent=False, has_extended_profile=True, profile_use_background_image=True, profile_sidebar_fill_color=u'DDEEF6', live_following=False, time_zone=None, id=787282102781931520, description=u\"Laureata in Scienze Politiche a Padova e studentessa di Organizzazione e marketing per la comunicazione d'impresa a Roma\", _api=<tweepy.api.API object at 0x7fe28ab1c950>, verified=False, blocked_by=False, profile_text_color=u'333333', muting=False, profile_image_url_https=u'https://pbs.twimg.com/profile_images/787614541421154304/W80diPi4_normal.jpg', _json={u'follow_request_sent': False, u'has_extended_profile': True, u'profile_use_background_image': True, u'live_following': False, u'default_profile_image': False, u'id': 787282102781931520, u'profile_background_image_url_https': None, u'translator_type': u'none', u'verified': False, u'blocked_by': False, u'profile_text_color': u'333333', u'muting': False, u'profile_image_url_https': u'https://pbs.twimg.com/profile_images/787614541421154304/W80diPi4_normal.jpg', u'profile_sidebar_fill_color': u'DDEEF6', u'entities': {u'description': {u'urls': []}}, u'followers_count': 24, u'profile_sidebar_border_color': u'C0DEED', u'id_str': u'787282102781931520', u'profile_background_color': u'F5F8FA', u'listed_count': 2, u'status': {u'contributors': None, u'truncated': False, u'text': u'#storytelling #premioAssorel #Lavazza https://t.co/2y8aO3GZT6', u'is_quote_status': True, u'in_reply_to_status_id': None, u'id': 802842325646999552, u'favorite_count': 0, u'source': u'<a href=\"http://twitter.com/download/android\" rel=\"nofollow\">Twitter for Android</a>', u'quoted_status_id': 801880483533615104, u'retweeted': False, u'coordinates': None, u'entities': {u'symbols': [], u'user_mentions': [], u'hashtags': [{u'indices': [0, 13], u'text': u'storytelling'}, {u'indices': [14, 28], u'text': u'premioAssorel'}, {u'indices': [29, 37], u'text': u'Lavazza'}], u'urls': [{u'url': u'https://t.co/2y8aO3GZT6', u'indices': [38, 61], u'expanded_url': u'https://twitter.com/Assorel/status/801880483533615104', u'display_url': u'twitter.com/Assorel/status\\u2026'}]}, u'in_reply_to_screen_name': None, u'in_reply_to_user_id': None, u'retweet_count': 0, u'id_str': u'802842325646999552', u'favorited': False, u'geo': None, u'in_reply_to_user_id_str': None, u'possibly_sensitive': False, u'lang': u'und', u'created_at': u'Sun Nov 27 11:51:41 +0000 2016', u'quoted_status_id_str': u'801880483533615104', u'in_reply_to_status_id_str': None, u'place': None}, u'is_translation_enabled': False, u'utc_offset': None, u'statuses_count': 33, u'description': u\"Laureata in Scienze Politiche a Padova e studentessa di Organizzazione e marketing per la comunicazione d'impresa a Roma\", u'friends_count': 121, u'location': u'Roma, Lazio', u'profile_link_color': u'1DA1F2', u'profile_image_url': u'http://pbs.twimg.com/profile_images/787614541421154304/W80diPi4_normal.jpg', u'following': False, u'geo_enabled': False, u'profile_banner_url': u'https://pbs.twimg.com/profile_banners/787282102781931520/1477419198', u'blocking': False, u'profile_background_image_url': None, u'screen_name': u'ludosirena', u'lang': u'it', u'profile_background_tile': False, u'favourites_count': 19, u'name': u'Ludovica Sirena', u'notifications': False, u'url': None, u'created_at': u'Sat Oct 15 13:20:55 +0000 2016', u'contributors_enabled': False, u'time_zone': None, u'protected': False, u'default_profile': True, u'is_translator': False}, is_translator=False, geo_enabled=False, entities={u'description': {u'urls': []}}, followers_count=24, protected=False, id_str=u'787282102781931520', default_profile_image=False, listed_count=2, status=Status(contributors=None, truncated=False, text=u'#storytelling #premioAssorel #Lavazza https://t.co/2y8aO3GZT6', is_quote_status=True, in_reply_to_status_id=None, id=802842325646999552, favorite_count=0, _api=<tweepy.api.API object at 0x7fe28ab1c950>, source=u'Twitter for Android', quoted_status_id=801880483533615104, _json={u'contributors': None, u'truncated': False, u'text': u'#storytelling #premioAssorel #Lavazza https://t.co/2y8aO3GZT6', u'is_quote_status': True, u'in_reply_to_status_id': None, u'id': 802842325646999552, u'favorite_count': 0, u'source': u'<a href=\"http://twitter.com/download/android\" rel=\"nofollow\">Twitter for Android</a>', u'quoted_status_id': 801880483533615104, u'retweeted': False, u'coordinates': None, u'entities': {u'symbols': [], u'user_mentions': [], u'hashtags': [{u'indices': [0, 13], u'text': u'storytelling'}, {u'indices': [14, 28], u'text': u'premioAssorel'}, {u'indices': [29, 37], u'text': u'Lavazza'}], u'urls': [{u'url': u'https://t.co/2y8aO3GZT6', u'indices': [38, 61], u'expanded_url': u'https://twitter.com/Assorel/status/801880483533615104', u'display_url': u'twitter.com/Assorel/status\\u2026'}]}, u'in_reply_to_screen_name': None, u'in_reply_to_user_id': None, u'retweet_count': 0, u'id_str': u'802842325646999552', u'favorited': False, u'geo': None, u'in_reply_to_user_id_str': None, u'possibly_sensitive': False, u'lang': u'und', u'created_at': u'Sun Nov 27 11:51:41 +0000 2016', u'quoted_status_id_str': u'801880483533615104', u'in_reply_to_status_id_str': None, u'place': None}, coordinates=None, entities={u'symbols': [], u'user_mentions': [], u'hashtags': [{u'indices': [0, 13], u'text': u'storytelling'}, {u'indices': [14, 28], u'text': u'premioAssorel'}, {u'indices': [29, 37], u'text': u'Lavazza'}], u'urls': [{u'url': u'https://t.co/2y8aO3GZT6', u'indices': [38, 61], u'expanded_url': u'https://twitter.com/Assorel/status/801880483533615104', u'display_url': u'twitter.com/Assorel/status\\u2026'}]}, in_reply_to_screen_name=None, id_str=u'802842325646999552', retweet_count=0, in_reply_to_user_id=None, favorited=False, source_url=u'http://twitter.com/download/android', geo=None, in_reply_to_user_id_str=None, possibly_sensitive=False, lang=u'und', created_at=datetime.datetime(2016, 11, 27, 11, 51, 41), quoted_status_id_str=u'801880483533615104', in_reply_to_status_id_str=None, place=None, retweeted=False), lang=u'it', utc_offset=None, statuses_count=33, profile_background_color=u'F5F8FA', friends_count=121, profile_link_color=u'1DA1F2', profile_image_url=u'http://pbs.twimg.com/profile_images/787614541421154304/W80diPi4_normal.jpg', notifications=False, default_profile=True, profile_background_image_url_https=None, profile_banner_url=u'https://pbs.twimg.com/profile_banners/787282102781931520/1477419198', blocking=False, profile_background_image_url=None, name=u'Ludovica Sirena', is_translation_enabled=False, profile_background_tile=False, favourites_count=19, screen_name=u'ludosirena', url=None, created_at=datetime.datetime(2016, 10, 15, 13, 20, 55), contributors_enabled=False, location=u'Roma, Lazio', profile_sidebar_border_color=u'C0DEED', translator_type=u'none', following=False),\n",
       " User(follow_request_sent=False, has_extended_profile=False, profile_use_background_image=False, profile_sidebar_fill_color=u'DDEEF6', live_following=False, time_zone=u'Rome', id=376122536, description=u'SW engineer on his road to perfection. Pythonista, U2er, lover of green. Just enough geek :)', _api=<tweepy.api.API object at 0x7fe28ab1c950>, verified=False, blocked_by=False, profile_text_color=u'333333', muting=False, profile_image_url_https=u'https://pbs.twimg.com/profile_images/441673097481965568/WDeK2pfU_normal.jpeg', _json={u'follow_request_sent': False, u'has_extended_profile': False, u'profile_use_background_image': False, u'live_following': False, u'default_profile_image': False, u'id': 376122536, u'profile_background_image_url_https': u'https://pbs.twimg.com/profile_background_images/577594835219050496/tbGj4UTo.jpeg', u'translator_type': u'none', u'verified': False, u'blocked_by': False, u'profile_text_color': u'333333', u'muting': False, u'profile_image_url_https': u'https://pbs.twimg.com/profile_images/441673097481965568/WDeK2pfU_normal.jpeg', u'profile_sidebar_fill_color': u'DDEEF6', u'entities': {u'url': {u'urls': [{u'url': u'https://t.co/j8BbhXTrRm', u'indices': [0, 23], u'expanded_url': u'http://csparpa.github.io', u'display_url': u'csparpa.github.io'}]}, u'description': {u'urls': []}}, u'followers_count': 46, u'profile_sidebar_border_color': u'C0DEED', u'id_str': u'376122536', u'profile_background_color': u'C0DEED', u'listed_count': 4, u'status': {u'contributors': None, u'truncated': False, u'text': u'RT @zbunde: you need 0 years of experience to be president but 5 years of experience in a 4 year old framework to get that one job', u'is_quote_status': False, u'in_reply_to_status_id': None, u'id': 797166199041822720, u'favorite_count': 0, u'source': u'<a href=\"http://twitter.com/download/android\" rel=\"nofollow\">Twitter for Android</a>', u'retweeted': False, u'coordinates': None, u'entities': {u'symbols': [], u'user_mentions': [{u'id': 2213268468, u'indices': [3, 10], u'id_str': u'2213268468', u'screen_name': u'zbunde', u'name': u'Zach'}], u'hashtags': [], u'urls': []}, u'in_reply_to_screen_name': None, u'in_reply_to_user_id': None, u'retweet_count': 25, u'id_str': u'797166199041822720', u'favorited': False, u'retweeted_status': {u'contributors': None, u'truncated': False, u'text': u'you need 0 years of experience to be president but 5 years of experience in a 4 year old framework to get that one job', u'is_quote_status': False, u'in_reply_to_status_id': None, u'id': 796861671251775488, u'favorite_count': 33, u'source': u'<a href=\"http://twitter.com\" rel=\"nofollow\">Twitter Web Client</a>', u'retweeted': False, u'coordinates': None, u'entities': {u'symbols': [], u'user_mentions': [], u'hashtags': [], u'urls': []}, u'in_reply_to_screen_name': None, u'in_reply_to_user_id': None, u'retweet_count': 25, u'id_str': u'796861671251775488', u'favorited': False, u'geo': None, u'in_reply_to_user_id_str': None, u'lang': u'en', u'created_at': u'Thu Nov 10 23:46:42 +0000 2016', u'in_reply_to_status_id_str': None, u'place': None}, u'geo': None, u'in_reply_to_user_id_str': None, u'lang': u'en', u'created_at': u'Fri Nov 11 19:56:47 +0000 2016', u'in_reply_to_status_id_str': None, u'place': None}, u'is_translation_enabled': False, u'utc_offset': 3600, u'statuses_count': 180, u'description': u'SW engineer on his road to perfection. Pythonista, U2er, lover of green. Just enough geek :)', u'friends_count': 144, u'location': u'', u'profile_link_color': u'0084B4', u'profile_image_url': u'http://pbs.twimg.com/profile_images/441673097481965568/WDeK2pfU_normal.jpeg', u'following': False, u'geo_enabled': True, u'profile_banner_url': u'https://pbs.twimg.com/profile_banners/376122536/1426544450', u'blocking': False, u'profile_background_image_url': u'http://pbs.twimg.com/profile_background_images/577594835219050496/tbGj4UTo.jpeg', u'screen_name': u'csparpa', u'lang': u'en', u'profile_background_tile': False, u'favourites_count': 140, u'name': u'Claudio Sparpaglione', u'notifications': False, u'url': u'https://t.co/j8BbhXTrRm', u'created_at': u'Mon Sep 19 10:30:23 +0000 2011', u'contributors_enabled': False, u'time_zone': u'Rome', u'protected': False, u'default_profile': False, u'is_translator': False}, is_translator=False, geo_enabled=True, entities={u'url': {u'urls': [{u'url': u'https://t.co/j8BbhXTrRm', u'indices': [0, 23], u'expanded_url': u'http://csparpa.github.io', u'display_url': u'csparpa.github.io'}]}, u'description': {u'urls': []}}, followers_count=46, protected=False, id_str=u'376122536', default_profile_image=False, listed_count=4, status=Status(contributors=None, truncated=False, text=u'RT @zbunde: you need 0 years of experience to be president but 5 years of experience in a 4 year old framework to get that one job', is_quote_status=False, in_reply_to_status_id=None, id=797166199041822720, favorite_count=0, _api=<tweepy.api.API object at 0x7fe28ab1c950>, source=u'Twitter for Android', _json={u'contributors': None, u'truncated': False, u'text': u'RT @zbunde: you need 0 years of experience to be president but 5 years of experience in a 4 year old framework to get that one job', u'is_quote_status': False, u'in_reply_to_status_id': None, u'id': 797166199041822720, u'favorite_count': 0, u'source': u'<a href=\"http://twitter.com/download/android\" rel=\"nofollow\">Twitter for Android</a>', u'retweeted': False, u'coordinates': None, u'entities': {u'symbols': [], u'user_mentions': [{u'id': 2213268468, u'indices': [3, 10], u'id_str': u'2213268468', u'screen_name': u'zbunde', u'name': u'Zach'}], u'hashtags': [], u'urls': []}, u'in_reply_to_screen_name': None, u'in_reply_to_user_id': None, u'retweet_count': 25, u'id_str': u'797166199041822720', u'favorited': False, u'retweeted_status': {u'contributors': None, u'truncated': False, u'text': u'you need 0 years of experience to be president but 5 years of experience in a 4 year old framework to get that one job', u'is_quote_status': False, u'in_reply_to_status_id': None, u'id': 796861671251775488, u'favorite_count': 33, u'source': u'<a href=\"http://twitter.com\" rel=\"nofollow\">Twitter Web Client</a>', u'retweeted': False, u'coordinates': None, u'entities': {u'symbols': [], u'user_mentions': [], u'hashtags': [], u'urls': []}, u'in_reply_to_screen_name': None, u'in_reply_to_user_id': None, u'retweet_count': 25, u'id_str': u'796861671251775488', u'favorited': False, u'geo': None, u'in_reply_to_user_id_str': None, u'lang': u'en', u'created_at': u'Thu Nov 10 23:46:42 +0000 2016', u'in_reply_to_status_id_str': None, u'place': None}, u'geo': None, u'in_reply_to_user_id_str': None, u'lang': u'en', u'created_at': u'Fri Nov 11 19:56:47 +0000 2016', u'in_reply_to_status_id_str': None, u'place': None}, coordinates=None, entities={u'symbols': [], u'user_mentions': [{u'id': 2213268468, u'indices': [3, 10], u'id_str': u'2213268468', u'screen_name': u'zbunde', u'name': u'Zach'}], u'hashtags': [], u'urls': []}, in_reply_to_screen_name=None, id_str=u'797166199041822720', retweet_count=25, in_reply_to_user_id=None, favorited=False, retweeted_status=Status(contributors=None, truncated=False, text=u'you need 0 years of experience to be president but 5 years of experience in a 4 year old framework to get that one job', is_quote_status=False, in_reply_to_status_id=None, id=796861671251775488, favorite_count=33, _api=<tweepy.api.API object at 0x7fe28ab1c950>, source=u'Twitter Web Client', _json={u'contributors': None, u'truncated': False, u'text': u'you need 0 years of experience to be president but 5 years of experience in a 4 year old framework to get that one job', u'is_quote_status': False, u'in_reply_to_status_id': None, u'id': 796861671251775488, u'favorite_count': 33, u'source': u'<a href=\"http://twitter.com\" rel=\"nofollow\">Twitter Web Client</a>', u'retweeted': False, u'coordinates': None, u'entities': {u'symbols': [], u'user_mentions': [], u'hashtags': [], u'urls': []}, u'in_reply_to_screen_name': None, u'in_reply_to_user_id': None, u'retweet_count': 25, u'id_str': u'796861671251775488', u'favorited': False, u'geo': None, u'in_reply_to_user_id_str': None, u'lang': u'en', u'created_at': u'Thu Nov 10 23:46:42 +0000 2016', u'in_reply_to_status_id_str': None, u'place': None}, coordinates=None, entities={u'symbols': [], u'user_mentions': [], u'hashtags': [], u'urls': []}, in_reply_to_screen_name=None, id_str=u'796861671251775488', retweet_count=25, in_reply_to_user_id=None, favorited=False, source_url=u'http://twitter.com', geo=None, in_reply_to_user_id_str=None, lang=u'en', created_at=datetime.datetime(2016, 11, 10, 23, 46, 42), in_reply_to_status_id_str=None, place=None, retweeted=False), source_url=u'http://twitter.com/download/android', geo=None, in_reply_to_user_id_str=None, lang=u'en', created_at=datetime.datetime(2016, 11, 11, 19, 56, 47), in_reply_to_status_id_str=None, place=None, retweeted=False), lang=u'en', utc_offset=3600, statuses_count=180, profile_background_color=u'C0DEED', friends_count=144, profile_link_color=u'0084B4', profile_image_url=u'http://pbs.twimg.com/profile_images/441673097481965568/WDeK2pfU_normal.jpeg', notifications=False, default_profile=False, profile_background_image_url_https=u'https://pbs.twimg.com/profile_background_images/577594835219050496/tbGj4UTo.jpeg', profile_banner_url=u'https://pbs.twimg.com/profile_banners/376122536/1426544450', blocking=False, profile_background_image_url=u'http://pbs.twimg.com/profile_background_images/577594835219050496/tbGj4UTo.jpeg', name=u'Claudio Sparpaglione', is_translation_enabled=False, profile_background_tile=False, favourites_count=140, screen_name=u'csparpa', url=u'https://t.co/j8BbhXTrRm', created_at=datetime.datetime(2011, 9, 19, 10, 30, 23), contributors_enabled=False, location=u'', profile_sidebar_border_color=u'C0DEED', translator_type=u'none', following=False)]"
      ]
     },
     "execution_count": 49,
     "metadata": {},
     "output_type": "execute_result"
    }
   ],
   "source": [
    "intesa_cursor.pages().next()"
   ]
  },
  {
   "cell_type": "code",
   "execution_count": 50,
   "metadata": {
    "collapsed": false
   },
   "outputs": [
    {
     "name": "stdout",
     "output_type": "stream",
     "text": [
      "OK\n",
      "OK\n",
      "OK\n",
      "OK\n",
      "OK\n",
      "OK\n",
      "OK\n",
      "OK\n",
      "OK\n"
     ]
    },
    {
     "ename": "RateLimitError",
     "evalue": "[{u'message': u'Rate limit exceeded', u'code': 88}]",
     "output_type": "error",
     "traceback": [
      "\u001b[1;31m---------------------------------------------------------------------------\u001b[0m",
      "\u001b[1;31mRateLimitError\u001b[0m                            Traceback (most recent call last)",
      "\u001b[1;32m<ipython-input-50-9e809389594f>\u001b[0m in \u001b[0;36m<module>\u001b[1;34m()\u001b[0m\n\u001b[0;32m      1\u001b[0m \u001b[0mintesa_followers\u001b[0m \u001b[1;33m=\u001b[0m \u001b[1;33m[\u001b[0m\u001b[1;33m]\u001b[0m\u001b[1;33m\u001b[0m\u001b[0m\n\u001b[1;32m----> 2\u001b[1;33m \u001b[1;32mfor\u001b[0m \u001b[0mpage\u001b[0m \u001b[1;32min\u001b[0m \u001b[0mintesa_cursor\u001b[0m\u001b[1;33m.\u001b[0m\u001b[0mpages\u001b[0m\u001b[1;33m(\u001b[0m\u001b[1;33m)\u001b[0m\u001b[1;33m:\u001b[0m\u001b[1;33m\u001b[0m\u001b[0m\n\u001b[0m\u001b[0;32m      3\u001b[0m     \u001b[1;32mprint\u001b[0m \u001b[1;34m\"OK\"\u001b[0m\u001b[1;33m\u001b[0m\u001b[0m\n\u001b[0;32m      4\u001b[0m     \u001b[0mintesa_followers\u001b[0m\u001b[1;33m.\u001b[0m\u001b[0mextend\u001b[0m\u001b[1;33m(\u001b[0m\u001b[0mpage\u001b[0m\u001b[1;33m)\u001b[0m\u001b[1;33m\u001b[0m\u001b[0m\n",
      "\u001b[1;32m/home/bigdive/anaconda2/lib/python2.7/site-packages/tweepy/cursor.pyc\u001b[0m in \u001b[0;36mnext\u001b[1;34m(self)\u001b[0m\n\u001b[0;32m     73\u001b[0m         data, cursors = self.method(cursor=self.next_cursor,\n\u001b[0;32m     74\u001b[0m                                     \u001b[1;33m*\u001b[0m\u001b[0mself\u001b[0m\u001b[1;33m.\u001b[0m\u001b[0margs\u001b[0m\u001b[1;33m,\u001b[0m\u001b[1;33m\u001b[0m\u001b[0m\n\u001b[1;32m---> 75\u001b[1;33m                                     **self.kargs)\n\u001b[0m\u001b[0;32m     76\u001b[0m         \u001b[0mself\u001b[0m\u001b[1;33m.\u001b[0m\u001b[0mprev_cursor\u001b[0m\u001b[1;33m,\u001b[0m \u001b[0mself\u001b[0m\u001b[1;33m.\u001b[0m\u001b[0mnext_cursor\u001b[0m \u001b[1;33m=\u001b[0m \u001b[0mcursors\u001b[0m\u001b[1;33m\u001b[0m\u001b[0m\n\u001b[0;32m     77\u001b[0m         \u001b[1;32mif\u001b[0m \u001b[0mlen\u001b[0m\u001b[1;33m(\u001b[0m\u001b[0mdata\u001b[0m\u001b[1;33m)\u001b[0m \u001b[1;33m==\u001b[0m \u001b[1;36m0\u001b[0m\u001b[1;33m:\u001b[0m\u001b[1;33m\u001b[0m\u001b[0m\n",
      "\u001b[1;32m/home/bigdive/anaconda2/lib/python2.7/site-packages/tweepy/binder.pyc\u001b[0m in \u001b[0;36m_call\u001b[1;34m(*args, **kwargs)\u001b[0m\n\u001b[0;32m    243\u001b[0m             \u001b[1;32mreturn\u001b[0m \u001b[0mmethod\u001b[0m\u001b[1;33m\u001b[0m\u001b[0m\n\u001b[0;32m    244\u001b[0m         \u001b[1;32melse\u001b[0m\u001b[1;33m:\u001b[0m\u001b[1;33m\u001b[0m\u001b[0m\n\u001b[1;32m--> 245\u001b[1;33m             \u001b[1;32mreturn\u001b[0m \u001b[0mmethod\u001b[0m\u001b[1;33m.\u001b[0m\u001b[0mexecute\u001b[0m\u001b[1;33m(\u001b[0m\u001b[1;33m)\u001b[0m\u001b[1;33m\u001b[0m\u001b[0m\n\u001b[0m\u001b[0;32m    246\u001b[0m \u001b[1;33m\u001b[0m\u001b[0m\n\u001b[0;32m    247\u001b[0m     \u001b[1;31m# Set pagination mode\u001b[0m\u001b[1;33m\u001b[0m\u001b[1;33m\u001b[0m\u001b[0m\n",
      "\u001b[1;32m/home/bigdive/anaconda2/lib/python2.7/site-packages/tweepy/binder.pyc\u001b[0m in \u001b[0;36mexecute\u001b[1;34m(self)\u001b[0m\n\u001b[0;32m    225\u001b[0m \u001b[1;33m\u001b[0m\u001b[0m\n\u001b[0;32m    226\u001b[0m                 \u001b[1;32mif\u001b[0m \u001b[0mis_rate_limit_error_message\u001b[0m\u001b[1;33m(\u001b[0m\u001b[0merror_msg\u001b[0m\u001b[1;33m)\u001b[0m\u001b[1;33m:\u001b[0m\u001b[1;33m\u001b[0m\u001b[0m\n\u001b[1;32m--> 227\u001b[1;33m                     \u001b[1;32mraise\u001b[0m \u001b[0mRateLimitError\u001b[0m\u001b[1;33m(\u001b[0m\u001b[0merror_msg\u001b[0m\u001b[1;33m,\u001b[0m \u001b[0mresp\u001b[0m\u001b[1;33m)\u001b[0m\u001b[1;33m\u001b[0m\u001b[0m\n\u001b[0m\u001b[0;32m    228\u001b[0m                 \u001b[1;32melse\u001b[0m\u001b[1;33m:\u001b[0m\u001b[1;33m\u001b[0m\u001b[0m\n\u001b[0;32m    229\u001b[0m                     \u001b[1;32mraise\u001b[0m \u001b[0mTweepError\u001b[0m\u001b[1;33m(\u001b[0m\u001b[0merror_msg\u001b[0m\u001b[1;33m,\u001b[0m \u001b[0mresp\u001b[0m\u001b[1;33m,\u001b[0m \u001b[0mapi_code\u001b[0m\u001b[1;33m=\u001b[0m\u001b[0mapi_error_code\u001b[0m\u001b[1;33m)\u001b[0m\u001b[1;33m\u001b[0m\u001b[0m\n",
      "\u001b[1;31mRateLimitError\u001b[0m: [{u'message': u'Rate limit exceeded', u'code': 88}]"
     ]
    }
   ],
   "source": [
    "intesa_followers = []\n",
    "for page in intesa_cursor.pages():\n",
    "    print \"OK\"\n",
    "    intesa_followers.extend(page)"
   ]
  },
  {
   "cell_type": "code",
   "execution_count": 51,
   "metadata": {
    "collapsed": false
   },
   "outputs": [
    {
     "data": {
      "text/plain": [
       "180"
      ]
     },
     "execution_count": 51,
     "metadata": {},
     "output_type": "execute_result"
    }
   ],
   "source": [
    "len(intesa_followers)"
   ]
  },
  {
   "cell_type": "code",
   "execution_count": 52,
   "metadata": {
    "collapsed": false
   },
   "outputs": [
    {
     "data": {
      "text/plain": [
       "{u'blocked_by': False,\n",
       " u'blocking': False,\n",
       " u'contributors_enabled': False,\n",
       " u'created_at': u'Fri Mar 11 11:48:19 +0000 2016',\n",
       " u'default_profile': False,\n",
       " u'default_profile_image': False,\n",
       " u'description': u'...\\u0950 la Libert\\xe0 \\xe8 Vita \\u0950... ...26...Drummer...\\nhttps://t.co/8m2tfxaLpD https://t.co/70sCnU3trb',\n",
       " u'entities': {u'description': {u'urls': [{u'display_url': u'facebook.com/Robertopoli90',\n",
       "     u'expanded_url': u'http://facebook.com/Robertopoli90',\n",
       "     u'indices': [47, 70],\n",
       "     u'url': u'https://t.co/8m2tfxaLpD'},\n",
       "    {u'display_url': u'instagram.com/robipoli90/',\n",
       "     u'expanded_url': u'http://instagram.com/robipoli90/',\n",
       "     u'indices': [71, 94],\n",
       "     u'url': u'https://t.co/70sCnU3trb'}]}},\n",
       " u'favourites_count': 3385,\n",
       " u'follow_request_sent': False,\n",
       " u'followers_count': 776,\n",
       " u'following': False,\n",
       " u'friends_count': 4879,\n",
       " u'geo_enabled': True,\n",
       " u'has_extended_profile': True,\n",
       " u'id': 708258246012899328,\n",
       " u'id_str': u'708258246012899328',\n",
       " u'is_translation_enabled': False,\n",
       " u'is_translator': False,\n",
       " u'lang': u'it',\n",
       " u'listed_count': 1,\n",
       " u'live_following': False,\n",
       " u'location': u'Bergamo, Lombardia',\n",
       " u'muting': False,\n",
       " u'name': u'Robi',\n",
       " u'notifications': False,\n",
       " u'profile_background_color': u'C0DEED',\n",
       " u'profile_background_image_url': u'http://pbs.twimg.com/profile_background_images/708464469920391168/0c4xn2pf.jpg',\n",
       " u'profile_background_image_url_https': u'https://pbs.twimg.com/profile_background_images/708464469920391168/0c4xn2pf.jpg',\n",
       " u'profile_background_tile': False,\n",
       " u'profile_banner_url': u'https://pbs.twimg.com/profile_banners/708258246012899328/1479876004',\n",
       " u'profile_image_url': u'http://pbs.twimg.com/profile_images/785918441605791744/9OVTZO_I_normal.jpg',\n",
       " u'profile_image_url_https': u'https://pbs.twimg.com/profile_images/785918441605791744/9OVTZO_I_normal.jpg',\n",
       " u'profile_link_color': u'1A1B1F',\n",
       " u'profile_sidebar_border_color': u'000000',\n",
       " u'profile_sidebar_fill_color': u'000000',\n",
       " u'profile_text_color': u'000000',\n",
       " u'profile_use_background_image': False,\n",
       " u'protected': True,\n",
       " u'screen_name': u'Robi_Poli_90',\n",
       " u'statuses_count': 406,\n",
       " u'time_zone': u'Rome',\n",
       " u'translator_type': u'none',\n",
       " u'url': None,\n",
       " u'utc_offset': 3600,\n",
       " u'verified': False}"
      ]
     },
     "execution_count": 52,
     "metadata": {},
     "output_type": "execute_result"
    }
   ],
   "source": [
    "intesa_followers[0]._json"
   ]
  },
  {
   "cell_type": "code",
   "execution_count": 53,
   "metadata": {
    "collapsed": false,
    "scrolled": false
   },
   "outputs": [
    {
     "ename": "RateLimitError",
     "evalue": "[{u'message': u'Rate limit exceeded', u'code': 88}]",
     "output_type": "error",
     "traceback": [
      "\u001b[1;31m---------------------------------------------------------------------------\u001b[0m",
      "\u001b[1;31mRateLimitError\u001b[0m                            Traceback (most recent call last)",
      "\u001b[1;32m<ipython-input-53-a3d3b605ab33>\u001b[0m in \u001b[0;36m<module>\u001b[1;34m()\u001b[0m\n\u001b[1;32m----> 1\u001b[1;33m \u001b[1;32mfor\u001b[0m \u001b[0mfollower\u001b[0m \u001b[1;32min\u001b[0m \u001b[0mintesa_cursor\u001b[0m\u001b[1;33m.\u001b[0m\u001b[0mitems\u001b[0m\u001b[1;33m(\u001b[0m\u001b[1;33m)\u001b[0m\u001b[1;33m:\u001b[0m\u001b[1;33m\u001b[0m\u001b[0m\n\u001b[0m\u001b[0;32m      2\u001b[0m     \u001b[1;32mprint\u001b[0m \u001b[0mfollower\u001b[0m\u001b[1;33m\u001b[0m\u001b[0m\n",
      "\u001b[1;32m/home/bigdive/anaconda2/lib/python2.7/site-packages/tweepy/cursor.pyc\u001b[0m in \u001b[0;36mnext\u001b[1;34m(self)\u001b[0m\n\u001b[0;32m    195\u001b[0m         \u001b[1;32mif\u001b[0m \u001b[0mself\u001b[0m\u001b[1;33m.\u001b[0m\u001b[0mcurrent_page\u001b[0m \u001b[1;32mis\u001b[0m \u001b[0mNone\u001b[0m \u001b[1;32mor\u001b[0m \u001b[0mself\u001b[0m\u001b[1;33m.\u001b[0m\u001b[0mpage_index\u001b[0m \u001b[1;33m==\u001b[0m \u001b[0mlen\u001b[0m\u001b[1;33m(\u001b[0m\u001b[0mself\u001b[0m\u001b[1;33m.\u001b[0m\u001b[0mcurrent_page\u001b[0m\u001b[1;33m)\u001b[0m \u001b[1;33m-\u001b[0m \u001b[1;36m1\u001b[0m\u001b[1;33m:\u001b[0m\u001b[1;33m\u001b[0m\u001b[0m\n\u001b[0;32m    196\u001b[0m             \u001b[1;31m# Reached end of current page, get the next page...\u001b[0m\u001b[1;33m\u001b[0m\u001b[1;33m\u001b[0m\u001b[0m\n\u001b[1;32m--> 197\u001b[1;33m             \u001b[0mself\u001b[0m\u001b[1;33m.\u001b[0m\u001b[0mcurrent_page\u001b[0m \u001b[1;33m=\u001b[0m \u001b[0mself\u001b[0m\u001b[1;33m.\u001b[0m\u001b[0mpage_iterator\u001b[0m\u001b[1;33m.\u001b[0m\u001b[0mnext\u001b[0m\u001b[1;33m(\u001b[0m\u001b[1;33m)\u001b[0m\u001b[1;33m\u001b[0m\u001b[0m\n\u001b[0m\u001b[0;32m    198\u001b[0m             \u001b[0mself\u001b[0m\u001b[1;33m.\u001b[0m\u001b[0mpage_index\u001b[0m \u001b[1;33m=\u001b[0m \u001b[1;33m-\u001b[0m\u001b[1;36m1\u001b[0m\u001b[1;33m\u001b[0m\u001b[0m\n\u001b[0;32m    199\u001b[0m         \u001b[0mself\u001b[0m\u001b[1;33m.\u001b[0m\u001b[0mpage_index\u001b[0m \u001b[1;33m+=\u001b[0m \u001b[1;36m1\u001b[0m\u001b[1;33m\u001b[0m\u001b[0m\n",
      "\u001b[1;32m/home/bigdive/anaconda2/lib/python2.7/site-packages/tweepy/cursor.pyc\u001b[0m in \u001b[0;36mnext\u001b[1;34m(self)\u001b[0m\n\u001b[0;32m     73\u001b[0m         data, cursors = self.method(cursor=self.next_cursor,\n\u001b[0;32m     74\u001b[0m                                     \u001b[1;33m*\u001b[0m\u001b[0mself\u001b[0m\u001b[1;33m.\u001b[0m\u001b[0margs\u001b[0m\u001b[1;33m,\u001b[0m\u001b[1;33m\u001b[0m\u001b[0m\n\u001b[1;32m---> 75\u001b[1;33m                                     **self.kargs)\n\u001b[0m\u001b[0;32m     76\u001b[0m         \u001b[0mself\u001b[0m\u001b[1;33m.\u001b[0m\u001b[0mprev_cursor\u001b[0m\u001b[1;33m,\u001b[0m \u001b[0mself\u001b[0m\u001b[1;33m.\u001b[0m\u001b[0mnext_cursor\u001b[0m \u001b[1;33m=\u001b[0m \u001b[0mcursors\u001b[0m\u001b[1;33m\u001b[0m\u001b[0m\n\u001b[0;32m     77\u001b[0m         \u001b[1;32mif\u001b[0m \u001b[0mlen\u001b[0m\u001b[1;33m(\u001b[0m\u001b[0mdata\u001b[0m\u001b[1;33m)\u001b[0m \u001b[1;33m==\u001b[0m \u001b[1;36m0\u001b[0m\u001b[1;33m:\u001b[0m\u001b[1;33m\u001b[0m\u001b[0m\n",
      "\u001b[1;32m/home/bigdive/anaconda2/lib/python2.7/site-packages/tweepy/binder.pyc\u001b[0m in \u001b[0;36m_call\u001b[1;34m(*args, **kwargs)\u001b[0m\n\u001b[0;32m    243\u001b[0m             \u001b[1;32mreturn\u001b[0m \u001b[0mmethod\u001b[0m\u001b[1;33m\u001b[0m\u001b[0m\n\u001b[0;32m    244\u001b[0m         \u001b[1;32melse\u001b[0m\u001b[1;33m:\u001b[0m\u001b[1;33m\u001b[0m\u001b[0m\n\u001b[1;32m--> 245\u001b[1;33m             \u001b[1;32mreturn\u001b[0m \u001b[0mmethod\u001b[0m\u001b[1;33m.\u001b[0m\u001b[0mexecute\u001b[0m\u001b[1;33m(\u001b[0m\u001b[1;33m)\u001b[0m\u001b[1;33m\u001b[0m\u001b[0m\n\u001b[0m\u001b[0;32m    246\u001b[0m \u001b[1;33m\u001b[0m\u001b[0m\n\u001b[0;32m    247\u001b[0m     \u001b[1;31m# Set pagination mode\u001b[0m\u001b[1;33m\u001b[0m\u001b[1;33m\u001b[0m\u001b[0m\n",
      "\u001b[1;32m/home/bigdive/anaconda2/lib/python2.7/site-packages/tweepy/binder.pyc\u001b[0m in \u001b[0;36mexecute\u001b[1;34m(self)\u001b[0m\n\u001b[0;32m    225\u001b[0m \u001b[1;33m\u001b[0m\u001b[0m\n\u001b[0;32m    226\u001b[0m                 \u001b[1;32mif\u001b[0m \u001b[0mis_rate_limit_error_message\u001b[0m\u001b[1;33m(\u001b[0m\u001b[0merror_msg\u001b[0m\u001b[1;33m)\u001b[0m\u001b[1;33m:\u001b[0m\u001b[1;33m\u001b[0m\u001b[0m\n\u001b[1;32m--> 227\u001b[1;33m                     \u001b[1;32mraise\u001b[0m \u001b[0mRateLimitError\u001b[0m\u001b[1;33m(\u001b[0m\u001b[0merror_msg\u001b[0m\u001b[1;33m,\u001b[0m \u001b[0mresp\u001b[0m\u001b[1;33m)\u001b[0m\u001b[1;33m\u001b[0m\u001b[0m\n\u001b[0m\u001b[0;32m    228\u001b[0m                 \u001b[1;32melse\u001b[0m\u001b[1;33m:\u001b[0m\u001b[1;33m\u001b[0m\u001b[0m\n\u001b[0;32m    229\u001b[0m                     \u001b[1;32mraise\u001b[0m \u001b[0mTweepError\u001b[0m\u001b[1;33m(\u001b[0m\u001b[0merror_msg\u001b[0m\u001b[1;33m,\u001b[0m \u001b[0mresp\u001b[0m\u001b[1;33m,\u001b[0m \u001b[0mapi_code\u001b[0m\u001b[1;33m=\u001b[0m\u001b[0mapi_error_code\u001b[0m\u001b[1;33m)\u001b[0m\u001b[1;33m\u001b[0m\u001b[0m\n",
      "\u001b[1;31mRateLimitError\u001b[0m: [{u'message': u'Rate limit exceeded', u'code': 88}]"
     ]
    }
   ],
   "source": [
    "for follower in intesa_cursor.items():\n",
    "    print follower"
   ]
  },
  {
   "cell_type": "code",
   "execution_count": 54,
   "metadata": {
    "collapsed": false
   },
   "outputs": [
    {
     "ename": "RateLimitError",
     "evalue": "[{u'message': u'Rate limit exceeded', u'code': 88}]",
     "output_type": "error",
     "traceback": [
      "\u001b[1;31m---------------------------------------------------------------------------\u001b[0m",
      "\u001b[1;31mRateLimitError\u001b[0m                            Traceback (most recent call last)",
      "\u001b[1;32m<ipython-input-54-d235439ab109>\u001b[0m in \u001b[0;36m<module>\u001b[1;34m()\u001b[0m\n\u001b[0;32m      1\u001b[0m \u001b[0mmylist\u001b[0m \u001b[1;33m=\u001b[0m \u001b[1;33m[\u001b[0m\u001b[1;33m]\u001b[0m\u001b[1;33m\u001b[0m\u001b[0m\n\u001b[1;32m----> 2\u001b[1;33m \u001b[1;32mfor\u001b[0m \u001b[0mfollower\u001b[0m \u001b[1;32min\u001b[0m \u001b[0mintesa_cursor\u001b[0m\u001b[1;33m.\u001b[0m\u001b[0mpages\u001b[0m\u001b[1;33m(\u001b[0m\u001b[1;33m)\u001b[0m\u001b[1;33m:\u001b[0m     \u001b[1;31m# .pages mi restituisce i primi 20 elementi\u001b[0m\u001b[1;33m\u001b[0m\u001b[0m\n\u001b[0m\u001b[0;32m      3\u001b[0m     \u001b[1;32mprint\u001b[0m \u001b[0mmylist\u001b[0m\u001b[1;33m.\u001b[0m\u001b[0mextend\u001b[0m\u001b[1;33m(\u001b[0m\u001b[0mfollower\u001b[0m\u001b[1;33m)\u001b[0m\u001b[1;33m\u001b[0m\u001b[0m\n\u001b[0;32m      4\u001b[0m     \u001b[1;32mbreak\u001b[0m\u001b[1;33m\u001b[0m\u001b[0m\n",
      "\u001b[1;32m/home/bigdive/anaconda2/lib/python2.7/site-packages/tweepy/cursor.pyc\u001b[0m in \u001b[0;36mnext\u001b[1;34m(self)\u001b[0m\n\u001b[0;32m     73\u001b[0m         data, cursors = self.method(cursor=self.next_cursor,\n\u001b[0;32m     74\u001b[0m                                     \u001b[1;33m*\u001b[0m\u001b[0mself\u001b[0m\u001b[1;33m.\u001b[0m\u001b[0margs\u001b[0m\u001b[1;33m,\u001b[0m\u001b[1;33m\u001b[0m\u001b[0m\n\u001b[1;32m---> 75\u001b[1;33m                                     **self.kargs)\n\u001b[0m\u001b[0;32m     76\u001b[0m         \u001b[0mself\u001b[0m\u001b[1;33m.\u001b[0m\u001b[0mprev_cursor\u001b[0m\u001b[1;33m,\u001b[0m \u001b[0mself\u001b[0m\u001b[1;33m.\u001b[0m\u001b[0mnext_cursor\u001b[0m \u001b[1;33m=\u001b[0m \u001b[0mcursors\u001b[0m\u001b[1;33m\u001b[0m\u001b[0m\n\u001b[0;32m     77\u001b[0m         \u001b[1;32mif\u001b[0m \u001b[0mlen\u001b[0m\u001b[1;33m(\u001b[0m\u001b[0mdata\u001b[0m\u001b[1;33m)\u001b[0m \u001b[1;33m==\u001b[0m \u001b[1;36m0\u001b[0m\u001b[1;33m:\u001b[0m\u001b[1;33m\u001b[0m\u001b[0m\n",
      "\u001b[1;32m/home/bigdive/anaconda2/lib/python2.7/site-packages/tweepy/binder.pyc\u001b[0m in \u001b[0;36m_call\u001b[1;34m(*args, **kwargs)\u001b[0m\n\u001b[0;32m    243\u001b[0m             \u001b[1;32mreturn\u001b[0m \u001b[0mmethod\u001b[0m\u001b[1;33m\u001b[0m\u001b[0m\n\u001b[0;32m    244\u001b[0m         \u001b[1;32melse\u001b[0m\u001b[1;33m:\u001b[0m\u001b[1;33m\u001b[0m\u001b[0m\n\u001b[1;32m--> 245\u001b[1;33m             \u001b[1;32mreturn\u001b[0m \u001b[0mmethod\u001b[0m\u001b[1;33m.\u001b[0m\u001b[0mexecute\u001b[0m\u001b[1;33m(\u001b[0m\u001b[1;33m)\u001b[0m\u001b[1;33m\u001b[0m\u001b[0m\n\u001b[0m\u001b[0;32m    246\u001b[0m \u001b[1;33m\u001b[0m\u001b[0m\n\u001b[0;32m    247\u001b[0m     \u001b[1;31m# Set pagination mode\u001b[0m\u001b[1;33m\u001b[0m\u001b[1;33m\u001b[0m\u001b[0m\n",
      "\u001b[1;32m/home/bigdive/anaconda2/lib/python2.7/site-packages/tweepy/binder.pyc\u001b[0m in \u001b[0;36mexecute\u001b[1;34m(self)\u001b[0m\n\u001b[0;32m    225\u001b[0m \u001b[1;33m\u001b[0m\u001b[0m\n\u001b[0;32m    226\u001b[0m                 \u001b[1;32mif\u001b[0m \u001b[0mis_rate_limit_error_message\u001b[0m\u001b[1;33m(\u001b[0m\u001b[0merror_msg\u001b[0m\u001b[1;33m)\u001b[0m\u001b[1;33m:\u001b[0m\u001b[1;33m\u001b[0m\u001b[0m\n\u001b[1;32m--> 227\u001b[1;33m                     \u001b[1;32mraise\u001b[0m \u001b[0mRateLimitError\u001b[0m\u001b[1;33m(\u001b[0m\u001b[0merror_msg\u001b[0m\u001b[1;33m,\u001b[0m \u001b[0mresp\u001b[0m\u001b[1;33m)\u001b[0m\u001b[1;33m\u001b[0m\u001b[0m\n\u001b[0m\u001b[0;32m    228\u001b[0m                 \u001b[1;32melse\u001b[0m\u001b[1;33m:\u001b[0m\u001b[1;33m\u001b[0m\u001b[0m\n\u001b[0;32m    229\u001b[0m                     \u001b[1;32mraise\u001b[0m \u001b[0mTweepError\u001b[0m\u001b[1;33m(\u001b[0m\u001b[0merror_msg\u001b[0m\u001b[1;33m,\u001b[0m \u001b[0mresp\u001b[0m\u001b[1;33m,\u001b[0m \u001b[0mapi_code\u001b[0m\u001b[1;33m=\u001b[0m\u001b[0mapi_error_code\u001b[0m\u001b[1;33m)\u001b[0m\u001b[1;33m\u001b[0m\u001b[0m\n",
      "\u001b[1;31mRateLimitError\u001b[0m: [{u'message': u'Rate limit exceeded', u'code': 88}]"
     ]
    }
   ],
   "source": [
    "mylist = []\n",
    "for follower in intesa_cursor.pages():     # .pages mi restituisce i primi 20 elementi\n",
    "    print mylist.extend(follower)\n",
    "    break"
   ]
  },
  {
   "cell_type": "code",
   "execution_count": 55,
   "metadata": {
    "collapsed": false
   },
   "outputs": [
    {
     "data": {
      "text/plain": [
       "0"
      ]
     },
     "execution_count": 55,
     "metadata": {},
     "output_type": "execute_result"
    }
   ],
   "source": [
    "len(mylist)"
   ]
  },
  {
   "cell_type": "code",
   "execution_count": 56,
   "metadata": {
    "collapsed": false
   },
   "outputs": [
    {
     "ename": "IndexError",
     "evalue": "list index out of range",
     "output_type": "error",
     "traceback": [
      "\u001b[1;31m---------------------------------------------------------------------------\u001b[0m",
      "\u001b[1;31mIndexError\u001b[0m                                Traceback (most recent call last)",
      "\u001b[1;32m<ipython-input-56-750f4313fa5d>\u001b[0m in \u001b[0;36m<module>\u001b[1;34m()\u001b[0m\n\u001b[1;32m----> 1\u001b[1;33m \u001b[0mmylist\u001b[0m\u001b[1;33m[\u001b[0m\u001b[1;36m0\u001b[0m\u001b[1;33m]\u001b[0m\u001b[1;33m.\u001b[0m\u001b[0m_json\u001b[0m\u001b[1;33m\u001b[0m\u001b[0m\n\u001b[0m",
      "\u001b[1;31mIndexError\u001b[0m: list index out of range"
     ]
    }
   ],
   "source": [
    "mylist[0]._json"
   ]
  },
  {
   "cell_type": "code",
   "execution_count": 57,
   "metadata": {
    "collapsed": false
   },
   "outputs": [],
   "source": [
    "for i, f in enumerate(mylist):\n",
    "    print i, f.statuses_count"
   ]
  },
  {
   "cell_type": "code",
   "execution_count": 58,
   "metadata": {
    "collapsed": false
   },
   "outputs": [],
   "source": [
    "import time   #libreria time (è dentro python)\n",
    "def limit_handler(cursor):\n",
    "    while True:\n",
    "        try:\n",
    "            yield cursor.next()\n",
    "        except tweepy.RateLimitError:\n",
    "            print \"Dormo 15 secondi....\"\n",
    "            time.sleep(15)\n",
    "            print \"Provo di nuovo!\"\n"
   ]
  },
  {
   "cell_type": "code",
   "execution_count": 52,
   "metadata": {
    "collapsed": false
   },
   "outputs": [
    {
     "name": "stdout",
     "output_type": "stream",
     "text": [
      "Dormo 15 secondi....\n",
      "Provo di nuovo!\n",
      "Dormo 15 secondi....\n",
      "Provo di nuovo!\n",
      "Dormo 15 secondi....\n",
      "Provo di nuovo!\n",
      "Dormo 15 secondi....\n",
      "Provo di nuovo!\n",
      "Dormo 15 secondi....\n"
     ]
    },
    {
     "ename": "KeyboardInterrupt",
     "evalue": "",
     "output_type": "error",
     "traceback": [
      "\u001b[1;31m---------------------------------------------------------------------------\u001b[0m",
      "\u001b[1;31mKeyboardInterrupt\u001b[0m                         Traceback (most recent call last)",
      "\u001b[1;32m<ipython-input-52-b738ce1128ef>\u001b[0m in \u001b[0;36m<module>\u001b[1;34m()\u001b[0m\n\u001b[0;32m      1\u001b[0m \u001b[0mintesa_followers\u001b[0m \u001b[1;33m=\u001b[0m \u001b[1;33m[\u001b[0m\u001b[1;33m]\u001b[0m\u001b[1;33m\u001b[0m\u001b[0m\n\u001b[1;32m----> 2\u001b[1;33m \u001b[1;32mfor\u001b[0m \u001b[0mpage\u001b[0m \u001b[1;32min\u001b[0m \u001b[0mlimit_handler\u001b[0m\u001b[1;33m(\u001b[0m\u001b[0mintesa_cursor\u001b[0m\u001b[1;33m.\u001b[0m\u001b[0mpages\u001b[0m\u001b[1;33m(\u001b[0m\u001b[1;33m)\u001b[0m\u001b[1;33m)\u001b[0m\u001b[1;33m:\u001b[0m\u001b[1;33m\u001b[0m\u001b[0m\n\u001b[0m\u001b[0;32m      3\u001b[0m     \u001b[0mintesa_followers\u001b[0m\u001b[1;33m.\u001b[0m\u001b[0mextend\u001b[0m\u001b[1;33m(\u001b[0m\u001b[0mpage\u001b[0m\u001b[1;33m)\u001b[0m\u001b[1;33m\u001b[0m\u001b[0m\n",
      "\u001b[1;32m<ipython-input-50-fd702d1e04e7>\u001b[0m in \u001b[0;36mlimit_handler\u001b[1;34m(cursor)\u001b[0m\n\u001b[0;32m      6\u001b[0m         \u001b[1;32mexcept\u001b[0m \u001b[0mtweepy\u001b[0m\u001b[1;33m.\u001b[0m\u001b[0mRateLimitError\u001b[0m\u001b[1;33m:\u001b[0m\u001b[1;33m\u001b[0m\u001b[0m\n\u001b[0;32m      7\u001b[0m             \u001b[1;32mprint\u001b[0m \u001b[1;34m\"Dormo 15 secondi....\"\u001b[0m\u001b[1;33m\u001b[0m\u001b[0m\n\u001b[1;32m----> 8\u001b[1;33m             \u001b[0mtime\u001b[0m\u001b[1;33m.\u001b[0m\u001b[0msleep\u001b[0m\u001b[1;33m(\u001b[0m\u001b[1;36m15\u001b[0m\u001b[1;33m)\u001b[0m\u001b[1;33m\u001b[0m\u001b[0m\n\u001b[0m\u001b[0;32m      9\u001b[0m             \u001b[1;32mprint\u001b[0m \u001b[1;34m\"Provo di nuovo!\"\u001b[0m\u001b[1;33m\u001b[0m\u001b[0m\n",
      "\u001b[1;31mKeyboardInterrupt\u001b[0m: "
     ]
    }
   ],
   "source": [
    "intesa_followers = []\n",
    "for page in limit_handler(intesa_cursor.pages()):\n",
    "    intesa_followers.extend(page)"
   ]
  },
  {
   "cell_type": "markdown",
   "metadata": {
    "collapsed": true
   },
   "source": [
    "# Get Hashtags\n"
   ]
  },
  {
   "cell_type": "code",
   "execution_count": 59,
   "metadata": {
    "collapsed": false,
    "scrolled": false
   },
   "outputs": [
    {
     "name": "stdout",
     "output_type": "stream",
     "text": [
      "#Trump Says: and fair elections. We've accepted the outcomes when we may not have liked them, and that is what must be expected of anyone s…\n",
      "Ironically, this might be where Dems, Progs &amp; Independants have to step up to support #tRump Great article. Read of… https://t.co/kTFFQsTw7e\n",
      "RT @TrumpNewMedia: EXPOSING #CAIR MUSLIM BROTHERHOOD! #MAGA #Trump #GOP #Reuters #Bloomberg #FoxNews #NBCNews #CBSNews #NBC @realDonaldTrum…\n",
      "RT @immigrant4trump: Video: Black Americans abandoning Democrats as party implodes: Trump has vowed to improve inner cities. #Trump https:/…\n",
      "#Trump Tower becomes Dump Tower on #Google Maps https://t.co/Db2tQbfSs6 https://t.co/FGDjVqQO41\n",
      "\n",
      "-----\n",
      "\n",
      "Status(contributors=None, truncated=False, text=u\"#Trump Says: and fair elections. We've accepted the outcomes when we may not have liked them, and that is what must be expected of anyone s\\u2026\", is_quote_status=False, in_reply_to_status_id=None, id=802860338274308096, favorite_count=0, _api=<tweepy.api.API object at 0x7fe28ab1c950>, author=User(follow_request_sent=False, has_extended_profile=False, profile_use_background_image=True, _json={u'follow_request_sent': False, u'has_extended_profile': False, u'profile_use_background_image': True, u'default_profile_image': False, u'id': 706949618521649152, u'profile_background_image_url_https': None, u'verified': False, u'translator_type': u'none', u'profile_text_color': u'333333', u'profile_image_url_https': u'https://pbs.twimg.com/profile_images/706996772489441280/3d8G0t4j_normal.jpg', u'profile_sidebar_fill_color': u'DDEEF6', u'entities': {u'url': {u'urls': [{u'url': u'https://t.co/hfDs46Huli', u'indices': [0, 23], u'expanded_url': u'http://www.vetsfordonaldtrump.com/voice', u'display_url': u'vetsfordonaldtrump.com/voice'}]}, u'description': {u'urls': []}}, u'followers_count': 670, u'profile_sidebar_border_color': u'C0DEED', u'id_str': u'706949618521649152', u'profile_background_color': u'F5F8FA', u'listed_count': 13, u'is_translation_enabled': False, u'utc_offset': -18000, u'statuses_count': 2757, u'description': u'Donald Trump supporter!!! Love and support veterans. NRA, Christian. Do not follow if you are #Cruz and #Rubio supporters because you will be blocked. #MAGA.', u'friends_count': 626, u'location': u'', u'profile_link_color': u'1DA1F2', u'profile_image_url': u'http://pbs.twimg.com/profile_images/706996772489441280/3d8G0t4j_normal.jpg', u'following': False, u'geo_enabled': False, u'profile_banner_url': u'https://pbs.twimg.com/profile_banners/706949618521649152/1457390894', u'profile_background_image_url': None, u'screen_name': u'troopsfortrump', u'lang': u'en', u'profile_background_tile': False, u'favourites_count': 169, u'name': u'Troops for Trump', u'notifications': False, u'url': u'https://t.co/hfDs46Huli', u'created_at': u'Mon Mar 07 21:08:18 +0000 2016', u'contributors_enabled': False, u'time_zone': u'Eastern Time (US & Canada)', u'protected': False, u'default_profile': True, u'is_translator': False}, time_zone=u'Eastern Time (US & Canada)', id=706949618521649152, description=u'Donald Trump supporter!!! Love and support veterans. NRA, Christian. Do not follow if you are #Cruz and #Rubio supporters because you will be blocked. #MAGA.', _api=<tweepy.api.API object at 0x7fe28ab1c950>, verified=False, profile_text_color=u'333333', profile_image_url_https=u'https://pbs.twimg.com/profile_images/706996772489441280/3d8G0t4j_normal.jpg', profile_sidebar_fill_color=u'DDEEF6', is_translator=False, geo_enabled=False, entities={u'url': {u'urls': [{u'url': u'https://t.co/hfDs46Huli', u'indices': [0, 23], u'expanded_url': u'http://www.vetsfordonaldtrump.com/voice', u'display_url': u'vetsfordonaldtrump.com/voice'}]}, u'description': {u'urls': []}}, followers_count=670, protected=False, id_str=u'706949618521649152', default_profile_image=False, listed_count=13, lang=u'en', utc_offset=-18000, statuses_count=2757, profile_background_color=u'F5F8FA', friends_count=626, profile_link_color=u'1DA1F2', profile_image_url=u'http://pbs.twimg.com/profile_images/706996772489441280/3d8G0t4j_normal.jpg', notifications=False, default_profile=True, profile_background_image_url_https=None, profile_banner_url=u'https://pbs.twimg.com/profile_banners/706949618521649152/1457390894', profile_background_image_url=None, name=u'Troops for Trump', is_translation_enabled=False, profile_background_tile=False, favourites_count=169, screen_name=u'troopsfortrump', url=u'https://t.co/hfDs46Huli', created_at=datetime.datetime(2016, 3, 7, 21, 8, 18), contributors_enabled=False, location=u'', profile_sidebar_border_color=u'C0DEED', translator_type=u'none', following=False), _json={u'contributors': None, u'truncated': False, u'text': u\"#Trump Says: and fair elections. We've accepted the outcomes when we may not have liked them, and that is what must be expected of anyone s\\u2026\", u'is_quote_status': False, u'in_reply_to_status_id': None, u'id': 802860338274308096, u'favorite_count': 0, u'entities': {u'symbols': [], u'user_mentions': [], u'hashtags': [{u'indices': [0, 6], u'text': u'Trump'}], u'urls': []}, u'retweeted': False, u'coordinates': None, u'source': u'<a href=\"http://ifttt.com\" rel=\"nofollow\">IFTTT</a>', u'in_reply_to_screen_name': None, u'in_reply_to_user_id': None, u'retweet_count': 0, u'id_str': u'802860338274308096', u'favorited': False, u'user': {u'follow_request_sent': False, u'has_extended_profile': False, u'profile_use_background_image': True, u'default_profile_image': False, u'id': 706949618521649152, u'profile_background_image_url_https': None, u'verified': False, u'translator_type': u'none', u'profile_text_color': u'333333', u'profile_image_url_https': u'https://pbs.twimg.com/profile_images/706996772489441280/3d8G0t4j_normal.jpg', u'profile_sidebar_fill_color': u'DDEEF6', u'entities': {u'url': {u'urls': [{u'url': u'https://t.co/hfDs46Huli', u'indices': [0, 23], u'expanded_url': u'http://www.vetsfordonaldtrump.com/voice', u'display_url': u'vetsfordonaldtrump.com/voice'}]}, u'description': {u'urls': []}}, u'followers_count': 670, u'profile_sidebar_border_color': u'C0DEED', u'id_str': u'706949618521649152', u'profile_background_color': u'F5F8FA', u'listed_count': 13, u'is_translation_enabled': False, u'utc_offset': -18000, u'statuses_count': 2757, u'description': u'Donald Trump supporter!!! Love and support veterans. NRA, Christian. Do not follow if you are #Cruz and #Rubio supporters because you will be blocked. #MAGA.', u'friends_count': 626, u'location': u'', u'profile_link_color': u'1DA1F2', u'profile_image_url': u'http://pbs.twimg.com/profile_images/706996772489441280/3d8G0t4j_normal.jpg', u'following': False, u'geo_enabled': False, u'profile_banner_url': u'https://pbs.twimg.com/profile_banners/706949618521649152/1457390894', u'profile_background_image_url': None, u'screen_name': u'troopsfortrump', u'lang': u'en', u'profile_background_tile': False, u'favourites_count': 169, u'name': u'Troops for Trump', u'notifications': False, u'url': u'https://t.co/hfDs46Huli', u'created_at': u'Mon Mar 07 21:08:18 +0000 2016', u'contributors_enabled': False, u'time_zone': u'Eastern Time (US & Canada)', u'protected': False, u'default_profile': True, u'is_translator': False}, u'geo': None, u'in_reply_to_user_id_str': None, u'lang': u'en', u'created_at': u'Sun Nov 27 13:03:15 +0000 2016', u'in_reply_to_status_id_str': None, u'place': None, u'metadata': {u'iso_language_code': u'en', u'result_type': u'recent'}}, coordinates=None, entities={u'symbols': [], u'user_mentions': [], u'hashtags': [{u'indices': [0, 6], u'text': u'Trump'}], u'urls': []}, in_reply_to_screen_name=None, id_str=u'802860338274308096', retweet_count=0, in_reply_to_user_id=None, favorited=False, source_url=u'http://ifttt.com', user=User(follow_request_sent=False, has_extended_profile=False, profile_use_background_image=True, _json={u'follow_request_sent': False, u'has_extended_profile': False, u'profile_use_background_image': True, u'default_profile_image': False, u'id': 706949618521649152, u'profile_background_image_url_https': None, u'verified': False, u'translator_type': u'none', u'profile_text_color': u'333333', u'profile_image_url_https': u'https://pbs.twimg.com/profile_images/706996772489441280/3d8G0t4j_normal.jpg', u'profile_sidebar_fill_color': u'DDEEF6', u'entities': {u'url': {u'urls': [{u'url': u'https://t.co/hfDs46Huli', u'indices': [0, 23], u'expanded_url': u'http://www.vetsfordonaldtrump.com/voice', u'display_url': u'vetsfordonaldtrump.com/voice'}]}, u'description': {u'urls': []}}, u'followers_count': 670, u'profile_sidebar_border_color': u'C0DEED', u'id_str': u'706949618521649152', u'profile_background_color': u'F5F8FA', u'listed_count': 13, u'is_translation_enabled': False, u'utc_offset': -18000, u'statuses_count': 2757, u'description': u'Donald Trump supporter!!! Love and support veterans. NRA, Christian. Do not follow if you are #Cruz and #Rubio supporters because you will be blocked. #MAGA.', u'friends_count': 626, u'location': u'', u'profile_link_color': u'1DA1F2', u'profile_image_url': u'http://pbs.twimg.com/profile_images/706996772489441280/3d8G0t4j_normal.jpg', u'following': False, u'geo_enabled': False, u'profile_banner_url': u'https://pbs.twimg.com/profile_banners/706949618521649152/1457390894', u'profile_background_image_url': None, u'screen_name': u'troopsfortrump', u'lang': u'en', u'profile_background_tile': False, u'favourites_count': 169, u'name': u'Troops for Trump', u'notifications': False, u'url': u'https://t.co/hfDs46Huli', u'created_at': u'Mon Mar 07 21:08:18 +0000 2016', u'contributors_enabled': False, u'time_zone': u'Eastern Time (US & Canada)', u'protected': False, u'default_profile': True, u'is_translator': False}, time_zone=u'Eastern Time (US & Canada)', id=706949618521649152, description=u'Donald Trump supporter!!! Love and support veterans. NRA, Christian. Do not follow if you are #Cruz and #Rubio supporters because you will be blocked. #MAGA.', _api=<tweepy.api.API object at 0x7fe28ab1c950>, verified=False, profile_text_color=u'333333', profile_image_url_https=u'https://pbs.twimg.com/profile_images/706996772489441280/3d8G0t4j_normal.jpg', profile_sidebar_fill_color=u'DDEEF6', is_translator=False, geo_enabled=False, entities={u'url': {u'urls': [{u'url': u'https://t.co/hfDs46Huli', u'indices': [0, 23], u'expanded_url': u'http://www.vetsfordonaldtrump.com/voice', u'display_url': u'vetsfordonaldtrump.com/voice'}]}, u'description': {u'urls': []}}, followers_count=670, protected=False, id_str=u'706949618521649152', default_profile_image=False, listed_count=13, lang=u'en', utc_offset=-18000, statuses_count=2757, profile_background_color=u'F5F8FA', friends_count=626, profile_link_color=u'1DA1F2', profile_image_url=u'http://pbs.twimg.com/profile_images/706996772489441280/3d8G0t4j_normal.jpg', notifications=False, default_profile=True, profile_background_image_url_https=None, profile_banner_url=u'https://pbs.twimg.com/profile_banners/706949618521649152/1457390894', profile_background_image_url=None, name=u'Troops for Trump', is_translation_enabled=False, profile_background_tile=False, favourites_count=169, screen_name=u'troopsfortrump', url=u'https://t.co/hfDs46Huli', created_at=datetime.datetime(2016, 3, 7, 21, 8, 18), contributors_enabled=False, location=u'', profile_sidebar_border_color=u'C0DEED', translator_type=u'none', following=False), geo=None, in_reply_to_user_id_str=None, lang=u'en', created_at=datetime.datetime(2016, 11, 27, 13, 3, 15), in_reply_to_status_id_str=None, place=None, source=u'IFTTT', retweeted=False, metadata={u'iso_language_code': u'en', u'result_type': u'recent'})\n"
     ]
    }
   ],
   "source": [
    "tweets = []\n",
    "for tweet in tweepy.Cursor(api.search, q='#trump').items(5):\n",
    "    print tweet.text\n",
    "    tweets.append(tweet)\n",
    "print \"\\n-----\\n\"\n",
    "print tweets[0]"
   ]
  },
  {
   "cell_type": "markdown",
   "metadata": {},
   "source": [
    "# Avoid Rate Limit Exception"
   ]
  },
  {
   "cell_type": "code",
   "execution_count": 60,
   "metadata": {
    "collapsed": true
   },
   "outputs": [],
   "source": [
    "import time\n",
    "def limit_handler(cursor):\n",
    "    while True:\n",
    "        try:\n",
    "            yield cursor.next()\n",
    "        except tweepy.RateLimitError:\n",
    "            print \"Timeout Reached, I'm going to sleep for 15 Minutes\"\n",
    "            time.sleep(15*60)\n",
    "            print \"I'm going to try again!\""
   ]
  },
  {
   "cell_type": "code",
   "execution_count": 61,
   "metadata": {
    "collapsed": false
   },
   "outputs": [
    {
     "name": "stdout",
     "output_type": "stream",
     "text": [
      "Timeout Reached, I'm going to sleep for 15 Minutes\n"
     ]
    },
    {
     "ename": "KeyboardInterrupt",
     "evalue": "",
     "output_type": "error",
     "traceback": [
      "\u001b[1;31m---------------------------------------------------------------------------\u001b[0m",
      "\u001b[1;31mKeyboardInterrupt\u001b[0m                         Traceback (most recent call last)",
      "\u001b[1;32m<ipython-input-61-8e4ae8465536>\u001b[0m in \u001b[0;36m<module>\u001b[1;34m()\u001b[0m\n\u001b[0;32m      2\u001b[0m \u001b[1;33m\u001b[0m\u001b[0m\n\u001b[0;32m      3\u001b[0m \u001b[0malexcomu_followers\u001b[0m \u001b[1;33m=\u001b[0m \u001b[1;33m[\u001b[0m\u001b[1;33m]\u001b[0m\u001b[1;33m\u001b[0m\u001b[0m\n\u001b[1;32m----> 4\u001b[1;33m \u001b[1;32mfor\u001b[0m \u001b[0mfollowers\u001b[0m \u001b[1;32min\u001b[0m \u001b[0mlimit_handler\u001b[0m\u001b[1;33m(\u001b[0m\u001b[0malexcomu_cursor\u001b[0m\u001b[1;33m.\u001b[0m\u001b[0mpages\u001b[0m\u001b[1;33m(\u001b[0m\u001b[1;33m)\u001b[0m\u001b[1;33m)\u001b[0m\u001b[1;33m:\u001b[0m\u001b[1;33m\u001b[0m\u001b[0m\n\u001b[0m\u001b[0;32m      5\u001b[0m     \u001b[0malexcomu_followers\u001b[0m\u001b[1;33m.\u001b[0m\u001b[0mextend\u001b[0m\u001b[1;33m(\u001b[0m\u001b[0mfollowers\u001b[0m\u001b[1;33m)\u001b[0m\u001b[1;33m\u001b[0m\u001b[0m\n\u001b[0;32m      6\u001b[0m \u001b[1;33m\u001b[0m\u001b[0m\n",
      "\u001b[1;32m<ipython-input-60-df321c409024>\u001b[0m in \u001b[0;36mlimit_handler\u001b[1;34m(cursor)\u001b[0m\n\u001b[0;32m      6\u001b[0m         \u001b[1;32mexcept\u001b[0m \u001b[0mtweepy\u001b[0m\u001b[1;33m.\u001b[0m\u001b[0mRateLimitError\u001b[0m\u001b[1;33m:\u001b[0m\u001b[1;33m\u001b[0m\u001b[0m\n\u001b[0;32m      7\u001b[0m             \u001b[1;32mprint\u001b[0m \u001b[1;34m\"Timeout Reached, I'm going to sleep for 15 Minutes\"\u001b[0m\u001b[1;33m\u001b[0m\u001b[0m\n\u001b[1;32m----> 8\u001b[1;33m             \u001b[0mtime\u001b[0m\u001b[1;33m.\u001b[0m\u001b[0msleep\u001b[0m\u001b[1;33m(\u001b[0m\u001b[1;36m15\u001b[0m\u001b[1;33m*\u001b[0m\u001b[1;36m60\u001b[0m\u001b[1;33m)\u001b[0m\u001b[1;33m\u001b[0m\u001b[0m\n\u001b[0m\u001b[0;32m      9\u001b[0m             \u001b[1;32mprint\u001b[0m \u001b[1;34m\"I'm going to try again!\"\u001b[0m\u001b[1;33m\u001b[0m\u001b[0m\n",
      "\u001b[1;31mKeyboardInterrupt\u001b[0m: "
     ]
    }
   ],
   "source": [
    "alexcomu_cursor = tweepy.Cursor(api.followers, screen_name='comualex')\n",
    "\n",
    "alexcomu_followers = []\n",
    "for followers in limit_handler(alexcomu_cursor.pages()):\n",
    "    alexcomu_followers.extend(followers)\n",
    "    "
   ]
  },
  {
   "cell_type": "code",
   "execution_count": 62,
   "metadata": {
    "collapsed": false
   },
   "outputs": [
    {
     "data": {
      "text/plain": [
       "0"
      ]
     },
     "execution_count": 62,
     "metadata": {},
     "output_type": "execute_result"
    }
   ],
   "source": [
    "len(alexcomu_followers)"
   ]
  },
  {
   "cell_type": "markdown",
   "metadata": {},
   "source": [
    "# Live Streaming\n",
    "\n",
    "Check the complete example on the folder **esercitazione**."
   ]
  },
  {
   "cell_type": "code",
   "execution_count": 63,
   "metadata": {
    "collapsed": true
   },
   "outputs": [],
   "source": [
    "class BDStreamingListener(tweepy.StreamListener):\n",
    "    def __init__(self, count):\n",
    "        super(BDStreamingListener, self).__init__()\n",
    "        # Number of tweets we want to retrieve\n",
    "        self.count = count\n",
    "\n",
    "    def on_status(self, status):\n",
    "        # automatic called when a new tweet is received\n",
    "        # print dir(status)\n",
    "        print dict(user=status.user.screen_name, text=status.text)\n",
    "\n",
    "        self.count -= 1\n",
    "        if self.count <= 0:\n",
    "            return False\n",
    "\n",
    "    def on_error(self, status_code):\n",
    "        # automatic called when an error occures\n",
    "        print \"Error with status code: \", status_code\n",
    "        return False"
   ]
  },
  {
   "cell_type": "code",
   "execution_count": 64,
   "metadata": {
    "collapsed": false
   },
   "outputs": [
    {
     "name": "stdout",
     "output_type": "stream",
     "text": [
      "{'text': u'RT @PeoplePowerUSA1: Donate to help the recount of Votes for the Presidential Election! https://t.co/h2vU7vc95H #recount #votes #Clinton #T\\u2026', 'user': u'WaddellHilda'}\n",
      "{'text': u'RT @PeoplePowerUSA1: Donate to help the recount of Votes for the Presidential Election! https://t.co/h2vU7vc95H #recount #votes #Clinton #T\\u2026', 'user': u'LashaunBeachler'}\n",
      "{'text': u'RT @PeoplePowerUSA1: Donate to help the recount of Votes for the Presidential Election! https://t.co/h2vU7vc95H #recount #votes #Clinton #T\\u2026', 'user': u'suzannaclerfeu3'}\n",
      "{'text': u'RT @PeoplePowerUSA1: Donate to help the recount of Votes for the Presidential Election! https://t.co/h2vU7vc95H #recount #votes #Clinton #T\\u2026', 'user': u'georgia_tessier'}\n",
      "{'text': u'RT @WesSmith123: #Trump has no time for #Intelligence briefings - Would interfere with finding ways to profit off of the Presidency.\\n\\nhttps\\u2026', 'user': u'DrMichaelGarcia'}\n"
     ]
    }
   ],
   "source": [
    "# Create an instand set the number of tweets we want ro retrieve\n",
    "listener = BDStreamingListener(5)   # al quinto tweet che ricevo mi fermo; stampo i primi 5 tweet\n",
    "\n",
    "# Create the stream fetching object with auth and listener\n",
    "stream = tweepy.streaming.Stream(auth, listener)\n",
    "\n",
    "# Tun the stream using filter\n",
    "stream.filter(track=['#Trump'])\n"
   ]
  },
  {
   "cell_type": "markdown",
   "metadata": {},
   "source": [
    "# Get INTESA Followers -- Version 1"
   ]
  },
  {
   "cell_type": "code",
   "execution_count": 65,
   "metadata": {
    "collapsed": true
   },
   "outputs": [],
   "source": [
    "import time\n",
    "from datetime import datetime as dt\n",
    "\n",
    "\n",
    "# Ask for Followers using Cursor (20 followers per page, with a limit of 15 requests each 15 minutes) ~ 3 Hours\n",
    "class IntesaFollowers(object):\n",
    "    \n",
    "    def __init__(self, auth):\n",
    "        self.auth = auth\n",
    "        self.api = tweepy.API(self.auth)\n",
    "        self.intesa_cursor = tweepy.Cursor(self.api.followers, screen_name='intesasanpaolo')\n",
    "\n",
    "    def get_followers(self):\n",
    "        while True:\n",
    "            try:\n",
    "                yield self.intesa_cursor.pages().next()\n",
    "            except tweepy.RateLimitError:\n",
    "                print \"[LOG %s] Timeout reached.. I'm going to sleep for 15 minutes..\" % dt.now()\n",
    "                time.sleep(15*60)   # dorme per 15 sec * 60 = 15 minuti\n",
    "                print \"[LOG %s] Try Again!\" % dt.now()\n",
    "            except Exception as e:\n",
    "                # Generic Exception\n",
    "                print \"[LOG %s] Generic error \" % dt.now(), e\n",
    "                print \"[LOG %s] Wait 60 seconds...\" % dt.now()\n",
    "                time.sleep(60)"
   ]
  },
  {
   "cell_type": "code",
   "execution_count": 66,
   "metadata": {
    "collapsed": false
   },
   "outputs": [
    {
     "name": "stdout",
     "output_type": "stream",
     "text": [
      "[LOG 2016-11-27 14:06:44.045571] Timeout reached.. I'm going to sleep for 15 minutes..\n"
     ]
    },
    {
     "ename": "KeyboardInterrupt",
     "evalue": "",
     "output_type": "error",
     "traceback": [
      "\u001b[1;31m---------------------------------------------------------------------------\u001b[0m",
      "\u001b[1;31mKeyboardInterrupt\u001b[0m                         Traceback (most recent call last)",
      "\u001b[1;32m<ipython-input-66-43d344cee101>\u001b[0m in \u001b[0;36m<module>\u001b[1;34m()\u001b[0m\n\u001b[0;32m      2\u001b[0m \u001b[0mintesa_followers\u001b[0m \u001b[1;33m=\u001b[0m \u001b[1;33m[\u001b[0m\u001b[1;33m]\u001b[0m\u001b[1;33m\u001b[0m\u001b[0m\n\u001b[0;32m      3\u001b[0m \u001b[0mcounter\u001b[0m \u001b[1;33m=\u001b[0m \u001b[1;36m0\u001b[0m\u001b[1;33m\u001b[0m\u001b[0m\n\u001b[1;32m----> 4\u001b[1;33m \u001b[1;32mfor\u001b[0m \u001b[0mfollower\u001b[0m \u001b[1;32min\u001b[0m \u001b[0mintesa\u001b[0m\u001b[1;33m.\u001b[0m\u001b[0mget_followers\u001b[0m\u001b[1;33m(\u001b[0m\u001b[1;33m)\u001b[0m\u001b[1;33m:\u001b[0m\u001b[1;33m\u001b[0m\u001b[0m\n\u001b[0m\u001b[0;32m      5\u001b[0m     \u001b[1;32mprint\u001b[0m \u001b[1;34m\"Working ..\"\u001b[0m\u001b[1;33m,\u001b[0m \u001b[0mcounter\u001b[0m\u001b[1;33m\u001b[0m\u001b[0m\n\u001b[0;32m      6\u001b[0m     \u001b[0mcounter\u001b[0m \u001b[1;33m=\u001b[0m\u001b[1;33m+\u001b[0m\u001b[1;36m1\u001b[0m\u001b[1;33m\u001b[0m\u001b[0m\n",
      "\u001b[1;32m<ipython-input-65-3950a9270602>\u001b[0m in \u001b[0;36mget_followers\u001b[1;34m(self)\u001b[0m\n\u001b[0;32m     17\u001b[0m             \u001b[1;32mexcept\u001b[0m \u001b[0mtweepy\u001b[0m\u001b[1;33m.\u001b[0m\u001b[0mRateLimitError\u001b[0m\u001b[1;33m:\u001b[0m\u001b[1;33m\u001b[0m\u001b[0m\n\u001b[0;32m     18\u001b[0m                 \u001b[1;32mprint\u001b[0m \u001b[1;34m\"[LOG %s] Timeout reached.. I'm going to sleep for 15 minutes..\"\u001b[0m \u001b[1;33m%\u001b[0m \u001b[0mdt\u001b[0m\u001b[1;33m.\u001b[0m\u001b[0mnow\u001b[0m\u001b[1;33m(\u001b[0m\u001b[1;33m)\u001b[0m\u001b[1;33m\u001b[0m\u001b[0m\n\u001b[1;32m---> 19\u001b[1;33m                 \u001b[0mtime\u001b[0m\u001b[1;33m.\u001b[0m\u001b[0msleep\u001b[0m\u001b[1;33m(\u001b[0m\u001b[1;36m15\u001b[0m\u001b[1;33m*\u001b[0m\u001b[1;36m60\u001b[0m\u001b[1;33m)\u001b[0m   \u001b[1;31m# dorme per 15 sec * 60 = 15 minuti\u001b[0m\u001b[1;33m\u001b[0m\u001b[0m\n\u001b[0m\u001b[0;32m     20\u001b[0m                 \u001b[1;32mprint\u001b[0m \u001b[1;34m\"[LOG %s] Try Again!\"\u001b[0m \u001b[1;33m%\u001b[0m \u001b[0mdt\u001b[0m\u001b[1;33m.\u001b[0m\u001b[0mnow\u001b[0m\u001b[1;33m(\u001b[0m\u001b[1;33m)\u001b[0m\u001b[1;33m\u001b[0m\u001b[0m\n\u001b[0;32m     21\u001b[0m             \u001b[1;32mexcept\u001b[0m \u001b[0mException\u001b[0m \u001b[1;32mas\u001b[0m \u001b[0me\u001b[0m\u001b[1;33m:\u001b[0m\u001b[1;33m\u001b[0m\u001b[0m\n",
      "\u001b[1;31mKeyboardInterrupt\u001b[0m: "
     ]
    }
   ],
   "source": [
    "intesa = IntesaFollowers(auth)\n",
    "intesa_followers = []\n",
    "counter = 0\n",
    "for follower in intesa.get_followers():\n",
    "    print \"Working ..\", counter\n",
    "    counter =+1\n",
    "    intesa_followers.append(follower)"
   ]
  },
  {
   "cell_type": "markdown",
   "metadata": {},
   "source": [
    "# Get INTESA Followers -- Version 2 (Faster)"
   ]
  },
  {
   "cell_type": "code",
   "execution_count": 67,
   "metadata": {
    "collapsed": true
   },
   "outputs": [],
   "source": [
    "# Ask for Followers_ids and ask data for each user -> Much Much Faster!  ~ 1.5 Hours\n",
    "class IntesaFollowers(object):\n",
    "\n",
    "    def __init__(self, auth):\n",
    "        self.auth = auth\n",
    "        self.api = tweepy.API(self.auth)\n",
    "        self.intesa = self.api.get_user('intesasanpaolo')\n",
    "\n",
    "    def get_followers(self):\n",
    "        for follower_id in self.intesa.followers_ids():\n",
    "            try:\n",
    "                yield self.api.get_user(follower_id)\n",
    "            except tweepy.RateLimitError:\n",
    "                print \"[LOG %s] Timeout reached.. I'm going to sleep for 15 minutes..\" % dt.now()\n",
    "                time.sleep(15*60)\n",
    "                print \"[LOG %s] Try Again!\" % dt.now()\n",
    "            except Exception as e:\n",
    "                # Generic Exception\n",
    "                print \"[LOG %s] Generic error \" % dt.now(), e\n",
    "                print \"[LOG %s] Wait 60 seconds...\" % dt.now()\n",
    "                time.sleep(60)"
   ]
  },
  {
   "cell_type": "code",
   "execution_count": 68,
   "metadata": {
    "collapsed": false
   },
   "outputs": [
    {
     "ename": "KeyboardInterrupt",
     "evalue": "",
     "output_type": "error",
     "traceback": [
      "\u001b[1;31m---------------------------------------------------------------------------\u001b[0m",
      "\u001b[1;31mKeyboardInterrupt\u001b[0m                         Traceback (most recent call last)",
      "\u001b[1;32m<ipython-input-68-16aca0b7b333>\u001b[0m in \u001b[0;36m<module>\u001b[1;34m()\u001b[0m\n\u001b[0;32m      1\u001b[0m \u001b[0mintesa\u001b[0m \u001b[1;33m=\u001b[0m \u001b[0mIntesaFollowers\u001b[0m\u001b[1;33m(\u001b[0m\u001b[0mauth\u001b[0m\u001b[1;33m)\u001b[0m\u001b[1;33m\u001b[0m\u001b[0m\n\u001b[0;32m      2\u001b[0m \u001b[0mintesa_followers\u001b[0m \u001b[1;33m=\u001b[0m \u001b[1;33m[\u001b[0m\u001b[1;33m]\u001b[0m\u001b[1;33m\u001b[0m\u001b[0m\n\u001b[1;32m----> 3\u001b[1;33m \u001b[1;32mfor\u001b[0m \u001b[0mfollower\u001b[0m \u001b[1;32min\u001b[0m \u001b[0mintesa\u001b[0m\u001b[1;33m.\u001b[0m\u001b[0mget_followers\u001b[0m\u001b[1;33m(\u001b[0m\u001b[1;33m)\u001b[0m\u001b[1;33m:\u001b[0m\u001b[1;33m\u001b[0m\u001b[0m\n\u001b[0m\u001b[0;32m      4\u001b[0m     \u001b[0mintesa_followers\u001b[0m\u001b[1;33m.\u001b[0m\u001b[0mappend\u001b[0m\u001b[1;33m(\u001b[0m\u001b[0mfollower\u001b[0m\u001b[1;33m)\u001b[0m\u001b[1;33m\u001b[0m\u001b[0m\n",
      "\u001b[1;32m<ipython-input-67-521e74e95c0d>\u001b[0m in \u001b[0;36mget_followers\u001b[1;34m(self)\u001b[0m\n\u001b[0;32m     10\u001b[0m         \u001b[1;32mfor\u001b[0m \u001b[0mfollower_id\u001b[0m \u001b[1;32min\u001b[0m \u001b[0mself\u001b[0m\u001b[1;33m.\u001b[0m\u001b[0mintesa\u001b[0m\u001b[1;33m.\u001b[0m\u001b[0mfollowers_ids\u001b[0m\u001b[1;33m(\u001b[0m\u001b[1;33m)\u001b[0m\u001b[1;33m:\u001b[0m\u001b[1;33m\u001b[0m\u001b[0m\n\u001b[0;32m     11\u001b[0m             \u001b[1;32mtry\u001b[0m\u001b[1;33m:\u001b[0m\u001b[1;33m\u001b[0m\u001b[0m\n\u001b[1;32m---> 12\u001b[1;33m                 \u001b[1;32myield\u001b[0m \u001b[0mself\u001b[0m\u001b[1;33m.\u001b[0m\u001b[0mapi\u001b[0m\u001b[1;33m.\u001b[0m\u001b[0mget_user\u001b[0m\u001b[1;33m(\u001b[0m\u001b[0mfollower_id\u001b[0m\u001b[1;33m)\u001b[0m\u001b[1;33m\u001b[0m\u001b[0m\n\u001b[0m\u001b[0;32m     13\u001b[0m             \u001b[1;32mexcept\u001b[0m \u001b[0mtweepy\u001b[0m\u001b[1;33m.\u001b[0m\u001b[0mRateLimitError\u001b[0m\u001b[1;33m:\u001b[0m\u001b[1;33m\u001b[0m\u001b[0m\n\u001b[0;32m     14\u001b[0m                 \u001b[1;32mprint\u001b[0m \u001b[1;34m\"[LOG %s] Timeout reached.. I'm going to sleep for 15 minutes..\"\u001b[0m \u001b[1;33m%\u001b[0m \u001b[0mdt\u001b[0m\u001b[1;33m.\u001b[0m\u001b[0mnow\u001b[0m\u001b[1;33m(\u001b[0m\u001b[1;33m)\u001b[0m\u001b[1;33m\u001b[0m\u001b[0m\n",
      "\u001b[1;32m/home/bigdive/anaconda2/lib/python2.7/site-packages/tweepy/binder.pyc\u001b[0m in \u001b[0;36m_call\u001b[1;34m(*args, **kwargs)\u001b[0m\n\u001b[0;32m    243\u001b[0m             \u001b[1;32mreturn\u001b[0m \u001b[0mmethod\u001b[0m\u001b[1;33m\u001b[0m\u001b[0m\n\u001b[0;32m    244\u001b[0m         \u001b[1;32melse\u001b[0m\u001b[1;33m:\u001b[0m\u001b[1;33m\u001b[0m\u001b[0m\n\u001b[1;32m--> 245\u001b[1;33m             \u001b[1;32mreturn\u001b[0m \u001b[0mmethod\u001b[0m\u001b[1;33m.\u001b[0m\u001b[0mexecute\u001b[0m\u001b[1;33m(\u001b[0m\u001b[1;33m)\u001b[0m\u001b[1;33m\u001b[0m\u001b[0m\n\u001b[0m\u001b[0;32m    246\u001b[0m \u001b[1;33m\u001b[0m\u001b[0m\n\u001b[0;32m    247\u001b[0m     \u001b[1;31m# Set pagination mode\u001b[0m\u001b[1;33m\u001b[0m\u001b[1;33m\u001b[0m\u001b[0m\n",
      "\u001b[1;32m/home/bigdive/anaconda2/lib/python2.7/site-packages/tweepy/binder.pyc\u001b[0m in \u001b[0;36mexecute\u001b[1;34m(self)\u001b[0m\n\u001b[0;32m    185\u001b[0m                                                 \u001b[0mtimeout\u001b[0m\u001b[1;33m=\u001b[0m\u001b[0mself\u001b[0m\u001b[1;33m.\u001b[0m\u001b[0mapi\u001b[0m\u001b[1;33m.\u001b[0m\u001b[0mtimeout\u001b[0m\u001b[1;33m,\u001b[0m\u001b[1;33m\u001b[0m\u001b[0m\n\u001b[0;32m    186\u001b[0m                                                 \u001b[0mauth\u001b[0m\u001b[1;33m=\u001b[0m\u001b[0mauth\u001b[0m\u001b[1;33m,\u001b[0m\u001b[1;33m\u001b[0m\u001b[0m\n\u001b[1;32m--> 187\u001b[1;33m                                                 proxies=self.api.proxy)\n\u001b[0m\u001b[0;32m    188\u001b[0m                 \u001b[1;32mexcept\u001b[0m \u001b[0mException\u001b[0m \u001b[1;32mas\u001b[0m \u001b[0me\u001b[0m\u001b[1;33m:\u001b[0m\u001b[1;33m\u001b[0m\u001b[0m\n\u001b[0;32m    189\u001b[0m                     \u001b[1;32mraise\u001b[0m \u001b[0mTweepError\u001b[0m\u001b[1;33m(\u001b[0m\u001b[1;34m'Failed to send request: %s'\u001b[0m \u001b[1;33m%\u001b[0m \u001b[0me\u001b[0m\u001b[1;33m)\u001b[0m\u001b[1;33m\u001b[0m\u001b[0m\n",
      "\u001b[1;32m/home/bigdive/anaconda2/lib/python2.7/site-packages/requests/sessions.pyc\u001b[0m in \u001b[0;36mrequest\u001b[1;34m(self, method, url, params, data, headers, cookies, files, auth, timeout, allow_redirects, proxies, hooks, stream, verify, cert, json)\u001b[0m\n\u001b[0;32m    473\u001b[0m         }\n\u001b[0;32m    474\u001b[0m         \u001b[0msend_kwargs\u001b[0m\u001b[1;33m.\u001b[0m\u001b[0mupdate\u001b[0m\u001b[1;33m(\u001b[0m\u001b[0msettings\u001b[0m\u001b[1;33m)\u001b[0m\u001b[1;33m\u001b[0m\u001b[0m\n\u001b[1;32m--> 475\u001b[1;33m         \u001b[0mresp\u001b[0m \u001b[1;33m=\u001b[0m \u001b[0mself\u001b[0m\u001b[1;33m.\u001b[0m\u001b[0msend\u001b[0m\u001b[1;33m(\u001b[0m\u001b[0mprep\u001b[0m\u001b[1;33m,\u001b[0m \u001b[1;33m**\u001b[0m\u001b[0msend_kwargs\u001b[0m\u001b[1;33m)\u001b[0m\u001b[1;33m\u001b[0m\u001b[0m\n\u001b[0m\u001b[0;32m    476\u001b[0m \u001b[1;33m\u001b[0m\u001b[0m\n\u001b[0;32m    477\u001b[0m         \u001b[1;32mreturn\u001b[0m \u001b[0mresp\u001b[0m\u001b[1;33m\u001b[0m\u001b[0m\n",
      "\u001b[1;32m/home/bigdive/anaconda2/lib/python2.7/site-packages/requests/sessions.pyc\u001b[0m in \u001b[0;36msend\u001b[1;34m(self, request, **kwargs)\u001b[0m\n\u001b[0;32m    583\u001b[0m \u001b[1;33m\u001b[0m\u001b[0m\n\u001b[0;32m    584\u001b[0m         \u001b[1;31m# Send the request\u001b[0m\u001b[1;33m\u001b[0m\u001b[1;33m\u001b[0m\u001b[0m\n\u001b[1;32m--> 585\u001b[1;33m         \u001b[0mr\u001b[0m \u001b[1;33m=\u001b[0m \u001b[0madapter\u001b[0m\u001b[1;33m.\u001b[0m\u001b[0msend\u001b[0m\u001b[1;33m(\u001b[0m\u001b[0mrequest\u001b[0m\u001b[1;33m,\u001b[0m \u001b[1;33m**\u001b[0m\u001b[0mkwargs\u001b[0m\u001b[1;33m)\u001b[0m\u001b[1;33m\u001b[0m\u001b[0m\n\u001b[0m\u001b[0;32m    586\u001b[0m \u001b[1;33m\u001b[0m\u001b[0m\n\u001b[0;32m    587\u001b[0m         \u001b[1;31m# Total elapsed time of the request (approximately)\u001b[0m\u001b[1;33m\u001b[0m\u001b[1;33m\u001b[0m\u001b[0m\n",
      "\u001b[1;32m/home/bigdive/anaconda2/lib/python2.7/site-packages/requests/adapters.pyc\u001b[0m in \u001b[0;36msend\u001b[1;34m(self, request, stream, timeout, verify, cert, proxies)\u001b[0m\n\u001b[0;32m    401\u001b[0m                     \u001b[0mdecode_content\u001b[0m\u001b[1;33m=\u001b[0m\u001b[0mFalse\u001b[0m\u001b[1;33m,\u001b[0m\u001b[1;33m\u001b[0m\u001b[0m\n\u001b[0;32m    402\u001b[0m                     \u001b[0mretries\u001b[0m\u001b[1;33m=\u001b[0m\u001b[0mself\u001b[0m\u001b[1;33m.\u001b[0m\u001b[0mmax_retries\u001b[0m\u001b[1;33m,\u001b[0m\u001b[1;33m\u001b[0m\u001b[0m\n\u001b[1;32m--> 403\u001b[1;33m                     \u001b[0mtimeout\u001b[0m\u001b[1;33m=\u001b[0m\u001b[0mtimeout\u001b[0m\u001b[1;33m\u001b[0m\u001b[0m\n\u001b[0m\u001b[0;32m    404\u001b[0m                 )\n\u001b[0;32m    405\u001b[0m \u001b[1;33m\u001b[0m\u001b[0m\n",
      "\u001b[1;32m/home/bigdive/anaconda2/lib/python2.7/site-packages/requests/packages/urllib3/connectionpool.pyc\u001b[0m in \u001b[0;36murlopen\u001b[1;34m(self, method, url, body, headers, retries, redirect, assert_same_host, timeout, pool_timeout, release_conn, chunked, **response_kw)\u001b[0m\n\u001b[0;32m    576\u001b[0m                                                   \u001b[0mtimeout\u001b[0m\u001b[1;33m=\u001b[0m\u001b[0mtimeout_obj\u001b[0m\u001b[1;33m,\u001b[0m\u001b[1;33m\u001b[0m\u001b[0m\n\u001b[0;32m    577\u001b[0m                                                   \u001b[0mbody\u001b[0m\u001b[1;33m=\u001b[0m\u001b[0mbody\u001b[0m\u001b[1;33m,\u001b[0m \u001b[0mheaders\u001b[0m\u001b[1;33m=\u001b[0m\u001b[0mheaders\u001b[0m\u001b[1;33m,\u001b[0m\u001b[1;33m\u001b[0m\u001b[0m\n\u001b[1;32m--> 578\u001b[1;33m                                                   chunked=chunked)\n\u001b[0m\u001b[0;32m    579\u001b[0m \u001b[1;33m\u001b[0m\u001b[0m\n\u001b[0;32m    580\u001b[0m             \u001b[1;31m# If we're going to release the connection in ``finally:``, then\u001b[0m\u001b[1;33m\u001b[0m\u001b[1;33m\u001b[0m\u001b[0m\n",
      "\u001b[1;32m/home/bigdive/anaconda2/lib/python2.7/site-packages/requests/packages/urllib3/connectionpool.pyc\u001b[0m in \u001b[0;36m_make_request\u001b[1;34m(self, conn, method, url, timeout, chunked, **httplib_request_kw)\u001b[0m\n\u001b[0;32m    383\u001b[0m         \u001b[1;32mtry\u001b[0m\u001b[1;33m:\u001b[0m\u001b[1;33m\u001b[0m\u001b[0m\n\u001b[0;32m    384\u001b[0m             \u001b[1;32mtry\u001b[0m\u001b[1;33m:\u001b[0m  \u001b[1;31m# Python 2.7, use buffering of HTTP responses\u001b[0m\u001b[1;33m\u001b[0m\u001b[0m\n\u001b[1;32m--> 385\u001b[1;33m                 \u001b[0mhttplib_response\u001b[0m \u001b[1;33m=\u001b[0m \u001b[0mconn\u001b[0m\u001b[1;33m.\u001b[0m\u001b[0mgetresponse\u001b[0m\u001b[1;33m(\u001b[0m\u001b[0mbuffering\u001b[0m\u001b[1;33m=\u001b[0m\u001b[0mTrue\u001b[0m\u001b[1;33m)\u001b[0m\u001b[1;33m\u001b[0m\u001b[0m\n\u001b[0m\u001b[0;32m    386\u001b[0m             \u001b[1;32mexcept\u001b[0m \u001b[0mTypeError\u001b[0m\u001b[1;33m:\u001b[0m  \u001b[1;31m# Python 2.6 and older\u001b[0m\u001b[1;33m\u001b[0m\u001b[0m\n\u001b[0;32m    387\u001b[0m                 \u001b[0mhttplib_response\u001b[0m \u001b[1;33m=\u001b[0m \u001b[0mconn\u001b[0m\u001b[1;33m.\u001b[0m\u001b[0mgetresponse\u001b[0m\u001b[1;33m(\u001b[0m\u001b[1;33m)\u001b[0m\u001b[1;33m\u001b[0m\u001b[0m\n",
      "\u001b[1;32m/home/bigdive/anaconda2/lib/python2.7/httplib.pyc\u001b[0m in \u001b[0;36mgetresponse\u001b[1;34m(self, buffering)\u001b[0m\n\u001b[0;32m   1134\u001b[0m \u001b[1;33m\u001b[0m\u001b[0m\n\u001b[0;32m   1135\u001b[0m         \u001b[1;32mtry\u001b[0m\u001b[1;33m:\u001b[0m\u001b[1;33m\u001b[0m\u001b[0m\n\u001b[1;32m-> 1136\u001b[1;33m             \u001b[0mresponse\u001b[0m\u001b[1;33m.\u001b[0m\u001b[0mbegin\u001b[0m\u001b[1;33m(\u001b[0m\u001b[1;33m)\u001b[0m\u001b[1;33m\u001b[0m\u001b[0m\n\u001b[0m\u001b[0;32m   1137\u001b[0m             \u001b[1;32massert\u001b[0m \u001b[0mresponse\u001b[0m\u001b[1;33m.\u001b[0m\u001b[0mwill_close\u001b[0m \u001b[1;33m!=\u001b[0m \u001b[0m_UNKNOWN\u001b[0m\u001b[1;33m\u001b[0m\u001b[0m\n\u001b[0;32m   1138\u001b[0m             \u001b[0mself\u001b[0m\u001b[1;33m.\u001b[0m\u001b[0m__state\u001b[0m \u001b[1;33m=\u001b[0m \u001b[0m_CS_IDLE\u001b[0m\u001b[1;33m\u001b[0m\u001b[0m\n",
      "\u001b[1;32m/home/bigdive/anaconda2/lib/python2.7/httplib.pyc\u001b[0m in \u001b[0;36mbegin\u001b[1;34m(self)\u001b[0m\n\u001b[0;32m    451\u001b[0m         \u001b[1;31m# read until we get a non-100 response\u001b[0m\u001b[1;33m\u001b[0m\u001b[1;33m\u001b[0m\u001b[0m\n\u001b[0;32m    452\u001b[0m         \u001b[1;32mwhile\u001b[0m \u001b[0mTrue\u001b[0m\u001b[1;33m:\u001b[0m\u001b[1;33m\u001b[0m\u001b[0m\n\u001b[1;32m--> 453\u001b[1;33m             \u001b[0mversion\u001b[0m\u001b[1;33m,\u001b[0m \u001b[0mstatus\u001b[0m\u001b[1;33m,\u001b[0m \u001b[0mreason\u001b[0m \u001b[1;33m=\u001b[0m \u001b[0mself\u001b[0m\u001b[1;33m.\u001b[0m\u001b[0m_read_status\u001b[0m\u001b[1;33m(\u001b[0m\u001b[1;33m)\u001b[0m\u001b[1;33m\u001b[0m\u001b[0m\n\u001b[0m\u001b[0;32m    454\u001b[0m             \u001b[1;32mif\u001b[0m \u001b[0mstatus\u001b[0m \u001b[1;33m!=\u001b[0m \u001b[0mCONTINUE\u001b[0m\u001b[1;33m:\u001b[0m\u001b[1;33m\u001b[0m\u001b[0m\n\u001b[0;32m    455\u001b[0m                 \u001b[1;32mbreak\u001b[0m\u001b[1;33m\u001b[0m\u001b[0m\n",
      "\u001b[1;32m/home/bigdive/anaconda2/lib/python2.7/httplib.pyc\u001b[0m in \u001b[0;36m_read_status\u001b[1;34m(self)\u001b[0m\n\u001b[0;32m    407\u001b[0m     \u001b[1;32mdef\u001b[0m \u001b[0m_read_status\u001b[0m\u001b[1;33m(\u001b[0m\u001b[0mself\u001b[0m\u001b[1;33m)\u001b[0m\u001b[1;33m:\u001b[0m\u001b[1;33m\u001b[0m\u001b[0m\n\u001b[0;32m    408\u001b[0m         \u001b[1;31m# Initialize with Simple-Response defaults\u001b[0m\u001b[1;33m\u001b[0m\u001b[1;33m\u001b[0m\u001b[0m\n\u001b[1;32m--> 409\u001b[1;33m         \u001b[0mline\u001b[0m \u001b[1;33m=\u001b[0m \u001b[0mself\u001b[0m\u001b[1;33m.\u001b[0m\u001b[0mfp\u001b[0m\u001b[1;33m.\u001b[0m\u001b[0mreadline\u001b[0m\u001b[1;33m(\u001b[0m\u001b[0m_MAXLINE\u001b[0m \u001b[1;33m+\u001b[0m \u001b[1;36m1\u001b[0m\u001b[1;33m)\u001b[0m\u001b[1;33m\u001b[0m\u001b[0m\n\u001b[0m\u001b[0;32m    410\u001b[0m         \u001b[1;32mif\u001b[0m \u001b[0mlen\u001b[0m\u001b[1;33m(\u001b[0m\u001b[0mline\u001b[0m\u001b[1;33m)\u001b[0m \u001b[1;33m>\u001b[0m \u001b[0m_MAXLINE\u001b[0m\u001b[1;33m:\u001b[0m\u001b[1;33m\u001b[0m\u001b[0m\n\u001b[0;32m    411\u001b[0m             \u001b[1;32mraise\u001b[0m \u001b[0mLineTooLong\u001b[0m\u001b[1;33m(\u001b[0m\u001b[1;34m\"header line\"\u001b[0m\u001b[1;33m)\u001b[0m\u001b[1;33m\u001b[0m\u001b[0m\n",
      "\u001b[1;32m/home/bigdive/anaconda2/lib/python2.7/socket.pyc\u001b[0m in \u001b[0;36mreadline\u001b[1;34m(self, size)\u001b[0m\n\u001b[0;32m    478\u001b[0m             \u001b[1;32mwhile\u001b[0m \u001b[0mTrue\u001b[0m\u001b[1;33m:\u001b[0m\u001b[1;33m\u001b[0m\u001b[0m\n\u001b[0;32m    479\u001b[0m                 \u001b[1;32mtry\u001b[0m\u001b[1;33m:\u001b[0m\u001b[1;33m\u001b[0m\u001b[0m\n\u001b[1;32m--> 480\u001b[1;33m                     \u001b[0mdata\u001b[0m \u001b[1;33m=\u001b[0m \u001b[0mself\u001b[0m\u001b[1;33m.\u001b[0m\u001b[0m_sock\u001b[0m\u001b[1;33m.\u001b[0m\u001b[0mrecv\u001b[0m\u001b[1;33m(\u001b[0m\u001b[0mself\u001b[0m\u001b[1;33m.\u001b[0m\u001b[0m_rbufsize\u001b[0m\u001b[1;33m)\u001b[0m\u001b[1;33m\u001b[0m\u001b[0m\n\u001b[0m\u001b[0;32m    481\u001b[0m                 \u001b[1;32mexcept\u001b[0m \u001b[0merror\u001b[0m\u001b[1;33m,\u001b[0m \u001b[0me\u001b[0m\u001b[1;33m:\u001b[0m\u001b[1;33m\u001b[0m\u001b[0m\n\u001b[0;32m    482\u001b[0m                     \u001b[1;32mif\u001b[0m \u001b[0me\u001b[0m\u001b[1;33m.\u001b[0m\u001b[0margs\u001b[0m\u001b[1;33m[\u001b[0m\u001b[1;36m0\u001b[0m\u001b[1;33m]\u001b[0m \u001b[1;33m==\u001b[0m \u001b[0mEINTR\u001b[0m\u001b[1;33m:\u001b[0m\u001b[1;33m\u001b[0m\u001b[0m\n",
      "\u001b[1;32m/home/bigdive/anaconda2/lib/python2.7/ssl.pyc\u001b[0m in \u001b[0;36mrecv\u001b[1;34m(self, buflen, flags)\u001b[0m\n\u001b[0;32m    754\u001b[0m                     \u001b[1;34m\"non-zero flags not allowed in calls to recv() on %s\"\u001b[0m \u001b[1;33m%\u001b[0m\u001b[1;33m\u001b[0m\u001b[0m\n\u001b[0;32m    755\u001b[0m                     self.__class__)\n\u001b[1;32m--> 756\u001b[1;33m             \u001b[1;32mreturn\u001b[0m \u001b[0mself\u001b[0m\u001b[1;33m.\u001b[0m\u001b[0mread\u001b[0m\u001b[1;33m(\u001b[0m\u001b[0mbuflen\u001b[0m\u001b[1;33m)\u001b[0m\u001b[1;33m\u001b[0m\u001b[0m\n\u001b[0m\u001b[0;32m    757\u001b[0m         \u001b[1;32melse\u001b[0m\u001b[1;33m:\u001b[0m\u001b[1;33m\u001b[0m\u001b[0m\n\u001b[0;32m    758\u001b[0m             \u001b[1;32mreturn\u001b[0m \u001b[0mself\u001b[0m\u001b[1;33m.\u001b[0m\u001b[0m_sock\u001b[0m\u001b[1;33m.\u001b[0m\u001b[0mrecv\u001b[0m\u001b[1;33m(\u001b[0m\u001b[0mbuflen\u001b[0m\u001b[1;33m,\u001b[0m \u001b[0mflags\u001b[0m\u001b[1;33m)\u001b[0m\u001b[1;33m\u001b[0m\u001b[0m\n",
      "\u001b[1;32m/home/bigdive/anaconda2/lib/python2.7/ssl.pyc\u001b[0m in \u001b[0;36mread\u001b[1;34m(self, len, buffer)\u001b[0m\n\u001b[0;32m    641\u001b[0m                 \u001b[0mv\u001b[0m \u001b[1;33m=\u001b[0m \u001b[0mself\u001b[0m\u001b[1;33m.\u001b[0m\u001b[0m_sslobj\u001b[0m\u001b[1;33m.\u001b[0m\u001b[0mread\u001b[0m\u001b[1;33m(\u001b[0m\u001b[0mlen\u001b[0m\u001b[1;33m,\u001b[0m \u001b[0mbuffer\u001b[0m\u001b[1;33m)\u001b[0m\u001b[1;33m\u001b[0m\u001b[0m\n\u001b[0;32m    642\u001b[0m             \u001b[1;32melse\u001b[0m\u001b[1;33m:\u001b[0m\u001b[1;33m\u001b[0m\u001b[0m\n\u001b[1;32m--> 643\u001b[1;33m                 \u001b[0mv\u001b[0m \u001b[1;33m=\u001b[0m \u001b[0mself\u001b[0m\u001b[1;33m.\u001b[0m\u001b[0m_sslobj\u001b[0m\u001b[1;33m.\u001b[0m\u001b[0mread\u001b[0m\u001b[1;33m(\u001b[0m\u001b[0mlen\u001b[0m\u001b[1;33m)\u001b[0m\u001b[1;33m\u001b[0m\u001b[0m\n\u001b[0m\u001b[0;32m    644\u001b[0m             \u001b[1;32mreturn\u001b[0m \u001b[0mv\u001b[0m\u001b[1;33m\u001b[0m\u001b[0m\n\u001b[0;32m    645\u001b[0m         \u001b[1;32mexcept\u001b[0m \u001b[0mSSLError\u001b[0m \u001b[1;32mas\u001b[0m \u001b[0mx\u001b[0m\u001b[1;33m:\u001b[0m\u001b[1;33m\u001b[0m\u001b[0m\n",
      "\u001b[1;31mKeyboardInterrupt\u001b[0m: "
     ]
    }
   ],
   "source": [
    "intesa = IntesaFollowers(auth)\n",
    "intesa_followers = []\n",
    "for follower in intesa.get_followers():\n",
    "    intesa_followers.append(follower)"
   ]
  },
  {
   "cell_type": "markdown",
   "metadata": {},
   "source": [
    "# Get INTESA tweets"
   ]
  },
  {
   "cell_type": "code",
   "execution_count": 69,
   "metadata": {
    "collapsed": false
   },
   "outputs": [],
   "source": [
    "class IntesaTweets(object):\n",
    "    \n",
    "    def __init__(self, auth):\n",
    "        self.auth = auth\n",
    "        self.api = tweepy.API(self.auth)\n",
    "        self.intesa_cursor = tweepy.Cursor(self.api.user_timeline, screen_name='intesasanpaolo')\n",
    "\n",
    "    def get_tweets(self):\n",
    "        while True:\n",
    "            try:\n",
    "                yield self.intesa_cursor.pages().next()\n",
    "            except tweepy.RateLimitError:\n",
    "                print \"[LOG %s] Timeout reached.. I'm going to sleep for 15 minutes..\" % dt.now()\n",
    "                time.sleep(15*60)\n",
    "                print \"[LOG %s] Try Again!\" % dt.now()\n",
    "            except Exception as e:\n",
    "                # Generic Exception\n",
    "                print \"[LOG %s] Generic error \" % dt.now(), e\n",
    "                print \"[LOG %s] Wait 60 seconds...\" % dt.now()\n",
    "                time.sleep(60)\n"
   ]
  },
  {
   "cell_type": "code",
   "execution_count": 70,
   "metadata": {
    "collapsed": false
   },
   "outputs": [
    {
     "name": "stdout",
     "output_type": "stream",
     "text": [
      "{ u'contributors': None,\n",
      "  u'coordinates': None,\n",
      "  u'created_at': u'Sat Nov 26 17:11:37 +0000 2016',\n",
      "  u'entities': { u'hashtags': [],\n",
      "                 u'symbols': [],\n",
      "                 u'urls': [ { u'display_url': u'glistatigenerali.com/banche_innovaz\\u2026',\n",
      "                              u'expanded_url': u'http://www.glistatigenerali.com/banche_innovazione/intesa-sanpaolo-la-digital-transformation-e-di-casa-nelle-filiali/',\n",
      "                              u'indices': [96, 119],\n",
      "                              u'url': u'https://t.co/LNANxtdV6W'}],\n",
      "                 u'user_mentions': [ { u'id': 2582226552,\n",
      "                                       u'id_str': u'2582226552',\n",
      "                                       u'indices': [3, 18],\n",
      "                                       u'name': u'Gli Stati Generali',\n",
      "                                       u'screen_name': u'stati_generali'},\n",
      "                                     { u'id': 393894382,\n",
      "                                       u'id_str': u'393894382',\n",
      "                                       u'indices': [120, 135],\n",
      "                                       u'name': u'Intesa Sanpaolo',\n",
      "                                       u'screen_name': u'intesasanpaolo'}]},\n",
      "  u'favorite_count': 0,\n",
      "  u'favorited': False,\n",
      "  u'geo': None,\n",
      "  u'id': 802560454111404032,\n",
      "  u'id_str': u'802560454111404032',\n",
      "  u'in_reply_to_screen_name': None,\n",
      "  u'in_reply_to_status_id': None,\n",
      "  u'in_reply_to_status_id_str': None,\n",
      "  u'in_reply_to_user_id': None,\n",
      "  u'in_reply_to_user_id_str': None,\n",
      "  u'is_quote_status': False,\n",
      "  u'lang': u'it',\n",
      "  u'place': None,\n",
      "  u'possibly_sensitive': False,\n",
      "  u'retweet_count': 2,\n",
      "  u'retweeted': False,\n",
      "  u'retweeted_status': { u'contributors': None,\n",
      "                         u'coordinates': None,\n",
      "                         u'created_at': u'Sat Nov 26 11:06:08 +0000 2016',\n",
      "                         u'entities': { u'hashtags': [],\n",
      "                                        u'symbols': [],\n",
      "                                        u'urls': [ { u'display_url': u'glistatigenerali.com/banche_innovaz\\u2026',\n",
      "                                                     u'expanded_url': u'http://www.glistatigenerali.com/banche_innovazione/intesa-sanpaolo-la-digital-transformation-e-di-casa-nelle-filiali/',\n",
      "                                                     u'indices': [76, 99],\n",
      "                                                     u'url': u'https://t.co/LNANxtdV6W'}],\n",
      "                                        u'user_mentions': [ { u'id': 393894382,\n",
      "                                                              u'id_str': u'393894382',\n",
      "                                                              u'indices': [ 100,\n",
      "                                                                            115],\n",
      "                                                              u'name': u'Intesa Sanpaolo',\n",
      "                                                              u'screen_name': u'intesasanpaolo'}]},\n",
      "                         u'favorite_count': 0,\n",
      "                         u'favorited': False,\n",
      "                         u'geo': None,\n",
      "                         u'id': 802468476459843584,\n",
      "                         u'id_str': u'802468476459843584',\n",
      "                         u'in_reply_to_screen_name': None,\n",
      "                         u'in_reply_to_status_id': None,\n",
      "                         u'in_reply_to_status_id_str': None,\n",
      "                         u'in_reply_to_user_id': None,\n",
      "                         u'in_reply_to_user_id_str': None,\n",
      "                         u'is_quote_status': False,\n",
      "                         u'lang': u'it',\n",
      "                         u'place': None,\n",
      "                         u'possibly_sensitive': False,\n",
      "                         u'retweet_count': 2,\n",
      "                         u'retweeted': False,\n",
      "                         u'source': u'<a href=\"http://twitter.com\" rel=\"nofollow\">Twitter Web Client</a>',\n",
      "                         u'text': u'La digital transformation delle Pmi \\xe8 di casa nelle filiali Intesa Sanpaolo https://t.co/LNANxtdV6W @intesasanpaolo',\n",
      "                         u'truncated': False,\n",
      "                         u'user': { u'contributors_enabled': False,\n",
      "                                    u'created_at': u'Sun Jun 22 13:34:35 +0000 2014',\n",
      "                                    u'default_profile': True,\n",
      "                                    u'default_profile_image': False,\n",
      "                                    u'description': u\"Giornale online e piattaforma d'informazione partecipata. Inchieste e approfondimenti su politica, economia, cultura e societ\\xe0\",\n",
      "                                    u'entities': { u'description': { u'urls': [ ]},\n",
      "                                                   u'url': { u'urls': [ { u'display_url': u'glistatigenerali.com',\n",
      "                                                                          u'expanded_url': u'http://www.glistatigenerali.com',\n",
      "                                                                          u'indices': [ 0,\n",
      "                                                                                        22],\n",
      "                                                                          u'url': u'http://t.co/WAJbh4YokZ'}]}},\n",
      "                                    u'favourites_count': 296,\n",
      "                                    u'follow_request_sent': False,\n",
      "                                    u'followers_count': 8336,\n",
      "                                    u'following': False,\n",
      "                                    u'friends_count': 836,\n",
      "                                    u'geo_enabled': False,\n",
      "                                    u'has_extended_profile': False,\n",
      "                                    u'id': 2582226552,\n",
      "                                    u'id_str': u'2582226552',\n",
      "                                    u'is_translation_enabled': False,\n",
      "                                    u'is_translator': False,\n",
      "                                    u'lang': u'it',\n",
      "                                    u'listed_count': 259,\n",
      "                                    u'location': u'',\n",
      "                                    u'name': u'Gli Stati Generali',\n",
      "                                    u'notifications': False,\n",
      "                                    u'profile_background_color': u'C0DEED',\n",
      "                                    u'profile_background_image_url': u'http://abs.twimg.com/images/themes/theme1/bg.png',\n",
      "                                    u'profile_background_image_url_https': u'https://abs.twimg.com/images/themes/theme1/bg.png',\n",
      "                                    u'profile_background_tile': False,\n",
      "                                    u'profile_banner_url': u'https://pbs.twimg.com/profile_banners/2582226552/1410797428',\n",
      "                                    u'profile_image_url': u'http://pbs.twimg.com/profile_images/511547487002185729/mRDJi90O_normal.jpeg',\n",
      "                                    u'profile_image_url_https': u'https://pbs.twimg.com/profile_images/511547487002185729/mRDJi90O_normal.jpeg',\n",
      "                                    u'profile_link_color': u'1DA1F2',\n",
      "                                    u'profile_sidebar_border_color': u'C0DEED',\n",
      "                                    u'profile_sidebar_fill_color': u'DDEEF6',\n",
      "                                    u'profile_text_color': u'333333',\n",
      "                                    u'profile_use_background_image': True,\n",
      "                                    u'protected': False,\n",
      "                                    u'screen_name': u'stati_generali',\n",
      "                                    u'statuses_count': 11910,\n",
      "                                    u'time_zone': u'Rome',\n",
      "                                    u'translator_type': u'none',\n",
      "                                    u'url': u'http://t.co/WAJbh4YokZ',\n",
      "                                    u'utc_offset': 3600,\n",
      "                                    u'verified': False}},\n",
      "  u'source': u'<a href=\"http://www.twitter.com\" rel=\"nofollow\">Twitter for Windows Phone</a>',\n",
      "  u'text': u'RT @stati_generali: La digital transformation delle Pmi \\xe8 di casa nelle filiali Intesa Sanpaolo https://t.co/LNANxtdV6W @intesasanpaolo',\n",
      "  u'truncated': False,\n",
      "  u'user': { u'contributors_enabled': False,\n",
      "             u'created_at': u'Wed Oct 19 07:46:49 +0000 2011',\n",
      "             u'default_profile': False,\n",
      "             u'default_profile_image': False,\n",
      "             u'description': u'Notizie, eventi e informazioni in tempo reale sul mondo Intesa Sanpaolo. Per assistenza su prodotti e servizi seguici su @IntesaSP_Help e @IntesaSPgiovani.',\n",
      "             u'entities': { u'description': { u'urls': []},\n",
      "                            u'url': { u'urls': [ { u'display_url': u'intesasanpaolo.com',\n",
      "                                                   u'expanded_url': u'http://www.intesasanpaolo.com',\n",
      "                                                   u'indices': [0, 22],\n",
      "                                                   u'url': u'http://t.co/lmrSnJtN6Y'}]}},\n",
      "             u'favourites_count': 1132,\n",
      "             u'follow_request_sent': False,\n",
      "             u'followers_count': 4364,\n",
      "             u'following': False,\n",
      "             u'friends_count': 182,\n",
      "             u'geo_enabled': False,\n",
      "             u'has_extended_profile': False,\n",
      "             u'id': 393894382,\n",
      "             u'id_str': u'393894382',\n",
      "             u'is_translation_enabled': True,\n",
      "             u'is_translator': False,\n",
      "             u'lang': u'it',\n",
      "             u'listed_count': 133,\n",
      "             u'location': u'',\n",
      "             u'name': u'Intesa Sanpaolo',\n",
      "             u'notifications': False,\n",
      "             u'profile_background_color': u'DBDBDB',\n",
      "             u'profile_background_image_url': u'http://abs.twimg.com/images/themes/theme1/bg.png',\n",
      "             u'profile_background_image_url_https': u'https://abs.twimg.com/images/themes/theme1/bg.png',\n",
      "             u'profile_background_tile': False,\n",
      "             u'profile_banner_url': u'https://pbs.twimg.com/profile_banners/393894382/1473949795',\n",
      "             u'profile_image_url': u'http://pbs.twimg.com/profile_images/597680334474485760/Z6OMNC0B_normal.jpg',\n",
      "             u'profile_image_url_https': u'https://pbs.twimg.com/profile_images/597680334474485760/Z6OMNC0B_normal.jpg',\n",
      "             u'profile_link_color': u'929292',\n",
      "             u'profile_sidebar_border_color': u'FFFFFF',\n",
      "             u'profile_sidebar_fill_color': u'DDEEF6',\n",
      "             u'profile_text_color': u'333333',\n",
      "             u'profile_use_background_image': False,\n",
      "             u'protected': False,\n",
      "             u'screen_name': u'intesasanpaolo',\n",
      "             u'statuses_count': 2464,\n",
      "             u'time_zone': u'Rome',\n",
      "             u'translator_type': u'none',\n",
      "             u'url': u'http://t.co/lmrSnJtN6Y',\n",
      "             u'utc_offset': 3600,\n",
      "             u'verified': False}}\n"
     ]
    }
   ],
   "source": [
    "intesa_timeline = IntesaTweets(auth)\n",
    "intesa_tweets = []\n",
    "for tweet in intesa_timeline.get_tweets():\n",
    "    pp.pprint(tweet[0]._json)\n",
    "    break"
   ]
  },
  {
   "cell_type": "markdown",
   "metadata": {
    "collapsed": true
   },
   "source": [
    "# GET Intesa Favorites"
   ]
  },
  {
   "cell_type": "markdown",
   "metadata": {},
   "source": [
    "# GET Intesa Friends"
   ]
  },
  {
   "cell_type": "markdown",
   "metadata": {},
   "source": [
    "# GET Intesa Data"
   ]
  },
  {
   "cell_type": "code",
   "execution_count": null,
   "metadata": {
    "collapsed": true
   },
   "outputs": [],
   "source": []
  }
 ],
 "metadata": {
  "kernelspec": {
   "display_name": "Python [Root]",
   "language": "python",
   "name": "Python [Root]"
  },
  "language_info": {
   "codemirror_mode": {
    "name": "ipython",
    "version": 2
   },
   "file_extension": ".py",
   "mimetype": "text/x-python",
   "name": "python",
   "nbconvert_exporter": "python",
   "pygments_lexer": "ipython2",
   "version": "2.7.12"
  }
 },
 "nbformat": 4,
 "nbformat_minor": 0
}

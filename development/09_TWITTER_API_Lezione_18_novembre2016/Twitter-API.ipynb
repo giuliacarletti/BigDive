{
 "cells": [
  {
   "cell_type": "markdown",
   "metadata": {},
   "source": [
    "# Network Science\n",
    "\n",
    "\n",
    "**GOAL OF THE SESSION**: Fetch data from Twitter APIs\n",
    "\n",
    "**DATA SOURCE**: Twitter \n",
    "\n",
    "**DEVELOPMENT**: How to create a Python script to query Twitter APIs\n",
    "\n",
    "**REQUIREMENTS**: \n",
    "\n",
    "    Twitter Developer Account\n",
    "    tweepy \n",
    "    Python Pretty Print\n",
    "\n",
    "### Pretty Print\n",
    "\n",
    "Using **pprint** we can format in a nice way the print output. Here an example:\n",
    "\n",
    "    import pprint\n",
    "    pp = pprint.PrettyPrinter(indent=2)\n",
    "    pp.pprint(OBJECT-TO-PRINT)\n"
   ]
  },
  {
   "cell_type": "code",
   "execution_count": 1,
   "metadata": {
    "collapsed": false
   },
   "outputs": [
    {
     "name": "stdout",
     "output_type": "stream",
     "text": [
      "NON PRETTY\n",
      "{'list': [1, 2, 3], 'Surname': 'Comu', 'name': 'Alex', 'address': {'street': 'Via Maria Vittoria', 'number': 1}} \n",
      "\n",
      "PRETTY:\n",
      "{ 'Surname': 'Comu',\n",
      "  'address': { 'number': 1, 'street': 'Via Maria Vittoria'},\n",
      "  'list': [1, 2, 3],\n",
      "  'name': 'Alex'}\n"
     ]
    }
   ],
   "source": [
    "import pprint\n",
    "#print help(pprint.PrettyPrinter)\n",
    "pp = pprint.PrettyPrinter(indent=2)  # 2 livelli di inventazione (quando va a capo)\n",
    "names = {\"name\":\"Alex\", \"Surname\":\"Comu\", \"list\":[1,2,3],\"address\":{\"street\":\"Via Maria Vittoria\", \"number\":1}}\n",
    "print \"NON PRETTY\\n\", names, \"\\n\"\n",
    "print \"PRETTY:\"\n",
    "pp.pprint(names)"
   ]
  },
  {
   "cell_type": "markdown",
   "metadata": {},
   "source": [
    "# Demo with Special Effects\n",
    "\n",
    "Inside the folder **demo** you'll find a very cool demo, a super interaction between:\n",
    "\n",
    "* Twitter API\n",
    "* Python Web Server\n",
    "* D3Js visualization\n",
    "\n",
    "Read the file **Readme.md** to have more information about the example.\n",
    "\n",
    "The goal of the demo is to create a Connector between my PC and Twitter. After the creation of this connector I want ro retrieve all the tweets that contains a specific **hashtags**.\n",
    "\n",
    "At the end I'll represent the tweets in a dynamic data visualization with D3Js."
   ]
  },
  {
   "cell_type": "markdown",
   "metadata": {},
   "source": [
    "# Twitter Developer Account\n",
    "\n",
    "Sign in @ [https://dev.twitter.com/](https://dev.twitter.com/) website and create an account if you need.\n",
    "\n",
    "After the creation of the account we need to create a new Twitter APP to fetch the APIs, so go to [https://apps.twitter.com/](https://apps.twitter.com/) and create a new one.\n",
    "\n",
    "To allow our APP to use the Twitter APIs we need to create an Access Token, so click on **Keys and Access Tokens** and create a new one.\n",
    "\n",
    "And now we're ready to play with Twitter:)\n",
    "\n",
    "## Twitter Documentation\n",
    "\n",
    "[HERE](https://dev.twitter.com/overview/api) we can find a complete overview on Twitter API.\n",
    "\n",
    "# Tweepy Installation\n",
    "\n",
    "We need to install the package **tweepy**:\n",
    "\n",
    "    pip install tweepy\n",
    "    \n",
    "We can find the documentation of the Library:\n",
    "\n",
    "    http://tweepy.readthedocs.io/\n",
    "    \n",
    "## OAuth\n",
    "\n",
    "First of all we need to save our credentials in variables. After that we can login on twitter and start use the APIs.\n"
   ]
  },
  {
   "cell_type": "code",
   "execution_count": 5,
   "metadata": {
    "collapsed": true
   },
   "outputs": [],
   "source": [
    "import tweepy"
   ]
  },
  {
   "cell_type": "code",
   "execution_count": 7,
   "metadata": {
    "collapsed": true
   },
   "outputs": [],
   "source": [
    "import tweepy\n",
    "import pprint\n",
    "pp = pprint.PrettyPrinter(indent=2)\n",
    "\n",
    "CONSUMER_KEY = \"hw3uYRyokN0xZyoHOD4DDUuN8\"\n",
    "SECRET_KEY = \"pbZQoD0km4shy7bQVBMP27SFJUZl9rzEaQXGVWiMHhUZM5NbRh\"\n",
    "ACCESS_TOKEN = \"799250231548407808-Cwnhd7ZuKG5p9r28GL4imYt7Sao7yAF\"\n",
    "SECRET_ACCESS_TOKEN = \"WNOmwN4gdzuQp7oFl94if9tBShr8hCdbBBnUzkpETQY1S\""
   ]
  },
  {
   "cell_type": "code",
   "execution_count": 8,
   "metadata": {
    "collapsed": true
   },
   "outputs": [],
   "source": [
    "# Twitter Authentication\n",
    "auth = tweepy.OAuthHandler(CONSUMER_KEY, SECRET_KEY)"
   ]
  },
  {
   "cell_type": "code",
   "execution_count": 11,
   "metadata": {
    "collapsed": false
   },
   "outputs": [],
   "source": [
    "auth.set_access_token(ACCESS_TOKEN, SECRET_ACCESS_TOKEN)"
   ]
  },
  {
   "cell_type": "code",
   "execution_count": 12,
   "metadata": {
    "collapsed": false
   },
   "outputs": [
    {
     "name": "stdout",
     "output_type": "stream",
     "text": [
      "<tweepy.api.API object at 0x7f991b4d9290>\n"
     ]
    }
   ],
   "source": [
    "# Create the connection to the api\n",
    "api = tweepy.API(auth)\n",
    "print api\n"
   ]
  },
  {
   "cell_type": "code",
   "execution_count": null,
   "metadata": {
    "collapsed": false
   },
   "outputs": [],
   "source": [
    "help(api)"
   ]
  },
  {
   "cell_type": "code",
   "execution_count": 15,
   "metadata": {
    "collapsed": false,
    "scrolled": false
   },
   "outputs": [
    {
     "data": {
      "text/plain": [
       "{u'rate_limit_context': {u'access_token': u'799250231548407808-Cwnhd7ZuKG5p9r28GL4imYt7Sao7yAF'},\n",
       " u'resources': {u'account': {u'/account/login_verification_enrollment': {u'limit': 15,\n",
       "    u'remaining': 15,\n",
       "    u'reset': 1479479895},\n",
       "   u'/account/settings': {u'limit': 15,\n",
       "    u'remaining': 15,\n",
       "    u'reset': 1479479895},\n",
       "   u'/account/update_profile': {u'limit': 15,\n",
       "    u'remaining': 15,\n",
       "    u'reset': 1479479895},\n",
       "   u'/account/verify_credentials': {u'limit': 75,\n",
       "    u'remaining': 75,\n",
       "    u'reset': 1479479895}},\n",
       "  u'application': {u'/application/rate_limit_status': {u'limit': 180,\n",
       "    u'remaining': 178,\n",
       "    u'reset': 1479479892}},\n",
       "  u'auth': {u'/auth/csrf_token': {u'limit': 15,\n",
       "    u'remaining': 15,\n",
       "    u'reset': 1479479895}},\n",
       "  u'blocks': {u'/blocks/ids': {u'limit': 15,\n",
       "    u'remaining': 15,\n",
       "    u'reset': 1479479895},\n",
       "   u'/blocks/list': {u'limit': 15, u'remaining': 15, u'reset': 1479479895}},\n",
       "  u'business_experience': {u'/business_experience/dashboard_features': {u'limit': 450,\n",
       "    u'remaining': 450,\n",
       "    u'reset': 1479479895},\n",
       "   u'/business_experience/dashboard_settings/destroy': {u'limit': 450,\n",
       "    u'remaining': 450,\n",
       "    u'reset': 1479479895},\n",
       "   u'/business_experience/dashboard_settings/show': {u'limit': 450,\n",
       "    u'remaining': 450,\n",
       "    u'reset': 1479479895},\n",
       "   u'/business_experience/dashboard_settings/update': {u'limit': 450,\n",
       "    u'remaining': 450,\n",
       "    u'reset': 1479479895},\n",
       "   u'/business_experience/keywords': {u'limit': 450,\n",
       "    u'remaining': 450,\n",
       "    u'reset': 1479479895}},\n",
       "  u'collections': {u'/collections/entries': {u'limit': 1000,\n",
       "    u'remaining': 1000,\n",
       "    u'reset': 1479479895},\n",
       "   u'/collections/list': {u'limit': 1000,\n",
       "    u'remaining': 1000,\n",
       "    u'reset': 1479479895},\n",
       "   u'/collections/show': {u'limit': 1000,\n",
       "    u'remaining': 1000,\n",
       "    u'reset': 1479479895}},\n",
       "  u'contacts': {u'/contacts/addressbook': {u'limit': 300,\n",
       "    u'remaining': 300,\n",
       "    u'reset': 1479479895},\n",
       "   u'/contacts/delete/status': {u'limit': 300,\n",
       "    u'remaining': 300,\n",
       "    u'reset': 1479479895},\n",
       "   u'/contacts/uploaded_by': {u'limit': 300,\n",
       "    u'remaining': 300,\n",
       "    u'reset': 1479479895},\n",
       "   u'/contacts/users': {u'limit': 300,\n",
       "    u'remaining': 300,\n",
       "    u'reset': 1479479895},\n",
       "   u'/contacts/users_and_uploaded_by': {u'limit': 300,\n",
       "    u'remaining': 300,\n",
       "    u'reset': 1479479895}},\n",
       "  u'custom_profiles': {u'/custom_profiles/show': {u'limit': 180,\n",
       "    u'remaining': 180,\n",
       "    u'reset': 1479479895}},\n",
       "  u'device': {u'/device/token': {u'limit': 15,\n",
       "    u'remaining': 15,\n",
       "    u'reset': 1479479895}},\n",
       "  u'direct_messages': {u'/direct_messages': {u'limit': 300,\n",
       "    u'remaining': 300,\n",
       "    u'reset': 1479479895},\n",
       "   u'/direct_messages/sent': {u'limit': 300,\n",
       "    u'remaining': 300,\n",
       "    u'reset': 1479479895},\n",
       "   u'/direct_messages/sent_and_received': {u'limit': 300,\n",
       "    u'remaining': 300,\n",
       "    u'reset': 1479479895},\n",
       "   u'/direct_messages/show': {u'limit': 300,\n",
       "    u'remaining': 300,\n",
       "    u'reset': 1479479895}},\n",
       "  u'drafts': {u'/drafts/statuses/create': {u'limit': 450,\n",
       "    u'remaining': 450,\n",
       "    u'reset': 1479479895},\n",
       "   u'/drafts/statuses/destroy': {u'limit': 450,\n",
       "    u'remaining': 450,\n",
       "    u'reset': 1479479895},\n",
       "   u'/drafts/statuses/ids': {u'limit': 450,\n",
       "    u'remaining': 450,\n",
       "    u'reset': 1479479895},\n",
       "   u'/drafts/statuses/list': {u'limit': 450,\n",
       "    u'remaining': 450,\n",
       "    u'reset': 1479479895},\n",
       "   u'/drafts/statuses/show': {u'limit': 450,\n",
       "    u'remaining': 450,\n",
       "    u'reset': 1479479895},\n",
       "   u'/drafts/statuses/update': {u'limit': 450,\n",
       "    u'remaining': 450,\n",
       "    u'reset': 1479479895}},\n",
       "  u'favorites': {u'/favorites/list': {u'limit': 75,\n",
       "    u'remaining': 75,\n",
       "    u'reset': 1479479895}},\n",
       "  u'feedback': {u'/feedback/events': {u'limit': 1000,\n",
       "    u'remaining': 1000,\n",
       "    u'reset': 1479479895},\n",
       "   u'/feedback/show/:id': {u'limit': 180,\n",
       "    u'remaining': 180,\n",
       "    u'reset': 1479479895}},\n",
       "  u'followers': {u'/followers/ids': {u'limit': 15,\n",
       "    u'remaining': 15,\n",
       "    u'reset': 1479479895},\n",
       "   u'/followers/list': {u'limit': 15, u'remaining': 15, u'reset': 1479479895}},\n",
       "  u'friends': {u'/friends/following/ids': {u'limit': 15,\n",
       "    u'remaining': 15,\n",
       "    u'reset': 1479479895},\n",
       "   u'/friends/following/list': {u'limit': 15,\n",
       "    u'remaining': 15,\n",
       "    u'reset': 1479479895},\n",
       "   u'/friends/ids': {u'limit': 15, u'remaining': 15, u'reset': 1479479895},\n",
       "   u'/friends/list': {u'limit': 15, u'remaining': 15, u'reset': 1479479895}},\n",
       "  u'friendships': {u'/friendships/incoming': {u'limit': 15,\n",
       "    u'remaining': 15,\n",
       "    u'reset': 1479479895},\n",
       "   u'/friendships/list': {u'limit': 200,\n",
       "    u'remaining': 200,\n",
       "    u'reset': 1479479895},\n",
       "   u'/friendships/lookup': {u'limit': 15,\n",
       "    u'remaining': 15,\n",
       "    u'reset': 1479479895},\n",
       "   u'/friendships/no_retweets/ids': {u'limit': 15,\n",
       "    u'remaining': 15,\n",
       "    u'reset': 1479479895},\n",
       "   u'/friendships/outgoing': {u'limit': 15,\n",
       "    u'remaining': 15,\n",
       "    u'reset': 1479479895},\n",
       "   u'/friendships/show': {u'limit': 180,\n",
       "    u'remaining': 180,\n",
       "    u'reset': 1479479895}},\n",
       "  u'geo': {u'/geo/id/:place_id': {u'limit': 75,\n",
       "    u'remaining': 75,\n",
       "    u'reset': 1479479895},\n",
       "   u'/geo/reverse_geocode': {u'limit': 15,\n",
       "    u'remaining': 15,\n",
       "    u'reset': 1479479895},\n",
       "   u'/geo/search': {u'limit': 15, u'remaining': 15, u'reset': 1479479895},\n",
       "   u'/geo/similar_places': {u'limit': 15,\n",
       "    u'remaining': 15,\n",
       "    u'reset': 1479479895}},\n",
       "  u'help': {u'/help/configuration': {u'limit': 15,\n",
       "    u'remaining': 15,\n",
       "    u'reset': 1479479895},\n",
       "   u'/help/languages': {u'limit': 15, u'remaining': 15, u'reset': 1479479895},\n",
       "   u'/help/privacy': {u'limit': 15, u'remaining': 15, u'reset': 1479479895},\n",
       "   u'/help/settings': {u'limit': 15, u'remaining': 15, u'reset': 1479479895},\n",
       "   u'/help/tos': {u'limit': 15, u'remaining': 15, u'reset': 1479479895}},\n",
       "  u'lists': {u'/lists/list': {u'limit': 15,\n",
       "    u'remaining': 15,\n",
       "    u'reset': 1479479895},\n",
       "   u'/lists/members': {u'limit': 900, u'remaining': 900, u'reset': 1479479895},\n",
       "   u'/lists/members/show': {u'limit': 15,\n",
       "    u'remaining': 15,\n",
       "    u'reset': 1479479895},\n",
       "   u'/lists/memberships': {u'limit': 75,\n",
       "    u'remaining': 75,\n",
       "    u'reset': 1479479895},\n",
       "   u'/lists/ownerships': {u'limit': 15,\n",
       "    u'remaining': 15,\n",
       "    u'reset': 1479479895},\n",
       "   u'/lists/show': {u'limit': 75, u'remaining': 75, u'reset': 1479479895},\n",
       "   u'/lists/statuses': {u'limit': 900,\n",
       "    u'remaining': 900,\n",
       "    u'reset': 1479479895},\n",
       "   u'/lists/subscribers': {u'limit': 180,\n",
       "    u'remaining': 180,\n",
       "    u'reset': 1479479895},\n",
       "   u'/lists/subscribers/show': {u'limit': 15,\n",
       "    u'remaining': 15,\n",
       "    u'reset': 1479479895},\n",
       "   u'/lists/subscriptions': {u'limit': 15,\n",
       "    u'remaining': 15,\n",
       "    u'reset': 1479479895}},\n",
       "  u'live_pipeline': {u'/live_pipeline/events': {u'limit': 180,\n",
       "    u'remaining': 180,\n",
       "    u'reset': 1479479895}},\n",
       "  u'live_video_stream': {u'/live_video_stream/status/:id': {u'limit': 1000,\n",
       "    u'remaining': 1000,\n",
       "    u'reset': 1479479895}},\n",
       "  u'media': {u'/media/upload': {u'limit': 500,\n",
       "    u'remaining': 500,\n",
       "    u'reset': 1479479895}},\n",
       "  u'moments': {u'/moments/permissions': {u'limit': 300,\n",
       "    u'remaining': 300,\n",
       "    u'reset': 1479479895}},\n",
       "  u'mutes': {u'/mutes/users/ids': {u'limit': 15,\n",
       "    u'remaining': 15,\n",
       "    u'reset': 1479479895},\n",
       "   u'/mutes/users/list': {u'limit': 15,\n",
       "    u'remaining': 15,\n",
       "    u'reset': 1479479895}},\n",
       "  u'saved_searches': {u'/saved_searches/destroy/:id': {u'limit': 15,\n",
       "    u'remaining': 15,\n",
       "    u'reset': 1479479895},\n",
       "   u'/saved_searches/list': {u'limit': 15,\n",
       "    u'remaining': 15,\n",
       "    u'reset': 1479479895},\n",
       "   u'/saved_searches/show/:id': {u'limit': 15,\n",
       "    u'remaining': 15,\n",
       "    u'reset': 1479479895}},\n",
       "  u'search': {u'/search/tweets': {u'limit': 180,\n",
       "    u'remaining': 180,\n",
       "    u'reset': 1479479895}},\n",
       "  u'statuses': {u'/statuses/friends': {u'limit': 15,\n",
       "    u'remaining': 15,\n",
       "    u'reset': 1479479895},\n",
       "   u'/statuses/home_timeline': {u'limit': 15,\n",
       "    u'remaining': 15,\n",
       "    u'reset': 1479479895},\n",
       "   u'/statuses/lookup': {u'limit': 900,\n",
       "    u'remaining': 900,\n",
       "    u'reset': 1479479895},\n",
       "   u'/statuses/mentions_timeline': {u'limit': 75,\n",
       "    u'remaining': 75,\n",
       "    u'reset': 1479479895},\n",
       "   u'/statuses/oembed': {u'limit': 180,\n",
       "    u'remaining': 180,\n",
       "    u'reset': 1479479895},\n",
       "   u'/statuses/retweeters/ids': {u'limit': 75,\n",
       "    u'remaining': 75,\n",
       "    u'reset': 1479479895},\n",
       "   u'/statuses/retweets/:id': {u'limit': 75,\n",
       "    u'remaining': 75,\n",
       "    u'reset': 1479479895},\n",
       "   u'/statuses/retweets_of_me': {u'limit': 75,\n",
       "    u'remaining': 75,\n",
       "    u'reset': 1479479895},\n",
       "   u'/statuses/show/:id': {u'limit': 900,\n",
       "    u'remaining': 900,\n",
       "    u'reset': 1479479895},\n",
       "   u'/statuses/user_timeline': {u'limit': 900,\n",
       "    u'remaining': 900,\n",
       "    u'reset': 1479479895}},\n",
       "  u'trends': {u'/trends/available': {u'limit': 75,\n",
       "    u'remaining': 75,\n",
       "    u'reset': 1479479895},\n",
       "   u'/trends/closest': {u'limit': 75, u'remaining': 75, u'reset': 1479479895},\n",
       "   u'/trends/place': {u'limit': 75, u'remaining': 75, u'reset': 1479479895}},\n",
       "  u'tweet_prompts': {u'/tweet_prompts/report_interaction': {u'limit': 180,\n",
       "    u'remaining': 180,\n",
       "    u'reset': 1479479895},\n",
       "   u'/tweet_prompts/show': {u'limit': 180,\n",
       "    u'remaining': 180,\n",
       "    u'reset': 1479479895}},\n",
       "  u'users': {u'/users/derived_info': {u'limit': 15,\n",
       "    u'remaining': 15,\n",
       "    u'reset': 1479479895},\n",
       "   u'/users/lookup': {u'limit': 900, u'remaining': 900, u'reset': 1479479895},\n",
       "   u'/users/profile_banner': {u'limit': 180,\n",
       "    u'remaining': 180,\n",
       "    u'reset': 1479479895},\n",
       "   u'/users/report_spam': {u'limit': 15,\n",
       "    u'remaining': 15,\n",
       "    u'reset': 1479479895},\n",
       "   u'/users/search': {u'limit': 900, u'remaining': 900, u'reset': 1479479895},\n",
       "   u'/users/show/:id': {u'limit': 900,\n",
       "    u'remaining': 900,\n",
       "    u'reset': 1479479895},\n",
       "   u'/users/suggestions': {u'limit': 15,\n",
       "    u'remaining': 15,\n",
       "    u'reset': 1479479895},\n",
       "   u'/users/suggestions/:slug': {u'limit': 15,\n",
       "    u'remaining': 15,\n",
       "    u'reset': 1479479895},\n",
       "   u'/users/suggestions/:slug/members': {u'limit': 15,\n",
       "    u'remaining': 15,\n",
       "    u'reset': 1479479895}}}}"
      ]
     },
     "execution_count": 15,
     "metadata": {},
     "output_type": "execute_result"
    }
   ],
   "source": [
    "api.rate_limit_status()"
   ]
  },
  {
   "cell_type": "markdown",
   "metadata": {},
   "source": [
    "## Tweet Stream"
   ]
  },
  {
   "cell_type": "code",
   "execution_count": 20,
   "metadata": {
    "collapsed": false,
    "scrolled": true
   },
   "outputs": [],
   "source": [
    "# download your home timeline tweets\n",
    "my_tweets = api.home_timeline()"
   ]
  },
  {
   "cell_type": "code",
   "execution_count": 19,
   "metadata": {
    "collapsed": false
   },
   "outputs": [
    {
     "data": {
      "text/plain": [
       "0"
      ]
     },
     "execution_count": 19,
     "metadata": {},
     "output_type": "execute_result"
    }
   ],
   "source": [
    "len(my_tweets)  # perchè appena creato, non seguo nessuno"
   ]
  },
  {
   "cell_type": "code",
   "execution_count": 25,
   "metadata": {
    "collapsed": false
   },
   "outputs": [
    {
     "ename": "IndexError",
     "evalue": "list index out of range",
     "output_type": "error",
     "traceback": [
      "\u001b[1;31m---------------------------------------------------------------------------\u001b[0m",
      "\u001b[1;31mIndexError\u001b[0m                                Traceback (most recent call last)",
      "\u001b[1;32m<ipython-input-25-701ff2856510>\u001b[0m in \u001b[0;36m<module>\u001b[1;34m()\u001b[0m\n\u001b[1;32m----> 1\u001b[1;33m \u001b[0mmy_tweets\u001b[0m\u001b[1;33m[\u001b[0m\u001b[1;36m0\u001b[0m\u001b[1;33m]\u001b[0m\u001b[1;33m.\u001b[0m\u001b[0m_json\u001b[0m\u001b[1;33m\u001b[0m\u001b[0m\n\u001b[0m",
      "\u001b[1;31mIndexError\u001b[0m: list index out of range"
     ]
    }
   ],
   "source": [
    "my_tweets[0]._json   # vuoto perchè non ho nulla"
   ]
  },
  {
   "cell_type": "code",
   "execution_count": 21,
   "metadata": {
    "collapsed": false
   },
   "outputs": [
    {
     "name": "stdout",
     "output_type": "stream",
     "text": [
      "Tweets LEN:  0 \n",
      "\n"
     ]
    }
   ],
   "source": [
    "print \"Tweets LEN: \", len(my_tweets), \"\\n\""
   ]
  },
  {
   "cell_type": "code",
   "execution_count": 26,
   "metadata": {
    "collapsed": false
   },
   "outputs": [
    {
     "ename": "IndexError",
     "evalue": "list index out of range",
     "output_type": "error",
     "traceback": [
      "\u001b[1;31m---------------------------------------------------------------------------\u001b[0m",
      "\u001b[1;31mIndexError\u001b[0m                                Traceback (most recent call last)",
      "\u001b[1;32m<ipython-input-26-b2b439bf4e72>\u001b[0m in \u001b[0;36m<module>\u001b[1;34m()\u001b[0m\n\u001b[1;32m----> 1\u001b[1;33m \u001b[0mmy_tweets\u001b[0m\u001b[1;33m[\u001b[0m\u001b[1;36m0\u001b[0m\u001b[1;33m]\u001b[0m\u001b[1;33m.\u001b[0m\u001b[0muser\u001b[0m\u001b[1;33m\u001b[0m\u001b[0m\n\u001b[0m",
      "\u001b[1;31mIndexError\u001b[0m: list index out of range"
     ]
    }
   ],
   "source": [
    "my_tweets[0].user"
   ]
  },
  {
   "cell_type": "code",
   "execution_count": 27,
   "metadata": {
    "collapsed": false
   },
   "outputs": [
    {
     "ename": "IndexError",
     "evalue": "list index out of range",
     "output_type": "error",
     "traceback": [
      "\u001b[1;31m---------------------------------------------------------------------------\u001b[0m",
      "\u001b[1;31mIndexError\u001b[0m                                Traceback (most recent call last)",
      "\u001b[1;32m<ipython-input-27-38eb9bb72319>\u001b[0m in \u001b[0;36m<module>\u001b[1;34m()\u001b[0m\n\u001b[1;32m----> 1\u001b[1;33m \u001b[0mmy_tweets\u001b[0m\u001b[1;33m[\u001b[0m\u001b[1;36m0\u001b[0m\u001b[1;33m]\u001b[0m\u001b[1;33m.\u001b[0m\u001b[0mauthor\u001b[0m\u001b[1;33m\u001b[0m\u001b[0m\n\u001b[0m",
      "\u001b[1;31mIndexError\u001b[0m: list index out of range"
     ]
    }
   ],
   "source": [
    "my_tweets[0].author"
   ]
  },
  {
   "cell_type": "code",
   "execution_count": null,
   "metadata": {
    "collapsed": true
   },
   "outputs": [],
   "source": [
    "my_tweets[0].user.screen.names"
   ]
  },
  {
   "cell_type": "code",
   "execution_count": 28,
   "metadata": {
    "collapsed": true
   },
   "outputs": [],
   "source": [
    "my_followers = api.followers()\n",
    "my_followers_ids = api.followers_ids()"
   ]
  },
  {
   "cell_type": "code",
   "execution_count": 29,
   "metadata": {
    "collapsed": false
   },
   "outputs": [
    {
     "name": "stdout",
     "output_type": "stream",
     "text": [
      "Followers: \t0\n",
      "Followers ids: \t0\n"
     ]
    }
   ],
   "source": [
    "print \"Followers: \\t\", len(my_followers)\n",
    "print \"Followers ids: \\t\", len(my_followers_ids)  # id dei follower"
   ]
  },
  {
   "cell_type": "code",
   "execution_count": 31,
   "metadata": {
    "collapsed": false
   },
   "outputs": [
    {
     "ename": "IndexError",
     "evalue": "list index out of range",
     "output_type": "error",
     "traceback": [
      "\u001b[1;31m---------------------------------------------------------------------------\u001b[0m",
      "\u001b[1;31mIndexError\u001b[0m                                Traceback (most recent call last)",
      "\u001b[1;32m<ipython-input-31-fad6bb0f2f5b>\u001b[0m in \u001b[0;36m<module>\u001b[1;34m()\u001b[0m\n\u001b[1;32m----> 1\u001b[1;33m \u001b[0mmy_followers\u001b[0m\u001b[1;33m[\u001b[0m\u001b[1;36m0\u001b[0m\u001b[1;33m]\u001b[0m\u001b[1;33m\u001b[0m\u001b[0m\n\u001b[0m",
      "\u001b[1;31mIndexError\u001b[0m: list index out of range"
     ]
    }
   ],
   "source": [
    "my_followers[0]   # mi dà 20, di più non ne tira fuori"
   ]
  },
  {
   "cell_type": "code",
   "execution_count": 30,
   "metadata": {
    "collapsed": false
   },
   "outputs": [
    {
     "ename": "IndexError",
     "evalue": "list index out of range",
     "output_type": "error",
     "traceback": [
      "\u001b[1;31m---------------------------------------------------------------------------\u001b[0m",
      "\u001b[1;31mIndexError\u001b[0m                                Traceback (most recent call last)",
      "\u001b[1;32m<ipython-input-30-dd309751103c>\u001b[0m in \u001b[0;36m<module>\u001b[1;34m()\u001b[0m\n\u001b[1;32m----> 1\u001b[1;33m \u001b[0mmy_followers_ids\u001b[0m\u001b[1;33m[\u001b[0m\u001b[1;36m0\u001b[0m\u001b[1;33m]\u001b[0m\u001b[1;33m\u001b[0m\u001b[0m\n\u001b[0m",
      "\u001b[1;31mIndexError\u001b[0m: list index out of range"
     ]
    }
   ],
   "source": [
    "my_followers_ids[0]"
   ]
  },
  {
   "cell_type": "code",
   "execution_count": null,
   "metadata": {
    "collapsed": false
   },
   "outputs": [],
   "source": [
    "# Dir Command on Tweet\n",
    "print \"TWEET DIR: \", dir(my_tweets[0]), \"\\n\"\n",
    "print help(my_tweets[0])"
   ]
  },
  {
   "cell_type": "code",
   "execution_count": null,
   "metadata": {
    "collapsed": false
   },
   "outputs": [],
   "source": [
    "# USER of first Tweet\n",
    "print my_tweets[0].user"
   ]
  },
  {
   "cell_type": "code",
   "execution_count": null,
   "metadata": {
    "collapsed": false
   },
   "outputs": [],
   "source": [
    "# First 3 tweets\n",
    "for index, tw in enumerate(my_tweets):\n",
    "    if index < 3:\n",
    "        print tw.text, \"\\n\""
   ]
  },
  {
   "cell_type": "markdown",
   "metadata": {},
   "source": [
    "## My Followers"
   ]
  },
  {
   "cell_type": "code",
   "execution_count": null,
   "metadata": {
    "collapsed": false
   },
   "outputs": [],
   "source": [
    "## fetch follewer lists\n",
    "my_followers = api.followers()\n",
    "print \"My_Followers LEN: \", len(my_followers)"
   ]
  },
  {
   "cell_type": "code",
   "execution_count": null,
   "metadata": {
    "collapsed": false
   },
   "outputs": [],
   "source": [
    "my_followers[0]"
   ]
  },
  {
   "cell_type": "code",
   "execution_count": null,
   "metadata": {
    "collapsed": false
   },
   "outputs": [],
   "source": [
    "print dir(my_followers[0])"
   ]
  },
  {
   "cell_type": "code",
   "execution_count": null,
   "metadata": {
    "collapsed": false
   },
   "outputs": [],
   "source": [
    "print help(my_followers[0])"
   ]
  },
  {
   "cell_type": "code",
   "execution_count": null,
   "metadata": {
    "collapsed": false
   },
   "outputs": [],
   "source": [
    "pp.pprint(my_followers[0]._json)"
   ]
  },
  {
   "cell_type": "markdown",
   "metadata": {},
   "source": [
    "# Get External User"
   ]
  },
  {
   "cell_type": "code",
   "execution_count": 32,
   "metadata": {
    "collapsed": false
   },
   "outputs": [
    {
     "data": {
      "text/plain": [
       "User(follow_request_sent=False, has_extended_profile=False, profile_use_background_image=False, _json={u'follow_request_sent': False, u'has_extended_profile': False, u'profile_use_background_image': False, u'profile_text_color': u'333333', u'default_profile_image': False, u'id': 393894382, u'profile_background_image_url_https': u'https://abs.twimg.com/images/themes/theme1/bg.png', u'verified': False, u'translator_type': u'none', u'profile_location': None, u'profile_image_url_https': u'https://pbs.twimg.com/profile_images/597680334474485760/Z6OMNC0B_normal.jpg', u'profile_sidebar_fill_color': u'DDEEF6', u'entities': {u'url': {u'urls': [{u'url': u'http://t.co/lmrSnJtN6Y', u'indices': [0, 22], u'expanded_url': u'http://www.intesasanpaolo.com', u'display_url': u'intesasanpaolo.com'}]}, u'description': {u'urls': []}}, u'followers_count': 4240, u'profile_sidebar_border_color': u'FFFFFF', u'id_str': u'393894382', u'profile_background_color': u'DBDBDB', u'listed_count': 134, u'status': {u'contributors': None, u'truncated': False, u'text': u\"RT @MdR_Torino: Al Campus dei #fuoriclassedellascuola  inizia il #Softskills Lab dell'Ufficio #formazione manageriale @intesasanpaolo. http\\u2026\", u'is_quote_status': False, u'in_reply_to_status_id': None, u'id': 799604807774310401, u'favorite_count': 0, u'source': u'<a href=\"http://twitter.com/download/android\" rel=\"nofollow\">Twitter for Android</a>', u'retweeted': False, u'coordinates': None, u'entities': {u'symbols': [], u'user_mentions': [{u'id': 1131143048, u'indices': [3, 14], u'id_str': u'1131143048', u'screen_name': u'MdR_Torino', u'name': u'Museo del Risparmio'}, {u'id': 393894382, u'indices': [118, 133], u'id_str': u'393894382', u'screen_name': u'intesasanpaolo', u'name': u'Intesa Sanpaolo'}], u'hashtags': [{u'indices': [30, 53], u'text': u'fuoriclassedellascuola'}, {u'indices': [65, 76], u'text': u'Softskills'}, {u'indices': [94, 105], u'text': u'formazione'}], u'urls': []}, u'in_reply_to_screen_name': None, u'in_reply_to_user_id': None, u'retweet_count': 2, u'id_str': u'799604807774310401', u'favorited': False, u'retweeted_status': {u'contributors': None, u'truncated': True, u'text': u\"Al Campus dei #fuoriclassedellascuola  inizia il #Softskills Lab dell'Ufficio #formazione manageriale\\u2026 https://t.co/FBbYyjxjeD\", u'is_quote_status': False, u'in_reply_to_status_id': None, u'id': 799604442790240256, u'favorite_count': 4, u'source': u'<a href=\"http://twitter.com/download/android\" rel=\"nofollow\">Twitter for Android</a>', u'retweeted': False, u'coordinates': None, u'entities': {u'symbols': [], u'user_mentions': [], u'hashtags': [{u'indices': [14, 37], u'text': u'fuoriclassedellascuola'}, {u'indices': [49, 60], u'text': u'Softskills'}, {u'indices': [78, 89], u'text': u'formazione'}], u'urls': [{u'url': u'https://t.co/FBbYyjxjeD', u'indices': [103, 126], u'expanded_url': u'https://twitter.com/i/web/status/799604442790240256', u'display_url': u'twitter.com/i/web/status/7\\u2026'}]}, u'in_reply_to_screen_name': None, u'in_reply_to_user_id': None, u'retweet_count': 2, u'id_str': u'799604442790240256', u'favorited': False, u'geo': None, u'in_reply_to_user_id_str': None, u'possibly_sensitive': False, u'lang': u'it', u'created_at': u'Fri Nov 18 13:25:29 +0000 2016', u'in_reply_to_status_id_str': None, u'place': None}, u'geo': None, u'in_reply_to_user_id_str': None, u'lang': u'it', u'created_at': u'Fri Nov 18 13:26:56 +0000 2016', u'in_reply_to_status_id_str': None, u'place': None}, u'is_translation_enabled': True, u'utc_offset': 3600, u'statuses_count': 2424, u'description': u'Notizie, eventi e informazioni in tempo reale sul mondo Intesa Sanpaolo. Per assistenza su prodotti e servizi seguici su @IntesaSP_Help e @IntesaSPgiovani.', u'friends_count': 179, u'location': u'', u'profile_link_color': u'929292', u'profile_image_url': u'http://pbs.twimg.com/profile_images/597680334474485760/Z6OMNC0B_normal.jpg', u'following': False, u'geo_enabled': False, u'profile_banner_url': u'https://pbs.twimg.com/profile_banners/393894382/1473949795', u'profile_background_image_url': u'http://abs.twimg.com/images/themes/theme1/bg.png', u'name': u'Intesa Sanpaolo', u'lang': u'it', u'profile_background_tile': False, u'favourites_count': 1101, u'screen_name': u'intesasanpaolo', u'notifications': False, u'url': u'http://t.co/lmrSnJtN6Y', u'created_at': u'Wed Oct 19 07:46:49 +0000 2011', u'contributors_enabled': False, u'time_zone': u'Rome', u'protected': False, u'default_profile': False, u'is_translator': False}, time_zone=u'Rome', id=393894382, description=u'Notizie, eventi e informazioni in tempo reale sul mondo Intesa Sanpaolo. Per assistenza su prodotti e servizi seguici su @IntesaSP_Help e @IntesaSPgiovani.', _api=<tweepy.api.API object at 0x7f991b4d9290>, verified=False, profile_location=None, profile_image_url_https=u'https://pbs.twimg.com/profile_images/597680334474485760/Z6OMNC0B_normal.jpg', profile_sidebar_fill_color=u'DDEEF6', is_translator=False, geo_enabled=False, entities={u'url': {u'urls': [{u'url': u'http://t.co/lmrSnJtN6Y', u'indices': [0, 22], u'expanded_url': u'http://www.intesasanpaolo.com', u'display_url': u'intesasanpaolo.com'}]}, u'description': {u'urls': []}}, followers_count=4240, protected=False, id_str=u'393894382', default_profile_image=False, listed_count=134, status=Status(contributors=None, truncated=False, text=u\"RT @MdR_Torino: Al Campus dei #fuoriclassedellascuola  inizia il #Softskills Lab dell'Ufficio #formazione manageriale @intesasanpaolo. http\\u2026\", is_quote_status=False, in_reply_to_status_id=None, id=799604807774310401, favorite_count=0, _api=<tweepy.api.API object at 0x7f991b4d9290>, source=u'Twitter for Android', _json={u'contributors': None, u'truncated': False, u'text': u\"RT @MdR_Torino: Al Campus dei #fuoriclassedellascuola  inizia il #Softskills Lab dell'Ufficio #formazione manageriale @intesasanpaolo. http\\u2026\", u'is_quote_status': False, u'in_reply_to_status_id': None, u'id': 799604807774310401, u'favorite_count': 0, u'source': u'<a href=\"http://twitter.com/download/android\" rel=\"nofollow\">Twitter for Android</a>', u'retweeted': False, u'coordinates': None, u'entities': {u'symbols': [], u'user_mentions': [{u'id': 1131143048, u'indices': [3, 14], u'id_str': u'1131143048', u'screen_name': u'MdR_Torino', u'name': u'Museo del Risparmio'}, {u'id': 393894382, u'indices': [118, 133], u'id_str': u'393894382', u'screen_name': u'intesasanpaolo', u'name': u'Intesa Sanpaolo'}], u'hashtags': [{u'indices': [30, 53], u'text': u'fuoriclassedellascuola'}, {u'indices': [65, 76], u'text': u'Softskills'}, {u'indices': [94, 105], u'text': u'formazione'}], u'urls': []}, u'in_reply_to_screen_name': None, u'in_reply_to_user_id': None, u'retweet_count': 2, u'id_str': u'799604807774310401', u'favorited': False, u'retweeted_status': {u'contributors': None, u'truncated': True, u'text': u\"Al Campus dei #fuoriclassedellascuola  inizia il #Softskills Lab dell'Ufficio #formazione manageriale\\u2026 https://t.co/FBbYyjxjeD\", u'is_quote_status': False, u'in_reply_to_status_id': None, u'id': 799604442790240256, u'favorite_count': 4, u'source': u'<a href=\"http://twitter.com/download/android\" rel=\"nofollow\">Twitter for Android</a>', u'retweeted': False, u'coordinates': None, u'entities': {u'symbols': [], u'user_mentions': [], u'hashtags': [{u'indices': [14, 37], u'text': u'fuoriclassedellascuola'}, {u'indices': [49, 60], u'text': u'Softskills'}, {u'indices': [78, 89], u'text': u'formazione'}], u'urls': [{u'url': u'https://t.co/FBbYyjxjeD', u'indices': [103, 126], u'expanded_url': u'https://twitter.com/i/web/status/799604442790240256', u'display_url': u'twitter.com/i/web/status/7\\u2026'}]}, u'in_reply_to_screen_name': None, u'in_reply_to_user_id': None, u'retweet_count': 2, u'id_str': u'799604442790240256', u'favorited': False, u'geo': None, u'in_reply_to_user_id_str': None, u'possibly_sensitive': False, u'lang': u'it', u'created_at': u'Fri Nov 18 13:25:29 +0000 2016', u'in_reply_to_status_id_str': None, u'place': None}, u'geo': None, u'in_reply_to_user_id_str': None, u'lang': u'it', u'created_at': u'Fri Nov 18 13:26:56 +0000 2016', u'in_reply_to_status_id_str': None, u'place': None}, coordinates=None, entities={u'symbols': [], u'user_mentions': [{u'id': 1131143048, u'indices': [3, 14], u'id_str': u'1131143048', u'screen_name': u'MdR_Torino', u'name': u'Museo del Risparmio'}, {u'id': 393894382, u'indices': [118, 133], u'id_str': u'393894382', u'screen_name': u'intesasanpaolo', u'name': u'Intesa Sanpaolo'}], u'hashtags': [{u'indices': [30, 53], u'text': u'fuoriclassedellascuola'}, {u'indices': [65, 76], u'text': u'Softskills'}, {u'indices': [94, 105], u'text': u'formazione'}], u'urls': []}, in_reply_to_screen_name=None, id_str=u'799604807774310401', retweet_count=2, in_reply_to_user_id=None, favorited=False, retweeted_status=Status(contributors=None, truncated=True, text=u\"Al Campus dei #fuoriclassedellascuola  inizia il #Softskills Lab dell'Ufficio #formazione manageriale\\u2026 https://t.co/FBbYyjxjeD\", is_quote_status=False, in_reply_to_status_id=None, id=799604442790240256, favorite_count=4, _api=<tweepy.api.API object at 0x7f991b4d9290>, source=u'Twitter for Android', _json={u'contributors': None, u'truncated': True, u'text': u\"Al Campus dei #fuoriclassedellascuola  inizia il #Softskills Lab dell'Ufficio #formazione manageriale\\u2026 https://t.co/FBbYyjxjeD\", u'is_quote_status': False, u'in_reply_to_status_id': None, u'id': 799604442790240256, u'favorite_count': 4, u'source': u'<a href=\"http://twitter.com/download/android\" rel=\"nofollow\">Twitter for Android</a>', u'retweeted': False, u'coordinates': None, u'entities': {u'symbols': [], u'user_mentions': [], u'hashtags': [{u'indices': [14, 37], u'text': u'fuoriclassedellascuola'}, {u'indices': [49, 60], u'text': u'Softskills'}, {u'indices': [78, 89], u'text': u'formazione'}], u'urls': [{u'url': u'https://t.co/FBbYyjxjeD', u'indices': [103, 126], u'expanded_url': u'https://twitter.com/i/web/status/799604442790240256', u'display_url': u'twitter.com/i/web/status/7\\u2026'}]}, u'in_reply_to_screen_name': None, u'in_reply_to_user_id': None, u'retweet_count': 2, u'id_str': u'799604442790240256', u'favorited': False, u'geo': None, u'in_reply_to_user_id_str': None, u'possibly_sensitive': False, u'lang': u'it', u'created_at': u'Fri Nov 18 13:25:29 +0000 2016', u'in_reply_to_status_id_str': None, u'place': None}, coordinates=None, entities={u'symbols': [], u'user_mentions': [], u'hashtags': [{u'indices': [14, 37], u'text': u'fuoriclassedellascuola'}, {u'indices': [49, 60], u'text': u'Softskills'}, {u'indices': [78, 89], u'text': u'formazione'}], u'urls': [{u'url': u'https://t.co/FBbYyjxjeD', u'indices': [103, 126], u'expanded_url': u'https://twitter.com/i/web/status/799604442790240256', u'display_url': u'twitter.com/i/web/status/7\\u2026'}]}, in_reply_to_screen_name=None, id_str=u'799604442790240256', retweet_count=2, in_reply_to_user_id=None, favorited=False, source_url=u'http://twitter.com/download/android', geo=None, in_reply_to_user_id_str=None, possibly_sensitive=False, lang=u'it', created_at=datetime.datetime(2016, 11, 18, 13, 25, 29), in_reply_to_status_id_str=None, place=None, retweeted=False), source_url=u'http://twitter.com/download/android', geo=None, in_reply_to_user_id_str=None, lang=u'it', created_at=datetime.datetime(2016, 11, 18, 13, 26, 56), in_reply_to_status_id_str=None, place=None, retweeted=False), lang=u'it', utc_offset=3600, statuses_count=2424, profile_background_color=u'DBDBDB', friends_count=179, profile_link_color=u'929292', profile_image_url=u'http://pbs.twimg.com/profile_images/597680334474485760/Z6OMNC0B_normal.jpg', notifications=False, default_profile=False, favourites_count=1101, profile_background_image_url_https=u'https://abs.twimg.com/images/themes/theme1/bg.png', profile_banner_url=u'https://pbs.twimg.com/profile_banners/393894382/1473949795', profile_background_image_url=u'http://abs.twimg.com/images/themes/theme1/bg.png', screen_name=u'intesasanpaolo', is_translation_enabled=True, profile_background_tile=False, profile_text_color=u'333333', name=u'Intesa Sanpaolo', url=u'http://t.co/lmrSnJtN6Y', created_at=datetime.datetime(2011, 10, 19, 7, 46, 49), contributors_enabled=False, location=u'', profile_sidebar_border_color=u'FFFFFF', translator_type=u'none', following=False)"
      ]
     },
     "execution_count": 32,
     "metadata": {},
     "output_type": "execute_result"
    }
   ],
   "source": [
    "intesa = api.get_user(\"intesasanpaolo\")\n",
    "intesa"
   ]
  },
  {
   "cell_type": "code",
   "execution_count": 171,
   "metadata": {
    "collapsed": false
   },
   "outputs": [
    {
     "name": "stdout",
     "output_type": "stream",
     "text": [
      "Help on User in module tweepy.models object:\n",
      "\n",
      "class User(Model)\n",
      " |  Method resolution order:\n",
      " |      User\n",
      " |      Model\n",
      " |      __builtin__.object\n",
      " |  \n",
      " |  Methods defined here:\n",
      " |  \n",
      " |  follow(self)\n",
      " |  \n",
      " |  followers(self, **kargs)\n",
      " |  \n",
      " |  followers_ids(self, *args, **kargs)\n",
      " |  \n",
      " |  friends(self, **kargs)\n",
      " |  \n",
      " |  lists(self, *args, **kargs)\n",
      " |  \n",
      " |  lists_memberships(self, *args, **kargs)\n",
      " |  \n",
      " |  lists_subscriptions(self, *args, **kargs)\n",
      " |  \n",
      " |  timeline(self, **kargs)\n",
      " |  \n",
      " |  unfollow(self)\n",
      " |  \n",
      " |  ----------------------------------------------------------------------\n",
      " |  Class methods defined here:\n",
      " |  \n",
      " |  parse(cls, api, json) from __builtin__.type\n",
      " |  \n",
      " |  parse_list(cls, api, json_list) from __builtin__.type\n",
      " |  \n",
      " |  ----------------------------------------------------------------------\n",
      " |  Methods inherited from Model:\n",
      " |  \n",
      " |  __getstate__(self)\n",
      " |  \n",
      " |  __init__(self, api=None)\n",
      " |  \n",
      " |  __repr__(self)\n",
      " |  \n",
      " |  ----------------------------------------------------------------------\n",
      " |  Data descriptors inherited from Model:\n",
      " |  \n",
      " |  __dict__\n",
      " |      dictionary for instance variables (if defined)\n",
      " |  \n",
      " |  __weakref__\n",
      " |      list of weak references to the object (if defined)\n",
      "\n"
     ]
    }
   ],
   "source": [
    "help(intesa)"
   ]
  },
  {
   "cell_type": "code",
   "execution_count": 33,
   "metadata": {
    "collapsed": false
   },
   "outputs": [
    {
     "name": "stdout",
     "output_type": "stream",
     "text": [
      "4240\n"
     ]
    }
   ],
   "source": [
    "print intesa.followers_count"
   ]
  },
  {
   "cell_type": "code",
   "execution_count": 34,
   "metadata": {
    "collapsed": false
   },
   "outputs": [
    {
     "data": {
      "text/plain": [
       "179"
      ]
     },
     "execution_count": 34,
     "metadata": {},
     "output_type": "execute_result"
    }
   ],
   "source": [
    "intesa.friends_count"
   ]
  },
  {
   "cell_type": "code",
   "execution_count": 22,
   "metadata": {
    "collapsed": false
   },
   "outputs": [
    {
     "name": "stdout",
     "output_type": "stream",
     "text": [
      "177\n"
     ]
    }
   ],
   "source": [
    "friends = api.friends_ids('intesasanpaolo')\n",
    "print len(friends)"
   ]
  },
  {
   "cell_type": "code",
   "execution_count": 24,
   "metadata": {
    "collapsed": false
   },
   "outputs": [
    {
     "name": "stdout",
     "output_type": "stream",
     "text": [
      "20\n"
     ]
    }
   ],
   "source": [
    "likes = api.favorites('intesasanpaolo')\n",
    "print len(likes)"
   ]
  },
  {
   "cell_type": "code",
   "execution_count": 26,
   "metadata": {
    "collapsed": false
   },
   "outputs": [
    {
     "data": {
      "text/plain": [
       "Status(contributors=None, truncated=False, text=u'Nasce oggi PowerU Digital!  Grazie a @intesasanpaolo e @DeloitteItalia per credere con noi nel progetto @HumanAgeInsIT @ManpowerGroupIT', is_quote_status=False, in_reply_to_status_id=None, id=798107981736906753, favorite_count=4, _api=<tweepy.api.API object at 0x102cdf190>, author=User(follow_request_sent=False, has_extended_profile=False, profile_use_background_image=False, _json={u'follow_request_sent': False, u'has_extended_profile': False, u'profile_use_background_image': False, u'default_profile_image': False, u'id': 1166565846, u'profile_background_image_url_https': u'https://abs.twimg.com/images/themes/theme1/bg.png', u'verified': False, u'translator_type': u'none', u'profile_text_color': u'333333', u'profile_image_url_https': u'https://pbs.twimg.com/profile_images/761270969730301952/X8-H-Adj_normal.jpg', u'profile_sidebar_fill_color': u'DDEEF6', u'entities': {u'url': {u'urls': [{u'url': u'https://t.co/HIf5VJBnyO', u'indices': [0, 23], u'expanded_url': u'http://it.linkedin.com/in/caputodaniela/', u'display_url': u'it.linkedin.com/in/caputodanie\\u2026'}]}, u'description': {u'urls': []}}, u'followers_count': 890, u'profile_sidebar_border_color': u'FFFFFF', u'id_str': u'1166565846', u'profile_background_color': u'E6C909', u'listed_count': 61, u'is_translation_enabled': False, u'utc_offset': 3600, u'statuses_count': 2542, u'description': u'Communication and #Digital Strategy Manager at @ManpowerGroupIT #RecruitmentMarketing #PersonalBranding Strategist - Make a difference, start the Change!', u'friends_count': 1330, u'location': u'', u'profile_link_color': u'AB0516', u'profile_image_url': u'http://pbs.twimg.com/profile_images/761270969730301952/X8-H-Adj_normal.jpg', u'following': False, u'geo_enabled': False, u'profile_banner_url': u'https://pbs.twimg.com/profile_banners/1166565846/1368128929', u'profile_background_image_url': u'http://abs.twimg.com/images/themes/theme1/bg.png', u'screen_name': u'DanielaCaputo72', u'lang': u'it', u'profile_background_tile': False, u'favourites_count': 757, u'name': u'Daniela Caputo', u'notifications': False, u'url': u'https://t.co/HIf5VJBnyO', u'created_at': u'Sun Feb 10 18:01:51 +0000 2013', u'contributors_enabled': False, u'time_zone': u'Amsterdam', u'protected': False, u'default_profile': False, u'is_translator': False}, time_zone=u'Amsterdam', id=1166565846, description=u'Communication and #Digital Strategy Manager at @ManpowerGroupIT #RecruitmentMarketing #PersonalBranding Strategist - Make a difference, start the Change!', _api=<tweepy.api.API object at 0x102cdf190>, verified=False, profile_text_color=u'333333', profile_image_url_https=u'https://pbs.twimg.com/profile_images/761270969730301952/X8-H-Adj_normal.jpg', profile_sidebar_fill_color=u'DDEEF6', is_translator=False, geo_enabled=False, entities={u'url': {u'urls': [{u'url': u'https://t.co/HIf5VJBnyO', u'indices': [0, 23], u'expanded_url': u'http://it.linkedin.com/in/caputodaniela/', u'display_url': u'it.linkedin.com/in/caputodanie\\u2026'}]}, u'description': {u'urls': []}}, followers_count=890, protected=False, id_str=u'1166565846', default_profile_image=False, listed_count=61, lang=u'it', utc_offset=3600, statuses_count=2542, profile_background_color=u'E6C909', friends_count=1330, profile_link_color=u'AB0516', profile_image_url=u'http://pbs.twimg.com/profile_images/761270969730301952/X8-H-Adj_normal.jpg', notifications=False, default_profile=False, profile_background_image_url_https=u'https://abs.twimg.com/images/themes/theme1/bg.png', profile_banner_url=u'https://pbs.twimg.com/profile_banners/1166565846/1368128929', profile_background_image_url=u'http://abs.twimg.com/images/themes/theme1/bg.png', name=u'Daniela Caputo', is_translation_enabled=False, profile_background_tile=False, favourites_count=757, screen_name=u'DanielaCaputo72', url=u'https://t.co/HIf5VJBnyO', created_at=datetime.datetime(2013, 2, 10, 18, 1, 51), contributors_enabled=False, location=u'', profile_sidebar_border_color=u'FFFFFF', translator_type=u'none', following=False), _json={u'contributors': None, u'truncated': False, u'text': u'Nasce oggi PowerU Digital!  Grazie a @intesasanpaolo e @DeloitteItalia per credere con noi nel progetto @HumanAgeInsIT @ManpowerGroupIT', u'is_quote_status': False, u'in_reply_to_status_id': None, u'id': 798107981736906753, u'favorite_count': 4, u'source': u'<a href=\"http://twitter.com/download/android\" rel=\"nofollow\">Twitter for Android</a>', u'retweeted': False, u'coordinates': None, u'entities': {u'symbols': [], u'user_mentions': [{u'id': 393894382, u'indices': [37, 52], u'id_str': u'393894382', u'screen_name': u'intesasanpaolo', u'name': u'Intesa Sanpaolo'}, {u'id': 2370187478, u'indices': [55, 70], u'id_str': u'2370187478', u'screen_name': u'DeloitteItalia', u'name': u'Deloitte Italia'}, {u'id': 2810032827, u'indices': [104, 118], u'id_str': u'2810032827', u'screen_name': u'HumanAgeInsIT', u'name': u'HumanAge Institute'}, {u'id': 1288266800, u'indices': [119, 135], u'id_str': u'1288266800', u'screen_name': u'ManpowerGroupIT', u'name': u'ManpowerGroup Italia'}], u'hashtags': [], u'urls': []}, u'in_reply_to_screen_name': None, u'in_reply_to_user_id': None, u'retweet_count': 4, u'id_str': u'798107981736906753', u'favorited': False, u'user': {u'follow_request_sent': False, u'has_extended_profile': False, u'profile_use_background_image': False, u'default_profile_image': False, u'id': 1166565846, u'profile_background_image_url_https': u'https://abs.twimg.com/images/themes/theme1/bg.png', u'verified': False, u'translator_type': u'none', u'profile_text_color': u'333333', u'profile_image_url_https': u'https://pbs.twimg.com/profile_images/761270969730301952/X8-H-Adj_normal.jpg', u'profile_sidebar_fill_color': u'DDEEF6', u'entities': {u'url': {u'urls': [{u'url': u'https://t.co/HIf5VJBnyO', u'indices': [0, 23], u'expanded_url': u'http://it.linkedin.com/in/caputodaniela/', u'display_url': u'it.linkedin.com/in/caputodanie\\u2026'}]}, u'description': {u'urls': []}}, u'followers_count': 890, u'profile_sidebar_border_color': u'FFFFFF', u'id_str': u'1166565846', u'profile_background_color': u'E6C909', u'listed_count': 61, u'is_translation_enabled': False, u'utc_offset': 3600, u'statuses_count': 2542, u'description': u'Communication and #Digital Strategy Manager at @ManpowerGroupIT #RecruitmentMarketing #PersonalBranding Strategist - Make a difference, start the Change!', u'friends_count': 1330, u'location': u'', u'profile_link_color': u'AB0516', u'profile_image_url': u'http://pbs.twimg.com/profile_images/761270969730301952/X8-H-Adj_normal.jpg', u'following': False, u'geo_enabled': False, u'profile_banner_url': u'https://pbs.twimg.com/profile_banners/1166565846/1368128929', u'profile_background_image_url': u'http://abs.twimg.com/images/themes/theme1/bg.png', u'screen_name': u'DanielaCaputo72', u'lang': u'it', u'profile_background_tile': False, u'favourites_count': 757, u'name': u'Daniela Caputo', u'notifications': False, u'url': u'https://t.co/HIf5VJBnyO', u'created_at': u'Sun Feb 10 18:01:51 +0000 2013', u'contributors_enabled': False, u'time_zone': u'Amsterdam', u'protected': False, u'default_profile': False, u'is_translator': False}, u'geo': None, u'in_reply_to_user_id_str': None, u'lang': u'it', u'created_at': u'Mon Nov 14 10:19:05 +0000 2016', u'in_reply_to_status_id_str': None, u'place': None}, coordinates=None, entities={u'symbols': [], u'user_mentions': [{u'id': 393894382, u'indices': [37, 52], u'id_str': u'393894382', u'screen_name': u'intesasanpaolo', u'name': u'Intesa Sanpaolo'}, {u'id': 2370187478, u'indices': [55, 70], u'id_str': u'2370187478', u'screen_name': u'DeloitteItalia', u'name': u'Deloitte Italia'}, {u'id': 2810032827, u'indices': [104, 118], u'id_str': u'2810032827', u'screen_name': u'HumanAgeInsIT', u'name': u'HumanAge Institute'}, {u'id': 1288266800, u'indices': [119, 135], u'id_str': u'1288266800', u'screen_name': u'ManpowerGroupIT', u'name': u'ManpowerGroup Italia'}], u'hashtags': [], u'urls': []}, in_reply_to_screen_name=None, id_str=u'798107981736906753', retweet_count=4, in_reply_to_user_id=None, favorited=False, source_url=u'http://twitter.com/download/android', user=User(follow_request_sent=False, has_extended_profile=False, profile_use_background_image=False, _json={u'follow_request_sent': False, u'has_extended_profile': False, u'profile_use_background_image': False, u'default_profile_image': False, u'id': 1166565846, u'profile_background_image_url_https': u'https://abs.twimg.com/images/themes/theme1/bg.png', u'verified': False, u'translator_type': u'none', u'profile_text_color': u'333333', u'profile_image_url_https': u'https://pbs.twimg.com/profile_images/761270969730301952/X8-H-Adj_normal.jpg', u'profile_sidebar_fill_color': u'DDEEF6', u'entities': {u'url': {u'urls': [{u'url': u'https://t.co/HIf5VJBnyO', u'indices': [0, 23], u'expanded_url': u'http://it.linkedin.com/in/caputodaniela/', u'display_url': u'it.linkedin.com/in/caputodanie\\u2026'}]}, u'description': {u'urls': []}}, u'followers_count': 890, u'profile_sidebar_border_color': u'FFFFFF', u'id_str': u'1166565846', u'profile_background_color': u'E6C909', u'listed_count': 61, u'is_translation_enabled': False, u'utc_offset': 3600, u'statuses_count': 2542, u'description': u'Communication and #Digital Strategy Manager at @ManpowerGroupIT #RecruitmentMarketing #PersonalBranding Strategist - Make a difference, start the Change!', u'friends_count': 1330, u'location': u'', u'profile_link_color': u'AB0516', u'profile_image_url': u'http://pbs.twimg.com/profile_images/761270969730301952/X8-H-Adj_normal.jpg', u'following': False, u'geo_enabled': False, u'profile_banner_url': u'https://pbs.twimg.com/profile_banners/1166565846/1368128929', u'profile_background_image_url': u'http://abs.twimg.com/images/themes/theme1/bg.png', u'screen_name': u'DanielaCaputo72', u'lang': u'it', u'profile_background_tile': False, u'favourites_count': 757, u'name': u'Daniela Caputo', u'notifications': False, u'url': u'https://t.co/HIf5VJBnyO', u'created_at': u'Sun Feb 10 18:01:51 +0000 2013', u'contributors_enabled': False, u'time_zone': u'Amsterdam', u'protected': False, u'default_profile': False, u'is_translator': False}, time_zone=u'Amsterdam', id=1166565846, description=u'Communication and #Digital Strategy Manager at @ManpowerGroupIT #RecruitmentMarketing #PersonalBranding Strategist - Make a difference, start the Change!', _api=<tweepy.api.API object at 0x102cdf190>, verified=False, profile_text_color=u'333333', profile_image_url_https=u'https://pbs.twimg.com/profile_images/761270969730301952/X8-H-Adj_normal.jpg', profile_sidebar_fill_color=u'DDEEF6', is_translator=False, geo_enabled=False, entities={u'url': {u'urls': [{u'url': u'https://t.co/HIf5VJBnyO', u'indices': [0, 23], u'expanded_url': u'http://it.linkedin.com/in/caputodaniela/', u'display_url': u'it.linkedin.com/in/caputodanie\\u2026'}]}, u'description': {u'urls': []}}, followers_count=890, protected=False, id_str=u'1166565846', default_profile_image=False, listed_count=61, lang=u'it', utc_offset=3600, statuses_count=2542, profile_background_color=u'E6C909', friends_count=1330, profile_link_color=u'AB0516', profile_image_url=u'http://pbs.twimg.com/profile_images/761270969730301952/X8-H-Adj_normal.jpg', notifications=False, default_profile=False, profile_background_image_url_https=u'https://abs.twimg.com/images/themes/theme1/bg.png', profile_banner_url=u'https://pbs.twimg.com/profile_banners/1166565846/1368128929', profile_background_image_url=u'http://abs.twimg.com/images/themes/theme1/bg.png', name=u'Daniela Caputo', is_translation_enabled=False, profile_background_tile=False, favourites_count=757, screen_name=u'DanielaCaputo72', url=u'https://t.co/HIf5VJBnyO', created_at=datetime.datetime(2013, 2, 10, 18, 1, 51), contributors_enabled=False, location=u'', profile_sidebar_border_color=u'FFFFFF', translator_type=u'none', following=False), geo=None, in_reply_to_user_id_str=None, lang=u'it', created_at=datetime.datetime(2016, 11, 14, 10, 19, 5), in_reply_to_status_id_str=None, place=None, source=u'Twitter for Android', retweeted=False)"
      ]
     },
     "execution_count": 26,
     "metadata": {},
     "output_type": "execute_result"
    }
   ],
   "source": [
    "likes[0]"
   ]
  },
  {
   "cell_type": "code",
   "execution_count": null,
   "metadata": {
    "collapsed": false
   },
   "outputs": [],
   "source": [
    "intesa_followers_count =  intesa.followers_ids()\n",
    "print len(intesa_followers_count)"
   ]
  },
  {
   "cell_type": "code",
   "execution_count": null,
   "metadata": {
    "collapsed": false
   },
   "outputs": [],
   "source": [
    "print intesa_followers_count[0]"
   ]
  },
  {
   "cell_type": "code",
   "execution_count": null,
   "metadata": {
    "collapsed": false
   },
   "outputs": [],
   "source": [
    "api.get_user(intesa_followers_count[0])"
   ]
  },
  {
   "cell_type": "markdown",
   "metadata": {},
   "source": [
    "# Cursor"
   ]
  },
  {
   "cell_type": "code",
   "execution_count": null,
   "metadata": {
    "collapsed": false
   },
   "outputs": [],
   "source": [
    "print len(intesa_followers_count)"
   ]
  },
  {
   "cell_type": "code",
   "execution_count": null,
   "metadata": {
    "collapsed": false
   },
   "outputs": [],
   "source": [
    "intesa_followers = intesa.followers()\n",
    "print len(intesa_followers)"
   ]
  },
  {
   "cell_type": "code",
   "execution_count": null,
   "metadata": {
    "collapsed": false
   },
   "outputs": [],
   "source": [
    "help(tweepy.Cursor)"
   ]
  },
  {
   "cell_type": "code",
   "execution_count": 36,
   "metadata": {
    "collapsed": false
   },
   "outputs": [],
   "source": [
    "intesa_cursor = tweepy.Cursor(api.followers, screen_name='intesasanpaolo')"
   ]
  },
  {
   "cell_type": "code",
   "execution_count": null,
   "metadata": {
    "collapsed": false
   },
   "outputs": [],
   "source": [
    "print dir(intesa_cursor)"
   ]
  },
  {
   "cell_type": "code",
   "execution_count": 38,
   "metadata": {
    "collapsed": false
   },
   "outputs": [
    {
     "data": {
      "text/plain": [
       "<tweepy.cursor.Cursor at 0x7f991abe8510>"
      ]
     },
     "execution_count": 38,
     "metadata": {},
     "output_type": "execute_result"
    }
   ],
   "source": [
    "intesa_cursor"
   ]
  },
  {
   "cell_type": "code",
   "execution_count": 39,
   "metadata": {
    "collapsed": false
   },
   "outputs": [
    {
     "name": "stdout",
     "output_type": "stream",
     "text": [
      "<tweepy.cursor.ItemIterator object at 0x7f991b4abb50>\n"
     ]
    }
   ],
   "source": [
    "print intesa_cursor.items()"
   ]
  },
  {
   "cell_type": "code",
   "execution_count": 40,
   "metadata": {
    "collapsed": false
   },
   "outputs": [
    {
     "name": "stdout",
     "output_type": "stream",
     "text": [
      "User(follow_request_sent=False, has_extended_profile=False, profile_use_background_image=True, profile_sidebar_fill_color=u'DDEEF6', live_following=False, time_zone=None, id=799610634899980291, description=u'', _api=<tweepy.api.API object at 0x7f991b4d9290>, verified=False, blocked_by=False, profile_text_color=u'333333', muting=False, profile_image_url_https=u'https://abs.twimg.com/sticky/default_profile_images/default_profile_3_normal.png', _json={u'follow_request_sent': False, u'has_extended_profile': False, u'profile_use_background_image': True, u'live_following': False, u'default_profile_image': True, u'id': 799610634899980291, u'profile_background_image_url_https': None, u'translator_type': u'none', u'verified': False, u'blocked_by': False, u'profile_text_color': u'333333', u'muting': False, u'profile_image_url_https': u'https://abs.twimg.com/sticky/default_profile_images/default_profile_3_normal.png', u'profile_sidebar_fill_color': u'DDEEF6', u'entities': {u'description': {u'urls': []}}, u'followers_count': 0, u'profile_sidebar_border_color': u'C0DEED', u'id_str': u'799610634899980291', u'profile_background_color': u'F5F8FA', u'listed_count': 0, u'is_translation_enabled': False, u'utc_offset': None, u'statuses_count': 0, u'description': u'', u'friends_count': 0, u'location': u'', u'profile_link_color': u'1DA1F2', u'profile_image_url': u'http://abs.twimg.com/sticky/default_profile_images/default_profile_3_normal.png', u'following': False, u'geo_enabled': False, u'blocking': False, u'profile_background_image_url': None, u'screen_name': u'Davide_Ritaccio', u'lang': u'en', u'profile_background_tile': False, u'favourites_count': 0, u'name': u'Davide Ritaccio', u'notifications': False, u'url': None, u'created_at': u'Fri Nov 18 13:50:06 +0000 2016', u'contributors_enabled': False, u'time_zone': None, u'protected': False, u'default_profile': True, u'is_translator': False}, is_translator=False, geo_enabled=False, entities={u'description': {u'urls': []}}, followers_count=0, protected=False, id_str=u'799610634899980291', default_profile_image=True, listed_count=0, lang=u'en', utc_offset=None, statuses_count=0, profile_background_color=u'F5F8FA', friends_count=0, profile_link_color=u'1DA1F2', profile_image_url=u'http://abs.twimg.com/sticky/default_profile_images/default_profile_3_normal.png', notifications=False, default_profile=True, profile_background_image_url_https=None, blocking=False, profile_background_image_url=None, name=u'Davide Ritaccio', is_translation_enabled=False, profile_background_tile=False, favourites_count=0, screen_name=u'Davide_Ritaccio', url=None, created_at=datetime.datetime(2016, 11, 18, 13, 50, 6), contributors_enabled=False, location=u'', profile_sidebar_border_color=u'C0DEED', translator_type=u'none', following=False)\n"
     ]
    }
   ],
   "source": [
    "print intesa_cursor.items().next()   # generatore"
   ]
  },
  {
   "cell_type": "code",
   "execution_count": 41,
   "metadata": {
    "collapsed": false
   },
   "outputs": [
    {
     "data": {
      "text/plain": [
       "[User(follow_request_sent=False, has_extended_profile=False, profile_use_background_image=True, profile_sidebar_fill_color=u'E3E2DE', live_following=False, time_zone=u'Eastern Time (US & Canada)', id=140578968, description=u'The official channel for Cisco Financial Services Industry news, updates and events.', _api=<tweepy.api.API object at 0x7f991b4d9290>, verified=False, blocked_by=False, profile_text_color=u'634047', muting=False, profile_image_url_https=u'https://pbs.twimg.com/profile_images/727954347145891840/XdBPoMtc_normal.jpg', _json={u'follow_request_sent': False, u'has_extended_profile': False, u'profile_use_background_image': True, u'live_following': False, u'default_profile_image': False, u'id': 140578968, u'profile_background_image_url_https': u'https://pbs.twimg.com/profile_background_images/743499327/3559a428155964b2850f71bef72c0bcd.jpeg', u'translator_type': u'none', u'verified': False, u'blocked_by': False, u'profile_text_color': u'634047', u'muting': False, u'profile_image_url_https': u'https://pbs.twimg.com/profile_images/727954347145891840/XdBPoMtc_normal.jpg', u'profile_sidebar_fill_color': u'E3E2DE', u'entities': {u'url': {u'urls': [{u'url': u'http://t.co/3rQdG7xBjY', u'indices': [0, 22], u'expanded_url': u'http://cisco.com/web/strategy/financial/index.html', u'display_url': u'cisco.com/web/strategy/f\\u2026'}]}, u'description': {u'urls': []}}, u'followers_count': 1557, u'profile_sidebar_border_color': u'FFFFFF', u'id_str': u'140578968', u'profile_background_color': u'EDECE9', u'listed_count': 164, u'status': {u'contributors': None, u'truncated': False, u'text': u'RT @MagicJohnson: Thank you to CME Group CEO &amp; Chairman Terry Duffy for inviting us to speak at their Global Financial Leadership Conferenc\\u2026', u'is_quote_status': False, u'in_reply_to_status_id': None, u'id': 799346823601197056, u'favorite_count': 0, u'source': u'<a href=\"http://twitter.com\" rel=\"nofollow\">Twitter Web Client</a>', u'retweeted': False, u'coordinates': None, u'entities': {u'symbols': [], u'user_mentions': [{u'id': 248900032, u'indices': [3, 16], u'id_str': u'248900032', u'screen_name': u'MagicJohnson', u'name': u'Earvin Magic Johnson'}], u'hashtags': [], u'urls': []}, u'in_reply_to_screen_name': None, u'in_reply_to_user_id': None, u'retweet_count': 52, u'id_str': u'799346823601197056', u'favorited': False, u'retweeted_status': {u'contributors': None, u'truncated': True, u'text': u'Thank you to CME Group CEO &amp; Chairman Terry Duffy for inviting us to speak at their Global Financial Leadership Con\\u2026 https://t.co/7qUE0pmnA6', u'is_quote_status': False, u'in_reply_to_status_id': None, u'id': 798711432355450880, u'favorite_count': 260, u'source': u'<a href=\"http://twitter.com/download/android\" rel=\"nofollow\">Twitter for Android</a>', u'retweeted': False, u'coordinates': None, u'entities': {u'symbols': [], u'user_mentions': [], u'hashtags': [], u'urls': [{u'url': u'https://t.co/7qUE0pmnA6', u'indices': [121, 144], u'expanded_url': u'https://twitter.com/i/web/status/798711432355450880', u'display_url': u'twitter.com/i/web/status/7\\u2026'}]}, u'in_reply_to_screen_name': None, u'in_reply_to_user_id': None, u'retweet_count': 52, u'id_str': u'798711432355450880', u'favorited': False, u'geo': None, u'in_reply_to_user_id_str': None, u'possibly_sensitive': False, u'lang': u'en', u'created_at': u'Wed Nov 16 02:16:59 +0000 2016', u'in_reply_to_status_id_str': None, u'place': None}, u'geo': None, u'in_reply_to_user_id_str': None, u'lang': u'en', u'created_at': u'Thu Nov 17 20:21:48 +0000 2016', u'in_reply_to_status_id_str': None, u'place': None}, u'is_translation_enabled': False, u'utc_offset': -18000, u'statuses_count': 3567, u'description': u'The official channel for Cisco Financial Services Industry news, updates and events.', u'friends_count': 780, u'location': u'Global via Cisco TelePresence', u'profile_link_color': u'803909', u'profile_image_url': u'http://pbs.twimg.com/profile_images/727954347145891840/XdBPoMtc_normal.jpg', u'following': False, u'geo_enabled': True, u'profile_banner_url': u'https://pbs.twimg.com/profile_banners/140578968/1460423740', u'blocking': False, u'profile_background_image_url': u'http://pbs.twimg.com/profile_background_images/743499327/3559a428155964b2850f71bef72c0bcd.jpeg', u'screen_name': u'CiscoFSI', u'lang': u'en', u'profile_background_tile': False, u'favourites_count': 690, u'name': u'Cisco FSI', u'notifications': False, u'url': u'http://t.co/3rQdG7xBjY', u'created_at': u'Wed May 05 21:47:13 +0000 2010', u'contributors_enabled': False, u'time_zone': u'Eastern Time (US & Canada)', u'protected': False, u'default_profile': False, u'is_translator': False}, is_translator=False, geo_enabled=True, entities={u'url': {u'urls': [{u'url': u'http://t.co/3rQdG7xBjY', u'indices': [0, 22], u'expanded_url': u'http://cisco.com/web/strategy/financial/index.html', u'display_url': u'cisco.com/web/strategy/f\\u2026'}]}, u'description': {u'urls': []}}, followers_count=1557, protected=False, id_str=u'140578968', default_profile_image=False, listed_count=164, status=Status(contributors=None, truncated=False, text=u'RT @MagicJohnson: Thank you to CME Group CEO &amp; Chairman Terry Duffy for inviting us to speak at their Global Financial Leadership Conferenc\\u2026', is_quote_status=False, in_reply_to_status_id=None, id=799346823601197056, favorite_count=0, _api=<tweepy.api.API object at 0x7f991b4d9290>, source=u'Twitter Web Client', _json={u'contributors': None, u'truncated': False, u'text': u'RT @MagicJohnson: Thank you to CME Group CEO &amp; Chairman Terry Duffy for inviting us to speak at their Global Financial Leadership Conferenc\\u2026', u'is_quote_status': False, u'in_reply_to_status_id': None, u'id': 799346823601197056, u'favorite_count': 0, u'source': u'<a href=\"http://twitter.com\" rel=\"nofollow\">Twitter Web Client</a>', u'retweeted': False, u'coordinates': None, u'entities': {u'symbols': [], u'user_mentions': [{u'id': 248900032, u'indices': [3, 16], u'id_str': u'248900032', u'screen_name': u'MagicJohnson', u'name': u'Earvin Magic Johnson'}], u'hashtags': [], u'urls': []}, u'in_reply_to_screen_name': None, u'in_reply_to_user_id': None, u'retweet_count': 52, u'id_str': u'799346823601197056', u'favorited': False, u'retweeted_status': {u'contributors': None, u'truncated': True, u'text': u'Thank you to CME Group CEO &amp; Chairman Terry Duffy for inviting us to speak at their Global Financial Leadership Con\\u2026 https://t.co/7qUE0pmnA6', u'is_quote_status': False, u'in_reply_to_status_id': None, u'id': 798711432355450880, u'favorite_count': 260, u'source': u'<a href=\"http://twitter.com/download/android\" rel=\"nofollow\">Twitter for Android</a>', u'retweeted': False, u'coordinates': None, u'entities': {u'symbols': [], u'user_mentions': [], u'hashtags': [], u'urls': [{u'url': u'https://t.co/7qUE0pmnA6', u'indices': [121, 144], u'expanded_url': u'https://twitter.com/i/web/status/798711432355450880', u'display_url': u'twitter.com/i/web/status/7\\u2026'}]}, u'in_reply_to_screen_name': None, u'in_reply_to_user_id': None, u'retweet_count': 52, u'id_str': u'798711432355450880', u'favorited': False, u'geo': None, u'in_reply_to_user_id_str': None, u'possibly_sensitive': False, u'lang': u'en', u'created_at': u'Wed Nov 16 02:16:59 +0000 2016', u'in_reply_to_status_id_str': None, u'place': None}, u'geo': None, u'in_reply_to_user_id_str': None, u'lang': u'en', u'created_at': u'Thu Nov 17 20:21:48 +0000 2016', u'in_reply_to_status_id_str': None, u'place': None}, coordinates=None, entities={u'symbols': [], u'user_mentions': [{u'id': 248900032, u'indices': [3, 16], u'id_str': u'248900032', u'screen_name': u'MagicJohnson', u'name': u'Earvin Magic Johnson'}], u'hashtags': [], u'urls': []}, in_reply_to_screen_name=None, id_str=u'799346823601197056', retweet_count=52, in_reply_to_user_id=None, favorited=False, retweeted_status=Status(contributors=None, truncated=True, text=u'Thank you to CME Group CEO &amp; Chairman Terry Duffy for inviting us to speak at their Global Financial Leadership Con\\u2026 https://t.co/7qUE0pmnA6', is_quote_status=False, in_reply_to_status_id=None, id=798711432355450880, favorite_count=260, _api=<tweepy.api.API object at 0x7f991b4d9290>, source=u'Twitter for Android', _json={u'contributors': None, u'truncated': True, u'text': u'Thank you to CME Group CEO &amp; Chairman Terry Duffy for inviting us to speak at their Global Financial Leadership Con\\u2026 https://t.co/7qUE0pmnA6', u'is_quote_status': False, u'in_reply_to_status_id': None, u'id': 798711432355450880, u'favorite_count': 260, u'source': u'<a href=\"http://twitter.com/download/android\" rel=\"nofollow\">Twitter for Android</a>', u'retweeted': False, u'coordinates': None, u'entities': {u'symbols': [], u'user_mentions': [], u'hashtags': [], u'urls': [{u'url': u'https://t.co/7qUE0pmnA6', u'indices': [121, 144], u'expanded_url': u'https://twitter.com/i/web/status/798711432355450880', u'display_url': u'twitter.com/i/web/status/7\\u2026'}]}, u'in_reply_to_screen_name': None, u'in_reply_to_user_id': None, u'retweet_count': 52, u'id_str': u'798711432355450880', u'favorited': False, u'geo': None, u'in_reply_to_user_id_str': None, u'possibly_sensitive': False, u'lang': u'en', u'created_at': u'Wed Nov 16 02:16:59 +0000 2016', u'in_reply_to_status_id_str': None, u'place': None}, coordinates=None, entities={u'symbols': [], u'user_mentions': [], u'hashtags': [], u'urls': [{u'url': u'https://t.co/7qUE0pmnA6', u'indices': [121, 144], u'expanded_url': u'https://twitter.com/i/web/status/798711432355450880', u'display_url': u'twitter.com/i/web/status/7\\u2026'}]}, in_reply_to_screen_name=None, id_str=u'798711432355450880', retweet_count=52, in_reply_to_user_id=None, favorited=False, source_url=u'http://twitter.com/download/android', geo=None, in_reply_to_user_id_str=None, possibly_sensitive=False, lang=u'en', created_at=datetime.datetime(2016, 11, 16, 2, 16, 59), in_reply_to_status_id_str=None, place=None, retweeted=False), source_url=u'http://twitter.com', geo=None, in_reply_to_user_id_str=None, lang=u'en', created_at=datetime.datetime(2016, 11, 17, 20, 21, 48), in_reply_to_status_id_str=None, place=None, retweeted=False), lang=u'en', utc_offset=-18000, statuses_count=3567, profile_background_color=u'EDECE9', friends_count=780, profile_link_color=u'803909', profile_image_url=u'http://pbs.twimg.com/profile_images/727954347145891840/XdBPoMtc_normal.jpg', notifications=False, default_profile=False, profile_background_image_url_https=u'https://pbs.twimg.com/profile_background_images/743499327/3559a428155964b2850f71bef72c0bcd.jpeg', profile_banner_url=u'https://pbs.twimg.com/profile_banners/140578968/1460423740', blocking=False, profile_background_image_url=u'http://pbs.twimg.com/profile_background_images/743499327/3559a428155964b2850f71bef72c0bcd.jpeg', name=u'Cisco FSI', is_translation_enabled=False, profile_background_tile=False, favourites_count=690, screen_name=u'CiscoFSI', url=u'http://t.co/3rQdG7xBjY', created_at=datetime.datetime(2010, 5, 5, 21, 47, 13), contributors_enabled=False, location=u'Global via Cisco TelePresence', profile_sidebar_border_color=u'FFFFFF', translator_type=u'none', following=False),\n",
       " User(follow_request_sent=False, has_extended_profile=False, profile_use_background_image=True, profile_sidebar_fill_color=u'DDEEF6', live_following=False, time_zone=u'Athens', id=270537613, description=u'Capital & impact - energy - fashion - frontier markets', _api=<tweepy.api.API object at 0x7f991b4d9290>, verified=False, blocked_by=False, profile_text_color=u'333333', muting=False, profile_image_url_https=u'https://pbs.twimg.com/profile_images/664751564373024768/55RO-3zq_normal.jpg', _json={u'follow_request_sent': False, u'has_extended_profile': False, u'profile_use_background_image': True, u'live_following': False, u'default_profile_image': False, u'id': 270537613, u'profile_background_image_url_https': u'https://abs.twimg.com/images/themes/theme1/bg.png', u'translator_type': u'none', u'verified': False, u'blocked_by': False, u'profile_text_color': u'333333', u'muting': False, u'profile_image_url_https': u'https://pbs.twimg.com/profile_images/664751564373024768/55RO-3zq_normal.jpg', u'profile_sidebar_fill_color': u'DDEEF6', u'entities': {u'url': {u'urls': [{u'url': u'https://t.co/zpb1RwlUA4', u'indices': [0, 23], u'expanded_url': u'http://www.buildingtheimpacteconomy.com', u'display_url': u'buildingtheimpacteconomy.com'}]}, u'description': {u'urls': []}}, u'followers_count': 635, u'profile_sidebar_border_color': u'C0DEED', u'id_str': u'270537613', u'profile_background_color': u'C0DEED', u'listed_count': 53, u'status': {u'contributors': None, u'truncated': False, u'text': u'RT @ItaSIF: #SettimanaSRI continua domani in Sala Convegni @intesasanpaolo #Milano con un evento dedicato a #Fondazioni Italiane https://t.\\u2026', u'is_quote_status': False, u'in_reply_to_status_id': None, u'id': 799162913311387648, u'favorite_count': 0, u'source': u'<a href=\"http://twitter.com/download/iphone\" rel=\"nofollow\">Twitter for iPhone</a>', u'retweeted': False, u'coordinates': None, u'entities': {u'symbols': [], u'user_mentions': [{u'id': 556104559, u'indices': [3, 10], u'id_str': u'556104559', u'screen_name': u'ItaSIF', u'name': u'Finanza Sostenibile'}, {u'id': 393894382, u'indices': [59, 74], u'id_str': u'393894382', u'screen_name': u'intesasanpaolo', u'name': u'Intesa Sanpaolo'}], u'hashtags': [{u'indices': [12, 25], u'text': u'SettimanaSRI'}, {u'indices': [75, 82], u'text': u'Milano'}, {u'indices': [108, 119], u'text': u'Fondazioni'}], u'urls': []}, u'in_reply_to_screen_name': None, u'in_reply_to_user_id': None, u'retweet_count': 8, u'id_str': u'799162913311387648', u'favorited': False, u'retweeted_status': {u'contributors': None, u'truncated': False, u'text': u'#SettimanaSRI continua domani in Sala Convegni @intesasanpaolo #Milano con un evento dedicato a #Fondazioni Italiane https://t.co/vghFAWcH5A', u'is_quote_status': False, u'in_reply_to_status_id': None, u'id': 798923205603917824, u'favorite_count': 4, u'source': u'<a href=\"http://twitter.com\" rel=\"nofollow\">Twitter Web Client</a>', u'retweeted': False, u'coordinates': None, u'entities': {u'symbols': [], u'user_mentions': [{u'id': 393894382, u'indices': [47, 62], u'id_str': u'393894382', u'screen_name': u'intesasanpaolo', u'name': u'Intesa Sanpaolo'}], u'hashtags': [{u'indices': [0, 13], u'text': u'SettimanaSRI'}, {u'indices': [63, 70], u'text': u'Milano'}, {u'indices': [96, 107], u'text': u'Fondazioni'}], u'urls': [{u'url': u'https://t.co/vghFAWcH5A', u'indices': [117, 140], u'expanded_url': u'http://finanzasostenibile.it/eventi/fondazioni-e-finanza-sostenibile/?sri', u'display_url': u'finanzasostenibile.it/eventi/fondazi\\u2026'}]}, u'in_reply_to_screen_name': None, u'in_reply_to_user_id': None, u'retweet_count': 8, u'id_str': u'798923205603917824', u'favorited': False, u'geo': None, u'in_reply_to_user_id_str': None, u'possibly_sensitive': False, u'lang': u'it', u'created_at': u'Wed Nov 16 16:18:30 +0000 2016', u'in_reply_to_status_id_str': None, u'place': None}, u'geo': None, u'in_reply_to_user_id_str': None, u'lang': u'it', u'created_at': u'Thu Nov 17 08:11:00 +0000 2016', u'in_reply_to_status_id_str': None, u'place': None}, u'is_translation_enabled': False, u'utc_offset': 7200, u'statuses_count': 1029, u'description': u'Capital & impact - energy - fashion - frontier markets', u'friends_count': 1830, u'location': u'', u'profile_link_color': u'1DA1F2', u'profile_image_url': u'http://pbs.twimg.com/profile_images/664751564373024768/55RO-3zq_normal.jpg', u'following': False, u'geo_enabled': False, u'profile_banner_url': u'https://pbs.twimg.com/profile_banners/270537613/1447323985', u'blocking': False, u'profile_background_image_url': u'http://abs.twimg.com/images/themes/theme1/bg.png', u'screen_name': u'drmaxmartin', u'lang': u'en', u'profile_background_tile': False, u'favourites_count': 25, u'name': u'Maximilian Martin', u'notifications': False, u'url': u'https://t.co/zpb1RwlUA4', u'created_at': u'Tue Mar 22 20:12:03 +0000 2011', u'contributors_enabled': False, u'time_zone': u'Athens', u'protected': False, u'default_profile': True, u'is_translator': False}, is_translator=False, geo_enabled=False, entities={u'url': {u'urls': [{u'url': u'https://t.co/zpb1RwlUA4', u'indices': [0, 23], u'expanded_url': u'http://www.buildingtheimpacteconomy.com', u'display_url': u'buildingtheimpacteconomy.com'}]}, u'description': {u'urls': []}}, followers_count=635, protected=False, id_str=u'270537613', default_profile_image=False, listed_count=53, status=Status(contributors=None, truncated=False, text=u'RT @ItaSIF: #SettimanaSRI continua domani in Sala Convegni @intesasanpaolo #Milano con un evento dedicato a #Fondazioni Italiane https://t.\\u2026', is_quote_status=False, in_reply_to_status_id=None, id=799162913311387648, favorite_count=0, _api=<tweepy.api.API object at 0x7f991b4d9290>, source=u'Twitter for iPhone', _json={u'contributors': None, u'truncated': False, u'text': u'RT @ItaSIF: #SettimanaSRI continua domani in Sala Convegni @intesasanpaolo #Milano con un evento dedicato a #Fondazioni Italiane https://t.\\u2026', u'is_quote_status': False, u'in_reply_to_status_id': None, u'id': 799162913311387648, u'favorite_count': 0, u'source': u'<a href=\"http://twitter.com/download/iphone\" rel=\"nofollow\">Twitter for iPhone</a>', u'retweeted': False, u'coordinates': None, u'entities': {u'symbols': [], u'user_mentions': [{u'id': 556104559, u'indices': [3, 10], u'id_str': u'556104559', u'screen_name': u'ItaSIF', u'name': u'Finanza Sostenibile'}, {u'id': 393894382, u'indices': [59, 74], u'id_str': u'393894382', u'screen_name': u'intesasanpaolo', u'name': u'Intesa Sanpaolo'}], u'hashtags': [{u'indices': [12, 25], u'text': u'SettimanaSRI'}, {u'indices': [75, 82], u'text': u'Milano'}, {u'indices': [108, 119], u'text': u'Fondazioni'}], u'urls': []}, u'in_reply_to_screen_name': None, u'in_reply_to_user_id': None, u'retweet_count': 8, u'id_str': u'799162913311387648', u'favorited': False, u'retweeted_status': {u'contributors': None, u'truncated': False, u'text': u'#SettimanaSRI continua domani in Sala Convegni @intesasanpaolo #Milano con un evento dedicato a #Fondazioni Italiane https://t.co/vghFAWcH5A', u'is_quote_status': False, u'in_reply_to_status_id': None, u'id': 798923205603917824, u'favorite_count': 4, u'source': u'<a href=\"http://twitter.com\" rel=\"nofollow\">Twitter Web Client</a>', u'retweeted': False, u'coordinates': None, u'entities': {u'symbols': [], u'user_mentions': [{u'id': 393894382, u'indices': [47, 62], u'id_str': u'393894382', u'screen_name': u'intesasanpaolo', u'name': u'Intesa Sanpaolo'}], u'hashtags': [{u'indices': [0, 13], u'text': u'SettimanaSRI'}, {u'indices': [63, 70], u'text': u'Milano'}, {u'indices': [96, 107], u'text': u'Fondazioni'}], u'urls': [{u'url': u'https://t.co/vghFAWcH5A', u'indices': [117, 140], u'expanded_url': u'http://finanzasostenibile.it/eventi/fondazioni-e-finanza-sostenibile/?sri', u'display_url': u'finanzasostenibile.it/eventi/fondazi\\u2026'}]}, u'in_reply_to_screen_name': None, u'in_reply_to_user_id': None, u'retweet_count': 8, u'id_str': u'798923205603917824', u'favorited': False, u'geo': None, u'in_reply_to_user_id_str': None, u'possibly_sensitive': False, u'lang': u'it', u'created_at': u'Wed Nov 16 16:18:30 +0000 2016', u'in_reply_to_status_id_str': None, u'place': None}, u'geo': None, u'in_reply_to_user_id_str': None, u'lang': u'it', u'created_at': u'Thu Nov 17 08:11:00 +0000 2016', u'in_reply_to_status_id_str': None, u'place': None}, coordinates=None, entities={u'symbols': [], u'user_mentions': [{u'id': 556104559, u'indices': [3, 10], u'id_str': u'556104559', u'screen_name': u'ItaSIF', u'name': u'Finanza Sostenibile'}, {u'id': 393894382, u'indices': [59, 74], u'id_str': u'393894382', u'screen_name': u'intesasanpaolo', u'name': u'Intesa Sanpaolo'}], u'hashtags': [{u'indices': [12, 25], u'text': u'SettimanaSRI'}, {u'indices': [75, 82], u'text': u'Milano'}, {u'indices': [108, 119], u'text': u'Fondazioni'}], u'urls': []}, in_reply_to_screen_name=None, id_str=u'799162913311387648', retweet_count=8, in_reply_to_user_id=None, favorited=False, retweeted_status=Status(contributors=None, truncated=False, text=u'#SettimanaSRI continua domani in Sala Convegni @intesasanpaolo #Milano con un evento dedicato a #Fondazioni Italiane https://t.co/vghFAWcH5A', is_quote_status=False, in_reply_to_status_id=None, id=798923205603917824, favorite_count=4, _api=<tweepy.api.API object at 0x7f991b4d9290>, source=u'Twitter Web Client', _json={u'contributors': None, u'truncated': False, u'text': u'#SettimanaSRI continua domani in Sala Convegni @intesasanpaolo #Milano con un evento dedicato a #Fondazioni Italiane https://t.co/vghFAWcH5A', u'is_quote_status': False, u'in_reply_to_status_id': None, u'id': 798923205603917824, u'favorite_count': 4, u'source': u'<a href=\"http://twitter.com\" rel=\"nofollow\">Twitter Web Client</a>', u'retweeted': False, u'coordinates': None, u'entities': {u'symbols': [], u'user_mentions': [{u'id': 393894382, u'indices': [47, 62], u'id_str': u'393894382', u'screen_name': u'intesasanpaolo', u'name': u'Intesa Sanpaolo'}], u'hashtags': [{u'indices': [0, 13], u'text': u'SettimanaSRI'}, {u'indices': [63, 70], u'text': u'Milano'}, {u'indices': [96, 107], u'text': u'Fondazioni'}], u'urls': [{u'url': u'https://t.co/vghFAWcH5A', u'indices': [117, 140], u'expanded_url': u'http://finanzasostenibile.it/eventi/fondazioni-e-finanza-sostenibile/?sri', u'display_url': u'finanzasostenibile.it/eventi/fondazi\\u2026'}]}, u'in_reply_to_screen_name': None, u'in_reply_to_user_id': None, u'retweet_count': 8, u'id_str': u'798923205603917824', u'favorited': False, u'geo': None, u'in_reply_to_user_id_str': None, u'possibly_sensitive': False, u'lang': u'it', u'created_at': u'Wed Nov 16 16:18:30 +0000 2016', u'in_reply_to_status_id_str': None, u'place': None}, coordinates=None, entities={u'symbols': [], u'user_mentions': [{u'id': 393894382, u'indices': [47, 62], u'id_str': u'393894382', u'screen_name': u'intesasanpaolo', u'name': u'Intesa Sanpaolo'}], u'hashtags': [{u'indices': [0, 13], u'text': u'SettimanaSRI'}, {u'indices': [63, 70], u'text': u'Milano'}, {u'indices': [96, 107], u'text': u'Fondazioni'}], u'urls': [{u'url': u'https://t.co/vghFAWcH5A', u'indices': [117, 140], u'expanded_url': u'http://finanzasostenibile.it/eventi/fondazioni-e-finanza-sostenibile/?sri', u'display_url': u'finanzasostenibile.it/eventi/fondazi\\u2026'}]}, in_reply_to_screen_name=None, id_str=u'798923205603917824', retweet_count=8, in_reply_to_user_id=None, favorited=False, source_url=u'http://twitter.com', geo=None, in_reply_to_user_id_str=None, possibly_sensitive=False, lang=u'it', created_at=datetime.datetime(2016, 11, 16, 16, 18, 30), in_reply_to_status_id_str=None, place=None, retweeted=False), source_url=u'http://twitter.com/download/iphone', geo=None, in_reply_to_user_id_str=None, lang=u'it', created_at=datetime.datetime(2016, 11, 17, 8, 11), in_reply_to_status_id_str=None, place=None, retweeted=False), lang=u'en', utc_offset=7200, statuses_count=1029, profile_background_color=u'C0DEED', friends_count=1830, profile_link_color=u'1DA1F2', profile_image_url=u'http://pbs.twimg.com/profile_images/664751564373024768/55RO-3zq_normal.jpg', notifications=False, default_profile=True, profile_background_image_url_https=u'https://abs.twimg.com/images/themes/theme1/bg.png', profile_banner_url=u'https://pbs.twimg.com/profile_banners/270537613/1447323985', blocking=False, profile_background_image_url=u'http://abs.twimg.com/images/themes/theme1/bg.png', name=u'Maximilian Martin', is_translation_enabled=False, profile_background_tile=False, favourites_count=25, screen_name=u'drmaxmartin', url=u'https://t.co/zpb1RwlUA4', created_at=datetime.datetime(2011, 3, 22, 20, 12, 3), contributors_enabled=False, location=u'', profile_sidebar_border_color=u'C0DEED', translator_type=u'none', following=False),\n",
       " User(follow_request_sent=False, has_extended_profile=False, profile_use_background_image=True, profile_sidebar_fill_color=u'FFF7CC', live_following=False, time_zone=None, id=87474181, description=u'Management Control Systems & Organization - Perfomance management - Business development \\r\\n- Management consulting', _api=<tweepy.api.API object at 0x7f991b4d9290>, verified=False, blocked_by=False, profile_text_color=u'0C3E53', muting=False, profile_image_url_https=u'https://pbs.twimg.com/profile_images/2579935365/6y9qnzt3vlxxhnxbxmir_normal.jpeg', _json={u'follow_request_sent': False, u'has_extended_profile': False, u'profile_use_background_image': True, u'live_following': False, u'default_profile_image': False, u'id': 87474181, u'profile_background_image_url_https': u'https://abs.twimg.com/images/themes/theme12/bg.gif', u'translator_type': u'none', u'verified': False, u'blocked_by': False, u'profile_text_color': u'0C3E53', u'muting': False, u'profile_image_url_https': u'https://pbs.twimg.com/profile_images/2579935365/6y9qnzt3vlxxhnxbxmir_normal.jpeg', u'profile_sidebar_fill_color': u'FFF7CC', u'entities': {u'description': {u'urls': []}}, u'followers_count': 60, u'profile_sidebar_border_color': u'F2E195', u'id_str': u'87474181', u'profile_background_color': u'BADFCD', u'listed_count': 2, u'status': {u'contributors': None, u'truncated': False, u'text': u'A forza di spendere e spandere in #deficit, capita questo sui mercati https://t.co/gmZAAjcLBN', u'is_quote_status': False, u'in_reply_to_status_id': None, u'id': 798960684226613249, u'favorite_count': 0, u'source': u'<a href=\"http://twitter.com\" rel=\"nofollow\">Twitter Web Client</a>', u'retweeted': False, u'coordinates': None, u'entities': {u'symbols': [], u'user_mentions': [], u'hashtags': [{u'indices': [34, 42], u'text': u'deficit'}], u'urls': [], u'media': [{u'expanded_url': u'https://twitter.com/c_grosa/status/798960684226613249/photo/1', u'display_url': u'pic.twitter.com/gmZAAjcLBN', u'url': u'https://t.co/gmZAAjcLBN', u'media_url_https': u'https://pbs.twimg.com/media/CxZ6e5kWgAABsm7.jpg', u'id_str': u'798960655172796416', u'sizes': {u'small': {u'h': 314, u'resize': u'fit', u'w': 383}, u'large': {u'h': 314, u'resize': u'fit', u'w': 383}, u'medium': {u'h': 314, u'resize': u'fit', u'w': 383}, u'thumb': {u'h': 150, u'resize': u'crop', u'w': 150}}, u'indices': [70, 93], u'type': u'photo', u'id': 798960655172796416, u'media_url': u'http://pbs.twimg.com/media/CxZ6e5kWgAABsm7.jpg'}]}, u'in_reply_to_screen_name': None, u'in_reply_to_user_id': None, u'retweet_count': 0, u'id_str': u'798960684226613249', u'favorited': False, u'geo': None, u'in_reply_to_user_id_str': None, u'possibly_sensitive': False, u'lang': u'it', u'created_at': u'Wed Nov 16 18:47:25 +0000 2016', u'in_reply_to_status_id_str': None, u'place': None, u'extended_entities': {u'media': [{u'expanded_url': u'https://twitter.com/c_grosa/status/798960684226613249/photo/1', u'display_url': u'pic.twitter.com/gmZAAjcLBN', u'url': u'https://t.co/gmZAAjcLBN', u'media_url_https': u'https://pbs.twimg.com/media/CxZ6e5kWgAABsm7.jpg', u'id_str': u'798960655172796416', u'sizes': {u'small': {u'h': 314, u'resize': u'fit', u'w': 383}, u'large': {u'h': 314, u'resize': u'fit', u'w': 383}, u'medium': {u'h': 314, u'resize': u'fit', u'w': 383}, u'thumb': {u'h': 150, u'resize': u'crop', u'w': 150}}, u'indices': [70, 93], u'type': u'photo', u'id': 798960655172796416, u'media_url': u'http://pbs.twimg.com/media/CxZ6e5kWgAABsm7.jpg'}]}}, u'is_translation_enabled': False, u'utc_offset': None, u'statuses_count': 523, u'description': u'Management Control Systems & Organization - Perfomance management - Business development \\r\\n- Management consulting', u'friends_count': 219, u'location': u'Milano', u'profile_link_color': u'FF0000', u'profile_image_url': u'http://pbs.twimg.com/profile_images/2579935365/6y9qnzt3vlxxhnxbxmir_normal.jpeg', u'following': False, u'geo_enabled': False, u'profile_banner_url': u'https://pbs.twimg.com/profile_banners/87474181/1407271496', u'blocking': False, u'profile_background_image_url': u'http://abs.twimg.com/images/themes/theme12/bg.gif', u'screen_name': u'c_grosa', u'lang': u'en', u'profile_background_tile': False, u'favourites_count': 689, u'name': u'Cristiano Grosa', u'notifications': False, u'url': None, u'created_at': u'Wed Nov 04 16:25:11 +0000 2009', u'contributors_enabled': False, u'time_zone': None, u'protected': False, u'default_profile': False, u'is_translator': False}, is_translator=False, geo_enabled=False, entities={u'description': {u'urls': []}}, followers_count=60, protected=False, id_str=u'87474181', default_profile_image=False, listed_count=2, status=Status(contributors=None, truncated=False, text=u'A forza di spendere e spandere in #deficit, capita questo sui mercati https://t.co/gmZAAjcLBN', is_quote_status=False, in_reply_to_status_id=None, id=798960684226613249, favorite_count=0, _api=<tweepy.api.API object at 0x7f991b4d9290>, source=u'Twitter Web Client', _json={u'contributors': None, u'truncated': False, u'text': u'A forza di spendere e spandere in #deficit, capita questo sui mercati https://t.co/gmZAAjcLBN', u'is_quote_status': False, u'in_reply_to_status_id': None, u'id': 798960684226613249, u'favorite_count': 0, u'source': u'<a href=\"http://twitter.com\" rel=\"nofollow\">Twitter Web Client</a>', u'retweeted': False, u'coordinates': None, u'entities': {u'symbols': [], u'user_mentions': [], u'hashtags': [{u'indices': [34, 42], u'text': u'deficit'}], u'urls': [], u'media': [{u'expanded_url': u'https://twitter.com/c_grosa/status/798960684226613249/photo/1', u'display_url': u'pic.twitter.com/gmZAAjcLBN', u'url': u'https://t.co/gmZAAjcLBN', u'media_url_https': u'https://pbs.twimg.com/media/CxZ6e5kWgAABsm7.jpg', u'id_str': u'798960655172796416', u'sizes': {u'small': {u'h': 314, u'resize': u'fit', u'w': 383}, u'large': {u'h': 314, u'resize': u'fit', u'w': 383}, u'medium': {u'h': 314, u'resize': u'fit', u'w': 383}, u'thumb': {u'h': 150, u'resize': u'crop', u'w': 150}}, u'indices': [70, 93], u'type': u'photo', u'id': 798960655172796416, u'media_url': u'http://pbs.twimg.com/media/CxZ6e5kWgAABsm7.jpg'}]}, u'in_reply_to_screen_name': None, u'in_reply_to_user_id': None, u'retweet_count': 0, u'id_str': u'798960684226613249', u'favorited': False, u'geo': None, u'in_reply_to_user_id_str': None, u'possibly_sensitive': False, u'lang': u'it', u'created_at': u'Wed Nov 16 18:47:25 +0000 2016', u'in_reply_to_status_id_str': None, u'place': None, u'extended_entities': {u'media': [{u'expanded_url': u'https://twitter.com/c_grosa/status/798960684226613249/photo/1', u'display_url': u'pic.twitter.com/gmZAAjcLBN', u'url': u'https://t.co/gmZAAjcLBN', u'media_url_https': u'https://pbs.twimg.com/media/CxZ6e5kWgAABsm7.jpg', u'id_str': u'798960655172796416', u'sizes': {u'small': {u'h': 314, u'resize': u'fit', u'w': 383}, u'large': {u'h': 314, u'resize': u'fit', u'w': 383}, u'medium': {u'h': 314, u'resize': u'fit', u'w': 383}, u'thumb': {u'h': 150, u'resize': u'crop', u'w': 150}}, u'indices': [70, 93], u'type': u'photo', u'id': 798960655172796416, u'media_url': u'http://pbs.twimg.com/media/CxZ6e5kWgAABsm7.jpg'}]}}, coordinates=None, entities={u'symbols': [], u'user_mentions': [], u'hashtags': [{u'indices': [34, 42], u'text': u'deficit'}], u'urls': [], u'media': [{u'expanded_url': u'https://twitter.com/c_grosa/status/798960684226613249/photo/1', u'display_url': u'pic.twitter.com/gmZAAjcLBN', u'url': u'https://t.co/gmZAAjcLBN', u'media_url_https': u'https://pbs.twimg.com/media/CxZ6e5kWgAABsm7.jpg', u'id_str': u'798960655172796416', u'sizes': {u'small': {u'h': 314, u'resize': u'fit', u'w': 383}, u'large': {u'h': 314, u'resize': u'fit', u'w': 383}, u'medium': {u'h': 314, u'resize': u'fit', u'w': 383}, u'thumb': {u'h': 150, u'resize': u'crop', u'w': 150}}, u'indices': [70, 93], u'type': u'photo', u'id': 798960655172796416, u'media_url': u'http://pbs.twimg.com/media/CxZ6e5kWgAABsm7.jpg'}]}, in_reply_to_screen_name=None, id_str=u'798960684226613249', retweet_count=0, in_reply_to_user_id=None, favorited=False, source_url=u'http://twitter.com', geo=None, in_reply_to_user_id_str=None, possibly_sensitive=False, lang=u'it', created_at=datetime.datetime(2016, 11, 16, 18, 47, 25), in_reply_to_status_id_str=None, place=None, extended_entities={u'media': [{u'expanded_url': u'https://twitter.com/c_grosa/status/798960684226613249/photo/1', u'display_url': u'pic.twitter.com/gmZAAjcLBN', u'url': u'https://t.co/gmZAAjcLBN', u'media_url_https': u'https://pbs.twimg.com/media/CxZ6e5kWgAABsm7.jpg', u'id_str': u'798960655172796416', u'sizes': {u'small': {u'h': 314, u'resize': u'fit', u'w': 383}, u'large': {u'h': 314, u'resize': u'fit', u'w': 383}, u'medium': {u'h': 314, u'resize': u'fit', u'w': 383}, u'thumb': {u'h': 150, u'resize': u'crop', u'w': 150}}, u'indices': [70, 93], u'type': u'photo', u'id': 798960655172796416, u'media_url': u'http://pbs.twimg.com/media/CxZ6e5kWgAABsm7.jpg'}]}, retweeted=False), lang=u'en', utc_offset=None, statuses_count=523, profile_background_color=u'BADFCD', friends_count=219, profile_link_color=u'FF0000', profile_image_url=u'http://pbs.twimg.com/profile_images/2579935365/6y9qnzt3vlxxhnxbxmir_normal.jpeg', notifications=False, default_profile=False, profile_background_image_url_https=u'https://abs.twimg.com/images/themes/theme12/bg.gif', profile_banner_url=u'https://pbs.twimg.com/profile_banners/87474181/1407271496', blocking=False, profile_background_image_url=u'http://abs.twimg.com/images/themes/theme12/bg.gif', name=u'Cristiano Grosa', is_translation_enabled=False, profile_background_tile=False, favourites_count=689, screen_name=u'c_grosa', url=None, created_at=datetime.datetime(2009, 11, 4, 16, 25, 11), contributors_enabled=False, location=u'Milano', profile_sidebar_border_color=u'F2E195', translator_type=u'none', following=False),\n",
       " User(follow_request_sent=False, has_extended_profile=False, profile_use_background_image=True, profile_sidebar_fill_color=u'DDEEF6', live_following=False, time_zone=None, id=484837200, description=u\"Talenti, Idee, Brand, Visioni: il meglio dell'Italia del Fare.\", _api=<tweepy.api.API object at 0x7f991b4d9290>, verified=False, blocked_by=False, profile_text_color=u'333333', muting=False, profile_image_url_https=u'https://pbs.twimg.com/profile_images/522514997759737856/qdngmu5l_normal.jpeg', _json={u'follow_request_sent': False, u'has_extended_profile': False, u'profile_use_background_image': True, u'live_following': False, u'default_profile_image': False, u'id': 484837200, u'profile_background_image_url_https': u'https://abs.twimg.com/images/themes/theme1/bg.png', u'translator_type': u'none', u'verified': False, u'blocked_by': False, u'profile_text_color': u'333333', u'muting': False, u'profile_image_url_https': u'https://pbs.twimg.com/profile_images/522514997759737856/qdngmu5l_normal.jpeg', u'profile_sidebar_fill_color': u'DDEEF6', u'entities': {u'description': {u'urls': []}}, u'followers_count': 1288, u'profile_sidebar_border_color': u'C0DEED', u'id_str': u'484837200', u'profile_background_color': u'C0DEED', u'listed_count': 144, u'status': {u'contributors': None, u'truncated': False, u'text': u'RT @Giusva82: . @Ivanlobello1 parla di rinascimento #digitale, della creazione di un ecosistema inclusivo e del gap attuale sulla #comunica\\u2026', u'is_quote_status': False, u'in_reply_to_status_id': None, u'id': 799572774620516352, u'favorite_count': 0, u'source': u'<a href=\"http://twitter.com/download/iphone\" rel=\"nofollow\">Twitter for iPhone</a>', u'retweeted': False, u'coordinates': None, u'entities': {u'symbols': [], u'user_mentions': [{u'id': 150961613, u'indices': [3, 12], u'id_str': u'150961613', u'screen_name': u'Giusva82', u'name': u'Giusva Pulejo'}, {u'id': 754855801, u'indices': [16, 29], u'id_str': u'754855801', u'screen_name': u'Ivanlobello1', u'name': u'Ivan Lo Bello'}], u'hashtags': [{u'indices': [52, 61], u'text': u'digitale'}], u'urls': []}, u'in_reply_to_screen_name': None, u'in_reply_to_user_id': None, u'retweet_count': 3, u'id_str': u'799572774620516352', u'favorited': False, u'retweeted_status': {u'contributors': None, u'truncated': True, u'text': u'. @Ivanlobello1 parla di rinascimento #digitale, della creazione di un ecosistema inclusivo e del gap attuale sulla\\u2026 https://t.co/CcPwWiOw8s', u'is_quote_status': False, u'in_reply_to_status_id': None, u'id': 799572642747609088, u'favorite_count': 1, u'source': u'<a href=\"http://twitter.com/download/iphone\" rel=\"nofollow\">Twitter for iPhone</a>', u'retweeted': False, u'coordinates': None, u'entities': {u'symbols': [], u'user_mentions': [{u'id': 754855801, u'indices': [2, 15], u'id_str': u'754855801', u'screen_name': u'Ivanlobello1', u'name': u'Ivan Lo Bello'}], u'hashtags': [{u'indices': [38, 47], u'text': u'digitale'}], u'urls': [{u'url': u'https://t.co/CcPwWiOw8s', u'indices': [117, 140], u'expanded_url': u'https://twitter.com/i/web/status/799572642747609088', u'display_url': u'twitter.com/i/web/status/7\\u2026'}]}, u'in_reply_to_screen_name': None, u'in_reply_to_user_id': None, u'retweet_count': 3, u'id_str': u'799572642747609088', u'favorited': False, u'geo': None, u'in_reply_to_user_id_str': None, u'possibly_sensitive': False, u'lang': u'it', u'created_at': u'Fri Nov 18 11:19:08 +0000 2016', u'in_reply_to_status_id_str': None, u'place': {u'full_name': u'Roma, Lazio', u'url': u'https://api.twitter.com/1.1/geo/id/7d588036fe12e124.json', u'country': u'Italia', u'place_type': u'city', u'bounding_box': {u'type': u'Polygon', u'coordinates': [[[12.2344266, 41.6558738], [12.8558641, 41.6558738], [12.8558641, 42.140959], [12.2344266, 42.140959]]]}, u'contained_within': [], u'country_code': u'IT', u'attributes': {}, u'id': u'7d588036fe12e124', u'name': u'Roma'}}, u'geo': None, u'in_reply_to_user_id_str': None, u'lang': u'it', u'created_at': u'Fri Nov 18 11:19:39 +0000 2016', u'in_reply_to_status_id_str': None, u'place': None}, u'is_translation_enabled': False, u'utc_offset': None, u'statuses_count': 6161, u'description': u\"Talenti, Idee, Brand, Visioni: il meglio dell'Italia del Fare.\", u'friends_count': 1475, u'location': u'Roma', u'profile_link_color': u'1DA1F2', u'profile_image_url': u'http://pbs.twimg.com/profile_images/522514997759737856/qdngmu5l_normal.jpeg', u'following': False, u'geo_enabled': True, u'blocking': False, u'profile_background_image_url': u'http://abs.twimg.com/images/themes/theme1/bg.png', u'screen_name': u'ItaliadelleIdee', u'lang': u'it', u'profile_background_tile': False, u'favourites_count': 984, u'name': u'Italia delle Idee', u'notifications': False, u'url': None, u'created_at': u'Mon Feb 06 15:03:18 +0000 2012', u'contributors_enabled': False, u'time_zone': None, u'protected': False, u'default_profile': True, u'is_translator': False}, is_translator=False, geo_enabled=True, entities={u'description': {u'urls': []}}, followers_count=1288, protected=False, id_str=u'484837200', default_profile_image=False, listed_count=144, status=Status(contributors=None, truncated=False, text=u'RT @Giusva82: . @Ivanlobello1 parla di rinascimento #digitale, della creazione di un ecosistema inclusivo e del gap attuale sulla #comunica\\u2026', is_quote_status=False, in_reply_to_status_id=None, id=799572774620516352, favorite_count=0, _api=<tweepy.api.API object at 0x7f991b4d9290>, source=u'Twitter for iPhone', _json={u'contributors': None, u'truncated': False, u'text': u'RT @Giusva82: . @Ivanlobello1 parla di rinascimento #digitale, della creazione di un ecosistema inclusivo e del gap attuale sulla #comunica\\u2026', u'is_quote_status': False, u'in_reply_to_status_id': None, u'id': 799572774620516352, u'favorite_count': 0, u'source': u'<a href=\"http://twitter.com/download/iphone\" rel=\"nofollow\">Twitter for iPhone</a>', u'retweeted': False, u'coordinates': None, u'entities': {u'symbols': [], u'user_mentions': [{u'id': 150961613, u'indices': [3, 12], u'id_str': u'150961613', u'screen_name': u'Giusva82', u'name': u'Giusva Pulejo'}, {u'id': 754855801, u'indices': [16, 29], u'id_str': u'754855801', u'screen_name': u'Ivanlobello1', u'name': u'Ivan Lo Bello'}], u'hashtags': [{u'indices': [52, 61], u'text': u'digitale'}], u'urls': []}, u'in_reply_to_screen_name': None, u'in_reply_to_user_id': None, u'retweet_count': 3, u'id_str': u'799572774620516352', u'favorited': False, u'retweeted_status': {u'contributors': None, u'truncated': True, u'text': u'. @Ivanlobello1 parla di rinascimento #digitale, della creazione di un ecosistema inclusivo e del gap attuale sulla\\u2026 https://t.co/CcPwWiOw8s', u'is_quote_status': False, u'in_reply_to_status_id': None, u'id': 799572642747609088, u'favorite_count': 1, u'source': u'<a href=\"http://twitter.com/download/iphone\" rel=\"nofollow\">Twitter for iPhone</a>', u'retweeted': False, u'coordinates': None, u'entities': {u'symbols': [], u'user_mentions': [{u'id': 754855801, u'indices': [2, 15], u'id_str': u'754855801', u'screen_name': u'Ivanlobello1', u'name': u'Ivan Lo Bello'}], u'hashtags': [{u'indices': [38, 47], u'text': u'digitale'}], u'urls': [{u'url': u'https://t.co/CcPwWiOw8s', u'indices': [117, 140], u'expanded_url': u'https://twitter.com/i/web/status/799572642747609088', u'display_url': u'twitter.com/i/web/status/7\\u2026'}]}, u'in_reply_to_screen_name': None, u'in_reply_to_user_id': None, u'retweet_count': 3, u'id_str': u'799572642747609088', u'favorited': False, u'geo': None, u'in_reply_to_user_id_str': None, u'possibly_sensitive': False, u'lang': u'it', u'created_at': u'Fri Nov 18 11:19:08 +0000 2016', u'in_reply_to_status_id_str': None, u'place': {u'full_name': u'Roma, Lazio', u'url': u'https://api.twitter.com/1.1/geo/id/7d588036fe12e124.json', u'country': u'Italia', u'place_type': u'city', u'bounding_box': {u'type': u'Polygon', u'coordinates': [[[12.2344266, 41.6558738], [12.8558641, 41.6558738], [12.8558641, 42.140959], [12.2344266, 42.140959]]]}, u'contained_within': [], u'country_code': u'IT', u'attributes': {}, u'id': u'7d588036fe12e124', u'name': u'Roma'}}, u'geo': None, u'in_reply_to_user_id_str': None, u'lang': u'it', u'created_at': u'Fri Nov 18 11:19:39 +0000 2016', u'in_reply_to_status_id_str': None, u'place': None}, coordinates=None, entities={u'symbols': [], u'user_mentions': [{u'id': 150961613, u'indices': [3, 12], u'id_str': u'150961613', u'screen_name': u'Giusva82', u'name': u'Giusva Pulejo'}, {u'id': 754855801, u'indices': [16, 29], u'id_str': u'754855801', u'screen_name': u'Ivanlobello1', u'name': u'Ivan Lo Bello'}], u'hashtags': [{u'indices': [52, 61], u'text': u'digitale'}], u'urls': []}, in_reply_to_screen_name=None, id_str=u'799572774620516352', retweet_count=3, in_reply_to_user_id=None, favorited=False, retweeted_status=Status(contributors=None, truncated=True, text=u'. @Ivanlobello1 parla di rinascimento #digitale, della creazione di un ecosistema inclusivo e del gap attuale sulla\\u2026 https://t.co/CcPwWiOw8s', is_quote_status=False, in_reply_to_status_id=None, id=799572642747609088, favorite_count=1, _api=<tweepy.api.API object at 0x7f991b4d9290>, source=u'Twitter for iPhone', _json={u'contributors': None, u'truncated': True, u'text': u'. @Ivanlobello1 parla di rinascimento #digitale, della creazione di un ecosistema inclusivo e del gap attuale sulla\\u2026 https://t.co/CcPwWiOw8s', u'is_quote_status': False, u'in_reply_to_status_id': None, u'id': 799572642747609088, u'favorite_count': 1, u'source': u'<a href=\"http://twitter.com/download/iphone\" rel=\"nofollow\">Twitter for iPhone</a>', u'retweeted': False, u'coordinates': None, u'entities': {u'symbols': [], u'user_mentions': [{u'id': 754855801, u'indices': [2, 15], u'id_str': u'754855801', u'screen_name': u'Ivanlobello1', u'name': u'Ivan Lo Bello'}], u'hashtags': [{u'indices': [38, 47], u'text': u'digitale'}], u'urls': [{u'url': u'https://t.co/CcPwWiOw8s', u'indices': [117, 140], u'expanded_url': u'https://twitter.com/i/web/status/799572642747609088', u'display_url': u'twitter.com/i/web/status/7\\u2026'}]}, u'in_reply_to_screen_name': None, u'in_reply_to_user_id': None, u'retweet_count': 3, u'id_str': u'799572642747609088', u'favorited': False, u'geo': None, u'in_reply_to_user_id_str': None, u'possibly_sensitive': False, u'lang': u'it', u'created_at': u'Fri Nov 18 11:19:08 +0000 2016', u'in_reply_to_status_id_str': None, u'place': {u'full_name': u'Roma, Lazio', u'url': u'https://api.twitter.com/1.1/geo/id/7d588036fe12e124.json', u'country': u'Italia', u'place_type': u'city', u'bounding_box': {u'type': u'Polygon', u'coordinates': [[[12.2344266, 41.6558738], [12.8558641, 41.6558738], [12.8558641, 42.140959], [12.2344266, 42.140959]]]}, u'contained_within': [], u'country_code': u'IT', u'attributes': {}, u'id': u'7d588036fe12e124', u'name': u'Roma'}}, coordinates=None, entities={u'symbols': [], u'user_mentions': [{u'id': 754855801, u'indices': [2, 15], u'id_str': u'754855801', u'screen_name': u'Ivanlobello1', u'name': u'Ivan Lo Bello'}], u'hashtags': [{u'indices': [38, 47], u'text': u'digitale'}], u'urls': [{u'url': u'https://t.co/CcPwWiOw8s', u'indices': [117, 140], u'expanded_url': u'https://twitter.com/i/web/status/799572642747609088', u'display_url': u'twitter.com/i/web/status/7\\u2026'}]}, in_reply_to_screen_name=None, id_str=u'799572642747609088', retweet_count=3, in_reply_to_user_id=None, favorited=False, source_url=u'http://twitter.com/download/iphone', geo=None, in_reply_to_user_id_str=None, possibly_sensitive=False, lang=u'it', created_at=datetime.datetime(2016, 11, 18, 11, 19, 8), in_reply_to_status_id_str=None, place=Place(_api=<tweepy.api.API object at 0x7f991b4d9290>, country_code=u'IT', url=u'https://api.twitter.com/1.1/geo/id/7d588036fe12e124.json', country=u'Italia', place_type=u'city', bounding_box=BoundingBox(_api=<tweepy.api.API object at 0x7f991b4d9290>, type=u'Polygon', coordinates=[[[12.2344266, 41.6558738], [12.8558641, 41.6558738], [12.8558641, 42.140959], [12.2344266, 42.140959]]]), contained_within=[], full_name=u'Roma, Lazio', attributes={}, id=u'7d588036fe12e124', name=u'Roma'), retweeted=False), source_url=u'http://twitter.com/download/iphone', geo=None, in_reply_to_user_id_str=None, lang=u'it', created_at=datetime.datetime(2016, 11, 18, 11, 19, 39), in_reply_to_status_id_str=None, place=None, retweeted=False), lang=u'it', utc_offset=None, statuses_count=6161, profile_background_color=u'C0DEED', friends_count=1475, profile_link_color=u'1DA1F2', profile_image_url=u'http://pbs.twimg.com/profile_images/522514997759737856/qdngmu5l_normal.jpeg', notifications=False, default_profile=True, profile_background_image_url_https=u'https://abs.twimg.com/images/themes/theme1/bg.png', blocking=False, profile_background_image_url=u'http://abs.twimg.com/images/themes/theme1/bg.png', name=u'Italia delle Idee', is_translation_enabled=False, profile_background_tile=False, favourites_count=984, screen_name=u'ItaliadelleIdee', url=None, created_at=datetime.datetime(2012, 2, 6, 15, 3, 18), contributors_enabled=False, location=u'Roma', profile_sidebar_border_color=u'C0DEED', translator_type=u'none', following=False),\n",
       " User(follow_request_sent=False, has_extended_profile=False, profile_use_background_image=True, profile_sidebar_fill_color=u'DDEEF6', live_following=False, time_zone=None, id=781762383412760578, description=u\"Acceleriamo l'innovazione attraverso le startups.\", _api=<tweepy.api.API object at 0x7f991b4d9290>, verified=False, blocked_by=False, profile_text_color=u'333333', muting=False, profile_image_url_https=u'https://pbs.twimg.com/profile_images/781888750955659264/Hw-qMbCe_normal.jpg', _json={u'follow_request_sent': False, u'has_extended_profile': False, u'profile_use_background_image': True, u'live_following': False, u'default_profile_image': False, u'id': 781762383412760578, u'profile_background_image_url_https': None, u'translator_type': u'none', u'verified': False, u'blocked_by': False, u'profile_text_color': u'333333', u'muting': False, u'profile_image_url_https': u'https://pbs.twimg.com/profile_images/781888750955659264/Hw-qMbCe_normal.jpg', u'profile_sidebar_fill_color': u'DDEEF6', u'entities': {u'url': {u'urls': [{u'url': u'https://t.co/aucwqJ56GY', u'indices': [0, 23], u'expanded_url': u'http://www.g2-startups.com', u'display_url': u'g2-startups.com'}]}, u'description': {u'urls': []}}, u'followers_count': 110, u'profile_sidebar_border_color': u'C0DEED', u'id_str': u'781762383412760578', u'profile_background_color': u'F5F8FA', u'listed_count': 17, u'status': {u'contributors': None, u'truncated': False, u'text': u'@MrsPaulette @myfemax: ecco perch\\xe9 #G2startups \\xe8 sempre pi\\xf9 attivo in eventi e momenti di incontro. Da @smaunotes  a  @innovaecompeti', u'is_quote_status': False, u'in_reply_to_status_id': 799560775442558978, u'id': 799561597861720064, u'favorite_count': 0, u'source': u'<a href=\"http://twitter.com\" rel=\"nofollow\">Twitter Web Client</a>', u'retweeted': False, u'coordinates': None, u'entities': {u'symbols': [], u'user_mentions': [{u'id': 132153562, u'indices': [0, 12], u'id_str': u'132153562', u'screen_name': u'MrsPaulette', u'name': u'Paola Perfetti'}, {u'id': 2788689623, u'indices': [13, 21], u'id_str': u'2788689623', u'screen_name': u'myfemax', u'name': u'Massimiliano Gilardi'}, {u'id': 69627432, u'indices': [103, 113], u'id_str': u'69627432', u'screen_name': u'smaunotes', u'name': u'Smau'}, {u'id': 467518601, u'indices': [118, 133], u'id_str': u'467518601', u'screen_name': u'innovaecompeti', u'name': u'Innovare  Competere'}], u'hashtags': [{u'indices': [35, 46], u'text': u'G2startups'}], u'urls': []}, u'in_reply_to_screen_name': u'MrsPaulette', u'in_reply_to_user_id': 132153562, u'retweet_count': 0, u'id_str': u'799561597861720064', u'favorited': False, u'geo': None, u'in_reply_to_user_id_str': u'132153562', u'lang': u'it', u'created_at': u'Fri Nov 18 10:35:14 +0000 2016', u'in_reply_to_status_id_str': u'799560775442558978', u'place': {u'full_name': u'Milano, Lombardia', u'url': u'https://api.twitter.com/1.1/geo/id/1ea588c12abd39d7.json', u'country': u'Italia', u'place_type': u'city', u'bounding_box': {u'type': u'Polygon', u'coordinates': [[[9.040628, 45.3867262], [9.2780451, 45.3867262], [9.2780451, 45.5359644], [9.040628, 45.5359644]]]}, u'contained_within': [], u'country_code': u'IT', u'attributes': {}, u'id': u'1ea588c12abd39d7', u'name': u'Milano'}}, u'is_translation_enabled': False, u'utc_offset': None, u'statuses_count': 100, u'description': u\"Acceleriamo l'innovazione attraverso le startups.\", u'friends_count': 136, u'location': u'', u'profile_link_color': u'1DA1F2', u'profile_image_url': u'http://pbs.twimg.com/profile_images/781888750955659264/Hw-qMbCe_normal.jpg', u'following': False, u'geo_enabled': True, u'profile_banner_url': u'https://pbs.twimg.com/profile_banners/781762383412760578/1478885709', u'blocking': False, u'profile_background_image_url': None, u'screen_name': u'g2startups', u'lang': u'it', u'profile_background_tile': False, u'favourites_count': 78, u'name': u'g2startups', u'notifications': False, u'url': u'https://t.co/aucwqJ56GY', u'created_at': u'Fri Sep 30 07:47:31 +0000 2016', u'contributors_enabled': False, u'time_zone': None, u'protected': False, u'default_profile': True, u'is_translator': False}, is_translator=False, geo_enabled=True, entities={u'url': {u'urls': [{u'url': u'https://t.co/aucwqJ56GY', u'indices': [0, 23], u'expanded_url': u'http://www.g2-startups.com', u'display_url': u'g2-startups.com'}]}, u'description': {u'urls': []}}, followers_count=110, protected=False, id_str=u'781762383412760578', default_profile_image=False, listed_count=17, status=Status(contributors=None, truncated=False, text=u'@MrsPaulette @myfemax: ecco perch\\xe9 #G2startups \\xe8 sempre pi\\xf9 attivo in eventi e momenti di incontro. Da @smaunotes  a  @innovaecompeti', is_quote_status=False, in_reply_to_status_id=799560775442558978, id=799561597861720064, favorite_count=0, _api=<tweepy.api.API object at 0x7f991b4d9290>, source=u'Twitter Web Client', _json={u'contributors': None, u'truncated': False, u'text': u'@MrsPaulette @myfemax: ecco perch\\xe9 #G2startups \\xe8 sempre pi\\xf9 attivo in eventi e momenti di incontro. Da @smaunotes  a  @innovaecompeti', u'is_quote_status': False, u'in_reply_to_status_id': 799560775442558978, u'id': 799561597861720064, u'favorite_count': 0, u'source': u'<a href=\"http://twitter.com\" rel=\"nofollow\">Twitter Web Client</a>', u'retweeted': False, u'coordinates': None, u'entities': {u'symbols': [], u'user_mentions': [{u'id': 132153562, u'indices': [0, 12], u'id_str': u'132153562', u'screen_name': u'MrsPaulette', u'name': u'Paola Perfetti'}, {u'id': 2788689623, u'indices': [13, 21], u'id_str': u'2788689623', u'screen_name': u'myfemax', u'name': u'Massimiliano Gilardi'}, {u'id': 69627432, u'indices': [103, 113], u'id_str': u'69627432', u'screen_name': u'smaunotes', u'name': u'Smau'}, {u'id': 467518601, u'indices': [118, 133], u'id_str': u'467518601', u'screen_name': u'innovaecompeti', u'name': u'Innovare  Competere'}], u'hashtags': [{u'indices': [35, 46], u'text': u'G2startups'}], u'urls': []}, u'in_reply_to_screen_name': u'MrsPaulette', u'in_reply_to_user_id': 132153562, u'retweet_count': 0, u'id_str': u'799561597861720064', u'favorited': False, u'geo': None, u'in_reply_to_user_id_str': u'132153562', u'lang': u'it', u'created_at': u'Fri Nov 18 10:35:14 +0000 2016', u'in_reply_to_status_id_str': u'799560775442558978', u'place': {u'full_name': u'Milano, Lombardia', u'url': u'https://api.twitter.com/1.1/geo/id/1ea588c12abd39d7.json', u'country': u'Italia', u'place_type': u'city', u'bounding_box': {u'type': u'Polygon', u'coordinates': [[[9.040628, 45.3867262], [9.2780451, 45.3867262], [9.2780451, 45.5359644], [9.040628, 45.5359644]]]}, u'contained_within': [], u'country_code': u'IT', u'attributes': {}, u'id': u'1ea588c12abd39d7', u'name': u'Milano'}}, coordinates=None, entities={u'symbols': [], u'user_mentions': [{u'id': 132153562, u'indices': [0, 12], u'id_str': u'132153562', u'screen_name': u'MrsPaulette', u'name': u'Paola Perfetti'}, {u'id': 2788689623, u'indices': [13, 21], u'id_str': u'2788689623', u'screen_name': u'myfemax', u'name': u'Massimiliano Gilardi'}, {u'id': 69627432, u'indices': [103, 113], u'id_str': u'69627432', u'screen_name': u'smaunotes', u'name': u'Smau'}, {u'id': 467518601, u'indices': [118, 133], u'id_str': u'467518601', u'screen_name': u'innovaecompeti', u'name': u'Innovare  Competere'}], u'hashtags': [{u'indices': [35, 46], u'text': u'G2startups'}], u'urls': []}, in_reply_to_screen_name=u'MrsPaulette', id_str=u'799561597861720064', retweet_count=0, in_reply_to_user_id=132153562, favorited=False, source_url=u'http://twitter.com', geo=None, in_reply_to_user_id_str=u'132153562', lang=u'it', created_at=datetime.datetime(2016, 11, 18, 10, 35, 14), in_reply_to_status_id_str=u'799560775442558978', place=Place(_api=<tweepy.api.API object at 0x7f991b4d9290>, country_code=u'IT', url=u'https://api.twitter.com/1.1/geo/id/1ea588c12abd39d7.json', country=u'Italia', place_type=u'city', bounding_box=BoundingBox(_api=<tweepy.api.API object at 0x7f991b4d9290>, type=u'Polygon', coordinates=[[[9.040628, 45.3867262], [9.2780451, 45.3867262], [9.2780451, 45.5359644], [9.040628, 45.5359644]]]), contained_within=[], full_name=u'Milano, Lombardia', attributes={}, id=u'1ea588c12abd39d7', name=u'Milano'), retweeted=False), lang=u'it', utc_offset=None, statuses_count=100, profile_background_color=u'F5F8FA', friends_count=136, profile_link_color=u'1DA1F2', profile_image_url=u'http://pbs.twimg.com/profile_images/781888750955659264/Hw-qMbCe_normal.jpg', notifications=False, default_profile=True, profile_background_image_url_https=None, profile_banner_url=u'https://pbs.twimg.com/profile_banners/781762383412760578/1478885709', blocking=False, profile_background_image_url=None, name=u'g2startups', is_translation_enabled=False, profile_background_tile=False, favourites_count=78, screen_name=u'g2startups', url=u'https://t.co/aucwqJ56GY', created_at=datetime.datetime(2016, 9, 30, 7, 47, 31), contributors_enabled=False, location=u'', profile_sidebar_border_color=u'C0DEED', translator_type=u'none', following=False),\n",
       " User(follow_request_sent=False, has_extended_profile=False, profile_use_background_image=True, profile_sidebar_fill_color=u'DDEEF6', live_following=False, time_zone=None, id=799169383553728512, description=u'', _api=<tweepy.api.API object at 0x7f991b4d9290>, verified=False, blocked_by=False, profile_text_color=u'333333', muting=False, profile_image_url_https=u'https://pbs.twimg.com/profile_images/799170988902641664/lSFvPxnl_normal.jpg', _json={u'follow_request_sent': False, u'has_extended_profile': False, u'profile_use_background_image': True, u'live_following': False, u'default_profile_image': False, u'id': 799169383553728512, u'profile_background_image_url_https': None, u'translator_type': u'none', u'verified': False, u'blocked_by': False, u'profile_text_color': u'333333', u'muting': False, u'profile_image_url_https': u'https://pbs.twimg.com/profile_images/799170988902641664/lSFvPxnl_normal.jpg', u'profile_sidebar_fill_color': u'DDEEF6', u'entities': {u'description': {u'urls': []}}, u'followers_count': 0, u'profile_sidebar_border_color': u'C0DEED', u'id_str': u'799169383553728512', u'profile_background_color': u'F5F8FA', u'listed_count': 0, u'is_translation_enabled': False, u'utc_offset': None, u'statuses_count': 0, u'description': u'', u'friends_count': 13, u'location': u'', u'profile_link_color': u'1DA1F2', u'profile_image_url': u'http://pbs.twimg.com/profile_images/799170988902641664/lSFvPxnl_normal.jpg', u'following': False, u'geo_enabled': False, u'blocking': False, u'profile_background_image_url': None, u'screen_name': u'irmavelo44', u'lang': u'it', u'profile_background_tile': False, u'favourites_count': 0, u'name': u'VELO', u'notifications': False, u'url': None, u'created_at': u'Thu Nov 17 08:36:43 +0000 2016', u'contributors_enabled': False, u'time_zone': None, u'protected': False, u'default_profile': True, u'is_translator': False}, is_translator=False, geo_enabled=False, entities={u'description': {u'urls': []}}, followers_count=0, protected=False, id_str=u'799169383553728512', default_profile_image=False, listed_count=0, lang=u'it', utc_offset=None, statuses_count=0, profile_background_color=u'F5F8FA', friends_count=13, profile_link_color=u'1DA1F2', profile_image_url=u'http://pbs.twimg.com/profile_images/799170988902641664/lSFvPxnl_normal.jpg', notifications=False, default_profile=True, profile_background_image_url_https=None, blocking=False, profile_background_image_url=None, name=u'VELO', is_translation_enabled=False, profile_background_tile=False, favourites_count=0, screen_name=u'irmavelo44', url=None, created_at=datetime.datetime(2016, 11, 17, 8, 36, 43), contributors_enabled=False, location=u'', profile_sidebar_border_color=u'C0DEED', translator_type=u'none', following=False),\n",
       " User(follow_request_sent=False, has_extended_profile=False, profile_use_background_image=True, profile_sidebar_fill_color=u'DDEEF6', live_following=False, time_zone=None, id=1053191748, description=u'', _api=<tweepy.api.API object at 0x7f991b4d9290>, verified=False, blocked_by=False, profile_text_color=u'333333', muting=False, profile_image_url_https=u'https://pbs.twimg.com/profile_images/3061090688/5bbe3f8e656d6e788f9abe16d0436da0_normal.jpeg', _json={u'follow_request_sent': False, u'has_extended_profile': False, u'profile_use_background_image': True, u'live_following': False, u'default_profile_image': False, u'id': 1053191748, u'profile_background_image_url_https': u'https://abs.twimg.com/images/themes/theme1/bg.png', u'translator_type': u'none', u'verified': False, u'blocked_by': False, u'profile_text_color': u'333333', u'muting': False, u'profile_image_url_https': u'https://pbs.twimg.com/profile_images/3061090688/5bbe3f8e656d6e788f9abe16d0436da0_normal.jpeg', u'profile_sidebar_fill_color': u'DDEEF6', u'entities': {u'description': {u'urls': []}}, u'followers_count': 1, u'profile_sidebar_border_color': u'C0DEED', u'id_str': u'1053191748', u'profile_background_color': u'C0DEED', u'listed_count': 0, u'status': {u'contributors': None, u'truncated': False, u'text': u'@TiscaliHelpDesk Ci sono novit\\xe0 sulla pratica di rimborso? Cod cliente 400508027. Ripeto che attendo da 1 anno', u'is_quote_status': False, u'in_reply_to_status_id': None, u'id': 799564225559441408, u'favorite_count': 0, u'source': u'<a href=\"http://twitter.com/download/iphone\" rel=\"nofollow\">Twitter for iPhone</a>', u'retweeted': False, u'coordinates': None, u'entities': {u'symbols': [], u'user_mentions': [{u'id': 539032778, u'indices': [0, 16], u'id_str': u'539032778', u'screen_name': u'TiscaliHelpDesk', u'name': u'Tiscali Help Desk'}], u'hashtags': [], u'urls': []}, u'in_reply_to_screen_name': u'TiscaliHelpDesk', u'in_reply_to_user_id': 539032778, u'retweet_count': 0, u'id_str': u'799564225559441408', u'favorited': False, u'geo': None, u'in_reply_to_user_id_str': u'539032778', u'lang': u'it', u'created_at': u'Fri Nov 18 10:45:41 +0000 2016', u'in_reply_to_status_id_str': None, u'place': None}, u'is_translation_enabled': False, u'utc_offset': None, u'statuses_count': 32, u'description': u'', u'friends_count': 21, u'location': u'', u'profile_link_color': u'1DA1F2', u'profile_image_url': u'http://pbs.twimg.com/profile_images/3061090688/5bbe3f8e656d6e788f9abe16d0436da0_normal.jpeg', u'following': False, u'geo_enabled': False, u'blocking': False, u'profile_background_image_url': u'http://abs.twimg.com/images/themes/theme1/bg.png', u'screen_name': u'baldo0376', u'lang': u'it', u'profile_background_tile': False, u'favourites_count': 0, u'name': u'Aldo Brucato', u'notifications': False, u'url': None, u'created_at': u'Tue Jan 01 18:29:48 +0000 2013', u'contributors_enabled': False, u'time_zone': None, u'protected': False, u'default_profile': True, u'is_translator': False}, is_translator=False, geo_enabled=False, entities={u'description': {u'urls': []}}, followers_count=1, protected=False, id_str=u'1053191748', default_profile_image=False, listed_count=0, status=Status(contributors=None, truncated=False, text=u'@TiscaliHelpDesk Ci sono novit\\xe0 sulla pratica di rimborso? Cod cliente 400508027. Ripeto che attendo da 1 anno', is_quote_status=False, in_reply_to_status_id=None, id=799564225559441408, favorite_count=0, _api=<tweepy.api.API object at 0x7f991b4d9290>, source=u'Twitter for iPhone', _json={u'contributors': None, u'truncated': False, u'text': u'@TiscaliHelpDesk Ci sono novit\\xe0 sulla pratica di rimborso? Cod cliente 400508027. Ripeto che attendo da 1 anno', u'is_quote_status': False, u'in_reply_to_status_id': None, u'id': 799564225559441408, u'favorite_count': 0, u'source': u'<a href=\"http://twitter.com/download/iphone\" rel=\"nofollow\">Twitter for iPhone</a>', u'retweeted': False, u'coordinates': None, u'entities': {u'symbols': [], u'user_mentions': [{u'id': 539032778, u'indices': [0, 16], u'id_str': u'539032778', u'screen_name': u'TiscaliHelpDesk', u'name': u'Tiscali Help Desk'}], u'hashtags': [], u'urls': []}, u'in_reply_to_screen_name': u'TiscaliHelpDesk', u'in_reply_to_user_id': 539032778, u'retweet_count': 0, u'id_str': u'799564225559441408', u'favorited': False, u'geo': None, u'in_reply_to_user_id_str': u'539032778', u'lang': u'it', u'created_at': u'Fri Nov 18 10:45:41 +0000 2016', u'in_reply_to_status_id_str': None, u'place': None}, coordinates=None, entities={u'symbols': [], u'user_mentions': [{u'id': 539032778, u'indices': [0, 16], u'id_str': u'539032778', u'screen_name': u'TiscaliHelpDesk', u'name': u'Tiscali Help Desk'}], u'hashtags': [], u'urls': []}, in_reply_to_screen_name=u'TiscaliHelpDesk', id_str=u'799564225559441408', retweet_count=0, in_reply_to_user_id=539032778, favorited=False, source_url=u'http://twitter.com/download/iphone', geo=None, in_reply_to_user_id_str=u'539032778', lang=u'it', created_at=datetime.datetime(2016, 11, 18, 10, 45, 41), in_reply_to_status_id_str=None, place=None, retweeted=False), lang=u'it', utc_offset=None, statuses_count=32, profile_background_color=u'C0DEED', friends_count=21, profile_link_color=u'1DA1F2', profile_image_url=u'http://pbs.twimg.com/profile_images/3061090688/5bbe3f8e656d6e788f9abe16d0436da0_normal.jpeg', notifications=False, default_profile=True, profile_background_image_url_https=u'https://abs.twimg.com/images/themes/theme1/bg.png', blocking=False, profile_background_image_url=u'http://abs.twimg.com/images/themes/theme1/bg.png', name=u'Aldo Brucato', is_translation_enabled=False, profile_background_tile=False, favourites_count=0, screen_name=u'baldo0376', url=None, created_at=datetime.datetime(2013, 1, 1, 18, 29, 48), contributors_enabled=False, location=u'', profile_sidebar_border_color=u'C0DEED', translator_type=u'none', following=False),\n",
       " User(follow_request_sent=False, has_extended_profile=False, profile_use_background_image=True, profile_sidebar_fill_color=u'DDEEF6', live_following=False, time_zone=None, id=798981744334700544, description=u'', _api=<tweepy.api.API object at 0x7f991b4d9290>, verified=False, blocked_by=False, profile_text_color=u'333333', muting=False, profile_image_url_https=u'https://abs.twimg.com/sticky/default_profile_images/default_profile_2_normal.png', _json={u'follow_request_sent': False, u'has_extended_profile': False, u'profile_use_background_image': True, u'live_following': False, u'default_profile_image': True, u'id': 798981744334700544, u'profile_background_image_url_https': None, u'translator_type': u'none', u'verified': False, u'blocked_by': False, u'profile_text_color': u'333333', u'muting': False, u'profile_image_url_https': u'https://abs.twimg.com/sticky/default_profile_images/default_profile_2_normal.png', u'profile_sidebar_fill_color': u'DDEEF6', u'entities': {u'description': {u'urls': []}}, u'followers_count': 0, u'profile_sidebar_border_color': u'C0DEED', u'id_str': u'798981744334700544', u'profile_background_color': u'F5F8FA', u'listed_count': 0, u'is_translation_enabled': False, u'utc_offset': None, u'statuses_count': 0, u'description': u'', u'friends_count': 43, u'location': u'', u'profile_link_color': u'1DA1F2', u'profile_image_url': u'http://abs.twimg.com/sticky/default_profile_images/default_profile_2_normal.png', u'following': False, u'geo_enabled': False, u'blocking': False, u'profile_background_image_url': None, u'screen_name': u'Alesmodenese', u'lang': u'it', u'profile_background_tile': False, u'favourites_count': 0, u'name': u'Alessandra', u'notifications': False, u'url': None, u'created_at': u'Wed Nov 16 20:11:07 +0000 2016', u'contributors_enabled': False, u'time_zone': None, u'protected': False, u'default_profile': True, u'is_translator': False}, is_translator=False, geo_enabled=False, entities={u'description': {u'urls': []}}, followers_count=0, protected=False, id_str=u'798981744334700544', default_profile_image=True, listed_count=0, lang=u'it', utc_offset=None, statuses_count=0, profile_background_color=u'F5F8FA', friends_count=43, profile_link_color=u'1DA1F2', profile_image_url=u'http://abs.twimg.com/sticky/default_profile_images/default_profile_2_normal.png', notifications=False, default_profile=True, profile_background_image_url_https=None, blocking=False, profile_background_image_url=None, name=u'Alessandra', is_translation_enabled=False, profile_background_tile=False, favourites_count=0, screen_name=u'Alesmodenese', url=None, created_at=datetime.datetime(2016, 11, 16, 20, 11, 7), contributors_enabled=False, location=u'', profile_sidebar_border_color=u'C0DEED', translator_type=u'none', following=False),\n",
       " User(follow_request_sent=False, has_extended_profile=True, profile_use_background_image=False, profile_sidebar_fill_color=u'DDEEF6', live_following=False, time_zone=u'Rome', id=187237154, description=u'One person can make a difference, and everyone should try (J.F.K.)', _api=<tweepy.api.API object at 0x7f991b4d9290>, verified=False, blocked_by=False, profile_text_color=u'333333', muting=False, profile_image_url_https=u'https://pbs.twimg.com/profile_images/465801598287876096/LIJLV_-k_normal.jpeg', _json={u'follow_request_sent': False, u'has_extended_profile': True, u'profile_use_background_image': False, u'live_following': False, u'default_profile_image': False, u'id': 187237154, u'profile_background_image_url_https': u'https://pbs.twimg.com/profile_background_images/378800000150802853/khCWaxRv.jpeg', u'translator_type': u'none', u'verified': False, u'blocked_by': False, u'profile_text_color': u'333333', u'muting': False, u'profile_image_url_https': u'https://pbs.twimg.com/profile_images/465801598287876096/LIJLV_-k_normal.jpeg', u'profile_sidebar_fill_color': u'DDEEF6', u'entities': {u'description': {u'urls': []}}, u'followers_count': 217, u'profile_sidebar_border_color': u'FFFFFF', u'id_str': u'187237154', u'profile_background_color': u'89C9FA', u'listed_count': 2, u'status': {u'contributors': None, u'truncated': False, u'text': u'RT @Internazionale: Il tuo telecomando. https://t.co/R22kovrjRT https://t.co/jlcvQdivGc', u'is_quote_status': False, u'in_reply_to_status_id': None, u'id': 799161842107031552, u'favorite_count': 0, u'source': u'<a href=\"http://twitter.com/download/iphone\" rel=\"nofollow\">Twitter for iPhone</a>', u'retweeted': False, u'coordinates': None, u'entities': {u'symbols': [], u'user_mentions': [{u'id': 15254807, u'indices': [3, 18], u'id_str': u'15254807', u'screen_name': u'Internazionale', u'name': u'Internazionale'}], u'hashtags': [], u'urls': [{u'url': u'https://t.co/R22kovrjRT', u'indices': [40, 63], u'expanded_url': u'http://intern.az/1vDQ', u'display_url': u'intern.az/1vDQ'}], u'media': [{u'source_user_id': 15254807, u'source_status_id_str': u'799153350885445632', u'expanded_url': u'http://twitter.com/Internazionale/status/799153350885445632/photo/1', u'display_url': u'pic.twitter.com/jlcvQdivGc', u'url': u'https://t.co/jlcvQdivGc', u'media_url_https': u'https://pbs.twimg.com/media/CxZbuBkXgAAa-0z.jpg', u'source_user_id_str': u'15254807', u'source_status_id': 799153350885445632, u'id_str': u'798926830157922304', u'sizes': {u'large': {u'h': 1161, u'resize': u'fit', u'w': 2000}, u'small': {u'h': 395, u'resize': u'fit', u'w': 680}, u'medium': {u'h': 697, u'resize': u'fit', u'w': 1200}, u'thumb': {u'h': 150, u'resize': u'crop', u'w': 150}}, u'indices': [64, 87], u'type': u'photo', u'id': 798926830157922304, u'media_url': u'http://pbs.twimg.com/media/CxZbuBkXgAAa-0z.jpg'}]}, u'in_reply_to_screen_name': None, u'in_reply_to_user_id': None, u'retweet_count': 8, u'id_str': u'799161842107031552', u'favorited': False, u'retweeted_status': {u'contributors': None, u'truncated': False, u'text': u'Il tuo telecomando. https://t.co/R22kovrjRT https://t.co/jlcvQdivGc', u'is_quote_status': False, u'in_reply_to_status_id': None, u'id': 799153350885445632, u'favorite_count': 20, u'source': u'<a href=\"https://about.twitter.com/products/tweetdeck\" rel=\"nofollow\">TweetDeck</a>', u'retweeted': False, u'coordinates': None, u'entities': {u'symbols': [], u'user_mentions': [], u'hashtags': [], u'urls': [{u'url': u'https://t.co/R22kovrjRT', u'indices': [20, 43], u'expanded_url': u'http://intern.az/1vDQ', u'display_url': u'intern.az/1vDQ'}], u'media': [{u'expanded_url': u'http://twitter.com/Internazionale/status/799153350885445632/photo/1', u'display_url': u'pic.twitter.com/jlcvQdivGc', u'url': u'https://t.co/jlcvQdivGc', u'media_url_https': u'https://pbs.twimg.com/media/CxZbuBkXgAAa-0z.jpg', u'id_str': u'798926830157922304', u'sizes': {u'large': {u'h': 1161, u'resize': u'fit', u'w': 2000}, u'small': {u'h': 395, u'resize': u'fit', u'w': 680}, u'medium': {u'h': 697, u'resize': u'fit', u'w': 1200}, u'thumb': {u'h': 150, u'resize': u'crop', u'w': 150}}, u'indices': [44, 67], u'type': u'photo', u'id': 798926830157922304, u'media_url': u'http://pbs.twimg.com/media/CxZbuBkXgAAa-0z.jpg'}]}, u'in_reply_to_screen_name': None, u'in_reply_to_user_id': None, u'retweet_count': 8, u'id_str': u'799153350885445632', u'favorited': False, u'geo': None, u'in_reply_to_user_id_str': None, u'possibly_sensitive': False, u'lang': u'it', u'created_at': u'Thu Nov 17 07:33:01 +0000 2016', u'in_reply_to_status_id_str': None, u'place': None, u'extended_entities': {u'media': [{u'expanded_url': u'http://twitter.com/Internazionale/status/799153350885445632/photo/1', u'display_url': u'pic.twitter.com/jlcvQdivGc', u'url': u'https://t.co/jlcvQdivGc', u'media_url_https': u'https://pbs.twimg.com/media/CxZbuBkXgAAa-0z.jpg', u'id_str': u'798926830157922304', u'sizes': {u'large': {u'h': 1161, u'resize': u'fit', u'w': 2000}, u'small': {u'h': 395, u'resize': u'fit', u'w': 680}, u'medium': {u'h': 697, u'resize': u'fit', u'w': 1200}, u'thumb': {u'h': 150, u'resize': u'crop', u'w': 150}}, u'indices': [44, 67], u'type': u'photo', u'id': 798926830157922304, u'media_url': u'http://pbs.twimg.com/media/CxZbuBkXgAAa-0z.jpg'}]}}, u'geo': None, u'in_reply_to_user_id_str': None, u'possibly_sensitive': False, u'lang': u'it', u'created_at': u'Thu Nov 17 08:06:45 +0000 2016', u'in_reply_to_status_id_str': None, u'place': None, u'extended_entities': {u'media': [{u'source_user_id': 15254807, u'source_status_id_str': u'799153350885445632', u'expanded_url': u'http://twitter.com/Internazionale/status/799153350885445632/photo/1', u'display_url': u'pic.twitter.com/jlcvQdivGc', u'url': u'https://t.co/jlcvQdivGc', u'media_url_https': u'https://pbs.twimg.com/media/CxZbuBkXgAAa-0z.jpg', u'source_user_id_str': u'15254807', u'source_status_id': 799153350885445632, u'id_str': u'798926830157922304', u'sizes': {u'large': {u'h': 1161, u'resize': u'fit', u'w': 2000}, u'small': {u'h': 395, u'resize': u'fit', u'w': 680}, u'medium': {u'h': 697, u'resize': u'fit', u'w': 1200}, u'thumb': {u'h': 150, u'resize': u'crop', u'w': 150}}, u'indices': [64, 87], u'type': u'photo', u'id': 798926830157922304, u'media_url': u'http://pbs.twimg.com/media/CxZbuBkXgAAa-0z.jpg'}]}}, u'is_translation_enabled': False, u'utc_offset': 3600, u'statuses_count': 303, u'description': u'One person can make a difference, and everyone should try (J.F.K.)', u'friends_count': 981, u'location': u'Milano, Italy', u'profile_link_color': u'0E2357', u'profile_image_url': u'http://pbs.twimg.com/profile_images/465801598287876096/LIJLV_-k_normal.jpeg', u'following': False, u'geo_enabled': True, u'profile_banner_url': u'https://pbs.twimg.com/profile_banners/187237154/1402232472', u'blocking': False, u'profile_background_image_url': u'http://pbs.twimg.com/profile_background_images/378800000150802853/khCWaxRv.jpeg', u'screen_name': u'alemaffi', u'lang': u'it', u'profile_background_tile': False, u'favourites_count': 27, u'name': u'Alessandro Maffi', u'notifications': False, u'url': None, u'created_at': u'Sun Sep 05 17:23:39 +0000 2010', u'contributors_enabled': False, u'time_zone': u'Rome', u'protected': False, u'default_profile': False, u'is_translator': False}, is_translator=False, geo_enabled=True, entities={u'description': {u'urls': []}}, followers_count=217, protected=False, id_str=u'187237154', default_profile_image=False, listed_count=2, status=Status(contributors=None, truncated=False, text=u'RT @Internazionale: Il tuo telecomando. https://t.co/R22kovrjRT https://t.co/jlcvQdivGc', is_quote_status=False, in_reply_to_status_id=None, id=799161842107031552, favorite_count=0, _api=<tweepy.api.API object at 0x7f991b4d9290>, source=u'Twitter for iPhone', _json={u'contributors': None, u'truncated': False, u'text': u'RT @Internazionale: Il tuo telecomando. https://t.co/R22kovrjRT https://t.co/jlcvQdivGc', u'is_quote_status': False, u'in_reply_to_status_id': None, u'id': 799161842107031552, u'favorite_count': 0, u'source': u'<a href=\"http://twitter.com/download/iphone\" rel=\"nofollow\">Twitter for iPhone</a>', u'retweeted': False, u'coordinates': None, u'entities': {u'symbols': [], u'user_mentions': [{u'id': 15254807, u'indices': [3, 18], u'id_str': u'15254807', u'screen_name': u'Internazionale', u'name': u'Internazionale'}], u'hashtags': [], u'urls': [{u'url': u'https://t.co/R22kovrjRT', u'indices': [40, 63], u'expanded_url': u'http://intern.az/1vDQ', u'display_url': u'intern.az/1vDQ'}], u'media': [{u'source_user_id': 15254807, u'source_status_id_str': u'799153350885445632', u'expanded_url': u'http://twitter.com/Internazionale/status/799153350885445632/photo/1', u'display_url': u'pic.twitter.com/jlcvQdivGc', u'url': u'https://t.co/jlcvQdivGc', u'media_url_https': u'https://pbs.twimg.com/media/CxZbuBkXgAAa-0z.jpg', u'source_user_id_str': u'15254807', u'source_status_id': 799153350885445632, u'id_str': u'798926830157922304', u'sizes': {u'large': {u'h': 1161, u'resize': u'fit', u'w': 2000}, u'small': {u'h': 395, u'resize': u'fit', u'w': 680}, u'medium': {u'h': 697, u'resize': u'fit', u'w': 1200}, u'thumb': {u'h': 150, u'resize': u'crop', u'w': 150}}, u'indices': [64, 87], u'type': u'photo', u'id': 798926830157922304, u'media_url': u'http://pbs.twimg.com/media/CxZbuBkXgAAa-0z.jpg'}]}, u'in_reply_to_screen_name': None, u'in_reply_to_user_id': None, u'retweet_count': 8, u'id_str': u'799161842107031552', u'favorited': False, u'retweeted_status': {u'contributors': None, u'truncated': False, u'text': u'Il tuo telecomando. https://t.co/R22kovrjRT https://t.co/jlcvQdivGc', u'is_quote_status': False, u'in_reply_to_status_id': None, u'id': 799153350885445632, u'favorite_count': 20, u'source': u'<a href=\"https://about.twitter.com/products/tweetdeck\" rel=\"nofollow\">TweetDeck</a>', u'retweeted': False, u'coordinates': None, u'entities': {u'symbols': [], u'user_mentions': [], u'hashtags': [], u'urls': [{u'url': u'https://t.co/R22kovrjRT', u'indices': [20, 43], u'expanded_url': u'http://intern.az/1vDQ', u'display_url': u'intern.az/1vDQ'}], u'media': [{u'expanded_url': u'http://twitter.com/Internazionale/status/799153350885445632/photo/1', u'display_url': u'pic.twitter.com/jlcvQdivGc', u'url': u'https://t.co/jlcvQdivGc', u'media_url_https': u'https://pbs.twimg.com/media/CxZbuBkXgAAa-0z.jpg', u'id_str': u'798926830157922304', u'sizes': {u'large': {u'h': 1161, u'resize': u'fit', u'w': 2000}, u'small': {u'h': 395, u'resize': u'fit', u'w': 680}, u'medium': {u'h': 697, u'resize': u'fit', u'w': 1200}, u'thumb': {u'h': 150, u'resize': u'crop', u'w': 150}}, u'indices': [44, 67], u'type': u'photo', u'id': 798926830157922304, u'media_url': u'http://pbs.twimg.com/media/CxZbuBkXgAAa-0z.jpg'}]}, u'in_reply_to_screen_name': None, u'in_reply_to_user_id': None, u'retweet_count': 8, u'id_str': u'799153350885445632', u'favorited': False, u'geo': None, u'in_reply_to_user_id_str': None, u'possibly_sensitive': False, u'lang': u'it', u'created_at': u'Thu Nov 17 07:33:01 +0000 2016', u'in_reply_to_status_id_str': None, u'place': None, u'extended_entities': {u'media': [{u'expanded_url': u'http://twitter.com/Internazionale/status/799153350885445632/photo/1', u'display_url': u'pic.twitter.com/jlcvQdivGc', u'url': u'https://t.co/jlcvQdivGc', u'media_url_https': u'https://pbs.twimg.com/media/CxZbuBkXgAAa-0z.jpg', u'id_str': u'798926830157922304', u'sizes': {u'large': {u'h': 1161, u'resize': u'fit', u'w': 2000}, u'small': {u'h': 395, u'resize': u'fit', u'w': 680}, u'medium': {u'h': 697, u'resize': u'fit', u'w': 1200}, u'thumb': {u'h': 150, u'resize': u'crop', u'w': 150}}, u'indices': [44, 67], u'type': u'photo', u'id': 798926830157922304, u'media_url': u'http://pbs.twimg.com/media/CxZbuBkXgAAa-0z.jpg'}]}}, u'geo': None, u'in_reply_to_user_id_str': None, u'possibly_sensitive': False, u'lang': u'it', u'created_at': u'Thu Nov 17 08:06:45 +0000 2016', u'in_reply_to_status_id_str': None, u'place': None, u'extended_entities': {u'media': [{u'source_user_id': 15254807, u'source_status_id_str': u'799153350885445632', u'expanded_url': u'http://twitter.com/Internazionale/status/799153350885445632/photo/1', u'display_url': u'pic.twitter.com/jlcvQdivGc', u'url': u'https://t.co/jlcvQdivGc', u'media_url_https': u'https://pbs.twimg.com/media/CxZbuBkXgAAa-0z.jpg', u'source_user_id_str': u'15254807', u'source_status_id': 799153350885445632, u'id_str': u'798926830157922304', u'sizes': {u'large': {u'h': 1161, u'resize': u'fit', u'w': 2000}, u'small': {u'h': 395, u'resize': u'fit', u'w': 680}, u'medium': {u'h': 697, u'resize': u'fit', u'w': 1200}, u'thumb': {u'h': 150, u'resize': u'crop', u'w': 150}}, u'indices': [64, 87], u'type': u'photo', u'id': 798926830157922304, u'media_url': u'http://pbs.twimg.com/media/CxZbuBkXgAAa-0z.jpg'}]}}, coordinates=None, entities={u'symbols': [], u'user_mentions': [{u'id': 15254807, u'indices': [3, 18], u'id_str': u'15254807', u'screen_name': u'Internazionale', u'name': u'Internazionale'}], u'hashtags': [], u'urls': [{u'url': u'https://t.co/R22kovrjRT', u'indices': [40, 63], u'expanded_url': u'http://intern.az/1vDQ', u'display_url': u'intern.az/1vDQ'}], u'media': [{u'source_user_id': 15254807, u'source_status_id_str': u'799153350885445632', u'expanded_url': u'http://twitter.com/Internazionale/status/799153350885445632/photo/1', u'display_url': u'pic.twitter.com/jlcvQdivGc', u'url': u'https://t.co/jlcvQdivGc', u'media_url_https': u'https://pbs.twimg.com/media/CxZbuBkXgAAa-0z.jpg', u'source_user_id_str': u'15254807', u'source_status_id': 799153350885445632, u'id_str': u'798926830157922304', u'sizes': {u'large': {u'h': 1161, u'resize': u'fit', u'w': 2000}, u'small': {u'h': 395, u'resize': u'fit', u'w': 680}, u'medium': {u'h': 697, u'resize': u'fit', u'w': 1200}, u'thumb': {u'h': 150, u'resize': u'crop', u'w': 150}}, u'indices': [64, 87], u'type': u'photo', u'id': 798926830157922304, u'media_url': u'http://pbs.twimg.com/media/CxZbuBkXgAAa-0z.jpg'}]}, in_reply_to_screen_name=None, id_str=u'799161842107031552', retweet_count=8, in_reply_to_user_id=None, favorited=False, retweeted_status=Status(contributors=None, truncated=False, text=u'Il tuo telecomando. https://t.co/R22kovrjRT https://t.co/jlcvQdivGc', is_quote_status=False, in_reply_to_status_id=None, id=799153350885445632, favorite_count=20, _api=<tweepy.api.API object at 0x7f991b4d9290>, source=u'TweetDeck', _json={u'contributors': None, u'truncated': False, u'text': u'Il tuo telecomando. https://t.co/R22kovrjRT https://t.co/jlcvQdivGc', u'is_quote_status': False, u'in_reply_to_status_id': None, u'id': 799153350885445632, u'favorite_count': 20, u'source': u'<a href=\"https://about.twitter.com/products/tweetdeck\" rel=\"nofollow\">TweetDeck</a>', u'retweeted': False, u'coordinates': None, u'entities': {u'symbols': [], u'user_mentions': [], u'hashtags': [], u'urls': [{u'url': u'https://t.co/R22kovrjRT', u'indices': [20, 43], u'expanded_url': u'http://intern.az/1vDQ', u'display_url': u'intern.az/1vDQ'}], u'media': [{u'expanded_url': u'http://twitter.com/Internazionale/status/799153350885445632/photo/1', u'display_url': u'pic.twitter.com/jlcvQdivGc', u'url': u'https://t.co/jlcvQdivGc', u'media_url_https': u'https://pbs.twimg.com/media/CxZbuBkXgAAa-0z.jpg', u'id_str': u'798926830157922304', u'sizes': {u'large': {u'h': 1161, u'resize': u'fit', u'w': 2000}, u'small': {u'h': 395, u'resize': u'fit', u'w': 680}, u'medium': {u'h': 697, u'resize': u'fit', u'w': 1200}, u'thumb': {u'h': 150, u'resize': u'crop', u'w': 150}}, u'indices': [44, 67], u'type': u'photo', u'id': 798926830157922304, u'media_url': u'http://pbs.twimg.com/media/CxZbuBkXgAAa-0z.jpg'}]}, u'in_reply_to_screen_name': None, u'in_reply_to_user_id': None, u'retweet_count': 8, u'id_str': u'799153350885445632', u'favorited': False, u'geo': None, u'in_reply_to_user_id_str': None, u'possibly_sensitive': False, u'lang': u'it', u'created_at': u'Thu Nov 17 07:33:01 +0000 2016', u'in_reply_to_status_id_str': None, u'place': None, u'extended_entities': {u'media': [{u'expanded_url': u'http://twitter.com/Internazionale/status/799153350885445632/photo/1', u'display_url': u'pic.twitter.com/jlcvQdivGc', u'url': u'https://t.co/jlcvQdivGc', u'media_url_https': u'https://pbs.twimg.com/media/CxZbuBkXgAAa-0z.jpg', u'id_str': u'798926830157922304', u'sizes': {u'large': {u'h': 1161, u'resize': u'fit', u'w': 2000}, u'small': {u'h': 395, u'resize': u'fit', u'w': 680}, u'medium': {u'h': 697, u'resize': u'fit', u'w': 1200}, u'thumb': {u'h': 150, u'resize': u'crop', u'w': 150}}, u'indices': [44, 67], u'type': u'photo', u'id': 798926830157922304, u'media_url': u'http://pbs.twimg.com/media/CxZbuBkXgAAa-0z.jpg'}]}}, coordinates=None, entities={u'symbols': [], u'user_mentions': [], u'hashtags': [], u'urls': [{u'url': u'https://t.co/R22kovrjRT', u'indices': [20, 43], u'expanded_url': u'http://intern.az/1vDQ', u'display_url': u'intern.az/1vDQ'}], u'media': [{u'expanded_url': u'http://twitter.com/Internazionale/status/799153350885445632/photo/1', u'display_url': u'pic.twitter.com/jlcvQdivGc', u'url': u'https://t.co/jlcvQdivGc', u'media_url_https': u'https://pbs.twimg.com/media/CxZbuBkXgAAa-0z.jpg', u'id_str': u'798926830157922304', u'sizes': {u'large': {u'h': 1161, u'resize': u'fit', u'w': 2000}, u'small': {u'h': 395, u'resize': u'fit', u'w': 680}, u'medium': {u'h': 697, u'resize': u'fit', u'w': 1200}, u'thumb': {u'h': 150, u'resize': u'crop', u'w': 150}}, u'indices': [44, 67], u'type': u'photo', u'id': 798926830157922304, u'media_url': u'http://pbs.twimg.com/media/CxZbuBkXgAAa-0z.jpg'}]}, in_reply_to_screen_name=None, id_str=u'799153350885445632', retweet_count=8, in_reply_to_user_id=None, favorited=False, source_url=u'https://about.twitter.com/products/tweetdeck', geo=None, in_reply_to_user_id_str=None, possibly_sensitive=False, lang=u'it', created_at=datetime.datetime(2016, 11, 17, 7, 33, 1), in_reply_to_status_id_str=None, place=None, extended_entities={u'media': [{u'expanded_url': u'http://twitter.com/Internazionale/status/799153350885445632/photo/1', u'display_url': u'pic.twitter.com/jlcvQdivGc', u'url': u'https://t.co/jlcvQdivGc', u'media_url_https': u'https://pbs.twimg.com/media/CxZbuBkXgAAa-0z.jpg', u'id_str': u'798926830157922304', u'sizes': {u'large': {u'h': 1161, u'resize': u'fit', u'w': 2000}, u'small': {u'h': 395, u'resize': u'fit', u'w': 680}, u'medium': {u'h': 697, u'resize': u'fit', u'w': 1200}, u'thumb': {u'h': 150, u'resize': u'crop', u'w': 150}}, u'indices': [44, 67], u'type': u'photo', u'id': 798926830157922304, u'media_url': u'http://pbs.twimg.com/media/CxZbuBkXgAAa-0z.jpg'}]}, retweeted=False), source_url=u'http://twitter.com/download/iphone', geo=None, in_reply_to_user_id_str=None, possibly_sensitive=False, lang=u'it', created_at=datetime.datetime(2016, 11, 17, 8, 6, 45), in_reply_to_status_id_str=None, place=None, extended_entities={u'media': [{u'source_user_id': 15254807, u'source_status_id_str': u'799153350885445632', u'expanded_url': u'http://twitter.com/Internazionale/status/799153350885445632/photo/1', u'display_url': u'pic.twitter.com/jlcvQdivGc', u'url': u'https://t.co/jlcvQdivGc', u'media_url_https': u'https://pbs.twimg.com/media/CxZbuBkXgAAa-0z.jpg', u'source_user_id_str': u'15254807', u'source_status_id': 799153350885445632, u'id_str': u'798926830157922304', u'sizes': {u'large': {u'h': 1161, u'resize': u'fit', u'w': 2000}, u'small': {u'h': 395, u'resize': u'fit', u'w': 680}, u'medium': {u'h': 697, u'resize': u'fit', u'w': 1200}, u'thumb': {u'h': 150, u'resize': u'crop', u'w': 150}}, u'indices': [64, 87], u'type': u'photo', u'id': 798926830157922304, u'media_url': u'http://pbs.twimg.com/media/CxZbuBkXgAAa-0z.jpg'}]}, retweeted=False), lang=u'it', utc_offset=3600, statuses_count=303, profile_background_color=u'89C9FA', friends_count=981, profile_link_color=u'0E2357', profile_image_url=u'http://pbs.twimg.com/profile_images/465801598287876096/LIJLV_-k_normal.jpeg', notifications=False, default_profile=False, profile_background_image_url_https=u'https://pbs.twimg.com/profile_background_images/378800000150802853/khCWaxRv.jpeg', profile_banner_url=u'https://pbs.twimg.com/profile_banners/187237154/1402232472', blocking=False, profile_background_image_url=u'http://pbs.twimg.com/profile_background_images/378800000150802853/khCWaxRv.jpeg', name=u'Alessandro Maffi', is_translation_enabled=False, profile_background_tile=False, favourites_count=27, screen_name=u'alemaffi', url=None, created_at=datetime.datetime(2010, 9, 5, 17, 23, 39), contributors_enabled=False, location=u'Milano, Italy', profile_sidebar_border_color=u'FFFFFF', translator_type=u'none', following=False),\n",
       " User(follow_request_sent=False, has_extended_profile=True, profile_use_background_image=True, profile_sidebar_fill_color=u'DDEEF6', live_following=False, time_zone=None, id=3294108982, description=u'', _api=<tweepy.api.API object at 0x7f991b4d9290>, verified=False, blocked_by=False, profile_text_color=u'333333', muting=False, profile_image_url_https=u'https://pbs.twimg.com/profile_images/601752391382409216/7eFHA5Ko_normal.jpg', _json={u'follow_request_sent': False, u'has_extended_profile': True, u'profile_use_background_image': True, u'live_following': False, u'default_profile_image': False, u'id': 3294108982, u'profile_background_image_url_https': u'https://abs.twimg.com/images/themes/theme1/bg.png', u'translator_type': u'none', u'verified': False, u'blocked_by': False, u'profile_text_color': u'333333', u'muting': False, u'profile_image_url_https': u'https://pbs.twimg.com/profile_images/601752391382409216/7eFHA5Ko_normal.jpg', u'profile_sidebar_fill_color': u'DDEEF6', u'entities': {u'url': {u'urls': [{u'url': u'https://t.co/VWEwFVbk44', u'indices': [0, 23], u'expanded_url': u'http://www.soundcloud.com/sderiza86', u'display_url': u'soundcloud.com/sderiza86'}]}, u'description': {u'urls': []}}, u'followers_count': 399, u'profile_sidebar_border_color': u'C0DEED', u'id_str': u'3294108982', u'profile_background_color': u'C0DEED', u'listed_count': 3, u'status': {u'contributors': None, u'truncated': False, u'text': u'I liked a @YouTube video https://t.co/yxlGVpBrBK Ballet: Aria Alekzander 2015', u'is_quote_status': False, u'in_reply_to_status_id': None, u'id': 799527681104744448, u'favorite_count': 0, u'source': u'<a href=\"http://www.google.com/\" rel=\"nofollow\">Google</a>', u'retweeted': False, u'coordinates': None, u'entities': {u'symbols': [], u'user_mentions': [{u'id': 10228272, u'indices': [10, 18], u'id_str': u'10228272', u'screen_name': u'YouTube', u'name': u'YouTube'}], u'hashtags': [], u'urls': [{u'url': u'https://t.co/yxlGVpBrBK', u'indices': [25, 48], u'expanded_url': u'http://youtu.be/_Kp7jnyzhNY?a', u'display_url': u'youtu.be/_Kp7jnyzhNY?a'}]}, u'in_reply_to_screen_name': None, u'in_reply_to_user_id': None, u'retweet_count': 0, u'id_str': u'799527681104744448', u'favorited': False, u'geo': None, u'in_reply_to_user_id_str': None, u'possibly_sensitive': False, u'lang': u'en', u'created_at': u'Fri Nov 18 08:20:28 +0000 2016', u'in_reply_to_status_id_str': None, u'place': None}, u'is_translation_enabled': False, u'utc_offset': None, u'statuses_count': 978, u'description': u'', u'friends_count': 3011, u'location': u'', u'profile_link_color': u'1DA1F2', u'profile_image_url': u'http://pbs.twimg.com/profile_images/601752391382409216/7eFHA5Ko_normal.jpg', u'following': False, u'geo_enabled': False, u'profile_banner_url': u'https://pbs.twimg.com/profile_banners/3294108982/1472160113', u'blocking': False, u'profile_background_image_url': u'http://abs.twimg.com/images/themes/theme1/bg.png', u'screen_name': u'patric_k73', u'lang': u'it', u'profile_background_tile': False, u'favourites_count': 407, u'name': u'patrick', u'notifications': False, u'url': u'https://t.co/VWEwFVbk44', u'created_at': u'Fri May 22 14:11:02 +0000 2015', u'contributors_enabled': False, u'time_zone': None, u'protected': False, u'default_profile': True, u'is_translator': False}, is_translator=False, geo_enabled=False, entities={u'url': {u'urls': [{u'url': u'https://t.co/VWEwFVbk44', u'indices': [0, 23], u'expanded_url': u'http://www.soundcloud.com/sderiza86', u'display_url': u'soundcloud.com/sderiza86'}]}, u'description': {u'urls': []}}, followers_count=399, protected=False, id_str=u'3294108982', default_profile_image=False, listed_count=3, status=Status(contributors=None, truncated=False, text=u'I liked a @YouTube video https://t.co/yxlGVpBrBK Ballet: Aria Alekzander 2015', is_quote_status=False, in_reply_to_status_id=None, id=799527681104744448, favorite_count=0, _api=<tweepy.api.API object at 0x7f991b4d9290>, source=u'Google', _json={u'contributors': None, u'truncated': False, u'text': u'I liked a @YouTube video https://t.co/yxlGVpBrBK Ballet: Aria Alekzander 2015', u'is_quote_status': False, u'in_reply_to_status_id': None, u'id': 799527681104744448, u'favorite_count': 0, u'source': u'<a href=\"http://www.google.com/\" rel=\"nofollow\">Google</a>', u'retweeted': False, u'coordinates': None, u'entities': {u'symbols': [], u'user_mentions': [{u'id': 10228272, u'indices': [10, 18], u'id_str': u'10228272', u'screen_name': u'YouTube', u'name': u'YouTube'}], u'hashtags': [], u'urls': [{u'url': u'https://t.co/yxlGVpBrBK', u'indices': [25, 48], u'expanded_url': u'http://youtu.be/_Kp7jnyzhNY?a', u'display_url': u'youtu.be/_Kp7jnyzhNY?a'}]}, u'in_reply_to_screen_name': None, u'in_reply_to_user_id': None, u'retweet_count': 0, u'id_str': u'799527681104744448', u'favorited': False, u'geo': None, u'in_reply_to_user_id_str': None, u'possibly_sensitive': False, u'lang': u'en', u'created_at': u'Fri Nov 18 08:20:28 +0000 2016', u'in_reply_to_status_id_str': None, u'place': None}, coordinates=None, entities={u'symbols': [], u'user_mentions': [{u'id': 10228272, u'indices': [10, 18], u'id_str': u'10228272', u'screen_name': u'YouTube', u'name': u'YouTube'}], u'hashtags': [], u'urls': [{u'url': u'https://t.co/yxlGVpBrBK', u'indices': [25, 48], u'expanded_url': u'http://youtu.be/_Kp7jnyzhNY?a', u'display_url': u'youtu.be/_Kp7jnyzhNY?a'}]}, in_reply_to_screen_name=None, id_str=u'799527681104744448', retweet_count=0, in_reply_to_user_id=None, favorited=False, source_url=u'http://www.google.com/', geo=None, in_reply_to_user_id_str=None, possibly_sensitive=False, lang=u'en', created_at=datetime.datetime(2016, 11, 18, 8, 20, 28), in_reply_to_status_id_str=None, place=None, retweeted=False), lang=u'it', utc_offset=None, statuses_count=978, profile_background_color=u'C0DEED', friends_count=3011, profile_link_color=u'1DA1F2', profile_image_url=u'http://pbs.twimg.com/profile_images/601752391382409216/7eFHA5Ko_normal.jpg', notifications=False, default_profile=True, profile_background_image_url_https=u'https://abs.twimg.com/images/themes/theme1/bg.png', profile_banner_url=u'https://pbs.twimg.com/profile_banners/3294108982/1472160113', blocking=False, profile_background_image_url=u'http://abs.twimg.com/images/themes/theme1/bg.png', name=u'patrick', is_translation_enabled=False, profile_background_tile=False, favourites_count=407, screen_name=u'patric_k73', url=u'https://t.co/VWEwFVbk44', created_at=datetime.datetime(2015, 5, 22, 14, 11, 2), contributors_enabled=False, location=u'', profile_sidebar_border_color=u'C0DEED', translator_type=u'none', following=False),\n",
       " User(follow_request_sent=False, has_extended_profile=False, profile_use_background_image=True, profile_sidebar_fill_color=u'DDEEF6', live_following=False, time_zone=None, id=780165324918419457, description=u'simona.grande@foodinnovationprogram.org', _api=<tweepy.api.API object at 0x7f991b4d9290>, verified=False, blocked_by=False, profile_text_color=u'333333', muting=False, profile_image_url_https=u'https://pbs.twimg.com/profile_images/780332979520409600/2l9VLD01_normal.jpg', _json={u'follow_request_sent': False, u'has_extended_profile': False, u'profile_use_background_image': True, u'live_following': False, u'default_profile_image': False, u'id': 780165324918419457, u'profile_background_image_url_https': None, u'translator_type': u'none', u'verified': False, u'blocked_by': False, u'profile_text_color': u'333333', u'muting': False, u'profile_image_url_https': u'https://pbs.twimg.com/profile_images/780332979520409600/2l9VLD01_normal.jpg', u'profile_sidebar_fill_color': u'DDEEF6', u'entities': {u'description': {u'urls': []}}, u'followers_count': 128, u'profile_sidebar_border_color': u'C0DEED', u'id_str': u'780165324918419457', u'profile_background_color': u'F5F8FA', u'listed_count': 67, u'status': {u'contributors': None, u'truncated': False, u'text': u'Using #clay to #prototype #kitchen #gesture at #FoodInPro https://t.co/O8tAYYbSzA', u'is_quote_status': False, u'in_reply_to_status_id': None, u'id': 799610688033456128, u'favorite_count': 1, u'source': u'<a href=\"http://twitter.com/download/iphone\" rel=\"nofollow\">Twitter for iPhone</a>', u'retweeted': False, u'coordinates': None, u'entities': {u'symbols': [], u'user_mentions': [], u'hashtags': [{u'indices': [6, 11], u'text': u'clay'}, {u'indices': [15, 25], u'text': u'prototype'}, {u'indices': [26, 34], u'text': u'kitchen'}, {u'indices': [35, 43], u'text': u'gesture'}, {u'indices': [47, 57], u'text': u'FoodInPro'}], u'urls': [], u'media': [{u'expanded_url': u'https://twitter.com/simoinpro/status/799610688033456128/photo/1', u'display_url': u'pic.twitter.com/O8tAYYbSzA', u'url': u'https://t.co/O8tAYYbSzA', u'media_url_https': u'https://pbs.twimg.com/media/CxjJq1_WQAAm4GW.jpg', u'id_str': u'799610671742730240', u'sizes': {u'small': {u'h': 383, u'resize': u'fit', u'w': 680}, u'large': {u'h': 1152, u'resize': u'fit', u'w': 2047}, u'medium': {u'h': 675, u'resize': u'fit', u'w': 1200}, u'thumb': {u'h': 150, u'resize': u'crop', u'w': 150}}, u'indices': [58, 81], u'type': u'photo', u'id': 799610671742730240, u'media_url': u'http://pbs.twimg.com/media/CxjJq1_WQAAm4GW.jpg'}]}, u'in_reply_to_screen_name': None, u'in_reply_to_user_id': None, u'retweet_count': 1, u'id_str': u'799610688033456128', u'favorited': False, u'geo': None, u'in_reply_to_user_id_str': None, u'possibly_sensitive': False, u'lang': u'en', u'created_at': u'Fri Nov 18 13:50:18 +0000 2016', u'in_reply_to_status_id_str': None, u'place': None, u'extended_entities': {u'media': [{u'expanded_url': u'https://twitter.com/simoinpro/status/799610688033456128/photo/1', u'display_url': u'pic.twitter.com/O8tAYYbSzA', u'url': u'https://t.co/O8tAYYbSzA', u'media_url_https': u'https://pbs.twimg.com/media/CxjJq1_WQAAm4GW.jpg', u'id_str': u'799610671742730240', u'sizes': {u'small': {u'h': 383, u'resize': u'fit', u'w': 680}, u'large': {u'h': 1152, u'resize': u'fit', u'w': 2047}, u'medium': {u'h': 675, u'resize': u'fit', u'w': 1200}, u'thumb': {u'h': 150, u'resize': u'crop', u'w': 150}}, u'indices': [58, 81], u'type': u'photo', u'id': 799610671742730240, u'media_url': u'http://pbs.twimg.com/media/CxjJq1_WQAAm4GW.jpg'}]}}, u'is_translation_enabled': False, u'utc_offset': None, u'statuses_count': 290, u'description': u'simona.grande@foodinnovationprogram.org', u'friends_count': 282, u'location': u'Italy', u'profile_link_color': u'1DA1F2', u'profile_image_url': u'http://pbs.twimg.com/profile_images/780332979520409600/2l9VLD01_normal.jpg', u'following': False, u'geo_enabled': False, u'blocking': False, u'profile_background_image_url': None, u'screen_name': u'simoinpro', u'lang': u'en', u'profile_background_tile': False, u'favourites_count': 211, u'name': u'Simona Grande', u'notifications': False, u'url': None, u'created_at': u'Sun Sep 25 22:01:23 +0000 2016', u'contributors_enabled': False, u'time_zone': None, u'protected': False, u'default_profile': True, u'is_translator': False}, is_translator=False, geo_enabled=False, entities={u'description': {u'urls': []}}, followers_count=128, protected=False, id_str=u'780165324918419457', default_profile_image=False, listed_count=67, status=Status(contributors=None, truncated=False, text=u'Using #clay to #prototype #kitchen #gesture at #FoodInPro https://t.co/O8tAYYbSzA', is_quote_status=False, in_reply_to_status_id=None, id=799610688033456128, favorite_count=1, _api=<tweepy.api.API object at 0x7f991b4d9290>, source=u'Twitter for iPhone', _json={u'contributors': None, u'truncated': False, u'text': u'Using #clay to #prototype #kitchen #gesture at #FoodInPro https://t.co/O8tAYYbSzA', u'is_quote_status': False, u'in_reply_to_status_id': None, u'id': 799610688033456128, u'favorite_count': 1, u'source': u'<a href=\"http://twitter.com/download/iphone\" rel=\"nofollow\">Twitter for iPhone</a>', u'retweeted': False, u'coordinates': None, u'entities': {u'symbols': [], u'user_mentions': [], u'hashtags': [{u'indices': [6, 11], u'text': u'clay'}, {u'indices': [15, 25], u'text': u'prototype'}, {u'indices': [26, 34], u'text': u'kitchen'}, {u'indices': [35, 43], u'text': u'gesture'}, {u'indices': [47, 57], u'text': u'FoodInPro'}], u'urls': [], u'media': [{u'expanded_url': u'https://twitter.com/simoinpro/status/799610688033456128/photo/1', u'display_url': u'pic.twitter.com/O8tAYYbSzA', u'url': u'https://t.co/O8tAYYbSzA', u'media_url_https': u'https://pbs.twimg.com/media/CxjJq1_WQAAm4GW.jpg', u'id_str': u'799610671742730240', u'sizes': {u'small': {u'h': 383, u'resize': u'fit', u'w': 680}, u'large': {u'h': 1152, u'resize': u'fit', u'w': 2047}, u'medium': {u'h': 675, u'resize': u'fit', u'w': 1200}, u'thumb': {u'h': 150, u'resize': u'crop', u'w': 150}}, u'indices': [58, 81], u'type': u'photo', u'id': 799610671742730240, u'media_url': u'http://pbs.twimg.com/media/CxjJq1_WQAAm4GW.jpg'}]}, u'in_reply_to_screen_name': None, u'in_reply_to_user_id': None, u'retweet_count': 1, u'id_str': u'799610688033456128', u'favorited': False, u'geo': None, u'in_reply_to_user_id_str': None, u'possibly_sensitive': False, u'lang': u'en', u'created_at': u'Fri Nov 18 13:50:18 +0000 2016', u'in_reply_to_status_id_str': None, u'place': None, u'extended_entities': {u'media': [{u'expanded_url': u'https://twitter.com/simoinpro/status/799610688033456128/photo/1', u'display_url': u'pic.twitter.com/O8tAYYbSzA', u'url': u'https://t.co/O8tAYYbSzA', u'media_url_https': u'https://pbs.twimg.com/media/CxjJq1_WQAAm4GW.jpg', u'id_str': u'799610671742730240', u'sizes': {u'small': {u'h': 383, u'resize': u'fit', u'w': 680}, u'large': {u'h': 1152, u'resize': u'fit', u'w': 2047}, u'medium': {u'h': 675, u'resize': u'fit', u'w': 1200}, u'thumb': {u'h': 150, u'resize': u'crop', u'w': 150}}, u'indices': [58, 81], u'type': u'photo', u'id': 799610671742730240, u'media_url': u'http://pbs.twimg.com/media/CxjJq1_WQAAm4GW.jpg'}]}}, coordinates=None, entities={u'symbols': [], u'user_mentions': [], u'hashtags': [{u'indices': [6, 11], u'text': u'clay'}, {u'indices': [15, 25], u'text': u'prototype'}, {u'indices': [26, 34], u'text': u'kitchen'}, {u'indices': [35, 43], u'text': u'gesture'}, {u'indices': [47, 57], u'text': u'FoodInPro'}], u'urls': [], u'media': [{u'expanded_url': u'https://twitter.com/simoinpro/status/799610688033456128/photo/1', u'display_url': u'pic.twitter.com/O8tAYYbSzA', u'url': u'https://t.co/O8tAYYbSzA', u'media_url_https': u'https://pbs.twimg.com/media/CxjJq1_WQAAm4GW.jpg', u'id_str': u'799610671742730240', u'sizes': {u'small': {u'h': 383, u'resize': u'fit', u'w': 680}, u'large': {u'h': 1152, u'resize': u'fit', u'w': 2047}, u'medium': {u'h': 675, u'resize': u'fit', u'w': 1200}, u'thumb': {u'h': 150, u'resize': u'crop', u'w': 150}}, u'indices': [58, 81], u'type': u'photo', u'id': 799610671742730240, u'media_url': u'http://pbs.twimg.com/media/CxjJq1_WQAAm4GW.jpg'}]}, in_reply_to_screen_name=None, id_str=u'799610688033456128', retweet_count=1, in_reply_to_user_id=None, favorited=False, source_url=u'http://twitter.com/download/iphone', geo=None, in_reply_to_user_id_str=None, possibly_sensitive=False, lang=u'en', created_at=datetime.datetime(2016, 11, 18, 13, 50, 18), in_reply_to_status_id_str=None, place=None, extended_entities={u'media': [{u'expanded_url': u'https://twitter.com/simoinpro/status/799610688033456128/photo/1', u'display_url': u'pic.twitter.com/O8tAYYbSzA', u'url': u'https://t.co/O8tAYYbSzA', u'media_url_https': u'https://pbs.twimg.com/media/CxjJq1_WQAAm4GW.jpg', u'id_str': u'799610671742730240', u'sizes': {u'small': {u'h': 383, u'resize': u'fit', u'w': 680}, u'large': {u'h': 1152, u'resize': u'fit', u'w': 2047}, u'medium': {u'h': 675, u'resize': u'fit', u'w': 1200}, u'thumb': {u'h': 150, u'resize': u'crop', u'w': 150}}, u'indices': [58, 81], u'type': u'photo', u'id': 799610671742730240, u'media_url': u'http://pbs.twimg.com/media/CxjJq1_WQAAm4GW.jpg'}]}, retweeted=False), lang=u'en', utc_offset=None, statuses_count=290, profile_background_color=u'F5F8FA', friends_count=282, profile_link_color=u'1DA1F2', profile_image_url=u'http://pbs.twimg.com/profile_images/780332979520409600/2l9VLD01_normal.jpg', notifications=False, default_profile=True, profile_background_image_url_https=None, blocking=False, profile_background_image_url=None, name=u'Simona Grande', is_translation_enabled=False, profile_background_tile=False, favourites_count=211, screen_name=u'simoinpro', url=None, created_at=datetime.datetime(2016, 9, 25, 22, 1, 23), contributors_enabled=False, location=u'Italy', profile_sidebar_border_color=u'C0DEED', translator_type=u'none', following=False),\n",
       " User(follow_request_sent=False, has_extended_profile=False, profile_use_background_image=True, profile_sidebar_fill_color=u'DDEEF6', live_following=False, time_zone=u'West Central Africa', id=406481329, description=u'', _api=<tweepy.api.API object at 0x7f991b4d9290>, verified=False, blocked_by=False, profile_text_color=u'333333', muting=False, profile_image_url_https=u'https://pbs.twimg.com/profile_images/1625903893/image_normal.jpg', _json={u'follow_request_sent': False, u'has_extended_profile': False, u'profile_use_background_image': True, u'live_following': False, u'default_profile_image': False, u'id': 406481329, u'profile_background_image_url_https': u'https://abs.twimg.com/images/themes/theme1/bg.png', u'translator_type': u'none', u'verified': False, u'blocked_by': False, u'profile_text_color': u'333333', u'muting': False, u'profile_image_url_https': u'https://pbs.twimg.com/profile_images/1625903893/image_normal.jpg', u'profile_sidebar_fill_color': u'DDEEF6', u'entities': {u'description': {u'urls': []}}, u'followers_count': 6, u'profile_sidebar_border_color': u'C0DEED', u'id_str': u'406481329', u'profile_background_color': u'C0DEED', u'listed_count': 0, u'is_translation_enabled': False, u'utc_offset': 3600, u'statuses_count': 0, u'description': u'', u'friends_count': 137, u'location': u'', u'profile_link_color': u'1DA1F2', u'profile_image_url': u'http://pbs.twimg.com/profile_images/1625903893/image_normal.jpg', u'following': False, u'geo_enabled': True, u'blocking': False, u'profile_background_image_url': u'http://abs.twimg.com/images/themes/theme1/bg.png', u'screen_name': u'fasaluna', u'lang': u'it', u'profile_background_tile': False, u'favourites_count': 0, u'name': u'Fabio Fasani', u'notifications': False, u'url': None, u'created_at': u'Sun Nov 06 19:28:45 +0000 2011', u'contributors_enabled': False, u'time_zone': u'West Central Africa', u'protected': False, u'default_profile': True, u'is_translator': False}, is_translator=False, geo_enabled=True, entities={u'description': {u'urls': []}}, followers_count=6, protected=False, id_str=u'406481329', default_profile_image=False, listed_count=0, lang=u'it', utc_offset=3600, statuses_count=0, profile_background_color=u'C0DEED', friends_count=137, profile_link_color=u'1DA1F2', profile_image_url=u'http://pbs.twimg.com/profile_images/1625903893/image_normal.jpg', notifications=False, default_profile=True, profile_background_image_url_https=u'https://abs.twimg.com/images/themes/theme1/bg.png', blocking=False, profile_background_image_url=u'http://abs.twimg.com/images/themes/theme1/bg.png', name=u'Fabio Fasani', is_translation_enabled=False, profile_background_tile=False, favourites_count=0, screen_name=u'fasaluna', url=None, created_at=datetime.datetime(2011, 11, 6, 19, 28, 45), contributors_enabled=False, location=u'', profile_sidebar_border_color=u'C0DEED', translator_type=u'none', following=False),\n",
       " User(follow_request_sent=False, has_extended_profile=True, profile_use_background_image=True, profile_sidebar_fill_color=u'DDEEF6', live_following=False, time_zone=None, id=513108895, description=u'', _api=<tweepy.api.API object at 0x7f991b4d9290>, verified=False, blocked_by=False, profile_text_color=u'333333', muting=False, profile_image_url_https=u'https://pbs.twimg.com/profile_images/638976058340077568/PaL6e8-b_normal.jpg', _json={u'follow_request_sent': False, u'has_extended_profile': True, u'profile_use_background_image': True, u'live_following': False, u'default_profile_image': False, u'id': 513108895, u'profile_background_image_url_https': u'https://abs.twimg.com/images/themes/theme1/bg.png', u'translator_type': u'none', u'verified': False, u'blocked_by': False, u'profile_text_color': u'333333', u'muting': False, u'profile_image_url_https': u'https://pbs.twimg.com/profile_images/638976058340077568/PaL6e8-b_normal.jpg', u'profile_sidebar_fill_color': u'DDEEF6', u'entities': {u'description': {u'urls': []}}, u'followers_count': 82, u'profile_sidebar_border_color': u'C0DEED', u'id_str': u'513108895', u'profile_background_color': u'C0DEED', u'listed_count': 0, u'is_translation_enabled': False, u'utc_offset': None, u'statuses_count': 909, u'description': u'', u'friends_count': 13, u'location': u'Firenze', u'profile_link_color': u'1DA1F2', u'profile_image_url': u'http://pbs.twimg.com/profile_images/638976058340077568/PaL6e8-b_normal.jpg', u'following': False, u'geo_enabled': False, u'blocking': False, u'profile_background_image_url': u'http://abs.twimg.com/images/themes/theme1/bg.png', u'screen_name': u'guidorossi12', u'lang': u'it', u'profile_background_tile': False, u'favourites_count': 31, u'name': u'Guido Rossi', u'notifications': False, u'url': None, u'created_at': u'Sat Mar 03 12:14:18 +0000 2012', u'contributors_enabled': False, u'time_zone': None, u'protected': True, u'default_profile': True, u'is_translator': False}, is_translator=False, geo_enabled=False, entities={u'description': {u'urls': []}}, followers_count=82, protected=True, id_str=u'513108895', default_profile_image=False, listed_count=0, lang=u'it', utc_offset=None, statuses_count=909, profile_background_color=u'C0DEED', friends_count=13, profile_link_color=u'1DA1F2', profile_image_url=u'http://pbs.twimg.com/profile_images/638976058340077568/PaL6e8-b_normal.jpg', notifications=False, default_profile=True, profile_background_image_url_https=u'https://abs.twimg.com/images/themes/theme1/bg.png', blocking=False, profile_background_image_url=u'http://abs.twimg.com/images/themes/theme1/bg.png', name=u'Guido Rossi', is_translation_enabled=False, profile_background_tile=False, favourites_count=31, screen_name=u'guidorossi12', url=None, created_at=datetime.datetime(2012, 3, 3, 12, 14, 18), contributors_enabled=False, location=u'Firenze', profile_sidebar_border_color=u'C0DEED', translator_type=u'none', following=False),\n",
       " User(follow_request_sent=False, has_extended_profile=True, profile_use_background_image=True, profile_sidebar_fill_color=u'DDEEF6', live_following=False, time_zone=None, id=789580635358765062, description=u'Geography in italy', _api=<tweepy.api.API object at 0x7f991b4d9290>, verified=False, blocked_by=False, profile_text_color=u'333333', muting=False, profile_image_url_https=u'https://pbs.twimg.com/profile_images/797098589898100736/0zJopSHp_normal.jpg', _json={u'follow_request_sent': False, u'has_extended_profile': True, u'profile_use_background_image': True, u'live_following': False, u'default_profile_image': False, u'id': 789580635358765062, u'profile_background_image_url_https': None, u'translator_type': u'none', u'verified': False, u'blocked_by': False, u'profile_text_color': u'333333', u'muting': False, u'profile_image_url_https': u'https://pbs.twimg.com/profile_images/797098589898100736/0zJopSHp_normal.jpg', u'profile_sidebar_fill_color': u'DDEEF6', u'entities': {u'description': {u'urls': []}}, u'followers_count': 26, u'profile_sidebar_border_color': u'C0DEED', u'id_str': u'789580635358765062', u'profile_background_color': u'F5F8FA', u'listed_count': 0, u'status': {u'contributors': None, u'truncated': False, u'text': u'Oggi Moltissimi  freddo a Reggio Emilia  italy https://t.co/xifAfp6sgb', u'is_quote_status': False, u'in_reply_to_status_id': None, u'id': 797098433249181697, u'favorite_count': 2, u'source': u'<a href=\"http://twitter.com/download/android\" rel=\"nofollow\">Twitter for Android</a>', u'retweeted': False, u'coordinates': None, u'entities': {u'symbols': [], u'user_mentions': [], u'hashtags': [], u'urls': [], u'media': [{u'expanded_url': u'https://twitter.com/Greenla30687231/status/797098433249181697/video/1', u'display_url': u'pic.twitter.com/xifAfp6sgb', u'url': u'https://t.co/xifAfp6sgb', u'media_url_https': u'https://pbs.twimg.com/ext_tw_video_thumb/797097441325629440/pu/img/fX_asA-3tQVa9gIv.jpg', u'id_str': u'797097441325629440', u'sizes': {u'small': {u'h': 191, u'resize': u'fit', u'w': 340}, u'large': {u'h': 576, u'resize': u'fit', u'w': 1024}, u'medium': {u'h': 338, u'resize': u'fit', u'w': 600}, u'thumb': {u'h': 150, u'resize': u'crop', u'w': 150}}, u'indices': [47, 70], u'type': u'photo', u'id': 797097441325629440, u'media_url': u'http://pbs.twimg.com/ext_tw_video_thumb/797097441325629440/pu/img/fX_asA-3tQVa9gIv.jpg'}]}, u'in_reply_to_screen_name': None, u'in_reply_to_user_id': None, u'retweet_count': 0, u'id_str': u'797098433249181697', u'favorited': False, u'geo': None, u'in_reply_to_user_id_str': None, u'possibly_sensitive': False, u'lang': u'it', u'created_at': u'Fri Nov 11 15:27:30 +0000 2016', u'in_reply_to_status_id_str': None, u'place': {u'full_name': u\"Reggio nell'Emilia, Emilia Romagna\", u'url': u'https://api.twitter.com/1.1/geo/id/b9c6df5966b9e7b0.json', u'country': u'Italia', u'place_type': u'city', u'bounding_box': {u'type': u'Polygon', u'coordinates': [[[10.4910454, 44.624267], [10.7733491, 44.624267], [10.7733491, 44.7745162], [10.4910454, 44.7745162]]]}, u'contained_within': [], u'country_code': u'IT', u'attributes': {}, u'id': u'b9c6df5966b9e7b0', u'name': u\"Reggio nell'Emilia\"}, u'extended_entities': {u'media': [{u'additional_media_info': {u'monetizable': False}, u'expanded_url': u'https://twitter.com/Greenla30687231/status/797098433249181697/video/1', u'display_url': u'pic.twitter.com/xifAfp6sgb', u'url': u'https://t.co/xifAfp6sgb', u'media_url_https': u'https://pbs.twimg.com/ext_tw_video_thumb/797097441325629440/pu/img/fX_asA-3tQVa9gIv.jpg', u'video_info': {u'aspect_ratio': [16, 9], u'duration_millis': 27301, u'variants': [{u'url': u'https://video.twimg.com/ext_tw_video/797097441325629440/pu/pl/EEbYEbdQbFkXEUYs.mpd', u'content_type': u'application/dash+xml'}, {u'url': u'https://video.twimg.com/ext_tw_video/797097441325629440/pu/vid/640x360/AYeZB9LELyy6Mvqw.mp4', u'bitrate': 832000, u'content_type': u'video/mp4'}, {u'url': u'https://video.twimg.com/ext_tw_video/797097441325629440/pu/vid/1280x720/uO-ojUemgTkBpuJ7.mp4', u'bitrate': 2176000, u'content_type': u'video/mp4'}, {u'url': u'https://video.twimg.com/ext_tw_video/797097441325629440/pu/vid/320x180/JLB4J6uExSIGJOLS.mp4', u'bitrate': 320000, u'content_type': u'video/mp4'}, {u'url': u'https://video.twimg.com/ext_tw_video/797097441325629440/pu/pl/EEbYEbdQbFkXEUYs.m3u8', u'content_type': u'application/x-mpegURL'}]}, u'id_str': u'797097441325629440', u'sizes': {u'small': {u'h': 191, u'resize': u'fit', u'w': 340}, u'large': {u'h': 576, u'resize': u'fit', u'w': 1024}, u'medium': {u'h': 338, u'resize': u'fit', u'w': 600}, u'thumb': {u'h': 150, u'resize': u'crop', u'w': 150}}, u'indices': [47, 70], u'type': u'video', u'id': 797097441325629440, u'media_url': u'http://pbs.twimg.com/ext_tw_video_thumb/797097441325629440/pu/img/fX_asA-3tQVa9gIv.jpg'}]}}, u'is_translation_enabled': False, u'utc_offset': None, u'statuses_count': 3, u'description': u'Geography in italy', u'friends_count': 347, u'location': u'Castelnovo di Sotto, Emilia Ro', u'profile_link_color': u'1DA1F2', u'profile_image_url': u'http://pbs.twimg.com/profile_images/797098589898100736/0zJopSHp_normal.jpg', u'following': False, u'geo_enabled': True, u'profile_banner_url': u'https://pbs.twimg.com/profile_banners/789580635358765062/1477136694', u'blocking': False, u'profile_background_image_url': None, u'screen_name': u'Greenla30687231', u'lang': u'en', u'profile_background_tile': False, u'favourites_count': 16, u'name': u'Shabir Geografica', u'notifications': False, u'url': None, u'created_at': u'Fri Oct 21 21:34:28 +0000 2016', u'contributors_enabled': False, u'time_zone': None, u'protected': False, u'default_profile': True, u'is_translator': False}, is_translator=False, geo_enabled=True, entities={u'description': {u'urls': []}}, followers_count=26, protected=False, id_str=u'789580635358765062', default_profile_image=False, listed_count=0, status=Status(contributors=None, truncated=False, text=u'Oggi Moltissimi  freddo a Reggio Emilia  italy https://t.co/xifAfp6sgb', is_quote_status=False, in_reply_to_status_id=None, id=797098433249181697, favorite_count=2, _api=<tweepy.api.API object at 0x7f991b4d9290>, source=u'Twitter for Android', _json={u'contributors': None, u'truncated': False, u'text': u'Oggi Moltissimi  freddo a Reggio Emilia  italy https://t.co/xifAfp6sgb', u'is_quote_status': False, u'in_reply_to_status_id': None, u'id': 797098433249181697, u'favorite_count': 2, u'source': u'<a href=\"http://twitter.com/download/android\" rel=\"nofollow\">Twitter for Android</a>', u'retweeted': False, u'coordinates': None, u'entities': {u'symbols': [], u'user_mentions': [], u'hashtags': [], u'urls': [], u'media': [{u'expanded_url': u'https://twitter.com/Greenla30687231/status/797098433249181697/video/1', u'display_url': u'pic.twitter.com/xifAfp6sgb', u'url': u'https://t.co/xifAfp6sgb', u'media_url_https': u'https://pbs.twimg.com/ext_tw_video_thumb/797097441325629440/pu/img/fX_asA-3tQVa9gIv.jpg', u'id_str': u'797097441325629440', u'sizes': {u'small': {u'h': 191, u'resize': u'fit', u'w': 340}, u'large': {u'h': 576, u'resize': u'fit', u'w': 1024}, u'medium': {u'h': 338, u'resize': u'fit', u'w': 600}, u'thumb': {u'h': 150, u'resize': u'crop', u'w': 150}}, u'indices': [47, 70], u'type': u'photo', u'id': 797097441325629440, u'media_url': u'http://pbs.twimg.com/ext_tw_video_thumb/797097441325629440/pu/img/fX_asA-3tQVa9gIv.jpg'}]}, u'in_reply_to_screen_name': None, u'in_reply_to_user_id': None, u'retweet_count': 0, u'id_str': u'797098433249181697', u'favorited': False, u'geo': None, u'in_reply_to_user_id_str': None, u'possibly_sensitive': False, u'lang': u'it', u'created_at': u'Fri Nov 11 15:27:30 +0000 2016', u'in_reply_to_status_id_str': None, u'place': {u'full_name': u\"Reggio nell'Emilia, Emilia Romagna\", u'url': u'https://api.twitter.com/1.1/geo/id/b9c6df5966b9e7b0.json', u'country': u'Italia', u'place_type': u'city', u'bounding_box': {u'type': u'Polygon', u'coordinates': [[[10.4910454, 44.624267], [10.7733491, 44.624267], [10.7733491, 44.7745162], [10.4910454, 44.7745162]]]}, u'contained_within': [], u'country_code': u'IT', u'attributes': {}, u'id': u'b9c6df5966b9e7b0', u'name': u\"Reggio nell'Emilia\"}, u'extended_entities': {u'media': [{u'additional_media_info': {u'monetizable': False}, u'expanded_url': u'https://twitter.com/Greenla30687231/status/797098433249181697/video/1', u'display_url': u'pic.twitter.com/xifAfp6sgb', u'url': u'https://t.co/xifAfp6sgb', u'media_url_https': u'https://pbs.twimg.com/ext_tw_video_thumb/797097441325629440/pu/img/fX_asA-3tQVa9gIv.jpg', u'video_info': {u'aspect_ratio': [16, 9], u'duration_millis': 27301, u'variants': [{u'url': u'https://video.twimg.com/ext_tw_video/797097441325629440/pu/pl/EEbYEbdQbFkXEUYs.mpd', u'content_type': u'application/dash+xml'}, {u'url': u'https://video.twimg.com/ext_tw_video/797097441325629440/pu/vid/640x360/AYeZB9LELyy6Mvqw.mp4', u'bitrate': 832000, u'content_type': u'video/mp4'}, {u'url': u'https://video.twimg.com/ext_tw_video/797097441325629440/pu/vid/1280x720/uO-ojUemgTkBpuJ7.mp4', u'bitrate': 2176000, u'content_type': u'video/mp4'}, {u'url': u'https://video.twimg.com/ext_tw_video/797097441325629440/pu/vid/320x180/JLB4J6uExSIGJOLS.mp4', u'bitrate': 320000, u'content_type': u'video/mp4'}, {u'url': u'https://video.twimg.com/ext_tw_video/797097441325629440/pu/pl/EEbYEbdQbFkXEUYs.m3u8', u'content_type': u'application/x-mpegURL'}]}, u'id_str': u'797097441325629440', u'sizes': {u'small': {u'h': 191, u'resize': u'fit', u'w': 340}, u'large': {u'h': 576, u'resize': u'fit', u'w': 1024}, u'medium': {u'h': 338, u'resize': u'fit', u'w': 600}, u'thumb': {u'h': 150, u'resize': u'crop', u'w': 150}}, u'indices': [47, 70], u'type': u'video', u'id': 797097441325629440, u'media_url': u'http://pbs.twimg.com/ext_tw_video_thumb/797097441325629440/pu/img/fX_asA-3tQVa9gIv.jpg'}]}}, coordinates=None, entities={u'symbols': [], u'user_mentions': [], u'hashtags': [], u'urls': [], u'media': [{u'expanded_url': u'https://twitter.com/Greenla30687231/status/797098433249181697/video/1', u'display_url': u'pic.twitter.com/xifAfp6sgb', u'url': u'https://t.co/xifAfp6sgb', u'media_url_https': u'https://pbs.twimg.com/ext_tw_video_thumb/797097441325629440/pu/img/fX_asA-3tQVa9gIv.jpg', u'id_str': u'797097441325629440', u'sizes': {u'small': {u'h': 191, u'resize': u'fit', u'w': 340}, u'large': {u'h': 576, u'resize': u'fit', u'w': 1024}, u'medium': {u'h': 338, u'resize': u'fit', u'w': 600}, u'thumb': {u'h': 150, u'resize': u'crop', u'w': 150}}, u'indices': [47, 70], u'type': u'photo', u'id': 797097441325629440, u'media_url': u'http://pbs.twimg.com/ext_tw_video_thumb/797097441325629440/pu/img/fX_asA-3tQVa9gIv.jpg'}]}, in_reply_to_screen_name=None, id_str=u'797098433249181697', retweet_count=0, in_reply_to_user_id=None, favorited=False, source_url=u'http://twitter.com/download/android', geo=None, in_reply_to_user_id_str=None, possibly_sensitive=False, lang=u'it', created_at=datetime.datetime(2016, 11, 11, 15, 27, 30), in_reply_to_status_id_str=None, place=Place(_api=<tweepy.api.API object at 0x7f991b4d9290>, country_code=u'IT', url=u'https://api.twitter.com/1.1/geo/id/b9c6df5966b9e7b0.json', country=u'Italia', place_type=u'city', bounding_box=BoundingBox(_api=<tweepy.api.API object at 0x7f991b4d9290>, type=u'Polygon', coordinates=[[[10.4910454, 44.624267], [10.7733491, 44.624267], [10.7733491, 44.7745162], [10.4910454, 44.7745162]]]), contained_within=[], full_name=u\"Reggio nell'Emilia, Emilia Romagna\", attributes={}, id=u'b9c6df5966b9e7b0', name=u\"Reggio nell'Emilia\"), extended_entities={u'media': [{u'additional_media_info': {u'monetizable': False}, u'expanded_url': u'https://twitter.com/Greenla30687231/status/797098433249181697/video/1', u'display_url': u'pic.twitter.com/xifAfp6sgb', u'url': u'https://t.co/xifAfp6sgb', u'media_url_https': u'https://pbs.twimg.com/ext_tw_video_thumb/797097441325629440/pu/img/fX_asA-3tQVa9gIv.jpg', u'video_info': {u'aspect_ratio': [16, 9], u'duration_millis': 27301, u'variants': [{u'url': u'https://video.twimg.com/ext_tw_video/797097441325629440/pu/pl/EEbYEbdQbFkXEUYs.mpd', u'content_type': u'application/dash+xml'}, {u'url': u'https://video.twimg.com/ext_tw_video/797097441325629440/pu/vid/640x360/AYeZB9LELyy6Mvqw.mp4', u'bitrate': 832000, u'content_type': u'video/mp4'}, {u'url': u'https://video.twimg.com/ext_tw_video/797097441325629440/pu/vid/1280x720/uO-ojUemgTkBpuJ7.mp4', u'bitrate': 2176000, u'content_type': u'video/mp4'}, {u'url': u'https://video.twimg.com/ext_tw_video/797097441325629440/pu/vid/320x180/JLB4J6uExSIGJOLS.mp4', u'bitrate': 320000, u'content_type': u'video/mp4'}, {u'url': u'https://video.twimg.com/ext_tw_video/797097441325629440/pu/pl/EEbYEbdQbFkXEUYs.m3u8', u'content_type': u'application/x-mpegURL'}]}, u'id_str': u'797097441325629440', u'sizes': {u'small': {u'h': 191, u'resize': u'fit', u'w': 340}, u'large': {u'h': 576, u'resize': u'fit', u'w': 1024}, u'medium': {u'h': 338, u'resize': u'fit', u'w': 600}, u'thumb': {u'h': 150, u'resize': u'crop', u'w': 150}}, u'indices': [47, 70], u'type': u'video', u'id': 797097441325629440, u'media_url': u'http://pbs.twimg.com/ext_tw_video_thumb/797097441325629440/pu/img/fX_asA-3tQVa9gIv.jpg'}]}, retweeted=False), lang=u'en', utc_offset=None, statuses_count=3, profile_background_color=u'F5F8FA', friends_count=347, profile_link_color=u'1DA1F2', profile_image_url=u'http://pbs.twimg.com/profile_images/797098589898100736/0zJopSHp_normal.jpg', notifications=False, default_profile=True, profile_background_image_url_https=None, profile_banner_url=u'https://pbs.twimg.com/profile_banners/789580635358765062/1477136694', blocking=False, profile_background_image_url=None, name=u'Shabir Geografica', is_translation_enabled=False, profile_background_tile=False, favourites_count=16, screen_name=u'Greenla30687231', url=None, created_at=datetime.datetime(2016, 10, 21, 21, 34, 28), contributors_enabled=False, location=u'Castelnovo di Sotto, Emilia Ro', profile_sidebar_border_color=u'C0DEED', translator_type=u'none', following=False),\n",
       " User(follow_request_sent=False, has_extended_profile=True, profile_use_background_image=False, profile_sidebar_fill_color=u'000000', live_following=False, time_zone=u'Rome', id=149483807, description=u'', _api=<tweepy.api.API object at 0x7f991b4d9290>, verified=False, blocked_by=False, profile_text_color=u'000000', muting=False, profile_image_url_https=u'https://pbs.twimg.com/profile_images/561467759260078080/7j0JChaW_normal.jpeg', _json={u'follow_request_sent': False, u'has_extended_profile': True, u'profile_use_background_image': False, u'live_following': False, u'default_profile_image': False, u'id': 149483807, u'profile_background_image_url_https': u'https://abs.twimg.com/images/themes/theme4/bg.gif', u'translator_type': u'none', u'verified': False, u'blocked_by': False, u'profile_text_color': u'000000', u'muting': False, u'profile_image_url_https': u'https://pbs.twimg.com/profile_images/561467759260078080/7j0JChaW_normal.jpeg', u'profile_sidebar_fill_color': u'000000', u'entities': {u'description': {u'urls': []}}, u'followers_count': 151, u'profile_sidebar_border_color': u'000000', u'id_str': u'149483807', u'profile_background_color': u'000000', u'listed_count': 3, u'status': {u'contributors': None, u'truncated': False, u'text': u'@MatGiordan @frabett notizia che meriterebbe ben pi\\xf9 spazio sui media mondiali #scudetto #circomassimo #ASRoma https://t.co/ead30lLc0V', u'is_quote_status': True, u'in_reply_to_status_id': None, u'id': 798947122330468352, u'favorite_count': 2, u'source': u'<a href=\"http://twitter.com/download/iphone\" rel=\"nofollow\">Twitter for iPhone</a>', u'quoted_status_id': 798943107119284224, u'retweeted': False, u'coordinates': None, u'entities': {u'symbols': [], u'user_mentions': [{u'id': 337233638, u'indices': [0, 11], u'id_str': u'337233638', u'screen_name': u'MatGiordan', u'name': u'matteo giordano'}, {u'id': 55052920, u'indices': [12, 20], u'id_str': u'55052920', u'screen_name': u'frabett', u'name': u'Francesco Bettinelli'}], u'hashtags': [{u'indices': [79, 88], u'text': u'scudetto'}, {u'indices': [89, 102], u'text': u'circomassimo'}, {u'indices': [103, 110], u'text': u'ASRoma'}], u'urls': [{u'url': u'https://t.co/ead30lLc0V', u'indices': [111, 134], u'expanded_url': u'https://twitter.com/agenzia_italia/status/798943107119284224', u'display_url': u'twitter.com/agenzia_italia\\u2026'}]}, u'in_reply_to_screen_name': u'MatGiordan', u'in_reply_to_user_id': 337233638, u'retweet_count': 2, u'id_str': u'798947122330468352', u'favorited': False, u'geo': None, u'in_reply_to_user_id_str': u'337233638', u'possibly_sensitive': False, u'lang': u'it', u'created_at': u'Wed Nov 16 17:53:32 +0000 2016', u'quoted_status_id_str': u'798943107119284224', u'in_reply_to_status_id_str': None, u'place': None}, u'is_translation_enabled': False, u'utc_offset': 3600, u'statuses_count': 5071, u'description': u'', u'friends_count': 697, u'location': u'monza/milano ', u'profile_link_color': u'3B94D9', u'profile_image_url': u'http://pbs.twimg.com/profile_images/561467759260078080/7j0JChaW_normal.jpeg', u'following': False, u'geo_enabled': False, u'profile_banner_url': u'https://pbs.twimg.com/profile_banners/149483807/1418458562', u'blocking': False, u'profile_background_image_url': u'http://abs.twimg.com/images/themes/theme4/bg.gif', u'screen_name': u'andreamassironi', u'lang': u'it', u'profile_background_tile': False, u'favourites_count': 1621, u'name': u'andrea massironi', u'notifications': False, u'url': None, u'created_at': u'Sat May 29 11:59:45 +0000 2010', u'contributors_enabled': False, u'time_zone': u'Rome', u'protected': False, u'default_profile': False, u'is_translator': False}, is_translator=False, geo_enabled=False, entities={u'description': {u'urls': []}}, followers_count=151, protected=False, id_str=u'149483807', default_profile_image=False, listed_count=3, status=Status(contributors=None, truncated=False, text=u'@MatGiordan @frabett notizia che meriterebbe ben pi\\xf9 spazio sui media mondiali #scudetto #circomassimo #ASRoma https://t.co/ead30lLc0V', is_quote_status=True, in_reply_to_status_id=None, id=798947122330468352, favorite_count=2, _api=<tweepy.api.API object at 0x7f991b4d9290>, source=u'Twitter for iPhone', quoted_status_id=798943107119284224, _json={u'contributors': None, u'truncated': False, u'text': u'@MatGiordan @frabett notizia che meriterebbe ben pi\\xf9 spazio sui media mondiali #scudetto #circomassimo #ASRoma https://t.co/ead30lLc0V', u'is_quote_status': True, u'in_reply_to_status_id': None, u'id': 798947122330468352, u'favorite_count': 2, u'source': u'<a href=\"http://twitter.com/download/iphone\" rel=\"nofollow\">Twitter for iPhone</a>', u'quoted_status_id': 798943107119284224, u'retweeted': False, u'coordinates': None, u'entities': {u'symbols': [], u'user_mentions': [{u'id': 337233638, u'indices': [0, 11], u'id_str': u'337233638', u'screen_name': u'MatGiordan', u'name': u'matteo giordano'}, {u'id': 55052920, u'indices': [12, 20], u'id_str': u'55052920', u'screen_name': u'frabett', u'name': u'Francesco Bettinelli'}], u'hashtags': [{u'indices': [79, 88], u'text': u'scudetto'}, {u'indices': [89, 102], u'text': u'circomassimo'}, {u'indices': [103, 110], u'text': u'ASRoma'}], u'urls': [{u'url': u'https://t.co/ead30lLc0V', u'indices': [111, 134], u'expanded_url': u'https://twitter.com/agenzia_italia/status/798943107119284224', u'display_url': u'twitter.com/agenzia_italia\\u2026'}]}, u'in_reply_to_screen_name': u'MatGiordan', u'in_reply_to_user_id': 337233638, u'retweet_count': 2, u'id_str': u'798947122330468352', u'favorited': False, u'geo': None, u'in_reply_to_user_id_str': u'337233638', u'possibly_sensitive': False, u'lang': u'it', u'created_at': u'Wed Nov 16 17:53:32 +0000 2016', u'quoted_status_id_str': u'798943107119284224', u'in_reply_to_status_id_str': None, u'place': None}, coordinates=None, entities={u'symbols': [], u'user_mentions': [{u'id': 337233638, u'indices': [0, 11], u'id_str': u'337233638', u'screen_name': u'MatGiordan', u'name': u'matteo giordano'}, {u'id': 55052920, u'indices': [12, 20], u'id_str': u'55052920', u'screen_name': u'frabett', u'name': u'Francesco Bettinelli'}], u'hashtags': [{u'indices': [79, 88], u'text': u'scudetto'}, {u'indices': [89, 102], u'text': u'circomassimo'}, {u'indices': [103, 110], u'text': u'ASRoma'}], u'urls': [{u'url': u'https://t.co/ead30lLc0V', u'indices': [111, 134], u'expanded_url': u'https://twitter.com/agenzia_italia/status/798943107119284224', u'display_url': u'twitter.com/agenzia_italia\\u2026'}]}, in_reply_to_screen_name=u'MatGiordan', id_str=u'798947122330468352', retweet_count=2, in_reply_to_user_id=337233638, favorited=False, source_url=u'http://twitter.com/download/iphone', geo=None, in_reply_to_user_id_str=u'337233638', possibly_sensitive=False, lang=u'it', created_at=datetime.datetime(2016, 11, 16, 17, 53, 32), quoted_status_id_str=u'798943107119284224', in_reply_to_status_id_str=None, place=None, retweeted=False), lang=u'it', utc_offset=3600, statuses_count=5071, profile_background_color=u'000000', friends_count=697, profile_link_color=u'3B94D9', profile_image_url=u'http://pbs.twimg.com/profile_images/561467759260078080/7j0JChaW_normal.jpeg', notifications=False, default_profile=False, profile_background_image_url_https=u'https://abs.twimg.com/images/themes/theme4/bg.gif', profile_banner_url=u'https://pbs.twimg.com/profile_banners/149483807/1418458562', blocking=False, profile_background_image_url=u'http://abs.twimg.com/images/themes/theme4/bg.gif', name=u'andrea massironi', is_translation_enabled=False, profile_background_tile=False, favourites_count=1621, screen_name=u'andreamassironi', url=None, created_at=datetime.datetime(2010, 5, 29, 11, 59, 45), contributors_enabled=False, location=u'monza/milano ', profile_sidebar_border_color=u'000000', translator_type=u'none', following=False),\n",
       " User(follow_request_sent=False, has_extended_profile=False, profile_use_background_image=True, profile_sidebar_fill_color=u'DDEEF6', live_following=False, time_zone=None, id=748915424356540416, description=u'A Cloud SaaS startup, integrating the processes from 3D Design to Interactive Visual Merchandising for customized and MTM sales, to on demand manufacturing', _api=<tweepy.api.API object at 0x7f991b4d9290>, verified=False, blocked_by=False, profile_text_color=u'333333', muting=False, profile_image_url_https=u'https://pbs.twimg.com/profile_images/784045257893838849/8lz7_OZm_normal.jpg', _json={u'follow_request_sent': False, u'has_extended_profile': False, u'profile_use_background_image': True, u'live_following': False, u'default_profile_image': False, u'id': 748915424356540416, u'profile_background_image_url_https': None, u'translator_type': u'none', u'verified': False, u'blocked_by': False, u'profile_text_color': u'333333', u'muting': False, u'profile_image_url_https': u'https://pbs.twimg.com/profile_images/784045257893838849/8lz7_OZm_normal.jpg', u'profile_sidebar_fill_color': u'DDEEF6', u'entities': {u'url': {u'urls': [{u'url': u'https://t.co/3zZNuj5VsG', u'indices': [0, 23], u'expanded_url': u'http://www.else-corp.com', u'display_url': u'else-corp.com'}]}, u'description': {u'urls': []}}, u'followers_count': 15, u'profile_sidebar_border_color': u'C0DEED', u'id_str': u'748915424356540416', u'profile_background_color': u'F5F8FA', u'listed_count': 4, u'status': {u'contributors': None, u'truncated': False, u'text': u'ELSE Corp at Decoded Fashion Milan: RE-DESIGNING THE FASHION CHAIN https://t.co/orqhvvyxTw', u'is_quote_status': False, u'in_reply_to_status_id': None, u'id': 799293386628956160, u'favorite_count': 0, u'source': u'<a href=\"http://www.scoop.it\" rel=\"nofollow\">Scoop.it</a>', u'retweeted': False, u'coordinates': None, u'entities': {u'symbols': [], u'user_mentions': [], u'hashtags': [], u'urls': [{u'url': u'https://t.co/orqhvvyxTw', u'indices': [67, 90], u'expanded_url': u'http://sco.lt/619EaP', u'display_url': u'sco.lt/619EaP'}]}, u'in_reply_to_screen_name': None, u'in_reply_to_user_id': None, u'retweet_count': 0, u'id_str': u'799293386628956160', u'favorited': False, u'geo': None, u'in_reply_to_user_id_str': None, u'possibly_sensitive': False, u'lang': u'en', u'created_at': u'Thu Nov 17 16:49:28 +0000 2016', u'in_reply_to_status_id_str': None, u'place': None}, u'is_translation_enabled': False, u'utc_offset': None, u'statuses_count': 42, u'description': u'A Cloud SaaS startup, integrating the processes from 3D Design to Interactive Visual Merchandising for customized and MTM sales, to on demand manufacturing', u'friends_count': 34, u'location': u'Milan, Lombardy', u'profile_link_color': u'1DA1F2', u'profile_image_url': u'http://pbs.twimg.com/profile_images/784045257893838849/8lz7_OZm_normal.jpg', u'following': False, u'geo_enabled': False, u'profile_banner_url': u'https://pbs.twimg.com/profile_banners/748915424356540416/1479174028', u'blocking': False, u'profile_background_image_url': None, u'screen_name': u'ELSECorp', u'lang': u'en', u'profile_background_tile': False, u'favourites_count': 25, u'name': u'ELSE Corp', u'notifications': False, u'url': u'https://t.co/3zZNuj5VsG', u'created_at': u'Fri Jul 01 16:25:26 +0000 2016', u'contributors_enabled': False, u'time_zone': None, u'protected': False, u'default_profile': True, u'is_translator': False}, is_translator=False, geo_enabled=False, entities={u'url': {u'urls': [{u'url': u'https://t.co/3zZNuj5VsG', u'indices': [0, 23], u'expanded_url': u'http://www.else-corp.com', u'display_url': u'else-corp.com'}]}, u'description': {u'urls': []}}, followers_count=15, protected=False, id_str=u'748915424356540416', default_profile_image=False, listed_count=4, status=Status(contributors=None, truncated=False, text=u'ELSE Corp at Decoded Fashion Milan: RE-DESIGNING THE FASHION CHAIN https://t.co/orqhvvyxTw', is_quote_status=False, in_reply_to_status_id=None, id=799293386628956160, favorite_count=0, _api=<tweepy.api.API object at 0x7f991b4d9290>, source=u'Scoop.it', _json={u'contributors': None, u'truncated': False, u'text': u'ELSE Corp at Decoded Fashion Milan: RE-DESIGNING THE FASHION CHAIN https://t.co/orqhvvyxTw', u'is_quote_status': False, u'in_reply_to_status_id': None, u'id': 799293386628956160, u'favorite_count': 0, u'source': u'<a href=\"http://www.scoop.it\" rel=\"nofollow\">Scoop.it</a>', u'retweeted': False, u'coordinates': None, u'entities': {u'symbols': [], u'user_mentions': [], u'hashtags': [], u'urls': [{u'url': u'https://t.co/orqhvvyxTw', u'indices': [67, 90], u'expanded_url': u'http://sco.lt/619EaP', u'display_url': u'sco.lt/619EaP'}]}, u'in_reply_to_screen_name': None, u'in_reply_to_user_id': None, u'retweet_count': 0, u'id_str': u'799293386628956160', u'favorited': False, u'geo': None, u'in_reply_to_user_id_str': None, u'possibly_sensitive': False, u'lang': u'en', u'created_at': u'Thu Nov 17 16:49:28 +0000 2016', u'in_reply_to_status_id_str': None, u'place': None}, coordinates=None, entities={u'symbols': [], u'user_mentions': [], u'hashtags': [], u'urls': [{u'url': u'https://t.co/orqhvvyxTw', u'indices': [67, 90], u'expanded_url': u'http://sco.lt/619EaP', u'display_url': u'sco.lt/619EaP'}]}, in_reply_to_screen_name=None, id_str=u'799293386628956160', retweet_count=0, in_reply_to_user_id=None, favorited=False, source_url=u'http://www.scoop.it', geo=None, in_reply_to_user_id_str=None, possibly_sensitive=False, lang=u'en', created_at=datetime.datetime(2016, 11, 17, 16, 49, 28), in_reply_to_status_id_str=None, place=None, retweeted=False), lang=u'en', utc_offset=None, statuses_count=42, profile_background_color=u'F5F8FA', friends_count=34, profile_link_color=u'1DA1F2', profile_image_url=u'http://pbs.twimg.com/profile_images/784045257893838849/8lz7_OZm_normal.jpg', notifications=False, default_profile=True, profile_background_image_url_https=None, profile_banner_url=u'https://pbs.twimg.com/profile_banners/748915424356540416/1479174028', blocking=False, profile_background_image_url=None, name=u'ELSE Corp', is_translation_enabled=False, profile_background_tile=False, favourites_count=25, screen_name=u'ELSECorp', url=u'https://t.co/3zZNuj5VsG', created_at=datetime.datetime(2016, 7, 1, 16, 25, 26), contributors_enabled=False, location=u'Milan, Lombardy', profile_sidebar_border_color=u'C0DEED', translator_type=u'none', following=False),\n",
       " User(follow_request_sent=False, has_extended_profile=False, profile_use_background_image=True, profile_sidebar_fill_color=u'F3F3F3', live_following=False, time_zone=u'Pacific Time (US & Canada)', id=46164283, description=u'It all starts with invention! We care about inventions, patents, science, and technology.', _api=<tweepy.api.API object at 0x7f991b4d9290>, verified=False, blocked_by=False, profile_text_color=u'858C8C', muting=False, profile_image_url_https=u'https://pbs.twimg.com/profile_images/1454105496/IV_logo_twitter_normal.jpg', _json={u'follow_request_sent': False, u'has_extended_profile': False, u'profile_use_background_image': True, u'live_following': False, u'default_profile_image': False, u'id': 46164283, u'profile_background_image_url_https': u'https://pbs.twimg.com/profile_background_images/741968915/6a7404c3de1ffe24188cc92df11964a2.jpeg', u'translator_type': u'none', u'verified': False, u'blocked_by': False, u'profile_text_color': u'858C8C', u'muting': False, u'profile_image_url_https': u'https://pbs.twimg.com/profile_images/1454105496/IV_logo_twitter_normal.jpg', u'profile_sidebar_fill_color': u'F3F3F3', u'entities': {u'url': {u'urls': [{u'url': u'http://t.co/0c9duK26zf', u'indices': [0, 22], u'expanded_url': u'http://www.intellectualventures.com', u'display_url': u'intellectualventures.com'}]}, u'description': {u'urls': []}}, u'followers_count': 6341, u'profile_sidebar_border_color': u'FFFFFF', u'id_str': u'46164283', u'profile_background_color': u'BDDDEA', u'listed_count': 286, u'status': {u'contributors': None, u'truncated': False, u'text': u'5 #tech #innovators will receive the #MedalofFreedom, like Margaret Hamilton, a former NASA engineer #WomenInSTEM https://t.co/b7HmZTz1De', u'is_quote_status': False, u'in_reply_to_status_id': None, u'id': 799385413450244097, u'favorite_count': 0, u'source': u'<a href=\"http://www.hootsuite.com\" rel=\"nofollow\">Hootsuite</a>', u'retweeted': False, u'coordinates': None, u'entities': {u'symbols': [], u'user_mentions': [], u'hashtags': [{u'indices': [2, 7], u'text': u'tech'}, {u'indices': [8, 19], u'text': u'innovators'}, {u'indices': [37, 52], u'text': u'MedalofFreedom'}, {u'indices': [101, 113], u'text': u'WomenInSTEM'}], u'urls': [{u'url': u'https://t.co/b7HmZTz1De', u'indices': [114, 137], u'expanded_url': u'http://ow.ly/pR67306h8Ra', u'display_url': u'ow.ly/pR67306h8Ra'}]}, u'in_reply_to_screen_name': None, u'in_reply_to_user_id': None, u'retweet_count': 0, u'id_str': u'799385413450244097', u'favorited': False, u'geo': None, u'in_reply_to_user_id_str': None, u'possibly_sensitive': False, u'lang': u'en', u'created_at': u'Thu Nov 17 22:55:09 +0000 2016', u'in_reply_to_status_id_str': None, u'place': None}, u'is_translation_enabled': False, u'utc_offset': -28800, u'statuses_count': 3045, u'description': u'It all starts with invention! We care about inventions, patents, science, and technology.', u'friends_count': 964, u'location': u'Bellevue, WA', u'profile_link_color': u'0072A3', u'profile_image_url': u'http://pbs.twimg.com/profile_images/1454105496/IV_logo_twitter_normal.jpg', u'following': False, u'geo_enabled': False, u'profile_banner_url': u'https://pbs.twimg.com/profile_banners/46164283/1401839484', u'blocking': False, u'profile_background_image_url': u'http://pbs.twimg.com/profile_background_images/741968915/6a7404c3de1ffe24188cc92df11964a2.jpeg', u'screen_name': u'IVinvents', u'lang': u'en', u'profile_background_tile': False, u'favourites_count': 533, u'name': u'IntellectualVentures', u'notifications': False, u'url': u'http://t.co/0c9duK26zf', u'created_at': u'Wed Jun 10 17:12:38 +0000 2009', u'contributors_enabled': False, u'time_zone': u'Pacific Time (US & Canada)', u'protected': False, u'default_profile': False, u'is_translator': False}, is_translator=False, geo_enabled=False, entities={u'url': {u'urls': [{u'url': u'http://t.co/0c9duK26zf', u'indices': [0, 22], u'expanded_url': u'http://www.intellectualventures.com', u'display_url': u'intellectualventures.com'}]}, u'description': {u'urls': []}}, followers_count=6341, protected=False, id_str=u'46164283', default_profile_image=False, listed_count=286, status=Status(contributors=None, truncated=False, text=u'5 #tech #innovators will receive the #MedalofFreedom, like Margaret Hamilton, a former NASA engineer #WomenInSTEM https://t.co/b7HmZTz1De', is_quote_status=False, in_reply_to_status_id=None, id=799385413450244097, favorite_count=0, _api=<tweepy.api.API object at 0x7f991b4d9290>, source=u'Hootsuite', _json={u'contributors': None, u'truncated': False, u'text': u'5 #tech #innovators will receive the #MedalofFreedom, like Margaret Hamilton, a former NASA engineer #WomenInSTEM https://t.co/b7HmZTz1De', u'is_quote_status': False, u'in_reply_to_status_id': None, u'id': 799385413450244097, u'favorite_count': 0, u'source': u'<a href=\"http://www.hootsuite.com\" rel=\"nofollow\">Hootsuite</a>', u'retweeted': False, u'coordinates': None, u'entities': {u'symbols': [], u'user_mentions': [], u'hashtags': [{u'indices': [2, 7], u'text': u'tech'}, {u'indices': [8, 19], u'text': u'innovators'}, {u'indices': [37, 52], u'text': u'MedalofFreedom'}, {u'indices': [101, 113], u'text': u'WomenInSTEM'}], u'urls': [{u'url': u'https://t.co/b7HmZTz1De', u'indices': [114, 137], u'expanded_url': u'http://ow.ly/pR67306h8Ra', u'display_url': u'ow.ly/pR67306h8Ra'}]}, u'in_reply_to_screen_name': None, u'in_reply_to_user_id': None, u'retweet_count': 0, u'id_str': u'799385413450244097', u'favorited': False, u'geo': None, u'in_reply_to_user_id_str': None, u'possibly_sensitive': False, u'lang': u'en', u'created_at': u'Thu Nov 17 22:55:09 +0000 2016', u'in_reply_to_status_id_str': None, u'place': None}, coordinates=None, entities={u'symbols': [], u'user_mentions': [], u'hashtags': [{u'indices': [2, 7], u'text': u'tech'}, {u'indices': [8, 19], u'text': u'innovators'}, {u'indices': [37, 52], u'text': u'MedalofFreedom'}, {u'indices': [101, 113], u'text': u'WomenInSTEM'}], u'urls': [{u'url': u'https://t.co/b7HmZTz1De', u'indices': [114, 137], u'expanded_url': u'http://ow.ly/pR67306h8Ra', u'display_url': u'ow.ly/pR67306h8Ra'}]}, in_reply_to_screen_name=None, id_str=u'799385413450244097', retweet_count=0, in_reply_to_user_id=None, favorited=False, source_url=u'http://www.hootsuite.com', geo=None, in_reply_to_user_id_str=None, possibly_sensitive=False, lang=u'en', created_at=datetime.datetime(2016, 11, 17, 22, 55, 9), in_reply_to_status_id_str=None, place=None, retweeted=False), lang=u'en', utc_offset=-28800, statuses_count=3045, profile_background_color=u'BDDDEA', friends_count=964, profile_link_color=u'0072A3', profile_image_url=u'http://pbs.twimg.com/profile_images/1454105496/IV_logo_twitter_normal.jpg', notifications=False, default_profile=False, profile_background_image_url_https=u'https://pbs.twimg.com/profile_background_images/741968915/6a7404c3de1ffe24188cc92df11964a2.jpeg', profile_banner_url=u'https://pbs.twimg.com/profile_banners/46164283/1401839484', blocking=False, profile_background_image_url=u'http://pbs.twimg.com/profile_background_images/741968915/6a7404c3de1ffe24188cc92df11964a2.jpeg', name=u'IntellectualVentures', is_translation_enabled=False, profile_background_tile=False, favourites_count=533, screen_name=u'IVinvents', url=u'http://t.co/0c9duK26zf', created_at=datetime.datetime(2009, 6, 10, 17, 12, 38), contributors_enabled=False, location=u'Bellevue, WA', profile_sidebar_border_color=u'FFFFFF', translator_type=u'none', following=False),\n",
       " User(follow_request_sent=False, has_extended_profile=False, profile_use_background_image=True, profile_sidebar_fill_color=u'DDEEF6', live_following=False, time_zone=None, id=2907570489, description=u'', _api=<tweepy.api.API object at 0x7f991b4d9290>, verified=False, blocked_by=False, profile_text_color=u'333333', muting=False, profile_image_url_https=u'https://pbs.twimg.com/profile_images/744206243817005056/iYvZ-VQz_normal.jpg', _json={u'follow_request_sent': False, u'has_extended_profile': False, u'profile_use_background_image': True, u'live_following': False, u'default_profile_image': False, u'id': 2907570489, u'profile_background_image_url_https': u'https://abs.twimg.com/images/themes/theme1/bg.png', u'translator_type': u'none', u'verified': False, u'blocked_by': False, u'profile_text_color': u'333333', u'muting': False, u'profile_image_url_https': u'https://pbs.twimg.com/profile_images/744206243817005056/iYvZ-VQz_normal.jpg', u'profile_sidebar_fill_color': u'DDEEF6', u'entities': {u'description': {u'urls': []}}, u'followers_count': 289, u'profile_sidebar_border_color': u'C0DEED', u'id_str': u'2907570489', u'profile_background_color': u'C0DEED', u'listed_count': 0, u'status': {u'contributors': None, u'truncated': False, u'text': u'@calciomercatoit Fassone n punta Dybala .', u'is_quote_status': False, u'in_reply_to_status_id': 799506274803138560, u'id': 799595949102399490, u'favorite_count': 0, u'source': u'<a href=\"http://twitter.com/download/android\" rel=\"nofollow\">Twitter for Android</a>', u'retweeted': False, u'coordinates': None, u'entities': {u'symbols': [], u'user_mentions': [{u'id': 40206238, u'indices': [0, 16], u'id_str': u'40206238', u'screen_name': u'calciomercatoit', u'name': u'calciomercato.it'}], u'hashtags': [], u'urls': []}, u'in_reply_to_screen_name': u'calciomercatoit', u'in_reply_to_user_id': 40206238, u'retweet_count': 0, u'id_str': u'799595949102399490', u'favorited': False, u'geo': None, u'in_reply_to_user_id_str': u'40206238', u'lang': u'it', u'created_at': u'Fri Nov 18 12:51:44 +0000 2016', u'in_reply_to_status_id_str': u'799506274803138560', u'place': None}, u'is_translation_enabled': False, u'utc_offset': None, u'statuses_count': 235, u'description': u'', u'friends_count': 641, u'location': u'', u'profile_link_color': u'1DA1F2', u'profile_image_url': u'http://pbs.twimg.com/profile_images/744206243817005056/iYvZ-VQz_normal.jpg', u'following': False, u'geo_enabled': True, u'profile_banner_url': u'https://pbs.twimg.com/profile_banners/2907570489/1476598561', u'blocking': False, u'profile_background_image_url': u'http://abs.twimg.com/images/themes/theme1/bg.png', u'screen_name': u'rinaldogenova', u'lang': u'it', u'profile_background_tile': False, u'favourites_count': 439, u'name': u'Eu', u'notifications': False, u'url': None, u'created_at': u'Sat Dec 06 11:11:54 +0000 2014', u'contributors_enabled': False, u'time_zone': None, u'protected': False, u'default_profile': True, u'is_translator': False}, is_translator=False, geo_enabled=True, entities={u'description': {u'urls': []}}, followers_count=289, protected=False, id_str=u'2907570489', default_profile_image=False, listed_count=0, status=Status(contributors=None, truncated=False, text=u'@calciomercatoit Fassone n punta Dybala .', is_quote_status=False, in_reply_to_status_id=799506274803138560, id=799595949102399490, favorite_count=0, _api=<tweepy.api.API object at 0x7f991b4d9290>, source=u'Twitter for Android', _json={u'contributors': None, u'truncated': False, u'text': u'@calciomercatoit Fassone n punta Dybala .', u'is_quote_status': False, u'in_reply_to_status_id': 799506274803138560, u'id': 799595949102399490, u'favorite_count': 0, u'source': u'<a href=\"http://twitter.com/download/android\" rel=\"nofollow\">Twitter for Android</a>', u'retweeted': False, u'coordinates': None, u'entities': {u'symbols': [], u'user_mentions': [{u'id': 40206238, u'indices': [0, 16], u'id_str': u'40206238', u'screen_name': u'calciomercatoit', u'name': u'calciomercato.it'}], u'hashtags': [], u'urls': []}, u'in_reply_to_screen_name': u'calciomercatoit', u'in_reply_to_user_id': 40206238, u'retweet_count': 0, u'id_str': u'799595949102399490', u'favorited': False, u'geo': None, u'in_reply_to_user_id_str': u'40206238', u'lang': u'it', u'created_at': u'Fri Nov 18 12:51:44 +0000 2016', u'in_reply_to_status_id_str': u'799506274803138560', u'place': None}, coordinates=None, entities={u'symbols': [], u'user_mentions': [{u'id': 40206238, u'indices': [0, 16], u'id_str': u'40206238', u'screen_name': u'calciomercatoit', u'name': u'calciomercato.it'}], u'hashtags': [], u'urls': []}, in_reply_to_screen_name=u'calciomercatoit', id_str=u'799595949102399490', retweet_count=0, in_reply_to_user_id=40206238, favorited=False, source_url=u'http://twitter.com/download/android', geo=None, in_reply_to_user_id_str=u'40206238', lang=u'it', created_at=datetime.datetime(2016, 11, 18, 12, 51, 44), in_reply_to_status_id_str=u'799506274803138560', place=None, retweeted=False), lang=u'it', utc_offset=None, statuses_count=235, profile_background_color=u'C0DEED', friends_count=641, profile_link_color=u'1DA1F2', profile_image_url=u'http://pbs.twimg.com/profile_images/744206243817005056/iYvZ-VQz_normal.jpg', notifications=False, default_profile=True, profile_background_image_url_https=u'https://abs.twimg.com/images/themes/theme1/bg.png', profile_banner_url=u'https://pbs.twimg.com/profile_banners/2907570489/1476598561', blocking=False, profile_background_image_url=u'http://abs.twimg.com/images/themes/theme1/bg.png', name=u'Eu', is_translation_enabled=False, profile_background_tile=False, favourites_count=439, screen_name=u'rinaldogenova', url=None, created_at=datetime.datetime(2014, 12, 6, 11, 11, 54), contributors_enabled=False, location=u'', profile_sidebar_border_color=u'C0DEED', translator_type=u'none', following=False),\n",
       " User(follow_request_sent=False, has_extended_profile=False, profile_use_background_image=True, profile_sidebar_fill_color=u'DDEEF6', live_following=False, time_zone=u'Rome', id=434052516, description=u'', _api=<tweepy.api.API object at 0x7f991b4d9290>, verified=False, blocked_by=False, profile_text_color=u'333333', muting=False, profile_image_url_https=u'https://pbs.twimg.com/profile_images/1686766972/logoGommmoso_normal.png', _json={u'follow_request_sent': False, u'has_extended_profile': False, u'profile_use_background_image': True, u'live_following': False, u'default_profile_image': False, u'id': 434052516, u'profile_background_image_url_https': u'https://abs.twimg.com/images/themes/theme1/bg.png', u'translator_type': u'none', u'verified': False, u'blocked_by': False, u'profile_text_color': u'333333', u'muting': False, u'profile_image_url_https': u'https://pbs.twimg.com/profile_images/1686766972/logoGommmoso_normal.png', u'profile_sidebar_fill_color': u'DDEEF6', u'entities': {u'url': {u'urls': [{u'url': u'http://t.co/P3g1XHdX6I', u'indices': [0, 22], u'expanded_url': u'http://www.foresite.it', u'display_url': u'foresite.it'}]}, u'description': {u'urls': []}}, u'followers_count': 34, u'profile_sidebar_border_color': u'C0DEED', u'id_str': u'434052516', u'profile_background_color': u'C0DEED', u'listed_count': 21, u'status': {u'contributors': None, u'truncated': False, u'text': u'RT @Foodinpro: Food is a Conversation with @guriahluwalia - #blockchain #bitcoin #foodchain #food #FoodInPro https://t.co/LixNMRgSVj', u'is_quote_status': False, u'in_reply_to_status_id': None, u'id': 799568520900124672, u'favorite_count': 0, u'source': u'<a href=\"http://twitter.com/download/android\" rel=\"nofollow\">Twitter for Android</a>', u'retweeted': False, u'coordinates': None, u'entities': {u'symbols': [], u'user_mentions': [{u'id': 3089142693, u'indices': [3, 13], u'id_str': u'3089142693', u'screen_name': u'Foodinpro', u'name': u'FoodInPro'}, {u'id': 344470317, u'indices': [43, 57], u'id_str': u'344470317', u'screen_name': u'guriahluwalia', u'name': u'Gurvinder Ahluwalia'}], u'hashtags': [{u'indices': [60, 71], u'text': u'blockchain'}, {u'indices': [72, 80], u'text': u'bitcoin'}, {u'indices': [81, 91], u'text': u'foodchain'}, {u'indices': [92, 97], u'text': u'food'}, {u'indices': [98, 108], u'text': u'FoodInPro'}], u'urls': [], u'media': [{u'source_user_id': 3089142693, u'source_status_id_str': u'799330212181905408', u'expanded_url': u'https://twitter.com/Foodinpro/status/799330212181905408/photo/1', u'display_url': u'pic.twitter.com/LixNMRgSVj', u'url': u'https://t.co/LixNMRgSVj', u'media_url_https': u'https://pbs.twimg.com/media/CxfKlKWW8AQXYx5.jpg', u'source_user_id_str': u'3089142693', u'source_status_id': 799330212181905408, u'id_str': u'799330198663655428', u'sizes': {u'large': {u'h': 1600, u'resize': u'fit', u'w': 900}, u'small': {u'h': 680, u'resize': u'fit', u'w': 383}, u'medium': {u'h': 1200, u'resize': u'fit', u'w': 675}, u'thumb': {u'h': 150, u'resize': u'crop', u'w': 150}}, u'indices': [109, 132], u'type': u'photo', u'id': 799330198663655428, u'media_url': u'http://pbs.twimg.com/media/CxfKlKWW8AQXYx5.jpg'}]}, u'in_reply_to_screen_name': None, u'in_reply_to_user_id': None, u'retweet_count': 5, u'id_str': u'799568520900124672', u'favorited': False, u'retweeted_status': {u'contributors': None, u'truncated': False, u'text': u'Food is a Conversation with @guriahluwalia - #blockchain #bitcoin #foodchain #food #FoodInPro https://t.co/LixNMRgSVj', u'is_quote_status': False, u'in_reply_to_status_id': None, u'id': 799330212181905408, u'favorite_count': 6, u'source': u'<a href=\"http://twitter.com/download/iphone\" rel=\"nofollow\">Twitter for iPhone</a>', u'retweeted': False, u'coordinates': None, u'entities': {u'symbols': [], u'user_mentions': [{u'id': 344470317, u'indices': [28, 42], u'id_str': u'344470317', u'screen_name': u'guriahluwalia', u'name': u'Gurvinder Ahluwalia'}], u'hashtags': [{u'indices': [45, 56], u'text': u'blockchain'}, {u'indices': [57, 65], u'text': u'bitcoin'}, {u'indices': [66, 76], u'text': u'foodchain'}, {u'indices': [77, 82], u'text': u'food'}, {u'indices': [83, 93], u'text': u'FoodInPro'}], u'urls': [], u'media': [{u'expanded_url': u'https://twitter.com/Foodinpro/status/799330212181905408/photo/1', u'display_url': u'pic.twitter.com/LixNMRgSVj', u'url': u'https://t.co/LixNMRgSVj', u'media_url_https': u'https://pbs.twimg.com/media/CxfKlKWW8AQXYx5.jpg', u'id_str': u'799330198663655428', u'sizes': {u'large': {u'h': 1600, u'resize': u'fit', u'w': 900}, u'small': {u'h': 680, u'resize': u'fit', u'w': 383}, u'medium': {u'h': 1200, u'resize': u'fit', u'w': 675}, u'thumb': {u'h': 150, u'resize': u'crop', u'w': 150}}, u'indices': [94, 117], u'type': u'photo', u'id': 799330198663655428, u'media_url': u'http://pbs.twimg.com/media/CxfKlKWW8AQXYx5.jpg'}]}, u'in_reply_to_screen_name': None, u'in_reply_to_user_id': None, u'retweet_count': 5, u'id_str': u'799330212181905408', u'favorited': False, u'geo': None, u'in_reply_to_user_id_str': None, u'possibly_sensitive': False, u'lang': u'en', u'created_at': u'Thu Nov 17 19:15:48 +0000 2016', u'in_reply_to_status_id_str': None, u'place': {u'full_name': u\"Reggio nell'Emilia, Emilia Romagna\", u'url': u'https://api.twitter.com/1.1/geo/id/b9c6df5966b9e7b0.json', u'country': u'Italia', u'place_type': u'city', u'bounding_box': {u'type': u'Polygon', u'coordinates': [[[10.4910454, 44.624267], [10.7733491, 44.624267], [10.7733491, 44.7745162], [10.4910454, 44.7745162]]]}, u'contained_within': [], u'country_code': u'IT', u'attributes': {}, u'id': u'b9c6df5966b9e7b0', u'name': u\"Reggio nell'Emilia\"}, u'extended_entities': {u'media': [{u'expanded_url': u'https://twitter.com/Foodinpro/status/799330212181905408/photo/1', u'display_url': u'pic.twitter.com/LixNMRgSVj', u'url': u'https://t.co/LixNMRgSVj', u'media_url_https': u'https://pbs.twimg.com/media/CxfKlKWW8AQXYx5.jpg', u'id_str': u'799330198663655428', u'sizes': {u'large': {u'h': 1600, u'resize': u'fit', u'w': 900}, u'small': {u'h': 680, u'resize': u'fit', u'w': 383}, u'medium': {u'h': 1200, u'resize': u'fit', u'w': 675}, u'thumb': {u'h': 150, u'resize': u'crop', u'w': 150}}, u'indices': [94, 117], u'type': u'photo', u'id': 799330198663655428, u'media_url': u'http://pbs.twimg.com/media/CxfKlKWW8AQXYx5.jpg'}]}}, u'geo': None, u'in_reply_to_user_id_str': None, u'possibly_sensitive': False, u'lang': u'en', u'created_at': u'Fri Nov 18 11:02:45 +0000 2016', u'in_reply_to_status_id_str': None, u'place': None, u'extended_entities': {u'media': [{u'source_user_id': 3089142693, u'source_status_id_str': u'799330212181905408', u'expanded_url': u'https://twitter.com/Foodinpro/status/799330212181905408/photo/1', u'display_url': u'pic.twitter.com/LixNMRgSVj', u'url': u'https://t.co/LixNMRgSVj', u'media_url_https': u'https://pbs.twimg.com/media/CxfKlKWW8AQXYx5.jpg', u'source_user_id_str': u'3089142693', u'source_status_id': 799330212181905408, u'id_str': u'799330198663655428', u'sizes': {u'large': {u'h': 1600, u'resize': u'fit', u'w': 900}, u'small': {u'h': 680, u'resize': u'fit', u'w': 383}, u'medium': {u'h': 1200, u'resize': u'fit', u'w': 675}, u'thumb': {u'h': 150, u'resize': u'crop', u'w': 150}}, u'indices': [109, 132], u'type': u'photo', u'id': 799330198663655428, u'media_url': u'http://pbs.twimg.com/media/CxfKlKWW8AQXYx5.jpg'}]}}, u'is_translation_enabled': False, u'utc_offset': 3600, u'statuses_count': 231, u'description': u'', u'friends_count': 66, u'location': u'Italy - Bologna', u'profile_link_color': u'1DA1F2', u'profile_image_url': u'http://pbs.twimg.com/profile_images/1686766972/logoGommmoso_normal.png', u'following': False, u'geo_enabled': True, u'blocking': False, u'profile_background_image_url': u'http://abs.twimg.com/images/themes/theme1/bg.png', u'screen_name': u'Foresite_it', u'lang': u'it', u'profile_background_tile': False, u'favourites_count': 92, u'name': u'Foresite', u'notifications': False, u'url': u'http://t.co/P3g1XHdX6I', u'created_at': u'Sun Dec 11 10:48:38 +0000 2011', u'contributors_enabled': False, u'time_zone': u'Rome', u'protected': False, u'default_profile': True, u'is_translator': False}, is_translator=False, geo_enabled=True, entities={u'url': {u'urls': [{u'url': u'http://t.co/P3g1XHdX6I', u'indices': [0, 22], u'expanded_url': u'http://www.foresite.it', u'display_url': u'foresite.it'}]}, u'description': {u'urls': []}}, followers_count=34, protected=False, id_str=u'434052516', default_profile_image=False, listed_count=21, status=Status(contributors=None, truncated=False, text=u'RT @Foodinpro: Food is a Conversation with @guriahluwalia - #blockchain #bitcoin #foodchain #food #FoodInPro https://t.co/LixNMRgSVj', is_quote_status=False, in_reply_to_status_id=None, id=799568520900124672, favorite_count=0, _api=<tweepy.api.API object at 0x7f991b4d9290>, source=u'Twitter for Android', _json={u'contributors': None, u'truncated': False, u'text': u'RT @Foodinpro: Food is a Conversation with @guriahluwalia - #blockchain #bitcoin #foodchain #food #FoodInPro https://t.co/LixNMRgSVj', u'is_quote_status': False, u'in_reply_to_status_id': None, u'id': 799568520900124672, u'favorite_count': 0, u'source': u'<a href=\"http://twitter.com/download/android\" rel=\"nofollow\">Twitter for Android</a>', u'retweeted': False, u'coordinates': None, u'entities': {u'symbols': [], u'user_mentions': [{u'id': 3089142693, u'indices': [3, 13], u'id_str': u'3089142693', u'screen_name': u'Foodinpro', u'name': u'FoodInPro'}, {u'id': 344470317, u'indices': [43, 57], u'id_str': u'344470317', u'screen_name': u'guriahluwalia', u'name': u'Gurvinder Ahluwalia'}], u'hashtags': [{u'indices': [60, 71], u'text': u'blockchain'}, {u'indices': [72, 80], u'text': u'bitcoin'}, {u'indices': [81, 91], u'text': u'foodchain'}, {u'indices': [92, 97], u'text': u'food'}, {u'indices': [98, 108], u'text': u'FoodInPro'}], u'urls': [], u'media': [{u'source_user_id': 3089142693, u'source_status_id_str': u'799330212181905408', u'expanded_url': u'https://twitter.com/Foodinpro/status/799330212181905408/photo/1', u'display_url': u'pic.twitter.com/LixNMRgSVj', u'url': u'https://t.co/LixNMRgSVj', u'media_url_https': u'https://pbs.twimg.com/media/CxfKlKWW8AQXYx5.jpg', u'source_user_id_str': u'3089142693', u'source_status_id': 799330212181905408, u'id_str': u'799330198663655428', u'sizes': {u'large': {u'h': 1600, u'resize': u'fit', u'w': 900}, u'small': {u'h': 680, u'resize': u'fit', u'w': 383}, u'medium': {u'h': 1200, u'resize': u'fit', u'w': 675}, u'thumb': {u'h': 150, u'resize': u'crop', u'w': 150}}, u'indices': [109, 132], u'type': u'photo', u'id': 799330198663655428, u'media_url': u'http://pbs.twimg.com/media/CxfKlKWW8AQXYx5.jpg'}]}, u'in_reply_to_screen_name': None, u'in_reply_to_user_id': None, u'retweet_count': 5, u'id_str': u'799568520900124672', u'favorited': False, u'retweeted_status': {u'contributors': None, u'truncated': False, u'text': u'Food is a Conversation with @guriahluwalia - #blockchain #bitcoin #foodchain #food #FoodInPro https://t.co/LixNMRgSVj', u'is_quote_status': False, u'in_reply_to_status_id': None, u'id': 799330212181905408, u'favorite_count': 6, u'source': u'<a href=\"http://twitter.com/download/iphone\" rel=\"nofollow\">Twitter for iPhone</a>', u'retweeted': False, u'coordinates': None, u'entities': {u'symbols': [], u'user_mentions': [{u'id': 344470317, u'indices': [28, 42], u'id_str': u'344470317', u'screen_name': u'guriahluwalia', u'name': u'Gurvinder Ahluwalia'}], u'hashtags': [{u'indices': [45, 56], u'text': u'blockchain'}, {u'indices': [57, 65], u'text': u'bitcoin'}, {u'indices': [66, 76], u'text': u'foodchain'}, {u'indices': [77, 82], u'text': u'food'}, {u'indices': [83, 93], u'text': u'FoodInPro'}], u'urls': [], u'media': [{u'expanded_url': u'https://twitter.com/Foodinpro/status/799330212181905408/photo/1', u'display_url': u'pic.twitter.com/LixNMRgSVj', u'url': u'https://t.co/LixNMRgSVj', u'media_url_https': u'https://pbs.twimg.com/media/CxfKlKWW8AQXYx5.jpg', u'id_str': u'799330198663655428', u'sizes': {u'large': {u'h': 1600, u'resize': u'fit', u'w': 900}, u'small': {u'h': 680, u'resize': u'fit', u'w': 383}, u'medium': {u'h': 1200, u'resize': u'fit', u'w': 675}, u'thumb': {u'h': 150, u'resize': u'crop', u'w': 150}}, u'indices': [94, 117], u'type': u'photo', u'id': 799330198663655428, u'media_url': u'http://pbs.twimg.com/media/CxfKlKWW8AQXYx5.jpg'}]}, u'in_reply_to_screen_name': None, u'in_reply_to_user_id': None, u'retweet_count': 5, u'id_str': u'799330212181905408', u'favorited': False, u'geo': None, u'in_reply_to_user_id_str': None, u'possibly_sensitive': False, u'lang': u'en', u'created_at': u'Thu Nov 17 19:15:48 +0000 2016', u'in_reply_to_status_id_str': None, u'place': {u'full_name': u\"Reggio nell'Emilia, Emilia Romagna\", u'url': u'https://api.twitter.com/1.1/geo/id/b9c6df5966b9e7b0.json', u'country': u'Italia', u'place_type': u'city', u'bounding_box': {u'type': u'Polygon', u'coordinates': [[[10.4910454, 44.624267], [10.7733491, 44.624267], [10.7733491, 44.7745162], [10.4910454, 44.7745162]]]}, u'contained_within': [], u'country_code': u'IT', u'attributes': {}, u'id': u'b9c6df5966b9e7b0', u'name': u\"Reggio nell'Emilia\"}, u'extended_entities': {u'media': [{u'expanded_url': u'https://twitter.com/Foodinpro/status/799330212181905408/photo/1', u'display_url': u'pic.twitter.com/LixNMRgSVj', u'url': u'https://t.co/LixNMRgSVj', u'media_url_https': u'https://pbs.twimg.com/media/CxfKlKWW8AQXYx5.jpg', u'id_str': u'799330198663655428', u'sizes': {u'large': {u'h': 1600, u'resize': u'fit', u'w': 900}, u'small': {u'h': 680, u'resize': u'fit', u'w': 383}, u'medium': {u'h': 1200, u'resize': u'fit', u'w': 675}, u'thumb': {u'h': 150, u'resize': u'crop', u'w': 150}}, u'indices': [94, 117], u'type': u'photo', u'id': 799330198663655428, u'media_url': u'http://pbs.twimg.com/media/CxfKlKWW8AQXYx5.jpg'}]}}, u'geo': None, u'in_reply_to_user_id_str': None, u'possibly_sensitive': False, u'lang': u'en', u'created_at': u'Fri Nov 18 11:02:45 +0000 2016', u'in_reply_to_status_id_str': None, u'place': None, u'extended_entities': {u'media': [{u'source_user_id': 3089142693, u'source_status_id_str': u'799330212181905408', u'expanded_url': u'https://twitter.com/Foodinpro/status/799330212181905408/photo/1', u'display_url': u'pic.twitter.com/LixNMRgSVj', u'url': u'https://t.co/LixNMRgSVj', u'media_url_https': u'https://pbs.twimg.com/media/CxfKlKWW8AQXYx5.jpg', u'source_user_id_str': u'3089142693', u'source_status_id': 799330212181905408, u'id_str': u'799330198663655428', u'sizes': {u'large': {u'h': 1600, u'resize': u'fit', u'w': 900}, u'small': {u'h': 680, u'resize': u'fit', u'w': 383}, u'medium': {u'h': 1200, u'resize': u'fit', u'w': 675}, u'thumb': {u'h': 150, u'resize': u'crop', u'w': 150}}, u'indices': [109, 132], u'type': u'photo', u'id': 799330198663655428, u'media_url': u'http://pbs.twimg.com/media/CxfKlKWW8AQXYx5.jpg'}]}}, coordinates=None, entities={u'symbols': [], u'user_mentions': [{u'id': 3089142693, u'indices': [3, 13], u'id_str': u'3089142693', u'screen_name': u'Foodinpro', u'name': u'FoodInPro'}, {u'id': 344470317, u'indices': [43, 57], u'id_str': u'344470317', u'screen_name': u'guriahluwalia', u'name': u'Gurvinder Ahluwalia'}], u'hashtags': [{u'indices': [60, 71], u'text': u'blockchain'}, {u'indices': [72, 80], u'text': u'bitcoin'}, {u'indices': [81, 91], u'text': u'foodchain'}, {u'indices': [92, 97], u'text': u'food'}, {u'indices': [98, 108], u'text': u'FoodInPro'}], u'urls': [], u'media': [{u'source_user_id': 3089142693, u'source_status_id_str': u'799330212181905408', u'expanded_url': u'https://twitter.com/Foodinpro/status/799330212181905408/photo/1', u'display_url': u'pic.twitter.com/LixNMRgSVj', u'url': u'https://t.co/LixNMRgSVj', u'media_url_https': u'https://pbs.twimg.com/media/CxfKlKWW8AQXYx5.jpg', u'source_user_id_str': u'3089142693', u'source_status_id': 799330212181905408, u'id_str': u'799330198663655428', u'sizes': {u'large': {u'h': 1600, u'resize': u'fit', u'w': 900}, u'small': {u'h': 680, u'resize': u'fit', u'w': 383}, u'medium': {u'h': 1200, u'resize': u'fit', u'w': 675}, u'thumb': {u'h': 150, u'resize': u'crop', u'w': 150}}, u'indices': [109, 132], u'type': u'photo', u'id': 799330198663655428, u'media_url': u'http://pbs.twimg.com/media/CxfKlKWW8AQXYx5.jpg'}]}, in_reply_to_screen_name=None, id_str=u'799568520900124672', retweet_count=5, in_reply_to_user_id=None, favorited=False, retweeted_status=Status(contributors=None, truncated=False, text=u'Food is a Conversation with @guriahluwalia - #blockchain #bitcoin #foodchain #food #FoodInPro https://t.co/LixNMRgSVj', is_quote_status=False, in_reply_to_status_id=None, id=799330212181905408, favorite_count=6, _api=<tweepy.api.API object at 0x7f991b4d9290>, source=u'Twitter for iPhone', _json={u'contributors': None, u'truncated': False, u'text': u'Food is a Conversation with @guriahluwalia - #blockchain #bitcoin #foodchain #food #FoodInPro https://t.co/LixNMRgSVj', u'is_quote_status': False, u'in_reply_to_status_id': None, u'id': 799330212181905408, u'favorite_count': 6, u'source': u'<a href=\"http://twitter.com/download/iphone\" rel=\"nofollow\">Twitter for iPhone</a>', u'retweeted': False, u'coordinates': None, u'entities': {u'symbols': [], u'user_mentions': [{u'id': 344470317, u'indices': [28, 42], u'id_str': u'344470317', u'screen_name': u'guriahluwalia', u'name': u'Gurvinder Ahluwalia'}], u'hashtags': [{u'indices': [45, 56], u'text': u'blockchain'}, {u'indices': [57, 65], u'text': u'bitcoin'}, {u'indices': [66, 76], u'text': u'foodchain'}, {u'indices': [77, 82], u'text': u'food'}, {u'indices': [83, 93], u'text': u'FoodInPro'}], u'urls': [], u'media': [{u'expanded_url': u'https://twitter.com/Foodinpro/status/799330212181905408/photo/1', u'display_url': u'pic.twitter.com/LixNMRgSVj', u'url': u'https://t.co/LixNMRgSVj', u'media_url_https': u'https://pbs.twimg.com/media/CxfKlKWW8AQXYx5.jpg', u'id_str': u'799330198663655428', u'sizes': {u'large': {u'h': 1600, u'resize': u'fit', u'w': 900}, u'small': {u'h': 680, u'resize': u'fit', u'w': 383}, u'medium': {u'h': 1200, u'resize': u'fit', u'w': 675}, u'thumb': {u'h': 150, u'resize': u'crop', u'w': 150}}, u'indices': [94, 117], u'type': u'photo', u'id': 799330198663655428, u'media_url': u'http://pbs.twimg.com/media/CxfKlKWW8AQXYx5.jpg'}]}, u'in_reply_to_screen_name': None, u'in_reply_to_user_id': None, u'retweet_count': 5, u'id_str': u'799330212181905408', u'favorited': False, u'geo': None, u'in_reply_to_user_id_str': None, u'possibly_sensitive': False, u'lang': u'en', u'created_at': u'Thu Nov 17 19:15:48 +0000 2016', u'in_reply_to_status_id_str': None, u'place': {u'full_name': u\"Reggio nell'Emilia, Emilia Romagna\", u'url': u'https://api.twitter.com/1.1/geo/id/b9c6df5966b9e7b0.json', u'country': u'Italia', u'place_type': u'city', u'bounding_box': {u'type': u'Polygon', u'coordinates': [[[10.4910454, 44.624267], [10.7733491, 44.624267], [10.7733491, 44.7745162], [10.4910454, 44.7745162]]]}, u'contained_within': [], u'country_code': u'IT', u'attributes': {}, u'id': u'b9c6df5966b9e7b0', u'name': u\"Reggio nell'Emilia\"}, u'extended_entities': {u'media': [{u'expanded_url': u'https://twitter.com/Foodinpro/status/799330212181905408/photo/1', u'display_url': u'pic.twitter.com/LixNMRgSVj', u'url': u'https://t.co/LixNMRgSVj', u'media_url_https': u'https://pbs.twimg.com/media/CxfKlKWW8AQXYx5.jpg', u'id_str': u'799330198663655428', u'sizes': {u'large': {u'h': 1600, u'resize': u'fit', u'w': 900}, u'small': {u'h': 680, u'resize': u'fit', u'w': 383}, u'medium': {u'h': 1200, u'resize': u'fit', u'w': 675}, u'thumb': {u'h': 150, u'resize': u'crop', u'w': 150}}, u'indices': [94, 117], u'type': u'photo', u'id': 799330198663655428, u'media_url': u'http://pbs.twimg.com/media/CxfKlKWW8AQXYx5.jpg'}]}}, coordinates=None, entities={u'symbols': [], u'user_mentions': [{u'id': 344470317, u'indices': [28, 42], u'id_str': u'344470317', u'screen_name': u'guriahluwalia', u'name': u'Gurvinder Ahluwalia'}], u'hashtags': [{u'indices': [45, 56], u'text': u'blockchain'}, {u'indices': [57, 65], u'text': u'bitcoin'}, {u'indices': [66, 76], u'text': u'foodchain'}, {u'indices': [77, 82], u'text': u'food'}, {u'indices': [83, 93], u'text': u'FoodInPro'}], u'urls': [], u'media': [{u'expanded_url': u'https://twitter.com/Foodinpro/status/799330212181905408/photo/1', u'display_url': u'pic.twitter.com/LixNMRgSVj', u'url': u'https://t.co/LixNMRgSVj', u'media_url_https': u'https://pbs.twimg.com/media/CxfKlKWW8AQXYx5.jpg', u'id_str': u'799330198663655428', u'sizes': {u'large': {u'h': 1600, u'resize': u'fit', u'w': 900}, u'small': {u'h': 680, u'resize': u'fit', u'w': 383}, u'medium': {u'h': 1200, u'resize': u'fit', u'w': 675}, u'thumb': {u'h': 150, u'resize': u'crop', u'w': 150}}, u'indices': [94, 117], u'type': u'photo', u'id': 799330198663655428, u'media_url': u'http://pbs.twimg.com/media/CxfKlKWW8AQXYx5.jpg'}]}, in_reply_to_screen_name=None, id_str=u'799330212181905408', retweet_count=5, in_reply_to_user_id=None, favorited=False, source_url=u'http://twitter.com/download/iphone', geo=None, in_reply_to_user_id_str=None, possibly_sensitive=False, lang=u'en', created_at=datetime.datetime(2016, 11, 17, 19, 15, 48), in_reply_to_status_id_str=None, place=Place(_api=<tweepy.api.API object at 0x7f991b4d9290>, country_code=u'IT', url=u'https://api.twitter.com/1.1/geo/id/b9c6df5966b9e7b0.json', country=u'Italia', place_type=u'city', bounding_box=BoundingBox(_api=<tweepy.api.API object at 0x7f991b4d9290>, type=u'Polygon', coordinates=[[[10.4910454, 44.624267], [10.7733491, 44.624267], [10.7733491, 44.7745162], [10.4910454, 44.7745162]]]), contained_within=[], full_name=u\"Reggio nell'Emilia, Emilia Romagna\", attributes={}, id=u'b9c6df5966b9e7b0', name=u\"Reggio nell'Emilia\"), extended_entities={u'media': [{u'expanded_url': u'https://twitter.com/Foodinpro/status/799330212181905408/photo/1', u'display_url': u'pic.twitter.com/LixNMRgSVj', u'url': u'https://t.co/LixNMRgSVj', u'media_url_https': u'https://pbs.twimg.com/media/CxfKlKWW8AQXYx5.jpg', u'id_str': u'799330198663655428', u'sizes': {u'large': {u'h': 1600, u'resize': u'fit', u'w': 900}, u'small': {u'h': 680, u'resize': u'fit', u'w': 383}, u'medium': {u'h': 1200, u'resize': u'fit', u'w': 675}, u'thumb': {u'h': 150, u'resize': u'crop', u'w': 150}}, u'indices': [94, 117], u'type': u'photo', u'id': 799330198663655428, u'media_url': u'http://pbs.twimg.com/media/CxfKlKWW8AQXYx5.jpg'}]}, retweeted=False), source_url=u'http://twitter.com/download/android', geo=None, in_reply_to_user_id_str=None, possibly_sensitive=False, lang=u'en', created_at=datetime.datetime(2016, 11, 18, 11, 2, 45), in_reply_to_status_id_str=None, place=None, extended_entities={u'media': [{u'source_user_id': 3089142693, u'source_status_id_str': u'799330212181905408', u'expanded_url': u'https://twitter.com/Foodinpro/status/799330212181905408/photo/1', u'display_url': u'pic.twitter.com/LixNMRgSVj', u'url': u'https://t.co/LixNMRgSVj', u'media_url_https': u'https://pbs.twimg.com/media/CxfKlKWW8AQXYx5.jpg', u'source_user_id_str': u'3089142693', u'source_status_id': 799330212181905408, u'id_str': u'799330198663655428', u'sizes': {u'large': {u'h': 1600, u'resize': u'fit', u'w': 900}, u'small': {u'h': 680, u'resize': u'fit', u'w': 383}, u'medium': {u'h': 1200, u'resize': u'fit', u'w': 675}, u'thumb': {u'h': 150, u'resize': u'crop', u'w': 150}}, u'indices': [109, 132], u'type': u'photo', u'id': 799330198663655428, u'media_url': u'http://pbs.twimg.com/media/CxfKlKWW8AQXYx5.jpg'}]}, retweeted=False), lang=u'it', utc_offset=3600, statuses_count=231, profile_background_color=u'C0DEED', friends_count=66, profile_link_color=u'1DA1F2', profile_image_url=u'http://pbs.twimg.com/profile_images/1686766972/logoGommmoso_normal.png', notifications=False, default_profile=True, profile_background_image_url_https=u'https://abs.twimg.com/images/themes/theme1/bg.png', blocking=False, profile_background_image_url=u'http://abs.twimg.com/images/themes/theme1/bg.png', name=u'Foresite', is_translation_enabled=False, profile_background_tile=False, favourites_count=92, screen_name=u'Foresite_it', url=u'http://t.co/P3g1XHdX6I', created_at=datetime.datetime(2011, 12, 11, 10, 48, 38), contributors_enabled=False, location=u'Italy - Bologna', profile_sidebar_border_color=u'C0DEED', translator_type=u'none', following=False),\n",
       " User(follow_request_sent=False, has_extended_profile=False, profile_use_background_image=True, profile_sidebar_fill_color=u'DDEEF6', live_following=False, time_zone=u'Rome', id=256664042, description=u'THINK OUT OF THE BOX:YOU CAN! My mantra. #serial_entrepreneur #food #innovation #education #socialimpact #liveolympic #G20_YEA Italian Delegate #B20SMETaskForce', _api=<tweepy.api.API object at 0x7f991b4d9290>, verified=False, blocked_by=False, profile_text_color=u'333333', muting=False, profile_image_url_https=u'https://pbs.twimg.com/profile_images/378800000114094802/3291d6f916c35effe2beed14c1a09209_normal.png', _json={u'follow_request_sent': False, u'has_extended_profile': False, u'profile_use_background_image': True, u'live_following': False, u'default_profile_image': False, u'id': 256664042, u'profile_background_image_url_https': u'https://abs.twimg.com/images/themes/theme1/bg.png', u'translator_type': u'none', u'verified': False, u'blocked_by': False, u'profile_text_color': u'333333', u'muting': False, u'profile_image_url_https': u'https://pbs.twimg.com/profile_images/378800000114094802/3291d6f916c35effe2beed14c1a09209_normal.png', u'profile_sidebar_fill_color': u'DDEEF6', u'entities': {u'url': {u'urls': [{u'url': u'https://t.co/J4J13p73ea', u'indices': [0, 23], u'expanded_url': u'http://www.youcangroup.it', u'display_url': u'youcangroup.it'}]}, u'description': {u'urls': []}}, u'followers_count': 2772, u'profile_sidebar_border_color': u'C0DEED', u'id_str': u'256664042', u'profile_background_color': u'C0DEED', u'listed_count': 299, u'status': {u'contributors': None, u'truncated': False, u'text': u'RT @Ffoodinstitute: Dopo la presentazione di @eatalyworld la nostra #foodvalley oggi ancora protagonista nel cuore di Manhattan con @sarove\\u2026', u'is_quote_status': False, u'in_reply_to_status_id': None, u'id': 799548132208050176, u'favorite_count': 0, u'source': u'<a href=\"http://www.hootsuite.com\" rel=\"nofollow\">Hootsuite</a>', u'retweeted': False, u'coordinates': None, u'entities': {u'symbols': [], u'user_mentions': [{u'id': 2467726476, u'indices': [3, 18], u'id_str': u'2467726476', u'screen_name': u'Ffoodinstitute', u'name': u'FutureFoodInstitute'}, {u'id': 3293183687, u'indices': [45, 57], u'id_str': u'3293183687', u'screen_name': u'eatalyworld', u'name': u'FICO Eataly World'}], u'hashtags': [{u'indices': [68, 79], u'text': u'foodvalley'}], u'urls': []}, u'in_reply_to_screen_name': None, u'in_reply_to_user_id': None, u'retweet_count': 8, u'id_str': u'799548132208050176', u'favorited': False, u'retweeted_status': {u'contributors': None, u'truncated': True, u'text': u'Dopo la presentazione di @eatalyworld la nostra #foodvalley oggi ancora protagonista nel cuore di Manhattan con\\u2026 https://t.co/wJEYV159Kc', u'is_quote_status': False, u'in_reply_to_status_id': None, u'id': 799547825667375104, u'favorite_count': 6, u'source': u'<a href=\"http://twitter.com\" rel=\"nofollow\">Twitter Web Client</a>', u'retweeted': False, u'coordinates': None, u'entities': {u'symbols': [], u'user_mentions': [{u'id': 3293183687, u'indices': [25, 37], u'id_str': u'3293183687', u'screen_name': u'eatalyworld', u'name': u'FICO Eataly World'}], u'hashtags': [{u'indices': [48, 59], u'text': u'foodvalley'}], u'urls': [{u'url': u'https://t.co/wJEYV159Kc', u'indices': [113, 136], u'expanded_url': u'https://twitter.com/i/web/status/799547825667375104', u'display_url': u'twitter.com/i/web/status/7\\u2026'}]}, u'in_reply_to_screen_name': None, u'in_reply_to_user_id': None, u'retweet_count': 8, u'id_str': u'799547825667375104', u'favorited': False, u'geo': None, u'in_reply_to_user_id_str': None, u'possibly_sensitive': False, u'lang': u'it', u'created_at': u'Fri Nov 18 09:40:31 +0000 2016', u'in_reply_to_status_id_str': None, u'place': None}, u'geo': None, u'in_reply_to_user_id_str': None, u'lang': u'it', u'created_at': u'Fri Nov 18 09:41:44 +0000 2016', u'in_reply_to_status_id_str': None, u'place': None}, u'is_translation_enabled': False, u'utc_offset': 3600, u'statuses_count': 6900, u'description': u'THINK OUT OF THE BOX:YOU CAN! My mantra. #serial_entrepreneur #food #innovation #education #socialimpact #liveolympic #G20_YEA Italian Delegate #B20SMETaskForce', u'friends_count': 2720, u'location': u'mondo', u'profile_link_color': u'1DA1F2', u'profile_image_url': u'http://pbs.twimg.com/profile_images/378800000114094802/3291d6f916c35effe2beed14c1a09209_normal.png', u'following': False, u'geo_enabled': True, u'profile_banner_url': u'https://pbs.twimg.com/profile_banners/256664042/1398457844', u'blocking': False, u'profile_background_image_url': u'http://abs.twimg.com/images/themes/theme1/bg.png', u'screen_name': u'saroversi', u'lang': u'it', u'profile_background_tile': False, u'favourites_count': 4306, u'name': u'sara roversi', u'notifications': False, u'url': u'https://t.co/J4J13p73ea', u'created_at': u'Wed Feb 23 20:27:32 +0000 2011', u'contributors_enabled': False, u'time_zone': u'Rome', u'protected': False, u'default_profile': True, u'is_translator': False}, is_translator=False, geo_enabled=True, entities={u'url': {u'urls': [{u'url': u'https://t.co/J4J13p73ea', u'indices': [0, 23], u'expanded_url': u'http://www.youcangroup.it', u'display_url': u'youcangroup.it'}]}, u'description': {u'urls': []}}, followers_count=2772, protected=False, id_str=u'256664042', default_profile_image=False, listed_count=299, status=Status(contributors=None, truncated=False, text=u'RT @Ffoodinstitute: Dopo la presentazione di @eatalyworld la nostra #foodvalley oggi ancora protagonista nel cuore di Manhattan con @sarove\\u2026', is_quote_status=False, in_reply_to_status_id=None, id=799548132208050176, favorite_count=0, _api=<tweepy.api.API object at 0x7f991b4d9290>, source=u'Hootsuite', _json={u'contributors': None, u'truncated': False, u'text': u'RT @Ffoodinstitute: Dopo la presentazione di @eatalyworld la nostra #foodvalley oggi ancora protagonista nel cuore di Manhattan con @sarove\\u2026', u'is_quote_status': False, u'in_reply_to_status_id': None, u'id': 799548132208050176, u'favorite_count': 0, u'source': u'<a href=\"http://www.hootsuite.com\" rel=\"nofollow\">Hootsuite</a>', u'retweeted': False, u'coordinates': None, u'entities': {u'symbols': [], u'user_mentions': [{u'id': 2467726476, u'indices': [3, 18], u'id_str': u'2467726476', u'screen_name': u'Ffoodinstitute', u'name': u'FutureFoodInstitute'}, {u'id': 3293183687, u'indices': [45, 57], u'id_str': u'3293183687', u'screen_name': u'eatalyworld', u'name': u'FICO Eataly World'}], u'hashtags': [{u'indices': [68, 79], u'text': u'foodvalley'}], u'urls': []}, u'in_reply_to_screen_name': None, u'in_reply_to_user_id': None, u'retweet_count': 8, u'id_str': u'799548132208050176', u'favorited': False, u'retweeted_status': {u'contributors': None, u'truncated': True, u'text': u'Dopo la presentazione di @eatalyworld la nostra #foodvalley oggi ancora protagonista nel cuore di Manhattan con\\u2026 https://t.co/wJEYV159Kc', u'is_quote_status': False, u'in_reply_to_status_id': None, u'id': 799547825667375104, u'favorite_count': 6, u'source': u'<a href=\"http://twitter.com\" rel=\"nofollow\">Twitter Web Client</a>', u'retweeted': False, u'coordinates': None, u'entities': {u'symbols': [], u'user_mentions': [{u'id': 3293183687, u'indices': [25, 37], u'id_str': u'3293183687', u'screen_name': u'eatalyworld', u'name': u'FICO Eataly World'}], u'hashtags': [{u'indices': [48, 59], u'text': u'foodvalley'}], u'urls': [{u'url': u'https://t.co/wJEYV159Kc', u'indices': [113, 136], u'expanded_url': u'https://twitter.com/i/web/status/799547825667375104', u'display_url': u'twitter.com/i/web/status/7\\u2026'}]}, u'in_reply_to_screen_name': None, u'in_reply_to_user_id': None, u'retweet_count': 8, u'id_str': u'799547825667375104', u'favorited': False, u'geo': None, u'in_reply_to_user_id_str': None, u'possibly_sensitive': False, u'lang': u'it', u'created_at': u'Fri Nov 18 09:40:31 +0000 2016', u'in_reply_to_status_id_str': None, u'place': None}, u'geo': None, u'in_reply_to_user_id_str': None, u'lang': u'it', u'created_at': u'Fri Nov 18 09:41:44 +0000 2016', u'in_reply_to_status_id_str': None, u'place': None}, coordinates=None, entities={u'symbols': [], u'user_mentions': [{u'id': 2467726476, u'indices': [3, 18], u'id_str': u'2467726476', u'screen_name': u'Ffoodinstitute', u'name': u'FutureFoodInstitute'}, {u'id': 3293183687, u'indices': [45, 57], u'id_str': u'3293183687', u'screen_name': u'eatalyworld', u'name': u'FICO Eataly World'}], u'hashtags': [{u'indices': [68, 79], u'text': u'foodvalley'}], u'urls': []}, in_reply_to_screen_name=None, id_str=u'799548132208050176', retweet_count=8, in_reply_to_user_id=None, favorited=False, retweeted_status=Status(contributors=None, truncated=True, text=u'Dopo la presentazione di @eatalyworld la nostra #foodvalley oggi ancora protagonista nel cuore di Manhattan con\\u2026 https://t.co/wJEYV159Kc', is_quote_status=False, in_reply_to_status_id=None, id=799547825667375104, favorite_count=6, _api=<tweepy.api.API object at 0x7f991b4d9290>, source=u'Twitter Web Client', _json={u'contributors': None, u'truncated': True, u'text': u'Dopo la presentazione di @eatalyworld la nostra #foodvalley oggi ancora protagonista nel cuore di Manhattan con\\u2026 https://t.co/wJEYV159Kc', u'is_quote_status': False, u'in_reply_to_status_id': None, u'id': 799547825667375104, u'favorite_count': 6, u'source': u'<a href=\"http://twitter.com\" rel=\"nofollow\">Twitter Web Client</a>', u'retweeted': False, u'coordinates': None, u'entities': {u'symbols': [], u'user_mentions': [{u'id': 3293183687, u'indices': [25, 37], u'id_str': u'3293183687', u'screen_name': u'eatalyworld', u'name': u'FICO Eataly World'}], u'hashtags': [{u'indices': [48, 59], u'text': u'foodvalley'}], u'urls': [{u'url': u'https://t.co/wJEYV159Kc', u'indices': [113, 136], u'expanded_url': u'https://twitter.com/i/web/status/799547825667375104', u'display_url': u'twitter.com/i/web/status/7\\u2026'}]}, u'in_reply_to_screen_name': None, u'in_reply_to_user_id': None, u'retweet_count': 8, u'id_str': u'799547825667375104', u'favorited': False, u'geo': None, u'in_reply_to_user_id_str': None, u'possibly_sensitive': False, u'lang': u'it', u'created_at': u'Fri Nov 18 09:40:31 +0000 2016', u'in_reply_to_status_id_str': None, u'place': None}, coordinates=None, entities={u'symbols': [], u'user_mentions': [{u'id': 3293183687, u'indices': [25, 37], u'id_str': u'3293183687', u'screen_name': u'eatalyworld', u'name': u'FICO Eataly World'}], u'hashtags': [{u'indices': [48, 59], u'text': u'foodvalley'}], u'urls': [{u'url': u'https://t.co/wJEYV159Kc', u'indices': [113, 136], u'expanded_url': u'https://twitter.com/i/web/status/799547825667375104', u'display_url': u'twitter.com/i/web/status/7\\u2026'}]}, in_reply_to_screen_name=None, id_str=u'799547825667375104', retweet_count=8, in_reply_to_user_id=None, favorited=False, source_url=u'http://twitter.com', geo=None, in_reply_to_user_id_str=None, possibly_sensitive=False, lang=u'it', created_at=datetime.datetime(2016, 11, 18, 9, 40, 31), in_reply_to_status_id_str=None, place=None, retweeted=False), source_url=u'http://www.hootsuite.com', geo=None, in_reply_to_user_id_str=None, lang=u'it', created_at=datetime.datetime(2016, 11, 18, 9, 41, 44), in_reply_to_status_id_str=None, place=None, retweeted=False), lang=u'it', utc_offset=3600, statuses_count=6900, profile_background_color=u'C0DEED', friends_count=2720, profile_link_color=u'1DA1F2', profile_image_url=u'http://pbs.twimg.com/profile_images/378800000114094802/3291d6f916c35effe2beed14c1a09209_normal.png', notifications=False, default_profile=True, profile_background_image_url_https=u'https://abs.twimg.com/images/themes/theme1/bg.png', profile_banner_url=u'https://pbs.twimg.com/profile_banners/256664042/1398457844', blocking=False, profile_background_image_url=u'http://abs.twimg.com/images/themes/theme1/bg.png', name=u'sara roversi', is_translation_enabled=False, profile_background_tile=False, favourites_count=4306, screen_name=u'saroversi', url=u'https://t.co/J4J13p73ea', created_at=datetime.datetime(2011, 2, 23, 20, 27, 32), contributors_enabled=False, location=u'mondo', profile_sidebar_border_color=u'C0DEED', translator_type=u'none', following=False)]"
      ]
     },
     "execution_count": 41,
     "metadata": {},
     "output_type": "execute_result"
    }
   ],
   "source": [
    "intesa_cursor.pages().next()"
   ]
  },
  {
   "cell_type": "code",
   "execution_count": 44,
   "metadata": {
    "collapsed": false
   },
   "outputs": [
    {
     "name": "stdout",
     "output_type": "stream",
     "text": [
      "OK\n",
      "OK\n",
      "OK\n",
      "OK\n",
      "OK\n",
      "OK\n",
      "OK\n",
      "OK\n",
      "OK\n",
      "OK\n",
      "OK\n",
      "OK\n"
     ]
    },
    {
     "ename": "RateLimitError",
     "evalue": "[{u'message': u'Rate limit exceeded', u'code': 88}]",
     "output_type": "error",
     "traceback": [
      "\u001b[1;31m---------------------------------------------------------------------------\u001b[0m",
      "\u001b[1;31mRateLimitError\u001b[0m                            Traceback (most recent call last)",
      "\u001b[1;32m<ipython-input-44-9e809389594f>\u001b[0m in \u001b[0;36m<module>\u001b[1;34m()\u001b[0m\n\u001b[0;32m      1\u001b[0m \u001b[0mintesa_followers\u001b[0m \u001b[1;33m=\u001b[0m \u001b[1;33m[\u001b[0m\u001b[1;33m]\u001b[0m\u001b[1;33m\u001b[0m\u001b[0m\n\u001b[1;32m----> 2\u001b[1;33m \u001b[1;32mfor\u001b[0m \u001b[0mpage\u001b[0m \u001b[1;32min\u001b[0m \u001b[0mintesa_cursor\u001b[0m\u001b[1;33m.\u001b[0m\u001b[0mpages\u001b[0m\u001b[1;33m(\u001b[0m\u001b[1;33m)\u001b[0m\u001b[1;33m:\u001b[0m\u001b[1;33m\u001b[0m\u001b[0m\n\u001b[0m\u001b[0;32m      3\u001b[0m     \u001b[1;32mprint\u001b[0m \u001b[1;34m\"OK\"\u001b[0m\u001b[1;33m\u001b[0m\u001b[0m\n\u001b[0;32m      4\u001b[0m     \u001b[0mintesa_followers\u001b[0m\u001b[1;33m.\u001b[0m\u001b[0mextend\u001b[0m\u001b[1;33m(\u001b[0m\u001b[0mpage\u001b[0m\u001b[1;33m)\u001b[0m\u001b[1;33m\u001b[0m\u001b[0m\n",
      "\u001b[1;32m/home/bigdive/anaconda2/lib/python2.7/site-packages/tweepy/cursor.pyc\u001b[0m in \u001b[0;36mnext\u001b[1;34m(self)\u001b[0m\n\u001b[0;32m     73\u001b[0m         data, cursors = self.method(cursor=self.next_cursor,\n\u001b[0;32m     74\u001b[0m                                     \u001b[1;33m*\u001b[0m\u001b[0mself\u001b[0m\u001b[1;33m.\u001b[0m\u001b[0margs\u001b[0m\u001b[1;33m,\u001b[0m\u001b[1;33m\u001b[0m\u001b[0m\n\u001b[1;32m---> 75\u001b[1;33m                                     **self.kargs)\n\u001b[0m\u001b[0;32m     76\u001b[0m         \u001b[0mself\u001b[0m\u001b[1;33m.\u001b[0m\u001b[0mprev_cursor\u001b[0m\u001b[1;33m,\u001b[0m \u001b[0mself\u001b[0m\u001b[1;33m.\u001b[0m\u001b[0mnext_cursor\u001b[0m \u001b[1;33m=\u001b[0m \u001b[0mcursors\u001b[0m\u001b[1;33m\u001b[0m\u001b[0m\n\u001b[0;32m     77\u001b[0m         \u001b[1;32mif\u001b[0m \u001b[0mlen\u001b[0m\u001b[1;33m(\u001b[0m\u001b[0mdata\u001b[0m\u001b[1;33m)\u001b[0m \u001b[1;33m==\u001b[0m \u001b[1;36m0\u001b[0m\u001b[1;33m:\u001b[0m\u001b[1;33m\u001b[0m\u001b[0m\n",
      "\u001b[1;32m/home/bigdive/anaconda2/lib/python2.7/site-packages/tweepy/binder.pyc\u001b[0m in \u001b[0;36m_call\u001b[1;34m(*args, **kwargs)\u001b[0m\n\u001b[0;32m    243\u001b[0m             \u001b[1;32mreturn\u001b[0m \u001b[0mmethod\u001b[0m\u001b[1;33m\u001b[0m\u001b[0m\n\u001b[0;32m    244\u001b[0m         \u001b[1;32melse\u001b[0m\u001b[1;33m:\u001b[0m\u001b[1;33m\u001b[0m\u001b[0m\n\u001b[1;32m--> 245\u001b[1;33m             \u001b[1;32mreturn\u001b[0m \u001b[0mmethod\u001b[0m\u001b[1;33m.\u001b[0m\u001b[0mexecute\u001b[0m\u001b[1;33m(\u001b[0m\u001b[1;33m)\u001b[0m\u001b[1;33m\u001b[0m\u001b[0m\n\u001b[0m\u001b[0;32m    246\u001b[0m \u001b[1;33m\u001b[0m\u001b[0m\n\u001b[0;32m    247\u001b[0m     \u001b[1;31m# Set pagination mode\u001b[0m\u001b[1;33m\u001b[0m\u001b[1;33m\u001b[0m\u001b[0m\n",
      "\u001b[1;32m/home/bigdive/anaconda2/lib/python2.7/site-packages/tweepy/binder.pyc\u001b[0m in \u001b[0;36mexecute\u001b[1;34m(self)\u001b[0m\n\u001b[0;32m    225\u001b[0m \u001b[1;33m\u001b[0m\u001b[0m\n\u001b[0;32m    226\u001b[0m                 \u001b[1;32mif\u001b[0m \u001b[0mis_rate_limit_error_message\u001b[0m\u001b[1;33m(\u001b[0m\u001b[0merror_msg\u001b[0m\u001b[1;33m)\u001b[0m\u001b[1;33m:\u001b[0m\u001b[1;33m\u001b[0m\u001b[0m\n\u001b[1;32m--> 227\u001b[1;33m                     \u001b[1;32mraise\u001b[0m \u001b[0mRateLimitError\u001b[0m\u001b[1;33m(\u001b[0m\u001b[0merror_msg\u001b[0m\u001b[1;33m,\u001b[0m \u001b[0mresp\u001b[0m\u001b[1;33m)\u001b[0m\u001b[1;33m\u001b[0m\u001b[0m\n\u001b[0m\u001b[0;32m    228\u001b[0m                 \u001b[1;32melse\u001b[0m\u001b[1;33m:\u001b[0m\u001b[1;33m\u001b[0m\u001b[0m\n\u001b[0;32m    229\u001b[0m                     \u001b[1;32mraise\u001b[0m \u001b[0mTweepError\u001b[0m\u001b[1;33m(\u001b[0m\u001b[0merror_msg\u001b[0m\u001b[1;33m,\u001b[0m \u001b[0mresp\u001b[0m\u001b[1;33m,\u001b[0m \u001b[0mapi_code\u001b[0m\u001b[1;33m=\u001b[0m\u001b[0mapi_error_code\u001b[0m\u001b[1;33m)\u001b[0m\u001b[1;33m\u001b[0m\u001b[0m\n",
      "\u001b[1;31mRateLimitError\u001b[0m: [{u'message': u'Rate limit exceeded', u'code': 88}]"
     ]
    }
   ],
   "source": [
    "intesa_followers = []\n",
    "for page in intesa_cursor.pages():\n",
    "    print \"OK\"\n",
    "    intesa_followers.extend(page)"
   ]
  },
  {
   "cell_type": "code",
   "execution_count": 46,
   "metadata": {
    "collapsed": false
   },
   "outputs": [
    {
     "data": {
      "text/plain": [
       "240"
      ]
     },
     "execution_count": 46,
     "metadata": {},
     "output_type": "execute_result"
    }
   ],
   "source": [
    "len(intesa_followers)"
   ]
  },
  {
   "cell_type": "code",
   "execution_count": 48,
   "metadata": {
    "collapsed": false
   },
   "outputs": [
    {
     "data": {
      "text/plain": [
       "{u'blocked_by': False,\n",
       " u'blocking': False,\n",
       " u'contributors_enabled': False,\n",
       " u'created_at': u'Wed Mar 02 20:31:46 +0000 2016',\n",
       " u'default_profile': True,\n",
       " u'default_profile_image': False,\n",
       " u'description': u'@riberto81  RILASSATI! LO STRESS NUOCE GRAVEMENTE A TE E A CHI TI STA INTORNO',\n",
       " u'entities': {u'description': {u'urls': []}},\n",
       " u'favourites_count': 892,\n",
       " u'follow_request_sent': False,\n",
       " u'followers_count': 48,\n",
       " u'following': False,\n",
       " u'friends_count': 74,\n",
       " u'geo_enabled': False,\n",
       " u'has_extended_profile': True,\n",
       " u'id': 705128484323127296,\n",
       " u'id_str': u'705128484323127296',\n",
       " u'is_translation_enabled': False,\n",
       " u'is_translator': False,\n",
       " u'lang': u'it',\n",
       " u'listed_count': 3,\n",
       " u'live_following': False,\n",
       " u'location': u'',\n",
       " u'muting': False,\n",
       " u'name': u'Riberto',\n",
       " u'notifications': False,\n",
       " u'profile_background_color': u'F5F8FA',\n",
       " u'profile_background_image_url': None,\n",
       " u'profile_background_image_url_https': None,\n",
       " u'profile_background_tile': False,\n",
       " u'profile_banner_url': u'https://pbs.twimg.com/profile_banners/705128484323127296/1473780007',\n",
       " u'profile_image_url': u'http://pbs.twimg.com/profile_images/775713215535775744/6lNPXzZ5_normal.jpg',\n",
       " u'profile_image_url_https': u'https://pbs.twimg.com/profile_images/775713215535775744/6lNPXzZ5_normal.jpg',\n",
       " u'profile_link_color': u'1DA1F2',\n",
       " u'profile_sidebar_border_color': u'C0DEED',\n",
       " u'profile_sidebar_fill_color': u'DDEEF6',\n",
       " u'profile_text_color': u'333333',\n",
       " u'profile_use_background_image': True,\n",
       " u'protected': False,\n",
       " u'screen_name': u'riberto81',\n",
       " u'status': {u'contributors': None,\n",
       "  u'coordinates': None,\n",
       "  u'created_at': u'Fri Nov 18 13:45:45 +0000 2016',\n",
       "  u'entities': {u'hashtags': [{u'indices': [0, 5], u'text': u'oggi'},\n",
       "    {u'indices': [7, 16], u'text': u'sonoCome'}],\n",
       "   u'media': [{u'display_url': u'pic.twitter.com/es4ec1HbCe',\n",
       "     u'expanded_url': u'https://twitter.com/riberto81/status/799609542682222592/photo/1',\n",
       "     u'id': 799609538940903425,\n",
       "     u'id_str': u'799609538940903425',\n",
       "     u'indices': [60, 83],\n",
       "     u'media_url': u'http://pbs.twimg.com/media/CxjIo5-WIAEARqy.jpg',\n",
       "     u'media_url_https': u'https://pbs.twimg.com/media/CxjIo5-WIAEARqy.jpg',\n",
       "     u'sizes': {u'large': {u'h': 531, u'resize': u'fit', u'w': 536},\n",
       "      u'medium': {u'h': 531, u'resize': u'fit', u'w': 536},\n",
       "      u'small': {u'h': 531, u'resize': u'fit', u'w': 536},\n",
       "      u'thumb': {u'h': 150, u'resize': u'crop', u'w': 150}},\n",
       "     u'type': u'photo',\n",
       "     u'url': u'https://t.co/es4ec1HbCe'}],\n",
       "   u'symbols': [],\n",
       "   u'urls': [],\n",
       "   u'user_mentions': [{u'id': 180612866,\n",
       "     u'id_str': u'180612866',\n",
       "     u'indices': [17, 30],\n",
       "     u'name': u'LoryDelSanto',\n",
       "     u'screen_name': u'lorydelsanto'}]},\n",
       "  u'extended_entities': {u'media': [{u'display_url': u'pic.twitter.com/es4ec1HbCe',\n",
       "     u'expanded_url': u'https://twitter.com/riberto81/status/799609542682222592/photo/1',\n",
       "     u'id': 799609538940903425,\n",
       "     u'id_str': u'799609538940903425',\n",
       "     u'indices': [60, 83],\n",
       "     u'media_url': u'http://pbs.twimg.com/media/CxjIo5-WIAEARqy.jpg',\n",
       "     u'media_url_https': u'https://pbs.twimg.com/media/CxjIo5-WIAEARqy.jpg',\n",
       "     u'sizes': {u'large': {u'h': 531, u'resize': u'fit', u'w': 536},\n",
       "      u'medium': {u'h': 531, u'resize': u'fit', u'w': 536},\n",
       "      u'small': {u'h': 531, u'resize': u'fit', u'w': 536},\n",
       "      u'thumb': {u'h': 150, u'resize': u'crop', u'w': 150}},\n",
       "     u'type': u'photo',\n",
       "     u'url': u'https://t.co/es4ec1HbCe'}]},\n",
       "  u'favorite_count': 1,\n",
       "  u'favorited': False,\n",
       "  u'geo': None,\n",
       "  u'id': 799609542682222592,\n",
       "  u'id_str': u'799609542682222592',\n",
       "  u'in_reply_to_screen_name': None,\n",
       "  u'in_reply_to_status_id': None,\n",
       "  u'in_reply_to_status_id_str': None,\n",
       "  u'in_reply_to_user_id': None,\n",
       "  u'in_reply_to_user_id_str': None,\n",
       "  u'is_quote_status': False,\n",
       "  u'lang': u'it',\n",
       "  u'place': None,\n",
       "  u'possibly_sensitive': False,\n",
       "  u'retweet_count': 0,\n",
       "  u'retweeted': False,\n",
       "  u'source': u'<a href=\"http://twitter.com/download/android\" rel=\"nofollow\">Twitter for Android</a>',\n",
       "  u'text': u'#oggi  #sonoCome @lorydelsanto certe cose ti lasciano cosi: https://t.co/es4ec1HbCe',\n",
       "  u'truncated': False},\n",
       " u'statuses_count': 655,\n",
       " u'time_zone': None,\n",
       " u'translator_type': u'none',\n",
       " u'url': None,\n",
       " u'utc_offset': None,\n",
       " u'verified': False}"
      ]
     },
     "execution_count": 48,
     "metadata": {},
     "output_type": "execute_result"
    }
   ],
   "source": [
    "intesa_followers[0]._json"
   ]
  },
  {
   "cell_type": "code",
   "execution_count": null,
   "metadata": {
    "collapsed": false,
    "scrolled": false
   },
   "outputs": [],
   "source": [
    "for follower in intesa_cursor.items():\n",
    "    print follower"
   ]
  },
  {
   "cell_type": "code",
   "execution_count": null,
   "metadata": {
    "collapsed": false
   },
   "outputs": [],
   "source": [
    "mylist = []\n",
    "for follower in intesa_cursor.pages():     # .pages mi restituisce i primi 20 elementi\n",
    "    print mylist.extend(follower)\n",
    "    break"
   ]
  },
  {
   "cell_type": "code",
   "execution_count": null,
   "metadata": {
    "collapsed": false
   },
   "outputs": [],
   "source": [
    "len(mylist)"
   ]
  },
  {
   "cell_type": "code",
   "execution_count": null,
   "metadata": {
    "collapsed": false
   },
   "outputs": [],
   "source": [
    "mylist[0]._json"
   ]
  },
  {
   "cell_type": "code",
   "execution_count": null,
   "metadata": {
    "collapsed": false
   },
   "outputs": [],
   "source": [
    "for i, f in enumerate(mylist):\n",
    "    print i, f.statuses_count"
   ]
  },
  {
   "cell_type": "code",
   "execution_count": 50,
   "metadata": {
    "collapsed": false
   },
   "outputs": [],
   "source": [
    "import time   #libreria time (è dentro python)\n",
    "def limit_handler(cursor):\n",
    "    while True:\n",
    "        try:\n",
    "            yield cursor.next()\n",
    "        except tweepy.RateLimitError:\n",
    "            print \"Dormo 15 secondi....\"\n",
    "            time.sleep(15)\n",
    "            print \"Provo di nuovo!\"\n"
   ]
  },
  {
   "cell_type": "code",
   "execution_count": 52,
   "metadata": {
    "collapsed": false
   },
   "outputs": [
    {
     "name": "stdout",
     "output_type": "stream",
     "text": [
      "Dormo 15 secondi....\n",
      "Provo di nuovo!\n",
      "Dormo 15 secondi....\n",
      "Provo di nuovo!\n",
      "Dormo 15 secondi....\n",
      "Provo di nuovo!\n",
      "Dormo 15 secondi....\n",
      "Provo di nuovo!\n",
      "Dormo 15 secondi....\n"
     ]
    },
    {
     "ename": "KeyboardInterrupt",
     "evalue": "",
     "output_type": "error",
     "traceback": [
      "\u001b[1;31m---------------------------------------------------------------------------\u001b[0m",
      "\u001b[1;31mKeyboardInterrupt\u001b[0m                         Traceback (most recent call last)",
      "\u001b[1;32m<ipython-input-52-b738ce1128ef>\u001b[0m in \u001b[0;36m<module>\u001b[1;34m()\u001b[0m\n\u001b[0;32m      1\u001b[0m \u001b[0mintesa_followers\u001b[0m \u001b[1;33m=\u001b[0m \u001b[1;33m[\u001b[0m\u001b[1;33m]\u001b[0m\u001b[1;33m\u001b[0m\u001b[0m\n\u001b[1;32m----> 2\u001b[1;33m \u001b[1;32mfor\u001b[0m \u001b[0mpage\u001b[0m \u001b[1;32min\u001b[0m \u001b[0mlimit_handler\u001b[0m\u001b[1;33m(\u001b[0m\u001b[0mintesa_cursor\u001b[0m\u001b[1;33m.\u001b[0m\u001b[0mpages\u001b[0m\u001b[1;33m(\u001b[0m\u001b[1;33m)\u001b[0m\u001b[1;33m)\u001b[0m\u001b[1;33m:\u001b[0m\u001b[1;33m\u001b[0m\u001b[0m\n\u001b[0m\u001b[0;32m      3\u001b[0m     \u001b[0mintesa_followers\u001b[0m\u001b[1;33m.\u001b[0m\u001b[0mextend\u001b[0m\u001b[1;33m(\u001b[0m\u001b[0mpage\u001b[0m\u001b[1;33m)\u001b[0m\u001b[1;33m\u001b[0m\u001b[0m\n",
      "\u001b[1;32m<ipython-input-50-fd702d1e04e7>\u001b[0m in \u001b[0;36mlimit_handler\u001b[1;34m(cursor)\u001b[0m\n\u001b[0;32m      6\u001b[0m         \u001b[1;32mexcept\u001b[0m \u001b[0mtweepy\u001b[0m\u001b[1;33m.\u001b[0m\u001b[0mRateLimitError\u001b[0m\u001b[1;33m:\u001b[0m\u001b[1;33m\u001b[0m\u001b[0m\n\u001b[0;32m      7\u001b[0m             \u001b[1;32mprint\u001b[0m \u001b[1;34m\"Dormo 15 secondi....\"\u001b[0m\u001b[1;33m\u001b[0m\u001b[0m\n\u001b[1;32m----> 8\u001b[1;33m             \u001b[0mtime\u001b[0m\u001b[1;33m.\u001b[0m\u001b[0msleep\u001b[0m\u001b[1;33m(\u001b[0m\u001b[1;36m15\u001b[0m\u001b[1;33m)\u001b[0m\u001b[1;33m\u001b[0m\u001b[0m\n\u001b[0m\u001b[0;32m      9\u001b[0m             \u001b[1;32mprint\u001b[0m \u001b[1;34m\"Provo di nuovo!\"\u001b[0m\u001b[1;33m\u001b[0m\u001b[0m\n",
      "\u001b[1;31mKeyboardInterrupt\u001b[0m: "
     ]
    }
   ],
   "source": [
    "intesa_followers = []\n",
    "for page in limit_handler(intesa_cursor.pages()):\n",
    "    intesa_followers.extend(page)"
   ]
  },
  {
   "cell_type": "markdown",
   "metadata": {
    "collapsed": true
   },
   "source": [
    "# Get Hashtags\n"
   ]
  },
  {
   "cell_type": "code",
   "execution_count": null,
   "metadata": {
    "collapsed": false,
    "scrolled": false
   },
   "outputs": [],
   "source": [
    "tweets = []\n",
    "for tweet in tweepy.Cursor(api.search, q='#trump').items(5):\n",
    "    print tweet.text\n",
    "    tweets.append(tweet)\n",
    "print \"\\n-----\\n\"\n",
    "print tweets[0]"
   ]
  },
  {
   "cell_type": "markdown",
   "metadata": {},
   "source": [
    "# Avoid Rate Limit Exception"
   ]
  },
  {
   "cell_type": "code",
   "execution_count": null,
   "metadata": {
    "collapsed": true
   },
   "outputs": [],
   "source": [
    "import time\n",
    "def limit_handler(cursor):\n",
    "    while True:\n",
    "        try:\n",
    "            yield cursor.next()\n",
    "        except tweepy.RateLimitError:\n",
    "            print \"Timeout Reached, I'm going to sleep for 15 Minutes\"\n",
    "            time.sleep(15*60)\n",
    "            print \"I'm going to try again!\""
   ]
  },
  {
   "cell_type": "code",
   "execution_count": null,
   "metadata": {
    "collapsed": true
   },
   "outputs": [],
   "source": [
    "alexcomu_cursor = tweepy.Cursor(api.followers, screen_name='comualex')\n",
    "\n",
    "alexcomu_followers = []\n",
    "for followers in limit_handler(alexcomu_cursor.pages()):\n",
    "    alexcomu_followers.extend(followers)\n",
    "    "
   ]
  },
  {
   "cell_type": "code",
   "execution_count": null,
   "metadata": {
    "collapsed": false
   },
   "outputs": [],
   "source": [
    "len(alexcomu_followers)"
   ]
  },
  {
   "cell_type": "markdown",
   "metadata": {},
   "source": [
    "# Live Streaming\n",
    "\n",
    "Check the complete example on the folder **esercitazione**."
   ]
  },
  {
   "cell_type": "code",
   "execution_count": 53,
   "metadata": {
    "collapsed": true
   },
   "outputs": [],
   "source": [
    "class BDStreamingListener(tweepy.StreamListener):\n",
    "    def __init__(self, count):\n",
    "        super(BDStreamingListener, self).__init__()\n",
    "        # Number of tweets we want to retrieve\n",
    "        self.count = count\n",
    "\n",
    "    def on_status(self, status):\n",
    "        # automatic called when a new tweet is received\n",
    "        # print dir(status)\n",
    "        print dict(user=status.user.screen_name, text=status.text)\n",
    "\n",
    "        self.count -= 1\n",
    "        if self.count <= 0:\n",
    "            return False\n",
    "\n",
    "    def on_error(self, status_code):\n",
    "        # automatic called when an error occures\n",
    "        print \"Error with status code: \", status_code\n",
    "        return False"
   ]
  },
  {
   "cell_type": "code",
   "execution_count": 54,
   "metadata": {
    "collapsed": false
   },
   "outputs": [
    {
     "name": "stdout",
     "output_type": "stream",
     "text": [
      "{'text': u'#Obama se re\\xfane con l\\xedderes europeos entre dudas sobre #Trump https://t.co/USlYYLURrE', 'user': u'Rhakco'}\n",
      "{'text': u'RT @joejusticeza: @Brianrrs37 @MakeWayForTay #Trump supporters?  Read? LOL!!!', 'user': u'MakeWayForTay'}\n",
      "{'text': u'Trump: Grabbed It Mug https://t.co/E84amuJo8C\\n#trump#protrump#trumpshirt#presidenttrump#grabbedit', 'user': u'soundthetrumpy'}\n",
      "{'text': u'RT @DonaldJTrumpJr: Tune in tonight to @60Minutes for the first interview with our family since Election Day. #trump https://t.co/B2CfeMtuSE', 'user': u'jtblogs'}\n",
      "{'text': u\"As #Trump says his appointees aren't anti-Semitic or racist\\nFacts prove opposite\\nNever forget what he's doing, norm\\u2026 https://t.co/tnc9cOrZxL\", 'user': u'bcomininvisible'}\n"
     ]
    }
   ],
   "source": [
    "# Create an instand set the number of tweets we want ro retrieve\n",
    "listener = BDStreamingListener(5)   # al quinto tweet che ricevo mi fermo; stampo i primi 5 tweet\n",
    "\n",
    "# Create the stream fetching object with auth and listener\n",
    "stream = tweepy.streaming.Stream(auth, listener)\n",
    "\n",
    "# Tun the stream using filter\n",
    "stream.filter(track=['#Trump'])\n"
   ]
  },
  {
   "cell_type": "markdown",
   "metadata": {},
   "source": [
    "# Get INTESA Followers -- Version 1"
   ]
  },
  {
   "cell_type": "code",
   "execution_count": 55,
   "metadata": {
    "collapsed": true
   },
   "outputs": [],
   "source": [
    "import time\n",
    "from datetime import datetime as dt\n",
    "\n",
    "\n",
    "# Ask for Followers using Cursor (20 followers per page, with a limit of 15 requests each 15 minutes) ~ 3 Hours\n",
    "class IntesaFollowers(object):\n",
    "    \n",
    "    def __init__(self, auth):\n",
    "        self.auth = auth\n",
    "        self.api = tweepy.API(self.auth)\n",
    "        self.intesa_cursor = tweepy.Cursor(self.api.followers, screen_name='intesasanpaolo')\n",
    "\n",
    "    def get_followers(self):\n",
    "        while True:\n",
    "            try:\n",
    "                yield self.intesa_cursor.pages().next()\n",
    "            except tweepy.RateLimitError:\n",
    "                print \"[LOG %s] Timeout reached.. I'm going to sleep for 15 minutes..\" % dt.now()\n",
    "                time.sleep(15*60)   # dorme per 15 sec * 60 = 15 minuti\n",
    "                print \"[LOG %s] Try Again!\" % dt.now()\n",
    "            except Exception as e:\n",
    "                # Generic Exception\n",
    "                print \"[LOG %s] Generic error \" % dt.now(), e\n",
    "                print \"[LOG %s] Wait 60 seconds...\" % dt.now()\n",
    "                time.sleep(60)"
   ]
  },
  {
   "cell_type": "code",
   "execution_count": 59,
   "metadata": {
    "collapsed": false
   },
   "outputs": [
    {
     "name": "stdout",
     "output_type": "stream",
     "text": [
      "[LOG 2016-11-18 16:21:16.878553] Timeout reached.. I'm going to sleep for 15 minutes..\n"
     ]
    },
    {
     "ename": "KeyboardInterrupt",
     "evalue": "",
     "output_type": "error",
     "traceback": [
      "\u001b[1;31m---------------------------------------------------------------------------\u001b[0m",
      "\u001b[1;31mKeyboardInterrupt\u001b[0m                         Traceback (most recent call last)",
      "\u001b[1;32m<ipython-input-59-43d344cee101>\u001b[0m in \u001b[0;36m<module>\u001b[1;34m()\u001b[0m\n\u001b[0;32m      2\u001b[0m \u001b[0mintesa_followers\u001b[0m \u001b[1;33m=\u001b[0m \u001b[1;33m[\u001b[0m\u001b[1;33m]\u001b[0m\u001b[1;33m\u001b[0m\u001b[0m\n\u001b[0;32m      3\u001b[0m \u001b[0mcounter\u001b[0m \u001b[1;33m=\u001b[0m \u001b[1;36m0\u001b[0m\u001b[1;33m\u001b[0m\u001b[0m\n\u001b[1;32m----> 4\u001b[1;33m \u001b[1;32mfor\u001b[0m \u001b[0mfollower\u001b[0m \u001b[1;32min\u001b[0m \u001b[0mintesa\u001b[0m\u001b[1;33m.\u001b[0m\u001b[0mget_followers\u001b[0m\u001b[1;33m(\u001b[0m\u001b[1;33m)\u001b[0m\u001b[1;33m:\u001b[0m\u001b[1;33m\u001b[0m\u001b[0m\n\u001b[0m\u001b[0;32m      5\u001b[0m     \u001b[1;32mprint\u001b[0m \u001b[1;34m\"Working ..\"\u001b[0m\u001b[1;33m,\u001b[0m \u001b[0mcounter\u001b[0m\u001b[1;33m\u001b[0m\u001b[0m\n\u001b[0;32m      6\u001b[0m     \u001b[0mcounter\u001b[0m \u001b[1;33m=\u001b[0m\u001b[1;33m+\u001b[0m\u001b[1;36m1\u001b[0m\u001b[1;33m\u001b[0m\u001b[0m\n",
      "\u001b[1;32m<ipython-input-55-3950a9270602>\u001b[0m in \u001b[0;36mget_followers\u001b[1;34m(self)\u001b[0m\n\u001b[0;32m     17\u001b[0m             \u001b[1;32mexcept\u001b[0m \u001b[0mtweepy\u001b[0m\u001b[1;33m.\u001b[0m\u001b[0mRateLimitError\u001b[0m\u001b[1;33m:\u001b[0m\u001b[1;33m\u001b[0m\u001b[0m\n\u001b[0;32m     18\u001b[0m                 \u001b[1;32mprint\u001b[0m \u001b[1;34m\"[LOG %s] Timeout reached.. I'm going to sleep for 15 minutes..\"\u001b[0m \u001b[1;33m%\u001b[0m \u001b[0mdt\u001b[0m\u001b[1;33m.\u001b[0m\u001b[0mnow\u001b[0m\u001b[1;33m(\u001b[0m\u001b[1;33m)\u001b[0m\u001b[1;33m\u001b[0m\u001b[0m\n\u001b[1;32m---> 19\u001b[1;33m                 \u001b[0mtime\u001b[0m\u001b[1;33m.\u001b[0m\u001b[0msleep\u001b[0m\u001b[1;33m(\u001b[0m\u001b[1;36m15\u001b[0m\u001b[1;33m*\u001b[0m\u001b[1;36m60\u001b[0m\u001b[1;33m)\u001b[0m   \u001b[1;31m# dorme per 15 sec * 60 = 15 minuti\u001b[0m\u001b[1;33m\u001b[0m\u001b[0m\n\u001b[0m\u001b[0;32m     20\u001b[0m                 \u001b[1;32mprint\u001b[0m \u001b[1;34m\"[LOG %s] Try Again!\"\u001b[0m \u001b[1;33m%\u001b[0m \u001b[0mdt\u001b[0m\u001b[1;33m.\u001b[0m\u001b[0mnow\u001b[0m\u001b[1;33m(\u001b[0m\u001b[1;33m)\u001b[0m\u001b[1;33m\u001b[0m\u001b[0m\n\u001b[0;32m     21\u001b[0m             \u001b[1;32mexcept\u001b[0m \u001b[0mException\u001b[0m \u001b[1;32mas\u001b[0m \u001b[0me\u001b[0m\u001b[1;33m:\u001b[0m\u001b[1;33m\u001b[0m\u001b[0m\n",
      "\u001b[1;31mKeyboardInterrupt\u001b[0m: "
     ]
    }
   ],
   "source": [
    "intesa = IntesaFollowers(auth)\n",
    "intesa_followers = []\n",
    "counter = 0\n",
    "for follower in intesa.get_followers():\n",
    "    print \"Working ..\", counter\n",
    "    counter =+1\n",
    "    intesa_followers.append(follower)"
   ]
  },
  {
   "cell_type": "markdown",
   "metadata": {},
   "source": [
    "# Get INTESA Followers -- Version 2 (Faster)"
   ]
  },
  {
   "cell_type": "code",
   "execution_count": null,
   "metadata": {
    "collapsed": true
   },
   "outputs": [],
   "source": [
    "# Ask for Followers_ids and ask data for each user -> Much Much Faster!  ~ 1.5 Hours\n",
    "class IntesaFollowers(object):\n",
    "\n",
    "    def __init__(self, auth):\n",
    "        self.auth = auth\n",
    "        self.api = tweepy.API(self.auth)\n",
    "        self.intesa = self.api.get_user('intesasanpaolo')\n",
    "\n",
    "    def get_followers(self):\n",
    "        for follower_id in self.intesa.followers_ids():\n",
    "            try:\n",
    "                yield self.api.get_user(follower_id)\n",
    "            except tweepy.RateLimitError:\n",
    "                print \"[LOG %s] Timeout reached.. I'm going to sleep for 15 minutes..\" % dt.now()\n",
    "                time.sleep(15*60)\n",
    "                print \"[LOG %s] Try Again!\" % dt.now()\n",
    "            except Exception as e:\n",
    "                # Generic Exception\n",
    "                print \"[LOG %s] Generic error \" % dt.now(), e\n",
    "                print \"[LOG %s] Wait 60 seconds...\" % dt.now()\n",
    "                time.sleep(60)"
   ]
  },
  {
   "cell_type": "code",
   "execution_count": null,
   "metadata": {
    "collapsed": true
   },
   "outputs": [],
   "source": [
    "intesa = IntesaFollowers(auth)\n",
    "intesa_followers = []\n",
    "for follower in intesa.get_followers():\n",
    "    intesa_followers.append(follower)"
   ]
  },
  {
   "cell_type": "markdown",
   "metadata": {},
   "source": [
    "# Get INTESA tweets"
   ]
  },
  {
   "cell_type": "code",
   "execution_count": 7,
   "metadata": {
    "collapsed": false
   },
   "outputs": [],
   "source": [
    "class IntesaTweets(object):\n",
    "    \n",
    "    def __init__(self, auth):\n",
    "        self.auth = auth\n",
    "        self.api = tweepy.API(self.auth)\n",
    "        self.intesa_cursor = tweepy.Cursor(self.api.user_timeline, screen_name='intesasanpaolo')\n",
    "\n",
    "    def get_tweets(self):\n",
    "        while True:\n",
    "            try:\n",
    "                yield self.intesa_cursor.pages().next()\n",
    "            except tweepy.RateLimitError:\n",
    "                print \"[LOG %s] Timeout reached.. I'm going to sleep for 15 minutes..\" % dt.now()\n",
    "                time.sleep(15*60)\n",
    "                print \"[LOG %s] Try Again!\" % dt.now()\n",
    "            except Exception as e:\n",
    "                # Generic Exception\n",
    "                print \"[LOG %s] Generic error \" % dt.now(), e\n",
    "                print \"[LOG %s] Wait 60 seconds...\" % dt.now()\n",
    "                time.sleep(60)\n"
   ]
  },
  {
   "cell_type": "code",
   "execution_count": 8,
   "metadata": {
    "collapsed": false
   },
   "outputs": [
    {
     "name": "stdout",
     "output_type": "stream",
     "text": [
      "{ u'contributors': None,\n",
      "  u'coordinates': None,\n",
      "  u'created_at': u'Mon Nov 14 09:25:09 +0000 2016',\n",
      "  u'entities': { u'hashtags': [ { u'indices': [0, 13],\n",
      "                                  u'text': u'FlashMercati'}],\n",
      "                 u'symbols': [],\n",
      "                 u'urls': [ { u'display_url': u'twitter.com/i/web/status/7\\u2026',\n",
      "                              u'expanded_url': u'https://twitter.com/i/web/status/798094406406590464',\n",
      "                              u'indices': [116, 139],\n",
      "                              u'url': u'https://t.co/AOHmJBzUDk'}],\n",
      "                 u'user_mentions': []},\n",
      "  u'favorite_count': 0,\n",
      "  u'favorited': False,\n",
      "  u'geo': None,\n",
      "  u'id': 798094406406590464,\n",
      "  u'id_str': u'798094406406590464',\n",
      "  u'in_reply_to_screen_name': None,\n",
      "  u'in_reply_to_status_id': None,\n",
      "  u'in_reply_to_status_id_str': None,\n",
      "  u'in_reply_to_user_id': None,\n",
      "  u'in_reply_to_user_id_str': None,\n",
      "  u'is_quote_status': False,\n",
      "  u'lang': u'it',\n",
      "  u'place': None,\n",
      "  u'possibly_sensitive': False,\n",
      "  u'retweet_count': 1,\n",
      "  u'retweeted': False,\n",
      "  u'source': u'<a href=\"http://twitter.com\" rel=\"nofollow\">Twitter Web Client</a>',\n",
      "  u'text': u'#FlashMercati: focus sugli eventi del mercato monetario e obbligazionario. \\nEcco i dati pi\\xf9 significativi di oggi.\\u2026 https://t.co/AOHmJBzUDk',\n",
      "  u'truncated': True,\n",
      "  u'user': { u'contributors_enabled': False,\n",
      "             u'created_at': u'Wed Oct 19 07:46:49 +0000 2011',\n",
      "             u'default_profile': False,\n",
      "             u'default_profile_image': False,\n",
      "             u'description': u'Notizie, eventi e informazioni in tempo reale sul mondo Intesa Sanpaolo. Per assistenza su prodotti e servizi seguici su @IntesaSP_Help e @IntesaSPgiovani.',\n",
      "             u'entities': { u'description': { u'urls': []},\n",
      "                            u'url': { u'urls': [ { u'display_url': u'intesasanpaolo.com',\n",
      "                                                   u'expanded_url': u'http://www.intesasanpaolo.com',\n",
      "                                                   u'indices': [0, 22],\n",
      "                                                   u'url': u'http://t.co/lmrSnJtN6Y'}]}},\n",
      "             u'favourites_count': 1071,\n",
      "             u'follow_request_sent': False,\n",
      "             u'followers_count': 4157,\n",
      "             u'following': False,\n",
      "             u'friends_count': 177,\n",
      "             u'geo_enabled': False,\n",
      "             u'has_extended_profile': False,\n",
      "             u'id': 393894382,\n",
      "             u'id_str': u'393894382',\n",
      "             u'is_translation_enabled': True,\n",
      "             u'is_translator': False,\n",
      "             u'lang': u'it',\n",
      "             u'listed_count': 129,\n",
      "             u'location': u'',\n",
      "             u'name': u'Intesa Sanpaolo',\n",
      "             u'notifications': False,\n",
      "             u'profile_background_color': u'DBDBDB',\n",
      "             u'profile_background_image_url': u'http://abs.twimg.com/images/themes/theme1/bg.png',\n",
      "             u'profile_background_image_url_https': u'https://abs.twimg.com/images/themes/theme1/bg.png',\n",
      "             u'profile_background_tile': False,\n",
      "             u'profile_banner_url': u'https://pbs.twimg.com/profile_banners/393894382/1473949795',\n",
      "             u'profile_image_url': u'http://pbs.twimg.com/profile_images/597680334474485760/Z6OMNC0B_normal.jpg',\n",
      "             u'profile_image_url_https': u'https://pbs.twimg.com/profile_images/597680334474485760/Z6OMNC0B_normal.jpg',\n",
      "             u'profile_link_color': u'929292',\n",
      "             u'profile_sidebar_border_color': u'FFFFFF',\n",
      "             u'profile_sidebar_fill_color': u'DDEEF6',\n",
      "             u'profile_text_color': u'333333',\n",
      "             u'profile_use_background_image': False,\n",
      "             u'protected': False,\n",
      "             u'screen_name': u'intesasanpaolo',\n",
      "             u'statuses_count': 2371,\n",
      "             u'time_zone': u'Rome',\n",
      "             u'translator_type': u'none',\n",
      "             u'url': u'http://t.co/lmrSnJtN6Y',\n",
      "             u'utc_offset': 3600,\n",
      "             u'verified': False}}\n"
     ]
    }
   ],
   "source": [
    "intesa_timeline = IntesaTweets(auth)\n",
    "intesa_tweets = []\n",
    "for tweet in intesa_timeline.get_tweets():\n",
    "    pp.pprint(tweet[0]._json)\n",
    "    break"
   ]
  },
  {
   "cell_type": "markdown",
   "metadata": {
    "collapsed": true
   },
   "source": [
    "# GET Intesa Favorites"
   ]
  },
  {
   "cell_type": "markdown",
   "metadata": {},
   "source": [
    "# GET Intesa Friends"
   ]
  },
  {
   "cell_type": "markdown",
   "metadata": {},
   "source": [
    "# GET Intesa Data"
   ]
  },
  {
   "cell_type": "code",
   "execution_count": null,
   "metadata": {
    "collapsed": true
   },
   "outputs": [],
   "source": []
  }
 ],
 "metadata": {
  "kernelspec": {
   "display_name": "Python [Root]",
   "language": "python",
   "name": "Python [Root]"
  },
  "language_info": {
   "codemirror_mode": {
    "name": "ipython",
    "version": 2
   },
   "file_extension": ".py",
   "mimetype": "text/x-python",
   "name": "python",
   "nbconvert_exporter": "python",
   "pygments_lexer": "ipython2",
   "version": "2.7.12"
  }
 },
 "nbformat": 4,
 "nbformat_minor": 0
}

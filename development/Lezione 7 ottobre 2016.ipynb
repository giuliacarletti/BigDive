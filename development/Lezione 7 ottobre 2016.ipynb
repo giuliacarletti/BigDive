{
 "cells": [
  {
   "cell_type": "code",
   "execution_count": 1,
   "metadata": {
    "collapsed": false
   },
   "outputs": [
    {
     "name": "stdout",
     "output_type": "stream",
     "text": [
      "Sono vero\n"
     ]
    }
   ],
   "source": [
    "vero = True \n",
    "if vero:\n",
    "    print \"Sono vero\"\n",
    "else: \"Sono falso\"\n",
    "    "
   ]
  },
  {
   "cell_type": "code",
   "execution_count": 25,
   "metadata": {
    "collapsed": false
   },
   "outputs": [
    {
     "name": "stdout",
     "output_type": "stream",
     "text": [
      "Sono vero\n"
     ]
    }
   ],
   "source": [
    "vero = True \n",
    "if vero:\n",
    "    print \"Sono vero\"\n",
    "else:\n",
    "        print \n",
    "        \"Sono falso\""
   ]
  },
  {
   "cell_type": "code",
   "execution_count": 2,
   "metadata": {
    "collapsed": false
   },
   "outputs": [
    {
     "name": "stdout",
     "output_type": "stream",
     "text": [
      "Sono falso\n"
     ]
    }
   ],
   "source": [
    "vero = 0\n",
    "if vero:\n",
    "    print \"Sono vero\"\n",
    "else:\n",
    "    print \"Sono falso\""
   ]
  },
  {
   "cell_type": "code",
   "execution_count": 24,
   "metadata": {
    "collapsed": false
   },
   "outputs": [
    {
     "name": "stdout",
     "output_type": "stream",
     "text": [
      "uguale\n"
     ]
    }
   ],
   "source": [
    "a=1\n",
    "b=\"1\"\n",
    "if str(a)==b:\n",
    "    print \"uguale\"\n",
    "else:\n",
    "    print \"no uguale\"\n",
    "        "
   ]
  },
  {
   "cell_type": "code",
   "execution_count": 23,
   "metadata": {
    "collapsed": false
   },
   "outputs": [
    {
     "name": "stdout",
     "output_type": "stream",
     "text": [
      "uguale\n"
     ]
    }
   ],
   "source": [
    "a=1\n",
    "b=\"1\"\n",
    "if str(a)==b:\n",
    "    print \"uguale\"\n",
    "else:\n",
    "    print \"no uguale\""
   ]
  },
  {
   "cell_type": "code",
   "execution_count": null,
   "metadata": {
    "collapsed": false
   },
   "outputs": [],
   "source": []
  },
  {
   "cell_type": "code",
   "execution_count": 8,
   "metadata": {
    "collapsed": false
   },
   "outputs": [
    {
     "name": "stdout",
     "output_type": "stream",
     "text": [
      "ciao\n",
      "ciao\n",
      "ciao\n",
      "ciao\n",
      "ciao\n"
     ]
    }
   ],
   "source": [
    "cont = 0\n",
    "while True:\n",
    "    print \"ciao\"\n",
    "    cont +=1\n",
    "    if cont ==5:\n",
    "        break\n",
    "        "
   ]
  },
  {
   "cell_type": "code",
   "execution_count": 9,
   "metadata": {
    "collapsed": false
   },
   "outputs": [
    {
     "name": "stdout",
     "output_type": "stream",
     "text": [
      "ciao\n",
      "ciao\n",
      "ciao\n",
      "ciao\n",
      "ciao\n"
     ]
    }
   ],
   "source": [
    "cont = 0\n",
    "while cont <5:\n",
    "    print \"ciao\"\n",
    "    cont +=1\n",
    "    "
   ]
  },
  {
   "cell_type": "code",
   "execution_count": 2,
   "metadata": {
    "collapsed": false
   },
   "outputs": [
    {
     "name": "stdout",
     "output_type": "stream",
     "text": [
      "uno\n",
      "due\n",
      "tre\n"
     ]
    }
   ],
   "source": [
    "lista = ['uno', 'due','tre']\n",
    "for value in lista:\n",
    "    print value\n",
    "    "
   ]
  },
  {
   "cell_type": "code",
   "execution_count": 3,
   "metadata": {
    "collapsed": false
   },
   "outputs": [
    {
     "name": "stdout",
     "output_type": "stream",
     "text": [
      "uno\n",
      "due\n",
      "tre\n"
     ]
    }
   ],
   "source": [
    "lista = ['uno','due','tre']\n",
    "for value in lista:\n",
    "    print value\n"
   ]
  },
  {
   "cell_type": "code",
   "execution_count": 12,
   "metadata": {
    "collapsed": false
   },
   "outputs": [
    {
     "data": {
      "text/plain": [
       "[0, 1, 2, 3, 4]"
      ]
     },
     "execution_count": 12,
     "metadata": {},
     "output_type": "execute_result"
    }
   ],
   "source": [
    "range(5)"
   ]
  },
  {
   "cell_type": "code",
   "execution_count": 13,
   "metadata": {
    "collapsed": false
   },
   "outputs": [
    {
     "name": "stdout",
     "output_type": "stream",
     "text": [
      "ciao\n",
      "ciao\n",
      "ciao\n",
      "ciao\n",
      "ciao\n"
     ]
    }
   ],
   "source": [
    "for i in range(5):\n",
    "    print \"ciao\"\n"
   ]
  },
  {
   "cell_type": "code",
   "execution_count": 15,
   "metadata": {
    "collapsed": false
   },
   "outputs": [
    {
     "name": "stdout",
     "output_type": "stream",
     "text": [
      "zero\n",
      "uno\n",
      "due\n",
      "tre\n"
     ]
    }
   ],
   "source": [
    "lista = ['zero','uno', 'due','tre']\n",
    "for value in lista:\n",
    "    print value"
   ]
  },
  {
   "cell_type": "code",
   "execution_count": 19,
   "metadata": {
    "collapsed": false
   },
   "outputs": [
    {
     "name": "stdout",
     "output_type": "stream",
     "text": [
      "INDICE: 0 --> zero\n",
      "INDICE: 1 --> uno\n",
      "INDICE: 2 --> due\n",
      "INDICE: 3 --> tre\n"
     ]
    }
   ],
   "source": [
    "for indice, valore in enumerate(lista):\n",
    "    print \"INDICE: %s --> %s\" % (indice, valore)"
   ]
  },
  {
   "cell_type": "code",
   "execution_count": 20,
   "metadata": {
    "collapsed": false
   },
   "outputs": [
    {
     "name": "stdout",
     "output_type": "stream",
     "text": [
      "ciao\n"
     ]
    }
   ],
   "source": [
    "try:\n",
    "    print \"ciao\"\n",
    "except:\n",
    "    print \"ERRORE\"\n"
   ]
  },
  {
   "cell_type": "code",
   "execution_count": 30,
   "metadata": {
    "collapsed": false
   },
   "outputs": [
    {
     "ename": "SyntaxError",
     "evalue": "invalid syntax (<ipython-input-30-3ae8b0aaa485>, line 3)",
     "output_type": "error",
     "traceback": [
      "\u001b[1;36m  File \u001b[1;32m\"<ipython-input-30-3ae8b0aaa485>\"\u001b[1;36m, line \u001b[1;32m3\u001b[0m\n\u001b[1;33m    try:def\u001b[0m\n\u001b[1;37m          ^\u001b[0m\n\u001b[1;31mSyntaxError\u001b[0m\u001b[1;31m:\u001b[0m invalid syntax\n"
     ]
    }
   ],
   "source": [
    "# errore: se non ho definito la variabile...ad esempio non metto ciao, ma un'altra variabile\n",
    "\n",
    "try:def\n",
    "    a=0\n",
    "except:\n",
    "    print \"Error\""
   ]
  },
  {
   "cell_type": "code",
   "execution_count": 32,
   "metadata": {
    "collapsed": false
   },
   "outputs": [
    {
     "name": "stdout",
     "output_type": "stream",
     "text": [
      "sono dentro la funzione\n",
      "ciao\n"
     ]
    }
   ],
   "source": [
    "def nome_funzione(parametro1, parametro2):\n",
    "    print \"sono dentro la funzione\"\n",
    "    return \"ciao\"\n",
    "\n",
    "myreturn = nome_funzione(1,2)\n",
    "print myreturn"
   ]
  },
  {
   "cell_type": "code",
   "execution_count": 33,
   "metadata": {
    "collapsed": false
   },
   "outputs": [
    {
     "name": "stdout",
     "output_type": "stream",
     "text": [
      "<function func at 0x7fe6f05a78c0>\n"
     ]
    }
   ],
   "source": [
    "def func():\n",
    "    pass\n",
    "print func\n"
   ]
  },
  {
   "cell_type": "code",
   "execution_count": 3,
   "metadata": {
    "collapsed": false
   },
   "outputs": [
    {
     "name": "stdout",
     "output_type": "stream",
     "text": [
      "1 2\n"
     ]
    }
   ],
   "source": [
    "def func(param1=None, param2=None):\n",
    "    print param1, param2\n",
    "func(1,2)"
   ]
  },
  {
   "cell_type": "code",
   "execution_count": 41,
   "metadata": {
    "collapsed": false
   },
   "outputs": [
    {
     "name": "stdout",
     "output_type": "stream",
     "text": [
      "1 (2, 3, 4, 5) {'ciao': 1, 'pippo': 'pluto'}\n"
     ]
    }
   ],
   "source": [
    "def func(p1,*args, **kw):\n",
    "    print p1,args,kw\n",
    "func (1,2,3,4,5, ciao=1, pippo=\"pluto\")\n",
    "    "
   ]
  },
  {
   "cell_type": "code",
   "execution_count": 7,
   "metadata": {
    "collapsed": false
   },
   "outputs": [
    {
     "name": "stdout",
     "output_type": "stream",
     "text": [
      "INDICE: 0 --> ciao\n",
      "INDICE: 1 --> pippo\n",
      "INDICE: 2 --> pluto\n"
     ]
    }
   ],
   "source": [
    "def p_list(mylist):\n",
    "    for pos, value in enumerate(mylist):\n",
    "        print \"POSIZIONE: %s --> %s\" % (pos, value)\n",
    "    p_list(['ciao', 'pippo', 'pluto'])\n",
    "\n",
    "\n",
    "def p_list(mylist):\n",
    "    for indice, valore in enumerate(mylist):\n",
    "        print \"INDICE: %s --> %s\" % (indice, valore)\n",
    "p_list(['ciao', 'pippo', 'pluto'])        "
   ]
  },
  {
   "cell_type": "code",
   "execution_count": 10,
   "metadata": {
    "collapsed": false
   },
   "outputs": [
    {
     "name": "stdout",
     "output_type": "stream",
     "text": [
      "INDICE: 0 --> pippo\n",
      "INDICE: 1 --> pluto\n"
     ]
    }
   ],
   "source": [
    "def p_lista(mylista):\n",
    "    for indice, valore in enumerate(mylista):\n",
    "        print \"INDICE: %s --> %s\" % (indice, valore)\n",
    "p_lista(['pippo', 'pluto'])\n"
   ]
  },
  {
   "cell_type": "code",
   "execution_count": 57,
   "metadata": {
    "collapsed": false
   },
   "outputs": [
    {
     "name": "stdout",
     "output_type": "stream",
     "text": [
      "INDICE: 0 --> ciao\n",
      "INDICE: 1 --> pippo\n",
      "INDICE: 2 --> pluto\n"
     ]
    }
   ],
   "source": [
    "for indice, valore in enumerate(p_lista):\n",
    "    print \"INDICE: %s --> %s\" % (indice, valore)\n",
    "    "
   ]
  },
  {
   "cell_type": "code",
   "execution_count": 58,
   "metadata": {
    "collapsed": false
   },
   "outputs": [
    {
     "data": {
      "text/plain": [
       "['__add__',\n",
       " '__class__',\n",
       " '__contains__',\n",
       " '__delattr__',\n",
       " '__delitem__',\n",
       " '__delslice__',\n",
       " '__doc__',\n",
       " '__eq__',\n",
       " '__format__',\n",
       " '__ge__',\n",
       " '__getattribute__',\n",
       " '__getitem__',\n",
       " '__getslice__',\n",
       " '__gt__',\n",
       " '__hash__',\n",
       " '__iadd__',\n",
       " '__imul__',\n",
       " '__init__',\n",
       " '__iter__',\n",
       " '__le__',\n",
       " '__len__',\n",
       " '__lt__',\n",
       " '__mul__',\n",
       " '__ne__',\n",
       " '__new__',\n",
       " '__reduce__',\n",
       " '__reduce_ex__',\n",
       " '__repr__',\n",
       " '__reversed__',\n",
       " '__rmul__',\n",
       " '__setattr__',\n",
       " '__setitem__',\n",
       " '__setslice__',\n",
       " '__sizeof__',\n",
       " '__str__',\n",
       " '__subclasshook__',\n",
       " 'append',\n",
       " 'count',\n",
       " 'extend',\n",
       " 'index',\n",
       " 'insert',\n",
       " 'pop',\n",
       " 'remove',\n",
       " 'reverse',\n",
       " 'sort']"
      ]
     },
     "execution_count": 58,
     "metadata": {},
     "output_type": "execute_result"
    }
   ],
   "source": [
    "dir(p_lista)"
   ]
  },
  {
   "cell_type": "code",
   "execution_count": 96,
   "metadata": {
    "collapsed": false
   },
   "outputs": [
    {
     "name": "stdout",
     "output_type": "stream",
     "text": [
      "POSIZIONE: 0 --> ciao\n",
      "POSIZIONE: 1 --> pippo\n",
      "POSIZIONE: 2 --> pluto\n"
     ]
    }
   ],
   "source": [
    "def p_list(mylyst):\n",
    "    for pos, value in enumerate(mylyst):\n",
    "        print \"POSIZIONE: %s --> %s\" %(pos, value)\n",
    "p_list (['ciao', 'pippo', 'pluto'])"
   ]
  },
  {
   "cell_type": "code",
   "execution_count": 66,
   "metadata": {
    "collapsed": false
   },
   "outputs": [
    {
     "name": "stdout",
     "output_type": "stream",
     "text": [
      "CHIAVE: key3 --> Hello\n",
      "CHIAVE: key2 --> False\n",
      "CHIAVE: key1 --> 1\n"
     ]
    }
   ],
   "source": [
    "def p_dict(mydict):\n",
    "    if not isinstance(mydict, dict):\n",
    "        print \"ERRORE\"\n",
    "        return\n",
    "    for key, value in mydict.items():\n",
    "        print \"CHIAVE: %s --> %s\" % (key, value)\n",
    "dizionario = dict(key1=1,key2=False, key3='Hello')\n",
    "p_dict(dizionario)"
   ]
  },
  {
   "cell_type": "code",
   "execution_count": 97,
   "metadata": {
    "collapsed": false
   },
   "outputs": [
    {
     "name": "stdout",
     "output_type": "stream",
     "text": [
      "KEY: Key3 --> Hello\n",
      "POSIZIONE: 0 --> 1\n",
      "POSIZIONE: 1 --> 2\n",
      "POSIZIONE: 2 --> 3\n",
      "POSIZIONE: 3 --> 4\n",
      "KEY: key1 --> 1\n",
      "KEY: ciao --> Mondo\n",
      "KEY: Hello --> World\n",
      "yeah\n",
      "super yeah\n"
     ]
    }
   ],
   "source": [
    "def p_dict(mydict):\n",
    "    for key, value in mydict.items():\n",
    "        if isinstance(value, list):\n",
    "            p_list(value)\n",
    "        elif isinstance(value, dict):\n",
    "            p_dict(value)\n",
    "        else:\n",
    "            print \"KEY: %s --> %s\" %(key, value)\n",
    "            \n",
    "p_dict(dict(key1=1,\n",
    "           key2=[1,2,3,4],\n",
    "           Key3='Hello',\n",
    "           key4={\"ciao\": \"Mondo\", \"Hello\":\"World\"}))\n",
    "if type([1])==list:\n",
    "    print \"yeah\"\n",
    "if isinstance ([1], list):\n",
    "    print \"super yeah\"\n",
    "\n",
    "\n"
   ]
  },
  {
   "cell_type": "code",
   "execution_count": 103,
   "metadata": {
    "collapsed": false
   },
   "outputs": [
    {
     "name": "stdout",
     "output_type": "stream",
     "text": [
      "Ciao\n",
      "sono\n",
      "una\n",
      "frase\n",
      "un\n",
      "po\n",
      "lunga\n",
      "con\n",
      "delle\n",
      "parole\n",
      "PAROLE TOTALI: 10\n"
     ]
    }
   ],
   "source": [
    "def word_count(frase):\n",
    "    cont = 0\n",
    "    splitted_words = frase.split()\n",
    "    #print frase.split()\n",
    "    #print frase.split(\",\")\n",
    "    for word in splitted_words:\n",
    "        print word\n",
    "        cont +=1\n",
    "    print \"PAROLE TOTALI:\", cont\n",
    "  \n",
    "\n",
    "def better_word_count(frase):\n",
    "    splitted_words = frase.split()\n",
    "    for word in splitted_words:\n",
    "        print word\n",
    "    print \"PAROLE TOTALI:\", len(splitted_words) \n",
    "\n",
    "better_word_count(\"Ciao sono una frase un po lunga con delle parole\")"
   ]
  },
  {
   "cell_type": "code",
   "execution_count": null,
   "metadata": {
    "collapsed": true
   },
   "outputs": [],
   "source": []
  },
  {
   "cell_type": "code",
   "execution_count": null,
   "metadata": {
    "collapsed": true
   },
   "outputs": [],
   "source": []
  }
 ],
 "metadata": {
  "kernelspec": {
   "display_name": "Python [Root]",
   "language": "python",
   "name": "Python [Root]"
  },
  "language_info": {
   "codemirror_mode": {
    "name": "ipython",
    "version": 2
   },
   "file_extension": ".py",
   "mimetype": "text/x-python",
   "name": "python",
   "nbconvert_exporter": "python",
   "pygments_lexer": "ipython2",
   "version": "2.7.12"
  }
 },
 "nbformat": 4,
 "nbformat_minor": 0
}

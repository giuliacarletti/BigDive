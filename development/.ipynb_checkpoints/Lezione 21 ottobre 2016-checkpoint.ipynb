{
 "cells": [
  {
   "cell_type": "markdown",
   "metadata": {},
   "source": [
    "# List comprehension "
   ]
  },
  {
   "cell_type": "markdown",
   "metadata": {},
   "source": []
  },
  {
   "cell_type": "code",
   "execution_count": 5,
   "metadata": {
    "collapsed": false
   },
   "outputs": [
    {
     "ename": "IndentationError",
     "evalue": "expected an indented block (<ipython-input-5-6cf74027b346>, line 14)",
     "output_type": "error",
     "traceback": [
      "\u001b[1;36m  File \u001b[1;32m\"<ipython-input-5-6cf74027b346>\"\u001b[1;36m, line \u001b[1;32m14\u001b[0m\n\u001b[1;33m    lettere_pari = [letter for i, letter in enumerate(name)] #if i%2==0]\u001b[0m\n\u001b[1;37m               ^\u001b[0m\n\u001b[1;31mIndentationError\u001b[0m\u001b[1;31m:\u001b[0m expected an indented block\n"
     ]
    }
   ],
   "source": [
    "name = \"Giovanni\"\n",
    "name_list = []\n",
    "for letter in name:\n",
    "    name_list.append(letter)\n",
    "    \n",
    "print name_list\n",
    "\n",
    "name_list = [letter for letter in name if letter == 'i']      \n",
    "print name_list\n",
    "\n",
    "\n",
    "lettere_pari = []\n",
    "for i,letter in enumerate(name):\n",
    "    if i%2==0:\n",
    "    lettere_pari = [letter for i, letter in enumerate(name) if i%2==0]\n",
    "print lettere_pari\n",
    "\n",
    "\n",
    "for i, letter in enumerate(name):\n",
    "    print i, letter\n",
    "\n",
    "myObject = [\"Ciao\", \"Mondo\", 1, True, {\"key\":\"value\"}, [1,2,3]]\n",
    "print [element for element in myObject if isinstance(element, str)]\n",
    "\n",
    "for indice,lettera in enumerate(name):\n",
    "    print \"(%s, %s)\" % (indice, lettera)"
   ]
  },
  {
   "cell_type": "code",
   "execution_count": 31,
   "metadata": {
    "collapsed": false
   },
   "outputs": [
    {
     "name": "stdout",
     "output_type": "stream",
     "text": [
      "[0, 1, 2, 3, 4, 5, 6, 7, 8, 9]\n",
      "[0, 1, 2, 3, 4, 5, 6, 7, 8, 9]\n",
      "<generator object <genexpr> at 0x7f01dc568a50>\n",
      "0\n",
      "1\n",
      "2\n",
      "3\n",
      "4\n",
      "5\n",
      "6\n",
      "7\n",
      "8\n",
      "9\n"
     ]
    }
   ],
   "source": [
    "# Generatori\n",
    "lista = list() #[]\n",
    "for i in range(10):\n",
    "    lista.append(i)\n",
    "print lista\n",
    "\n",
    "lista = [i for i in range(10)]\n",
    "print lista\n",
    "\n",
    "generatore = (i for i in range(10))\n",
    "print generatore\n",
    "# questa è una funzione\n",
    "\n",
    "for i in generatore:\n",
    "    print i\n",
    "     "
   ]
  },
  {
   "cell_type": "code",
   "execution_count": 22,
   "metadata": {
    "collapsed": false
   },
   "outputs": [
    {
     "name": "stdout",
     "output_type": "stream",
     "text": [
      "<generator object <genexpr> at 0x7f7d2c28deb0>\n",
      "0\n"
     ]
    }
   ],
   "source": [
    "generatore = (i for i in range(10))\n",
    "print generatore\n",
    "#print dir (generatore)\n",
    "print generatore.next()"
   ]
  },
  {
   "cell_type": "code",
   "execution_count": 32,
   "metadata": {
    "collapsed": false
   },
   "outputs": [
    {
     "ename": "StopIteration",
     "evalue": "",
     "output_type": "error",
     "traceback": [
      "\u001b[1;31m---------------------------------------------------------------------------\u001b[0m",
      "\u001b[1;31mStopIteration\u001b[0m                             Traceback (most recent call last)",
      "\u001b[1;32m<ipython-input-32-434eab853f44>\u001b[0m in \u001b[0;36m<module>\u001b[1;34m()\u001b[0m\n\u001b[1;32m----> 1\u001b[1;33m \u001b[0mgeneratore\u001b[0m\u001b[1;33m.\u001b[0m\u001b[0mnext\u001b[0m\u001b[1;33m(\u001b[0m\u001b[1;33m)\u001b[0m\u001b[1;33m\u001b[0m\u001b[0m\n\u001b[0m",
      "\u001b[1;31mStopIteration\u001b[0m: "
     ]
    }
   ],
   "source": [
    "generatore.next()\n"
   ]
  },
  {
   "cell_type": "code",
   "execution_count": 34,
   "metadata": {
    "collapsed": false
   },
   "outputs": [
    {
     "name": "stdout",
     "output_type": "stream",
     "text": [
      "Generatore vuoto..\n"
     ]
    }
   ],
   "source": [
    "try:\n",
    "    generatore.next()\n",
    "except StopIteration:\n",
    "    print \"Generatore vuoto..\""
   ]
  },
  {
   "cell_type": "code",
   "execution_count": 37,
   "metadata": {
    "collapsed": false
   },
   "outputs": [
    {
     "name": "stdout",
     "output_type": "stream",
     "text": [
      "<generator object my_doublify at 0x7f7d2c28de10>\n",
      "0\n",
      "2\n",
      "4\n",
      "6\n",
      "8\n"
     ]
    }
   ],
   "source": [
    "def my_doublify(num):\n",
    "        for i in range(num):\n",
    "            yield i*2\n",
    "            #yield è l'equivalente di un return, con la diff che l'output non si interrompe...\n",
    "            #l'iteraz non viene interrotta\n",
    "            \n",
    "print my_doublify(5)            \n",
    "for i in my_doublify(5):\n",
    "    print i"
   ]
  },
  {
   "cell_type": "code",
   "execution_count": 39,
   "metadata": {
    "collapsed": false
   },
   "outputs": [
    {
     "name": "stdout",
     "output_type": "stream",
     "text": [
      "0\n",
      "1\n",
      "2\n",
      "3\n",
      "4\n",
      "5\n",
      "6\n"
     ]
    }
   ],
   "source": [
    "for i in xrange(10000):\n",
    "    print i\n",
    "    if i > 5:\n",
    "        break\n",
    "        \n",
    "#xrange è un range sul generatore   "
   ]
  },
  {
   "cell_type": "code",
   "execution_count": 42,
   "metadata": {
    "collapsed": false
   },
   "outputs": [
    {
     "name": "stdout",
     "output_type": "stream",
     "text": [
      "<__main__.MyClass instance at 0x7f7d2c1e47e8>\n",
      "ciao\n",
      "Mondo\n"
     ]
    }
   ],
   "source": [
    "# Classi e Oggetti\n",
    "class MyClass():\n",
    "    pass\n",
    "\n",
    "\n",
    "c = MyClass()\n",
    "print c\n",
    "\n",
    "c.attributo = \"ciao\"\n",
    "print c.attributo\n",
    "c.attributo  = \"Mondo\"\n",
    "print c.attributo\n",
    "\n",
    "b = MyClass()\n",
    "# print b.attributo #ERRORE!!!\n",
    "\n"
   ]
  },
  {
   "cell_type": "code",
   "execution_count": 38,
   "metadata": {
    "collapsed": false
   },
   "outputs": [
    {
     "name": "stdout",
     "output_type": "stream",
     "text": [
      "Alex - Comu\n",
      "Gianni - Comu\n",
      "Gianni - Comu\n",
      "Alex - Comu\n"
     ]
    }
   ],
   "source": [
    "class Person(object):\n",
    "    def __init__(self,name='Sconosciuto', cognome='Sconosciuto'):\n",
    "        self.name = name\n",
    "        self.cognome = cognome\n",
    "# self va sempre messo, è di default    \n",
    "    \n",
    "    def __str__(self):\n",
    "        \n",
    "        return \"%s - %s\" % (self.name, self.cognome)\n",
    "    \n",
    "    def __repr__(self):\n",
    "        return \"%s - %s\" % (self.name, self.cognome)\n",
    "    \n",
    "    \n",
    "    def print_name(self):\n",
    "        print \"%s - %s\" % (self.name, self.cognome)\n",
    "        \n",
    "        \n",
    "    def rename (self, new_name, new_cognome):\n",
    "        self.name = new_name\n",
    "        self.new_cognome = new_cognome\n",
    "        \n",
    "    @property   \n",
    "    def fullname(self):\n",
    "        return \"%s - %s\" % (self.name, self.cognome)\n",
    "        \n",
    "        #effettua il setting di qualche variabile:\n",
    "        \n",
    "    @fullname.setter\n",
    "    def fullname(self, value):\n",
    "        #esempio di VALUE = \"Alex Comu\"\n",
    "        self.name, self.cognome = value.split()\n",
    "        \n",
    "        \n",
    "    \n",
    "persona = Person(name = \"Alex\", cognome = \"Comu\")\n",
    "##print persona.print_name()\n",
    "print persona\n",
    "\n",
    "##persona = Person(cognome = \"Comu\")\n",
    "\n",
    "##persona.name = \"Alex\"\n",
    "\n",
    "##print persona.name\n",
    "\n",
    "#print persona \n",
    "\n",
    "##questo non vine fatto di solito:\n",
    "##persona.name = \"Nuovo Nome\"\n",
    "\n",
    "\n",
    "persona.rename(\"Gianni\", \"Gialli\")\n",
    "print persona\n",
    "persona\n",
    "\n",
    "print persona.fullname\n",
    "\n",
    "persona.fullname = \"Alex Comu\"\n",
    "print persona\n"
   ]
  },
  {
   "cell_type": "code",
   "execution_count": 43,
   "metadata": {
    "collapsed": false
   },
   "outputs": [
    {
     "name": "stdout",
     "output_type": "stream",
     "text": [
      "Alex - Comu\n",
      "Ciccio\n"
     ]
    }
   ],
   "source": [
    "class Person(object):\n",
    "    nome = None\n",
    "    cognome = None\n",
    "    \n",
    "    def __init__(self, nome, cognome):\n",
    "        self.nome = nome\n",
    "        self.cognome = cognome\n",
    "        \n",
    "    def __str__(self) :\n",
    "        return \"%s - %s\" % (self.nome, self.cognome)\n",
    "  \n",
    "class Uomo(Person): \n",
    "    \n",
    "    def __str__(self):\n",
    "        return \"ciao\"\n",
    "#quella sopra ridefinisce la classe uomo \n",
    "\n",
    "\n",
    "p = Person(\"Alex\", \"Comu\") \n",
    "print p\n",
    "u = Uomo(\"Ciccio\", \"Pasticcio\")\n",
    "print u.nome    #stampa gli attributi di u"
   ]
  },
  {
   "cell_type": "code",
   "execution_count": 48,
   "metadata": {
    "collapsed": false
   },
   "outputs": [
    {
     "name": "stdout",
     "output_type": "stream",
     "text": [
      "Ciao Mondo\n",
      "Ciao Mondo\n",
      "10\n"
     ]
    }
   ],
   "source": [
    "# metodi di classe\n",
    "class MyClass(object):\n",
    "    \n",
    "    \n",
    "    def hello(self):\n",
    "        return \"Ciao Mondo\"\n",
    "    \n",
    "    \n",
    "    @classmethod\n",
    "    def sono_metodo_di_classe(self):\n",
    "        return \"Ciao Mondo\"\n",
    "    \n",
    "    @classmethod\n",
    "    def init_with_secret(self, secret):\n",
    "        c = MyClass()\n",
    "        c.secret = secret\n",
    "        return c\n",
    "    \n",
    "    \n",
    "    \n",
    "    \n",
    "    \n",
    "classe = MyClass() \n",
    "print classe.hello()\n",
    " \n",
    "    \n",
    "print MyClass.sono_metodo_di_classe()    \n",
    "c = MyClass.init_with_secret(10)\n",
    "print c.secret"
   ]
  },
  {
   "cell_type": "code",
   "execution_count": null,
   "metadata": {
    "collapsed": true
   },
   "outputs": [],
   "source": []
  }
 ],
 "metadata": {
  "kernelspec": {
   "display_name": "Python [Root]",
   "language": "python",
   "name": "Python [Root]"
  },
  "language_info": {
   "codemirror_mode": {
    "name": "ipython",
    "version": 2
   },
   "file_extension": ".py",
   "mimetype": "text/x-python",
   "name": "python",
   "nbconvert_exporter": "python",
   "pygments_lexer": "ipython2",
   "version": "2.7.12"
  }
 },
 "nbformat": 4,
 "nbformat_minor": 0
}

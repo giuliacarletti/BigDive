{
 "cells": [
  {
   "cell_type": "markdown",
   "metadata": {},
   "source": [
    "# Big Dive - Project Work Finale\n",
    "\n",
    "## Applicazione Machine Learning\n",
    "\n",
    "- Angelica Castellano\n",
    "- Giuseppe D'Agostino\n",
    "- Stefania Piosso\n",
    "- Marco Vita"
   ]
  },
  {
   "cell_type": "markdown",
   "metadata": {},
   "source": [
    "Import librerie:"
   ]
  },
  {
   "cell_type": "code",
   "execution_count": 619,
   "metadata": {
    "collapsed": false
   },
   "outputs": [
    {
     "name": "stdout",
     "output_type": "stream",
     "text": [
      "Populating the interactive namespace from numpy and matplotlib\n"
     ]
    }
   ],
   "source": [
    "%pylab inline"
   ]
  },
  {
   "cell_type": "code",
   "execution_count": 620,
   "metadata": {
    "collapsed": true
   },
   "outputs": [],
   "source": [
    "import pandas as pd"
   ]
  },
  {
   "cell_type": "markdown",
   "metadata": {},
   "source": [
    "Importo il dataset di training:"
   ]
  },
  {
   "cell_type": "code",
   "execution_count": 621,
   "metadata": {
    "collapsed": false
   },
   "outputs": [],
   "source": [
    "db_train = pd.read_csv('CONTEST_TRAINING_SET_PUBBLICO.CSV')"
   ]
  },
  {
   "cell_type": "code",
   "execution_count": 622,
   "metadata": {
    "collapsed": false
   },
   "outputs": [
    {
     "data": {
      "text/html": [
       "<div>\n",
       "<table border=\"1\" class=\"dataframe\">\n",
       "  <thead>\n",
       "    <tr style=\"text-align: right;\">\n",
       "      <th></th>\n",
       "      <th>ID</th>\n",
       "      <th>COD_CAP</th>\n",
       "      <th>COD_PROVINCIA</th>\n",
       "      <th>DAT_COSTITUZIONE</th>\n",
       "      <th>COD_RAE</th>\n",
       "      <th>COD_SAE</th>\n",
       "      <th>COD_ISTAT_ATECO_07</th>\n",
       "      <th>FLG_DEF_6M</th>\n",
       "      <th>CBI201312_CREDITI</th>\n",
       "      <th>CBI201312_UTILE_PERDITA_ESERCIZIO</th>\n",
       "      <th>CBI201312_PATRIMONIO_NETTO</th>\n",
       "      <th>CBI201312_DEBITI_CONSOLIDATI</th>\n",
       "      <th>CBI201312_DEBITI_ENTRO_ES_SUCC</th>\n",
       "      <th>CBI201312_RICAVI_NETTI</th>\n",
       "      <th>CBI201312_ACQUISTI_NETTI</th>\n",
       "      <th>CBI201312_COSTI_SERVZ_BENI_TERZI</th>\n",
       "      <th>IMP_ACCORDATO</th>\n",
       "      <th>IMP_UTILIZZATO</th>\n",
       "      <th>IMP_VALORE_GARANZIA</th>\n",
       "    </tr>\n",
       "  </thead>\n",
       "  <tbody>\n",
       "    <tr>\n",
       "      <th>0</th>\n",
       "      <td>1</td>\n",
       "      <td>83013.0</td>\n",
       "      <td>AV</td>\n",
       "      <td>1977.0</td>\n",
       "      <td>243</td>\n",
       "      <td>430</td>\n",
       "      <td>4120.0</td>\n",
       "      <td>1</td>\n",
       "      <td>NaN</td>\n",
       "      <td>NaN</td>\n",
       "      <td>NaN</td>\n",
       "      <td>NaN</td>\n",
       "      <td>NaN</td>\n",
       "      <td>NaN</td>\n",
       "      <td>NaN</td>\n",
       "      <td>NaN</td>\n",
       "      <td>0.0</td>\n",
       "      <td>135220.0</td>\n",
       "      <td>0.0</td>\n",
       "    </tr>\n",
       "    <tr>\n",
       "      <th>1</th>\n",
       "      <td>2</td>\n",
       "      <td>84131.0</td>\n",
       "      <td>SA</td>\n",
       "      <td>1984.0</td>\n",
       "      <td>614</td>\n",
       "      <td>492</td>\n",
       "      <td>4719.0</td>\n",
       "      <td>1</td>\n",
       "      <td>NaN</td>\n",
       "      <td>NaN</td>\n",
       "      <td>NaN</td>\n",
       "      <td>NaN</td>\n",
       "      <td>NaN</td>\n",
       "      <td>NaN</td>\n",
       "      <td>NaN</td>\n",
       "      <td>NaN</td>\n",
       "      <td>844348.0</td>\n",
       "      <td>1054419.0</td>\n",
       "      <td>0.0</td>\n",
       "    </tr>\n",
       "    <tr>\n",
       "      <th>2</th>\n",
       "      <td>3</td>\n",
       "      <td>82030.0</td>\n",
       "      <td>BN</td>\n",
       "      <td>1952.0</td>\n",
       "      <td>12</td>\n",
       "      <td>430</td>\n",
       "      <td>11021.0</td>\n",
       "      <td>1</td>\n",
       "      <td>NaN</td>\n",
       "      <td>NaN</td>\n",
       "      <td>NaN</td>\n",
       "      <td>NaN</td>\n",
       "      <td>NaN</td>\n",
       "      <td>NaN</td>\n",
       "      <td>NaN</td>\n",
       "      <td>NaN</td>\n",
       "      <td>0.0</td>\n",
       "      <td>332366.0</td>\n",
       "      <td>0.0</td>\n",
       "    </tr>\n",
       "    <tr>\n",
       "      <th>3</th>\n",
       "      <td>4</td>\n",
       "      <td>80133.0</td>\n",
       "      <td>NaN</td>\n",
       "      <td>1982.0</td>\n",
       "      <td>830</td>\n",
       "      <td>430</td>\n",
       "      <td>4120.0</td>\n",
       "      <td>1</td>\n",
       "      <td>NaN</td>\n",
       "      <td>NaN</td>\n",
       "      <td>NaN</td>\n",
       "      <td>NaN</td>\n",
       "      <td>NaN</td>\n",
       "      <td>NaN</td>\n",
       "      <td>NaN</td>\n",
       "      <td>NaN</td>\n",
       "      <td>0.0</td>\n",
       "      <td>51762483.0</td>\n",
       "      <td>0.0</td>\n",
       "    </tr>\n",
       "    <tr>\n",
       "      <th>4</th>\n",
       "      <td>5</td>\n",
       "      <td>72021.0</td>\n",
       "      <td>BR</td>\n",
       "      <td>1989.0</td>\n",
       "      <td>419</td>\n",
       "      <td>482</td>\n",
       "      <td>10711.0</td>\n",
       "      <td>0</td>\n",
       "      <td>NaN</td>\n",
       "      <td>NaN</td>\n",
       "      <td>NaN</td>\n",
       "      <td>NaN</td>\n",
       "      <td>NaN</td>\n",
       "      <td>NaN</td>\n",
       "      <td>NaN</td>\n",
       "      <td>NaN</td>\n",
       "      <td>37562.0</td>\n",
       "      <td>34857.0</td>\n",
       "      <td>0.0</td>\n",
       "    </tr>\n",
       "  </tbody>\n",
       "</table>\n",
       "</div>"
      ],
      "text/plain": [
       "   ID  COD_CAP COD_PROVINCIA  DAT_COSTITUZIONE  COD_RAE  COD_SAE  \\\n",
       "0   1  83013.0            AV            1977.0      243      430   \n",
       "1   2  84131.0            SA            1984.0      614      492   \n",
       "2   3  82030.0            BN            1952.0       12      430   \n",
       "3   4  80133.0           NaN            1982.0      830      430   \n",
       "4   5  72021.0            BR            1989.0      419      482   \n",
       "\n",
       "   COD_ISTAT_ATECO_07  FLG_DEF_6M  CBI201312_CREDITI  \\\n",
       "0              4120.0           1                NaN   \n",
       "1              4719.0           1                NaN   \n",
       "2             11021.0           1                NaN   \n",
       "3              4120.0           1                NaN   \n",
       "4             10711.0           0                NaN   \n",
       "\n",
       "   CBI201312_UTILE_PERDITA_ESERCIZIO  CBI201312_PATRIMONIO_NETTO  \\\n",
       "0                                NaN                         NaN   \n",
       "1                                NaN                         NaN   \n",
       "2                                NaN                         NaN   \n",
       "3                                NaN                         NaN   \n",
       "4                                NaN                         NaN   \n",
       "\n",
       "   CBI201312_DEBITI_CONSOLIDATI  CBI201312_DEBITI_ENTRO_ES_SUCC  \\\n",
       "0                           NaN                             NaN   \n",
       "1                           NaN                             NaN   \n",
       "2                           NaN                             NaN   \n",
       "3                           NaN                             NaN   \n",
       "4                           NaN                             NaN   \n",
       "\n",
       "   CBI201312_RICAVI_NETTI  CBI201312_ACQUISTI_NETTI  \\\n",
       "0                     NaN                       NaN   \n",
       "1                     NaN                       NaN   \n",
       "2                     NaN                       NaN   \n",
       "3                     NaN                       NaN   \n",
       "4                     NaN                       NaN   \n",
       "\n",
       "   CBI201312_COSTI_SERVZ_BENI_TERZI  IMP_ACCORDATO  IMP_UTILIZZATO  \\\n",
       "0                               NaN            0.0        135220.0   \n",
       "1                               NaN       844348.0       1054419.0   \n",
       "2                               NaN            0.0        332366.0   \n",
       "3                               NaN            0.0      51762483.0   \n",
       "4                               NaN        37562.0         34857.0   \n",
       "\n",
       "   IMP_VALORE_GARANZIA  \n",
       "0                  0.0  \n",
       "1                  0.0  \n",
       "2                  0.0  \n",
       "3                  0.0  \n",
       "4                  0.0  "
      ]
     },
     "execution_count": 622,
     "metadata": {},
     "output_type": "execute_result"
    }
   ],
   "source": [
    "db_train.head()"
   ]
  },
  {
   "cell_type": "markdown",
   "metadata": {},
   "source": [
    "E' necessaria la definizione dei formati per visualizzare e trattare correttamente i valori:"
   ]
  },
  {
   "cell_type": "code",
   "execution_count": 623,
   "metadata": {
    "collapsed": false
   },
   "outputs": [],
   "source": [
    "db_train=pd.read_csv('CONTEST_TRAINING_SET_PUBBLICO.CSV',\n",
    "               dtype={'COD_CAP': object,\n",
    "                      'COD_PROVINCIA': object,\n",
    "                      'DAT_COSTITUZIONE': object,\n",
    "                      'COD_RAE': object,\n",
    "                      'COD_SAE': object,\n",
    "                      'COD_ISTAT_ATECO_07': object,\n",
    "                      'FLAG_DEF_6M': np.int,\n",
    "                      'CBI201312_CREDITI': np.float64,\n",
    "                      'CBI201312_UTILE_PERDITA_ESERCIZIO':np.float64,\n",
    "                      'CBI201312_PATRIMONIO_NETTO':np.float64,\n",
    "                      'CBI201312_DEBITI_CONSOLIDATI':np.float64,\n",
    "                      'CBI201312_DEBITI_ENTRO_ES_SUCC':np.float64,\n",
    "                      'CBI201312_RICAVI_NETTI':np.float64,\n",
    "                      'CBI201312_ACQUISTI_NETTI':np.float64,\n",
    "                      'CBI201312_COSTI_SERVZ_BENI_TERZI':np.float64,\n",
    "                      'IMP_ACCORDATO':np.float64,\n",
    "                      'IMP_UTILIZZATO':np.float64,\n",
    "                      'IMP_VALORE_GARANZIA':np.float64})"
   ]
  },
  {
   "cell_type": "markdown",
   "metadata": {},
   "source": [
    "Applico la stessa formattazione anche ai campi dei dataset di test:"
   ]
  },
  {
   "cell_type": "code",
   "execution_count": 624,
   "metadata": {
    "collapsed": false
   },
   "outputs": [],
   "source": [
    "db_test=pd.read_csv('CONTEST_TEST_SET_PUBBLICO.csv',\n",
    "               dtype={'COD_CAP': object,\n",
    "                      'COD_PROVINCIA': object,\n",
    "                      'DAT_COSTITUZIONE': object,\n",
    "                      'COD_RAE': object,\n",
    "                      'COD_SAE': object,\n",
    "                      'COD_ISTAT_ATECO_07': object,\n",
    "                      'FLAG_DEF_6M': np.int,\n",
    "                      'CBI201312_CREDITI': np.float64,\n",
    "                      'CBI201312_UTILE_PERDITA_ESERCIZIO':np.float64,\n",
    "                      'CBI201312_PATRIMONIO_NETTO':np.float64,\n",
    "                      'CBI201312_DEBITI_CONSOLIDATI':np.float64,\n",
    "                      'CBI201312_DEBITI_ENTRO_ES_SUCC':np.float64,\n",
    "                      'CBI201312_RICAVI_NETTI':np.float64,\n",
    "                      'CBI201312_ACQUISTI_NETTI':np.float64,\n",
    "                      'CBI201312_COSTI_SERVZ_BENI_TERZI':np.float64,\n",
    "                      'IMP_ACCORDATO':np.float64,\n",
    "                      'IMP_UTILIZZATO':np.float64,\n",
    "                      'IMP_VALORE_GARANZIA':np.float64})"
   ]
  },
  {
   "cell_type": "code",
   "execution_count": 625,
   "metadata": {
    "collapsed": false
   },
   "outputs": [
    {
     "data": {
      "text/html": [
       "<div>\n",
       "<table border=\"1\" class=\"dataframe\">\n",
       "  <thead>\n",
       "    <tr style=\"text-align: right;\">\n",
       "      <th></th>\n",
       "      <th>ID</th>\n",
       "      <th>COD_CAP</th>\n",
       "      <th>COD_PROVINCIA</th>\n",
       "      <th>DAT_COSTITUZIONE</th>\n",
       "      <th>COD_RAE</th>\n",
       "      <th>COD_SAE</th>\n",
       "      <th>COD_ISTAT_ATECO_07</th>\n",
       "      <th>FLG_DEF_6M</th>\n",
       "      <th>CBI201312_CREDITI</th>\n",
       "      <th>CBI201312_UTILE_PERDITA_ESERCIZIO</th>\n",
       "      <th>CBI201312_PATRIMONIO_NETTO</th>\n",
       "      <th>CBI201312_DEBITI_CONSOLIDATI</th>\n",
       "      <th>CBI201312_DEBITI_ENTRO_ES_SUCC</th>\n",
       "      <th>CBI201312_RICAVI_NETTI</th>\n",
       "      <th>CBI201312_ACQUISTI_NETTI</th>\n",
       "      <th>CBI201312_COSTI_SERVZ_BENI_TERZI</th>\n",
       "      <th>IMP_ACCORDATO</th>\n",
       "      <th>IMP_UTILIZZATO</th>\n",
       "      <th>IMP_VALORE_GARANZIA</th>\n",
       "    </tr>\n",
       "  </thead>\n",
       "  <tbody>\n",
       "    <tr>\n",
       "      <th>0</th>\n",
       "      <td>1</td>\n",
       "      <td>83013</td>\n",
       "      <td>AV</td>\n",
       "      <td>1977.0</td>\n",
       "      <td>243</td>\n",
       "      <td>430</td>\n",
       "      <td>4120</td>\n",
       "      <td>1</td>\n",
       "      <td>NaN</td>\n",
       "      <td>NaN</td>\n",
       "      <td>NaN</td>\n",
       "      <td>NaN</td>\n",
       "      <td>NaN</td>\n",
       "      <td>NaN</td>\n",
       "      <td>NaN</td>\n",
       "      <td>NaN</td>\n",
       "      <td>0.0</td>\n",
       "      <td>135220.0</td>\n",
       "      <td>0.0</td>\n",
       "    </tr>\n",
       "    <tr>\n",
       "      <th>1</th>\n",
       "      <td>2</td>\n",
       "      <td>84131</td>\n",
       "      <td>SA</td>\n",
       "      <td>1984.0</td>\n",
       "      <td>614</td>\n",
       "      <td>492</td>\n",
       "      <td>4719</td>\n",
       "      <td>1</td>\n",
       "      <td>NaN</td>\n",
       "      <td>NaN</td>\n",
       "      <td>NaN</td>\n",
       "      <td>NaN</td>\n",
       "      <td>NaN</td>\n",
       "      <td>NaN</td>\n",
       "      <td>NaN</td>\n",
       "      <td>NaN</td>\n",
       "      <td>844348.0</td>\n",
       "      <td>1054419.0</td>\n",
       "      <td>0.0</td>\n",
       "    </tr>\n",
       "    <tr>\n",
       "      <th>2</th>\n",
       "      <td>3</td>\n",
       "      <td>82030</td>\n",
       "      <td>BN</td>\n",
       "      <td>1952.0</td>\n",
       "      <td>012</td>\n",
       "      <td>430</td>\n",
       "      <td>11021</td>\n",
       "      <td>1</td>\n",
       "      <td>NaN</td>\n",
       "      <td>NaN</td>\n",
       "      <td>NaN</td>\n",
       "      <td>NaN</td>\n",
       "      <td>NaN</td>\n",
       "      <td>NaN</td>\n",
       "      <td>NaN</td>\n",
       "      <td>NaN</td>\n",
       "      <td>0.0</td>\n",
       "      <td>332366.0</td>\n",
       "      <td>0.0</td>\n",
       "    </tr>\n",
       "    <tr>\n",
       "      <th>3</th>\n",
       "      <td>4</td>\n",
       "      <td>80133</td>\n",
       "      <td>NaN</td>\n",
       "      <td>1982.0</td>\n",
       "      <td>830</td>\n",
       "      <td>430</td>\n",
       "      <td>4120</td>\n",
       "      <td>1</td>\n",
       "      <td>NaN</td>\n",
       "      <td>NaN</td>\n",
       "      <td>NaN</td>\n",
       "      <td>NaN</td>\n",
       "      <td>NaN</td>\n",
       "      <td>NaN</td>\n",
       "      <td>NaN</td>\n",
       "      <td>NaN</td>\n",
       "      <td>0.0</td>\n",
       "      <td>51762483.0</td>\n",
       "      <td>0.0</td>\n",
       "    </tr>\n",
       "    <tr>\n",
       "      <th>4</th>\n",
       "      <td>5</td>\n",
       "      <td>72021</td>\n",
       "      <td>BR</td>\n",
       "      <td>1989.0</td>\n",
       "      <td>419</td>\n",
       "      <td>482</td>\n",
       "      <td>10711</td>\n",
       "      <td>0</td>\n",
       "      <td>NaN</td>\n",
       "      <td>NaN</td>\n",
       "      <td>NaN</td>\n",
       "      <td>NaN</td>\n",
       "      <td>NaN</td>\n",
       "      <td>NaN</td>\n",
       "      <td>NaN</td>\n",
       "      <td>NaN</td>\n",
       "      <td>37562.0</td>\n",
       "      <td>34857.0</td>\n",
       "      <td>0.0</td>\n",
       "    </tr>\n",
       "  </tbody>\n",
       "</table>\n",
       "</div>"
      ],
      "text/plain": [
       "   ID COD_CAP COD_PROVINCIA DAT_COSTITUZIONE COD_RAE COD_SAE  \\\n",
       "0   1   83013            AV           1977.0     243     430   \n",
       "1   2   84131            SA           1984.0     614     492   \n",
       "2   3   82030            BN           1952.0     012     430   \n",
       "3   4   80133           NaN           1982.0     830     430   \n",
       "4   5   72021            BR           1989.0     419     482   \n",
       "\n",
       "  COD_ISTAT_ATECO_07  FLG_DEF_6M  CBI201312_CREDITI  \\\n",
       "0               4120           1                NaN   \n",
       "1               4719           1                NaN   \n",
       "2              11021           1                NaN   \n",
       "3               4120           1                NaN   \n",
       "4              10711           0                NaN   \n",
       "\n",
       "   CBI201312_UTILE_PERDITA_ESERCIZIO  CBI201312_PATRIMONIO_NETTO  \\\n",
       "0                                NaN                         NaN   \n",
       "1                                NaN                         NaN   \n",
       "2                                NaN                         NaN   \n",
       "3                                NaN                         NaN   \n",
       "4                                NaN                         NaN   \n",
       "\n",
       "   CBI201312_DEBITI_CONSOLIDATI  CBI201312_DEBITI_ENTRO_ES_SUCC  \\\n",
       "0                           NaN                             NaN   \n",
       "1                           NaN                             NaN   \n",
       "2                           NaN                             NaN   \n",
       "3                           NaN                             NaN   \n",
       "4                           NaN                             NaN   \n",
       "\n",
       "   CBI201312_RICAVI_NETTI  CBI201312_ACQUISTI_NETTI  \\\n",
       "0                     NaN                       NaN   \n",
       "1                     NaN                       NaN   \n",
       "2                     NaN                       NaN   \n",
       "3                     NaN                       NaN   \n",
       "4                     NaN                       NaN   \n",
       "\n",
       "   CBI201312_COSTI_SERVZ_BENI_TERZI  IMP_ACCORDATO  IMP_UTILIZZATO  \\\n",
       "0                               NaN            0.0        135220.0   \n",
       "1                               NaN       844348.0       1054419.0   \n",
       "2                               NaN            0.0        332366.0   \n",
       "3                               NaN            0.0      51762483.0   \n",
       "4                               NaN        37562.0         34857.0   \n",
       "\n",
       "   IMP_VALORE_GARANZIA  \n",
       "0                  0.0  \n",
       "1                  0.0  \n",
       "2                  0.0  \n",
       "3                  0.0  \n",
       "4                  0.0  "
      ]
     },
     "execution_count": 625,
     "metadata": {},
     "output_type": "execute_result"
    }
   ],
   "source": [
    "db_train.head()"
   ]
  },
  {
   "cell_type": "code",
   "execution_count": 626,
   "metadata": {
    "collapsed": false
   },
   "outputs": [
    {
     "data": {
      "text/html": [
       "<div>\n",
       "<table border=\"1\" class=\"dataframe\">\n",
       "  <thead>\n",
       "    <tr style=\"text-align: right;\">\n",
       "      <th></th>\n",
       "      <th>ID</th>\n",
       "      <th>COD_CAP</th>\n",
       "      <th>COD_PROVINCIA</th>\n",
       "      <th>DAT_COSTITUZIONE</th>\n",
       "      <th>COD_RAE</th>\n",
       "      <th>COD_SAE</th>\n",
       "      <th>COD_ISTAT_ATECO_07</th>\n",
       "      <th>CBI201312_CREDITI</th>\n",
       "      <th>CBI201312_UTILE_PERDITA_ESERCIZIO</th>\n",
       "      <th>CBI201312_PATRIMONIO_NETTO</th>\n",
       "      <th>CBI201312_DEBITI_CONSOLIDATI</th>\n",
       "      <th>CBI201312_DEBITI_ENTRO_ES_SUCC</th>\n",
       "      <th>CBI201312_RICAVI_NETTI</th>\n",
       "      <th>CBI201312_ACQUISTI_NETTI</th>\n",
       "      <th>CBI201312_COSTI_SERVZ_BENI_TERZI</th>\n",
       "      <th>IMP_ACCORDATO</th>\n",
       "      <th>IMP_UTILIZZATO</th>\n",
       "      <th>IMP_VALORE_GARANZIA</th>\n",
       "    </tr>\n",
       "  </thead>\n",
       "  <tbody>\n",
       "    <tr>\n",
       "      <th>0</th>\n",
       "      <td>66812</td>\n",
       "      <td>16033</td>\n",
       "      <td>GE</td>\n",
       "      <td>1977.0</td>\n",
       "      <td>830</td>\n",
       "      <td>482</td>\n",
       "      <td>63111</td>\n",
       "      <td>NaN</td>\n",
       "      <td>NaN</td>\n",
       "      <td>NaN</td>\n",
       "      <td>NaN</td>\n",
       "      <td>NaN</td>\n",
       "      <td>NaN</td>\n",
       "      <td>NaN</td>\n",
       "      <td>NaN</td>\n",
       "      <td>59982.0</td>\n",
       "      <td>59982.0</td>\n",
       "      <td>0.0</td>\n",
       "    </tr>\n",
       "    <tr>\n",
       "      <th>1</th>\n",
       "      <td>66813</td>\n",
       "      <td>10090</td>\n",
       "      <td>TO</td>\n",
       "      <td>1985.0</td>\n",
       "      <td>345</td>\n",
       "      <td>492</td>\n",
       "      <td>2612</td>\n",
       "      <td>NaN</td>\n",
       "      <td>NaN</td>\n",
       "      <td>NaN</td>\n",
       "      <td>NaN</td>\n",
       "      <td>NaN</td>\n",
       "      <td>NaN</td>\n",
       "      <td>NaN</td>\n",
       "      <td>NaN</td>\n",
       "      <td>388785.0</td>\n",
       "      <td>391500.0</td>\n",
       "      <td>0.0</td>\n",
       "    </tr>\n",
       "    <tr>\n",
       "      <th>2</th>\n",
       "      <td>66814</td>\n",
       "      <td>34170</td>\n",
       "      <td>GO</td>\n",
       "      <td>1921.0</td>\n",
       "      <td>648</td>\n",
       "      <td>492</td>\n",
       "      <td>47521</td>\n",
       "      <td>NaN</td>\n",
       "      <td>NaN</td>\n",
       "      <td>NaN</td>\n",
       "      <td>NaN</td>\n",
       "      <td>NaN</td>\n",
       "      <td>NaN</td>\n",
       "      <td>NaN</td>\n",
       "      <td>NaN</td>\n",
       "      <td>213293.0</td>\n",
       "      <td>211445.0</td>\n",
       "      <td>0.0</td>\n",
       "    </tr>\n",
       "    <tr>\n",
       "      <th>3</th>\n",
       "      <td>66815</td>\n",
       "      <td>35044</td>\n",
       "      <td>PD</td>\n",
       "      <td>1993.0</td>\n",
       "      <td>467</td>\n",
       "      <td>482</td>\n",
       "      <td>3109</td>\n",
       "      <td>125.0</td>\n",
       "      <td>32.0</td>\n",
       "      <td>-186.0</td>\n",
       "      <td>177.0</td>\n",
       "      <td>351.0</td>\n",
       "      <td>779.0</td>\n",
       "      <td>351.0</td>\n",
       "      <td>256.0</td>\n",
       "      <td>437243.0</td>\n",
       "      <td>374537.0</td>\n",
       "      <td>0.0</td>\n",
       "    </tr>\n",
       "    <tr>\n",
       "      <th>4</th>\n",
       "      <td>66816</td>\n",
       "      <td>11017</td>\n",
       "      <td>AO</td>\n",
       "      <td>1975.0</td>\n",
       "      <td>505</td>\n",
       "      <td>482</td>\n",
       "      <td>4120</td>\n",
       "      <td>51.0</td>\n",
       "      <td>74.0</td>\n",
       "      <td>-17.0</td>\n",
       "      <td>447.0</td>\n",
       "      <td>26.0</td>\n",
       "      <td>407.0</td>\n",
       "      <td>122.0</td>\n",
       "      <td>19.0</td>\n",
       "      <td>620000.0</td>\n",
       "      <td>0.0</td>\n",
       "      <td>0.0</td>\n",
       "    </tr>\n",
       "  </tbody>\n",
       "</table>\n",
       "</div>"
      ],
      "text/plain": [
       "      ID COD_CAP COD_PROVINCIA DAT_COSTITUZIONE COD_RAE COD_SAE  \\\n",
       "0  66812   16033            GE           1977.0     830     482   \n",
       "1  66813   10090            TO           1985.0     345     492   \n",
       "2  66814   34170            GO           1921.0     648     492   \n",
       "3  66815   35044            PD           1993.0     467     482   \n",
       "4  66816   11017            AO           1975.0     505     482   \n",
       "\n",
       "  COD_ISTAT_ATECO_07  CBI201312_CREDITI  CBI201312_UTILE_PERDITA_ESERCIZIO  \\\n",
       "0              63111                NaN                                NaN   \n",
       "1               2612                NaN                                NaN   \n",
       "2              47521                NaN                                NaN   \n",
       "3               3109              125.0                               32.0   \n",
       "4               4120               51.0                               74.0   \n",
       "\n",
       "   CBI201312_PATRIMONIO_NETTO  CBI201312_DEBITI_CONSOLIDATI  \\\n",
       "0                         NaN                           NaN   \n",
       "1                         NaN                           NaN   \n",
       "2                         NaN                           NaN   \n",
       "3                      -186.0                         177.0   \n",
       "4                       -17.0                         447.0   \n",
       "\n",
       "   CBI201312_DEBITI_ENTRO_ES_SUCC  CBI201312_RICAVI_NETTI  \\\n",
       "0                             NaN                     NaN   \n",
       "1                             NaN                     NaN   \n",
       "2                             NaN                     NaN   \n",
       "3                           351.0                   779.0   \n",
       "4                            26.0                   407.0   \n",
       "\n",
       "   CBI201312_ACQUISTI_NETTI  CBI201312_COSTI_SERVZ_BENI_TERZI  IMP_ACCORDATO  \\\n",
       "0                       NaN                               NaN        59982.0   \n",
       "1                       NaN                               NaN       388785.0   \n",
       "2                       NaN                               NaN       213293.0   \n",
       "3                     351.0                             256.0       437243.0   \n",
       "4                     122.0                              19.0       620000.0   \n",
       "\n",
       "   IMP_UTILIZZATO  IMP_VALORE_GARANZIA  \n",
       "0         59982.0                  0.0  \n",
       "1        391500.0                  0.0  \n",
       "2        211445.0                  0.0  \n",
       "3        374537.0                  0.0  \n",
       "4             0.0                  0.0  "
      ]
     },
     "execution_count": 626,
     "metadata": {},
     "output_type": "execute_result"
    }
   ],
   "source": [
    "db_test.head()"
   ]
  },
  {
   "cell_type": "markdown",
   "metadata": {},
   "source": [
    "Normalizzo i valori di DAT_COSTITUZIONE e CODICE ATECO e li sostituisco al dataset originale:"
   ]
  },
  {
   "cell_type": "code",
   "execution_count": 627,
   "metadata": {
    "collapsed": false
   },
   "outputs": [],
   "source": [
    "DT_COSTITUZIONE = db_train['DAT_COSTITUZIONE'].str[0:4]\n",
    "ATECO = db_train['COD_ISTAT_ATECO_07'].str[0:2]"
   ]
  },
  {
   "cell_type": "code",
   "execution_count": 628,
   "metadata": {
    "collapsed": true
   },
   "outputs": [],
   "source": [
    "DTEST_COSTITUZIONE = db_test['DAT_COSTITUZIONE'].str[0:4]\n",
    "ATECO_TEST = db_test['COD_ISTAT_ATECO_07'].str[0:2]"
   ]
  },
  {
   "cell_type": "code",
   "execution_count": 629,
   "metadata": {
    "collapsed": false
   },
   "outputs": [
    {
     "data": {
      "text/plain": [
       "0    1977\n",
       "1    1984\n",
       "2    1952\n",
       "3    1982\n",
       "4    1989\n",
       "Name: DAT_COSTITUZIONE, dtype: object"
      ]
     },
     "execution_count": 629,
     "metadata": {},
     "output_type": "execute_result"
    }
   ],
   "source": [
    "DT_COSTITUZIONE.head()"
   ]
  },
  {
   "cell_type": "code",
   "execution_count": 630,
   "metadata": {
    "collapsed": false
   },
   "outputs": [
    {
     "data": {
      "text/plain": [
       "0    1977\n",
       "1    1985\n",
       "2    1921\n",
       "3    1993\n",
       "4    1975\n",
       "Name: DAT_COSTITUZIONE, dtype: object"
      ]
     },
     "execution_count": 630,
     "metadata": {},
     "output_type": "execute_result"
    }
   ],
   "source": [
    "DTEST_COSTITUZIONE.head()"
   ]
  },
  {
   "cell_type": "code",
   "execution_count": 631,
   "metadata": {
    "collapsed": false
   },
   "outputs": [
    {
     "data": {
      "text/plain": [
       "0    41\n",
       "1    47\n",
       "2    11\n",
       "3    41\n",
       "4    10\n",
       "Name: COD_ISTAT_ATECO_07, dtype: object"
      ]
     },
     "execution_count": 631,
     "metadata": {},
     "output_type": "execute_result"
    }
   ],
   "source": [
    "ATECO.head()"
   ]
  },
  {
   "cell_type": "code",
   "execution_count": 632,
   "metadata": {
    "collapsed": false
   },
   "outputs": [
    {
     "data": {
      "text/plain": [
       "0    63\n",
       "1    26\n",
       "2    47\n",
       "3    31\n",
       "4    41\n",
       "Name: COD_ISTAT_ATECO_07, dtype: object"
      ]
     },
     "execution_count": 632,
     "metadata": {},
     "output_type": "execute_result"
    }
   ],
   "source": [
    "ATECO_TEST.head()"
   ]
  },
  {
   "cell_type": "code",
   "execution_count": 633,
   "metadata": {
    "collapsed": false
   },
   "outputs": [],
   "source": [
    "db_train['DAT_COSTITUZIONE']=DT_COSTITUZIONE\n",
    "db_train['COD_ISTAT_ATECO_07']=ATECO"
   ]
  },
  {
   "cell_type": "code",
   "execution_count": 634,
   "metadata": {
    "collapsed": true
   },
   "outputs": [],
   "source": [
    "db_test['DAT_COSTITUZIONE']=DTEST_COSTITUZIONE\n",
    "db_test['COD_ISTAT_ATECO_07']=ATECO_TEST"
   ]
  },
  {
   "cell_type": "code",
   "execution_count": 635,
   "metadata": {
    "collapsed": false
   },
   "outputs": [
    {
     "data": {
      "text/html": [
       "<div>\n",
       "<table border=\"1\" class=\"dataframe\">\n",
       "  <thead>\n",
       "    <tr style=\"text-align: right;\">\n",
       "      <th></th>\n",
       "      <th>ID</th>\n",
       "      <th>COD_CAP</th>\n",
       "      <th>COD_PROVINCIA</th>\n",
       "      <th>DAT_COSTITUZIONE</th>\n",
       "      <th>COD_RAE</th>\n",
       "      <th>COD_SAE</th>\n",
       "      <th>COD_ISTAT_ATECO_07</th>\n",
       "      <th>FLG_DEF_6M</th>\n",
       "      <th>CBI201312_CREDITI</th>\n",
       "      <th>CBI201312_UTILE_PERDITA_ESERCIZIO</th>\n",
       "      <th>CBI201312_PATRIMONIO_NETTO</th>\n",
       "      <th>CBI201312_DEBITI_CONSOLIDATI</th>\n",
       "      <th>CBI201312_DEBITI_ENTRO_ES_SUCC</th>\n",
       "      <th>CBI201312_RICAVI_NETTI</th>\n",
       "      <th>CBI201312_ACQUISTI_NETTI</th>\n",
       "      <th>CBI201312_COSTI_SERVZ_BENI_TERZI</th>\n",
       "      <th>IMP_ACCORDATO</th>\n",
       "      <th>IMP_UTILIZZATO</th>\n",
       "      <th>IMP_VALORE_GARANZIA</th>\n",
       "    </tr>\n",
       "  </thead>\n",
       "  <tbody>\n",
       "    <tr>\n",
       "      <th>0</th>\n",
       "      <td>1</td>\n",
       "      <td>83013</td>\n",
       "      <td>AV</td>\n",
       "      <td>1977</td>\n",
       "      <td>243</td>\n",
       "      <td>430</td>\n",
       "      <td>41</td>\n",
       "      <td>1</td>\n",
       "      <td>NaN</td>\n",
       "      <td>NaN</td>\n",
       "      <td>NaN</td>\n",
       "      <td>NaN</td>\n",
       "      <td>NaN</td>\n",
       "      <td>NaN</td>\n",
       "      <td>NaN</td>\n",
       "      <td>NaN</td>\n",
       "      <td>0.0</td>\n",
       "      <td>135220.0</td>\n",
       "      <td>0.0</td>\n",
       "    </tr>\n",
       "    <tr>\n",
       "      <th>1</th>\n",
       "      <td>2</td>\n",
       "      <td>84131</td>\n",
       "      <td>SA</td>\n",
       "      <td>1984</td>\n",
       "      <td>614</td>\n",
       "      <td>492</td>\n",
       "      <td>47</td>\n",
       "      <td>1</td>\n",
       "      <td>NaN</td>\n",
       "      <td>NaN</td>\n",
       "      <td>NaN</td>\n",
       "      <td>NaN</td>\n",
       "      <td>NaN</td>\n",
       "      <td>NaN</td>\n",
       "      <td>NaN</td>\n",
       "      <td>NaN</td>\n",
       "      <td>844348.0</td>\n",
       "      <td>1054419.0</td>\n",
       "      <td>0.0</td>\n",
       "    </tr>\n",
       "    <tr>\n",
       "      <th>2</th>\n",
       "      <td>3</td>\n",
       "      <td>82030</td>\n",
       "      <td>BN</td>\n",
       "      <td>1952</td>\n",
       "      <td>012</td>\n",
       "      <td>430</td>\n",
       "      <td>11</td>\n",
       "      <td>1</td>\n",
       "      <td>NaN</td>\n",
       "      <td>NaN</td>\n",
       "      <td>NaN</td>\n",
       "      <td>NaN</td>\n",
       "      <td>NaN</td>\n",
       "      <td>NaN</td>\n",
       "      <td>NaN</td>\n",
       "      <td>NaN</td>\n",
       "      <td>0.0</td>\n",
       "      <td>332366.0</td>\n",
       "      <td>0.0</td>\n",
       "    </tr>\n",
       "    <tr>\n",
       "      <th>3</th>\n",
       "      <td>4</td>\n",
       "      <td>80133</td>\n",
       "      <td>NaN</td>\n",
       "      <td>1982</td>\n",
       "      <td>830</td>\n",
       "      <td>430</td>\n",
       "      <td>41</td>\n",
       "      <td>1</td>\n",
       "      <td>NaN</td>\n",
       "      <td>NaN</td>\n",
       "      <td>NaN</td>\n",
       "      <td>NaN</td>\n",
       "      <td>NaN</td>\n",
       "      <td>NaN</td>\n",
       "      <td>NaN</td>\n",
       "      <td>NaN</td>\n",
       "      <td>0.0</td>\n",
       "      <td>51762483.0</td>\n",
       "      <td>0.0</td>\n",
       "    </tr>\n",
       "    <tr>\n",
       "      <th>4</th>\n",
       "      <td>5</td>\n",
       "      <td>72021</td>\n",
       "      <td>BR</td>\n",
       "      <td>1989</td>\n",
       "      <td>419</td>\n",
       "      <td>482</td>\n",
       "      <td>10</td>\n",
       "      <td>0</td>\n",
       "      <td>NaN</td>\n",
       "      <td>NaN</td>\n",
       "      <td>NaN</td>\n",
       "      <td>NaN</td>\n",
       "      <td>NaN</td>\n",
       "      <td>NaN</td>\n",
       "      <td>NaN</td>\n",
       "      <td>NaN</td>\n",
       "      <td>37562.0</td>\n",
       "      <td>34857.0</td>\n",
       "      <td>0.0</td>\n",
       "    </tr>\n",
       "  </tbody>\n",
       "</table>\n",
       "</div>"
      ],
      "text/plain": [
       "   ID COD_CAP COD_PROVINCIA DAT_COSTITUZIONE COD_RAE COD_SAE  \\\n",
       "0   1   83013            AV             1977     243     430   \n",
       "1   2   84131            SA             1984     614     492   \n",
       "2   3   82030            BN             1952     012     430   \n",
       "3   4   80133           NaN             1982     830     430   \n",
       "4   5   72021            BR             1989     419     482   \n",
       "\n",
       "  COD_ISTAT_ATECO_07  FLG_DEF_6M  CBI201312_CREDITI  \\\n",
       "0                 41           1                NaN   \n",
       "1                 47           1                NaN   \n",
       "2                 11           1                NaN   \n",
       "3                 41           1                NaN   \n",
       "4                 10           0                NaN   \n",
       "\n",
       "   CBI201312_UTILE_PERDITA_ESERCIZIO  CBI201312_PATRIMONIO_NETTO  \\\n",
       "0                                NaN                         NaN   \n",
       "1                                NaN                         NaN   \n",
       "2                                NaN                         NaN   \n",
       "3                                NaN                         NaN   \n",
       "4                                NaN                         NaN   \n",
       "\n",
       "   CBI201312_DEBITI_CONSOLIDATI  CBI201312_DEBITI_ENTRO_ES_SUCC  \\\n",
       "0                           NaN                             NaN   \n",
       "1                           NaN                             NaN   \n",
       "2                           NaN                             NaN   \n",
       "3                           NaN                             NaN   \n",
       "4                           NaN                             NaN   \n",
       "\n",
       "   CBI201312_RICAVI_NETTI  CBI201312_ACQUISTI_NETTI  \\\n",
       "0                     NaN                       NaN   \n",
       "1                     NaN                       NaN   \n",
       "2                     NaN                       NaN   \n",
       "3                     NaN                       NaN   \n",
       "4                     NaN                       NaN   \n",
       "\n",
       "   CBI201312_COSTI_SERVZ_BENI_TERZI  IMP_ACCORDATO  IMP_UTILIZZATO  \\\n",
       "0                               NaN            0.0        135220.0   \n",
       "1                               NaN       844348.0       1054419.0   \n",
       "2                               NaN            0.0        332366.0   \n",
       "3                               NaN            0.0      51762483.0   \n",
       "4                               NaN        37562.0         34857.0   \n",
       "\n",
       "   IMP_VALORE_GARANZIA  \n",
       "0                  0.0  \n",
       "1                  0.0  \n",
       "2                  0.0  \n",
       "3                  0.0  \n",
       "4                  0.0  "
      ]
     },
     "execution_count": 635,
     "metadata": {},
     "output_type": "execute_result"
    }
   ],
   "source": [
    "db_train.head()"
   ]
  },
  {
   "cell_type": "code",
   "execution_count": 636,
   "metadata": {
    "collapsed": false
   },
   "outputs": [
    {
     "data": {
      "text/html": [
       "<div>\n",
       "<table border=\"1\" class=\"dataframe\">\n",
       "  <thead>\n",
       "    <tr style=\"text-align: right;\">\n",
       "      <th></th>\n",
       "      <th>ID</th>\n",
       "      <th>COD_CAP</th>\n",
       "      <th>COD_PROVINCIA</th>\n",
       "      <th>DAT_COSTITUZIONE</th>\n",
       "      <th>COD_RAE</th>\n",
       "      <th>COD_SAE</th>\n",
       "      <th>COD_ISTAT_ATECO_07</th>\n",
       "      <th>CBI201312_CREDITI</th>\n",
       "      <th>CBI201312_UTILE_PERDITA_ESERCIZIO</th>\n",
       "      <th>CBI201312_PATRIMONIO_NETTO</th>\n",
       "      <th>CBI201312_DEBITI_CONSOLIDATI</th>\n",
       "      <th>CBI201312_DEBITI_ENTRO_ES_SUCC</th>\n",
       "      <th>CBI201312_RICAVI_NETTI</th>\n",
       "      <th>CBI201312_ACQUISTI_NETTI</th>\n",
       "      <th>CBI201312_COSTI_SERVZ_BENI_TERZI</th>\n",
       "      <th>IMP_ACCORDATO</th>\n",
       "      <th>IMP_UTILIZZATO</th>\n",
       "      <th>IMP_VALORE_GARANZIA</th>\n",
       "    </tr>\n",
       "  </thead>\n",
       "  <tbody>\n",
       "    <tr>\n",
       "      <th>0</th>\n",
       "      <td>66812</td>\n",
       "      <td>16033</td>\n",
       "      <td>GE</td>\n",
       "      <td>1977</td>\n",
       "      <td>830</td>\n",
       "      <td>482</td>\n",
       "      <td>63</td>\n",
       "      <td>NaN</td>\n",
       "      <td>NaN</td>\n",
       "      <td>NaN</td>\n",
       "      <td>NaN</td>\n",
       "      <td>NaN</td>\n",
       "      <td>NaN</td>\n",
       "      <td>NaN</td>\n",
       "      <td>NaN</td>\n",
       "      <td>59982.0</td>\n",
       "      <td>59982.0</td>\n",
       "      <td>0.0</td>\n",
       "    </tr>\n",
       "    <tr>\n",
       "      <th>1</th>\n",
       "      <td>66813</td>\n",
       "      <td>10090</td>\n",
       "      <td>TO</td>\n",
       "      <td>1985</td>\n",
       "      <td>345</td>\n",
       "      <td>492</td>\n",
       "      <td>26</td>\n",
       "      <td>NaN</td>\n",
       "      <td>NaN</td>\n",
       "      <td>NaN</td>\n",
       "      <td>NaN</td>\n",
       "      <td>NaN</td>\n",
       "      <td>NaN</td>\n",
       "      <td>NaN</td>\n",
       "      <td>NaN</td>\n",
       "      <td>388785.0</td>\n",
       "      <td>391500.0</td>\n",
       "      <td>0.0</td>\n",
       "    </tr>\n",
       "    <tr>\n",
       "      <th>2</th>\n",
       "      <td>66814</td>\n",
       "      <td>34170</td>\n",
       "      <td>GO</td>\n",
       "      <td>1921</td>\n",
       "      <td>648</td>\n",
       "      <td>492</td>\n",
       "      <td>47</td>\n",
       "      <td>NaN</td>\n",
       "      <td>NaN</td>\n",
       "      <td>NaN</td>\n",
       "      <td>NaN</td>\n",
       "      <td>NaN</td>\n",
       "      <td>NaN</td>\n",
       "      <td>NaN</td>\n",
       "      <td>NaN</td>\n",
       "      <td>213293.0</td>\n",
       "      <td>211445.0</td>\n",
       "      <td>0.0</td>\n",
       "    </tr>\n",
       "    <tr>\n",
       "      <th>3</th>\n",
       "      <td>66815</td>\n",
       "      <td>35044</td>\n",
       "      <td>PD</td>\n",
       "      <td>1993</td>\n",
       "      <td>467</td>\n",
       "      <td>482</td>\n",
       "      <td>31</td>\n",
       "      <td>125.0</td>\n",
       "      <td>32.0</td>\n",
       "      <td>-186.0</td>\n",
       "      <td>177.0</td>\n",
       "      <td>351.0</td>\n",
       "      <td>779.0</td>\n",
       "      <td>351.0</td>\n",
       "      <td>256.0</td>\n",
       "      <td>437243.0</td>\n",
       "      <td>374537.0</td>\n",
       "      <td>0.0</td>\n",
       "    </tr>\n",
       "    <tr>\n",
       "      <th>4</th>\n",
       "      <td>66816</td>\n",
       "      <td>11017</td>\n",
       "      <td>AO</td>\n",
       "      <td>1975</td>\n",
       "      <td>505</td>\n",
       "      <td>482</td>\n",
       "      <td>41</td>\n",
       "      <td>51.0</td>\n",
       "      <td>74.0</td>\n",
       "      <td>-17.0</td>\n",
       "      <td>447.0</td>\n",
       "      <td>26.0</td>\n",
       "      <td>407.0</td>\n",
       "      <td>122.0</td>\n",
       "      <td>19.0</td>\n",
       "      <td>620000.0</td>\n",
       "      <td>0.0</td>\n",
       "      <td>0.0</td>\n",
       "    </tr>\n",
       "  </tbody>\n",
       "</table>\n",
       "</div>"
      ],
      "text/plain": [
       "      ID COD_CAP COD_PROVINCIA DAT_COSTITUZIONE COD_RAE COD_SAE  \\\n",
       "0  66812   16033            GE             1977     830     482   \n",
       "1  66813   10090            TO             1985     345     492   \n",
       "2  66814   34170            GO             1921     648     492   \n",
       "3  66815   35044            PD             1993     467     482   \n",
       "4  66816   11017            AO             1975     505     482   \n",
       "\n",
       "  COD_ISTAT_ATECO_07  CBI201312_CREDITI  CBI201312_UTILE_PERDITA_ESERCIZIO  \\\n",
       "0                 63                NaN                                NaN   \n",
       "1                 26                NaN                                NaN   \n",
       "2                 47                NaN                                NaN   \n",
       "3                 31              125.0                               32.0   \n",
       "4                 41               51.0                               74.0   \n",
       "\n",
       "   CBI201312_PATRIMONIO_NETTO  CBI201312_DEBITI_CONSOLIDATI  \\\n",
       "0                         NaN                           NaN   \n",
       "1                         NaN                           NaN   \n",
       "2                         NaN                           NaN   \n",
       "3                      -186.0                         177.0   \n",
       "4                       -17.0                         447.0   \n",
       "\n",
       "   CBI201312_DEBITI_ENTRO_ES_SUCC  CBI201312_RICAVI_NETTI  \\\n",
       "0                             NaN                     NaN   \n",
       "1                             NaN                     NaN   \n",
       "2                             NaN                     NaN   \n",
       "3                           351.0                   779.0   \n",
       "4                            26.0                   407.0   \n",
       "\n",
       "   CBI201312_ACQUISTI_NETTI  CBI201312_COSTI_SERVZ_BENI_TERZI  IMP_ACCORDATO  \\\n",
       "0                       NaN                               NaN        59982.0   \n",
       "1                       NaN                               NaN       388785.0   \n",
       "2                       NaN                               NaN       213293.0   \n",
       "3                     351.0                             256.0       437243.0   \n",
       "4                     122.0                              19.0       620000.0   \n",
       "\n",
       "   IMP_UTILIZZATO  IMP_VALORE_GARANZIA  \n",
       "0         59982.0                  0.0  \n",
       "1        391500.0                  0.0  \n",
       "2        211445.0                  0.0  \n",
       "3        374537.0                  0.0  \n",
       "4             0.0                  0.0  "
      ]
     },
     "execution_count": 636,
     "metadata": {},
     "output_type": "execute_result"
    }
   ],
   "source": [
    "db_test.head()"
   ]
  },
  {
   "cell_type": "markdown",
   "metadata": {},
   "source": [
    "Visualizzo una tabella di statistiche descrittive sul dataset di trainng:"
   ]
  },
  {
   "cell_type": "code",
   "execution_count": 637,
   "metadata": {
    "collapsed": false
   },
   "outputs": [
    {
     "data": {
      "text/html": [
       "<div>\n",
       "<table border=\"1\" class=\"dataframe\">\n",
       "  <thead>\n",
       "    <tr style=\"text-align: right;\">\n",
       "      <th></th>\n",
       "      <th>ID</th>\n",
       "      <th>FLG_DEF_6M</th>\n",
       "      <th>CBI201312_CREDITI</th>\n",
       "      <th>CBI201312_UTILE_PERDITA_ESERCIZIO</th>\n",
       "      <th>CBI201312_PATRIMONIO_NETTO</th>\n",
       "      <th>CBI201312_DEBITI_CONSOLIDATI</th>\n",
       "      <th>CBI201312_DEBITI_ENTRO_ES_SUCC</th>\n",
       "      <th>CBI201312_RICAVI_NETTI</th>\n",
       "      <th>CBI201312_ACQUISTI_NETTI</th>\n",
       "      <th>CBI201312_COSTI_SERVZ_BENI_TERZI</th>\n",
       "      <th>IMP_ACCORDATO</th>\n",
       "      <th>IMP_UTILIZZATO</th>\n",
       "      <th>IMP_VALORE_GARANZIA</th>\n",
       "    </tr>\n",
       "  </thead>\n",
       "  <tbody>\n",
       "    <tr>\n",
       "      <th>count</th>\n",
       "      <td>66811.000000</td>\n",
       "      <td>66811.000000</td>\n",
       "      <td>57571.000000</td>\n",
       "      <td>53997.000000</td>\n",
       "      <td>53997.000000</td>\n",
       "      <td>57571.000000</td>\n",
       "      <td>5.757100e+04</td>\n",
       "      <td>5.399700e+04</td>\n",
       "      <td>5.399700e+04</td>\n",
       "      <td>57571.00000</td>\n",
       "      <td>6.681100e+04</td>\n",
       "      <td>6.681100e+04</td>\n",
       "      <td>6.681100e+04</td>\n",
       "    </tr>\n",
       "    <tr>\n",
       "      <th>mean</th>\n",
       "      <td>33406.000000</td>\n",
       "      <td>0.165572</td>\n",
       "      <td>454.488110</td>\n",
       "      <td>9.194326</td>\n",
       "      <td>289.402078</td>\n",
       "      <td>262.123604</td>\n",
       "      <td>6.803398e+02</td>\n",
       "      <td>1.227074e+03</td>\n",
       "      <td>5.660812e+02</td>\n",
       "      <td>315.62502</td>\n",
       "      <td>7.000651e+05</td>\n",
       "      <td>5.541229e+05</td>\n",
       "      <td>1.381665e+05</td>\n",
       "    </tr>\n",
       "    <tr>\n",
       "      <th>std</th>\n",
       "      <td>19286.818754</td>\n",
       "      <td>0.371698</td>\n",
       "      <td>2935.871352</td>\n",
       "      <td>275.938893</td>\n",
       "      <td>1505.764856</td>\n",
       "      <td>789.671069</td>\n",
       "      <td>5.140208e+03</td>\n",
       "      <td>6.730968e+03</td>\n",
       "      <td>7.762285e+03</td>\n",
       "      <td>766.03980</td>\n",
       "      <td>1.989887e+06</td>\n",
       "      <td>1.843194e+06</td>\n",
       "      <td>8.336413e+06</td>\n",
       "    </tr>\n",
       "    <tr>\n",
       "      <th>min</th>\n",
       "      <td>1.000000</td>\n",
       "      <td>0.000000</td>\n",
       "      <td>0.000000</td>\n",
       "      <td>-18087.000000</td>\n",
       "      <td>-29509.000000</td>\n",
       "      <td>0.000000</td>\n",
       "      <td>0.000000e+00</td>\n",
       "      <td>0.000000e+00</td>\n",
       "      <td>0.000000e+00</td>\n",
       "      <td>0.00000</td>\n",
       "      <td>0.000000e+00</td>\n",
       "      <td>0.000000e+00</td>\n",
       "      <td>0.000000e+00</td>\n",
       "    </tr>\n",
       "    <tr>\n",
       "      <th>25%</th>\n",
       "      <td>16703.500000</td>\n",
       "      <td>0.000000</td>\n",
       "      <td>NaN</td>\n",
       "      <td>NaN</td>\n",
       "      <td>NaN</td>\n",
       "      <td>NaN</td>\n",
       "      <td>NaN</td>\n",
       "      <td>NaN</td>\n",
       "      <td>NaN</td>\n",
       "      <td>NaN</td>\n",
       "      <td>1.040000e+05</td>\n",
       "      <td>6.728100e+04</td>\n",
       "      <td>0.000000e+00</td>\n",
       "    </tr>\n",
       "    <tr>\n",
       "      <th>50%</th>\n",
       "      <td>33406.000000</td>\n",
       "      <td>0.000000</td>\n",
       "      <td>NaN</td>\n",
       "      <td>NaN</td>\n",
       "      <td>NaN</td>\n",
       "      <td>NaN</td>\n",
       "      <td>NaN</td>\n",
       "      <td>NaN</td>\n",
       "      <td>NaN</td>\n",
       "      <td>NaN</td>\n",
       "      <td>3.040000e+05</td>\n",
       "      <td>2.131320e+05</td>\n",
       "      <td>0.000000e+00</td>\n",
       "    </tr>\n",
       "    <tr>\n",
       "      <th>75%</th>\n",
       "      <td>50108.500000</td>\n",
       "      <td>0.000000</td>\n",
       "      <td>NaN</td>\n",
       "      <td>NaN</td>\n",
       "      <td>NaN</td>\n",
       "      <td>NaN</td>\n",
       "      <td>NaN</td>\n",
       "      <td>NaN</td>\n",
       "      <td>NaN</td>\n",
       "      <td>NaN</td>\n",
       "      <td>7.668185e+05</td>\n",
       "      <td>5.647650e+05</td>\n",
       "      <td>0.000000e+00</td>\n",
       "    </tr>\n",
       "    <tr>\n",
       "      <th>max</th>\n",
       "      <td>66811.000000</td>\n",
       "      <td>1.000000</td>\n",
       "      <td>650149.000000</td>\n",
       "      <td>33794.000000</td>\n",
       "      <td>235324.000000</td>\n",
       "      <td>50923.000000</td>\n",
       "      <td>1.166597e+06</td>\n",
       "      <td>1.255724e+06</td>\n",
       "      <td>1.615554e+06</td>\n",
       "      <td>48990.00000</td>\n",
       "      <td>2.187011e+08</td>\n",
       "      <td>1.840244e+08</td>\n",
       "      <td>1.371362e+09</td>\n",
       "    </tr>\n",
       "  </tbody>\n",
       "</table>\n",
       "</div>"
      ],
      "text/plain": [
       "                 ID    FLG_DEF_6M  CBI201312_CREDITI  \\\n",
       "count  66811.000000  66811.000000       57571.000000   \n",
       "mean   33406.000000      0.165572         454.488110   \n",
       "std    19286.818754      0.371698        2935.871352   \n",
       "min        1.000000      0.000000           0.000000   \n",
       "25%    16703.500000      0.000000                NaN   \n",
       "50%    33406.000000      0.000000                NaN   \n",
       "75%    50108.500000      0.000000                NaN   \n",
       "max    66811.000000      1.000000      650149.000000   \n",
       "\n",
       "       CBI201312_UTILE_PERDITA_ESERCIZIO  CBI201312_PATRIMONIO_NETTO  \\\n",
       "count                       53997.000000                53997.000000   \n",
       "mean                            9.194326                  289.402078   \n",
       "std                           275.938893                 1505.764856   \n",
       "min                        -18087.000000               -29509.000000   \n",
       "25%                                  NaN                         NaN   \n",
       "50%                                  NaN                         NaN   \n",
       "75%                                  NaN                         NaN   \n",
       "max                         33794.000000               235324.000000   \n",
       "\n",
       "       CBI201312_DEBITI_CONSOLIDATI  CBI201312_DEBITI_ENTRO_ES_SUCC  \\\n",
       "count                  57571.000000                    5.757100e+04   \n",
       "mean                     262.123604                    6.803398e+02   \n",
       "std                      789.671069                    5.140208e+03   \n",
       "min                        0.000000                    0.000000e+00   \n",
       "25%                             NaN                             NaN   \n",
       "50%                             NaN                             NaN   \n",
       "75%                             NaN                             NaN   \n",
       "max                    50923.000000                    1.166597e+06   \n",
       "\n",
       "       CBI201312_RICAVI_NETTI  CBI201312_ACQUISTI_NETTI  \\\n",
       "count            5.399700e+04              5.399700e+04   \n",
       "mean             1.227074e+03              5.660812e+02   \n",
       "std              6.730968e+03              7.762285e+03   \n",
       "min              0.000000e+00              0.000000e+00   \n",
       "25%                       NaN                       NaN   \n",
       "50%                       NaN                       NaN   \n",
       "75%                       NaN                       NaN   \n",
       "max              1.255724e+06              1.615554e+06   \n",
       "\n",
       "       CBI201312_COSTI_SERVZ_BENI_TERZI  IMP_ACCORDATO  IMP_UTILIZZATO  \\\n",
       "count                       57571.00000   6.681100e+04    6.681100e+04   \n",
       "mean                          315.62502   7.000651e+05    5.541229e+05   \n",
       "std                           766.03980   1.989887e+06    1.843194e+06   \n",
       "min                             0.00000   0.000000e+00    0.000000e+00   \n",
       "25%                                 NaN   1.040000e+05    6.728100e+04   \n",
       "50%                                 NaN   3.040000e+05    2.131320e+05   \n",
       "75%                                 NaN   7.668185e+05    5.647650e+05   \n",
       "max                         48990.00000   2.187011e+08    1.840244e+08   \n",
       "\n",
       "       IMP_VALORE_GARANZIA  \n",
       "count         6.681100e+04  \n",
       "mean          1.381665e+05  \n",
       "std           8.336413e+06  \n",
       "min           0.000000e+00  \n",
       "25%           0.000000e+00  \n",
       "50%           0.000000e+00  \n",
       "75%           0.000000e+00  \n",
       "max           1.371362e+09  "
      ]
     },
     "execution_count": 637,
     "metadata": {},
     "output_type": "execute_result"
    }
   ],
   "source": [
    "db_train.describe()"
   ]
  },
  {
   "cell_type": "code",
   "execution_count": 638,
   "metadata": {
    "collapsed": false
   },
   "outputs": [
    {
     "data": {
      "text/html": [
       "<div>\n",
       "<table border=\"1\" class=\"dataframe\">\n",
       "  <thead>\n",
       "    <tr style=\"text-align: right;\">\n",
       "      <th></th>\n",
       "      <th>ID</th>\n",
       "      <th>CBI201312_CREDITI</th>\n",
       "      <th>CBI201312_UTILE_PERDITA_ESERCIZIO</th>\n",
       "      <th>CBI201312_PATRIMONIO_NETTO</th>\n",
       "      <th>CBI201312_DEBITI_CONSOLIDATI</th>\n",
       "      <th>CBI201312_DEBITI_ENTRO_ES_SUCC</th>\n",
       "      <th>CBI201312_RICAVI_NETTI</th>\n",
       "      <th>CBI201312_ACQUISTI_NETTI</th>\n",
       "      <th>CBI201312_COSTI_SERVZ_BENI_TERZI</th>\n",
       "      <th>IMP_ACCORDATO</th>\n",
       "      <th>IMP_UTILIZZATO</th>\n",
       "      <th>IMP_VALORE_GARANZIA</th>\n",
       "    </tr>\n",
       "  </thead>\n",
       "  <tbody>\n",
       "    <tr>\n",
       "      <th>count</th>\n",
       "      <td>7547.000000</td>\n",
       "      <td>6536.000000</td>\n",
       "      <td>6120.000000</td>\n",
       "      <td>6120.000000</td>\n",
       "      <td>6536.000000</td>\n",
       "      <td>6536.000000</td>\n",
       "      <td>6120.000000</td>\n",
       "      <td>6120.000000</td>\n",
       "      <td>6536.000000</td>\n",
       "      <td>7.547000e+03</td>\n",
       "      <td>7.547000e+03</td>\n",
       "      <td>7.547000e+03</td>\n",
       "    </tr>\n",
       "    <tr>\n",
       "      <th>mean</th>\n",
       "      <td>70585.000000</td>\n",
       "      <td>463.978580</td>\n",
       "      <td>4.048693</td>\n",
       "      <td>297.683007</td>\n",
       "      <td>263.204865</td>\n",
       "      <td>680.496481</td>\n",
       "      <td>1197.070425</td>\n",
       "      <td>504.723203</td>\n",
       "      <td>323.755967</td>\n",
       "      <td>7.072428e+05</td>\n",
       "      <td>5.545678e+05</td>\n",
       "      <td>9.978743e+04</td>\n",
       "    </tr>\n",
       "    <tr>\n",
       "      <th>std</th>\n",
       "      <td>2178.775574</td>\n",
       "      <td>1535.072873</td>\n",
       "      <td>190.523061</td>\n",
       "      <td>1321.769239</td>\n",
       "      <td>758.703028</td>\n",
       "      <td>1639.946661</td>\n",
       "      <td>2535.844102</td>\n",
       "      <td>1057.875126</td>\n",
       "      <td>1149.209640</td>\n",
       "      <td>1.846200e+06</td>\n",
       "      <td>1.534521e+06</td>\n",
       "      <td>2.763668e+06</td>\n",
       "    </tr>\n",
       "    <tr>\n",
       "      <th>min</th>\n",
       "      <td>66812.000000</td>\n",
       "      <td>0.000000</td>\n",
       "      <td>-6129.000000</td>\n",
       "      <td>-27140.000000</td>\n",
       "      <td>0.000000</td>\n",
       "      <td>0.000000</td>\n",
       "      <td>0.000000</td>\n",
       "      <td>0.000000</td>\n",
       "      <td>0.000000</td>\n",
       "      <td>0.000000e+00</td>\n",
       "      <td>0.000000e+00</td>\n",
       "      <td>0.000000e+00</td>\n",
       "    </tr>\n",
       "    <tr>\n",
       "      <th>25%</th>\n",
       "      <td>68698.500000</td>\n",
       "      <td>NaN</td>\n",
       "      <td>NaN</td>\n",
       "      <td>NaN</td>\n",
       "      <td>NaN</td>\n",
       "      <td>NaN</td>\n",
       "      <td>NaN</td>\n",
       "      <td>NaN</td>\n",
       "      <td>NaN</td>\n",
       "      <td>1.044900e+05</td>\n",
       "      <td>6.972600e+04</td>\n",
       "      <td>0.000000e+00</td>\n",
       "    </tr>\n",
       "    <tr>\n",
       "      <th>50%</th>\n",
       "      <td>70585.000000</td>\n",
       "      <td>NaN</td>\n",
       "      <td>NaN</td>\n",
       "      <td>NaN</td>\n",
       "      <td>NaN</td>\n",
       "      <td>NaN</td>\n",
       "      <td>NaN</td>\n",
       "      <td>NaN</td>\n",
       "      <td>NaN</td>\n",
       "      <td>3.103680e+05</td>\n",
       "      <td>2.182460e+05</td>\n",
       "      <td>0.000000e+00</td>\n",
       "    </tr>\n",
       "    <tr>\n",
       "      <th>75%</th>\n",
       "      <td>72471.500000</td>\n",
       "      <td>NaN</td>\n",
       "      <td>NaN</td>\n",
       "      <td>NaN</td>\n",
       "      <td>NaN</td>\n",
       "      <td>NaN</td>\n",
       "      <td>NaN</td>\n",
       "      <td>NaN</td>\n",
       "      <td>NaN</td>\n",
       "      <td>7.805195e+05</td>\n",
       "      <td>5.711205e+05</td>\n",
       "      <td>0.000000e+00</td>\n",
       "    </tr>\n",
       "    <tr>\n",
       "      <th>max</th>\n",
       "      <td>74358.000000</td>\n",
       "      <td>77338.000000</td>\n",
       "      <td>3592.000000</td>\n",
       "      <td>37434.000000</td>\n",
       "      <td>24886.000000</td>\n",
       "      <td>77072.000000</td>\n",
       "      <td>100388.000000</td>\n",
       "      <td>25049.000000</td>\n",
       "      <td>76745.000000</td>\n",
       "      <td>7.771568e+07</td>\n",
       "      <td>5.590082e+07</td>\n",
       "      <td>1.734256e+08</td>\n",
       "    </tr>\n",
       "  </tbody>\n",
       "</table>\n",
       "</div>"
      ],
      "text/plain": [
       "                 ID  CBI201312_CREDITI  CBI201312_UTILE_PERDITA_ESERCIZIO  \\\n",
       "count   7547.000000        6536.000000                        6120.000000   \n",
       "mean   70585.000000         463.978580                           4.048693   \n",
       "std     2178.775574        1535.072873                         190.523061   \n",
       "min    66812.000000           0.000000                       -6129.000000   \n",
       "25%    68698.500000                NaN                                NaN   \n",
       "50%    70585.000000                NaN                                NaN   \n",
       "75%    72471.500000                NaN                                NaN   \n",
       "max    74358.000000       77338.000000                        3592.000000   \n",
       "\n",
       "       CBI201312_PATRIMONIO_NETTO  CBI201312_DEBITI_CONSOLIDATI  \\\n",
       "count                 6120.000000                   6536.000000   \n",
       "mean                   297.683007                    263.204865   \n",
       "std                   1321.769239                    758.703028   \n",
       "min                 -27140.000000                      0.000000   \n",
       "25%                           NaN                           NaN   \n",
       "50%                           NaN                           NaN   \n",
       "75%                           NaN                           NaN   \n",
       "max                  37434.000000                  24886.000000   \n",
       "\n",
       "       CBI201312_DEBITI_ENTRO_ES_SUCC  CBI201312_RICAVI_NETTI  \\\n",
       "count                     6536.000000             6120.000000   \n",
       "mean                       680.496481             1197.070425   \n",
       "std                       1639.946661             2535.844102   \n",
       "min                          0.000000                0.000000   \n",
       "25%                               NaN                     NaN   \n",
       "50%                               NaN                     NaN   \n",
       "75%                               NaN                     NaN   \n",
       "max                      77072.000000           100388.000000   \n",
       "\n",
       "       CBI201312_ACQUISTI_NETTI  CBI201312_COSTI_SERVZ_BENI_TERZI  \\\n",
       "count               6120.000000                       6536.000000   \n",
       "mean                 504.723203                        323.755967   \n",
       "std                 1057.875126                       1149.209640   \n",
       "min                    0.000000                          0.000000   \n",
       "25%                         NaN                               NaN   \n",
       "50%                         NaN                               NaN   \n",
       "75%                         NaN                               NaN   \n",
       "max                25049.000000                      76745.000000   \n",
       "\n",
       "       IMP_ACCORDATO  IMP_UTILIZZATO  IMP_VALORE_GARANZIA  \n",
       "count   7.547000e+03    7.547000e+03         7.547000e+03  \n",
       "mean    7.072428e+05    5.545678e+05         9.978743e+04  \n",
       "std     1.846200e+06    1.534521e+06         2.763668e+06  \n",
       "min     0.000000e+00    0.000000e+00         0.000000e+00  \n",
       "25%     1.044900e+05    6.972600e+04         0.000000e+00  \n",
       "50%     3.103680e+05    2.182460e+05         0.000000e+00  \n",
       "75%     7.805195e+05    5.711205e+05         0.000000e+00  \n",
       "max     7.771568e+07    5.590082e+07         1.734256e+08  "
      ]
     },
     "execution_count": 638,
     "metadata": {},
     "output_type": "execute_result"
    }
   ],
   "source": [
    "db_test.describe()"
   ]
  },
  {
   "cell_type": "markdown",
   "metadata": {},
   "source": [
    "Conteggio i valori mancanti all'interno del dataset e procedo con le opportune trasformazioni:"
   ]
  },
  {
   "cell_type": "code",
   "execution_count": 639,
   "metadata": {
    "collapsed": false
   },
   "outputs": [
    {
     "data": {
      "text/plain": [
       "ID                                    0.000000\n",
       "COD_CAP                               0.112383\n",
       "COD_PROVINCIA                         4.493415\n",
       "DAT_COSTITUZIONE                      0.346951\n",
       "COD_RAE                               0.000000\n",
       "COD_SAE                               0.000000\n",
       "COD_ISTAT_ATECO_07                    0.640195\n",
       "FLG_DEF_6M                            0.000000\n",
       "CBI201312_CREDITI                    16.049747\n",
       "CBI201312_UTILE_PERDITA_ESERCIZIO    23.730948\n",
       "CBI201312_PATRIMONIO_NETTO           23.730948\n",
       "CBI201312_DEBITI_CONSOLIDATI         16.049747\n",
       "CBI201312_DEBITI_ENTRO_ES_SUCC       16.049747\n",
       "CBI201312_RICAVI_NETTI               23.730948\n",
       "CBI201312_ACQUISTI_NETTI             23.730948\n",
       "CBI201312_COSTI_SERVZ_BENI_TERZI     16.049747\n",
       "IMP_ACCORDATO                         0.000000\n",
       "IMP_UTILIZZATO                        0.000000\n",
       "IMP_VALORE_GARANZIA                   0.000000\n",
       "dtype: float64"
      ]
     },
     "execution_count": 639,
     "metadata": {},
     "output_type": "execute_result"
    }
   ],
   "source": [
    "(db_train.isnull().sum()/db_train.count())*100"
   ]
  },
  {
   "cell_type": "code",
   "execution_count": 640,
   "metadata": {
    "collapsed": false
   },
   "outputs": [
    {
     "data": {
      "text/plain": [
       "ID                                    0.000000\n",
       "COD_CAP                               0.106115\n",
       "COD_PROVINCIA                         4.630528\n",
       "DAT_COSTITUZIONE                      0.319022\n",
       "COD_RAE                               0.000000\n",
       "COD_SAE                               0.000000\n",
       "COD_ISTAT_ATECO_07                    0.599840\n",
       "CBI201312_CREDITI                    15.468176\n",
       "CBI201312_UTILE_PERDITA_ESERCIZIO    23.316993\n",
       "CBI201312_PATRIMONIO_NETTO           23.316993\n",
       "CBI201312_DEBITI_CONSOLIDATI         15.468176\n",
       "CBI201312_DEBITI_ENTRO_ES_SUCC       15.468176\n",
       "CBI201312_RICAVI_NETTI               23.316993\n",
       "CBI201312_ACQUISTI_NETTI             23.316993\n",
       "CBI201312_COSTI_SERVZ_BENI_TERZI     15.468176\n",
       "IMP_ACCORDATO                         0.000000\n",
       "IMP_UTILIZZATO                        0.000000\n",
       "IMP_VALORE_GARANZIA                   0.000000\n",
       "dtype: float64"
      ]
     },
     "execution_count": 640,
     "metadata": {},
     "output_type": "execute_result"
    }
   ],
   "source": [
    "(db_test.isnull().sum()/db_test.count())*100"
   ]
  },
  {
   "cell_type": "markdown",
   "metadata": {},
   "source": [
    "Effettuo una copia dei dataframe in modo da non sovrascrivere l'originale:"
   ]
  },
  {
   "cell_type": "code",
   "execution_count": 641,
   "metadata": {
    "collapsed": true
   },
   "outputs": [],
   "source": [
    "db_train1=db_train.copy()\n",
    "db_train2=db_train.copy()"
   ]
  },
  {
   "cell_type": "code",
   "execution_count": 642,
   "metadata": {
    "collapsed": true
   },
   "outputs": [],
   "source": [
    "db_test1=db_test.copy()\n",
    "db_test2=db_test.copy()"
   ]
  },
  {
   "cell_type": "markdown",
   "metadata": {},
   "source": [
    "Riempio i valori mancanti con valori limite:"
   ]
  },
  {
   "cell_type": "code",
   "execution_count": 643,
   "metadata": {
    "collapsed": true
   },
   "outputs": [],
   "source": [
    "db_train1['CBI201312_CREDITI']=db_train1['CBI201312_CREDITI'].replace(np.nan,-9999)\n",
    "db_train1['CBI201312_UTILE_PERDITA_ESERCIZIO']=db_train1['CBI201312_UTILE_PERDITA_ESERCIZIO'].replace(np.nan,-9999)\n",
    "db_train1['CBI201312_PATRIMONIO_NETTO']=db_train1['CBI201312_PATRIMONIO_NETTO'].replace(np.nan,-9999)\n",
    "db_train1['CBI201312_DEBITI_CONSOLIDATI']=db_train1['CBI201312_DEBITI_CONSOLIDATI'].replace(np.nan,-9999)\n",
    "db_train1['CBI201312_DEBITI_ENTRO_ES_SUCC']=db_train1['CBI201312_DEBITI_ENTRO_ES_SUCC'].replace(np.nan,-9999)\n",
    "db_train1['CBI201312_RICAVI_NETTI']=db_train1['CBI201312_RICAVI_NETTI'].replace(np.nan,-9999)\n",
    "db_train1['CBI201312_ACQUISTI_NETTI']=db_train1['CBI201312_ACQUISTI_NETTI'].replace(np.nan,-9999)\n",
    "db_train1['CBI201312_COSTI_SERVZ_BENI_TERZI']=db_train1['CBI201312_COSTI_SERVZ_BENI_TERZI'].replace(np.nan,-9999)"
   ]
  },
  {
   "cell_type": "code",
   "execution_count": 644,
   "metadata": {
    "collapsed": true
   },
   "outputs": [],
   "source": [
    "db_test1['COD_CAP']=db_test1['COD_CAP'].replace(np.nan,-9999)\n",
    "db_test1['COD_ISTAT_ATECO_07']=db_test1['COD_ISTAT_ATECO_07'].replace(np.nan,-9999)\n",
    "db_test1['CBI201312_CREDITI']=db_test1['CBI201312_CREDITI'].replace(np.nan,-9999)\n",
    "db_test1['CBI201312_UTILE_PERDITA_ESERCIZIO']=db_test1['CBI201312_UTILE_PERDITA_ESERCIZIO'].replace(np.nan,-9999)\n",
    "db_test1['CBI201312_PATRIMONIO_NETTO']=db_test1['CBI201312_PATRIMONIO_NETTO'].replace(np.nan,-9999)\n",
    "db_test1['CBI201312_DEBITI_CONSOLIDATI']=db_test1['CBI201312_DEBITI_CONSOLIDATI'].replace(np.nan,-9999)\n",
    "db_test1['CBI201312_DEBITI_ENTRO_ES_SUCC']=db_test1['CBI201312_DEBITI_ENTRO_ES_SUCC'].replace(np.nan,-9999)\n",
    "db_test1['CBI201312_RICAVI_NETTI']=db_test1['CBI201312_RICAVI_NETTI'].replace(np.nan,-9999)\n",
    "db_test1['CBI201312_ACQUISTI_NETTI']=db_test1['CBI201312_ACQUISTI_NETTI'].replace(np.nan,-9999)\n",
    "db_test1['CBI201312_COSTI_SERVZ_BENI_TERZI']=db_test1['CBI201312_COSTI_SERVZ_BENI_TERZI'].replace(np.nan,-9999)"
   ]
  },
  {
   "cell_type": "code",
   "execution_count": 645,
   "metadata": {
    "collapsed": false
   },
   "outputs": [
    {
     "data": {
      "text/html": [
       "<div>\n",
       "<table border=\"1\" class=\"dataframe\">\n",
       "  <thead>\n",
       "    <tr style=\"text-align: right;\">\n",
       "      <th></th>\n",
       "      <th>ID</th>\n",
       "      <th>COD_CAP</th>\n",
       "      <th>COD_PROVINCIA</th>\n",
       "      <th>DAT_COSTITUZIONE</th>\n",
       "      <th>COD_RAE</th>\n",
       "      <th>COD_SAE</th>\n",
       "      <th>COD_ISTAT_ATECO_07</th>\n",
       "      <th>FLG_DEF_6M</th>\n",
       "      <th>CBI201312_CREDITI</th>\n",
       "      <th>CBI201312_UTILE_PERDITA_ESERCIZIO</th>\n",
       "      <th>CBI201312_PATRIMONIO_NETTO</th>\n",
       "      <th>CBI201312_DEBITI_CONSOLIDATI</th>\n",
       "      <th>CBI201312_DEBITI_ENTRO_ES_SUCC</th>\n",
       "      <th>CBI201312_RICAVI_NETTI</th>\n",
       "      <th>CBI201312_ACQUISTI_NETTI</th>\n",
       "      <th>CBI201312_COSTI_SERVZ_BENI_TERZI</th>\n",
       "      <th>IMP_ACCORDATO</th>\n",
       "      <th>IMP_UTILIZZATO</th>\n",
       "      <th>IMP_VALORE_GARANZIA</th>\n",
       "    </tr>\n",
       "  </thead>\n",
       "  <tbody>\n",
       "    <tr>\n",
       "      <th>0</th>\n",
       "      <td>1</td>\n",
       "      <td>83013</td>\n",
       "      <td>AV</td>\n",
       "      <td>1977</td>\n",
       "      <td>243</td>\n",
       "      <td>430</td>\n",
       "      <td>41</td>\n",
       "      <td>1</td>\n",
       "      <td>-9999.0</td>\n",
       "      <td>-9999.0</td>\n",
       "      <td>-9999.0</td>\n",
       "      <td>-9999.0</td>\n",
       "      <td>-9999.0</td>\n",
       "      <td>-9999.0</td>\n",
       "      <td>-9999.0</td>\n",
       "      <td>-9999.0</td>\n",
       "      <td>0.0</td>\n",
       "      <td>135220.0</td>\n",
       "      <td>0.0</td>\n",
       "    </tr>\n",
       "    <tr>\n",
       "      <th>1</th>\n",
       "      <td>2</td>\n",
       "      <td>84131</td>\n",
       "      <td>SA</td>\n",
       "      <td>1984</td>\n",
       "      <td>614</td>\n",
       "      <td>492</td>\n",
       "      <td>47</td>\n",
       "      <td>1</td>\n",
       "      <td>-9999.0</td>\n",
       "      <td>-9999.0</td>\n",
       "      <td>-9999.0</td>\n",
       "      <td>-9999.0</td>\n",
       "      <td>-9999.0</td>\n",
       "      <td>-9999.0</td>\n",
       "      <td>-9999.0</td>\n",
       "      <td>-9999.0</td>\n",
       "      <td>844348.0</td>\n",
       "      <td>1054419.0</td>\n",
       "      <td>0.0</td>\n",
       "    </tr>\n",
       "    <tr>\n",
       "      <th>2</th>\n",
       "      <td>3</td>\n",
       "      <td>82030</td>\n",
       "      <td>BN</td>\n",
       "      <td>1952</td>\n",
       "      <td>012</td>\n",
       "      <td>430</td>\n",
       "      <td>11</td>\n",
       "      <td>1</td>\n",
       "      <td>-9999.0</td>\n",
       "      <td>-9999.0</td>\n",
       "      <td>-9999.0</td>\n",
       "      <td>-9999.0</td>\n",
       "      <td>-9999.0</td>\n",
       "      <td>-9999.0</td>\n",
       "      <td>-9999.0</td>\n",
       "      <td>-9999.0</td>\n",
       "      <td>0.0</td>\n",
       "      <td>332366.0</td>\n",
       "      <td>0.0</td>\n",
       "    </tr>\n",
       "    <tr>\n",
       "      <th>3</th>\n",
       "      <td>4</td>\n",
       "      <td>80133</td>\n",
       "      <td>NaN</td>\n",
       "      <td>1982</td>\n",
       "      <td>830</td>\n",
       "      <td>430</td>\n",
       "      <td>41</td>\n",
       "      <td>1</td>\n",
       "      <td>-9999.0</td>\n",
       "      <td>-9999.0</td>\n",
       "      <td>-9999.0</td>\n",
       "      <td>-9999.0</td>\n",
       "      <td>-9999.0</td>\n",
       "      <td>-9999.0</td>\n",
       "      <td>-9999.0</td>\n",
       "      <td>-9999.0</td>\n",
       "      <td>0.0</td>\n",
       "      <td>51762483.0</td>\n",
       "      <td>0.0</td>\n",
       "    </tr>\n",
       "    <tr>\n",
       "      <th>4</th>\n",
       "      <td>5</td>\n",
       "      <td>72021</td>\n",
       "      <td>BR</td>\n",
       "      <td>1989</td>\n",
       "      <td>419</td>\n",
       "      <td>482</td>\n",
       "      <td>10</td>\n",
       "      <td>0</td>\n",
       "      <td>-9999.0</td>\n",
       "      <td>-9999.0</td>\n",
       "      <td>-9999.0</td>\n",
       "      <td>-9999.0</td>\n",
       "      <td>-9999.0</td>\n",
       "      <td>-9999.0</td>\n",
       "      <td>-9999.0</td>\n",
       "      <td>-9999.0</td>\n",
       "      <td>37562.0</td>\n",
       "      <td>34857.0</td>\n",
       "      <td>0.0</td>\n",
       "    </tr>\n",
       "  </tbody>\n",
       "</table>\n",
       "</div>"
      ],
      "text/plain": [
       "   ID COD_CAP COD_PROVINCIA DAT_COSTITUZIONE COD_RAE COD_SAE  \\\n",
       "0   1   83013            AV             1977     243     430   \n",
       "1   2   84131            SA             1984     614     492   \n",
       "2   3   82030            BN             1952     012     430   \n",
       "3   4   80133           NaN             1982     830     430   \n",
       "4   5   72021            BR             1989     419     482   \n",
       "\n",
       "  COD_ISTAT_ATECO_07  FLG_DEF_6M  CBI201312_CREDITI  \\\n",
       "0                 41           1            -9999.0   \n",
       "1                 47           1            -9999.0   \n",
       "2                 11           1            -9999.0   \n",
       "3                 41           1            -9999.0   \n",
       "4                 10           0            -9999.0   \n",
       "\n",
       "   CBI201312_UTILE_PERDITA_ESERCIZIO  CBI201312_PATRIMONIO_NETTO  \\\n",
       "0                            -9999.0                     -9999.0   \n",
       "1                            -9999.0                     -9999.0   \n",
       "2                            -9999.0                     -9999.0   \n",
       "3                            -9999.0                     -9999.0   \n",
       "4                            -9999.0                     -9999.0   \n",
       "\n",
       "   CBI201312_DEBITI_CONSOLIDATI  CBI201312_DEBITI_ENTRO_ES_SUCC  \\\n",
       "0                       -9999.0                         -9999.0   \n",
       "1                       -9999.0                         -9999.0   \n",
       "2                       -9999.0                         -9999.0   \n",
       "3                       -9999.0                         -9999.0   \n",
       "4                       -9999.0                         -9999.0   \n",
       "\n",
       "   CBI201312_RICAVI_NETTI  CBI201312_ACQUISTI_NETTI  \\\n",
       "0                 -9999.0                   -9999.0   \n",
       "1                 -9999.0                   -9999.0   \n",
       "2                 -9999.0                   -9999.0   \n",
       "3                 -9999.0                   -9999.0   \n",
       "4                 -9999.0                   -9999.0   \n",
       "\n",
       "   CBI201312_COSTI_SERVZ_BENI_TERZI  IMP_ACCORDATO  IMP_UTILIZZATO  \\\n",
       "0                           -9999.0            0.0        135220.0   \n",
       "1                           -9999.0       844348.0       1054419.0   \n",
       "2                           -9999.0            0.0        332366.0   \n",
       "3                           -9999.0            0.0      51762483.0   \n",
       "4                           -9999.0        37562.0         34857.0   \n",
       "\n",
       "   IMP_VALORE_GARANZIA  \n",
       "0                  0.0  \n",
       "1                  0.0  \n",
       "2                  0.0  \n",
       "3                  0.0  \n",
       "4                  0.0  "
      ]
     },
     "execution_count": 645,
     "metadata": {},
     "output_type": "execute_result"
    }
   ],
   "source": [
    "db_train1.head()"
   ]
  },
  {
   "cell_type": "code",
   "execution_count": 646,
   "metadata": {
    "collapsed": false
   },
   "outputs": [
    {
     "data": {
      "text/html": [
       "<div>\n",
       "<table border=\"1\" class=\"dataframe\">\n",
       "  <thead>\n",
       "    <tr style=\"text-align: right;\">\n",
       "      <th></th>\n",
       "      <th>ID</th>\n",
       "      <th>COD_CAP</th>\n",
       "      <th>COD_PROVINCIA</th>\n",
       "      <th>DAT_COSTITUZIONE</th>\n",
       "      <th>COD_RAE</th>\n",
       "      <th>COD_SAE</th>\n",
       "      <th>COD_ISTAT_ATECO_07</th>\n",
       "      <th>CBI201312_CREDITI</th>\n",
       "      <th>CBI201312_UTILE_PERDITA_ESERCIZIO</th>\n",
       "      <th>CBI201312_PATRIMONIO_NETTO</th>\n",
       "      <th>CBI201312_DEBITI_CONSOLIDATI</th>\n",
       "      <th>CBI201312_DEBITI_ENTRO_ES_SUCC</th>\n",
       "      <th>CBI201312_RICAVI_NETTI</th>\n",
       "      <th>CBI201312_ACQUISTI_NETTI</th>\n",
       "      <th>CBI201312_COSTI_SERVZ_BENI_TERZI</th>\n",
       "      <th>IMP_ACCORDATO</th>\n",
       "      <th>IMP_UTILIZZATO</th>\n",
       "      <th>IMP_VALORE_GARANZIA</th>\n",
       "    </tr>\n",
       "  </thead>\n",
       "  <tbody>\n",
       "    <tr>\n",
       "      <th>0</th>\n",
       "      <td>66812</td>\n",
       "      <td>16033</td>\n",
       "      <td>GE</td>\n",
       "      <td>1977</td>\n",
       "      <td>830</td>\n",
       "      <td>482</td>\n",
       "      <td>63</td>\n",
       "      <td>-9999.0</td>\n",
       "      <td>-9999.0</td>\n",
       "      <td>-9999.0</td>\n",
       "      <td>-9999.0</td>\n",
       "      <td>-9999.0</td>\n",
       "      <td>-9999.0</td>\n",
       "      <td>-9999.0</td>\n",
       "      <td>-9999.0</td>\n",
       "      <td>59982.0</td>\n",
       "      <td>59982.0</td>\n",
       "      <td>0.0</td>\n",
       "    </tr>\n",
       "    <tr>\n",
       "      <th>1</th>\n",
       "      <td>66813</td>\n",
       "      <td>10090</td>\n",
       "      <td>TO</td>\n",
       "      <td>1985</td>\n",
       "      <td>345</td>\n",
       "      <td>492</td>\n",
       "      <td>26</td>\n",
       "      <td>-9999.0</td>\n",
       "      <td>-9999.0</td>\n",
       "      <td>-9999.0</td>\n",
       "      <td>-9999.0</td>\n",
       "      <td>-9999.0</td>\n",
       "      <td>-9999.0</td>\n",
       "      <td>-9999.0</td>\n",
       "      <td>-9999.0</td>\n",
       "      <td>388785.0</td>\n",
       "      <td>391500.0</td>\n",
       "      <td>0.0</td>\n",
       "    </tr>\n",
       "    <tr>\n",
       "      <th>2</th>\n",
       "      <td>66814</td>\n",
       "      <td>34170</td>\n",
       "      <td>GO</td>\n",
       "      <td>1921</td>\n",
       "      <td>648</td>\n",
       "      <td>492</td>\n",
       "      <td>47</td>\n",
       "      <td>-9999.0</td>\n",
       "      <td>-9999.0</td>\n",
       "      <td>-9999.0</td>\n",
       "      <td>-9999.0</td>\n",
       "      <td>-9999.0</td>\n",
       "      <td>-9999.0</td>\n",
       "      <td>-9999.0</td>\n",
       "      <td>-9999.0</td>\n",
       "      <td>213293.0</td>\n",
       "      <td>211445.0</td>\n",
       "      <td>0.0</td>\n",
       "    </tr>\n",
       "    <tr>\n",
       "      <th>3</th>\n",
       "      <td>66815</td>\n",
       "      <td>35044</td>\n",
       "      <td>PD</td>\n",
       "      <td>1993</td>\n",
       "      <td>467</td>\n",
       "      <td>482</td>\n",
       "      <td>31</td>\n",
       "      <td>125.0</td>\n",
       "      <td>32.0</td>\n",
       "      <td>-186.0</td>\n",
       "      <td>177.0</td>\n",
       "      <td>351.0</td>\n",
       "      <td>779.0</td>\n",
       "      <td>351.0</td>\n",
       "      <td>256.0</td>\n",
       "      <td>437243.0</td>\n",
       "      <td>374537.0</td>\n",
       "      <td>0.0</td>\n",
       "    </tr>\n",
       "    <tr>\n",
       "      <th>4</th>\n",
       "      <td>66816</td>\n",
       "      <td>11017</td>\n",
       "      <td>AO</td>\n",
       "      <td>1975</td>\n",
       "      <td>505</td>\n",
       "      <td>482</td>\n",
       "      <td>41</td>\n",
       "      <td>51.0</td>\n",
       "      <td>74.0</td>\n",
       "      <td>-17.0</td>\n",
       "      <td>447.0</td>\n",
       "      <td>26.0</td>\n",
       "      <td>407.0</td>\n",
       "      <td>122.0</td>\n",
       "      <td>19.0</td>\n",
       "      <td>620000.0</td>\n",
       "      <td>0.0</td>\n",
       "      <td>0.0</td>\n",
       "    </tr>\n",
       "  </tbody>\n",
       "</table>\n",
       "</div>"
      ],
      "text/plain": [
       "      ID COD_CAP COD_PROVINCIA DAT_COSTITUZIONE COD_RAE COD_SAE  \\\n",
       "0  66812   16033            GE             1977     830     482   \n",
       "1  66813   10090            TO             1985     345     492   \n",
       "2  66814   34170            GO             1921     648     492   \n",
       "3  66815   35044            PD             1993     467     482   \n",
       "4  66816   11017            AO             1975     505     482   \n",
       "\n",
       "  COD_ISTAT_ATECO_07  CBI201312_CREDITI  CBI201312_UTILE_PERDITA_ESERCIZIO  \\\n",
       "0                 63            -9999.0                            -9999.0   \n",
       "1                 26            -9999.0                            -9999.0   \n",
       "2                 47            -9999.0                            -9999.0   \n",
       "3                 31              125.0                               32.0   \n",
       "4                 41               51.0                               74.0   \n",
       "\n",
       "   CBI201312_PATRIMONIO_NETTO  CBI201312_DEBITI_CONSOLIDATI  \\\n",
       "0                     -9999.0                       -9999.0   \n",
       "1                     -9999.0                       -9999.0   \n",
       "2                     -9999.0                       -9999.0   \n",
       "3                      -186.0                         177.0   \n",
       "4                       -17.0                         447.0   \n",
       "\n",
       "   CBI201312_DEBITI_ENTRO_ES_SUCC  CBI201312_RICAVI_NETTI  \\\n",
       "0                         -9999.0                 -9999.0   \n",
       "1                         -9999.0                 -9999.0   \n",
       "2                         -9999.0                 -9999.0   \n",
       "3                           351.0                   779.0   \n",
       "4                            26.0                   407.0   \n",
       "\n",
       "   CBI201312_ACQUISTI_NETTI  CBI201312_COSTI_SERVZ_BENI_TERZI  IMP_ACCORDATO  \\\n",
       "0                   -9999.0                           -9999.0        59982.0   \n",
       "1                   -9999.0                           -9999.0       388785.0   \n",
       "2                   -9999.0                           -9999.0       213293.0   \n",
       "3                     351.0                             256.0       437243.0   \n",
       "4                     122.0                              19.0       620000.0   \n",
       "\n",
       "   IMP_UTILIZZATO  IMP_VALORE_GARANZIA  \n",
       "0         59982.0                  0.0  \n",
       "1        391500.0                  0.0  \n",
       "2        211445.0                  0.0  \n",
       "3        374537.0                  0.0  \n",
       "4             0.0                  0.0  "
      ]
     },
     "execution_count": 646,
     "metadata": {},
     "output_type": "execute_result"
    }
   ],
   "source": [
    "db_test1.head()"
   ]
  },
  {
   "cell_type": "code",
   "execution_count": 647,
   "metadata": {
    "collapsed": false
   },
   "outputs": [
    {
     "data": {
      "text/plain": [
       "ID                                   0.000000\n",
       "COD_CAP                              0.112383\n",
       "COD_PROVINCIA                        4.493415\n",
       "DAT_COSTITUZIONE                     0.346951\n",
       "COD_RAE                              0.000000\n",
       "COD_SAE                              0.000000\n",
       "COD_ISTAT_ATECO_07                   0.640195\n",
       "FLG_DEF_6M                           0.000000\n",
       "CBI201312_CREDITI                    0.000000\n",
       "CBI201312_UTILE_PERDITA_ESERCIZIO    0.000000\n",
       "CBI201312_PATRIMONIO_NETTO           0.000000\n",
       "CBI201312_DEBITI_CONSOLIDATI         0.000000\n",
       "CBI201312_DEBITI_ENTRO_ES_SUCC       0.000000\n",
       "CBI201312_RICAVI_NETTI               0.000000\n",
       "CBI201312_ACQUISTI_NETTI             0.000000\n",
       "CBI201312_COSTI_SERVZ_BENI_TERZI     0.000000\n",
       "IMP_ACCORDATO                        0.000000\n",
       "IMP_UTILIZZATO                       0.000000\n",
       "IMP_VALORE_GARANZIA                  0.000000\n",
       "dtype: float64"
      ]
     },
     "execution_count": 647,
     "metadata": {},
     "output_type": "execute_result"
    }
   ],
   "source": [
    "(db_train1.isnull().sum()/db_train1.count())*100"
   ]
  },
  {
   "cell_type": "markdown",
   "metadata": {},
   "source": [
    "Il codice provincia e il codice Ateco presentano una percentuale minima di valori mancanti che possone essere eliminati dal dataset di training senza influire sul risultato:"
   ]
  },
  {
   "cell_type": "code",
   "execution_count": 648,
   "metadata": {
    "collapsed": false
   },
   "outputs": [],
   "source": [
    "db_train1=db_train1[db_train1.COD_CAP.notnull()]\n",
    "db_train1=db_train1[db_train1.COD_ISTAT_ATECO_07.notnull()]"
   ]
  },
  {
   "cell_type": "code",
   "execution_count": 649,
   "metadata": {
    "collapsed": false
   },
   "outputs": [],
   "source": [
    "#db_test1=db_test1[db_test1.COD_CAP.notnull()]\n",
    "#db_test1=db_test1[db_test1.COD_ISTAT_ATECO_07.notnull()]"
   ]
  },
  {
   "cell_type": "code",
   "execution_count": 650,
   "metadata": {
    "collapsed": false
   },
   "outputs": [
    {
     "data": {
      "text/plain": [
       "ID                                   0.000000\n",
       "COD_CAP                              0.000000\n",
       "COD_PROVINCIA                        4.393408\n",
       "DAT_COSTITUZIONE                     0.323732\n",
       "COD_RAE                              0.000000\n",
       "COD_SAE                              0.000000\n",
       "COD_ISTAT_ATECO_07                   0.000000\n",
       "FLG_DEF_6M                           0.000000\n",
       "CBI201312_CREDITI                    0.000000\n",
       "CBI201312_UTILE_PERDITA_ESERCIZIO    0.000000\n",
       "CBI201312_PATRIMONIO_NETTO           0.000000\n",
       "CBI201312_DEBITI_CONSOLIDATI         0.000000\n",
       "CBI201312_DEBITI_ENTRO_ES_SUCC       0.000000\n",
       "CBI201312_RICAVI_NETTI               0.000000\n",
       "CBI201312_ACQUISTI_NETTI             0.000000\n",
       "CBI201312_COSTI_SERVZ_BENI_TERZI     0.000000\n",
       "IMP_ACCORDATO                        0.000000\n",
       "IMP_UTILIZZATO                       0.000000\n",
       "IMP_VALORE_GARANZIA                  0.000000\n",
       "dtype: float64"
      ]
     },
     "execution_count": 650,
     "metadata": {},
     "output_type": "execute_result"
    }
   ],
   "source": [
    "(db_train1.isnull().sum()/db_train1.count())*100"
   ]
  },
  {
   "cell_type": "code",
   "execution_count": 651,
   "metadata": {
    "collapsed": false
   },
   "outputs": [
    {
     "data": {
      "text/plain": [
       "ID                                   0.000000\n",
       "COD_CAP                              0.000000\n",
       "COD_PROVINCIA                        4.630528\n",
       "DAT_COSTITUZIONE                     0.319022\n",
       "COD_RAE                              0.000000\n",
       "COD_SAE                              0.000000\n",
       "COD_ISTAT_ATECO_07                   0.000000\n",
       "CBI201312_CREDITI                    0.000000\n",
       "CBI201312_UTILE_PERDITA_ESERCIZIO    0.000000\n",
       "CBI201312_PATRIMONIO_NETTO           0.000000\n",
       "CBI201312_DEBITI_CONSOLIDATI         0.000000\n",
       "CBI201312_DEBITI_ENTRO_ES_SUCC       0.000000\n",
       "CBI201312_RICAVI_NETTI               0.000000\n",
       "CBI201312_ACQUISTI_NETTI             0.000000\n",
       "CBI201312_COSTI_SERVZ_BENI_TERZI     0.000000\n",
       "IMP_ACCORDATO                        0.000000\n",
       "IMP_UTILIZZATO                       0.000000\n",
       "IMP_VALORE_GARANZIA                  0.000000\n",
       "dtype: float64"
      ]
     },
     "execution_count": 651,
     "metadata": {},
     "output_type": "execute_result"
    }
   ],
   "source": [
    "(db_test1.isnull().sum()/db_test1.count())*100"
   ]
  },
  {
   "cell_type": "code",
   "execution_count": 652,
   "metadata": {
    "collapsed": false,
    "scrolled": true
   },
   "outputs": [
    {
     "data": {
      "text/html": [
       "<div>\n",
       "<table border=\"1\" class=\"dataframe\">\n",
       "  <thead>\n",
       "    <tr style=\"text-align: right;\">\n",
       "      <th></th>\n",
       "      <th>ID</th>\n",
       "      <th>FLG_DEF_6M</th>\n",
       "      <th>CBI201312_CREDITI</th>\n",
       "      <th>CBI201312_UTILE_PERDITA_ESERCIZIO</th>\n",
       "      <th>CBI201312_PATRIMONIO_NETTO</th>\n",
       "      <th>CBI201312_DEBITI_CONSOLIDATI</th>\n",
       "      <th>CBI201312_DEBITI_ENTRO_ES_SUCC</th>\n",
       "      <th>CBI201312_RICAVI_NETTI</th>\n",
       "      <th>CBI201312_ACQUISTI_NETTI</th>\n",
       "      <th>CBI201312_COSTI_SERVZ_BENI_TERZI</th>\n",
       "      <th>IMP_ACCORDATO</th>\n",
       "      <th>IMP_UTILIZZATO</th>\n",
       "      <th>IMP_VALORE_GARANZIA</th>\n",
       "    </tr>\n",
       "  </thead>\n",
       "  <tbody>\n",
       "    <tr>\n",
       "      <th>ID</th>\n",
       "      <td>1.000000</td>\n",
       "      <td>-0.057246</td>\n",
       "      <td>-0.007059</td>\n",
       "      <td>-0.007060</td>\n",
       "      <td>-0.041012</td>\n",
       "      <td>-0.030638</td>\n",
       "      <td>-0.002602</td>\n",
       "      <td>-0.006387</td>\n",
       "      <td>0.002771</td>\n",
       "      <td>-0.006761</td>\n",
       "      <td>0.006580</td>\n",
       "      <td>-0.007973</td>\n",
       "      <td>0.005607</td>\n",
       "    </tr>\n",
       "    <tr>\n",
       "      <th>FLG_DEF_6M</th>\n",
       "      <td>-0.057246</td>\n",
       "      <td>1.000000</td>\n",
       "      <td>-0.003293</td>\n",
       "      <td>-0.113949</td>\n",
       "      <td>-0.058204</td>\n",
       "      <td>0.080244</td>\n",
       "      <td>0.017689</td>\n",
       "      <td>-0.027666</td>\n",
       "      <td>-0.011781</td>\n",
       "      <td>-0.056943</td>\n",
       "      <td>-0.034566</td>\n",
       "      <td>0.050848</td>\n",
       "      <td>-0.003604</td>\n",
       "    </tr>\n",
       "    <tr>\n",
       "      <th>CBI201312_CREDITI</th>\n",
       "      <td>-0.007059</td>\n",
       "      <td>-0.003293</td>\n",
       "      <td>1.000000</td>\n",
       "      <td>0.159170</td>\n",
       "      <td>0.168100</td>\n",
       "      <td>0.044683</td>\n",
       "      <td>0.979264</td>\n",
       "      <td>0.858389</td>\n",
       "      <td>0.872781</td>\n",
       "      <td>0.289202</td>\n",
       "      <td>0.149647</td>\n",
       "      <td>0.123161</td>\n",
       "      <td>0.057657</td>\n",
       "    </tr>\n",
       "    <tr>\n",
       "      <th>CBI201312_UTILE_PERDITA_ESERCIZIO</th>\n",
       "      <td>-0.007060</td>\n",
       "      <td>-0.113949</td>\n",
       "      <td>0.159170</td>\n",
       "      <td>1.000000</td>\n",
       "      <td>0.213078</td>\n",
       "      <td>-0.009995</td>\n",
       "      <td>0.094167</td>\n",
       "      <td>0.187184</td>\n",
       "      <td>0.151566</td>\n",
       "      <td>0.070015</td>\n",
       "      <td>0.050460</td>\n",
       "      <td>0.029836</td>\n",
       "      <td>0.019627</td>\n",
       "    </tr>\n",
       "    <tr>\n",
       "      <th>CBI201312_PATRIMONIO_NETTO</th>\n",
       "      <td>-0.041012</td>\n",
       "      <td>-0.058204</td>\n",
       "      <td>0.168100</td>\n",
       "      <td>0.213078</td>\n",
       "      <td>1.000000</td>\n",
       "      <td>0.379862</td>\n",
       "      <td>0.156514</td>\n",
       "      <td>0.157953</td>\n",
       "      <td>0.102682</td>\n",
       "      <td>0.196794</td>\n",
       "      <td>0.383704</td>\n",
       "      <td>0.369837</td>\n",
       "      <td>0.091780</td>\n",
       "    </tr>\n",
       "    <tr>\n",
       "      <th>CBI201312_DEBITI_CONSOLIDATI</th>\n",
       "      <td>-0.030638</td>\n",
       "      <td>0.080244</td>\n",
       "      <td>0.044683</td>\n",
       "      <td>-0.009995</td>\n",
       "      <td>0.379862</td>\n",
       "      <td>1.000000</td>\n",
       "      <td>0.067774</td>\n",
       "      <td>0.056708</td>\n",
       "      <td>0.012556</td>\n",
       "      <td>0.132522</td>\n",
       "      <td>0.516407</td>\n",
       "      <td>0.614694</td>\n",
       "      <td>0.115395</td>\n",
       "    </tr>\n",
       "    <tr>\n",
       "      <th>CBI201312_DEBITI_ENTRO_ES_SUCC</th>\n",
       "      <td>-0.002602</td>\n",
       "      <td>0.017689</td>\n",
       "      <td>0.979264</td>\n",
       "      <td>0.094167</td>\n",
       "      <td>0.156514</td>\n",
       "      <td>0.067774</td>\n",
       "      <td>1.000000</td>\n",
       "      <td>0.856897</td>\n",
       "      <td>0.892693</td>\n",
       "      <td>0.222618</td>\n",
       "      <td>0.136732</td>\n",
       "      <td>0.137574</td>\n",
       "      <td>0.044789</td>\n",
       "    </tr>\n",
       "    <tr>\n",
       "      <th>CBI201312_RICAVI_NETTI</th>\n",
       "      <td>-0.006387</td>\n",
       "      <td>-0.027666</td>\n",
       "      <td>0.858389</td>\n",
       "      <td>0.187184</td>\n",
       "      <td>0.157953</td>\n",
       "      <td>0.056708</td>\n",
       "      <td>0.856897</td>\n",
       "      <td>1.000000</td>\n",
       "      <td>0.964157</td>\n",
       "      <td>0.290607</td>\n",
       "      <td>0.177576</td>\n",
       "      <td>0.141050</td>\n",
       "      <td>0.064555</td>\n",
       "    </tr>\n",
       "    <tr>\n",
       "      <th>CBI201312_ACQUISTI_NETTI</th>\n",
       "      <td>0.002771</td>\n",
       "      <td>-0.011781</td>\n",
       "      <td>0.872781</td>\n",
       "      <td>0.151566</td>\n",
       "      <td>0.102682</td>\n",
       "      <td>0.012556</td>\n",
       "      <td>0.892693</td>\n",
       "      <td>0.964157</td>\n",
       "      <td>1.000000</td>\n",
       "      <td>0.095963</td>\n",
       "      <td>0.041986</td>\n",
       "      <td>0.032201</td>\n",
       "      <td>0.007340</td>\n",
       "    </tr>\n",
       "    <tr>\n",
       "      <th>CBI201312_COSTI_SERVZ_BENI_TERZI</th>\n",
       "      <td>-0.006761</td>\n",
       "      <td>-0.056943</td>\n",
       "      <td>0.289202</td>\n",
       "      <td>0.070015</td>\n",
       "      <td>0.196794</td>\n",
       "      <td>0.132522</td>\n",
       "      <td>0.222618</td>\n",
       "      <td>0.290607</td>\n",
       "      <td>0.095963</td>\n",
       "      <td>1.000000</td>\n",
       "      <td>0.425366</td>\n",
       "      <td>0.336316</td>\n",
       "      <td>0.152041</td>\n",
       "    </tr>\n",
       "    <tr>\n",
       "      <th>IMP_ACCORDATO</th>\n",
       "      <td>0.006580</td>\n",
       "      <td>-0.034566</td>\n",
       "      <td>0.149647</td>\n",
       "      <td>0.050460</td>\n",
       "      <td>0.383704</td>\n",
       "      <td>0.516407</td>\n",
       "      <td>0.136732</td>\n",
       "      <td>0.177576</td>\n",
       "      <td>0.041986</td>\n",
       "      <td>0.425366</td>\n",
       "      <td>1.000000</td>\n",
       "      <td>0.866590</td>\n",
       "      <td>0.101318</td>\n",
       "    </tr>\n",
       "    <tr>\n",
       "      <th>IMP_UTILIZZATO</th>\n",
       "      <td>-0.007973</td>\n",
       "      <td>0.050848</td>\n",
       "      <td>0.123161</td>\n",
       "      <td>0.029836</td>\n",
       "      <td>0.369837</td>\n",
       "      <td>0.614694</td>\n",
       "      <td>0.137574</td>\n",
       "      <td>0.141050</td>\n",
       "      <td>0.032201</td>\n",
       "      <td>0.336316</td>\n",
       "      <td>0.866590</td>\n",
       "      <td>1.000000</td>\n",
       "      <td>0.105375</td>\n",
       "    </tr>\n",
       "    <tr>\n",
       "      <th>IMP_VALORE_GARANZIA</th>\n",
       "      <td>0.005607</td>\n",
       "      <td>-0.003604</td>\n",
       "      <td>0.057657</td>\n",
       "      <td>0.019627</td>\n",
       "      <td>0.091780</td>\n",
       "      <td>0.115395</td>\n",
       "      <td>0.044789</td>\n",
       "      <td>0.064555</td>\n",
       "      <td>0.007340</td>\n",
       "      <td>0.152041</td>\n",
       "      <td>0.101318</td>\n",
       "      <td>0.105375</td>\n",
       "      <td>1.000000</td>\n",
       "    </tr>\n",
       "  </tbody>\n",
       "</table>\n",
       "</div>"
      ],
      "text/plain": [
       "                                         ID  FLG_DEF_6M  CBI201312_CREDITI  \\\n",
       "ID                                 1.000000   -0.057246          -0.007059   \n",
       "FLG_DEF_6M                        -0.057246    1.000000          -0.003293   \n",
       "CBI201312_CREDITI                 -0.007059   -0.003293           1.000000   \n",
       "CBI201312_UTILE_PERDITA_ESERCIZIO -0.007060   -0.113949           0.159170   \n",
       "CBI201312_PATRIMONIO_NETTO        -0.041012   -0.058204           0.168100   \n",
       "CBI201312_DEBITI_CONSOLIDATI      -0.030638    0.080244           0.044683   \n",
       "CBI201312_DEBITI_ENTRO_ES_SUCC    -0.002602    0.017689           0.979264   \n",
       "CBI201312_RICAVI_NETTI            -0.006387   -0.027666           0.858389   \n",
       "CBI201312_ACQUISTI_NETTI           0.002771   -0.011781           0.872781   \n",
       "CBI201312_COSTI_SERVZ_BENI_TERZI  -0.006761   -0.056943           0.289202   \n",
       "IMP_ACCORDATO                      0.006580   -0.034566           0.149647   \n",
       "IMP_UTILIZZATO                    -0.007973    0.050848           0.123161   \n",
       "IMP_VALORE_GARANZIA                0.005607   -0.003604           0.057657   \n",
       "\n",
       "                                   CBI201312_UTILE_PERDITA_ESERCIZIO  \\\n",
       "ID                                                         -0.007060   \n",
       "FLG_DEF_6M                                                 -0.113949   \n",
       "CBI201312_CREDITI                                           0.159170   \n",
       "CBI201312_UTILE_PERDITA_ESERCIZIO                           1.000000   \n",
       "CBI201312_PATRIMONIO_NETTO                                  0.213078   \n",
       "CBI201312_DEBITI_CONSOLIDATI                               -0.009995   \n",
       "CBI201312_DEBITI_ENTRO_ES_SUCC                              0.094167   \n",
       "CBI201312_RICAVI_NETTI                                      0.187184   \n",
       "CBI201312_ACQUISTI_NETTI                                    0.151566   \n",
       "CBI201312_COSTI_SERVZ_BENI_TERZI                            0.070015   \n",
       "IMP_ACCORDATO                                               0.050460   \n",
       "IMP_UTILIZZATO                                              0.029836   \n",
       "IMP_VALORE_GARANZIA                                         0.019627   \n",
       "\n",
       "                                   CBI201312_PATRIMONIO_NETTO  \\\n",
       "ID                                                  -0.041012   \n",
       "FLG_DEF_6M                                          -0.058204   \n",
       "CBI201312_CREDITI                                    0.168100   \n",
       "CBI201312_UTILE_PERDITA_ESERCIZIO                    0.213078   \n",
       "CBI201312_PATRIMONIO_NETTO                           1.000000   \n",
       "CBI201312_DEBITI_CONSOLIDATI                         0.379862   \n",
       "CBI201312_DEBITI_ENTRO_ES_SUCC                       0.156514   \n",
       "CBI201312_RICAVI_NETTI                               0.157953   \n",
       "CBI201312_ACQUISTI_NETTI                             0.102682   \n",
       "CBI201312_COSTI_SERVZ_BENI_TERZI                     0.196794   \n",
       "IMP_ACCORDATO                                        0.383704   \n",
       "IMP_UTILIZZATO                                       0.369837   \n",
       "IMP_VALORE_GARANZIA                                  0.091780   \n",
       "\n",
       "                                   CBI201312_DEBITI_CONSOLIDATI  \\\n",
       "ID                                                    -0.030638   \n",
       "FLG_DEF_6M                                             0.080244   \n",
       "CBI201312_CREDITI                                      0.044683   \n",
       "CBI201312_UTILE_PERDITA_ESERCIZIO                     -0.009995   \n",
       "CBI201312_PATRIMONIO_NETTO                             0.379862   \n",
       "CBI201312_DEBITI_CONSOLIDATI                           1.000000   \n",
       "CBI201312_DEBITI_ENTRO_ES_SUCC                         0.067774   \n",
       "CBI201312_RICAVI_NETTI                                 0.056708   \n",
       "CBI201312_ACQUISTI_NETTI                               0.012556   \n",
       "CBI201312_COSTI_SERVZ_BENI_TERZI                       0.132522   \n",
       "IMP_ACCORDATO                                          0.516407   \n",
       "IMP_UTILIZZATO                                         0.614694   \n",
       "IMP_VALORE_GARANZIA                                    0.115395   \n",
       "\n",
       "                                   CBI201312_DEBITI_ENTRO_ES_SUCC  \\\n",
       "ID                                                      -0.002602   \n",
       "FLG_DEF_6M                                               0.017689   \n",
       "CBI201312_CREDITI                                        0.979264   \n",
       "CBI201312_UTILE_PERDITA_ESERCIZIO                        0.094167   \n",
       "CBI201312_PATRIMONIO_NETTO                               0.156514   \n",
       "CBI201312_DEBITI_CONSOLIDATI                             0.067774   \n",
       "CBI201312_DEBITI_ENTRO_ES_SUCC                           1.000000   \n",
       "CBI201312_RICAVI_NETTI                                   0.856897   \n",
       "CBI201312_ACQUISTI_NETTI                                 0.892693   \n",
       "CBI201312_COSTI_SERVZ_BENI_TERZI                         0.222618   \n",
       "IMP_ACCORDATO                                            0.136732   \n",
       "IMP_UTILIZZATO                                           0.137574   \n",
       "IMP_VALORE_GARANZIA                                      0.044789   \n",
       "\n",
       "                                   CBI201312_RICAVI_NETTI  \\\n",
       "ID                                              -0.006387   \n",
       "FLG_DEF_6M                                      -0.027666   \n",
       "CBI201312_CREDITI                                0.858389   \n",
       "CBI201312_UTILE_PERDITA_ESERCIZIO                0.187184   \n",
       "CBI201312_PATRIMONIO_NETTO                       0.157953   \n",
       "CBI201312_DEBITI_CONSOLIDATI                     0.056708   \n",
       "CBI201312_DEBITI_ENTRO_ES_SUCC                   0.856897   \n",
       "CBI201312_RICAVI_NETTI                           1.000000   \n",
       "CBI201312_ACQUISTI_NETTI                         0.964157   \n",
       "CBI201312_COSTI_SERVZ_BENI_TERZI                 0.290607   \n",
       "IMP_ACCORDATO                                    0.177576   \n",
       "IMP_UTILIZZATO                                   0.141050   \n",
       "IMP_VALORE_GARANZIA                              0.064555   \n",
       "\n",
       "                                   CBI201312_ACQUISTI_NETTI  \\\n",
       "ID                                                 0.002771   \n",
       "FLG_DEF_6M                                        -0.011781   \n",
       "CBI201312_CREDITI                                  0.872781   \n",
       "CBI201312_UTILE_PERDITA_ESERCIZIO                  0.151566   \n",
       "CBI201312_PATRIMONIO_NETTO                         0.102682   \n",
       "CBI201312_DEBITI_CONSOLIDATI                       0.012556   \n",
       "CBI201312_DEBITI_ENTRO_ES_SUCC                     0.892693   \n",
       "CBI201312_RICAVI_NETTI                             0.964157   \n",
       "CBI201312_ACQUISTI_NETTI                           1.000000   \n",
       "CBI201312_COSTI_SERVZ_BENI_TERZI                   0.095963   \n",
       "IMP_ACCORDATO                                      0.041986   \n",
       "IMP_UTILIZZATO                                     0.032201   \n",
       "IMP_VALORE_GARANZIA                                0.007340   \n",
       "\n",
       "                                   CBI201312_COSTI_SERVZ_BENI_TERZI  \\\n",
       "ID                                                        -0.006761   \n",
       "FLG_DEF_6M                                                -0.056943   \n",
       "CBI201312_CREDITI                                          0.289202   \n",
       "CBI201312_UTILE_PERDITA_ESERCIZIO                          0.070015   \n",
       "CBI201312_PATRIMONIO_NETTO                                 0.196794   \n",
       "CBI201312_DEBITI_CONSOLIDATI                               0.132522   \n",
       "CBI201312_DEBITI_ENTRO_ES_SUCC                             0.222618   \n",
       "CBI201312_RICAVI_NETTI                                     0.290607   \n",
       "CBI201312_ACQUISTI_NETTI                                   0.095963   \n",
       "CBI201312_COSTI_SERVZ_BENI_TERZI                           1.000000   \n",
       "IMP_ACCORDATO                                              0.425366   \n",
       "IMP_UTILIZZATO                                             0.336316   \n",
       "IMP_VALORE_GARANZIA                                        0.152041   \n",
       "\n",
       "                                   IMP_ACCORDATO  IMP_UTILIZZATO  \\\n",
       "ID                                      0.006580       -0.007973   \n",
       "FLG_DEF_6M                             -0.034566        0.050848   \n",
       "CBI201312_CREDITI                       0.149647        0.123161   \n",
       "CBI201312_UTILE_PERDITA_ESERCIZIO       0.050460        0.029836   \n",
       "CBI201312_PATRIMONIO_NETTO              0.383704        0.369837   \n",
       "CBI201312_DEBITI_CONSOLIDATI            0.516407        0.614694   \n",
       "CBI201312_DEBITI_ENTRO_ES_SUCC          0.136732        0.137574   \n",
       "CBI201312_RICAVI_NETTI                  0.177576        0.141050   \n",
       "CBI201312_ACQUISTI_NETTI                0.041986        0.032201   \n",
       "CBI201312_COSTI_SERVZ_BENI_TERZI        0.425366        0.336316   \n",
       "IMP_ACCORDATO                           1.000000        0.866590   \n",
       "IMP_UTILIZZATO                          0.866590        1.000000   \n",
       "IMP_VALORE_GARANZIA                     0.101318        0.105375   \n",
       "\n",
       "                                   IMP_VALORE_GARANZIA  \n",
       "ID                                            0.005607  \n",
       "FLG_DEF_6M                                   -0.003604  \n",
       "CBI201312_CREDITI                             0.057657  \n",
       "CBI201312_UTILE_PERDITA_ESERCIZIO             0.019627  \n",
       "CBI201312_PATRIMONIO_NETTO                    0.091780  \n",
       "CBI201312_DEBITI_CONSOLIDATI                  0.115395  \n",
       "CBI201312_DEBITI_ENTRO_ES_SUCC                0.044789  \n",
       "CBI201312_RICAVI_NETTI                        0.064555  \n",
       "CBI201312_ACQUISTI_NETTI                      0.007340  \n",
       "CBI201312_COSTI_SERVZ_BENI_TERZI              0.152041  \n",
       "IMP_ACCORDATO                                 0.101318  \n",
       "IMP_UTILIZZATO                                0.105375  \n",
       "IMP_VALORE_GARANZIA                           1.000000  "
      ]
     },
     "execution_count": 652,
     "metadata": {},
     "output_type": "execute_result"
    }
   ],
   "source": [
    "db_train.corr()"
   ]
  },
  {
   "cell_type": "markdown",
   "metadata": {},
   "source": [
    "Creo il primo dataframe per il training: \n",
    "- i valori nulli sono stati sostituiti con valori limite\n",
    "- eliminati dal data set le righe con codice ateco e cod cap mancanti"
   ]
  },
  {
   "cell_type": "code",
   "execution_count": 653,
   "metadata": {
    "collapsed": false
   },
   "outputs": [],
   "source": [
    "X_train1 = db_train1.drop(['ID','COD_PROVINCIA','COD_RAE','COD_SAE','DAT_COSTITUZIONE',\n",
    "                          'FLG_DEF_6M'],axis=1)\n",
    "y_train1 = db_train1['FLG_DEF_6M']"
   ]
  },
  {
   "cell_type": "code",
   "execution_count": 654,
   "metadata": {
    "collapsed": false
   },
   "outputs": [],
   "source": [
    "X_test1 = db_test1.drop(['ID','COD_PROVINCIA','COD_RAE','COD_SAE','DAT_COSTITUZIONE'],axis=1)"
   ]
  },
  {
   "cell_type": "code",
   "execution_count": 655,
   "metadata": {
    "collapsed": false
   },
   "outputs": [
    {
     "data": {
      "text/html": [
       "<div>\n",
       "<table border=\"1\" class=\"dataframe\">\n",
       "  <thead>\n",
       "    <tr style=\"text-align: right;\">\n",
       "      <th></th>\n",
       "      <th>COD_CAP</th>\n",
       "      <th>COD_ISTAT_ATECO_07</th>\n",
       "      <th>CBI201312_CREDITI</th>\n",
       "      <th>CBI201312_UTILE_PERDITA_ESERCIZIO</th>\n",
       "      <th>CBI201312_PATRIMONIO_NETTO</th>\n",
       "      <th>CBI201312_DEBITI_CONSOLIDATI</th>\n",
       "      <th>CBI201312_DEBITI_ENTRO_ES_SUCC</th>\n",
       "      <th>CBI201312_RICAVI_NETTI</th>\n",
       "      <th>CBI201312_ACQUISTI_NETTI</th>\n",
       "      <th>CBI201312_COSTI_SERVZ_BENI_TERZI</th>\n",
       "      <th>IMP_ACCORDATO</th>\n",
       "      <th>IMP_UTILIZZATO</th>\n",
       "      <th>IMP_VALORE_GARANZIA</th>\n",
       "    </tr>\n",
       "  </thead>\n",
       "  <tbody>\n",
       "    <tr>\n",
       "      <th>0</th>\n",
       "      <td>83013</td>\n",
       "      <td>41</td>\n",
       "      <td>-9999.0</td>\n",
       "      <td>-9999.0</td>\n",
       "      <td>-9999.0</td>\n",
       "      <td>-9999.0</td>\n",
       "      <td>-9999.0</td>\n",
       "      <td>-9999.0</td>\n",
       "      <td>-9999.0</td>\n",
       "      <td>-9999.0</td>\n",
       "      <td>0.0</td>\n",
       "      <td>135220.0</td>\n",
       "      <td>0.0</td>\n",
       "    </tr>\n",
       "    <tr>\n",
       "      <th>1</th>\n",
       "      <td>84131</td>\n",
       "      <td>47</td>\n",
       "      <td>-9999.0</td>\n",
       "      <td>-9999.0</td>\n",
       "      <td>-9999.0</td>\n",
       "      <td>-9999.0</td>\n",
       "      <td>-9999.0</td>\n",
       "      <td>-9999.0</td>\n",
       "      <td>-9999.0</td>\n",
       "      <td>-9999.0</td>\n",
       "      <td>844348.0</td>\n",
       "      <td>1054419.0</td>\n",
       "      <td>0.0</td>\n",
       "    </tr>\n",
       "    <tr>\n",
       "      <th>2</th>\n",
       "      <td>82030</td>\n",
       "      <td>11</td>\n",
       "      <td>-9999.0</td>\n",
       "      <td>-9999.0</td>\n",
       "      <td>-9999.0</td>\n",
       "      <td>-9999.0</td>\n",
       "      <td>-9999.0</td>\n",
       "      <td>-9999.0</td>\n",
       "      <td>-9999.0</td>\n",
       "      <td>-9999.0</td>\n",
       "      <td>0.0</td>\n",
       "      <td>332366.0</td>\n",
       "      <td>0.0</td>\n",
       "    </tr>\n",
       "    <tr>\n",
       "      <th>3</th>\n",
       "      <td>80133</td>\n",
       "      <td>41</td>\n",
       "      <td>-9999.0</td>\n",
       "      <td>-9999.0</td>\n",
       "      <td>-9999.0</td>\n",
       "      <td>-9999.0</td>\n",
       "      <td>-9999.0</td>\n",
       "      <td>-9999.0</td>\n",
       "      <td>-9999.0</td>\n",
       "      <td>-9999.0</td>\n",
       "      <td>0.0</td>\n",
       "      <td>51762483.0</td>\n",
       "      <td>0.0</td>\n",
       "    </tr>\n",
       "    <tr>\n",
       "      <th>4</th>\n",
       "      <td>72021</td>\n",
       "      <td>10</td>\n",
       "      <td>-9999.0</td>\n",
       "      <td>-9999.0</td>\n",
       "      <td>-9999.0</td>\n",
       "      <td>-9999.0</td>\n",
       "      <td>-9999.0</td>\n",
       "      <td>-9999.0</td>\n",
       "      <td>-9999.0</td>\n",
       "      <td>-9999.0</td>\n",
       "      <td>37562.0</td>\n",
       "      <td>34857.0</td>\n",
       "      <td>0.0</td>\n",
       "    </tr>\n",
       "  </tbody>\n",
       "</table>\n",
       "</div>"
      ],
      "text/plain": [
       "  COD_CAP COD_ISTAT_ATECO_07  CBI201312_CREDITI  \\\n",
       "0   83013                 41            -9999.0   \n",
       "1   84131                 47            -9999.0   \n",
       "2   82030                 11            -9999.0   \n",
       "3   80133                 41            -9999.0   \n",
       "4   72021                 10            -9999.0   \n",
       "\n",
       "   CBI201312_UTILE_PERDITA_ESERCIZIO  CBI201312_PATRIMONIO_NETTO  \\\n",
       "0                            -9999.0                     -9999.0   \n",
       "1                            -9999.0                     -9999.0   \n",
       "2                            -9999.0                     -9999.0   \n",
       "3                            -9999.0                     -9999.0   \n",
       "4                            -9999.0                     -9999.0   \n",
       "\n",
       "   CBI201312_DEBITI_CONSOLIDATI  CBI201312_DEBITI_ENTRO_ES_SUCC  \\\n",
       "0                       -9999.0                         -9999.0   \n",
       "1                       -9999.0                         -9999.0   \n",
       "2                       -9999.0                         -9999.0   \n",
       "3                       -9999.0                         -9999.0   \n",
       "4                       -9999.0                         -9999.0   \n",
       "\n",
       "   CBI201312_RICAVI_NETTI  CBI201312_ACQUISTI_NETTI  \\\n",
       "0                 -9999.0                   -9999.0   \n",
       "1                 -9999.0                   -9999.0   \n",
       "2                 -9999.0                   -9999.0   \n",
       "3                 -9999.0                   -9999.0   \n",
       "4                 -9999.0                   -9999.0   \n",
       "\n",
       "   CBI201312_COSTI_SERVZ_BENI_TERZI  IMP_ACCORDATO  IMP_UTILIZZATO  \\\n",
       "0                           -9999.0            0.0        135220.0   \n",
       "1                           -9999.0       844348.0       1054419.0   \n",
       "2                           -9999.0            0.0        332366.0   \n",
       "3                           -9999.0            0.0      51762483.0   \n",
       "4                           -9999.0        37562.0         34857.0   \n",
       "\n",
       "   IMP_VALORE_GARANZIA  \n",
       "0                  0.0  \n",
       "1                  0.0  \n",
       "2                  0.0  \n",
       "3                  0.0  \n",
       "4                  0.0  "
      ]
     },
     "execution_count": 655,
     "metadata": {},
     "output_type": "execute_result"
    }
   ],
   "source": [
    "X_train1.head()"
   ]
  },
  {
   "cell_type": "code",
   "execution_count": 656,
   "metadata": {
    "collapsed": false
   },
   "outputs": [
    {
     "data": {
      "text/html": [
       "<div>\n",
       "<table border=\"1\" class=\"dataframe\">\n",
       "  <thead>\n",
       "    <tr style=\"text-align: right;\">\n",
       "      <th></th>\n",
       "      <th>COD_CAP</th>\n",
       "      <th>COD_ISTAT_ATECO_07</th>\n",
       "      <th>CBI201312_CREDITI</th>\n",
       "      <th>CBI201312_UTILE_PERDITA_ESERCIZIO</th>\n",
       "      <th>CBI201312_PATRIMONIO_NETTO</th>\n",
       "      <th>CBI201312_DEBITI_CONSOLIDATI</th>\n",
       "      <th>CBI201312_DEBITI_ENTRO_ES_SUCC</th>\n",
       "      <th>CBI201312_RICAVI_NETTI</th>\n",
       "      <th>CBI201312_ACQUISTI_NETTI</th>\n",
       "      <th>CBI201312_COSTI_SERVZ_BENI_TERZI</th>\n",
       "      <th>IMP_ACCORDATO</th>\n",
       "      <th>IMP_UTILIZZATO</th>\n",
       "      <th>IMP_VALORE_GARANZIA</th>\n",
       "    </tr>\n",
       "  </thead>\n",
       "  <tbody>\n",
       "    <tr>\n",
       "      <th>0</th>\n",
       "      <td>16033</td>\n",
       "      <td>63</td>\n",
       "      <td>-9999.0</td>\n",
       "      <td>-9999.0</td>\n",
       "      <td>-9999.0</td>\n",
       "      <td>-9999.0</td>\n",
       "      <td>-9999.0</td>\n",
       "      <td>-9999.0</td>\n",
       "      <td>-9999.0</td>\n",
       "      <td>-9999.0</td>\n",
       "      <td>59982.0</td>\n",
       "      <td>59982.0</td>\n",
       "      <td>0.0</td>\n",
       "    </tr>\n",
       "    <tr>\n",
       "      <th>1</th>\n",
       "      <td>10090</td>\n",
       "      <td>26</td>\n",
       "      <td>-9999.0</td>\n",
       "      <td>-9999.0</td>\n",
       "      <td>-9999.0</td>\n",
       "      <td>-9999.0</td>\n",
       "      <td>-9999.0</td>\n",
       "      <td>-9999.0</td>\n",
       "      <td>-9999.0</td>\n",
       "      <td>-9999.0</td>\n",
       "      <td>388785.0</td>\n",
       "      <td>391500.0</td>\n",
       "      <td>0.0</td>\n",
       "    </tr>\n",
       "    <tr>\n",
       "      <th>2</th>\n",
       "      <td>34170</td>\n",
       "      <td>47</td>\n",
       "      <td>-9999.0</td>\n",
       "      <td>-9999.0</td>\n",
       "      <td>-9999.0</td>\n",
       "      <td>-9999.0</td>\n",
       "      <td>-9999.0</td>\n",
       "      <td>-9999.0</td>\n",
       "      <td>-9999.0</td>\n",
       "      <td>-9999.0</td>\n",
       "      <td>213293.0</td>\n",
       "      <td>211445.0</td>\n",
       "      <td>0.0</td>\n",
       "    </tr>\n",
       "    <tr>\n",
       "      <th>3</th>\n",
       "      <td>35044</td>\n",
       "      <td>31</td>\n",
       "      <td>125.0</td>\n",
       "      <td>32.0</td>\n",
       "      <td>-186.0</td>\n",
       "      <td>177.0</td>\n",
       "      <td>351.0</td>\n",
       "      <td>779.0</td>\n",
       "      <td>351.0</td>\n",
       "      <td>256.0</td>\n",
       "      <td>437243.0</td>\n",
       "      <td>374537.0</td>\n",
       "      <td>0.0</td>\n",
       "    </tr>\n",
       "    <tr>\n",
       "      <th>4</th>\n",
       "      <td>11017</td>\n",
       "      <td>41</td>\n",
       "      <td>51.0</td>\n",
       "      <td>74.0</td>\n",
       "      <td>-17.0</td>\n",
       "      <td>447.0</td>\n",
       "      <td>26.0</td>\n",
       "      <td>407.0</td>\n",
       "      <td>122.0</td>\n",
       "      <td>19.0</td>\n",
       "      <td>620000.0</td>\n",
       "      <td>0.0</td>\n",
       "      <td>0.0</td>\n",
       "    </tr>\n",
       "  </tbody>\n",
       "</table>\n",
       "</div>"
      ],
      "text/plain": [
       "  COD_CAP COD_ISTAT_ATECO_07  CBI201312_CREDITI  \\\n",
       "0   16033                 63            -9999.0   \n",
       "1   10090                 26            -9999.0   \n",
       "2   34170                 47            -9999.0   \n",
       "3   35044                 31              125.0   \n",
       "4   11017                 41               51.0   \n",
       "\n",
       "   CBI201312_UTILE_PERDITA_ESERCIZIO  CBI201312_PATRIMONIO_NETTO  \\\n",
       "0                            -9999.0                     -9999.0   \n",
       "1                            -9999.0                     -9999.0   \n",
       "2                            -9999.0                     -9999.0   \n",
       "3                               32.0                      -186.0   \n",
       "4                               74.0                       -17.0   \n",
       "\n",
       "   CBI201312_DEBITI_CONSOLIDATI  CBI201312_DEBITI_ENTRO_ES_SUCC  \\\n",
       "0                       -9999.0                         -9999.0   \n",
       "1                       -9999.0                         -9999.0   \n",
       "2                       -9999.0                         -9999.0   \n",
       "3                         177.0                           351.0   \n",
       "4                         447.0                            26.0   \n",
       "\n",
       "   CBI201312_RICAVI_NETTI  CBI201312_ACQUISTI_NETTI  \\\n",
       "0                 -9999.0                   -9999.0   \n",
       "1                 -9999.0                   -9999.0   \n",
       "2                 -9999.0                   -9999.0   \n",
       "3                   779.0                     351.0   \n",
       "4                   407.0                     122.0   \n",
       "\n",
       "   CBI201312_COSTI_SERVZ_BENI_TERZI  IMP_ACCORDATO  IMP_UTILIZZATO  \\\n",
       "0                           -9999.0        59982.0         59982.0   \n",
       "1                           -9999.0       388785.0        391500.0   \n",
       "2                           -9999.0       213293.0        211445.0   \n",
       "3                             256.0       437243.0        374537.0   \n",
       "4                              19.0       620000.0             0.0   \n",
       "\n",
       "   IMP_VALORE_GARANZIA  \n",
       "0                  0.0  \n",
       "1                  0.0  \n",
       "2                  0.0  \n",
       "3                  0.0  \n",
       "4                  0.0  "
      ]
     },
     "execution_count": 656,
     "metadata": {},
     "output_type": "execute_result"
    }
   ],
   "source": [
    "X_test1.head()"
   ]
  },
  {
   "cell_type": "markdown",
   "metadata": {},
   "source": [
    "Provo un Random Forest con 500 alberi e profondita' pari a 5:"
   ]
  },
  {
   "cell_type": "code",
   "execution_count": 577,
   "metadata": {
    "collapsed": false
   },
   "outputs": [],
   "source": [
    "from sklearn import ensemble"
   ]
  },
  {
   "cell_type": "code",
   "execution_count": 578,
   "metadata": {
    "collapsed": false
   },
   "outputs": [
    {
     "data": {
      "text/plain": [
       "RandomForestClassifier(bootstrap=True, class_weight=None, criterion='gini',\n",
       "            max_depth=5, max_features='auto', max_leaf_nodes=None,\n",
       "            min_samples_leaf=1, min_samples_split=2,\n",
       "            min_weight_fraction_leaf=0.0, n_estimators=500, n_jobs=1,\n",
       "            oob_score=False, random_state=0, verbose=0, warm_start=False)"
      ]
     },
     "execution_count": 578,
     "metadata": {},
     "output_type": "execute_result"
    }
   ],
   "source": [
    "model = ensemble.RandomForestClassifier(n_estimators=500, max_depth=5, random_state=0)\n",
    "model.fit(X_train1, y_train1)"
   ]
  },
  {
   "cell_type": "markdown",
   "metadata": {},
   "source": [
    "Importanza delle variabili per il modello:"
   ]
  },
  {
   "cell_type": "code",
   "execution_count": 579,
   "metadata": {
    "collapsed": false
   },
   "outputs": [
    {
     "data": {
      "text/plain": [
       "array([ 0.00916881,  0.01194457,  0.01057256,  0.12246786,  0.07817593,\n",
       "        0.01575189,  0.0412534 ,  0.09167416,  0.0290908 ,  0.03925296,\n",
       "        0.49209021,  0.05448264,  0.00407421])"
      ]
     },
     "execution_count": 579,
     "metadata": {},
     "output_type": "execute_result"
    }
   ],
   "source": [
    "model.feature_importances_"
   ]
  },
  {
   "cell_type": "markdown",
   "metadata": {},
   "source": [
    "Predizione sul dataset di test:"
   ]
  },
  {
   "cell_type": "code",
   "execution_count": 580,
   "metadata": {
    "collapsed": false
   },
   "outputs": [],
   "source": [
    "y_test1 = model.predict(X_test1)"
   ]
  },
  {
   "cell_type": "markdown",
   "metadata": {},
   "source": [
    "Valuto la bonta' del modello tramite ROC:"
   ]
  },
  {
   "cell_type": "code",
   "execution_count": 581,
   "metadata": {
    "collapsed": true
   },
   "outputs": [],
   "source": [
    "from sklearn.metrics import roc_curve, auc"
   ]
  },
  {
   "cell_type": "code",
   "execution_count": 582,
   "metadata": {
    "collapsed": true
   },
   "outputs": [],
   "source": [
    "y_test1_prob = model.predict_proba(X_test1)"
   ]
  },
  {
   "cell_type": "code",
   "execution_count": 583,
   "metadata": {
    "collapsed": true
   },
   "outputs": [],
   "source": [
    "db_result = pd.read_csv('CONTEST_TEST_RESULTS_AN_PRIVATO.csv',dtype={'FLAG_DEF_6M': np.int})"
   ]
  },
  {
   "cell_type": "code",
   "execution_count": 584,
   "metadata": {
    "collapsed": false
   },
   "outputs": [
    {
     "data": {
      "text/html": [
       "<div>\n",
       "<table border=\"1\" class=\"dataframe\">\n",
       "  <thead>\n",
       "    <tr style=\"text-align: right;\">\n",
       "      <th></th>\n",
       "      <th>ID</th>\n",
       "      <th>FLG_DEF_6M</th>\n",
       "    </tr>\n",
       "  </thead>\n",
       "  <tbody>\n",
       "    <tr>\n",
       "      <th>0</th>\n",
       "      <td>66812</td>\n",
       "      <td>0</td>\n",
       "    </tr>\n",
       "    <tr>\n",
       "      <th>1</th>\n",
       "      <td>66813</td>\n",
       "      <td>0</td>\n",
       "    </tr>\n",
       "    <tr>\n",
       "      <th>2</th>\n",
       "      <td>66814</td>\n",
       "      <td>0</td>\n",
       "    </tr>\n",
       "    <tr>\n",
       "      <th>3</th>\n",
       "      <td>66815</td>\n",
       "      <td>0</td>\n",
       "    </tr>\n",
       "    <tr>\n",
       "      <th>4</th>\n",
       "      <td>66816</td>\n",
       "      <td>0</td>\n",
       "    </tr>\n",
       "  </tbody>\n",
       "</table>\n",
       "</div>"
      ],
      "text/plain": [
       "      ID  FLG_DEF_6M\n",
       "0  66812           0\n",
       "1  66813           0\n",
       "2  66814           0\n",
       "3  66815           0\n",
       "4  66816           0"
      ]
     },
     "execution_count": 584,
     "metadata": {},
     "output_type": "execute_result"
    }
   ],
   "source": [
    "db_result.head()"
   ]
  },
  {
   "cell_type": "code",
   "execution_count": 585,
   "metadata": {
    "collapsed": false
   },
   "outputs": [
    {
     "data": {
      "text/plain": [
       "0.81302080046030778"
      ]
     },
     "execution_count": 585,
     "metadata": {},
     "output_type": "execute_result"
    }
   ],
   "source": [
    "metrics.roc_auc_score(db_result['FLG_DEF_6M'].tolist(), y_test1_prob[:,1])"
   ]
  },
  {
   "cell_type": "markdown",
   "metadata": {},
   "source": [
    "Provo ad aumentare la profondita' del Random Forest per aumentare la ROC:"
   ]
  },
  {
   "cell_type": "code",
   "execution_count": 586,
   "metadata": {
    "collapsed": false
   },
   "outputs": [
    {
     "data": {
      "text/plain": [
       "RandomForestClassifier(bootstrap=True, class_weight=None, criterion='gini',\n",
       "            max_depth=12, max_features='auto', max_leaf_nodes=None,\n",
       "            min_samples_leaf=1, min_samples_split=2,\n",
       "            min_weight_fraction_leaf=0.0, n_estimators=500, n_jobs=1,\n",
       "            oob_score=False, random_state=0, verbose=0, warm_start=False)"
      ]
     },
     "execution_count": 586,
     "metadata": {},
     "output_type": "execute_result"
    }
   ],
   "source": [
    "model_2 = ensemble.RandomForestClassifier(n_estimators=500, max_depth=12, random_state=0)\n",
    "model_2.fit(X_train1, y_train1)"
   ]
  },
  {
   "cell_type": "code",
   "execution_count": 587,
   "metadata": {
    "collapsed": false
   },
   "outputs": [
    {
     "data": {
      "text/plain": [
       "array([ 0.03915876,  0.02767022,  0.0327495 ,  0.09230447,  0.06629541,\n",
       "        0.03312125,  0.0711647 ,  0.08147866,  0.03543657,  0.04849573,\n",
       "        0.37665565,  0.08411728,  0.01135179])"
      ]
     },
     "execution_count": 587,
     "metadata": {},
     "output_type": "execute_result"
    }
   ],
   "source": [
    "model_2.feature_importances_"
   ]
  },
  {
   "cell_type": "code",
   "execution_count": 588,
   "metadata": {
    "collapsed": false
   },
   "outputs": [
    {
     "data": {
      "text/plain": [
       "0.86506512956681236"
      ]
     },
     "execution_count": 588,
     "metadata": {},
     "output_type": "execute_result"
    }
   ],
   "source": [
    "y_test1 = model_2.predict(X_test1)\n",
    "y_test1_prob = model_2.predict_proba(X_test1)\n",
    "metrics.roc_auc_score(db_result['FLG_DEF_6M'].tolist(), y_test1_prob[:,1])"
   ]
  },
  {
   "cell_type": "code",
   "execution_count": 606,
   "metadata": {
    "collapsed": false
   },
   "outputs": [
    {
     "data": {
      "image/png": "[encoded data removed]",
      "text/plain": [
       "<matplotlib.figure.Figure at 0x7fd42015d650>"
      ]
     },
     "metadata": {},
     "output_type": "display_data"
    }
   ],
   "source": [
    "fpr, tpr, _ = roc_curve(db_result['FLG_DEF_6M'].tolist(),y_test1_prob[:,1])\n",
    "roc_auc = auc(fpr,tpr)\n",
    "plt.plot(fpr,tpr,color='Red',label = 'Roc = %0.5f' % roc_auc)\n",
    "plt.plot([0,1],[0,1],color='black')\n",
    "plt.legend (loc='lower right')\n",
    "plt.show()"
   ]
  },
  {
   "cell_type": "code",
   "execution_count": 464,
   "metadata": {
    "collapsed": false
   },
   "outputs": [],
   "source": [
    "from sklearn import cross_validation"
   ]
  },
  {
   "cell_type": "code",
   "execution_count": 465,
   "metadata": {
    "collapsed": false
   },
   "outputs": [
    {
     "data": {
      "text/plain": [
       "array([ 0.9103241 ,  0.87932525,  0.89661981,  0.85819539,  0.79678149])"
      ]
     },
     "execution_count": 465,
     "metadata": {},
     "output_type": "execute_result"
    }
   ],
   "source": [
    "cross_validation.cross_val_score(model,X_train1,y_train1,cv=5,scoring='roc_auc')"
   ]
  },
  {
   "cell_type": "markdown",
   "metadata": {},
   "source": [
    "Creo un secondo training set elimando le variabili correlate:"
   ]
  },
  {
   "cell_type": "code",
   "execution_count": 611,
   "metadata": {
    "collapsed": false
   },
   "outputs": [
    {
     "data": {
      "text/plain": [
       "Index([u'ID', u'COD_CAP', u'COD_PROVINCIA', u'DAT_COSTITUZIONE', u'COD_RAE',\n",
       "       u'COD_SAE', u'COD_ISTAT_ATECO_07', u'FLG_DEF_6M', u'CBI201312_CREDITI',\n",
       "       u'CBI201312_UTILE_PERDITA_ESERCIZIO', u'CBI201312_PATRIMONIO_NETTO',\n",
       "       u'CBI201312_DEBITI_CONSOLIDATI', u'CBI201312_DEBITI_ENTRO_ES_SUCC',\n",
       "       u'CBI201312_RICAVI_NETTI', u'CBI201312_ACQUISTI_NETTI',\n",
       "       u'CBI201312_COSTI_SERVZ_BENI_TERZI', u'IMP_ACCORDATO',\n",
       "       u'IMP_UTILIZZATO', u'IMP_VALORE_GARANZIA'],\n",
       "      dtype='object')"
      ]
     },
     "execution_count": 611,
     "metadata": {},
     "output_type": "execute_result"
    }
   ],
   "source": [
    "db_train1.columns"
   ]
  },
  {
   "cell_type": "code",
   "execution_count": 612,
   "metadata": {
    "collapsed": true
   },
   "outputs": [],
   "source": [
    "X_train2 = db_train1.drop(['ID','COD_PROVINCIA','COD_RAE','COD_SAE','DAT_COSTITUZIONE',\n",
    "                          'FLG_DEF_6M','CBI201312_DEBITI_ENTRO_ES_SUCC',\n",
    "                          'CBI201312_RICAVI_NETTI','CBI201312_ACQUISTI_NETTI'],axis=1)\n",
    "y_train2 = db_train1['FLG_DEF_6M']"
   ]
  },
  {
   "cell_type": "code",
   "execution_count": 614,
   "metadata": {
    "collapsed": true
   },
   "outputs": [],
   "source": [
    "X_test2 = db_test1.drop(['ID','COD_PROVINCIA','COD_RAE','COD_SAE','DAT_COSTITUZIONE',\n",
    "                        'CBI201312_DEBITI_ENTRO_ES_SUCC','CBI201312_RICAVI_NETTI',\n",
    "                         'CBI201312_ACQUISTI_NETTI'],axis=1)"
   ]
  },
  {
   "cell_type": "markdown",
   "metadata": {},
   "source": [
    "Provo il modello sul nuovo training set:"
   ]
  },
  {
   "cell_type": "code",
   "execution_count": 615,
   "metadata": {
    "collapsed": false
   },
   "outputs": [
    {
     "data": {
      "text/plain": [
       "RandomForestClassifier(bootstrap=True, class_weight=None, criterion='gini',\n",
       "            max_depth=12, max_features='auto', max_leaf_nodes=None,\n",
       "            min_samples_leaf=1, min_samples_split=2,\n",
       "            min_weight_fraction_leaf=0.0, n_estimators=500, n_jobs=1,\n",
       "            oob_score=False, random_state=0, verbose=0, warm_start=False)"
      ]
     },
     "execution_count": 615,
     "metadata": {},
     "output_type": "execute_result"
    }
   ],
   "source": [
    "model_2 = ensemble.RandomForestClassifier(n_estimators=500, max_depth=12, random_state=0)\n",
    "model_2.fit(X_train2, y_train2)"
   ]
  },
  {
   "cell_type": "code",
   "execution_count": 616,
   "metadata": {
    "collapsed": false
   },
   "outputs": [
    {
     "data": {
      "text/plain": [
       "array([ 0.0495432 ,  0.03348896,  0.04029808,  0.11701111,  0.0814384 ,\n",
       "        0.04416971,  0.06276998,  0.44772994,  0.10898717,  0.01456346])"
      ]
     },
     "execution_count": 616,
     "metadata": {},
     "output_type": "execute_result"
    }
   ],
   "source": [
    "model_2.feature_importances_"
   ]
  },
  {
   "cell_type": "code",
   "execution_count": 617,
   "metadata": {
    "collapsed": false
   },
   "outputs": [
    {
     "data": {
      "text/plain": [
       "0.85230752125034681"
      ]
     },
     "execution_count": 617,
     "metadata": {},
     "output_type": "execute_result"
    }
   ],
   "source": [
    "y_test2 = model_2.predict(X_test2)\n",
    "y_test2_prob = model_2.predict_proba(X_test2)\n",
    "metrics.roc_auc_score(db_result['FLG_DEF_6M'].tolist(), y_test2_prob[:,1])"
   ]
  },
  {
   "cell_type": "markdown",
   "metadata": {},
   "source": [
    "Provo un ulteriore modello:"
   ]
  },
  {
   "cell_type": "code",
   "execution_count": 618,
   "metadata": {
    "collapsed": true
   },
   "outputs": [],
   "source": [
    "from sklearn import svm"
   ]
  },
  {
   "cell_type": "code",
   "execution_count": null,
   "metadata": {
    "collapsed": true
   },
   "outputs": [],
   "source": [
    "model_3 = svm.SVC(kernel='linear', C=0.1)\n",
    "model_3.fit(X_train1, y_train1)"
   ]
  },
  {
   "cell_type": "code",
   "execution_count": null,
   "metadata": {
    "collapsed": true
   },
   "outputs": [],
   "source": [
    "model_4 = svm.SVC(kernel='rbf', gamma=10., C=1.)\n",
    "model_4.fit(X_train1, y_train1)"
   ]
  },
  {
   "cell_type": "code",
   "execution_count": null,
   "metadata": {
    "collapsed": true
   },
   "outputs": [],
   "source": [
    "gs = grid_search.GridSearchCV(model_3, {'C': np.logspace(0,2,10)}, cv=10)\n",
    "gs.fit(X_train1, y_train1)\n",
    "print \"best params:\" , gs.best_params_"
   ]
  },
  {
   "cell_type": "markdown",
   "metadata": {},
   "source": [
    "Sostituisco i valori mancanti con la media:"
   ]
  },
  {
   "cell_type": "code",
   "execution_count": null,
   "metadata": {
    "collapsed": true
   },
   "outputs": [],
   "source": [
    "db_train2['CBI201312_CREDITI']=db_train2['CBI201312_CREDITI'].replace(np.nan,np.)\n",
    "db_train1['CBI201312_UTILE_PERDITA_ESERCIZIO']=db_train1['CBI201312_UTILE_PERDITA_ESERCIZIO'].replace(np.nan,-9999)\n",
    "db_train1['CBI201312_PATRIMONIO_NETTO']=db_train1['CBI201312_PATRIMONIO_NETTO'].replace(np.nan,-9999)\n",
    "db_train1['CBI201312_DEBITI_CONSOLIDATI']=db_train1['CBI201312_DEBITI_CONSOLIDATI'].replace(np.nan,-9999)\n",
    "db_train1['CBI201312_DEBITI_ENTRO_ES_SUCC']=db_train1['CBI201312_DEBITI_ENTRO_ES_SUCC'].replace(np.nan,-9999)\n",
    "db_train1['CBI201312_RICAVI_NETTI']=db_train1['CBI201312_RICAVI_NETTI'].replace(np.nan,-9999)\n",
    "db_train1['CBI201312_ACQUISTI_NETTI']=db_train1['CBI201312_ACQUISTI_NETTI'].replace(np.nan,-9999)\n",
    "db_train1['CBI201312_COSTI_SERVZ_BENI_TERZI']=db_train1['CBI201312_COSTI_SERVZ_BENI_TERZI'].replace(np.nan,-9999)"
   ]
  }
 ],
 "metadata": {
  "kernelspec": {
   "display_name": "Python [Root]",
   "language": "python",
   "name": "Python [Root]"
  },
  "language_info": {
   "codemirror_mode": {
    "name": "ipython",
    "version": 2
   },
   "file_extension": ".py",
   "mimetype": "text/x-python",
   "name": "python",
   "nbconvert_exporter": "python",
   "pygments_lexer": "ipython2",
   "version": "2.7.12"
  }
 },
 "nbformat": 4,
 "nbformat_minor": 0
}

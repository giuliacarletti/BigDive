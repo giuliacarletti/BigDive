{
 "cells": [
  {
   "cell_type": "markdown",
   "metadata": {},
   "source": [
    "<center>\n",
    "<h1>\n",
    "Big Dive - Project Work Finale\n",
    "</h1>\n",
    "\n",
    "<h2>\n",
    "Applicazione Machine Learning\n",
    "</h2>\n",
    "\n",
    "</center>\n",
    "\n",
    "<p>\n",
    "<center>\n",
    "Angelica Castellano, Giuseppe D'Agostino, Stefania Piosso, Marco Vita\n",
    "</center>\n",
    "</p>"
   ]
  },
  {
   "cell_type": "markdown",
   "metadata": {},
   "source": [
    "# Agenda\n",
    "\n",
    "- Esplorazione del training set\n",
    "- Lettura e feature engineering\n",
    "- Analisi descrittiva dei dati\n",
    "- Trasformazione del dataset\n",
    "- Applicazione del modello di Random Forest\n",
    "- Verifica del modello\n",
    "- Miglioramento del modello\n"
   ]
  },
  {
   "cell_type": "markdown",
   "metadata": {},
   "source": [
    "## Esplorazione del training set"
   ]
  },
  {
   "cell_type": "markdown",
   "metadata": {},
   "source": [
    "Import librerie:"
   ]
  },
  {
   "cell_type": "code",
   "execution_count": 1,
   "metadata": {
    "collapsed": false
   },
   "outputs": [
    {
     "name": "stdout",
     "output_type": "stream",
     "text": [
      "Populating the interactive namespace from numpy and matplotlib\n"
     ]
    }
   ],
   "source": [
    "%pylab inline"
   ]
  },
  {
   "cell_type": "code",
   "execution_count": 2,
   "metadata": {
    "collapsed": true
   },
   "outputs": [],
   "source": [
    "import pandas as pd"
   ]
  },
  {
   "cell_type": "markdown",
   "metadata": {},
   "source": [
    "Importo il dataset di training:"
   ]
  },
  {
   "cell_type": "code",
   "execution_count": 3,
   "metadata": {
    "collapsed": false
   },
   "outputs": [],
   "source": [
    "db_train = pd.read_csv('CONTEST_TRAINING_SET_PUBBLICO.CSV')"
   ]
  },
  {
   "cell_type": "code",
   "execution_count": 4,
   "metadata": {
    "collapsed": false
   },
   "outputs": [
    {
     "data": {
      "text/html": [
       "<div>\n",
       "<table border=\"1\" class=\"dataframe\">\n",
       "  <thead>\n",
       "    <tr style=\"text-align: right;\">\n",
       "      <th></th>\n",
       "      <th>ID</th>\n",
       "      <th>COD_CAP</th>\n",
       "      <th>COD_PROVINCIA</th>\n",
       "      <th>DAT_COSTITUZIONE</th>\n",
       "      <th>COD_RAE</th>\n",
       "      <th>COD_SAE</th>\n",
       "      <th>COD_ISTAT_ATECO_07</th>\n",
       "      <th>FLG_DEF_6M</th>\n",
       "      <th>CBI201312_CREDITI</th>\n",
       "      <th>CBI201312_UTILE_PERDITA_ESERCIZIO</th>\n",
       "      <th>CBI201312_PATRIMONIO_NETTO</th>\n",
       "      <th>CBI201312_DEBITI_CONSOLIDATI</th>\n",
       "      <th>CBI201312_DEBITI_ENTRO_ES_SUCC</th>\n",
       "      <th>CBI201312_RICAVI_NETTI</th>\n",
       "      <th>CBI201312_ACQUISTI_NETTI</th>\n",
       "      <th>CBI201312_COSTI_SERVZ_BENI_TERZI</th>\n",
       "      <th>IMP_ACCORDATO</th>\n",
       "      <th>IMP_UTILIZZATO</th>\n",
       "      <th>IMP_VALORE_GARANZIA</th>\n",
       "    </tr>\n",
       "  </thead>\n",
       "  <tbody>\n",
       "    <tr>\n",
       "      <th>0</th>\n",
       "      <td>1</td>\n",
       "      <td>83013.0</td>\n",
       "      <td>AV</td>\n",
       "      <td>1977.0</td>\n",
       "      <td>243</td>\n",
       "      <td>430</td>\n",
       "      <td>4120.0</td>\n",
       "      <td>1</td>\n",
       "      <td>NaN</td>\n",
       "      <td>NaN</td>\n",
       "      <td>NaN</td>\n",
       "      <td>NaN</td>\n",
       "      <td>NaN</td>\n",
       "      <td>NaN</td>\n",
       "      <td>NaN</td>\n",
       "      <td>NaN</td>\n",
       "      <td>0.0</td>\n",
       "      <td>135220.0</td>\n",
       "      <td>0.0</td>\n",
       "    </tr>\n",
       "    <tr>\n",
       "      <th>1</th>\n",
       "      <td>2</td>\n",
       "      <td>84131.0</td>\n",
       "      <td>SA</td>\n",
       "      <td>1984.0</td>\n",
       "      <td>614</td>\n",
       "      <td>492</td>\n",
       "      <td>4719.0</td>\n",
       "      <td>1</td>\n",
       "      <td>NaN</td>\n",
       "      <td>NaN</td>\n",
       "      <td>NaN</td>\n",
       "      <td>NaN</td>\n",
       "      <td>NaN</td>\n",
       "      <td>NaN</td>\n",
       "      <td>NaN</td>\n",
       "      <td>NaN</td>\n",
       "      <td>844348.0</td>\n",
       "      <td>1054419.0</td>\n",
       "      <td>0.0</td>\n",
       "    </tr>\n",
       "    <tr>\n",
       "      <th>2</th>\n",
       "      <td>3</td>\n",
       "      <td>82030.0</td>\n",
       "      <td>BN</td>\n",
       "      <td>1952.0</td>\n",
       "      <td>12</td>\n",
       "      <td>430</td>\n",
       "      <td>11021.0</td>\n",
       "      <td>1</td>\n",
       "      <td>NaN</td>\n",
       "      <td>NaN</td>\n",
       "      <td>NaN</td>\n",
       "      <td>NaN</td>\n",
       "      <td>NaN</td>\n",
       "      <td>NaN</td>\n",
       "      <td>NaN</td>\n",
       "      <td>NaN</td>\n",
       "      <td>0.0</td>\n",
       "      <td>332366.0</td>\n",
       "      <td>0.0</td>\n",
       "    </tr>\n",
       "    <tr>\n",
       "      <th>3</th>\n",
       "      <td>4</td>\n",
       "      <td>80133.0</td>\n",
       "      <td>NaN</td>\n",
       "      <td>1982.0</td>\n",
       "      <td>830</td>\n",
       "      <td>430</td>\n",
       "      <td>4120.0</td>\n",
       "      <td>1</td>\n",
       "      <td>NaN</td>\n",
       "      <td>NaN</td>\n",
       "      <td>NaN</td>\n",
       "      <td>NaN</td>\n",
       "      <td>NaN</td>\n",
       "      <td>NaN</td>\n",
       "      <td>NaN</td>\n",
       "      <td>NaN</td>\n",
       "      <td>0.0</td>\n",
       "      <td>51762483.0</td>\n",
       "      <td>0.0</td>\n",
       "    </tr>\n",
       "    <tr>\n",
       "      <th>4</th>\n",
       "      <td>5</td>\n",
       "      <td>72021.0</td>\n",
       "      <td>BR</td>\n",
       "      <td>1989.0</td>\n",
       "      <td>419</td>\n",
       "      <td>482</td>\n",
       "      <td>10711.0</td>\n",
       "      <td>0</td>\n",
       "      <td>NaN</td>\n",
       "      <td>NaN</td>\n",
       "      <td>NaN</td>\n",
       "      <td>NaN</td>\n",
       "      <td>NaN</td>\n",
       "      <td>NaN</td>\n",
       "      <td>NaN</td>\n",
       "      <td>NaN</td>\n",
       "      <td>37562.0</td>\n",
       "      <td>34857.0</td>\n",
       "      <td>0.0</td>\n",
       "    </tr>\n",
       "  </tbody>\n",
       "</table>\n",
       "</div>"
      ],
      "text/plain": [
       "   ID  COD_CAP COD_PROVINCIA  DAT_COSTITUZIONE  COD_RAE  COD_SAE  \\\n",
       "0   1  83013.0            AV            1977.0      243      430   \n",
       "1   2  84131.0            SA            1984.0      614      492   \n",
       "2   3  82030.0            BN            1952.0       12      430   \n",
       "3   4  80133.0           NaN            1982.0      830      430   \n",
       "4   5  72021.0            BR            1989.0      419      482   \n",
       "\n",
       "   COD_ISTAT_ATECO_07  FLG_DEF_6M  CBI201312_CREDITI  \\\n",
       "0              4120.0           1                NaN   \n",
       "1              4719.0           1                NaN   \n",
       "2             11021.0           1                NaN   \n",
       "3              4120.0           1                NaN   \n",
       "4             10711.0           0                NaN   \n",
       "\n",
       "   CBI201312_UTILE_PERDITA_ESERCIZIO  CBI201312_PATRIMONIO_NETTO  \\\n",
       "0                                NaN                         NaN   \n",
       "1                                NaN                         NaN   \n",
       "2                                NaN                         NaN   \n",
       "3                                NaN                         NaN   \n",
       "4                                NaN                         NaN   \n",
       "\n",
       "   CBI201312_DEBITI_CONSOLIDATI  CBI201312_DEBITI_ENTRO_ES_SUCC  \\\n",
       "0                           NaN                             NaN   \n",
       "1                           NaN                             NaN   \n",
       "2                           NaN                             NaN   \n",
       "3                           NaN                             NaN   \n",
       "4                           NaN                             NaN   \n",
       "\n",
       "   CBI201312_RICAVI_NETTI  CBI201312_ACQUISTI_NETTI  \\\n",
       "0                     NaN                       NaN   \n",
       "1                     NaN                       NaN   \n",
       "2                     NaN                       NaN   \n",
       "3                     NaN                       NaN   \n",
       "4                     NaN                       NaN   \n",
       "\n",
       "   CBI201312_COSTI_SERVZ_BENI_TERZI  IMP_ACCORDATO  IMP_UTILIZZATO  \\\n",
       "0                               NaN            0.0        135220.0   \n",
       "1                               NaN       844348.0       1054419.0   \n",
       "2                               NaN            0.0        332366.0   \n",
       "3                               NaN            0.0      51762483.0   \n",
       "4                               NaN        37562.0         34857.0   \n",
       "\n",
       "   IMP_VALORE_GARANZIA  \n",
       "0                  0.0  \n",
       "1                  0.0  \n",
       "2                  0.0  \n",
       "3                  0.0  \n",
       "4                  0.0  "
      ]
     },
     "execution_count": 4,
     "metadata": {},
     "output_type": "execute_result"
    }
   ],
   "source": [
    "db_train.head()"
   ]
  },
  {
   "cell_type": "markdown",
   "metadata": {},
   "source": [
    "## Lettura del dataset e feature engineering"
   ]
  },
  {
   "cell_type": "markdown",
   "metadata": {},
   "source": [
    "E' necessaria la definizione dei formati per visualizzare e trattare correttamente i valori:"
   ]
  },
  {
   "cell_type": "code",
   "execution_count": 5,
   "metadata": {
    "collapsed": false
   },
   "outputs": [],
   "source": [
    "db_train=pd.read_csv('CONTEST_TRAINING_SET_PUBBLICO.CSV',\n",
    "               dtype={'COD_CAP': object,\n",
    "                      'COD_PROVINCIA': object,\n",
    "                      'DAT_COSTITUZIONE': object,\n",
    "                      'COD_RAE': object,\n",
    "                      'COD_SAE': object,\n",
    "                      'COD_ISTAT_ATECO_07': object,\n",
    "                      'FLAG_DEF_6M': np.int,\n",
    "                      'CBI201312_CREDITI': np.float64,\n",
    "                      'CBI201312_UTILE_PERDITA_ESERCIZIO':np.float64,\n",
    "                      'CBI201312_PATRIMONIO_NETTO':np.float64,\n",
    "                      'CBI201312_DEBITI_CONSOLIDATI':np.float64,\n",
    "                      'CBI201312_DEBITI_ENTRO_ES_SUCC':np.float64,\n",
    "                      'CBI201312_RICAVI_NETTI':np.float64,\n",
    "                      'CBI201312_ACQUISTI_NETTI':np.float64,\n",
    "                      'CBI201312_COSTI_SERVZ_BENI_TERZI':np.float64,\n",
    "                      'IMP_ACCORDATO':np.float64,\n",
    "                      'IMP_UTILIZZATO':np.float64,\n",
    "                      'IMP_VALORE_GARANZIA':np.float64})"
   ]
  },
  {
   "cell_type": "markdown",
   "metadata": {},
   "source": [
    "Applico la stessa formattazione anche ai campi dei dataset di test:"
   ]
  },
  {
   "cell_type": "code",
   "execution_count": 6,
   "metadata": {
    "collapsed": false
   },
   "outputs": [],
   "source": [
    "db_test=pd.read_csv('CONTEST_TEST_SET_PUBBLICO.csv',\n",
    "               dtype={'COD_CAP': object,\n",
    "                      'COD_PROVINCIA': object,\n",
    "                      'DAT_COSTITUZIONE': object,\n",
    "                      'COD_RAE': object,\n",
    "                      'COD_SAE': object,\n",
    "                      'COD_ISTAT_ATECO_07': object,\n",
    "                      'FLAG_DEF_6M': np.int,\n",
    "                      'CBI201312_CREDITI': np.float64,\n",
    "                      'CBI201312_UTILE_PERDITA_ESERCIZIO':np.float64,\n",
    "                      'CBI201312_PATRIMONIO_NETTO':np.float64,\n",
    "                      'CBI201312_DEBITI_CONSOLIDATI':np.float64,\n",
    "                      'CBI201312_DEBITI_ENTRO_ES_SUCC':np.float64,\n",
    "                      'CBI201312_RICAVI_NETTI':np.float64,\n",
    "                      'CBI201312_ACQUISTI_NETTI':np.float64,\n",
    "                      'CBI201312_COSTI_SERVZ_BENI_TERZI':np.float64,\n",
    "                      'IMP_ACCORDATO':np.float64,\n",
    "                      'IMP_UTILIZZATO':np.float64,\n",
    "                      'IMP_VALORE_GARANZIA':np.float64})"
   ]
  },
  {
   "cell_type": "code",
   "execution_count": 7,
   "metadata": {
    "collapsed": false
   },
   "outputs": [
    {
     "data": {
      "text/html": [
       "<div>\n",
       "<table border=\"1\" class=\"dataframe\">\n",
       "  <thead>\n",
       "    <tr style=\"text-align: right;\">\n",
       "      <th></th>\n",
       "      <th>ID</th>\n",
       "      <th>COD_CAP</th>\n",
       "      <th>COD_PROVINCIA</th>\n",
       "      <th>DAT_COSTITUZIONE</th>\n",
       "      <th>COD_RAE</th>\n",
       "      <th>COD_SAE</th>\n",
       "      <th>COD_ISTAT_ATECO_07</th>\n",
       "      <th>FLG_DEF_6M</th>\n",
       "      <th>CBI201312_CREDITI</th>\n",
       "      <th>CBI201312_UTILE_PERDITA_ESERCIZIO</th>\n",
       "      <th>CBI201312_PATRIMONIO_NETTO</th>\n",
       "      <th>CBI201312_DEBITI_CONSOLIDATI</th>\n",
       "      <th>CBI201312_DEBITI_ENTRO_ES_SUCC</th>\n",
       "      <th>CBI201312_RICAVI_NETTI</th>\n",
       "      <th>CBI201312_ACQUISTI_NETTI</th>\n",
       "      <th>CBI201312_COSTI_SERVZ_BENI_TERZI</th>\n",
       "      <th>IMP_ACCORDATO</th>\n",
       "      <th>IMP_UTILIZZATO</th>\n",
       "      <th>IMP_VALORE_GARANZIA</th>\n",
       "    </tr>\n",
       "  </thead>\n",
       "  <tbody>\n",
       "    <tr>\n",
       "      <th>0</th>\n",
       "      <td>1</td>\n",
       "      <td>83013</td>\n",
       "      <td>AV</td>\n",
       "      <td>1977.0</td>\n",
       "      <td>243</td>\n",
       "      <td>430</td>\n",
       "      <td>4120</td>\n",
       "      <td>1</td>\n",
       "      <td>NaN</td>\n",
       "      <td>NaN</td>\n",
       "      <td>NaN</td>\n",
       "      <td>NaN</td>\n",
       "      <td>NaN</td>\n",
       "      <td>NaN</td>\n",
       "      <td>NaN</td>\n",
       "      <td>NaN</td>\n",
       "      <td>0.0</td>\n",
       "      <td>135220.0</td>\n",
       "      <td>0.0</td>\n",
       "    </tr>\n",
       "    <tr>\n",
       "      <th>1</th>\n",
       "      <td>2</td>\n",
       "      <td>84131</td>\n",
       "      <td>SA</td>\n",
       "      <td>1984.0</td>\n",
       "      <td>614</td>\n",
       "      <td>492</td>\n",
       "      <td>4719</td>\n",
       "      <td>1</td>\n",
       "      <td>NaN</td>\n",
       "      <td>NaN</td>\n",
       "      <td>NaN</td>\n",
       "      <td>NaN</td>\n",
       "      <td>NaN</td>\n",
       "      <td>NaN</td>\n",
       "      <td>NaN</td>\n",
       "      <td>NaN</td>\n",
       "      <td>844348.0</td>\n",
       "      <td>1054419.0</td>\n",
       "      <td>0.0</td>\n",
       "    </tr>\n",
       "    <tr>\n",
       "      <th>2</th>\n",
       "      <td>3</td>\n",
       "      <td>82030</td>\n",
       "      <td>BN</td>\n",
       "      <td>1952.0</td>\n",
       "      <td>012</td>\n",
       "      <td>430</td>\n",
       "      <td>11021</td>\n",
       "      <td>1</td>\n",
       "      <td>NaN</td>\n",
       "      <td>NaN</td>\n",
       "      <td>NaN</td>\n",
       "      <td>NaN</td>\n",
       "      <td>NaN</td>\n",
       "      <td>NaN</td>\n",
       "      <td>NaN</td>\n",
       "      <td>NaN</td>\n",
       "      <td>0.0</td>\n",
       "      <td>332366.0</td>\n",
       "      <td>0.0</td>\n",
       "    </tr>\n",
       "    <tr>\n",
       "      <th>3</th>\n",
       "      <td>4</td>\n",
       "      <td>80133</td>\n",
       "      <td>NaN</td>\n",
       "      <td>1982.0</td>\n",
       "      <td>830</td>\n",
       "      <td>430</td>\n",
       "      <td>4120</td>\n",
       "      <td>1</td>\n",
       "      <td>NaN</td>\n",
       "      <td>NaN</td>\n",
       "      <td>NaN</td>\n",
       "      <td>NaN</td>\n",
       "      <td>NaN</td>\n",
       "      <td>NaN</td>\n",
       "      <td>NaN</td>\n",
       "      <td>NaN</td>\n",
       "      <td>0.0</td>\n",
       "      <td>51762483.0</td>\n",
       "      <td>0.0</td>\n",
       "    </tr>\n",
       "    <tr>\n",
       "      <th>4</th>\n",
       "      <td>5</td>\n",
       "      <td>72021</td>\n",
       "      <td>BR</td>\n",
       "      <td>1989.0</td>\n",
       "      <td>419</td>\n",
       "      <td>482</td>\n",
       "      <td>10711</td>\n",
       "      <td>0</td>\n",
       "      <td>NaN</td>\n",
       "      <td>NaN</td>\n",
       "      <td>NaN</td>\n",
       "      <td>NaN</td>\n",
       "      <td>NaN</td>\n",
       "      <td>NaN</td>\n",
       "      <td>NaN</td>\n",
       "      <td>NaN</td>\n",
       "      <td>37562.0</td>\n",
       "      <td>34857.0</td>\n",
       "      <td>0.0</td>\n",
       "    </tr>\n",
       "  </tbody>\n",
       "</table>\n",
       "</div>"
      ],
      "text/plain": [
       "   ID COD_CAP COD_PROVINCIA DAT_COSTITUZIONE COD_RAE COD_SAE  \\\n",
       "0   1   83013            AV           1977.0     243     430   \n",
       "1   2   84131            SA           1984.0     614     492   \n",
       "2   3   82030            BN           1952.0     012     430   \n",
       "3   4   80133           NaN           1982.0     830     430   \n",
       "4   5   72021            BR           1989.0     419     482   \n",
       "\n",
       "  COD_ISTAT_ATECO_07  FLG_DEF_6M  CBI201312_CREDITI  \\\n",
       "0               4120           1                NaN   \n",
       "1               4719           1                NaN   \n",
       "2              11021           1                NaN   \n",
       "3               4120           1                NaN   \n",
       "4              10711           0                NaN   \n",
       "\n",
       "   CBI201312_UTILE_PERDITA_ESERCIZIO  CBI201312_PATRIMONIO_NETTO  \\\n",
       "0                                NaN                         NaN   \n",
       "1                                NaN                         NaN   \n",
       "2                                NaN                         NaN   \n",
       "3                                NaN                         NaN   \n",
       "4                                NaN                         NaN   \n",
       "\n",
       "   CBI201312_DEBITI_CONSOLIDATI  CBI201312_DEBITI_ENTRO_ES_SUCC  \\\n",
       "0                           NaN                             NaN   \n",
       "1                           NaN                             NaN   \n",
       "2                           NaN                             NaN   \n",
       "3                           NaN                             NaN   \n",
       "4                           NaN                             NaN   \n",
       "\n",
       "   CBI201312_RICAVI_NETTI  CBI201312_ACQUISTI_NETTI  \\\n",
       "0                     NaN                       NaN   \n",
       "1                     NaN                       NaN   \n",
       "2                     NaN                       NaN   \n",
       "3                     NaN                       NaN   \n",
       "4                     NaN                       NaN   \n",
       "\n",
       "   CBI201312_COSTI_SERVZ_BENI_TERZI  IMP_ACCORDATO  IMP_UTILIZZATO  \\\n",
       "0                               NaN            0.0        135220.0   \n",
       "1                               NaN       844348.0       1054419.0   \n",
       "2                               NaN            0.0        332366.0   \n",
       "3                               NaN            0.0      51762483.0   \n",
       "4                               NaN        37562.0         34857.0   \n",
       "\n",
       "   IMP_VALORE_GARANZIA  \n",
       "0                  0.0  \n",
       "1                  0.0  \n",
       "2                  0.0  \n",
       "3                  0.0  \n",
       "4                  0.0  "
      ]
     },
     "execution_count": 7,
     "metadata": {},
     "output_type": "execute_result"
    }
   ],
   "source": [
    "db_train.head()"
   ]
  },
  {
   "cell_type": "code",
   "execution_count": 8,
   "metadata": {
    "collapsed": false
   },
   "outputs": [
    {
     "data": {
      "text/html": [
       "<div>\n",
       "<table border=\"1\" class=\"dataframe\">\n",
       "  <thead>\n",
       "    <tr style=\"text-align: right;\">\n",
       "      <th></th>\n",
       "      <th>ID</th>\n",
       "      <th>COD_CAP</th>\n",
       "      <th>COD_PROVINCIA</th>\n",
       "      <th>DAT_COSTITUZIONE</th>\n",
       "      <th>COD_RAE</th>\n",
       "      <th>COD_SAE</th>\n",
       "      <th>COD_ISTAT_ATECO_07</th>\n",
       "      <th>CBI201312_CREDITI</th>\n",
       "      <th>CBI201312_UTILE_PERDITA_ESERCIZIO</th>\n",
       "      <th>CBI201312_PATRIMONIO_NETTO</th>\n",
       "      <th>CBI201312_DEBITI_CONSOLIDATI</th>\n",
       "      <th>CBI201312_DEBITI_ENTRO_ES_SUCC</th>\n",
       "      <th>CBI201312_RICAVI_NETTI</th>\n",
       "      <th>CBI201312_ACQUISTI_NETTI</th>\n",
       "      <th>CBI201312_COSTI_SERVZ_BENI_TERZI</th>\n",
       "      <th>IMP_ACCORDATO</th>\n",
       "      <th>IMP_UTILIZZATO</th>\n",
       "      <th>IMP_VALORE_GARANZIA</th>\n",
       "    </tr>\n",
       "  </thead>\n",
       "  <tbody>\n",
       "    <tr>\n",
       "      <th>0</th>\n",
       "      <td>66812</td>\n",
       "      <td>16033</td>\n",
       "      <td>GE</td>\n",
       "      <td>1977.0</td>\n",
       "      <td>830</td>\n",
       "      <td>482</td>\n",
       "      <td>63111</td>\n",
       "      <td>NaN</td>\n",
       "      <td>NaN</td>\n",
       "      <td>NaN</td>\n",
       "      <td>NaN</td>\n",
       "      <td>NaN</td>\n",
       "      <td>NaN</td>\n",
       "      <td>NaN</td>\n",
       "      <td>NaN</td>\n",
       "      <td>59982.0</td>\n",
       "      <td>59982.0</td>\n",
       "      <td>0.0</td>\n",
       "    </tr>\n",
       "    <tr>\n",
       "      <th>1</th>\n",
       "      <td>66813</td>\n",
       "      <td>10090</td>\n",
       "      <td>TO</td>\n",
       "      <td>1985.0</td>\n",
       "      <td>345</td>\n",
       "      <td>492</td>\n",
       "      <td>2612</td>\n",
       "      <td>NaN</td>\n",
       "      <td>NaN</td>\n",
       "      <td>NaN</td>\n",
       "      <td>NaN</td>\n",
       "      <td>NaN</td>\n",
       "      <td>NaN</td>\n",
       "      <td>NaN</td>\n",
       "      <td>NaN</td>\n",
       "      <td>388785.0</td>\n",
       "      <td>391500.0</td>\n",
       "      <td>0.0</td>\n",
       "    </tr>\n",
       "    <tr>\n",
       "      <th>2</th>\n",
       "      <td>66814</td>\n",
       "      <td>34170</td>\n",
       "      <td>GO</td>\n",
       "      <td>1921.0</td>\n",
       "      <td>648</td>\n",
       "      <td>492</td>\n",
       "      <td>47521</td>\n",
       "      <td>NaN</td>\n",
       "      <td>NaN</td>\n",
       "      <td>NaN</td>\n",
       "      <td>NaN</td>\n",
       "      <td>NaN</td>\n",
       "      <td>NaN</td>\n",
       "      <td>NaN</td>\n",
       "      <td>NaN</td>\n",
       "      <td>213293.0</td>\n",
       "      <td>211445.0</td>\n",
       "      <td>0.0</td>\n",
       "    </tr>\n",
       "    <tr>\n",
       "      <th>3</th>\n",
       "      <td>66815</td>\n",
       "      <td>35044</td>\n",
       "      <td>PD</td>\n",
       "      <td>1993.0</td>\n",
       "      <td>467</td>\n",
       "      <td>482</td>\n",
       "      <td>3109</td>\n",
       "      <td>125.0</td>\n",
       "      <td>32.0</td>\n",
       "      <td>-186.0</td>\n",
       "      <td>177.0</td>\n",
       "      <td>351.0</td>\n",
       "      <td>779.0</td>\n",
       "      <td>351.0</td>\n",
       "      <td>256.0</td>\n",
       "      <td>437243.0</td>\n",
       "      <td>374537.0</td>\n",
       "      <td>0.0</td>\n",
       "    </tr>\n",
       "    <tr>\n",
       "      <th>4</th>\n",
       "      <td>66816</td>\n",
       "      <td>11017</td>\n",
       "      <td>AO</td>\n",
       "      <td>1975.0</td>\n",
       "      <td>505</td>\n",
       "      <td>482</td>\n",
       "      <td>4120</td>\n",
       "      <td>51.0</td>\n",
       "      <td>74.0</td>\n",
       "      <td>-17.0</td>\n",
       "      <td>447.0</td>\n",
       "      <td>26.0</td>\n",
       "      <td>407.0</td>\n",
       "      <td>122.0</td>\n",
       "      <td>19.0</td>\n",
       "      <td>620000.0</td>\n",
       "      <td>0.0</td>\n",
       "      <td>0.0</td>\n",
       "    </tr>\n",
       "  </tbody>\n",
       "</table>\n",
       "</div>"
      ],
      "text/plain": [
       "      ID COD_CAP COD_PROVINCIA DAT_COSTITUZIONE COD_RAE COD_SAE  \\\n",
       "0  66812   16033            GE           1977.0     830     482   \n",
       "1  66813   10090            TO           1985.0     345     492   \n",
       "2  66814   34170            GO           1921.0     648     492   \n",
       "3  66815   35044            PD           1993.0     467     482   \n",
       "4  66816   11017            AO           1975.0     505     482   \n",
       "\n",
       "  COD_ISTAT_ATECO_07  CBI201312_CREDITI  CBI201312_UTILE_PERDITA_ESERCIZIO  \\\n",
       "0              63111                NaN                                NaN   \n",
       "1               2612                NaN                                NaN   \n",
       "2              47521                NaN                                NaN   \n",
       "3               3109              125.0                               32.0   \n",
       "4               4120               51.0                               74.0   \n",
       "\n",
       "   CBI201312_PATRIMONIO_NETTO  CBI201312_DEBITI_CONSOLIDATI  \\\n",
       "0                         NaN                           NaN   \n",
       "1                         NaN                           NaN   \n",
       "2                         NaN                           NaN   \n",
       "3                      -186.0                         177.0   \n",
       "4                       -17.0                         447.0   \n",
       "\n",
       "   CBI201312_DEBITI_ENTRO_ES_SUCC  CBI201312_RICAVI_NETTI  \\\n",
       "0                             NaN                     NaN   \n",
       "1                             NaN                     NaN   \n",
       "2                             NaN                     NaN   \n",
       "3                           351.0                   779.0   \n",
       "4                            26.0                   407.0   \n",
       "\n",
       "   CBI201312_ACQUISTI_NETTI  CBI201312_COSTI_SERVZ_BENI_TERZI  IMP_ACCORDATO  \\\n",
       "0                       NaN                               NaN        59982.0   \n",
       "1                       NaN                               NaN       388785.0   \n",
       "2                       NaN                               NaN       213293.0   \n",
       "3                     351.0                             256.0       437243.0   \n",
       "4                     122.0                              19.0       620000.0   \n",
       "\n",
       "   IMP_UTILIZZATO  IMP_VALORE_GARANZIA  \n",
       "0         59982.0                  0.0  \n",
       "1        391500.0                  0.0  \n",
       "2        211445.0                  0.0  \n",
       "3        374537.0                  0.0  \n",
       "4             0.0                  0.0  "
      ]
     },
     "execution_count": 8,
     "metadata": {},
     "output_type": "execute_result"
    }
   ],
   "source": [
    "db_test.head()"
   ]
  },
  {
   "cell_type": "markdown",
   "metadata": {},
   "source": [
    "Normalizzo i valori di DAT_COSTITUZIONE e CODICE ATECO e li sostituisco al dataset originale:"
   ]
  },
  {
   "cell_type": "code",
   "execution_count": 9,
   "metadata": {
    "collapsed": false
   },
   "outputs": [],
   "source": [
    "DT_COSTITUZIONE = db_train['DAT_COSTITUZIONE'].str[0:4]\n",
    "ATECO = db_train['COD_ISTAT_ATECO_07'].str[0:2]"
   ]
  },
  {
   "cell_type": "code",
   "execution_count": 10,
   "metadata": {
    "collapsed": true
   },
   "outputs": [],
   "source": [
    "DTEST_COSTITUZIONE = db_test['DAT_COSTITUZIONE'].str[0:4]\n",
    "ATECO_TEST = db_test['COD_ISTAT_ATECO_07'].str[0:2]"
   ]
  },
  {
   "cell_type": "code",
   "execution_count": 11,
   "metadata": {
    "collapsed": false
   },
   "outputs": [
    {
     "data": {
      "text/plain": [
       "0    1977\n",
       "1    1984\n",
       "2    1952\n",
       "3    1982\n",
       "4    1989\n",
       "Name: DAT_COSTITUZIONE, dtype: object"
      ]
     },
     "execution_count": 11,
     "metadata": {},
     "output_type": "execute_result"
    }
   ],
   "source": [
    "DT_COSTITUZIONE.head()"
   ]
  },
  {
   "cell_type": "code",
   "execution_count": 12,
   "metadata": {
    "collapsed": false
   },
   "outputs": [
    {
     "data": {
      "text/plain": [
       "0    1977\n",
       "1    1985\n",
       "2    1921\n",
       "3    1993\n",
       "4    1975\n",
       "Name: DAT_COSTITUZIONE, dtype: object"
      ]
     },
     "execution_count": 12,
     "metadata": {},
     "output_type": "execute_result"
    }
   ],
   "source": [
    "DTEST_COSTITUZIONE.head()"
   ]
  },
  {
   "cell_type": "code",
   "execution_count": 13,
   "metadata": {
    "collapsed": false
   },
   "outputs": [
    {
     "data": {
      "text/plain": [
       "0    41\n",
       "1    47\n",
       "2    11\n",
       "3    41\n",
       "4    10\n",
       "Name: COD_ISTAT_ATECO_07, dtype: object"
      ]
     },
     "execution_count": 13,
     "metadata": {},
     "output_type": "execute_result"
    }
   ],
   "source": [
    "ATECO.head()"
   ]
  },
  {
   "cell_type": "code",
   "execution_count": 14,
   "metadata": {
    "collapsed": false
   },
   "outputs": [
    {
     "data": {
      "text/plain": [
       "0    63\n",
       "1    26\n",
       "2    47\n",
       "3    31\n",
       "4    41\n",
       "Name: COD_ISTAT_ATECO_07, dtype: object"
      ]
     },
     "execution_count": 14,
     "metadata": {},
     "output_type": "execute_result"
    }
   ],
   "source": [
    "ATECO_TEST.head()"
   ]
  },
  {
   "cell_type": "code",
   "execution_count": 15,
   "metadata": {
    "collapsed": false
   },
   "outputs": [],
   "source": [
    "db_train['DAT_COSTITUZIONE']=DT_COSTITUZIONE\n",
    "db_train['COD_ISTAT_ATECO_07']=ATECO"
   ]
  },
  {
   "cell_type": "code",
   "execution_count": 16,
   "metadata": {
    "collapsed": true
   },
   "outputs": [],
   "source": [
    "db_test['DAT_COSTITUZIONE']=DTEST_COSTITUZIONE\n",
    "db_test['COD_ISTAT_ATECO_07']=ATECO_TEST"
   ]
  },
  {
   "cell_type": "markdown",
   "metadata": {},
   "source": [
    "Ho ottenuto un training set con formati corretti e ateco uniformati:"
   ]
  },
  {
   "cell_type": "code",
   "execution_count": 17,
   "metadata": {
    "collapsed": false
   },
   "outputs": [
    {
     "data": {
      "text/html": [
       "<div>\n",
       "<table border=\"1\" class=\"dataframe\">\n",
       "  <thead>\n",
       "    <tr style=\"text-align: right;\">\n",
       "      <th></th>\n",
       "      <th>ID</th>\n",
       "      <th>COD_CAP</th>\n",
       "      <th>COD_PROVINCIA</th>\n",
       "      <th>DAT_COSTITUZIONE</th>\n",
       "      <th>COD_RAE</th>\n",
       "      <th>COD_SAE</th>\n",
       "      <th>COD_ISTAT_ATECO_07</th>\n",
       "      <th>FLG_DEF_6M</th>\n",
       "      <th>CBI201312_CREDITI</th>\n",
       "      <th>CBI201312_UTILE_PERDITA_ESERCIZIO</th>\n",
       "      <th>CBI201312_PATRIMONIO_NETTO</th>\n",
       "      <th>CBI201312_DEBITI_CONSOLIDATI</th>\n",
       "      <th>CBI201312_DEBITI_ENTRO_ES_SUCC</th>\n",
       "      <th>CBI201312_RICAVI_NETTI</th>\n",
       "      <th>CBI201312_ACQUISTI_NETTI</th>\n",
       "      <th>CBI201312_COSTI_SERVZ_BENI_TERZI</th>\n",
       "      <th>IMP_ACCORDATO</th>\n",
       "      <th>IMP_UTILIZZATO</th>\n",
       "      <th>IMP_VALORE_GARANZIA</th>\n",
       "    </tr>\n",
       "  </thead>\n",
       "  <tbody>\n",
       "    <tr>\n",
       "      <th>0</th>\n",
       "      <td>1</td>\n",
       "      <td>83013</td>\n",
       "      <td>AV</td>\n",
       "      <td>1977</td>\n",
       "      <td>243</td>\n",
       "      <td>430</td>\n",
       "      <td>41</td>\n",
       "      <td>1</td>\n",
       "      <td>NaN</td>\n",
       "      <td>NaN</td>\n",
       "      <td>NaN</td>\n",
       "      <td>NaN</td>\n",
       "      <td>NaN</td>\n",
       "      <td>NaN</td>\n",
       "      <td>NaN</td>\n",
       "      <td>NaN</td>\n",
       "      <td>0.0</td>\n",
       "      <td>135220.0</td>\n",
       "      <td>0.0</td>\n",
       "    </tr>\n",
       "    <tr>\n",
       "      <th>1</th>\n",
       "      <td>2</td>\n",
       "      <td>84131</td>\n",
       "      <td>SA</td>\n",
       "      <td>1984</td>\n",
       "      <td>614</td>\n",
       "      <td>492</td>\n",
       "      <td>47</td>\n",
       "      <td>1</td>\n",
       "      <td>NaN</td>\n",
       "      <td>NaN</td>\n",
       "      <td>NaN</td>\n",
       "      <td>NaN</td>\n",
       "      <td>NaN</td>\n",
       "      <td>NaN</td>\n",
       "      <td>NaN</td>\n",
       "      <td>NaN</td>\n",
       "      <td>844348.0</td>\n",
       "      <td>1054419.0</td>\n",
       "      <td>0.0</td>\n",
       "    </tr>\n",
       "    <tr>\n",
       "      <th>2</th>\n",
       "      <td>3</td>\n",
       "      <td>82030</td>\n",
       "      <td>BN</td>\n",
       "      <td>1952</td>\n",
       "      <td>012</td>\n",
       "      <td>430</td>\n",
       "      <td>11</td>\n",
       "      <td>1</td>\n",
       "      <td>NaN</td>\n",
       "      <td>NaN</td>\n",
       "      <td>NaN</td>\n",
       "      <td>NaN</td>\n",
       "      <td>NaN</td>\n",
       "      <td>NaN</td>\n",
       "      <td>NaN</td>\n",
       "      <td>NaN</td>\n",
       "      <td>0.0</td>\n",
       "      <td>332366.0</td>\n",
       "      <td>0.0</td>\n",
       "    </tr>\n",
       "    <tr>\n",
       "      <th>3</th>\n",
       "      <td>4</td>\n",
       "      <td>80133</td>\n",
       "      <td>NaN</td>\n",
       "      <td>1982</td>\n",
       "      <td>830</td>\n",
       "      <td>430</td>\n",
       "      <td>41</td>\n",
       "      <td>1</td>\n",
       "      <td>NaN</td>\n",
       "      <td>NaN</td>\n",
       "      <td>NaN</td>\n",
       "      <td>NaN</td>\n",
       "      <td>NaN</td>\n",
       "      <td>NaN</td>\n",
       "      <td>NaN</td>\n",
       "      <td>NaN</td>\n",
       "      <td>0.0</td>\n",
       "      <td>51762483.0</td>\n",
       "      <td>0.0</td>\n",
       "    </tr>\n",
       "    <tr>\n",
       "      <th>4</th>\n",
       "      <td>5</td>\n",
       "      <td>72021</td>\n",
       "      <td>BR</td>\n",
       "      <td>1989</td>\n",
       "      <td>419</td>\n",
       "      <td>482</td>\n",
       "      <td>10</td>\n",
       "      <td>0</td>\n",
       "      <td>NaN</td>\n",
       "      <td>NaN</td>\n",
       "      <td>NaN</td>\n",
       "      <td>NaN</td>\n",
       "      <td>NaN</td>\n",
       "      <td>NaN</td>\n",
       "      <td>NaN</td>\n",
       "      <td>NaN</td>\n",
       "      <td>37562.0</td>\n",
       "      <td>34857.0</td>\n",
       "      <td>0.0</td>\n",
       "    </tr>\n",
       "  </tbody>\n",
       "</table>\n",
       "</div>"
      ],
      "text/plain": [
       "   ID COD_CAP COD_PROVINCIA DAT_COSTITUZIONE COD_RAE COD_SAE  \\\n",
       "0   1   83013            AV             1977     243     430   \n",
       "1   2   84131            SA             1984     614     492   \n",
       "2   3   82030            BN             1952     012     430   \n",
       "3   4   80133           NaN             1982     830     430   \n",
       "4   5   72021            BR             1989     419     482   \n",
       "\n",
       "  COD_ISTAT_ATECO_07  FLG_DEF_6M  CBI201312_CREDITI  \\\n",
       "0                 41           1                NaN   \n",
       "1                 47           1                NaN   \n",
       "2                 11           1                NaN   \n",
       "3                 41           1                NaN   \n",
       "4                 10           0                NaN   \n",
       "\n",
       "   CBI201312_UTILE_PERDITA_ESERCIZIO  CBI201312_PATRIMONIO_NETTO  \\\n",
       "0                                NaN                         NaN   \n",
       "1                                NaN                         NaN   \n",
       "2                                NaN                         NaN   \n",
       "3                                NaN                         NaN   \n",
       "4                                NaN                         NaN   \n",
       "\n",
       "   CBI201312_DEBITI_CONSOLIDATI  CBI201312_DEBITI_ENTRO_ES_SUCC  \\\n",
       "0                           NaN                             NaN   \n",
       "1                           NaN                             NaN   \n",
       "2                           NaN                             NaN   \n",
       "3                           NaN                             NaN   \n",
       "4                           NaN                             NaN   \n",
       "\n",
       "   CBI201312_RICAVI_NETTI  CBI201312_ACQUISTI_NETTI  \\\n",
       "0                     NaN                       NaN   \n",
       "1                     NaN                       NaN   \n",
       "2                     NaN                       NaN   \n",
       "3                     NaN                       NaN   \n",
       "4                     NaN                       NaN   \n",
       "\n",
       "   CBI201312_COSTI_SERVZ_BENI_TERZI  IMP_ACCORDATO  IMP_UTILIZZATO  \\\n",
       "0                               NaN            0.0        135220.0   \n",
       "1                               NaN       844348.0       1054419.0   \n",
       "2                               NaN            0.0        332366.0   \n",
       "3                               NaN            0.0      51762483.0   \n",
       "4                               NaN        37562.0         34857.0   \n",
       "\n",
       "   IMP_VALORE_GARANZIA  \n",
       "0                  0.0  \n",
       "1                  0.0  \n",
       "2                  0.0  \n",
       "3                  0.0  \n",
       "4                  0.0  "
      ]
     },
     "execution_count": 17,
     "metadata": {},
     "output_type": "execute_result"
    }
   ],
   "source": [
    "db_train.head()"
   ]
  },
  {
   "cell_type": "code",
   "execution_count": 18,
   "metadata": {
    "collapsed": false
   },
   "outputs": [
    {
     "data": {
      "text/html": [
       "<div>\n",
       "<table border=\"1\" class=\"dataframe\">\n",
       "  <thead>\n",
       "    <tr style=\"text-align: right;\">\n",
       "      <th></th>\n",
       "      <th>ID</th>\n",
       "      <th>COD_CAP</th>\n",
       "      <th>COD_PROVINCIA</th>\n",
       "      <th>DAT_COSTITUZIONE</th>\n",
       "      <th>COD_RAE</th>\n",
       "      <th>COD_SAE</th>\n",
       "      <th>COD_ISTAT_ATECO_07</th>\n",
       "      <th>CBI201312_CREDITI</th>\n",
       "      <th>CBI201312_UTILE_PERDITA_ESERCIZIO</th>\n",
       "      <th>CBI201312_PATRIMONIO_NETTO</th>\n",
       "      <th>CBI201312_DEBITI_CONSOLIDATI</th>\n",
       "      <th>CBI201312_DEBITI_ENTRO_ES_SUCC</th>\n",
       "      <th>CBI201312_RICAVI_NETTI</th>\n",
       "      <th>CBI201312_ACQUISTI_NETTI</th>\n",
       "      <th>CBI201312_COSTI_SERVZ_BENI_TERZI</th>\n",
       "      <th>IMP_ACCORDATO</th>\n",
       "      <th>IMP_UTILIZZATO</th>\n",
       "      <th>IMP_VALORE_GARANZIA</th>\n",
       "    </tr>\n",
       "  </thead>\n",
       "  <tbody>\n",
       "    <tr>\n",
       "      <th>0</th>\n",
       "      <td>66812</td>\n",
       "      <td>16033</td>\n",
       "      <td>GE</td>\n",
       "      <td>1977</td>\n",
       "      <td>830</td>\n",
       "      <td>482</td>\n",
       "      <td>63</td>\n",
       "      <td>NaN</td>\n",
       "      <td>NaN</td>\n",
       "      <td>NaN</td>\n",
       "      <td>NaN</td>\n",
       "      <td>NaN</td>\n",
       "      <td>NaN</td>\n",
       "      <td>NaN</td>\n",
       "      <td>NaN</td>\n",
       "      <td>59982.0</td>\n",
       "      <td>59982.0</td>\n",
       "      <td>0.0</td>\n",
       "    </tr>\n",
       "    <tr>\n",
       "      <th>1</th>\n",
       "      <td>66813</td>\n",
       "      <td>10090</td>\n",
       "      <td>TO</td>\n",
       "      <td>1985</td>\n",
       "      <td>345</td>\n",
       "      <td>492</td>\n",
       "      <td>26</td>\n",
       "      <td>NaN</td>\n",
       "      <td>NaN</td>\n",
       "      <td>NaN</td>\n",
       "      <td>NaN</td>\n",
       "      <td>NaN</td>\n",
       "      <td>NaN</td>\n",
       "      <td>NaN</td>\n",
       "      <td>NaN</td>\n",
       "      <td>388785.0</td>\n",
       "      <td>391500.0</td>\n",
       "      <td>0.0</td>\n",
       "    </tr>\n",
       "    <tr>\n",
       "      <th>2</th>\n",
       "      <td>66814</td>\n",
       "      <td>34170</td>\n",
       "      <td>GO</td>\n",
       "      <td>1921</td>\n",
       "      <td>648</td>\n",
       "      <td>492</td>\n",
       "      <td>47</td>\n",
       "      <td>NaN</td>\n",
       "      <td>NaN</td>\n",
       "      <td>NaN</td>\n",
       "      <td>NaN</td>\n",
       "      <td>NaN</td>\n",
       "      <td>NaN</td>\n",
       "      <td>NaN</td>\n",
       "      <td>NaN</td>\n",
       "      <td>213293.0</td>\n",
       "      <td>211445.0</td>\n",
       "      <td>0.0</td>\n",
       "    </tr>\n",
       "    <tr>\n",
       "      <th>3</th>\n",
       "      <td>66815</td>\n",
       "      <td>35044</td>\n",
       "      <td>PD</td>\n",
       "      <td>1993</td>\n",
       "      <td>467</td>\n",
       "      <td>482</td>\n",
       "      <td>31</td>\n",
       "      <td>125.0</td>\n",
       "      <td>32.0</td>\n",
       "      <td>-186.0</td>\n",
       "      <td>177.0</td>\n",
       "      <td>351.0</td>\n",
       "      <td>779.0</td>\n",
       "      <td>351.0</td>\n",
       "      <td>256.0</td>\n",
       "      <td>437243.0</td>\n",
       "      <td>374537.0</td>\n",
       "      <td>0.0</td>\n",
       "    </tr>\n",
       "    <tr>\n",
       "      <th>4</th>\n",
       "      <td>66816</td>\n",
       "      <td>11017</td>\n",
       "      <td>AO</td>\n",
       "      <td>1975</td>\n",
       "      <td>505</td>\n",
       "      <td>482</td>\n",
       "      <td>41</td>\n",
       "      <td>51.0</td>\n",
       "      <td>74.0</td>\n",
       "      <td>-17.0</td>\n",
       "      <td>447.0</td>\n",
       "      <td>26.0</td>\n",
       "      <td>407.0</td>\n",
       "      <td>122.0</td>\n",
       "      <td>19.0</td>\n",
       "      <td>620000.0</td>\n",
       "      <td>0.0</td>\n",
       "      <td>0.0</td>\n",
       "    </tr>\n",
       "  </tbody>\n",
       "</table>\n",
       "</div>"
      ],
      "text/plain": [
       "      ID COD_CAP COD_PROVINCIA DAT_COSTITUZIONE COD_RAE COD_SAE  \\\n",
       "0  66812   16033            GE             1977     830     482   \n",
       "1  66813   10090            TO             1985     345     492   \n",
       "2  66814   34170            GO             1921     648     492   \n",
       "3  66815   35044            PD             1993     467     482   \n",
       "4  66816   11017            AO             1975     505     482   \n",
       "\n",
       "  COD_ISTAT_ATECO_07  CBI201312_CREDITI  CBI201312_UTILE_PERDITA_ESERCIZIO  \\\n",
       "0                 63                NaN                                NaN   \n",
       "1                 26                NaN                                NaN   \n",
       "2                 47                NaN                                NaN   \n",
       "3                 31              125.0                               32.0   \n",
       "4                 41               51.0                               74.0   \n",
       "\n",
       "   CBI201312_PATRIMONIO_NETTO  CBI201312_DEBITI_CONSOLIDATI  \\\n",
       "0                         NaN                           NaN   \n",
       "1                         NaN                           NaN   \n",
       "2                         NaN                           NaN   \n",
       "3                      -186.0                         177.0   \n",
       "4                       -17.0                         447.0   \n",
       "\n",
       "   CBI201312_DEBITI_ENTRO_ES_SUCC  CBI201312_RICAVI_NETTI  \\\n",
       "0                             NaN                     NaN   \n",
       "1                             NaN                     NaN   \n",
       "2                             NaN                     NaN   \n",
       "3                           351.0                   779.0   \n",
       "4                            26.0                   407.0   \n",
       "\n",
       "   CBI201312_ACQUISTI_NETTI  CBI201312_COSTI_SERVZ_BENI_TERZI  IMP_ACCORDATO  \\\n",
       "0                       NaN                               NaN        59982.0   \n",
       "1                       NaN                               NaN       388785.0   \n",
       "2                       NaN                               NaN       213293.0   \n",
       "3                     351.0                             256.0       437243.0   \n",
       "4                     122.0                              19.0       620000.0   \n",
       "\n",
       "   IMP_UTILIZZATO  IMP_VALORE_GARANZIA  \n",
       "0         59982.0                  0.0  \n",
       "1        391500.0                  0.0  \n",
       "2        211445.0                  0.0  \n",
       "3        374537.0                  0.0  \n",
       "4             0.0                  0.0  "
      ]
     },
     "execution_count": 18,
     "metadata": {},
     "output_type": "execute_result"
    }
   ],
   "source": [
    "db_test.head()"
   ]
  },
  {
   "cell_type": "markdown",
   "metadata": {},
   "source": [
    "## Analisi descrittiva dei dati"
   ]
  },
  {
   "cell_type": "markdown",
   "metadata": {},
   "source": [
    "Visualizzo una tabella di statistiche descrittive sul dataset di training:"
   ]
  },
  {
   "cell_type": "code",
   "execution_count": 19,
   "metadata": {
    "collapsed": false
   },
   "outputs": [
    {
     "name": "stderr",
     "output_type": "stream",
     "text": [
      "/home/bigdive/anaconda2/lib/python2.7/site-packages/numpy/lib/function_base.py:3834: RuntimeWarning: Invalid value encountered in percentile\n",
      "  RuntimeWarning)\n"
     ]
    },
    {
     "data": {
      "text/html": [
       "<div>\n",
       "<table border=\"1\" class=\"dataframe\">\n",
       "  <thead>\n",
       "    <tr style=\"text-align: right;\">\n",
       "      <th></th>\n",
       "      <th>ID</th>\n",
       "      <th>FLG_DEF_6M</th>\n",
       "      <th>CBI201312_CREDITI</th>\n",
       "      <th>CBI201312_UTILE_PERDITA_ESERCIZIO</th>\n",
       "      <th>CBI201312_PATRIMONIO_NETTO</th>\n",
       "      <th>CBI201312_DEBITI_CONSOLIDATI</th>\n",
       "      <th>CBI201312_DEBITI_ENTRO_ES_SUCC</th>\n",
       "      <th>CBI201312_RICAVI_NETTI</th>\n",
       "      <th>CBI201312_ACQUISTI_NETTI</th>\n",
       "      <th>CBI201312_COSTI_SERVZ_BENI_TERZI</th>\n",
       "      <th>IMP_ACCORDATO</th>\n",
       "      <th>IMP_UTILIZZATO</th>\n",
       "      <th>IMP_VALORE_GARANZIA</th>\n",
       "    </tr>\n",
       "  </thead>\n",
       "  <tbody>\n",
       "    <tr>\n",
       "      <th>count</th>\n",
       "      <td>66811.000000</td>\n",
       "      <td>66811.000000</td>\n",
       "      <td>57571.000000</td>\n",
       "      <td>53997.000000</td>\n",
       "      <td>53997.000000</td>\n",
       "      <td>57571.000000</td>\n",
       "      <td>5.757100e+04</td>\n",
       "      <td>5.399700e+04</td>\n",
       "      <td>5.399700e+04</td>\n",
       "      <td>57571.00000</td>\n",
       "      <td>6.681100e+04</td>\n",
       "      <td>6.681100e+04</td>\n",
       "      <td>6.681100e+04</td>\n",
       "    </tr>\n",
       "    <tr>\n",
       "      <th>mean</th>\n",
       "      <td>33406.000000</td>\n",
       "      <td>0.165572</td>\n",
       "      <td>454.488110</td>\n",
       "      <td>9.194326</td>\n",
       "      <td>289.402078</td>\n",
       "      <td>262.123604</td>\n",
       "      <td>6.803398e+02</td>\n",
       "      <td>1.227074e+03</td>\n",
       "      <td>5.660812e+02</td>\n",
       "      <td>315.62502</td>\n",
       "      <td>7.000651e+05</td>\n",
       "      <td>5.541229e+05</td>\n",
       "      <td>1.381665e+05</td>\n",
       "    </tr>\n",
       "    <tr>\n",
       "      <th>std</th>\n",
       "      <td>19286.818754</td>\n",
       "      <td>0.371698</td>\n",
       "      <td>2935.871352</td>\n",
       "      <td>275.938893</td>\n",
       "      <td>1505.764856</td>\n",
       "      <td>789.671069</td>\n",
       "      <td>5.140208e+03</td>\n",
       "      <td>6.730968e+03</td>\n",
       "      <td>7.762285e+03</td>\n",
       "      <td>766.03980</td>\n",
       "      <td>1.989887e+06</td>\n",
       "      <td>1.843194e+06</td>\n",
       "      <td>8.336413e+06</td>\n",
       "    </tr>\n",
       "    <tr>\n",
       "      <th>min</th>\n",
       "      <td>1.000000</td>\n",
       "      <td>0.000000</td>\n",
       "      <td>0.000000</td>\n",
       "      <td>-18087.000000</td>\n",
       "      <td>-29509.000000</td>\n",
       "      <td>0.000000</td>\n",
       "      <td>0.000000e+00</td>\n",
       "      <td>0.000000e+00</td>\n",
       "      <td>0.000000e+00</td>\n",
       "      <td>0.00000</td>\n",
       "      <td>0.000000e+00</td>\n",
       "      <td>0.000000e+00</td>\n",
       "      <td>0.000000e+00</td>\n",
       "    </tr>\n",
       "    <tr>\n",
       "      <th>25%</th>\n",
       "      <td>16703.500000</td>\n",
       "      <td>0.000000</td>\n",
       "      <td>NaN</td>\n",
       "      <td>NaN</td>\n",
       "      <td>NaN</td>\n",
       "      <td>NaN</td>\n",
       "      <td>NaN</td>\n",
       "      <td>NaN</td>\n",
       "      <td>NaN</td>\n",
       "      <td>NaN</td>\n",
       "      <td>1.040000e+05</td>\n",
       "      <td>6.728100e+04</td>\n",
       "      <td>0.000000e+00</td>\n",
       "    </tr>\n",
       "    <tr>\n",
       "      <th>50%</th>\n",
       "      <td>33406.000000</td>\n",
       "      <td>0.000000</td>\n",
       "      <td>NaN</td>\n",
       "      <td>NaN</td>\n",
       "      <td>NaN</td>\n",
       "      <td>NaN</td>\n",
       "      <td>NaN</td>\n",
       "      <td>NaN</td>\n",
       "      <td>NaN</td>\n",
       "      <td>NaN</td>\n",
       "      <td>3.040000e+05</td>\n",
       "      <td>2.131320e+05</td>\n",
       "      <td>0.000000e+00</td>\n",
       "    </tr>\n",
       "    <tr>\n",
       "      <th>75%</th>\n",
       "      <td>50108.500000</td>\n",
       "      <td>0.000000</td>\n",
       "      <td>NaN</td>\n",
       "      <td>NaN</td>\n",
       "      <td>NaN</td>\n",
       "      <td>NaN</td>\n",
       "      <td>NaN</td>\n",
       "      <td>NaN</td>\n",
       "      <td>NaN</td>\n",
       "      <td>NaN</td>\n",
       "      <td>7.668185e+05</td>\n",
       "      <td>5.647650e+05</td>\n",
       "      <td>0.000000e+00</td>\n",
       "    </tr>\n",
       "    <tr>\n",
       "      <th>max</th>\n",
       "      <td>66811.000000</td>\n",
       "      <td>1.000000</td>\n",
       "      <td>650149.000000</td>\n",
       "      <td>33794.000000</td>\n",
       "      <td>235324.000000</td>\n",
       "      <td>50923.000000</td>\n",
       "      <td>1.166597e+06</td>\n",
       "      <td>1.255724e+06</td>\n",
       "      <td>1.615554e+06</td>\n",
       "      <td>48990.00000</td>\n",
       "      <td>2.187011e+08</td>\n",
       "      <td>1.840244e+08</td>\n",
       "      <td>1.371362e+09</td>\n",
       "    </tr>\n",
       "  </tbody>\n",
       "</table>\n",
       "</div>"
      ],
      "text/plain": [
       "                 ID    FLG_DEF_6M  CBI201312_CREDITI  \\\n",
       "count  66811.000000  66811.000000       57571.000000   \n",
       "mean   33406.000000      0.165572         454.488110   \n",
       "std    19286.818754      0.371698        2935.871352   \n",
       "min        1.000000      0.000000           0.000000   \n",
       "25%    16703.500000      0.000000                NaN   \n",
       "50%    33406.000000      0.000000                NaN   \n",
       "75%    50108.500000      0.000000                NaN   \n",
       "max    66811.000000      1.000000      650149.000000   \n",
       "\n",
       "       CBI201312_UTILE_PERDITA_ESERCIZIO  CBI201312_PATRIMONIO_NETTO  \\\n",
       "count                       53997.000000                53997.000000   \n",
       "mean                            9.194326                  289.402078   \n",
       "std                           275.938893                 1505.764856   \n",
       "min                        -18087.000000               -29509.000000   \n",
       "25%                                  NaN                         NaN   \n",
       "50%                                  NaN                         NaN   \n",
       "75%                                  NaN                         NaN   \n",
       "max                         33794.000000               235324.000000   \n",
       "\n",
       "       CBI201312_DEBITI_CONSOLIDATI  CBI201312_DEBITI_ENTRO_ES_SUCC  \\\n",
       "count                  57571.000000                    5.757100e+04   \n",
       "mean                     262.123604                    6.803398e+02   \n",
       "std                      789.671069                    5.140208e+03   \n",
       "min                        0.000000                    0.000000e+00   \n",
       "25%                             NaN                             NaN   \n",
       "50%                             NaN                             NaN   \n",
       "75%                             NaN                             NaN   \n",
       "max                    50923.000000                    1.166597e+06   \n",
       "\n",
       "       CBI201312_RICAVI_NETTI  CBI201312_ACQUISTI_NETTI  \\\n",
       "count            5.399700e+04              5.399700e+04   \n",
       "mean             1.227074e+03              5.660812e+02   \n",
       "std              6.730968e+03              7.762285e+03   \n",
       "min              0.000000e+00              0.000000e+00   \n",
       "25%                       NaN                       NaN   \n",
       "50%                       NaN                       NaN   \n",
       "75%                       NaN                       NaN   \n",
       "max              1.255724e+06              1.615554e+06   \n",
       "\n",
       "       CBI201312_COSTI_SERVZ_BENI_TERZI  IMP_ACCORDATO  IMP_UTILIZZATO  \\\n",
       "count                       57571.00000   6.681100e+04    6.681100e+04   \n",
       "mean                          315.62502   7.000651e+05    5.541229e+05   \n",
       "std                           766.03980   1.989887e+06    1.843194e+06   \n",
       "min                             0.00000   0.000000e+00    0.000000e+00   \n",
       "25%                                 NaN   1.040000e+05    6.728100e+04   \n",
       "50%                                 NaN   3.040000e+05    2.131320e+05   \n",
       "75%                                 NaN   7.668185e+05    5.647650e+05   \n",
       "max                         48990.00000   2.187011e+08    1.840244e+08   \n",
       "\n",
       "       IMP_VALORE_GARANZIA  \n",
       "count         6.681100e+04  \n",
       "mean          1.381665e+05  \n",
       "std           8.336413e+06  \n",
       "min           0.000000e+00  \n",
       "25%           0.000000e+00  \n",
       "50%           0.000000e+00  \n",
       "75%           0.000000e+00  \n",
       "max           1.371362e+09  "
      ]
     },
     "execution_count": 19,
     "metadata": {},
     "output_type": "execute_result"
    }
   ],
   "source": [
    "db_train.describe()"
   ]
  },
  {
   "cell_type": "code",
   "execution_count": 20,
   "metadata": {
    "collapsed": false
   },
   "outputs": [
    {
     "data": {
      "text/html": [
       "<div>\n",
       "<table border=\"1\" class=\"dataframe\">\n",
       "  <thead>\n",
       "    <tr style=\"text-align: right;\">\n",
       "      <th></th>\n",
       "      <th>ID</th>\n",
       "      <th>CBI201312_CREDITI</th>\n",
       "      <th>CBI201312_UTILE_PERDITA_ESERCIZIO</th>\n",
       "      <th>CBI201312_PATRIMONIO_NETTO</th>\n",
       "      <th>CBI201312_DEBITI_CONSOLIDATI</th>\n",
       "      <th>CBI201312_DEBITI_ENTRO_ES_SUCC</th>\n",
       "      <th>CBI201312_RICAVI_NETTI</th>\n",
       "      <th>CBI201312_ACQUISTI_NETTI</th>\n",
       "      <th>CBI201312_COSTI_SERVZ_BENI_TERZI</th>\n",
       "      <th>IMP_ACCORDATO</th>\n",
       "      <th>IMP_UTILIZZATO</th>\n",
       "      <th>IMP_VALORE_GARANZIA</th>\n",
       "    </tr>\n",
       "  </thead>\n",
       "  <tbody>\n",
       "    <tr>\n",
       "      <th>count</th>\n",
       "      <td>7547.000000</td>\n",
       "      <td>6536.000000</td>\n",
       "      <td>6120.000000</td>\n",
       "      <td>6120.000000</td>\n",
       "      <td>6536.000000</td>\n",
       "      <td>6536.000000</td>\n",
       "      <td>6120.000000</td>\n",
       "      <td>6120.000000</td>\n",
       "      <td>6536.000000</td>\n",
       "      <td>7.547000e+03</td>\n",
       "      <td>7.547000e+03</td>\n",
       "      <td>7.547000e+03</td>\n",
       "    </tr>\n",
       "    <tr>\n",
       "      <th>mean</th>\n",
       "      <td>70585.000000</td>\n",
       "      <td>463.978580</td>\n",
       "      <td>4.048693</td>\n",
       "      <td>297.683007</td>\n",
       "      <td>263.204865</td>\n",
       "      <td>680.496481</td>\n",
       "      <td>1197.070425</td>\n",
       "      <td>504.723203</td>\n",
       "      <td>323.755967</td>\n",
       "      <td>7.072428e+05</td>\n",
       "      <td>5.545678e+05</td>\n",
       "      <td>9.978743e+04</td>\n",
       "    </tr>\n",
       "    <tr>\n",
       "      <th>std</th>\n",
       "      <td>2178.775574</td>\n",
       "      <td>1535.072873</td>\n",
       "      <td>190.523061</td>\n",
       "      <td>1321.769239</td>\n",
       "      <td>758.703028</td>\n",
       "      <td>1639.946661</td>\n",
       "      <td>2535.844102</td>\n",
       "      <td>1057.875126</td>\n",
       "      <td>1149.209640</td>\n",
       "      <td>1.846200e+06</td>\n",
       "      <td>1.534521e+06</td>\n",
       "      <td>2.763668e+06</td>\n",
       "    </tr>\n",
       "    <tr>\n",
       "      <th>min</th>\n",
       "      <td>66812.000000</td>\n",
       "      <td>0.000000</td>\n",
       "      <td>-6129.000000</td>\n",
       "      <td>-27140.000000</td>\n",
       "      <td>0.000000</td>\n",
       "      <td>0.000000</td>\n",
       "      <td>0.000000</td>\n",
       "      <td>0.000000</td>\n",
       "      <td>0.000000</td>\n",
       "      <td>0.000000e+00</td>\n",
       "      <td>0.000000e+00</td>\n",
       "      <td>0.000000e+00</td>\n",
       "    </tr>\n",
       "    <tr>\n",
       "      <th>25%</th>\n",
       "      <td>68698.500000</td>\n",
       "      <td>NaN</td>\n",
       "      <td>NaN</td>\n",
       "      <td>NaN</td>\n",
       "      <td>NaN</td>\n",
       "      <td>NaN</td>\n",
       "      <td>NaN</td>\n",
       "      <td>NaN</td>\n",
       "      <td>NaN</td>\n",
       "      <td>1.044900e+05</td>\n",
       "      <td>6.972600e+04</td>\n",
       "      <td>0.000000e+00</td>\n",
       "    </tr>\n",
       "    <tr>\n",
       "      <th>50%</th>\n",
       "      <td>70585.000000</td>\n",
       "      <td>NaN</td>\n",
       "      <td>NaN</td>\n",
       "      <td>NaN</td>\n",
       "      <td>NaN</td>\n",
       "      <td>NaN</td>\n",
       "      <td>NaN</td>\n",
       "      <td>NaN</td>\n",
       "      <td>NaN</td>\n",
       "      <td>3.103680e+05</td>\n",
       "      <td>2.182460e+05</td>\n",
       "      <td>0.000000e+00</td>\n",
       "    </tr>\n",
       "    <tr>\n",
       "      <th>75%</th>\n",
       "      <td>72471.500000</td>\n",
       "      <td>NaN</td>\n",
       "      <td>NaN</td>\n",
       "      <td>NaN</td>\n",
       "      <td>NaN</td>\n",
       "      <td>NaN</td>\n",
       "      <td>NaN</td>\n",
       "      <td>NaN</td>\n",
       "      <td>NaN</td>\n",
       "      <td>7.805195e+05</td>\n",
       "      <td>5.711205e+05</td>\n",
       "      <td>0.000000e+00</td>\n",
       "    </tr>\n",
       "    <tr>\n",
       "      <th>max</th>\n",
       "      <td>74358.000000</td>\n",
       "      <td>77338.000000</td>\n",
       "      <td>3592.000000</td>\n",
       "      <td>37434.000000</td>\n",
       "      <td>24886.000000</td>\n",
       "      <td>77072.000000</td>\n",
       "      <td>100388.000000</td>\n",
       "      <td>25049.000000</td>\n",
       "      <td>76745.000000</td>\n",
       "      <td>7.771568e+07</td>\n",
       "      <td>5.590082e+07</td>\n",
       "      <td>1.734256e+08</td>\n",
       "    </tr>\n",
       "  </tbody>\n",
       "</table>\n",
       "</div>"
      ],
      "text/plain": [
       "                 ID  CBI201312_CREDITI  CBI201312_UTILE_PERDITA_ESERCIZIO  \\\n",
       "count   7547.000000        6536.000000                        6120.000000   \n",
       "mean   70585.000000         463.978580                           4.048693   \n",
       "std     2178.775574        1535.072873                         190.523061   \n",
       "min    66812.000000           0.000000                       -6129.000000   \n",
       "25%    68698.500000                NaN                                NaN   \n",
       "50%    70585.000000                NaN                                NaN   \n",
       "75%    72471.500000                NaN                                NaN   \n",
       "max    74358.000000       77338.000000                        3592.000000   \n",
       "\n",
       "       CBI201312_PATRIMONIO_NETTO  CBI201312_DEBITI_CONSOLIDATI  \\\n",
       "count                 6120.000000                   6536.000000   \n",
       "mean                   297.683007                    263.204865   \n",
       "std                   1321.769239                    758.703028   \n",
       "min                 -27140.000000                      0.000000   \n",
       "25%                           NaN                           NaN   \n",
       "50%                           NaN                           NaN   \n",
       "75%                           NaN                           NaN   \n",
       "max                  37434.000000                  24886.000000   \n",
       "\n",
       "       CBI201312_DEBITI_ENTRO_ES_SUCC  CBI201312_RICAVI_NETTI  \\\n",
       "count                     6536.000000             6120.000000   \n",
       "mean                       680.496481             1197.070425   \n",
       "std                       1639.946661             2535.844102   \n",
       "min                          0.000000                0.000000   \n",
       "25%                               NaN                     NaN   \n",
       "50%                               NaN                     NaN   \n",
       "75%                               NaN                     NaN   \n",
       "max                      77072.000000           100388.000000   \n",
       "\n",
       "       CBI201312_ACQUISTI_NETTI  CBI201312_COSTI_SERVZ_BENI_TERZI  \\\n",
       "count               6120.000000                       6536.000000   \n",
       "mean                 504.723203                        323.755967   \n",
       "std                 1057.875126                       1149.209640   \n",
       "min                    0.000000                          0.000000   \n",
       "25%                         NaN                               NaN   \n",
       "50%                         NaN                               NaN   \n",
       "75%                         NaN                               NaN   \n",
       "max                25049.000000                      76745.000000   \n",
       "\n",
       "       IMP_ACCORDATO  IMP_UTILIZZATO  IMP_VALORE_GARANZIA  \n",
       "count   7.547000e+03    7.547000e+03         7.547000e+03  \n",
       "mean    7.072428e+05    5.545678e+05         9.978743e+04  \n",
       "std     1.846200e+06    1.534521e+06         2.763668e+06  \n",
       "min     0.000000e+00    0.000000e+00         0.000000e+00  \n",
       "25%     1.044900e+05    6.972600e+04         0.000000e+00  \n",
       "50%     3.103680e+05    2.182460e+05         0.000000e+00  \n",
       "75%     7.805195e+05    5.711205e+05         0.000000e+00  \n",
       "max     7.771568e+07    5.590082e+07         1.734256e+08  "
      ]
     },
     "execution_count": 20,
     "metadata": {},
     "output_type": "execute_result"
    }
   ],
   "source": [
    "db_test.describe()"
   ]
  },
  {
   "cell_type": "markdown",
   "metadata": {},
   "source": [
    "Conteggio i valori mancanti all'interno del dataset e procedo con le opportune trasformazioni:"
   ]
  },
  {
   "cell_type": "code",
   "execution_count": 21,
   "metadata": {
    "collapsed": false
   },
   "outputs": [
    {
     "data": {
      "text/plain": [
       "ID                                    0.000000\n",
       "COD_CAP                               0.112383\n",
       "COD_PROVINCIA                         4.493415\n",
       "DAT_COSTITUZIONE                      0.346951\n",
       "COD_RAE                               0.000000\n",
       "COD_SAE                               0.000000\n",
       "COD_ISTAT_ATECO_07                    0.640195\n",
       "FLG_DEF_6M                            0.000000\n",
       "CBI201312_CREDITI                    16.049747\n",
       "CBI201312_UTILE_PERDITA_ESERCIZIO    23.730948\n",
       "CBI201312_PATRIMONIO_NETTO           23.730948\n",
       "CBI201312_DEBITI_CONSOLIDATI         16.049747\n",
       "CBI201312_DEBITI_ENTRO_ES_SUCC       16.049747\n",
       "CBI201312_RICAVI_NETTI               23.730948\n",
       "CBI201312_ACQUISTI_NETTI             23.730948\n",
       "CBI201312_COSTI_SERVZ_BENI_TERZI     16.049747\n",
       "IMP_ACCORDATO                         0.000000\n",
       "IMP_UTILIZZATO                        0.000000\n",
       "IMP_VALORE_GARANZIA                   0.000000\n",
       "dtype: float64"
      ]
     },
     "execution_count": 21,
     "metadata": {},
     "output_type": "execute_result"
    }
   ],
   "source": [
    "(db_train.isnull().sum()/db_train.count())*100"
   ]
  },
  {
   "cell_type": "code",
   "execution_count": 22,
   "metadata": {
    "collapsed": false
   },
   "outputs": [
    {
     "data": {
      "text/plain": [
       "ID                                    0.000000\n",
       "COD_CAP                               0.106115\n",
       "COD_PROVINCIA                         4.630528\n",
       "DAT_COSTITUZIONE                      0.319022\n",
       "COD_RAE                               0.000000\n",
       "COD_SAE                               0.000000\n",
       "COD_ISTAT_ATECO_07                    0.599840\n",
       "CBI201312_CREDITI                    15.468176\n",
       "CBI201312_UTILE_PERDITA_ESERCIZIO    23.316993\n",
       "CBI201312_PATRIMONIO_NETTO           23.316993\n",
       "CBI201312_DEBITI_CONSOLIDATI         15.468176\n",
       "CBI201312_DEBITI_ENTRO_ES_SUCC       15.468176\n",
       "CBI201312_RICAVI_NETTI               23.316993\n",
       "CBI201312_ACQUISTI_NETTI             23.316993\n",
       "CBI201312_COSTI_SERVZ_BENI_TERZI     15.468176\n",
       "IMP_ACCORDATO                         0.000000\n",
       "IMP_UTILIZZATO                        0.000000\n",
       "IMP_VALORE_GARANZIA                   0.000000\n",
       "dtype: float64"
      ]
     },
     "execution_count": 22,
     "metadata": {},
     "output_type": "execute_result"
    }
   ],
   "source": [
    "(db_test.isnull().sum()/db_test.count())*100"
   ]
  },
  {
   "cell_type": "markdown",
   "metadata": {},
   "source": [
    "## Trasformazione del dataset"
   ]
  },
  {
   "cell_type": "markdown",
   "metadata": {},
   "source": [
    "Effettuo una copia dei dataframe in modo da non sovrascrivere l'originale:"
   ]
  },
  {
   "cell_type": "code",
   "execution_count": 23,
   "metadata": {
    "collapsed": true
   },
   "outputs": [],
   "source": [
    "db_train1=db_train.copy()\n",
    "db_train2=db_train.copy()"
   ]
  },
  {
   "cell_type": "code",
   "execution_count": 24,
   "metadata": {
    "collapsed": true
   },
   "outputs": [],
   "source": [
    "db_test1=db_test.copy()\n",
    "db_test2=db_test.copy()"
   ]
  },
  {
   "cell_type": "markdown",
   "metadata": {},
   "source": [
    "Riempio i valori mancanti con valori limite:"
   ]
  },
  {
   "cell_type": "code",
   "execution_count": 25,
   "metadata": {
    "collapsed": true
   },
   "outputs": [],
   "source": [
    "db_train1['CBI201312_CREDITI']=db_train1['CBI201312_CREDITI'].replace(np.nan,-9999)\n",
    "db_train1['CBI201312_UTILE_PERDITA_ESERCIZIO']=db_train1['CBI201312_UTILE_PERDITA_ESERCIZIO'].replace(np.nan,-9999)\n",
    "db_train1['CBI201312_PATRIMONIO_NETTO']=db_train1['CBI201312_PATRIMONIO_NETTO'].replace(np.nan,-9999)\n",
    "db_train1['CBI201312_DEBITI_CONSOLIDATI']=db_train1['CBI201312_DEBITI_CONSOLIDATI'].replace(np.nan,-9999)\n",
    "db_train1['CBI201312_DEBITI_ENTRO_ES_SUCC']=db_train1['CBI201312_DEBITI_ENTRO_ES_SUCC'].replace(np.nan,-9999)\n",
    "db_train1['CBI201312_RICAVI_NETTI']=db_train1['CBI201312_RICAVI_NETTI'].replace(np.nan,-9999)\n",
    "db_train1['CBI201312_ACQUISTI_NETTI']=db_train1['CBI201312_ACQUISTI_NETTI'].replace(np.nan,-9999)\n",
    "db_train1['CBI201312_COSTI_SERVZ_BENI_TERZI']=db_train1['CBI201312_COSTI_SERVZ_BENI_TERZI'].replace(np.nan,-9999)"
   ]
  },
  {
   "cell_type": "code",
   "execution_count": 26,
   "metadata": {
    "collapsed": true
   },
   "outputs": [],
   "source": [
    "db_test1['COD_CAP']=db_test1['COD_CAP'].replace(np.nan,-9999)\n",
    "db_test1['COD_ISTAT_ATECO_07']=db_test1['COD_ISTAT_ATECO_07'].replace(np.nan,-9999)\n",
    "db_test1['CBI201312_CREDITI']=db_test1['CBI201312_CREDITI'].replace(np.nan,-9999)\n",
    "db_test1['CBI201312_UTILE_PERDITA_ESERCIZIO']=db_test1['CBI201312_UTILE_PERDITA_ESERCIZIO'].replace(np.nan,-9999)\n",
    "db_test1['CBI201312_PATRIMONIO_NETTO']=db_test1['CBI201312_PATRIMONIO_NETTO'].replace(np.nan,-9999)\n",
    "db_test1['CBI201312_DEBITI_CONSOLIDATI']=db_test1['CBI201312_DEBITI_CONSOLIDATI'].replace(np.nan,-9999)\n",
    "db_test1['CBI201312_DEBITI_ENTRO_ES_SUCC']=db_test1['CBI201312_DEBITI_ENTRO_ES_SUCC'].replace(np.nan,-9999)\n",
    "db_test1['CBI201312_RICAVI_NETTI']=db_test1['CBI201312_RICAVI_NETTI'].replace(np.nan,-9999)\n",
    "db_test1['CBI201312_ACQUISTI_NETTI']=db_test1['CBI201312_ACQUISTI_NETTI'].replace(np.nan,-9999)\n",
    "db_test1['CBI201312_COSTI_SERVZ_BENI_TERZI']=db_test1['CBI201312_COSTI_SERVZ_BENI_TERZI'].replace(np.nan,-9999)"
   ]
  },
  {
   "cell_type": "code",
   "execution_count": 27,
   "metadata": {
    "collapsed": false
   },
   "outputs": [
    {
     "data": {
      "text/html": [
       "<div>\n",
       "<table border=\"1\" class=\"dataframe\">\n",
       "  <thead>\n",
       "    <tr style=\"text-align: right;\">\n",
       "      <th></th>\n",
       "      <th>ID</th>\n",
       "      <th>COD_CAP</th>\n",
       "      <th>COD_PROVINCIA</th>\n",
       "      <th>DAT_COSTITUZIONE</th>\n",
       "      <th>COD_RAE</th>\n",
       "      <th>COD_SAE</th>\n",
       "      <th>COD_ISTAT_ATECO_07</th>\n",
       "      <th>FLG_DEF_6M</th>\n",
       "      <th>CBI201312_CREDITI</th>\n",
       "      <th>CBI201312_UTILE_PERDITA_ESERCIZIO</th>\n",
       "      <th>CBI201312_PATRIMONIO_NETTO</th>\n",
       "      <th>CBI201312_DEBITI_CONSOLIDATI</th>\n",
       "      <th>CBI201312_DEBITI_ENTRO_ES_SUCC</th>\n",
       "      <th>CBI201312_RICAVI_NETTI</th>\n",
       "      <th>CBI201312_ACQUISTI_NETTI</th>\n",
       "      <th>CBI201312_COSTI_SERVZ_BENI_TERZI</th>\n",
       "      <th>IMP_ACCORDATO</th>\n",
       "      <th>IMP_UTILIZZATO</th>\n",
       "      <th>IMP_VALORE_GARANZIA</th>\n",
       "    </tr>\n",
       "  </thead>\n",
       "  <tbody>\n",
       "    <tr>\n",
       "      <th>0</th>\n",
       "      <td>1</td>\n",
       "      <td>83013</td>\n",
       "      <td>AV</td>\n",
       "      <td>1977</td>\n",
       "      <td>243</td>\n",
       "      <td>430</td>\n",
       "      <td>41</td>\n",
       "      <td>1</td>\n",
       "      <td>-9999.0</td>\n",
       "      <td>-9999.0</td>\n",
       "      <td>-9999.0</td>\n",
       "      <td>-9999.0</td>\n",
       "      <td>-9999.0</td>\n",
       "      <td>-9999.0</td>\n",
       "      <td>-9999.0</td>\n",
       "      <td>-9999.0</td>\n",
       "      <td>0.0</td>\n",
       "      <td>135220.0</td>\n",
       "      <td>0.0</td>\n",
       "    </tr>\n",
       "    <tr>\n",
       "      <th>1</th>\n",
       "      <td>2</td>\n",
       "      <td>84131</td>\n",
       "      <td>SA</td>\n",
       "      <td>1984</td>\n",
       "      <td>614</td>\n",
       "      <td>492</td>\n",
       "      <td>47</td>\n",
       "      <td>1</td>\n",
       "      <td>-9999.0</td>\n",
       "      <td>-9999.0</td>\n",
       "      <td>-9999.0</td>\n",
       "      <td>-9999.0</td>\n",
       "      <td>-9999.0</td>\n",
       "      <td>-9999.0</td>\n",
       "      <td>-9999.0</td>\n",
       "      <td>-9999.0</td>\n",
       "      <td>844348.0</td>\n",
       "      <td>1054419.0</td>\n",
       "      <td>0.0</td>\n",
       "    </tr>\n",
       "    <tr>\n",
       "      <th>2</th>\n",
       "      <td>3</td>\n",
       "      <td>82030</td>\n",
       "      <td>BN</td>\n",
       "      <td>1952</td>\n",
       "      <td>012</td>\n",
       "      <td>430</td>\n",
       "      <td>11</td>\n",
       "      <td>1</td>\n",
       "      <td>-9999.0</td>\n",
       "      <td>-9999.0</td>\n",
       "      <td>-9999.0</td>\n",
       "      <td>-9999.0</td>\n",
       "      <td>-9999.0</td>\n",
       "      <td>-9999.0</td>\n",
       "      <td>-9999.0</td>\n",
       "      <td>-9999.0</td>\n",
       "      <td>0.0</td>\n",
       "      <td>332366.0</td>\n",
       "      <td>0.0</td>\n",
       "    </tr>\n",
       "    <tr>\n",
       "      <th>3</th>\n",
       "      <td>4</td>\n",
       "      <td>80133</td>\n",
       "      <td>NaN</td>\n",
       "      <td>1982</td>\n",
       "      <td>830</td>\n",
       "      <td>430</td>\n",
       "      <td>41</td>\n",
       "      <td>1</td>\n",
       "      <td>-9999.0</td>\n",
       "      <td>-9999.0</td>\n",
       "      <td>-9999.0</td>\n",
       "      <td>-9999.0</td>\n",
       "      <td>-9999.0</td>\n",
       "      <td>-9999.0</td>\n",
       "      <td>-9999.0</td>\n",
       "      <td>-9999.0</td>\n",
       "      <td>0.0</td>\n",
       "      <td>51762483.0</td>\n",
       "      <td>0.0</td>\n",
       "    </tr>\n",
       "    <tr>\n",
       "      <th>4</th>\n",
       "      <td>5</td>\n",
       "      <td>72021</td>\n",
       "      <td>BR</td>\n",
       "      <td>1989</td>\n",
       "      <td>419</td>\n",
       "      <td>482</td>\n",
       "      <td>10</td>\n",
       "      <td>0</td>\n",
       "      <td>-9999.0</td>\n",
       "      <td>-9999.0</td>\n",
       "      <td>-9999.0</td>\n",
       "      <td>-9999.0</td>\n",
       "      <td>-9999.0</td>\n",
       "      <td>-9999.0</td>\n",
       "      <td>-9999.0</td>\n",
       "      <td>-9999.0</td>\n",
       "      <td>37562.0</td>\n",
       "      <td>34857.0</td>\n",
       "      <td>0.0</td>\n",
       "    </tr>\n",
       "  </tbody>\n",
       "</table>\n",
       "</div>"
      ],
      "text/plain": [
       "   ID COD_CAP COD_PROVINCIA DAT_COSTITUZIONE COD_RAE COD_SAE  \\\n",
       "0   1   83013            AV             1977     243     430   \n",
       "1   2   84131            SA             1984     614     492   \n",
       "2   3   82030            BN             1952     012     430   \n",
       "3   4   80133           NaN             1982     830     430   \n",
       "4   5   72021            BR             1989     419     482   \n",
       "\n",
       "  COD_ISTAT_ATECO_07  FLG_DEF_6M  CBI201312_CREDITI  \\\n",
       "0                 41           1            -9999.0   \n",
       "1                 47           1            -9999.0   \n",
       "2                 11           1            -9999.0   \n",
       "3                 41           1            -9999.0   \n",
       "4                 10           0            -9999.0   \n",
       "\n",
       "   CBI201312_UTILE_PERDITA_ESERCIZIO  CBI201312_PATRIMONIO_NETTO  \\\n",
       "0                            -9999.0                     -9999.0   \n",
       "1                            -9999.0                     -9999.0   \n",
       "2                            -9999.0                     -9999.0   \n",
       "3                            -9999.0                     -9999.0   \n",
       "4                            -9999.0                     -9999.0   \n",
       "\n",
       "   CBI201312_DEBITI_CONSOLIDATI  CBI201312_DEBITI_ENTRO_ES_SUCC  \\\n",
       "0                       -9999.0                         -9999.0   \n",
       "1                       -9999.0                         -9999.0   \n",
       "2                       -9999.0                         -9999.0   \n",
       "3                       -9999.0                         -9999.0   \n",
       "4                       -9999.0                         -9999.0   \n",
       "\n",
       "   CBI201312_RICAVI_NETTI  CBI201312_ACQUISTI_NETTI  \\\n",
       "0                 -9999.0                   -9999.0   \n",
       "1                 -9999.0                   -9999.0   \n",
       "2                 -9999.0                   -9999.0   \n",
       "3                 -9999.0                   -9999.0   \n",
       "4                 -9999.0                   -9999.0   \n",
       "\n",
       "   CBI201312_COSTI_SERVZ_BENI_TERZI  IMP_ACCORDATO  IMP_UTILIZZATO  \\\n",
       "0                           -9999.0            0.0        135220.0   \n",
       "1                           -9999.0       844348.0       1054419.0   \n",
       "2                           -9999.0            0.0        332366.0   \n",
       "3                           -9999.0            0.0      51762483.0   \n",
       "4                           -9999.0        37562.0         34857.0   \n",
       "\n",
       "   IMP_VALORE_GARANZIA  \n",
       "0                  0.0  \n",
       "1                  0.0  \n",
       "2                  0.0  \n",
       "3                  0.0  \n",
       "4                  0.0  "
      ]
     },
     "execution_count": 27,
     "metadata": {},
     "output_type": "execute_result"
    }
   ],
   "source": [
    "db_train1.head()"
   ]
  },
  {
   "cell_type": "code",
   "execution_count": 28,
   "metadata": {
    "collapsed": false
   },
   "outputs": [
    {
     "data": {
      "text/html": [
       "<div>\n",
       "<table border=\"1\" class=\"dataframe\">\n",
       "  <thead>\n",
       "    <tr style=\"text-align: right;\">\n",
       "      <th></th>\n",
       "      <th>ID</th>\n",
       "      <th>COD_CAP</th>\n",
       "      <th>COD_PROVINCIA</th>\n",
       "      <th>DAT_COSTITUZIONE</th>\n",
       "      <th>COD_RAE</th>\n",
       "      <th>COD_SAE</th>\n",
       "      <th>COD_ISTAT_ATECO_07</th>\n",
       "      <th>CBI201312_CREDITI</th>\n",
       "      <th>CBI201312_UTILE_PERDITA_ESERCIZIO</th>\n",
       "      <th>CBI201312_PATRIMONIO_NETTO</th>\n",
       "      <th>CBI201312_DEBITI_CONSOLIDATI</th>\n",
       "      <th>CBI201312_DEBITI_ENTRO_ES_SUCC</th>\n",
       "      <th>CBI201312_RICAVI_NETTI</th>\n",
       "      <th>CBI201312_ACQUISTI_NETTI</th>\n",
       "      <th>CBI201312_COSTI_SERVZ_BENI_TERZI</th>\n",
       "      <th>IMP_ACCORDATO</th>\n",
       "      <th>IMP_UTILIZZATO</th>\n",
       "      <th>IMP_VALORE_GARANZIA</th>\n",
       "    </tr>\n",
       "  </thead>\n",
       "  <tbody>\n",
       "    <tr>\n",
       "      <th>0</th>\n",
       "      <td>66812</td>\n",
       "      <td>16033</td>\n",
       "      <td>GE</td>\n",
       "      <td>1977</td>\n",
       "      <td>830</td>\n",
       "      <td>482</td>\n",
       "      <td>63</td>\n",
       "      <td>-9999.0</td>\n",
       "      <td>-9999.0</td>\n",
       "      <td>-9999.0</td>\n",
       "      <td>-9999.0</td>\n",
       "      <td>-9999.0</td>\n",
       "      <td>-9999.0</td>\n",
       "      <td>-9999.0</td>\n",
       "      <td>-9999.0</td>\n",
       "      <td>59982.0</td>\n",
       "      <td>59982.0</td>\n",
       "      <td>0.0</td>\n",
       "    </tr>\n",
       "    <tr>\n",
       "      <th>1</th>\n",
       "      <td>66813</td>\n",
       "      <td>10090</td>\n",
       "      <td>TO</td>\n",
       "      <td>1985</td>\n",
       "      <td>345</td>\n",
       "      <td>492</td>\n",
       "      <td>26</td>\n",
       "      <td>-9999.0</td>\n",
       "      <td>-9999.0</td>\n",
       "      <td>-9999.0</td>\n",
       "      <td>-9999.0</td>\n",
       "      <td>-9999.0</td>\n",
       "      <td>-9999.0</td>\n",
       "      <td>-9999.0</td>\n",
       "      <td>-9999.0</td>\n",
       "      <td>388785.0</td>\n",
       "      <td>391500.0</td>\n",
       "      <td>0.0</td>\n",
       "    </tr>\n",
       "    <tr>\n",
       "      <th>2</th>\n",
       "      <td>66814</td>\n",
       "      <td>34170</td>\n",
       "      <td>GO</td>\n",
       "      <td>1921</td>\n",
       "      <td>648</td>\n",
       "      <td>492</td>\n",
       "      <td>47</td>\n",
       "      <td>-9999.0</td>\n",
       "      <td>-9999.0</td>\n",
       "      <td>-9999.0</td>\n",
       "      <td>-9999.0</td>\n",
       "      <td>-9999.0</td>\n",
       "      <td>-9999.0</td>\n",
       "      <td>-9999.0</td>\n",
       "      <td>-9999.0</td>\n",
       "      <td>213293.0</td>\n",
       "      <td>211445.0</td>\n",
       "      <td>0.0</td>\n",
       "    </tr>\n",
       "    <tr>\n",
       "      <th>3</th>\n",
       "      <td>66815</td>\n",
       "      <td>35044</td>\n",
       "      <td>PD</td>\n",
       "      <td>1993</td>\n",
       "      <td>467</td>\n",
       "      <td>482</td>\n",
       "      <td>31</td>\n",
       "      <td>125.0</td>\n",
       "      <td>32.0</td>\n",
       "      <td>-186.0</td>\n",
       "      <td>177.0</td>\n",
       "      <td>351.0</td>\n",
       "      <td>779.0</td>\n",
       "      <td>351.0</td>\n",
       "      <td>256.0</td>\n",
       "      <td>437243.0</td>\n",
       "      <td>374537.0</td>\n",
       "      <td>0.0</td>\n",
       "    </tr>\n",
       "    <tr>\n",
       "      <th>4</th>\n",
       "      <td>66816</td>\n",
       "      <td>11017</td>\n",
       "      <td>AO</td>\n",
       "      <td>1975</td>\n",
       "      <td>505</td>\n",
       "      <td>482</td>\n",
       "      <td>41</td>\n",
       "      <td>51.0</td>\n",
       "      <td>74.0</td>\n",
       "      <td>-17.0</td>\n",
       "      <td>447.0</td>\n",
       "      <td>26.0</td>\n",
       "      <td>407.0</td>\n",
       "      <td>122.0</td>\n",
       "      <td>19.0</td>\n",
       "      <td>620000.0</td>\n",
       "      <td>0.0</td>\n",
       "      <td>0.0</td>\n",
       "    </tr>\n",
       "  </tbody>\n",
       "</table>\n",
       "</div>"
      ],
      "text/plain": [
       "      ID COD_CAP COD_PROVINCIA DAT_COSTITUZIONE COD_RAE COD_SAE  \\\n",
       "0  66812   16033            GE             1977     830     482   \n",
       "1  66813   10090            TO             1985     345     492   \n",
       "2  66814   34170            GO             1921     648     492   \n",
       "3  66815   35044            PD             1993     467     482   \n",
       "4  66816   11017            AO             1975     505     482   \n",
       "\n",
       "  COD_ISTAT_ATECO_07  CBI201312_CREDITI  CBI201312_UTILE_PERDITA_ESERCIZIO  \\\n",
       "0                 63            -9999.0                            -9999.0   \n",
       "1                 26            -9999.0                            -9999.0   \n",
       "2                 47            -9999.0                            -9999.0   \n",
       "3                 31              125.0                               32.0   \n",
       "4                 41               51.0                               74.0   \n",
       "\n",
       "   CBI201312_PATRIMONIO_NETTO  CBI201312_DEBITI_CONSOLIDATI  \\\n",
       "0                     -9999.0                       -9999.0   \n",
       "1                     -9999.0                       -9999.0   \n",
       "2                     -9999.0                       -9999.0   \n",
       "3                      -186.0                         177.0   \n",
       "4                       -17.0                         447.0   \n",
       "\n",
       "   CBI201312_DEBITI_ENTRO_ES_SUCC  CBI201312_RICAVI_NETTI  \\\n",
       "0                         -9999.0                 -9999.0   \n",
       "1                         -9999.0                 -9999.0   \n",
       "2                         -9999.0                 -9999.0   \n",
       "3                           351.0                   779.0   \n",
       "4                            26.0                   407.0   \n",
       "\n",
       "   CBI201312_ACQUISTI_NETTI  CBI201312_COSTI_SERVZ_BENI_TERZI  IMP_ACCORDATO  \\\n",
       "0                   -9999.0                           -9999.0        59982.0   \n",
       "1                   -9999.0                           -9999.0       388785.0   \n",
       "2                   -9999.0                           -9999.0       213293.0   \n",
       "3                     351.0                             256.0       437243.0   \n",
       "4                     122.0                              19.0       620000.0   \n",
       "\n",
       "   IMP_UTILIZZATO  IMP_VALORE_GARANZIA  \n",
       "0         59982.0                  0.0  \n",
       "1        391500.0                  0.0  \n",
       "2        211445.0                  0.0  \n",
       "3        374537.0                  0.0  \n",
       "4             0.0                  0.0  "
      ]
     },
     "execution_count": 28,
     "metadata": {},
     "output_type": "execute_result"
    }
   ],
   "source": [
    "db_test1.head()"
   ]
  },
  {
   "cell_type": "code",
   "execution_count": 29,
   "metadata": {
    "collapsed": false
   },
   "outputs": [
    {
     "data": {
      "text/plain": [
       "ID                                   0.000000\n",
       "COD_CAP                              0.112383\n",
       "COD_PROVINCIA                        4.493415\n",
       "DAT_COSTITUZIONE                     0.346951\n",
       "COD_RAE                              0.000000\n",
       "COD_SAE                              0.000000\n",
       "COD_ISTAT_ATECO_07                   0.640195\n",
       "FLG_DEF_6M                           0.000000\n",
       "CBI201312_CREDITI                    0.000000\n",
       "CBI201312_UTILE_PERDITA_ESERCIZIO    0.000000\n",
       "CBI201312_PATRIMONIO_NETTO           0.000000\n",
       "CBI201312_DEBITI_CONSOLIDATI         0.000000\n",
       "CBI201312_DEBITI_ENTRO_ES_SUCC       0.000000\n",
       "CBI201312_RICAVI_NETTI               0.000000\n",
       "CBI201312_ACQUISTI_NETTI             0.000000\n",
       "CBI201312_COSTI_SERVZ_BENI_TERZI     0.000000\n",
       "IMP_ACCORDATO                        0.000000\n",
       "IMP_UTILIZZATO                       0.000000\n",
       "IMP_VALORE_GARANZIA                  0.000000\n",
       "dtype: float64"
      ]
     },
     "execution_count": 29,
     "metadata": {},
     "output_type": "execute_result"
    }
   ],
   "source": [
    "(db_train1.isnull().sum()/db_train1.count())*100"
   ]
  },
  {
   "cell_type": "markdown",
   "metadata": {},
   "source": [
    "Il codice provincia e il codice Ateco presentano una percentuale minima di valori mancanti che possone essere eliminati dal dataset di training senza influire sul risultato:"
   ]
  },
  {
   "cell_type": "code",
   "execution_count": 30,
   "metadata": {
    "collapsed": false
   },
   "outputs": [],
   "source": [
    "db_train1=db_train1[db_train1.COD_CAP.notnull()]\n",
    "db_train1=db_train1[db_train1.COD_ISTAT_ATECO_07.notnull()]"
   ]
  },
  {
   "cell_type": "code",
   "execution_count": 31,
   "metadata": {
    "collapsed": false
   },
   "outputs": [
    {
     "data": {
      "text/plain": [
       "ID                                   0.000000\n",
       "COD_CAP                              0.000000\n",
       "COD_PROVINCIA                        4.393408\n",
       "DAT_COSTITUZIONE                     0.323732\n",
       "COD_RAE                              0.000000\n",
       "COD_SAE                              0.000000\n",
       "COD_ISTAT_ATECO_07                   0.000000\n",
       "FLG_DEF_6M                           0.000000\n",
       "CBI201312_CREDITI                    0.000000\n",
       "CBI201312_UTILE_PERDITA_ESERCIZIO    0.000000\n",
       "CBI201312_PATRIMONIO_NETTO           0.000000\n",
       "CBI201312_DEBITI_CONSOLIDATI         0.000000\n",
       "CBI201312_DEBITI_ENTRO_ES_SUCC       0.000000\n",
       "CBI201312_RICAVI_NETTI               0.000000\n",
       "CBI201312_ACQUISTI_NETTI             0.000000\n",
       "CBI201312_COSTI_SERVZ_BENI_TERZI     0.000000\n",
       "IMP_ACCORDATO                        0.000000\n",
       "IMP_UTILIZZATO                       0.000000\n",
       "IMP_VALORE_GARANZIA                  0.000000\n",
       "dtype: float64"
      ]
     },
     "execution_count": 31,
     "metadata": {},
     "output_type": "execute_result"
    }
   ],
   "source": [
    "(db_train1.isnull().sum()/db_train1.count())*100"
   ]
  },
  {
   "cell_type": "code",
   "execution_count": 32,
   "metadata": {
    "collapsed": false
   },
   "outputs": [
    {
     "data": {
      "text/plain": [
       "ID                                   0.000000\n",
       "COD_CAP                              0.000000\n",
       "COD_PROVINCIA                        4.630528\n",
       "DAT_COSTITUZIONE                     0.319022\n",
       "COD_RAE                              0.000000\n",
       "COD_SAE                              0.000000\n",
       "COD_ISTAT_ATECO_07                   0.000000\n",
       "CBI201312_CREDITI                    0.000000\n",
       "CBI201312_UTILE_PERDITA_ESERCIZIO    0.000000\n",
       "CBI201312_PATRIMONIO_NETTO           0.000000\n",
       "CBI201312_DEBITI_CONSOLIDATI         0.000000\n",
       "CBI201312_DEBITI_ENTRO_ES_SUCC       0.000000\n",
       "CBI201312_RICAVI_NETTI               0.000000\n",
       "CBI201312_ACQUISTI_NETTI             0.000000\n",
       "CBI201312_COSTI_SERVZ_BENI_TERZI     0.000000\n",
       "IMP_ACCORDATO                        0.000000\n",
       "IMP_UTILIZZATO                       0.000000\n",
       "IMP_VALORE_GARANZIA                  0.000000\n",
       "dtype: float64"
      ]
     },
     "execution_count": 32,
     "metadata": {},
     "output_type": "execute_result"
    }
   ],
   "source": [
    "(db_test1.isnull().sum()/db_test1.count())*100"
   ]
  },
  {
   "cell_type": "code",
   "execution_count": 33,
   "metadata": {
    "collapsed": false,
    "scrolled": true
   },
   "outputs": [
    {
     "data": {
      "text/html": [
       "<div>\n",
       "<table border=\"1\" class=\"dataframe\">\n",
       "  <thead>\n",
       "    <tr style=\"text-align: right;\">\n",
       "      <th></th>\n",
       "      <th>ID</th>\n",
       "      <th>FLG_DEF_6M</th>\n",
       "      <th>CBI201312_CREDITI</th>\n",
       "      <th>CBI201312_UTILE_PERDITA_ESERCIZIO</th>\n",
       "      <th>CBI201312_PATRIMONIO_NETTO</th>\n",
       "      <th>CBI201312_DEBITI_CONSOLIDATI</th>\n",
       "      <th>CBI201312_DEBITI_ENTRO_ES_SUCC</th>\n",
       "      <th>CBI201312_RICAVI_NETTI</th>\n",
       "      <th>CBI201312_ACQUISTI_NETTI</th>\n",
       "      <th>CBI201312_COSTI_SERVZ_BENI_TERZI</th>\n",
       "      <th>IMP_ACCORDATO</th>\n",
       "      <th>IMP_UTILIZZATO</th>\n",
       "      <th>IMP_VALORE_GARANZIA</th>\n",
       "    </tr>\n",
       "  </thead>\n",
       "  <tbody>\n",
       "    <tr>\n",
       "      <th>ID</th>\n",
       "      <td>1.000000</td>\n",
       "      <td>-0.057246</td>\n",
       "      <td>-0.007059</td>\n",
       "      <td>-0.007060</td>\n",
       "      <td>-0.041012</td>\n",
       "      <td>-0.030638</td>\n",
       "      <td>-0.002602</td>\n",
       "      <td>-0.006387</td>\n",
       "      <td>0.002771</td>\n",
       "      <td>-0.006761</td>\n",
       "      <td>0.006580</td>\n",
       "      <td>-0.007973</td>\n",
       "      <td>0.005607</td>\n",
       "    </tr>\n",
       "    <tr>\n",
       "      <th>FLG_DEF_6M</th>\n",
       "      <td>-0.057246</td>\n",
       "      <td>1.000000</td>\n",
       "      <td>-0.003293</td>\n",
       "      <td>-0.113949</td>\n",
       "      <td>-0.058204</td>\n",
       "      <td>0.080244</td>\n",
       "      <td>0.017689</td>\n",
       "      <td>-0.027666</td>\n",
       "      <td>-0.011781</td>\n",
       "      <td>-0.056943</td>\n",
       "      <td>-0.034566</td>\n",
       "      <td>0.050848</td>\n",
       "      <td>-0.003604</td>\n",
       "    </tr>\n",
       "    <tr>\n",
       "      <th>CBI201312_CREDITI</th>\n",
       "      <td>-0.007059</td>\n",
       "      <td>-0.003293</td>\n",
       "      <td>1.000000</td>\n",
       "      <td>0.159170</td>\n",
       "      <td>0.168100</td>\n",
       "      <td>0.044683</td>\n",
       "      <td>0.979264</td>\n",
       "      <td>0.858389</td>\n",
       "      <td>0.872781</td>\n",
       "      <td>0.289202</td>\n",
       "      <td>0.149647</td>\n",
       "      <td>0.123161</td>\n",
       "      <td>0.057657</td>\n",
       "    </tr>\n",
       "    <tr>\n",
       "      <th>CBI201312_UTILE_PERDITA_ESERCIZIO</th>\n",
       "      <td>-0.007060</td>\n",
       "      <td>-0.113949</td>\n",
       "      <td>0.159170</td>\n",
       "      <td>1.000000</td>\n",
       "      <td>0.213078</td>\n",
       "      <td>-0.009995</td>\n",
       "      <td>0.094167</td>\n",
       "      <td>0.187184</td>\n",
       "      <td>0.151566</td>\n",
       "      <td>0.070015</td>\n",
       "      <td>0.050460</td>\n",
       "      <td>0.029836</td>\n",
       "      <td>0.019627</td>\n",
       "    </tr>\n",
       "    <tr>\n",
       "      <th>CBI201312_PATRIMONIO_NETTO</th>\n",
       "      <td>-0.041012</td>\n",
       "      <td>-0.058204</td>\n",
       "      <td>0.168100</td>\n",
       "      <td>0.213078</td>\n",
       "      <td>1.000000</td>\n",
       "      <td>0.379862</td>\n",
       "      <td>0.156514</td>\n",
       "      <td>0.157953</td>\n",
       "      <td>0.102682</td>\n",
       "      <td>0.196794</td>\n",
       "      <td>0.383704</td>\n",
       "      <td>0.369837</td>\n",
       "      <td>0.091780</td>\n",
       "    </tr>\n",
       "    <tr>\n",
       "      <th>CBI201312_DEBITI_CONSOLIDATI</th>\n",
       "      <td>-0.030638</td>\n",
       "      <td>0.080244</td>\n",
       "      <td>0.044683</td>\n",
       "      <td>-0.009995</td>\n",
       "      <td>0.379862</td>\n",
       "      <td>1.000000</td>\n",
       "      <td>0.067774</td>\n",
       "      <td>0.056708</td>\n",
       "      <td>0.012556</td>\n",
       "      <td>0.132522</td>\n",
       "      <td>0.516407</td>\n",
       "      <td>0.614694</td>\n",
       "      <td>0.115395</td>\n",
       "    </tr>\n",
       "    <tr>\n",
       "      <th>CBI201312_DEBITI_ENTRO_ES_SUCC</th>\n",
       "      <td>-0.002602</td>\n",
       "      <td>0.017689</td>\n",
       "      <td>0.979264</td>\n",
       "      <td>0.094167</td>\n",
       "      <td>0.156514</td>\n",
       "      <td>0.067774</td>\n",
       "      <td>1.000000</td>\n",
       "      <td>0.856897</td>\n",
       "      <td>0.892693</td>\n",
       "      <td>0.222618</td>\n",
       "      <td>0.136732</td>\n",
       "      <td>0.137574</td>\n",
       "      <td>0.044789</td>\n",
       "    </tr>\n",
       "    <tr>\n",
       "      <th>CBI201312_RICAVI_NETTI</th>\n",
       "      <td>-0.006387</td>\n",
       "      <td>-0.027666</td>\n",
       "      <td>0.858389</td>\n",
       "      <td>0.187184</td>\n",
       "      <td>0.157953</td>\n",
       "      <td>0.056708</td>\n",
       "      <td>0.856897</td>\n",
       "      <td>1.000000</td>\n",
       "      <td>0.964157</td>\n",
       "      <td>0.290607</td>\n",
       "      <td>0.177576</td>\n",
       "      <td>0.141050</td>\n",
       "      <td>0.064555</td>\n",
       "    </tr>\n",
       "    <tr>\n",
       "      <th>CBI201312_ACQUISTI_NETTI</th>\n",
       "      <td>0.002771</td>\n",
       "      <td>-0.011781</td>\n",
       "      <td>0.872781</td>\n",
       "      <td>0.151566</td>\n",
       "      <td>0.102682</td>\n",
       "      <td>0.012556</td>\n",
       "      <td>0.892693</td>\n",
       "      <td>0.964157</td>\n",
       "      <td>1.000000</td>\n",
       "      <td>0.095963</td>\n",
       "      <td>0.041986</td>\n",
       "      <td>0.032201</td>\n",
       "      <td>0.007340</td>\n",
       "    </tr>\n",
       "    <tr>\n",
       "      <th>CBI201312_COSTI_SERVZ_BENI_TERZI</th>\n",
       "      <td>-0.006761</td>\n",
       "      <td>-0.056943</td>\n",
       "      <td>0.289202</td>\n",
       "      <td>0.070015</td>\n",
       "      <td>0.196794</td>\n",
       "      <td>0.132522</td>\n",
       "      <td>0.222618</td>\n",
       "      <td>0.290607</td>\n",
       "      <td>0.095963</td>\n",
       "      <td>1.000000</td>\n",
       "      <td>0.425366</td>\n",
       "      <td>0.336316</td>\n",
       "      <td>0.152041</td>\n",
       "    </tr>\n",
       "    <tr>\n",
       "      <th>IMP_ACCORDATO</th>\n",
       "      <td>0.006580</td>\n",
       "      <td>-0.034566</td>\n",
       "      <td>0.149647</td>\n",
       "      <td>0.050460</td>\n",
       "      <td>0.383704</td>\n",
       "      <td>0.516407</td>\n",
       "      <td>0.136732</td>\n",
       "      <td>0.177576</td>\n",
       "      <td>0.041986</td>\n",
       "      <td>0.425366</td>\n",
       "      <td>1.000000</td>\n",
       "      <td>0.866590</td>\n",
       "      <td>0.101318</td>\n",
       "    </tr>\n",
       "    <tr>\n",
       "      <th>IMP_UTILIZZATO</th>\n",
       "      <td>-0.007973</td>\n",
       "      <td>0.050848</td>\n",
       "      <td>0.123161</td>\n",
       "      <td>0.029836</td>\n",
       "      <td>0.369837</td>\n",
       "      <td>0.614694</td>\n",
       "      <td>0.137574</td>\n",
       "      <td>0.141050</td>\n",
       "      <td>0.032201</td>\n",
       "      <td>0.336316</td>\n",
       "      <td>0.866590</td>\n",
       "      <td>1.000000</td>\n",
       "      <td>0.105375</td>\n",
       "    </tr>\n",
       "    <tr>\n",
       "      <th>IMP_VALORE_GARANZIA</th>\n",
       "      <td>0.005607</td>\n",
       "      <td>-0.003604</td>\n",
       "      <td>0.057657</td>\n",
       "      <td>0.019627</td>\n",
       "      <td>0.091780</td>\n",
       "      <td>0.115395</td>\n",
       "      <td>0.044789</td>\n",
       "      <td>0.064555</td>\n",
       "      <td>0.007340</td>\n",
       "      <td>0.152041</td>\n",
       "      <td>0.101318</td>\n",
       "      <td>0.105375</td>\n",
       "      <td>1.000000</td>\n",
       "    </tr>\n",
       "  </tbody>\n",
       "</table>\n",
       "</div>"
      ],
      "text/plain": [
       "                                         ID  FLG_DEF_6M  CBI201312_CREDITI  \\\n",
       "ID                                 1.000000   -0.057246          -0.007059   \n",
       "FLG_DEF_6M                        -0.057246    1.000000          -0.003293   \n",
       "CBI201312_CREDITI                 -0.007059   -0.003293           1.000000   \n",
       "CBI201312_UTILE_PERDITA_ESERCIZIO -0.007060   -0.113949           0.159170   \n",
       "CBI201312_PATRIMONIO_NETTO        -0.041012   -0.058204           0.168100   \n",
       "CBI201312_DEBITI_CONSOLIDATI      -0.030638    0.080244           0.044683   \n",
       "CBI201312_DEBITI_ENTRO_ES_SUCC    -0.002602    0.017689           0.979264   \n",
       "CBI201312_RICAVI_NETTI            -0.006387   -0.027666           0.858389   \n",
       "CBI201312_ACQUISTI_NETTI           0.002771   -0.011781           0.872781   \n",
       "CBI201312_COSTI_SERVZ_BENI_TERZI  -0.006761   -0.056943           0.289202   \n",
       "IMP_ACCORDATO                      0.006580   -0.034566           0.149647   \n",
       "IMP_UTILIZZATO                    -0.007973    0.050848           0.123161   \n",
       "IMP_VALORE_GARANZIA                0.005607   -0.003604           0.057657   \n",
       "\n",
       "                                   CBI201312_UTILE_PERDITA_ESERCIZIO  \\\n",
       "ID                                                         -0.007060   \n",
       "FLG_DEF_6M                                                 -0.113949   \n",
       "CBI201312_CREDITI                                           0.159170   \n",
       "CBI201312_UTILE_PERDITA_ESERCIZIO                           1.000000   \n",
       "CBI201312_PATRIMONIO_NETTO                                  0.213078   \n",
       "CBI201312_DEBITI_CONSOLIDATI                               -0.009995   \n",
       "CBI201312_DEBITI_ENTRO_ES_SUCC                              0.094167   \n",
       "CBI201312_RICAVI_NETTI                                      0.187184   \n",
       "CBI201312_ACQUISTI_NETTI                                    0.151566   \n",
       "CBI201312_COSTI_SERVZ_BENI_TERZI                            0.070015   \n",
       "IMP_ACCORDATO                                               0.050460   \n",
       "IMP_UTILIZZATO                                              0.029836   \n",
       "IMP_VALORE_GARANZIA                                         0.019627   \n",
       "\n",
       "                                   CBI201312_PATRIMONIO_NETTO  \\\n",
       "ID                                                  -0.041012   \n",
       "FLG_DEF_6M                                          -0.058204   \n",
       "CBI201312_CREDITI                                    0.168100   \n",
       "CBI201312_UTILE_PERDITA_ESERCIZIO                    0.213078   \n",
       "CBI201312_PATRIMONIO_NETTO                           1.000000   \n",
       "CBI201312_DEBITI_CONSOLIDATI                         0.379862   \n",
       "CBI201312_DEBITI_ENTRO_ES_SUCC                       0.156514   \n",
       "CBI201312_RICAVI_NETTI                               0.157953   \n",
       "CBI201312_ACQUISTI_NETTI                             0.102682   \n",
       "CBI201312_COSTI_SERVZ_BENI_TERZI                     0.196794   \n",
       "IMP_ACCORDATO                                        0.383704   \n",
       "IMP_UTILIZZATO                                       0.369837   \n",
       "IMP_VALORE_GARANZIA                                  0.091780   \n",
       "\n",
       "                                   CBI201312_DEBITI_CONSOLIDATI  \\\n",
       "ID                                                    -0.030638   \n",
       "FLG_DEF_6M                                             0.080244   \n",
       "CBI201312_CREDITI                                      0.044683   \n",
       "CBI201312_UTILE_PERDITA_ESERCIZIO                     -0.009995   \n",
       "CBI201312_PATRIMONIO_NETTO                             0.379862   \n",
       "CBI201312_DEBITI_CONSOLIDATI                           1.000000   \n",
       "CBI201312_DEBITI_ENTRO_ES_SUCC                         0.067774   \n",
       "CBI201312_RICAVI_NETTI                                 0.056708   \n",
       "CBI201312_ACQUISTI_NETTI                               0.012556   \n",
       "CBI201312_COSTI_SERVZ_BENI_TERZI                       0.132522   \n",
       "IMP_ACCORDATO                                          0.516407   \n",
       "IMP_UTILIZZATO                                         0.614694   \n",
       "IMP_VALORE_GARANZIA                                    0.115395   \n",
       "\n",
       "                                   CBI201312_DEBITI_ENTRO_ES_SUCC  \\\n",
       "ID                                                      -0.002602   \n",
       "FLG_DEF_6M                                               0.017689   \n",
       "CBI201312_CREDITI                                        0.979264   \n",
       "CBI201312_UTILE_PERDITA_ESERCIZIO                        0.094167   \n",
       "CBI201312_PATRIMONIO_NETTO                               0.156514   \n",
       "CBI201312_DEBITI_CONSOLIDATI                             0.067774   \n",
       "CBI201312_DEBITI_ENTRO_ES_SUCC                           1.000000   \n",
       "CBI201312_RICAVI_NETTI                                   0.856897   \n",
       "CBI201312_ACQUISTI_NETTI                                 0.892693   \n",
       "CBI201312_COSTI_SERVZ_BENI_TERZI                         0.222618   \n",
       "IMP_ACCORDATO                                            0.136732   \n",
       "IMP_UTILIZZATO                                           0.137574   \n",
       "IMP_VALORE_GARANZIA                                      0.044789   \n",
       "\n",
       "                                   CBI201312_RICAVI_NETTI  \\\n",
       "ID                                              -0.006387   \n",
       "FLG_DEF_6M                                      -0.027666   \n",
       "CBI201312_CREDITI                                0.858389   \n",
       "CBI201312_UTILE_PERDITA_ESERCIZIO                0.187184   \n",
       "CBI201312_PATRIMONIO_NETTO                       0.157953   \n",
       "CBI201312_DEBITI_CONSOLIDATI                     0.056708   \n",
       "CBI201312_DEBITI_ENTRO_ES_SUCC                   0.856897   \n",
       "CBI201312_RICAVI_NETTI                           1.000000   \n",
       "CBI201312_ACQUISTI_NETTI                         0.964157   \n",
       "CBI201312_COSTI_SERVZ_BENI_TERZI                 0.290607   \n",
       "IMP_ACCORDATO                                    0.177576   \n",
       "IMP_UTILIZZATO                                   0.141050   \n",
       "IMP_VALORE_GARANZIA                              0.064555   \n",
       "\n",
       "                                   CBI201312_ACQUISTI_NETTI  \\\n",
       "ID                                                 0.002771   \n",
       "FLG_DEF_6M                                        -0.011781   \n",
       "CBI201312_CREDITI                                  0.872781   \n",
       "CBI201312_UTILE_PERDITA_ESERCIZIO                  0.151566   \n",
       "CBI201312_PATRIMONIO_NETTO                         0.102682   \n",
       "CBI201312_DEBITI_CONSOLIDATI                       0.012556   \n",
       "CBI201312_DEBITI_ENTRO_ES_SUCC                     0.892693   \n",
       "CBI201312_RICAVI_NETTI                             0.964157   \n",
       "CBI201312_ACQUISTI_NETTI                           1.000000   \n",
       "CBI201312_COSTI_SERVZ_BENI_TERZI                   0.095963   \n",
       "IMP_ACCORDATO                                      0.041986   \n",
       "IMP_UTILIZZATO                                     0.032201   \n",
       "IMP_VALORE_GARANZIA                                0.007340   \n",
       "\n",
       "                                   CBI201312_COSTI_SERVZ_BENI_TERZI  \\\n",
       "ID                                                        -0.006761   \n",
       "FLG_DEF_6M                                                -0.056943   \n",
       "CBI201312_CREDITI                                          0.289202   \n",
       "CBI201312_UTILE_PERDITA_ESERCIZIO                          0.070015   \n",
       "CBI201312_PATRIMONIO_NETTO                                 0.196794   \n",
       "CBI201312_DEBITI_CONSOLIDATI                               0.132522   \n",
       "CBI201312_DEBITI_ENTRO_ES_SUCC                             0.222618   \n",
       "CBI201312_RICAVI_NETTI                                     0.290607   \n",
       "CBI201312_ACQUISTI_NETTI                                   0.095963   \n",
       "CBI201312_COSTI_SERVZ_BENI_TERZI                           1.000000   \n",
       "IMP_ACCORDATO                                              0.425366   \n",
       "IMP_UTILIZZATO                                             0.336316   \n",
       "IMP_VALORE_GARANZIA                                        0.152041   \n",
       "\n",
       "                                   IMP_ACCORDATO  IMP_UTILIZZATO  \\\n",
       "ID                                      0.006580       -0.007973   \n",
       "FLG_DEF_6M                             -0.034566        0.050848   \n",
       "CBI201312_CREDITI                       0.149647        0.123161   \n",
       "CBI201312_UTILE_PERDITA_ESERCIZIO       0.050460        0.029836   \n",
       "CBI201312_PATRIMONIO_NETTO              0.383704        0.369837   \n",
       "CBI201312_DEBITI_CONSOLIDATI            0.516407        0.614694   \n",
       "CBI201312_DEBITI_ENTRO_ES_SUCC          0.136732        0.137574   \n",
       "CBI201312_RICAVI_NETTI                  0.177576        0.141050   \n",
       "CBI201312_ACQUISTI_NETTI                0.041986        0.032201   \n",
       "CBI201312_COSTI_SERVZ_BENI_TERZI        0.425366        0.336316   \n",
       "IMP_ACCORDATO                           1.000000        0.866590   \n",
       "IMP_UTILIZZATO                          0.866590        1.000000   \n",
       "IMP_VALORE_GARANZIA                     0.101318        0.105375   \n",
       "\n",
       "                                   IMP_VALORE_GARANZIA  \n",
       "ID                                            0.005607  \n",
       "FLG_DEF_6M                                   -0.003604  \n",
       "CBI201312_CREDITI                             0.057657  \n",
       "CBI201312_UTILE_PERDITA_ESERCIZIO             0.019627  \n",
       "CBI201312_PATRIMONIO_NETTO                    0.091780  \n",
       "CBI201312_DEBITI_CONSOLIDATI                  0.115395  \n",
       "CBI201312_DEBITI_ENTRO_ES_SUCC                0.044789  \n",
       "CBI201312_RICAVI_NETTI                        0.064555  \n",
       "CBI201312_ACQUISTI_NETTI                      0.007340  \n",
       "CBI201312_COSTI_SERVZ_BENI_TERZI              0.152041  \n",
       "IMP_ACCORDATO                                 0.101318  \n",
       "IMP_UTILIZZATO                                0.105375  \n",
       "IMP_VALORE_GARANZIA                           1.000000  "
      ]
     },
     "execution_count": 33,
     "metadata": {},
     "output_type": "execute_result"
    }
   ],
   "source": [
    "db_train.corr()"
   ]
  },
  {
   "cell_type": "markdown",
   "metadata": {},
   "source": [
    "## Applicazione del modello di Random Forest"
   ]
  },
  {
   "cell_type": "markdown",
   "metadata": {},
   "source": [
    "Dataframe per il training: \n",
    "- i valori nulli sono stati sostituiti con valori limite\n",
    "- eliminati dal data set le righe con codice ateco e cod cap mancanti"
   ]
  },
  {
   "cell_type": "code",
   "execution_count": 34,
   "metadata": {
    "collapsed": false
   },
   "outputs": [],
   "source": [
    "X_train1 = db_train1.drop(['ID','COD_PROVINCIA','COD_RAE','COD_SAE','DAT_COSTITUZIONE',\n",
    "                          'FLG_DEF_6M'],axis=1)\n",
    "y_train1 = db_train1['FLG_DEF_6M']"
   ]
  },
  {
   "cell_type": "code",
   "execution_count": 35,
   "metadata": {
    "collapsed": false
   },
   "outputs": [],
   "source": [
    "X_test1 = db_test1.drop(['ID','COD_PROVINCIA','COD_RAE','COD_SAE','DAT_COSTITUZIONE'],axis=1)"
   ]
  },
  {
   "cell_type": "code",
   "execution_count": 36,
   "metadata": {
    "collapsed": false,
    "scrolled": true
   },
   "outputs": [
    {
     "data": {
      "text/html": [
       "<div>\n",
       "<table border=\"1\" class=\"dataframe\">\n",
       "  <thead>\n",
       "    <tr style=\"text-align: right;\">\n",
       "      <th></th>\n",
       "      <th>COD_CAP</th>\n",
       "      <th>COD_ISTAT_ATECO_07</th>\n",
       "      <th>CBI201312_CREDITI</th>\n",
       "      <th>CBI201312_UTILE_PERDITA_ESERCIZIO</th>\n",
       "      <th>CBI201312_PATRIMONIO_NETTO</th>\n",
       "      <th>CBI201312_DEBITI_CONSOLIDATI</th>\n",
       "      <th>CBI201312_DEBITI_ENTRO_ES_SUCC</th>\n",
       "      <th>CBI201312_RICAVI_NETTI</th>\n",
       "      <th>CBI201312_ACQUISTI_NETTI</th>\n",
       "      <th>CBI201312_COSTI_SERVZ_BENI_TERZI</th>\n",
       "      <th>IMP_ACCORDATO</th>\n",
       "      <th>IMP_UTILIZZATO</th>\n",
       "      <th>IMP_VALORE_GARANZIA</th>\n",
       "    </tr>\n",
       "  </thead>\n",
       "  <tbody>\n",
       "    <tr>\n",
       "      <th>0</th>\n",
       "      <td>83013</td>\n",
       "      <td>41</td>\n",
       "      <td>-9999.0</td>\n",
       "      <td>-9999.0</td>\n",
       "      <td>-9999.0</td>\n",
       "      <td>-9999.0</td>\n",
       "      <td>-9999.0</td>\n",
       "      <td>-9999.0</td>\n",
       "      <td>-9999.0</td>\n",
       "      <td>-9999.0</td>\n",
       "      <td>0.0</td>\n",
       "      <td>135220.0</td>\n",
       "      <td>0.0</td>\n",
       "    </tr>\n",
       "    <tr>\n",
       "      <th>1</th>\n",
       "      <td>84131</td>\n",
       "      <td>47</td>\n",
       "      <td>-9999.0</td>\n",
       "      <td>-9999.0</td>\n",
       "      <td>-9999.0</td>\n",
       "      <td>-9999.0</td>\n",
       "      <td>-9999.0</td>\n",
       "      <td>-9999.0</td>\n",
       "      <td>-9999.0</td>\n",
       "      <td>-9999.0</td>\n",
       "      <td>844348.0</td>\n",
       "      <td>1054419.0</td>\n",
       "      <td>0.0</td>\n",
       "    </tr>\n",
       "    <tr>\n",
       "      <th>2</th>\n",
       "      <td>82030</td>\n",
       "      <td>11</td>\n",
       "      <td>-9999.0</td>\n",
       "      <td>-9999.0</td>\n",
       "      <td>-9999.0</td>\n",
       "      <td>-9999.0</td>\n",
       "      <td>-9999.0</td>\n",
       "      <td>-9999.0</td>\n",
       "      <td>-9999.0</td>\n",
       "      <td>-9999.0</td>\n",
       "      <td>0.0</td>\n",
       "      <td>332366.0</td>\n",
       "      <td>0.0</td>\n",
       "    </tr>\n",
       "    <tr>\n",
       "      <th>3</th>\n",
       "      <td>80133</td>\n",
       "      <td>41</td>\n",
       "      <td>-9999.0</td>\n",
       "      <td>-9999.0</td>\n",
       "      <td>-9999.0</td>\n",
       "      <td>-9999.0</td>\n",
       "      <td>-9999.0</td>\n",
       "      <td>-9999.0</td>\n",
       "      <td>-9999.0</td>\n",
       "      <td>-9999.0</td>\n",
       "      <td>0.0</td>\n",
       "      <td>51762483.0</td>\n",
       "      <td>0.0</td>\n",
       "    </tr>\n",
       "    <tr>\n",
       "      <th>4</th>\n",
       "      <td>72021</td>\n",
       "      <td>10</td>\n",
       "      <td>-9999.0</td>\n",
       "      <td>-9999.0</td>\n",
       "      <td>-9999.0</td>\n",
       "      <td>-9999.0</td>\n",
       "      <td>-9999.0</td>\n",
       "      <td>-9999.0</td>\n",
       "      <td>-9999.0</td>\n",
       "      <td>-9999.0</td>\n",
       "      <td>37562.0</td>\n",
       "      <td>34857.0</td>\n",
       "      <td>0.0</td>\n",
       "    </tr>\n",
       "  </tbody>\n",
       "</table>\n",
       "</div>"
      ],
      "text/plain": [
       "  COD_CAP COD_ISTAT_ATECO_07  CBI201312_CREDITI  \\\n",
       "0   83013                 41            -9999.0   \n",
       "1   84131                 47            -9999.0   \n",
       "2   82030                 11            -9999.0   \n",
       "3   80133                 41            -9999.0   \n",
       "4   72021                 10            -9999.0   \n",
       "\n",
       "   CBI201312_UTILE_PERDITA_ESERCIZIO  CBI201312_PATRIMONIO_NETTO  \\\n",
       "0                            -9999.0                     -9999.0   \n",
       "1                            -9999.0                     -9999.0   \n",
       "2                            -9999.0                     -9999.0   \n",
       "3                            -9999.0                     -9999.0   \n",
       "4                            -9999.0                     -9999.0   \n",
       "\n",
       "   CBI201312_DEBITI_CONSOLIDATI  CBI201312_DEBITI_ENTRO_ES_SUCC  \\\n",
       "0                       -9999.0                         -9999.0   \n",
       "1                       -9999.0                         -9999.0   \n",
       "2                       -9999.0                         -9999.0   \n",
       "3                       -9999.0                         -9999.0   \n",
       "4                       -9999.0                         -9999.0   \n",
       "\n",
       "   CBI201312_RICAVI_NETTI  CBI201312_ACQUISTI_NETTI  \\\n",
       "0                 -9999.0                   -9999.0   \n",
       "1                 -9999.0                   -9999.0   \n",
       "2                 -9999.0                   -9999.0   \n",
       "3                 -9999.0                   -9999.0   \n",
       "4                 -9999.0                   -9999.0   \n",
       "\n",
       "   CBI201312_COSTI_SERVZ_BENI_TERZI  IMP_ACCORDATO  IMP_UTILIZZATO  \\\n",
       "0                           -9999.0            0.0        135220.0   \n",
       "1                           -9999.0       844348.0       1054419.0   \n",
       "2                           -9999.0            0.0        332366.0   \n",
       "3                           -9999.0            0.0      51762483.0   \n",
       "4                           -9999.0        37562.0         34857.0   \n",
       "\n",
       "   IMP_VALORE_GARANZIA  \n",
       "0                  0.0  \n",
       "1                  0.0  \n",
       "2                  0.0  \n",
       "3                  0.0  \n",
       "4                  0.0  "
      ]
     },
     "execution_count": 36,
     "metadata": {},
     "output_type": "execute_result"
    }
   ],
   "source": [
    "X_train1.head()"
   ]
  },
  {
   "cell_type": "code",
   "execution_count": 37,
   "metadata": {
    "collapsed": false
   },
   "outputs": [
    {
     "data": {
      "text/html": [
       "<div>\n",
       "<table border=\"1\" class=\"dataframe\">\n",
       "  <thead>\n",
       "    <tr style=\"text-align: right;\">\n",
       "      <th></th>\n",
       "      <th>COD_CAP</th>\n",
       "      <th>COD_ISTAT_ATECO_07</th>\n",
       "      <th>CBI201312_CREDITI</th>\n",
       "      <th>CBI201312_UTILE_PERDITA_ESERCIZIO</th>\n",
       "      <th>CBI201312_PATRIMONIO_NETTO</th>\n",
       "      <th>CBI201312_DEBITI_CONSOLIDATI</th>\n",
       "      <th>CBI201312_DEBITI_ENTRO_ES_SUCC</th>\n",
       "      <th>CBI201312_RICAVI_NETTI</th>\n",
       "      <th>CBI201312_ACQUISTI_NETTI</th>\n",
       "      <th>CBI201312_COSTI_SERVZ_BENI_TERZI</th>\n",
       "      <th>IMP_ACCORDATO</th>\n",
       "      <th>IMP_UTILIZZATO</th>\n",
       "      <th>IMP_VALORE_GARANZIA</th>\n",
       "    </tr>\n",
       "  </thead>\n",
       "  <tbody>\n",
       "    <tr>\n",
       "      <th>0</th>\n",
       "      <td>16033</td>\n",
       "      <td>63</td>\n",
       "      <td>-9999.0</td>\n",
       "      <td>-9999.0</td>\n",
       "      <td>-9999.0</td>\n",
       "      <td>-9999.0</td>\n",
       "      <td>-9999.0</td>\n",
       "      <td>-9999.0</td>\n",
       "      <td>-9999.0</td>\n",
       "      <td>-9999.0</td>\n",
       "      <td>59982.0</td>\n",
       "      <td>59982.0</td>\n",
       "      <td>0.0</td>\n",
       "    </tr>\n",
       "    <tr>\n",
       "      <th>1</th>\n",
       "      <td>10090</td>\n",
       "      <td>26</td>\n",
       "      <td>-9999.0</td>\n",
       "      <td>-9999.0</td>\n",
       "      <td>-9999.0</td>\n",
       "      <td>-9999.0</td>\n",
       "      <td>-9999.0</td>\n",
       "      <td>-9999.0</td>\n",
       "      <td>-9999.0</td>\n",
       "      <td>-9999.0</td>\n",
       "      <td>388785.0</td>\n",
       "      <td>391500.0</td>\n",
       "      <td>0.0</td>\n",
       "    </tr>\n",
       "    <tr>\n",
       "      <th>2</th>\n",
       "      <td>34170</td>\n",
       "      <td>47</td>\n",
       "      <td>-9999.0</td>\n",
       "      <td>-9999.0</td>\n",
       "      <td>-9999.0</td>\n",
       "      <td>-9999.0</td>\n",
       "      <td>-9999.0</td>\n",
       "      <td>-9999.0</td>\n",
       "      <td>-9999.0</td>\n",
       "      <td>-9999.0</td>\n",
       "      <td>213293.0</td>\n",
       "      <td>211445.0</td>\n",
       "      <td>0.0</td>\n",
       "    </tr>\n",
       "    <tr>\n",
       "      <th>3</th>\n",
       "      <td>35044</td>\n",
       "      <td>31</td>\n",
       "      <td>125.0</td>\n",
       "      <td>32.0</td>\n",
       "      <td>-186.0</td>\n",
       "      <td>177.0</td>\n",
       "      <td>351.0</td>\n",
       "      <td>779.0</td>\n",
       "      <td>351.0</td>\n",
       "      <td>256.0</td>\n",
       "      <td>437243.0</td>\n",
       "      <td>374537.0</td>\n",
       "      <td>0.0</td>\n",
       "    </tr>\n",
       "    <tr>\n",
       "      <th>4</th>\n",
       "      <td>11017</td>\n",
       "      <td>41</td>\n",
       "      <td>51.0</td>\n",
       "      <td>74.0</td>\n",
       "      <td>-17.0</td>\n",
       "      <td>447.0</td>\n",
       "      <td>26.0</td>\n",
       "      <td>407.0</td>\n",
       "      <td>122.0</td>\n",
       "      <td>19.0</td>\n",
       "      <td>620000.0</td>\n",
       "      <td>0.0</td>\n",
       "      <td>0.0</td>\n",
       "    </tr>\n",
       "  </tbody>\n",
       "</table>\n",
       "</div>"
      ],
      "text/plain": [
       "  COD_CAP COD_ISTAT_ATECO_07  CBI201312_CREDITI  \\\n",
       "0   16033                 63            -9999.0   \n",
       "1   10090                 26            -9999.0   \n",
       "2   34170                 47            -9999.0   \n",
       "3   35044                 31              125.0   \n",
       "4   11017                 41               51.0   \n",
       "\n",
       "   CBI201312_UTILE_PERDITA_ESERCIZIO  CBI201312_PATRIMONIO_NETTO  \\\n",
       "0                            -9999.0                     -9999.0   \n",
       "1                            -9999.0                     -9999.0   \n",
       "2                            -9999.0                     -9999.0   \n",
       "3                               32.0                      -186.0   \n",
       "4                               74.0                       -17.0   \n",
       "\n",
       "   CBI201312_DEBITI_CONSOLIDATI  CBI201312_DEBITI_ENTRO_ES_SUCC  \\\n",
       "0                       -9999.0                         -9999.0   \n",
       "1                       -9999.0                         -9999.0   \n",
       "2                       -9999.0                         -9999.0   \n",
       "3                         177.0                           351.0   \n",
       "4                         447.0                            26.0   \n",
       "\n",
       "   CBI201312_RICAVI_NETTI  CBI201312_ACQUISTI_NETTI  \\\n",
       "0                 -9999.0                   -9999.0   \n",
       "1                 -9999.0                   -9999.0   \n",
       "2                 -9999.0                   -9999.0   \n",
       "3                   779.0                     351.0   \n",
       "4                   407.0                     122.0   \n",
       "\n",
       "   CBI201312_COSTI_SERVZ_BENI_TERZI  IMP_ACCORDATO  IMP_UTILIZZATO  \\\n",
       "0                           -9999.0        59982.0         59982.0   \n",
       "1                           -9999.0       388785.0        391500.0   \n",
       "2                           -9999.0       213293.0        211445.0   \n",
       "3                             256.0       437243.0        374537.0   \n",
       "4                              19.0       620000.0             0.0   \n",
       "\n",
       "   IMP_VALORE_GARANZIA  \n",
       "0                  0.0  \n",
       "1                  0.0  \n",
       "2                  0.0  \n",
       "3                  0.0  \n",
       "4                  0.0  "
      ]
     },
     "execution_count": 37,
     "metadata": {},
     "output_type": "execute_result"
    }
   ],
   "source": [
    "X_test1.head()"
   ]
  },
  {
   "cell_type": "markdown",
   "metadata": {},
   "source": [
    "Provo un Random Forest con 500 alberi e profondita' pari a 5:"
   ]
  },
  {
   "cell_type": "code",
   "execution_count": 38,
   "metadata": {
    "collapsed": false
   },
   "outputs": [],
   "source": [
    "from sklearn import ensemble"
   ]
  },
  {
   "cell_type": "code",
   "execution_count": 39,
   "metadata": {
    "collapsed": false
   },
   "outputs": [
    {
     "data": {
      "text/plain": [
       "RandomForestClassifier(bootstrap=True, class_weight=None, criterion='gini',\n",
       "            max_depth=5, max_features='auto', max_leaf_nodes=None,\n",
       "            min_samples_leaf=1, min_samples_split=2,\n",
       "            min_weight_fraction_leaf=0.0, n_estimators=500, n_jobs=1,\n",
       "            oob_score=False, random_state=0, verbose=0, warm_start=False)"
      ]
     },
     "execution_count": 39,
     "metadata": {},
     "output_type": "execute_result"
    }
   ],
   "source": [
    "model = ensemble.RandomForestClassifier(n_estimators=500, max_depth=5, random_state=0)\n",
    "model.fit(X_train1, y_train1)"
   ]
  },
  {
   "cell_type": "markdown",
   "metadata": {},
   "source": [
    "Importanza delle variabili per il modello:"
   ]
  },
  {
   "cell_type": "code",
   "execution_count": 40,
   "metadata": {
    "collapsed": false
   },
   "outputs": [
    {
     "data": {
      "text/html": [
       "<div>\n",
       "<table border=\"1\" class=\"dataframe\">\n",
       "  <thead>\n",
       "    <tr style=\"text-align: right;\">\n",
       "      <th></th>\n",
       "      <th>0_feature</th>\n",
       "      <th>0_score</th>\n",
       "    </tr>\n",
       "  </thead>\n",
       "  <tbody>\n",
       "    <tr>\n",
       "      <th>0</th>\n",
       "      <td>COD_CAP</td>\n",
       "      <td>0.009169</td>\n",
       "    </tr>\n",
       "    <tr>\n",
       "      <th>1</th>\n",
       "      <td>COD_ISTAT_ATECO_07</td>\n",
       "      <td>0.011945</td>\n",
       "    </tr>\n",
       "    <tr>\n",
       "      <th>2</th>\n",
       "      <td>CBI201312_CREDITI</td>\n",
       "      <td>0.010573</td>\n",
       "    </tr>\n",
       "    <tr>\n",
       "      <th>3</th>\n",
       "      <td>CBI201312_UTILE_PERDITA_ESERCIZIO</td>\n",
       "      <td>0.122468</td>\n",
       "    </tr>\n",
       "    <tr>\n",
       "      <th>4</th>\n",
       "      <td>CBI201312_PATRIMONIO_NETTO</td>\n",
       "      <td>0.078176</td>\n",
       "    </tr>\n",
       "    <tr>\n",
       "      <th>5</th>\n",
       "      <td>CBI201312_DEBITI_CONSOLIDATI</td>\n",
       "      <td>0.015752</td>\n",
       "    </tr>\n",
       "    <tr>\n",
       "      <th>6</th>\n",
       "      <td>CBI201312_DEBITI_ENTRO_ES_SUCC</td>\n",
       "      <td>0.041253</td>\n",
       "    </tr>\n",
       "    <tr>\n",
       "      <th>7</th>\n",
       "      <td>CBI201312_RICAVI_NETTI</td>\n",
       "      <td>0.091674</td>\n",
       "    </tr>\n",
       "    <tr>\n",
       "      <th>8</th>\n",
       "      <td>CBI201312_ACQUISTI_NETTI</td>\n",
       "      <td>0.029091</td>\n",
       "    </tr>\n",
       "    <tr>\n",
       "      <th>9</th>\n",
       "      <td>CBI201312_COSTI_SERVZ_BENI_TERZI</td>\n",
       "      <td>0.039253</td>\n",
       "    </tr>\n",
       "    <tr>\n",
       "      <th>10</th>\n",
       "      <td>IMP_ACCORDATO</td>\n",
       "      <td>0.492090</td>\n",
       "    </tr>\n",
       "    <tr>\n",
       "      <th>11</th>\n",
       "      <td>IMP_UTILIZZATO</td>\n",
       "      <td>0.054483</td>\n",
       "    </tr>\n",
       "    <tr>\n",
       "      <th>12</th>\n",
       "      <td>IMP_VALORE_GARANZIA</td>\n",
       "      <td>0.004074</td>\n",
       "    </tr>\n",
       "  </tbody>\n",
       "</table>\n",
       "</div>"
      ],
      "text/plain": [
       "                            0_feature   0_score\n",
       "0                             COD_CAP  0.009169\n",
       "1                  COD_ISTAT_ATECO_07  0.011945\n",
       "2                   CBI201312_CREDITI  0.010573\n",
       "3   CBI201312_UTILE_PERDITA_ESERCIZIO  0.122468\n",
       "4          CBI201312_PATRIMONIO_NETTO  0.078176\n",
       "5        CBI201312_DEBITI_CONSOLIDATI  0.015752\n",
       "6      CBI201312_DEBITI_ENTRO_ES_SUCC  0.041253\n",
       "7              CBI201312_RICAVI_NETTI  0.091674\n",
       "8            CBI201312_ACQUISTI_NETTI  0.029091\n",
       "9    CBI201312_COSTI_SERVZ_BENI_TERZI  0.039253\n",
       "10                      IMP_ACCORDATO  0.492090\n",
       "11                     IMP_UTILIZZATO  0.054483\n",
       "12                IMP_VALORE_GARANZIA  0.004074"
      ]
     },
     "execution_count": 40,
     "metadata": {},
     "output_type": "execute_result"
    }
   ],
   "source": [
    "a = pd.DataFrame(X_train1.columns)\n",
    "b = pd.DataFrame(model.feature_importances_)\n",
    "a.join(b,lsuffix='_feature',rsuffix='_score')"
   ]
  },
  {
   "cell_type": "markdown",
   "metadata": {},
   "source": [
    "Predizione sul dataset di test:"
   ]
  },
  {
   "cell_type": "code",
   "execution_count": 41,
   "metadata": {
    "collapsed": false
   },
   "outputs": [],
   "source": [
    "y_test1 = model.predict(X_test1)"
   ]
  },
  {
   "cell_type": "markdown",
   "metadata": {},
   "source": [
    "## Verifica del modello"
   ]
  },
  {
   "cell_type": "markdown",
   "metadata": {},
   "source": [
    "Valuto la bonta' del modello tramite ROC:"
   ]
  },
  {
   "cell_type": "code",
   "execution_count": 42,
   "metadata": {
    "collapsed": false
   },
   "outputs": [],
   "source": [
    "from sklearn import metrics"
   ]
  },
  {
   "cell_type": "code",
   "execution_count": 43,
   "metadata": {
    "collapsed": false
   },
   "outputs": [],
   "source": [
    "y_test1_prob = model.predict_proba(X_test1)"
   ]
  },
  {
   "cell_type": "code",
   "execution_count": 44,
   "metadata": {
    "collapsed": true
   },
   "outputs": [],
   "source": [
    "db_result = pd.read_csv('CONTEST_TEST_RESULTS_AN_PRIVATO.csv',dtype={'FLAG_DEF_6M': np.int})"
   ]
  },
  {
   "cell_type": "code",
   "execution_count": 45,
   "metadata": {
    "collapsed": false
   },
   "outputs": [
    {
     "data": {
      "text/html": [
       "<div>\n",
       "<table border=\"1\" class=\"dataframe\">\n",
       "  <thead>\n",
       "    <tr style=\"text-align: right;\">\n",
       "      <th></th>\n",
       "      <th>ID</th>\n",
       "      <th>FLG_DEF_6M</th>\n",
       "    </tr>\n",
       "  </thead>\n",
       "  <tbody>\n",
       "    <tr>\n",
       "      <th>0</th>\n",
       "      <td>66812</td>\n",
       "      <td>0</td>\n",
       "    </tr>\n",
       "    <tr>\n",
       "      <th>1</th>\n",
       "      <td>66813</td>\n",
       "      <td>0</td>\n",
       "    </tr>\n",
       "    <tr>\n",
       "      <th>2</th>\n",
       "      <td>66814</td>\n",
       "      <td>0</td>\n",
       "    </tr>\n",
       "    <tr>\n",
       "      <th>3</th>\n",
       "      <td>66815</td>\n",
       "      <td>0</td>\n",
       "    </tr>\n",
       "    <tr>\n",
       "      <th>4</th>\n",
       "      <td>66816</td>\n",
       "      <td>0</td>\n",
       "    </tr>\n",
       "  </tbody>\n",
       "</table>\n",
       "</div>"
      ],
      "text/plain": [
       "      ID  FLG_DEF_6M\n",
       "0  66812           0\n",
       "1  66813           0\n",
       "2  66814           0\n",
       "3  66815           0\n",
       "4  66816           0"
      ]
     },
     "execution_count": 45,
     "metadata": {},
     "output_type": "execute_result"
    }
   ],
   "source": [
    "db_result.head()"
   ]
  },
  {
   "cell_type": "code",
   "execution_count": 46,
   "metadata": {
    "collapsed": false
   },
   "outputs": [
    {
     "data": {
      "text/plain": [
       "0.81302080046030778"
      ]
     },
     "execution_count": 46,
     "metadata": {},
     "output_type": "execute_result"
    }
   ],
   "source": [
    "metrics.roc_auc_score(db_result['FLG_DEF_6M'].tolist(), y_test1_prob[:,1])"
   ]
  },
  {
   "cell_type": "code",
   "execution_count": 47,
   "metadata": {
    "collapsed": false
   },
   "outputs": [
    {
     "data": {
      "image/png": "[encoded data removed]",
      "text/plain": [
       "<matplotlib.figure.Figure at 0x7f86f8d76cd0>"
      ]
     },
     "metadata": {},
     "output_type": "display_data"
    }
   ],
   "source": [
    "fpr, tpr, _ = metrics.roc_curve(db_result['FLG_DEF_6M'].tolist(),y_test1_prob[:,1])\n",
    "roc_auc = metrics.auc(fpr,tpr)\n",
    "plt.plot(fpr,tpr,color='Red',label = 'Roc = %0.5f' % roc_auc)\n",
    "plt.plot([0,1],[0,1],color='black')\n",
    "plt.legend (loc='lower right')\n",
    "plt.show()"
   ]
  },
  {
   "cell_type": "markdown",
   "metadata": {},
   "source": [
    "## Miglioramento del modello"
   ]
  },
  {
   "cell_type": "markdown",
   "metadata": {},
   "source": [
    "Provo ad aumentare la profondita' del Random Forest per aumentare la ROC:"
   ]
  },
  {
   "cell_type": "code",
   "execution_count": 48,
   "metadata": {
    "collapsed": false
   },
   "outputs": [
    {
     "data": {
      "text/plain": [
       "RandomForestClassifier(bootstrap=True, class_weight=None, criterion='gini',\n",
       "            max_depth=12, max_features='auto', max_leaf_nodes=None,\n",
       "            min_samples_leaf=1, min_samples_split=2,\n",
       "            min_weight_fraction_leaf=0.0, n_estimators=500, n_jobs=1,\n",
       "            oob_score=False, random_state=0, verbose=0, warm_start=False)"
      ]
     },
     "execution_count": 48,
     "metadata": {},
     "output_type": "execute_result"
    }
   ],
   "source": [
    "model_2 = ensemble.RandomForestClassifier(n_estimators=500, max_depth=12, random_state=0)\n",
    "model_2.fit(X_train1, y_train1)"
   ]
  },
  {
   "cell_type": "code",
   "execution_count": 49,
   "metadata": {
    "collapsed": false
   },
   "outputs": [
    {
     "data": {
      "text/html": [
       "<div>\n",
       "<table border=\"1\" class=\"dataframe\">\n",
       "  <thead>\n",
       "    <tr style=\"text-align: right;\">\n",
       "      <th></th>\n",
       "      <th>0_feature</th>\n",
       "      <th>0_score</th>\n",
       "    </tr>\n",
       "  </thead>\n",
       "  <tbody>\n",
       "    <tr>\n",
       "      <th>0</th>\n",
       "      <td>COD_CAP</td>\n",
       "      <td>0.039159</td>\n",
       "    </tr>\n",
       "    <tr>\n",
       "      <th>1</th>\n",
       "      <td>COD_ISTAT_ATECO_07</td>\n",
       "      <td>0.027670</td>\n",
       "    </tr>\n",
       "    <tr>\n",
       "      <th>2</th>\n",
       "      <td>CBI201312_CREDITI</td>\n",
       "      <td>0.032750</td>\n",
       "    </tr>\n",
       "    <tr>\n",
       "      <th>3</th>\n",
       "      <td>CBI201312_UTILE_PERDITA_ESERCIZIO</td>\n",
       "      <td>0.092304</td>\n",
       "    </tr>\n",
       "    <tr>\n",
       "      <th>4</th>\n",
       "      <td>CBI201312_PATRIMONIO_NETTO</td>\n",
       "      <td>0.066295</td>\n",
       "    </tr>\n",
       "    <tr>\n",
       "      <th>5</th>\n",
       "      <td>CBI201312_DEBITI_CONSOLIDATI</td>\n",
       "      <td>0.033121</td>\n",
       "    </tr>\n",
       "    <tr>\n",
       "      <th>6</th>\n",
       "      <td>CBI201312_DEBITI_ENTRO_ES_SUCC</td>\n",
       "      <td>0.071165</td>\n",
       "    </tr>\n",
       "    <tr>\n",
       "      <th>7</th>\n",
       "      <td>CBI201312_RICAVI_NETTI</td>\n",
       "      <td>0.081479</td>\n",
       "    </tr>\n",
       "    <tr>\n",
       "      <th>8</th>\n",
       "      <td>CBI201312_ACQUISTI_NETTI</td>\n",
       "      <td>0.035437</td>\n",
       "    </tr>\n",
       "    <tr>\n",
       "      <th>9</th>\n",
       "      <td>CBI201312_COSTI_SERVZ_BENI_TERZI</td>\n",
       "      <td>0.048496</td>\n",
       "    </tr>\n",
       "    <tr>\n",
       "      <th>10</th>\n",
       "      <td>IMP_ACCORDATO</td>\n",
       "      <td>0.376656</td>\n",
       "    </tr>\n",
       "    <tr>\n",
       "      <th>11</th>\n",
       "      <td>IMP_UTILIZZATO</td>\n",
       "      <td>0.084117</td>\n",
       "    </tr>\n",
       "    <tr>\n",
       "      <th>12</th>\n",
       "      <td>IMP_VALORE_GARANZIA</td>\n",
       "      <td>0.011352</td>\n",
       "    </tr>\n",
       "  </tbody>\n",
       "</table>\n",
       "</div>"
      ],
      "text/plain": [
       "                            0_feature   0_score\n",
       "0                             COD_CAP  0.039159\n",
       "1                  COD_ISTAT_ATECO_07  0.027670\n",
       "2                   CBI201312_CREDITI  0.032750\n",
       "3   CBI201312_UTILE_PERDITA_ESERCIZIO  0.092304\n",
       "4          CBI201312_PATRIMONIO_NETTO  0.066295\n",
       "5        CBI201312_DEBITI_CONSOLIDATI  0.033121\n",
       "6      CBI201312_DEBITI_ENTRO_ES_SUCC  0.071165\n",
       "7              CBI201312_RICAVI_NETTI  0.081479\n",
       "8            CBI201312_ACQUISTI_NETTI  0.035437\n",
       "9    CBI201312_COSTI_SERVZ_BENI_TERZI  0.048496\n",
       "10                      IMP_ACCORDATO  0.376656\n",
       "11                     IMP_UTILIZZATO  0.084117\n",
       "12                IMP_VALORE_GARANZIA  0.011352"
      ]
     },
     "execution_count": 49,
     "metadata": {},
     "output_type": "execute_result"
    }
   ],
   "source": [
    "a2 = pd.DataFrame(X_train1.columns)\n",
    "b2 = pd.DataFrame(model_2.feature_importances_)\n",
    "a2.join(b2,lsuffix='_feature',rsuffix='_score')"
   ]
  },
  {
   "cell_type": "code",
   "execution_count": 50,
   "metadata": {
    "collapsed": false
   },
   "outputs": [
    {
     "data": {
      "text/plain": [
       "0.86506512956681236"
      ]
     },
     "execution_count": 50,
     "metadata": {},
     "output_type": "execute_result"
    }
   ],
   "source": [
    "y_test1 = model_2.predict(X_test1)\n",
    "y_test1_prob = model_2.predict_proba(X_test1)\n",
    "metrics.roc_auc_score(db_result['FLG_DEF_6M'].tolist(), y_test1_prob[:,1])"
   ]
  },
  {
   "cell_type": "code",
   "execution_count": 51,
   "metadata": {
    "collapsed": false
   },
   "outputs": [
    {
     "data": {
      "image/png": "[encoded data removed]",
      "text/plain": [
       "<matplotlib.figure.Figure at 0x7f86f662c0d0>"
      ]
     },
     "metadata": {},
     "output_type": "display_data"
    }
   ],
   "source": [
    "fpr, tpr, _ = metrics.roc_curve(db_result['FLG_DEF_6M'].tolist(),y_test1_prob[:,1])\n",
    "roc_auc = metrics.auc(fpr,tpr)\n",
    "plt.plot(fpr,tpr,color='Red',label = 'Roc = %0.5f' % roc_auc)\n",
    "plt.plot([0,1],[0,1],color='black')\n",
    "plt.legend (loc='lower right')\n",
    "plt.show()"
   ]
  },
  {
   "cell_type": "markdown",
   "metadata": {},
   "source": [
    "Provo la bonta' del modello attraverso la confusion matrix:"
   ]
  },
  {
   "cell_type": "code",
   "execution_count": 52,
   "metadata": {
    "collapsed": false
   },
   "outputs": [
    {
     "data": {
      "text/html": [
       "<div>\n",
       "<table border=\"1\" class=\"dataframe\">\n",
       "  <thead>\n",
       "    <tr style=\"text-align: right;\">\n",
       "      <th></th>\n",
       "      <th>0</th>\n",
       "      <th>1</th>\n",
       "    </tr>\n",
       "  </thead>\n",
       "  <tbody>\n",
       "    <tr>\n",
       "      <th>0</th>\n",
       "      <td>6197</td>\n",
       "      <td>39</td>\n",
       "    </tr>\n",
       "    <tr>\n",
       "      <th>1</th>\n",
       "      <td>832</td>\n",
       "      <td>479</td>\n",
       "    </tr>\n",
       "  </tbody>\n",
       "</table>\n",
       "</div>"
      ],
      "text/plain": [
       "      0    1\n",
       "0  6197   39\n",
       "1   832  479"
      ]
     },
     "execution_count": 52,
     "metadata": {},
     "output_type": "execute_result"
    }
   ],
   "source": [
    "pd.DataFrame(metrics.confusion_matrix(db_result['FLG_DEF_6M'].tolist(),y_test1))"
   ]
  },
  {
   "cell_type": "markdown",
   "metadata": {},
   "source": [
    "Creo un secondo training set elimando le variabili correlate:"
   ]
  },
  {
   "cell_type": "code",
   "execution_count": 53,
   "metadata": {
    "collapsed": true
   },
   "outputs": [],
   "source": [
    "X_train2 = db_train1.drop(['ID','COD_PROVINCIA','COD_RAE','COD_SAE','DAT_COSTITUZIONE',\n",
    "                          'FLG_DEF_6M','CBI201312_DEBITI_ENTRO_ES_SUCC',\n",
    "                          'CBI201312_RICAVI_NETTI','CBI201312_ACQUISTI_NETTI'],axis=1)\n",
    "y_train2 = db_train1['FLG_DEF_6M']"
   ]
  },
  {
   "cell_type": "code",
   "execution_count": 54,
   "metadata": {
    "collapsed": true
   },
   "outputs": [],
   "source": [
    "X_test2 = db_test1.drop(['ID','COD_PROVINCIA','COD_RAE','COD_SAE','DAT_COSTITUZIONE',\n",
    "                        'CBI201312_DEBITI_ENTRO_ES_SUCC','CBI201312_RICAVI_NETTI',\n",
    "                         'CBI201312_ACQUISTI_NETTI'],axis=1)"
   ]
  },
  {
   "cell_type": "markdown",
   "metadata": {},
   "source": [
    "Provo il modello sul nuovo training set:"
   ]
  },
  {
   "cell_type": "code",
   "execution_count": 55,
   "metadata": {
    "collapsed": false
   },
   "outputs": [
    {
     "data": {
      "text/plain": [
       "Index([u'ID', u'COD_CAP', u'COD_PROVINCIA', u'DAT_COSTITUZIONE', u'COD_RAE',\n",
       "       u'COD_SAE', u'COD_ISTAT_ATECO_07', u'FLG_DEF_6M', u'CBI201312_CREDITI',\n",
       "       u'CBI201312_UTILE_PERDITA_ESERCIZIO', u'CBI201312_PATRIMONIO_NETTO',\n",
       "       u'CBI201312_DEBITI_CONSOLIDATI', u'CBI201312_DEBITI_ENTRO_ES_SUCC',\n",
       "       u'CBI201312_RICAVI_NETTI', u'CBI201312_ACQUISTI_NETTI',\n",
       "       u'CBI201312_COSTI_SERVZ_BENI_TERZI', u'IMP_ACCORDATO',\n",
       "       u'IMP_UTILIZZATO', u'IMP_VALORE_GARANZIA'],\n",
       "      dtype='object')"
      ]
     },
     "execution_count": 55,
     "metadata": {},
     "output_type": "execute_result"
    }
   ],
   "source": [
    "db_train1.columns"
   ]
  },
  {
   "cell_type": "code",
   "execution_count": 56,
   "metadata": {
    "collapsed": false
   },
   "outputs": [
    {
     "data": {
      "text/plain": [
       "RandomForestClassifier(bootstrap=True, class_weight=None, criterion='gini',\n",
       "            max_depth=12, max_features='auto', max_leaf_nodes=None,\n",
       "            min_samples_leaf=1, min_samples_split=2,\n",
       "            min_weight_fraction_leaf=0.0, n_estimators=500, n_jobs=1,\n",
       "            oob_score=False, random_state=0, verbose=0, warm_start=False)"
      ]
     },
     "execution_count": 56,
     "metadata": {},
     "output_type": "execute_result"
    }
   ],
   "source": [
    "model_2 = ensemble.RandomForestClassifier(n_estimators=500, max_depth=12, random_state=0)\n",
    "model_2.fit(X_train2, y_train2)"
   ]
  },
  {
   "cell_type": "code",
   "execution_count": 57,
   "metadata": {
    "collapsed": false
   },
   "outputs": [
    {
     "data": {
      "text/html": [
       "<div>\n",
       "<table border=\"1\" class=\"dataframe\">\n",
       "  <thead>\n",
       "    <tr style=\"text-align: right;\">\n",
       "      <th></th>\n",
       "      <th>0_feature</th>\n",
       "      <th>0_score</th>\n",
       "    </tr>\n",
       "  </thead>\n",
       "  <tbody>\n",
       "    <tr>\n",
       "      <th>0</th>\n",
       "      <td>COD_CAP</td>\n",
       "      <td>0.049543</td>\n",
       "    </tr>\n",
       "    <tr>\n",
       "      <th>1</th>\n",
       "      <td>COD_ISTAT_ATECO_07</td>\n",
       "      <td>0.033489</td>\n",
       "    </tr>\n",
       "    <tr>\n",
       "      <th>2</th>\n",
       "      <td>CBI201312_CREDITI</td>\n",
       "      <td>0.040298</td>\n",
       "    </tr>\n",
       "    <tr>\n",
       "      <th>3</th>\n",
       "      <td>CBI201312_UTILE_PERDITA_ESERCIZIO</td>\n",
       "      <td>0.117011</td>\n",
       "    </tr>\n",
       "    <tr>\n",
       "      <th>4</th>\n",
       "      <td>CBI201312_PATRIMONIO_NETTO</td>\n",
       "      <td>0.081438</td>\n",
       "    </tr>\n",
       "    <tr>\n",
       "      <th>5</th>\n",
       "      <td>CBI201312_DEBITI_CONSOLIDATI</td>\n",
       "      <td>0.044170</td>\n",
       "    </tr>\n",
       "    <tr>\n",
       "      <th>6</th>\n",
       "      <td>CBI201312_COSTI_SERVZ_BENI_TERZI</td>\n",
       "      <td>0.062770</td>\n",
       "    </tr>\n",
       "    <tr>\n",
       "      <th>7</th>\n",
       "      <td>IMP_ACCORDATO</td>\n",
       "      <td>0.447730</td>\n",
       "    </tr>\n",
       "    <tr>\n",
       "      <th>8</th>\n",
       "      <td>IMP_UTILIZZATO</td>\n",
       "      <td>0.108987</td>\n",
       "    </tr>\n",
       "    <tr>\n",
       "      <th>9</th>\n",
       "      <td>IMP_VALORE_GARANZIA</td>\n",
       "      <td>0.014563</td>\n",
       "    </tr>\n",
       "  </tbody>\n",
       "</table>\n",
       "</div>"
      ],
      "text/plain": [
       "                           0_feature   0_score\n",
       "0                            COD_CAP  0.049543\n",
       "1                 COD_ISTAT_ATECO_07  0.033489\n",
       "2                  CBI201312_CREDITI  0.040298\n",
       "3  CBI201312_UTILE_PERDITA_ESERCIZIO  0.117011\n",
       "4         CBI201312_PATRIMONIO_NETTO  0.081438\n",
       "5       CBI201312_DEBITI_CONSOLIDATI  0.044170\n",
       "6   CBI201312_COSTI_SERVZ_BENI_TERZI  0.062770\n",
       "7                      IMP_ACCORDATO  0.447730\n",
       "8                     IMP_UTILIZZATO  0.108987\n",
       "9                IMP_VALORE_GARANZIA  0.014563"
      ]
     },
     "execution_count": 57,
     "metadata": {},
     "output_type": "execute_result"
    }
   ],
   "source": [
    "a3 = pd.DataFrame(X_train2.columns)\n",
    "b3 = pd.DataFrame(model_2.feature_importances_)\n",
    "a3.join(b3,lsuffix='_feature',rsuffix='_score')"
   ]
  },
  {
   "cell_type": "code",
   "execution_count": 59,
   "metadata": {
    "collapsed": false
   },
   "outputs": [
    {
     "data": {
      "text/plain": [
       "0.85230752125034681"
      ]
     },
     "execution_count": 59,
     "metadata": {},
     "output_type": "execute_result"
    }
   ],
   "source": [
    "y_test2 = model_2.predict(X_test2)\n",
    "y_test2_prob = model_2.predict_proba(X_test2)\n",
    "metrics.roc_auc_score(db_result['FLG_DEF_6M'].tolist(), y_test2_prob[:,1])"
   ]
  },
  {
   "cell_type": "code",
   "execution_count": 60,
   "metadata": {
    "collapsed": false
   },
   "outputs": [
    {
     "data": {
      "text/html": [
       "<div>\n",
       "<table border=\"1\" class=\"dataframe\">\n",
       "  <thead>\n",
       "    <tr style=\"text-align: right;\">\n",
       "      <th></th>\n",
       "      <th>0</th>\n",
       "      <th>1</th>\n",
       "    </tr>\n",
       "  </thead>\n",
       "  <tbody>\n",
       "    <tr>\n",
       "      <th>0</th>\n",
       "      <td>6199</td>\n",
       "      <td>37</td>\n",
       "    </tr>\n",
       "    <tr>\n",
       "      <th>1</th>\n",
       "      <td>842</td>\n",
       "      <td>469</td>\n",
       "    </tr>\n",
       "  </tbody>\n",
       "</table>\n",
       "</div>"
      ],
      "text/plain": [
       "      0    1\n",
       "0  6199   37\n",
       "1   842  469"
      ]
     },
     "execution_count": 60,
     "metadata": {},
     "output_type": "execute_result"
    }
   ],
   "source": [
    "pd.DataFrame(metrics.confusion_matrix(db_result['FLG_DEF_6M'].tolist(),y_test2))"
   ]
  },
  {
   "cell_type": "markdown",
   "metadata": {},
   "source": [
    "Provo un ulteriore modello:"
   ]
  },
  {
   "cell_type": "code",
   "execution_count": 61,
   "metadata": {
    "collapsed": true
   },
   "outputs": [],
   "source": [
    "from sklearn import svm"
   ]
  },
  {
   "cell_type": "code",
   "execution_count": 62,
   "metadata": {
    "collapsed": true
   },
   "outputs": [],
   "source": [
    "#model_3 = svm.SVC(kernel='linear', C=0.1)\n",
    "#model_3.fit(X_train1, y_train1)"
   ]
  },
  {
   "cell_type": "markdown",
   "metadata": {},
   "source": [
    "Valuto la distribuzione del campione in base al flag di default:"
   ]
  },
  {
   "cell_type": "code",
   "execution_count": 63,
   "metadata": {
    "collapsed": true
   },
   "outputs": [],
   "source": [
    "db_prep=db_train1[db_train1.COD_CAP.notnull()]\n",
    "db_prep=db_prep[db_prep.COD_ISTAT_ATECO_07.notnull()]"
   ]
  },
  {
   "cell_type": "code",
   "execution_count": 64,
   "metadata": {
    "collapsed": false
   },
   "outputs": [
    {
     "data": {
      "text/plain": [
       "(55374, 19)"
      ]
     },
     "execution_count": 64,
     "metadata": {},
     "output_type": "execute_result"
    }
   ],
   "source": [
    "db_prep[db_prep.FLG_DEF_6M == 0].shape"
   ]
  },
  {
   "cell_type": "code",
   "execution_count": 65,
   "metadata": {
    "collapsed": false
   },
   "outputs": [
    {
     "data": {
      "text/plain": [
       "(10944, 19)"
      ]
     },
     "execution_count": 65,
     "metadata": {},
     "output_type": "execute_result"
    }
   ],
   "source": [
    "db_prep[db_prep.FLG_DEF_6M == 1].shape"
   ]
  },
  {
   "cell_type": "code",
   "execution_count": 66,
   "metadata": {
    "collapsed": false
   },
   "outputs": [
    {
     "data": {
      "text/plain": [
       "0.19763788059378049"
      ]
     },
     "execution_count": 66,
     "metadata": {},
     "output_type": "execute_result"
    }
   ],
   "source": [
    "float(10944)/55374"
   ]
  },
  {
   "cell_type": "markdown",
   "metadata": {},
   "source": [
    "Il campione  sblilanciato, presenta 19% di flag 1 sul totale.\n",
    "Provo un bilanciamento:"
   ]
  },
  {
   "cell_type": "code",
   "execution_count": 67,
   "metadata": {
    "collapsed": false
   },
   "outputs": [],
   "source": [
    "db_flg0 = db_prep[db_prep.FLG_DEF_6M == 0].head(n=10000)"
   ]
  },
  {
   "cell_type": "code",
   "execution_count": 68,
   "metadata": {
    "collapsed": false
   },
   "outputs": [],
   "source": [
    "db_flg1 = db_prep[db_prep.FLG_DEF_6M == 1].head(n=10000)"
   ]
  },
  {
   "cell_type": "code",
   "execution_count": 69,
   "metadata": {
    "collapsed": false
   },
   "outputs": [
    {
     "data": {
      "text/html": [
       "<div>\n",
       "<table border=\"1\" class=\"dataframe\">\n",
       "  <thead>\n",
       "    <tr style=\"text-align: right;\">\n",
       "      <th></th>\n",
       "      <th>ID</th>\n",
       "      <th>COD_CAP</th>\n",
       "      <th>COD_PROVINCIA</th>\n",
       "      <th>DAT_COSTITUZIONE</th>\n",
       "      <th>COD_RAE</th>\n",
       "      <th>COD_SAE</th>\n",
       "      <th>COD_ISTAT_ATECO_07</th>\n",
       "      <th>FLG_DEF_6M</th>\n",
       "      <th>CBI201312_CREDITI</th>\n",
       "      <th>CBI201312_UTILE_PERDITA_ESERCIZIO</th>\n",
       "      <th>CBI201312_PATRIMONIO_NETTO</th>\n",
       "      <th>CBI201312_DEBITI_CONSOLIDATI</th>\n",
       "      <th>CBI201312_DEBITI_ENTRO_ES_SUCC</th>\n",
       "      <th>CBI201312_RICAVI_NETTI</th>\n",
       "      <th>CBI201312_ACQUISTI_NETTI</th>\n",
       "      <th>CBI201312_COSTI_SERVZ_BENI_TERZI</th>\n",
       "      <th>IMP_ACCORDATO</th>\n",
       "      <th>IMP_UTILIZZATO</th>\n",
       "      <th>IMP_VALORE_GARANZIA</th>\n",
       "    </tr>\n",
       "  </thead>\n",
       "  <tbody>\n",
       "    <tr>\n",
       "      <th>4</th>\n",
       "      <td>5</td>\n",
       "      <td>72021</td>\n",
       "      <td>BR</td>\n",
       "      <td>1989</td>\n",
       "      <td>419</td>\n",
       "      <td>482</td>\n",
       "      <td>10</td>\n",
       "      <td>0</td>\n",
       "      <td>-9999.0</td>\n",
       "      <td>-9999.0</td>\n",
       "      <td>-9999.0</td>\n",
       "      <td>-9999.0</td>\n",
       "      <td>-9999.0</td>\n",
       "      <td>-9999.0</td>\n",
       "      <td>-9999.0</td>\n",
       "      <td>-9999.0</td>\n",
       "      <td>37562.0</td>\n",
       "      <td>34857.0</td>\n",
       "      <td>0.0</td>\n",
       "    </tr>\n",
       "    <tr>\n",
       "      <th>5</th>\n",
       "      <td>6</td>\n",
       "      <td>71017</td>\n",
       "      <td>FG</td>\n",
       "      <td>1985</td>\n",
       "      <td>645</td>\n",
       "      <td>492</td>\n",
       "      <td>47</td>\n",
       "      <td>0</td>\n",
       "      <td>-9999.0</td>\n",
       "      <td>-9999.0</td>\n",
       "      <td>-9999.0</td>\n",
       "      <td>-9999.0</td>\n",
       "      <td>-9999.0</td>\n",
       "      <td>-9999.0</td>\n",
       "      <td>-9999.0</td>\n",
       "      <td>-9999.0</td>\n",
       "      <td>200504.0</td>\n",
       "      <td>201013.0</td>\n",
       "      <td>0.0</td>\n",
       "    </tr>\n",
       "    <tr>\n",
       "      <th>6</th>\n",
       "      <td>7</td>\n",
       "      <td>10026</td>\n",
       "      <td>TO</td>\n",
       "      <td>1979</td>\n",
       "      <td>850</td>\n",
       "      <td>492</td>\n",
       "      <td>68</td>\n",
       "      <td>0</td>\n",
       "      <td>-9999.0</td>\n",
       "      <td>-9999.0</td>\n",
       "      <td>-9999.0</td>\n",
       "      <td>-9999.0</td>\n",
       "      <td>-9999.0</td>\n",
       "      <td>-9999.0</td>\n",
       "      <td>-9999.0</td>\n",
       "      <td>-9999.0</td>\n",
       "      <td>64062.0</td>\n",
       "      <td>64062.0</td>\n",
       "      <td>0.0</td>\n",
       "    </tr>\n",
       "    <tr>\n",
       "      <th>8</th>\n",
       "      <td>9</td>\n",
       "      <td>17014</td>\n",
       "      <td>SV</td>\n",
       "      <td>1981</td>\n",
       "      <td>850</td>\n",
       "      <td>492</td>\n",
       "      <td>68</td>\n",
       "      <td>0</td>\n",
       "      <td>-9999.0</td>\n",
       "      <td>-9999.0</td>\n",
       "      <td>-9999.0</td>\n",
       "      <td>-9999.0</td>\n",
       "      <td>-9999.0</td>\n",
       "      <td>-9999.0</td>\n",
       "      <td>-9999.0</td>\n",
       "      <td>-9999.0</td>\n",
       "      <td>303944.0</td>\n",
       "      <td>309106.0</td>\n",
       "      <td>0.0</td>\n",
       "    </tr>\n",
       "    <tr>\n",
       "      <th>9</th>\n",
       "      <td>10</td>\n",
       "      <td>00187</td>\n",
       "      <td>RM</td>\n",
       "      <td>2010</td>\n",
       "      <td>505</td>\n",
       "      <td>430</td>\n",
       "      <td>41</td>\n",
       "      <td>0</td>\n",
       "      <td>1.0</td>\n",
       "      <td>-3.0</td>\n",
       "      <td>7.0</td>\n",
       "      <td>20.0</td>\n",
       "      <td>389.0</td>\n",
       "      <td>0.0</td>\n",
       "      <td>0.0</td>\n",
       "      <td>3.0</td>\n",
       "      <td>850000.0</td>\n",
       "      <td>0.0</td>\n",
       "      <td>0.0</td>\n",
       "    </tr>\n",
       "  </tbody>\n",
       "</table>\n",
       "</div>"
      ],
      "text/plain": [
       "   ID COD_CAP COD_PROVINCIA DAT_COSTITUZIONE COD_RAE COD_SAE  \\\n",
       "4   5   72021            BR             1989     419     482   \n",
       "5   6   71017            FG             1985     645     492   \n",
       "6   7   10026            TO             1979     850     492   \n",
       "8   9   17014            SV             1981     850     492   \n",
       "9  10   00187            RM             2010     505     430   \n",
       "\n",
       "  COD_ISTAT_ATECO_07  FLG_DEF_6M  CBI201312_CREDITI  \\\n",
       "4                 10           0            -9999.0   \n",
       "5                 47           0            -9999.0   \n",
       "6                 68           0            -9999.0   \n",
       "8                 68           0            -9999.0   \n",
       "9                 41           0                1.0   \n",
       "\n",
       "   CBI201312_UTILE_PERDITA_ESERCIZIO  CBI201312_PATRIMONIO_NETTO  \\\n",
       "4                            -9999.0                     -9999.0   \n",
       "5                            -9999.0                     -9999.0   \n",
       "6                            -9999.0                     -9999.0   \n",
       "8                            -9999.0                     -9999.0   \n",
       "9                               -3.0                         7.0   \n",
       "\n",
       "   CBI201312_DEBITI_CONSOLIDATI  CBI201312_DEBITI_ENTRO_ES_SUCC  \\\n",
       "4                       -9999.0                         -9999.0   \n",
       "5                       -9999.0                         -9999.0   \n",
       "6                       -9999.0                         -9999.0   \n",
       "8                       -9999.0                         -9999.0   \n",
       "9                          20.0                           389.0   \n",
       "\n",
       "   CBI201312_RICAVI_NETTI  CBI201312_ACQUISTI_NETTI  \\\n",
       "4                 -9999.0                   -9999.0   \n",
       "5                 -9999.0                   -9999.0   \n",
       "6                 -9999.0                   -9999.0   \n",
       "8                 -9999.0                   -9999.0   \n",
       "9                     0.0                       0.0   \n",
       "\n",
       "   CBI201312_COSTI_SERVZ_BENI_TERZI  IMP_ACCORDATO  IMP_UTILIZZATO  \\\n",
       "4                           -9999.0        37562.0         34857.0   \n",
       "5                           -9999.0       200504.0        201013.0   \n",
       "6                           -9999.0        64062.0         64062.0   \n",
       "8                           -9999.0       303944.0        309106.0   \n",
       "9                               3.0       850000.0             0.0   \n",
       "\n",
       "   IMP_VALORE_GARANZIA  \n",
       "4                  0.0  \n",
       "5                  0.0  \n",
       "6                  0.0  \n",
       "8                  0.0  \n",
       "9                  0.0  "
      ]
     },
     "execution_count": 69,
     "metadata": {},
     "output_type": "execute_result"
    }
   ],
   "source": [
    "db_flg0.head()"
   ]
  },
  {
   "cell_type": "code",
   "execution_count": 70,
   "metadata": {
    "collapsed": false
   },
   "outputs": [
    {
     "data": {
      "text/html": [
       "<div>\n",
       "<table border=\"1\" class=\"dataframe\">\n",
       "  <thead>\n",
       "    <tr style=\"text-align: right;\">\n",
       "      <th></th>\n",
       "      <th>ID</th>\n",
       "      <th>COD_CAP</th>\n",
       "      <th>COD_PROVINCIA</th>\n",
       "      <th>DAT_COSTITUZIONE</th>\n",
       "      <th>COD_RAE</th>\n",
       "      <th>COD_SAE</th>\n",
       "      <th>COD_ISTAT_ATECO_07</th>\n",
       "      <th>FLG_DEF_6M</th>\n",
       "      <th>CBI201312_CREDITI</th>\n",
       "      <th>CBI201312_UTILE_PERDITA_ESERCIZIO</th>\n",
       "      <th>CBI201312_PATRIMONIO_NETTO</th>\n",
       "      <th>CBI201312_DEBITI_CONSOLIDATI</th>\n",
       "      <th>CBI201312_DEBITI_ENTRO_ES_SUCC</th>\n",
       "      <th>CBI201312_RICAVI_NETTI</th>\n",
       "      <th>CBI201312_ACQUISTI_NETTI</th>\n",
       "      <th>CBI201312_COSTI_SERVZ_BENI_TERZI</th>\n",
       "      <th>IMP_ACCORDATO</th>\n",
       "      <th>IMP_UTILIZZATO</th>\n",
       "      <th>IMP_VALORE_GARANZIA</th>\n",
       "    </tr>\n",
       "  </thead>\n",
       "  <tbody>\n",
       "    <tr>\n",
       "      <th>0</th>\n",
       "      <td>1</td>\n",
       "      <td>83013</td>\n",
       "      <td>AV</td>\n",
       "      <td>1977</td>\n",
       "      <td>243</td>\n",
       "      <td>430</td>\n",
       "      <td>41</td>\n",
       "      <td>1</td>\n",
       "      <td>-9999.0</td>\n",
       "      <td>-9999.0</td>\n",
       "      <td>-9999.0</td>\n",
       "      <td>-9999.0</td>\n",
       "      <td>-9999.0</td>\n",
       "      <td>-9999.0</td>\n",
       "      <td>-9999.0</td>\n",
       "      <td>-9999.0</td>\n",
       "      <td>0.0</td>\n",
       "      <td>135220.0</td>\n",
       "      <td>0.0</td>\n",
       "    </tr>\n",
       "    <tr>\n",
       "      <th>1</th>\n",
       "      <td>2</td>\n",
       "      <td>84131</td>\n",
       "      <td>SA</td>\n",
       "      <td>1984</td>\n",
       "      <td>614</td>\n",
       "      <td>492</td>\n",
       "      <td>47</td>\n",
       "      <td>1</td>\n",
       "      <td>-9999.0</td>\n",
       "      <td>-9999.0</td>\n",
       "      <td>-9999.0</td>\n",
       "      <td>-9999.0</td>\n",
       "      <td>-9999.0</td>\n",
       "      <td>-9999.0</td>\n",
       "      <td>-9999.0</td>\n",
       "      <td>-9999.0</td>\n",
       "      <td>844348.0</td>\n",
       "      <td>1054419.0</td>\n",
       "      <td>0.0</td>\n",
       "    </tr>\n",
       "    <tr>\n",
       "      <th>2</th>\n",
       "      <td>3</td>\n",
       "      <td>82030</td>\n",
       "      <td>BN</td>\n",
       "      <td>1952</td>\n",
       "      <td>012</td>\n",
       "      <td>430</td>\n",
       "      <td>11</td>\n",
       "      <td>1</td>\n",
       "      <td>-9999.0</td>\n",
       "      <td>-9999.0</td>\n",
       "      <td>-9999.0</td>\n",
       "      <td>-9999.0</td>\n",
       "      <td>-9999.0</td>\n",
       "      <td>-9999.0</td>\n",
       "      <td>-9999.0</td>\n",
       "      <td>-9999.0</td>\n",
       "      <td>0.0</td>\n",
       "      <td>332366.0</td>\n",
       "      <td>0.0</td>\n",
       "    </tr>\n",
       "    <tr>\n",
       "      <th>3</th>\n",
       "      <td>4</td>\n",
       "      <td>80133</td>\n",
       "      <td>NaN</td>\n",
       "      <td>1982</td>\n",
       "      <td>830</td>\n",
       "      <td>430</td>\n",
       "      <td>41</td>\n",
       "      <td>1</td>\n",
       "      <td>-9999.0</td>\n",
       "      <td>-9999.0</td>\n",
       "      <td>-9999.0</td>\n",
       "      <td>-9999.0</td>\n",
       "      <td>-9999.0</td>\n",
       "      <td>-9999.0</td>\n",
       "      <td>-9999.0</td>\n",
       "      <td>-9999.0</td>\n",
       "      <td>0.0</td>\n",
       "      <td>51762483.0</td>\n",
       "      <td>0.0</td>\n",
       "    </tr>\n",
       "    <tr>\n",
       "      <th>7</th>\n",
       "      <td>8</td>\n",
       "      <td>10043</td>\n",
       "      <td>TO</td>\n",
       "      <td>1988</td>\n",
       "      <td>649</td>\n",
       "      <td>492</td>\n",
       "      <td>47</td>\n",
       "      <td>1</td>\n",
       "      <td>-9999.0</td>\n",
       "      <td>-9999.0</td>\n",
       "      <td>-9999.0</td>\n",
       "      <td>-9999.0</td>\n",
       "      <td>-9999.0</td>\n",
       "      <td>-9999.0</td>\n",
       "      <td>-9999.0</td>\n",
       "      <td>-9999.0</td>\n",
       "      <td>0.0</td>\n",
       "      <td>152636.0</td>\n",
       "      <td>0.0</td>\n",
       "    </tr>\n",
       "  </tbody>\n",
       "</table>\n",
       "</div>"
      ],
      "text/plain": [
       "   ID COD_CAP COD_PROVINCIA DAT_COSTITUZIONE COD_RAE COD_SAE  \\\n",
       "0   1   83013            AV             1977     243     430   \n",
       "1   2   84131            SA             1984     614     492   \n",
       "2   3   82030            BN             1952     012     430   \n",
       "3   4   80133           NaN             1982     830     430   \n",
       "7   8   10043            TO             1988     649     492   \n",
       "\n",
       "  COD_ISTAT_ATECO_07  FLG_DEF_6M  CBI201312_CREDITI  \\\n",
       "0                 41           1            -9999.0   \n",
       "1                 47           1            -9999.0   \n",
       "2                 11           1            -9999.0   \n",
       "3                 41           1            -9999.0   \n",
       "7                 47           1            -9999.0   \n",
       "\n",
       "   CBI201312_UTILE_PERDITA_ESERCIZIO  CBI201312_PATRIMONIO_NETTO  \\\n",
       "0                            -9999.0                     -9999.0   \n",
       "1                            -9999.0                     -9999.0   \n",
       "2                            -9999.0                     -9999.0   \n",
       "3                            -9999.0                     -9999.0   \n",
       "7                            -9999.0                     -9999.0   \n",
       "\n",
       "   CBI201312_DEBITI_CONSOLIDATI  CBI201312_DEBITI_ENTRO_ES_SUCC  \\\n",
       "0                       -9999.0                         -9999.0   \n",
       "1                       -9999.0                         -9999.0   \n",
       "2                       -9999.0                         -9999.0   \n",
       "3                       -9999.0                         -9999.0   \n",
       "7                       -9999.0                         -9999.0   \n",
       "\n",
       "   CBI201312_RICAVI_NETTI  CBI201312_ACQUISTI_NETTI  \\\n",
       "0                 -9999.0                   -9999.0   \n",
       "1                 -9999.0                   -9999.0   \n",
       "2                 -9999.0                   -9999.0   \n",
       "3                 -9999.0                   -9999.0   \n",
       "7                 -9999.0                   -9999.0   \n",
       "\n",
       "   CBI201312_COSTI_SERVZ_BENI_TERZI  IMP_ACCORDATO  IMP_UTILIZZATO  \\\n",
       "0                           -9999.0            0.0        135220.0   \n",
       "1                           -9999.0       844348.0       1054419.0   \n",
       "2                           -9999.0            0.0        332366.0   \n",
       "3                           -9999.0            0.0      51762483.0   \n",
       "7                           -9999.0            0.0        152636.0   \n",
       "\n",
       "   IMP_VALORE_GARANZIA  \n",
       "0                  0.0  \n",
       "1                  0.0  \n",
       "2                  0.0  \n",
       "3                  0.0  \n",
       "7                  0.0  "
      ]
     },
     "execution_count": 70,
     "metadata": {},
     "output_type": "execute_result"
    }
   ],
   "source": [
    "db_flg1.head()"
   ]
  },
  {
   "cell_type": "code",
   "execution_count": 71,
   "metadata": {
    "collapsed": true
   },
   "outputs": [],
   "source": [
    "db_bil = db_flg0.append(db_flg1)"
   ]
  },
  {
   "cell_type": "code",
   "execution_count": 72,
   "metadata": {
    "collapsed": false
   },
   "outputs": [
    {
     "data": {
      "text/plain": [
       "(20000, 19)"
      ]
     },
     "execution_count": 72,
     "metadata": {},
     "output_type": "execute_result"
    }
   ],
   "source": [
    "db_bil.shape"
   ]
  },
  {
   "cell_type": "code",
   "execution_count": 73,
   "metadata": {
    "collapsed": false
   },
   "outputs": [
    {
     "data": {
      "text/html": [
       "<div>\n",
       "<table border=\"1\" class=\"dataframe\">\n",
       "  <thead>\n",
       "    <tr style=\"text-align: right;\">\n",
       "      <th></th>\n",
       "      <th>ID</th>\n",
       "      <th>COD_CAP</th>\n",
       "      <th>COD_PROVINCIA</th>\n",
       "      <th>DAT_COSTITUZIONE</th>\n",
       "      <th>COD_RAE</th>\n",
       "      <th>COD_SAE</th>\n",
       "      <th>COD_ISTAT_ATECO_07</th>\n",
       "      <th>FLG_DEF_6M</th>\n",
       "      <th>CBI201312_CREDITI</th>\n",
       "      <th>CBI201312_UTILE_PERDITA_ESERCIZIO</th>\n",
       "      <th>CBI201312_PATRIMONIO_NETTO</th>\n",
       "      <th>CBI201312_DEBITI_CONSOLIDATI</th>\n",
       "      <th>CBI201312_DEBITI_ENTRO_ES_SUCC</th>\n",
       "      <th>CBI201312_RICAVI_NETTI</th>\n",
       "      <th>CBI201312_ACQUISTI_NETTI</th>\n",
       "      <th>CBI201312_COSTI_SERVZ_BENI_TERZI</th>\n",
       "      <th>IMP_ACCORDATO</th>\n",
       "      <th>IMP_UTILIZZATO</th>\n",
       "      <th>IMP_VALORE_GARANZIA</th>\n",
       "    </tr>\n",
       "  </thead>\n",
       "  <tbody>\n",
       "    <tr>\n",
       "      <th>4</th>\n",
       "      <td>5</td>\n",
       "      <td>72021</td>\n",
       "      <td>BR</td>\n",
       "      <td>1989</td>\n",
       "      <td>419</td>\n",
       "      <td>482</td>\n",
       "      <td>10</td>\n",
       "      <td>0</td>\n",
       "      <td>-9999.0</td>\n",
       "      <td>-9999.0</td>\n",
       "      <td>-9999.0</td>\n",
       "      <td>-9999.0</td>\n",
       "      <td>-9999.0</td>\n",
       "      <td>-9999.0</td>\n",
       "      <td>-9999.0</td>\n",
       "      <td>-9999.0</td>\n",
       "      <td>37562.0</td>\n",
       "      <td>34857.0</td>\n",
       "      <td>0.0</td>\n",
       "    </tr>\n",
       "    <tr>\n",
       "      <th>5</th>\n",
       "      <td>6</td>\n",
       "      <td>71017</td>\n",
       "      <td>FG</td>\n",
       "      <td>1985</td>\n",
       "      <td>645</td>\n",
       "      <td>492</td>\n",
       "      <td>47</td>\n",
       "      <td>0</td>\n",
       "      <td>-9999.0</td>\n",
       "      <td>-9999.0</td>\n",
       "      <td>-9999.0</td>\n",
       "      <td>-9999.0</td>\n",
       "      <td>-9999.0</td>\n",
       "      <td>-9999.0</td>\n",
       "      <td>-9999.0</td>\n",
       "      <td>-9999.0</td>\n",
       "      <td>200504.0</td>\n",
       "      <td>201013.0</td>\n",
       "      <td>0.0</td>\n",
       "    </tr>\n",
       "    <tr>\n",
       "      <th>6</th>\n",
       "      <td>7</td>\n",
       "      <td>10026</td>\n",
       "      <td>TO</td>\n",
       "      <td>1979</td>\n",
       "      <td>850</td>\n",
       "      <td>492</td>\n",
       "      <td>68</td>\n",
       "      <td>0</td>\n",
       "      <td>-9999.0</td>\n",
       "      <td>-9999.0</td>\n",
       "      <td>-9999.0</td>\n",
       "      <td>-9999.0</td>\n",
       "      <td>-9999.0</td>\n",
       "      <td>-9999.0</td>\n",
       "      <td>-9999.0</td>\n",
       "      <td>-9999.0</td>\n",
       "      <td>64062.0</td>\n",
       "      <td>64062.0</td>\n",
       "      <td>0.0</td>\n",
       "    </tr>\n",
       "    <tr>\n",
       "      <th>8</th>\n",
       "      <td>9</td>\n",
       "      <td>17014</td>\n",
       "      <td>SV</td>\n",
       "      <td>1981</td>\n",
       "      <td>850</td>\n",
       "      <td>492</td>\n",
       "      <td>68</td>\n",
       "      <td>0</td>\n",
       "      <td>-9999.0</td>\n",
       "      <td>-9999.0</td>\n",
       "      <td>-9999.0</td>\n",
       "      <td>-9999.0</td>\n",
       "      <td>-9999.0</td>\n",
       "      <td>-9999.0</td>\n",
       "      <td>-9999.0</td>\n",
       "      <td>-9999.0</td>\n",
       "      <td>303944.0</td>\n",
       "      <td>309106.0</td>\n",
       "      <td>0.0</td>\n",
       "    </tr>\n",
       "    <tr>\n",
       "      <th>9</th>\n",
       "      <td>10</td>\n",
       "      <td>00187</td>\n",
       "      <td>RM</td>\n",
       "      <td>2010</td>\n",
       "      <td>505</td>\n",
       "      <td>430</td>\n",
       "      <td>41</td>\n",
       "      <td>0</td>\n",
       "      <td>1.0</td>\n",
       "      <td>-3.0</td>\n",
       "      <td>7.0</td>\n",
       "      <td>20.0</td>\n",
       "      <td>389.0</td>\n",
       "      <td>0.0</td>\n",
       "      <td>0.0</td>\n",
       "      <td>3.0</td>\n",
       "      <td>850000.0</td>\n",
       "      <td>0.0</td>\n",
       "      <td>0.0</td>\n",
       "    </tr>\n",
       "  </tbody>\n",
       "</table>\n",
       "</div>"
      ],
      "text/plain": [
       "   ID COD_CAP COD_PROVINCIA DAT_COSTITUZIONE COD_RAE COD_SAE  \\\n",
       "4   5   72021            BR             1989     419     482   \n",
       "5   6   71017            FG             1985     645     492   \n",
       "6   7   10026            TO             1979     850     492   \n",
       "8   9   17014            SV             1981     850     492   \n",
       "9  10   00187            RM             2010     505     430   \n",
       "\n",
       "  COD_ISTAT_ATECO_07  FLG_DEF_6M  CBI201312_CREDITI  \\\n",
       "4                 10           0            -9999.0   \n",
       "5                 47           0            -9999.0   \n",
       "6                 68           0            -9999.0   \n",
       "8                 68           0            -9999.0   \n",
       "9                 41           0                1.0   \n",
       "\n",
       "   CBI201312_UTILE_PERDITA_ESERCIZIO  CBI201312_PATRIMONIO_NETTO  \\\n",
       "4                            -9999.0                     -9999.0   \n",
       "5                            -9999.0                     -9999.0   \n",
       "6                            -9999.0                     -9999.0   \n",
       "8                            -9999.0                     -9999.0   \n",
       "9                               -3.0                         7.0   \n",
       "\n",
       "   CBI201312_DEBITI_CONSOLIDATI  CBI201312_DEBITI_ENTRO_ES_SUCC  \\\n",
       "4                       -9999.0                         -9999.0   \n",
       "5                       -9999.0                         -9999.0   \n",
       "6                       -9999.0                         -9999.0   \n",
       "8                       -9999.0                         -9999.0   \n",
       "9                          20.0                           389.0   \n",
       "\n",
       "   CBI201312_RICAVI_NETTI  CBI201312_ACQUISTI_NETTI  \\\n",
       "4                 -9999.0                   -9999.0   \n",
       "5                 -9999.0                   -9999.0   \n",
       "6                 -9999.0                   -9999.0   \n",
       "8                 -9999.0                   -9999.0   \n",
       "9                     0.0                       0.0   \n",
       "\n",
       "   CBI201312_COSTI_SERVZ_BENI_TERZI  IMP_ACCORDATO  IMP_UTILIZZATO  \\\n",
       "4                           -9999.0        37562.0         34857.0   \n",
       "5                           -9999.0       200504.0        201013.0   \n",
       "6                           -9999.0        64062.0         64062.0   \n",
       "8                           -9999.0       303944.0        309106.0   \n",
       "9                               3.0       850000.0             0.0   \n",
       "\n",
       "   IMP_VALORE_GARANZIA  \n",
       "4                  0.0  \n",
       "5                  0.0  \n",
       "6                  0.0  \n",
       "8                  0.0  \n",
       "9                  0.0  "
      ]
     },
     "execution_count": 73,
     "metadata": {},
     "output_type": "execute_result"
    }
   ],
   "source": [
    "db_bil.head()"
   ]
  },
  {
   "cell_type": "code",
   "execution_count": 74,
   "metadata": {
    "collapsed": true
   },
   "outputs": [],
   "source": [
    "X_train5 = db_bil.drop(['ID','COD_PROVINCIA','COD_RAE','COD_SAE','DAT_COSTITUZIONE',\n",
    "                          'FLG_DEF_6M'],axis=1)\n",
    "y_train5 = db_bil['FLG_DEF_6M']"
   ]
  },
  {
   "cell_type": "code",
   "execution_count": 75,
   "metadata": {
    "collapsed": false
   },
   "outputs": [
    {
     "data": {
      "text/html": [
       "<div>\n",
       "<table border=\"1\" class=\"dataframe\">\n",
       "  <thead>\n",
       "    <tr style=\"text-align: right;\">\n",
       "      <th></th>\n",
       "      <th>COD_CAP</th>\n",
       "      <th>COD_ISTAT_ATECO_07</th>\n",
       "      <th>CBI201312_CREDITI</th>\n",
       "      <th>CBI201312_UTILE_PERDITA_ESERCIZIO</th>\n",
       "      <th>CBI201312_PATRIMONIO_NETTO</th>\n",
       "      <th>CBI201312_DEBITI_CONSOLIDATI</th>\n",
       "      <th>CBI201312_DEBITI_ENTRO_ES_SUCC</th>\n",
       "      <th>CBI201312_RICAVI_NETTI</th>\n",
       "      <th>CBI201312_ACQUISTI_NETTI</th>\n",
       "      <th>CBI201312_COSTI_SERVZ_BENI_TERZI</th>\n",
       "      <th>IMP_ACCORDATO</th>\n",
       "      <th>IMP_UTILIZZATO</th>\n",
       "      <th>IMP_VALORE_GARANZIA</th>\n",
       "    </tr>\n",
       "  </thead>\n",
       "  <tbody>\n",
       "    <tr>\n",
       "      <th>4</th>\n",
       "      <td>72021</td>\n",
       "      <td>10</td>\n",
       "      <td>-9999.0</td>\n",
       "      <td>-9999.0</td>\n",
       "      <td>-9999.0</td>\n",
       "      <td>-9999.0</td>\n",
       "      <td>-9999.0</td>\n",
       "      <td>-9999.0</td>\n",
       "      <td>-9999.0</td>\n",
       "      <td>-9999.0</td>\n",
       "      <td>37562.0</td>\n",
       "      <td>34857.0</td>\n",
       "      <td>0.0</td>\n",
       "    </tr>\n",
       "    <tr>\n",
       "      <th>5</th>\n",
       "      <td>71017</td>\n",
       "      <td>47</td>\n",
       "      <td>-9999.0</td>\n",
       "      <td>-9999.0</td>\n",
       "      <td>-9999.0</td>\n",
       "      <td>-9999.0</td>\n",
       "      <td>-9999.0</td>\n",
       "      <td>-9999.0</td>\n",
       "      <td>-9999.0</td>\n",
       "      <td>-9999.0</td>\n",
       "      <td>200504.0</td>\n",
       "      <td>201013.0</td>\n",
       "      <td>0.0</td>\n",
       "    </tr>\n",
       "    <tr>\n",
       "      <th>6</th>\n",
       "      <td>10026</td>\n",
       "      <td>68</td>\n",
       "      <td>-9999.0</td>\n",
       "      <td>-9999.0</td>\n",
       "      <td>-9999.0</td>\n",
       "      <td>-9999.0</td>\n",
       "      <td>-9999.0</td>\n",
       "      <td>-9999.0</td>\n",
       "      <td>-9999.0</td>\n",
       "      <td>-9999.0</td>\n",
       "      <td>64062.0</td>\n",
       "      <td>64062.0</td>\n",
       "      <td>0.0</td>\n",
       "    </tr>\n",
       "    <tr>\n",
       "      <th>8</th>\n",
       "      <td>17014</td>\n",
       "      <td>68</td>\n",
       "      <td>-9999.0</td>\n",
       "      <td>-9999.0</td>\n",
       "      <td>-9999.0</td>\n",
       "      <td>-9999.0</td>\n",
       "      <td>-9999.0</td>\n",
       "      <td>-9999.0</td>\n",
       "      <td>-9999.0</td>\n",
       "      <td>-9999.0</td>\n",
       "      <td>303944.0</td>\n",
       "      <td>309106.0</td>\n",
       "      <td>0.0</td>\n",
       "    </tr>\n",
       "    <tr>\n",
       "      <th>9</th>\n",
       "      <td>00187</td>\n",
       "      <td>41</td>\n",
       "      <td>1.0</td>\n",
       "      <td>-3.0</td>\n",
       "      <td>7.0</td>\n",
       "      <td>20.0</td>\n",
       "      <td>389.0</td>\n",
       "      <td>0.0</td>\n",
       "      <td>0.0</td>\n",
       "      <td>3.0</td>\n",
       "      <td>850000.0</td>\n",
       "      <td>0.0</td>\n",
       "      <td>0.0</td>\n",
       "    </tr>\n",
       "  </tbody>\n",
       "</table>\n",
       "</div>"
      ],
      "text/plain": [
       "  COD_CAP COD_ISTAT_ATECO_07  CBI201312_CREDITI  \\\n",
       "4   72021                 10            -9999.0   \n",
       "5   71017                 47            -9999.0   \n",
       "6   10026                 68            -9999.0   \n",
       "8   17014                 68            -9999.0   \n",
       "9   00187                 41                1.0   \n",
       "\n",
       "   CBI201312_UTILE_PERDITA_ESERCIZIO  CBI201312_PATRIMONIO_NETTO  \\\n",
       "4                            -9999.0                     -9999.0   \n",
       "5                            -9999.0                     -9999.0   \n",
       "6                            -9999.0                     -9999.0   \n",
       "8                            -9999.0                     -9999.0   \n",
       "9                               -3.0                         7.0   \n",
       "\n",
       "   CBI201312_DEBITI_CONSOLIDATI  CBI201312_DEBITI_ENTRO_ES_SUCC  \\\n",
       "4                       -9999.0                         -9999.0   \n",
       "5                       -9999.0                         -9999.0   \n",
       "6                       -9999.0                         -9999.0   \n",
       "8                       -9999.0                         -9999.0   \n",
       "9                          20.0                           389.0   \n",
       "\n",
       "   CBI201312_RICAVI_NETTI  CBI201312_ACQUISTI_NETTI  \\\n",
       "4                 -9999.0                   -9999.0   \n",
       "5                 -9999.0                   -9999.0   \n",
       "6                 -9999.0                   -9999.0   \n",
       "8                 -9999.0                   -9999.0   \n",
       "9                     0.0                       0.0   \n",
       "\n",
       "   CBI201312_COSTI_SERVZ_BENI_TERZI  IMP_ACCORDATO  IMP_UTILIZZATO  \\\n",
       "4                           -9999.0        37562.0         34857.0   \n",
       "5                           -9999.0       200504.0        201013.0   \n",
       "6                           -9999.0        64062.0         64062.0   \n",
       "8                           -9999.0       303944.0        309106.0   \n",
       "9                               3.0       850000.0             0.0   \n",
       "\n",
       "   IMP_VALORE_GARANZIA  \n",
       "4                  0.0  \n",
       "5                  0.0  \n",
       "6                  0.0  \n",
       "8                  0.0  \n",
       "9                  0.0  "
      ]
     },
     "execution_count": 75,
     "metadata": {},
     "output_type": "execute_result"
    }
   ],
   "source": [
    "X_train5.head()"
   ]
  },
  {
   "cell_type": "markdown",
   "metadata": {},
   "source": [
    "Rieseguo il modello sui dati bilanciati:"
   ]
  },
  {
   "cell_type": "code",
   "execution_count": 76,
   "metadata": {
    "collapsed": false
   },
   "outputs": [],
   "source": [
    "model_5 = ensemble.RandomForestClassifier(n_estimators=500, random_state=0)"
   ]
  },
  {
   "cell_type": "code",
   "execution_count": 77,
   "metadata": {
    "collapsed": false
   },
   "outputs": [
    {
     "data": {
      "text/plain": [
       "RandomForestClassifier(bootstrap=True, class_weight=None, criterion='gini',\n",
       "            max_depth=None, max_features='auto', max_leaf_nodes=None,\n",
       "            min_samples_leaf=1, min_samples_split=2,\n",
       "            min_weight_fraction_leaf=0.0, n_estimators=500, n_jobs=1,\n",
       "            oob_score=False, random_state=0, verbose=0, warm_start=False)"
      ]
     },
     "execution_count": 77,
     "metadata": {},
     "output_type": "execute_result"
    }
   ],
   "source": [
    "model_5.fit(X_train5,y_train5)"
   ]
  },
  {
   "cell_type": "markdown",
   "metadata": {},
   "source": [
    "Verifico la bonta' del modello:"
   ]
  },
  {
   "cell_type": "code",
   "execution_count": 78,
   "metadata": {
    "collapsed": false
   },
   "outputs": [
    {
     "data": {
      "text/plain": [
       "0.8233334507588379"
      ]
     },
     "execution_count": 78,
     "metadata": {},
     "output_type": "execute_result"
    }
   ],
   "source": [
    "y_test_5 = model_5.predict(X_test1)\n",
    "y_test_5_prob = model_5.predict_proba(X_test1)\n",
    "metrics.roc_auc_score(db_result['FLG_DEF_6M'].tolist(), y_test_5_prob[:,1])"
   ]
  },
  {
   "cell_type": "code",
   "execution_count": 79,
   "metadata": {
    "collapsed": false
   },
   "outputs": [
    {
     "data": {
      "text/html": [
       "<div>\n",
       "<table border=\"1\" class=\"dataframe\">\n",
       "  <thead>\n",
       "    <tr style=\"text-align: right;\">\n",
       "      <th></th>\n",
       "      <th>0</th>\n",
       "      <th>1</th>\n",
       "    </tr>\n",
       "  </thead>\n",
       "  <tbody>\n",
       "    <tr>\n",
       "      <th>0</th>\n",
       "      <td>3573</td>\n",
       "      <td>2663</td>\n",
       "    </tr>\n",
       "    <tr>\n",
       "      <th>1</th>\n",
       "      <td>191</td>\n",
       "      <td>1120</td>\n",
       "    </tr>\n",
       "  </tbody>\n",
       "</table>\n",
       "</div>"
      ],
      "text/plain": [
       "      0     1\n",
       "0  3573  2663\n",
       "1   191  1120"
      ]
     },
     "execution_count": 79,
     "metadata": {},
     "output_type": "execute_result"
    }
   ],
   "source": [
    "pd.DataFrame(metrics.confusion_matrix(db_result['FLG_DEF_6M'].tolist(),y_test_5))"
   ]
  },
  {
   "cell_type": "code",
   "execution_count": 80,
   "metadata": {
    "collapsed": false
   },
   "outputs": [
    {
     "data": {
      "image/png": "[encoded data removed]",
      "text/plain": [
       "<matplotlib.figure.Figure at 0x7f86f6573bd0>"
      ]
     },
     "metadata": {},
     "output_type": "display_data"
    }
   ],
   "source": [
    "fpr, tpr, _ = metrics.roc_curve(db_result['FLG_DEF_6M'].tolist(),y_test_5_prob[:,1])\n",
    "roc_auc = metrics.auc(fpr,tpr)\n",
    "plt.plot(fpr,tpr,color='Red',label = 'Roc = %0.5f' % roc_auc)\n",
    "plt.plot([0,1],[0,1],color='black')\n",
    "plt.legend (loc='lower right')\n",
    "plt.show()"
   ]
  },
  {
   "cell_type": "markdown",
   "metadata": {},
   "source": [
    "Il modello presenta un netto miglioramento sulla predizione del default, ma peggiora nella predizione dei clienti che non presentano rischi.\n",
    "Provo a bilanciare il campione dei 'non default' utilizzando il sample:"
   ]
  },
  {
   "cell_type": "code",
   "execution_count": 81,
   "metadata": {
    "collapsed": false
   },
   "outputs": [],
   "source": [
    "db_flg0_rdm = db_prep[db_prep.FLG_DEF_6M == 0].sample(10000)"
   ]
  },
  {
   "cell_type": "code",
   "execution_count": 82,
   "metadata": {
    "collapsed": false
   },
   "outputs": [
    {
     "data": {
      "text/plain": [
       "(10000, 19)"
      ]
     },
     "execution_count": 82,
     "metadata": {},
     "output_type": "execute_result"
    }
   ],
   "source": [
    "db_flg0_rdm.shape"
   ]
  },
  {
   "cell_type": "code",
   "execution_count": 83,
   "metadata": {
    "collapsed": false
   },
   "outputs": [
    {
     "data": {
      "text/plain": [
       "(10000, 19)"
      ]
     },
     "execution_count": 83,
     "metadata": {},
     "output_type": "execute_result"
    }
   ],
   "source": [
    "db_flg1.shape"
   ]
  },
  {
   "cell_type": "code",
   "execution_count": 84,
   "metadata": {
    "collapsed": true
   },
   "outputs": [],
   "source": [
    "db_bil_rdm = db_flg0_rdm.append(db_flg1)"
   ]
  },
  {
   "cell_type": "code",
   "execution_count": 85,
   "metadata": {
    "collapsed": false
   },
   "outputs": [
    {
     "data": {
      "text/html": [
       "<div>\n",
       "<table border=\"1\" class=\"dataframe\">\n",
       "  <thead>\n",
       "    <tr style=\"text-align: right;\">\n",
       "      <th></th>\n",
       "      <th>ID</th>\n",
       "      <th>COD_CAP</th>\n",
       "      <th>COD_PROVINCIA</th>\n",
       "      <th>DAT_COSTITUZIONE</th>\n",
       "      <th>COD_RAE</th>\n",
       "      <th>COD_SAE</th>\n",
       "      <th>COD_ISTAT_ATECO_07</th>\n",
       "      <th>FLG_DEF_6M</th>\n",
       "      <th>CBI201312_CREDITI</th>\n",
       "      <th>CBI201312_UTILE_PERDITA_ESERCIZIO</th>\n",
       "      <th>CBI201312_PATRIMONIO_NETTO</th>\n",
       "      <th>CBI201312_DEBITI_CONSOLIDATI</th>\n",
       "      <th>CBI201312_DEBITI_ENTRO_ES_SUCC</th>\n",
       "      <th>CBI201312_RICAVI_NETTI</th>\n",
       "      <th>CBI201312_ACQUISTI_NETTI</th>\n",
       "      <th>CBI201312_COSTI_SERVZ_BENI_TERZI</th>\n",
       "      <th>IMP_ACCORDATO</th>\n",
       "      <th>IMP_UTILIZZATO</th>\n",
       "      <th>IMP_VALORE_GARANZIA</th>\n",
       "    </tr>\n",
       "  </thead>\n",
       "  <tbody>\n",
       "    <tr>\n",
       "      <th>32999</th>\n",
       "      <td>33000</td>\n",
       "      <td>35131</td>\n",
       "      <td>PD</td>\n",
       "      <td>1967</td>\n",
       "      <td>614</td>\n",
       "      <td>430</td>\n",
       "      <td>46</td>\n",
       "      <td>0</td>\n",
       "      <td>252.0</td>\n",
       "      <td>20.0</td>\n",
       "      <td>314.0</td>\n",
       "      <td>0.0</td>\n",
       "      <td>498.0</td>\n",
       "      <td>1169.0</td>\n",
       "      <td>706.0</td>\n",
       "      <td>278.0</td>\n",
       "      <td>451490.0</td>\n",
       "      <td>297035.0</td>\n",
       "      <td>0.0</td>\n",
       "    </tr>\n",
       "    <tr>\n",
       "      <th>22056</th>\n",
       "      <td>22057</td>\n",
       "      <td>56025</td>\n",
       "      <td>PI</td>\n",
       "      <td>1994</td>\n",
       "      <td>614</td>\n",
       "      <td>430</td>\n",
       "      <td>45</td>\n",
       "      <td>0</td>\n",
       "      <td>71.0</td>\n",
       "      <td>25.0</td>\n",
       "      <td>156.0</td>\n",
       "      <td>33.0</td>\n",
       "      <td>811.0</td>\n",
       "      <td>2147.0</td>\n",
       "      <td>1770.0</td>\n",
       "      <td>309.0</td>\n",
       "      <td>1328000.0</td>\n",
       "      <td>642209.0</td>\n",
       "      <td>0.0</td>\n",
       "    </tr>\n",
       "    <tr>\n",
       "      <th>11028</th>\n",
       "      <td>11029</td>\n",
       "      <td>10060</td>\n",
       "      <td>TO</td>\n",
       "      <td>1989</td>\n",
       "      <td>011</td>\n",
       "      <td>615</td>\n",
       "      <td>01</td>\n",
       "      <td>0</td>\n",
       "      <td>-9999.0</td>\n",
       "      <td>-9999.0</td>\n",
       "      <td>-9999.0</td>\n",
       "      <td>-9999.0</td>\n",
       "      <td>-9999.0</td>\n",
       "      <td>-9999.0</td>\n",
       "      <td>-9999.0</td>\n",
       "      <td>-9999.0</td>\n",
       "      <td>342832.0</td>\n",
       "      <td>342832.0</td>\n",
       "      <td>0.0</td>\n",
       "    </tr>\n",
       "    <tr>\n",
       "      <th>2427</th>\n",
       "      <td>2428</td>\n",
       "      <td>40011</td>\n",
       "      <td>BO</td>\n",
       "      <td>2002</td>\n",
       "      <td>014</td>\n",
       "      <td>615</td>\n",
       "      <td>01</td>\n",
       "      <td>0</td>\n",
       "      <td>2538.0</td>\n",
       "      <td>812.0</td>\n",
       "      <td>5418.0</td>\n",
       "      <td>3560.0</td>\n",
       "      <td>415.0</td>\n",
       "      <td>2290.0</td>\n",
       "      <td>1018.0</td>\n",
       "      <td>336.0</td>\n",
       "      <td>13964544.0</td>\n",
       "      <td>5426709.0</td>\n",
       "      <td>0.0</td>\n",
       "    </tr>\n",
       "    <tr>\n",
       "      <th>52704</th>\n",
       "      <td>52705</td>\n",
       "      <td>33100</td>\n",
       "      <td>UD</td>\n",
       "      <td>2008</td>\n",
       "      <td>830</td>\n",
       "      <td>430</td>\n",
       "      <td>62</td>\n",
       "      <td>0</td>\n",
       "      <td>131.0</td>\n",
       "      <td>-41.0</td>\n",
       "      <td>-15.0</td>\n",
       "      <td>0.0</td>\n",
       "      <td>110.0</td>\n",
       "      <td>220.0</td>\n",
       "      <td>4.0</td>\n",
       "      <td>157.0</td>\n",
       "      <td>93641.0</td>\n",
       "      <td>52391.0</td>\n",
       "      <td>0.0</td>\n",
       "    </tr>\n",
       "  </tbody>\n",
       "</table>\n",
       "</div>"
      ],
      "text/plain": [
       "          ID COD_CAP COD_PROVINCIA DAT_COSTITUZIONE COD_RAE COD_SAE  \\\n",
       "32999  33000   35131            PD             1967     614     430   \n",
       "22056  22057   56025            PI             1994     614     430   \n",
       "11028  11029   10060            TO             1989     011     615   \n",
       "2427    2428   40011            BO             2002     014     615   \n",
       "52704  52705   33100            UD             2008     830     430   \n",
       "\n",
       "      COD_ISTAT_ATECO_07  FLG_DEF_6M  CBI201312_CREDITI  \\\n",
       "32999                 46           0              252.0   \n",
       "22056                 45           0               71.0   \n",
       "11028                 01           0            -9999.0   \n",
       "2427                  01           0             2538.0   \n",
       "52704                 62           0              131.0   \n",
       "\n",
       "       CBI201312_UTILE_PERDITA_ESERCIZIO  CBI201312_PATRIMONIO_NETTO  \\\n",
       "32999                               20.0                       314.0   \n",
       "22056                               25.0                       156.0   \n",
       "11028                            -9999.0                     -9999.0   \n",
       "2427                               812.0                      5418.0   \n",
       "52704                              -41.0                       -15.0   \n",
       "\n",
       "       CBI201312_DEBITI_CONSOLIDATI  CBI201312_DEBITI_ENTRO_ES_SUCC  \\\n",
       "32999                           0.0                           498.0   \n",
       "22056                          33.0                           811.0   \n",
       "11028                       -9999.0                         -9999.0   \n",
       "2427                         3560.0                           415.0   \n",
       "52704                           0.0                           110.0   \n",
       "\n",
       "       CBI201312_RICAVI_NETTI  CBI201312_ACQUISTI_NETTI  \\\n",
       "32999                  1169.0                     706.0   \n",
       "22056                  2147.0                    1770.0   \n",
       "11028                 -9999.0                   -9999.0   \n",
       "2427                   2290.0                    1018.0   \n",
       "52704                   220.0                       4.0   \n",
       "\n",
       "       CBI201312_COSTI_SERVZ_BENI_TERZI  IMP_ACCORDATO  IMP_UTILIZZATO  \\\n",
       "32999                             278.0       451490.0        297035.0   \n",
       "22056                             309.0      1328000.0        642209.0   \n",
       "11028                           -9999.0       342832.0        342832.0   \n",
       "2427                              336.0     13964544.0       5426709.0   \n",
       "52704                             157.0        93641.0         52391.0   \n",
       "\n",
       "       IMP_VALORE_GARANZIA  \n",
       "32999                  0.0  \n",
       "22056                  0.0  \n",
       "11028                  0.0  \n",
       "2427                   0.0  \n",
       "52704                  0.0  "
      ]
     },
     "execution_count": 85,
     "metadata": {},
     "output_type": "execute_result"
    }
   ],
   "source": [
    "db_bil_rdm.head()"
   ]
  },
  {
   "cell_type": "code",
   "execution_count": 86,
   "metadata": {
    "collapsed": false
   },
   "outputs": [
    {
     "data": {
      "text/plain": [
       "(20000, 19)"
      ]
     },
     "execution_count": 86,
     "metadata": {},
     "output_type": "execute_result"
    }
   ],
   "source": [
    "db_bil_rdm.shape"
   ]
  },
  {
   "cell_type": "markdown",
   "metadata": {},
   "source": [
    "Provo i risultati sul nuovo training set:"
   ]
  },
  {
   "cell_type": "code",
   "execution_count": 87,
   "metadata": {
    "collapsed": true
   },
   "outputs": [],
   "source": [
    "X_train6 = db_bil_rdm.drop(['ID','COD_PROVINCIA','COD_RAE','COD_SAE','DAT_COSTITUZIONE',\n",
    "                          'FLG_DEF_6M'],axis=1)\n",
    "y_train6 = db_bil_rdm['FLG_DEF_6M']"
   ]
  },
  {
   "cell_type": "code",
   "execution_count": 88,
   "metadata": {
    "collapsed": false
   },
   "outputs": [
    {
     "data": {
      "text/plain": [
       "RandomForestClassifier(bootstrap=True, class_weight=None, criterion='gini',\n",
       "            max_depth=None, max_features='auto', max_leaf_nodes=None,\n",
       "            min_samples_leaf=1, min_samples_split=2,\n",
       "            min_weight_fraction_leaf=0.0, n_estimators=500, n_jobs=1,\n",
       "            oob_score=False, random_state=0, verbose=0, warm_start=False)"
      ]
     },
     "execution_count": 88,
     "metadata": {},
     "output_type": "execute_result"
    }
   ],
   "source": [
    "model_5.fit(X_train6,y_train6)"
   ]
  },
  {
   "cell_type": "markdown",
   "metadata": {},
   "source": [
    "Valuto la bonta' del risultato:"
   ]
  },
  {
   "cell_type": "code",
   "execution_count": 89,
   "metadata": {
    "collapsed": false
   },
   "outputs": [
    {
     "data": {
      "text/plain": [
       "0.86603719257146694"
      ]
     },
     "execution_count": 89,
     "metadata": {},
     "output_type": "execute_result"
    }
   ],
   "source": [
    "y_test_6 = model_5.predict(X_test1)\n",
    "y_test_6_prob = model_5.predict_proba(X_test1)\n",
    "metrics.roc_auc_score(db_result['FLG_DEF_6M'].tolist(), y_test_6_prob[:,1])"
   ]
  },
  {
   "cell_type": "code",
   "execution_count": 90,
   "metadata": {
    "collapsed": false
   },
   "outputs": [
    {
     "data": {
      "text/html": [
       "<div>\n",
       "<table border=\"1\" class=\"dataframe\">\n",
       "  <thead>\n",
       "    <tr style=\"text-align: right;\">\n",
       "      <th></th>\n",
       "      <th>0</th>\n",
       "      <th>1</th>\n",
       "    </tr>\n",
       "  </thead>\n",
       "  <tbody>\n",
       "    <tr>\n",
       "      <th>0</th>\n",
       "      <td>5105</td>\n",
       "      <td>1131</td>\n",
       "    </tr>\n",
       "    <tr>\n",
       "      <th>1</th>\n",
       "      <td>346</td>\n",
       "      <td>965</td>\n",
       "    </tr>\n",
       "  </tbody>\n",
       "</table>\n",
       "</div>"
      ],
      "text/plain": [
       "      0     1\n",
       "0  5105  1131\n",
       "1   346   965"
      ]
     },
     "execution_count": 90,
     "metadata": {},
     "output_type": "execute_result"
    }
   ],
   "source": [
    "pd.DataFrame(metrics.confusion_matrix(db_result['FLG_DEF_6M'].tolist(),y_test_6))"
   ]
  },
  {
   "cell_type": "code",
   "execution_count": 91,
   "metadata": {
    "collapsed": false
   },
   "outputs": [
    {
     "data": {
      "image/png": "[encoded data removed]",
      "text/plain": [
       "<matplotlib.figure.Figure at 0x7f86f8d76a10>"
      ]
     },
     "metadata": {},
     "output_type": "display_data"
    }
   ],
   "source": [
    "fpr, tpr, _ = metrics.roc_curve(db_result['FLG_DEF_6M'].tolist(),y_test_6_prob[:,1])\n",
    "roc_auc = metrics.auc(fpr,tpr)\n",
    "plt.plot(fpr,tpr,color='Red',label = 'Roc = %0.5f' % roc_auc)\n",
    "plt.plot([0,1],[0,1],color='black')\n",
    "plt.legend (loc='lower right')\n",
    "plt.show()"
   ]
  },
  {
   "cell_type": "code",
   "execution_count": null,
   "metadata": {
    "collapsed": true
   },
   "outputs": [],
   "source": []
  }
 ],
 "metadata": {
  "kernelspec": {
   "display_name": "Python [Root]",
   "language": "python",
   "name": "Python [Root]"
  },
  "language_info": {
   "codemirror_mode": {
    "name": "ipython",
    "version": 2
   },
   "file_extension": ".py",
   "mimetype": "text/x-python",
   "name": "python",
   "nbconvert_exporter": "python",
   "pygments_lexer": "ipython2",
   "version": "2.7.12"
  }
 },
 "nbformat": 4,
 "nbformat_minor": 0
}

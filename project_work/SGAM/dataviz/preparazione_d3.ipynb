{
 "cells": [
  {
   "cell_type": "code",
   "execution_count": 213,
   "metadata": {
    "collapsed": false
   },
   "outputs": [
    {
     "name": "stdout",
     "output_type": "stream",
     "text": [
      "Populating the interactive namespace from numpy and matplotlib\n"
     ]
    }
   ],
   "source": [
    "%pylab inline\n",
    "import pandas as pd"
   ]
  },
  {
   "cell_type": "code",
   "execution_count": 214,
   "metadata": {
    "collapsed": false
   },
   "outputs": [],
   "source": [
    "train_data = pd.read_csv(\"../CONTEST_TRAINING_SET_PUBBLICO.CSV\",  \n",
    "                         encoding=\"utf8\", dtype={'COD_CAP': 'str', 'COD_ISTAT_ATECO_07':'S2' })\n",
    "train_data[\"COD_PROVINCIA\"].fillna(value=\"NA\", inplace=True)\n",
    "#train_data['COD_ISTAT_ATECO_07']=train_data['COD_ISTAT_ATECO_07'].str[0:2]"
   ]
  },
  {
   "cell_type": "markdown",
   "metadata": {},
   "source": [
    "Arricchiamo il database iniziale con la decodifica della sigla provincia nel nome completo, da mostrare nella parte di visualization"
   ]
  },
  {
   "cell_type": "code",
   "execution_count": 215,
   "metadata": {
    "collapsed": false
   },
   "outputs": [],
   "source": [
    "province = pd.read_csv(\"../listacomuni.txt\",  encoding=\"utf8\", keep_default_na=False)"
   ]
  },
  {
   "cell_type": "code",
   "execution_count": 216,
   "metadata": {
    "collapsed": false
   },
   "outputs": [],
   "source": [
    "gr_prov_s = train_data[[\"COD_PROVINCIA\",\"FLG_DEF_6M\"]].groupby(\"COD_PROVINCIA\", as_index=False)[\"FLG_DEF_6M\"].sum()\n",
    "gr_prov_s.columns = [\"COD_PROVINCIA\",\"sum\"]"
   ]
  },
  {
   "cell_type": "code",
   "execution_count": 217,
   "metadata": {
    "collapsed": true
   },
   "outputs": [],
   "source": [
    "gr_prov_c = train_data[[\"COD_PROVINCIA\",\"FLG_DEF_6M\"]].groupby(\"COD_PROVINCIA\", as_index=False)[\"FLG_DEF_6M\"].count()\n",
    "gr_prov_c.columns = [\"COD_PROVINCIA\",\"count\"]"
   ]
  },
  {
   "cell_type": "code",
   "execution_count": 218,
   "metadata": {
    "collapsed": false
   },
   "outputs": [],
   "source": [
    "gr_prov = gr_prov_s.merge(gr_prov_c, on=\"COD_PROVINCIA\" )"
   ]
  },
  {
   "cell_type": "code",
   "execution_count": 219,
   "metadata": {
    "collapsed": false
   },
   "outputs": [],
   "source": [
    "gr_prov[\"prc\"] = gr_prov[\"sum\"] / gr_prov[\"count\"]"
   ]
  },
  {
   "cell_type": "code",
   "execution_count": 220,
   "metadata": {
    "collapsed": true
   },
   "outputs": [],
   "source": [
    "province_join = province[[\"Provincia\", \"Nome Provincia\"]].drop_duplicates()"
   ]
  },
  {
   "cell_type": "code",
   "execution_count": 221,
   "metadata": {
    "collapsed": false
   },
   "outputs": [],
   "source": [
    "province_join.columns = [\"COD_PROVINCIA\", \"Nome Provincia\"]"
   ]
  },
  {
   "cell_type": "code",
   "execution_count": 222,
   "metadata": {
    "collapsed": false
   },
   "outputs": [],
   "source": [
    "export_prov = gr_prov.merge(province_join,on=\"COD_PROVINCIA\")[[\"Nome Provincia\",\"prc\"]]"
   ]
  },
  {
   "cell_type": "code",
   "execution_count": 223,
   "metadata": {
    "collapsed": true
   },
   "outputs": [],
   "source": [
    "export_prov.to_csv(\"d3_provincia.csv\", index=False, header=[\"provincia\",\"prc\"])"
   ]
  },
  {
   "cell_type": "code",
   "execution_count": 224,
   "metadata": {
    "collapsed": false
   },
   "outputs": [
    {
     "data": {
      "text/html": [
       "<div>\n",
       "<table border=\"1\" class=\"dataframe\">\n",
       "  <thead>\n",
       "    <tr style=\"text-align: right;\">\n",
       "      <th></th>\n",
       "      <th>Nome Provincia</th>\n",
       "      <th>prc</th>\n",
       "    </tr>\n",
       "  </thead>\n",
       "  <tbody>\n",
       "    <tr>\n",
       "      <th>0</th>\n",
       "      <td>AGRIGENTO</td>\n",
       "      <td>0.242009</td>\n",
       "    </tr>\n",
       "    <tr>\n",
       "      <th>1</th>\n",
       "      <td>ALESSANDRIA</td>\n",
       "      <td>0.131313</td>\n",
       "    </tr>\n",
       "    <tr>\n",
       "      <th>2</th>\n",
       "      <td>ANCONA</td>\n",
       "      <td>0.125000</td>\n",
       "    </tr>\n",
       "    <tr>\n",
       "      <th>3</th>\n",
       "      <td>VALLE D'AOSTA</td>\n",
       "      <td>0.117117</td>\n",
       "    </tr>\n",
       "    <tr>\n",
       "      <th>4</th>\n",
       "      <td>ASCOLI PICENO</td>\n",
       "      <td>0.172414</td>\n",
       "    </tr>\n",
       "  </tbody>\n",
       "</table>\n",
       "</div>"
      ],
      "text/plain": [
       "  Nome Provincia       prc\n",
       "0      AGRIGENTO  0.242009\n",
       "1    ALESSANDRIA  0.131313\n",
       "2         ANCONA  0.125000\n",
       "3  VALLE D'AOSTA  0.117117\n",
       "4  ASCOLI PICENO  0.172414"
      ]
     },
     "execution_count": 224,
     "metadata": {},
     "output_type": "execute_result"
    }
   ],
   "source": [
    "export_prov.head()"
   ]
  },
  {
   "cell_type": "markdown",
   "metadata": {},
   "source": [
    "Creiamo un file con la descrizione arricchita dei codici ATECO, considerando la categoria piu' generale rappresentata dai primi due caratteri "
   ]
  },
  {
   "cell_type": "code",
   "execution_count": 225,
   "metadata": {
    "collapsed": false
   },
   "outputs": [],
   "source": [
    "ateco = pd.read_csv(\"../Transcodifica_codici_ATECO_2_cifre.csv\",  \n",
    "                       dtype={\"ATECO2cifre\":\"S2\", \"Settore\":\"str\" }, encoding=\"utf8\", keep_default_na=False) "
   ]
  },
  {
   "cell_type": "code",
   "execution_count": 226,
   "metadata": {
    "collapsed": false
   },
   "outputs": [],
   "source": [
    "gr_ateco = train_data[[\"COD_PROVINCIA\", \"FLG_DEF_6M\", \"COD_ISTAT_ATECO_07\"]].groupby([\"COD_PROVINCIA\", \"COD_ISTAT_ATECO_07\"], as_index=False)[\"FLG_DEF_6M\"].sum()"
   ]
  },
  {
   "cell_type": "code",
   "execution_count": 227,
   "metadata": {
    "collapsed": false
   },
   "outputs": [],
   "source": [
    "gr_ateco.columns =  [\"COD_PROVINCIA\", \"ATECO2cifre\", \"sum\"]\n",
    "gr_ateco = gr_ateco[gr_ateco.ATECO2cifre != \"\"]"
   ]
  },
  {
   "cell_type": "code",
   "execution_count": 228,
   "metadata": {
    "collapsed": false
   },
   "outputs": [],
   "source": [
    "export_ateco = gr_ateco.merge(ateco,on=\"ATECO2cifre\")[[\"COD_PROVINCIA\", \"Settore\",\"sum\"]]"
   ]
  },
  {
   "cell_type": "code",
   "execution_count": 229,
   "metadata": {
    "collapsed": false
   },
   "outputs": [],
   "source": [
    "export_ateco = export_ateco.merge(province_join,on=\"COD_PROVINCIA\")[[\"Nome Provincia\", \"Settore\",\"sum\"]]"
   ]
  },
  {
   "cell_type": "code",
   "execution_count": 230,
   "metadata": {
    "collapsed": false
   },
   "outputs": [
    {
     "data": {
      "text/html": [
       "<div>\n",
       "<table border=\"1\" class=\"dataframe\">\n",
       "  <thead>\n",
       "    <tr style=\"text-align: right;\">\n",
       "      <th></th>\n",
       "      <th>Nome Provincia</th>\n",
       "      <th>Settore</th>\n",
       "      <th>sum</th>\n",
       "    </tr>\n",
       "  </thead>\n",
       "  <tbody>\n",
       "    <tr>\n",
       "      <th>0</th>\n",
       "      <td>AGRIGENTO</td>\n",
       "      <td>COLTIVAZIONI AGRICOLE, PRODOTTI ANIMALI E CACCIA</td>\n",
       "      <td>1</td>\n",
       "    </tr>\n",
       "    <tr>\n",
       "      <th>1</th>\n",
       "      <td>AGRIGENTO</td>\n",
       "      <td>SILVICOLTURA ED UTILIZZO DI AREE FORESTALI</td>\n",
       "      <td>0</td>\n",
       "    </tr>\n",
       "    <tr>\n",
       "      <th>2</th>\n",
       "      <td>AGRIGENTO</td>\n",
       "      <td>INDUSTRIE ALIMENTARI</td>\n",
       "      <td>5</td>\n",
       "    </tr>\n",
       "    <tr>\n",
       "      <th>3</th>\n",
       "      <td>AGRIGENTO</td>\n",
       "      <td>PRODOTTI DA MINERALI NON METALLIFERI</td>\n",
       "      <td>4</td>\n",
       "    </tr>\n",
       "    <tr>\n",
       "      <th>4</th>\n",
       "      <td>AGRIGENTO</td>\n",
       "      <td>FABBRICAZIONE DI PRODOTTI IN METALLO (NO MACCH...</td>\n",
       "      <td>2</td>\n",
       "    </tr>\n",
       "  </tbody>\n",
       "</table>\n",
       "</div>"
      ],
      "text/plain": [
       "  Nome Provincia                                            Settore  sum\n",
       "0      AGRIGENTO   COLTIVAZIONI AGRICOLE, PRODOTTI ANIMALI E CACCIA    1\n",
       "1      AGRIGENTO         SILVICOLTURA ED UTILIZZO DI AREE FORESTALI    0\n",
       "2      AGRIGENTO                               INDUSTRIE ALIMENTARI    5\n",
       "3      AGRIGENTO               PRODOTTI DA MINERALI NON METALLIFERI    4\n",
       "4      AGRIGENTO  FABBRICAZIONE DI PRODOTTI IN METALLO (NO MACCH...    2"
      ]
     },
     "execution_count": 230,
     "metadata": {},
     "output_type": "execute_result"
    }
   ],
   "source": [
    "export_ateco.head()"
   ]
  },
  {
   "cell_type": "code",
   "execution_count": 231,
   "metadata": {
    "collapsed": false
   },
   "outputs": [],
   "source": [
    "export_ateco.to_csv(\"d3_ateco.csv\", index=False, header=[\"provincia\",\"ateco\",\"sum\"])"
   ]
  }
 ],
 "metadata": {
  "kernelspec": {
   "display_name": "Python [Root]",
   "language": "python",
   "name": "Python [Root]"
  },
  "language_info": {
   "codemirror_mode": {
    "name": "ipython",
    "version": 2
   },
   "file_extension": ".py",
   "mimetype": "text/x-python",
   "name": "python",
   "nbconvert_exporter": "python",
   "pygments_lexer": "ipython2",
   "version": "2.7.12"
  }
 },
 "nbformat": 4,
 "nbformat_minor": 0
}

{
 "cells": [
  {
   "cell_type": "markdown",
   "metadata": {},
   "source": [
    "<p align=\"center\">\n",
    "  <img src=\"resources/bigdive.png\" alt=\"BDINTESA\"/>\n",
    "</p>"
   ]
  },
  {
   "cell_type": "markdown",
   "metadata": {},
   "source": [
    "# TITOLO PROGETTO\n",
    "\n",
    "## SOTTOTITOLO (opzionale)\n",
    "\n",
    "- Partecipante 1\n",
    "- Partecipante 2\n",
    "- Partecipante 3"
   ]
  },
  {
   "cell_type": "code",
   "execution_count": 1,
   "metadata": {
    "collapsed": false
   },
   "outputs": [
    {
     "name": "stdout",
     "output_type": "stream",
     "text": [
      "Populating the interactive namespace from numpy and matplotlib\n"
     ]
    }
   ],
   "source": [
    "%pylab inline"
   ]
  },
  {
   "cell_type": "code",
   "execution_count": 2,
   "metadata": {
    "collapsed": true
   },
   "outputs": [],
   "source": [
    "import pandas as pd"
   ]
  },
  {
   "cell_type": "code",
   "execution_count": 3,
   "metadata": {
    "collapsed": false
   },
   "outputs": [
    {
     "name": "stdout",
     "output_type": "stream",
     "text": [
      "Dimensioni training set: (66811, 19)\n"
     ]
    }
   ],
   "source": [
    "train_data = pd.read_csv(\"/home/bigdive/Desktop/BDINTESA/project_work/CONTEST_TRAINING_SET_PUBBLICO.CSV\") #leggo i dati che sono nella medesima cartella\n",
    "test_data = pd.read_csv(\"/home/bigdive/Desktop/BDINTESA/project_work/CONTEST_TEST_SET_PUBBLICO.csv\")\n",
    "sol_data = pd.read_csv(\"/home/bigdive/Desktop/BDINTESA/project_work/CONTEST_TEST_RESULTS_AN_PRIVATO.csv\")\n",
    "\n",
    "print \"Dimensioni training set:\" , shape(train_data)"
   ]
  },
  {
   "cell_type": "code",
   "execution_count": 4,
   "metadata": {
    "collapsed": false
   },
   "outputs": [
    {
     "data": {
      "text/html": [
       "<div>\n",
       "<table border=\"1\" class=\"dataframe\">\n",
       "  <thead>\n",
       "    <tr style=\"text-align: right;\">\n",
       "      <th></th>\n",
       "      <th>ID</th>\n",
       "      <th>COD_CAP</th>\n",
       "      <th>COD_PROVINCIA</th>\n",
       "      <th>DAT_COSTITUZIONE</th>\n",
       "      <th>COD_RAE</th>\n",
       "      <th>COD_SAE</th>\n",
       "      <th>COD_ISTAT_ATECO_07</th>\n",
       "      <th>FLG_DEF_6M</th>\n",
       "      <th>CBI201312_CREDITI</th>\n",
       "      <th>CBI201312_UTILE_PERDITA_ESERCIZIO</th>\n",
       "      <th>CBI201312_PATRIMONIO_NETTO</th>\n",
       "      <th>CBI201312_DEBITI_CONSOLIDATI</th>\n",
       "      <th>CBI201312_DEBITI_ENTRO_ES_SUCC</th>\n",
       "      <th>CBI201312_RICAVI_NETTI</th>\n",
       "      <th>CBI201312_ACQUISTI_NETTI</th>\n",
       "      <th>CBI201312_COSTI_SERVZ_BENI_TERZI</th>\n",
       "      <th>IMP_ACCORDATO</th>\n",
       "      <th>IMP_UTILIZZATO</th>\n",
       "      <th>IMP_VALORE_GARANZIA</th>\n",
       "    </tr>\n",
       "  </thead>\n",
       "  <tbody>\n",
       "    <tr>\n",
       "      <th>0</th>\n",
       "      <td>1</td>\n",
       "      <td>83013.0</td>\n",
       "      <td>AV</td>\n",
       "      <td>1977.0</td>\n",
       "      <td>243</td>\n",
       "      <td>430</td>\n",
       "      <td>4120.0</td>\n",
       "      <td>1</td>\n",
       "      <td>NaN</td>\n",
       "      <td>NaN</td>\n",
       "      <td>NaN</td>\n",
       "      <td>NaN</td>\n",
       "      <td>NaN</td>\n",
       "      <td>NaN</td>\n",
       "      <td>NaN</td>\n",
       "      <td>NaN</td>\n",
       "      <td>0.0</td>\n",
       "      <td>135220.0</td>\n",
       "      <td>0.0</td>\n",
       "    </tr>\n",
       "    <tr>\n",
       "      <th>1</th>\n",
       "      <td>2</td>\n",
       "      <td>84131.0</td>\n",
       "      <td>SA</td>\n",
       "      <td>1984.0</td>\n",
       "      <td>614</td>\n",
       "      <td>492</td>\n",
       "      <td>4719.0</td>\n",
       "      <td>1</td>\n",
       "      <td>NaN</td>\n",
       "      <td>NaN</td>\n",
       "      <td>NaN</td>\n",
       "      <td>NaN</td>\n",
       "      <td>NaN</td>\n",
       "      <td>NaN</td>\n",
       "      <td>NaN</td>\n",
       "      <td>NaN</td>\n",
       "      <td>844348.0</td>\n",
       "      <td>1054419.0</td>\n",
       "      <td>0.0</td>\n",
       "    </tr>\n",
       "    <tr>\n",
       "      <th>2</th>\n",
       "      <td>3</td>\n",
       "      <td>82030.0</td>\n",
       "      <td>BN</td>\n",
       "      <td>1952.0</td>\n",
       "      <td>12</td>\n",
       "      <td>430</td>\n",
       "      <td>11021.0</td>\n",
       "      <td>1</td>\n",
       "      <td>NaN</td>\n",
       "      <td>NaN</td>\n",
       "      <td>NaN</td>\n",
       "      <td>NaN</td>\n",
       "      <td>NaN</td>\n",
       "      <td>NaN</td>\n",
       "      <td>NaN</td>\n",
       "      <td>NaN</td>\n",
       "      <td>0.0</td>\n",
       "      <td>332366.0</td>\n",
       "      <td>0.0</td>\n",
       "    </tr>\n",
       "    <tr>\n",
       "      <th>3</th>\n",
       "      <td>4</td>\n",
       "      <td>80133.0</td>\n",
       "      <td>NaN</td>\n",
       "      <td>1982.0</td>\n",
       "      <td>830</td>\n",
       "      <td>430</td>\n",
       "      <td>4120.0</td>\n",
       "      <td>1</td>\n",
       "      <td>NaN</td>\n",
       "      <td>NaN</td>\n",
       "      <td>NaN</td>\n",
       "      <td>NaN</td>\n",
       "      <td>NaN</td>\n",
       "      <td>NaN</td>\n",
       "      <td>NaN</td>\n",
       "      <td>NaN</td>\n",
       "      <td>0.0</td>\n",
       "      <td>51762483.0</td>\n",
       "      <td>0.0</td>\n",
       "    </tr>\n",
       "    <tr>\n",
       "      <th>4</th>\n",
       "      <td>5</td>\n",
       "      <td>72021.0</td>\n",
       "      <td>BR</td>\n",
       "      <td>1989.0</td>\n",
       "      <td>419</td>\n",
       "      <td>482</td>\n",
       "      <td>10711.0</td>\n",
       "      <td>0</td>\n",
       "      <td>NaN</td>\n",
       "      <td>NaN</td>\n",
       "      <td>NaN</td>\n",
       "      <td>NaN</td>\n",
       "      <td>NaN</td>\n",
       "      <td>NaN</td>\n",
       "      <td>NaN</td>\n",
       "      <td>NaN</td>\n",
       "      <td>37562.0</td>\n",
       "      <td>34857.0</td>\n",
       "      <td>0.0</td>\n",
       "    </tr>\n",
       "  </tbody>\n",
       "</table>\n",
       "</div>"
      ],
      "text/plain": [
       "   ID  COD_CAP COD_PROVINCIA  DAT_COSTITUZIONE  COD_RAE  COD_SAE  \\\n",
       "0   1  83013.0            AV            1977.0      243      430   \n",
       "1   2  84131.0            SA            1984.0      614      492   \n",
       "2   3  82030.0            BN            1952.0       12      430   \n",
       "3   4  80133.0           NaN            1982.0      830      430   \n",
       "4   5  72021.0            BR            1989.0      419      482   \n",
       "\n",
       "   COD_ISTAT_ATECO_07  FLG_DEF_6M  CBI201312_CREDITI  \\\n",
       "0              4120.0           1                NaN   \n",
       "1              4719.0           1                NaN   \n",
       "2             11021.0           1                NaN   \n",
       "3              4120.0           1                NaN   \n",
       "4             10711.0           0                NaN   \n",
       "\n",
       "   CBI201312_UTILE_PERDITA_ESERCIZIO  CBI201312_PATRIMONIO_NETTO  \\\n",
       "0                                NaN                         NaN   \n",
       "1                                NaN                         NaN   \n",
       "2                                NaN                         NaN   \n",
       "3                                NaN                         NaN   \n",
       "4                                NaN                         NaN   \n",
       "\n",
       "   CBI201312_DEBITI_CONSOLIDATI  CBI201312_DEBITI_ENTRO_ES_SUCC  \\\n",
       "0                           NaN                             NaN   \n",
       "1                           NaN                             NaN   \n",
       "2                           NaN                             NaN   \n",
       "3                           NaN                             NaN   \n",
       "4                           NaN                             NaN   \n",
       "\n",
       "   CBI201312_RICAVI_NETTI  CBI201312_ACQUISTI_NETTI  \\\n",
       "0                     NaN                       NaN   \n",
       "1                     NaN                       NaN   \n",
       "2                     NaN                       NaN   \n",
       "3                     NaN                       NaN   \n",
       "4                     NaN                       NaN   \n",
       "\n",
       "   CBI201312_COSTI_SERVZ_BENI_TERZI  IMP_ACCORDATO  IMP_UTILIZZATO  \\\n",
       "0                               NaN            0.0        135220.0   \n",
       "1                               NaN       844348.0       1054419.0   \n",
       "2                               NaN            0.0        332366.0   \n",
       "3                               NaN            0.0      51762483.0   \n",
       "4                               NaN        37562.0         34857.0   \n",
       "\n",
       "   IMP_VALORE_GARANZIA  \n",
       "0                  0.0  \n",
       "1                  0.0  \n",
       "2                  0.0  \n",
       "3                  0.0  \n",
       "4                  0.0  "
      ]
     },
     "execution_count": 4,
     "metadata": {},
     "output_type": "execute_result"
    }
   ],
   "source": [
    "train_data.head() "
   ]
  },
  {
   "cell_type": "code",
   "execution_count": 5,
   "metadata": {
    "collapsed": false
   },
   "outputs": [
    {
     "data": {
      "text/plain": [
       "pandas.core.frame.DataFrame"
      ]
     },
     "execution_count": 5,
     "metadata": {},
     "output_type": "execute_result"
    }
   ],
   "source": [
    "type(train_data)"
   ]
  },
  {
   "cell_type": "code",
   "execution_count": null,
   "metadata": {
    "collapsed": true
   },
   "outputs": [],
   "source": []
  }
 ],
 "metadata": {
  "kernelspec": {
   "display_name": "Python [Root]",
   "language": "python",
   "name": "Python [Root]"
  },
  "language_info": {
   "codemirror_mode": {
    "name": "ipython",
    "version": 2
   },
   "file_extension": ".py",
   "mimetype": "text/x-python",
   "name": "python",
   "nbconvert_exporter": "python",
   "pygments_lexer": "ipython2",
   "version": "2.7.12"
  }
 },
 "nbformat": 4,
 "nbformat_minor": 2
}

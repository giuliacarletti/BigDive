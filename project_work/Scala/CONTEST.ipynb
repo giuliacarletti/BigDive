{
 "cells": [
  {
   "cell_type": "markdown",
   "metadata": {
    "collapsed": false
   },
   "source": [
    "IMPORTO LE LIBRERIE PANDAS "
   ]
  },
  {
   "cell_type": "code",
   "execution_count": 218,
   "metadata": {
    "collapsed": false
   },
   "outputs": [
    {
     "name": "stdout",
     "output_type": "stream",
     "text": [
      "Populating the interactive namespace from numpy and matplotlib\n"
     ]
    }
   ],
   "source": [
    "%pylab inline\n",
    "import pandas as pd\n",
    "import matplotlib.pyplot as plt"
   ]
  },
  {
   "cell_type": "markdown",
   "metadata": {},
   "source": [
    "CARICO I DATASET IMPOSTANDO LE OPZIONI SUL DELIMITER E SUL SEPARATORE DECIMALE "
   ]
  },
  {
   "cell_type": "code",
   "execution_count": 158,
   "metadata": {
    "collapsed": false
   },
   "outputs": [],
   "source": [
    "training_data = pd.read_csv(\"CONTEST_TRAINING_SET_PUBBLICO.CSV\",delimiter=\",\",decimal=\".\")\n",
    "test_data = pd.read_csv(\"CONTEST_TEST_SET_PUBBLICO.csv\",delimiter=\",\",decimal=\".\")\n",
    "results_data = pd.read_csv(\"CONTEST_TEST_RESULTS_AN_PRIVATO.csv\",delimiter=\",\",decimal=\".\")"
   ]
  },
  {
   "cell_type": "markdown",
   "metadata": {},
   "source": [
    "VERIFICO LA NUMEROSITA' ORIGINARIA DEI DATASET DI INPUT"
   ]
  },
  {
   "cell_type": "code",
   "execution_count": 160,
   "metadata": {
    "collapsed": false
   },
   "outputs": [
    {
     "name": "stdout",
     "output_type": "stream",
     "text": [
      "Clienti presenti nel training set iniziale =  (66811, 19)\n",
      "Clienti presenti nel test set iniziale =  (7547, 18)\n",
      "Clienti presenti nel result set =  (7547, 2)\n"
     ]
    }
   ],
   "source": [
    "print \"Clienti presenti nel training set iniziale = \", training_data.shape\n",
    "print \"Clienti presenti nel test set iniziale = \",test_data.shape\n",
    "print \"Clienti presenti nel result set = \",results_data.shape"
   ]
  },
  {
   "cell_type": "markdown",
   "metadata": {},
   "source": [
    "SCEGLIAMO DI RIMUOVERE LE RIGHE CHE PRESENTANO VALORI NULLI SUI DATI DI BILANCIO "
   ]
  },
  {
   "cell_type": "code",
   "execution_count": 161,
   "metadata": {
    "collapsed": false
   },
   "outputs": [
    {
     "name": "stdout",
     "output_type": "stream",
     "text": [
      "Clienti presenti nel result new =  (6120, 20)\n"
     ]
    }
   ],
   "source": [
    "results_new = pd.concat([test_data, results_data], axis=1)\n",
    "results_new = results_new.dropna(subset=[\"CBI201312_CREDITI\"])\n",
    "results_new = results_new.dropna(subset=[\"CBI201312_UTILE_PERDITA_ESERCIZIO\"])\n",
    "results_new = results_new.dropna(subset=[\"CBI201312_PATRIMONIO_NETTO\"])\n",
    "results_new = results_new.dropna(subset=[\"CBI201312_DEBITI_CONSOLIDATI\"])\n",
    "results_new = results_new.dropna(subset=[\"CBI201312_DEBITI_ENTRO_ES_SUCC\"])\n",
    "results_new = results_new.dropna(subset=[\"CBI201312_RICAVI_NETTI\"])\n",
    "results_new = results_new.dropna(subset=[\"CBI201312_ACQUISTI_NETTI\"])\n",
    "results_new = results_new.dropna(subset=[\"CBI201312_COSTI_SERVZ_BENI_TERZI\"])\n",
    "results_new = results_new.dropna(subset=[\"FLG_DEF_6M\"])\n",
    "print \"Clienti presenti nel result new = \",results_new.shape"
   ]
  },
  {
   "cell_type": "code",
   "execution_count": 162,
   "metadata": {
    "collapsed": false
   },
   "outputs": [
    {
     "data": {
      "text/html": [
       "<div>\n",
       "<table border=\"1\" class=\"dataframe\">\n",
       "  <thead>\n",
       "    <tr style=\"text-align: right;\">\n",
       "      <th></th>\n",
       "      <th>ID</th>\n",
       "      <th>COD_CAP</th>\n",
       "      <th>COD_PROVINCIA</th>\n",
       "      <th>DAT_COSTITUZIONE</th>\n",
       "      <th>COD_RAE</th>\n",
       "      <th>COD_SAE</th>\n",
       "      <th>COD_ISTAT_ATECO_07</th>\n",
       "      <th>CBI201312_CREDITI</th>\n",
       "      <th>CBI201312_UTILE_PERDITA_ESERCIZIO</th>\n",
       "      <th>CBI201312_PATRIMONIO_NETTO</th>\n",
       "      <th>CBI201312_DEBITI_CONSOLIDATI</th>\n",
       "      <th>CBI201312_DEBITI_ENTRO_ES_SUCC</th>\n",
       "      <th>CBI201312_RICAVI_NETTI</th>\n",
       "      <th>CBI201312_ACQUISTI_NETTI</th>\n",
       "      <th>CBI201312_COSTI_SERVZ_BENI_TERZI</th>\n",
       "      <th>IMP_ACCORDATO</th>\n",
       "      <th>IMP_UTILIZZATO</th>\n",
       "      <th>IMP_VALORE_GARANZIA</th>\n",
       "      <th>ID</th>\n",
       "      <th>FLG_DEF_6M</th>\n",
       "    </tr>\n",
       "  </thead>\n",
       "  <tbody>\n",
       "    <tr>\n",
       "      <th>3</th>\n",
       "      <td>66815</td>\n",
       "      <td>35044.0</td>\n",
       "      <td>PD</td>\n",
       "      <td>1993.0</td>\n",
       "      <td>467</td>\n",
       "      <td>482</td>\n",
       "      <td>3109.0</td>\n",
       "      <td>125.0</td>\n",
       "      <td>32.0</td>\n",
       "      <td>-186.0</td>\n",
       "      <td>177.0</td>\n",
       "      <td>351.0</td>\n",
       "      <td>779.0</td>\n",
       "      <td>351.0</td>\n",
       "      <td>256.0</td>\n",
       "      <td>437243.0</td>\n",
       "      <td>374537.0</td>\n",
       "      <td>0.0</td>\n",
       "      <td>66815</td>\n",
       "      <td>0</td>\n",
       "    </tr>\n",
       "    <tr>\n",
       "      <th>4</th>\n",
       "      <td>66816</td>\n",
       "      <td>11017.0</td>\n",
       "      <td>AO</td>\n",
       "      <td>1975.0</td>\n",
       "      <td>505</td>\n",
       "      <td>482</td>\n",
       "      <td>4120.0</td>\n",
       "      <td>51.0</td>\n",
       "      <td>74.0</td>\n",
       "      <td>-17.0</td>\n",
       "      <td>447.0</td>\n",
       "      <td>26.0</td>\n",
       "      <td>407.0</td>\n",
       "      <td>122.0</td>\n",
       "      <td>19.0</td>\n",
       "      <td>620000.0</td>\n",
       "      <td>0.0</td>\n",
       "      <td>0.0</td>\n",
       "      <td>66816</td>\n",
       "      <td>0</td>\n",
       "    </tr>\n",
       "    <tr>\n",
       "      <th>12</th>\n",
       "      <td>66824</td>\n",
       "      <td>31020.0</td>\n",
       "      <td>TV</td>\n",
       "      <td>1967.0</td>\n",
       "      <td>505</td>\n",
       "      <td>492</td>\n",
       "      <td>412.0</td>\n",
       "      <td>2506.0</td>\n",
       "      <td>56.0</td>\n",
       "      <td>82.0</td>\n",
       "      <td>96.0</td>\n",
       "      <td>3001.0</td>\n",
       "      <td>6140.0</td>\n",
       "      <td>2926.0</td>\n",
       "      <td>1990.0</td>\n",
       "      <td>2579309.0</td>\n",
       "      <td>2315767.0</td>\n",
       "      <td>0.0</td>\n",
       "      <td>66824</td>\n",
       "      <td>0</td>\n",
       "    </tr>\n",
       "  </tbody>\n",
       "</table>\n",
       "</div>"
      ],
      "text/plain": [
       "       ID  COD_CAP COD_PROVINCIA  DAT_COSTITUZIONE  COD_RAE  COD_SAE  \\\n",
       "3   66815  35044.0            PD            1993.0      467      482   \n",
       "4   66816  11017.0            AO            1975.0      505      482   \n",
       "12  66824  31020.0            TV            1967.0      505      492   \n",
       "\n",
       "    COD_ISTAT_ATECO_07  CBI201312_CREDITI  CBI201312_UTILE_PERDITA_ESERCIZIO  \\\n",
       "3               3109.0              125.0                               32.0   \n",
       "4               4120.0               51.0                               74.0   \n",
       "12               412.0             2506.0                               56.0   \n",
       "\n",
       "    CBI201312_PATRIMONIO_NETTO  CBI201312_DEBITI_CONSOLIDATI  \\\n",
       "3                       -186.0                         177.0   \n",
       "4                        -17.0                         447.0   \n",
       "12                        82.0                          96.0   \n",
       "\n",
       "    CBI201312_DEBITI_ENTRO_ES_SUCC  CBI201312_RICAVI_NETTI  \\\n",
       "3                            351.0                   779.0   \n",
       "4                             26.0                   407.0   \n",
       "12                          3001.0                  6140.0   \n",
       "\n",
       "    CBI201312_ACQUISTI_NETTI  CBI201312_COSTI_SERVZ_BENI_TERZI  IMP_ACCORDATO  \\\n",
       "3                      351.0                             256.0       437243.0   \n",
       "4                      122.0                              19.0       620000.0   \n",
       "12                    2926.0                            1990.0      2579309.0   \n",
       "\n",
       "    IMP_UTILIZZATO  IMP_VALORE_GARANZIA     ID  FLG_DEF_6M  \n",
       "3         374537.0                  0.0  66815           0  \n",
       "4              0.0                  0.0  66816           0  \n",
       "12       2315767.0                  0.0  66824           0  "
      ]
     },
     "execution_count": 162,
     "metadata": {},
     "output_type": "execute_result"
    }
   ],
   "source": [
    "results_new.head(3)"
   ]
  },
  {
   "cell_type": "code",
   "execution_count": 163,
   "metadata": {
    "collapsed": false
   },
   "outputs": [],
   "source": [
    "test_data = results_new.ix[:,0:18]\n",
    "results_data = results_new.ix[:,(0,19)]"
   ]
  },
  {
   "cell_type": "code",
   "execution_count": 164,
   "metadata": {
    "collapsed": false
   },
   "outputs": [
    {
     "data": {
      "text/plain": [
       "(6120, 18)"
      ]
     },
     "execution_count": 164,
     "metadata": {},
     "output_type": "execute_result"
    }
   ],
   "source": [
    "test_data.shape"
   ]
  },
  {
   "cell_type": "code",
   "execution_count": 165,
   "metadata": {
    "collapsed": false
   },
   "outputs": [
    {
     "data": {
      "text/plain": [
       "(6120, 2)"
      ]
     },
     "execution_count": 165,
     "metadata": {},
     "output_type": "execute_result"
    }
   ],
   "source": [
    "results_data.shape"
   ]
  },
  {
   "cell_type": "code",
   "execution_count": 166,
   "metadata": {
    "collapsed": false
   },
   "outputs": [],
   "source": [
    "training_data = training_data.dropna(subset=[\"CBI201312_CREDITI\"])\n",
    "training_data = training_data.dropna(subset=[\"CBI201312_UTILE_PERDITA_ESERCIZIO\"])\n",
    "training_data = training_data.dropna(subset=[\"CBI201312_PATRIMONIO_NETTO\"])\n",
    "training_data = training_data.dropna(subset=[\"CBI201312_DEBITI_CONSOLIDATI\"])\n",
    "training_data = training_data.dropna(subset=[\"CBI201312_DEBITI_ENTRO_ES_SUCC\"])\n",
    "training_data = training_data.dropna(subset=[\"CBI201312_RICAVI_NETTI\"])\n",
    "training_data = training_data.dropna(subset=[\"CBI201312_ACQUISTI_NETTI\"])\n",
    "training_data = training_data.dropna(subset=[\"CBI201312_COSTI_SERVZ_BENI_TERZI\"])"
   ]
  },
  {
   "cell_type": "code",
   "execution_count": 167,
   "metadata": {
    "collapsed": false
   },
   "outputs": [
    {
     "data": {
      "text/html": [
       "<div>\n",
       "<table border=\"1\" class=\"dataframe\">\n",
       "  <thead>\n",
       "    <tr style=\"text-align: right;\">\n",
       "      <th></th>\n",
       "      <th>ID</th>\n",
       "      <th>FLG_DEF_6M</th>\n",
       "    </tr>\n",
       "  </thead>\n",
       "  <tbody>\n",
       "    <tr>\n",
       "      <th>3</th>\n",
       "      <td>66815</td>\n",
       "      <td>0</td>\n",
       "    </tr>\n",
       "    <tr>\n",
       "      <th>4</th>\n",
       "      <td>66816</td>\n",
       "      <td>0</td>\n",
       "    </tr>\n",
       "  </tbody>\n",
       "</table>\n",
       "</div>"
      ],
      "text/plain": [
       "      ID  FLG_DEF_6M\n",
       "3  66815           0\n",
       "4  66816           0"
      ]
     },
     "execution_count": 167,
     "metadata": {},
     "output_type": "execute_result"
    }
   ],
   "source": [
    "results_data.head(2)"
   ]
  },
  {
   "cell_type": "code",
   "execution_count": 168,
   "metadata": {
    "collapsed": false
   },
   "outputs": [
    {
     "data": {
      "text/plain": [
       "(53997, 19)"
      ]
     },
     "execution_count": 168,
     "metadata": {},
     "output_type": "execute_result"
    }
   ],
   "source": [
    "training_data.shape"
   ]
  },
  {
   "cell_type": "code",
   "execution_count": 169,
   "metadata": {
    "collapsed": false
   },
   "outputs": [
    {
     "data": {
      "text/html": [
       "<div>\n",
       "<table border=\"1\" class=\"dataframe\">\n",
       "  <thead>\n",
       "    <tr style=\"text-align: right;\">\n",
       "      <th></th>\n",
       "      <th>ID</th>\n",
       "      <th>COD_CAP</th>\n",
       "      <th>COD_PROVINCIA</th>\n",
       "      <th>DAT_COSTITUZIONE</th>\n",
       "      <th>COD_RAE</th>\n",
       "      <th>COD_SAE</th>\n",
       "      <th>COD_ISTAT_ATECO_07</th>\n",
       "      <th>FLG_DEF_6M</th>\n",
       "      <th>CBI201312_CREDITI</th>\n",
       "      <th>CBI201312_UTILE_PERDITA_ESERCIZIO</th>\n",
       "      <th>CBI201312_PATRIMONIO_NETTO</th>\n",
       "      <th>CBI201312_DEBITI_CONSOLIDATI</th>\n",
       "      <th>CBI201312_DEBITI_ENTRO_ES_SUCC</th>\n",
       "      <th>CBI201312_RICAVI_NETTI</th>\n",
       "      <th>CBI201312_ACQUISTI_NETTI</th>\n",
       "      <th>CBI201312_COSTI_SERVZ_BENI_TERZI</th>\n",
       "      <th>IMP_ACCORDATO</th>\n",
       "      <th>IMP_UTILIZZATO</th>\n",
       "      <th>IMP_VALORE_GARANZIA</th>\n",
       "    </tr>\n",
       "  </thead>\n",
       "  <tbody>\n",
       "    <tr>\n",
       "      <th>9</th>\n",
       "      <td>10</td>\n",
       "      <td>187.0</td>\n",
       "      <td>RM</td>\n",
       "      <td>2010.0</td>\n",
       "      <td>505</td>\n",
       "      <td>430</td>\n",
       "      <td>412000.0</td>\n",
       "      <td>0</td>\n",
       "      <td>1.0</td>\n",
       "      <td>-3.0</td>\n",
       "      <td>7.0</td>\n",
       "      <td>20.0</td>\n",
       "      <td>389.0</td>\n",
       "      <td>0.0</td>\n",
       "      <td>0.0</td>\n",
       "      <td>3.0</td>\n",
       "      <td>850000.0</td>\n",
       "      <td>0.0</td>\n",
       "      <td>0.0</td>\n",
       "    </tr>\n",
       "    <tr>\n",
       "      <th>10</th>\n",
       "      <td>11</td>\n",
       "      <td>28013.0</td>\n",
       "      <td>NO</td>\n",
       "      <td>1971.0</td>\n",
       "      <td>648</td>\n",
       "      <td>430</td>\n",
       "      <td>47192.0</td>\n",
       "      <td>0</td>\n",
       "      <td>23.0</td>\n",
       "      <td>9.0</td>\n",
       "      <td>239.0</td>\n",
       "      <td>818.0</td>\n",
       "      <td>469.0</td>\n",
       "      <td>1804.0</td>\n",
       "      <td>1466.0</td>\n",
       "      <td>197.0</td>\n",
       "      <td>987900.0</td>\n",
       "      <td>922900.0</td>\n",
       "      <td>0.0</td>\n",
       "    </tr>\n",
       "  </tbody>\n",
       "</table>\n",
       "</div>"
      ],
      "text/plain": [
       "    ID  COD_CAP COD_PROVINCIA  DAT_COSTITUZIONE  COD_RAE  COD_SAE  \\\n",
       "9   10    187.0            RM            2010.0      505      430   \n",
       "10  11  28013.0            NO            1971.0      648      430   \n",
       "\n",
       "    COD_ISTAT_ATECO_07  FLG_DEF_6M  CBI201312_CREDITI  \\\n",
       "9             412000.0           0                1.0   \n",
       "10             47192.0           0               23.0   \n",
       "\n",
       "    CBI201312_UTILE_PERDITA_ESERCIZIO  CBI201312_PATRIMONIO_NETTO  \\\n",
       "9                                -3.0                         7.0   \n",
       "10                                9.0                       239.0   \n",
       "\n",
       "    CBI201312_DEBITI_CONSOLIDATI  CBI201312_DEBITI_ENTRO_ES_SUCC  \\\n",
       "9                           20.0                           389.0   \n",
       "10                         818.0                           469.0   \n",
       "\n",
       "    CBI201312_RICAVI_NETTI  CBI201312_ACQUISTI_NETTI  \\\n",
       "9                      0.0                       0.0   \n",
       "10                  1804.0                    1466.0   \n",
       "\n",
       "    CBI201312_COSTI_SERVZ_BENI_TERZI  IMP_ACCORDATO  IMP_UTILIZZATO  \\\n",
       "9                                3.0       850000.0             0.0   \n",
       "10                             197.0       987900.0        922900.0   \n",
       "\n",
       "    IMP_VALORE_GARANZIA  \n",
       "9                   0.0  \n",
       "10                  0.0  "
      ]
     },
     "execution_count": 169,
     "metadata": {},
     "output_type": "execute_result"
    }
   ],
   "source": [
    "training_data.head(2)"
   ]
  },
  {
   "cell_type": "code",
   "execution_count": null,
   "metadata": {
    "collapsed": true
   },
   "outputs": [],
   "source": [
    "DOPO LA PULIZIA DEI DATI VERIFICHIAMO NUOVAMENTE IL NUMERO RIGHE DEI DATASET"
   ]
  },
  {
   "cell_type": "code",
   "execution_count": 170,
   "metadata": {
    "collapsed": false
   },
   "outputs": [
    {
     "name": "stdout",
     "output_type": "stream",
     "text": [
      "Clienti presenti nel training set dopo pulizia =  (53997, 19)\n",
      "Clienti presenti nel test set dopo pulizia =  (6120, 18)\n",
      "Clienti presenti nel result set =  (6120, 2)\n"
     ]
    }
   ],
   "source": [
    "print \"Clienti presenti nel training set dopo pulizia = \", training_data.shape\n",
    "print \"Clienti presenti nel test set dopo pulizia = \",test_data.shape\n",
    "print \"Clienti presenti nel result set = \",results_data.shape"
   ]
  },
  {
   "cell_type": "markdown",
   "metadata": {},
   "source": [
    "VEDIAMO COME SONO FATTI I DATAFRAME E LA TIPOLOGIA DI DATI "
   ]
  },
  {
   "cell_type": "code",
   "execution_count": 138,
   "metadata": {
    "collapsed": false
   },
   "outputs": [
    {
     "data": {
      "text/html": [
       "<div>\n",
       "<table border=\"1\" class=\"dataframe\">\n",
       "  <thead>\n",
       "    <tr style=\"text-align: right;\">\n",
       "      <th></th>\n",
       "      <th>ID</th>\n",
       "      <th>COD_CAP</th>\n",
       "      <th>COD_PROVINCIA</th>\n",
       "      <th>DAT_COSTITUZIONE</th>\n",
       "      <th>COD_RAE</th>\n",
       "      <th>COD_SAE</th>\n",
       "      <th>COD_ISTAT_ATECO_07</th>\n",
       "      <th>FLG_DEF_6M</th>\n",
       "      <th>CBI201312_CREDITI</th>\n",
       "      <th>CBI201312_UTILE_PERDITA_ESERCIZIO</th>\n",
       "      <th>CBI201312_PATRIMONIO_NETTO</th>\n",
       "      <th>CBI201312_DEBITI_CONSOLIDATI</th>\n",
       "      <th>CBI201312_DEBITI_ENTRO_ES_SUCC</th>\n",
       "      <th>CBI201312_RICAVI_NETTI</th>\n",
       "      <th>CBI201312_ACQUISTI_NETTI</th>\n",
       "      <th>CBI201312_COSTI_SERVZ_BENI_TERZI</th>\n",
       "      <th>IMP_ACCORDATO</th>\n",
       "      <th>IMP_UTILIZZATO</th>\n",
       "      <th>IMP_VALORE_GARANZIA</th>\n",
       "    </tr>\n",
       "  </thead>\n",
       "  <tbody>\n",
       "    <tr>\n",
       "      <th>0</th>\n",
       "      <td>10</td>\n",
       "      <td>187.0</td>\n",
       "      <td>RM</td>\n",
       "      <td>2010.0</td>\n",
       "      <td>505</td>\n",
       "      <td>430</td>\n",
       "      <td>412000.0</td>\n",
       "      <td>0</td>\n",
       "      <td>1.0</td>\n",
       "      <td>-3.0</td>\n",
       "      <td>7.0</td>\n",
       "      <td>20.0</td>\n",
       "      <td>389.0</td>\n",
       "      <td>0.0</td>\n",
       "      <td>0.0</td>\n",
       "      <td>3.0</td>\n",
       "      <td>850000.0</td>\n",
       "      <td>0.0</td>\n",
       "      <td>0.0</td>\n",
       "    </tr>\n",
       "    <tr>\n",
       "      <th>1</th>\n",
       "      <td>11</td>\n",
       "      <td>28013.0</td>\n",
       "      <td>NO</td>\n",
       "      <td>1971.0</td>\n",
       "      <td>648</td>\n",
       "      <td>430</td>\n",
       "      <td>47192.0</td>\n",
       "      <td>0</td>\n",
       "      <td>23.0</td>\n",
       "      <td>9.0</td>\n",
       "      <td>239.0</td>\n",
       "      <td>818.0</td>\n",
       "      <td>469.0</td>\n",
       "      <td>1804.0</td>\n",
       "      <td>1466.0</td>\n",
       "      <td>197.0</td>\n",
       "      <td>987900.0</td>\n",
       "      <td>922900.0</td>\n",
       "      <td>0.0</td>\n",
       "    </tr>\n",
       "  </tbody>\n",
       "</table>\n",
       "</div>"
      ],
      "text/plain": [
       "   ID  COD_CAP COD_PROVINCIA  DAT_COSTITUZIONE  COD_RAE  COD_SAE  \\\n",
       "0  10    187.0            RM            2010.0      505      430   \n",
       "1  11  28013.0            NO            1971.0      648      430   \n",
       "\n",
       "   COD_ISTAT_ATECO_07  FLG_DEF_6M  CBI201312_CREDITI  \\\n",
       "0            412000.0           0                1.0   \n",
       "1             47192.0           0               23.0   \n",
       "\n",
       "   CBI201312_UTILE_PERDITA_ESERCIZIO  CBI201312_PATRIMONIO_NETTO  \\\n",
       "0                               -3.0                         7.0   \n",
       "1                                9.0                       239.0   \n",
       "\n",
       "   CBI201312_DEBITI_CONSOLIDATI  CBI201312_DEBITI_ENTRO_ES_SUCC  \\\n",
       "0                          20.0                           389.0   \n",
       "1                         818.0                           469.0   \n",
       "\n",
       "   CBI201312_RICAVI_NETTI  CBI201312_ACQUISTI_NETTI  \\\n",
       "0                     0.0                       0.0   \n",
       "1                  1804.0                    1466.0   \n",
       "\n",
       "   CBI201312_COSTI_SERVZ_BENI_TERZI  IMP_ACCORDATO  IMP_UTILIZZATO  \\\n",
       "0                               3.0       850000.0             0.0   \n",
       "1                             197.0       987900.0        922900.0   \n",
       "\n",
       "   IMP_VALORE_GARANZIA  \n",
       "0                  0.0  \n",
       "1                  0.0  "
      ]
     },
     "execution_count": 138,
     "metadata": {},
     "output_type": "execute_result"
    }
   ],
   "source": [
    "training_data.head(2)"
   ]
  },
  {
   "cell_type": "code",
   "execution_count": 7,
   "metadata": {
    "collapsed": false
   },
   "outputs": [
    {
     "data": {
      "text/plain": [
       "ID                                     int64\n",
       "COD_CAP                              float64\n",
       "COD_PROVINCIA                         object\n",
       "DAT_COSTITUZIONE                     float64\n",
       "COD_RAE                                int64\n",
       "COD_SAE                                int64\n",
       "COD_ISTAT_ATECO_07                   float64\n",
       "FLG_DEF_6M                             int64\n",
       "CBI201312_CREDITI                    float64\n",
       "CBI201312_UTILE_PERDITA_ESERCIZIO    float64\n",
       "CBI201312_PATRIMONIO_NETTO           float64\n",
       "CBI201312_DEBITI_CONSOLIDATI         float64\n",
       "CBI201312_DEBITI_ENTRO_ES_SUCC       float64\n",
       "CBI201312_RICAVI_NETTI               float64\n",
       "CBI201312_ACQUISTI_NETTI             float64\n",
       "CBI201312_COSTI_SERVZ_BENI_TERZI     float64\n",
       "IMP_ACCORDATO                        float64\n",
       "IMP_UTILIZZATO                       float64\n",
       "IMP_VALORE_GARANZIA                  float64\n",
       "dtype: object"
      ]
     },
     "execution_count": 7,
     "metadata": {},
     "output_type": "execute_result"
    }
   ],
   "source": [
    "training_data.dtypes"
   ]
  },
  {
   "cell_type": "code",
   "execution_count": 139,
   "metadata": {
    "collapsed": false
   },
   "outputs": [
    {
     "data": {
      "text/html": [
       "<div>\n",
       "<table border=\"1\" class=\"dataframe\">\n",
       "  <thead>\n",
       "    <tr style=\"text-align: right;\">\n",
       "      <th></th>\n",
       "      <th>ID</th>\n",
       "      <th>COD_CAP</th>\n",
       "      <th>COD_PROVINCIA</th>\n",
       "      <th>DAT_COSTITUZIONE</th>\n",
       "      <th>COD_RAE</th>\n",
       "      <th>COD_SAE</th>\n",
       "      <th>COD_ISTAT_ATECO_07</th>\n",
       "      <th>CBI201312_CREDITI</th>\n",
       "      <th>CBI201312_UTILE_PERDITA_ESERCIZIO</th>\n",
       "      <th>CBI201312_PATRIMONIO_NETTO</th>\n",
       "      <th>CBI201312_DEBITI_CONSOLIDATI</th>\n",
       "      <th>CBI201312_DEBITI_ENTRO_ES_SUCC</th>\n",
       "      <th>CBI201312_RICAVI_NETTI</th>\n",
       "      <th>CBI201312_ACQUISTI_NETTI</th>\n",
       "      <th>CBI201312_COSTI_SERVZ_BENI_TERZI</th>\n",
       "      <th>IMP_ACCORDATO</th>\n",
       "      <th>IMP_UTILIZZATO</th>\n",
       "      <th>IMP_VALORE_GARANZIA</th>\n",
       "    </tr>\n",
       "  </thead>\n",
       "  <tbody>\n",
       "    <tr>\n",
       "      <th>3</th>\n",
       "      <td>66815</td>\n",
       "      <td>35044.0</td>\n",
       "      <td>PD</td>\n",
       "      <td>1993.0</td>\n",
       "      <td>467</td>\n",
       "      <td>482</td>\n",
       "      <td>3109.0</td>\n",
       "      <td>125.0</td>\n",
       "      <td>32.0</td>\n",
       "      <td>-186.0</td>\n",
       "      <td>177.0</td>\n",
       "      <td>351.0</td>\n",
       "      <td>779.0</td>\n",
       "      <td>351.0</td>\n",
       "      <td>256.0</td>\n",
       "      <td>437243.0</td>\n",
       "      <td>374537.0</td>\n",
       "      <td>0.0</td>\n",
       "    </tr>\n",
       "    <tr>\n",
       "      <th>4</th>\n",
       "      <td>66816</td>\n",
       "      <td>11017.0</td>\n",
       "      <td>AO</td>\n",
       "      <td>1975.0</td>\n",
       "      <td>505</td>\n",
       "      <td>482</td>\n",
       "      <td>4120.0</td>\n",
       "      <td>51.0</td>\n",
       "      <td>74.0</td>\n",
       "      <td>-17.0</td>\n",
       "      <td>447.0</td>\n",
       "      <td>26.0</td>\n",
       "      <td>407.0</td>\n",
       "      <td>122.0</td>\n",
       "      <td>19.0</td>\n",
       "      <td>620000.0</td>\n",
       "      <td>0.0</td>\n",
       "      <td>0.0</td>\n",
       "    </tr>\n",
       "  </tbody>\n",
       "</table>\n",
       "</div>"
      ],
      "text/plain": [
       "      ID  COD_CAP COD_PROVINCIA  DAT_COSTITUZIONE  COD_RAE  COD_SAE  \\\n",
       "3  66815  35044.0            PD            1993.0      467      482   \n",
       "4  66816  11017.0            AO            1975.0      505      482   \n",
       "\n",
       "   COD_ISTAT_ATECO_07  CBI201312_CREDITI  CBI201312_UTILE_PERDITA_ESERCIZIO  \\\n",
       "3              3109.0              125.0                               32.0   \n",
       "4              4120.0               51.0                               74.0   \n",
       "\n",
       "   CBI201312_PATRIMONIO_NETTO  CBI201312_DEBITI_CONSOLIDATI  \\\n",
       "3                      -186.0                         177.0   \n",
       "4                       -17.0                         447.0   \n",
       "\n",
       "   CBI201312_DEBITI_ENTRO_ES_SUCC  CBI201312_RICAVI_NETTI  \\\n",
       "3                           351.0                   779.0   \n",
       "4                            26.0                   407.0   \n",
       "\n",
       "   CBI201312_ACQUISTI_NETTI  CBI201312_COSTI_SERVZ_BENI_TERZI  IMP_ACCORDATO  \\\n",
       "3                     351.0                             256.0       437243.0   \n",
       "4                     122.0                              19.0       620000.0   \n",
       "\n",
       "   IMP_UTILIZZATO  IMP_VALORE_GARANZIA  \n",
       "3        374537.0                  0.0  \n",
       "4             0.0                  0.0  "
      ]
     },
     "execution_count": 139,
     "metadata": {},
     "output_type": "execute_result"
    }
   ],
   "source": [
    "test_data.head(2)"
   ]
  },
  {
   "cell_type": "code",
   "execution_count": 140,
   "metadata": {
    "collapsed": false
   },
   "outputs": [
    {
     "data": {
      "text/plain": [
       "((6120, 18), (6120, 2), (53997, 19))"
      ]
     },
     "execution_count": 140,
     "metadata": {},
     "output_type": "execute_result"
    }
   ],
   "source": [
    "test_data.shape, results_data.shape, training_data.shape "
   ]
  },
  {
   "cell_type": "code",
   "execution_count": 171,
   "metadata": {
    "collapsed": false
   },
   "outputs": [
    {
     "data": {
      "text/html": [
       "<div>\n",
       "<table border=\"1\" class=\"dataframe\">\n",
       "  <thead>\n",
       "    <tr style=\"text-align: right;\">\n",
       "      <th></th>\n",
       "      <th>ID</th>\n",
       "      <th>FLG_DEF_6M</th>\n",
       "    </tr>\n",
       "  </thead>\n",
       "  <tbody>\n",
       "    <tr>\n",
       "      <th>3</th>\n",
       "      <td>66815</td>\n",
       "      <td>0</td>\n",
       "    </tr>\n",
       "    <tr>\n",
       "      <th>4</th>\n",
       "      <td>66816</td>\n",
       "      <td>0</td>\n",
       "    </tr>\n",
       "  </tbody>\n",
       "</table>\n",
       "</div>"
      ],
      "text/plain": [
       "      ID  FLG_DEF_6M\n",
       "3  66815           0\n",
       "4  66816           0"
      ]
     },
     "execution_count": 171,
     "metadata": {},
     "output_type": "execute_result"
    }
   ],
   "source": [
    "results_data.head(2)"
   ]
  },
  {
   "cell_type": "markdown",
   "metadata": {
    "collapsed": true
   },
   "source": [
    "A SEGUITO DELLA ELIMINAZIONE DELLE RIGHE CON VALORI NULLI DEVO RICOSTRUIRE GLI INDICI  "
   ]
  },
  {
   "cell_type": "code",
   "execution_count": 172,
   "metadata": {
    "collapsed": false
   },
   "outputs": [],
   "source": [
    "training_data = training_data.reset_index()\n",
    "training_data.drop(labels='index',axis=1,inplace=True)\n",
    "test_data = test_data.reset_index()\n",
    "test_data.drop(labels='index',axis=1,inplace=True)\n",
    "results_data = results_data.reset_index()\n",
    "results_data.drop(labels='index',axis=1,inplace=True)"
   ]
  },
  {
   "cell_type": "markdown",
   "metadata": {},
   "source": [
    "GESTISCO LA PRESENZA DI VALORI NULLI ANCHE NEI DATI QUALITATIVI"
   ]
  },
  {
   "cell_type": "code",
   "execution_count": null,
   "metadata": {
    "collapsed": false
   },
   "outputs": [
    {
     "name": "stderr",
     "output_type": "stream",
     "text": [
      "/home/bigdive/anaconda2/lib/python2.7/site-packages/ipykernel/__main__.py:10: SettingWithCopyWarning: \n",
      "A value is trying to be set on a copy of a slice from a DataFrame\n",
      "\n",
      "See the caveats in the documentation: http://pandas.pydata.org/pandas-docs/stable/indexing.html#indexing-view-versus-copy\n",
      "/home/bigdive/anaconda2/lib/python2.7/site-packages/ipykernel/__main__.py:7: SettingWithCopyWarning: \n",
      "A value is trying to be set on a copy of a slice from a DataFrame\n",
      "\n",
      "See the caveats in the documentation: http://pandas.pydata.org/pandas-docs/stable/indexing.html#indexing-view-versus-copy\n"
     ]
    }
   ],
   "source": [
    "# PULIZIA TRAINING SET PER COD_PROVINCIA\n",
    "\n",
    "num_NA=0\n",
    "num_ND=0\n",
    "for i in range(training_data.shape[0]):\n",
    "    if training_data['COD_PROVINCIA'][i] is nan:\n",
    "        if training_data['COD_CAP'][i] >= 80000 and training_data['COD_CAP'][i] <= 80999:\n",
    "            training_data['COD_PROVINCIA'][i] ='NA'\n",
    "            num_NA+=1\n",
    "    else:  \n",
    "        training_data['COD_PROVINCIA'][i] ='ND'\n",
    "        num_ND+=1\n",
    "\n",
    "print 'numero di righe in cui forzo la provincia NA =', num_NA\n",
    "print 'numero di righe in cui forzo la provincia ND =', num_ND"
   ]
  },
  {
   "cell_type": "code",
   "execution_count": 12,
   "metadata": {
    "collapsed": false,
    "scrolled": true
   },
   "outputs": [
    {
     "name": "stderr",
     "output_type": "stream",
     "text": [
      "/home/bigdive/anaconda2/lib/python2.7/site-packages/ipykernel/__main__.py:9: SettingWithCopyWarning: \n",
      "A value is trying to be set on a copy of a slice from a DataFrame\n",
      "\n",
      "See the caveats in the documentation: http://pandas.pydata.org/pandas-docs/stable/indexing.html#indexing-view-versus-copy\n",
      "/home/bigdive/anaconda2/lib/python2.7/site-packages/ipykernel/__main__.py:12: SettingWithCopyWarning: \n",
      "A value is trying to be set on a copy of a slice from a DataFrame\n",
      "\n",
      "See the caveats in the documentation: http://pandas.pydata.org/pandas-docs/stable/indexing.html#indexing-view-versus-copy\n"
     ]
    },
    {
     "name": "stdout",
     "output_type": "stream",
     "text": [
      "numero di righe in cui forzo la provincia NA = 277\n",
      "numero di righe in cui forzo la provincia ND = 1\n"
     ]
    }
   ],
   "source": [
    "# PULIZIA TEST SET PER COD_PROVINCIA\n",
    "\n",
    "num_NA=0\n",
    "num_ND=0\n",
    "\n",
    "for i in range(test_data.shape[0]):\n",
    "       if test_data['COD_PROVINCIA'][i] is nan: \n",
    "            if test_data['COD_CAP'][i] >= 80000 and test_data['COD_CAP'][i] <= 80999:\n",
    "                    test_data['COD_PROVINCIA'][i] ='NA'\n",
    "                    num_NA+=1\n",
    "            else:  \n",
    "                    test_data['COD_PROVINCIA'][i] ='ND'\n",
    "                    num_ND+=1\n",
    "\n",
    "print 'numero di righe in cui forzo la provincia NA =', num_NA\n",
    "print 'numero di righe in cui forzo la provincia ND =', num_ND"
   ]
  },
  {
   "cell_type": "code",
   "execution_count": 144,
   "metadata": {
    "collapsed": false
   },
   "outputs": [
    {
     "data": {
      "text/plain": [
       "(0, 18)"
      ]
     },
     "execution_count": 144,
     "metadata": {},
     "output_type": "execute_result"
    }
   ],
   "source": [
    "test_data[test_data.COD_PROVINCIA == 'ND'].shape"
   ]
  },
  {
   "cell_type": "code",
   "execution_count": 145,
   "metadata": {
    "collapsed": false
   },
   "outputs": [
    {
     "data": {
      "text/plain": [
       "(0, 18)"
      ]
     },
     "execution_count": 145,
     "metadata": {},
     "output_type": "execute_result"
    }
   ],
   "source": [
    "test_data[test_data.COD_PROVINCIA == 'NA'].shape"
   ]
  },
  {
   "cell_type": "markdown",
   "metadata": {},
   "source": [
    "DATA LA PRESENZA DEL \"FENOMENO BANKIT\" NEL TRACCIATO VERIFICO CHE OGNI ID SIA PRESENTE UNA SOLA VOLTA"
   ]
  },
  {
   "cell_type": "code",
   "execution_count": 146,
   "metadata": {
    "collapsed": false
   },
   "outputs": [
    {
     "data": {
      "text/plain": [
       "(53997,)"
      ]
     },
     "execution_count": 146,
     "metadata": {},
     "output_type": "execute_result"
    }
   ],
   "source": [
    "# numero di id_cliente\n",
    "training_data.ix[:,0].shape"
   ]
  },
  {
   "cell_type": "code",
   "execution_count": 147,
   "metadata": {
    "collapsed": false
   },
   "outputs": [
    {
     "data": {
      "text/plain": [
       "(53997,)"
      ]
     },
     "execution_count": 147,
     "metadata": {},
     "output_type": "execute_result"
    }
   ],
   "source": [
    "# numero distinct di id_cliente\n",
    "training_data.ix[:,0].unique().shape"
   ]
  },
  {
   "cell_type": "code",
   "execution_count": null,
   "metadata": {
    "collapsed": true
   },
   "outputs": [],
   "source": [
    "PRODUCO STATISTICHE PER CIACUNA VARIABILE"
   ]
  },
  {
   "cell_type": "code",
   "execution_count": 148,
   "metadata": {
    "collapsed": false
   },
   "outputs": [
    {
     "name": "stdout",
     "output_type": "stream",
     "text": [
      "count     53997.000000\n",
      "mean        475.190529\n",
      "std        3028.881372\n",
      "min           0.000000\n",
      "25%          87.000000\n",
      "50%         243.000000\n",
      "75%         547.000000\n",
      "max      650149.000000\n",
      "Name: CBI201312_CREDITI, dtype: float64\n",
      "\n",
      "count    53997.000000\n",
      "mean         9.194326\n",
      "std        275.938893\n",
      "min     -18087.000000\n",
      "25%         -4.000000\n",
      "50%          4.000000\n",
      "75%         24.000000\n",
      "max      33794.000000\n",
      "Name: CBI201312_UTILE_PERDITA_ESERCIZIO, dtype: float64\n",
      "\n",
      "count     53997.000000\n",
      "mean        289.402078\n",
      "std        1505.764856\n",
      "min      -29509.000000\n",
      "25%          20.000000\n",
      "50%          84.000000\n",
      "75%         264.000000\n",
      "max      235324.000000\n",
      "Name: CBI201312_PATRIMONIO_NETTO, dtype: float64\n",
      "\n",
      "count    53997.000000\n",
      "mean       231.300443\n",
      "std        726.931477\n",
      "min          0.000000\n",
      "25%          0.000000\n",
      "50%         45.000000\n",
      "75%        203.000000\n",
      "max      50923.000000\n",
      "Name: CBI201312_DEBITI_CONSOLIDATI, dtype: float64\n",
      "\n",
      "count    5.399700e+04\n",
      "mean     6.903363e+02\n",
      "std      5.293496e+03\n",
      "min      0.000000e+00\n",
      "25%      1.740000e+02\n",
      "50%      3.810000e+02\n",
      "75%      7.850000e+02\n",
      "max      1.166597e+06\n",
      "Name: CBI201312_DEBITI_ENTRO_ES_SUCC, dtype: float64\n",
      "\n",
      "count    5.399700e+04\n",
      "mean     1.227074e+03\n",
      "std      6.730968e+03\n",
      "min      0.000000e+00\n",
      "25%      3.100000e+02\n",
      "50%      6.850000e+02\n",
      "75%      1.402000e+03\n",
      "max      1.255724e+06\n",
      "Name: CBI201312_RICAVI_NETTI, dtype: float64\n",
      "\n",
      "count    5.399700e+04\n",
      "mean     5.660812e+02\n",
      "std      7.762285e+03\n",
      "min      0.000000e+00\n",
      "25%      4.700000e+01\n",
      "50%      2.020000e+02\n",
      "75%      5.540000e+02\n",
      "max      1.615554e+06\n",
      "Name: CBI201312_ACQUISTI_NETTI, dtype: float64\n",
      "\n",
      "count    53997.000000\n",
      "mean       331.304943\n",
      "std        786.714279\n",
      "min          0.000000\n",
      "25%         70.000000\n",
      "50%        162.000000\n",
      "75%        352.000000\n",
      "max      48990.000000\n",
      "Name: CBI201312_COSTI_SERVZ_BENI_TERZI, dtype: float64\n",
      "\n",
      "count    5.399700e+04\n",
      "mean     7.421129e+05\n",
      "std      1.796007e+06\n",
      "min      0.000000e+00\n",
      "25%      1.300000e+05\n",
      "50%      3.525870e+05\n",
      "75%      8.407070e+05\n",
      "max      2.187011e+08\n",
      "Name: IMP_ACCORDATO, dtype: float64\n",
      "\n"
     ]
    }
   ],
   "source": [
    "for i in range(8,17):\n",
    "    print training_data.ix[:,i].describe()\n",
    "    print"
   ]
  },
  {
   "cell_type": "code",
   "execution_count": 225,
   "metadata": {
    "collapsed": false
   },
   "outputs": [
    {
     "data": {
      "text/plain": [
       "[<matplotlib.lines.Line2D at 0x7f857e01f650>]"
      ]
     },
     "execution_count": 225,
     "metadata": {},
     "output_type": "execute_result"
    },
    {
     "data": {
      "image/png": "[encoded data removed]",
      "text/plain": [
       "<matplotlib.figure.Figure at 0x7f857de6a510>"
      ]
     },
     "metadata": {},
     "output_type": "display_data"
    }
   ],
   "source": [
    "v1 = [x if x < 40000 else 40000 for x in training_data['CBI201312_CREDITI']]\n",
    "v2 = training_data['FLG_DEF_6M']\n",
    "plt.plot(v1,v2,'ro')"
   ]
  },
  {
   "cell_type": "code",
   "execution_count": 229,
   "metadata": {
    "collapsed": false
   },
   "outputs": [
    {
     "data": {
      "text/plain": [
       "[<matplotlib.lines.Line2D at 0x7f857b270ed0>]"
      ]
     },
     "execution_count": 229,
     "metadata": {},
     "output_type": "execute_result"
    },
    {
     "data": {
      "image/png": "[encoded data removed]",
      "text/plain": [
       "<matplotlib.figure.Figure at 0x7f857dc857d0>"
      ]
     },
     "metadata": {},
     "output_type": "display_data"
    }
   ],
   "source": [
    "v1 = training_data['CBI201312_DEBITI_ENTRO_ES_SUCC']/training_data['CBI201312_RICAVI_NETTI']\n",
    "v2 = training_data['FLG_DEF_6M']\n",
    "plt.plot(v1,v2,'ro')"
   ]
  },
  {
   "cell_type": "markdown",
   "metadata": {},
   "source": [
    "MODEL SELECTION"
   ]
  },
  {
   "cell_type": "code",
   "execution_count": 173,
   "metadata": {
    "collapsed": false
   },
   "outputs": [
    {
     "data": {
      "text/html": [
       "<div>\n",
       "<table border=\"1\" class=\"dataframe\">\n",
       "  <thead>\n",
       "    <tr style=\"text-align: right;\">\n",
       "      <th></th>\n",
       "      <th>CBI201312_CREDITI</th>\n",
       "      <th>CBI201312_UTILE_PERDITA_ESERCIZIO</th>\n",
       "      <th>CBI201312_PATRIMONIO_NETTO</th>\n",
       "      <th>CBI201312_DEBITI_CONSOLIDATI</th>\n",
       "      <th>CBI201312_DEBITI_ENTRO_ES_SUCC</th>\n",
       "      <th>CBI201312_RICAVI_NETTI</th>\n",
       "      <th>CBI201312_ACQUISTI_NETTI</th>\n",
       "      <th>CBI201312_COSTI_SERVZ_BENI_TERZI</th>\n",
       "      <th>IMP_ACCORDATO</th>\n",
       "      <th>IMP_UTILIZZATO</th>\n",
       "      <th>IMP_VALORE_GARANZIA</th>\n",
       "    </tr>\n",
       "  </thead>\n",
       "  <tbody>\n",
       "    <tr>\n",
       "      <th>0</th>\n",
       "      <td>1.0</td>\n",
       "      <td>-3.0</td>\n",
       "      <td>7.0</td>\n",
       "      <td>20.0</td>\n",
       "      <td>389.0</td>\n",
       "      <td>0.0</td>\n",
       "      <td>0.0</td>\n",
       "      <td>3.0</td>\n",
       "      <td>850000.0</td>\n",
       "      <td>0.0</td>\n",
       "      <td>0.0</td>\n",
       "    </tr>\n",
       "    <tr>\n",
       "      <th>1</th>\n",
       "      <td>23.0</td>\n",
       "      <td>9.0</td>\n",
       "      <td>239.0</td>\n",
       "      <td>818.0</td>\n",
       "      <td>469.0</td>\n",
       "      <td>1804.0</td>\n",
       "      <td>1466.0</td>\n",
       "      <td>197.0</td>\n",
       "      <td>987900.0</td>\n",
       "      <td>922900.0</td>\n",
       "      <td>0.0</td>\n",
       "    </tr>\n",
       "  </tbody>\n",
       "</table>\n",
       "</div>"
      ],
      "text/plain": [
       "   CBI201312_CREDITI  CBI201312_UTILE_PERDITA_ESERCIZIO  \\\n",
       "0                1.0                               -3.0   \n",
       "1               23.0                                9.0   \n",
       "\n",
       "   CBI201312_PATRIMONIO_NETTO  CBI201312_DEBITI_CONSOLIDATI  \\\n",
       "0                         7.0                          20.0   \n",
       "1                       239.0                         818.0   \n",
       "\n",
       "   CBI201312_DEBITI_ENTRO_ES_SUCC  CBI201312_RICAVI_NETTI  \\\n",
       "0                           389.0                     0.0   \n",
       "1                           469.0                  1804.0   \n",
       "\n",
       "   CBI201312_ACQUISTI_NETTI  CBI201312_COSTI_SERVZ_BENI_TERZI  IMP_ACCORDATO  \\\n",
       "0                       0.0                               3.0       850000.0   \n",
       "1                    1466.0                             197.0       987900.0   \n",
       "\n",
       "   IMP_UTILIZZATO  IMP_VALORE_GARANZIA  \n",
       "0             0.0                  0.0  \n",
       "1        922900.0                  0.0  "
      ]
     },
     "execution_count": 173,
     "metadata": {},
     "output_type": "execute_result"
    }
   ],
   "source": [
    "X_train = training_data.ix[:,(8,9,10,11,12,13,14,15,16,17,18)]\n",
    "X_train.head(2)"
   ]
  },
  {
   "cell_type": "code",
   "execution_count": 174,
   "metadata": {
    "collapsed": false
   },
   "outputs": [
    {
     "data": {
      "text/plain": [
       "(53997, 11)"
      ]
     },
     "execution_count": 174,
     "metadata": {},
     "output_type": "execute_result"
    }
   ],
   "source": [
    "X_train.shape"
   ]
  },
  {
   "cell_type": "code",
   "execution_count": 175,
   "metadata": {
    "collapsed": false
   },
   "outputs": [
    {
     "data": {
      "text/plain": [
       "(53997,)"
      ]
     },
     "execution_count": 175,
     "metadata": {},
     "output_type": "execute_result"
    }
   ],
   "source": [
    "y_train = training_data.ix[:,7]\n",
    "y_train.shape"
   ]
  },
  {
   "cell_type": "code",
   "execution_count": 176,
   "metadata": {
    "collapsed": false
   },
   "outputs": [
    {
     "data": {
      "text/html": [
       "<div>\n",
       "<table border=\"1\" class=\"dataframe\">\n",
       "  <thead>\n",
       "    <tr style=\"text-align: right;\">\n",
       "      <th></th>\n",
       "      <th>ID</th>\n",
       "      <th>FLG_DEF_6M</th>\n",
       "    </tr>\n",
       "  </thead>\n",
       "  <tbody>\n",
       "    <tr>\n",
       "      <th>0</th>\n",
       "      <td>66815</td>\n",
       "      <td>0</td>\n",
       "    </tr>\n",
       "    <tr>\n",
       "      <th>1</th>\n",
       "      <td>66816</td>\n",
       "      <td>0</td>\n",
       "    </tr>\n",
       "  </tbody>\n",
       "</table>\n",
       "</div>"
      ],
      "text/plain": [
       "      ID  FLG_DEF_6M\n",
       "0  66815           0\n",
       "1  66816           0"
      ]
     },
     "execution_count": 176,
     "metadata": {},
     "output_type": "execute_result"
    }
   ],
   "source": [
    "results_data.head(2)"
   ]
  },
  {
   "cell_type": "code",
   "execution_count": 177,
   "metadata": {
    "collapsed": false
   },
   "outputs": [],
   "source": [
    "X_test = test_data.ix[:,(7,8,9,10,11,12,13,14,15,16,17)]\n",
    "y_test = results_data.ix[:,1]"
   ]
  },
  {
   "cell_type": "code",
   "execution_count": 178,
   "metadata": {
    "collapsed": false
   },
   "outputs": [
    {
     "data": {
      "text/html": [
       "<div>\n",
       "<table border=\"1\" class=\"dataframe\">\n",
       "  <thead>\n",
       "    <tr style=\"text-align: right;\">\n",
       "      <th></th>\n",
       "      <th>CBI201312_CREDITI</th>\n",
       "      <th>CBI201312_UTILE_PERDITA_ESERCIZIO</th>\n",
       "      <th>CBI201312_PATRIMONIO_NETTO</th>\n",
       "      <th>CBI201312_DEBITI_CONSOLIDATI</th>\n",
       "      <th>CBI201312_DEBITI_ENTRO_ES_SUCC</th>\n",
       "      <th>CBI201312_RICAVI_NETTI</th>\n",
       "      <th>CBI201312_ACQUISTI_NETTI</th>\n",
       "      <th>CBI201312_COSTI_SERVZ_BENI_TERZI</th>\n",
       "      <th>IMP_ACCORDATO</th>\n",
       "      <th>IMP_UTILIZZATO</th>\n",
       "      <th>IMP_VALORE_GARANZIA</th>\n",
       "    </tr>\n",
       "  </thead>\n",
       "  <tbody>\n",
       "    <tr>\n",
       "      <th>0</th>\n",
       "      <td>125.0</td>\n",
       "      <td>32.0</td>\n",
       "      <td>-186.0</td>\n",
       "      <td>177.0</td>\n",
       "      <td>351.0</td>\n",
       "      <td>779.0</td>\n",
       "      <td>351.0</td>\n",
       "      <td>256.0</td>\n",
       "      <td>437243.0</td>\n",
       "      <td>374537.0</td>\n",
       "      <td>0.0</td>\n",
       "    </tr>\n",
       "    <tr>\n",
       "      <th>1</th>\n",
       "      <td>51.0</td>\n",
       "      <td>74.0</td>\n",
       "      <td>-17.0</td>\n",
       "      <td>447.0</td>\n",
       "      <td>26.0</td>\n",
       "      <td>407.0</td>\n",
       "      <td>122.0</td>\n",
       "      <td>19.0</td>\n",
       "      <td>620000.0</td>\n",
       "      <td>0.0</td>\n",
       "      <td>0.0</td>\n",
       "    </tr>\n",
       "  </tbody>\n",
       "</table>\n",
       "</div>"
      ],
      "text/plain": [
       "   CBI201312_CREDITI  CBI201312_UTILE_PERDITA_ESERCIZIO  \\\n",
       "0              125.0                               32.0   \n",
       "1               51.0                               74.0   \n",
       "\n",
       "   CBI201312_PATRIMONIO_NETTO  CBI201312_DEBITI_CONSOLIDATI  \\\n",
       "0                      -186.0                         177.0   \n",
       "1                       -17.0                         447.0   \n",
       "\n",
       "   CBI201312_DEBITI_ENTRO_ES_SUCC  CBI201312_RICAVI_NETTI  \\\n",
       "0                           351.0                   779.0   \n",
       "1                            26.0                   407.0   \n",
       "\n",
       "   CBI201312_ACQUISTI_NETTI  CBI201312_COSTI_SERVZ_BENI_TERZI  IMP_ACCORDATO  \\\n",
       "0                     351.0                             256.0       437243.0   \n",
       "1                     122.0                              19.0       620000.0   \n",
       "\n",
       "   IMP_UTILIZZATO  IMP_VALORE_GARANZIA  \n",
       "0        374537.0                  0.0  \n",
       "1             0.0                  0.0  "
      ]
     },
     "execution_count": 178,
     "metadata": {},
     "output_type": "execute_result"
    }
   ],
   "source": [
    "X_test.head(2)"
   ]
  },
  {
   "cell_type": "code",
   "execution_count": 154,
   "metadata": {
    "collapsed": false
   },
   "outputs": [
    {
     "data": {
      "text/plain": [
       "0    35044.0\n",
       "1    11017.0\n",
       "Name: COD_CAP, dtype: float64"
      ]
     },
     "execution_count": 154,
     "metadata": {},
     "output_type": "execute_result"
    }
   ],
   "source": [
    "y_test.head(2)"
   ]
  },
  {
   "cell_type": "markdown",
   "metadata": {},
   "source": [
    "IMPORTO LIBRERIE PER MODELLI E METRICHE"
   ]
  },
  {
   "cell_type": "code",
   "execution_count": 179,
   "metadata": {
    "collapsed": false
   },
   "outputs": [],
   "source": [
    "from sklearn import tests \n",
    "from sklearn import metrics, cross_validation, linear_model\n",
    "from sklearn.linear_model import LogisticRegression \n",
    "from sklearn import ensemble\n"
   ]
  },
  {
   "cell_type": "markdown",
   "metadata": {},
   "source": [
    "RANDOM FOREST\n",
    "Una random forest si definisce come un insieme di alberi decisionali tali che ciascun elemento di esso classifichi ogni oggetto x dello spazio delle caratteristiche indipendentemente. Il classificatore produce la migliore divisione dello spazio generata dalle variabili che entrano nel modello.  "
   ]
  },
  {
   "cell_type": "code",
   "execution_count": 206,
   "metadata": {
    "collapsed": false
   },
   "outputs": [
    {
     "data": {
      "text/plain": [
       "RandomForestClassifier(bootstrap=True, class_weight=None, criterion='gini',\n",
       "            max_depth=None, max_features='auto', max_leaf_nodes=None,\n",
       "            min_samples_leaf=1, min_samples_split=2,\n",
       "            min_weight_fraction_leaf=0.0, n_estimators=100, n_jobs=1,\n",
       "            oob_score=False, random_state=0, verbose=0, warm_start=False)"
      ]
     },
     "execution_count": 206,
     "metadata": {},
     "output_type": "execute_result"
    }
   ],
   "source": [
    "model = ensemble.RandomForestClassifier(n_estimators=100, random_state=0)\n",
    "model.fit(X_train,y_train)"
   ]
  },
  {
   "cell_type": "code",
   "execution_count": 207,
   "metadata": {
    "collapsed": false
   },
   "outputs": [
    {
     "name": "stdout",
     "output_type": "stream",
     "text": [
      "0.999981480453\n"
     ]
    }
   ],
   "source": [
    "print model.score(X_train,y_train)"
   ]
  },
  {
   "cell_type": "code",
   "execution_count": 208,
   "metadata": {
    "collapsed": false
   },
   "outputs": [
    {
     "name": "stdout",
     "output_type": "stream",
     "text": [
      "0.888235294118\n"
     ]
    }
   ],
   "source": [
    "print model.score(X_test,y_test)"
   ]
  },
  {
   "cell_type": "code",
   "execution_count": 209,
   "metadata": {
    "collapsed": false
   },
   "outputs": [
    {
     "data": {
      "text/plain": [
       "array([ 0.07331881,  0.10441805,  0.10559805,  0.06578492,  0.10479686,\n",
       "        0.11743818,  0.07154208,  0.08082453,  0.16153791,  0.10481714,\n",
       "        0.00992346])"
      ]
     },
     "execution_count": 209,
     "metadata": {},
     "output_type": "execute_result"
    }
   ],
   "source": [
    "model.feature_importances_"
   ]
  },
  {
   "cell_type": "code",
   "execution_count": 261,
   "metadata": {
    "collapsed": false
   },
   "outputs": [
    {
     "data": {
      "text/plain": [
       "array([[  1.00000000e+00,  -3.00000000e+00,   7.00000000e+00, ...,\n",
       "          8.50000000e+05,   0.00000000e+00,   0.00000000e+00],\n",
       "       [  2.30000000e+01,   9.00000000e+00,   2.39000000e+02, ...,\n",
       "          9.87900000e+05,   9.22900000e+05,   0.00000000e+00],\n",
       "       [  7.20000000e+02,   2.00000000e+00,  -1.20400000e+03, ...,\n",
       "          8.08509000e+05,   7.41746000e+05,   0.00000000e+00],\n",
       "       ..., \n",
       "       [  1.74800000e+03,   8.20000000e+01,   1.78000000e+02, ...,\n",
       "          1.30415500e+06,   1.18972200e+06,   0.00000000e+00],\n",
       "       [  3.10000000e+01,   8.00000000e+00,   1.80000000e+01, ...,\n",
       "          1.50000000e+05,   1.08562000e+05,   0.00000000e+00],\n",
       "       [  5.80000000e+01,   1.00000000e+01,   1.20000000e+01, ...,\n",
       "          2.52388000e+05,   1.84810000e+05,   0.00000000e+00]])"
      ]
     },
     "execution_count": 261,
     "metadata": {},
     "output_type": "execute_result"
    }
   ],
   "source": [
    "X_train.values"
   ]
  },
  {
   "cell_type": "code",
   "execution_count": 265,
   "metadata": {
    "collapsed": false
   },
   "outputs": [
    {
     "data": {
      "text/html": [
       "<div>\n",
       "<table border=\"1\" class=\"dataframe\">\n",
       "  <thead>\n",
       "    <tr style=\"text-align: right;\">\n",
       "      <th></th>\n",
       "      <th>0</th>\n",
       "      <th>1</th>\n",
       "      <th>2</th>\n",
       "      <th>3</th>\n",
       "      <th>4</th>\n",
       "    </tr>\n",
       "  </thead>\n",
       "  <tbody>\n",
       "    <tr>\n",
       "      <th>CBI201312_CREDITI</th>\n",
       "      <td>1.0</td>\n",
       "      <td>23.0</td>\n",
       "      <td>720.0</td>\n",
       "      <td>3.0</td>\n",
       "      <td>225.0</td>\n",
       "    </tr>\n",
       "    <tr>\n",
       "      <th>CBI201312_UTILE_PERDITA_ESERCIZIO</th>\n",
       "      <td>-3.0</td>\n",
       "      <td>9.0</td>\n",
       "      <td>2.0</td>\n",
       "      <td>1.0</td>\n",
       "      <td>167.0</td>\n",
       "    </tr>\n",
       "    <tr>\n",
       "      <th>CBI201312_PATRIMONIO_NETTO</th>\n",
       "      <td>7.0</td>\n",
       "      <td>239.0</td>\n",
       "      <td>-1204.0</td>\n",
       "      <td>13.0</td>\n",
       "      <td>-33.0</td>\n",
       "    </tr>\n",
       "    <tr>\n",
       "      <th>CBI201312_DEBITI_CONSOLIDATI</th>\n",
       "      <td>20.0</td>\n",
       "      <td>818.0</td>\n",
       "      <td>208.0</td>\n",
       "      <td>19.0</td>\n",
       "      <td>0.0</td>\n",
       "    </tr>\n",
       "    <tr>\n",
       "      <th>CBI201312_DEBITI_ENTRO_ES_SUCC</th>\n",
       "      <td>389.0</td>\n",
       "      <td>469.0</td>\n",
       "      <td>1860.0</td>\n",
       "      <td>144.0</td>\n",
       "      <td>348.0</td>\n",
       "    </tr>\n",
       "    <tr>\n",
       "      <th>CBI201312_RICAVI_NETTI</th>\n",
       "      <td>0.0</td>\n",
       "      <td>1804.0</td>\n",
       "      <td>2427.0</td>\n",
       "      <td>304.0</td>\n",
       "      <td>1249.0</td>\n",
       "    </tr>\n",
       "    <tr>\n",
       "      <th>CBI201312_ACQUISTI_NETTI</th>\n",
       "      <td>0.0</td>\n",
       "      <td>1466.0</td>\n",
       "      <td>944.0</td>\n",
       "      <td>8.0</td>\n",
       "      <td>438.0</td>\n",
       "    </tr>\n",
       "    <tr>\n",
       "      <th>CBI201312_COSTI_SERVZ_BENI_TERZI</th>\n",
       "      <td>3.0</td>\n",
       "      <td>197.0</td>\n",
       "      <td>637.0</td>\n",
       "      <td>228.0</td>\n",
       "      <td>418.0</td>\n",
       "    </tr>\n",
       "    <tr>\n",
       "      <th>IMP_ACCORDATO</th>\n",
       "      <td>850000.0</td>\n",
       "      <td>987900.0</td>\n",
       "      <td>808509.0</td>\n",
       "      <td>87095.0</td>\n",
       "      <td>509225.0</td>\n",
       "    </tr>\n",
       "    <tr>\n",
       "      <th>IMP_UTILIZZATO</th>\n",
       "      <td>0.0</td>\n",
       "      <td>922900.0</td>\n",
       "      <td>741746.0</td>\n",
       "      <td>51999.0</td>\n",
       "      <td>31084.0</td>\n",
       "    </tr>\n",
       "    <tr>\n",
       "      <th>IMP_VALORE_GARANZIA</th>\n",
       "      <td>0.0</td>\n",
       "      <td>0.0</td>\n",
       "      <td>0.0</td>\n",
       "      <td>0.0</td>\n",
       "      <td>0.0</td>\n",
       "    </tr>\n",
       "  </tbody>\n",
       "</table>\n",
       "</div>"
      ],
      "text/plain": [
       "                                          0         1         2        3  \\\n",
       "CBI201312_CREDITI                       1.0      23.0     720.0      3.0   \n",
       "CBI201312_UTILE_PERDITA_ESERCIZIO      -3.0       9.0       2.0      1.0   \n",
       "CBI201312_PATRIMONIO_NETTO              7.0     239.0   -1204.0     13.0   \n",
       "CBI201312_DEBITI_CONSOLIDATI           20.0     818.0     208.0     19.0   \n",
       "CBI201312_DEBITI_ENTRO_ES_SUCC        389.0     469.0    1860.0    144.0   \n",
       "CBI201312_RICAVI_NETTI                  0.0    1804.0    2427.0    304.0   \n",
       "CBI201312_ACQUISTI_NETTI                0.0    1466.0     944.0      8.0   \n",
       "CBI201312_COSTI_SERVZ_BENI_TERZI        3.0     197.0     637.0    228.0   \n",
       "IMP_ACCORDATO                      850000.0  987900.0  808509.0  87095.0   \n",
       "IMP_UTILIZZATO                          0.0  922900.0  741746.0  51999.0   \n",
       "IMP_VALORE_GARANZIA                     0.0       0.0       0.0      0.0   \n",
       "\n",
       "                                          4  \n",
       "CBI201312_CREDITI                     225.0  \n",
       "CBI201312_UTILE_PERDITA_ESERCIZIO     167.0  \n",
       "CBI201312_PATRIMONIO_NETTO            -33.0  \n",
       "CBI201312_DEBITI_CONSOLIDATI            0.0  \n",
       "CBI201312_DEBITI_ENTRO_ES_SUCC        348.0  \n",
       "CBI201312_RICAVI_NETTI               1249.0  \n",
       "CBI201312_ACQUISTI_NETTI              438.0  \n",
       "CBI201312_COSTI_SERVZ_BENI_TERZI      418.0  \n",
       "IMP_ACCORDATO                      509225.0  \n",
       "IMP_UTILIZZATO                      31084.0  \n",
       "IMP_VALORE_GARANZIA                     0.0  "
      ]
     },
     "execution_count": 265,
     "metadata": {},
     "output_type": "execute_result"
    }
   ],
   "source": [
    "X_train.head().T"
   ]
  },
  {
   "cell_type": "code",
   "execution_count": 266,
   "metadata": {
    "collapsed": false
   },
   "outputs": [
    {
     "data": {
      "text/plain": [
       "650149.0"
      ]
     },
     "execution_count": 266,
     "metadata": {},
     "output_type": "execute_result"
    }
   ],
   "source": [
    "X_train.CBI201312_CREDITI.max()"
   ]
  },
  {
   "cell_type": "code",
   "execution_count": 210,
   "metadata": {
    "collapsed": false
   },
   "outputs": [],
   "source": [
    "y_pred_proba = model.predict_proba(X_test)[:,1]"
   ]
  },
  {
   "cell_type": "code",
   "execution_count": 211,
   "metadata": {
    "collapsed": false
   },
   "outputs": [
    {
     "data": {
      "text/plain": [
       "array([ 0.1 ,  0.1 ,  0.18, ...,  0.17,  0.06,  0.14])"
      ]
     },
     "execution_count": 211,
     "metadata": {},
     "output_type": "execute_result"
    }
   ],
   "source": [
    "y_pred_proba"
   ]
  },
  {
   "cell_type": "code",
   "execution_count": 249,
   "metadata": {
    "collapsed": false
   },
   "outputs": [
    {
     "data": {
      "text/plain": [
       "(6120,)"
      ]
     },
     "execution_count": 249,
     "metadata": {},
     "output_type": "execute_result"
    }
   ],
   "source": [
    "y_pred = model.predict(X_test)\n",
    "y_pred.shape\n",
    "# test_data.shape"
   ]
  },
  {
   "cell_type": "code",
   "execution_count": 251,
   "metadata": {
    "collapsed": false
   },
   "outputs": [],
   "source": [
    "# y_pred['PREDICTION'] = pd.DataFrame(y_pred)\n",
    "test_data.loc[:,'PREDICTION'] = y_pred \n",
    "#y_id   = pd.DataFrame(test_data)\n",
    "#y_finale = pd.concat([y_id, y_pred], axis=1)\n",
    "#y_finale.head()"
   ]
  },
  {
   "cell_type": "code",
   "execution_count": 252,
   "metadata": {
    "collapsed": false
   },
   "outputs": [
    {
     "data": {
      "text/html": [
       "<div>\n",
       "<table border=\"1\" class=\"dataframe\">\n",
       "  <thead>\n",
       "    <tr style=\"text-align: right;\">\n",
       "      <th></th>\n",
       "      <th>ID</th>\n",
       "      <th>COD_CAP</th>\n",
       "      <th>COD_PROVINCIA</th>\n",
       "      <th>DAT_COSTITUZIONE</th>\n",
       "      <th>COD_RAE</th>\n",
       "      <th>COD_SAE</th>\n",
       "      <th>COD_ISTAT_ATECO_07</th>\n",
       "      <th>CBI201312_CREDITI</th>\n",
       "      <th>CBI201312_UTILE_PERDITA_ESERCIZIO</th>\n",
       "      <th>CBI201312_PATRIMONIO_NETTO</th>\n",
       "      <th>CBI201312_DEBITI_CONSOLIDATI</th>\n",
       "      <th>CBI201312_DEBITI_ENTRO_ES_SUCC</th>\n",
       "      <th>CBI201312_RICAVI_NETTI</th>\n",
       "      <th>CBI201312_ACQUISTI_NETTI</th>\n",
       "      <th>CBI201312_COSTI_SERVZ_BENI_TERZI</th>\n",
       "      <th>IMP_ACCORDATO</th>\n",
       "      <th>IMP_UTILIZZATO</th>\n",
       "      <th>IMP_VALORE_GARANZIA</th>\n",
       "      <th>PREDICTION</th>\n",
       "    </tr>\n",
       "  </thead>\n",
       "  <tbody>\n",
       "    <tr>\n",
       "      <th>0</th>\n",
       "      <td>66815</td>\n",
       "      <td>35044.0</td>\n",
       "      <td>PD</td>\n",
       "      <td>1993.0</td>\n",
       "      <td>467</td>\n",
       "      <td>482</td>\n",
       "      <td>3109.0</td>\n",
       "      <td>125.0</td>\n",
       "      <td>32.0</td>\n",
       "      <td>-186.0</td>\n",
       "      <td>177.0</td>\n",
       "      <td>351.0</td>\n",
       "      <td>779.0</td>\n",
       "      <td>351.0</td>\n",
       "      <td>256.0</td>\n",
       "      <td>437243.0</td>\n",
       "      <td>374537.0</td>\n",
       "      <td>0.0</td>\n",
       "      <td>0</td>\n",
       "    </tr>\n",
       "    <tr>\n",
       "      <th>1</th>\n",
       "      <td>66816</td>\n",
       "      <td>11017.0</td>\n",
       "      <td>AO</td>\n",
       "      <td>1975.0</td>\n",
       "      <td>505</td>\n",
       "      <td>482</td>\n",
       "      <td>4120.0</td>\n",
       "      <td>51.0</td>\n",
       "      <td>74.0</td>\n",
       "      <td>-17.0</td>\n",
       "      <td>447.0</td>\n",
       "      <td>26.0</td>\n",
       "      <td>407.0</td>\n",
       "      <td>122.0</td>\n",
       "      <td>19.0</td>\n",
       "      <td>620000.0</td>\n",
       "      <td>0.0</td>\n",
       "      <td>0.0</td>\n",
       "      <td>0</td>\n",
       "    </tr>\n",
       "    <tr>\n",
       "      <th>2</th>\n",
       "      <td>66824</td>\n",
       "      <td>31020.0</td>\n",
       "      <td>TV</td>\n",
       "      <td>1967.0</td>\n",
       "      <td>505</td>\n",
       "      <td>492</td>\n",
       "      <td>412.0</td>\n",
       "      <td>2506.0</td>\n",
       "      <td>56.0</td>\n",
       "      <td>82.0</td>\n",
       "      <td>96.0</td>\n",
       "      <td>3001.0</td>\n",
       "      <td>6140.0</td>\n",
       "      <td>2926.0</td>\n",
       "      <td>1990.0</td>\n",
       "      <td>2579309.0</td>\n",
       "      <td>2315767.0</td>\n",
       "      <td>0.0</td>\n",
       "      <td>0</td>\n",
       "    </tr>\n",
       "    <tr>\n",
       "      <th>3</th>\n",
       "      <td>66827</td>\n",
       "      <td>12042.0</td>\n",
       "      <td>CN</td>\n",
       "      <td>1977.0</td>\n",
       "      <td>648</td>\n",
       "      <td>492</td>\n",
       "      <td>47591.0</td>\n",
       "      <td>23.0</td>\n",
       "      <td>1.0</td>\n",
       "      <td>109.0</td>\n",
       "      <td>0.0</td>\n",
       "      <td>128.0</td>\n",
       "      <td>216.0</td>\n",
       "      <td>161.0</td>\n",
       "      <td>21.0</td>\n",
       "      <td>141152.0</td>\n",
       "      <td>128956.0</td>\n",
       "      <td>0.0</td>\n",
       "      <td>0</td>\n",
       "    </tr>\n",
       "    <tr>\n",
       "      <th>4</th>\n",
       "      <td>66831</td>\n",
       "      <td>23880.0</td>\n",
       "      <td>LC</td>\n",
       "      <td>1960.0</td>\n",
       "      <td>316</td>\n",
       "      <td>482</td>\n",
       "      <td>259999.0</td>\n",
       "      <td>153.0</td>\n",
       "      <td>48.0</td>\n",
       "      <td>268.0</td>\n",
       "      <td>31.0</td>\n",
       "      <td>167.0</td>\n",
       "      <td>407.0</td>\n",
       "      <td>231.0</td>\n",
       "      <td>108.0</td>\n",
       "      <td>390783.0</td>\n",
       "      <td>135783.0</td>\n",
       "      <td>0.0</td>\n",
       "      <td>0</td>\n",
       "    </tr>\n",
       "  </tbody>\n",
       "</table>\n",
       "</div>"
      ],
      "text/plain": [
       "      ID  COD_CAP COD_PROVINCIA  DAT_COSTITUZIONE  COD_RAE  COD_SAE  \\\n",
       "0  66815  35044.0            PD            1993.0      467      482   \n",
       "1  66816  11017.0            AO            1975.0      505      482   \n",
       "2  66824  31020.0            TV            1967.0      505      492   \n",
       "3  66827  12042.0            CN            1977.0      648      492   \n",
       "4  66831  23880.0            LC            1960.0      316      482   \n",
       "\n",
       "   COD_ISTAT_ATECO_07  CBI201312_CREDITI  CBI201312_UTILE_PERDITA_ESERCIZIO  \\\n",
       "0              3109.0              125.0                               32.0   \n",
       "1              4120.0               51.0                               74.0   \n",
       "2               412.0             2506.0                               56.0   \n",
       "3             47591.0               23.0                                1.0   \n",
       "4            259999.0              153.0                               48.0   \n",
       "\n",
       "   CBI201312_PATRIMONIO_NETTO  CBI201312_DEBITI_CONSOLIDATI  \\\n",
       "0                      -186.0                         177.0   \n",
       "1                       -17.0                         447.0   \n",
       "2                        82.0                          96.0   \n",
       "3                       109.0                           0.0   \n",
       "4                       268.0                          31.0   \n",
       "\n",
       "   CBI201312_DEBITI_ENTRO_ES_SUCC  CBI201312_RICAVI_NETTI  \\\n",
       "0                           351.0                   779.0   \n",
       "1                            26.0                   407.0   \n",
       "2                          3001.0                  6140.0   \n",
       "3                           128.0                   216.0   \n",
       "4                           167.0                   407.0   \n",
       "\n",
       "   CBI201312_ACQUISTI_NETTI  CBI201312_COSTI_SERVZ_BENI_TERZI  IMP_ACCORDATO  \\\n",
       "0                     351.0                             256.0       437243.0   \n",
       "1                     122.0                              19.0       620000.0   \n",
       "2                    2926.0                            1990.0      2579309.0   \n",
       "3                     161.0                              21.0       141152.0   \n",
       "4                     231.0                             108.0       390783.0   \n",
       "\n",
       "   IMP_UTILIZZATO  IMP_VALORE_GARANZIA  PREDICTION  \n",
       "0        374537.0                  0.0           0  \n",
       "1             0.0                  0.0           0  \n",
       "2       2315767.0                  0.0           0  \n",
       "3        128956.0                  0.0           0  \n",
       "4        135783.0                  0.0           0  "
      ]
     },
     "execution_count": 252,
     "metadata": {},
     "output_type": "execute_result"
    }
   ],
   "source": [
    "test_data.head()"
   ]
  },
  {
   "cell_type": "code",
   "execution_count": 270,
   "metadata": {
    "collapsed": false
   },
   "outputs": [],
   "source": [
    "test_data.to_csv(\"prediction.csv\", index=False)"
   ]
  },
  {
   "cell_type": "code",
   "execution_count": 271,
   "metadata": {
    "collapsed": false
   },
   "outputs": [
    {
     "data": {
      "text/plain": [
       "array([[5149,  619],\n",
       "       [  65,  287]])"
      ]
     },
     "execution_count": 271,
     "metadata": {},
     "output_type": "execute_result"
    }
   ],
   "source": [
    "metrics.confusion_matrix(y_pred, y_test)"
   ]
  },
  {
   "cell_type": "code",
   "execution_count": null,
   "metadata": {
    "collapsed": true
   },
   "outputs": [],
   "source": []
  }
 ],
 "metadata": {
  "celltoolbar": "Raw Cell Format",
  "kernelspec": {
   "display_name": "Python [Root]",
   "language": "python",
   "name": "Python [Root]"
  },
  "language_info": {
   "codemirror_mode": {
    "name": "ipython",
    "version": 2
   },
   "file_extension": ".py",
   "mimetype": "text/x-python",
   "name": "python",
   "nbconvert_exporter": "python",
   "pygments_lexer": "ipython2",
   "version": "2.7.12"
  }
 },
 "nbformat": 4,
 "nbformat_minor": 0
}

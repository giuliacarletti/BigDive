{
 "cells": [
  {
   "cell_type": "markdown",
   "metadata": {},
   "source": [
    "# Introduction to the dataset\n",
    "each record is a movie showed in TV in 1992. In each record we have the following information:\n",
    "* **NETWORK**: broadcasting network (ABN, BBS, or CBC)\n",
    "* **MONTH**: 1=January, 2=February, ..., 12=December\n",
    "* **DAY**: 1=Monday, ..., 7=Sunday\n",
    "* **RATING**: rate (from 0 to 100) for movie\n",
    "* **FACT**: 1=based on true events, 0=fictional\n",
    "* **STARS**: number of actors or actress paid over $300,000\n",
    "* **PREVIOUS RATING**: rate for program immediately preceding movie on same network\n",
    "* **COMPETITION**: average rates received by the two competing networks during the movie's broadcast"
   ]
  },
  {
   "cell_type": "markdown",
   "metadata": {},
   "source": [
    "let's import [numpy](http://numpy.org) and [matplotlib](http://matplotlib.org)"
   ]
  },
  {
   "cell_type": "code",
   "execution_count": 1,
   "metadata": {
    "collapsed": false,
    "scrolled": true
   },
   "outputs": [
    {
     "name": "stdout",
     "output_type": "stream",
     "text": [
      "Populating the interactive namespace from numpy and matplotlib\n"
     ]
    }
   ],
   "source": [
    "%pylab inline"
   ]
  },
  {
   "cell_type": "code",
   "execution_count": 2,
   "metadata": {
    "collapsed": true
   },
   "outputs": [],
   "source": [
    "random.seed(1)"
   ]
  },
  {
   "cell_type": "markdown",
   "metadata": {},
   "source": [
    "# Importing the data"
   ]
  },
  {
   "cell_type": "markdown",
   "metadata": {},
   "source": [
    "The following lines allow us to open a CSV file, parse the lines and load it in a numpy array. Remember, next days you will see more optimal solutions to load data (e.g. **pandas**)!"
   ]
  },
  {
   "cell_type": "code",
   "execution_count": 3,
   "metadata": {
    "collapsed": false
   },
   "outputs": [],
   "source": [
    "f=file('Colonial_Broadcasting_Company_dataset.csv','r')"
   ]
  },
  {
   "cell_type": "code",
   "execution_count": 4,
   "metadata": {
    "collapsed": false
   },
   "outputs": [],
   "source": [
    "tt=[]\n",
    "for i,el in enumerate(f):\n",
    "    if i==0:#if we are on the first line, we store the columns' name in an array\n",
    "        col_name=el.strip().split(',')\n",
    "    else:#\n",
    "        tt_temp=[]\n",
    "        for el1 in el.strip().split(','):\n",
    "            try:\n",
    "                tt_temp.append(float(el1))\n",
    "            except:\n",
    "                tt_temp.append(el1)        \n",
    "        tt.append(tt_temp)\n",
    "# tt=array(tt)"
   ]
  },
  {
   "cell_type": "code",
   "execution_count": 5,
   "metadata": {
    "collapsed": true
   },
   "outputs": [],
   "source": [
    "f.close()"
   ]
  },
  {
   "cell_type": "code",
   "execution_count": 6,
   "metadata": {
    "collapsed": false
   },
   "outputs": [],
   "source": [
    "tt=array(tt,object)"
   ]
  },
  {
   "cell_type": "markdown",
   "metadata": {},
   "source": [
    "# First explorations\n",
    "## Some exercises\n",
    "Try to anser the following questions:\n",
    "\n",
    "What are the mean values of each columns? Try to use the less code that you can and remember the Zen of Python"
   ]
  },
  {
   "cell_type": "code",
   "execution_count": 7,
   "metadata": {
    "collapsed": false
   },
   "outputs": [
    {
     "data": {
      "text/plain": [
       "array([5.875, 4.25, 13.819318181818176, 0.4090909090909091,\n",
       "       0.4090909090909091, 13.77386363636363, 14.059090909090907], dtype=object)"
      ]
     },
     "execution_count": 7,
     "metadata": {},
     "output_type": "execute_result"
    }
   ],
   "source": [
    "tt[:,2:].mean(axis=0)"
   ]
  },
  {
   "cell_type": "markdown",
   "metadata": {},
   "source": [
    "What are the standard-deviations of the third column?"
   ]
  },
  {
   "cell_type": "code",
   "execution_count": 8,
   "metadata": {
    "collapsed": false
   },
   "outputs": [
    {
     "data": {
      "text/plain": [
       "3.8900002921243173"
      ]
     },
     "execution_count": 8,
     "metadata": {},
     "output_type": "execute_result"
    }
   ],
   "source": [
    "tt[:,2].std()"
   ]
  },
  {
   "cell_type": "markdown",
   "metadata": {},
   "source": [
    "What are the 87.2th percentile of each columns? [Hint: try to search on google numpy percentile]"
   ]
  },
  {
   "cell_type": "code",
   "execution_count": 9,
   "metadata": {
    "collapsed": false
   },
   "outputs": [
    {
     "data": {
      "text/plain": [
       "array([11.0, 7.0, 16.5592, 1.0, 1.0, 17.0864, 16.8], dtype=object)"
      ]
     },
     "execution_count": 9,
     "metadata": {},
     "output_type": "execute_result"
    }
   ],
   "source": [
    "percentile(tt[:,2:],87.2,axis=0)"
   ]
  },
  {
   "cell_type": "markdown",
   "metadata": {},
   "source": [
    "Try to answer previous questions but on the sample obtained only for Network 'ABN'"
   ]
  },
  {
   "cell_type": "code",
   "execution_count": 10,
   "metadata": {
    "collapsed": false
   },
   "outputs": [
    {
     "data": {
      "text/plain": [
       "array([11.0, 7.0, 16.7264, 1.0, 1.0, 18.637600000000003, 14.4], dtype=object)"
      ]
     },
     "execution_count": 10,
     "metadata": {},
     "output_type": "execute_result"
    }
   ],
   "source": [
    "percentile(tt[tt[:,1]=='\"ABN\"',2:],87.2,axis=0)"
   ]
  },
  {
   "cell_type": "markdown",
   "metadata": {},
   "source": [
    "Are you able to say what is the mean rating for each network?"
   ]
  },
  {
   "cell_type": "code",
   "execution_count": 11,
   "metadata": {
    "collapsed": false
   },
   "outputs": [
    {
     "data": {
      "text/plain": [
       "[12.715, 14.76052631578947, 13.363333333333335]"
      ]
     },
     "execution_count": 11,
     "metadata": {},
     "output_type": "execute_result"
    }
   ],
   "source": [
    "# tt[:,4].mean()\n",
    "[tt[tt[:,1]==network,4].mean() for network in ['\"BBS\"','\"ABN\"','\"CBC\"']]"
   ]
  },
  {
   "cell_type": "markdown",
   "metadata": {
    "collapsed": false
   },
   "source": [
    "and to plot them?"
   ]
  },
  {
   "cell_type": "code",
   "execution_count": 12,
   "metadata": {
    "collapsed": false
   },
   "outputs": [
    {
     "data": {
      "image/png": "[encoded data removed]",
      "text/plain": [
       "<matplotlib.figure.Figure at 0x7f6210d3e510>"
      ]
     },
     "metadata": {},
     "output_type": "display_data"
    }
   ],
   "source": [
    "bar(arange(3)-.4,[tt[tt[:,1]==network,4].mean() for network in ['\"BBS\"','\"ABN\"','\"CBC\"']])\n",
    "xticks(range(3),['\"BBS\"','\"ABN\"','\"CBC\"'])\n",
    "ylabel('mean rating')\n",
    "show()"
   ]
  },
  {
   "cell_type": "code",
   "execution_count": 13,
   "metadata": {
    "collapsed": false
   },
   "outputs": [
    {
     "data": {
      "image/png": "[encoded data removed]",
      "text/plain": [
       "<matplotlib.figure.Figure at 0x7f61f2fbf9d0>"
      ]
     },
     "metadata": {},
     "output_type": "display_data"
    }
   ],
   "source": [
    "plot(arange(3),[tt[tt[:,1]==network,4].mean() for network in ['\"BBS\"','\"ABN\"','\"CBC\"']],'o')\n",
    "xticks(range(3),['\"BBS\"','\"ABN\"','\"CBC\"'])\n",
    "xlim(-1,3)\n",
    "ylabel('mean rating')\n",
    "show()"
   ]
  },
  {
   "cell_type": "markdown",
   "metadata": {},
   "source": [
    "Are you able to plot the histogram of the movies ratings?"
   ]
  },
  {
   "cell_type": "code",
   "execution_count": 14,
   "metadata": {
    "collapsed": false
   },
   "outputs": [
    {
     "data": {
      "image/png": "[encoded data removed]",
      "text/plain": [
       "<matplotlib.figure.Figure at 0x7f61f2dd9250>"
      ]
     },
     "metadata": {},
     "output_type": "display_data"
    }
   ],
   "source": [
    "hist(tt[:,4],10)\n",
    "ylabel('frequency')\n",
    "show()"
   ]
  },
  {
   "cell_type": "markdown",
   "metadata": {},
   "source": [
    "some quesitons on linear regression assumptions?"
   ]
  },
  {
   "cell_type": "markdown",
   "metadata": {},
   "source": [
    "# Something new: [boxplot](http://matplotlib.org/api/pyplot_api.html#matplotlib.pyplot.boxplot)"
   ]
  },
  {
   "cell_type": "code",
   "execution_count": 15,
   "metadata": {
    "collapsed": false
   },
   "outputs": [
    {
     "data": {
      "text/plain": [
       "<matplotlib.text.Text at 0x7f61f2d4eb50>"
      ]
     },
     "execution_count": 15,
     "metadata": {},
     "output_type": "execute_result"
    },
    {
     "data": {
      "image/png": "[encoded data removed]",
      "text/plain": [
       "<matplotlib.figure.Figure at 0x7f61f2d1fd50>"
      ]
     },
     "metadata": {},
     "output_type": "display_data"
    }
   ],
   "source": [
    "boxplot([list(tt[tt[:,1]=='\"ABN\"',4]),list(tt[tt[:,1]=='\"CBC\"',4]),list(tt[tt[:,1]=='\"BBS\"',4])],labels=['ABN','CBC','BBS'])\n",
    "ylabel('rating')"
   ]
  },
  {
   "cell_type": "markdown",
   "metadata": {},
   "source": [
    "Are you able to comment the previous plot?"
   ]
  },
  {
   "cell_type": "markdown",
   "metadata": {
    "collapsed": true
   },
   "source": [
    "ABN network has the largest mean and the narrowest interquartile range, followed by CBC and BBS. CBC has a large variability, while BBS is the network with the narrowest variability."
   ]
  },
  {
   "cell_type": "markdown",
   "metadata": {},
   "source": [
    "### a more \"pythonic\" solution"
   ]
  },
  {
   "cell_type": "code",
   "execution_count": 16,
   "metadata": {
    "collapsed": true
   },
   "outputs": [],
   "source": [
    "network=set(tt[:,1])"
   ]
  },
  {
   "cell_type": "code",
   "execution_count": 17,
   "metadata": {
    "collapsed": false
   },
   "outputs": [
    {
     "data": {
      "text/plain": [
       "<matplotlib.text.Text at 0x7f61f2cdbfd0>"
      ]
     },
     "execution_count": 17,
     "metadata": {},
     "output_type": "execute_result"
    },
    {
     "data": {
      "image/png": "[encoded data removed]",
      "text/plain": [
       "<matplotlib.figure.Figure at 0x7f61f2dd9a10>"
      ]
     },
     "metadata": {},
     "output_type": "display_data"
    }
   ],
   "source": [
    "boxplot([list(tt[tt[:,1]==netw,4]) for netw in network],labels=network)\n",
    "ylabel('rating')"
   ]
  },
  {
   "cell_type": "markdown",
   "metadata": {},
   "source": [
    "### Exercise\n",
    "Use the boxplot to show ratings for the following two groups: \n",
    "* movies with at least a stars \n",
    "* movies without stars"
   ]
  },
  {
   "cell_type": "code",
   "execution_count": 18,
   "metadata": {
    "collapsed": false
   },
   "outputs": [
    {
     "data": {
      "text/plain": [
       "<matplotlib.text.Text at 0x7f61f2b3c950>"
      ]
     },
     "execution_count": 18,
     "metadata": {},
     "output_type": "execute_result"
    },
    {
     "data": {
      "image/png": "[encoded data removed]",
      "text/plain": [
       "<matplotlib.figure.Figure at 0x7f61f2eac450>"
      ]
     },
     "metadata": {},
     "output_type": "display_data"
    }
   ],
   "source": [
    "boxplot([list(tt[tt[:,-3]==0,4]),list(tt[tt[:,-3]>0,4])],labels=['no stars','stars'])\n",
    "ylabel('rating')"
   ]
  },
  {
   "cell_type": "markdown",
   "metadata": {},
   "source": [
    "Use the boxplot to show ratings for the following two groups: \n",
    "* fictional-movies \n",
    "* fact-movies"
   ]
  },
  {
   "cell_type": "code",
   "execution_count": 19,
   "metadata": {
    "collapsed": false
   },
   "outputs": [
    {
     "data": {
      "text/plain": [
       "<matplotlib.text.Text at 0x7f61f2a709d0>"
      ]
     },
     "execution_count": 19,
     "metadata": {},
     "output_type": "execute_result"
    },
    {
     "data": {
      "image/png": "[encoded data removed]",
      "text/plain": [
       "<matplotlib.figure.Figure at 0x7f61f2e97090>"
      ]
     },
     "metadata": {},
     "output_type": "display_data"
    }
   ],
   "source": [
    "boxplot([list(tt[tt[:,-4]==0,4]),list(tt[tt[:,-4]>0,4])],labels=['fictional','fact'])\n",
    "ylabel('rating')"
   ]
  },
  {
   "cell_type": "markdown",
   "metadata": {},
   "source": [
    "# Correlation\n",
    "With a plot try explore if there is any association between the variable <i>rating</i> and the variable <i>previous rating</i>"
   ]
  },
  {
   "cell_type": "code",
   "execution_count": 20,
   "metadata": {
    "collapsed": false
   },
   "outputs": [
    {
     "data": {
      "text/plain": [
       "<matplotlib.text.Text at 0x7f61f29c6e50>"
      ]
     },
     "execution_count": 20,
     "metadata": {},
     "output_type": "execute_result"
    },
    {
     "data": {
      "image/png": "[encoded data removed]",
      "text/plain": [
       "<matplotlib.figure.Figure at 0x7f61f2efa4d0>"
      ]
     },
     "metadata": {},
     "output_type": "display_data"
    }
   ],
   "source": [
    "plot(tt[:,4],tt[:,-2],'o')\n",
    "xlabel('Rating')\n",
    "ylabel('Previous rating')"
   ]
  },
  {
   "cell_type": "markdown",
   "metadata": {},
   "source": [
    "### [Pearson](https://docs.scipy.org/doc/scipy/reference/generated/scipy.stats.pearsonr.html#scipy.stats.pearsonr) Correlation"
   ]
  },
  {
   "cell_type": "code",
   "execution_count": 21,
   "metadata": {
    "collapsed": false
   },
   "outputs": [],
   "source": [
    "from scipy.stats import pearsonr"
   ]
  },
  {
   "cell_type": "code",
   "execution_count": 22,
   "metadata": {
    "collapsed": false
   },
   "outputs": [
    {
     "data": {
      "text/plain": [
       "(0.48410767230660262, 1.7646845258591581e-06)"
      ]
     },
     "execution_count": 22,
     "metadata": {},
     "output_type": "execute_result"
    }
   ],
   "source": [
    "pearsonr(tt[:,4],tt[:,7])"
   ]
  },
  {
   "cell_type": "markdown",
   "metadata": {},
   "source": [
    "Are you able to comment the previous result? Hint: <i>?pearsonr</i> or <i>help(pearsonr)</i>"
   ]
  },
  {
   "cell_type": "markdown",
   "metadata": {
    "collapsed": true
   },
   "source": [
    "The first value is the Pearson correlation coefficient, the second is the p-value. Since the coefficient is positive we have a first insight that the two variables are, weakly, correlated. Remember that this coefficient ranges from -1 (negative correlation) to 0 (no correlation) to 1 (positive correlation). The p-value is quite low, thus we could not exclude the association between the two variables."
   ]
  },
  {
   "cell_type": "markdown",
   "metadata": {},
   "source": [
    "### [Spearman](https://docs.scipy.org/doc/scipy/reference/generated/scipy.stats.spearmanr.html) Correlation\n"
   ]
  },
  {
   "cell_type": "code",
   "execution_count": 23,
   "metadata": {
    "collapsed": false
   },
   "outputs": [],
   "source": [
    "from scipy.stats import spearmanr"
   ]
  },
  {
   "cell_type": "code",
   "execution_count": 24,
   "metadata": {
    "collapsed": false
   },
   "outputs": [
    {
     "data": {
      "text/plain": [
       "(0.52870439323700236, 1.1907586936796377e-07)"
      ]
     },
     "execution_count": 24,
     "metadata": {},
     "output_type": "execute_result"
    }
   ],
   "source": [
    "spearmanr(tt[:,4],tt[:,7])"
   ]
  },
  {
   "cell_type": "markdown",
   "metadata": {},
   "source": [
    "### Exercise\n",
    "Try to answer the following question: What is the correlation between the rating a movie received on a network and the mean of the rating the two competing networks received in the same time. (Use all the tool that you want)"
   ]
  },
  {
   "cell_type": "markdown",
   "metadata": {},
   "source": [
    "We could plot the two variables"
   ]
  },
  {
   "cell_type": "code",
   "execution_count": 25,
   "metadata": {
    "collapsed": false
   },
   "outputs": [
    {
     "data": {
      "text/plain": [
       "<matplotlib.text.Text at 0x7f61ed7fabd0>"
      ]
     },
     "execution_count": 25,
     "metadata": {},
     "output_type": "execute_result"
    },
    {
     "data": {
      "image/png": "[encoded data removed]",
      "text/plain": [
       "<matplotlib.figure.Figure at 0x7f61edf89390>"
      ]
     },
     "metadata": {},
     "output_type": "display_data"
    }
   ],
   "source": [
    "plot(tt[:,4],tt[:,-1],'o')\n",
    "xlabel('Rating')\n",
    "ylabel('Previous rating')"
   ]
  },
  {
   "cell_type": "markdown",
   "metadata": {},
   "source": [
    "or we could calculate the Pearson coefficient"
   ]
  },
  {
   "cell_type": "code",
   "execution_count": 26,
   "metadata": {
    "collapsed": false
   },
   "outputs": [
    {
     "data": {
      "text/plain": [
       "(-0.20548568615265045, 0.054780369888899449)"
      ]
     },
     "execution_count": 26,
     "metadata": {},
     "output_type": "execute_result"
    }
   ],
   "source": [
    "pearsonr(tt[:,4],tt[:,-1])"
   ]
  },
  {
   "cell_type": "markdown",
   "metadata": {},
   "source": [
    "or the Spearman one"
   ]
  },
  {
   "cell_type": "code",
   "execution_count": 27,
   "metadata": {
    "collapsed": false
   },
   "outputs": [
    {
     "data": {
      "text/plain": [
       "(-0.23229751312182104, 0.029415613453713366)"
      ]
     },
     "execution_count": 27,
     "metadata": {},
     "output_type": "execute_result"
    }
   ],
   "source": [
    "spearmanr(tt[:,4],tt[:,-1])"
   ]
  },
  {
   "cell_type": "markdown",
   "metadata": {},
   "source": [
    "all of this methods suggest a weak negative correlation between the two variables (i.e. as the variable <i>Rating</i> increases the variable <i>Previous rating</i> decreases)."
   ]
  },
  {
   "cell_type": "markdown",
   "metadata": {},
   "source": [
    "### Exercise"
   ]
  },
  {
   "cell_type": "code",
   "execution_count": 28,
   "metadata": {
    "collapsed": true
   },
   "outputs": [],
   "source": [
    "ya=random.rand(237)*50\n",
    "yb=exp(2.5-ya+random.randn(237)*10)"
   ]
  },
  {
   "cell_type": "markdown",
   "metadata": {},
   "source": [
    "we define two arrays of the same length: **ya** and **yb**. Plot one vs. the other. Do you think they are correlated?"
   ]
  },
  {
   "cell_type": "code",
   "execution_count": 29,
   "metadata": {
    "collapsed": false
   },
   "outputs": [
    {
     "data": {
      "text/plain": [
       "<matplotlib.text.Text at 0x7f61ed7f2910>"
      ]
     },
     "execution_count": 29,
     "metadata": {},
     "output_type": "execute_result"
    },
    {
     "data": {
      "image/png": "[encoded data removed]",
      "text/plain": [
       "<matplotlib.figure.Figure at 0x7f61ed71ea50>"
      ]
     },
     "metadata": {},
     "output_type": "display_data"
    }
   ],
   "source": [
    "plot(ya,yb,'o')\n",
    "xlabel('ya')\n",
    "ylabel('yb')"
   ]
  },
  {
   "cell_type": "markdown",
   "metadata": {},
   "source": [
    "From the previous plot they do not seem to be correlated! But look to the following plot:"
   ]
  },
  {
   "cell_type": "code",
   "execution_count": 30,
   "metadata": {
    "collapsed": false
   },
   "outputs": [
    {
     "data": {
      "text/plain": [
       "<matplotlib.text.Text at 0x7f61f2a83810>"
      ]
     },
     "execution_count": 30,
     "metadata": {},
     "output_type": "execute_result"
    },
    {
     "data": {
      "image/png": "[encoded data removed]",
      "text/plain": [
       "<matplotlib.figure.Figure at 0x7f61ed739490>"
      ]
     },
     "metadata": {},
     "output_type": "display_data"
    }
   ],
   "source": [
    "semilogy(ya,yb,'o')\n",
    "xlabel('ya')\n",
    "ylabel('yb')"
   ]
  },
  {
   "cell_type": "markdown",
   "metadata": {},
   "source": [
    "Try to quantify the correlation:"
   ]
  },
  {
   "cell_type": "markdown",
   "metadata": {},
   "source": [
    "we could calculate the Pearson coefficient"
   ]
  },
  {
   "cell_type": "code",
   "execution_count": 31,
   "metadata": {
    "collapsed": false
   },
   "outputs": [
    {
     "data": {
      "text/plain": [
       "(-0.082743529074110242, 0.20434719513336702)"
      ]
     },
     "execution_count": 31,
     "metadata": {},
     "output_type": "execute_result"
    }
   ],
   "source": [
    "pearsonr(ya,yb)"
   ]
  },
  {
   "cell_type": "markdown",
   "metadata": {},
   "source": [
    "which suggest a very weak negative correlation. If we try with the Spearman:"
   ]
  },
  {
   "cell_type": "code",
   "execution_count": 32,
   "metadata": {
    "collapsed": false
   },
   "outputs": [
    {
     "data": {
      "text/plain": [
       "(-0.85617469472234287, 2.4608194849512098e-69)"
      ]
     },
     "execution_count": 32,
     "metadata": {},
     "output_type": "execute_result"
    }
   ],
   "source": [
    "spearmanr(ya,yb)"
   ]
  },
  {
   "cell_type": "markdown",
   "metadata": {},
   "source": [
    "we found a strong negative correlation. However, if we re-do the Pearson with logarithmic version of the second variable:"
   ]
  },
  {
   "cell_type": "code",
   "execution_count": 33,
   "metadata": {
    "collapsed": false
   },
   "outputs": [
    {
     "data": {
      "text/plain": [
       "(-0.84491120569488298, 8.5845694589030567e-66)"
      ]
     },
     "execution_count": 33,
     "metadata": {},
     "output_type": "execute_result"
    }
   ],
   "source": [
    "pearsonr(ya,log(yb))"
   ]
  },
  {
   "cell_type": "markdown",
   "metadata": {},
   "source": [
    "We found again a strong negative correlation. We could re-do the Spearman on the previous variables:"
   ]
  },
  {
   "cell_type": "code",
   "execution_count": 34,
   "metadata": {
    "collapsed": false
   },
   "outputs": [
    {
     "data": {
      "text/plain": [
       "(-0.85617469472234287, 2.4608194849512098e-69)"
      ]
     },
     "execution_count": 34,
     "metadata": {},
     "output_type": "execute_result"
    }
   ],
   "source": [
    "spearmanr(ya,log(yb))"
   ]
  },
  {
   "cell_type": "markdown",
   "metadata": {},
   "source": [
    "but the result does not change from the previous Spearman. Why? (hint: the logarithmic function is a monotone function and the Spearman works on ranks.)"
   ]
  },
  {
   "cell_type": "markdown",
   "metadata": {},
   "source": [
    "### Exercise"
   ]
  },
  {
   "cell_type": "code",
   "execution_count": 35,
   "metadata": {
    "collapsed": false
   },
   "outputs": [],
   "source": [
    "yc1=random.rand(123)*2\n",
    "yc2=random.rand(17)*2\n",
    "yd=hstack([11.+yc1+random.randn(123)*1.5,11.+yc2+random.randn(17)*50.])\n",
    "yc=hstack([yc1,yc2])"
   ]
  },
  {
   "cell_type": "markdown",
   "metadata": {},
   "source": [
    "we define two arrays of the same length: **yc** and **yd**. Are they correlated?"
   ]
  },
  {
   "cell_type": "code",
   "execution_count": 36,
   "metadata": {
    "collapsed": false
   },
   "outputs": [
    {
     "data": {
      "text/plain": [
       "<matplotlib.text.Text at 0x7f61ed58d1d0>"
      ]
     },
     "execution_count": 36,
     "metadata": {},
     "output_type": "execute_result"
    },
    {
     "data": {
      "image/png": "[encoded data removed]",
      "text/plain": [
       "<matplotlib.figure.Figure at 0x7f61ed739450>"
      ]
     },
     "metadata": {},
     "output_type": "display_data"
    }
   ],
   "source": [
    "plot(yc,yd,'o')\n",
    "xlabel('yc')\n",
    "ylabel('yd')"
   ]
  },
  {
   "cell_type": "markdown",
   "metadata": {},
   "source": [
    "they seem to be positive correlated. Let's try to quantify it:"
   ]
  },
  {
   "cell_type": "code",
   "execution_count": 37,
   "metadata": {
    "collapsed": false
   },
   "outputs": [
    {
     "data": {
      "text/plain": [
       "(0.0068054964077984758, 0.93639417100570721)"
      ]
     },
     "execution_count": 37,
     "metadata": {},
     "output_type": "execute_result"
    }
   ],
   "source": [
    "pearsonr(yc,yd)"
   ]
  },
  {
   "cell_type": "markdown",
   "metadata": {},
   "source": [
    "The Pearson coefficient is almosto zero (i.e. no correlation) but positive but the p-value is quite high, suggesting the sign (positive and thus the correlation) is not statistically significant. Let's take look to the Spearman coefficient:"
   ]
  },
  {
   "cell_type": "code",
   "execution_count": 38,
   "metadata": {
    "collapsed": false
   },
   "outputs": [
    {
     "data": {
      "text/plain": [
       "(0.25526666812446697, 0.0023355629734367932)"
      ]
     },
     "execution_count": 38,
     "metadata": {},
     "output_type": "execute_result"
    }
   ],
   "source": [
    "spearmanr(yc,yd)"
   ]
  },
  {
   "cell_type": "markdown",
   "metadata": {},
   "source": [
    "It is positive and statistically significant. Why do we have such different results? The point is that the Pearson coefficient is quite sensitive to the presence of outliers (remember the assumptions!). Let's try to evaluate to re-do the analysis after removing outliers."
   ]
  },
  {
   "cell_type": "code",
   "execution_count": 39,
   "metadata": {
    "collapsed": false
   },
   "outputs": [
    {
     "data": {
      "image/png": "[encoded data removed]",
      "text/plain": [
       "<matplotlib.figure.Figure at 0x7f61ed4e2610>"
      ]
     },
     "metadata": {},
     "output_type": "display_data"
    }
   ],
   "source": [
    "hist(yd,linspace(-40,40,100))\n",
    "ylabel('frequency')\n",
    "xlabel('yd')\n",
    "show()"
   ]
  },
  {
   "cell_type": "code",
   "execution_count": 40,
   "metadata": {
    "collapsed": false
   },
   "outputs": [
    {
     "data": {
      "text/plain": [
       "(0.33641289660483809, 0.00012513260658390474)"
      ]
     },
     "execution_count": 40,
     "metadata": {},
     "output_type": "execute_result"
    }
   ],
   "source": [
    "pearsonr(yc[(yd<=20)&(yd>=7)],yd[(yd<=20)&(yd>=7)])"
   ]
  },
  {
   "cell_type": "markdown",
   "metadata": {},
   "source": [
    "# Comparing two samples: KS\n",
    "### Exercise\n",
    "Use the Kolmogorov-Smirnov test to say if movies with at least a star receive different ratings from moviews without stars."
   ]
  },
  {
   "cell_type": "code",
   "execution_count": 41,
   "metadata": {
    "collapsed": false
   },
   "outputs": [],
   "source": [
    "from scipy.stats import ks_2samp"
   ]
  },
  {
   "cell_type": "code",
   "execution_count": 42,
   "metadata": {
    "collapsed": false
   },
   "outputs": [
    {
     "data": {
      "text/plain": [
       "(0.20261437908496732, 0.32178662567692801)"
      ]
     },
     "execution_count": 42,
     "metadata": {},
     "output_type": "execute_result"
    }
   ],
   "source": [
    "ks_2samp(tt[tt[:,-3]==0,4],tt[tt[:,-3]>0,4])"
   ]
  },
  {
   "cell_type": "markdown",
   "metadata": {},
   "source": [
    "First result of previous test is the Kolmogorov-Smirnov statistic, the second is the p-value. From previous test, since the p-value is quite large, we could not say that the distributions of the two samples are the same."
   ]
  },
  {
   "cell_type": "markdown",
   "metadata": {},
   "source": [
    "Let's say that for some reasons we do not believe the result of this test (e.g. data do not meet the assumptions). Therefore, you would like to use a boostrap method to evaluate the KS statistic previously evaluated (i.e. the statistic that you get is it a matter of chance or not?)"
   ]
  },
  {
   "cell_type": "code",
   "execution_count": 43,
   "metadata": {
    "collapsed": true
   },
   "outputs": [],
   "source": [
    "rating=tt[:,4].copy()\n",
    "star=tt[:,6].copy()"
   ]
  },
  {
   "cell_type": "code",
   "execution_count": 44,
   "metadata": {
    "collapsed": true
   },
   "outputs": [],
   "source": [
    "from scipy.stats import ks_2samp"
   ]
  },
  {
   "cell_type": "code",
   "execution_count": 45,
   "metadata": {
    "collapsed": false
   },
   "outputs": [],
   "source": [
    "res=[]\n",
    "for el in range(1000):\n",
    "    shuffle(star)\n",
    "    res.append(ks_2samp(rating[star<1],rating[star>=1])[0])"
   ]
  },
  {
   "cell_type": "code",
   "execution_count": 46,
   "metadata": {
    "collapsed": false
   },
   "outputs": [
    {
     "data": {
      "text/plain": [
       "(array([  13.,   53.,  118.,  179.,  146.,  131.,  102.,   91.,   56.,\n",
       "          51.,   26.,   15.,    5.,    6.,    4.,    2.,    1.,    0.,\n",
       "           0.,    1.]),\n",
       " array([ 0.05882353,  0.08044662,  0.10206972,  0.12369281,  0.1453159 ,\n",
       "         0.166939  ,  0.18856209,  0.21018519,  0.23180828,  0.25343137,\n",
       "         0.27505447,  0.29667756,  0.31830065,  0.33992375,  0.36154684,\n",
       "         0.38316993,  0.40479303,  0.42641612,  0.44803922,  0.46966231,\n",
       "         0.4912854 ]),\n",
       " <a list of 20 Patch objects>)"
      ]
     },
     "execution_count": 46,
     "metadata": {},
     "output_type": "execute_result"
    },
    {
     "data": {
      "image/png": "[encoded data removed]",
      "text/plain": [
       "<matplotlib.figure.Figure at 0x7f61f295a750>"
      ]
     },
     "metadata": {},
     "output_type": "display_data"
    }
   ],
   "source": [
    "hist(res,20)"
   ]
  },
  {
   "cell_type": "code",
   "execution_count": 47,
   "metadata": {
    "collapsed": false
   },
   "outputs": [
    {
     "name": "stdout",
     "output_type": "stream",
     "text": [
      "more than 297 reshuffled samples (over 1000) have a KS statistic larger than 0.202614\n"
     ]
    }
   ],
   "source": [
    "print 'more than %g reshuffled samples (over %g) have a KS statistic larger than %g'%(sum(res>ks_2samp(tt[tt[:,6]<1,4],tt[tt[:,6]>=1,4])[0]),len(res),ks_2samp(tt[tt[:,6]<1,4],tt[tt[:,6]>=1,4])[0])"
   ]
  },
  {
   "cell_type": "markdown",
   "metadata": {},
   "source": [
    "### Exercise\n",
    "Are the ratings for movies based on true events different from the fictional ones?"
   ]
  },
  {
   "cell_type": "code",
   "execution_count": 48,
   "metadata": {
    "collapsed": false
   },
   "outputs": [
    {
     "data": {
      "text/plain": [
       "(0.3611111111111111, 0.0054819316875556875)"
      ]
     },
     "execution_count": 48,
     "metadata": {},
     "output_type": "execute_result"
    }
   ],
   "source": [
    "ks_2samp(tt[tt[:,-4]==0,4],tt[tt[:,-4]==1,4])"
   ]
  },
  {
   "cell_type": "markdown",
   "metadata": {},
   "source": [
    "From the Kolmogorov-Smirnov test we could conclude that we can reject the hypothesis that the distributions of the two samples are the same."
   ]
  },
  {
   "cell_type": "markdown",
   "metadata": {},
   "source": [
    "# Linear Regressions\n",
    "A useful library to perform **linear regressions** and other statistical procedures is [StatsModels](http://statsmodels.sourceforge.net/). To import it:"
   ]
  },
  {
   "cell_type": "code",
   "execution_count": 49,
   "metadata": {
    "collapsed": true
   },
   "outputs": [],
   "source": [
    "import statsmodels.api as sm"
   ]
  },
  {
   "cell_type": "markdown",
   "metadata": {},
   "source": [
    "## [Ordinary Least Squares](http://statsmodels.sourceforge.net/devel/generated/statsmodels.regression.linear_model.OLS.html)\n",
    "Let's try to evaluate the relationship between the movies **rating** and the following two explanatory variables:\n",
    "* **previous rating**, rating for program immediately preceding movie on same network\n",
    "* **competition**, average of ratings received by the two competing networks during the movie's broadcast"
   ]
  },
  {
   "cell_type": "code",
   "execution_count": 50,
   "metadata": {
    "collapsed": false
   },
   "outputs": [],
   "source": [
    "res=sm.OLS(tt[:,4].astype(float),tt[:,[-2,-1]].astype(float)).fit()"
   ]
  },
  {
   "cell_type": "code",
   "execution_count": 51,
   "metadata": {
    "collapsed": false,
    "scrolled": true
   },
   "outputs": [
    {
     "name": "stdout",
     "output_type": "stream",
     "text": [
      "                            OLS Regression Results                            \n",
      "==============================================================================\n",
      "Dep. Variable:                      y   R-squared:                       0.000\n",
      "Model:                            OLS   Adj. R-squared:                 -0.011\n",
      "Method:                 Least Squares   F-statistic:                   0.03723\n",
      "Date:                Thu, 27 Oct 2016   Prob (F-statistic):              0.847\n",
      "Time:                        10:21:08   Log-Likelihood:                -206.48\n",
      "No. Observations:                  88   AIC:                             417.0\n",
      "Df Residuals:                      86   BIC:                             421.9\n",
      "Df Model:                           1                                         \n",
      "==============================================================================\n",
      "                 coef    std err          t      P>|t|      [95.0% Conf. Int.]\n",
      "------------------------------------------------------------------------------\n",
      "x1             0.6295      0.064      9.797      0.000         0.502     0.757\n",
      "x2             0.3557      0.064      5.573      0.000         0.229     0.483\n",
      "==============================================================================\n",
      "Omnibus:                        0.006   Durbin-Watson:                   2.034\n",
      "Prob(Omnibus):                  0.997   Jarque-Bera (JB):                0.056\n",
      "Skew:                           0.007   Prob(JB):                        0.972\n",
      "Kurtosis:                       2.877   Cond. No.                         6.51\n",
      "==============================================================================\n"
     ]
    }
   ],
   "source": [
    "print res.summary()"
   ]
  },
  {
   "cell_type": "markdown",
   "metadata": {},
   "source": [
    "#### exercise\n",
    "are you able to comment the results? Are they good or not?"
   ]
  },
  {
   "cell_type": "markdown",
   "metadata": {
    "collapsed": true
   },
   "source": [
    "Looking to the $R^2$ or the adjusted $R^2$ the results are not good at all."
   ]
  },
  {
   "cell_type": "markdown",
   "metadata": {},
   "source": [
    "A useful visualization to evaluate the performance of the model is the following"
   ]
  },
  {
   "cell_type": "code",
   "execution_count": 52,
   "metadata": {
    "collapsed": false
   },
   "outputs": [
    {
     "data": {
      "text/plain": [
       "(5, 25)"
      ]
     },
     "execution_count": 52,
     "metadata": {},
     "output_type": "execute_result"
    },
    {
     "data": {
      "image/png": "[encoded data removed]",
      "text/plain": [
       "<matplotlib.figure.Figure at 0x7f61ed429690>"
      ]
     },
     "metadata": {},
     "output_type": "display_data"
    }
   ],
   "source": [
    "plot(res.fittedvalues,tt[:,4],'o')\n",
    "plot([0,30],[0,30],'r')\n",
    "ylabel('real values')\n",
    "xlabel('predict values')\n",
    "xlim(5,25)\n",
    "ylim(5,25)"
   ]
  },
  {
   "cell_type": "markdown",
   "metadata": {},
   "source": [
    "### Adding the intercept\n",
    "Previous model that we tested was **rating ~ previous rating + competition**. We would like to add an intercept to our model. To do so in statsmodel we have to add a list of ones to the explenatory variables with the command **add_constant**"
   ]
  },
  {
   "cell_type": "code",
   "execution_count": 53,
   "metadata": {
    "collapsed": true
   },
   "outputs": [],
   "source": [
    "from statsmodels.tools import add_constant"
   ]
  },
  {
   "cell_type": "code",
   "execution_count": 54,
   "metadata": {
    "collapsed": false,
    "scrolled": true
   },
   "outputs": [
    {
     "name": "stderr",
     "output_type": "stream",
     "text": [
      "/usr/lib/pymodules/python2.7/statsmodels/tools/tools.py:306: FutureWarning: The default of `prepend` will be changed to True in 0.5.0, use explicit prepend\n",
      "  FutureWarning)\n"
     ]
    }
   ],
   "source": [
    "res=sm.OLS(tt[:,4].astype(float),add_constant(tt[:,[-2,-1]].astype(float))).fit()"
   ]
  },
  {
   "cell_type": "code",
   "execution_count": 55,
   "metadata": {
    "collapsed": false,
    "scrolled": true
   },
   "outputs": [
    {
     "name": "stdout",
     "output_type": "stream",
     "text": [
      "                            OLS Regression Results                            \n",
      "==============================================================================\n",
      "Dep. Variable:                      y   R-squared:                       0.246\n",
      "Model:                            OLS   Adj. R-squared:                  0.229\n",
      "Method:                 Least Squares   F-statistic:                     13.90\n",
      "Date:                Thu, 27 Oct 2016   Prob (F-statistic):           6.00e-06\n",
      "Time:                        10:21:08   Log-Likelihood:                -194.05\n",
      "No. Observations:                  88   AIC:                             394.1\n",
      "Df Residuals:                      85   BIC:                             401.5\n",
      "Df Model:                           2                                         \n",
      "==============================================================================\n",
      "                 coef    std err          t      P>|t|      [95.0% Conf. Int.]\n",
      "------------------------------------------------------------------------------\n",
      "x1             0.3628      0.076      4.799      0.000         0.212     0.513\n",
      "x2            -0.1247      0.107     -1.167      0.247        -0.337     0.088\n",
      "const         10.5757      2.008      5.268      0.000         6.584    14.568\n",
      "==============================================================================\n",
      "Omnibus:                        0.346   Durbin-Watson:                   1.828\n",
      "Prob(Omnibus):                  0.841   Jarque-Bera (JB):                0.494\n",
      "Skew:                           0.124   Prob(JB):                        0.781\n",
      "Kurtosis:                       2.729   Cond. No.                         168.\n",
      "==============================================================================\n"
     ]
    }
   ],
   "source": [
    "print res.summary()"
   ]
  },
  {
   "cell_type": "markdown",
   "metadata": {},
   "source": [
    "#### Exercise\n",
    "Is this model better than the previous? How could you say that?"
   ]
  },
  {
   "cell_type": "markdown",
   "metadata": {
    "collapsed": true
   },
   "source": [
    "Yes, the model is better than the previous: the $R^2# is larger, the AIC and BIC are lower."
   ]
  },
  {
   "cell_type": "markdown",
   "metadata": {},
   "source": [
    "#### Exercise\n",
    "Are the variables used in this model all useful? What variable will you choose to drop from the model? Fit that model and evaluate it."
   ]
  },
  {
   "cell_type": "code",
   "execution_count": 56,
   "metadata": {
    "collapsed": true
   },
   "outputs": [],
   "source": [
    "#solution\n",
    "res=sm.OLS(tt[:,4].astype(float),add_constant(tt[:,[-2]].astype(float))).fit()"
   ]
  },
  {
   "cell_type": "code",
   "execution_count": 57,
   "metadata": {
    "collapsed": false
   },
   "outputs": [
    {
     "name": "stdout",
     "output_type": "stream",
     "text": [
      "                            OLS Regression Results                            \n",
      "==============================================================================\n",
      "Dep. Variable:                      y   R-squared:                       0.234\n",
      "Model:                            OLS   Adj. R-squared:                  0.225\n",
      "Method:                 Least Squares   F-statistic:                     26.32\n",
      "Date:                Thu, 27 Oct 2016   Prob (F-statistic):           1.76e-06\n",
      "Time:                        10:21:08   Log-Likelihood:                -194.75\n",
      "No. Observations:                  88   AIC:                             393.5\n",
      "Df Residuals:                      86   BIC:                             398.4\n",
      "Df Model:                           1                                         \n",
      "==============================================================================\n",
      "                 coef    std err          t      P>|t|      [95.0% Conf. Int.]\n",
      "------------------------------------------------------------------------------\n",
      "x1             0.3806      0.074      5.131      0.000         0.233     0.528\n",
      "const          8.5771      1.049      8.175      0.000         6.491    10.663\n",
      "==============================================================================\n",
      "Omnibus:                        0.485   Durbin-Watson:                   1.891\n",
      "Prob(Omnibus):                  0.785   Jarque-Bera (JB):                0.640\n",
      "Skew:                           0.113   Prob(JB):                        0.726\n",
      "Kurtosis:                       2.649   Cond. No.                         62.5\n",
      "==============================================================================\n"
     ]
    }
   ],
   "source": [
    "print res.summary()"
   ]
  },
  {
   "cell_type": "markdown",
   "metadata": {},
   "source": [
    "Now all the used variables are statistically significant. Unfortunately, the $R^2$ is a little lower than in the previous model. But the AIC and the BIC are lower than in previous version, suggesting this model is better."
   ]
  },
  {
   "cell_type": "markdown",
   "metadata": {},
   "source": [
    "#### Exercise\n",
    "With this model plot the real data and the fitted linear model. (Remember, there are several ways to do. The one that use some of the statsmodel features will give in next line)."
   ]
  },
  {
   "cell_type": "code",
   "execution_count": 58,
   "metadata": {
    "collapsed": false
   },
   "outputs": [
    {
     "data": {
      "text/plain": [
       "<matplotlib.legend.Legend at 0x7f61ed357a50>"
      ]
     },
     "execution_count": 58,
     "metadata": {},
     "output_type": "execute_result"
    },
    {
     "data": {
      "image/png": "[encoded data removed]",
      "text/plain": [
       "<matplotlib.figure.Figure at 0x7f61ed4a9ad0>"
      ]
     },
     "metadata": {},
     "output_type": "display_data"
    }
   ],
   "source": [
    "#solution\n",
    "plot(tt[:,-2],tt[:,4],'o',label='real data')\n",
    "plot(linspace(0,30,1000),linspace(0,30,1000)*res.params[0]+res.params[1],'-r',label='OLS')\n",
    "xlabel('previous rating')\n",
    "ylabel('rating')\n",
    "ylim(8,20)\n",
    "xlim(0,30)\n",
    "legend()"
   ]
  },
  {
   "cell_type": "code",
   "execution_count": 59,
   "metadata": {
    "collapsed": true
   },
   "outputs": [],
   "source": [
    "from statsmodels.sandbox.regression.predstd import wls_prediction_std"
   ]
  },
  {
   "cell_type": "code",
   "execution_count": 60,
   "metadata": {
    "collapsed": false
   },
   "outputs": [
    {
     "data": {
      "text/plain": [
       "(8, 20)"
      ]
     },
     "execution_count": 60,
     "metadata": {},
     "output_type": "execute_result"
    },
    {
     "data": {
      "image/png": "[encoded data removed]",
      "text/plain": [
       "<matplotlib.figure.Figure at 0x7f61ed4a9090>"
      ]
     },
     "metadata": {},
     "output_type": "display_data"
    }
   ],
   "source": [
    "prstd, iv_l, iv_u = wls_prediction_std(res)\n",
    "plot(tt[:,-2], tt[:,4], 'bo', label=\"real data\")\n",
    "plot(tt[:,-2], res.fittedvalues, 'r--', label=\"OLS\")\n",
    "plot(tt[:,-2], iv_l, 'r--')\n",
    "plot(tt[:,-2], iv_u, 'r--')\n",
    "xlim(0,30)\n",
    "ylim(8,20)"
   ]
  },
  {
   "cell_type": "markdown",
   "metadata": {},
   "source": [
    "#### Exercise\n",
    "Are you able to use all the variables in the dataset as predictors of the movie rating? Try it to use as many variables as you can."
   ]
  },
  {
   "cell_type": "code",
   "execution_count": 61,
   "metadata": {
    "collapsed": false
   },
   "outputs": [],
   "source": [
    "#solution\n",
    "res=sm.OLS(tt[:,4].astype(float),add_constant(tt[:,[2,3,5,6,7,8]].astype(float))).fit()"
   ]
  },
  {
   "cell_type": "code",
   "execution_count": 62,
   "metadata": {
    "collapsed": false
   },
   "outputs": [
    {
     "name": "stdout",
     "output_type": "stream",
     "text": [
      "                            OLS Regression Results                            \n",
      "==============================================================================\n",
      "Dep. Variable:                      y   R-squared:                       0.370\n",
      "Model:                            OLS   Adj. R-squared:                  0.324\n",
      "Method:                 Least Squares   F-statistic:                     7.940\n",
      "Date:                Thu, 27 Oct 2016   Prob (F-statistic):           9.59e-07\n",
      "Time:                        10:21:08   Log-Likelihood:                -186.14\n",
      "No. Observations:                  88   AIC:                             386.3\n",
      "Df Residuals:                      81   BIC:                             403.6\n",
      "Df Model:                           6                                         \n",
      "==============================================================================\n",
      "                 coef    std err          t      P>|t|      [95.0% Conf. Int.]\n",
      "------------------------------------------------------------------------------\n",
      "x1             0.0187      0.058      0.325      0.746        -0.096     0.133\n",
      "x2            -0.0248      0.087     -0.284      0.777        -0.198     0.149\n",
      "x3             1.8047      0.477      3.786      0.000         0.856     2.753\n",
      "x4             0.9838      0.442      2.225      0.029         0.104     1.864\n",
      "x5             0.3431      0.072      4.786      0.000         0.200     0.486\n",
      "x6            -0.1645      0.109     -1.512      0.134        -0.381     0.052\n",
      "const         10.2618      2.107      4.869      0.000         6.069    14.455\n",
      "==============================================================================\n",
      "Omnibus:                        0.136   Durbin-Watson:                   2.098\n",
      "Prob(Omnibus):                  0.934   Jarque-Bera (JB):                0.282\n",
      "Skew:                          -0.076   Prob(JB):                        0.868\n",
      "Kurtosis:                       2.768   Cond. No.                         200.\n",
      "==============================================================================\n"
     ]
    }
   ],
   "source": [
    "print res.summary()"
   ]
  },
  {
   "cell_type": "markdown",
   "metadata": {},
   "source": [
    "Would you keep all of them?"
   ]
  },
  {
   "cell_type": "markdown",
   "metadata": {
    "collapsed": true
   },
   "source": [
    "No, many of them have a very large p-values."
   ]
  },
  {
   "cell_type": "markdown",
   "metadata": {},
   "source": [
    "### Dummy variables\n",
    "Categorical variables could be not used in linear model. A workaround is to create a **dummy variables**. For instance, consider the second column of our dataset. It is filled by 'ABN', 'BBS', or 'CBC'. We could create a further column which values is one if the newtork is 'ABN' and zero otherwise. In this way we have a numerical variables that could be a useful predictor in our linear model."
   ]
  },
  {
   "cell_type": "code",
   "execution_count": 70,
   "metadata": {
    "collapsed": false
   },
   "outputs": [],
   "source": [
    "ABN=array([array([el=='\"ABN\"']) for el in tt[:,1]],float)"
   ]
  },
  {
   "cell_type": "code",
   "execution_count": 71,
   "metadata": {
    "collapsed": false
   },
   "outputs": [],
   "source": [
    "tt_dummy=append(tt,ABN,axis=1)"
   ]
  },
  {
   "cell_type": "code",
   "execution_count": 72,
   "metadata": {
    "collapsed": false
   },
   "outputs": [],
   "source": [
    "res=sm.OLS(tt_dummy[:,4].astype(float),add_constant(tt_dummy[:,[2,3,5,6,7,8,9]].astype(float))).fit()"
   ]
  },
  {
   "cell_type": "code",
   "execution_count": 73,
   "metadata": {
    "collapsed": false
   },
   "outputs": [
    {
     "name": "stdout",
     "output_type": "stream",
     "text": [
      "                            OLS Regression Results                            \n",
      "==============================================================================\n",
      "Dep. Variable:                      y   R-squared:                       0.370\n",
      "Model:                            OLS   Adj. R-squared:                  0.315\n",
      "Method:                 Least Squares   F-statistic:                     6.723\n",
      "Date:                Thu, 27 Oct 2016   Prob (F-statistic):           2.88e-06\n",
      "Time:                        10:22:26   Log-Likelihood:                -186.14\n",
      "No. Observations:                  88   AIC:                             388.3\n",
      "Df Residuals:                      80   BIC:                             408.1\n",
      "Df Model:                           7                                         \n",
      "==============================================================================\n",
      "                 coef    std err          t      P>|t|      [95.0% Conf. Int.]\n",
      "------------------------------------------------------------------------------\n",
      "x1             0.0183      0.058      0.316      0.753        -0.097     0.134\n",
      "x2            -0.0251      0.088     -0.286      0.776        -0.200     0.150\n",
      "x3             1.7998      0.484      3.721      0.000         0.837     2.762\n",
      "x4             0.9835      0.445      2.210      0.030         0.098     1.869\n",
      "x5             0.3481      0.095      3.653      0.000         0.158     0.538\n",
      "x6            -0.1686      0.121     -1.399      0.166        -0.408     0.071\n",
      "x7            -0.0545      0.678     -0.080      0.936        -1.403     1.294\n",
      "const         10.2789      2.131      4.823      0.000         6.038    14.520\n",
      "==============================================================================\n",
      "Omnibus:                        0.138   Durbin-Watson:                   2.096\n",
      "Prob(Omnibus):                  0.934   Jarque-Bera (JB):                0.275\n",
      "Skew:                          -0.080   Prob(JB):                        0.872\n",
      "Kurtosis:                       2.778   Cond. No.                         202.\n",
      "==============================================================================\n"
     ]
    }
   ],
   "source": [
    "print res.summary()"
   ]
  },
  {
   "cell_type": "markdown",
   "metadata": {},
   "source": [
    "#### Exercise\n",
    "Create a new dummy variable for network BBS and refit previous model with this new variable"
   ]
  },
  {
   "cell_type": "code",
   "execution_count": 74,
   "metadata": {
    "collapsed": false
   },
   "outputs": [
    {
     "name": "stdout",
     "output_type": "stream",
     "text": [
      "                            OLS Regression Results                            \n",
      "==============================================================================\n",
      "Dep. Variable:                      y   R-squared:                       0.415\n",
      "Model:                            OLS   Adj. R-squared:                  0.356\n",
      "Method:                 Least Squares   F-statistic:                     7.011\n",
      "Date:                Thu, 27 Oct 2016   Prob (F-statistic):           5.93e-07\n",
      "Time:                        10:22:47   Log-Likelihood:                -182.89\n",
      "No. Observations:                  88   AIC:                             383.8\n",
      "Df Residuals:                      79   BIC:                             406.1\n",
      "Df Model:                           8                                         \n",
      "==============================================================================\n",
      "                 coef    std err          t      P>|t|      [95.0% Conf. Int.]\n",
      "------------------------------------------------------------------------------\n",
      "x1             0.0053      0.057      0.094      0.926        -0.107     0.118\n",
      "x2            -0.0107      0.085     -0.126      0.900        -0.181     0.159\n",
      "x3             1.9493      0.473      4.122      0.000         1.008     2.891\n",
      "x4             1.2592      0.446      2.824      0.006         0.372     2.147\n",
      "x5             0.3557      0.092      3.847      0.000         0.172     0.540\n",
      "x6            -0.2476      0.121     -2.043      0.044        -0.489    -0.006\n",
      "x7            -0.9180      0.745     -1.232      0.222        -2.401     0.565\n",
      "x8            -1.5825      0.643     -2.460      0.016        -2.863    -0.302\n",
      "const         11.8600      2.164      5.480      0.000         7.552    16.168\n",
      "==============================================================================\n",
      "Omnibus:                        1.117   Durbin-Watson:                   2.239\n",
      "Prob(Omnibus):                  0.572   Jarque-Bera (JB):                0.967\n",
      "Skew:                          -0.255   Prob(JB):                        0.617\n",
      "Kurtosis:                       2.943   Cond. No.                         213.\n",
      "==============================================================================\n"
     ]
    }
   ],
   "source": [
    "#solution\n",
    "BBS=array([array([el=='\"BBS\"']) for el in tt[:,1]],float)\n",
    "tt_dummy=append(tt_dummy,BBS,axis=1)\n",
    "res=sm.OLS(tt_dummy[:,4].astype(float),add_constant(tt_dummy[:,[2,3,5,6,7,8,9,10]].astype(float))).fit()\n",
    "print res.summary()"
   ]
  },
  {
   "cell_type": "markdown",
   "metadata": {},
   "source": [
    "#### Exercise\n",
    "Create the following new dummy variables and fit a model with all the predictors:\n",
    "* OCT if month==10\n",
    "* DEC if mont==12\n",
    "* APR-MAY if month==4 or month==5\n",
    "* MON if day==1\n",
    "* SUN if day==7"
   ]
  },
  {
   "cell_type": "code",
   "execution_count": 75,
   "metadata": {
    "collapsed": false
   },
   "outputs": [
    {
     "name": "stdout",
     "output_type": "stream",
     "text": [
      "                            OLS Regression Results                            \n",
      "==============================================================================\n",
      "Dep. Variable:                      y   R-squared:                       0.548\n",
      "Model:                            OLS   Adj. R-squared:                  0.475\n",
      "Method:                 Least Squares   F-statistic:                     7.568\n",
      "Date:                Thu, 27 Oct 2016   Prob (F-statistic):           5.98e-09\n",
      "Time:                        10:22:50   Log-Likelihood:                -171.59\n",
      "No. Observations:                  88   AIC:                             369.2\n",
      "Df Residuals:                      75   BIC:                             401.4\n",
      "Df Model:                          12                                         \n",
      "==============================================================================\n",
      "                 coef    std err          t      P>|t|      [95.0% Conf. Int.]\n",
      "------------------------------------------------------------------------------\n",
      "x1            -0.0389      0.067     -0.585      0.560        -0.172     0.094\n",
      "x2             1.0082      0.144      7.003      0.000         0.721     1.295\n",
      "x3             1.8970      0.442      4.290      0.000         1.016     2.778\n",
      "x4             0.7435      0.423      1.758      0.083        -0.099     1.586\n",
      "x5             0.1826      0.109      1.670      0.099        -0.035     0.400\n",
      "x6            -0.2906      0.111     -2.620      0.011        -0.512    -0.070\n",
      "x7             1.0911      1.039      1.050      0.297        -0.979     3.161\n",
      "x8            -1.0411      0.603     -1.728      0.088        -2.241     0.159\n",
      "x9            -1.3329      0.775     -1.720      0.090        -2.877     0.211\n",
      "x10            1.6832      0.879      1.916      0.059        -0.067     3.434\n",
      "x11           -1.4253      0.569     -2.503      0.014        -2.560    -0.291\n",
      "x12            3.5368      1.080      3.276      0.002         1.386     5.688\n",
      "x13           -3.5046      0.726     -4.824      0.000        -4.952    -2.058\n",
      "const         11.0341      1.825      6.046      0.000         7.399    14.669\n",
      "==============================================================================\n",
      "Omnibus:                        0.390   Durbin-Watson:                   2.513\n",
      "Prob(Omnibus):                  0.823   Jarque-Bera (JB):                0.493\n",
      "Skew:                          -0.148   Prob(JB):                        0.782\n",
      "Kurtosis:                       2.783   Cond. No.                     4.41e+08\n",
      "==============================================================================\n",
      "\n",
      "The smallest eigenvalue is 2.03e-13. This might indicate that there are\n",
      "strong multicollinearity problems or that the design matrix is singular.\n"
     ]
    }
   ],
   "source": [
    "#solution\n",
    "OCT=array([array([el==10]) for el in tt[:,2]],float)\n",
    "tt_dummy=append(tt_dummy,OCT,axis=1)\n",
    "DEC=array([array([el==12]) for el in tt[:,2]],float)\n",
    "tt_dummy=append(tt_dummy,DEC,axis=1)\n",
    "APR_MAY=array([array([(el==4)|(el==5)]) for el in tt[:,2]],float)\n",
    "tt_dummy=append(tt_dummy,APR_MAY,axis=1)\n",
    "MON=array([array([el==1]) for el in tt[:,3]],float)\n",
    "tt_dummy=append(tt_dummy,MON,axis=1)\n",
    "SUN=array([array([el==7]) for el in tt[:,3]],float)\n",
    "tt_dummy=append(tt_dummy,SUN,axis=1)\n",
    "res=sm.OLS(tt_dummy[:,4].astype(float),add_constant(tt_dummy[:,[2,3,5,6,7,8,9,10,11,12,13,14,15]].astype(float))).fit()\n",
    "print res.summary()"
   ]
  },
  {
   "cell_type": "markdown",
   "metadata": {},
   "source": [
    "What about the warning that the library is printing? The point is that we are using the variables <i>month</i> and <i>OCT</i> and <i>DEC</i> which are very correlated. Therefore, let's remove the variables: <i>month</i>, <i>day</i>"
   ]
  },
  {
   "cell_type": "code",
   "execution_count": 76,
   "metadata": {
    "collapsed": false
   },
   "outputs": [
    {
     "name": "stdout",
     "output_type": "stream",
     "text": [
      "                            OLS Regression Results                            \n",
      "==============================================================================\n",
      "Dep. Variable:                      y   R-squared:                       0.546\n",
      "Model:                            OLS   Adj. R-squared:                  0.480\n",
      "Method:                 Least Squares   F-statistic:                     8.296\n",
      "Date:                Thu, 27 Oct 2016   Prob (F-statistic):           2.33e-09\n",
      "Time:                        10:22:56   Log-Likelihood:                -171.79\n",
      "No. Observations:                  88   AIC:                             367.6\n",
      "Df Residuals:                      76   BIC:                             397.3\n",
      "Df Model:                          11                                         \n",
      "==============================================================================\n",
      "                 coef    std err          t      P>|t|      [95.0% Conf. Int.]\n",
      "------------------------------------------------------------------------------\n",
      "x1             1.8945      0.440      4.303      0.000         1.018     2.771\n",
      "x2             0.7443      0.421      1.767      0.081        -0.095     1.583\n",
      "x3             0.1857      0.109      1.708      0.092        -0.031     0.402\n",
      "x4            -0.2936      0.110     -2.660      0.010        -0.513    -0.074\n",
      "x5             1.0750      1.034      1.039      0.302        -0.985     3.135\n",
      "x6            -1.0499      0.600     -1.751      0.084        -2.244     0.145\n",
      "x7            -1.5406      0.686     -2.246      0.028        -2.907    -0.174\n",
      "x8             1.3982      0.728      1.921      0.059        -0.052     2.848\n",
      "x9            -1.4038      0.566     -2.481      0.015        -2.531    -0.277\n",
      "x10            2.5286      1.001      2.525      0.014         0.534     4.523\n",
      "x11            1.5257      0.706      2.160      0.034         0.119     2.933\n",
      "const         12.8769      2.012      6.400      0.000         8.870    16.884\n",
      "==============================================================================\n",
      "Omnibus:                        0.228   Durbin-Watson:                   2.519\n",
      "Prob(Omnibus):                  0.892   Jarque-Bera (JB):                0.398\n",
      "Skew:                          -0.083   Prob(JB):                        0.820\n",
      "Kurtosis:                       2.715   Cond. No.                         208.\n",
      "==============================================================================\n"
     ]
    }
   ],
   "source": [
    "#solution\n",
    "res=sm.OLS(tt_dummy[:,4].astype(float),add_constant(tt_dummy[:,[5,6,7,8,9,10,11,12,13,14,15]].astype(float))).fit()\n",
    "print res.summary()"
   ]
  },
  {
   "cell_type": "markdown",
   "metadata": {},
   "source": [
    "#### Exercise\n",
    "Answer the following questions using the previous model: \n",
    "* you are considering to change the network programmation by replacing a show at 8pm with rating 17.5 with another with rating 20.  What would be the expected change in rating for the show at 9pm?\n",
    "* other scenario: what if ABN and BBS schedule different programs, each of which is expected to rate 2 rating points higher?"
   ]
  },
  {
   "cell_type": "code",
   "execution_count": 77,
   "metadata": {
    "collapsed": false
   },
   "outputs": [
    {
     "data": {
      "text/plain": [
       "3.5"
      ]
     },
     "execution_count": 77,
     "metadata": {},
     "output_type": "execute_result"
    }
   ],
   "source": [
    "17.5*.2"
   ]
  },
  {
   "cell_type": "code",
   "execution_count": 78,
   "metadata": {
    "collapsed": false
   },
   "outputs": [
    {
     "data": {
      "text/plain": [
       "4.0"
      ]
     },
     "execution_count": 78,
     "metadata": {},
     "output_type": "execute_result"
    }
   ],
   "source": [
    "20.*.2"
   ]
  },
  {
   "cell_type": "markdown",
   "metadata": {
    "collapsed": true
   },
   "source": [
    "* the coefficient of <i>Previous rating</i> is ~.2 therefore if <i>Previous rate</i> is 17.5 the contribution of this variable is 3.5, while if <i>Previous rate</i> is 20. the contribution of this variable is 4.\n",
    "* the  coefficient of <i>Competition</i> is ~-.2 therefore the decrease in the rate will be almost .4"
   ]
  },
  {
   "cell_type": "code",
   "execution_count": null,
   "metadata": {
    "collapsed": true
   },
   "outputs": [],
   "source": []
  }
 ],
 "metadata": {
  "kernelspec": {
   "display_name": "Python [Root]",
   "language": "python",
   "name": "Python [Root]"
  },
  "language_info": {
   "codemirror_mode": {
    "name": "ipython",
    "version": 2
   },
   "file_extension": ".py",
   "mimetype": "text/x-python",
   "name": "python",
   "nbconvert_exporter": "python",
   "pygments_lexer": "ipython2",
   "version": "2.7.12"
  }
 },
 "nbformat": 4,
 "nbformat_minor": 0
}

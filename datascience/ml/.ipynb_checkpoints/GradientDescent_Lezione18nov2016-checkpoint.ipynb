{
 "cells": [
  {
   "cell_type": "markdown",
   "metadata": {},
   "source": [
    "---\n",
    "\n",
    "# Exercises - Gradient Descent\n",
    "\n",
    "---"
   ]
  },
  {
   "cell_type": "code",
   "execution_count": 1,
   "metadata": {
    "collapsed": false
   },
   "outputs": [
    {
     "name": "stdout",
     "output_type": "stream",
     "text": [
      "Populating the interactive namespace from numpy and matplotlib\n"
     ]
    }
   ],
   "source": [
    "%pylab inline"
   ]
  },
  {
   "cell_type": "markdown",
   "metadata": {},
   "source": [
    "## Data points for a Regression problem"
   ]
  },
  {
   "cell_type": "code",
   "execution_count": 2,
   "metadata": {
    "collapsed": false
   },
   "outputs": [
    {
     "data": {
      "image/png": "[encoded data removed]",
      "text/plain": [
       "<matplotlib.figure.Figure at 0x7f9076db4290>"
      ]
     },
     "metadata": {},
     "output_type": "display_data"
    }
   ],
   "source": [
    "from sklearn import datasets\n",
    "\n",
    "X, y = datasets.make_regression(n_samples=100, n_features=1,\n",
    "                                n_informative=1, noise=10.0,\n",
    "                                random_state=42)\n",
    "plot(X, y, 'bx')\n",
    "xlabel('$x_1$')\n",
    "ylabel(\"$y$\");\n",
    "\n",
    "# devo trovare 2 pesi (un peso dove incrocia l'asse x ed uno dove incrocia l'asse y)"
   ]
  },
  {
   "cell_type": "markdown",
   "metadata": {},
   "source": [
    "### Let's prepare the data points for matrix manipulation:"
   ]
  },
  {
   "cell_type": "code",
   "execution_count": 3,
   "metadata": {
    "collapsed": false
   },
   "outputs": [],
   "source": [
    "X_ext = insert(X, 0, ones(len(X)), axis=1)\n",
    "Y = y.reshape(len(y), 1)"
   ]
  },
  {
   "cell_type": "markdown",
   "metadata": {},
   "source": [
    "## Solution 1. Ordinary Least Squares\n",
    "\n",
    "Find the weight values $\\mathbf{w}$ that minimize the error $E_{\\mathbf{in}}(\\mathbf{w}) = \\frac{1}{N} \\sum_{n=1}^n {(\\mathbf{w}^T \\mathbf{X}_n - \\mathbf{y}_n)^2}$.\n",
    "\n",
    "For this, implement Linear Regression and use the Ordinary Least Squares (OLS) closed-form expression to find the estimated values of $\\mathbf{w}$:\n",
    "\n",
    "$$\\mathbf{w} = (\\mathbf{X}^{\\rm T}\\mathbf{X})^{-1} \\mathbf{X}^{\\rm T}\\mathbf{y}$$"
   ]
  },
  {
   "cell_type": "code",
   "execution_count": 4,
   "metadata": {
    "collapsed": false
   },
   "outputs": [
    {
     "data": {
      "text/plain": [
       "array([[  1.16511532],\n",
       "       [ 44.43716999]])"
      ]
     },
     "execution_count": 4,
     "metadata": {},
     "output_type": "execute_result"
    }
   ],
   "source": [
    "W = np.linalg.inv(X_ext.T.dot(X_ext)).dot(X_ext.T).dot(Y)\n",
    "W\n",
    "# dot = prodotto matriciale tra matrici\n",
    "# W minimo: coordinata x1, y1 : vedi soluzione sotto"
   ]
  },
  {
   "cell_type": "code",
   "execution_count": 5,
   "metadata": {
    "collapsed": false
   },
   "outputs": [
    {
     "data": {
      "image/png": "[encoded data removed]",
      "text/plain": [
       "<matplotlib.figure.Figure at 0x7f9076da2d10>"
      ]
     },
     "metadata": {},
     "output_type": "display_data"
    }
   ],
   "source": [
    "plot(X, y, 'bx')\n",
    "plot(X, X_ext.dot(W), 'r.')\n",
    "xlabel('$x_1$')\n",
    "ylabel(\"$y$\");\n",
    "\n",
    "# blu: punti veri; rossi: punti dati dal modello"
   ]
  },
  {
   "cell_type": "markdown",
   "metadata": {},
   "source": [
    "## Solution 2: Batch Gradient Descent\n",
    "\n",
    "Find the weight values $\\mathbf{w}$ that minimize the error $E_{\\mathbf{in}}(\\mathbf{w}) = \\frac{1}{N} \\sum_{n=1}^n {(\\mathbf{w}^T \\mathbf{X}_n - \\mathbf{y}_n)^2}$.\n",
    "\n",
    "For this, implement the Batch Gradient Descent algorithm with $\\mathbf{s}$ learning steps and learning rate $\\alpha$.  \n",
    "At each training step, update $\\mathbf{w}$ with this rule:\n",
    "\n",
    "$$\\mathbf{w}_i := \\mathbf{w}_i - \\alpha \\left(\\left(\\mathbf{X}\\mathbf{w} - \\mathbf{y}\\right)^T\\mathbf{X}_i\\right)$$"
   ]
  },
  {
   "cell_type": "code",
   "execution_count": 6,
   "metadata": {
    "collapsed": false
   },
   "outputs": [
    {
     "name": "stdout",
     "output_type": "stream",
     "text": [
      "3680.41702145\n",
      "707.926169325\n",
      "155.499031493\n",
      "34.4144753511\n",
      "7.61928913712\n",
      "1.68692391539\n",
      "0.373488221747\n",
      "0.0826910190404\n",
      "0.0183079525554\n",
      "0.00405341632846\n",
      "0.000897434264318\n",
      "0.00019869369279\n",
      "4.39911702231e-05\n",
      "[[  1.16511527]\n",
      " [ 44.43716988]]\n"
     ]
    },
    {
     "data": {
      "image/png": "[encoded data removed]",
      "text/plain": [
       "<matplotlib.figure.Figure at 0x7f906c778a50>"
      ]
     },
     "metadata": {},
     "output_type": "display_data"
    }
   ],
   "source": [
    "# al w iniziale sottraiamo il gradiente (alpha = peso del passo, diverso dall'alpha della regolarizzazione)\n",
    "\n",
    "n, d = X_ext.shape\n",
    "s = 100 # learning steps\n",
    "alpha = 0.01 # learning rate    # se metto alpha molto piccolo il gradiente va giù molto lentamente\n",
    "\n",
    "W = zeros((d, 1))   # iniziamo i pesi a zero\n",
    "\n",
    "for step in range(s):\n",
    "    grad = (X_ext.dot(W) - Y).T.dot(X_ext).T   # calcolo il gradiente\n",
    "    W = W - alpha * grad\n",
    "    print np.linalg.norm(grad)\n",
    "    if np.linalg.norm(grad) < 1e-4:   # mi fermo quando la norma del gradiente è inferiore ad un certo valore\n",
    "        break\n",
    "\n",
    "print W\n",
    "\n",
    "plot(X, y, 'bx')\n",
    "plot(X, X_ext.dot(W), 'r.')\n",
    "xlabel('$x_1$')\n",
    "ylabel(\"$y$\");\n",
    "\n",
    "# qui sotto nella soluzione ho il gradiente; inizia con valori molto grandi e poi diminuisce"
   ]
  },
  {
   "cell_type": "code",
   "execution_count": 7,
   "metadata": {
    "collapsed": false
   },
   "outputs": [
    {
     "name": "stdout",
     "output_type": "stream",
     "text": [
      "3680.41702145\n",
      "3649.20216638\n",
      "3618.2623144\n",
      "3587.59493217\n",
      "3557.19751077\n",
      "3527.06756545\n",
      "3497.20263543\n",
      "3467.6002836\n",
      "3438.25809634\n",
      "3409.17368323\n",
      "3380.34467686\n",
      "3351.76873259\n",
      "3323.44352831\n",
      "3295.36676422\n",
      "3267.53616261\n",
      "3239.94946763\n",
      "3212.6044451\n",
      "3185.49888225\n",
      "3158.63058753\n",
      "3131.99739042\n",
      "3105.59714116\n",
      "3079.4277106\n",
      "3053.48698998\n",
      "3027.7728907\n",
      "3002.28334416\n",
      "2977.01630152\n",
      "2951.96973353\n",
      "2927.14163033\n",
      "2902.53000124\n",
      "2878.13287461\n",
      "2853.94829758\n",
      "2829.97433591\n",
      "2806.20907384\n",
      "2782.65061382\n",
      "2759.29707641\n",
      "2736.14660005\n",
      "2713.19734089\n",
      "2690.44747266\n",
      "2667.89518641\n",
      "2645.53869041\n",
      "2623.37620997\n",
      "2601.40598723\n",
      "2579.62628102\n",
      "2558.03536672\n",
      "2536.63153604\n",
      "2515.4130969\n",
      "2494.37837327\n",
      "2473.52570497\n",
      "2452.85344756\n",
      "2432.35997217\n",
      "2412.04366533\n",
      "2391.90292883\n",
      "2371.93617959\n",
      "2352.14184945\n",
      "2332.5183851\n",
      "2313.06424786\n",
      "2293.77791362\n",
      "2274.65787259\n",
      "2255.70262925\n",
      "2236.91070217\n",
      "2218.28062388\n",
      "2199.81094071\n",
      "2181.5002127\n",
      "2163.3470134\n",
      "2145.34992982\n",
      "2127.50756222\n",
      "2109.81852403\n",
      "2092.28144168\n",
      "2074.89495453\n",
      "2057.65771467\n",
      "2040.56838685\n",
      "2023.62564835\n",
      "2006.82818882\n",
      "1990.17471021\n",
      "1973.66392661\n",
      "1957.29456414\n",
      "1941.06536085\n",
      "1924.97506658\n",
      "1909.02244285\n",
      "1893.20626276\n",
      "1877.52531087\n",
      "1861.97838308\n",
      "1846.56428651\n",
      "1831.28183942\n",
      "1816.12987109\n",
      "1801.10722169\n",
      "1786.21274221\n",
      "1771.44529432\n",
      "1756.80375028\n",
      "1742.28699286\n",
      "1727.8939152\n",
      "1713.62342073\n",
      "1699.47442305\n",
      "1685.44584587\n",
      "1671.53662287\n",
      "1657.74569762\n",
      "1644.0720235\n",
      "1630.51456358\n",
      "1617.07229053\n",
      "1603.74418653\n",
      "[[ -1.12938107]\n",
      " [ 24.92649594]]\n"
     ]
    },
    {
     "data": {
      "image/png": "[encoded data removed]",
      "text/plain": [
       "<matplotlib.figure.Figure at 0x7f906c637890>"
      ]
     },
     "metadata": {},
     "output_type": "display_data"
    }
   ],
   "source": [
    "# al w iniziale sottraiamo il gradiente (alpha = peso del passo, diverso dall'alpha della regolarizzazione)\n",
    "\n",
    "n, d = X_ext.shape\n",
    "s = 100 # learning steps\n",
    "alpha = 0.0001 # learning rate    # se metto alpha molto piccolo il gradiente va giù molto lentamente\n",
    "\n",
    "W = zeros((d, 1))   # iniziamo i pesi a zero\n",
    "\n",
    "for step in range(s):\n",
    "    grad = (X_ext.dot(W) - Y).T.dot(X_ext).T   # calcolo il gradiente\n",
    "    W = W - alpha * grad\n",
    "    print np.linalg.norm(grad)\n",
    "    if np.linalg.norm(grad) < 1e-4:   # mi fermo quando la norma del gradiente è inferiore ad un certo valore\n",
    "        break\n",
    "\n",
    "print W\n",
    "\n",
    "plot(X, y, 'bx')\n",
    "plot(X, X_ext.dot(W), 'r.')\n",
    "xlabel('$x_1$')\n",
    "ylabel(\"$y$\");\n",
    "\n",
    "# qui sotto nella soluzione ho il gradiente; inizia con valori molto grandi e poi diminuisce"
   ]
  },
  {
   "cell_type": "code",
   "execution_count": 8,
   "metadata": {
    "collapsed": false
   },
   "outputs": [
    {
     "name": "stdout",
     "output_type": "stream",
     "text": [
      "3680.41702145\n",
      "12124.7922772\n",
      "42851.1920815\n",
      "162104.135821\n",
      "645279.913776\n",
      "2650025.08999\n",
      "11067132.1313\n",
      "46607877.1777\n",
      "197076470.291\n",
      "834906088.149\n",
      "3540201660.37\n",
      "15017551510.7\n",
      "63716866410.8\n",
      "270363978514.0\n",
      "1.14725892819e+12\n",
      "4.86835817787e+12\n",
      "2.06589160864e+13\n",
      "8.76666412364e+13\n",
      "3.72016372228e+14\n",
      "1.57866555686e+15\n",
      "6.69912987532e+15\n",
      "2.84280287888e+16\n",
      "1.20635501865e+17\n",
      "5.11921703594e+17\n",
      "2.17236080363e+18\n",
      "9.21850249998e+18\n",
      "3.91190950242e+19\n",
      "1.6600349119e+20\n",
      "7.04442653789e+20\n",
      "2.98933142388e+21\n",
      "1.26853510581e+22\n",
      "5.3830809858e+22\n",
      "2.28433259499e+23\n",
      "9.69365948314e+23\n",
      "4.11354434034e+24\n",
      "1.74559948897e+25\n",
      "7.40752335164e+25\n",
      "3.1434130539e+26\n",
      "1.33392028055e+27\n",
      "5.66054566918e+27\n",
      "2.40207587665e+28\n",
      "1.01933079501e+29\n",
      "4.32557222594e+29\n",
      "1.83557439581e+30\n",
      "7.78933557584e+30\n",
      "3.30543664434e+31\n",
      "1.40267565871e+32\n",
      "5.95231194916e+32\n",
      "2.52588809966e+33\n",
      "1.07187102197e+34\n",
      "4.54852884372e+34\n",
      "1.93018695516e+35\n",
      "8.19082786957e+35\n",
      "3.47581155337e+36\n",
      "1.47497495331e+37\n",
      "6.25911698461e+37\n",
      "2.65608208052e+38\n",
      "1.12711937415e+39\n",
      "4.7829775025e+39\n",
      "2.02967620946e+40\n",
      "8.61301461926e+40\n",
      "3.65496824004e+41\n",
      "1.55100083144e+42\n",
      "6.58173593079e+42\n",
      "2.79298675955e+43\n",
      "1.18521543876e+44\n",
      "5.02951054626e+44\n",
      "2.13429352232e+45\n",
      "9.05696249668e+45\n",
      "3.84335935093e+46\n",
      "1.63094537554e+47\n",
      "6.92098389743e+47\n",
      "2.93694803192e+48\n",
      "1.24630599782e+49\n",
      "5.28875085064e+49\n",
      "2.24430321357e+50\n",
      "9.52379315402e+50\n",
      "4.04146086375e+51\n",
      "1.7150105687e+52\n",
      "7.27771800817e+52\n",
      "3.08832962159e+53\n",
      "1.3105453991e+54\n",
      "5.56135339669e+54\n",
      "2.35998322714e+55\n",
      "1.00146860577e+56\n",
      "4.24977328994e+56\n",
      "1.80340880502e+57\n",
      "7.65283956608e+57\n",
      "3.24751400022e+58\n",
      "1.37809594603e+59\n",
      "5.84800692571e+59\n",
      "2.48162583321e+60\n",
      "1.05308814683e+61\n",
      "4.46882293923e+61\n",
      "1.89636342619e+62\n",
      "8.04729633085e+62\n",
      "3.41490335355e+63\n",
      "1.44912830777e+64\n",
      "6.14943567936e+64\n",
      "2.60953836674e+65\n",
      "[[  9.55999500e+63]\n",
      " [ -4.48402646e+63]]\n"
     ]
    },
    {
     "data": {
      "image/png": "[encoded data removed]",
      "text/plain": [
       "<matplotlib.figure.Figure at 0x7f9076da21d0>"
      ]
     },
     "metadata": {},
     "output_type": "display_data"
    }
   ],
   "source": [
    "# al w iniziale sottraiamo il gradiente (alpha = peso del passo, diverso dall'alpha della regolarizzazione)\n",
    "\n",
    "n, d = X_ext.shape\n",
    "s = 100 # learning steps\n",
    "alpha = 0.05 # learning rate    # se metto alpha molto grande, sbalza, non converge\n",
    "\n",
    "W = zeros((d, 1))   # iniziamo i pesi a zero\n",
    "\n",
    "for step in range(s):\n",
    "    grad = (X_ext.dot(W) - Y).T.dot(X_ext).T   # calcolo il gradiente\n",
    "    W = W - alpha * grad\n",
    "    print np.linalg.norm(grad)\n",
    "    if np.linalg.norm(grad) < 1e-4:   # mi fermo quando la norma del gradiente è inferiore ad un certo valore\n",
    "        break\n",
    "\n",
    "print W\n",
    "\n",
    "plot(X, y, 'bx')\n",
    "plot(X, X_ext.dot(W), 'r.')\n",
    "xlabel('$x_1$')\n",
    "ylabel(\"$y$\");\n",
    "\n",
    "# qui sotto nella soluzione ho il gradiente; inizia con valori molto grandi e poi diminuisce"
   ]
  },
  {
   "cell_type": "markdown",
   "metadata": {},
   "source": [
    "## Solution 3: Stochastic Gradient Descent\n",
    "\n",
    "Find the weight values $\\mathbf{w}$ that minimize the error $E_{\\mathbf{in}}(\\mathbf{w}) = \\frac{1}{N} \\sum_{n=1}^n {(\\mathbf{w}^T \\mathbf{X}_n - \\mathbf{y}_n)^2}$.\n",
    "\n",
    "For this, implement the Stochastic Gradient Descent algorithm with $\\mathbf{s}$ learning steps and learning rate $\\alpha$.\n",
    "In each step, iterate through all $j$ samples and, for each sample, update $\\mathbf{w}$ with this rule:\n",
    "\n",
    "$$\\mathbf{w}_i := \\mathbf{w}_i - \\alpha\\left(\\mathbf{X}^{(j)}\\mathbf{w} - \\mathbf{y}^{(j)}\\right)\\mathbf{X}^{(j)}_i$$"
   ]
  },
  {
   "cell_type": "code",
   "execution_count": 9,
   "metadata": {
    "collapsed": false
   },
   "outputs": [
    {
     "name": "stdout",
     "output_type": "stream",
     "text": [
      "[[  1.44684847]\n",
      " [ 44.55585676]]\n"
     ]
    },
    {
     "data": {
      "image/png": "[encoded data removed]",
      "text/plain": [
       "<matplotlib.figure.Figure at 0x7f906c59c210>"
      ]
     },
     "metadata": {},
     "output_type": "display_data"
    }
   ],
   "source": [
    "# punto per punto calcolo il gradiente e aggiorno i pesi:\n",
    "# calcolo il gradiente punto per punto\n",
    "\n",
    "n, d = X_ext.shape\n",
    "s = 200 # learning steps\n",
    "alpha = 0.01 # learning rate\n",
    "\n",
    "W = zeros((d, 1))\n",
    "\n",
    "for step in range(s):\n",
    "    for j in range(n):\n",
    "        grad = (X_ext[j].dot(W) - Y[j]).T.dot(X_ext[[j], :].reshape(1,d)).reshape(d,1)\n",
    "        W -= alpha * grad\n",
    "\n",
    "print W\n",
    "\n",
    "plot(X, y, 'bx')\n",
    "plot(X, X_ext.dot(W), 'r.')\n",
    "xlabel('$x_1$')\n",
    "ylabel(\"$y$\");"
   ]
  },
  {
   "cell_type": "markdown",
   "metadata": {},
   "source": [
    "# Solution 4: Gradient Descent with Tensorflow"
   ]
  },
  {
   "cell_type": "code",
   "execution_count": 10,
   "metadata": {
    "collapsed": false
   },
   "outputs": [],
   "source": [
    "import tensorflow as tf   # abbiamo importato questa libreria\n",
    "# la libreria calcola il gradiente numerico di ogni operazione"
   ]
  },
  {
   "cell_type": "code",
   "execution_count": 11,
   "metadata": {
    "collapsed": false
   },
   "outputs": [
    {
     "name": "stdout",
     "output_type": "stream",
     "text": [
      "142.147\n",
      "81.1592\n",
      "78.2064\n",
      "78.0617\n",
      "78.0546\n",
      "78.0543\n",
      "78.0542\n",
      "78.0542\n",
      "78.0542\n",
      "78.0542\n",
      "[[ 44.43716049]] [ 1.16511035]\n"
     ]
    },
    {
     "data": {
      "image/png": "[encoded data removed]",
      "text/plain": [
       "<matplotlib.figure.Figure at 0x7f9068c2ba10>"
      ]
     },
     "metadata": {},
     "output_type": "display_data"
    }
   ],
   "source": [
    "# model inputs: X and Y\n",
    "x_tensor = tf.placeholder(tf.float32)    # creo aree di memoria dove metto x e y\n",
    "y_tensor = tf.placeholder(tf.float32)\n",
    "\n",
    "# define the model variables\n",
    "w_tensor = tf.Variable(np.zeros((X.shape[1], 1)), dtype=tf.float32)\n",
    "b_tensor = tf.Variable([0], dtype=tf.float32)\n",
    "\n",
    "# loss function to minimize: 1/n * (x.dot(w) + b - y)^2\n",
    "y_pred = tf.matmul(x_tensor, w_tensor) + b_tensor\n",
    "loss = tf.reduce_mean(tf.square(y_pred - y_tensor))  # voglio minimizzare questa funzione (loss function)\n",
    "\n",
    "# define the gradient descent step\n",
    "learning_rate = 0.5\n",
    "train_step = tf.train.GradientDescentOptimizer(learning_rate).minimize(loss)\n",
    "\n",
    "feed_dict = {x_tensor: X, y_tensor: Y}\n",
    "\n",
    "# initialize session\n",
    "init = tf.initialize_all_variables()\n",
    "sess = tf.InteractiveSession()\n",
    "sess.run(init)\n",
    "\n",
    "try:\n",
    "    \n",
    "    for i in range(10):\n",
    "        sess.run(train_step, feed_dict=feed_dict)\n",
    "        print sess.run(loss, feed_dict=feed_dict)  # per ogni passo stampo il risultato della loss\n",
    "\n",
    "finally:\n",
    "    # collect results\n",
    "    W = sess.run(w_tensor, feed_dict=feed_dict)\n",
    "    B = sess.run(b_tensor, feed_dict=feed_dict)\n",
    "    sess.close()\n",
    "\n",
    "print W, B\n",
    "\n",
    "plot(X, y, 'bx')\n",
    "plot(X, X.dot(W)+B, 'r.')\n",
    "xlabel('$x_1$')\n",
    "ylabel(\"$y$\");"
   ]
  },
  {
   "cell_type": "code",
   "execution_count": null,
   "metadata": {
    "collapsed": true
   },
   "outputs": [],
   "source": []
  }
 ],
 "metadata": {
  "kernelspec": {
   "display_name": "Python [Root]",
   "language": "python",
   "name": "Python [Root]"
  },
  "language_info": {
   "codemirror_mode": {
    "name": "ipython",
    "version": 2
   },
   "file_extension": ".py",
   "mimetype": "text/x-python",
   "name": "python",
   "nbconvert_exporter": "python",
   "pygments_lexer": "ipython2",
   "version": "2.7.12"
  }
 },
 "nbformat": 4,
 "nbformat_minor": 0
}

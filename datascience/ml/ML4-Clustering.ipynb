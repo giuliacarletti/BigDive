{
 "cells": [
  {
   "cell_type": "markdown",
   "metadata": {},
   "source": [
    "<center>\n",
    "<img src=\"http://www.bigdive.eu/wp-content/uploads/2012/05/logoBIGDIVE-01.png\">\n",
    "</center>\n",
    "\n",
    "---\n",
    "\n",
    "# Clustering\n",
    "\n",
    "## André Panisson"
   ]
  },
  {
   "cell_type": "code",
   "execution_count": null,
   "metadata": {
    "collapsed": false
   },
   "outputs": [],
   "source": [
    "%pylab inline"
   ]
  },
  {
   "cell_type": "markdown",
   "metadata": {},
   "source": [
    "Prepare a sinthetic dataset for this example."
   ]
  },
  {
   "cell_type": "code",
   "execution_count": null,
   "metadata": {
    "collapsed": false
   },
   "outputs": [],
   "source": [
    "from sklearn import datasets\n",
    "\n",
    "X, _ = datasets.make_blobs(n_samples=150, random_state=8, centers=4)\n",
    "# X, _ = datasets.make_circles(n_samples=150, factor=.5, noise=.05)\n",
    "\n",
    "plot(X[:, 0], X[:, 1], 'bx')"
   ]
  },
  {
   "cell_type": "markdown",
   "metadata": {},
   "source": [
    "# Kmeans clustering"
   ]
  },
  {
   "cell_type": "code",
   "execution_count": null,
   "metadata": {
    "collapsed": false
   },
   "outputs": [],
   "source": [
    "np.random.seed(42)\n",
    "\n",
    "from sklearn import cluster\n",
    "\n",
    "kmeans = cluster.KMeans(n_clusters=3, init='random',\n",
    "                        n_init=1, max_iter=10)\n",
    "C = kmeans.fit_predict(X)\n",
    "\n",
    "colors = array(['b', 'r', 'g', 'k'])\n",
    "scatter(X[:, 0], X[:, 1], marker=\"x\", c=colors[C])\n",
    "\n",
    "centers = kmeans.cluster_centers_\n",
    "scatter(centers[:, 0], centers[:, 1], s=100, c=colors)"
   ]
  },
  {
   "cell_type": "markdown",
   "metadata": {},
   "source": [
    "# Hierarchical clustering"
   ]
  },
  {
   "cell_type": "code",
   "execution_count": null,
   "metadata": {
    "collapsed": false
   },
   "outputs": [],
   "source": [
    "X, _ = datasets.make_blobs(n_samples=50, random_state=8, centers=4)\n",
    "# X, _ = datasets.make_circles(n_samples=200, factor=.1, noise=.05)\n",
    "\n",
    "scatter(X[:, 0], X[:, 1]);"
   ]
  },
  {
   "cell_type": "code",
   "execution_count": null,
   "metadata": {
    "collapsed": false
   },
   "outputs": [],
   "source": [
    "from scipy.cluster.hierarchy import linkage, dendrogram, fcluster\n",
    "\n",
    "Z = linkage(X, method='average', metric='euclidean')\n",
    "figure(figsize=(15,5))\n",
    "P = dendrogram(Z);"
   ]
  },
  {
   "cell_type": "code",
   "execution_count": null,
   "metadata": {
    "collapsed": false
   },
   "outputs": [],
   "source": [
    "T = fcluster(Z, 4, 'maxclust')\n",
    "\n",
    "figure(figsize=(5,5))\n",
    "colors = array(['b', 'r', 'g', 'k'])\n",
    "scatter(X[:, 0], X[:, 1], color=colors[T-1]);"
   ]
  },
  {
   "cell_type": "markdown",
   "metadata": {},
   "source": [
    "### Hierarchical Clustering in Scikit-Learn:"
   ]
  },
  {
   "cell_type": "code",
   "execution_count": null,
   "metadata": {
    "collapsed": false
   },
   "outputs": [],
   "source": [
    "from sklearn import cluster\n",
    "\n",
    "model = cluster.AgglomerativeClustering(n_clusters=4, affinity='euclidean', linkage='average')\n",
    "\n",
    "clusters = model.fit_predict(X)\n",
    "\n",
    "figure(figsize=(5,5))\n",
    "colors = array(['b', 'r', 'g', 'k'])\n",
    "scatter(X[:, 0], X[:, 1], color=colors[clusters-1]);"
   ]
  },
  {
   "cell_type": "markdown",
   "metadata": {
    "collapsed": false
   },
   "source": [
    "# Excercise\n",
    "\n",
    "Test the different clustering approaches with a \"circles\" dataset."
   ]
  },
  {
   "cell_type": "code",
   "execution_count": null,
   "metadata": {
    "collapsed": true
   },
   "outputs": [],
   "source": []
  }
 ],
 "metadata": {
  "kernelspec": {
   "display_name": "Python 2",
   "language": "python",
   "name": "python2"
  },
  "language_info": {
   "codemirror_mode": {
    "name": "ipython",
    "version": 2
   },
   "file_extension": ".py",
   "mimetype": "text/x-python",
   "name": "python",
   "nbconvert_exporter": "python",
   "pygments_lexer": "ipython2",
   "version": "2.7.9"
  }
 },
 "nbformat": 4,
 "nbformat_minor": 0
}

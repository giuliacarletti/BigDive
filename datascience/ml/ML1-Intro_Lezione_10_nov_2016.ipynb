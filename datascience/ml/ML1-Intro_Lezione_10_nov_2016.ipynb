{
 "cells": [
  {
   "cell_type": "markdown",
   "metadata": {},
   "source": [
    "<center>\n",
    "<img src=\"http://www.bigdive.eu/wp-content/uploads/2012/05/logoBIGDIVE-01.png\">\n",
    "</center>\n",
    "\n",
    "---\n",
    "\n",
    "# Scikit-Learn: Introduction\n",
    "\n",
    "## André Panisson\n"
   ]
  },
  {
   "cell_type": "code",
   "execution_count": 16,
   "metadata": {
    "collapsed": false
   },
   "outputs": [
    {
     "name": "stdout",
     "output_type": "stream",
     "text": [
      "Populating the interactive namespace from numpy and matplotlib\n"
     ]
    }
   ],
   "source": [
    "%pylab inline\n",
    "\n",
    "import pandas as pd"
   ]
  },
  {
   "cell_type": "code",
   "execution_count": 17,
   "metadata": {
    "collapsed": true
   },
   "outputs": [],
   "source": [
    "import sklearn\n",
    "# importa questa libreria\n",
    "# y è il target\n",
    "# N punti su D dimensioni\n",
    "# una feature è una colonna della matrice"
   ]
  },
  {
   "cell_type": "markdown",
   "metadata": {},
   "source": [
    "Scikit-learn is a collection of tools for machine learning written in Python:\n",
    "[http://scikit-learn.org](http://scikit-learn.org)"
   ]
  },
  {
   "cell_type": "markdown",
   "metadata": {},
   "source": [
    "## Representation of Data in Scikit-learn\n",
    "\n",
    "Most machine learning algorithms implemented in scikit-learn expect data to be stored in a\n",
    "**two-dimensional array or matrix**.  The arrays can be\n",
    "either ``numpy`` arrays, or in some cases ``scipy.sparse`` matrices.\n",
    "The size of the array is expected to be `[n_samples, n_features]`\n",
    "\n",
    "- **n_samples:**   The number of samples: each sample is an item to process (e.g. classify).\n",
    "  A sample can be a document, a picture, a sound, a video, an astronomical object,\n",
    "  a row in database or CSV file,\n",
    "  or whatever you can describe with a fixed set of quantitative traits.\n",
    "- **n_features:**  The number of features or distinct traits that can be used to describe each\n",
    "  item in a quantitative manner.  Features are generally real-valued, but may be boolean or\n",
    "  discrete-valued in some cases.\n",
    "\n",
    "The number of features must be fixed in advance. However it can be very high dimensional\n",
    "(e.g. millions of features) with most of them being zeros for a given sample. This is a case\n",
    "where `scipy.sparse` matrices can be useful, in that they are\n",
    "much more memory-efficient than numpy arrays.\n",
    "\n",
    "\n",
    "A classification algorithm, for example, expects the data to be represented as a **feature matrix** and a **label vector**:\n",
    "\n",
    "$$\n",
    "{\\rm feature~matrix:~~~} {\\bf X}~=~\\left[\n",
    "\\begin{matrix}\n",
    "x_{11} & x_{12} & \\cdots & x_{1D}\\\\\n",
    "x_{21} & x_{22} & \\cdots & x_{2D}\\\\\n",
    "x_{31} & x_{32} & \\cdots & x_{3D}\\\\\n",
    "\\vdots & \\vdots & \\ddots & \\vdots\\\\\n",
    "\\vdots & \\vdots & \\ddots & \\vdots\\\\\n",
    "x_{N1} & x_{N2} & \\cdots & x_{ND}\\\\\n",
    "\\end{matrix}\n",
    "\\right]\n",
    "$$\n",
    "\n",
    "$$\n",
    "{\\rm label~vector:~~~} {\\bf y}~=~ [y_1, y_2, y_3, \\cdots y_N]\n",
    "$$\n",
    "\n",
    "Here there are $N$ samples and $D$ features."
   ]
  },
  {
   "cell_type": "markdown",
   "metadata": {},
   "source": [
    "## A Simple Example: the Iris Dataset\n",
    "\n",
    "As an example of a simple dataset, we're going to take a look at the\n",
    "iris data stored by scikit-learn.\n",
    "The data consists of measurements of three different species of irises.\n",
    "There are three species of iris in the dataset, which we can picture here:"
   ]
  },
  {
   "cell_type": "code",
   "execution_count": 18,
   "metadata": {
    "collapsed": false
   },
   "outputs": [
    {
     "data": {
      "image/jpeg": "[encoded data removed]",
      "text/plain": [
       "<IPython.core.display.Image object>"
      ]
     },
     "metadata": {
      "image/jpeg": {
       "height": 200,
       "width": 200
      }
     },
     "output_type": "display_data"
    },
    {
     "name": "stdout",
     "output_type": "stream",
     "text": [
      "Iris Setosa\n",
      "\n"
     ]
    },
    {
     "data": {
      "image/jpeg": "[encoded data removed]",
      "text/plain": [
       "<IPython.core.display.Image object>"
      ]
     },
     "metadata": {
      "image/jpeg": {
       "height": 200,
       "width": 200
      }
     },
     "output_type": "display_data"
    },
    {
     "name": "stdout",
     "output_type": "stream",
     "text": [
      "Iris Versicolor\n",
      "\n"
     ]
    },
    {
     "data": {
      "image/jpeg": "[encoded data removed]",
      "text/plain": [
       "<IPython.core.display.Image object>"
      ]
     },
     "metadata": {
      "image/jpeg": {
       "height": 200,
       "width": 200
      }
     },
     "output_type": "display_data"
    },
    {
     "name": "stdout",
     "output_type": "stream",
     "text": [
      "Iris Virginica\n"
     ]
    }
   ],
   "source": [
    "from IPython.core.display import Image, display\n",
    "display(Image('http://mirlab.org/jang/books/dcpr/image/Iris-setosa-10_1.jpg', width=200, height=200))\n",
    "print \"Iris Setosa\\n\"\n",
    "\n",
    "display(Image('http://mirlab.org/jang/books/dcpr/image/Iris-versicolor-21_1.jpg', width=200, height=200))\n",
    "print \"Iris Versicolor\\n\"\n",
    "\n",
    "display(Image('http://mirlab.org/jang/books/dcpr/image/Iris-virginica-3_1.jpg', width=200, height=200))\n",
    "print \"Iris Virginica\""
   ]
  },
  {
   "cell_type": "markdown",
   "metadata": {},
   "source": [
    "### Loading the Iris Data with Scikit-Learn\n",
    "\n",
    "Scikit-learn has a very straightforward set of data on these iris species.  The data consist of\n",
    "the following:\n",
    "\n",
    "- Features in the Iris dataset:\n",
    "\n",
    "  1. sepal length in cm\n",
    "  2. sepal width in cm\n",
    "  3. petal length in cm\n",
    "  4. petal width in cm\n",
    "\n",
    "- Target classes to predict:\n",
    "\n",
    "  1. Iris Setosa\n",
    "  2. Iris Versicolour\n",
    "  3. Iris Virginica\n",
    "  \n",
    "``scikit-learn`` embeds a copy of the iris CSV file along with a helper function to load it into numpy arrays:"
   ]
  },
  {
   "cell_type": "code",
   "execution_count": 19,
   "metadata": {
    "collapsed": true
   },
   "outputs": [],
   "source": [
    "from sklearn.datasets import load_iris\n",
    "iris = load_iris()"
   ]
  },
  {
   "cell_type": "code",
   "execution_count": 20,
   "metadata": {
    "collapsed": false
   },
   "outputs": [
    {
     "data": {
      "text/plain": [
       "['target_names', 'data', 'target', 'DESCR', 'feature_names']"
      ]
     },
     "execution_count": 20,
     "metadata": {},
     "output_type": "execute_result"
    }
   ],
   "source": [
    "iris.keys()"
   ]
  },
  {
   "cell_type": "code",
   "execution_count": 21,
   "metadata": {
    "collapsed": false
   },
   "outputs": [
    {
     "name": "stdout",
     "output_type": "stream",
     "text": [
      "Iris Plants Database\n",
      "\n",
      "Notes\n",
      "-----\n",
      "Data Set Characteristics:\n",
      "    :Number of Instances: 150 (50 in each of three classes)\n",
      "    :Number of Attributes: 4 numeric, predictive attributes and the class\n",
      "    :Attribute Information:\n",
      "        - sepal length in cm\n",
      "        - sepal width in cm\n",
      "        - petal length in cm\n",
      "        - petal width in cm\n",
      "        - class:\n",
      "                - Iris-Setosa\n",
      "                - Iris-Versicolour\n",
      "                - Iris-Virginica\n",
      "    :Summary Statistics:\n",
      "\n",
      "    ============== ==== ==== ======= ===== ====================\n",
      "                    Min  Max   Mean    SD   Class Correlation\n",
      "    ============== ==== ==== ======= ===== ====================\n",
      "    sepal length:   4.3  7.9   5.84   0.83    0.7826\n",
      "    sepal width:    2.0  4.4   3.05   0.43   -0.4194\n",
      "    petal length:   1.0  6.9   3.76   1.76    0.9490  (high!)\n",
      "    petal width:    0.1  2.5   1.20  0.76     0.9565  (high!)\n",
      "    ============== ==== ==== ======= ===== ====================\n",
      "\n",
      "    :Missing Attribute Values: None\n",
      "    :Class Distribution: 33.3% for each of 3 classes.\n",
      "    :Creator: R.A. Fisher\n",
      "    :Donor: Michael Marshall (MARSHALL%PLU@io.arc.nasa.gov)\n",
      "    :Date: July, 1988\n",
      "\n",
      "This is a copy of UCI ML iris datasets.\n",
      "http://archive.ics.uci.edu/ml/datasets/Iris\n",
      "\n",
      "The famous Iris database, first used by Sir R.A Fisher\n",
      "\n",
      "This is perhaps the best known database to be found in the\n",
      "pattern recognition literature.  Fisher's paper is a classic in the field and\n",
      "is referenced frequently to this day.  (See Duda & Hart, for example.)  The\n",
      "data set contains 3 classes of 50 instances each, where each class refers to a\n",
      "type of iris plant.  One class is linearly separable from the other 2; the\n",
      "latter are NOT linearly separable from each other.\n",
      "\n",
      "References\n",
      "----------\n",
      "   - Fisher,R.A. \"The use of multiple measurements in taxonomic problems\"\n",
      "     Annual Eugenics, 7, Part II, 179-188 (1936); also in \"Contributions to\n",
      "     Mathematical Statistics\" (John Wiley, NY, 1950).\n",
      "   - Duda,R.O., & Hart,P.E. (1973) Pattern Classification and Scene Analysis.\n",
      "     (Q327.D83) John Wiley & Sons.  ISBN 0-471-22361-1.  See page 218.\n",
      "   - Dasarathy, B.V. (1980) \"Nosing Around the Neighborhood: A New System\n",
      "     Structure and Classification Rule for Recognition in Partially Exposed\n",
      "     Environments\".  IEEE Transactions on Pattern Analysis and Machine\n",
      "     Intelligence, Vol. PAMI-2, No. 1, 67-71.\n",
      "   - Gates, G.W. (1972) \"The Reduced Nearest Neighbor Rule\".  IEEE Transactions\n",
      "     on Information Theory, May 1972, 431-433.\n",
      "   - See also: 1988 MLC Proceedings, 54-64.  Cheeseman et al\"s AUTOCLASS II\n",
      "     conceptual clustering system finds 3 classes in the data.\n",
      "   - Many, many more ...\n",
      "\n"
     ]
    }
   ],
   "source": [
    "print iris['DESCR']"
   ]
  },
  {
   "cell_type": "code",
   "execution_count": 22,
   "metadata": {
    "collapsed": false
   },
   "outputs": [
    {
     "data": {
      "text/plain": [
       "(150, 4)"
      ]
     },
     "execution_count": 22,
     "metadata": {},
     "output_type": "execute_result"
    }
   ],
   "source": [
    "iris.data.shape\n",
    "# 150 samples per 4 features"
   ]
  },
  {
   "cell_type": "code",
   "execution_count": 23,
   "metadata": {
    "collapsed": false
   },
   "outputs": [
    {
     "name": "stdout",
     "output_type": "stream",
     "text": [
      "(150, 4)\n"
     ]
    }
   ],
   "source": [
    "n_samples, n_features = iris.data.shape\n",
    "print (n_samples, n_features)"
   ]
  },
  {
   "cell_type": "code",
   "execution_count": 24,
   "metadata": {
    "collapsed": false
   },
   "outputs": [
    {
     "name": "stdout",
     "output_type": "stream",
     "text": [
      "[ 5.1  3.5  1.4  0.2]\n"
     ]
    }
   ],
   "source": [
    "print iris.data[0]     # misurazioni del primo fiore"
   ]
  },
  {
   "cell_type": "code",
   "execution_count": 25,
   "metadata": {
    "collapsed": false
   },
   "outputs": [
    {
     "name": "stdout",
     "output_type": "stream",
     "text": [
      "(150, 4)\n"
     ]
    }
   ],
   "source": [
    "print iris.data.shape"
   ]
  },
  {
   "cell_type": "code",
   "execution_count": 27,
   "metadata": {
    "collapsed": false
   },
   "outputs": [
    {
     "name": "stdout",
     "output_type": "stream",
     "text": [
      "(150,)\n"
     ]
    }
   ],
   "source": [
    "print iris.target.shape"
   ]
  },
  {
   "cell_type": "code",
   "execution_count": 28,
   "metadata": {
    "collapsed": false
   },
   "outputs": [
    {
     "data": {
      "text/plain": [
       "array(['setosa', 'versicolor', 'virginica'], \n",
       "      dtype='|S10')"
      ]
     },
     "execution_count": 28,
     "metadata": {},
     "output_type": "execute_result"
    }
   ],
   "source": [
    "iris.target_names"
   ]
  },
  {
   "cell_type": "code",
   "execution_count": 29,
   "metadata": {
    "collapsed": false
   },
   "outputs": [
    {
     "data": {
      "text/plain": [
       "array([0, 0, 0, 0, 0, 0, 0, 0, 0, 0, 0, 0, 0, 0, 0, 0, 0, 0, 0, 0, 0, 0, 0,\n",
       "       0, 0, 0, 0, 0, 0, 0, 0, 0, 0, 0, 0, 0, 0, 0, 0, 0, 0, 0, 0, 0, 0, 0,\n",
       "       0, 0, 0, 0, 1, 1, 1, 1, 1, 1, 1, 1, 1, 1, 1, 1, 1, 1, 1, 1, 1, 1, 1,\n",
       "       1, 1, 1, 1, 1, 1, 1, 1, 1, 1, 1, 1, 1, 1, 1, 1, 1, 1, 1, 1, 1, 1, 1,\n",
       "       1, 1, 1, 1, 1, 1, 1, 1, 2, 2, 2, 2, 2, 2, 2, 2, 2, 2, 2, 2, 2, 2, 2,\n",
       "       2, 2, 2, 2, 2, 2, 2, 2, 2, 2, 2, 2, 2, 2, 2, 2, 2, 2, 2, 2, 2, 2, 2,\n",
       "       2, 2, 2, 2, 2, 2, 2, 2, 2, 2, 2, 2])"
      ]
     },
     "execution_count": 29,
     "metadata": {},
     "output_type": "execute_result"
    }
   ],
   "source": [
    "iris.target\n",
    "# ci sono le classi (ogni intero è una classe diversa)"
   ]
  },
  {
   "cell_type": "markdown",
   "metadata": {},
   "source": [
    "This data is four dimensional, but we can visualize two of the dimensions\n",
    "at a time using a simple scatter-plot:"
   ]
  },
  {
   "cell_type": "code",
   "execution_count": 30,
   "metadata": {
    "collapsed": false
   },
   "outputs": [
    {
     "data": {
      "image/png": "[encoded data removed]",
      "text/plain": [
       "<matplotlib.figure.Figure at 0x7fd7380486d0>"
      ]
     },
     "metadata": {},
     "output_type": "display_data"
    }
   ],
   "source": [
    "import numpy as np\n",
    "import matplotlib.pyplot as plt\n",
    "\n",
    "x_index = 2\n",
    "y_index = 3\n",
    "\n",
    "# this formatter will label the colorbar with the correct target names\n",
    "formatter = plt.FuncFormatter(lambda i, *args: iris.target_names[int(i)])\n",
    "\n",
    "plt.scatter(iris.data[:, x_index], iris.data[:, y_index],\n",
    "            c=iris.target)\n",
    "plt.colorbar(ticks=[0, 1, 2], format=formatter)\n",
    "plt.xlabel(iris.feature_names[x_index])\n",
    "plt.ylabel(iris.feature_names[y_index]);"
   ]
  },
  {
   "cell_type": "code",
   "execution_count": 31,
   "metadata": {
    "collapsed": false
   },
   "outputs": [
    {
     "ename": "ImportError",
     "evalue": "No module named seaborn",
     "output_type": "error",
     "traceback": [
      "\u001b[1;31m---------------------------------------------------------------------------\u001b[0m",
      "\u001b[1;31mImportError\u001b[0m                               Traceback (most recent call last)",
      "\u001b[1;32m<ipython-input-31-184e794882c0>\u001b[0m in \u001b[0;36m<module>\u001b[1;34m()\u001b[0m\n\u001b[1;32m----> 1\u001b[1;33m \u001b[1;32mimport\u001b[0m \u001b[0mseaborn\u001b[0m \u001b[1;32mas\u001b[0m \u001b[0msns\u001b[0m\u001b[1;33m\u001b[0m\u001b[0m\n\u001b[0m\u001b[0;32m      2\u001b[0m \u001b[1;31m# la libreria non è installata\u001b[0m\u001b[1;33m\u001b[0m\u001b[1;33m\u001b[0m\u001b[0m\n",
      "\u001b[1;31mImportError\u001b[0m: No module named seaborn"
     ]
    }
   ],
   "source": [
    "import seaborn as sns\n",
    "# la libreria non è installata"
   ]
  },
  {
   "cell_type": "code",
   "execution_count": 32,
   "metadata": {
    "collapsed": false
   },
   "outputs": [
    {
     "data": {
      "text/html": [
       "<div>\n",
       "<table border=\"1\" class=\"dataframe\">\n",
       "  <thead>\n",
       "    <tr style=\"text-align: right;\">\n",
       "      <th></th>\n",
       "      <th>sepal length (cm)</th>\n",
       "      <th>sepal width (cm)</th>\n",
       "      <th>petal length (cm)</th>\n",
       "      <th>petal width (cm)</th>\n",
       "      <th>target</th>\n",
       "    </tr>\n",
       "  </thead>\n",
       "  <tbody>\n",
       "    <tr>\n",
       "      <th>0</th>\n",
       "      <td>5.1</td>\n",
       "      <td>3.5</td>\n",
       "      <td>1.4</td>\n",
       "      <td>0.2</td>\n",
       "      <td>setosa</td>\n",
       "    </tr>\n",
       "    <tr>\n",
       "      <th>1</th>\n",
       "      <td>4.9</td>\n",
       "      <td>3.0</td>\n",
       "      <td>1.4</td>\n",
       "      <td>0.2</td>\n",
       "      <td>setosa</td>\n",
       "    </tr>\n",
       "    <tr>\n",
       "      <th>2</th>\n",
       "      <td>4.7</td>\n",
       "      <td>3.2</td>\n",
       "      <td>1.3</td>\n",
       "      <td>0.2</td>\n",
       "      <td>setosa</td>\n",
       "    </tr>\n",
       "    <tr>\n",
       "      <th>3</th>\n",
       "      <td>4.6</td>\n",
       "      <td>3.1</td>\n",
       "      <td>1.5</td>\n",
       "      <td>0.2</td>\n",
       "      <td>setosa</td>\n",
       "    </tr>\n",
       "    <tr>\n",
       "      <th>4</th>\n",
       "      <td>5.0</td>\n",
       "      <td>3.6</td>\n",
       "      <td>1.4</td>\n",
       "      <td>0.2</td>\n",
       "      <td>setosa</td>\n",
       "    </tr>\n",
       "  </tbody>\n",
       "</table>\n",
       "</div>"
      ],
      "text/plain": [
       "   sepal length (cm)  sepal width (cm)  petal length (cm)  petal width (cm)  \\\n",
       "0                5.1               3.5                1.4               0.2   \n",
       "1                4.9               3.0                1.4               0.2   \n",
       "2                4.7               3.2                1.3               0.2   \n",
       "3                4.6               3.1                1.5               0.2   \n",
       "4                5.0               3.6                1.4               0.2   \n",
       "\n",
       "   target  \n",
       "0  setosa  \n",
       "1  setosa  \n",
       "2  setosa  \n",
       "3  setosa  \n",
       "4  setosa  "
      ]
     },
     "execution_count": 32,
     "metadata": {},
     "output_type": "execute_result"
    }
   ],
   "source": [
    "iris_df = pd.DataFrame(iris.data, columns=iris.feature_names)\n",
    "iris_df['target'] = pd.Series(iris.target).map(lambda c: iris.target_names[c])\n",
    "iris_df.head()"
   ]
  },
  {
   "cell_type": "code",
   "execution_count": 33,
   "metadata": {
    "collapsed": false
   },
   "outputs": [
    {
     "ename": "NameError",
     "evalue": "name 'sns' is not defined",
     "output_type": "error",
     "traceback": [
      "\u001b[1;31m---------------------------------------------------------------------------\u001b[0m",
      "\u001b[1;31mNameError\u001b[0m                                 Traceback (most recent call last)",
      "\u001b[1;32m<ipython-input-33-6ef852ec7132>\u001b[0m in \u001b[0;36m<module>\u001b[1;34m()\u001b[0m\n\u001b[1;32m----> 1\u001b[1;33m \u001b[0mg\u001b[0m \u001b[1;33m=\u001b[0m \u001b[0msns\u001b[0m\u001b[1;33m.\u001b[0m\u001b[0mPairGrid\u001b[0m\u001b[1;33m(\u001b[0m\u001b[0miris_df\u001b[0m\u001b[1;33m,\u001b[0m \u001b[0mhue\u001b[0m\u001b[1;33m=\u001b[0m\u001b[1;34m'target'\u001b[0m\u001b[1;33m)\u001b[0m\u001b[1;33m\u001b[0m\u001b[0m\n\u001b[0m\u001b[0;32m      2\u001b[0m \u001b[0mg\u001b[0m\u001b[1;33m.\u001b[0m\u001b[0mmap_diag\u001b[0m\u001b[1;33m(\u001b[0m\u001b[0mplt\u001b[0m\u001b[1;33m.\u001b[0m\u001b[0mhist\u001b[0m\u001b[1;33m)\u001b[0m\u001b[1;33m\u001b[0m\u001b[0m\n\u001b[0;32m      3\u001b[0m \u001b[0mg\u001b[0m\u001b[1;33m.\u001b[0m\u001b[0mmap_offdiag\u001b[0m\u001b[1;33m(\u001b[0m\u001b[0mplt\u001b[0m\u001b[1;33m.\u001b[0m\u001b[0mscatter\u001b[0m\u001b[1;33m)\u001b[0m\u001b[1;33m\u001b[0m\u001b[0m\n\u001b[0;32m      4\u001b[0m \u001b[0mg\u001b[0m\u001b[1;33m.\u001b[0m\u001b[0madd_legend\u001b[0m\u001b[1;33m(\u001b[0m\u001b[1;33m)\u001b[0m\u001b[1;33m\u001b[0m\u001b[0m\n",
      "\u001b[1;31mNameError\u001b[0m: name 'sns' is not defined"
     ]
    }
   ],
   "source": [
    "g = sns.PairGrid(iris_df, hue='target')\n",
    "g.map_diag(plt.hist)\n",
    "g.map_offdiag(plt.scatter)\n",
    "g.add_legend()"
   ]
  },
  {
   "cell_type": "markdown",
   "metadata": {},
   "source": [
    "## Other Available Data\n",
    "They come in three flavors:\n",
    "\n",
    "- **Packaged Data:** these small datasets are packaged with the scikit-learn installation,\n",
    "  and can be downloaded using the tools in ``sklearn.datasets.load_*``\n",
    "- **Downloadable Data:** these larger datasets are available for download, and scikit-learn\n",
    "  includes tools which streamline this process.  These tools can be found in\n",
    "  ``sklearn.datasets.fetch_*``\n",
    "- **Generated Data:** there are several datasets which are generated from models based on a\n",
    "  random seed.  These are available in the ``sklearn.datasets.make_*``"
   ]
  },
  {
   "cell_type": "code",
   "execution_count": 34,
   "metadata": {
    "collapsed": true
   },
   "outputs": [],
   "source": [
    "from sklearn import datasets"
   ]
  },
  {
   "cell_type": "code",
   "execution_count": 35,
   "metadata": {
    "collapsed": false
   },
   "outputs": [
    {
     "data": {
      "text/plain": [
       "(array([[  2.92893219e-01,  -2.07106781e-01],\n",
       "        [  2.00000000e+00,   5.00000000e-01],\n",
       "        [  1.70710678e+00,  -2.07106781e-01],\n",
       "        [  0.00000000e+00,   5.00000000e-01],\n",
       "        [  6.12323400e-17,   1.00000000e+00],\n",
       "        [ -1.00000000e+00,   1.22464680e-16],\n",
       "        [  1.00000000e+00,   0.00000000e+00],\n",
       "        [  7.07106781e-01,   7.07106781e-01],\n",
       "        [ -7.07106781e-01,   7.07106781e-01],\n",
       "        [  1.00000000e+00,  -5.00000000e-01]]),\n",
       " array([1, 1, 1, 1, 0, 0, 0, 0, 0, 1]))"
      ]
     },
     "execution_count": 35,
     "metadata": {},
     "output_type": "execute_result"
    }
   ],
   "source": [
    "datasets.make_moons(n_samples=10)\n",
    "# crea un dataset (vedi appunti quaderno)"
   ]
  },
  {
   "cell_type": "markdown",
   "metadata": {},
   "source": [
    "**Digits Dataset**: This dataset is composed of 1797 images of $8 \\times 8$ pixels. You have to transform it in a matrix of 1797 samples and 64 features ($1797 \\times 64$)."
   ]
  },
  {
   "cell_type": "code",
   "execution_count": 36,
   "metadata": {
    "collapsed": false
   },
   "outputs": [],
   "source": [
    "digits = datasets.load_digits()"
   ]
  },
  {
   "cell_type": "code",
   "execution_count": 37,
   "metadata": {
    "collapsed": false
   },
   "outputs": [
    {
     "data": {
      "image/png": "[encoded data removed]",
      "text/plain": [
       "<matplotlib.figure.Figure at 0x7fd73125c7d0>"
      ]
     },
     "metadata": {},
     "output_type": "display_data"
    }
   ],
   "source": [
    "# plot the first 21 samples\n",
    "for index, (image, label) in enumerate(zip(digits.images, digits.target)[:21]):\n",
    "    plt.subplot(3, 7, index + 1)\n",
    "    plt.axis('off')\n",
    "    plt.imshow(image, cmap=plt.cm.gray_r, interpolation='nearest')\n",
    "    plt.title('%i' % label)"
   ]
  },
  {
   "cell_type": "markdown",
   "metadata": {},
   "source": [
    "### The Scikit-learn Estimator Object\n",
    "\n",
    "Every algorithm is exposed in scikit-learn via an ''Estimator'' object. For instance a linear regression is implemented as so:"
   ]
  },
  {
   "cell_type": "code",
   "execution_count": 38,
   "metadata": {
    "collapsed": true
   },
   "outputs": [],
   "source": [
    "from sklearn.linear_model import LinearRegression"
   ]
  },
  {
   "cell_type": "markdown",
   "metadata": {},
   "source": [
    "**Estimator parameters**: All the parameters of an estimator can be set when it is instantiated, and have suitable default values:"
   ]
  },
  {
   "cell_type": "code",
   "execution_count": 39,
   "metadata": {
    "collapsed": false
   },
   "outputs": [
    {
     "name": "stdout",
     "output_type": "stream",
     "text": [
      "True\n",
      "LinearRegression(copy_X=True, fit_intercept=False, n_jobs=1, normalize=True)\n"
     ]
    }
   ],
   "source": [
    "model = LinearRegression(normalize=True, fit_intercept=False) # regr lineare con normalizzazione, senza intercetta\n",
    "print model.normalize\n",
    "print model"
   ]
  },
  {
   "cell_type": "code",
   "execution_count": 41,
   "metadata": {
    "collapsed": true
   },
   "outputs": [],
   "source": [
    "# Funzioni Pricipali:\n",
    "# model.fit()\n",
    "# model.predict(X): ho solo il set, perchè non ho il target"
   ]
  },
  {
   "cell_type": "markdown",
   "metadata": {},
   "source": [
    "**Estimated Model parameters**: When data is *fit* with an estimator, parameters are estimated from the data at hand. All the estimated parameters are attributes of the estimator object ending by an underscore:"
   ]
  },
  {
   "cell_type": "code",
   "execution_count": 42,
   "metadata": {
    "collapsed": false
   },
   "outputs": [
    {
     "data": {
      "image/png": "[encoded data removed]",
      "text/plain": [
       "<matplotlib.figure.Figure at 0x7fd731258810>"
      ]
     },
     "metadata": {},
     "output_type": "display_data"
    }
   ],
   "source": [
    "np.random.seed(42)\n",
    "x = np.random.rand(100)*10\n",
    "y = x + np.random.randn(x.shape[0])\n",
    "\n",
    "plt.plot(x, y, 'o');\n",
    "# creo 100 punti su una retta ed aggiungo del rumore\n",
    "# ho diversi punti x e per ogni punto x ho un y"
   ]
  },
  {
   "cell_type": "code",
   "execution_count": 43,
   "metadata": {
    "collapsed": false
   },
   "outputs": [],
   "source": [
    "# The input data for sklearn is 2D: (samples == 3 x features == 1)\n",
    "X = x[:, np.newaxis]"
   ]
  },
  {
   "cell_type": "code",
   "execution_count": 44,
   "metadata": {
    "collapsed": false
   },
   "outputs": [
    {
     "data": {
      "text/plain": [
       "(100,)"
      ]
     },
     "execution_count": 44,
     "metadata": {},
     "output_type": "execute_result"
    }
   ],
   "source": [
    "x.shape"
   ]
  },
  {
   "cell_type": "code",
   "execution_count": 45,
   "metadata": {
    "collapsed": false
   },
   "outputs": [
    {
     "data": {
      "text/plain": [
       "(100, 1)"
      ]
     },
     "execution_count": 45,
     "metadata": {},
     "output_type": "execute_result"
    }
   ],
   "source": [
    "X.shape"
   ]
  },
  {
   "cell_type": "code",
   "execution_count": 46,
   "metadata": {
    "collapsed": false
   },
   "outputs": [
    {
     "name": "stdout",
     "output_type": "stream",
     "text": [
      "[ 0.98678556]\n",
      "0.0\n"
     ]
    }
   ],
   "source": [
    "model.fit(X, y) \n",
    "print model.coef_\n",
    "print model.intercept_"
   ]
  },
  {
   "cell_type": "code",
   "execution_count": 47,
   "metadata": {
    "collapsed": false
   },
   "outputs": [
    {
     "data": {
      "text/plain": [
       "array([ 2.96035669])"
      ]
     },
     "execution_count": 47,
     "metadata": {},
     "output_type": "execute_result"
    }
   ],
   "source": [
    "model.predict([[3]])\n",
    "# predico il valore : 0.9867855 * 3"
   ]
  },
  {
   "cell_type": "code",
   "execution_count": 48,
   "metadata": {
    "collapsed": false
   },
   "outputs": [
    {
     "data": {
      "text/plain": [
       "array([    2.96035669,     3.94714225,  1973.57112359])"
      ]
     },
     "execution_count": 48,
     "metadata": {},
     "output_type": "execute_result"
    }
   ],
   "source": [
    "model.predict([[3], [4], [2000]])"
   ]
  },
  {
   "cell_type": "markdown",
   "metadata": {},
   "source": [
    "## Illustration of the Bias-Variance Tradeoff with Scikit-Learn\n",
    "\n",
    "For this section, we'll work with a simple 1D regression problem.  This will help us to\n",
    "easily visualize the data and the model, and the results generalize easily to  higher-dimensional\n",
    "datasets.  We'll explore a simple **linear regression** problem.\n",
    "This can be accomplished within scikit-learn with the `sklearn.linear_model` module.\n",
    "\n",
    "We'll create a simple nonlinear function that we'd like to fit"
   ]
  },
  {
   "cell_type": "code",
   "execution_count": 49,
   "metadata": {
    "collapsed": false
   },
   "outputs": [
    {
     "data": {
      "text/plain": [
       "<matplotlib.collections.PathCollection at 0x7fd730775ed0>"
      ]
     },
     "execution_count": 49,
     "metadata": {},
     "output_type": "execute_result"
    },
    {
     "data": {
      "image/png": "[encoded data removed]",
      "text/plain": [
       "<matplotlib.figure.Figure at 0x7fd73069ce90>"
      ]
     },
     "metadata": {},
     "output_type": "display_data"
    }
   ],
   "source": [
    "def f(x, err=0.5):\n",
    "    y = 10 - 1. / (x + 0.1)    # la funzione che voglio imparare è questa, non lineare\n",
    "    if err > 0:\n",
    "        y = np.random.normal(y, err)\n",
    "    return y\n",
    "\n",
    "def make_data(N=40, error=1.0, random_seed=1):\n",
    "    # randomly sample the data\n",
    "    np.random.seed(random_seed)\n",
    "    X = np.random.random(N)[:, np.newaxis]\n",
    "    y = f(X.ravel(), error)\n",
    "    \n",
    "    return X, y\n",
    "\n",
    "X, y = make_data(40, error=1)   # 40 punti, errore = 1\n",
    "plt.scatter(X.ravel(), y)"
   ]
  },
  {
   "cell_type": "code",
   "execution_count": 50,
   "metadata": {
    "collapsed": false
   },
   "outputs": [],
   "source": [
    "from sklearn import metrics\n",
    "from sklearn.linear_model import LinearRegression"
   ]
  },
  {
   "cell_type": "code",
   "execution_count": 51,
   "metadata": {
    "collapsed": true
   },
   "outputs": [],
   "source": [
    "# metrics.r2_score(y_true, y_pred....) : \n",
    "# y_true = target vero\n",
    "# y_pred = target predetto"
   ]
  },
  {
   "cell_type": "code",
   "execution_count": 54,
   "metadata": {
    "collapsed": true
   },
   "outputs": [],
   "source": [
    "X_test, y_test = make_data(400, error=1.0, random_seed=2)\n",
    "# creo un dataset con 400 punti"
   ]
  },
  {
   "cell_type": "code",
   "execution_count": 55,
   "metadata": {
    "collapsed": false
   },
   "outputs": [
    {
     "name": "stdout",
     "output_type": "stream",
     "text": [
      "in-sample mean squared error: 1.78514645061\n",
      "out-of-sample mean squared error: 2.18540465342\n"
     ]
    },
    {
     "data": {
      "image/png": "[encoded data removed]",
      "text/plain": [
       "<matplotlib.figure.Figure at 0x7fd73063fb10>"
      ]
     },
     "metadata": {},
     "output_type": "display_data"
    }
   ],
   "source": [
    "N = 40\n",
    "X_train = X[:N]   # train set = coi primi 40 punti\n",
    "y_train = y[:N]\n",
    "\n",
    "model = LinearRegression()\n",
    "model.fit(X_train, y_train)\n",
    "y_pred = model.predict(X_test)\n",
    "\n",
    "plt.scatter(X_train.ravel(), y_train)\n",
    "plt.scatter(X_test.ravel(), y_pred, color='r')\n",
    "print \"in-sample mean squared error:\", metrics.mean_squared_error(model.predict(X_train), y_train)\n",
    "print \"out-of-sample mean squared error:\", metrics.mean_squared_error(model.predict(X_test), y_test)"
   ]
  },
  {
   "cell_type": "markdown",
   "metadata": {},
   "source": [
    "We have fit a straight line to the data, but clearly this model is not a good choice.  We say that this model is **biased**, or that it **under-fits** the data.\n",
    "\n",
    "Let's try to improve this by creating a more complicated model.  We can do this by adding degrees of freedom, and computing a polynomial regression over the inputs.  Let's make this easier by creating a quick PolynomialRegression estimator:"
   ]
  },
  {
   "cell_type": "code",
   "execution_count": 56,
   "metadata": {
    "collapsed": true
   },
   "outputs": [],
   "source": [
    "class PolynomialRegression(LinearRegression):     # qui implemento una regressione polinomiale\n",
    "    \"\"\"Simple Polynomial Regression to 1D data\"\"\"\n",
    "    def __init__(self, degree=1, **kwargs):\n",
    "        self.degree = degree\n",
    "        LinearRegression.__init__(self, **kwargs)\n",
    "        \n",
    "    def fit(self, X, y):\n",
    "        if X.shape[1] != 1:\n",
    "            raise ValueError(\"Only 1D data valid here\")\n",
    "        Xp = X ** (1 + np.arange(self.degree))\n",
    "        return LinearRegression.fit(self, Xp, y)\n",
    "        \n",
    "    def predict(self, X):\n",
    "        Xp = X ** (1 + np.arange(self.degree))\n",
    "        return LinearRegression.predict(self, Xp)"
   ]
  },
  {
   "cell_type": "code",
   "execution_count": 57,
   "metadata": {
    "collapsed": false
   },
   "outputs": [],
   "source": [
    "N = 20   # creiamo 20 punti e vedo come un modello polinomiale di grado 2 si comporta qui\n",
    "X_train = X[:N]\n",
    "y_train = y[:N]"
   ]
  },
  {
   "cell_type": "code",
   "execution_count": 58,
   "metadata": {
    "collapsed": false
   },
   "outputs": [
    {
     "name": "stdout",
     "output_type": "stream",
     "text": [
      "in-sample mean squared error: 1.10625859691\n",
      "out-of-sample mean squared error: 1.50353263789\n"
     ]
    },
    {
     "data": {
      "image/png": "[encoded data removed]",
      "text/plain": [
       "<matplotlib.figure.Figure at 0x7fd7306c88d0>"
      ]
     },
     "metadata": {},
     "output_type": "display_data"
    }
   ],
   "source": [
    "model = PolynomialRegression(degree=2)\n",
    "model.fit(X_train, y_train)\n",
    "y_pred = model.predict(X_test)\n",
    "\n",
    "plt.scatter(X_train.ravel(), y_train)\n",
    "plt.scatter(X_test.ravel(), y_pred, color='r')\n",
    "print \"in-sample mean squared error:\", metrics.mean_squared_error(model.predict(X_train), y_train)\n",
    "print \"out-of-sample mean squared error:\", metrics.mean_squared_error(model.predict(X_test), y_test)\n",
    "\n",
    "# qui ho ridotto l'in sample error e anche l'out of sample error"
   ]
  },
  {
   "cell_type": "markdown",
   "metadata": {},
   "source": [
    "## Learning Curves: Number of Training Samples"
   ]
  },
  {
   "cell_type": "markdown",
   "metadata": {},
   "source": [
    "Let's check the values of $E_{in}$ and $E_{out}$ for different values of $N$, with a simple model with degree 2:"
   ]
  },
  {
   "cell_type": "code",
   "execution_count": 59,
   "metadata": {
    "collapsed": false
   },
   "outputs": [
    {
     "data": {
      "image/png": "[encoded data removed]",
      "text/plain": [
       "<matplotlib.figure.Figure at 0x7fd73063f050>"
      ]
     },
     "metadata": {},
     "output_type": "display_data"
    }
   ],
   "source": [
    "model = PolynomialRegression(degree=2)\n",
    "\n",
    "np.random.seed(42)\n",
    "\n",
    "training_error = []\n",
    "test_error = []\n",
    "mse = metrics.mean_squared_error\n",
    "\n",
    "N_list = range(2, 40)\n",
    "\n",
    "# al cambiare di N come cambiano gli errori: al crescere di N l'in sample error è simile all'out of sample error\n",
    "\n",
    "# N è il numero nelle ascisse\n",
    "# set di ipotesi: polinomi con grado 2\n",
    "\n",
    "for N in N_list:     \n",
    "    X_train = X[:N]\n",
    "    y_train = y[:N]\n",
    "    \n",
    "    model.fit(X_train, y_train)\n",
    "    training_error.append(mse(model.predict(X_train), y_train))\n",
    "    test_error.append(mse(model.predict(X_test), y_test))\n",
    "    \n",
    "plt.plot(N_list, training_error, label='$E_{in}$')\n",
    "plt.plot(N_list, test_error, label='$E_{out}$')\n",
    "plt.legend()\n",
    "plt.xlabel('N')\n",
    "plt.ylabel('MSE');"
   ]
  },
  {
   "cell_type": "markdown",
   "metadata": {},
   "source": [
    "Increasing the degree to 3, we add one more parameter and have a more complex model."
   ]
  },
  {
   "cell_type": "markdown",
   "metadata": {},
   "source": [
    "## Exercise:\n",
    "\n",
    "Create a Polynomical Regression model with degree 3.\n",
    "\n",
    "Plot the learning curves with values of $E_{in}$ and $E_{out}$ for different values of $N$."
   ]
  },
  {
   "cell_type": "code",
   "execution_count": 60,
   "metadata": {
    "collapsed": true
   },
   "outputs": [],
   "source": [
    "X_test, y_test = make_data(400, error=1.0, random_seed=3)"
   ]
  },
  {
   "cell_type": "code",
   "execution_count": 61,
   "metadata": {
    "collapsed": false
   },
   "outputs": [
    {
     "data": {
      "image/png": "[encoded data removed]",
      "text/plain": [
       "<matplotlib.figure.Figure at 0x7fd7315af450>"
      ]
     },
     "metadata": {},
     "output_type": "display_data"
    }
   ],
   "source": [
    "# ESERCIZIO - SOLUZIONE\n",
    "\n",
    "model = PolynomialRegression(degree=3)\n",
    "\n",
    "np.random.seed(42)\n",
    "\n",
    "training_error = []\n",
    "test_error = []\n",
    "mse = metrics.mean_squared_error\n",
    "\n",
    "N_list = range(2, 40)\n",
    "\n",
    "# al cambiare di N come cambiano gli errori: al crescere di N l'in sample error è simile all'out of sample error\n",
    "\n",
    "# set di ipotesi: polinomi con grado 3\n",
    "\n",
    "for N in N_list:     \n",
    "    X_train = X[:N]\n",
    "    y_train = y[:N]\n",
    "    \n",
    "    model.fit(X_train, y_train)\n",
    "    training_error.append(mse(model.predict(X_train), y_train))\n",
    "    test_error.append(mse(model.predict(X_test), y_test))\n",
    "    \n",
    "plt.plot(N_list, training_error, label='$E_{in}$')\n",
    "plt.plot(N_list, test_error, label='$E_{out}$')\n",
    "plt.legend()\n",
    "plt.xlabel('N')\n",
    "plt.ylabel('MSE');\n",
    "\n",
    "# si abbassa il bias del modello (linea dove si incontrano in sample e out of sample)"
   ]
  },
  {
   "cell_type": "markdown",
   "metadata": {},
   "source": [
    "Compare $E_{in}$ and $E_{out}$ to the Polynomial Regression with degree 2. Which model would you choose for $N=30$?"
   ]
  },
  {
   "cell_type": "markdown",
   "metadata": {},
   "source": [
    "Repeat the analysis with a Polynomical Regression model with degree 10."
   ]
  },
  {
   "cell_type": "code",
   "execution_count": 62,
   "metadata": {
    "collapsed": false
   },
   "outputs": [
    {
     "data": {
      "image/png": "[encoded data removed]",
      "text/plain": [
       "<matplotlib.figure.Figure at 0x7fd730663c90>"
      ]
     },
     "metadata": {},
     "output_type": "display_data"
    }
   ],
   "source": [
    "# ESERCIZIO - SOLUZIONE\n",
    "\n",
    "model = PolynomialRegression(degree=10)\n",
    "\n",
    "np.random.seed(42)\n",
    "\n",
    "training_error = []\n",
    "test_error = []\n",
    "mse = metrics.mean_squared_error\n",
    "\n",
    "N_list = range(2, 40)\n",
    "\n",
    "# al cambiare di N come cambiano gli errori: al crescere di N l'in sample error è simile all'out of sample error\n",
    "\n",
    "# set di ipotesi: polinomi con grado 10\n",
    "\n",
    "for N in N_list:     \n",
    "    X_train = X[:N]\n",
    "    y_train = y[:N]\n",
    "    \n",
    "    model.fit(X_train, y_train)\n",
    "    training_error.append(mse(model.predict(X_train), y_train))\n",
    "    test_error.append(mse(model.predict(X_test), y_test))\n",
    "    \n",
    "plt.plot(N_list, training_error, label='$E_{in}$')\n",
    "plt.plot(N_list, test_error, label='$E_{out}$')\n",
    "plt.legend()\n",
    "plt.xlabel('N')\n",
    "plt.ylabel('MSE');\n",
    "\n",
    "# qui siamo nell'overfitting"
   ]
  },
  {
   "cell_type": "markdown",
   "metadata": {},
   "source": [
    "## Learning Curves: Model Complexity"
   ]
  },
  {
   "cell_type": "markdown",
   "metadata": {},
   "source": [
    "Another type of learning curve is shown below.\n",
    "\n",
    "We have a fixed number of training samples N (e.g., 20). We plot the values of $E_{in}$ and $E_{out}$ for different levels of model complexity:"
   ]
  },
  {
   "cell_type": "code",
   "execution_count": 63,
   "metadata": {
    "collapsed": false
   },
   "outputs": [
    {
     "data": {
      "image/png": "[encoded data removed]",
      "text/plain": [
       "<matplotlib.figure.Figure at 0x7fd7306483d0>"
      ]
     },
     "metadata": {},
     "output_type": "display_data"
    }
   ],
   "source": [
    "N = 20\n",
    "X_train = X[:N]\n",
    "y_train = y[:N]\n",
    "\n",
    "degrees = np.arange(1, 20)   # gradi: vanno da 1 a 20\n",
    "\n",
    "training_error = []\n",
    "test_error = []\n",
    "mse = metrics.mean_squared_error\n",
    "\n",
    "for d in degrees:\n",
    "    model = PolynomialRegression(d).fit(X_train, y_train)\n",
    "    training_error.append(mse(model.predict(X_train), y_train))\n",
    "    test_error.append(mse(model.predict(X_test), y_test))\n",
    "    \n",
    "plt.plot(degrees, training_error, label='$E_{in}$')\n",
    "plt.plot(degrees, test_error, label='$E_{out}$')\n",
    "plt.legend()\n",
    "plt.xlabel('degree')\n",
    "plt.ylabel('MSE')\n",
    "plt.ylim(0, 5);\n",
    "\n",
    "# sembra che un polinomio di grado 4 sia già sufficiente per generalizzare (vedi grafico sotto)\n",
    "# scelgo il set di ipotesi che ha la generalizzazione migliore"
   ]
  },
  {
   "cell_type": "markdown",
   "metadata": {},
   "source": [
    "## Exercise:\n",
    "\n",
    "Increase the number of training samples (e.g., 40) and plot the values of $E_{in}$ and $E_{out}$ for different levels of model complexity.\n",
    "\n",
    "Would you choose the same model complexity as if it was just 20 training samples?"
   ]
  },
  {
   "cell_type": "code",
   "execution_count": 64,
   "metadata": {
    "collapsed": false
   },
   "outputs": [
    {
     "data": {
      "text/plain": [
       "(40, 1)"
      ]
     },
     "execution_count": 64,
     "metadata": {},
     "output_type": "execute_result"
    }
   ],
   "source": [
    "X.shape"
   ]
  },
  {
   "cell_type": "code",
   "execution_count": 65,
   "metadata": {
    "collapsed": false
   },
   "outputs": [
    {
     "data": {
      "image/png": "[encoded data removed]",
      "text/plain": [
       "<matplotlib.figure.Figure at 0x7fd730c7ab10>"
      ]
     },
     "metadata": {},
     "output_type": "display_data"
    }
   ],
   "source": [
    "# ESERCIZIO - SOLUZIONE\n",
    "\n",
    "N = 40\n",
    "X_train = X[:N]\n",
    "y_train = y[:N]\n",
    "\n",
    "degrees = np.arange(1, 20)   # gradi: vanno da 1 a 20\n",
    "\n",
    "training_error = []\n",
    "test_error = []\n",
    "mse = metrics.mean_squared_error\n",
    "\n",
    "for d in degrees:\n",
    "    model = PolynomialRegression(d).fit(X_train, y_train)\n",
    "    training_error.append(mse(model.predict(X_train), y_train))\n",
    "    test_error.append(mse(model.predict(X_test), y_test))\n",
    "    \n",
    "plt.plot(degrees, training_error, label='$E_{in}$')\n",
    "plt.plot(degrees, test_error, label='$E_{out}$')\n",
    "plt.legend()\n",
    "plt.xlabel('degree')\n",
    "plt.ylabel('MSE')\n",
    "plt.ylim(0, 5);\n"
   ]
  },
  {
   "cell_type": "markdown",
   "metadata": {},
   "source": [
    "## From RMSE to Coefficient of Determination"
   ]
  },
  {
   "cell_type": "markdown",
   "metadata": {},
   "source": [
    "In Sklearn, most of the times we will be interested in the **score** of the model, not in the error.\n",
    "\n",
    "An example of model score to evaluate a linear regression is the $R^2$ (coefficient of determination):\n",
    "\n",
    "$$R^2(y, \\hat{y}) = 1 - \\frac{\\sum_{i=0}^{n_{\\text{samples}} - 1} (y_i - \\hat{y}_i)^2}{\\sum_{i=0}^{n_\\text{samples} - 1} (y_i - \\bar{y})^2}$$\n",
    "\n",
    "where $\\bar{y} =  \\frac{1}{n_{\\text{samples}}} \\sum_{i=0}^{n_{\\text{samples}} - 1} y_i$.\n",
    "\n",
    "The best possible score is 1.0, lower values are worse."
   ]
  },
  {
   "cell_type": "code",
   "execution_count": 66,
   "metadata": {
    "collapsed": false
   },
   "outputs": [
    {
     "data": {
      "image/png": "[encoded data removed]",
      "text/plain": [
       "<matplotlib.figure.Figure at 0x7fd730c7a910>"
      ]
     },
     "metadata": {},
     "output_type": "display_data"
    }
   ],
   "source": [
    "N = 20\n",
    "X_train = X[:N]\n",
    "y_train = y[:N]\n",
    "\n",
    "degrees = np.arange(1, 20)\n",
    "\n",
    "training_scores = []\n",
    "test_scores = []\n",
    "r2 = metrics.r2_score\n",
    "\n",
    "for d in degrees:\n",
    "    model = PolynomialRegression(d).fit(X_train, y_train)\n",
    "    training_scores.append(r2(model.predict(X_train), y_train))\n",
    "    test_scores.append(r2(model.predict(X_test), y_test))\n",
    "\n",
    "plt.plot(degrees, training_scores, label='in-sample score')\n",
    "plt.plot(degrees, test_scores, label='out-of-sample score')\n",
    "plt.legend()\n",
    "plt.xlabel('degree')\n",
    "plt.ylabel('$R^2$')\n",
    "plt.ylim(0.0, 1.0);\n",
    "\n",
    "# l'overfit con polinomio maggiore di 6 è così grande che l'r-squared viene negativo\n",
    "# modelli con polinomio > 6/7 danno risultati peggiori che prendere la media"
   ]
  },
  {
   "cell_type": "markdown",
   "metadata": {},
   "source": [
    "## Exercise:\n",
    "\n",
    "Check the performance of different models in terms of Coefficient of Determination with 40 training samples."
   ]
  },
  {
   "cell_type": "code",
   "execution_count": 67,
   "metadata": {
    "collapsed": false
   },
   "outputs": [
    {
     "data": {
      "image/png": "[encoded data removed]",
      "text/plain": [
       "<matplotlib.figure.Figure at 0x7fd730df2590>"
      ]
     },
     "metadata": {},
     "output_type": "display_data"
    }
   ],
   "source": [
    "# ESERCIZIO - SOLUZIONE\n",
    "\n",
    "N = 40\n",
    "X_train = X[:N]\n",
    "y_train = y[:N]\n",
    "\n",
    "degrees = np.arange(1, 20)\n",
    "\n",
    "training_scores = []\n",
    "test_scores = []\n",
    "r2 = metrics.r2_score\n",
    "\n",
    "for d in degrees:\n",
    "    model = PolynomialRegression(d).fit(X_train, y_train)\n",
    "    training_scores.append(r2(model.predict(X_train), y_train))\n",
    "    test_scores.append(r2(model.predict(X_test), y_test))\n",
    "\n",
    "plt.plot(degrees, training_scores, label='in-sample score')\n",
    "plt.plot(degrees, test_scores, label='out-of-sample score')\n",
    "plt.legend()\n",
    "plt.xlabel('degree')\n",
    "plt.ylabel('$R^2$')\n",
    "plt.ylim(0, 1.0);\n",
    "\n",
    "# con più punti i modelli più complessi generalizzano meglio,\n",
    "# anche se il modello migliore è quello con grado 5\n",
    "\n",
    "# meno dati abbiamo, più difficile fittare un modello che generalizza bene"
   ]
  },
  {
   "cell_type": "markdown",
   "metadata": {},
   "source": [
    "# Model validation\n",
    "\n",
    "\n",
    "\n",
    "### Cross validation\n",
    "\n",
    "Cross-validation (CV) is a model validation technique for assessing how the results of a model will generalize to an independent data set (i.e., it is used to estimate the value of $E_{out}$).\n",
    "\n",
    "In the basic CV approach, called *k*-fold CV,\n",
    "the training set is split into *k* smaller sets.\n",
    "The following procedure is followed for each of the *k* \"folds\":\n",
    "\n",
    " * A model is trained using $k-1$ of the folds as training data;\n",
    " * the resulting model is validated on the remaining part of the data\n",
    "   (i.e., it is used as a test set to compute a performance measure\n",
    "   such as accuracy).\n",
    "\n",
    "The performance measure reported by *k*-fold cross-validation\n",
    "is then the average of the values computed in the loop.\n",
    "This approach can be computationally expensive,\n",
    "but does not waste too much data\n",
    "(as it is the case when fixing an arbitrary test set)"
   ]
  },
  {
   "cell_type": "code",
   "execution_count": 68,
   "metadata": {
    "collapsed": true
   },
   "outputs": [],
   "source": [
    "from sklearn import cross_validation"
   ]
  },
  {
   "cell_type": "code",
   "execution_count": 69,
   "metadata": {
    "collapsed": false
   },
   "outputs": [
    {
     "data": {
      "text/plain": [
       "0.088509084183955949"
      ]
     },
     "execution_count": 69,
     "metadata": {},
     "output_type": "execute_result"
    }
   ],
   "source": [
    "model = PolynomialRegression(5)\n",
    "\n",
    "np.mean(cross_validation.cross_val_score(model, X_train, y_train, cv=10))"
   ]
  },
  {
   "cell_type": "code",
   "execution_count": 70,
   "metadata": {
    "collapsed": false
   },
   "outputs": [
    {
     "data": {
      "text/plain": [
       "array([ 0.87074139,  0.53432691, -0.85621234,  0.77655671,  0.19792195,\n",
       "       -0.45826838,  0.9822391 ,  0.80760455, -2.89635763,  0.92653857])"
      ]
     },
     "execution_count": 70,
     "metadata": {},
     "output_type": "execute_result"
    }
   ],
   "source": [
    "cross_validation.cross_val_score(model, X_train, y_train, cv=10)"
   ]
  },
  {
   "cell_type": "code",
   "execution_count": 71,
   "metadata": {
    "collapsed": false
   },
   "outputs": [
    {
     "data": {
      "image/png": "[encoded data removed]",
      "text/plain": [
       "<matplotlib.figure.Figure at 0x7fd730e18d10>"
      ]
     },
     "metadata": {},
     "output_type": "display_data"
    }
   ],
   "source": [
    "N = 40\n",
    "X_train = X[:N]\n",
    "y_train = y[:N]\n",
    "\n",
    "degrees = np.arange(2, 16)\n",
    "\n",
    "training_scores = []\n",
    "test_scores = []\n",
    "r2 = metrics.r2_score\n",
    "\n",
    "for d in degrees:\n",
    "    model = PolynomialRegression(d).fit(X_train, y_train)\n",
    "    training_scores.append(r2(model.predict(X_train), y_train))\n",
    "    \n",
    "    scores = cross_validation.cross_val_score(model, X_train, y_train, cv=5)\n",
    "    test_scores.append(np.mean(scores))\n",
    "\n",
    "# note that the test error can also be computed via cross-validation\n",
    "plt.plot(degrees, training_scores, label='training score')\n",
    "plt.plot(degrees, test_scores, label='cross-validated score')\n",
    "plt.legend()\n",
    "plt.xlabel('degree')\n",
    "plt.ylabel('$R^2$')\n",
    "plt.ylim(0.0, 1.0);\n",
    "\n",
    "# con grado 5 va abbastanza bene"
   ]
  },
  {
   "cell_type": "markdown",
   "metadata": {},
   "source": [
    "## Exercise:\n",
    "\n",
    "Use numpy to select the hyperparameter (polynomial degree) that gives the best cross-validated score."
   ]
  },
  {
   "cell_type": "code",
   "execution_count": 72,
   "metadata": {
    "collapsed": false
   },
   "outputs": [
    {
     "data": {
      "text/plain": [
       "2"
      ]
     },
     "execution_count": 72,
     "metadata": {},
     "output_type": "execute_result"
    }
   ],
   "source": [
    "np.array(test_scores).argmax()\n",
    "\n",
    "# quale è l'elemento della lista che ha valore maggiore"
   ]
  },
  {
   "cell_type": "code",
   "execution_count": 73,
   "metadata": {
    "collapsed": false
   },
   "outputs": [
    {
     "data": {
      "text/plain": [
       "4"
      ]
     },
     "execution_count": 73,
     "metadata": {},
     "output_type": "execute_result"
    }
   ],
   "source": [
    "degrees[np.array(test_scores).argmax()]\n",
    "\n",
    "# quale è il parametro che ha avuto quello score maggiore"
   ]
  },
  {
   "cell_type": "code",
   "execution_count": 74,
   "metadata": {
    "collapsed": true
   },
   "outputs": [],
   "source": [
    "# regolarizzazione su modello: \n",
    "# aggiungo limiti sullo spazio dei parametri\n",
    "# all'errore, aggiungo la somma dei quadrati dei pesi, ad esempio\n",
    "\n",
    "# effetto: aggiungo limiti, quindi riduco il numero effettivo di paramtri, vuol dire ridurre la VC dimension"
   ]
  },
  {
   "cell_type": "markdown",
   "metadata": {},
   "source": [
    "## Regularization\n",
    "\n",
    "With regularization, we add constraints to the model, by limiting the space of the parameter values.\n",
    "\n",
    "For example, with L1 regularization, we add a term to the error function:\n",
    "$$\\alpha \\sum_{d=0}^D {w_d}$$\n",
    "With L2 regularization, we add this term:\n",
    "$$\\alpha \\sum_{d=0}^D {w_d^2} $$\n",
    "For example, the error function of Linear Regression with L1 regularization becomes\n",
    "$$ \\frac{1}{N} \\sum_{i=1}^N {\\left( \\mathbf{w}x_i - y_i \\right)} + \\alpha \\sum_{d=0}^D {w_d} $$\n",
    "With regularization, we are not free to change all parameters independently: If we set one parameter to a high value, we implicitly force other parameters to be smaller. The degrees of freedom thus are smaller than without the restriction. As result, we are reducing the effective parameters (or VC dimension)."
   ]
  },
  {
   "cell_type": "code",
   "execution_count": 75,
   "metadata": {
    "collapsed": true
   },
   "outputs": [],
   "source": [
    "# regolarizzazione bassa = overfitting\n",
    "# regolarizzazione alta = underfitting\n",
    "\n",
    "from sklearn.linear_model import Lasso   # regr lin con regolarizzazione di 1\n",
    "                                         # alpha = peso della regolarizzazione\n",
    "class RegularizedPolynomialRegression(Lasso):\n",
    "    \"\"\"Simple Polynomial Regression to 1D data\"\"\"\n",
    "    def __init__(self, degree=1, alpha=1.0, **kwargs):\n",
    "        self.degree = degree\n",
    "        self.alpha = alpha\n",
    "        Lasso.__init__(self, alpha=alpha, **kwargs)\n",
    "        \n",
    "    def fit(self, X, y):\n",
    "        if X.shape[1] != 1:\n",
    "            raise ValueError(\"Only 1D data valid here\")\n",
    "        Xp = X ** (1 + np.arange(self.degree))\n",
    "        return Lasso.fit(self, Xp, y)\n",
    "        \n",
    "    def predict(self, X):\n",
    "        Xp = X ** (1 + np.arange(self.degree))\n",
    "        return Lasso.predict(self, Xp)"
   ]
  },
  {
   "cell_type": "code",
   "execution_count": 76,
   "metadata": {
    "collapsed": false
   },
   "outputs": [
    {
     "data": {
      "text/plain": [
       "array([ 0.0001    ,  0.00010985,  0.00012068,  0.00013257,  0.00014563,\n",
       "        0.00015999,  0.00017575,  0.00019307,  0.0002121 ,  0.000233  ,\n",
       "        0.00025595,  0.00028118,  0.00030888,  0.00033932,  0.00037276,\n",
       "        0.00040949,  0.00044984,  0.00049417,  0.00054287,  0.00059636,\n",
       "        0.00065513,  0.00071969,  0.0007906 ,  0.00086851,  0.0009541 ,\n",
       "        0.00104811,  0.0011514 ,  0.00126486,  0.0013895 ,  0.00152642,\n",
       "        0.00167683,  0.00184207,  0.00202359,  0.002223  ,  0.00244205,\n",
       "        0.0026827 ,  0.00294705,  0.00323746,  0.00355648,  0.00390694,\n",
       "        0.00429193,  0.00471487,  0.00517947,  0.00568987,  0.00625055,\n",
       "        0.00686649,  0.00754312,  0.00828643,  0.00910298,  0.01      ])"
      ]
     },
     "execution_count": 76,
     "metadata": {},
     "output_type": "execute_result"
    }
   ],
   "source": [
    "np.logspace(-4, -2, 50)   # da 10^-4 a 10^-2"
   ]
  },
  {
   "cell_type": "code",
   "execution_count": 77,
   "metadata": {
    "collapsed": false
   },
   "outputs": [
    {
     "name": "stderr",
     "output_type": "stream",
     "text": [
      "/home/bigdive/anaconda2/lib/python2.7/site-packages/sklearn/linear_model/coordinate_descent.py:466: ConvergenceWarning: Objective did not converge. You might want to increase the number of iterations\n",
      "  ConvergenceWarning)\n"
     ]
    },
    {
     "data": {
      "image/png": "[encoded data removed]",
      "text/plain": [
       "<matplotlib.figure.Figure at 0x7fd730ce3090>"
      ]
     },
     "metadata": {},
     "output_type": "display_data"
    }
   ],
   "source": [
    "X_train, y_train = make_data(30, error=1)\n",
    "\n",
    "degree = 1000    # polinomi con grado 1.000 a 30 punti\n",
    "alphas = np.logspace(-4, -2, 20)   # uso questi valori di regolarizzazione (da 10^-4 a 10^-2)\n",
    "\n",
    "training_scores = []\n",
    "test_scores = []\n",
    "r2 = metrics.r2_score\n",
    "\n",
    "for alpha in alphas:\n",
    "    model = RegularizedPolynomialRegression(degree, alpha=alpha).fit(X_train, y_train)\n",
    "    training_scores.append(r2(model.predict(X_train), y_train))\n",
    "    \n",
    "    scores = cross_validation.cross_val_score(model, X_train, y_train, cv=5)\n",
    "    test_scores.append(np.mean(scores))\n",
    "\n",
    "# note that the test error can also be computed via cross-validation\n",
    "plt.plot(alphas, training_scores, label='training score')\n",
    "plt.plot(alphas, test_scores, label='cross-validated score')\n",
    "plt.legend()\n",
    "plt.xlabel('alpha')\n",
    "plt.ylabel('$R^2$')\n",
    "plt.xscale('log')\n",
    "plt.ylim(np.min(test_scores), 1.);\n",
    "\n",
    "# alpha cross validaton intorno a 10^-3\n",
    "# l'alpha migliore è tra 10^-4 e 10^-2"
   ]
  },
  {
   "cell_type": "code",
   "execution_count": 78,
   "metadata": {
    "collapsed": false
   },
   "outputs": [
    {
     "name": "stdout",
     "output_type": "stream",
     "text": [
      "best alpha: 0.001\n"
     ]
    },
    {
     "data": {
      "text/plain": [
       "0.59033644513723549"
      ]
     },
     "execution_count": 78,
     "metadata": {},
     "output_type": "execute_result"
    },
    {
     "data": {
      "image/png": "[encoded data removed]",
      "text/plain": [
       "<matplotlib.figure.Figure at 0x7fd730bd28d0>"
      ]
     },
     "metadata": {},
     "output_type": "display_data"
    }
   ],
   "source": [
    "alpha = 0.001        # PROVARE CON DIVERSI ALPHA\n",
    "print \"best alpha:\" , alpha\n",
    "model = RegularizedPolynomialRegression(degree, alpha = alpha).fit(X_train, y_train)\n",
    "\n",
    "X_test, y_test = make_data(400, error = 1.0, random_seed=2)\n",
    "y_pred = model.predict(X_test)\n",
    "\n",
    "plt.scatter(X_train.ravel(), y_train)\n",
    "plt.scatter(X_test.ravel(), y_pred, color = 'r')\n",
    "r2(model.predict(X_test), y_test)"
   ]
  },
  {
   "cell_type": "code",
   "execution_count": 79,
   "metadata": {
    "collapsed": false
   },
   "outputs": [
    {
     "name": "stdout",
     "output_type": "stream",
     "text": [
      "best alpha: 0.01\n"
     ]
    },
    {
     "data": {
      "text/plain": [
       "0.46093309378259617"
      ]
     },
     "execution_count": 79,
     "metadata": {},
     "output_type": "execute_result"
    },
    {
     "data": {
      "image/png": "[encoded data removed]",
      "text/plain": [
       "<matplotlib.figure.Figure at 0x7fd730775d90>"
      ]
     },
     "metadata": {},
     "output_type": "display_data"
    }
   ],
   "source": [
    "alpha = 0.01                  # PROVARE CON DIVERSI ALPHA\n",
    "print \"best alpha:\" , alpha\n",
    "model = RegularizedPolynomialRegression(degree, alpha = alpha).fit(X_train, y_train)\n",
    "\n",
    "X_test, y_test = make_data(400, error = 1.0, random_seed=2)\n",
    "y_pred = model.predict(X_test)\n",
    "\n",
    "plt.scatter(X_train.ravel(), y_train)\n",
    "plt.scatter(X_test.ravel(), y_pred, color = 'r')\n",
    "r2(model.predict(X_test), y_test)"
   ]
  },
  {
   "cell_type": "code",
   "execution_count": 80,
   "metadata": {
    "collapsed": false
   },
   "outputs": [
    {
     "name": "stdout",
     "output_type": "stream",
     "text": [
      "best alpha: 0.0\n"
     ]
    },
    {
     "name": "stderr",
     "output_type": "stream",
     "text": [
      "/home/bigdive/anaconda2/lib/python2.7/site-packages/ipykernel/__main__.py:17: UserWarning: With alpha=0, this algorithm does not converge well. You are advised to use the LinearRegression estimator\n",
      "/home/bigdive/anaconda2/lib/python2.7/site-packages/sklearn/linear_model/coordinate_descent.py:454: UserWarning: Coordinate descent with alpha=0 may lead to unexpected results and is discouraged.\n",
      "  positive)\n"
     ]
    },
    {
     "data": {
      "text/plain": [
       "0.34247975739831515"
      ]
     },
     "execution_count": 80,
     "metadata": {},
     "output_type": "execute_result"
    },
    {
     "data": {
      "image/png": "[encoded data removed]",
      "text/plain": [
       "<matplotlib.figure.Figure at 0x7fd73061aa50>"
      ]
     },
     "metadata": {},
     "output_type": "display_data"
    }
   ],
   "source": [
    "alpha = 0.0                       # PROVARE CON DIVERSI ALPHA\n",
    "print \"best alpha:\" , alpha\n",
    "model = RegularizedPolynomialRegression(degree, alpha = alpha).fit(X_train, y_train)\n",
    "\n",
    "X_test, y_test = make_data(400, error = 1.0, random_seed=2)\n",
    "y_pred = model.predict(X_test)\n",
    "\n",
    "plt.scatter(X_train.ravel(), y_train)\n",
    "plt.scatter(X_test.ravel(), y_pred, color = 'r')\n",
    "r2(model.predict(X_test), y_test)"
   ]
  },
  {
   "cell_type": "code",
   "execution_count": 81,
   "metadata": {
    "collapsed": false
   },
   "outputs": [
    {
     "data": {
      "text/plain": [
       "array([  3.79246726e+01,  -5.89161774e+01,   1.09541207e+01,\n",
       "         1.45049411e+01,   8.95178953e+00,   3.80737859e+00,\n",
       "         5.81329330e-01,  -1.04172526e+00,  -1.65467258e+00,\n",
       "        -1.73428858e+00,  -1.58718137e+00,  -1.38447255e+00,\n",
       "        -1.20756622e+00,  -1.08473287e+00,  -1.01609368e+00,\n",
       "        -9.89218594e-01,  -9.88112976e-01,  -9.97882478e-01,\n",
       "        -1.00674289e+00,  -1.00651194e+00,  -9.92319427e-01,\n",
       "        -9.61986084e-01,  -9.15327960e-01,  -8.53517271e-01,\n",
       "        -7.78554748e-01,  -6.92865255e-01,  -5.99006762e-01,\n",
       "        -4.99473721e-01,  -3.96574063e-01,  -2.92360708e-01,\n",
       "        -1.88601618e-01,  -8.67758169e-02,   1.19140791e-02,\n",
       "         1.06519652e-01,   1.96319584e-01,   2.80790880e-01,\n",
       "         3.59580481e-01,   4.32478516e-01,   4.99393886e-01,\n",
       "         5.60332470e-01,   6.15378025e-01,   6.64675677e-01,\n",
       "         7.08417824e-01,   7.46832220e-01,   7.80172004e-01,\n",
       "         8.08707431e-01,   8.32719075e-01,   8.52492300e-01,\n",
       "         8.68312811e-01,   8.80463120e-01,   8.89219769e-01,\n",
       "         8.94851212e-01,   8.97616214e-01,   8.97762704e-01,\n",
       "         8.95526987e-01,   8.91133246e-01,   8.84793299e-01,\n",
       "         8.76706530e-01,   8.67059993e-01,   8.56028620e-01,\n",
       "         8.43775534e-01,   8.30452428e-01,   8.16199992e-01,\n",
       "         8.01148385e-01,   7.85417722e-01,   7.69118581e-01,\n",
       "         7.52352513e-01,   7.35212546e-01,   7.17783693e-01,\n",
       "         7.00143438e-01,   6.82362215e-01,   6.64503872e-01,\n",
       "         6.46626109e-01,   6.28780907e-01,   6.11014933e-01,\n",
       "         5.93369919e-01,   5.75883036e-01,   5.58587229e-01,\n",
       "         5.41511551e-01,   5.24681461e-01,   5.08119117e-01,\n",
       "         4.91843644e-01,   4.75871383e-01,   4.60216132e-01,\n",
       "         4.44889358e-01,   4.29900411e-01,   4.15256708e-01,\n",
       "         4.00963909e-01,   3.87026089e-01,   3.73445881e-01,\n",
       "         3.60224625e-01,   3.47362490e-01,   3.34858605e-01,\n",
       "         3.22711158e-01,   3.10917511e-01,   2.99474283e-01,\n",
       "         2.88377444e-01,   2.77622393e-01,   2.67204029e-01,\n",
       "         2.57116820e-01,   2.47354862e-01,   2.37911939e-01,\n",
       "         2.28781568e-01,   2.19957052e-01,   2.11431517e-01,\n",
       "         2.03197952e-01,   1.95249244e-01,   1.87578209e-01,\n",
       "         1.80177621e-01,   1.73040236e-01,   1.66158816e-01,\n",
       "         1.59526147e-01,   1.53135062e-01,   1.46978452e-01,\n",
       "         1.41049282e-01,   1.35340606e-01,   1.29845573e-01,\n",
       "         1.24557440e-01,   1.19469581e-01,   1.14575491e-01,\n",
       "         1.09868793e-01,   1.05343245e-01,   1.00992738e-01,\n",
       "         9.68113089e-02,   9.27931331e-02,   8.89325324e-02,\n",
       "         8.52239736e-02,   8.16620702e-02,   7.82415817e-02,\n",
       "         7.49574137e-02,   7.18046173e-02,   6.87783878e-02,\n",
       "         6.58740633e-02,   6.30871233e-02,   6.04131866e-02,\n",
       "         5.78480094e-02,   5.53874828e-02,   5.30276308e-02,\n",
       "         5.07646073e-02,   4.85946938e-02,   4.65142963e-02,\n",
       "         4.45199429e-02,   4.26082808e-02,   4.07760730e-02,\n",
       "         3.90201962e-02,   3.73376369e-02,   3.57254892e-02,\n",
       "         3.41809512e-02,   3.27013228e-02,   3.12840019e-02,\n",
       "         2.99264823e-02,   2.86263503e-02,   2.73812822e-02,\n",
       "         2.61890412e-02,   2.50474747e-02,   2.39545120e-02,\n",
       "         2.29081610e-02,   2.19065062e-02,   2.09477057e-02,\n",
       "         2.00299890e-02,   1.91516544e-02,   1.83110667e-02,\n",
       "         1.75066549e-02,   1.67369098e-02,   1.60003821e-02,\n",
       "         1.52956800e-02,   1.46214670e-02,   1.39764605e-02,\n",
       "         1.33594290e-02,   1.27691909e-02,   1.22046124e-02,\n",
       "         1.16646054e-02,   1.11481265e-02,   1.06541745e-02,\n",
       "         1.01817895e-02,   9.73005069e-03,   9.29807546e-03,\n",
       "         8.88501745e-03,   8.49006537e-03,   8.11244158e-03,\n",
       "         7.75140077e-03,   7.40622868e-03,   7.07624092e-03,\n",
       "         6.76078172e-03,   6.45922283e-03,   6.17096239e-03,\n",
       "         5.89542395e-03,   5.63205532e-03,   5.38032771e-03,\n",
       "         5.13973471e-03,   4.90979142e-03,   4.69003353e-03,\n",
       "         4.48001652e-03,   4.27931484e-03,   4.08752111e-03,\n",
       "         3.90424537e-03,   3.72911442e-03,   3.56177103e-03,\n",
       "         3.40187335e-03,   3.24909425e-03,   3.10312067e-03,\n",
       "         2.96365311e-03,   2.83040497e-03,   2.70310208e-03,\n",
       "         2.58148214e-03,   2.46529422e-03,   2.35429830e-03,\n",
       "         2.24826481e-03,   2.14697414e-03,   2.05021626e-03,\n",
       "         1.95779033e-03,   1.86950425e-03,   1.78517432e-03,\n",
       "         1.70462489e-03,   1.62768800e-03,   1.55420305e-03,\n",
       "         1.48401648e-03,   1.41698151e-03,   1.35295775e-03,\n",
       "         1.29181106e-03,   1.23341314e-03,   1.17764138e-03,\n",
       "         1.12437858e-03,   1.07351269e-03,   1.02493664e-03,\n",
       "         9.78548062e-04,   9.34249140e-04,   8.91946368e-04,\n",
       "         8.51550411e-04,   8.12975865e-04,   7.76141133e-04,\n",
       "         7.40968206e-04,   7.07382623e-04,   6.75313114e-04,\n",
       "         6.44691702e-04,   6.15453324e-04,   5.87535886e-04,\n",
       "         5.60880026e-04,   5.35429081e-04,   5.11128812e-04,\n",
       "         4.87927500e-04,   4.65775689e-04,   4.44626142e-04,\n",
       "         4.24433736e-04,   4.05155354e-04,   3.86749806e-04,\n",
       "         3.69177782e-04,   3.52401650e-04,   3.36385597e-04,\n",
       "         3.21095267e-04,   3.06497956e-04,   2.92562342e-04,\n",
       "         2.79258589e-04,   2.66558155e-04,   2.54433775e-04,\n",
       "         2.42859402e-04,   2.31810219e-04,   2.21262463e-04,\n",
       "         2.11193438e-04,   2.01581542e-04,   1.92406066e-04,\n",
       "         1.83647220e-04,   1.75286210e-04,   1.67305029e-04,\n",
       "         1.59686417e-04,   1.52414000e-04,   1.45472089e-04,\n",
       "         1.38845686e-04,   1.32520512e-04,   1.26482914e-04,\n",
       "         1.20719849e-04,   1.15218862e-04,   1.09968067e-04,\n",
       "         1.04956159e-04,   1.00172242e-04,   9.56059972e-05,\n",
       "         9.12475260e-05,   8.70873663e-05,   8.31166186e-05,\n",
       "         7.93266306e-05,   7.57091268e-05,   7.22563766e-05,\n",
       "         6.89608508e-05,   6.58153519e-05,   6.28131216e-05,\n",
       "         5.99476872e-05,   5.72127746e-05,   5.46024514e-05,\n",
       "         5.21110430e-05,   4.97331381e-05,   4.74636804e-05,\n",
       "         4.52975300e-05,   4.32302010e-05,   4.12570904e-05,\n",
       "         3.93739864e-05,   3.75765478e-05,   3.58612144e-05,\n",
       "         3.42241401e-05,   3.26615493e-05,   3.11702783e-05,\n",
       "         2.97471572e-05,   2.83887411e-05,   2.70924432e-05,\n",
       "         2.58551552e-05,   2.46744570e-05,   2.35475086e-05,\n",
       "         2.24719939e-05,   2.14456022e-05,   2.04660153e-05,\n",
       "         1.95311448e-05,   1.86390070e-05,   1.77875019e-05,\n",
       "         1.69747397e-05,   1.61993735e-05,   1.54590481e-05,\n",
       "         1.47528642e-05,   1.40787290e-05,   1.34354236e-05,\n",
       "         1.28215736e-05,   1.22355240e-05,   1.16764059e-05,\n",
       "         1.11427632e-05,   1.06337077e-05,   1.01475454e-05,\n",
       "         9.68372605e-06,   9.24114286e-06,   8.81874004e-06,\n",
       "         8.41569854e-06,   8.03097158e-06,   7.66377881e-06,\n",
       "         7.31361941e-06,   6.97919546e-06,   6.65994661e-06,\n",
       "         6.35583744e-06,   6.06490897e-06,   5.78785460e-06,\n",
       "         5.52288200e-06,   5.27061407e-06,   5.02972836e-06,\n",
       "         4.79962081e-06,   4.58031014e-06,   4.37050302e-06,\n",
       "         4.17082927e-06,   3.98034577e-06,   3.79818845e-06,\n",
       "         3.62420040e-06,   3.45880134e-06,   3.30044895e-06,\n",
       "         3.14943427e-06,   3.00566490e-06,   2.86827853e-06,\n",
       "         2.73656609e-06,   2.61180958e-06,   2.49213200e-06,\n",
       "         2.37830497e-06,   2.26961787e-06,   2.16533218e-06,\n",
       "         2.06677904e-06,   1.97231445e-06,   1.88144138e-06,\n",
       "         1.79600955e-06,   1.71367188e-06,   1.63504284e-06,\n",
       "         1.56077256e-06,   1.48884876e-06,   1.42043026e-06,\n",
       "         1.35594297e-06,   1.29444893e-06,   1.23443591e-06,\n",
       "         1.17802289e-06,   1.12435958e-06,   1.07312428e-06,\n",
       "         1.02369437e-06,   9.76849758e-07,   9.32558590e-07,\n",
       "         8.89670252e-07,   8.48819320e-07,   8.09354341e-07,\n",
       "         7.73090345e-07,   7.37537453e-07,   7.04439983e-07,\n",
       "         6.71502122e-07,   6.40868532e-07,   6.11906343e-07,\n",
       "         5.82908744e-07,   5.57326405e-07,   5.30899311e-07,\n",
       "         5.08068520e-07,   4.83356483e-07,   4.61372441e-07,\n",
       "         4.40898818e-07,   4.20865093e-07,   4.01114506e-07,\n",
       "         3.82746107e-07,   3.65341327e-07,   3.47714076e-07,\n",
       "         3.33341529e-07,   3.17961031e-07,   3.01772103e-07,\n",
       "         2.90330204e-07,   2.75992028e-07,   2.62971095e-07,\n",
       "         2.51365216e-07,   2.38842846e-07,   2.27756268e-07,\n",
       "         2.18326778e-07,   2.09443185e-07,   1.98098725e-07,\n",
       "         1.90556702e-07,   1.82155045e-07,   1.70353502e-07,\n",
       "         1.65151218e-07,   1.57413209e-07,   1.50291473e-07,\n",
       "         1.43276894e-07,   1.33140075e-07,   1.32358345e-07,\n",
       "         1.24927221e-07,   1.16306764e-07,   1.14837401e-07,\n",
       "         1.08374105e-07,   1.03505532e-07,   9.89117928e-08,\n",
       "         9.23607296e-08,   8.95887189e-08,   8.56812826e-08,\n",
       "         8.06827910e-08,   7.64718366e-08,   7.58055831e-08,\n",
       "         6.80037446e-08,   7.22994069e-08,   6.11337883e-08,\n",
       "         6.54105648e-08,   5.69645459e-08,   5.06221157e-08,\n",
       "         5.37652700e-08,   5.14535905e-08,   5.29395160e-08,\n",
       "         4.17556944e-08,   4.19614133e-08,   4.59592510e-08,\n",
       "         4.33942480e-08,   3.33606649e-08,   3.57925772e-08,\n",
       "         3.75637618e-08,   3.64595037e-08,   2.57558626e-08,\n",
       "         2.69552355e-08,   3.21883747e-08,   2.76200803e-08,\n",
       "         2.90067125e-08,   1.14227817e-08,   3.42559515e-08,\n",
       "         3.07904630e-08,   9.50214667e-10,   3.41238528e-08,\n",
       "         2.04315444e-08,   3.65050557e-09,   3.63045463e-08,\n",
       "         1.87816665e-08,   2.23781764e-08,   7.87517446e-09,\n",
       "         1.98757941e-08,  -4.09582442e-10,   8.91950542e-10,\n",
       "         2.68522992e-08,   1.93117995e-09,   5.41196017e-09,\n",
       "         3.65792436e-08,   2.65765188e-09,   5.68957753e-09,\n",
       "         6.09012952e-09,   2.95137714e-08,   8.21367504e-10,\n",
       "         1.11550550e-08,   4.42255506e-09,   5.23041111e-09,\n",
       "         7.04207553e-09,   1.62801037e-08,   5.24539117e-09,\n",
       "         5.64599701e-09,   6.24019925e-09,   8.21099961e-09,\n",
       "         3.96827858e-09,   1.14084300e-08,   2.05455287e-09,\n",
       "         9.64991230e-09,   8.13600983e-09,   2.53602518e-09,\n",
       "         2.97893020e-09,   4.17569283e-09,   4.32407544e-09,\n",
       "         4.55679542e-09,   4.55018395e-09,   1.16449407e-08,\n",
       "         5.93310661e-09,   5.05558200e-09,   5.90874346e-09,\n",
       "         7.03672137e-09,   6.39606980e-09,   6.56699831e-09,\n",
       "         5.51950253e-09,   6.99609264e-09,   5.09686179e-09,\n",
       "         3.45411448e-09,   5.94288608e-09,   5.86046694e-09,\n",
       "         2.77010539e-09,   3.55728285e-09,   3.91871535e-09,\n",
       "         5.86060420e-09,   6.20392975e-09,   4.75540523e-09,\n",
       "         5.66269000e-09,   8.87394290e-09,   5.46540779e-09,\n",
       "         7.19741292e-09,   6.60012789e-09,   8.78135835e-09,\n",
       "         3.59641128e-09,   2.95080563e-09,   5.12580428e-09,\n",
       "         7.04999984e-09,   4.60393185e-10,   1.47321030e-09,\n",
       "         2.47345786e-09,   2.38996158e-09,   6.29025715e-09,\n",
       "         1.62437851e-09,   4.48219730e-09,   3.45507170e-09,\n",
       "         3.72814221e-09,   4.79929141e-09,   1.95012485e-10,\n",
       "         6.44820322e-09,   3.05066363e-09,   4.14137235e-10,\n",
       "        -2.65039214e-09,   1.54811524e-09,   4.30765887e-10,\n",
       "         3.90548374e-09,   1.32322676e-08,   3.65917481e-09,\n",
       "         1.26382627e-08,  -1.09032447e-09,  -2.00877494e-09,\n",
       "        -2.02985394e-09,   4.81134922e-10,   1.41128322e-09,\n",
       "        -3.14748692e-09,  -1.67860512e-09,   3.97013695e-09,\n",
       "         7.05779178e-09,  -1.41704781e-09,  -2.36166957e-09,\n",
       "        -1.20913551e-09,   1.02101457e-08,  -4.58546022e-09,\n",
       "         1.22274964e-10,  -4.30393880e-09,  -4.86894419e-09,\n",
       "         7.56748437e-09,  -1.58269037e-10,   1.85696300e-09,\n",
       "         1.08037971e-09,   7.68245042e-09,   1.41352492e-08,\n",
       "        -9.94215158e-09,  -5.82671259e-10,   4.97196644e-09,\n",
       "         5.70100284e-09,   1.42829784e-08,  -2.12682190e-08,\n",
       "        -2.89600375e-09,  -1.59596796e-08,  -6.04045654e-09,\n",
       "         9.56679590e-09,  -1.37445007e-08,  -1.26611890e-08,\n",
       "         8.52936585e-09,  -2.52713735e-09,  -1.29385226e-08,\n",
       "         7.47534780e-09,  -5.52007737e-09,   1.43926227e-08,\n",
       "        -1.22115253e-08,   1.86074336e-09,   3.17556543e-09,\n",
       "         1.14316639e-08,   2.28061337e-08,   2.40849027e-09,\n",
       "        -6.42243192e-09,   1.12346090e-08,  -1.46136504e-09,\n",
       "        -1.77696212e-08,  -1.92861665e-08,  -8.51223813e-09,\n",
       "        -1.28625195e-08,  -2.82461832e-08,  -4.30404037e-10,\n",
       "         4.59082715e-09,   5.38639540e-09,  -1.51467043e-08,\n",
       "        -1.89414696e-08,  -2.55515832e-08,   3.61275757e-08,\n",
       "         2.56898853e-08,   6.48986529e-09,   8.61441519e-08,\n",
       "         5.16848108e-08,  -3.80650358e-08,  -1.40004776e-08,\n",
       "        -2.19022573e-08,   4.88470827e-08,   6.73926245e-08,\n",
       "        -4.47004333e-08,  -4.18801255e-08,  -3.84855102e-08,\n",
       "         8.79640208e-09,   9.38252385e-08,  -4.16987503e-08,\n",
       "         1.95699772e-08,  -9.48816535e-08,  -4.75657892e-08,\n",
       "         1.01470385e-07,  -1.95737925e-08,   1.10530764e-08,\n",
       "         4.06085012e-08,  -5.86839261e-08,  -2.98067395e-09,\n",
       "        -1.74860520e-08,  -5.08668612e-08,  -8.13843320e-09,\n",
       "         1.30210698e-07,   3.49789219e-08,   1.20707649e-08,\n",
       "         1.75569055e-08,  -3.24597122e-08,   1.33163721e-08,\n",
       "        -1.70444021e-08,   1.66650958e-08,  -8.56457080e-08,\n",
       "        -7.58397714e-08,   4.04465631e-08,   1.82371301e-07,\n",
       "         4.18329169e-09,   3.79272783e-08,  -1.09464978e-07,\n",
       "        -9.39147247e-08,   2.70736350e-09,   2.42571884e-07,\n",
       "        -3.69621330e-08,  -1.31416645e-08,  -1.01625568e-07,\n",
       "         7.47566082e-09,   3.58820054e-08,  -3.01930614e-07,\n",
       "        -1.29273131e-07,   2.73354645e-07,  -2.32222945e-08,\n",
       "         1.76139678e-07,   5.87113173e-08,   7.20168745e-08,\n",
       "         8.34951110e-08,   3.56234225e-08,  -2.84978115e-07,\n",
       "         2.06697406e-07,  -2.11824181e-07,   1.84439549e-08,\n",
       "        -1.91810895e-07,  -3.35740121e-07,  -2.79774339e-08,\n",
       "         3.64067837e-07,   1.59150164e-07,  -6.79018626e-09,\n",
       "        -3.76616754e-07,   2.39481842e-07,   1.27719497e-07,\n",
       "        -7.03121038e-08,  -1.87492848e-07,   1.74987636e-07,\n",
       "         2.50640808e-07,   1.53579161e-07,  -2.42685106e-08,\n",
       "        -1.68256203e-07,  -4.27960839e-07,  -2.94501111e-07,\n",
       "         8.63841840e-08,  -1.08892886e-07,   1.51886677e-07,\n",
       "         6.95677927e-07,  -1.01648265e-08,  -6.93896260e-07,\n",
       "        -4.97276153e-07,   7.77113281e-07,   9.20993205e-08,\n",
       "         3.50843148e-08,   5.53846377e-07,  -1.16553430e-06,\n",
       "         5.61992790e-07,   2.08895579e-07,  -1.13344873e-06,\n",
       "        -3.09992993e-07,   9.91945327e-08,   3.76192220e-07,\n",
       "         7.64899313e-07,   1.73873098e-07,  -1.36954049e-06,\n",
       "        -5.02148522e-07,   9.25140534e-07,   1.36764868e-06,\n",
       "        -5.53966264e-07,   2.36351255e-07,   4.41174667e-07,\n",
       "         2.01673291e-07,  -1.19506213e-07,   5.86358090e-07,\n",
       "        -2.09382516e-06,   1.91429220e-06,  -2.32027875e-07,\n",
       "         7.25965837e-07,   5.63155189e-07,   1.67063941e-06,\n",
       "        -1.46160554e-06,   8.75600059e-07,  -1.50342049e-06,\n",
       "         4.61641385e-07,  -9.84802938e-07,  -3.31712311e-07,\n",
       "        -3.24330382e-07,  -5.03187142e-07,  -3.01902470e-07,\n",
       "         7.15597405e-07,  -4.84682218e-06,   2.80877571e-06,\n",
       "         0.00000000e+00,   2.77874331e-07,   8.39770676e-07,\n",
       "        -3.53021529e-06,  -2.66952875e-06,  -8.09262406e-07,\n",
       "         2.52561587e-06,   1.70500170e-07,  -1.16390998e-06,\n",
       "        -1.93978691e-06,  -1.40694636e-06,   1.32414176e-06,\n",
       "         3.48385084e-06,  -1.00432075e-07,   8.03430476e-07,\n",
       "         9.71226600e-07,   4.26564090e-06,  -9.74971936e-07,\n",
       "         1.31725259e-06,  -3.10584198e-06,   6.31007697e-07,\n",
       "        -3.36526497e-07,  -1.34606223e-06,  -3.15865667e-06,\n",
       "         5.10473371e-07,  -3.26692336e-06,   4.99460045e-06,\n",
       "         2.91148638e-06,  -3.76622590e-06,   6.34291109e-07,\n",
       "        -1.95449276e-06,  -3.28745018e-06,  -2.13810947e-06,\n",
       "        -5.01726710e-06,   2.82174091e-06,  -1.13125429e-05,\n",
       "         6.42061072e-06,   2.01910573e-05,  -5.03776084e-07,\n",
       "        -7.38847569e-06,  -5.15833169e-06,   1.22267591e-06,\n",
       "        -1.95621786e-06,  -7.99849742e-06,   1.13134488e-05,\n",
       "        -1.58259494e-06,  -1.07612957e-05,   4.50131070e-07,\n",
       "         1.81246885e-05,  -4.09692664e-06,  -4.36991301e-06,\n",
       "         6.11767932e-06,  -3.10729165e-06,   2.48575251e-06,\n",
       "        -7.07035504e-07,   5.65610015e-06,  -1.00549623e-05,\n",
       "        -3.00298443e-06,   1.60153963e-05,   1.95228960e-06,\n",
       "         7.80890453e-06,  -8.32922737e-07,  -7.40351697e-06,\n",
       "         1.26349248e-05,   1.38137354e-05,   5.03118071e-06,\n",
       "         1.80158328e-05,  -6.13285009e-06,   8.72199212e-06,\n",
       "        -2.58162574e-05,   1.48845654e-06,   2.38145304e-06,\n",
       "        -2.62480512e-05,   6.92399200e-06,  -2.56881786e-05,\n",
       "        -3.42497914e-07,  -1.09595769e-06,   2.88349272e-05,\n",
       "        -5.81875109e-06,  -1.06396561e-05,  -1.41857469e-05,\n",
       "         3.83317944e-05,   6.45567127e-06,  -8.09084496e-05,\n",
       "         9.79285566e-06,  -2.87247761e-05,  -1.88010604e-05,\n",
       "         6.98169766e-05,  -1.90133670e-05,   6.08407963e-05,\n",
       "         4.28125018e-05,  -1.68240152e-05,  -2.87120524e-05,\n",
       "        -2.73439228e-06,   1.51662695e-05,  -5.41301558e-05,\n",
       "        -2.92002995e-05,  -9.20221945e-06,  -2.71810568e-05,\n",
       "         0.00000000e+00,   5.75529845e-05,   6.78015108e-05,\n",
       "         8.69785699e-05,   3.96114242e-05,   2.55728600e-05,\n",
       "         1.42313898e-05,   6.32485653e-06,   4.99225778e-05,\n",
       "        -1.03619712e-04,   4.60517080e-05,  -3.27468166e-05,\n",
       "        -6.63647241e-05,   1.21082578e-05,  -4.56994256e-05,\n",
       "        -8.05343405e-05,   6.21648383e-05,   9.76521349e-05,\n",
       "        -1.72312239e-04,  -6.99513513e-05,  -1.02409107e-05,\n",
       "         1.85695809e-04,   4.82689380e-05,   4.43837874e-05,\n",
       "        -1.87471023e-04,  -2.62577139e-05,   1.27110134e-04,\n",
       "        -1.37877696e-05,   2.20597142e-05,  -6.53599914e-05,\n",
       "        -1.00389683e-04,  -1.39797384e-04,  -3.96575430e-04,\n",
       "         6.76800064e-06,   4.18700027e-04,  -1.40524636e-04,\n",
       "        -2.17645694e-04,  -6.13220760e-05,   3.13024421e-04,\n",
       "         1.56974308e-04,   3.02975480e-04,   1.16225412e-04,\n",
       "         0.00000000e+00,   8.06281052e-05,  -1.54800929e-04,\n",
       "        -2.42169581e-04,   1.40894084e-04,   8.34900764e-06,\n",
       "        -5.65487733e-04,   2.18470048e-04,   5.06580743e-05,\n",
       "        -1.99924033e-04,   4.66834458e-04,   1.04506045e-04,\n",
       "        -4.52434991e-04,  -3.42702900e-04,   2.68558439e-04,\n",
       "         1.94947196e-04,  -4.66797157e-04,  -6.33691902e-05,\n",
       "         3.23474111e-04,   1.54490075e-04,  -2.80132896e-04,\n",
       "        -1.28893560e-04,   6.18668976e-04,   1.39977117e-04,\n",
       "        -2.13291529e-05,  -1.06168332e-04,  -4.77236414e-04,\n",
       "         9.49049471e-05,   0.00000000e+00,   3.04289572e-04,\n",
       "        -3.14095153e-05,   3.12689009e-04,   2.38231500e-04,\n",
       "         6.09852812e-04,   1.35518441e-04,  -5.27601312e-04,\n",
       "         6.16719383e-05,  -8.79824383e-04,   9.29678282e-04,\n",
       "        -9.35494901e-06,  -4.98914394e-04,  -4.36369603e-04,\n",
       "         8.40072867e-04,  -4.84350591e-05,   1.61444948e-03,\n",
       "        -5.09718945e-04,  -6.02459023e-04,   1.88078653e-04,\n",
       "         1.15351157e-03,  -6.77596363e-04,   6.46667435e-04,\n",
       "        -1.37951235e-03,  -7.35715999e-04,  -1.61563751e-04,\n",
       "         4.18513444e-04,  -1.10287016e-03,   1.34440754e-03,\n",
       "         2.98747518e-05,   6.37307319e-04,   9.85669942e-04,\n",
       "         5.98180241e-04,  -2.53281823e-03,   1.01051651e-03,\n",
       "        -8.13886156e-04,  -5.16177681e-04,   5.75597610e-04,\n",
       "        -8.54192451e-04,   1.19583055e-03,  -1.51846562e-03,\n",
       "        -1.49007249e-03,  -1.03653847e-03,   4.79095537e-04,\n",
       "         6.28946001e-04,   1.42556459e-03,   0.00000000e+00,\n",
       "        -2.28969918e-03,  -4.07044399e-04,   4.88437399e-04,\n",
       "         2.95223674e-03,   2.90197367e-03,  -3.29291271e-05,\n",
       "        -3.16109343e-04,   1.38615294e-03,   7.99197336e-05,\n",
       "        -1.40654158e-03,  -1.86396218e-03,   1.26078546e-03,\n",
       "         3.62059952e-04,   1.10338493e-03,   2.00073964e-03,\n",
       "        -4.14257327e-03,  -3.14657962e-03,   0.00000000e+00,\n",
       "        -3.96071342e-03,   3.24971049e-03,  -3.46624517e-04,\n",
       "         1.57131339e-03,   4.53509435e-03,  -2.52379654e-03,\n",
       "         2.24330177e-04,   2.99097179e-03,   1.91415971e-03,\n",
       "        -9.11961113e-03,  -9.94504364e-03,  -2.32285438e-03,\n",
       "        -6.60701545e-04,  -1.32136013e-03,   0.00000000e+00,\n",
       "         6.11348687e-03,  -5.34495136e-04,  -1.25424114e-03,\n",
       "         4.62153832e-03,   2.98363300e-03,   1.38366887e-04,\n",
       "         7.82208706e-03,  -2.04646694e-03,   8.39548885e-04,\n",
       "        -6.80572170e-03,  -6.68610570e-03,   2.64888528e-03,\n",
       "         5.86810893e-03,   1.39091393e-03,  -1.60722607e-03,\n",
       "        -4.74734420e-03])"
      ]
     },
     "execution_count": 81,
     "metadata": {},
     "output_type": "execute_result"
    }
   ],
   "source": [
    "model.coef_"
   ]
  },
  {
   "cell_type": "code",
   "execution_count": 82,
   "metadata": {
    "collapsed": false
   },
   "outputs": [
    {
     "data": {
      "text/plain": [
       "(1000,)"
      ]
     },
     "execution_count": 82,
     "metadata": {},
     "output_type": "execute_result"
    }
   ],
   "source": [
    "model.coef_.shape"
   ]
  },
  {
   "cell_type": "code",
   "execution_count": 83,
   "metadata": {
    "collapsed": false
   },
   "outputs": [
    {
     "name": "stdout",
     "output_type": "stream",
     "text": [
      "best alpha: 0.00088586679041\n"
     ]
    },
    {
     "data": {
      "text/plain": [
       "0.59222887027095561"
      ]
     },
     "execution_count": 83,
     "metadata": {},
     "output_type": "execute_result"
    },
    {
     "data": {
      "image/png": "[encoded data removed]",
      "text/plain": [
       "<matplotlib.figure.Figure at 0x7fd730dd8ad0>"
      ]
     },
     "metadata": {},
     "output_type": "display_data"
    }
   ],
   "source": [
    "alpha = alphas[np.argmax(test_scores)]\n",
    "print \"best alpha:\" , alpha\n",
    "model = RegularizedPolynomialRegression(degree, alpha=alpha).fit(X_train, y_train)\n",
    "\n",
    "X_test, y_test = make_data(400, error=1.0, random_seed=2)\n",
    "y_pred = model.predict(X_test)\n",
    "\n",
    "plt.scatter(X_train.ravel(), y_train)\n",
    "plt.scatter(X_test.ravel(), y_pred, color='r')\n",
    "r2(model.predict(X_test), y_test)"
   ]
  },
  {
   "cell_type": "markdown",
   "metadata": {},
   "source": [
    "## Exercise:\n",
    "\n",
    "Use numpy to select the hyperparameter (alpha) that gives the best cross-validated score.\n",
    "\n",
    "Then plot the test points with their true values and their predicted values."
   ]
  },
  {
   "cell_type": "code",
   "execution_count": 84,
   "metadata": {
    "collapsed": false
   },
   "outputs": [],
   "source": [
    "# YOUR CODE HERE"
   ]
  },
  {
   "cell_type": "markdown",
   "metadata": {},
   "source": [
    "## Hyperparameter search and model selection\n",
    "\n",
    "### Grid Search\n",
    "\n",
    "The grid search provided by **GridSearchCV** exhaustively generates candidates from a grid of parameter values specified with the `param_grid` parameter.\n",
    "\n",
    "The GridSearchCV implements the usual estimator API: when “fitting” it on a dataset all the possible combinations of parameter values are evaluated and the best combination is retained."
   ]
  },
  {
   "cell_type": "code",
   "execution_count": 85,
   "metadata": {
    "collapsed": true
   },
   "outputs": [],
   "source": [
    "from sklearn import grid_search"
   ]
  },
  {
   "cell_type": "code",
   "execution_count": 86,
   "metadata": {
    "collapsed": false
   },
   "outputs": [
    {
     "data": {
      "text/plain": [
       "{'degree': 4}"
      ]
     },
     "execution_count": 86,
     "metadata": {},
     "output_type": "execute_result"
    }
   ],
   "source": [
    "N = 40\n",
    "X_train = X[:N]\n",
    "y_train = y[:N]\n",
    "\n",
    "degrees = np.arange(2, 16)\n",
    "\n",
    "model = PolynomialRegression(2)\n",
    "\n",
    "param_grid = {\"degree\": degrees}   # griglia di parametri multidimensionale\n",
    "gs = grid_search.GridSearchCV(model, param_grid)\n",
    "gs.fit(X_train, y_train)\n",
    "gs.best_params_\n"
   ]
  },
  {
   "cell_type": "code",
   "execution_count": 87,
   "metadata": {
    "collapsed": false
   },
   "outputs": [
    {
     "data": {
      "text/plain": [
       "{'alpha': 0.00088586679041008235, 'degree': 3}"
      ]
     },
     "execution_count": 87,
     "metadata": {},
     "output_type": "execute_result"
    }
   ],
   "source": [
    "# cambiare il modello:\n",
    "\n",
    "N = 40\n",
    "X_train = X[:N]\n",
    "y_train = y[:N]\n",
    "\n",
    "degrees = np.arange(2, 15)\n",
    "alphas = np.logspace(-4, -2, 20)\n",
    "\n",
    "model = RegularizedPolynomialRegression(2, alpha = 0.1)\n",
    "\n",
    "param_grid = {\"degree\": degrees, 'alpha': alphas}   # griglia di parametri multidimensionale\n",
    "gs = grid_search.GridSearchCV(model, param_grid)\n",
    "gs.fit(X_train, y_train)\n",
    "gs.best_params_\n",
    "\n",
    "# con questi degree ed alpha vado a fare il plot:"
   ]
  },
  {
   "cell_type": "code",
   "execution_count": 88,
   "metadata": {
    "collapsed": false
   },
   "outputs": [
    {
     "name": "stdout",
     "output_type": "stream",
     "text": [
      "best alpha: 0.00088586679041\n"
     ]
    },
    {
     "data": {
      "text/plain": [
       "0.66254591033479682"
      ]
     },
     "execution_count": 88,
     "metadata": {},
     "output_type": "execute_result"
    },
    {
     "data": {
      "image/png": "[encoded data removed]",
      "text/plain": [
       "<matplotlib.figure.Figure at 0x7fd7307747d0>"
      ]
     },
     "metadata": {},
     "output_type": "display_data"
    }
   ],
   "source": [
    "alpha = 0.00088586679041008235\n",
    "print \"best alpha:\" , alpha\n",
    "model = RegularizedPolynomialRegression(3, alpha = alpha).fit(X_train, y_train)\n",
    "\n",
    "X_test, y_test = make_data(400, error = 1.0, random_seed=2)\n",
    "y_pred = model.predict(X_test)\n",
    "\n",
    "plt.scatter(X_train.ravel(), y_train)\n",
    "plt.scatter(X_test.ravel(), y_pred, color = 'r')\n",
    "r2(model.predict(X_test), y_test)"
   ]
  },
  {
   "cell_type": "code",
   "execution_count": 89,
   "metadata": {
    "collapsed": false
   },
   "outputs": [
    {
     "data": {
      "text/plain": [
       "GridSearchCV(cv=None, error_score='raise',\n",
       "       estimator=RegularizedPolynomialRegression(alpha=0.1, degree=2),\n",
       "       fit_params={}, iid=True, n_jobs=1,\n",
       "       param_grid={'alpha': array([ 0.0001 ,  0.00013,  0.00016,  0.00021,  0.00026,  0.00034,\n",
       "        0.00043,  0.00055,  0.0007 ,  0.00089,  0.00113,  0.00144,\n",
       "        0.00183,  0.00234,  0.00298,  0.00379,  0.00483,  0.00616,\n",
       "        0.00785,  0.01   ]), 'degree': array([ 2,  3,  4,  5,  6,  7,  8,  9, 10, 11, 12, 13, 14])},\n",
       "       pre_dispatch='2*n_jobs', refit=True, scoring=None, verbose=0)"
      ]
     },
     "execution_count": 89,
     "metadata": {},
     "output_type": "execute_result"
    }
   ],
   "source": [
    "# mi restituisce il grado 4\n",
    "# il modello che abbiamo creato é:\n",
    "gs # grid seearch object\n"
   ]
  },
  {
   "cell_type": "code",
   "execution_count": 90,
   "metadata": {
    "collapsed": false
   },
   "outputs": [
    {
     "data": {
      "text/plain": [
       "[mean: 0.77314, std: 0.08711, params: {'alpha': 0.0001, 'degree': 2},\n",
       " mean: 0.78044, std: 0.12332, params: {'alpha': 0.0001, 'degree': 3},\n",
       " mean: 0.76942, std: 0.12919, params: {'alpha': 0.0001, 'degree': 4},\n",
       " mean: 0.76930, std: 0.12358, params: {'alpha': 0.0001, 'degree': 5},\n",
       " mean: 0.77136, std: 0.11913, params: {'alpha': 0.0001, 'degree': 6},\n",
       " mean: 0.77579, std: 0.11469, params: {'alpha': 0.0001, 'degree': 7},\n",
       " mean: 0.77790, std: 0.11298, params: {'alpha': 0.0001, 'degree': 8},\n",
       " mean: 0.77852, std: 0.11273, params: {'alpha': 0.0001, 'degree': 9},\n",
       " mean: 0.77813, std: 0.11310, params: {'alpha': 0.0001, 'degree': 10},\n",
       " mean: 0.77748, std: 0.11338, params: {'alpha': 0.0001, 'degree': 11},\n",
       " mean: 0.77679, std: 0.11336, params: {'alpha': 0.0001, 'degree': 12},\n",
       " mean: 0.77632, std: 0.11344, params: {'alpha': 0.0001, 'degree': 13},\n",
       " mean: 0.77609, std: 0.11347, params: {'alpha': 0.0001, 'degree': 14},\n",
       " mean: 0.77316, std: 0.08705, params: {'alpha': 0.00012742749857031334, 'degree': 2},\n",
       " mean: 0.78065, std: 0.12271, params: {'alpha': 0.00012742749857031334, 'degree': 3},\n",
       " mean: 0.76939, std: 0.12921, params: {'alpha': 0.00012742749857031334, 'degree': 4},\n",
       " mean: 0.76914, std: 0.12379, params: {'alpha': 0.00012742749857031334, 'degree': 5},\n",
       " mean: 0.77063, std: 0.11990, params: {'alpha': 0.00012742749857031334, 'degree': 6},\n",
       " mean: 0.77511, std: 0.11541, params: {'alpha': 0.00012742749857031334, 'degree': 7},\n",
       " mean: 0.77735, std: 0.11359, params: {'alpha': 0.00012742749857031334, 'degree': 8},\n",
       " mean: 0.77813, std: 0.11315, params: {'alpha': 0.00012742749857031334, 'degree': 9},\n",
       " mean: 0.77784, std: 0.11343, params: {'alpha': 0.00012742749857031334, 'degree': 10},\n",
       " mean: 0.77726, std: 0.11367, params: {'alpha': 0.00012742749857031334, 'degree': 11},\n",
       " mean: 0.77657, std: 0.11360, params: {'alpha': 0.00012742749857031334, 'degree': 12},\n",
       " mean: 0.77614, std: 0.11365, params: {'alpha': 0.00012742749857031334, 'degree': 13},\n",
       " mean: 0.77586, std: 0.11368, params: {'alpha': 0.00012742749857031334, 'degree': 14},\n",
       " mean: 0.77319, std: 0.08698, params: {'alpha': 0.0001623776739188721, 'degree': 2},\n",
       " mean: 0.78091, std: 0.12193, params: {'alpha': 0.0001623776739188721, 'degree': 3},\n",
       " mean: 0.76935, std: 0.12922, params: {'alpha': 0.0001623776739188721, 'degree': 4},\n",
       " mean: 0.76895, std: 0.12405, params: {'alpha': 0.0001623776739188721, 'degree': 5},\n",
       " mean: 0.76970, std: 0.12086, params: {'alpha': 0.0001623776739188721, 'degree': 6},\n",
       " mean: 0.77424, std: 0.11633, params: {'alpha': 0.0001623776739188721, 'degree': 7},\n",
       " mean: 0.77690, std: 0.11408, params: {'alpha': 0.0001623776739188721, 'degree': 8},\n",
       " mean: 0.77763, std: 0.11370, params: {'alpha': 0.0001623776739188721, 'degree': 9},\n",
       " mean: 0.77750, std: 0.11385, params: {'alpha': 0.0001623776739188721, 'degree': 10},\n",
       " mean: 0.77697, std: 0.11404, params: {'alpha': 0.0001623776739188721, 'degree': 11},\n",
       " mean: 0.77631, std: 0.11396, params: {'alpha': 0.0001623776739188721, 'degree': 12},\n",
       " mean: 0.77585, std: 0.11393, params: {'alpha': 0.0001623776739188721, 'degree': 13},\n",
       " mean: 0.77557, std: 0.11396, params: {'alpha': 0.0001623776739188721, 'degree': 14},\n",
       " mean: 0.77323, std: 0.08690, params: {'alpha': 0.00020691380811147902, 'degree': 2},\n",
       " mean: 0.78123, std: 0.12095, params: {'alpha': 0.00020691380811147902, 'degree': 3},\n",
       " mean: 0.76927, std: 0.12923, params: {'alpha': 0.00020691380811147902, 'degree': 4},\n",
       " mean: 0.76873, std: 0.12439, params: {'alpha': 0.00020691380811147902, 'degree': 5},\n",
       " mean: 0.76853, std: 0.12205, params: {'alpha': 0.00020691380811147902, 'degree': 6},\n",
       " mean: 0.77316, std: 0.11752, params: {'alpha': 0.00020691380811147902, 'degree': 7},\n",
       " mean: 0.77612, std: 0.11493, params: {'alpha': 0.00020691380811147902, 'degree': 8},\n",
       " mean: 0.77697, std: 0.11442, params: {'alpha': 0.00020691380811147902, 'degree': 9},\n",
       " mean: 0.77703, std: 0.11439, params: {'alpha': 0.00020691380811147902, 'degree': 10},\n",
       " mean: 0.77661, std: 0.11450, params: {'alpha': 0.00020691380811147902, 'degree': 11},\n",
       " mean: 0.77609, std: 0.11451, params: {'alpha': 0.00020691380811147902, 'degree': 12},\n",
       " mean: 0.77561, std: 0.11444, params: {'alpha': 0.00020691380811147902, 'degree': 13},\n",
       " mean: 0.77530, std: 0.11442, params: {'alpha': 0.00020691380811147902, 'degree': 14},\n",
       " mean: 0.77328, std: 0.08679, params: {'alpha': 0.00026366508987303583, 'degree': 2},\n",
       " mean: 0.78160, std: 0.11970, params: {'alpha': 0.00026366508987303583, 'degree': 3},\n",
       " mean: 0.76913, std: 0.12919, params: {'alpha': 0.00026366508987303583, 'degree': 4},\n",
       " mean: 0.76853, std: 0.12482, params: {'alpha': 0.00026366508987303583, 'degree': 5},\n",
       " mean: 0.76788, std: 0.12244, params: {'alpha': 0.00026366508987303583, 'degree': 6},\n",
       " mean: 0.77178, std: 0.11889, params: {'alpha': 0.00026366508987303583, 'degree': 7},\n",
       " mean: 0.77504, std: 0.11606, params: {'alpha': 0.00026366508987303583, 'degree': 8},\n",
       " mean: 0.77606, std: 0.11536, params: {'alpha': 0.00026366508987303583, 'degree': 9},\n",
       " mean: 0.77637, std: 0.11509, params: {'alpha': 0.00026366508987303583, 'degree': 10},\n",
       " mean: 0.77612, std: 0.11509, params: {'alpha': 0.00026366508987303583, 'degree': 11},\n",
       " mean: 0.77568, std: 0.11505, params: {'alpha': 0.00026366508987303583, 'degree': 12},\n",
       " mean: 0.77518, std: 0.11489, params: {'alpha': 0.00026366508987303583, 'degree': 13},\n",
       " mean: 0.77485, std: 0.11484, params: {'alpha': 0.00026366508987303583, 'degree': 14},\n",
       " mean: 0.77335, std: 0.08664, params: {'alpha': 0.00033598182862837811, 'degree': 2},\n",
       " mean: 0.78203, std: 0.11812, params: {'alpha': 0.00033598182862837811, 'degree': 3},\n",
       " mean: 0.76879, std: 0.12895, params: {'alpha': 0.00033598182862837811, 'degree': 4},\n",
       " mean: 0.76831, std: 0.12536, params: {'alpha': 0.00033598182862837811, 'degree': 5},\n",
       " mean: 0.76708, std: 0.12289, params: {'alpha': 0.00033598182862837811, 'degree': 6},\n",
       " mean: 0.76988, std: 0.12046, params: {'alpha': 0.00033598182862837811, 'degree': 7},\n",
       " mean: 0.77360, std: 0.11756, params: {'alpha': 0.00033598182862837811, 'degree': 8},\n",
       " mean: 0.77523, std: 0.11614, params: {'alpha': 0.00033598182862837811, 'degree': 9},\n",
       " mean: 0.77550, std: 0.11602, params: {'alpha': 0.00033598182862837811, 'degree': 10},\n",
       " mean: 0.77542, std: 0.11586, params: {'alpha': 0.00033598182862837811, 'degree': 11},\n",
       " mean: 0.77511, std: 0.11574, params: {'alpha': 0.00033598182862837811, 'degree': 12},\n",
       " mean: 0.77473, std: 0.11559, params: {'alpha': 0.00033598182862837811, 'degree': 13},\n",
       " mean: 0.77437, std: 0.11546, params: {'alpha': 0.00033598182862837811, 'degree': 14},\n",
       " mean: 0.77343, std: 0.08646, params: {'alpha': 0.00042813323987193956, 'degree': 2},\n",
       " mean: 0.78250, std: 0.11613, params: {'alpha': 0.00042813323987193956, 'degree': 3},\n",
       " mean: 0.76777, std: 0.12798, params: {'alpha': 0.00042813323987193956, 'degree': 4},\n",
       " mean: 0.76766, std: 0.12603, params: {'alpha': 0.00042813323987193956, 'degree': 5},\n",
       " mean: 0.76635, std: 0.12348, params: {'alpha': 0.00042813323987193956, 'degree': 6},\n",
       " mean: 0.76764, std: 0.12258, params: {'alpha': 0.00042813323987193956, 'degree': 7},\n",
       " mean: 0.77162, std: 0.11943, params: {'alpha': 0.00042813323987193956, 'degree': 8},\n",
       " mean: 0.77389, std: 0.11758, params: {'alpha': 0.00042813323987193956, 'degree': 9},\n",
       " mean: 0.77436, std: 0.11713, params: {'alpha': 0.00042813323987193956, 'degree': 10},\n",
       " mean: 0.77455, std: 0.11686, params: {'alpha': 0.00042813323987193956, 'degree': 11},\n",
       " mean: 0.77440, std: 0.11664, params: {'alpha': 0.00042813323987193956, 'degree': 12},\n",
       " mean: 0.77410, std: 0.11644, params: {'alpha': 0.00042813323987193956, 'degree': 13},\n",
       " mean: 0.77379, std: 0.11625, params: {'alpha': 0.00042813323987193956, 'degree': 14},\n",
       " mean: 0.77352, std: 0.08623, params: {'alpha': 0.00054555947811685203, 'degree': 2},\n",
       " mean: 0.78297, std: 0.11363, params: {'alpha': 0.00054555947811685203, 'degree': 3},\n",
       " mean: 0.76758, std: 0.12737, params: {'alpha': 0.00054555947811685203, 'degree': 4},\n",
       " mean: 0.76689, std: 0.12688, params: {'alpha': 0.00054555947811685203, 'degree': 5},\n",
       " mean: 0.76561, std: 0.12422, params: {'alpha': 0.00054555947811685203, 'degree': 6},\n",
       " mean: 0.76621, std: 0.12334, params: {'alpha': 0.00054555947811685203, 'degree': 7},\n",
       " mean: 0.76908, std: 0.12167, params: {'alpha': 0.00054555947811685203, 'degree': 8},\n",
       " mean: 0.77182, std: 0.11943, params: {'alpha': 0.00054555947811685203, 'degree': 9},\n",
       " mean: 0.77310, std: 0.11826, params: {'alpha': 0.00054555947811685203, 'degree': 10},\n",
       " mean: 0.77328, std: 0.11816, params: {'alpha': 0.00054555947811685203, 'degree': 11},\n",
       " mean: 0.77341, std: 0.11779, params: {'alpha': 0.00054555947811685203, 'degree': 12},\n",
       " mean: 0.77327, std: 0.11752, params: {'alpha': 0.00054555947811685203, 'degree': 13},\n",
       " mean: 0.77303, std: 0.11727, params: {'alpha': 0.00054555947811685203, 'degree': 14},\n",
       " mean: 0.77363, std: 0.08595, params: {'alpha': 0.00069519279617756048, 'degree': 2},\n",
       " mean: 0.78337, std: 0.11051, params: {'alpha': 0.00069519279617756048, 'degree': 3},\n",
       " mean: 0.76906, std: 0.12478, params: {'alpha': 0.00069519279617756048, 'degree': 4},\n",
       " mean: 0.76632, std: 0.12746, params: {'alpha': 0.00069519279617756048, 'degree': 5},\n",
       " mean: 0.76508, std: 0.12474, params: {'alpha': 0.00069519279617756048, 'degree': 6},\n",
       " mean: 0.76490, std: 0.12358, params: {'alpha': 0.00069519279617756048, 'degree': 7},\n",
       " mean: 0.76625, std: 0.12345, params: {'alpha': 0.00069519279617756048, 'degree': 8},\n",
       " mean: 0.76902, std: 0.12182, params: {'alpha': 0.00069519279617756048, 'degree': 9},\n",
       " mean: 0.77090, std: 0.12018, params: {'alpha': 0.00069519279617756048, 'degree': 10},\n",
       " mean: 0.77180, std: 0.11929, params: {'alpha': 0.00069519279617756048, 'degree': 11},\n",
       " mean: 0.77191, std: 0.11919, params: {'alpha': 0.00069519279617756048, 'degree': 12},\n",
       " mean: 0.77206, std: 0.11879, params: {'alpha': 0.00069519279617756048, 'degree': 13},\n",
       " mean: 0.77200, std: 0.11847, params: {'alpha': 0.00069519279617756048, 'degree': 14},\n",
       " mean: 0.77377, std: 0.08558, params: {'alpha': 0.00088586679041008235, 'degree': 2},\n",
       " mean: 0.78357, std: 0.10662, params: {'alpha': 0.00088586679041008235, 'degree': 3},\n",
       " mean: 0.77041, std: 0.12203, params: {'alpha': 0.00088586679041008235, 'degree': 4},\n",
       " mean: 0.76535, std: 0.12696, params: {'alpha': 0.00088586679041008235, 'degree': 5},\n",
       " mean: 0.76568, std: 0.12396, params: {'alpha': 0.00088586679041008235, 'degree': 6},\n",
       " mean: 0.76506, std: 0.12273, params: {'alpha': 0.00088586679041008235, 'degree': 7},\n",
       " mean: 0.76552, std: 0.12261, params: {'alpha': 0.00088586679041008235, 'degree': 8},\n",
       " mean: 0.76668, std: 0.12296, params: {'alpha': 0.00088586679041008235, 'degree': 9},\n",
       " mean: 0.76777, std: 0.12268, params: {'alpha': 0.00088586679041008235, 'degree': 10},\n",
       " mean: 0.76912, std: 0.12134, params: {'alpha': 0.00088586679041008235, 'degree': 11},\n",
       " mean: 0.76996, std: 0.12051, params: {'alpha': 0.00088586679041008235, 'degree': 12},\n",
       " mean: 0.77019, std: 0.12028, params: {'alpha': 0.00088586679041008235, 'degree': 13},\n",
       " mean: 0.77044, std: 0.11987, params: {'alpha': 0.00088586679041008235, 'degree': 14},\n",
       " mean: 0.77393, std: 0.08512, params: {'alpha': 0.0011288378916846883, 'degree': 2},\n",
       " mean: 0.78329, std: 0.10182, params: {'alpha': 0.0011288378916846883, 'degree': 3},\n",
       " mean: 0.77165, std: 0.11828, params: {'alpha': 0.0011288378916846883, 'degree': 4},\n",
       " mean: 0.76413, std: 0.12569, params: {'alpha': 0.0011288378916846883, 'degree': 5},\n",
       " mean: 0.76576, std: 0.12343, params: {'alpha': 0.0011288378916846883, 'degree': 6},\n",
       " mean: 0.76523, std: 0.12196, params: {'alpha': 0.0011288378916846883, 'degree': 7},\n",
       " mean: 0.76498, std: 0.12156, params: {'alpha': 0.0011288378916846883, 'degree': 8},\n",
       " mean: 0.76553, std: 0.12136, params: {'alpha': 0.0011288378916846883, 'degree': 9},\n",
       " mean: 0.76645, std: 0.12150, params: {'alpha': 0.0011288378916846883, 'degree': 10},\n",
       " mean: 0.76682, std: 0.12160, params: {'alpha': 0.0011288378916846883, 'degree': 11},\n",
       " mean: 0.76707, std: 0.12170, params: {'alpha': 0.0011288378916846883, 'degree': 12},\n",
       " mean: 0.76698, std: 0.12201, params: {'alpha': 0.0011288378916846883, 'degree': 13},\n",
       " mean: 0.76762, std: 0.12130, params: {'alpha': 0.0011288378916846883, 'degree': 14},\n",
       " mean: 0.77410, std: 0.08453, params: {'alpha': 0.0014384498882876629, 'degree': 2},\n",
       " mean: 0.78209, std: 0.09598, params: {'alpha': 0.0014384498882876629, 'degree': 3},\n",
       " mean: 0.77255, std: 0.11320, params: {'alpha': 0.0014384498882876629, 'degree': 4},\n",
       " mean: 0.76480, std: 0.12110, params: {'alpha': 0.0014384498882876629, 'degree': 5},\n",
       " mean: 0.76349, std: 0.12279, params: {'alpha': 0.0014384498882876629, 'degree': 6},\n",
       " mean: 0.76348, std: 0.12217, params: {'alpha': 0.0014384498882876629, 'degree': 7},\n",
       " mean: 0.76318, std: 0.12145, params: {'alpha': 0.0014384498882876629, 'degree': 8},\n",
       " mean: 0.76307, std: 0.12123, params: {'alpha': 0.0014384498882876629, 'degree': 9},\n",
       " mean: 0.76315, std: 0.12116, params: {'alpha': 0.0014384498882876629, 'degree': 10},\n",
       " mean: 0.76362, std: 0.12124, params: {'alpha': 0.0014384498882876629, 'degree': 11},\n",
       " mean: 0.76422, std: 0.12134, params: {'alpha': 0.0014384498882876629, 'degree': 12},\n",
       " mean: 0.76458, std: 0.12143, params: {'alpha': 0.0014384498882876629, 'degree': 13},\n",
       " mean: 0.76479, std: 0.12151, params: {'alpha': 0.0014384498882876629, 'degree': 14},\n",
       " mean: 0.77428, std: 0.08380, params: {'alpha': 0.0018329807108324356, 'degree': 2},\n",
       " mean: 0.77920, std: 0.08899, params: {'alpha': 0.0018329807108324356, 'degree': 3},\n",
       " mean: 0.77307, std: 0.10686, params: {'alpha': 0.0018329807108324356, 'degree': 4},\n",
       " mean: 0.76545, std: 0.11509, params: {'alpha': 0.0018329807108324356, 'degree': 5},\n",
       " mean: 0.76099, std: 0.11985, params: {'alpha': 0.0018329807108324356, 'degree': 6},\n",
       " mean: 0.76199, std: 0.11877, params: {'alpha': 0.0018329807108324356, 'degree': 7},\n",
       " mean: 0.76221, std: 0.11848, params: {'alpha': 0.0018329807108324356, 'degree': 8},\n",
       " mean: 0.76197, std: 0.11832, params: {'alpha': 0.0018329807108324356, 'degree': 9},\n",
       " mean: 0.76190, std: 0.11831, params: {'alpha': 0.0018329807108324356, 'degree': 10},\n",
       " mean: 0.76201, std: 0.11849, params: {'alpha': 0.0018329807108324356, 'degree': 11},\n",
       " mean: 0.76205, std: 0.11859, params: {'alpha': 0.0018329807108324356, 'degree': 12},\n",
       " mean: 0.76213, std: 0.11869, params: {'alpha': 0.0018329807108324356, 'degree': 13},\n",
       " mean: 0.76264, std: 0.11878, params: {'alpha': 0.0018329807108324356, 'degree': 14},\n",
       " mean: 0.77443, std: 0.08288, params: {'alpha': 0.0023357214690901212, 'degree': 2},\n",
       " mean: 0.77460, std: 0.08295, params: {'alpha': 0.0023357214690901212, 'degree': 3},\n",
       " mean: 0.77269, std: 0.09898, params: {'alpha': 0.0023357214690901212, 'degree': 4},\n",
       " mean: 0.76588, std: 0.10779, params: {'alpha': 0.0023357214690901212, 'degree': 5},\n",
       " mean: 0.76082, std: 0.11322, params: {'alpha': 0.0023357214690901212, 'degree': 6},\n",
       " mean: 0.75998, std: 0.11429, params: {'alpha': 0.0023357214690901212, 'degree': 7},\n",
       " mean: 0.76010, std: 0.11414, params: {'alpha': 0.0023357214690901212, 'degree': 8},\n",
       " mean: 0.76013, std: 0.11409, params: {'alpha': 0.0023357214690901212, 'degree': 9},\n",
       " mean: 0.76020, std: 0.11401, params: {'alpha': 0.0023357214690901212, 'degree': 10},\n",
       " mean: 0.76024, std: 0.11393, params: {'alpha': 0.0023357214690901212, 'degree': 11},\n",
       " mean: 0.76031, std: 0.11395, params: {'alpha': 0.0023357214690901212, 'degree': 12},\n",
       " mean: 0.76044, std: 0.11408, params: {'alpha': 0.0023357214690901212, 'degree': 13},\n",
       " mean: 0.76052, std: 0.11417, params: {'alpha': 0.0023357214690901212, 'degree': 14},\n",
       " mean: 0.77452, std: 0.08173, params: {'alpha': 0.0029763514416313191, 'degree': 2},\n",
       " mean: 0.77548, std: 0.08068, params: {'alpha': 0.0029763514416313191, 'degree': 3},\n",
       " mean: 0.77074, std: 0.08955, params: {'alpha': 0.0029763514416313191, 'degree': 4},\n",
       " mean: 0.76581, std: 0.09917, params: {'alpha': 0.0029763514416313191, 'degree': 5},\n",
       " mean: 0.76103, std: 0.10475, params: {'alpha': 0.0029763514416313191, 'degree': 6},\n",
       " mean: 0.75761, std: 0.10847, params: {'alpha': 0.0029763514416313191, 'degree': 7},\n",
       " mean: 0.75762, std: 0.10860, params: {'alpha': 0.0029763514416313191, 'degree': 8},\n",
       " mean: 0.75775, std: 0.10841, params: {'alpha': 0.0029763514416313191, 'degree': 9},\n",
       " mean: 0.75770, std: 0.10847, params: {'alpha': 0.0029763514416313191, 'degree': 10},\n",
       " mean: 0.75768, std: 0.10849, params: {'alpha': 0.0029763514416313191, 'degree': 11},\n",
       " mean: 0.75766, std: 0.10850, params: {'alpha': 0.0029763514416313191, 'degree': 12},\n",
       " mean: 0.75766, std: 0.10851, params: {'alpha': 0.0029763514416313191, 'degree': 13},\n",
       " mean: 0.75765, std: 0.10852, params: {'alpha': 0.0029763514416313191, 'degree': 14},\n",
       " mean: 0.77445, std: 0.08030, params: {'alpha': 0.0037926901907322499, 'degree': 2},\n",
       " mean: 0.77445, std: 0.08030, params: {'alpha': 0.0037926901907322499, 'degree': 3},\n",
       " mean: 0.77047, std: 0.08471, params: {'alpha': 0.0037926901907322499, 'degree': 4},\n",
       " mean: 0.76671, std: 0.09181, params: {'alpha': 0.0037926901907322499, 'degree': 5},\n",
       " mean: 0.76259, std: 0.09728, params: {'alpha': 0.0037926901907322499, 'degree': 6},\n",
       " mean: 0.75944, std: 0.10103, params: {'alpha': 0.0037926901907322499, 'degree': 7},\n",
       " mean: 0.75751, std: 0.10311, params: {'alpha': 0.0037926901907322499, 'degree': 8},\n",
       " mean: 0.75785, std: 0.10279, params: {'alpha': 0.0037926901907322499, 'degree': 9},\n",
       " mean: 0.75787, std: 0.10275, params: {'alpha': 0.0037926901907322499, 'degree': 10},\n",
       " mean: 0.75785, std: 0.10277, params: {'alpha': 0.0037926901907322499, 'degree': 11},\n",
       " mean: 0.75785, std: 0.10278, params: {'alpha': 0.0037926901907322499, 'degree': 12},\n",
       " mean: 0.75785, std: 0.10277, params: {'alpha': 0.0037926901907322499, 'degree': 13},\n",
       " mean: 0.75786, std: 0.10276, params: {'alpha': 0.0037926901907322499, 'degree': 14},\n",
       " mean: 0.77407, std: 0.07853, params: {'alpha': 0.0048329302385717518, 'degree': 2},\n",
       " mean: 0.77407, std: 0.07853, params: {'alpha': 0.0048329302385717518, 'degree': 3},\n",
       " mean: 0.77292, std: 0.07978, params: {'alpha': 0.0048329302385717518, 'degree': 4},\n",
       " mean: 0.76768, std: 0.08566, params: {'alpha': 0.0048329302385717518, 'degree': 5},\n",
       " mean: 0.76438, std: 0.09049, params: {'alpha': 0.0048329302385717518, 'degree': 6},\n",
       " mean: 0.76183, std: 0.09405, params: {'alpha': 0.0048329302385717518, 'degree': 7},\n",
       " mean: 0.75988, std: 0.09651, params: {'alpha': 0.0048329302385717518, 'degree': 8},\n",
       " mean: 0.75890, std: 0.09762, params: {'alpha': 0.0048329302385717518, 'degree': 9},\n",
       " mean: 0.75891, std: 0.09754, params: {'alpha': 0.0048329302385717518, 'degree': 10},\n",
       " mean: 0.75892, std: 0.09752, params: {'alpha': 0.0048329302385717518, 'degree': 11},\n",
       " mean: 0.75893, std: 0.09751, params: {'alpha': 0.0048329302385717518, 'degree': 12},\n",
       " mean: 0.75896, std: 0.09748, params: {'alpha': 0.0048329302385717518, 'degree': 13},\n",
       " mean: 0.75897, std: 0.09746, params: {'alpha': 0.0048329302385717518, 'degree': 14},\n",
       " mean: 0.77311, std: 0.07638, params: {'alpha': 0.0061584821106602603, 'degree': 2},\n",
       " mean: 0.77311, std: 0.07638, params: {'alpha': 0.0061584821106602603, 'degree': 3},\n",
       " mean: 0.77313, std: 0.07636, params: {'alpha': 0.0061584821106602603, 'degree': 4},\n",
       " mean: 0.77046, std: 0.07928, params: {'alpha': 0.0061584821106602603, 'degree': 5},\n",
       " mean: 0.76691, std: 0.08328, params: {'alpha': 0.0061584821106602603, 'degree': 6},\n",
       " mean: 0.76416, std: 0.08645, params: {'alpha': 0.0061584821106602603, 'degree': 7},\n",
       " mean: 0.76223, std: 0.08873, params: {'alpha': 0.0061584821106602603, 'degree': 8},\n",
       " mean: 0.76093, std: 0.09027, params: {'alpha': 0.0061584821106602603, 'degree': 9},\n",
       " mean: 0.76041, std: 0.09089, params: {'alpha': 0.0061584821106602603, 'degree': 10},\n",
       " mean: 0.76044, std: 0.09086, params: {'alpha': 0.0061584821106602603, 'degree': 11},\n",
       " mean: 0.76044, std: 0.09086, params: {'alpha': 0.0061584821106602603, 'degree': 12},\n",
       " mean: 0.76045, std: 0.09085, params: {'alpha': 0.0061584821106602603, 'degree': 13},\n",
       " mean: 0.76046, std: 0.09084, params: {'alpha': 0.0061584821106602603, 'degree': 14},\n",
       " mean: 0.77111, std: 0.07378, params: {'alpha': 0.0078475997035146062, 'degree': 2},\n",
       " mean: 0.76308, std: 0.07047, params: {'alpha': 0.0078475997035146062, 'degree': 3},\n",
       " mean: 0.76324, std: 0.07068, params: {'alpha': 0.0078475997035146062, 'degree': 4},\n",
       " mean: 0.76321, std: 0.07082, params: {'alpha': 0.0078475997035146062, 'degree': 5},\n",
       " mean: 0.76124, std: 0.07290, params: {'alpha': 0.0078475997035146062, 'degree': 6},\n",
       " mean: 0.75911, std: 0.07518, params: {'alpha': 0.0078475997035146062, 'degree': 7},\n",
       " mean: 0.75745, std: 0.07698, params: {'alpha': 0.0078475997035146062, 'degree': 8},\n",
       " mean: 0.75629, std: 0.07826, params: {'alpha': 0.0078475997035146062, 'degree': 9},\n",
       " mean: 0.75554, std: 0.07910, params: {'alpha': 0.0078475997035146062, 'degree': 10},\n",
       " mean: 0.75519, std: 0.07948, params: {'alpha': 0.0078475997035146062, 'degree': 11},\n",
       " mean: 0.75519, std: 0.07948, params: {'alpha': 0.0078475997035146062, 'degree': 12},\n",
       " mean: 0.75520, std: 0.07947, params: {'alpha': 0.0078475997035146062, 'degree': 13},\n",
       " mean: 0.75521, std: 0.07946, params: {'alpha': 0.0078475997035146062, 'degree': 14},\n",
       " mean: 0.76731, std: 0.07071, params: {'alpha': 0.01, 'degree': 2},\n",
       " mean: 0.75040, std: 0.06554, params: {'alpha': 0.01, 'degree': 3},\n",
       " mean: 0.75040, std: 0.06555, params: {'alpha': 0.01, 'degree': 4},\n",
       " mean: 0.75040, std: 0.06555, params: {'alpha': 0.01, 'degree': 5},\n",
       " mean: 0.75040, std: 0.06555, params: {'alpha': 0.01, 'degree': 6},\n",
       " mean: 0.75029, std: 0.06564, params: {'alpha': 0.01, 'degree': 7},\n",
       " mean: 0.74926, std: 0.06658, params: {'alpha': 0.01, 'degree': 8},\n",
       " mean: 0.74842, std: 0.06736, params: {'alpha': 0.01, 'degree': 9},\n",
       " mean: 0.74783, std: 0.06791, params: {'alpha': 0.01, 'degree': 10},\n",
       " mean: 0.74748, std: 0.06824, params: {'alpha': 0.01, 'degree': 11},\n",
       " mean: 0.74731, std: 0.06840, params: {'alpha': 0.01, 'degree': 12},\n",
       " mean: 0.74731, std: 0.06840, params: {'alpha': 0.01, 'degree': 13},\n",
       " mean: 0.74731, std: 0.06840, params: {'alpha': 0.01, 'degree': 14}]"
      ]
     },
     "execution_count": 90,
     "metadata": {},
     "output_type": "execute_result"
    }
   ],
   "source": [
    "gs.grid_scores_"
   ]
  },
  {
   "cell_type": "code",
   "execution_count": 91,
   "metadata": {
    "collapsed": false
   },
   "outputs": [
    {
     "data": {
      "text/plain": [
       "{'alpha': 0.00088586679041008235, 'degree': 3}"
      ]
     },
     "execution_count": 91,
     "metadata": {},
     "output_type": "execute_result"
    }
   ],
   "source": [
    "gs.best_params_"
   ]
  },
  {
   "cell_type": "code",
   "execution_count": 92,
   "metadata": {
    "collapsed": false
   },
   "outputs": [
    {
     "data": {
      "text/plain": [
       "RegularizedPolynomialRegression(alpha=0.00088586679041008235, degree=3)"
      ]
     },
     "execution_count": 92,
     "metadata": {},
     "output_type": "execute_result"
    }
   ],
   "source": [
    "gs.best_estimator_"
   ]
  },
  {
   "cell_type": "code",
   "execution_count": 93,
   "metadata": {
    "collapsed": false
   },
   "outputs": [
    {
     "ename": "TypeError",
     "evalue": "predict() takes exactly 2 arguments (1 given)",
     "output_type": "error",
     "traceback": [
      "\u001b[1;31m---------------------------------------------------------------------------\u001b[0m",
      "\u001b[1;31mTypeError\u001b[0m                                 Traceback (most recent call last)",
      "\u001b[1;32m<ipython-input-93-13e2c7622e30>\u001b[0m in \u001b[0;36m<module>\u001b[1;34m()\u001b[0m\n\u001b[1;32m----> 1\u001b[1;33m \u001b[0mgs\u001b[0m\u001b[1;33m.\u001b[0m\u001b[0mpredict\u001b[0m\u001b[1;33m(\u001b[0m\u001b[1;33m)\u001b[0m\u001b[1;33m\u001b[0m\u001b[0m\n\u001b[0m",
      "\u001b[1;32m/home/bigdive/anaconda2/lib/python2.7/site-packages/sklearn/utils/metaestimators.pyc\u001b[0m in \u001b[0;36m<lambda>\u001b[1;34m(*args, **kwargs)\u001b[0m\n\u001b[0;32m     35\u001b[0m             \u001b[0mself\u001b[0m\u001b[1;33m.\u001b[0m\u001b[0mget_attribute\u001b[0m\u001b[1;33m(\u001b[0m\u001b[0mobj\u001b[0m\u001b[1;33m)\u001b[0m\u001b[1;33m\u001b[0m\u001b[0m\n\u001b[0;32m     36\u001b[0m         \u001b[1;31m# lambda, but not partial, allows help() to work with update_wrapper\u001b[0m\u001b[1;33m\u001b[0m\u001b[1;33m\u001b[0m\u001b[0m\n\u001b[1;32m---> 37\u001b[1;33m         \u001b[0mout\u001b[0m \u001b[1;33m=\u001b[0m \u001b[1;32mlambda\u001b[0m \u001b[1;33m*\u001b[0m\u001b[0margs\u001b[0m\u001b[1;33m,\u001b[0m \u001b[1;33m**\u001b[0m\u001b[0mkwargs\u001b[0m\u001b[1;33m:\u001b[0m \u001b[0mself\u001b[0m\u001b[1;33m.\u001b[0m\u001b[0mfn\u001b[0m\u001b[1;33m(\u001b[0m\u001b[0mobj\u001b[0m\u001b[1;33m,\u001b[0m \u001b[1;33m*\u001b[0m\u001b[0margs\u001b[0m\u001b[1;33m,\u001b[0m \u001b[1;33m**\u001b[0m\u001b[0mkwargs\u001b[0m\u001b[1;33m)\u001b[0m\u001b[1;33m\u001b[0m\u001b[0m\n\u001b[0m\u001b[0;32m     38\u001b[0m         \u001b[1;31m# update the docstring of the returned function\u001b[0m\u001b[1;33m\u001b[0m\u001b[1;33m\u001b[0m\u001b[0m\n\u001b[0;32m     39\u001b[0m         \u001b[0mupdate_wrapper\u001b[0m\u001b[1;33m(\u001b[0m\u001b[0mout\u001b[0m\u001b[1;33m,\u001b[0m \u001b[0mself\u001b[0m\u001b[1;33m.\u001b[0m\u001b[0mfn\u001b[0m\u001b[1;33m)\u001b[0m\u001b[1;33m\u001b[0m\u001b[0m\n",
      "\u001b[1;31mTypeError\u001b[0m: predict() takes exactly 2 arguments (1 given)"
     ]
    }
   ],
   "source": [
    "gs.predict()"
   ]
  },
  {
   "cell_type": "code",
   "execution_count": 94,
   "metadata": {
    "collapsed": false
   },
   "outputs": [
    {
     "name": "stdout",
     "output_type": "stream",
     "text": [
      "best alpha: 0.00088586679041\n"
     ]
    },
    {
     "data": {
      "text/plain": [
       "0.66254591033479682"
      ]
     },
     "execution_count": 94,
     "metadata": {},
     "output_type": "execute_result"
    },
    {
     "data": {
      "image/png": "[encoded data removed]",
      "text/plain": [
       "<matplotlib.figure.Figure at 0x7fd7308bde50>"
      ]
     },
     "metadata": {},
     "output_type": "display_data"
    }
   ],
   "source": [
    "alpha = alphas[np.argmax(test_scores)]\n",
    "print \"best alpha:\" , alpha\n",
    "model = RegularizedPolynomialRegression(3, alpha=0.00088586679041008235).fit(X_train, y_train)\n",
    "\n",
    "X_test, y_test = make_data(400, error=1.0, random_seed=2)\n",
    "y_pred = model.predict(X_test)\n",
    "\n",
    "plt.scatter(X_train.ravel(), y_train)\n",
    "plt.scatter(X_test.ravel(), y_pred, color='r')\n",
    "r2(model.predict(X_test), y_test)"
   ]
  },
  {
   "cell_type": "code",
   "execution_count": null,
   "metadata": {
    "collapsed": true
   },
   "outputs": [],
   "source": []
  }
 ],
 "metadata": {
  "kernelspec": {
   "display_name": "Python [Root]",
   "language": "python",
   "name": "Python [Root]"
  },
  "language_info": {
   "codemirror_mode": {
    "name": "ipython",
    "version": 2
   },
   "file_extension": ".py",
   "mimetype": "text/x-python",
   "name": "python",
   "nbconvert_exporter": "python",
   "pygments_lexer": "ipython2",
   "version": "2.7.12"
  }
 },
 "nbformat": 4,
 "nbformat_minor": 0
}

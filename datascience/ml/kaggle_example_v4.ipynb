{
 "cells": [
  {
   "cell_type": "code",
   "execution_count": 89,
   "metadata": {
    "collapsed": false
   },
   "outputs": [
    {
     "name": "stdout",
     "output_type": "stream",
     "text": [
      "Populating the interactive namespace from numpy and matplotlib\n"
     ]
    },
    {
     "name": "stderr",
     "output_type": "stream",
     "text": [
      "WARNING: pylab import has clobbered these variables: ['text']\n",
      "`%matplotlib` prevents importing * from pylab and numpy\n"
     ]
    }
   ],
   "source": [
    "%pylab inline\n",
    "import pandas as pd"
   ]
  },
  {
   "cell_type": "markdown",
   "metadata": {},
   "source": [
    "# Load the train data"
   ]
  },
  {
   "cell_type": "code",
   "execution_count": 90,
   "metadata": {
    "collapsed": false
   },
   "outputs": [],
   "source": [
    "train_data = pd.read_csv(\"train_data.csv.gz\", compression=\"gzip\", encoding=\"utf8\")"
   ]
  },
  {
   "cell_type": "code",
   "execution_count": 91,
   "metadata": {
    "collapsed": false
   },
   "outputs": [
    {
     "data": {
      "text/html": [
       "<div>\n",
       "<table border=\"1\" class=\"dataframe\">\n",
       "  <thead>\n",
       "    <tr style=\"text-align: right;\">\n",
       "      <th></th>\n",
       "      <th>author</th>\n",
       "      <th>subreddit</th>\n",
       "      <th>created_utc</th>\n",
       "      <th>body</th>\n",
       "    </tr>\n",
       "  </thead>\n",
       "  <tbody>\n",
       "    <tr>\n",
       "      <th>0</th>\n",
       "      <td>ejchristian86</td>\n",
       "      <td>TwoXChromosomes</td>\n",
       "      <td>1.388534e+09</td>\n",
       "      <td>I hadn't ever heard of them before joining thi...</td>\n",
       "    </tr>\n",
       "    <tr>\n",
       "      <th>1</th>\n",
       "      <td>Shamus_Aran</td>\n",
       "      <td>mylittlepony</td>\n",
       "      <td>1.388534e+09</td>\n",
       "      <td>I don't think we'd get nearly as much fanficti...</td>\n",
       "    </tr>\n",
       "    <tr>\n",
       "      <th>2</th>\n",
       "      <td>Riddance</td>\n",
       "      <td>sex</td>\n",
       "      <td>1.388534e+09</td>\n",
       "      <td>Thanks. I made it up, that's how I got over my...</td>\n",
       "    </tr>\n",
       "    <tr>\n",
       "      <th>3</th>\n",
       "      <td>savoytruffle</td>\n",
       "      <td>AskReddit</td>\n",
       "      <td>1.388534e+09</td>\n",
       "      <td>bite me</td>\n",
       "    </tr>\n",
       "    <tr>\n",
       "      <th>4</th>\n",
       "      <td>Secret_Wizard</td>\n",
       "      <td>DragonsDogma</td>\n",
       "      <td>1.388534e+09</td>\n",
       "      <td>Are you sure you aren't confusing Cyclops (the...</td>\n",
       "    </tr>\n",
       "  </tbody>\n",
       "</table>\n",
       "</div>"
      ],
      "text/plain": [
       "          author        subreddit   created_utc  \\\n",
       "0  ejchristian86  TwoXChromosomes  1.388534e+09   \n",
       "1    Shamus_Aran     mylittlepony  1.388534e+09   \n",
       "2       Riddance              sex  1.388534e+09   \n",
       "3   savoytruffle        AskReddit  1.388534e+09   \n",
       "4  Secret_Wizard     DragonsDogma  1.388534e+09   \n",
       "\n",
       "                                                body  \n",
       "0  I hadn't ever heard of them before joining thi...  \n",
       "1  I don't think we'd get nearly as much fanficti...  \n",
       "2  Thanks. I made it up, that's how I got over my...  \n",
       "3                                            bite me  \n",
       "4  Are you sure you aren't confusing Cyclops (the...  "
      ]
     },
     "execution_count": 91,
     "metadata": {},
     "output_type": "execute_result"
    }
   ],
   "source": [
    "train_data.head()"
   ]
  },
  {
   "cell_type": "code",
   "execution_count": 92,
   "metadata": {
    "collapsed": false
   },
   "outputs": [
    {
     "data": {
      "text/plain": [
       "761189"
      ]
     },
     "execution_count": 92,
     "metadata": {},
     "output_type": "execute_result"
    }
   ],
   "source": [
    "len(train_data)"
   ]
  },
  {
   "cell_type": "code",
   "execution_count": 93,
   "metadata": {
    "collapsed": false
   },
   "outputs": [],
   "source": [
    "target = pd.read_csv(\"train_target.csv\")"
   ]
  },
  {
   "cell_type": "code",
   "execution_count": 94,
   "metadata": {
    "collapsed": false
   },
   "outputs": [
    {
     "data": {
      "text/html": [
       "<div>\n",
       "<table border=\"1\" class=\"dataframe\">\n",
       "  <thead>\n",
       "    <tr style=\"text-align: right;\">\n",
       "      <th></th>\n",
       "      <th>author</th>\n",
       "      <th>gender</th>\n",
       "    </tr>\n",
       "  </thead>\n",
       "  <tbody>\n",
       "    <tr>\n",
       "      <th>0</th>\n",
       "      <td>RedThunder90</td>\n",
       "      <td>0</td>\n",
       "    </tr>\n",
       "    <tr>\n",
       "      <th>1</th>\n",
       "      <td>Lirkmor</td>\n",
       "      <td>1</td>\n",
       "    </tr>\n",
       "    <tr>\n",
       "      <th>2</th>\n",
       "      <td>In0chi</td>\n",
       "      <td>0</td>\n",
       "    </tr>\n",
       "    <tr>\n",
       "      <th>3</th>\n",
       "      <td>ProjectGrudge</td>\n",
       "      <td>0</td>\n",
       "    </tr>\n",
       "    <tr>\n",
       "      <th>4</th>\n",
       "      <td>TehTurtleHermit</td>\n",
       "      <td>0</td>\n",
       "    </tr>\n",
       "  </tbody>\n",
       "</table>\n",
       "</div>"
      ],
      "text/plain": [
       "            author  gender\n",
       "0     RedThunder90       0\n",
       "1          Lirkmor       1\n",
       "2           In0chi       0\n",
       "3    ProjectGrudge       0\n",
       "4  TehTurtleHermit       0"
      ]
     },
     "execution_count": 94,
     "metadata": {},
     "output_type": "execute_result"
    }
   ],
   "source": [
    "target.head()"
   ]
  },
  {
   "cell_type": "markdown",
   "metadata": {},
   "source": [
    "# Feature Extraction"
   ]
  },
  {
   "cell_type": "code",
   "execution_count": 95,
   "metadata": {
    "collapsed": true
   },
   "outputs": [],
   "source": [
    "subreddits = train_data.subreddit.unique()\n",
    "subreddits_map = pd.Series(index=subreddits, data=arange(subreddits.shape[0]))"
   ]
  },
  {
   "cell_type": "code",
   "execution_count": 96,
   "metadata": {
    "collapsed": true
   },
   "outputs": [],
   "source": [
    "from scipy import sparse"
   ]
  },
  {
   "cell_type": "code",
   "execution_count": 97,
   "metadata": {
    "collapsed": false
   },
   "outputs": [
    {
     "data": {
      "text/plain": [
       "<1x3866 sparse matrix of type '<type 'numpy.float64'>'\n",
       "\twith 1 stored elements in Compressed Sparse Row format>"
      ]
     },
     "execution_count": 97,
     "metadata": {},
     "output_type": "execute_result"
    }
   ],
   "source": [
    "def extract_features(group):\n",
    "    group_subreddits = group['subreddit'].values\n",
    "    idxs = subreddits_map[group_subreddits].values\n",
    "    v = sparse.dok_matrix((1, subreddits.shape[0]))\n",
    "    for idx in idxs:\n",
    "        if not np.isnan(idx):\n",
    "            v[0, idx] = +1\n",
    "    return v.tocsr()\n",
    "\n",
    "extract_features(train_data[train_data.author=='RedThunder90'])"
   ]
  },
  {
   "cell_type": "code",
   "execution_count": 98,
   "metadata": {
    "collapsed": false
   },
   "outputs": [],
   "source": [
    "features_dict = {}\n",
    "\n",
    "for author, group in train_data.groupby('author'):\n",
    "    features_dict[author] = extract_features(group)"
   ]
  },
  {
   "cell_type": "code",
   "execution_count": 99,
   "metadata": {
    "collapsed": false
   },
   "outputs": [
    {
     "data": {
      "text/plain": [
       "<1x3866 sparse matrix of type '<type 'numpy.float64'>'\n",
       "\twith 3 stored elements in Compressed Sparse Row format>"
      ]
     },
     "execution_count": 99,
     "metadata": {},
     "output_type": "execute_result"
    }
   ],
   "source": [
    "features_dict[author]"
   ]
  },
  {
   "cell_type": "code",
   "execution_count": 100,
   "metadata": {
    "collapsed": false
   },
   "outputs": [
    {
     "data": {
      "text/plain": [
       "<1x3866 sparse matrix of type '<type 'numpy.float64'>'\n",
       "\twith 3 stored elements in Compressed Sparse Row format>"
      ]
     },
     "execution_count": 100,
     "metadata": {},
     "output_type": "execute_result"
    }
   ],
   "source": [
    "extract_features(group)"
   ]
  },
  {
   "cell_type": "markdown",
   "metadata": {},
   "source": [
    "# Text Analysis"
   ]
  },
  {
   "cell_type": "code",
   "execution_count": 101,
   "metadata": {
    "collapsed": true
   },
   "outputs": [],
   "source": [
    "from sklearn.feature_extraction import text"
   ]
  },
  {
   "cell_type": "code",
   "execution_count": 102,
   "metadata": {
    "collapsed": true
   },
   "outputs": [],
   "source": [
    "stop_words=text.ENGLISH_STOP_WORDS  # sono le parole che vengono rimosse a priori"
   ]
  },
  {
   "cell_type": "code",
   "execution_count": 103,
   "metadata": {
    "collapsed": false
   },
   "outputs": [],
   "source": [
    "vectorizer = text.CountVectorizer(max_df=0.8, max_features=10000, stop_words=text.ENGLISH_STOP_WORDS)\n",
    "# non voglio le parole che appaiono più dell'80% di volte (max_df)\n",
    "# max_featues: mi fermo alle prime 10.000 parole\n",
    "\n",
    "counts = vectorizer.fit_transform(subreddits)  #trasformo i documents (sono i dati già modificati, non gli originali)\n",
    "tfidf = text.TfidfTransformer().fit_transform(counts)"
   ]
  },
  {
   "cell_type": "code",
   "execution_count": 104,
   "metadata": {
    "collapsed": false
   },
   "outputs": [
    {
     "data": {
      "text/plain": [
       "<3866x3863 sparse matrix of type '<type 'numpy.int64'>'\n",
       "\twith 3863 stored elements in Compressed Sparse Row format>"
      ]
     },
     "execution_count": 104,
     "metadata": {},
     "output_type": "execute_result"
    }
   ],
   "source": [
    "counts\n",
    "# ho una matrice sparsa da 3866 * 3863"
   ]
  },
  {
   "cell_type": "code",
   "execution_count": 105,
   "metadata": {
    "collapsed": false
   },
   "outputs": [
    {
     "data": {
      "text/plain": [
       "<1x3863 sparse matrix of type '<type 'numpy.int64'>'\n",
       "\twith 1 stored elements in Compressed Sparse Row format>"
      ]
     },
     "execution_count": 105,
     "metadata": {},
     "output_type": "execute_result"
    }
   ],
   "source": [
    "counts[0]  # nella prima parola ho 1 conteggio"
   ]
  },
  {
   "cell_type": "code",
   "execution_count": 106,
   "metadata": {
    "collapsed": false
   },
   "outputs": [
    {
     "data": {
      "text/plain": [
       "<3866x3863 sparse matrix of type '<type 'numpy.float64'>'\n",
       "\twith 3863 stored elements in Compressed Sparse Row format>"
      ]
     },
     "execution_count": 106,
     "metadata": {},
     "output_type": "execute_result"
    }
   ],
   "source": [
    "tfidf"
   ]
  },
  {
   "cell_type": "code",
   "execution_count": 107,
   "metadata": {
    "collapsed": false
   },
   "outputs": [
    {
     "data": {
      "text/plain": [
       "<1x3863 sparse matrix of type '<type 'numpy.float64'>'\n",
       "\twith 1 stored elements in Compressed Sparse Row format>"
      ]
     },
     "execution_count": 107,
     "metadata": {},
     "output_type": "execute_result"
    }
   ],
   "source": [
    "tfidf[0]"
   ]
  },
  {
   "cell_type": "code",
   "execution_count": 108,
   "metadata": {
    "collapsed": false
   },
   "outputs": [
    {
     "data": {
      "text/plain": [
       "array([ 1.])"
      ]
     },
     "execution_count": 108,
     "metadata": {},
     "output_type": "execute_result"
    }
   ],
   "source": [
    "tfidf[0].data"
   ]
  },
  {
   "cell_type": "code",
   "execution_count": 109,
   "metadata": {
    "collapsed": false
   },
   "outputs": [
    {
     "data": {
      "text/plain": [
       "array([u'twoxchromosomes'], \n",
       "      dtype='<U21')"
      ]
     },
     "execution_count": 109,
     "metadata": {},
     "output_type": "execute_result"
    }
   ],
   "source": [
    "array(vectorizer.get_feature_names())[counts[0].nonzero()[1]] \n",
    "#trasformo il vectorizer che è un dizionario in array e conto i non zero"
   ]
  },
  {
   "cell_type": "code",
   "execution_count": 110,
   "metadata": {
    "collapsed": true
   },
   "outputs": [],
   "source": [
    "vectorizer = text.CountVectorizer(max_df=0.8,\n",
    "                                  max_features=10000, \n",
    "                                  stop_words=text.ENGLISH_STOP_WORDS,\n",
    "                                 ngram_range=(1,2))\n",
    "\n",
    "                                # ngram_range mi dà le coppie di parole \n",
    "    # LA DIFFERENZA RISPETTO AL CODICE PRECEDENTE E' CHE QUI HO LE COPPIE DI PAROLE\n",
    "    \n",
    "counts = vectorizer.fit_transform(subreddits)  \n",
    "tfidf = text.TfidfTransformer().fit_transform(counts)"
   ]
  },
  {
   "cell_type": "code",
   "execution_count": 111,
   "metadata": {
    "collapsed": true
   },
   "outputs": [],
   "source": [
    "import nltk"
   ]
  },
  {
   "cell_type": "code",
   "execution_count": 112,
   "metadata": {
    "collapsed": false
   },
   "outputs": [
    {
     "name": "stdout",
     "output_type": "stream",
     "text": [
      "[nltk_data] Downloading package wordnet to /home/bigdive/nltk_data...\n",
      "[nltk_data]   Package wordnet is already up-to-date!\n"
     ]
    },
    {
     "data": {
      "text/plain": [
       "True"
      ]
     },
     "execution_count": 112,
     "metadata": {},
     "output_type": "execute_result"
    }
   ],
   "source": [
    "nltk.download('wordnet')"
   ]
  },
  {
   "cell_type": "code",
   "execution_count": 113,
   "metadata": {
    "collapsed": true
   },
   "outputs": [],
   "source": [
    "from sklearn import decomposition\n",
    "\n",
    "# Fit the NMF model\n",
    "nmf = decomposition.NMF(n_components=6)   # NMF = Non Negative Matrix Factorization\n",
    "nmf.fit(tfidf)\n",
    "W = nmf.transform(tfidf)   # matrice W = peso\n",
    "H = nmf.components_"
   ]
  },
  {
   "cell_type": "code",
   "execution_count": 114,
   "metadata": {
    "collapsed": false
   },
   "outputs": [
    {
     "data": {
      "text/plain": [
       "(3866, 6)"
      ]
     },
     "execution_count": 114,
     "metadata": {},
     "output_type": "execute_result"
    }
   ],
   "source": [
    "W.shape  "
   ]
  },
  {
   "cell_type": "code",
   "execution_count": 115,
   "metadata": {
    "collapsed": false
   },
   "outputs": [
    {
     "data": {
      "text/plain": [
       "(6, 3863)"
      ]
     },
     "execution_count": 115,
     "metadata": {},
     "output_type": "execute_result"
    }
   ],
   "source": [
    "H.shape"
   ]
  },
  {
   "cell_type": "code",
   "execution_count": 116,
   "metadata": {
    "collapsed": true
   },
   "outputs": [],
   "source": [
    "feature_names = vectorizer.get_feature_names()"
   ]
  },
  {
   "cell_type": "code",
   "execution_count": 117,
   "metadata": {
    "collapsed": false
   },
   "outputs": [
    {
     "name": "stdout",
     "output_type": "stream",
     "text": [
      "[u'simracing', u'gaben', u'beatles', u'elderscrolls', u'bbexchange', u'gamecollecting', u'singapore', u'powerrangers', u'urbanexploration', u'internet_box', u'asksciencediscussion', u'ottawa', u'ska', u'ucalgary', u'patriots', u'shameless', u'epilepsy', u'canes', u'metacanada', u'longhornnation']\n"
     ]
    }
   ],
   "source": [
    "print[feature_names[i] for i in H[0].argsort()[-21:-1]]"
   ]
  },
  {
   "cell_type": "code",
   "execution_count": 118,
   "metadata": {
    "collapsed": false
   },
   "outputs": [
    {
     "name": "stdout",
     "output_type": "stream",
     "text": [
      "[u'labrats', u'newyorkmets', u'newzealand', u'nextdoorasians', u'nexus4', u'nexus5', u'nfffffffluuuuuuuuuuuu', u'nfl', u'nfl_draft', u'nflcirclejerk', u'nhl', u'nilesy', u'nin', u'nintendo', u'nirvana', u'nissan', u'nl_kripparrian', u'nlsscirclejerk', u'nocontext_wallpapers', u'nocontract', u'nofap', u'noisygifs', u'newtotf2', u'newsoftheweird', u'newsofthestupid', u'news', u'ncsu', u'needafriend', u'needamod', u'negareddit', u'nerdcubed', u'nerdfighters', u'nerdist', u'nes', u'netflix', u'nethack', u'nolibswatch', u'nether', u'netsec', u'networking', u'neutralpolitics', u'neverwinter', u'newcastle', u'newcastleupontyne', u'newcountry', u'newfoundland', u'newjersey', u'newreddits', u'netrunner', u'nbaspurs', u'nonmonogamy', u'nonononoyes', u'nsfw_gif', u'nsfw_wtf', u'nsfwfunny', u'nsfwiama', u'nufc', u'nutrition', u'nvidia', u'nyjets', u'nyyankees', u'nzxt', u'oaklandathletics', u'obama', u'objectivism', u'occult', u'occupywallstreet', u'ocd', u'oculus', u'offbeat', u'offmychest', u'ofwgkta', u'ohiostatefootball', u'nsfw', u'nsfl', u'ns2', u'nottingham', u'nonprofit', u'nook', u'nootropics', u'nope', u'nordiccountries', u'norge', u'normalboots', u'normalnudes', u'norse', u'norsk', u'nononono', u'northcarolina', u'northernireland', u'northkorea', u'northkoreanews', u'norway', u'norwich', u'noshitsherlock', u'nostalgia', u'nostupidquestions', u'notinteresting', u'nottheonion', u'northdakota', u'nba2k', u'nba', u'naturegifs', u'mississauga', u'mississippi', u'mizzou', u'mlb', u'mlpccg', u'mlplounge', u'mls', u'mmfb', u'modclub', u'modelmakers', u'models', u'moderatepolitics', u'modernmagic', u'modhelp', u'modnews', u'mommit', u'monitors', u'monsterhunter', u'montageparodies', u'montgomerycountymd', u'montreal', u'misleadingthumbnails', u'misfitstv', u'misc', u'mirandakerr', u'migraine', u'mildlydepressing', u'mildlyinfuriating', u'mildlyinteresting', u'mildlyuninteresting', u'milf', u'militaryfaq', u'militarystories', u'millerplanetside', u'milwaukee', u'moped', u'mindcrack', u'minecraft', u'minecraft360', u'minecraftsuggestions', u'minerapocalypse', u'mini', u'minimalism', u'minipainting', u'minneapolis', u'minnesota', u'minnesotatwins', u'mindcrackdiscussion', u'morbidreality', u'mormon', u'motocross', u'musicals', u'musictheory', u'mustang', u'mychemicalromance', u'myevilplan', u'myfriendwantstoknow', u'mylittleandysonic1', u'mylittlefriends', u'mylittlemotorhead', u'mylittlepony', u'music', u'mylittlesupportgroup', u'myrtlebeach', u'n64', u'nameaserver', u'namenerds', u'nannies', u'naruto', u'narutoanime', u'nascar', u'naturalbeauty', u'naturalbodybuilding', u'mypartneristrans', u'okcupid', u'museum', u'mumfordandsons', u'motogp', u'motorcycles', u'motorsports', u'mountandblade', u'mousereview', u'moustache', u'movieposterporn', u'movies', u'msaccess', u'mspaintbattles', u'murica', u'mst3k', u'mtb', u'mtf', u'mtgaltered', u'mtgcube', u'mtgfinance', u'mtglegacy', u'muaythai', u'mud', u'multicopter', u'mumbai', u'msu', u'oldschoolcool', u'oldtimehockey', u'olympics', u'pokemon', u'pokemonbattles', u'pokemongiveaway', u'pokemonpokedexhelp', u'pokemontrades', u'pokemonzetaomicron', u'poker', u'poketradereferences', u'poland', u'polandball', u'polandballarena', u'polandballart', u'polishgauntlet', u'politic', u'politicaldiscussion', u'politicalfactchecking', u'politics', u'politique', u'polyamory', u'popping', u'poppunkers', u'pointlessstories', u'poi', u'podcasts', u'pocketsand', u'piracy', u'pitbulls', u'pitt', u'pittsburgh', u'pixelart', u'pizza', u'pkmntcgtrades', u'planetaryannihilation', u'planetside', u'plano', u'pornfree', u'plantedtank', u'playmindcrack', u'playrust', u'playrustservers', u'plex', u'ploompax', u'plotholes', u'ploungeafterdark', u'ploungemafia', u'plumbing', u'plussize', u'playitforward', u'pornid', u'pornoverlords', u'pornvids', u'programming', u'programmingbuddies', u'programmingcirclejerk', u'progressive', u'progresspics', u'progrockmusic', u'progun', u'projectcar', u'projectrunway', u'prolife', u'progmetal', u'promos', u'propagandaposters', u'prorevenge', u'protectandserve', u'protestantism', u'psbf', u'psnfriends', u'psych', u'psychology', u'psychonaut', u'ptsd', u'proofreading', u'pipetobacco', u'productivity', u'prisonarchitect', u'portal', u'portland', u'portlandstate', u'portugal', u'posthardcore', u'postprocessing', u'postrock', u'potcoin', u'potcoinmarket', u'powerlifting', u'prochoice', u'powermetal', u'pranks', u'predaddit', u'prematurecelebration', u'premed', u'preppers', u'prettygirlsuglyfaces', u'prettylittleliars', u'prettyteenagers', u'printmaking', u'printsf', u'powershell', u'microsoft', u'pinkfloyd', u'picturesofiansleeping', u'osx', u'ottawasenators', u'outdoors', u'outerra', u'outoftheloop', u'outside', u'ouya', u'p90x', u'pac12', u'pagan', u'paintball', u'painting', u'paleo', u'pandr', u'panichistory', u'pantyselling', u'paradoxplaza', u'parahumans', u'pareidolia', u'parenting', u'paris', u'osu', u'orvilleawards', u'orthodoxchristianity', u'orlando', u'omaha', u'omegle', u'onceuponatime', u'onebros', u'onedirection', u'onepiece', u'onetruegod', u'oney', u'onoff', u'ontario', u'parkour', u'oots', u'opensource', u'opentales', u'openttd', u'opiaterollcall', u'opiates', u'opieandanthony', u'orangecounty', u'orangeisthenewblack', u'orangered', u'oreimo', u'openbroke', u'parrots', u'passionx', u'pastandpresentpics', u'personalfinancecanada', u'perth', u'pets', u'pettyrevenge', u'pharmacy', u'philadelphia', u'philippines', u'phillies', u'phillyunion', u'philosophy', u'personalfinance', u'phish', u'phoenixwright', u'photoclass2014', u'photography', u'photoshopbattles', u'photoshoprequest', u'php', u'physics', u'piano', u'pickanandroidforme', u'pics', u'phoenix', u'piercing', u'permaculture', u'perfectloops', u'pathfinder', u'pathfinder_rpg', u'pathofexile', u'paydaytheheist', u'pcgaming', u'pcmods', u'pcos', u'peacecorps', u'pebble', u'peeling', u'perfecttiming', u'pegging', u'pen_swap', u'penmanshipporn', u'pennstateuniversity', u'pennsylvania', u'pennystocks', u'penpals', u'pens', u'pensacola', u'percyjacksonrp', u'perfectfit', u'peloton', u'publichealth', u'microbiology', u'miata', u'iwantout', u'iwanttolearn', u'jaguars', u'jailbreak', u'jamesbond', u'japan', u'japanesefood', u'japanlife', u'japantravel', u'javahelp', u'javascript', u'jazz', u'jeep', u'jeopardy', u'jerktalkdiamond', u'jerseycity', u'jessicanigri', u'jetta', u'jewelry', u'jiffybot', u'jmu', u'iwallpaper', u'itmejp', u'italy', u'istp', u'insightfulquestions', u'insomnia', u'instagram', u'insurance', u'interestingasfuck', u'internetama', u'internetisbeautiful', u'intj', u'intp', u'introvert', u'jobs4bitcoins', u'ios7', u'iosprogramming', u'iowa', u'iowacity', u'ipad', u'iphone', u'ireland', u'irishproblems', u'ironmaiden', u'isitbullshit', u'israel', u'iosgaming', u'insidegaming', u'joerogan', u'jordan', u'ketorage', u'ketorecipes', u'ketouk', u'kettlebell', u'keyboards', u'kickstarter', u'kikpals', u'killingfloor', u'killlakill', u'kingdomhearts', u'kingkillerchronicle', u'kings', u'kingstonontario', u'kitchenconfidential', u'kitchener', u'knifeclub', u'knitting', u'knives', u'knoxville', u'korea', u'korean', u'keto', u'kerbalacademy', u'kentucky', u'kelowna', u'journalism', u'jritslounge', u'jrpg', u'judaism', u'judo', u'juicing', u'jurassicpark', u'justengaged', u'justfatguythings', u'justiceporn', u'johnlock', u'justified', u'kansas', u'kappa', u'karate', u'karmaconspiracy', u'karmacourt', u'kateupton', u'katiecrossing', u'kdrama', u'keepwriting', u'kelloggs', u'justneckbeardthings', u'insects', u'insanity', u'inlandempire', u'hongkong', u'hookah', u'hookers', u'horriblydepressing', u'horror', u'hot_women_gifs', u'hotchickswithtattoos', u'hotguyswithtattoos', u'hotwheels', u'house', u'houseporn', u'houston', u'howto', u'howtonotgiveafuck', u'howyoudoin', u'hpfanfiction', u'hpmor', u'htc', u'htcone', u'htpc', u'httyd', u'honda', u'homeworkhelp', u'hometheater', u'homestead', u'hinduism', u'hiphopcirclejerk', u'hiphopheads', u'hiphopimages', u'history', u'historyporn', u'hitman', u'hitsworthturkingfor', u'hockey', u'hockeygoalies', u'humanporn', u'hoggit', u'holidaybullshit', u'homebrewing', u'homedefense', u'homedepot', u'homefitness', u'homegym', u'homelab', u'homemadexxx', u'homenetworking', u'homeowners', u'holdmybeer', u'humor', u'hungergames', u'hunterxhunter', u'imaginarytechnology', u'imaginarywesteros', u'imgur', u'incest', u'indie', u'indie_rock', u'indiefolk', u'indiegameswap', u'indiegaming', u'indieheads', u'imaginarymonsters', u'indiemakeupandmore', u'indoorgarden', u'ineedfeminismbecause', u'infertility', u'infertilitybabies', u'infiniti', u'infj', u'infographics', u'infp', u'infrastructureporn', u'injusticegame', u'indonesia', u'korrasami', u'imaginarymaps', u'imaginaryjedi', u'huntsvillealabama', u'husky', u'hvac', u'iama', u'iamverysmart', u'iasip', u'ibo', u'ibs', u'icandrawthat', u'iceland', u'imaginarylandscapes', u'idaho', u'ideasfortheadmins', u'idiotsfightingthings', u'ifiwonthelottery', u'ifyoulikeblank', u'iiiiiiitttttttttttt', u'ijustwatched', u'illusionporn', u'illustration', u'im14andthisiswtf', u'imaginarycharacters', u'idap', u'kotor', u'kpics', u'kpoop', u'makinghiphop', u'malazan', u'malefashion', u'malefashionadvice', u'malefashionmarket', u'malelifestyle', u'malelivingspace', u'malepolish', u'mame', u'manchester', u'mangonewild', u'maplestory', u'marchingband', u'marijuana', u'marijuanaenthusiasts', u'mariners', u'mario', u'marketing', u'markmywords', u'marriage', u'martialarts', u'makeupexchange', u'makeupaddiction', u'makeup', u'makenewfriendshere', u'lsd', u'luciddreaming', u'ludology', u'lushcosmetics', u'luthier', u'lv426', u'mabinogi', u'macgaming', u'machinelearning', u'machineporn', u'marvel', u'macroporn', u'maddenevolutioncc', u'madisonwi', u'madmen', u'magic', u'magicdeckbuilding', u'magicskyfairy', u'magictcg', u'maine', u'majesticmanes', u'makemeagif', u'maddenbowl', u'marvelstudios', u'maryland', u'masculism', u'memphis', u'mensrants', u'mensrights', u'mentalhealth', u'mercedes_benz', u'merecraft', u'metafitnesscirclejerk', u'metal101', u'metalgearsolid', u'metalguitar', u'memes', u'metalmemes', u'metatsg', u'methadone', u'metroid', u'metropolitan', u'mexico', u'mfacirclejerk', u'mflb', u'mfw', u'mgtow', u'miamidolphins', u'metalmusicians', u'lowendgaming', u'medlabprofessionals', u'medicine', u'mashups', u'massachusetts', u'massage', u'masseffect', u'massivecock', u'math', u'mathrock', u'matt', u'mazda3', u'mba', u'meditation', u'mbti', u'mcotg', u'mcpe', u'mcservers', u'mdma', u'mead', u'mechanicadvice', u'mechmarket', u'mecoop', u'medical', u'medicalschool', u'mcgill', u'michigan', u'lovecraft', u'louisck', u'learn_arabic', u'learnart', u'learndota2', u'learnjapanese', u'learnjavascript', u'learnmath', u'learnprogramming', u'learnuselesstalents', u'leathercraft', u'leaves', u'lebanon', u'leggingsgonewild', u'lego', u'letsgofish', u'letsnotmeet', u'letsplay', u'letstalkmusic', u'lettering', u'lewronggeneration', u'lexington', u'lexus', u'leangains', u'leagueofmemes', u'leagueoflegends', u'leagueofireland', u'kpopslumberparty', u'labrador', u'zombies', u'laclippers', u'lacrosse', u'ladybonersgonecuddly', u'ladygaga', u'ladyladyboners', u'lalist', u'landrover', u'lfg', u'languagelearning', u'lapfoxtrax', u'larp', u'lasers', u'lasseireitei', u'lastimages', u'lasvegas', u'latin', u'latvianjokes', u'lawrence', u'lawschool', u'lanl_german', u'lgbt', u'lgbteens', u'lgg2', u'logic_studio', u'logophilia', u'lolfanart', u'lolgrindr', u'lollapalooza', u'london', u'lonely', u'longbeach', u'longboarding', u'longisland', u'lockupleague', u'lookatmydog', u'lordoftherings', u'loremasters', u'losangeles', u'losangeleskings', u'loseit', u'lost', u'lostgeneration', u'lostgirl', u'lotr', u'lotro', u'lorde', u'louisville', u'lockpicking', u'liverpoolfc', u'liberal', u'libertarian', u'libertariandebates', u'libertyworldproblems', u'libraries', u'lifeinapost', u'lifeprotips', u'ligue1', u'lincoln', u'lingerieaddiction', u'loans', u'linguistics', u'linux4noobs', u'linuxactionshow', u'linuxadmin', u'linuxquestions', u'litecoin', u'litecoinmining', u'littlerock', u'littlespace', u'livefromnewyork', u'liverpool', u'linux', u'pugs', u'punk', u'punkcirclejerk', u'todayilearned', u'todayiwore', u'tokyo', u'tolkienfans', u'tomhiddleston', u'tonightsdinner', u'toolband', u'tools', u'toonami', u'topgear', u'torchlight', u'toronto', u'torontoraptors', u'torrents', u'totalanguage', u'totalwar', u'touhou', u'trackandfield', u'trailers', u'trainporn', u'trains', u'tmobile', u'titanfall', u'tipofmytongue', u'tipofmypenis', u'thesopranos', u'thestrokes', u'thevinneris', u'thewalkingdead', u'thewalkingdeadgame', u'thewaywewere', u'thewestwing', u'thewire', u'thingscutinhalfporn', u'thinkpad', u'transchicago', u'thisisourmusic', u'thriftythread', u'thunder', u'tiadiscussion', u'tightdresses', u'timanderic', u'timberwolves', u'timetolegalize', u'tinder', u'tinyhouses', u'tinytits', u'thriftstorehauls', u'thesimscc', u'transgamers', u'transgendercirclejerk', u'truechristian', u'truedetective', u'trueoffmychest', u'trueotherkin', u'truepokemon', u'truereddit', u'truestl', u'truetf2', u'truetictactoe', u'truetruereddit', u'truezelda', u'trumpet', u'truthfulteenopinions', u'tryingforababy', u'trypophobia', u'ttc30', u'tucson', u'tulsa', u'tumblr', u'tumblrinaction', u'turkey', u'trueatheism', u'trueaskreddit', u'trucksim', u'trucking', u'transhuman', u'translator', u'transspace', u'transtimelines', u'trapmuzik', u'trapproduction', u'traps', u'travel', u'treecomics', u'treedibles', u'transgender', u'trees', u'treknobabble', u'triangle', u'triathlon', u'trichsters', u'triphop', u'triumph', u'trollxchromosomes', u'trollychromosome', u'trombone', u'trophies', u'treessuckingatthings', u'thesims', u'thesimpsons', u'thesecretworld', u'talesfromthepizzaguy', u'talesfromyourserver', u'tall', u'tallfashionadvice', u'tallgonewild', u'tallmeettall', u'tampa', u'taoism', u'tarantulas', u'tardtales', u'tarot', u'tasker', u'tattoos', u'taylorswift', u'tdi', u'tea', u'teaching', u'team_japanese', u'teamcanada', u'technewstoday', u'technology', u'talesfromthepharmacy', u'talesfromthefrontdesk', u'talesfromretail', u'talesfromcallcenters', u'supremeclothing', u'surface', u'surfing', u'survivor', u'sushi', u'svenska', u'svexchange', u'swimming', u'swingers', u'switzerland', u'techsupportmacgyver', u'swoleacceptance', u'swords', u'swtor', u'sydney', u'synthesizers', u'syracuseu', u'syriancivilwar', u'sysadmin', u'tablets', u'tacobell', u'taiwan', u'swordartonline', u'teenmfa', u'teenparenting', u'teenrelationships', u'theb1g', u'theblacklist', u'thecreatures', u'thedivision', u'thedyingofthelight', u'thefacebookdelusion', u'thefence', u'thegirlsurvivalguide', u'thejerkies', u'thelastairbender', u'thathappened', u'thelastofus', u'themassive', u'thementalist', u'themountaingoats', u'thenarutoworld', u'thenewsroom', u'theoriginals', u'thepopcornstand', u'theredlion', u'theredpill', u'theredpillcirclejerk', u'thelastofusfactions', u'turning', u'thanksobama', u'tgirls', u'teenwolf', u'teetotal', u'tefl', u'televisionquotes', u'temple', u'tennessee', u'tennesseetitans', u'tennis', u'teraonline', u'terrainbuilding', u'thailand', u'terraria', u'teslamotors', u'teslore', u'testoutfit', u'testpackpleaseignore', u'texans', u'texasrangers', u'texts', u'tf2', u'tf2fashionadvice', u'tf2trade', u'terriblefacebookmemes', u'twentyfour', u'twincities', u'twincitiessocial', u'whatsthisbird', u'whatsthisbug', u'whatsthisplant', u'whatsthisworth', u'wheredidthesodago', u'whiskey', u'whiskyporn', u'whitecollar', u'whiteknighting', u'whole30', u'whowillbuildtheroads', u'whowouldwin', u'wicca', u'wichita', u'wicked_edge', u'wii', u'wiihacks', u'wiiu', u'wikileaks', u'wikipedia', u'wildstar', u'whatsmyimpression', u'whatsbotheringyou', u'whatisthisthing', u'whatisthis', u'warriors', u'warshipporn', u'washington', u'washingtondc', u'wastedgifs', u'watchitfortheplot', u'watercooling', u'waterloo', u'waterporn', u'weather', u'wilfred', u'webcomics', u'weddings', u'weeabootales', u'weightlifting', u'weightroom', u'weimaraner', u'weird', u'wellington', u'wemetonline', u'westvirginia', u'whatcouldgowrong', u'webdev', u'wince', u'windows', u'wine', u'wwe', u'wyoming', u'xbox', u'xbox360', u'xboxone', u'xkcd', u'xmen', u'xray', u'xxketo', u'yankees', u'wtsstadamit', u'yarnaddicts', u'yms', u'yoga', u'yogscast', u'yorku', u'youdontsurf', u'youtube', u'yugioh', u'zen', u'zenhabits', u'zeos', u'yiff', u'warmachine', u'wsu', u'writing', u'winmyargument', u'winnipeg', u'winnipegjets', u'wisconsin', u'woahdude', u'women', u'wondertrade', u'woodworking', u'wordpress', u'workgonewild', u'writingprompts', u'worldevents', u'worldpolitics', u'worstof', u'wot', u'wotcirclejerk', u'wouldyoufuckmywife', u'wouldyourather', u'woweconomy', u'wowthissubexists', u'wowui', u'wrestling', u'worldoftanks', u'supplements', u'wargame', u'warehouse13', u'ultralight', u'umass', u'umd', u'undelete', u'ungulateteams', u'uniformporn', u'unitedkingdom', u'unity3d', u'universityofreddit', u'unlimitedbreadsticks', u'unnecessarycensorship', u'unt', u'uofmn', u'uoft', u'upliftingnews', u'urbanplanning', u'usahockey', u'usarugby', u'uscr', u'usenet', u'usercars', u'ultimate', u'uktrees', u'ukraine', u'ukpersonalfinance', u'twinks', u'twinpeaks', u'twitch', u'twitter', u'twobestfriendsplay', u'twoxchromosomes', u'twoxsex', u'typography', u'ubc', u'ucdavis', u'userexperience', u'ucla', u'ucsc', u'ucsd', u'udub', u'ufc', u'ufl', u'ufos', u'uga', u'uhccourtroom', u'uiuc', u'ukbike', u'uconn', u'usmc', u'usmilitaryso', u'ussoccer', u'vindictus', u'vintageaudio', u'vinyl', u'virginia', u'virginiatech', u'visualbasic', u'vita', u'vmware', u'volkswagen', u'volleyballgirls', u'vim', u'volvo', u'vzla', u'wahoostipi', u'waiting_to_try', u'wallpaper', u'wallpaperdump', u'wallpaperrequests', u'wallpapers', u'wallstreetbets', u'waltdisneyworld', u'wardrobepurge', u'vxjunkies', u'warframe', u'villageporn', u'victoriabc', u'utarlington', u'utaustin', u'utdallas', u'uwaterloo', u'uwo', u'valve', u'vancouver', u'vapeitforward', u'vapeporn', u'vaping101', u'videoediting', u'vaporents', u'veganrecipes', u'vegas', u'vegetarianketo', u'vegrecipes', u'velo', u'venturebros', u'vermont', u'veronicamars', u'veterinary', u'vfx', u'vegan', u'supershibe', u'supernatural', u'supermoto', u'rugbyunion', u'rum', u'runescape', u'running', u'russia', u'russian', u'rva', u'ryerson', u'rythian', u'saab', u'sacramento', u'sad', u'sailing', u'sailormoon', u'saints', u'saintsrow', u'saltlakecity', u'samoyeds', u'sanantonio', u'sandiego', u'sanjose', u'rudeteensclub', u'ruby', u'rpi', u'rpg_gamers', u'rickygervais', u'rift', u'rimworld', u'ripcity', u'ripster', u'rit', u'rmit', u'rochester', u'rockband', u'rocketry', u'sanjosesharks', u'rockets', u'roku', u'rollerderby', u'romania', u'ronpaul', u'roomporn', u'roosterteeth', u'rootit', u'rottweiler', u'rowing', u'rpg', u'rocksmith', u'saplings', u'saskatoon', u'satanism', u'seattle', u'secretsanta', u'secretsubreddit', u'seiko', u'seinfeld', u'selenagomez', u'self', u'self_de', u'selfdrivingcars', u'selfharm', u'seaporn', u'selfharmpics', u'selfimprovement', u'selfpublish', u'serbia', u'serendipity', u'serialkillers', u'sewhelp', u'sewing', u'sex', u'sexpositive', u'sextoys', u'selfhelp', u'revolutionnbc', u'seahawks', u'scrubs', u'saudiarabia', u'savannah', u'saxophonics', u'sbu', u'sca', u'scaredshitless', u'scarlettjohansson', u'scenesfromahat', u'schizophrenia', u'schland', u'scuba', u'scholar', u'science', u'sciencefiction', u'scifi', u'scooters', u'scotch', u'scotchswap', u'scotland', u'scp', u'screenshots', u'scrolls', u'schweiz', u'sexworkers', u'reverseengineering', u'retrogaming', u'raisedbynarcissists', u'raisingkids', u'raleigh', u'rally', u'ramen', u'rance', u'random_acts_of_amazon', u'randomactsofamazon', u'randomactsofblowjob', u'randomactsofbras', u'randomactsofchristmas', u'randomactsofgaming', u'randomactsofmakeup', u'randomactsoftf2', u'randomkindness', u'randomsexygifs', u'rangers', u'rap', u'rapecounseling', u'raspberry_pi', u'ratedrfiction', u'rainmeter', u'rails', u'rage', u'radiology', u'punny', u'puns', u'puppy101', u'purdue', u'purebattlefield', u'purplepilldebate', u'pussypass', u'puzzleanddragons', u'puzzles', u'python', u'rateme', u'qotsa', u'questionablecontent', u'quiteinteresting', u'quoteporn', u'quotes', u'quotesporn', u'r4r', u'racism', u'radicalchristianity', u'radiocontrol', u'radiohead', u'quebec', u'ratemymayor', u'rational', u'ravens', u'redkings', u'redorchestra', u'redpillwomen', u'reds', u'redsox', u'redstone', u'reeftank', u'reformed', u'relationship_advice', u'relationships', u'redhotchilipeppers', u'reloading', u'reprap', u'reptiles', u'republican', u'residentevil', u'resissues', u'resolutions', u'restorethefourth', u'resumes', u'retiredgif', u'retrobattlestations', u'reno', u'revenge', u'redheads', u'redditsync', u'razer', u'rba', u'rbi', u'reactiongifs', u'realestate', u'realgirls', u'realmadrid', u'recordthis', u'redactedcharts', u'reddeadredemption', u'redditthroughhistory', u'reddevils', u'redditcasual', u'redditdayof', u'redditdev', u'redditdotcom', u'redditforgrownups', u'redditgetsdrawn', u'redditlaqueristas', u'redditlogos', u'redditpolish', u'redditrescueforce', u'redditblack', u'himym', u'sf4', u'sfm', u'spongebob', u'sports', u'spotify', u'spotted', u'springfieldmo', u'sprint', u'squaredcircle', u'srsdiscussion', u'srsfeminism', u'srsfunny', u'srsgaming', u'srsmythos', u'srsquestions', u'srssucks', u'stacked', u'stalker', u'stalkerwatch', u'stance', u'standup', u'standupcomedy', u'standupshots', u'spokane', u'spikes', u'spiders', u'spiderman', u'songwriters', u'sonicthehedgehog', u'sonsofanarchy', u'sororities', u'soundersfc', u'sourcefed', u'sousvide', u'southafrica', u'southcarolina', u'southpaws', u'staples', u'soylent', u'spacedicks', u'spaceengine', u'spaceninjasplsignore', u'spaceporn', u'spacex', u'spain', u'spanish', u'speedrun', u'spelunky', u'spicy', u'space', u'starbound', u'starboundplanets', u'starbucks', u'stonerengineering', u'stonerphilosophy', u'stonerprotips', u'stonerrock', u'stopselfharm', u'stpetersburgfl', u'straightedge', u'straya', u'streetart', u'streetfights', u'stoicism', u'streetwear', u'studentnurse', u'studyabroad', u'stunfisk', u'subredditdrama', u'subredditdramadrama', u'succulents', u'suicidegirls', u'summonerschool', u'suns', u'suomi', u'stretched', u'somethingimade', u'stocks', u'stockholm', u'starcitizen', u'starcitizen_trades', u'starcraft', u'starcraftcirclejerk', u'startledcats', u'startrek', u'starwars', u'starwarseu', u'statistics', u'std', u'stockmarket', u'steamdeals', u'steamgiveaway', u'steamos', u'steampunk', u'steamtradingcards', u'steelers', u'stencils', u'stephenkingbookclub', u'stepparents', u'stlouis', u'stlouisblues', u'steamgameswap', u'sfgiants', u'somebodymakethis', u'solidworks', u'shittyhdr', u'shittyideas', u'shittykickstarters', u'shittynosleep', u'shittyteslore', u'shittytodayilearned', u'shittytumblrgifs', u'shoestring', u'short', u'shorthairedhotties', u'shortnotalittlebitch', u'shortscarystories', u'shotguns', u'shouldibuythisgame', u'showerbeer', u'showerthoughts', u'siberianhusky', u'sidehugs', u'silenthill', u'silkroad', u'silverbugs', u'shittyfoodporn', u'shittyearthporn', u'shittydarksouls', u'shittybattlestations', u'sgsflair', u'shadowbanned', u'shadowrun', u'shamelessplug', u'shanghai', u'shave_bazaar', u'shaveoftheday', u'sherlock', u'shiba', u'shibe', u'simcity', u'shield', u'shitamericanssay', u'shitcosmosays', u'shitpoliticssays', u'shitredditsays', u'shittingadvice', u'shitty_car_mods', u'shittyadvice', u'shittyadviceanimals', u'shittyama', u'shittyaskreddit', u'shinypokemon', u'simcity4', u'simplerockets', u'singing', u'smite', u'smoking', u'snackexchange', u'snakes', u'sneakermarket', u'sneakers', u'snes', u'snsd', u'soccer', u'soccerbetting', u'smashbros', u'soccercirclejerk', u'socialengineering', u'socialism', u'socialjustice101', u'socialmedia', u'socialskills', u'socialwork', u'sociology', u'software', u'softwareswap', u'solforge', u'socialanxiety', u'solotravel', u'smalldickproblems', u'slowcooking', u'singleparents', u'singularity', u'siouxfalls', u'sixwordstories', u'sjearthquakes', u'sjsu', u'sjsucks', u'skateboarding', u'sketchdaily', u'skiing', u'smallbusiness', u'skincareaddiction', u'skullgirls', u'skydiving', u'skylanders', u'skyporn', u'skyrimporn', u'slackerrecipes', u'slashdiablo', u'sleep', u'sleepyhollowtv', u'sloths', u'skrillex', u'hiking', u'zyzz', u'highschooldxd', u'crosswords', u'cruisers', u'crusaderkings', u'crypto', u'cs50', u'cscareerquestions', u'csharp', u'css', u'crossfit', u'csshelp', u'csuf', u'cubers', u'cubeworld', u'asianladyboners', u'cumberbitches', u'cumsluts', u'curvy', u'custommagic', u'csuc', u'customsmash', u'crossdressing', u'crohnsdisease', u'cpp', u'crafts', u'crappydesign', u'crappymusic', u'crayonpop', u'crazyideas', u'askacountry', u'creepygaming', u'crossdreaming', u'ask_politics', u'creepypms', u'cricket', u'ask', u'asiantwox', u'asiansgonewild', u'criterion', u'criticalgender', u'crochet', u'creepypasta', u'coyotes', u'cutegirlgifs', u'cyberlaws', u'darksouls2', u'asexuality', u'darksoulshelp', u'asatru', u'database', u'dataisbeautiful', u'datgap', u'dating', u'ashens', u'artistlounge', u'dawngate', u'daystrominstitute', u'artisanvideos', u'dayz', u'dayzlfg', u'dbz', u'dccomics', u'artificial', u'datsun', u'cyanogenmod', u'darknetmarkets', u'danmag', u'asianhotties', u'cyberpunk', u'cycling', u'cynicalbrit', u'cysticfibrosis', u'czech', u'czfirearms', u'dachshund', u'darkfuturology', u'daddit', u'asianamerican', u'daftpunk', u'dailydouble', u'dailyprogrammer', u'dailytechnewsshow', u'dallas', u'damnthatsinteresting', u'asheville', u'asianbeauty', u'artcrit', u'cowboys', u'coversongs', u'collapse', u'college', u'collegebasketball', u'askjerks', u'colombia', u'askhistory', u'coloradoavalanche', u'coloradorockies', u'coldplay', u'coloradosprings', u'colorization', u'colorizedhistory', u'columbus', u'comcast', u'comedy', u'comeonandslam', u'askgaybros', u'comicbooks', u'colorblind', u'comiccon', u'coinyewest', u'coinbase', u'cloprp', u'clothdiaps', u'clotsurvivors', u'coachella', u'cockatiel', u'askphotography', u'askphilosophy', u'askoldpeople', u'coins', u'cocktails', u'asknetsec', u'askmoderators', u'askmenover30', u'codzombies', u'coents', u'coffee', u'cogsci', u'askmen', u'asknyc', u'askashittydoctor', u'comics', u'askfrance', u'askelectronics', u'copenhagen', u'cordcutters', u'corejerk', u'askdrugs', u'corgi', u'askculinary', u'askcomputerscience', u'highseddit', u'corvette', u'cosplay', u'cosplayers', u'askcarsales', u'couchsurfing', u'counterstrike', u'askbattlestations', u'country', u'coupons', u'cosnow', u'comicswap', u'contagiouslaughter', u'conspiratocracy', u'compsci', u'compulsiveskinpicking', u'computerforensics', u'computergraphics', u'computers', u'askflytape', u'askfeminists', u'confession', u'consulting', u'askeurope', u'confusedboners', u'askengineers', u'connectedcareers', u'conservative', u'conservatives', u'conservatives_r_us', u'conspiracy', u'conspiratard', u'confessions', u'clopclop', u'art', u'deadspace', u'dontpanic', u'anthropology', u'dontstarve', u'doodles', u'anormaldayinrussia', u'dota2', u'dota2trade', u'dotaconcepts', u'antiantijokes', u'anonymous123421', u'anonymous', u'dragonage', u'dragoncon', u'dragonsdogma', u'drama', u'drawforme', u'drawing', u'dreadlocks', u'douglovesmovies', u'announcements', u'anticonsumption', u'dolan', u'dogecoinbeg', u'dogecoindev', u'dogecoinmining', u'dogecoinpif', u'appalachiantrail', u'dogecrafters', u'dogeducation', u'anythinggoesnews', u'dominion', u'dogeforgames', u'anxiety', u'dogenews', u'antisrs', u'antiques', u'dogetipbot', u'dogpictures', u'dogs', u'antijokes', u'dogemarket', u'apphookup', u'dreamcast', u'dreamtheater', u'animefigures', u'dynastywarriors', u'e_cigarette', u'eagles', u'earthbound', u'earthporn', u'eatcheapandhealthy', u'eatingdisorders', u'animegifs', u'eatsandwiches', u'ebooks', u'ecchi', u'anime', u'animation', u'animalsbeingjerks', u'eczema', u'edc', u'edh', u'ebay', u'dreams', u'dykesgonewild', u'duolingo', u'dresdenfiles', u'drugnerds', u'drugs', u'drumcorps', u'drums', u'drunk', u'drunkencookery', u'annarbor', u'dvdcollection', u'dualsport', u'duckduckgo', u'ducks', u'dudewheresmybank', u'animesuggest', u'duelofchampions', u'dumpsterdiving', u'animesketch', u'dune', u'dubai', u'deadpool', u'apple', u'dodgers', u'dentistry', u'denver', u'denverbroncos', u'denvernuggets', u'depthhub', u'design', u'design_critiques', u'arlington', u'denmark', u'desktopdetective', u'dessertporn', u'destiny', u'destinyknot', u'arkansas', u'destructionporn', u'destructivereaders', u'argentina', u'arcticmonkeys', u'desmoines', u'archlinux', u'demotivational', u'democrats', u'deaf', u'dealsreddit', u'arrow', u'debateachristian', u'arnoldschwarzenegger', u'debateanarchism', u'debatereligion', u'debian', u'demonssouls', u'army', u'declutter', u'deephouse', u'deepintoyoutube', u'deeproute', u'defaultgems', u'delaware', u'arma3', u'delusionalartists', u'armoredwomen', u'doesanybodyelse', u'dexter', u'diabetes', u'distrohopping', u'divergent', u'divorce', u'aquariums', u'diy_ejuice', u'diyaudio', u'aquaponics', u'diypedals', u'aquaswap', u'appstate', u'baseball', u'appletv', u'djscirclejerk', u'dnb', u'dnd', u'doctorwho', u'doctorwhumour', u'dodge', u'djent', u'dgu', u'disney_infinity', u'dishonored', u'architecture', u'diablo3', u'digimon', u'digitalcartel', u'archery', u'archerfx', u'dippingtobacco', u'dirtykikpals', u'disney', u'arcadefire', u'arabs', u'dirtysmall', u'dirtysnapchat', u'ar15', u'disability', u'discexchange', u'discgolf', u'discworld', u'dirtypenpals', u'climbing', u'climateskeptics', u'clevelandcavs', u'blackops2', u'blackpeoplegifs', u'blacksmith', u'bleach', u'bleachshirts', u'blender', u'awesome', u'blogging', u'blackmetal', u'bloodbowl', u'blowit', u'avesnyc', u'blues', u'blunderyears', u'bmx', u'boardgames', u'boardwalkempire', u'boating', u'aviation', u'bobdylan', u'blackmarketreferences', u'blackfellas', u'biology', u'bioshock', u'bipolar', u'birding', u'birdpics', u'birdsbeingdicks', u'birdswitharms', u'birthcontrol', u'blackladies', u'bisexual', u'bitcoinbeginners', u'bitcoincirclejerk', u'bitcoinmarkets', u'bitcoinmining', u'aws', u'bjj', u'blackberry', u'blackbookgraffiti', u'bitcoin', u'binghamtonuniversity', u'bobsburgers', u'bodybuilding', u'boulder', u'bowling', u'boxing', u'boxoffice', u'bpd', u'brandnew', u'brasil', u'braswap', u'botanicalporn', u'australianshepherd', u'braves', u'breadit', u'breakingbad', u'brewers', u'briggs', u'brisbane', u'australiancattledog', u'bristol', u'braveryjerk', u'averagebattlestations', u'bostonterrier', u'boston', u'autos', u'boise', u'boltedontits', u'bombing', u'bondage', u'bonnaroo', u'bonsai', u'boobies', u'bostonceltics', u'boobs', u'bookshelf', u'autocross', u'boop', u'bordercollie', u'autism', u'borderlands', u'borussiadortmund', u'austria', u'bookexchange', u'britishcolumbia', u'bindingofisaac', u'bimbofetish', u'beadsprites', u'beagle', u'beardeddragons', u'bandnames', u'beards', u'baltimore', u'ballet', u'baldursgate', u'bdsmgw', u'beatmatch', u'beautyboxes', u'baking', u'beekeeping', u'beer', u'beercirclejerk', u'beermoney', u'beerporn', u'beertrade', u'beauty', u'belgium', u'bdsmcommunity', u'banished', u'basketballgm', u'basketballtips', u'bass', u'basset', u'batman', u'batmanarkham', u'battlefield', u'battlefield3', u'bdsm', u'battlefield4', u'barca', u'bapcsalescanada', u'battlestations', u'battlewagon', u'bannersaga', u'banjo', u'bbw', u'bbwgw', u'battlefield_4', u'awwnverts', u'bakersfield', u'bengals', u'bicycletouring', u'bicycling', u'bacon', u'backyardchickens', u'backtothefuture', u'backpacking', u'bigboobsgonewild', u'bigboobsgw', u'bhmgonewild', u'bigbrother', u'bigfoot', u'babyloss', u'babylon5', u'bikeporn', u'babybumps', u'awwwtf', u'billiards', u'awww', u'bigdickproblems', u'baduk', u'bf4emblems', u'bf4_eu', u'badscience', u'berlin', u'badroommates', u'berrytubelounge', u'badmovies', u'berserk', u'bertstrips', u'bestof', u'bf4_x1', u'bestofliveleak', u'bestofstreamingvideo', u'bestoftldr', u'bestofworldstar', u'badhistory', u'bettafish', u'baconreader', u'bettercallsaul', u'beyondthebump', u'bestofnetflix', u'britishladyboners', u'australia', u'britishsuccess', u'assassinscreed', u'ass', u'chargers', u'charitablebets', u'charleston', u'aspergers', u'charlotte', u'chart_bot', u'characterdrawing', u'asongofmemesandrage', u'cheap_meals', u'cheatatmathhomework', u'chefit', u'chelseafc', u'asoiafcirclejerk', u'chemicalengineering', u'chemicalreactiongifs', u'chemistry', u'chattanooga', u'chess', u'charactercrossovers', u'asshathackers', u'cats', u'catsstandingup', u'catteambrotherhood', u'cbd', u'ccna', u'asstastic', u'cedarrapids', u'celebnsfw', u'assettocorsa', u'celebs', u'assistance', u'cfb', u'cfbmemes', u'asshole', u'cfl', u'cfs', u'cgpgrey', u'changemyview', u'celiac', u'catpictures', u'chesthairporn', u'chicagobulls', u'asksf', u'cinema4d', u'cinemagraphs', u'circlebroke', u'circlejerk', u'asksciencefiction', u'cityporn', u'askredditafterdark', u'asksocialscience', u'civcirclejerk', u'ck2gameofthrones', u'clashofclans', u'classic4chan', u'classicalmusic', u'classiccars', u'classicrage', u'classicrock', u'cleavage', u'civcraft_orion', u'chicago', u'chronicpain', u'chromecast', u'chicagosuburbs', u'asoiaf', u'chickflixxx', u'chicoca', u'asmr', u'askwomenover30', u'askwomen', u'chile', u'chromeos', u'chillmusic', u'chineselanguage', u'chipotle', u'chivalrygame', u'christianapologetics', u'asktrp', u'asktrees', u'asktransgender', u'asktechnology', u'china', u'catholicism', u'catgifs', u'catan', u'buildapc', u'buildapcforme', u'buildapcsales', u'bulkorcut', u'audioengineering', u'bulldogs', u'audi', u'bullterrier', u'buffy', u'burial', u'burstingout', u'auburn', u'business', u'buttplug', u'buyitforlife', u'c25k', u'attackontitangame', u'cableporn', u'auckland', u'cad', u'buffalobills', u'audiophile', u'austin', u'brogress', u'brokengifs', u'aussievapers', u'brooklyn', u'brooklynninenine', u'auslaw', u'broslikeus', u'buffalo', u'brownbeauty', u'brum', u'bsa', u'bsg', u'buccos', u'buddhism', u'buddycrossing', u'budgetfood', u'budgies', u'browns', u'cade', u'caferacers', u'calamariraceteam', u'canucks', u'asu', u'captivewildlife', u'carav', u'carcrash', u'cardinals', u'cardinalscirclejerk', u'astronomy', u'canning', u'careerguidance', u'cars', u'castiron', u'castleclash', u'castles', u'astoria', u'asthma', u'casualnintendo', u'catalogcrossing', u'carporn', u'cannabisextracts', u'atheism', u'candidfashionpolice', u'attackontitan', u'calgary', u'calgaryflames', u'california', u'atlanta', u'calligraphy', u'calmhands', u'athens', u'calvinandhobbes', u'camaro', u'camping', u'campingandhiking', u'atheistparents', u'canadaguns', u'canadapolitics', u'canadia', u'canadianforces', u'canadients', u'cancer', u'edinburgh', u'animalsbeingderps', u'djs', u'editors', u'gamedesign', u'gamedev', u'gamegrumps', u'afl', u'adviceatheists', u'gameofthronesrp', u'gamephysics', u'gamerpals', u'games', u'gamesale', u'gametales', u'gametrade', u'gaming', u'gaming4gamers', u'gamingpc', u'adviceanimals', u'gardening', u'gamedealsmeta', u'gatech', u'gamedeals', u'aftereffects', u'furry', u'futanari', u'futurebeats', u'futureporn', u'futurewhatif', u'futurology', u'gaaaaaaayyyyyyyyyyyy', u'gadgets', u'gaeilge', u'gainit', u'gakinotsukai', u'galaxynote3', u'agnostic', u'againstmensrights', u'galaxys4', u'gallifrey', u'gameboy', u'afol', u'funnycharts', u'advertising', u'gay', u'getmotivated', u'getstudying', u'getting_over_it', u'ads', u'ggggg', u'adporn', u'adoptmyvillager', u'ghibli', u'adoption', u'ghosts', u'gif', u'gifs', u'gifsound', u'adoptareddit', u'giftcardexchange', u'admincraft', u'adhd', u'getemployed', u'gats', u'getdisciplined', u'germanshepherds', u'gaybears', u'adventuretime', u'gaybroscirclejerk', u'gaybrosgonemild', u'gaybrosgonewild', u'gaymers', u'gearsofwar', u'geek', u'gendercritical', u'genderqueer', u'advancedfitness', u'genealogy', u'geocaching', u'geography', u'geology', u'geologycareers', u'georgia', u'germany', u'ainbow', u'aion', u'funny', u'foodforthought', u'foodhacks', u'foodporn', u'foofighters', u'footballmanagergames', u'ford', u'fordraptor', u'forearmporn', u'albuquerque', u'foreveralone', u'albumartporn', u'foreveralonewomen', u'alberta', u'forhire', u'alaska', u'forts', u'fortwayne', u'food', u'fortworth', u'folk', u'flying', u'fitmeals', u'fitness', u'fitnesscirclejerk', u'fittings', u'fiu', u'fixedgearbicycle', u'fixit', u'fl_studio', u'flashlight', u'aleague', u'flipping', u'florida', u'alcoholism', u'floridaman', u'floridapanthers', u'flyers', u'alcohol', u'fnv', u'forwardsfromgrandma', u'alanon', u'fossworldproblems', u'fringe', u'frisson', u'frontend', u'frozen', u'airsoft', u'frugal', u'frugal_jerk', u'frugalfemalefashion', u'airforce', u'frugalmalefashion', u'fryemadden', u'fsu', u'ft86', u'ftlgame', u'ftm', u'fuckyouimashark', u'fullmetalalchemist', u'friendsafari', u'fresno', u'airsoftmarket', u'freethought', u'fountainpens', u'foxes', u'fpua', u'fragrance', u'fragsplits', u'alabama', u'france', u'frat', u'gilf', u'frc', u'ak47', u'freckledgirls', u'freedonuts', u'freeebooks', u'freekarma', u'freelance', u'freemasonry', u'freenas', u'akron', u'ginger', u'girlgamers', u'addiction', u'guns', u'4000dollarart', u'gwnerdy', u'gymmemes', u'gymnastics', u'habs', u'3dsfcswap', u'hacking', u'hackintosh', u'3dprinting', u'hailcorporate', u'3d6', u'haircarescience', u'halflife', u'halifax', u'3amjokes', u'halo', u'gunporn', u'halostory', u'gunpolitics', u'gunners', u'4x4', u'4chan', u'guildwars2', u'guildwars2builds', u'49ers', u'guineapigs', u'guitar', u'guitarlessons', u'guitarpedals', u'40something', u'guitarporn', u'guitars', u'gundam', u'40krpg', u'gundeals', u'gunfights', u'gunnerkrigg', u'gunpla', u'hamilton', u'hammers', u'hammocks', u'2007scape', u'healthyfood', u'heat', u'195', u'hebrew', u'hedgehog', u'helicopters', u'helix', u'hentai', u'heroclix', u'heroesofnewerth', u'1911', u'heroesofthestorm', u'herpetology', u'highdeas', u'highlightgifs', u'highqualitygifs', u'health', u'headphones', u'hawks', u'hawaii', u'hamplanethatred', u'hamsters', u'30rock', u'hangoutfest', u'hannibaltv', u'happy', u'happycrowds', u'2x_intj', u'4xgaming', u'hardbodies', u'hardcoreaww', u'hardstyle', u'hardware', u'hardwareswap', u'24hoursupport', u'harmontown', u'harvestmoon', u'240sx', u'hardcore', u'alienblue', u'52book', u'guelph', u'goldbenefits', u'golf', u'acmilan', u'gonecivil', u'acecombat', u'gonemild', u'gonewild', u'gonewildcd', u'gonewildcolor', u'gonewildcurvy', u'gonewildhairy', u'gonewildplus', u'gonewildsmiles', u'gonewildstories', u'good_cop_free_donut', u'goodyearwelt', u'google', u'acting', u'googleglass', u'godzilla', u'gnomoria', u'adamcarolla', u'girlsfinishingthejob', u'acturnips', u'actuary', u'girlswithglasses', u'girlswithneonhair', u'gis', u'gitcp', u'glasgow', u'glassheads', u'glitch_art', u'globaloffensivetrade', u'actrade', u'gloving', u'glutenfree', u'gmod', u'actionfigures', u'gnv', u'accounting', u'gore', u'acappella', u'greyhounds', u'greysanatomy', u'grilledcheese', u'grimm', u'griptraining', u'grool', u'grumpycats', u'gta5', u'gtaa', u'52weeksofbaking', u'gtadupe', u'gtaglitches', u'gtamarket', u'gtaonline', u'gtav', u'gtavadventures', u'gtavcustoms', u'52weeksofcooking', u'greenbaypackers', u'greece', u'greatdanes', u'acadiana', u'gradadmissions', u'academicbiblical', u'ableton', u'graffiti', u'grammar', u'grandcherokee', u'abdl', u'guessmyname', u'abandonedporn', u'granturismo', u'graphic_design', u'graphicdesign', u'5555555', u'graphicsofgames', u'52weeksofproduction', u'gratefuldead', u'gravityfalls', u'grandrapids', u'alisonbrie', u'baseballoffseason2014', u'fitbit', u'fcbayern', u'entertainment', u'entexchange', u'entgaming', u'explainlikeimfive', u'android', u'entomology', u'favors', u'fatpeoplestories', u'anchorage', u'amateur_boxing', u'amateur', u'fatpeoplehate', u'fasting', u'fastfood', u'anarchyonline', u'eqnext', u'equality', u'fashion', u'farscape', u'farming', u'fargo', u'anarcho_capitalism', u'anarchism', u'fatlogic', u'esports', u'enoughlibertarianspam', u'androidapps', u'femradebates', u'androiddev', u'feminisms', u'emmawatson', u'feminism', u'ems', u'emulation', u'ender', u'energy', u'alternativeart', u'altgonewild', u'enoughinternet', u'enfj', u'enfp', u'femalehairadvice', u'femalefashionadvice', u'engineering', u'feet', u'feelsquad', u'feelsofjustice', u'altnewz', u'engineeringporn', u'engineeringstudents', u'enhancement', u'feminineboys', u'farcry', u'amateurarchives', u'fantheories', u'falloutequestria', u'excel', u'exchristian', u'falloutboy', u'fallout', u'falcons', u'fairytail', u'amsterdam', u'amiugly', u'exjw', u'faces', u'anaheimducks', u'facepalm', u'facebookwins', u'facebookcleavage', u'f7u12_ham', u'f1porn', u'exmormon', u'exoticspotting', u'f1circlejerk', u'expectationvsreality', u'eyebleach', u'explainlikeiama', u'exposureporn', u'americanhorrorstory', u'evilleagueofevil', u'everythingscience', u'falloutlore', u'fantasywriters', u'fantasypl', u'estimation', u'fantasyhockey', u'etsy', u'etymology', u'eugene', u'europe', u'analogygifs', u'eve', u'evedreddit', u'amateurfights', u'amateurradio', u'amateurroomporn', u'fantasy', u'anal', u'fanfiction', u'everquest', u'everton', u'every_one_is_mod', u'amazon', u'everymanshouldknow', u'fancyfollicles', u'familyguy', u'americandad', u'eminem', u'fencing', u'explainlikeimcalvin', u'edmprodcirclejerk', u'finance', u'finalfantasy', u'fireemblem', u'education', u'fibbledeflooke', u'electricforest', u'firefall', u'fibromyalgia', u'firewater', u'allthingszerg', u'firefox', u'firstworldproblems', u'filmmakers', u'edmproduction', u'fireflyfestival', u'fighters', u'allthingsterran', u'animalporn', u'fifa', u'fifacareers', u'fifacoins', u'firefly', u'fiftyfifty', u'financialcareers', u'eldertrees', u'fishing', u'animalcrossing', u'egypt', u'animalsbeingbros', u'alphaandbetausers', u'ferrets', u'edmonton', u'efreebies', u'finland', u'elianscript', u'elementaryos', u'fffffffuuuuuuuuuuuu', u'findfashion', u'ffxiv', u'firstworldanarchists', u'elementary', u'educationalgifs', u'androidthemes', u'electronic_cigarette', u'animals', u'almosthuman', u'angel', u'electricians', u'edmontonoilers', u'financialindependence', u'findareddit', u'edm', u'rwby', u'uwotm8', u'gentlemanboners', u'fortlauderdale', u'moviesinthemaking', u'kanye', u'mining', u'powerwashingporn', u'bikesgonewild', u'projectsparkgame', u'bayarea', u'istj', u'creepy_gif', u'bmw', u'techsupportgore', u'dogtraining', u'seo', u'pokemonbreeding', u'penguins', u'jpop', u'economics', u'mademesmile', u'jakeandamir', u'swingdancing', u'clannad', u'modestmouse', u'mindcrackcirclejerk', u'fcs', u'australianpolitics', u'castletv', u'astrophotography', u'cablefail', u'opiatesrecovery', u'atheismrebooted', u'pointsplus', u'ehlersdanlos', u'narcissisticabuse', u'connecticut', u'entourage', u'gamingcirclejerk', u'theatre', u'companyofheroes', u'wrasslin', u'imaginarybattlefields', u'panthers', u'ecigclassifieds', u'malegrooming', u'dubstep', u'ukulele', u'entwives', u'whatsthatbook', u'tripsit', u'osugame', u'cooking', u'maddencc', u'cinematography', u'casualknitting', u'bartenders', u'ffxi', u'shadowban', u'spacedandy', u'ameristralia', u'acne', u'hockeywagers', u'hiphop101', u'wouldtotallyfuck', u'hifw', u'simpleliving', u'rddt7', u'dogebay', u'mosinnagant', u'palegirls', u'bones', u'cleveland', u'mapporn', u'jenniferlawrence', u'oaklandraiders', u'periwinkle', u'askuk', u'southpark', u'bodybuildingpics', u'puppies', u'askreddit', u'bladesmith', u'hartofdixie', u'doge', u'playstation', u'aww', u'askscience', u'auto', u'realasians', u'love', u'horses', u'drawmytattoo', u'firefighting', u'howardstern', u'tagpro', u'thehobbit', u'overclocking', u'beardporn', u'mileycyrus', u'politicalhumor', u'gamernews', u'fifthworldproblems', u'ohio', u'licensedforbeauty', u'environment', u'ucf', u'cartalk', u'sanctuaryrpg', u'metallica', u'fixxit', u'ronandfez', u'economy', u'ea_nhl', u'cripplingalcoholism', u'lifehacks', u'oregon', u'colts', u'combatfootage', u'randomactsofpolish', u'seduction', u'bugout', u'tittydrop', u'gamemaker', u'borderlands2', u'redditlaqueristaswap', u'steamfriend', u'deadbedrooms', u'birmingham', u'screenwriting', u'eddfaction', u'makeupaddicts', u'oblivion', u'askphysics', u'aggies', u'fandomnatural', u'interiordesign', u'cablemanagement', u'40klore', u'ideasforaskreddit', u'usmcboot', u'breastenvy', u'pokemonromhacks', u'thetruthishere', u'answers', u'floridagators', u'awesomenauts', u'gamingsuggestions', u'newhampshire', u'playstationplus', u'whatstheword', u'cubs', u'kayaking', u'badlinguistics', u'mazda', u'srswomen', u'eyes', u'worldnews', u'haskell', u'trailerparkboys', u'lanadelrey', u'wifesharing', u'no_sob_story', u'mac', u'casualiama', u'web_design', u'orioles', u'ladybonersgw', u'mueflair', u'needadvice', u'killzone', u'creepy', u'taekwondo', u'churning', u'neworleans', u'suits', u'fullmoviesonyoutube', u'chrome', u'knife_swap', u'dykesgonemild', u'blackhairedgirls', u'stephenking', u'stateball', u'civ', u'burningman', u'montana', u'livesound', u'elderscrollsonline', u'lightbulb', u'shittyreactiongifs', u'xposed', u'shakespeare', u'warhammer40k', u'transmogrification', u'wedding', u'l4d2', u'metalocalypse', u'literature', u'sto', u'eu4', u'curlyhair', u'syracuse', u'sammyclassicsonicfan', u'nlcentral', u'indiana', u'navy', u'designporn', u'postcollapse', u'thegameison', u'computertechs', u'moviesuggestions', u'goldenretrievers', u'theoryofreddit', u'leeds', u'readmyscript', u'chuck', u'austinmotorcycles', u'unexpected', u'bb30', u'fayetteville', u'homestarrunner', u'automate', u'sharepoint', u'mustangtech', u'yosemite', u'imgoingtohellforthis', u'godlesswomen', u'athiesm', u'ama', u'rotmg', u'randomactsofcards', u'renewableenergy', u'rule34', u'dungeonsanddragons', u'evilasks', u'mechanics', u'gonets', u'houseofcards', u'dogswearinghats', u'viberightisatwat', u'tmnt', u'cakeday', u'stormlight_archive', u'pka', u'turtle', u'mid_century', u'help', u'john_frusciante', u'drexel', u'detroitredwings', u'jayhawks', u'chibears', u'diablo', u'mobileal', u'pokemonexchange', u'denton', u'quityourbullshit', u'gorillaz', u'vexillology', u'sweden', u'wtf', u'wearethemusicmakers', u'nyc', u'nyu', u'androidquestions', u'dobermanpinscher', u'vegetarian', u'dcuonline', u'fireporn', u'iamafiction', u'arresteddevelopment', u'sadboys', u'gameofthrones', u'trueanime', u'applehelp', u'outhere', u'specart', u'longdistance', u'porsche', u'teenagers', u'pussy', u'britishproblems', u'loleventvods', u'survival', u'debateanatheist', u'britpics', u'closetswap', u'shittyfantheories', u'youtubehaiku', u'tallahassee', u'crh', u'learnpython', u'ingress', u'gaybros', u'toosoon', u'hunting', u'bourbon', u'teenffa', u'biomesoplenty', u'thebrewery', u'uofm', u'underweargw', u'military', u'psoriasis', u'architectureporn', u'shitpost', u'skyrimmods', u'newhaven', u'ubuntu', u'transformers', u'gta', u'collegehockey', u'bellingham', u'pocladyboners', u'coilporn', u'whatcarshouldibuy', u'awwducational', u'shittylifeprotips', u'animewallpaper', u'postgresql', u'hockeyfandom', u'sportingkc', u'redskins', u'rawdenim', u'australianmakeup', u'gifrequests', u'grandtheftautov', u'transpassing', u'breastfeeding', u'irishcirclejerk', u'oddlysatisfying', u'bigboobproblems', u'chihuahua', u'motog', u'animenocontext', u'treesgonewild', u'callofduty', u'askvet', u'hotwife', u'bestofbronze', u'xxfitness', u'nsfw_gifs', u'modern_family', u'redditisfun', u'kpop', u'bustypetite', u'teachers', u'downtonabbey', u'firstimpression', u'pokemonteams', u'sanfrancisco', u'minnesotavikings', u'shrooms', u'brazil', u'autodetailing', u'boardsofcanada', u'hearthstone', u'unidanfans', u'law', u'tribes', u'civsaves', u'elpaso', u'captchaart', u'entp', u'microgrowery', u'actuallesbians', u'unsentletters', u'programmerhumor', u'skyrim', u'newskaters', u'slackline', u'cocaine', u'nosleep', u'superman', u'cincinnati', u'dogecoin', u'drunkorakid', u'jacksonville', u'machinists', u'braces', u'gastate', u'futurama', u'ladiesofscience', u'askanthropology', u'makeitworse', u'theketodiet', u'concacaf', u'truthordareme', u'pictureswithpatrick', u'humorousreviews', u'poetry', u'witcher', u'youshouldknow', u'anythinggoespics', u'fantasyfootball', u'kateeowen', u'nrl', u'nuzlocke', u'obscuremedia', u'crossstitch', u'navia', u'shitrconservativesays', u'suicidewatch', u'weddingplanning', u'texas', u'patientgamers', u'rockncock', u'civcraft', u'nyknicks', u'im14andthisisfunny', u'designmyroom', u'malehairadvice', u'barstoolsports', u'privacy', u'commandline', u'lebowski', u'sportsbook', u'illinois', u'galaxynexus', u'ladybonersgonemild', u'automoderator', u'androidcirclejerk', u'gameswap', u'norfolk', u'berkeley', u'jokes', u'penis', u'madden', u'askmath', u'robotics', u'askgsm', u'watchpeopledie', u'exmuslim', u'pokemonshowdown', u'welding', u'breakingmom', u'spaceengineers', u'cherokeexj', u'ssbpm', u'uglyduckling', u'amisexy', u'nsfwhardcore', u'megaten', u'glitch_in_the_matrix', u'kingofthehill', u'behindthegifs', u'morrowind', u'accutane', u'nasa', u'editingandlayout', u'itookapicture', u'datfeel', u'talkwithsomeone', u'iran', u'cryptocurrency', u'chiliadmystery', u'latterdaysaints', u'arduino', u'muse', u'indianauniversity', u'snowboarding', u'gamedevclassifieds', u'peoplebeingjerks', u'dogebetting', u'maa', u'alpinism', u'holmes', u'skeptic', u'playdate', u'beetle', u'itt', u'mechanicalkeyboards', u'inglin', u'mmorpg', u'transpositive', u'girls', u'megaman', u'nerf', u'cigarettes', u'allthingsprotoss', u'clemson', u'leagueoflegendsmeta', u'neuro', u'kol', u'phphelp', u'askhistorians', u'cascadia', u'realdubstep', u'moviescirclejerk', u'miniswap', u'gmu', u'newgirl', u'hockeyplayers', u'webhosting', u'wildhockey', u'glocks', u'confessionbear', u'rush', u'trap', u'metal', u'bitchimabus', u'awwnime', u'explorefiction', u'1022', u'pjrp_community', u'manga', u'bigbangtheory', u'codghosts', u'reasoners', u'melodicdeathmetal', u'caps', u'personofinterest', u'psminecraft', u'calpoly', u'arizona', u'basketball', u'bookporn', u'aves', u'circlebroke2', u'circlejerkcopypasta', u'oasis', u'donaldglover', u'thedarktower', u'thingsforants', u'cuckold', u'guildwars', u'investing', u'multiplesclerosis', u'annakendrick', u'bravenewbies', u'techtheatre', u'mythbusters', u'ubreddit', u'mycology', u'winterporn', u'nsfwcosplay', u'whitepeoplegifs', u'bodyacceptance', u'blink182', u'homestuck', u'electricdaisycarnival', u'bannedfrom4chan', u'arma', u'tampabaylightning', u'workonline', u'disneyland', u'bigseo', u'lenovo', u'evolution', u'hair', u'harley', u'hugeboobs', u'comicbookmovies', u'deathcore', u'shittyaskscience', u'gopro', u'bitmarket', u'ios', u'violinist', u'guessthemovie', u'araragi', u'diyfail', u'advancedrunning', u'incremental_games', u'torontobluejays', u'cringepics', u'randomactsofpizza', u'ukpolitics', u'nova', u'militaryporn', u'nashville', u'metalworking', u'randomsexiness', u'titlegore', u'exittors', u'1200isplenty', u'dance', u'watches', u'entrepreneur', u'neopets', u'adrenalineporn', u'photocritique', u'angelsbaseball', u'identifythisfont', u'quilting', u'greenville', u'androidmasterrace', u'bootroom', u'startups', u'cigars', u'netflixbestof', u'bbq', u'bipolarreddit', u'harrypotter', u'thefalloutdiaries', u'rockhounds', u'riddles', u'trashy', u'upvotegifs', u'worldbuilding', u'roadcam', u'dae', u'charcuterie', u'libertarianmeme', u'steam', u'marblehornets', u'french', u'oklahoma', u'artporn', u'regularshow', u'narutomissionlist', u'summoners', u'orhavenacademy', u'truefilm', u'dirtyr4r', u'blowjobs', u'starwarsbattlefront', u'cosplaygirls', u'deathgrips', u'ilivein', u'linux_gaming', u'rearpussy', u'askgames', u'mturk', u'decidingtobebetter', u'casualpokemontrades', u'football', u'gothenburg', u'studyroomf', u'chemhelp', u'utah', u'leafs', u'paranormal', u'flextweak', u'golfgti', u'thebluepill', u'strife', u'monstercat', u'tifu', u'askaconservative', u'jobs', u'electronicmusic', u'booksuggestions', u'images', u'azcardinals', u'foreveralonedating', u'pyongyang', u'globaloffensive', u'reddwarf', u'christianity', u'freebies', u'sissies', u'django', u'redditgetsdrawnbadly', u'gamemusic', u'maddenultimateteam', u'random_acts_of_pizza', u'quarkcoin', u'nexus7', u'londonsocialclub', u'stobuilds', u'cookieclicker', u'newtothenavy', u'cannabis', u'anarchy101', u'girlsinyogapants', u'softwaregore', u'uwmadison', u'animeplot', u'sfx', u'justrolledintotheshop', u'louisiana', u'mwo', u'mineralporn', u'glee', u'bloomington', u'visualnovels', u'gunsforsale', u'television', u'huskers', u'forza', u'formula1', u'dating_advice', u'hoodedeyes', u'kansascity', u'casualfilm', u'tech', u'longrange', u'diy', u'askseddit', u'galaxys3', u'unixporn', u'delightfullychubby', u'fantasybaseball', u'ucsantabarbara', u'advice', u'debateacommunist', u'webgames', u'dogemining', u'nightvale', u'dogecoinscamwatch', u'gunsarecool', u'electrohouse', u'festivals', u'ghettoglamourshots', u'motox', u'photoshop', u'doppelbangher', u'unresolvedmysteries', u'blog', u'atlantahawks', u'rickandmorty', u'sales', u'gifsgonewild', u'miami', u'ps3', u'gfycat', u'buccaneers', u'rant', u'goldredditsays', u'rats', u'amifreetogo', u'flyfishing', u'thevampirediaries', u'nottimanderic', u'nursing', u'aerialporn', u'tax', u'tattoo', u'beautydiagrams', u'happyembarrassedgirls', u'colorado', u'fantasybball', u'twins', u'swarje', u'poledancing', u'kindle', u'toyota', u'meanjokes', u'rupaulsdragrace', u'archaeology', u'trackers', u'funnyandsad', u'lakers', u'goforgold', u'whatsinthisthing', u'thefollowing', u'spaceflight', u'chiptunes', u'rabbits', u'comicbookart', u'heavymind', u'3ds', u'catholicmemes', u'cringe', u'seireitei', u'burlington', u'deutschland', u'stopsmoking', u'biloxi', u'shingekinokyojin', u'canada', u'roguelikes', u'chronotrigger', u'ccw', u'datahoarder', u'equestrian', u'dadjokes', u'stlouisrams', u'drag', u'svenskpolitik', u'scifiwriting', u'zelda', u'takeonestepforward', u'bronyh8', u'books', u'basicincome', u'birdsofprey', u'metalcore', u'misophonia', u'kratom', u'techsupport', u'verizon', u'nyancoins', u'nocontext', u'outreachhpg', u'analog', u'vermillionunion', u'publicfreakout', u'evangelion', u'volleyball', u'richardarmitage', u'bitcoinserious', u'offensive_wallpapers', u'wec', u'kansascitychiefs', u'electronics', u'detroit', u'xcom', u'digitalpainting', u'onions', u'albany', u'yawriters', u'britishtv', u'subredditoftheday', u'androidgaming', u'ece', u'oakland', u'switcharoo', u'sips', u'handwriting', u'shittyprogramming', u'femdom', u'redditrequest', u'gwcouples', u'flightsim', u'barter', u'raoaopenmodmail', u'entj', u'sadcomics', u'devils', u'childfree', u'pso2', u'mlpdrawingschool', u'okc', u'tacoma', u'feedthebeast', u'badphilosophy', u'graffhelp', u'pixeldungeon', u'suggestalaptop', u'coys', u'bostonbruins', u'foreskin', u'pokemonconspiracies', u'dmb', u'kerbalspaceprogram', u'samplesize', u'aoe2', u'abcdesis', u'newyorkislanders', u'stevenuniverse', u'drifting', u'gradschool', u'mildyinteresting', u'shutupandtakemymoney', u'katyperry', u'legalteens', u'katawashoujo', u'bodymods', u'deadmau5', u'meme', u'guildwarsdyejob', u'rutgers', u'mvc3', u'ketogains', u'askacademia', u'atheistvids', u'warhammer', u'talesfromthecustomer', u'giftofgames', u'winstonsalem', u'videography', u'credibledefense', u'treemusic', u'flightrising', u'windows8', u'barefootrunning', u'videos', u'gtacontent', u'southbend', u'rccars', u'cardsagainsthumanity', u'fictionbrawl', u'firearms', u'londonontario', u'dogeservice', u'shitstatistssay', u'talesfromtechsupport', u'rpgmaker', u'dwarffortress', u'vivillon', u'iracing', u'teamredditteams', u'truegaming', u'safc', u'religion', u'sfsu', u'avengedsevenfold', u'india', u'athleticgirls', u'mma', u'mcpublic', u'steroids', u'legaladvice', u'ladyboners', u'niu', u'xfiles', u'listentothis', u'dinosaurs', u'depression', u'bikecommuting', u'adelaide', u'picrequests', u'veterans', u'bodyweightfitness', u'academicpsychology', u'tabletopgamedesign', u'ps4', u'ecig_vendors', u'windowsphone', u'gonewildaudio', u'jontron', u'gamecube', u'java', u'wow', u'magicthecirclejerking', u'doesnottranslate', u'stopdrinking', u'redpandas', u'snapchat', u'animalswithoutnecks', u'wowgoldmaking', u'destinythegame', u'notebooks', u'snooland', u'iosthemes', u'counting', u'trance', u'darksouls', u'pacificrim', u'australianmfa', u'workaholics', u'ultrahardcore', u'badtattoos', u'abrathatfits', u'community', u'subaru', u'mildlyamusing', u'dotnet', u'trucks', u'homeimprovement', u'indianapolis', u'detroitlions', u'dundermifflin', u'tappedout', u'islam', u'asianparentstories', u'rct', u'xbmc', u'cockatrice', u'gendertalk', u'3dmodeling', u'audio', u'conlangs', u'codcompetitive', u'cowboybebop', u'redditbrigade', u'rhodeisland', u'melbourne', u'fitgirls', u'hitchhiking', u'documentaries', u'nygiants', u'youngjustice', u'sabres', u'folkpunk', u'recipes', u'palestine', u'warthunder', u'nopoo', u'stargate', u'prettygirls', u'bcube', u'inthenews', u'video', u'bikewrench', u'bad_cop_no_donut', u'homeland', u'shittyaskfitness', u'barcelona', u'rolltide', u'agitation', u'pcmasterrace', u'intactivists', u'audiobooks', u'simracing', u'gaben', u'beatles', u'elderscrolls', u'bbexchange', u'gamecollecting', u'singapore', u'powerrangers', u'urbanexploration', u'internet_box', u'asksciencediscussion', u'ottawa', u'ska', u'ucalgary', u'patriots', u'shameless', u'epilepsy', u'canes', u'metacanada', u'longhornnation', u'hypothyroidism']\n"
     ]
    }
   ],
   "source": [
    "print[feature_names[i] for i in H[0].argsort()[:]]"
   ]
  },
  {
   "cell_type": "code",
   "execution_count": 119,
   "metadata": {
    "collapsed": false
   },
   "outputs": [
    {
     "name": "stdout",
     "output_type": "stream",
     "text": [
      "[u'simracing', u'gaben', u'beatles', u'elderscrolls', u'bbexchange', u'gamecollecting', u'singapore', u'powerrangers', u'urbanexploration', u'internet_box', u'asksciencediscussion', u'ottawa', u'ska', u'ucalgary', u'patriots', u'shameless', u'epilepsy', u'canes', u'metacanada', u'longhornnation']\n"
     ]
    }
   ],
   "source": [
    "print[feature_names[i] for i in H[0].argsort()[-21:-1]]"
   ]
  },
  {
   "cell_type": "code",
   "execution_count": 120,
   "metadata": {
    "collapsed": false
   },
   "outputs": [
    {
     "name": "stdout",
     "output_type": "stream",
     "text": [
      "Topic #0:\n",
      "hypothyroidism,longhornnation,metacanada,canes,epilepsy,shameless,patriots,ucalgary,ska,ottawa,asksciencediscussion,internet_box,urbanexploration,powerrangers,singapore,gamecollecting,bbexchange,elderscrolls,beatles,gaben\n",
      "\n",
      "Topic #1:\n",
      "averagebattlestations,contagiouslaughter,boltedontits,makeup,bobdylan,kpopslumberparty,rap,geocaching,grumpycats,litecoinmining,php,bleachshirts,baltimore,jaguars,fantasyhockey,nin,malefashionadvice,gonemild,gallifrey,1911\n",
      "\n",
      "Topic #2:\n",
      "musicals,beautyboxes,computerforensics,philadelphia,bakersfield,almosthuman,mexico,savannah,hongkong,wouldyoufuckmywife,asksciencefiction,turkey,cosplay,animesketch,mildlyinteresting,truedetective,ios7,curvy,coloradoavalanche,thanksobama\n",
      "\n",
      "Topic #3:\n",
      "exposureporn,bannersaga,plex,marvelstudios,roomporn,piercing,rance,dreadlocks,sbu,gmod,cancer,getdisciplined,gamedeals,brogress,floridaman,triphop,mercedes_benz,worldoftanks,daddit,fairytail\n",
      "\n",
      "Topic #4:\n",
      "crusaderkings,emulation,raspberry_pi,hawaii,nbaspurs,woahdude,simplerockets,connectedcareers,beertrade,uscr,everquest,glutenfree,radiocontrol,wallpaperrequests,paleo,freedonuts,funnycharts,eagles,gonewildstories,cfl\n",
      "\n",
      "Topic #5:\n",
      "girlsfinishingthejob,rocksmith,talesfromthefrontdesk,fatpeoplehate,hunterxhunter,bitcoincirclejerk,starcraft,mabinogi,leagueofmemes,parkour,pokemontrades,hardcoreaww,30rock,swimming,transspace,shittyfoodporn,classiccars,egypt,gakinotsukai,anticonsumption\n",
      "\n"
     ]
    }
   ],
   "source": [
    "for topic_idx, topic in enumerate(H):\n",
    "    print \"Topic #%d:\" % topic_idx\n",
    "    print \",\".join([feature_names[i] for i in topic.argsort()[:-21:-1]])\n",
    "    print"
   ]
  },
  {
   "cell_type": "code",
   "execution_count": 121,
   "metadata": {
    "collapsed": false
   },
   "outputs": [
    {
     "data": {
      "text/plain": [
       "<10000x3866 sparse matrix of type '<type 'numpy.float64'>'\n",
       "\twith 96876 stored elements in Compressed Sparse Row format>"
      ]
     },
     "execution_count": 121,
     "metadata": {},
     "output_type": "execute_result"
    }
   ],
   "source": [
    "X = sparse.vstack([features_dict[author] for author in target.author])\n",
    "X"
   ]
  },
  {
   "cell_type": "code",
   "execution_count": 122,
   "metadata": {
    "collapsed": true
   },
   "outputs": [],
   "source": [
    "y = target.gender"
   ]
  },
  {
   "cell_type": "markdown",
   "metadata": {},
   "source": [
    "# Model Selection"
   ]
  },
  {
   "cell_type": "code",
   "execution_count": 123,
   "metadata": {
    "collapsed": false
   },
   "outputs": [
    {
     "data": {
      "text/plain": [
       "MultinomialNB(alpha=0.25, class_prior=None, fit_prior=True)"
      ]
     },
     "execution_count": 123,
     "metadata": {},
     "output_type": "execute_result"
    }
   ],
   "source": [
    "# YOUR CODE HERE\n",
    "from sklearn import metrics, cross_validation\n",
    "from sklearn import grid_search\n",
    "\n",
    "from sklearn import naive_bayes\n",
    "naive_bayes.MultinomialNB()   # è un tipo di modello (il Multinomial NB, Naive Bayes)\n",
    "\n",
    "model = naive_bayes.MultinomialNB(alpha=0.5)\n",
    "model.fit(X, y)\n"
   ]
  },
  {
   "cell_type": "markdown",
   "metadata": {},
   "source": [
    "# Prepare the solution"
   ]
  },
  {
   "cell_type": "code",
   "execution_count": 124,
   "metadata": {
    "collapsed": true
   },
   "outputs": [],
   "source": [
    "test_data = pd.read_csv(\"test_data.csv.gz\", compression=\"gzip\", encoding=\"utf8\")"
   ]
  },
  {
   "cell_type": "code",
   "execution_count": 125,
   "metadata": {
    "collapsed": false
   },
   "outputs": [],
   "source": [
    "features_dict = {}\n",
    "\n",
    "for author, group in test_data.groupby('author'):\n",
    "    features_dict[author] = extract_features(group)"
   ]
  },
  {
   "cell_type": "code",
   "execution_count": 126,
   "metadata": {
    "collapsed": false
   },
   "outputs": [
    {
     "data": {
      "text/plain": [
       "<34887x3866 sparse matrix of type '<type 'numpy.float64'>'\n",
       "\twith 345539 stored elements in Compressed Sparse Row format>"
      ]
     },
     "execution_count": 126,
     "metadata": {},
     "output_type": "execute_result"
    }
   ],
   "source": [
    "X_test = sparse.vstack([features_dict[author] for author in test_data.author.unique()])\n",
    "X_test"
   ]
  },
  {
   "cell_type": "code",
   "execution_count": 127,
   "metadata": {
    "collapsed": false
   },
   "outputs": [
    {
     "data": {
      "text/plain": [
       "(10000, 3866)"
      ]
     },
     "execution_count": 127,
     "metadata": {},
     "output_type": "execute_result"
    }
   ],
   "source": [
    "X.shape"
   ]
  },
  {
   "cell_type": "code",
   "execution_count": 128,
   "metadata": {
    "collapsed": false
   },
   "outputs": [
    {
     "data": {
      "text/plain": [
       "(34887, 3866)"
      ]
     },
     "execution_count": 128,
     "metadata": {},
     "output_type": "execute_result"
    }
   ],
   "source": [
    "X_test.shape"
   ]
  },
  {
   "cell_type": "code",
   "execution_count": 129,
   "metadata": {
    "collapsed": false
   },
   "outputs": [
    {
     "data": {
      "text/plain": [
       "<34887x1 sparse matrix of type '<type 'numpy.float64'>'\n",
       "\twith 207 stored elements in Compressed Sparse Row format>"
      ]
     },
     "execution_count": 129,
     "metadata": {},
     "output_type": "execute_result"
    }
   ],
   "source": [
    "X_test[:,1]"
   ]
  },
  {
   "cell_type": "code",
   "execution_count": 130,
   "metadata": {
    "collapsed": false
   },
   "outputs": [],
   "source": [
    "y_pred = model.predict_proba(X_test)[:,1]\n"
   ]
  },
  {
   "cell_type": "code",
   "execution_count": 131,
   "metadata": {
    "collapsed": false
   },
   "outputs": [
    {
     "data": {
      "text/html": [
       "<div>\n",
       "<table border=\"1\" class=\"dataframe\">\n",
       "  <thead>\n",
       "    <tr style=\"text-align: right;\">\n",
       "      <th></th>\n",
       "      <th>author</th>\n",
       "      <th>gender</th>\n",
       "    </tr>\n",
       "  </thead>\n",
       "  <tbody>\n",
       "    <tr>\n",
       "      <th>0</th>\n",
       "      <td>Asks_Politely</td>\n",
       "      <td>7.821589e-10</td>\n",
       "    </tr>\n",
       "    <tr>\n",
       "      <th>1</th>\n",
       "      <td>smartphone-redditor</td>\n",
       "      <td>1.360886e-02</td>\n",
       "    </tr>\n",
       "    <tr>\n",
       "      <th>2</th>\n",
       "      <td>Simcom</td>\n",
       "      <td>5.556290e-13</td>\n",
       "    </tr>\n",
       "    <tr>\n",
       "      <th>3</th>\n",
       "      <td>ZenDragon</td>\n",
       "      <td>3.169147e-11</td>\n",
       "    </tr>\n",
       "    <tr>\n",
       "      <th>4</th>\n",
       "      <td>imgurtranscriber</td>\n",
       "      <td>1.565051e-74</td>\n",
       "    </tr>\n",
       "  </tbody>\n",
       "</table>\n",
       "</div>"
      ],
      "text/plain": [
       "                author        gender\n",
       "0        Asks_Politely  7.821589e-10\n",
       "1  smartphone-redditor  1.360886e-02\n",
       "2               Simcom  5.556290e-13\n",
       "3            ZenDragon  3.169147e-11\n",
       "4     imgurtranscriber  1.565051e-74"
      ]
     },
     "execution_count": 131,
     "metadata": {},
     "output_type": "execute_result"
    }
   ],
   "source": [
    "solution = pd.DataFrame({\"author\":test_data.author.unique(), \"gender\":y_pred})\n",
    "solution.head()"
   ]
  },
  {
   "cell_type": "code",
   "execution_count": 132,
   "metadata": {
    "collapsed": true
   },
   "outputs": [],
   "source": [
    "solution.to_csv(\"logistic_regression.csv\", index=False)"
   ]
  },
  {
   "cell_type": "code",
   "execution_count": null,
   "metadata": {
    "collapsed": true
   },
   "outputs": [],
   "source": []
  }
 ],
 "metadata": {
  "kernelspec": {
   "display_name": "Python [Root]",
   "language": "python",
   "name": "Python [Root]"
  },
  "language_info": {
   "codemirror_mode": {
    "name": "ipython",
    "version": 2
   },
   "file_extension": ".py",
   "mimetype": "text/x-python",
   "name": "python",
   "nbconvert_exporter": "python",
   "pygments_lexer": "ipython2",
   "version": "2.7.12"
  }
 },
 "nbformat": 4,
 "nbformat_minor": 0
}

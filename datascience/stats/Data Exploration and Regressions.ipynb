{
 "cells": [
  {
   "cell_type": "markdown",
   "metadata": {},
   "source": [
    "# Introduction to the dataset\n",
    "each record is a movie showed in TV in 1992. In each record we have the following information:\n",
    "* **NETWORK**: broadcasting network (ABN, BBS, or CBC)\n",
    "* **MONTH**: 1=January, 2=February, ..., 12=December\n",
    "* **DAY**: 1=Monday, ..., 7=Sunday\n",
    "* **RATING**: rate (from 0 to 100) for movie\n",
    "* **FACT**: 1=based on true events, 0=fictional\n",
    "* **STARS**: number of actors or actress paid over $300,000\n",
    "* **PREVIOUS RATING**: rate for program immediately preceding movie on same network\n",
    "* **COMPETITION**: average rates received by the two competing networks during the movie's broadcast"
   ]
  },
  {
   "cell_type": "markdown",
   "metadata": {},
   "source": [
    "let's import [numpy](http://numpy.org) and [matplotlib](http://matplotlib.org)"
   ]
  },
  {
   "cell_type": "code",
   "execution_count": 75,
   "metadata": {
    "collapsed": false,
    "scrolled": true
   },
   "outputs": [
    {
     "name": "stdout",
     "output_type": "stream",
     "text": [
      "Populating the interactive namespace from numpy and matplotlib\n"
     ]
    },
    {
     "name": "stderr",
     "output_type": "stream",
     "text": [
      "WARNING: pylab import has clobbered these variables: ['f']\n",
      "`%matplotlib` prevents importing * from pylab and numpy\n"
     ]
    }
   ],
   "source": [
    "%pylab inline"
   ]
  },
  {
   "cell_type": "code",
   "execution_count": 76,
   "metadata": {
    "collapsed": true
   },
   "outputs": [],
   "source": [
    "random.seed(1)"
   ]
  },
  {
   "cell_type": "markdown",
   "metadata": {},
   "source": [
    "# Importing the data"
   ]
  },
  {
   "cell_type": "markdown",
   "metadata": {},
   "source": [
    "The following lines allow us to open a CSV file, parse the lines and load it in a numpy array. Remember, next days you will see more optimal solutions to load data (e.g. **pandas**)!"
   ]
  },
  {
   "cell_type": "code",
   "execution_count": 77,
   "metadata": {
    "collapsed": false
   },
   "outputs": [],
   "source": [
    "f=file('Colonial_Broadcasting_Company_dataset.csv','r')"
   ]
  },
  {
   "cell_type": "code",
   "execution_count": 78,
   "metadata": {
    "collapsed": false
   },
   "outputs": [],
   "source": [
    "tt=[]\n",
    "for i,el in enumerate(f):\n",
    "    if i==0:#if we are on the first line, we store the columns' name in an array\n",
    "        col_name=el.strip().split(',')\n",
    "    else:#\n",
    "        tt_temp=[]\n",
    "        for el1 in el.strip().split(','):\n",
    "            try:\n",
    "                tt_temp.append(float(el1))\n",
    "            except:\n",
    "                tt_temp.append(el1)        \n",
    "        tt.append(tt_temp)\n",
    "# tt=array(tt)"
   ]
  },
  {
   "cell_type": "code",
   "execution_count": 129,
   "metadata": {
    "collapsed": false
   },
   "outputs": [
    {
     "name": "stdout",
     "output_type": "stream",
     "text": [
      "/home/bigdive/Desktop/BDINTESA/datascience/stats\r\n"
     ]
    }
   ],
   "source": [
    "!pwd"
   ]
  },
  {
   "cell_type": "code",
   "execution_count": 79,
   "metadata": {
    "collapsed": true
   },
   "outputs": [],
   "source": [
    "f.close()"
   ]
  },
  {
   "cell_type": "code",
   "execution_count": 80,
   "metadata": {
    "collapsed": false
   },
   "outputs": [],
   "source": [
    "tt=array(tt,object)"
   ]
  },
  {
   "cell_type": "code",
   "execution_count": 81,
   "metadata": {
    "collapsed": false
   },
   "outputs": [
    {
     "data": {
      "text/plain": [
       "array([[79.0, '\"CBC\"', 10.0, 1.0, 13.8, 1.0, 0.0, 10.2, 16.6],\n",
       "       [80.0, '\"CBC\"', 10.0, 7.0, 11.9, 1.0, 0.0, 11.8, 12.2],\n",
       "       [81.0, '\"CBC\"', 10.0, 1.0, 14.6, 0.0, 0.0, 14.9, 14.9],\n",
       "       [82.0, '\"CBC\"', 11.0, 1.0, 15.8, 1.0, 1.0, 13.4, 17.2],\n",
       "       [83.0, '\"CBC\"', 11.0, 1.0, 15.4, 0.0, 1.0, 13.6, 16.8],\n",
       "       [84.0, '\"CBC\"', 11.0, 1.0, 12.8, 0.0, 0.0, 12.7, 14.6],\n",
       "       [85.0, '\"CBC\"', 12.0, 7.0, 12.8, 0.0, 0.0, 12.0, 18.6],\n",
       "       [86.0, '\"CBC\"', 12.0, 1.0, 15.1, 0.0, 0.0, 14.1, 15.5],\n",
       "       [87.0, '\"CBC\"', 12.0, 1.0, 11.4, 0.0, 1.0, 11.2, 16.4],\n",
       "       [88.0, '\"CBC\"', 12.0, 1.0, 19.1, 1.0, 0.0, 12.6, 15.4]], dtype=object)"
      ]
     },
     "execution_count": 81,
     "metadata": {},
     "output_type": "execute_result"
    }
   ],
   "source": [
    "tt[-10:,:]\n",
    "#vedo le ultime 10 righe"
   ]
  },
  {
   "cell_type": "code",
   "execution_count": 82,
   "metadata": {
    "collapsed": false
   },
   "outputs": [
    {
     "data": {
      "text/plain": [
       "['\"Observations \"',\n",
       " '\"Network \"',\n",
       " '\"Month \"',\n",
       " '\"Day \"',\n",
       " '\"Rating\"',\n",
       " '\"Fact \"',\n",
       " '\"Stars \"',\n",
       " '\"Previous rating  \"',\n",
       " '\"Competition \"']"
      ]
     },
     "execution_count": 82,
     "metadata": {},
     "output_type": "execute_result"
    }
   ],
   "source": [
    "col_name\n",
    "# i nomi delle colonne"
   ]
  },
  {
   "cell_type": "markdown",
   "metadata": {},
   "source": [
    "# First explorations\n",
    "## Some exercises\n",
    "Try to anser the following questions:\n",
    "\n",
    "What are the mean values of each columns? Try to use the less code that you can and remember the Zen of Python"
   ]
  },
  {
   "cell_type": "code",
   "execution_count": 83,
   "metadata": {
    "collapsed": false
   },
   "outputs": [
    {
     "data": {
      "text/plain": [
       "array([5.875, 4.25, 13.819318181818176, 0.4090909090909091,\n",
       "       0.4090909090909091, 13.77386363636363, 14.059090909090907], dtype=object)"
      ]
     },
     "execution_count": 83,
     "metadata": {},
     "output_type": "execute_result"
    }
   ],
   "source": [
    "tt[:, 2:].mean(axis=0)\n",
    "\n"
   ]
  },
  {
   "cell_type": "markdown",
   "metadata": {},
   "source": [
    "What are the standard-deviations of the third column?"
   ]
  },
  {
   "cell_type": "code",
   "execution_count": 84,
   "metadata": {
    "collapsed": false
   },
   "outputs": [
    {
     "data": {
      "text/plain": [
       "3.8900002921243173"
      ]
     },
     "execution_count": 84,
     "metadata": {},
     "output_type": "execute_result"
    }
   ],
   "source": [
    "tt[:,2].std()"
   ]
  },
  {
   "cell_type": "markdown",
   "metadata": {},
   "source": [
    "What are the 87.2th percentile of each columns? [Hint: try to search on google numpy percentile]"
   ]
  },
  {
   "cell_type": "code",
   "execution_count": 85,
   "metadata": {
    "collapsed": false
   },
   "outputs": [
    {
     "name": "stdout",
     "output_type": "stream",
     "text": [
      "Help on function percentile in module numpy.lib.function_base:\n",
      "\n",
      "percentile(a, q, axis=None, out=None, overwrite_input=False, interpolation='linear', keepdims=False)\n",
      "    Compute the qth percentile of the data along the specified axis.\n",
      "    \n",
      "    Returns the qth percentile(s) of the array elements.\n",
      "    \n",
      "    Parameters\n",
      "    ----------\n",
      "    a : array_like\n",
      "        Input array or object that can be converted to an array.\n",
      "    q : float in range of [0,100] (or sequence of floats)\n",
      "        Percentile to compute, which must be between 0 and 100 inclusive.\n",
      "    axis : {int, sequence of int, None}, optional\n",
      "        Axis or axes along which the percentiles are computed. The\n",
      "        default is to compute the percentile(s) along a flattened\n",
      "        version of the array. A sequence of axes is supported since\n",
      "        version 1.9.0.\n",
      "    out : ndarray, optional\n",
      "        Alternative output array in which to place the result. It must\n",
      "        have the same shape and buffer length as the expected output,\n",
      "        but the type (of the output) will be cast if necessary.\n",
      "    overwrite_input : bool, optional\n",
      "        If True, then allow use of memory of input array `a` \n",
      "        calculations. The input array will be modified by the call to\n",
      "        `percentile`. This will save memory when you do not need to\n",
      "        preserve the contents of the input array. In this case you\n",
      "        should not make any assumptions about the contents of the input\n",
      "        `a` after this function completes -- treat it as undefined.\n",
      "        Default is False. If `a` is not already an array, this parameter\n",
      "        will have no effect as `a` will be converted to an array\n",
      "        internally regardless of the value of this parameter.\n",
      "    interpolation : {'linear', 'lower', 'higher', 'midpoint', 'nearest'}\n",
      "        This optional parameter specifies the interpolation method to\n",
      "        use when the desired quantile lies between two data points\n",
      "        ``i < j``:\n",
      "            * linear: ``i + (j - i) * fraction``, where ``fraction``\n",
      "              is the fractional part of the index surrounded by ``i``\n",
      "              and ``j``.\n",
      "            * lower: ``i``.\n",
      "            * higher: ``j``.\n",
      "            * nearest: ``i`` or ``j``, whichever is nearest.\n",
      "            * midpoint: ``(i + j) / 2``.\n",
      "    \n",
      "        .. versionadded:: 1.9.0\n",
      "    keepdims : bool, optional\n",
      "        If this is set to True, the axes which are reduced are left in\n",
      "        the result as dimensions with size one. With this option, the\n",
      "        result will broadcast correctly against the original array `a`.\n",
      "    \n",
      "        .. versionadded:: 1.9.0\n",
      "    \n",
      "    Returns\n",
      "    -------\n",
      "    percentile : scalar or ndarray\n",
      "        If `q` is a single percentile and `axis=None`, then the result\n",
      "        is a scalar. If multiple percentiles are given, first axis of\n",
      "        the result corresponds to the percentiles. The other axes are\n",
      "        the axes that remain after the reduction of `a`. If the input \n",
      "        contains integers or floats smaller than ``float64``, the output\n",
      "        data-type is ``float64``. Otherwise, the output data-type is the\n",
      "        same as that of the input. If `out` is specified, that array is\n",
      "        returned instead.\n",
      "    \n",
      "    See Also\n",
      "    --------\n",
      "    mean, median, nanpercentile\n",
      "    \n",
      "    Notes\n",
      "    -----\n",
      "    Given a vector ``V`` of length ``N``, the ``q``-th percentile of\n",
      "    ``V`` is the value ``q/100`` of the way from the mimumum to the\n",
      "    maximum in in a sorted copy of ``V``. The values and distances of\n",
      "    the two nearest neighbors as well as the `interpolation` parameter\n",
      "    will determine the percentile if the normalized ranking does not\n",
      "    match the location of ``q`` exactly. This function is the same as\n",
      "    the median if ``q=50``, the same as the minimum if ``q=0`` and the\n",
      "    same as the maximum if ``q=100``.\n",
      "    \n",
      "    Examples\n",
      "    --------\n",
      "    >>> a = np.array([[10, 7, 4], [3, 2, 1]])\n",
      "    >>> a\n",
      "    array([[10,  7,  4],\n",
      "           [ 3,  2,  1]])\n",
      "    >>> np.percentile(a, 50)\n",
      "    3.5\n",
      "    >>> np.percentile(a, 50, axis=0)\n",
      "    array([[ 6.5,  4.5,  2.5]])\n",
      "    >>> np.percentile(a, 50, axis=1)\n",
      "    array([ 7.,  2.])\n",
      "    >>> np.percentile(a, 50, axis=1, keepdims=True)\n",
      "    array([[ 7.],\n",
      "           [ 2.]])\n",
      "    \n",
      "    >>> m = np.percentile(a, 50, axis=0)\n",
      "    >>> out = np.zeros_like(m)\n",
      "    >>> np.percentile(a, 50, axis=0, out=out)\n",
      "    array([[ 6.5,  4.5,  2.5]])\n",
      "    >>> m\n",
      "    array([[ 6.5,  4.5,  2.5]])\n",
      "    \n",
      "    >>> b = a.copy()\n",
      "    >>> np.percentile(b, 50, axis=1, overwrite_input=True)\n",
      "    array([ 7.,  2.])\n",
      "    >>> assert not np.all(a == b)\n",
      "\n"
     ]
    }
   ],
   "source": [
    "help(percentile)"
   ]
  },
  {
   "cell_type": "code",
   "execution_count": 86,
   "metadata": {
    "collapsed": false
   },
   "outputs": [
    {
     "data": {
      "text/plain": [
       "array([[3.0, 1.0, 11.674999999999999, 0.0, 0.0, 11.95, 12.549999999999999],\n",
       "       [10.0, 7.0, 15.8, 1.0, 1.0, 15.9, 15.325000000000001]], dtype=object)"
      ]
     },
     "execution_count": 86,
     "metadata": {},
     "output_type": "execute_result"
    }
   ],
   "source": [
    "percentile(tt[:,2:], 87.2, axis = 0)\n",
    "percentile(tt[:,2:], [25,75], axis = 0)"
   ]
  },
  {
   "cell_type": "markdown",
   "metadata": {},
   "source": [
    "Try to answer previous questions but on the sample obtained only for Network 'ABN'"
   ]
  },
  {
   "cell_type": "code",
   "execution_count": 87,
   "metadata": {
    "collapsed": false
   },
   "outputs": [
    {
     "data": {
      "text/plain": [
       "array([5.0, 7.0, 15.5, 0.0, 0.8299999999999983, 16.583, 13.083], dtype=object)"
      ]
     },
     "execution_count": 87,
     "metadata": {},
     "output_type": "execute_result"
    }
   ],
   "source": [
    "percentile(tt[tt[:,1] == '\"ABN\"', 2:],59, axis=0)\n",
    "\n"
   ]
  },
  {
   "cell_type": "markdown",
   "metadata": {},
   "source": [
    "Are you able to say what is the mean rating for each network?"
   ]
  },
  {
   "cell_type": "code",
   "execution_count": 88,
   "metadata": {
    "collapsed": false
   },
   "outputs": [
    {
     "data": {
      "text/plain": [
       "(14.76052631578947, 13.363333333333335)"
      ]
     },
     "execution_count": 88,
     "metadata": {},
     "output_type": "execute_result"
    }
   ],
   "source": [
    "tt[tt[:,1]=='\"ABN\"', 4].mean(), tt[tt[:, 1] =='\"CBC\"', 4].mean()\n",
    "\n",
    "#tt[tt[:,1]== pippo, 4].mean(), for pippo in [' \"ABN\" , ' \"CBC\"', ' \"BBS\"']]"
   ]
  },
  {
   "cell_type": "markdown",
   "metadata": {
    "collapsed": false
   },
   "source": [
    "and to plot them?"
   ]
  },
  {
   "cell_type": "code",
   "execution_count": null,
   "metadata": {
    "collapsed": true
   },
   "outputs": [],
   "source": []
  },
  {
   "cell_type": "markdown",
   "metadata": {},
   "source": [
    "Are you able to plot the histogram of the movies ratings?"
   ]
  },
  {
   "cell_type": "code",
   "execution_count": 89,
   "metadata": {
    "collapsed": false
   },
   "outputs": [
    {
     "data": {
      "image/png": "[encoded data removed]",
      "text/plain": [
       "<matplotlib.figure.Figure at 0x7f12ca5d9dd0>"
      ]
     },
     "metadata": {},
     "output_type": "display_data"
    }
   ],
   "source": [
    "hist(tt[:,4],10)\n",
    "ylabel('frequency')\n",
    "xlabel('rating')\n",
    "show()"
   ]
  },
  {
   "cell_type": "markdown",
   "metadata": {},
   "source": [
    "# Something new: [boxplot](http://matplotlib.org/api/pyplot_api.html#matplotlib.pyplot.boxplot)"
   ]
  },
  {
   "cell_type": "code",
   "execution_count": 90,
   "metadata": {
    "collapsed": false
   },
   "outputs": [
    {
     "data": {
      "text/plain": [
       "<matplotlib.text.Text at 0x7f12ca8ca790>"
      ]
     },
     "execution_count": 90,
     "metadata": {},
     "output_type": "execute_result"
    },
    {
     "data": {
      "image/png": "[encoded data removed]",
      "text/plain": [
       "<matplotlib.figure.Figure at 0x7f12c8fd6110>"
      ]
     },
     "metadata": {},
     "output_type": "display_data"
    }
   ],
   "source": [
    "boxplot([list(tt[tt[:,1]=='\"ABN\"',4]),list(tt[tt[:,1]=='\"CBC\"',4]),list(tt[tt[:,1]=='\"BBS\"',4])],labels=['ABN','CBC','BBS'])\n",
    "ylabel('rating')"
   ]
  },
  {
   "cell_type": "markdown",
   "metadata": {},
   "source": [
    "Are you able to comment the previous plot?"
   ]
  },
  {
   "cell_type": "code",
   "execution_count": 91,
   "metadata": {
    "collapsed": true
   },
   "outputs": [],
   "source": [
    "# variabilità maggiore CBC"
   ]
  },
  {
   "cell_type": "markdown",
   "metadata": {},
   "source": [
    "### a more \"pythonic\" solution"
   ]
  },
  {
   "cell_type": "code",
   "execution_count": 92,
   "metadata": {
    "collapsed": false
   },
   "outputs": [
    {
     "data": {
      "text/plain": [
       "{'\"ABN\"', '\"BBS\"', '\"CBC\"'}"
      ]
     },
     "execution_count": 92,
     "metadata": {},
     "output_type": "execute_result"
    }
   ],
   "source": [
    "network=set(tt[:,1])\n",
    "network"
   ]
  },
  {
   "cell_type": "code",
   "execution_count": 93,
   "metadata": {
    "collapsed": false
   },
   "outputs": [
    {
     "data": {
      "text/plain": [
       "<matplotlib.text.Text at 0x7f12c8fd6850>"
      ]
     },
     "execution_count": 93,
     "metadata": {},
     "output_type": "execute_result"
    },
    {
     "data": {
      "image/png": "[encoded data removed]",
      "text/plain": [
       "<matplotlib.figure.Figure at 0x7f12ca709750>"
      ]
     },
     "metadata": {},
     "output_type": "display_data"
    }
   ],
   "source": [
    "boxplot([list(tt[tt[:,1]==netw,4]) for netw in network],labels=network)\n",
    "ylabel('rating')"
   ]
  },
  {
   "cell_type": "markdown",
   "metadata": {},
   "source": [
    "### Exercise\n",
    "Use the boxplot to show ratings for the following two groups: \n",
    "* movies with at least a stars \n",
    "* movies without stars"
   ]
  },
  {
   "cell_type": "code",
   "execution_count": 94,
   "metadata": {
    "collapsed": false
   },
   "outputs": [
    {
     "data": {
      "text/plain": [
       "<matplotlib.text.Text at 0x7f12c8562490>"
      ]
     },
     "execution_count": 94,
     "metadata": {},
     "output_type": "execute_result"
    },
    {
     "data": {
      "image/png": "[encoded data removed]",
      "text/plain": [
       "<matplotlib.figure.Figure at 0x7f12c8653910>"
      ]
     },
     "metadata": {},
     "output_type": "display_data"
    }
   ],
   "source": [
    "boxplot([list(tt[tt[:,-3]== 0, 4]), list(tt[tt[:,-3]> 0, 4])], labels=['no stars', 'stars'])\n",
    "\n",
    "ylabel('rating')"
   ]
  },
  {
   "cell_type": "markdown",
   "metadata": {},
   "source": [
    "Use the boxplot to show ratings for the following two groups: \n",
    "* fictional-movies \n",
    "* fact-movies"
   ]
  },
  {
   "cell_type": "code",
   "execution_count": 95,
   "metadata": {
    "collapsed": false
   },
   "outputs": [
    {
     "data": {
      "text/plain": [
       "<matplotlib.text.Text at 0x7f12c8487710>"
      ]
     },
     "execution_count": 95,
     "metadata": {},
     "output_type": "execute_result"
    },
    {
     "data": {
      "image/png": "[encoded data removed]",
      "text/plain": [
       "<matplotlib.figure.Figure at 0x7f12c84f5e10>"
      ]
     },
     "metadata": {},
     "output_type": "display_data"
    }
   ],
   "source": [
    "boxplot([list(tt[tt[:,-4]== 0, 4]), list(tt[tt[:,-4]== 1, 4])], labels=['fictionals', 'fact-movies'])\n",
    "\n",
    "ylabel('rating')"
   ]
  },
  {
   "cell_type": "markdown",
   "metadata": {},
   "source": [
    "# Correlation\n",
    "With a plot try explore if there is any association between the variable <i>rating</i> and the variable <i>previous rating</i>"
   ]
  },
  {
   "cell_type": "code",
   "execution_count": 96,
   "metadata": {
    "collapsed": false
   },
   "outputs": [
    {
     "data": {
      "text/plain": [
       "<matplotlib.text.Text at 0x7f12c849f490>"
      ]
     },
     "execution_count": 96,
     "metadata": {},
     "output_type": "execute_result"
    },
    {
     "data": {
      "image/png": "[encoded data removed]",
      "text/plain": [
       "<matplotlib.figure.Figure at 0x7f12c83852d0>"
      ]
     },
     "metadata": {},
     "output_type": "display_data"
    }
   ],
   "source": [
    "plot (tt[:,4], tt[:, -2], 'o')\n",
    "xlabel('rating')\n",
    "ylabel('previous rating')"
   ]
  },
  {
   "cell_type": "markdown",
   "metadata": {},
   "source": [
    "### [Pearson](https://docs.scipy.org/doc/scipy/reference/generated/scipy.stats.pearsonr.html#scipy.stats.pearsonr) Correlation"
   ]
  },
  {
   "cell_type": "code",
   "execution_count": 97,
   "metadata": {
    "collapsed": false
   },
   "outputs": [],
   "source": [
    "from scipy.stats import pearsonr"
   ]
  },
  {
   "cell_type": "code",
   "execution_count": 98,
   "metadata": {
    "collapsed": false
   },
   "outputs": [
    {
     "data": {
      "text/plain": [
       "(0.48410767230660262, 1.7646845258591581e-06)"
      ]
     },
     "execution_count": 98,
     "metadata": {},
     "output_type": "execute_result"
    }
   ],
   "source": [
    "pearsonr(tt[:,4],tt[:,7])"
   ]
  },
  {
   "cell_type": "markdown",
   "metadata": {},
   "source": [
    "Are you able to comment the previous result? Hint: <i>?pearsonr</i> or <i>help(pearsonr)</i>"
   ]
  },
  {
   "cell_type": "code",
   "execution_count": 99,
   "metadata": {
    "collapsed": true
   },
   "outputs": [],
   "source": [
    "# il coeff di pearson è positivo, pvalue molto basso"
   ]
  },
  {
   "cell_type": "markdown",
   "metadata": {},
   "source": [
    "### [Spearman](https://docs.scipy.org/doc/scipy/reference/generated/scipy.stats.spearmanr.html) Correlation\n"
   ]
  },
  {
   "cell_type": "code",
   "execution_count": 100,
   "metadata": {
    "collapsed": false
   },
   "outputs": [],
   "source": [
    "from scipy.stats import spearmanr"
   ]
  },
  {
   "cell_type": "code",
   "execution_count": 101,
   "metadata": {
    "collapsed": false
   },
   "outputs": [
    {
     "data": {
      "text/plain": [
       "SpearmanrResult(correlation=0.52870439323700247, pvalue=1.1907586936796334e-07)"
      ]
     },
     "execution_count": 101,
     "metadata": {},
     "output_type": "execute_result"
    }
   ],
   "source": [
    "spearmanr(tt[:,4],tt[:,7])"
   ]
  },
  {
   "cell_type": "code",
   "execution_count": 102,
   "metadata": {
    "collapsed": true
   },
   "outputs": [],
   "source": [
    "# spearman = versione non parametrica di pearson\n",
    "# correl positiva, pvalue basso"
   ]
  },
  {
   "cell_type": "markdown",
   "metadata": {},
   "source": [
    "### Exercise\n",
    "Try to answer the following question: What is the correlation between the rating a movie received on a network and the mean of the rating the two competing networks received in the same time. (Use all the tool that you want)"
   ]
  },
  {
   "cell_type": "code",
   "execution_count": 103,
   "metadata": {
    "collapsed": false
   },
   "outputs": [
    {
     "data": {
      "text/plain": [
       "(-0.20548568615265045, 0.054780369888899449)"
      ]
     },
     "execution_count": 103,
     "metadata": {},
     "output_type": "execute_result"
    },
    {
     "data": {
      "image/png": "[encoded data removed]",
      "text/plain": [
       "<matplotlib.figure.Figure at 0x7f12c8334e10>"
      ]
     },
     "metadata": {},
     "output_type": "display_data"
    }
   ],
   "source": [
    "col_name\n",
    "plot (tt[:,4], tt[:, -1], 'o')\n",
    "xlabel('rating')\n",
    "ylabel('previous rating')\n",
    "\n",
    "pearsonr(tt[:,4],tt[:,-1])"
   ]
  },
  {
   "cell_type": "code",
   "execution_count": 104,
   "metadata": {
    "collapsed": false
   },
   "outputs": [
    {
     "data": {
      "text/plain": [
       "SpearmanrResult(correlation=-0.23229751312182101, pvalue=0.029415613453713386)"
      ]
     },
     "execution_count": 104,
     "metadata": {},
     "output_type": "execute_result"
    }
   ],
   "source": [
    "spearmanr(tt[:,4],tt[:,-1])"
   ]
  },
  {
   "cell_type": "markdown",
   "metadata": {},
   "source": [
    "### Exercise"
   ]
  },
  {
   "cell_type": "code",
   "execution_count": 105,
   "metadata": {
    "collapsed": true
   },
   "outputs": [],
   "source": [
    "ya=random.rand(237)*50\n",
    "yb=exp(2.5-ya+random.randn(237)*10)"
   ]
  },
  {
   "cell_type": "markdown",
   "metadata": {},
   "source": [
    "we define two arrays of the same length: **ya** and **yb**. Plot one vs. the other. Do you think they are correlated?"
   ]
  },
  {
   "cell_type": "code",
   "execution_count": 106,
   "metadata": {
    "collapsed": false
   },
   "outputs": [
    {
     "data": {
      "text/plain": [
       "<matplotlib.text.Text at 0x7f12c82c20d0>"
      ]
     },
     "execution_count": 106,
     "metadata": {},
     "output_type": "execute_result"
    },
    {
     "data": {
      "image/png": "[encoded data removed]",
      "text/plain": [
       "<matplotlib.figure.Figure at 0x7f12c8535810>"
      ]
     },
     "metadata": {},
     "output_type": "display_data"
    }
   ],
   "source": [
    "plot (ya, log(yb), 'o')\n",
    "# plot (ya, yb, 'o')\n",
    "# semilog (ya, yb, 'o')\n",
    "xlabel('ya')\n",
    "ylabel('yb')"
   ]
  },
  {
   "cell_type": "markdown",
   "metadata": {},
   "source": [
    "Try to quantify the correlation:"
   ]
  },
  {
   "cell_type": "code",
   "execution_count": 107,
   "metadata": {
    "collapsed": false
   },
   "outputs": [
    {
     "data": {
      "text/plain": [
       "(-0.0827435290741102, 0.20434719513337313)"
      ]
     },
     "execution_count": 107,
     "metadata": {},
     "output_type": "execute_result"
    }
   ],
   "source": [
    "pearsonr(ya,yb)"
   ]
  },
  {
   "cell_type": "code",
   "execution_count": 108,
   "metadata": {
    "collapsed": false
   },
   "outputs": [
    {
     "data": {
      "text/plain": [
       "SpearmanrResult(correlation=-0.85617469472234287, pvalue=2.4608194849512098e-69)"
      ]
     },
     "execution_count": 108,
     "metadata": {},
     "output_type": "execute_result"
    }
   ],
   "source": [
    "spearmanr(ya, yb)\n",
    "# ciò dice che c'è correlaz negativa, devo cambiare scala"
   ]
  },
  {
   "cell_type": "markdown",
   "metadata": {},
   "source": [
    "### Exercise"
   ]
  },
  {
   "cell_type": "code",
   "execution_count": 109,
   "metadata": {
    "collapsed": false
   },
   "outputs": [],
   "source": [
    "yc1=random.rand(123)*2\n",
    "yc2=random.rand(17)*2\n",
    "yd=hstack([11.+yc1+random.randn(123)*1.5,11.+yc2+random.randn(17)*50.])\n",
    "yc=hstack([yc1,yc2])"
   ]
  },
  {
   "cell_type": "markdown",
   "metadata": {},
   "source": [
    "we define two arrays of the same length: **yc** and **yd**. Are they correlated?"
   ]
  },
  {
   "cell_type": "code",
   "execution_count": null,
   "metadata": {
    "collapsed": true
   },
   "outputs": [],
   "source": []
  },
  {
   "cell_type": "code",
   "execution_count": null,
   "metadata": {
    "collapsed": true
   },
   "outputs": [],
   "source": []
  },
  {
   "cell_type": "markdown",
   "metadata": {},
   "source": [
    "# Comparing two samples: KS\n",
    "### Exercise\n",
    "Use the Kolmogorov-Smirnov test to say if movies with at least a star receive different ratings from moviews without stars."
   ]
  },
  {
   "cell_type": "code",
   "execution_count": 110,
   "metadata": {
    "collapsed": true
   },
   "outputs": [],
   "source": [
    "from scipy.stats import ks_2samp"
   ]
  },
  {
   "cell_type": "code",
   "execution_count": 111,
   "metadata": {
    "collapsed": false
   },
   "outputs": [
    {
     "data": {
      "text/plain": [
       "Ks_2sampResult(statistic=0.20261437908496732, pvalue=0.32178662567692801)"
      ]
     },
     "execution_count": 111,
     "metadata": {},
     "output_type": "execute_result"
    }
   ],
   "source": [
    "ks_2samp(tt[tt[:,6]==0,4],tt[tt[:,6]>0,4])\n",
    "# il primo numero mi da la idstanza tra i due"
   ]
  },
  {
   "cell_type": "markdown",
   "metadata": {},
   "source": [
    "Let's say that for some reasons we do not believe the result of this test (e.g. data do not meet the assumptions). Therefore, you would like to use a boostrap method to evaluate the KS statistic previously evaluated (i.e. the statistic that you get is it a matter of chance or not?)"
   ]
  },
  {
   "cell_type": "code",
   "execution_count": 112,
   "metadata": {
    "collapsed": true
   },
   "outputs": [],
   "source": [
    "rating=tt[:,4].copy()\n",
    "star=tt[:,6].copy()"
   ]
  },
  {
   "cell_type": "code",
   "execution_count": 113,
   "metadata": {
    "collapsed": true
   },
   "outputs": [],
   "source": [
    "from scipy.stats import ks_2samp"
   ]
  },
  {
   "cell_type": "code",
   "execution_count": 114,
   "metadata": {
    "collapsed": false
   },
   "outputs": [],
   "source": [
    "res=[]\n",
    "for el in range(1000):\n",
    "    shuffle(star)\n",
    "    res.append(ks_2samp(rating[star<1],rating[star>=1])[0])\n",
    "    # prendo il primo elemento [0] della statistica di KS\n",
    "    # KS = 0.20, ci sono 250 casi in cui la statistica KS  maggiore di 20 \n",
    "    # quindi i due sample non sono differenti"
   ]
  },
  {
   "cell_type": "code",
   "execution_count": 115,
   "metadata": {
    "collapsed": false
   },
   "outputs": [
    {
     "data": {
      "text/plain": [
       "(array([  13.,   53.,  118.,  179.,  146.,  131.,  102.,   91.,   56.,\n",
       "          51.,   26.,   15.,    5.,    6.,    4.,    2.,    1.,    0.,\n",
       "           0.,    1.]),\n",
       " array([ 0.05882353,  0.08044662,  0.10206972,  0.12369281,  0.1453159 ,\n",
       "         0.166939  ,  0.18856209,  0.21018519,  0.23180828,  0.25343137,\n",
       "         0.27505447,  0.29667756,  0.31830065,  0.33992375,  0.36154684,\n",
       "         0.38316993,  0.40479303,  0.42641612,  0.44803922,  0.46966231,\n",
       "         0.4912854 ]),\n",
       " <a list of 20 Patch objects>)"
      ]
     },
     "execution_count": 115,
     "metadata": {},
     "output_type": "execute_result"
    },
    {
     "data": {
      "image/png": "[encoded data removed]",
      "text/plain": [
       "<matplotlib.figure.Figure at 0x7f12c85350d0>"
      ]
     },
     "metadata": {},
     "output_type": "display_data"
    }
   ],
   "source": [
    "hist(res,20)"
   ]
  },
  {
   "cell_type": "code",
   "execution_count": 116,
   "metadata": {
    "collapsed": false
   },
   "outputs": [
    {
     "name": "stdout",
     "output_type": "stream",
     "text": [
      "more than 297 reshuffled samples (over 1000) have a KS statistic larger than 0.202614\n"
     ]
    }
   ],
   "source": [
    "print 'more than %g reshuffled samples (over %g) have a KS statistic larger than %g'%(sum(res>ks_2samp(tt[tt[:,6]<1,4],tt[tt[:,6]>=1,4])[0]),len(res),ks_2samp(tt[tt[:,6]<1,4],tt[tt[:,6]>=1,4])[0])"
   ]
  },
  {
   "cell_type": "markdown",
   "metadata": {},
   "source": [
    "### Exercise\n",
    "Are the ratings for movies based on true events different from the fictional ones?"
   ]
  },
  {
   "cell_type": "code",
   "execution_count": 117,
   "metadata": {
    "collapsed": false
   },
   "outputs": [
    {
     "data": {
      "text/plain": [
       "Ks_2sampResult(statistic=0.3611111111111111, pvalue=0.0054819316875556875)"
      ]
     },
     "execution_count": 117,
     "metadata": {},
     "output_type": "execute_result"
    }
   ],
   "source": [
    "from scipy.stats import ks_2samp\n",
    "ks_2samp(tt[tt[:,-4]==0,4],tt[tt[:,-4]==1,4])"
   ]
  },
  {
   "cell_type": "markdown",
   "metadata": {},
   "source": [
    "# Linear Regressions\n",
    "A useful library to perform **linear regressions** and other statistical procedures is [StatsModels](http://statsmodels.sourceforge.net/). To import it:"
   ]
  },
  {
   "cell_type": "code",
   "execution_count": 118,
   "metadata": {
    "collapsed": true
   },
   "outputs": [],
   "source": [
    "import statsmodels.api as sm"
   ]
  },
  {
   "cell_type": "markdown",
   "metadata": {},
   "source": [
    "## [Ordinary Least Squares](http://statsmodels.sourceforge.net/devel/generated/statsmodels.regression.linear_model.OLS.html)\n",
    "Let's try to evaluate the relationship between the movies **rating** and the following two explanatory variables:\n",
    "* **previous rating**, rating for program immediately preceding movie on same network\n",
    "* **competition**, average of ratings received by the two competing networks during the movie's broadcast"
   ]
  },
  {
   "cell_type": "code",
   "execution_count": 119,
   "metadata": {
    "collapsed": false
   },
   "outputs": [],
   "source": [
    "res=sm.OLS(tt[:,4].astype(float),tt[:,[-2,-1]].astype(float)).fit()"
   ]
  },
  {
   "cell_type": "code",
   "execution_count": 120,
   "metadata": {
    "collapsed": false,
    "scrolled": true
   },
   "outputs": [
    {
     "name": "stdout",
     "output_type": "stream",
     "text": [
      "                            OLS Regression Results                            \n",
      "==============================================================================\n",
      "Dep. Variable:                      y   R-squared:                       0.968\n",
      "Model:                            OLS   Adj. R-squared:                  0.967\n",
      "Method:                 Least Squares   F-statistic:                     1285.\n",
      "Date:                Thu, 27 Oct 2016   Prob (F-statistic):           8.73e-65\n",
      "Time:                        16:18:34   Log-Likelihood:                -206.48\n",
      "No. Observations:                  88   AIC:                             417.0\n",
      "Df Residuals:                      86   BIC:                             421.9\n",
      "Df Model:                           2                                         \n",
      "Covariance Type:            nonrobust                                         \n",
      "==============================================================================\n",
      "                 coef    std err          t      P>|t|      [95.0% Conf. Int.]\n",
      "------------------------------------------------------------------------------\n",
      "x1             0.6295      0.064      9.797      0.000         0.502     0.757\n",
      "x2             0.3557      0.064      5.573      0.000         0.229     0.483\n",
      "==============================================================================\n",
      "Omnibus:                        0.006   Durbin-Watson:                   2.034\n",
      "Prob(Omnibus):                  0.997   Jarque-Bera (JB):                0.056\n",
      "Skew:                           0.007   Prob(JB):                        0.972\n",
      "Kurtosis:                       2.877   Cond. No.                         6.51\n",
      "==============================================================================\n",
      "\n",
      "Warnings:\n",
      "[1] Standard Errors assume that the covariance matrix of the errors is correctly specified.\n"
     ]
    }
   ],
   "source": [
    "print res.summary()"
   ]
  },
  {
   "cell_type": "markdown",
   "metadata": {},
   "source": [
    "#### exercise\n",
    "are you able to comment the results? Are they good or not?"
   ]
  },
  {
   "cell_type": "code",
   "execution_count": null,
   "metadata": {
    "collapsed": true
   },
   "outputs": [],
   "source": [
    "rating = 0.62*previous_rating + 0.355*competition"
   ]
  },
  {
   "cell_type": "markdown",
   "metadata": {},
   "source": [
    "A useful visualization to evaluate the performance of the model is the following"
   ]
  },
  {
   "cell_type": "code",
   "execution_count": 121,
   "metadata": {
    "collapsed": false
   },
   "outputs": [
    {
     "data": {
      "text/plain": [
       "(5, 25)"
      ]
     },
     "execution_count": 121,
     "metadata": {},
     "output_type": "execute_result"
    },
    {
     "data": {
      "image/png": "[encoded data removed]",
      "text/plain": [
       "<matplotlib.figure.Figure at 0x7f12c3fcc350>"
      ]
     },
     "metadata": {},
     "output_type": "display_data"
    }
   ],
   "source": [
    "plot(res.fittedvalues,tt[:,4],'o')\n",
    "plot([0,30],[0,30],'r')\n",
    "ylabel('real values')\n",
    "xlabel('predict values')\n",
    "xlim(5,25)\n",
    "ylim(5,25)"
   ]
  },
  {
   "cell_type": "markdown",
   "metadata": {},
   "source": [
    "### Adding the intercept\n",
    "Previous model that we tested was **rating ~ previous rating + competition**. We would like to add an intercept to our model. To do so in statsmodel we have to add a list of ones to the explenatory variables with the command **add_constant**"
   ]
  },
  {
   "cell_type": "code",
   "execution_count": 122,
   "metadata": {
    "collapsed": true
   },
   "outputs": [],
   "source": [
    "from statsmodels.tools import add_constant"
   ]
  },
  {
   "cell_type": "code",
   "execution_count": 123,
   "metadata": {
    "collapsed": false,
    "scrolled": true
   },
   "outputs": [],
   "source": [
    "res=sm.OLS(tt[:,4].astype(float),add_constant(tt[:,[-2,-1]].astype(float))).fit()"
   ]
  },
  {
   "cell_type": "code",
   "execution_count": 124,
   "metadata": {
    "collapsed": false,
    "scrolled": true
   },
   "outputs": [
    {
     "name": "stdout",
     "output_type": "stream",
     "text": [
      "                            OLS Regression Results                            \n",
      "==============================================================================\n",
      "Dep. Variable:                      y   R-squared:                       0.246\n",
      "Model:                            OLS   Adj. R-squared:                  0.229\n",
      "Method:                 Least Squares   F-statistic:                     13.90\n",
      "Date:                Thu, 27 Oct 2016   Prob (F-statistic):           6.00e-06\n",
      "Time:                        16:25:51   Log-Likelihood:                -194.05\n",
      "No. Observations:                  88   AIC:                             394.1\n",
      "Df Residuals:                      85   BIC:                             401.5\n",
      "Df Model:                           2                                         \n",
      "Covariance Type:            nonrobust                                         \n",
      "==============================================================================\n",
      "                 coef    std err          t      P>|t|      [95.0% Conf. Int.]\n",
      "------------------------------------------------------------------------------\n",
      "const         10.5757      2.008      5.268      0.000         6.584    14.568\n",
      "x1             0.3628      0.076      4.799      0.000         0.212     0.513\n",
      "x2            -0.1247      0.107     -1.167      0.247        -0.337     0.088\n",
      "==============================================================================\n",
      "Omnibus:                        0.346   Durbin-Watson:                   1.828\n",
      "Prob(Omnibus):                  0.841   Jarque-Bera (JB):                0.494\n",
      "Skew:                           0.124   Prob(JB):                        0.781\n",
      "Kurtosis:                       2.729   Cond. No.                         168.\n",
      "==============================================================================\n",
      "\n",
      "Warnings:\n",
      "[1] Standard Errors assume that the covariance matrix of the errors is correctly specified.\n"
     ]
    }
   ],
   "source": [
    "print res.summary()"
   ]
  },
  {
   "cell_type": "markdown",
   "metadata": {},
   "source": [
    "#### Exercise\n",
    "Is this model better than the previous? How could you say that?"
   ]
  },
  {
   "cell_type": "code",
   "execution_count": null,
   "metadata": {
    "collapsed": true
   },
   "outputs": [],
   "source": []
  },
  {
   "cell_type": "markdown",
   "metadata": {},
   "source": [
    "#### Exercise\n",
    "Are the variables used in this model all useful? What variable will you choose to drop from the model? Fit that model and evaluate it."
   ]
  },
  {
   "cell_type": "code",
   "execution_count": 126,
   "metadata": {
    "collapsed": false
   },
   "outputs": [
    {
     "name": "stdout",
     "output_type": "stream",
     "text": [
      "                            OLS Regression Results                            \n",
      "==============================================================================\n",
      "Dep. Variable:                      y   R-squared:                       0.234\n",
      "Model:                            OLS   Adj. R-squared:                  0.225\n",
      "Method:                 Least Squares   F-statistic:                     26.32\n",
      "Date:                Thu, 27 Oct 2016   Prob (F-statistic):           1.76e-06\n",
      "Time:                        16:31:28   Log-Likelihood:                -194.75\n",
      "No. Observations:                  88   AIC:                             393.5\n",
      "Df Residuals:                      86   BIC:                             398.4\n",
      "Df Model:                           1                                         \n",
      "Covariance Type:            nonrobust                                         \n",
      "==============================================================================\n",
      "                 coef    std err          t      P>|t|      [95.0% Conf. Int.]\n",
      "------------------------------------------------------------------------------\n",
      "const          8.5771      1.049      8.175      0.000         6.491    10.663\n",
      "x1             0.3806      0.074      5.131      0.000         0.233     0.528\n",
      "==============================================================================\n",
      "Omnibus:                        0.485   Durbin-Watson:                   1.891\n",
      "Prob(Omnibus):                  0.785   Jarque-Bera (JB):                0.640\n",
      "Skew:                           0.113   Prob(JB):                        0.726\n",
      "Kurtosis:                       2.649   Cond. No.                         62.5\n",
      "==============================================================================\n",
      "\n",
      "Warnings:\n",
      "[1] Standard Errors assume that the covariance matrix of the errors is correctly specified.\n"
     ]
    }
   ],
   "source": [
    "res=sm.OLS(tt[:,4].astype(float),add_constant(tt[:,[-2]].astype(float))).fit()\n",
    "print res.summary()"
   ]
  },
  {
   "cell_type": "markdown",
   "metadata": {},
   "source": [
    "#### Exercise\n",
    "With this model plot the real data and the fitted linear model. (Remember, there are several ways to do. The one that use some of the statsmodel features will give in next line)."
   ]
  },
  {
   "cell_type": "code",
   "execution_count": null,
   "metadata": {
    "collapsed": true
   },
   "outputs": [],
   "source": []
  },
  {
   "cell_type": "code",
   "execution_count": 127,
   "metadata": {
    "collapsed": true
   },
   "outputs": [],
   "source": [
    "from statsmodels.sandbox.regression.predstd import wls_prediction_std"
   ]
  },
  {
   "cell_type": "code",
   "execution_count": 128,
   "metadata": {
    "collapsed": false
   },
   "outputs": [
    {
     "data": {
      "text/plain": [
       "(8, 20)"
      ]
     },
     "execution_count": 128,
     "metadata": {},
     "output_type": "execute_result"
    },
    {
     "data": {
      "image/png": "[encoded data removed]",
      "text/plain": [
       "<matplotlib.figure.Figure at 0x7f12c8265510>"
      ]
     },
     "metadata": {},
     "output_type": "display_data"
    }
   ],
   "source": [
    "prstd, iv_l, iv_u = wls_prediction_std(res)\n",
    "plot(tt[:,-2], tt[:,4], 'bo', label=\"real data\")\n",
    "plot(tt[:,-2], res.fittedvalues, 'r--', label=\"OLS\")\n",
    "plot(tt[:,-2], iv_l, 'r--')\n",
    "plot(tt[:,-2], iv_u, 'r--')\n",
    "xlim(0,30)\n",
    "ylim(8,20)"
   ]
  },
  {
   "cell_type": "markdown",
   "metadata": {},
   "source": [
    "#### Exercise\n",
    "Are you able to use all the variables in the dataset as predictors of the movie rating? Try it to use as many variables as you can."
   ]
  },
  {
   "cell_type": "code",
   "execution_count": null,
   "metadata": {
    "collapsed": true
   },
   "outputs": [],
   "source": []
  },
  {
   "cell_type": "markdown",
   "metadata": {},
   "source": [
    "Would you keep all of them?"
   ]
  },
  {
   "cell_type": "code",
   "execution_count": null,
   "metadata": {
    "collapsed": true
   },
   "outputs": [],
   "source": []
  },
  {
   "cell_type": "markdown",
   "metadata": {},
   "source": [
    "### Dummy variables\n",
    "Categorical variables could be not used in linear model. A workaround is to create a **dummy variables**. For instance, consider the second column of our dataset. It is filled by 'ABN', 'BBS', or 'CBC'. We could create a further column which values is one if the newtork is 'ABN' and zero otherwise. In this way we have a numerical variables that could be a useful predictor in our linear model."
   ]
  },
  {
   "cell_type": "code",
   "execution_count": null,
   "metadata": {
    "collapsed": false
   },
   "outputs": [],
   "source": [
    "ABN=array([array([el=='\"ABN\"']) for el in tt[:,1]],float)"
   ]
  },
  {
   "cell_type": "code",
   "execution_count": null,
   "metadata": {
    "collapsed": false
   },
   "outputs": [],
   "source": [
    "tt_dummy=append(tt,ABN,axis=1)"
   ]
  },
  {
   "cell_type": "code",
   "execution_count": null,
   "metadata": {
    "collapsed": false
   },
   "outputs": [],
   "source": [
    "res=sm.OLS(tt_dummy[:,4].astype(float),add_constant(tt_dummy[:,[2,3,5,6,7,8,9]].astype(float))).fit()"
   ]
  },
  {
   "cell_type": "code",
   "execution_count": null,
   "metadata": {
    "collapsed": false
   },
   "outputs": [],
   "source": [
    "print res.summary()"
   ]
  },
  {
   "cell_type": "markdown",
   "metadata": {},
   "source": [
    "#### Exercise\n",
    "Create a new dummy variable for network BBS and refit previous model with this new variable"
   ]
  },
  {
   "cell_type": "code",
   "execution_count": null,
   "metadata": {
    "collapsed": true
   },
   "outputs": [],
   "source": []
  },
  {
   "cell_type": "markdown",
   "metadata": {},
   "source": [
    "#### Exercise\n",
    "Create the following new dummy variables and fit a model with all the predictors:\n",
    "* OCT if month==10\n",
    "* DEC if mont==12\n",
    "* APR-MAY if month==4 or month==5\n",
    "* MON if day==1\n",
    "* SUN if day==7"
   ]
  },
  {
   "cell_type": "code",
   "execution_count": null,
   "metadata": {
    "collapsed": true
   },
   "outputs": [],
   "source": []
  },
  {
   "cell_type": "markdown",
   "metadata": {},
   "source": [
    "#### Exercise\n",
    "Answer the following questions using the previous model: \n",
    "* you are considering to change the network programmation by replacing a show at 8pm with rating 17.5 with another with rating 20.  What would be the expected change in rating for the show at 9pm?\n",
    "* other scenario: what if ABN and BBS schedule different programs, each of which is expected to rate 2 rating points higher?"
   ]
  },
  {
   "cell_type": "code",
   "execution_count": null,
   "metadata": {
    "collapsed": true
   },
   "outputs": [],
   "source": []
  },
  {
   "cell_type": "code",
   "execution_count": null,
   "metadata": {
    "collapsed": true
   },
   "outputs": [],
   "source": []
  },
  {
   "cell_type": "code",
   "execution_count": null,
   "metadata": {
    "collapsed": true
   },
   "outputs": [],
   "source": []
  }
 ],
 "metadata": {
  "kernelspec": {
   "display_name": "Python [Root]",
   "language": "python",
   "name": "Python [Root]"
  },
  "language_info": {
   "codemirror_mode": {
    "name": "ipython",
    "version": 2
   },
   "file_extension": ".py",
   "mimetype": "text/x-python",
   "name": "python",
   "nbconvert_exporter": "python",
   "pygments_lexer": "ipython2",
   "version": "2.7.12"
  }
 },
 "nbformat": 4,
 "nbformat_minor": 0
}
